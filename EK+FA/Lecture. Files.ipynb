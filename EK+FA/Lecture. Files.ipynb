{
 "cells": [
  {
   "cell_type": "markdown",
   "id": "57594ee7",
   "metadata": {},
   "source": [
    "# Files"
   ]
  },
  {
   "cell_type": "markdown",
   "id": "655e957d",
   "metadata": {},
   "source": [
    "## Excel"
   ]
  },
  {
   "cell_type": "code",
   "execution_count": 2,
   "id": "22f9e2b1",
   "metadata": {},
   "outputs": [],
   "source": [
    "#install.packages(\"xlsx\")\n",
    "library(xlsx)"
   ]
  },
  {
   "cell_type": "code",
   "execution_count": 3,
   "id": "16015e46",
   "metadata": {},
   "outputs": [
    {
     "data": {
      "text/plain": [
       "  customerID gender SeniorCitizen Partner Dependents tenure PhoneService\n",
       "1 7010-BRBUU   Male             0     Yes        Yes     72          Yes\n",
       "2 9688-YGXVR Female             0      No         No     44          Yes\n",
       "3 9286-DOJGF Female             1     Yes         No     38          Yes\n",
       "4 6994-KERXL   Male             0      No         No      4          Yes\n",
       "5 2181-UAESM   Male             0      No         No      2          Yes\n",
       "6 4312-GVYNH Female             0     Yes         No     70           No\n",
       "     MultipleLines InternetService      OnlineSecurity        OnlineBackup\n",
       "1              Yes              No No internet service No internet service\n",
       "2               No     Fiber optic                  No                 Yes\n",
       "3              Yes     Fiber optic                  No                  No\n",
       "4               No             DSL                  No                  No\n",
       "5               No             DSL                 Yes                  No\n",
       "6 No phone service             DSL                 Yes                  No\n",
       "     DeviceProtection         TechSupport         StreamingTV\n",
       "1 No internet service No internet service No internet service\n",
       "2                 Yes                  No                 Yes\n",
       "3                  No                  No                  No\n",
       "4                  No                  No                  No\n",
       "5                 Yes                  No                  No\n",
       "6                 Yes                 Yes                  No\n",
       "      StreamingMovies       Contract PaperlessBilling             PaymentMethod\n",
       "1 No internet service       Two year               No   Credit card (automatic)\n",
       "2                  No Month-to-month              Yes   Credit card (automatic)\n",
       "3                  No Month-to-month              Yes Bank transfer (automatic)\n",
       "4                 Yes Month-to-month              Yes          Electronic check\n",
       "5                  No Month-to-month               No          Electronic check\n",
       "6                 Yes       Two year              Yes Bank transfer (automatic)\n",
       "  MonthlyCharges TotalCharges Churn\n",
       "1          24.10      1734.65    No\n",
       "2          88.15      3973.20    No\n",
       "3          74.95      2869.85   Yes\n",
       "4          55.90       238.50    No\n",
       "5          53.45       119.50    No\n",
       "6          49.85      3370.20    No"
      ]
     },
     "execution_count": null,
     "metadata": {},
     "output_type": "execute_result"
    }
   ],
   "source": [
    "data <- read.xlsx(\"data/telecom_users.xlsx\", sheetIndex = 1, endRow = 100)\n",
    "head(data)"
   ]
  },
  {
   "cell_type": "code",
   "execution_count": 4,
   "id": "fddfc946",
   "metadata": {},
   "outputs": [
    {
     "data": {
      "text/plain": [
       "   customerID gender SeniorCitizen Partner Dependents tenure PhoneService\n",
       "1  7010-BRBUU   Male             0     Yes        Yes     72          Yes\n",
       "3  9286-DOJGF Female             1     Yes         No     38          Yes\n",
       "6  4312-GVYNH Female             0     Yes         No     70           No\n",
       "11 4578-PHJYZ   Male             0     Yes        Yes     52          Yes\n",
       "12 2091-MJTFX Female             0     Yes        Yes     30           No\n",
       "13 2277-DJJDL   Male             1     Yes         No     60          Yes\n",
       "      MultipleLines InternetService      OnlineSecurity        OnlineBackup\n",
       "1               Yes              No No internet service No internet service\n",
       "3               Yes     Fiber optic                  No                  No\n",
       "6  No phone service             DSL                 Yes                  No\n",
       "11               No             DSL                  No                 Yes\n",
       "12 No phone service             DSL                  No                  No\n",
       "13              Yes     Fiber optic                  No                  No\n",
       "      DeviceProtection         TechSupport         StreamingTV\n",
       "1  No internet service No internet service No internet service\n",
       "3                   No                  No                  No\n",
       "6                  Yes                 Yes                  No\n",
       "11                 Yes                 Yes                 Yes\n",
       "12                  No                 Yes                 Yes\n",
       "13                  No                 Yes                 Yes\n",
       "       StreamingMovies       Contract PaperlessBilling\n",
       "1  No internet service       Two year               No\n",
       "3                   No Month-to-month              Yes\n",
       "6                  Yes       Two year              Yes\n",
       "11                  No       One year              Yes\n",
       "12                 Yes Month-to-month               No\n",
       "13                 Yes Month-to-month              Yes\n",
       "               PaymentMethod MonthlyCharges TotalCharges Churn\n",
       "1    Credit card (automatic)          24.10      1734.65    No\n",
       "3  Bank transfer (automatic)          74.95      2869.85   Yes\n",
       "6  Bank transfer (automatic)          49.85      3370.20    No\n",
       "11          Electronic check          68.75      3482.85    No\n",
       "12   Credit card (automatic)          51.20      1561.50   Yes\n",
       "13          Electronic check          99.00      6017.90    No"
      ]
     },
     "execution_count": null,
     "metadata": {},
     "output_type": "execute_result"
    }
   ],
   "source": [
    "data <- data[data$Partner == \"Yes\", ]\n",
    "head(data)"
   ]
  },
  {
   "cell_type": "code",
   "execution_count": 5,
   "id": "8983418d",
   "metadata": {},
   "outputs": [],
   "source": [
    "write.xlsx(data, file = \"data/final_telecom_data.xlsx\")"
   ]
  },
  {
   "cell_type": "markdown",
   "id": "4aab06dc",
   "metadata": {},
   "source": [
    "## XML"
   ]
  },
  {
   "cell_type": "code",
   "execution_count": 7,
   "id": "e3cc0dd2",
   "metadata": {},
   "outputs": [],
   "source": [
    "#install.packages(c(\"XML\", \"methods\"))\n",
    "library(XML)\n",
    "library(methods)"
   ]
  },
  {
   "cell_type": "code",
   "execution_count": 8,
   "id": "2d7d22e2",
   "metadata": {},
   "outputs": [
    {
     "data": {
      "text/plain": [
       "  ID     NAME SALARY  STARTDATE       DEPT\n",
       "1  1     Rick  623.3   1/1/2012         IT\n",
       "2  2      Dan  515.2  9/23/2013 Operations\n",
       "3  3 Michelle    611 11/15/2014         IT\n",
       "4  4     Ryan    729  5/11/2014         HR\n",
       "5  5     Gary 843.25  3/27/2015    Finance\n",
       "6  6     Nina    578  5/21/2013         IT\n",
       "7  7    Simon  632.8  7/30/2013 Operations\n",
       "8  8     Guru  722.5  6/17/2014    Finance"
      ]
     },
     "execution_count": null,
     "metadata": {},
     "output_type": "execute_result"
    }
   ],
   "source": [
    "xmldataframe <- xmlToDataFrame(\"data/employes.xml\")\n",
    "xmldataframe"
   ]
  },
  {
   "cell_type": "markdown",
   "id": "6cc0799b",
   "metadata": {},
   "source": [
    "## JSON + BINANCE API"
   ]
  },
  {
   "cell_type": "code",
   "execution_count": 9,
   "id": "7dd0c9cd",
   "metadata": {},
   "outputs": [],
   "source": [
    "#install.packages(\"jsonlite\")\n",
    "library(jsonlite)"
   ]
  },
  {
   "cell_type": "code",
   "execution_count": 10,
   "id": "acea4330",
   "metadata": {},
   "outputs": [
    {
     "name": "stdout",
     "output_type": "stream",
     "text": [
      "[1] \"https://api.binance.com/api/v3/klines?symbol=BTCUSDT&interval=1h&limit=100\"\n"
     ]
    }
   ],
   "source": [
    "market = 'BTCUSDT'\n",
    "interval = '1h'\n",
    "limit = 100\n",
    "\n",
    "url <- paste0(url = \"https://api.binance.com/api/v3/klines?symbol=\", market ,\"&interval=\", interval,\"&limit=\", limit)\n",
    "print(url) # complete request URL"
   ]
  },
  {
   "cell_type": "code",
   "execution_count": 11,
   "id": "37b01a2d",
   "metadata": {},
   "outputs": [
    {
     "data": {
      "text/plain": [
       "     [,1]            [,2]              [,3]              [,4]             \n",
       "[1,] \"1757134800000\" \"110876.12000000\" \"110876.13000000\" \"110687.69000000\"\n",
       "[2,] \"1757138400000\" \"110714.00000000\" \"110817.11000000\" \"110714.00000000\"\n",
       "[3,] \"1.757142e+12\"  \"110752.84000000\" \"110829.15000000\" \"110750.64000000\"\n",
       "[4,] \"1757145600000\" \"110825.59000000\" \"110968.00000000\" \"110774.46000000\"\n",
       "[5,] \"1757149200000\" \"110952.77000000\" \"110952.77000000\" \"110693.86000000\"\n",
       "[6,] \"1757152800000\" \"110695.06000000\" \"110804.62000000\" \"110677.30000000\"\n",
       "     [,5]              [,6]           [,7]           \n",
       "[1,] \"110714.00000000\" \"151.66886000\" \"1757138399999\"\n",
       "[2,] \"110752.83000000\" \"96.24087000\"  \"1757141999999\"\n",
       "[3,] \"110825.60000000\" \"86.44213000\"  \"1757145599999\"\n",
       "[4,] \"110952.76000000\" \"91.10955000\"  \"1757149199999\"\n",
       "[5,] \"110695.06000000\" \"193.74674000\" \"1757152799999\"\n",
       "[6,] \"110773.62000000\" \"157.49749000\" \"1757156399999\""
      ]
     },
     "execution_count": null,
     "metadata": {},
     "output_type": "execute_result"
    }
   ],
   "source": [
    "data <- fromJSON(url) # get json and transform it to list()\n",
    "data <- data[, 1:7] # let's left only 1:7 columns (from Open time to Close time)\n",
    "head(data)"
   ]
  },
  {
   "cell_type": "code",
   "execution_count": 12,
   "id": "073680e7",
   "metadata": {},
   "outputs": [
    {
     "data": {
      "text/plain": [
       "             V1              V2              V3              V4              V5\n",
       "1 1757134800000 110876.12000000 110876.13000000 110687.69000000 110714.00000000\n",
       "2 1757138400000 110714.00000000 110817.11000000 110714.00000000 110752.83000000\n",
       "3  1.757142e+12 110752.84000000 110829.15000000 110750.64000000 110825.60000000\n",
       "4 1757145600000 110825.59000000 110968.00000000 110774.46000000 110952.76000000\n",
       "5 1757149200000 110952.77000000 110952.77000000 110693.86000000 110695.06000000\n",
       "6 1757152800000 110695.06000000 110804.62000000 110677.30000000 110773.62000000\n",
       "            V6            V7\n",
       "1 151.66886000 1757138399999\n",
       "2  96.24087000 1757141999999\n",
       "3  86.44213000 1757145599999\n",
       "4  91.10955000 1757149199999\n",
       "5 193.74674000 1757152799999\n",
       "6 157.49749000 1757156399999"
      ]
     },
     "execution_count": null,
     "metadata": {},
     "output_type": "execute_result"
    }
   ],
   "source": [
    "data <- as.data.frame(data)\n",
    "head(data)"
   ]
  },
  {
   "cell_type": "code",
   "execution_count": 13,
   "id": "3425958f",
   "metadata": {},
   "outputs": [
    {
     "data": {
      "text/plain": [
       "      Open_time            Open            High             Low           Close\n",
       "1 1757134800000 110876.12000000 110876.13000000 110687.69000000 110714.00000000\n",
       "2 1757138400000 110714.00000000 110817.11000000 110714.00000000 110752.83000000\n",
       "3  1.757142e+12 110752.84000000 110829.15000000 110750.64000000 110825.60000000\n",
       "4 1757145600000 110825.59000000 110968.00000000 110774.46000000 110952.76000000\n",
       "5 1757149200000 110952.77000000 110952.77000000 110693.86000000 110695.06000000\n",
       "6 1757152800000 110695.06000000 110804.62000000 110677.30000000 110773.62000000\n",
       "        Volume    Close_time\n",
       "1 151.66886000 1757138399999\n",
       "2  96.24087000 1757141999999\n",
       "3  86.44213000 1757145599999\n",
       "4  91.10955000 1757149199999\n",
       "5 193.74674000 1757152799999\n",
       "6 157.49749000 1757156399999"
      ]
     },
     "execution_count": null,
     "metadata": {},
     "output_type": "execute_result"
    }
   ],
   "source": [
    "colnames(data) <- c(\"Open_time\", \"Open\", \"High\", \"Low\", \"Close\", \"Volume\", \"Close_time\")\n",
    "head(data)"
   ]
  },
  {
   "cell_type": "code",
   "execution_count": 15,
   "id": "77f27fea",
   "metadata": {},
   "outputs": [
    {
     "data": {
      "text/plain": [
       "[1] TRUE"
      ]
     },
     "execution_count": null,
     "metadata": {},
     "output_type": "execute_result"
    }
   ],
   "source": [
    "is.character(data[,1])"
   ]
  },
  {
   "cell_type": "code",
   "execution_count": 16,
   "id": "41aa147e",
   "metadata": {},
   "outputs": [
    {
     "data": {
      "text/plain": [
       "     Open_time     Open     High      Low    Close    Volume   Close_time\n",
       "1 1.757135e+12 110876.1 110876.1 110687.7 110714.0 151.66886 1.757138e+12\n",
       "2 1.757138e+12 110714.0 110817.1 110714.0 110752.8  96.24087 1.757142e+12\n",
       "3 1.757142e+12 110752.8 110829.1 110750.6 110825.6  86.44213 1.757146e+12\n",
       "4 1.757146e+12 110825.6 110968.0 110774.5 110952.8  91.10955 1.757149e+12\n",
       "5 1.757149e+12 110952.8 110952.8 110693.9 110695.1 193.74674 1.757153e+12\n",
       "6 1.757153e+12 110695.1 110804.6 110677.3 110773.6 157.49749 1.757156e+12"
      ]
     },
     "execution_count": null,
     "metadata": {},
     "output_type": "execute_result"
    }
   ],
   "source": [
    "data <- as.data.frame(sapply(data, as.numeric))\n",
    "head(data)"
   ]
  },
  {
   "cell_type": "code",
   "execution_count": null,
   "id": "88b64dee",
   "metadata": {},
   "outputs": [
    {
     "ename": "",
     "evalue": "\u001b[1m\u001b[33mError\u001b[39m in `Ops.POSIXt()`:\u001b[22m\n\u001b[33m!\u001b[39m '/' not defined for \"POSIXt\" objects",
     "output_type": "error",
     "traceback": [
      "\u001b[1m\u001b[33mError\u001b[39m in `Ops.POSIXt()`:\u001b[22m\n",
      "\u001b[33m!\u001b[39m '/' not defined for \"POSIXt\" objects\n",
      "\u001b[90m    \u001b[39m▆\n",
      "\u001b[90m 1. \u001b[39m├─\u001b[1mbase\u001b[22m::as.POSIXct(data$Open_time/1000, origin = \"1970-01-01\")\n",
      "\u001b[90m 2. \u001b[39m└─base::Ops.POSIXt(data$Open_time, 1000)"
     ]
    }
   ],
   "source": [
    "data$Open_time <- as.POSIXct(data$Open_time/1e3, origin = '1970-01-01')\n",
    "data$Close_time <- as.POSIXct(data$Close_time/1e3, origin = '1970-01-01')"
   ]
  },
  {
   "cell_type": "code",
   "execution_count": 20,
   "id": "013bca94",
   "metadata": {},
   "outputs": [
    {
     "data": {
      "text/plain": [
       "              Open_time     Open     High      Low    Close    Volume\n",
       "95  2025-09-10 06:00:00 111411.1 111586.3 111372.1 111545.9  263.9173\n",
       "96  2025-09-10 07:00:00 111545.9 111647.4 111410.8 111520.4  304.1284\n",
       "97  2025-09-10 08:00:00 111520.4 111729.6 111372.4 111577.3  436.9988\n",
       "98  2025-09-10 09:00:00 111577.3 111969.6 111396.1 111792.3  503.8075\n",
       "99  2025-09-10 10:00:00 111792.3 112602.4 111760.7 112553.6 1232.3239\n",
       "100 2025-09-10 11:00:00 112553.6 112859.8 112438.1 112569.2  726.6379\n",
       "             Close_time\n",
       "95  2025-09-10 06:59:59\n",
       "96  2025-09-10 07:59:59\n",
       "97  2025-09-10 08:59:59\n",
       "98  2025-09-10 09:59:59\n",
       "99  2025-09-10 10:59:59\n",
       "100 2025-09-10 11:59:59"
      ]
     },
     "execution_count": null,
     "metadata": {},
     "output_type": "execute_result"
    }
   ],
   "source": [
    "tail(data)"
   ]
  },
  {
   "cell_type": "code",
   "execution_count": 21,
   "id": "d8e12507",
   "metadata": {},
   "outputs": [
    {
     "data": {
      "image/png": "[encoded data removed]"
     },
     "metadata": {},
     "output_type": "display_data"
    }
   ],
   "source": [
    "plot(data$Open_time, data$Open)"
   ]
  }
 ],
 "metadata": {
  "language_info": {
   "name": "r"
  }
 },
 "nbformat": 4,
 "nbformat_minor": 5
}
