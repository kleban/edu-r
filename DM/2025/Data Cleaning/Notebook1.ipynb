{
 "cells": [
  {
   "cell_type": "markdown",
   "metadata": {},
   "source": [
    "# Data Cleaning"
   ]
  },
  {
   "cell_type": "markdown",
   "metadata": {},
   "source": [
    "## 1. Untitled data"
   ]
  },
  {
   "cell_type": "code",
   "execution_count": 92,
   "metadata": {},
   "outputs": [
    {
     "data": {
      "text/plain": [
       "  Age Height Weight           Gender\n",
       "1  23    185   85.7             Male\n",
       "2  41    175   68.3                M\n",
       "3  11   142*   55.4           Female\n",
       "4  12   <NA>   48.2              Man\n",
       "5  54    171     NA Looks like a man\n",
       "6  32    168   78.0                F"
      ]
     },
     "execution_count": null,
     "metadata": {},
     "output_type": "execute_result"
    }
   ],
   "source": [
    "data <- read.csv(\"https://raw.githubusercontent.com/kleban/r-book-published/refs/heads/main/datasets/untitled.csv\", \n",
    "  header = F, \n",
    "  col.names = c(\"Age\", \"Height\", \"Weight\", \"Gender\"))\n",
    "data"
   ]
  },
  {
   "cell_type": "code",
   "execution_count": 93,
   "metadata": {},
   "outputs": [],
   "source": [
    "#install.packages(\"dplyr\")"
   ]
  },
  {
   "cell_type": "code",
   "execution_count": 94,
   "metadata": {},
   "outputs": [],
   "source": [
    "library(dplyr)\n",
    "data <- data |> rename(AGE = Age)"
   ]
  },
  {
   "cell_type": "code",
   "execution_count": 95,
   "metadata": {},
   "outputs": [
    {
     "data": {
      "text/plain": [
       "  AGE Height Weight           Gender\n",
       "1  23    185   85.7             Male\n",
       "2  41    175   68.3                M\n",
       "3  11   142*   55.4           Female\n",
       "4  12   <NA>   48.2              Man\n",
       "5  54    171     NA Looks like a man\n",
       "6  32    168   78.0                F"
      ]
     },
     "execution_count": null,
     "metadata": {},
     "output_type": "execute_result"
    }
   ],
   "source": [
    "data"
   ]
  },
  {
   "cell_type": "markdown",
   "metadata": {},
   "source": [
    "## 2. Bad titles"
   ]
  },
  {
   "cell_type": "code",
   "execution_count": 96,
   "metadata": {},
   "outputs": [
    {
     "data": {
      "text/plain": [
       "   Person.Age Person__Height person.Weight Person.Gender empty\n",
       "1          23            185            NA          Male    NA\n",
       "2          41            175          68.3             M    NA\n",
       "3          11           142*          55.4        Female    NA\n",
       "4          12           <NA>          48.2           Man    NA\n",
       "5          54            191            NA        female    NA\n",
       "6          32            168          78.0         F        NA\n",
       "7          22           <NA>          54.0         male.    NA\n",
       "8          21            165            NA             m    NA\n",
       "9          14           <NA>          90.2           Man    NA\n",
       "10         51            250            NA        female    NA\n",
       "11         41             20          81.0         F        NA\n",
       "12         66           <NA>          59.0         male.    NA\n",
       "13         71            171            NA             m    NA"
      ]
     },
     "execution_count": null,
     "metadata": {},
     "output_type": "execute_result"
    }
   ],
   "source": [
    "data <- read.csv(\"https://raw.githubusercontent.com/kleban/r-book-published/refs/heads/main/datasets/badtitled.csv\")\n",
    "data"
   ]
  },
  {
   "cell_type": "code",
   "execution_count": 97,
   "metadata": {},
   "outputs": [],
   "source": [
    "#install.packages(\"janitor\")"
   ]
  },
  {
   "cell_type": "code",
   "execution_count": 98,
   "metadata": {},
   "outputs": [],
   "source": [
    "library(janitor)"
   ]
  },
  {
   "cell_type": "code",
   "execution_count": 99,
   "metadata": {},
   "outputs": [
    {
     "data": {
      "text/plain": [
       "   person_age person_height person_weight person_gender empty\n",
       "1          23           185            NA          Male    NA\n",
       "2          41           175          68.3             M    NA\n",
       "3          11          142*          55.4        Female    NA\n",
       "4          12          <NA>          48.2           Man    NA\n",
       "5          54           191            NA        female    NA\n",
       "6          32           168          78.0         F        NA\n",
       "7          22          <NA>          54.0         male.    NA\n",
       "8          21           165            NA             m    NA\n",
       "9          14          <NA>          90.2           Man    NA\n",
       "10         51           250            NA        female    NA\n",
       "11         41            20          81.0         F        NA\n",
       "12         66          <NA>          59.0         male.    NA\n",
       "13         71           171            NA             m    NA"
      ]
     },
     "execution_count": null,
     "metadata": {},
     "output_type": "execute_result"
    }
   ],
   "source": [
    "data <- clean_names(data)\n",
    "data"
   ]
  },
  {
   "cell_type": "markdown",
   "metadata": {},
   "source": [
    "## 3. Person gender cleaning"
   ]
  },
  {
   "cell_type": "code",
   "execution_count": 100,
   "metadata": {},
   "outputs": [
    {
     "data": {
      "text/plain": [
       "     [,1]\n",
       "[1,]    0"
      ]
     },
     "execution_count": null,
     "metadata": {},
     "output_type": "execute_result"
    }
   ],
   "source": [
    "adist(\"ao\", \"ao\")"
   ]
  },
  {
   "cell_type": "code",
   "execution_count": 101,
   "metadata": {},
   "outputs": [
    {
     "data": {
      "text/plain": [
       "     [,1]\n",
       "[1,]    2"
      ]
     },
     "execution_count": null,
     "metadata": {},
     "output_type": "execute_result"
    }
   ],
   "source": [
    "adist(\"ao\", \"oa\")"
   ]
  },
  {
   "cell_type": "code",
   "execution_count": 102,
   "metadata": {},
   "outputs": [
    {
     "data": {
      "text/plain": [
       "     [,1]\n",
       "[1,]    4"
      ]
     },
     "execution_count": null,
     "metadata": {},
     "output_type": "execute_result"
    }
   ],
   "source": [
    "adist(\"ao\", \"45fb\")"
   ]
  },
  {
   "cell_type": "code",
   "execution_count": 103,
   "metadata": {},
   "outputs": [
    {
     "data": {
      "text/plain": [
       "   person_age person_height person_weight person_gender empty\n",
       "1          23           185            NA          Male    NA\n",
       "2          41           175          68.3             M    NA\n",
       "3          11          142*          55.4        Female    NA\n",
       "4          12          <NA>          48.2           Man    NA\n",
       "5          54           191            NA        female    NA\n",
       "6          32           168          78.0         F        NA\n",
       "7          22          <NA>          54.0         male.    NA\n",
       "8          21           165            NA             m    NA\n",
       "9          14          <NA>          90.2           Man    NA\n",
       "10         51           250            NA        female    NA\n",
       "11         41            20          81.0         F        NA\n",
       "12         66          <NA>          59.0         male.    NA\n",
       "13         71           171            NA             m    NA"
      ]
     },
     "execution_count": null,
     "metadata": {},
     "output_type": "execute_result"
    }
   ],
   "source": [
    "data"
   ]
  },
  {
   "cell_type": "code",
   "execution_count": 104,
   "metadata": {},
   "outputs": [],
   "source": [
    "m <- c(\"male\", \"female\")"
   ]
  },
  {
   "cell_type": "code",
   "execution_count": 105,
   "metadata": {},
   "outputs": [
    {
     "data": {
      "text/plain": [
       "       male female\n",
       "Male      1      3\n",
       "   M      4      6\n",
       "Female    2      1\n",
       "Man       3      5\n",
       "female    2      0\n",
       "F         5      6\n",
       "male.     1      3\n",
       "m         3      5\n",
       "Man       3      5\n",
       "female    2      0\n",
       "F         5      6\n",
       "male.     1      3\n",
       "m         3      5"
      ]
     },
     "execution_count": null,
     "metadata": {},
     "output_type": "execute_result"
    }
   ],
   "source": [
    "adj_m <- adist(data$person_gender, m)\n",
    "colnames(adj_m) <- m\n",
    "rownames(adj_m) <- data$person_gender\n",
    "adj_m "
   ]
  },
  {
   "cell_type": "code",
   "execution_count": 106,
   "metadata": {},
   "outputs": [
    {
     "name": "stderr",
     "output_type": "stream",
     "text": [
      "Warning: package ‘stringr’ is in use and will not be installed\n"
     ]
    }
   ],
   "source": [
    "install.packages(\"stringr\")"
   ]
  },
  {
   "cell_type": "code",
   "execution_count": 107,
   "metadata": {},
   "outputs": [
    {
     "data": {
      "text/plain": [
       "   person_age person_height person_weight person_gender empty\n",
       "1          23           185            NA          Male    NA\n",
       "2          41           175          68.3             M    NA\n",
       "3          11          142*          55.4        Female    NA\n",
       "4          12          <NA>          48.2           Man    NA\n",
       "5          54           191            NA        female    NA\n",
       "6          32           168          78.0        female    NA\n",
       "7          22          <NA>          54.0         male.    NA\n",
       "8          21           165            NA             m    NA\n",
       "9          14          <NA>          90.2           Man    NA\n",
       "10         51           250            NA        female    NA\n",
       "11         41            20          81.0        female    NA\n",
       "12         66          <NA>          59.0         male.    NA\n",
       "13         71           171            NA             m    NA"
      ]
     },
     "execution_count": null,
     "metadata": {},
     "output_type": "execute_result"
    }
   ],
   "source": [
    "library(stringr)\n",
    "data = data |>\n",
    "    mutate(person_gender = ifelse(str_trim(person_gender) == \"F\", \"female\", person_gender))\n",
    "data"
   ]
  },
  {
   "cell_type": "code",
   "execution_count": 108,
   "metadata": {},
   "outputs": [
    {
     "data": {
      "text/plain": [
       "       male female\n",
       "Male      1      3\n",
       "   M      4      6\n",
       "Female    2      1\n",
       "Man       3      5\n",
       "female    2      0\n",
       "female    2      0\n",
       "male.     1      3\n",
       "m         3      5\n",
       "Man       3      5\n",
       "female    2      0\n",
       "female    2      0\n",
       "male.     1      3\n",
       "m         3      5"
      ]
     },
     "execution_count": null,
     "metadata": {},
     "output_type": "execute_result"
    }
   ],
   "source": [
    "adj_m <- adist(data$person_gender, m)\n",
    "colnames(adj_m) <- m\n",
    "rownames(adj_m) <- data$person_gender\n",
    "adj_m"
   ]
  },
  {
   "cell_type": "code",
   "execution_count": 109,
   "metadata": {},
   "outputs": [
    {
     "data": {
      "text/plain": [
       "  Male      M Female    Man female female  male.      m    Man female female  male.      m \n",
       "     1      1      2      1      2      2      1      1      1      2      2      1      1 "
      ]
     },
     "execution_count": null,
     "metadata": {},
     "output_type": "execute_result"
    }
   ],
   "source": [
    "nums <- apply(adj_m, 1, which.min)\n",
    "nums"
   ]
  },
  {
   "cell_type": "code",
   "execution_count": 110,
   "metadata": {},
   "outputs": [
    {
     "data": {
      "text/plain": [
       "     init  coded\n",
       "1    Male   male\n",
       "2       M   male\n",
       "3  Female female\n",
       "4     Man   male\n",
       "5  female female\n",
       "6  female female\n",
       "7   male.   male\n",
       "8       m   male\n",
       "9     Man   male\n",
       "10 female female\n",
       "11 female female\n",
       "12  male.   male\n",
       "13      m   male"
      ]
     },
     "execution_count": null,
     "metadata": {},
     "output_type": "execute_result"
    }
   ],
   "source": [
    "data.frame(init = data$person_gender, coded = m[nums])"
   ]
  },
  {
   "cell_type": "code",
   "execution_count": 111,
   "metadata": {},
   "outputs": [
    {
     "data": {
      "text/plain": [
       "   person_age person_height person_weight person_gender empty\n",
       "1          23           185            NA          male    NA\n",
       "2          41           175          68.3          male    NA\n",
       "3          11          142*          55.4        female    NA\n",
       "4          12          <NA>          48.2          male    NA\n",
       "5          54           191            NA        female    NA\n",
       "6          32           168          78.0        female    NA\n",
       "7          22          <NA>          54.0          male    NA\n",
       "8          21           165            NA          male    NA\n",
       "9          14          <NA>          90.2          male    NA\n",
       "10         51           250            NA        female    NA\n",
       "11         41            20          81.0        female    NA\n",
       "12         66          <NA>          59.0          male    NA\n",
       "13         71           171            NA          male    NA"
      ]
     },
     "execution_count": null,
     "metadata": {},
     "output_type": "execute_result"
    }
   ],
   "source": [
    "data <- data |>\n",
    "  mutate(person_gender = m[nums])\n",
    "data"
   ]
  },
  {
   "cell_type": "markdown",
   "metadata": {},
   "source": [
    "## 5. Height cleaning"
   ]
  },
  {
   "cell_type": "code",
   "execution_count": 112,
   "metadata": {},
   "outputs": [
    {
     "data": {
      "text/plain": [
       "   person_age person_height person_weight person_gender empty\n",
       "1          23           185            NA          male    NA\n",
       "2          41           175          68.3          male    NA\n",
       "3          11          142*          55.4        female    NA\n",
       "4          12          <NA>          48.2          male    NA\n",
       "5          54           191            NA        female    NA\n",
       "6          32           168          78.0        female    NA\n",
       "7          22          <NA>          54.0          male    NA\n",
       "8          21           165            NA          male    NA\n",
       "9          14          <NA>          90.2          male    NA\n",
       "10         51           250            NA        female    NA\n",
       "11         41            20          81.0        female    NA\n",
       "12         66          <NA>          59.0          male    NA\n",
       "13         71           171            NA          male    NA"
      ]
     },
     "execution_count": null,
     "metadata": {},
     "output_type": "execute_result"
    }
   ],
   "source": [
    "data"
   ]
  },
  {
   "cell_type": "code",
   "execution_count": 113,
   "metadata": {},
   "outputs": [
    {
     "name": "stderr",
     "output_type": "stream",
     "text": [
      "Warning message:\n",
      "\u001b[1m\u001b[22mThere was 1 warning in `mutate()`.\n",
      "\u001b[1m\u001b[22m\u001b[36mℹ\u001b[39m In argument: `person_height = as.numeric(person_height)`.\n",
      "Caused by warning:\n",
      "\u001b[33m!\u001b[39m NAs introduced by coercion \n"
     ]
    },
    {
     "data": {
      "text/plain": [
       "   person_age person_height person_weight person_gender empty\n",
       "1          23           185            NA          male    NA\n",
       "2          41           175          68.3          male    NA\n",
       "3          11            NA          55.4        female    NA\n",
       "4          12            NA          48.2          male    NA\n",
       "5          54           191            NA        female    NA\n",
       "6          32           168          78.0        female    NA\n",
       "7          22            NA          54.0          male    NA\n",
       "8          21           165            NA          male    NA\n",
       "9          14            NA          90.2          male    NA\n",
       "10         51           250            NA        female    NA\n",
       "11         41            20          81.0        female    NA\n",
       "12         66            NA          59.0          male    NA\n",
       "13         71           171            NA          male    NA"
      ]
     },
     "execution_count": null,
     "metadata": {},
     "output_type": "execute_result"
    }
   ],
   "source": [
    "data |> mutate(person_height = as.numeric(person_height))"
   ]
  },
  {
   "cell_type": "code",
   "execution_count": 114,
   "metadata": {},
   "outputs": [
    {
     "data": {
      "text/plain": [
       "   person_age person_height person_weight person_gender empty\n",
       "1          23           185            NA          male    NA\n",
       "2          41           175          68.3          male    NA\n",
       "3          11          142*          55.4        female    NA\n",
       "4          12          <NA>          48.2          male    NA\n",
       "5          54           191            NA        female    NA\n",
       "6          32           168          78.0        female    NA\n",
       "7          22          <NA>          54.0          male    NA\n",
       "8          21           165            NA          male    NA\n",
       "9          14          <NA>          90.2          male    NA\n",
       "10         51           250            NA        female    NA\n",
       "11         41            20          81.0        female    NA\n",
       "12         66          <NA>          59.0          male    NA\n",
       "13         71           171            NA          male    NA"
      ]
     },
     "execution_count": null,
     "metadata": {},
     "output_type": "execute_result"
    }
   ],
   "source": [
    "data"
   ]
  },
  {
   "cell_type": "code",
   "execution_count": 115,
   "metadata": {},
   "outputs": [
    {
     "data": {
      "text/plain": [
       "   person_age person_height person_weight person_gender empty\n",
       "1          23           185            NA          male    NA\n",
       "2          41           175          68.3          male    NA\n",
       "3          11           142          55.4        female    NA\n",
       "4          12            NA          48.2          male    NA\n",
       "5          54           191            NA        female    NA\n",
       "6          32           168          78.0        female    NA\n",
       "7          22            NA          54.0          male    NA\n",
       "8          21           165            NA          male    NA\n",
       "9          14            NA          90.2          male    NA\n",
       "10         51           250            NA        female    NA\n",
       "11         41            20          81.0        female    NA\n",
       "12         66            NA          59.0          male    NA\n",
       "13         71           171            NA          male    NA"
      ]
     },
     "execution_count": null,
     "metadata": {},
     "output_type": "execute_result"
    }
   ],
   "source": [
    "data = data |> \n",
    "  mutate(person_height = as.numeric(str_remove(data$person_height, pattern = \"[*]\")))\n",
    "data"
   ]
  },
  {
   "cell_type": "code",
   "execution_count": 116,
   "metadata": {},
   "outputs": [
    {
     "name": "stdout",
     "output_type": "stream",
     "text": [
      "'data.frame':\t13 obs. of  5 variables:\n",
      " $ person_age   : int  23 41 11 12 54 32 22 21 14 51 ...\n",
      " $ person_height: num  185 175 142 NA 191 168 NA 165 NA 250 ...\n",
      " $ person_weight: num  NA 68.3 55.4 48.2 NA 78 54 NA 90.2 NA ...\n",
      " $ person_gender: chr  \"male\" \"male\" \"female\" \"male\" ...\n",
      " $ empty        : logi  NA NA NA NA NA NA ...\n"
     ]
    }
   ],
   "source": [
    "str(data)"
   ]
  },
  {
   "cell_type": "markdown",
   "metadata": {},
   "source": [
    "## 6. Missing"
   ]
  },
  {
   "cell_type": "code",
   "execution_count": 117,
   "metadata": {},
   "outputs": [],
   "source": [
    "#install.packages(\"mice\")"
   ]
  },
  {
   "cell_type": "code",
   "execution_count": 118,
   "metadata": {},
   "outputs": [
    {
     "data": {
      "image/png": "[encoded data removed]"
     },
     "metadata": {},
     "output_type": "display_data"
    },
    {
     "data": {
      "text/plain": [
       "  person_age person_gender person_height person_weight empty   \n",
       "4          1             1             1             1     0  1\n",
       "5          1             1             1             0     0  2\n",
       "4          1             1             0             1     0  2\n",
       "           0             0             4             5    13 22"
      ]
     },
     "execution_count": null,
     "metadata": {},
     "output_type": "execute_result"
    }
   ],
   "source": [
    "library(mice)\n",
    "md.pattern(data)"
   ]
  },
  {
   "cell_type": "code",
   "execution_count": 119,
   "metadata": {},
   "outputs": [],
   "source": [
    "#install.packages(\"VIM\")\n"
   ]
  },
  {
   "cell_type": "code",
   "execution_count": 120,
   "metadata": {},
   "outputs": [
    {
     "name": "stdout",
     "output_type": "stream",
     "text": [
      "\n",
      " Variables sorted by number of missings: \n",
      "      Variable     Count\n",
      "         empty 1.0000000\n",
      " person_weight 0.3846154\n",
      " person_height 0.3076923\n",
      "    person_age 0.0000000\n",
      " person_gender 0.0000000\n"
     ]
    },
    {
     "name": "stderr",
     "output_type": "stream",
     "text": [
      "Warning message:\n",
      "In plot.aggr(res, ...) : not enough horizontal space to display frequencies\n"
     ]
    },
    {
     "data": {
      "image/png": "[encoded data removed]"
     },
     "metadata": {},
     "output_type": "display_data"
    },
    {
     "data": {
      "text/plain": [
       "\n",
       " Missings in variables:\n",
       "      Variable Count\n",
       " person_height     4\n",
       " person_weight     5\n",
       "         empty    13"
      ]
     },
     "execution_count": null,
     "metadata": {},
     "output_type": "execute_result"
    }
   ],
   "source": [
    "library(VIM)\n",
    "mice_plot <- aggr(data, \n",
    "  col=c('navyblue','yellow'),\n",
    "  numbers=TRUE, \n",
    "  sortVars=TRUE,\n",
    "  labels=names(data), \n",
    "  cex.axis=.7,\n",
    "  gap=3, \n",
    "  ylab=c(\"Missing data\",\"Pattern\"))\n",
    "mice_plot"
   ]
  },
  {
   "cell_type": "code",
   "execution_count": 121,
   "metadata": {},
   "outputs": [],
   "source": [
    "#install.packages(\"Amelia\")"
   ]
  },
  {
   "cell_type": "code",
   "execution_count": 122,
   "metadata": {},
   "outputs": [
    {
     "data": {
      "image/png": "[encoded data removed]"
     },
     "metadata": {},
     "output_type": "display_data"
    }
   ],
   "source": [
    "library(Amelia)\n",
    "Amelia::missmap(data)"
   ]
  },
  {
   "cell_type": "code",
   "execution_count": 123,
   "metadata": {},
   "outputs": [
    {
     "data": {
      "text/plain": [
       "   person_age person_height person_weight person_gender empty\n",
       "1          23           185            NA          male    NA\n",
       "2          41           175          68.3          male    NA\n",
       "3          11           142          55.4        female    NA\n",
       "4          12            NA          48.2          male    NA\n",
       "5          54           191            NA        female    NA\n",
       "6          32           168          78.0        female    NA\n",
       "7          22            NA          54.0          male    NA\n",
       "8          21           165            NA          male    NA\n",
       "9          14            NA          90.2          male    NA\n",
       "10         51           250            NA        female    NA\n",
       "11         41            20          81.0        female    NA\n",
       "12         66            NA          59.0          male    NA\n",
       "13         71           171            NA          male    NA"
      ]
     },
     "execution_count": null,
     "metadata": {},
     "output_type": "execute_result"
    }
   ],
   "source": [
    "data"
   ]
  },
  {
   "cell_type": "code",
   "execution_count": 124,
   "metadata": {},
   "outputs": [
    {
     "data": {
      "text/plain": [
       " [1] FALSE FALSE FALSE FALSE FALSE FALSE FALSE FALSE FALSE FALSE FALSE FALSE FALSE"
      ]
     },
     "execution_count": null,
     "metadata": {},
     "output_type": "execute_result"
    }
   ],
   "source": [
    "complete.cases(data)"
   ]
  },
  {
   "cell_type": "code",
   "execution_count": 125,
   "metadata": {},
   "outputs": [
    {
     "data": {
      "text/plain": [
       "   person_age person_height person_weight person_gender\n",
       "1          23           185            NA          male\n",
       "2          41           175          68.3          male\n",
       "3          11           142          55.4        female\n",
       "4          12            NA          48.2          male\n",
       "5          54           191            NA        female\n",
       "6          32           168          78.0        female\n",
       "7          22            NA          54.0          male\n",
       "8          21           165            NA          male\n",
       "9          14            NA          90.2          male\n",
       "10         51           250            NA        female\n",
       "11         41            20          81.0        female\n",
       "12         66            NA          59.0          male\n",
       "13         71           171            NA          male"
      ]
     },
     "execution_count": null,
     "metadata": {},
     "output_type": "execute_result"
    }
   ],
   "source": [
    "data <- remove_empty(data, which = c(\"rows\", \"cols\"))\n",
    "data"
   ]
  },
  {
   "cell_type": "code",
   "execution_count": 126,
   "metadata": {},
   "outputs": [
    {
     "data": {
      "text/plain": [
       "   person_age person_height person_weight person_gender\n",
       "1          23           185            NA          male\n",
       "4          12            NA          48.2          male\n",
       "5          54           191            NA        female\n",
       "7          22            NA          54.0          male\n",
       "8          21           165            NA          male\n",
       "9          14            NA          90.2          male\n",
       "10         51           250            NA        female\n",
       "12         66            NA          59.0          male\n",
       "13         71           171            NA          male"
      ]
     },
     "execution_count": null,
     "metadata": {},
     "output_type": "execute_result"
    }
   ],
   "source": [
    "data[!complete.cases(data),]"
   ]
  },
  {
   "cell_type": "code",
   "execution_count": 127,
   "metadata": {},
   "outputs": [
    {
     "data": {
      "text/plain": [
       "   person_age person_height person_weight person_gender\n",
       "2          41           175          68.3          male\n",
       "3          11           142          55.4        female\n",
       "6          32           168          78.0        female\n",
       "11         41            20          81.0        female"
      ]
     },
     "execution_count": null,
     "metadata": {},
     "output_type": "execute_result"
    }
   ],
   "source": [
    "na.omit(data)"
   ]
  },
  {
   "cell_type": "code",
   "execution_count": 128,
   "metadata": {},
   "outputs": [
    {
     "data": {
      "text/plain": [
       "   person_age person_height person_weight person_gender\n",
       "1          23           185           0.0          male\n",
       "2          41           175          68.3          male\n",
       "3          11           142          55.4        female\n",
       "4          12            NA          48.2          male\n",
       "5          54           191           0.0        female\n",
       "6          32           168          78.0        female\n",
       "7          22            NA          54.0          male\n",
       "8          21           165           0.0          male\n",
       "9          14            NA          90.2          male\n",
       "10         51           250           0.0        female\n",
       "11         41            20          81.0        female\n",
       "12         66            NA          59.0          male\n",
       "13         71           171           0.0          male"
      ]
     },
     "execution_count": null,
     "metadata": {},
     "output_type": "execute_result"
    }
   ],
   "source": [
    "data |>\n",
    "  mutate(person_weight = ifelse(is.na(person_weight), 0, person_weight))"
   ]
  },
  {
   "cell_type": "code",
   "execution_count": 129,
   "metadata": {},
   "outputs": [],
   "source": [
    "library(tidyr)"
   ]
  },
  {
   "cell_type": "code",
   "execution_count": 130,
   "metadata": {},
   "outputs": [
    {
     "data": {
      "text/plain": [
       "   person_age person_height person_weight person_gender\n",
       "1          23           185           0.0          male\n",
       "2          41           175          68.3          male\n",
       "3          11           142          55.4        female\n",
       "4          12             0          48.2          male\n",
       "5          54           191           0.0        female\n",
       "6          32           168          78.0        female\n",
       "7          22             0          54.0          male\n",
       "8          21           165           0.0          male\n",
       "9          14             0          90.2          male\n",
       "10         51           250           0.0        female\n",
       "11         41            20          81.0        female\n",
       "12         66             0          59.0          male\n",
       "13         71           171           0.0          male"
      ]
     },
     "execution_count": null,
     "metadata": {},
     "output_type": "execute_result"
    }
   ],
   "source": [
    "data |> \n",
    "    mutate_if(is.numeric, replace_na, replace = 0)"
   ]
  },
  {
   "cell_type": "code",
   "execution_count": 131,
   "metadata": {},
   "outputs": [
    {
     "data": {
      "text/plain": [
       "[1] NA"
      ]
     },
     "execution_count": null,
     "metadata": {},
     "output_type": "execute_result"
    }
   ],
   "source": [
    "mean(data$person_weight)"
   ]
  },
  {
   "cell_type": "code",
   "execution_count": 134,
   "metadata": {},
   "outputs": [],
   "source": [
    "data |>\n",
    "  mutate(person_weight = ifelse(is.na(person_weight), mean(person_weight, na.rm = T), person_weight))\n"
   ]
  },
  {
   "cell_type": "code",
   "execution_count": 133,
   "metadata": {},
   "outputs": [],
   "source": [
    "## Hot deck imputation"
   ]
  },
  {
   "cell_type": "code",
   "execution_count": 137,
   "metadata": {},
   "outputs": [],
   "source": [
    "#install.packages(\"Hmisc\")"
   ]
  },
  {
   "cell_type": "code",
   "execution_count": 140,
   "metadata": {},
   "outputs": [
    {
     "name": "stdout",
     "output_type": "stream",
     "text": [
      "\n",
      "Attaching package: ‘Hmisc’\n",
      "\n",
      "The following objects are masked from ‘package:dplyr’:\n",
      "\n",
      "    src, summarize\n",
      "\n",
      "The following objects are masked from ‘package:base’:\n",
      "\n",
      "    format.pval, units\n",
      "\n"
     ]
    },
    {
     "name": "stderr",
     "output_type": "stream",
     "text": [
      "Warning message:\n",
      "package ‘Hmisc’ was built under R version 4.4.3 \n"
     ]
    }
   ],
   "source": [
    "library(Hmisc)"
   ]
  },
  {
   "cell_type": "code",
   "execution_count": 138,
   "metadata": {},
   "outputs": [
    {
     "data": {
      "text/plain": [
       "   person_age person_height person_weight person_gender\n",
       "1          23           185            NA          male\n",
       "2          41           175          68.3          male\n",
       "3          11           142          55.4        female\n",
       "4          12            NA          48.2          male\n",
       "5          54           191            NA        female\n",
       "6          32           168          78.0        female\n",
       "7          22            NA          54.0          male\n",
       "8          21           165            NA          male\n",
       "9          14            NA          90.2          male\n",
       "10         51           250            NA        female\n",
       "11         41            20          81.0        female\n",
       "12         66            NA          59.0          male\n",
       "13         71           171            NA          male"
      ]
     },
     "execution_count": null,
     "metadata": {},
     "output_type": "execute_result"
    }
   ],
   "source": [
    "data"
   ]
  },
  {
   "cell_type": "code",
   "execution_count": 143,
   "metadata": {},
   "outputs": [],
   "source": [
    "data_hot <- data |> \n",
    "  mutate(person_weight = impute(data$person_weight, \"random\")) "
   ]
  },
  {
   "cell_type": "code",
   "execution_count": 144,
   "metadata": {},
   "outputs": [
    {
     "data": {
      "text/plain": [
       "   person_age person_height person_weight person_gender\n",
       "1          23           185          81.0          male\n",
       "2          41           175          68.3          male\n",
       "3          11           142          55.4        female\n",
       "4          12            NA          48.2          male\n",
       "5          54           191          55.4        female\n",
       "6          32           168          78.0        female\n",
       "7          22            NA          54.0          male\n",
       "8          21           165          68.3          male\n",
       "9          14            NA          90.2          male\n",
       "10         51           250          48.2        female\n",
       "11         41            20          81.0        female\n",
       "12         66            NA          59.0          male\n",
       "13         71           171          48.2          male"
      ]
     },
     "execution_count": null,
     "metadata": {},
     "output_type": "execute_result"
    }
   ],
   "source": [
    "data_hot "
   ]
  },
  {
   "cell_type": "markdown",
   "metadata": {},
   "source": [
    "## Segment missing impute"
   ]
  },
  {
   "cell_type": "code",
   "execution_count": 145,
   "metadata": {},
   "outputs": [
    {
     "data": {
      "text/plain": [
       "\u001b[38;5;246m# A tibble: 13 × 4\u001b[39m\n",
       "\u001b[38;5;246m# Groups:   person_gender [2]\u001b[39m\n",
       "   person_age person_height person_weight person_gender\n",
       "        \u001b[3m\u001b[38;5;246m<int>\u001b[39m\u001b[23m         \u001b[3m\u001b[38;5;246m<dbl>\u001b[39m\u001b[23m         \u001b[3m\u001b[38;5;246m<dbl>\u001b[39m\u001b[23m \u001b[3m\u001b[38;5;246m<chr>\u001b[39m\u001b[23m        \n",
       "\u001b[38;5;250m 1\u001b[39m         23           185          63.9 male         \n",
       "\u001b[38;5;250m 2\u001b[39m         41           175          68.3 male         \n",
       "\u001b[38;5;250m 3\u001b[39m         11           142          55.4 female       \n",
       "\u001b[38;5;250m 4\u001b[39m         12            \u001b[31mNA\u001b[39m          48.2 male         \n",
       "\u001b[38;5;250m 5\u001b[39m         54           191          71.5 female       \n",
       "\u001b[38;5;250m 6\u001b[39m         32           168          78   female       \n",
       "\u001b[38;5;250m 7\u001b[39m         22            \u001b[31mNA\u001b[39m          54   male         \n",
       "\u001b[38;5;250m 8\u001b[39m         21           165          63.9 male         \n",
       "\u001b[38;5;250m 9\u001b[39m         14            \u001b[31mNA\u001b[39m          90.2 male         \n",
       "\u001b[38;5;250m10\u001b[39m         51           250          71.5 female       \n",
       "\u001b[38;5;250m11\u001b[39m         41            20          81   female       \n",
       "\u001b[38;5;250m12\u001b[39m         66            \u001b[31mNA\u001b[39m          59   male         \n",
       "\u001b[38;5;250m13\u001b[39m         71           171          63.9 male         "
      ]
     },
     "execution_count": null,
     "metadata": {},
     "output_type": "execute_result"
    }
   ],
   "source": [
    "data_sgm <- data |> \n",
    "                group_by(person_gender) |>\n",
    "                mutate(person_weight = replace_na(person_weight, mean(person_weight, na.rm = TRUE)))\n",
    "data_sgm"
   ]
  },
  {
   "cell_type": "code",
   "execution_count": 146,
   "metadata": {},
   "outputs": [
    {
     "data": {
      "text/plain": [
       "   person_age person_height person_weight person_gender person_age_imp person_height_imp\n",
       "1          23           185          59.0          male          FALSE             FALSE\n",
       "2          41           175          68.3          male          FALSE             FALSE\n",
       "3          11           142          55.4        female          FALSE             FALSE\n",
       "4          12           168          48.2          male          FALSE              TRUE\n",
       "5          54           191          68.3        female          FALSE             FALSE\n",
       "6          32           168          78.0        female          FALSE             FALSE\n",
       "7          22           168          54.0          male          FALSE              TRUE\n",
       "8          21           165          59.0          male          FALSE             FALSE\n",
       "9          14           168          90.2          male          FALSE              TRUE\n",
       "10         51           250          68.3        female          FALSE             FALSE\n",
       "11         41            20          81.0        female          FALSE             FALSE\n",
       "12         66           168          59.0          male          FALSE              TRUE\n",
       "13         71           171          59.0          male          FALSE             FALSE\n",
       "   person_weight_imp person_gender_imp\n",
       "1               TRUE             FALSE\n",
       "2              FALSE             FALSE\n",
       "3              FALSE             FALSE\n",
       "4              FALSE             FALSE\n",
       "5               TRUE             FALSE\n",
       "6              FALSE             FALSE\n",
       "7              FALSE             FALSE\n",
       "8               TRUE             FALSE\n",
       "9              FALSE             FALSE\n",
       "10              TRUE             FALSE\n",
       "11             FALSE             FALSE\n",
       "12             FALSE             FALSE\n",
       "13              TRUE             FALSE"
      ]
     },
     "execution_count": null,
     "metadata": {},
     "output_type": "execute_result"
    }
   ],
   "source": [
    "data_knn <- kNN(data)\n",
    "data_knn"
   ]
  },
  {
   "cell_type": "code",
   "execution_count": 147,
   "metadata": {},
   "outputs": [
    {
     "data": {
      "image/png": "[encoded data removed]"
     },
     "metadata": {},
     "output_type": "display_data"
    }
   ],
   "source": [
    "boxplot(data$person_height)"
   ]
  },
  {
   "cell_type": "markdown",
   "metadata": {},
   "source": [
    "## Outliers"
   ]
  },
  {
   "cell_type": "code",
   "execution_count": 148,
   "metadata": {},
   "outputs": [],
   "source": [
    "temp <- c(15, 17, 19, 12, 30, 41, 17, 20)"
   ]
  },
  {
   "cell_type": "code",
   "execution_count": 150,
   "metadata": {},
   "outputs": [
    {
     "data": {
      "image/png": "[encoded data removed]"
     },
     "metadata": {},
     "output_type": "display_data"
    }
   ],
   "source": [
    "plot(temp)"
   ]
  },
  {
   "cell_type": "code",
   "execution_count": 152,
   "metadata": {},
   "outputs": [
    {
     "data": {
      "image/png": "[encoded data removed]"
     },
     "metadata": {},
     "output_type": "display_data"
    }
   ],
   "source": [
    "boxplot(temp, ylab = \"Celcium\")"
   ]
  },
  {
   "cell_type": "code",
   "execution_count": 154,
   "metadata": {},
   "outputs": [
    {
     "data": {
      "text/plain": [
       "    index nitrate    months\n",
       "1       1   1.581   January\n",
       "2       2   1.323  February\n",
       "3       3   1.140     March\n",
       "4       4   1.245     April\n",
       "5       5   1.072       May\n",
       "6       6   1.483      June\n",
       "7       7   1.162      July\n",
       "8       8   1.304    August\n",
       "9       9   1.140 September\n",
       "10     10   1.118   October\n",
       "11     11   1.342  November\n",
       "12     12   1.245  December\n",
       "13     13   1.204   January\n",
       "14     14   1.140  February\n",
       "15     15   1.204     March\n",
       "16     16   1.118     April\n",
       "17     17   1.025       May\n",
       "18     18   1.118      June\n",
       "19     19   1.285      July\n",
       "20     20   1.140    August\n",
       "21     21   0.949 September\n",
       "22     22   0.922   October\n",
       "23     23   0.949  November\n",
       "24     24   1.118  December\n",
       "25     25   1.265   January\n",
       "26     26   1.095  February\n",
       "27     27   1.183     March\n",
       "28     28   1.162     April\n",
       "29     29   1.118       May\n",
       "30     30   1.285      June\n",
       "31     31   1.049      July\n",
       "32     32   0.922    August\n",
       "33     33   0.775 September\n",
       "34     34   0.866   October\n",
       "35     35   0.922  November\n",
       "36     36   1.643  December\n",
       "37     37   1.323   January\n",
       "38     38   1.285  February\n",
       "39     39   1.095     March\n",
       "40     40   1.049     April\n",
       "41     41   1.095       May\n",
       "42     42   0.922      June\n",
       "43     43   0.866      July\n",
       "44     44   1.049    August\n",
       "45     45   0.922 September\n",
       "46     46   1.095   October\n",
       "47     47   1.183  November\n",
       "48     48   1.304  December\n",
       "49     49   1.162   January\n",
       "50     50   1.225  February\n",
       "51     51   1.285     March\n",
       "52     52   1.072     April\n",
       "53     53   1.533       May\n",
       "54     54   1.095      June\n",
       "55     55   1.396      July\n",
       "56     56   1.025    August\n",
       "57     57   0.922 September\n",
       "58     58   0.949   October\n",
       "59     59   1.118  November\n",
       "60     60   1.342  December\n",
       "61     61   1.360   January\n",
       "62     62   1.360  February\n",
       "63     63   1.204     March\n",
       "64     64   1.265     April\n",
       "65     65   1.000       May\n",
       "66     66   1.183      June\n",
       "67     67   1.025      July\n",
       "68     68   0.866    August\n",
       "69     69   1.072 September\n",
       "70     70   1.049   October\n",
       "71     71   1.049  November\n",
       "72     72   1.049  December\n",
       "73     73   1.095   January\n",
       "74     74   1.183  February\n",
       "75     75   1.095     March\n",
       "76     76   0.975     April\n",
       "77     77   1.118       May\n",
       "78     78   0.975      June\n",
       "79     79   1.049      July\n",
       "80     80   0.837    August\n",
       "81     81   0.922 September\n",
       "82     82   1.118   October\n",
       "83     83   1.072  November\n",
       "84     84   1.204  December\n",
       "85     85   0.975   January\n",
       "86     86   1.095  February\n",
       "87     87   1.049     March\n",
       "88     88   0.866     April\n",
       "89     89   0.922       May\n",
       "90     90   1.049      June\n",
       "91     91   1.127      July\n",
       "92     92   1.072    August\n",
       "93     93   0.975 September\n",
       "94     94   1.049   October\n",
       "95     95   1.183  November\n",
       "96     96   1.245  December\n",
       "97     97   1.225   January\n",
       "98     98   1.225  February\n",
       "99     99   1.265     March\n",
       "100   100   1.118     April\n",
       "101   101   1.140       May\n",
       "102   102   1.072      June\n",
       "103   103   1.095      July\n",
       "104   104   0.671    August\n",
       "105   105   1.183 September\n",
       "106   106   0.949   October\n",
       "107   107   1.162  November\n",
       "108   108   1.095  December\n",
       "109   109   1.323   January\n",
       "110   110   1.342  February\n",
       "111   111   1.277     March\n",
       "112   112   1.015     April\n",
       "113   113   1.000       May\n",
       "114   114   0.922      June\n",
       "115   115   0.894      July\n",
       "116   116   1.000    August\n",
       "117   117   1.049 September\n",
       "118   118   0.922   October\n",
       "119   119   1.517  November\n",
       "120   120   1.265  December\n",
       "121   121   1.414   January\n",
       "122   122   1.304  February\n",
       "123   123   1.140     March\n",
       "124   124   1.140     April\n",
       "125   125   1.049       May\n",
       "126   126   1.068      June\n",
       "127   127   0.906      July\n",
       "128   128   1.095    August\n",
       "129   129   0.883 September\n",
       "130   130   1.140   October\n",
       "131   131   1.025  November\n",
       "132   132   1.360  December\n",
       "133   133   1.183   January\n",
       "134   134   1.265  February\n",
       "135   135   1.304     March\n",
       "136   136   0.964     April\n",
       "137   137   0.975       May\n",
       "138   138   0.990      June\n",
       "139   139   0.877      July\n",
       "140   140   1.049    August\n",
       "141   141   0.975 September\n",
       "142   142   1.000   October\n",
       "143   143   1.183  November\n",
       "144   144   1.225  December\n",
       "145   145   1.265   January\n",
       "146   146   1.183  February\n",
       "147   147   1.049     March\n",
       "148   148   0.970     April\n",
       "149   149   0.894       May\n",
       "150   150   0.980      June\n",
       "151   151   0.964      July\n",
       "152   152   0.894    August\n",
       "153   153   0.922 September\n",
       "154   154   1.140   October\n",
       "155   155   1.183  November\n",
       "156   156   1.897  December\n",
       "157   157   1.095   January\n",
       "158   158   1.140  February\n",
       "159   159   1.414     March\n",
       "160   160   1.140     April\n",
       "161   161   1.000       May\n",
       "162   162   1.049      June\n",
       "163   163   0.889      July\n",
       "164   164   0.872    August\n",
       "165   165   1.000 September\n",
       "166   166   1.095   October\n",
       "167   167   0.671  November\n",
       "168   168   1.095  December\n",
       "169   169   1.140   January\n",
       "170   170   1.304  February\n",
       "171   171   1.025     March\n",
       "172   172   0.975     April\n",
       "173   173   1.000       May\n",
       "174   174   0.877      June\n",
       "175   175   0.949      July\n",
       "176   176   0.866    August\n",
       "177   177   1.058 September\n",
       "178   178   1.086   October\n",
       "179   179   1.118  November\n",
       "180   180   1.162  December\n",
       "181   181   1.221   January\n",
       "182   182   1.265  February\n",
       "183   183   1.122     March\n",
       "184   184   1.015     April\n",
       "185   185   1.162       May\n",
       "186   186   0.825      June\n",
       "187   187   0.906      July\n",
       "188   188   0.849    August\n",
       "189   189   0.985 September\n",
       "190   190   1.118   October\n",
       "191   191   1.077  November\n",
       "192   192   1.237  December\n",
       "193   193   1.237   January\n",
       "194   194   1.063  February\n",
       "195   195   1.010     March\n",
       "196   196   0.933     April\n",
       "197   197   0.922       May\n",
       "198   198   0.806      June\n",
       "199   199   0.748      July\n",
       "200   200   0.592    August\n",
       "201   201   0.911 September\n",
       "202   202   0.806   October\n",
       "203   203   0.980  November\n",
       "204   204   1.077  December\n",
       "205   205   1.212   January\n",
       "206   206   1.277  February\n",
       "207   207   0.954     March\n",
       "208   208   0.837     April\n",
       "209   209   0.917       May\n",
       "210   210   0.900      June\n",
       "211   211   1.068      July\n",
       "212   212   0.872    August\n",
       "213   213   0.990 September\n",
       "214   214   1.131   October\n",
       "215   215   1.068  November\n",
       "216   216   1.208  December\n",
       "217   217   1.319   January\n",
       "218   218   1.281  February\n",
       "219   219   0.905     March\n",
       "220   220   0.819     April\n",
       "221   221   0.826       May\n",
       "222   222   0.974      June\n",
       "223   223   0.888      July\n",
       "224   224   0.804    August\n",
       "225   225   0.996 September\n",
       "226   226   1.127   October\n",
       "227   227   1.170  November\n",
       "228   228   1.166  December\n",
       "229   229   1.261   January\n",
       "230   230   1.275  February\n",
       "231   231   1.179     March\n",
       "232   232   1.079     April\n",
       "233   233   0.951       May\n",
       "234   234   0.852      June\n",
       "235   235   0.872      July\n",
       "236   236   0.834    August\n",
       "237   237   0.859 September\n",
       "238   238   1.077   October\n",
       "239   239   1.095  November\n",
       "240   240   1.285  December\n",
       "241   241   1.323   January\n",
       "242   242   1.160  February\n",
       "243   243   1.125     March\n",
       "244   244   0.957     April\n",
       "245   245   0.948       May\n",
       "246   246   0.907      June\n",
       "247   247   0.890      July\n",
       "248   248   0.999    August\n",
       "249   249   0.999 September\n",
       "250   250   0.953   October\n",
       "251   251   0.900  November\n",
       "252   252   0.986  December\n",
       "253   253   1.187   January\n",
       "254   254   1.054  February\n",
       "255   255   1.079     March\n",
       "256   256   0.997     April\n",
       "257   257   0.851       May\n",
       "258   258   0.803      June\n",
       "259   259   0.971      July\n",
       "260   260   1.025    August\n",
       "261   261   1.086 September\n",
       "262   262   1.114   October\n",
       "263   263   1.068  November\n",
       "264   264   1.091  December\n",
       "265   265   1.034   January\n",
       "266   266   0.871  February\n",
       "267   267   0.781     March\n",
       "268   268   0.865     April\n",
       "269   269   0.700       May\n",
       "270   270   0.673      June\n",
       "271   271   0.881      July\n",
       "272   272   0.782    August\n",
       "273   273   0.970 September\n",
       "274   274   1.044   October\n",
       "275   275   1.170  November\n",
       "276   276   1.196  December\n",
       "277   277   1.091   January\n",
       "278   278   1.068  February\n",
       "279   279   0.967     March\n",
       "280   280   0.823     April\n",
       "281   281   0.730       May\n",
       "282   282   0.693      June\n",
       "283   283   0.788      July\n",
       "284   284   1.095    August\n",
       "285   285   1.183 September\n",
       "286   286   0.996   October\n",
       "287   287   1.105  November\n",
       "288   288   0.939  December\n",
       "289   289   0.914   January\n",
       "290   290   0.813  February\n",
       "291   291   0.775     March"
      ]
     },
     "execution_count": null,
     "metadata": {},
     "output_type": "execute_result"
    }
   ],
   "source": [
    "river_data <- read.csv(\"https://raw.githubusercontent.com/kleban/r-book-published/refs/heads/main/datasets/river_eco.csv\")\n",
    "river_data"
   ]
  },
  {
   "cell_type": "code",
   "execution_count": 155,
   "metadata": {},
   "outputs": [
    {
     "data": {
      "text/plain": [
       "  index nitrate   months\n",
       "1     1   1.581  January\n",
       "2     2   1.323 February\n",
       "3     3   1.140    March\n",
       "4     4   1.245    April\n",
       "5     5   1.072      May\n",
       "6     6   1.483     June"
      ]
     },
     "execution_count": null,
     "metadata": {},
     "output_type": "execute_result"
    }
   ],
   "source": [
    "m_levels <- river_data$months[1:12]\n",
    "river_data <- river_data |>\n",
    "    mutate(months = factor(months, levels = m_levels))\n",
    "head(river_data)"
   ]
  },
  {
   "cell_type": "code",
   "execution_count": 156,
   "metadata": {},
   "outputs": [
    {
     "data": {
      "text/plain": [
       "   Min. 1st Qu.  Median    Mean 3rd Qu.    Max. \n",
       " 0.5920  0.9485  1.0680  1.0649  1.1700  1.8970 "
      ]
     },
     "execution_count": null,
     "metadata": {},
     "output_type": "execute_result"
    }
   ],
   "source": [
    "summary(river_data$nitrate)"
   ]
  },
  {
   "cell_type": "code",
   "execution_count": 160,
   "metadata": {},
   "outputs": [
    {
     "data": {
      "image/png": "[encoded data removed]"
     },
     "metadata": {},
     "output_type": "display_data"
    }
   ],
   "source": [
    "hist(river_data$nitrate)"
   ]
  },
  {
   "cell_type": "code",
   "execution_count": 158,
   "metadata": {},
   "outputs": [
    {
     "data": {
      "image/png": "[encoded data removed]"
     },
     "metadata": {},
     "output_type": "display_data"
    }
   ],
   "source": [
    "boxplot(river_data$nitrate)\n",
    "# Додамо лінії 1 та 3 квантилів\n",
    "abline(h=quantile(river_data$nitrate,0.25),col=\"red\",lty=2)\n",
    "abline(h=quantile(river_data$nitrate,0.75),col=\"red\",lty=2)"
   ]
  },
  {
   "cell_type": "code",
   "execution_count": 162,
   "metadata": {},
   "outputs": [
    {
     "data": {
      "image/png": "[encoded data removed]"
     },
     "metadata": {},
     "output_type": "display_data"
    }
   ],
   "source": [
    "plot(nitrate ~ index, data = river_data, type = \"o\")"
   ]
  },
  {
   "cell_type": "code",
   "execution_count": 163,
   "metadata": {},
   "outputs": [
    {
     "data": {
      "text/plain": [
       "\u001b[38;5;246m# A tibble: 12 × 2\u001b[39m\n",
       "   months     mean\n",
       "   \u001b[3m\u001b[38;5;246m<fct>\u001b[39m\u001b[23m     \u001b[3m\u001b[38;5;246m<dbl>\u001b[39m\u001b[23m\n",
       "\u001b[38;5;250m 1\u001b[39m January   1.22 \n",
       "\u001b[38;5;250m 2\u001b[39m February  1.18 \n",
       "\u001b[38;5;250m 3\u001b[39m March     1.11 \n",
       "\u001b[38;5;250m 4\u001b[39m April     1.02 \n",
       "\u001b[38;5;250m 5\u001b[39m May       0.998\n",
       "\u001b[38;5;250m 6\u001b[39m June      0.979\n",
       "\u001b[38;5;250m 7\u001b[39m July      0.981\n",
       "\u001b[38;5;250m 8\u001b[39m August    0.938\n",
       "\u001b[38;5;250m 9\u001b[39m September 0.989\n",
       "\u001b[38;5;250m10\u001b[39m October   1.04 \n",
       "\u001b[38;5;250m11\u001b[39m November  1.10 \n",
       "\u001b[38;5;250m12\u001b[39m December  1.23 "
      ]
     },
     "execution_count": null,
     "metadata": {},
     "output_type": "execute_result"
    }
   ],
   "source": [
    "river_grouped <- river_data |> group_by(months) |> summarise(mean = mean(nitrate))\n",
    "river_grouped"
   ]
  },
  {
   "cell_type": "code",
   "execution_count": 165,
   "metadata": {},
   "outputs": [
    {
     "data": {
      "image/png": "[encoded data removed]"
     },
     "metadata": {},
     "output_type": "display_data"
    }
   ],
   "source": [
    "plot(river_grouped$mean, type = \"o\", xlab = \"Month\", ylab = \"Monthly mean\")"
   ]
  },
  {
   "cell_type": "code",
   "execution_count": 167,
   "metadata": {},
   "outputs": [
    {
     "data": {
      "image/png": "[encoded data removed]"
     },
     "metadata": {},
     "output_type": "display_data"
    }
   ],
   "source": [
    "boxplot(nitrate ~ months, data = river_data)"
   ]
  },
  {
   "cell_type": "code",
   "execution_count": 170,
   "metadata": {},
   "outputs": [
    {
     "data": {
      "text/plain": [
       "   2.5% \n",
       "0.75475 "
      ]
     },
     "execution_count": null,
     "metadata": {},
     "output_type": "execute_result"
    }
   ],
   "source": [
    "lower_bound <- quantile(river_data$nitrate, 0.025)\n",
    "lower_bound"
   ]
  },
  {
   "cell_type": "code",
   "execution_count": 171,
   "metadata": {},
   "outputs": [
    {
     "data": {
      "text/plain": [
       " 97.5% \n",
       "1.4095 "
      ]
     },
     "execution_count": null,
     "metadata": {},
     "output_type": "execute_result"
    }
   ],
   "source": [
    "upper_bound <- quantile(river_data$nitrate, 0.975)\n",
    "upper_bound"
   ]
  },
  {
   "cell_type": "code",
   "execution_count": 172,
   "metadata": {},
   "outputs": [
    {
     "data": {
      "text/plain": [
       " [1]   1   6  36  53 104 119 121 156 159 167 199 200 269 270 281 282"
      ]
     },
     "execution_count": null,
     "metadata": {},
     "output_type": "execute_result"
    }
   ],
   "source": [
    "outlier_index <- which(river_data$nitrate < lower_bound | river_data$nitrate > upper_bound)\n",
    "outlier_index"
   ]
  },
  {
   "cell_type": "code",
   "execution_count": 173,
   "metadata": {},
   "outputs": [
    {
     "data": {
      "text/plain": [
       "    5%    95% \n",
       "0.8050 1.3325 "
      ]
     },
     "execution_count": null,
     "metadata": {},
     "output_type": "execute_result"
    }
   ],
   "source": [
    "river_data$nitrate_upd <- river_data$nitrate\n",
    "qnt <- quantile(river_data$nitrate_upd, probs=c(.05, .95), na.rm = T)\n",
    "H <- 1.5 * IQR(qnt[1], na.rm = T)\n",
    "river_data$nitrate_upd[river_data$nitrate_upd < (qnt[1] - H)] <- qnt[1]\n",
    "river_data$nitrate_upd[river_data$nitrate_upd > (qnt[2] + H)] <- qnt[2]\n",
    "\n",
    "qnt"
   ]
  },
  {
   "cell_type": "code",
   "execution_count": 175,
   "metadata": {},
   "outputs": [
    {
     "data": {
      "image/png": "[encoded data removed]"
     },
     "metadata": {},
     "output_type": "display_data"
    }
   ],
   "source": [
    "boxplot(river_data$nitrate_upd)"
   ]
  },
  {
   "cell_type": "code",
   "execution_count": 177,
   "metadata": {},
   "outputs": [
    {
     "data": {
      "image/png": "[encoded data removed]"
     },
     "metadata": {},
     "output_type": "display_data"
    }
   ],
   "source": [
    "boxplot(nitrate_upd ~ months, data = river_data)"
   ]
  },
  {
   "cell_type": "code",
   "execution_count": 179,
   "metadata": {},
   "outputs": [
    {
     "data": {
      "image/png": "[encoded data removed]"
     },
     "metadata": {},
     "output_type": "display_data"
    }
   ],
   "source": [
    "plot(nitrate_upd ~ index, data = river_data, type = \"o\")\n"
   ]
  },
  {
   "cell_type": "markdown",
   "metadata": {},
   "source": []
  }
 ],
 "metadata": {
  "language_info": {
   "name": "r"
  }
 },
 "nbformat": 4,
 "nbformat_minor": 2
}
