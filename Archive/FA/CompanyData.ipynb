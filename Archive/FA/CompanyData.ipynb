{
 "cells": [
  {
   "cell_type": "markdown",
   "id": "20b385bc-4a58-49f9-814e-b86ac62a024f",
   "metadata": {},
   "source": [
    "# Практична робота 02.05.24"
   ]
  },
  {
   "cell_type": "markdown",
   "id": "15e0b10c-c761-4a0b-aa82-51aba8cca8b1",
   "metadata": {},
   "source": [
    "#### 1. На основі векторів створити дата-фрейм"
   ]
  },
  {
   "cell_type": "code",
   "execution_count": 3,
   "id": "e1d1edfd-c9a5-493f-92ab-3d51ea6b9d4e",
   "metadata": {},
   "outputs": [],
   "source": [
    "fy <- c(2010,2011,2012,2010,2011,2012,2010,2011,2012)\n",
    "company <- c(\"Apple\",\"Apple\",\"Apple\",\"Google\",\"Google\",\"Google\",\"Microsoft\",\"Microsoft\",\"Microsoft\")\n",
    "revenue <- c(65225,108249,156508,29321,37905,50175,62484,69943,73723)\n",
    "profit <- c(14013,25922,41733,8505,9737,10737,18760,23150,16978) "
   ]
  },
  {
   "cell_type": "code",
   "execution_count": 4,
   "id": "23cf970b-64b7-4a2d-b900-639ef6fca12e",
   "metadata": {},
   "outputs": [
    {
     "data": {
      "text/html": [
       "9"
      ],
      "text/latex": [
       "9"
      ],
      "text/markdown": [
       "9"
      ],
      "text/plain": [
       "[1] 9"
      ]
     },
     "metadata": {},
     "output_type": "display_data"
    },
    {
     "data": {
      "text/html": [
       "9"
      ],
      "text/latex": [
       "9"
      ],
      "text/markdown": [
       "9"
      ],
      "text/plain": [
       "[1] 9"
      ]
     },
     "metadata": {},
     "output_type": "display_data"
    },
    {
     "data": {
      "text/html": [
       "9"
      ],
      "text/latex": [
       "9"
      ],
      "text/markdown": [
       "9"
      ],
      "text/plain": [
       "[1] 9"
      ]
     },
     "metadata": {},
     "output_type": "display_data"
    },
    {
     "data": {
      "text/html": [
       "9"
      ],
      "text/latex": [
       "9"
      ],
      "text/markdown": [
       "9"
      ],
      "text/plain": [
       "[1] 9"
      ]
     },
     "metadata": {},
     "output_type": "display_data"
    }
   ],
   "source": [
    "length(fy)\n",
    "length(company)\n",
    "length(revenue)\n",
    "length(profit)"
   ]
  },
  {
   "cell_type": "code",
   "execution_count": 29,
   "id": "8b678241-41b8-4591-9173-d3392c153848",
   "metadata": {},
   "outputs": [],
   "source": [
    "df <- data.frame(Year = fy, Company = company, Revenue = revenue, Profit = profit)"
   ]
  },
  {
   "cell_type": "code",
   "execution_count": 30,
   "id": "5a3f1ba4-ec65-4375-97d3-4a99a29e9d58",
   "metadata": {},
   "outputs": [
    {
     "data": {
      "text/html": [
       "<table class=\"dataframe\">\n",
       "<caption>A data.frame: 9 x 4</caption>\n",
       "<thead>\n",
       "\t<tr><th scope=col>Year</th><th scope=col>Company</th><th scope=col>Revenue</th><th scope=col>Profit</th></tr>\n",
       "\t<tr><th scope=col>&lt;dbl&gt;</th><th scope=col>&lt;chr&gt;</th><th scope=col>&lt;dbl&gt;</th><th scope=col>&lt;dbl&gt;</th></tr>\n",
       "</thead>\n",
       "<tbody>\n",
       "\t<tr><td>2010</td><td>Apple    </td><td> 65225</td><td>14013</td></tr>\n",
       "\t<tr><td>2011</td><td>Apple    </td><td>108249</td><td>25922</td></tr>\n",
       "\t<tr><td>2012</td><td>Apple    </td><td>156508</td><td>41733</td></tr>\n",
       "\t<tr><td>2010</td><td>Google   </td><td> 29321</td><td> 8505</td></tr>\n",
       "\t<tr><td>2011</td><td>Google   </td><td> 37905</td><td> 9737</td></tr>\n",
       "\t<tr><td>2012</td><td>Google   </td><td> 50175</td><td>10737</td></tr>\n",
       "\t<tr><td>2010</td><td>Microsoft</td><td> 62484</td><td>18760</td></tr>\n",
       "\t<tr><td>2011</td><td>Microsoft</td><td> 69943</td><td>23150</td></tr>\n",
       "\t<tr><td>2012</td><td>Microsoft</td><td> 73723</td><td>16978</td></tr>\n",
       "</tbody>\n",
       "</table>\n"
      ],
      "text/latex": [
       "A data.frame: 9 x 4\n",
       "\\begin{tabular}{llll}\n",
       " Year & Company & Revenue & Profit\\\\\n",
       " <dbl> & <chr> & <dbl> & <dbl>\\\\\n",
       "\\hline\n",
       "\t 2010 & Apple     &  65225 & 14013\\\\\n",
       "\t 2011 & Apple     & 108249 & 25922\\\\\n",
       "\t 2012 & Apple     & 156508 & 41733\\\\\n",
       "\t 2010 & Google    &  29321 &  8505\\\\\n",
       "\t 2011 & Google    &  37905 &  9737\\\\\n",
       "\t 2012 & Google    &  50175 & 10737\\\\\n",
       "\t 2010 & Microsoft &  62484 & 18760\\\\\n",
       "\t 2011 & Microsoft &  69943 & 23150\\\\\n",
       "\t 2012 & Microsoft &  73723 & 16978\\\\\n",
       "\\end{tabular}\n"
      ],
      "text/markdown": [
       "\n",
       "A data.frame: 9 x 4\n",
       "\n",
       "| Year &lt;dbl&gt; | Company &lt;chr&gt; | Revenue &lt;dbl&gt; | Profit &lt;dbl&gt; |\n",
       "|---|---|---|---|\n",
       "| 2010 | Apple     |  65225 | 14013 |\n",
       "| 2011 | Apple     | 108249 | 25922 |\n",
       "| 2012 | Apple     | 156508 | 41733 |\n",
       "| 2010 | Google    |  29321 |  8505 |\n",
       "| 2011 | Google    |  37905 |  9737 |\n",
       "| 2012 | Google    |  50175 | 10737 |\n",
       "| 2010 | Microsoft |  62484 | 18760 |\n",
       "| 2011 | Microsoft |  69943 | 23150 |\n",
       "| 2012 | Microsoft |  73723 | 16978 |\n",
       "\n"
      ],
      "text/plain": [
       "  Year Company   Revenue Profit\n",
       "1 2010 Apple      65225  14013 \n",
       "2 2011 Apple     108249  25922 \n",
       "3 2012 Apple     156508  41733 \n",
       "4 2010 Google     29321   8505 \n",
       "5 2011 Google     37905   9737 \n",
       "6 2012 Google     50175  10737 \n",
       "7 2010 Microsoft  62484  18760 \n",
       "8 2011 Microsoft  69943  23150 \n",
       "9 2012 Microsoft  73723  16978 "
      ]
     },
     "metadata": {},
     "output_type": "display_data"
    }
   ],
   "source": [
    "df"
   ]
  },
  {
   "cell_type": "code",
   "execution_count": 16,
   "id": "c1f6077b-d201-4f68-be13-497656910a58",
   "metadata": {},
   "outputs": [
    {
     "data": {
      "text/html": [
       "<table class=\"dataframe\">\n",
       "<caption>A data.frame: 3 x 4</caption>\n",
       "<thead>\n",
       "\t<tr><th></th><th scope=col>Year</th><th scope=col>Company</th><th scope=col>Revenue</th><th scope=col>Profit</th></tr>\n",
       "\t<tr><th></th><th scope=col>&lt;dbl&gt;</th><th scope=col>&lt;chr&gt;</th><th scope=col>&lt;dbl&gt;</th><th scope=col>&lt;dbl&gt;</th></tr>\n",
       "</thead>\n",
       "<tbody>\n",
       "\t<tr><th scope=row>1</th><td>2010</td><td>Apple</td><td> 65225</td><td>14013</td></tr>\n",
       "\t<tr><th scope=row>2</th><td>2011</td><td>Apple</td><td>108249</td><td>25922</td></tr>\n",
       "\t<tr><th scope=row>3</th><td>2012</td><td>Apple</td><td>156508</td><td>41733</td></tr>\n",
       "</tbody>\n",
       "</table>\n"
      ],
      "text/latex": [
       "A data.frame: 3 x 4\n",
       "\\begin{tabular}{r|llll}\n",
       "  & Year & Company & Revenue & Profit\\\\\n",
       "  & <dbl> & <chr> & <dbl> & <dbl>\\\\\n",
       "\\hline\n",
       "\t1 & 2010 & Apple &  65225 & 14013\\\\\n",
       "\t2 & 2011 & Apple & 108249 & 25922\\\\\n",
       "\t3 & 2012 & Apple & 156508 & 41733\\\\\n",
       "\\end{tabular}\n"
      ],
      "text/markdown": [
       "\n",
       "A data.frame: 3 x 4\n",
       "\n",
       "| <!--/--> | Year &lt;dbl&gt; | Company &lt;chr&gt; | Revenue &lt;dbl&gt; | Profit &lt;dbl&gt; |\n",
       "|---|---|---|---|---|\n",
       "| 1 | 2010 | Apple |  65225 | 14013 |\n",
       "| 2 | 2011 | Apple | 108249 | 25922 |\n",
       "| 3 | 2012 | Apple | 156508 | 41733 |\n",
       "\n"
      ],
      "text/plain": [
       "  Year Company Revenue Profit\n",
       "1 2010 Apple    65225  14013 \n",
       "2 2011 Apple   108249  25922 \n",
       "3 2012 Apple   156508  41733 "
      ]
     },
     "metadata": {},
     "output_type": "display_data"
    }
   ],
   "source": [
    "df[1:3,]"
   ]
  },
  {
   "cell_type": "code",
   "execution_count": 18,
   "id": "4df26eae-2a49-48a5-b83b-b3cfca329f82",
   "metadata": {},
   "outputs": [
    {
     "data": {
      "text/html": [
       "<table class=\"dataframe\">\n",
       "<caption>A data.frame: 3 x 4</caption>\n",
       "<thead>\n",
       "\t<tr><th></th><th scope=col>Year</th><th scope=col>Company</th><th scope=col>Revenue</th><th scope=col>Profit</th></tr>\n",
       "\t<tr><th></th><th scope=col>&lt;dbl&gt;</th><th scope=col>&lt;chr&gt;</th><th scope=col>&lt;dbl&gt;</th><th scope=col>&lt;dbl&gt;</th></tr>\n",
       "</thead>\n",
       "<tbody>\n",
       "\t<tr><th scope=row>1</th><td>2010</td><td>Apple</td><td> 65225</td><td>14013</td></tr>\n",
       "\t<tr><th scope=row>2</th><td>2011</td><td>Apple</td><td>108249</td><td>25922</td></tr>\n",
       "\t<tr><th scope=row>3</th><td>2012</td><td>Apple</td><td>156508</td><td>41733</td></tr>\n",
       "</tbody>\n",
       "</table>\n"
      ],
      "text/latex": [
       "A data.frame: 3 x 4\n",
       "\\begin{tabular}{r|llll}\n",
       "  & Year & Company & Revenue & Profit\\\\\n",
       "  & <dbl> & <chr> & <dbl> & <dbl>\\\\\n",
       "\\hline\n",
       "\t1 & 2010 & Apple &  65225 & 14013\\\\\n",
       "\t2 & 2011 & Apple & 108249 & 25922\\\\\n",
       "\t3 & 2012 & Apple & 156508 & 41733\\\\\n",
       "\\end{tabular}\n"
      ],
      "text/markdown": [
       "\n",
       "A data.frame: 3 x 4\n",
       "\n",
       "| <!--/--> | Year &lt;dbl&gt; | Company &lt;chr&gt; | Revenue &lt;dbl&gt; | Profit &lt;dbl&gt; |\n",
       "|---|---|---|---|---|\n",
       "| 1 | 2010 | Apple |  65225 | 14013 |\n",
       "| 2 | 2011 | Apple | 108249 | 25922 |\n",
       "| 3 | 2012 | Apple | 156508 | 41733 |\n",
       "\n"
      ],
      "text/plain": [
       "  Year Company Revenue Profit\n",
       "1 2010 Apple    65225  14013 \n",
       "2 2011 Apple   108249  25922 \n",
       "3 2012 Apple   156508  41733 "
      ]
     },
     "metadata": {},
     "output_type": "display_data"
    }
   ],
   "source": [
    "head(df, 3)"
   ]
  },
  {
   "cell_type": "code",
   "execution_count": 20,
   "id": "91b30d3e-7164-4483-9cc7-016846a085e1",
   "metadata": {},
   "outputs": [
    {
     "data": {
      "text/html": [
       "<table class=\"dataframe\">\n",
       "<caption>A data.frame: 3 x 4</caption>\n",
       "<thead>\n",
       "\t<tr><th></th><th scope=col>Year</th><th scope=col>Company</th><th scope=col>Revenue</th><th scope=col>Profit</th></tr>\n",
       "\t<tr><th></th><th scope=col>&lt;dbl&gt;</th><th scope=col>&lt;chr&gt;</th><th scope=col>&lt;dbl&gt;</th><th scope=col>&lt;dbl&gt;</th></tr>\n",
       "</thead>\n",
       "<tbody>\n",
       "\t<tr><th scope=row>7</th><td>2010</td><td>Microsoft</td><td>62484</td><td>18760</td></tr>\n",
       "\t<tr><th scope=row>8</th><td>2011</td><td>Microsoft</td><td>69943</td><td>23150</td></tr>\n",
       "\t<tr><th scope=row>9</th><td>2012</td><td>Microsoft</td><td>73723</td><td>16978</td></tr>\n",
       "</tbody>\n",
       "</table>\n"
      ],
      "text/latex": [
       "A data.frame: 3 x 4\n",
       "\\begin{tabular}{r|llll}\n",
       "  & Year & Company & Revenue & Profit\\\\\n",
       "  & <dbl> & <chr> & <dbl> & <dbl>\\\\\n",
       "\\hline\n",
       "\t7 & 2010 & Microsoft & 62484 & 18760\\\\\n",
       "\t8 & 2011 & Microsoft & 69943 & 23150\\\\\n",
       "\t9 & 2012 & Microsoft & 73723 & 16978\\\\\n",
       "\\end{tabular}\n"
      ],
      "text/markdown": [
       "\n",
       "A data.frame: 3 x 4\n",
       "\n",
       "| <!--/--> | Year &lt;dbl&gt; | Company &lt;chr&gt; | Revenue &lt;dbl&gt; | Profit &lt;dbl&gt; |\n",
       "|---|---|---|---|---|\n",
       "| 7 | 2010 | Microsoft | 62484 | 18760 |\n",
       "| 8 | 2011 | Microsoft | 69943 | 23150 |\n",
       "| 9 | 2012 | Microsoft | 73723 | 16978 |\n",
       "\n"
      ],
      "text/plain": [
       "  Year Company   Revenue Profit\n",
       "7 2010 Microsoft 62484   18760 \n",
       "8 2011 Microsoft 69943   23150 \n",
       "9 2012 Microsoft 73723   16978 "
      ]
     },
     "metadata": {},
     "output_type": "display_data"
    }
   ],
   "source": [
    "tail(df,3)"
   ]
  },
  {
   "cell_type": "code",
   "execution_count": 25,
   "id": "7ab406c7-ceea-41a2-9b42-1616e014564a",
   "metadata": {},
   "outputs": [
    {
     "data": {
      "text/html": [
       "<table class=\"dataframe\">\n",
       "<caption>A data.frame: 3 x 4</caption>\n",
       "<thead>\n",
       "\t<tr><th></th><th scope=col>Year</th><th scope=col>Company</th><th scope=col>Revenue</th><th scope=col>Profit</th></tr>\n",
       "\t<tr><th></th><th scope=col>&lt;dbl&gt;</th><th scope=col>&lt;chr&gt;</th><th scope=col>&lt;dbl&gt;</th><th scope=col>&lt;dbl&gt;</th></tr>\n",
       "</thead>\n",
       "<tbody>\n",
       "\t<tr><th scope=row>1</th><td>2010</td><td>Apple</td><td> 65225</td><td>14013</td></tr>\n",
       "\t<tr><th scope=row>3</th><td>2012</td><td>Apple</td><td>156508</td><td>41733</td></tr>\n",
       "\t<tr><th scope=row>2</th><td>2011</td><td>Apple</td><td>108249</td><td>25922</td></tr>\n",
       "</tbody>\n",
       "</table>\n"
      ],
      "text/latex": [
       "A data.frame: 3 x 4\n",
       "\\begin{tabular}{r|llll}\n",
       "  & Year & Company & Revenue & Profit\\\\\n",
       "  & <dbl> & <chr> & <dbl> & <dbl>\\\\\n",
       "\\hline\n",
       "\t1 & 2010 & Apple &  65225 & 14013\\\\\n",
       "\t3 & 2012 & Apple & 156508 & 41733\\\\\n",
       "\t2 & 2011 & Apple & 108249 & 25922\\\\\n",
       "\\end{tabular}\n"
      ],
      "text/markdown": [
       "\n",
       "A data.frame: 3 x 4\n",
       "\n",
       "| <!--/--> | Year &lt;dbl&gt; | Company &lt;chr&gt; | Revenue &lt;dbl&gt; | Profit &lt;dbl&gt; |\n",
       "|---|---|---|---|---|\n",
       "| 1 | 2010 | Apple |  65225 | 14013 |\n",
       "| 3 | 2012 | Apple | 156508 | 41733 |\n",
       "| 2 | 2011 | Apple | 108249 | 25922 |\n",
       "\n"
      ],
      "text/plain": [
       "  Year Company Revenue Profit\n",
       "1 2010 Apple    65225  14013 \n",
       "3 2012 Apple   156508  41733 \n",
       "2 2011 Apple   108249  25922 "
      ]
     },
     "metadata": {},
     "output_type": "display_data"
    }
   ],
   "source": [
    "df[c(1,3,2), ]"
   ]
  },
  {
   "cell_type": "markdown",
   "id": "430f2234-c571-49b4-bd59-d3927df34e38",
   "metadata": {},
   "source": [
    "#### 2. Інформацію про назву компанії перетворити у тип factor."
   ]
  },
  {
   "cell_type": "code",
   "execution_count": 27,
   "id": "7984526a-f8f4-46ca-be0b-2b3e32309412",
   "metadata": {},
   "outputs": [
    {
     "data": {
      "text/html": [
       "<table class=\"dataframe\">\n",
       "<caption>A data.frame: 2 x 4</caption>\n",
       "<thead>\n",
       "\t<tr><th></th><th scope=col>Year</th><th scope=col>Company</th><th scope=col>Revenue</th><th scope=col>Profit</th></tr>\n",
       "\t<tr><th></th><th scope=col>&lt;dbl&gt;</th><th scope=col>&lt;fct&gt;</th><th scope=col>&lt;dbl&gt;</th><th scope=col>&lt;dbl&gt;</th></tr>\n",
       "</thead>\n",
       "<tbody>\n",
       "\t<tr><th scope=row>1</th><td>2010</td><td>Apple</td><td> 65225</td><td>14013</td></tr>\n",
       "\t<tr><th scope=row>2</th><td>2011</td><td>Apple</td><td>108249</td><td>25922</td></tr>\n",
       "</tbody>\n",
       "</table>\n"
      ],
      "text/latex": [
       "A data.frame: 2 x 4\n",
       "\\begin{tabular}{r|llll}\n",
       "  & Year & Company & Revenue & Profit\\\\\n",
       "  & <dbl> & <fct> & <dbl> & <dbl>\\\\\n",
       "\\hline\n",
       "\t1 & 2010 & Apple &  65225 & 14013\\\\\n",
       "\t2 & 2011 & Apple & 108249 & 25922\\\\\n",
       "\\end{tabular}\n"
      ],
      "text/markdown": [
       "\n",
       "A data.frame: 2 x 4\n",
       "\n",
       "| <!--/--> | Year &lt;dbl&gt; | Company &lt;fct&gt; | Revenue &lt;dbl&gt; | Profit &lt;dbl&gt; |\n",
       "|---|---|---|---|---|\n",
       "| 1 | 2010 | Apple |  65225 | 14013 |\n",
       "| 2 | 2011 | Apple | 108249 | 25922 |\n",
       "\n"
      ],
      "text/plain": [
       "  Year Company Revenue Profit\n",
       "1 2010 Apple    65225  14013 \n",
       "2 2011 Apple   108249  25922 "
      ]
     },
     "metadata": {},
     "output_type": "display_data"
    }
   ],
   "source": [
    "df$Company <- as.factor(df$Company)\n",
    "head(df, 2)"
   ]
  },
  {
   "cell_type": "markdown",
   "id": "ec026ddc-e6f5-45b3-9fec-976d27adc1a7",
   "metadata": {},
   "source": [
    "#### 3. Перегляньте структуру сформованого набору даних (`str()`)."
   ]
  },
  {
   "cell_type": "code",
   "execution_count": 31,
   "id": "9e5aa580-ef3b-4635-95e4-71b1967dd1d9",
   "metadata": {},
   "outputs": [
    {
     "name": "stdout",
     "output_type": "stream",
     "text": [
      "'data.frame':\t9 obs. of  4 variables:\n",
      " $ Year   : num  2010 2011 2012 2010 2011 ...\n",
      " $ Company: chr  \"Apple\" \"Apple\" \"Apple\" \"Google\" ...\n",
      " $ Revenue: num  65225 108249 156508 29321 37905 ...\n",
      " $ Profit : num  14013 25922 41733 8505 9737 ...\n"
     ]
    }
   ],
   "source": [
    "str(df)"
   ]
  },
  {
   "cell_type": "markdown",
   "id": "2fca6e80-22d3-4064-bb6b-a03100814d9e",
   "metadata": {},
   "source": [
    "#### 4. Відсортуйте дані за роками."
   ]
  },
  {
   "cell_type": "code",
   "execution_count": 39,
   "id": "3476805a-eb48-42fb-b4cd-423d61b3e24f",
   "metadata": {},
   "outputs": [
    {
     "data": {
      "text/html": [
       "<table class=\"dataframe\">\n",
       "<caption>A data.frame: 3 x 4</caption>\n",
       "<thead>\n",
       "\t<tr><th></th><th scope=col>Year</th><th scope=col>Company</th><th scope=col>Revenue</th><th scope=col>Profit</th></tr>\n",
       "\t<tr><th></th><th scope=col>&lt;dbl&gt;</th><th scope=col>&lt;chr&gt;</th><th scope=col>&lt;dbl&gt;</th><th scope=col>&lt;dbl&gt;</th></tr>\n",
       "</thead>\n",
       "<tbody>\n",
       "\t<tr><th scope=row>1</th><td>2010</td><td>Apple    </td><td>65225</td><td>14013</td></tr>\n",
       "\t<tr><th scope=row>4</th><td>2010</td><td>Google   </td><td>29321</td><td> 8505</td></tr>\n",
       "\t<tr><th scope=row>7</th><td>2010</td><td>Microsoft</td><td>62484</td><td>18760</td></tr>\n",
       "</tbody>\n",
       "</table>\n"
      ],
      "text/latex": [
       "A data.frame: 3 x 4\n",
       "\\begin{tabular}{r|llll}\n",
       "  & Year & Company & Revenue & Profit\\\\\n",
       "  & <dbl> & <chr> & <dbl> & <dbl>\\\\\n",
       "\\hline\n",
       "\t1 & 2010 & Apple     & 65225 & 14013\\\\\n",
       "\t4 & 2010 & Google    & 29321 &  8505\\\\\n",
       "\t7 & 2010 & Microsoft & 62484 & 18760\\\\\n",
       "\\end{tabular}\n"
      ],
      "text/markdown": [
       "\n",
       "A data.frame: 3 x 4\n",
       "\n",
       "| <!--/--> | Year &lt;dbl&gt; | Company &lt;chr&gt; | Revenue &lt;dbl&gt; | Profit &lt;dbl&gt; |\n",
       "|---|---|---|---|---|\n",
       "| 1 | 2010 | Apple     | 65225 | 14013 |\n",
       "| 4 | 2010 | Google    | 29321 |  8505 |\n",
       "| 7 | 2010 | Microsoft | 62484 | 18760 |\n",
       "\n"
      ],
      "text/plain": [
       "  Year Company   Revenue Profit\n",
       "1 2010 Apple     65225   14013 \n",
       "4 2010 Google    29321    8505 \n",
       "7 2010 Microsoft 62484   18760 "
      ]
     },
     "metadata": {},
     "output_type": "display_data"
    }
   ],
   "source": [
    "df <- df[order(df$Year),]\n",
    "head(df,3)"
   ]
  },
  {
   "cell_type": "markdown",
   "id": "d8905ac8-1762-4d4a-b5be-dd0bb287747e",
   "metadata": {},
   "source": [
    "#### 5. Додайте інформацію про маржу (margin) до набору даних ((profit / revenue) * 100)."
   ]
  },
  {
   "cell_type": "code",
   "execution_count": 41,
   "id": "9bf1a693-8961-4abf-a65a-1383fd4ee354",
   "metadata": {},
   "outputs": [
    {
     "data": {
      "text/html": [
       "<table class=\"dataframe\">\n",
       "<caption>A data.frame: 3 x 5</caption>\n",
       "<thead>\n",
       "\t<tr><th></th><th scope=col>Year</th><th scope=col>Company</th><th scope=col>Revenue</th><th scope=col>Profit</th><th scope=col>Margin</th></tr>\n",
       "\t<tr><th></th><th scope=col>&lt;dbl&gt;</th><th scope=col>&lt;chr&gt;</th><th scope=col>&lt;dbl&gt;</th><th scope=col>&lt;dbl&gt;</th><th scope=col>&lt;dbl&gt;</th></tr>\n",
       "</thead>\n",
       "<tbody>\n",
       "\t<tr><th scope=row>1</th><td>2010</td><td>Apple    </td><td>65225</td><td>14013</td><td>21.48409</td></tr>\n",
       "\t<tr><th scope=row>4</th><td>2010</td><td>Google   </td><td>29321</td><td> 8505</td><td>29.00651</td></tr>\n",
       "\t<tr><th scope=row>7</th><td>2010</td><td>Microsoft</td><td>62484</td><td>18760</td><td>30.02369</td></tr>\n",
       "</tbody>\n",
       "</table>\n"
      ],
      "text/latex": [
       "A data.frame: 3 x 5\n",
       "\\begin{tabular}{r|lllll}\n",
       "  & Year & Company & Revenue & Profit & Margin\\\\\n",
       "  & <dbl> & <chr> & <dbl> & <dbl> & <dbl>\\\\\n",
       "\\hline\n",
       "\t1 & 2010 & Apple     & 65225 & 14013 & 21.48409\\\\\n",
       "\t4 & 2010 & Google    & 29321 &  8505 & 29.00651\\\\\n",
       "\t7 & 2010 & Microsoft & 62484 & 18760 & 30.02369\\\\\n",
       "\\end{tabular}\n"
      ],
      "text/markdown": [
       "\n",
       "A data.frame: 3 x 5\n",
       "\n",
       "| <!--/--> | Year &lt;dbl&gt; | Company &lt;chr&gt; | Revenue &lt;dbl&gt; | Profit &lt;dbl&gt; | Margin &lt;dbl&gt; |\n",
       "|---|---|---|---|---|---|\n",
       "| 1 | 2010 | Apple     | 65225 | 14013 | 21.48409 |\n",
       "| 4 | 2010 | Google    | 29321 |  8505 | 29.00651 |\n",
       "| 7 | 2010 | Microsoft | 62484 | 18760 | 30.02369 |\n",
       "\n"
      ],
      "text/plain": [
       "  Year Company   Revenue Profit Margin  \n",
       "1 2010 Apple     65225   14013  21.48409\n",
       "4 2010 Google    29321    8505  29.00651\n",
       "7 2010 Microsoft 62484   18760  30.02369"
      ]
     },
     "metadata": {},
     "output_type": "display_data"
    }
   ],
   "source": [
    "df$Margin <- 100*(df$Profit/df$Revenue) \n",
    "head(df, 3)"
   ]
  },
  {
   "cell_type": "markdown",
   "id": "bd0ea7fb-31f1-484d-8843-68331f4432c5",
   "metadata": {},
   "source": [
    "### 7*. Розділити дані за роками та знайти середні значення прибуктів по роках"
   ]
  },
  {
   "cell_type": "code",
   "execution_count": 46,
   "id": "f74d1891-845a-4274-b487-345451aaf622",
   "metadata": {},
   "outputs": [
    {
     "data": {
      "text/html": [
       "<table class=\"dataframe\">\n",
       "<caption>A data.frame: 3 x 5</caption>\n",
       "<thead>\n",
       "\t<tr><th></th><th scope=col>Year</th><th scope=col>Company</th><th scope=col>Revenue</th><th scope=col>Profit</th><th scope=col>Margin</th></tr>\n",
       "\t<tr><th></th><th scope=col>&lt;dbl&gt;</th><th scope=col>&lt;chr&gt;</th><th scope=col>&lt;dbl&gt;</th><th scope=col>&lt;dbl&gt;</th><th scope=col>&lt;dbl&gt;</th></tr>\n",
       "</thead>\n",
       "<tbody>\n",
       "\t<tr><th scope=row>3</th><td>2012</td><td>Apple    </td><td>156508</td><td>41733</td><td>26.66509</td></tr>\n",
       "\t<tr><th scope=row>6</th><td>2012</td><td>Google   </td><td> 50175</td><td>10737</td><td>21.39910</td></tr>\n",
       "\t<tr><th scope=row>9</th><td>2012</td><td>Microsoft</td><td> 73723</td><td>16978</td><td>23.02945</td></tr>\n",
       "</tbody>\n",
       "</table>\n"
      ],
      "text/latex": [
       "A data.frame: 3 x 5\n",
       "\\begin{tabular}{r|lllll}\n",
       "  & Year & Company & Revenue & Profit & Margin\\\\\n",
       "  & <dbl> & <chr> & <dbl> & <dbl> & <dbl>\\\\\n",
       "\\hline\n",
       "\t3 & 2012 & Apple     & 156508 & 41733 & 26.66509\\\\\n",
       "\t6 & 2012 & Google    &  50175 & 10737 & 21.39910\\\\\n",
       "\t9 & 2012 & Microsoft &  73723 & 16978 & 23.02945\\\\\n",
       "\\end{tabular}\n"
      ],
      "text/markdown": [
       "\n",
       "A data.frame: 3 x 5\n",
       "\n",
       "| <!--/--> | Year &lt;dbl&gt; | Company &lt;chr&gt; | Revenue &lt;dbl&gt; | Profit &lt;dbl&gt; | Margin &lt;dbl&gt; |\n",
       "|---|---|---|---|---|---|\n",
       "| 3 | 2012 | Apple     | 156508 | 41733 | 26.66509 |\n",
       "| 6 | 2012 | Google    |  50175 | 10737 | 21.39910 |\n",
       "| 9 | 2012 | Microsoft |  73723 | 16978 | 23.02945 |\n",
       "\n"
      ],
      "text/plain": [
       "  Year Company   Revenue Profit Margin  \n",
       "3 2012 Apple     156508  41733  26.66509\n",
       "6 2012 Google     50175  10737  21.39910\n",
       "9 2012 Microsoft  73723  16978  23.02945"
      ]
     },
     "metadata": {},
     "output_type": "display_data"
    }
   ],
   "source": [
    "df[df$Year == 2012,]"
   ]
  },
  {
   "cell_type": "code",
   "execution_count": 51,
   "id": "ce8da2af-c1de-43b8-8586-3fd4bc291b40",
   "metadata": {},
   "outputs": [
    {
     "data": {
      "text/html": [
       "23149.3333333333"
      ],
      "text/latex": [
       "23149.3333333333"
      ],
      "text/markdown": [
       "23149.3333333333"
      ],
      "text/plain": [
       "[1] 23149.33"
      ]
     },
     "metadata": {},
     "output_type": "display_data"
    }
   ],
   "source": [
    "mean(df[df$Year == 2012, 4])"
   ]
  },
  {
   "cell_type": "code",
   "execution_count": 53,
   "id": "7669f59d-f0ab-41ae-bf35-534b8d72f0b1",
   "metadata": {},
   "outputs": [
    {
     "data": {
      "text/html": [
       "23149.3333333333"
      ],
      "text/latex": [
       "23149.3333333333"
      ],
      "text/markdown": [
       "23149.3333333333"
      ],
      "text/plain": [
       "[1] 23149.33"
      ]
     },
     "metadata": {},
     "output_type": "display_data"
    }
   ],
   "source": [
    "mean(df[df$Year == 2012, \"Profit\"])"
   ]
  },
  {
   "cell_type": "markdown",
   "id": "34ad12e3-0f20-4b78-be16-6e5f7095b3d6",
   "metadata": {},
   "source": [
    "#### 8* Написати функцію, що знаходить запис з максимальною маржею за усі роки. "
   ]
  },
  {
   "cell_type": "code",
   "execution_count": 55,
   "id": "b06e0823-36fe-4688-b2e1-086d77389857",
   "metadata": {},
   "outputs": [
    {
     "data": {
      "text/html": [
       "<table class=\"dataframe\">\n",
       "<caption>A data.frame: 9 x 5</caption>\n",
       "<thead>\n",
       "\t<tr><th></th><th scope=col>Year</th><th scope=col>Company</th><th scope=col>Revenue</th><th scope=col>Profit</th><th scope=col>Margin</th></tr>\n",
       "\t<tr><th></th><th scope=col>&lt;dbl&gt;</th><th scope=col>&lt;chr&gt;</th><th scope=col>&lt;dbl&gt;</th><th scope=col>&lt;dbl&gt;</th><th scope=col>&lt;dbl&gt;</th></tr>\n",
       "</thead>\n",
       "<tbody>\n",
       "\t<tr><th scope=row>1</th><td>2010</td><td>Apple    </td><td> 65225</td><td>14013</td><td>21.48409</td></tr>\n",
       "\t<tr><th scope=row>4</th><td>2010</td><td>Google   </td><td> 29321</td><td> 8505</td><td>29.00651</td></tr>\n",
       "\t<tr><th scope=row>7</th><td>2010</td><td>Microsoft</td><td> 62484</td><td>18760</td><td>30.02369</td></tr>\n",
       "\t<tr><th scope=row>2</th><td>2011</td><td>Apple    </td><td>108249</td><td>25922</td><td>23.94664</td></tr>\n",
       "\t<tr><th scope=row>5</th><td>2011</td><td>Google   </td><td> 37905</td><td> 9737</td><td>25.68790</td></tr>\n",
       "\t<tr><th scope=row>8</th><td>2011</td><td>Microsoft</td><td> 69943</td><td>23150</td><td>33.09838</td></tr>\n",
       "\t<tr><th scope=row>3</th><td>2012</td><td>Apple    </td><td>156508</td><td>41733</td><td>26.66509</td></tr>\n",
       "\t<tr><th scope=row>6</th><td>2012</td><td>Google   </td><td> 50175</td><td>10737</td><td>21.39910</td></tr>\n",
       "\t<tr><th scope=row>9</th><td>2012</td><td>Microsoft</td><td> 73723</td><td>16978</td><td>23.02945</td></tr>\n",
       "</tbody>\n",
       "</table>\n"
      ],
      "text/latex": [
       "A data.frame: 9 x 5\n",
       "\\begin{tabular}{r|lllll}\n",
       "  & Year & Company & Revenue & Profit & Margin\\\\\n",
       "  & <dbl> & <chr> & <dbl> & <dbl> & <dbl>\\\\\n",
       "\\hline\n",
       "\t1 & 2010 & Apple     &  65225 & 14013 & 21.48409\\\\\n",
       "\t4 & 2010 & Google    &  29321 &  8505 & 29.00651\\\\\n",
       "\t7 & 2010 & Microsoft &  62484 & 18760 & 30.02369\\\\\n",
       "\t2 & 2011 & Apple     & 108249 & 25922 & 23.94664\\\\\n",
       "\t5 & 2011 & Google    &  37905 &  9737 & 25.68790\\\\\n",
       "\t8 & 2011 & Microsoft &  69943 & 23150 & 33.09838\\\\\n",
       "\t3 & 2012 & Apple     & 156508 & 41733 & 26.66509\\\\\n",
       "\t6 & 2012 & Google    &  50175 & 10737 & 21.39910\\\\\n",
       "\t9 & 2012 & Microsoft &  73723 & 16978 & 23.02945\\\\\n",
       "\\end{tabular}\n"
      ],
      "text/markdown": [
       "\n",
       "A data.frame: 9 x 5\n",
       "\n",
       "| <!--/--> | Year &lt;dbl&gt; | Company &lt;chr&gt; | Revenue &lt;dbl&gt; | Profit &lt;dbl&gt; | Margin &lt;dbl&gt; |\n",
       "|---|---|---|---|---|---|\n",
       "| 1 | 2010 | Apple     |  65225 | 14013 | 21.48409 |\n",
       "| 4 | 2010 | Google    |  29321 |  8505 | 29.00651 |\n",
       "| 7 | 2010 | Microsoft |  62484 | 18760 | 30.02369 |\n",
       "| 2 | 2011 | Apple     | 108249 | 25922 | 23.94664 |\n",
       "| 5 | 2011 | Google    |  37905 |  9737 | 25.68790 |\n",
       "| 8 | 2011 | Microsoft |  69943 | 23150 | 33.09838 |\n",
       "| 3 | 2012 | Apple     | 156508 | 41733 | 26.66509 |\n",
       "| 6 | 2012 | Google    |  50175 | 10737 | 21.39910 |\n",
       "| 9 | 2012 | Microsoft |  73723 | 16978 | 23.02945 |\n",
       "\n"
      ],
      "text/plain": [
       "  Year Company   Revenue Profit Margin  \n",
       "1 2010 Apple      65225  14013  21.48409\n",
       "4 2010 Google     29321   8505  29.00651\n",
       "7 2010 Microsoft  62484  18760  30.02369\n",
       "2 2011 Apple     108249  25922  23.94664\n",
       "5 2011 Google     37905   9737  25.68790\n",
       "8 2011 Microsoft  69943  23150  33.09838\n",
       "3 2012 Apple     156508  41733  26.66509\n",
       "6 2012 Google     50175  10737  21.39910\n",
       "9 2012 Microsoft  73723  16978  23.02945"
      ]
     },
     "metadata": {},
     "output_type": "display_data"
    }
   ],
   "source": [
    "df"
   ]
  },
  {
   "cell_type": "code",
   "execution_count": 70,
   "id": "32f4fab7-981c-46d6-8f99-aaa05160a073",
   "metadata": {},
   "outputs": [],
   "source": [
    "find_max_margin <- function(df_with_margin) {\n",
    "    max_margin <- max(df_with_margin$Margin)\n",
    "    df_with_margin[df_with_margin$Margin == max_margin,]\n",
    "}"
   ]
  },
  {
   "cell_type": "code",
   "execution_count": 69,
   "id": "aadacd16-2d20-4186-b207-93dd5c6176e8",
   "metadata": {},
   "outputs": [
    {
     "data": {
      "text/html": [
       "<table class=\"dataframe\">\n",
       "<caption>A data.frame: 1 x 5</caption>\n",
       "<thead>\n",
       "\t<tr><th></th><th scope=col>Year</th><th scope=col>Company</th><th scope=col>Revenue</th><th scope=col>Profit</th><th scope=col>Margin</th></tr>\n",
       "\t<tr><th></th><th scope=col>&lt;dbl&gt;</th><th scope=col>&lt;chr&gt;</th><th scope=col>&lt;dbl&gt;</th><th scope=col>&lt;dbl&gt;</th><th scope=col>&lt;dbl&gt;</th></tr>\n",
       "</thead>\n",
       "<tbody>\n",
       "\t<tr><th scope=row>8</th><td>2011</td><td>Microsoft</td><td>69943</td><td>23150</td><td>33.09838</td></tr>\n",
       "</tbody>\n",
       "</table>\n"
      ],
      "text/latex": [
       "A data.frame: 1 x 5\n",
       "\\begin{tabular}{r|lllll}\n",
       "  & Year & Company & Revenue & Profit & Margin\\\\\n",
       "  & <dbl> & <chr> & <dbl> & <dbl> & <dbl>\\\\\n",
       "\\hline\n",
       "\t8 & 2011 & Microsoft & 69943 & 23150 & 33.09838\\\\\n",
       "\\end{tabular}\n"
      ],
      "text/markdown": [
       "\n",
       "A data.frame: 1 x 5\n",
       "\n",
       "| <!--/--> | Year &lt;dbl&gt; | Company &lt;chr&gt; | Revenue &lt;dbl&gt; | Profit &lt;dbl&gt; | Margin &lt;dbl&gt; |\n",
       "|---|---|---|---|---|---|\n",
       "| 8 | 2011 | Microsoft | 69943 | 23150 | 33.09838 |\n",
       "\n"
      ],
      "text/plain": [
       "  Year Company   Revenue Profit Margin  \n",
       "8 2011 Microsoft 69943   23150  33.09838"
      ]
     },
     "metadata": {},
     "output_type": "display_data"
    }
   ],
   "source": [
    "find_max_margin(df)"
   ]
  },
  {
   "cell_type": "code",
   "execution_count": 66,
   "id": "531d0b93-e313-4e2b-9183-b2231b49bcdd",
   "metadata": {},
   "outputs": [],
   "source": [
    "find_min_margin <- function(df_with_margin) {\n",
    "    min_margin <- min(df_with_margin$Margin)\n",
    "    df_with_margin[df_with_margin$Margin == min_margin,]\n",
    "}"
   ]
  },
  {
   "cell_type": "code",
   "execution_count": 67,
   "id": "92b62d0b-0230-4c64-9e46-7ffa4c068632",
   "metadata": {},
   "outputs": [
    {
     "data": {
      "text/html": [
       "<table class=\"dataframe\">\n",
       "<caption>A data.frame: 1 x 5</caption>\n",
       "<thead>\n",
       "\t<tr><th></th><th scope=col>Year</th><th scope=col>Company</th><th scope=col>Revenue</th><th scope=col>Profit</th><th scope=col>Margin</th></tr>\n",
       "\t<tr><th></th><th scope=col>&lt;dbl&gt;</th><th scope=col>&lt;chr&gt;</th><th scope=col>&lt;dbl&gt;</th><th scope=col>&lt;dbl&gt;</th><th scope=col>&lt;dbl&gt;</th></tr>\n",
       "</thead>\n",
       "<tbody>\n",
       "\t<tr><th scope=row>6</th><td>2012</td><td>Google</td><td>50175</td><td>10737</td><td>21.3991</td></tr>\n",
       "</tbody>\n",
       "</table>\n"
      ],
      "text/latex": [
       "A data.frame: 1 x 5\n",
       "\\begin{tabular}{r|lllll}\n",
       "  & Year & Company & Revenue & Profit & Margin\\\\\n",
       "  & <dbl> & <chr> & <dbl> & <dbl> & <dbl>\\\\\n",
       "\\hline\n",
       "\t6 & 2012 & Google & 50175 & 10737 & 21.3991\\\\\n",
       "\\end{tabular}\n"
      ],
      "text/markdown": [
       "\n",
       "A data.frame: 1 x 5\n",
       "\n",
       "| <!--/--> | Year &lt;dbl&gt; | Company &lt;chr&gt; | Revenue &lt;dbl&gt; | Profit &lt;dbl&gt; | Margin &lt;dbl&gt; |\n",
       "|---|---|---|---|---|---|\n",
       "| 6 | 2012 | Google | 50175 | 10737 | 21.3991 |\n",
       "\n"
      ],
      "text/plain": [
       "  Year Company Revenue Profit Margin \n",
       "6 2012 Google  50175   10737  21.3991"
      ]
     },
     "metadata": {},
     "output_type": "display_data"
    }
   ],
   "source": [
    "find_min_margin(df)"
   ]
  },
  {
   "cell_type": "code",
   "execution_count": null,
   "id": "7afaf33a-79dd-4575-86fa-0784137bec1c",
   "metadata": {},
   "outputs": [],
   "source": []
  }
 ],
 "metadata": {
  "kernelspec": {
   "display_name": "R",
   "language": "R",
   "name": "ir"
  },
  "language_info": {
   "codemirror_mode": "r",
   "file_extension": ".r",
   "mimetype": "text/x-r-source",
   "name": "R",
   "pygments_lexer": "r",
   "version": "4.1.3"
  }
 },
 "nbformat": 4,
 "nbformat_minor": 5
}
