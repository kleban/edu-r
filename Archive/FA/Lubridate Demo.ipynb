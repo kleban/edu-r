{
 "cells": [
  {
   "cell_type": "markdown",
   "id": "5bf851d0-6a64-42b7-84c5-42ea07175680",
   "metadata": {},
   "source": [
    "# Lubridate"
   ]
  },
  {
   "cell_type": "code",
   "execution_count": 3,
   "id": "b7f7aa92-19ab-4d80-b31b-d2d2f12c008d",
   "metadata": {},
   "outputs": [
    {
     "name": "stderr",
     "output_type": "stream",
     "text": [
      "Warning message:\n",
      "\"package 'lubridate' is in use and will not be installed\"\n"
     ]
    }
   ],
   "source": [
    "install.packages(\"lubridate\")"
   ]
  },
  {
   "cell_type": "code",
   "execution_count": 2,
   "id": "c2bc0e59-a687-40d0-970f-a1927b28f8d3",
   "metadata": {},
   "outputs": [],
   "source": [
    "library(lubridate)"
   ]
  }
 ],
 "metadata": {
  "kernelspec": {
   "display_name": "R",
   "language": "R",
   "name": "ir"
  },
  "language_info": {
   "codemirror_mode": "r",
   "file_extension": ".r",
   "mimetype": "text/x-r-source",
   "name": "R",
   "pygments_lexer": "r",
   "version": "4.1.3"
  }
 },
 "nbformat": 4,
 "nbformat_minor": 5
}
