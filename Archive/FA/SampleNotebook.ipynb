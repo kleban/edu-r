{
 "cells": [
  {
   "cell_type": "markdown",
   "id": "6891b742-3258-4fa8-9510-ca00fc9c89ea",
   "metadata": {},
   "source": [
    "# Заголовок документа"
   ]
  },
  {
   "cell_type": "markdown",
   "id": "fa380915-324e-444e-bc58-9ace6a25d84a",
   "metadata": {},
   "source": [
    "## Розділ 1\n",
    "### Підрозділ 1.1.\n",
    "####\n",
    "#####\n",
    "######"
   ]
  },
  {
   "cell_type": "markdown",
   "id": "0d5bbf10-2ec5-42ed-8771-cccb56f2537d",
   "metadata": {},
   "source": [
    "_Lorem Ipsum_ - це текст-\"риба\", $x^2+c=5$ що використовується в **друкарстві та дизайні**. Lorem Ipsum є, фактично, стандартною \"рибою\" аж з XVI сторіччя, коли невідомий друкар взяв шрифтову гранку та склав на ній підбірку зразків шрифтів. \"Риба\" не тільки успішно пережила п'ять століть, але й прижилася в електронному верстуванні, залишаючись по суті незмінною. Вона популяризувалась в 60-их роках минулого сторіччя завдяки виданню зразків шрифтів Letraset, які містили уривки з Lorem Ipsum, і вдруге - нещодавно завдяки програмам комп'ютерного верстування на кшталт Aldus Pagemaker, які використовували різні версії Lorem Ipsum."
   ]
  },
  {
   "cell_type": "markdown",
   "id": "32564276-1f35-4aab-9f52-630064cae613",
   "metadata": {},
   "source": [
    "![Data Analysis](https://learnerbits.com/wp-content/uploads/2023/10/data-analysis-1024x576.webp)"
   ]
  },
  {
   "cell_type": "code",
   "execution_count": 1,
   "id": "be83237a-ff3a-47e5-992b-34c5e113ec03",
   "metadata": {},
   "outputs": [
    {
     "name": "stderr",
     "output_type": "stream",
     "text": [
      "Warning message in read.table(file = file, header = header, sep = sep, quote = quote, :\n",
      "\"incomplete final line found by readTableHeader on 'source/data.csv'\"\n"
     ]
    }
   ],
   "source": [
    "data <- read.csv(\"source/data.csv\")"
   ]
  },
  {
   "cell_type": "code",
   "execution_count": 2,
   "id": "a170afac-9c49-4076-b286-32e64b207cb9",
   "metadata": {},
   "outputs": [
    {
     "data": {
      "text/html": [
       "<table class=\"dataframe\">\n",
       "<caption>A data.frame: 3 x 3</caption>\n",
       "<thead>\n",
       "\t<tr><th scope=col>id</th><th scope=col>client_name</th><th scope=col>amount</th></tr>\n",
       "\t<tr><th scope=col>&lt;int&gt;</th><th scope=col>&lt;chr&gt;</th><th scope=col>&lt;int&gt;</th></tr>\n",
       "</thead>\n",
       "<tbody>\n",
       "\t<tr><td>1</td><td>John</td><td> 254</td></tr>\n",
       "\t<tr><td>2</td><td>Olha</td><td> 147</td></tr>\n",
       "\t<tr><td>3</td><td>Ivan</td><td>4784</td></tr>\n",
       "</tbody>\n",
       "</table>\n"
      ],
      "text/latex": [
       "A data.frame: 3 x 3\n",
       "\\begin{tabular}{lll}\n",
       " id & client\\_name & amount\\\\\n",
       " <int> & <chr> & <int>\\\\\n",
       "\\hline\n",
       "\t 1 & John &  254\\\\\n",
       "\t 2 & Olha &  147\\\\\n",
       "\t 3 & Ivan & 4784\\\\\n",
       "\\end{tabular}\n"
      ],
      "text/markdown": [
       "\n",
       "A data.frame: 3 x 3\n",
       "\n",
       "| id &lt;int&gt; | client_name &lt;chr&gt; | amount &lt;int&gt; |\n",
       "|---|---|---|\n",
       "| 1 | John |  254 |\n",
       "| 2 | Olha |  147 |\n",
       "| 3 | Ivan | 4784 |\n",
       "\n"
      ],
      "text/plain": [
       "  id client_name amount\n",
       "1 1  John         254  \n",
       "2 2  Olha         147  \n",
       "3 3  Ivan        4784  "
      ]
     },
     "metadata": {},
     "output_type": "display_data"
    }
   ],
   "source": [
    "data"
   ]
  },
  {
   "cell_type": "code",
   "execution_count": 3,
   "id": "7db7d7f8-c4d0-4535-9c71-816a859a826e",
   "metadata": {},
   "outputs": [
    {
     "data": {
      "text/html": [
       "<table class=\"dataframe\">\n",
       "<caption>A data.frame: 1 x 3</caption>\n",
       "<thead>\n",
       "\t<tr><th></th><th scope=col>id</th><th scope=col>client_name</th><th scope=col>amount</th></tr>\n",
       "\t<tr><th></th><th scope=col>&lt;int&gt;</th><th scope=col>&lt;chr&gt;</th><th scope=col>&lt;int&gt;</th></tr>\n",
       "</thead>\n",
       "<tbody>\n",
       "\t<tr><th scope=row>3</th><td>3</td><td>Ivan</td><td>4784</td></tr>\n",
       "</tbody>\n",
       "</table>\n"
      ],
      "text/latex": [
       "A data.frame: 1 x 3\n",
       "\\begin{tabular}{r|lll}\n",
       "  & id & client\\_name & amount\\\\\n",
       "  & <int> & <chr> & <int>\\\\\n",
       "\\hline\n",
       "\t3 & 3 & Ivan & 4784\\\\\n",
       "\\end{tabular}\n"
      ],
      "text/markdown": [
       "\n",
       "A data.frame: 1 x 3\n",
       "\n",
       "| <!--/--> | id &lt;int&gt; | client_name &lt;chr&gt; | amount &lt;int&gt; |\n",
       "|---|---|---|---|\n",
       "| 3 | 3 | Ivan | 4784 |\n",
       "\n"
      ],
      "text/plain": [
       "  id client_name amount\n",
       "3 3  Ivan        4784  "
      ]
     },
     "metadata": {},
     "output_type": "display_data"
    }
   ],
   "source": [
    "data[max(data$amount) == data$amount, ]"
   ]
  },
  {
   "cell_type": "code",
   "execution_count": null,
   "id": "560b6d04-2c33-4ed4-8b58-8370d8d388d5",
   "metadata": {},
   "outputs": [],
   "source": []
  },
  {
   "cell_type": "code",
   "execution_count": null,
   "id": "483c8c40-51a6-4ad1-a48b-ff1dffca13f7",
   "metadata": {},
   "outputs": [],
   "source": []
  },
  {
   "cell_type": "code",
   "execution_count": null,
   "id": "230337cc-7c91-459f-8102-65c208be7363",
   "metadata": {},
   "outputs": [],
   "source": []
  },
  {
   "cell_type": "code",
   "execution_count": null,
   "id": "ff9e9fce-38e9-4b2f-9054-505146ed1024",
   "metadata": {},
   "outputs": [],
   "source": []
  }
 ],
 "metadata": {
  "kernelspec": {
   "display_name": "R",
   "language": "R",
   "name": "ir"
  },
  "language_info": {
   "codemirror_mode": "r",
   "file_extension": ".r",
   "mimetype": "text/x-r-source",
   "name": "R",
   "pygments_lexer": "r",
   "version": "4.1.3"
  }
 },
 "nbformat": 4,
 "nbformat_minor": 5
}
