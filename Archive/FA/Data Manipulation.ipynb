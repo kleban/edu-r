{
 "cells": [
  {
   "cell_type": "markdown",
   "id": "48a2a604-2dba-40a2-b5ee-b9c57514a6b0",
   "metadata": {},
   "source": [
    "# Data manipulation"
   ]
  },
  {
   "cell_type": "code",
   "execution_count": 2,
   "id": "1d784c5e-1d0b-44e6-bcbf-7091b5649cff",
   "metadata": {},
   "outputs": [],
   "source": [
    "library(dplyr)"
   ]
  },
  {
   "cell_type": "code",
   "execution_count": 4,
   "id": "70754f72-bd3c-43c7-95ab-388108056234",
   "metadata": {},
   "outputs": [],
   "source": [
    "library(tidyverse)"
   ]
  },
  {
   "cell_type": "code",
   "execution_count": 6,
   "id": "a6cd9365-84de-475d-9bb8-c83fac15b8a3",
   "metadata": {},
   "outputs": [],
   "source": [
    "library(gapminder)"
   ]
  },
  {
   "cell_type": "code",
   "execution_count": 8,
   "id": "348e4c83-d103-4049-9a36-d7bdf347c6ef",
   "metadata": {},
   "outputs": [],
   "source": [
    "data <- gapminder"
   ]
  },
  {
   "cell_type": "code",
   "execution_count": 10,
   "id": "15b82b02-3172-4fa6-85d0-9e7d0154cbc9",
   "metadata": {},
   "outputs": [
    {
     "data": {
      "text/html": [
       "<style>\n",
       ".list-inline {list-style: none; margin:0; padding: 0}\n",
       ".list-inline>li {display: inline-block}\n",
       ".list-inline>li:not(:last-child)::after {content: \"\\00b7\"; padding: 0 .5ex}\n",
       "</style>\n",
       "<ol class=list-inline><li>'tbl_df'</li><li>'tbl'</li><li>'data.frame'</li></ol>\n"
      ],
      "text/latex": [
       "\\begin{enumerate*}\n",
       "\\item 'tbl\\_df'\n",
       "\\item 'tbl'\n",
       "\\item 'data.frame'\n",
       "\\end{enumerate*}\n"
      ],
      "text/markdown": [
       "1. 'tbl_df'\n",
       "2. 'tbl'\n",
       "3. 'data.frame'\n",
       "\n",
       "\n"
      ],
      "text/plain": [
       "[1] \"tbl_df\"     \"tbl\"        \"data.frame\""
      ]
     },
     "metadata": {},
     "output_type": "display_data"
    }
   ],
   "source": [
    "class(data)"
   ]
  },
  {
   "cell_type": "code",
   "execution_count": 12,
   "id": "38fa1634-cc37-4840-83f6-e4aa896f83f2",
   "metadata": {},
   "outputs": [
    {
     "data": {
      "text/html": [
       "<table class=\"dataframe\">\n",
       "<caption>A tibble: 6 x 6</caption>\n",
       "<thead>\n",
       "\t<tr><th scope=col>country</th><th scope=col>continent</th><th scope=col>year</th><th scope=col>lifeExp</th><th scope=col>pop</th><th scope=col>gdpPercap</th></tr>\n",
       "\t<tr><th scope=col>&lt;fct&gt;</th><th scope=col>&lt;fct&gt;</th><th scope=col>&lt;int&gt;</th><th scope=col>&lt;dbl&gt;</th><th scope=col>&lt;int&gt;</th><th scope=col>&lt;dbl&gt;</th></tr>\n",
       "</thead>\n",
       "<tbody>\n",
       "\t<tr><td>Afghanistan</td><td>Asia</td><td>1952</td><td>28.801</td><td> 8425333</td><td>779.4453</td></tr>\n",
       "\t<tr><td>Afghanistan</td><td>Asia</td><td>1957</td><td>30.332</td><td> 9240934</td><td>820.8530</td></tr>\n",
       "\t<tr><td>Afghanistan</td><td>Asia</td><td>1962</td><td>31.997</td><td>10267083</td><td>853.1007</td></tr>\n",
       "\t<tr><td>Afghanistan</td><td>Asia</td><td>1967</td><td>34.020</td><td>11537966</td><td>836.1971</td></tr>\n",
       "\t<tr><td>Afghanistan</td><td>Asia</td><td>1972</td><td>36.088</td><td>13079460</td><td>739.9811</td></tr>\n",
       "\t<tr><td>Afghanistan</td><td>Asia</td><td>1977</td><td>38.438</td><td>14880372</td><td>786.1134</td></tr>\n",
       "</tbody>\n",
       "</table>\n"
      ],
      "text/latex": [
       "A tibble: 6 x 6\n",
       "\\begin{tabular}{llllll}\n",
       " country & continent & year & lifeExp & pop & gdpPercap\\\\\n",
       " <fct> & <fct> & <int> & <dbl> & <int> & <dbl>\\\\\n",
       "\\hline\n",
       "\t Afghanistan & Asia & 1952 & 28.801 &  8425333 & 779.4453\\\\\n",
       "\t Afghanistan & Asia & 1957 & 30.332 &  9240934 & 820.8530\\\\\n",
       "\t Afghanistan & Asia & 1962 & 31.997 & 10267083 & 853.1007\\\\\n",
       "\t Afghanistan & Asia & 1967 & 34.020 & 11537966 & 836.1971\\\\\n",
       "\t Afghanistan & Asia & 1972 & 36.088 & 13079460 & 739.9811\\\\\n",
       "\t Afghanistan & Asia & 1977 & 38.438 & 14880372 & 786.1134\\\\\n",
       "\\end{tabular}\n"
      ],
      "text/markdown": [
       "\n",
       "A tibble: 6 x 6\n",
       "\n",
       "| country &lt;fct&gt; | continent &lt;fct&gt; | year &lt;int&gt; | lifeExp &lt;dbl&gt; | pop &lt;int&gt; | gdpPercap &lt;dbl&gt; |\n",
       "|---|---|---|---|---|---|\n",
       "| Afghanistan | Asia | 1952 | 28.801 |  8425333 | 779.4453 |\n",
       "| Afghanistan | Asia | 1957 | 30.332 |  9240934 | 820.8530 |\n",
       "| Afghanistan | Asia | 1962 | 31.997 | 10267083 | 853.1007 |\n",
       "| Afghanistan | Asia | 1967 | 34.020 | 11537966 | 836.1971 |\n",
       "| Afghanistan | Asia | 1972 | 36.088 | 13079460 | 739.9811 |\n",
       "| Afghanistan | Asia | 1977 | 38.438 | 14880372 | 786.1134 |\n",
       "\n"
      ],
      "text/plain": [
       "  country     continent year lifeExp pop      gdpPercap\n",
       "1 Afghanistan Asia      1952 28.801   8425333 779.4453 \n",
       "2 Afghanistan Asia      1957 30.332   9240934 820.8530 \n",
       "3 Afghanistan Asia      1962 31.997  10267083 853.1007 \n",
       "4 Afghanistan Asia      1967 34.020  11537966 836.1971 \n",
       "5 Afghanistan Asia      1972 36.088  13079460 739.9811 \n",
       "6 Afghanistan Asia      1977 38.438  14880372 786.1134 "
      ]
     },
     "metadata": {},
     "output_type": "display_data"
    }
   ],
   "source": [
    "head(data)"
   ]
  },
  {
   "cell_type": "code",
   "execution_count": 14,
   "id": "256ccf3d-f4aa-4567-8fcd-b16b85f90034",
   "metadata": {},
   "outputs": [
    {
     "name": "stdout",
     "output_type": "stream",
     "text": [
      "tibble [1,704 x 6] (S3: tbl_df/tbl/data.frame)\n",
      " $ country  : Factor w/ 142 levels \"Afghanistan\",..: 1 1 1 1 1 1 1 1 1 1 ...\n",
      " $ continent: Factor w/ 5 levels \"Africa\",\"Americas\",..: 3 3 3 3 3 3 3 3 3 3 ...\n",
      " $ year     : int [1:1704] 1952 1957 1962 1967 1972 1977 1982 1987 1992 1997 ...\n",
      " $ lifeExp  : num [1:1704] 28.8 30.3 32 34 36.1 ...\n",
      " $ pop      : int [1:1704] 8425333 9240934 10267083 11537966 13079460 14880372 12881816 13867957 16317921 22227415 ...\n",
      " $ gdpPercap: num [1:1704] 779 821 853 836 740 ...\n"
     ]
    }
   ],
   "source": [
    "str(data)"
   ]
  },
  {
   "cell_type": "code",
   "execution_count": 16,
   "id": "756b4335-5a17-4a36-919a-fa0040cd210e",
   "metadata": {},
   "outputs": [
    {
     "name": "stdout",
     "output_type": "stream",
     "text": [
      "Rows: 1,704\n",
      "Columns: 6\n",
      "$ country   \u001b[3m\u001b[90m<fct>\u001b[39m\u001b[23m \"Afghanistan\", \"Afghanistan\", \"Afghanistan\", \"Afghanistan\", ~\n",
      "$ continent \u001b[3m\u001b[90m<fct>\u001b[39m\u001b[23m Asia, Asia, Asia, Asia, Asia, Asia, Asia, Asia, Asia, Asia, ~\n",
      "$ year      \u001b[3m\u001b[90m<int>\u001b[39m\u001b[23m 1952, 1957, 1962, 1967, 1972, 1977, 1982, 1987, 1992, 1997, ~\n",
      "$ lifeExp   \u001b[3m\u001b[90m<dbl>\u001b[39m\u001b[23m 28.801, 30.332, 31.997, 34.020, 36.088, 38.438, 39.854, 40.8~\n",
      "$ pop       \u001b[3m\u001b[90m<int>\u001b[39m\u001b[23m 8425333, 9240934, 10267083, 11537966, 13079460, 14880372, 12~\n",
      "$ gdpPercap \u001b[3m\u001b[90m<dbl>\u001b[39m\u001b[23m 779.4453, 820.8530, 853.1007, 836.1971, 739.9811, 786.1134, ~\n"
     ]
    }
   ],
   "source": [
    "glimpse(data)"
   ]
  },
  {
   "cell_type": "code",
   "execution_count": 18,
   "id": "bbc4676a-4c6a-436f-ae6b-eeb2bccffcca",
   "metadata": {},
   "outputs": [
    {
     "data": {
      "text/html": [
       "<table class=\"dataframe\">\n",
       "<caption>A tibble: 6 x 6</caption>\n",
       "<thead>\n",
       "\t<tr><th scope=col>country</th><th scope=col>continent</th><th scope=col>year</th><th scope=col>lifeExp</th><th scope=col>pop</th><th scope=col>gdpPercap</th></tr>\n",
       "\t<tr><th scope=col>&lt;fct&gt;</th><th scope=col>&lt;fct&gt;</th><th scope=col>&lt;int&gt;</th><th scope=col>&lt;dbl&gt;</th><th scope=col>&lt;int&gt;</th><th scope=col>&lt;dbl&gt;</th></tr>\n",
       "</thead>\n",
       "<tbody>\n",
       "\t<tr><td>Zimbabwe</td><td>Africa</td><td>1982</td><td>60.363</td><td> 7636524</td><td>788.8550</td></tr>\n",
       "\t<tr><td>Zimbabwe</td><td>Africa</td><td>1987</td><td>62.351</td><td> 9216418</td><td>706.1573</td></tr>\n",
       "\t<tr><td>Zimbabwe</td><td>Africa</td><td>1992</td><td>60.377</td><td>10704340</td><td>693.4208</td></tr>\n",
       "\t<tr><td>Zimbabwe</td><td>Africa</td><td>1997</td><td>46.809</td><td>11404948</td><td>792.4500</td></tr>\n",
       "\t<tr><td>Zimbabwe</td><td>Africa</td><td>2002</td><td>39.989</td><td>11926563</td><td>672.0386</td></tr>\n",
       "\t<tr><td>Zimbabwe</td><td>Africa</td><td>2007</td><td>43.487</td><td>12311143</td><td>469.7093</td></tr>\n",
       "</tbody>\n",
       "</table>\n"
      ],
      "text/latex": [
       "A tibble: 6 x 6\n",
       "\\begin{tabular}{llllll}\n",
       " country & continent & year & lifeExp & pop & gdpPercap\\\\\n",
       " <fct> & <fct> & <int> & <dbl> & <int> & <dbl>\\\\\n",
       "\\hline\n",
       "\t Zimbabwe & Africa & 1982 & 60.363 &  7636524 & 788.8550\\\\\n",
       "\t Zimbabwe & Africa & 1987 & 62.351 &  9216418 & 706.1573\\\\\n",
       "\t Zimbabwe & Africa & 1992 & 60.377 & 10704340 & 693.4208\\\\\n",
       "\t Zimbabwe & Africa & 1997 & 46.809 & 11404948 & 792.4500\\\\\n",
       "\t Zimbabwe & Africa & 2002 & 39.989 & 11926563 & 672.0386\\\\\n",
       "\t Zimbabwe & Africa & 2007 & 43.487 & 12311143 & 469.7093\\\\\n",
       "\\end{tabular}\n"
      ],
      "text/markdown": [
       "\n",
       "A tibble: 6 x 6\n",
       "\n",
       "| country &lt;fct&gt; | continent &lt;fct&gt; | year &lt;int&gt; | lifeExp &lt;dbl&gt; | pop &lt;int&gt; | gdpPercap &lt;dbl&gt; |\n",
       "|---|---|---|---|---|---|\n",
       "| Zimbabwe | Africa | 1982 | 60.363 |  7636524 | 788.8550 |\n",
       "| Zimbabwe | Africa | 1987 | 62.351 |  9216418 | 706.1573 |\n",
       "| Zimbabwe | Africa | 1992 | 60.377 | 10704340 | 693.4208 |\n",
       "| Zimbabwe | Africa | 1997 | 46.809 | 11404948 | 792.4500 |\n",
       "| Zimbabwe | Africa | 2002 | 39.989 | 11926563 | 672.0386 |\n",
       "| Zimbabwe | Africa | 2007 | 43.487 | 12311143 | 469.7093 |\n",
       "\n"
      ],
      "text/plain": [
       "  country  continent year lifeExp pop      gdpPercap\n",
       "1 Zimbabwe Africa    1982 60.363   7636524 788.8550 \n",
       "2 Zimbabwe Africa    1987 62.351   9216418 706.1573 \n",
       "3 Zimbabwe Africa    1992 60.377  10704340 693.4208 \n",
       "4 Zimbabwe Africa    1997 46.809  11404948 792.4500 \n",
       "5 Zimbabwe Africa    2002 39.989  11926563 672.0386 \n",
       "6 Zimbabwe Africa    2007 43.487  12311143 469.7093 "
      ]
     },
     "metadata": {},
     "output_type": "display_data"
    }
   ],
   "source": [
    "tail(data)"
   ]
  },
  {
   "cell_type": "code",
   "execution_count": 20,
   "id": "b1190399-d0e2-4b52-90f4-d8a533718fd4",
   "metadata": {},
   "outputs": [
    {
     "data": {
      "text/plain": [
       "        country        continent        year         lifeExp     \n",
       " Afghanistan:  12   Africa  :624   Min.   :1952   Min.   :23.60  \n",
       " Albania    :  12   Americas:300   1st Qu.:1966   1st Qu.:48.20  \n",
       " Algeria    :  12   Asia    :396   Median :1980   Median :60.71  \n",
       " Angola     :  12   Europe  :360   Mean   :1980   Mean   :59.47  \n",
       " Argentina  :  12   Oceania : 24   3rd Qu.:1993   3rd Qu.:70.85  \n",
       " Australia  :  12                  Max.   :2007   Max.   :82.60  \n",
       " (Other)    :1632                                                \n",
       "      pop              gdpPercap       \n",
       " Min.   :6.001e+04   Min.   :   241.2  \n",
       " 1st Qu.:2.794e+06   1st Qu.:  1202.1  \n",
       " Median :7.024e+06   Median :  3531.8  \n",
       " Mean   :2.960e+07   Mean   :  7215.3  \n",
       " 3rd Qu.:1.959e+07   3rd Qu.:  9325.5  \n",
       " Max.   :1.319e+09   Max.   :113523.1  \n",
       "                                       "
      ]
     },
     "metadata": {},
     "output_type": "display_data"
    }
   ],
   "source": [
    "summary(data)"
   ]
  },
  {
   "cell_type": "code",
   "execution_count": 21,
   "id": "2e2c767f-b2b8-4a1c-869f-ccfde90a2df2",
   "metadata": {},
   "outputs": [
    {
     "data": {
      "text/html": [
       "<table class=\"dataframe\">\n",
       "<caption>A tibble: 12 x 6</caption>\n",
       "<thead>\n",
       "\t<tr><th scope=col>country</th><th scope=col>continent</th><th scope=col>year</th><th scope=col>lifeExp</th><th scope=col>pop</th><th scope=col>gdpPercap</th></tr>\n",
       "\t<tr><th scope=col>&lt;fct&gt;</th><th scope=col>&lt;fct&gt;</th><th scope=col>&lt;int&gt;</th><th scope=col>&lt;dbl&gt;</th><th scope=col>&lt;int&gt;</th><th scope=col>&lt;dbl&gt;</th></tr>\n",
       "</thead>\n",
       "<tbody>\n",
       "\t<tr><td>Austria</td><td>Europe</td><td>1952</td><td>66.800</td><td>6927772</td><td> 6137.076</td></tr>\n",
       "\t<tr><td>Austria</td><td>Europe</td><td>1957</td><td>67.480</td><td>6965860</td><td> 8842.598</td></tr>\n",
       "\t<tr><td>Austria</td><td>Europe</td><td>1962</td><td>69.540</td><td>7129864</td><td>10750.721</td></tr>\n",
       "\t<tr><td>Austria</td><td>Europe</td><td>1967</td><td>70.140</td><td>7376998</td><td>12834.602</td></tr>\n",
       "\t<tr><td>Austria</td><td>Europe</td><td>1972</td><td>70.630</td><td>7544201</td><td>16661.626</td></tr>\n",
       "\t<tr><td>Austria</td><td>Europe</td><td>1977</td><td>72.170</td><td>7568430</td><td>19749.422</td></tr>\n",
       "\t<tr><td>Austria</td><td>Europe</td><td>1982</td><td>73.180</td><td>7574613</td><td>21597.084</td></tr>\n",
       "\t<tr><td>Austria</td><td>Europe</td><td>1987</td><td>74.940</td><td>7578903</td><td>23687.826</td></tr>\n",
       "\t<tr><td>Austria</td><td>Europe</td><td>1992</td><td>76.040</td><td>7914969</td><td>27042.019</td></tr>\n",
       "\t<tr><td>Austria</td><td>Europe</td><td>1997</td><td>77.510</td><td>8069876</td><td>29095.921</td></tr>\n",
       "\t<tr><td>Austria</td><td>Europe</td><td>2002</td><td>78.980</td><td>8148312</td><td>32417.608</td></tr>\n",
       "\t<tr><td>Austria</td><td>Europe</td><td>2007</td><td>79.829</td><td>8199783</td><td>36126.493</td></tr>\n",
       "</tbody>\n",
       "</table>\n"
      ],
      "text/latex": [
       "A tibble: 12 x 6\n",
       "\\begin{tabular}{llllll}\n",
       " country & continent & year & lifeExp & pop & gdpPercap\\\\\n",
       " <fct> & <fct> & <int> & <dbl> & <int> & <dbl>\\\\\n",
       "\\hline\n",
       "\t Austria & Europe & 1952 & 66.800 & 6927772 &  6137.076\\\\\n",
       "\t Austria & Europe & 1957 & 67.480 & 6965860 &  8842.598\\\\\n",
       "\t Austria & Europe & 1962 & 69.540 & 7129864 & 10750.721\\\\\n",
       "\t Austria & Europe & 1967 & 70.140 & 7376998 & 12834.602\\\\\n",
       "\t Austria & Europe & 1972 & 70.630 & 7544201 & 16661.626\\\\\n",
       "\t Austria & Europe & 1977 & 72.170 & 7568430 & 19749.422\\\\\n",
       "\t Austria & Europe & 1982 & 73.180 & 7574613 & 21597.084\\\\\n",
       "\t Austria & Europe & 1987 & 74.940 & 7578903 & 23687.826\\\\\n",
       "\t Austria & Europe & 1992 & 76.040 & 7914969 & 27042.019\\\\\n",
       "\t Austria & Europe & 1997 & 77.510 & 8069876 & 29095.921\\\\\n",
       "\t Austria & Europe & 2002 & 78.980 & 8148312 & 32417.608\\\\\n",
       "\t Austria & Europe & 2007 & 79.829 & 8199783 & 36126.493\\\\\n",
       "\\end{tabular}\n"
      ],
      "text/markdown": [
       "\n",
       "A tibble: 12 x 6\n",
       "\n",
       "| country &lt;fct&gt; | continent &lt;fct&gt; | year &lt;int&gt; | lifeExp &lt;dbl&gt; | pop &lt;int&gt; | gdpPercap &lt;dbl&gt; |\n",
       "|---|---|---|---|---|---|\n",
       "| Austria | Europe | 1952 | 66.800 | 6927772 |  6137.076 |\n",
       "| Austria | Europe | 1957 | 67.480 | 6965860 |  8842.598 |\n",
       "| Austria | Europe | 1962 | 69.540 | 7129864 | 10750.721 |\n",
       "| Austria | Europe | 1967 | 70.140 | 7376998 | 12834.602 |\n",
       "| Austria | Europe | 1972 | 70.630 | 7544201 | 16661.626 |\n",
       "| Austria | Europe | 1977 | 72.170 | 7568430 | 19749.422 |\n",
       "| Austria | Europe | 1982 | 73.180 | 7574613 | 21597.084 |\n",
       "| Austria | Europe | 1987 | 74.940 | 7578903 | 23687.826 |\n",
       "| Austria | Europe | 1992 | 76.040 | 7914969 | 27042.019 |\n",
       "| Austria | Europe | 1997 | 77.510 | 8069876 | 29095.921 |\n",
       "| Austria | Europe | 2002 | 78.980 | 8148312 | 32417.608 |\n",
       "| Austria | Europe | 2007 | 79.829 | 8199783 | 36126.493 |\n",
       "\n"
      ],
      "text/plain": [
       "   country continent year lifeExp pop     gdpPercap\n",
       "1  Austria Europe    1952 66.800  6927772  6137.076\n",
       "2  Austria Europe    1957 67.480  6965860  8842.598\n",
       "3  Austria Europe    1962 69.540  7129864 10750.721\n",
       "4  Austria Europe    1967 70.140  7376998 12834.602\n",
       "5  Austria Europe    1972 70.630  7544201 16661.626\n",
       "6  Austria Europe    1977 72.170  7568430 19749.422\n",
       "7  Austria Europe    1982 73.180  7574613 21597.084\n",
       "8  Austria Europe    1987 74.940  7578903 23687.826\n",
       "9  Austria Europe    1992 76.040  7914969 27042.019\n",
       "10 Austria Europe    1997 77.510  8069876 29095.921\n",
       "11 Austria Europe    2002 78.980  8148312 32417.608\n",
       "12 Austria Europe    2007 79.829  8199783 36126.493"
      ]
     },
     "metadata": {},
     "output_type": "display_data"
    }
   ],
   "source": [
    "austria <- filter(data, country == \"Austria\")\n",
    "austria"
   ]
  },
  {
   "cell_type": "code",
   "execution_count": 23,
   "id": "62d2a27c-67dd-4792-8005-d4eeaf828eff",
   "metadata": {},
   "outputs": [
    {
     "data": {
      "text/html": [
       "<table class=\"dataframe\">\n",
       "<caption>A tibble: 6 x 6</caption>\n",
       "<thead>\n",
       "\t<tr><th scope=col>country</th><th scope=col>continent</th><th scope=col>year</th><th scope=col>lifeExp</th><th scope=col>pop</th><th scope=col>gdpPercap</th></tr>\n",
       "\t<tr><th scope=col>&lt;fct&gt;</th><th scope=col>&lt;fct&gt;</th><th scope=col>&lt;int&gt;</th><th scope=col>&lt;dbl&gt;</th><th scope=col>&lt;int&gt;</th><th scope=col>&lt;dbl&gt;</th></tr>\n",
       "</thead>\n",
       "<tbody>\n",
       "\t<tr><td>Austria</td><td>Europe</td><td>1982</td><td>73.180</td><td>7574613</td><td>21597.08</td></tr>\n",
       "\t<tr><td>Austria</td><td>Europe</td><td>1987</td><td>74.940</td><td>7578903</td><td>23687.83</td></tr>\n",
       "\t<tr><td>Austria</td><td>Europe</td><td>1992</td><td>76.040</td><td>7914969</td><td>27042.02</td></tr>\n",
       "\t<tr><td>Austria</td><td>Europe</td><td>1997</td><td>77.510</td><td>8069876</td><td>29095.92</td></tr>\n",
       "\t<tr><td>Austria</td><td>Europe</td><td>2002</td><td>78.980</td><td>8148312</td><td>32417.61</td></tr>\n",
       "\t<tr><td>Austria</td><td>Europe</td><td>2007</td><td>79.829</td><td>8199783</td><td>36126.49</td></tr>\n",
       "</tbody>\n",
       "</table>\n"
      ],
      "text/latex": [
       "A tibble: 6 x 6\n",
       "\\begin{tabular}{llllll}\n",
       " country & continent & year & lifeExp & pop & gdpPercap\\\\\n",
       " <fct> & <fct> & <int> & <dbl> & <int> & <dbl>\\\\\n",
       "\\hline\n",
       "\t Austria & Europe & 1982 & 73.180 & 7574613 & 21597.08\\\\\n",
       "\t Austria & Europe & 1987 & 74.940 & 7578903 & 23687.83\\\\\n",
       "\t Austria & Europe & 1992 & 76.040 & 7914969 & 27042.02\\\\\n",
       "\t Austria & Europe & 1997 & 77.510 & 8069876 & 29095.92\\\\\n",
       "\t Austria & Europe & 2002 & 78.980 & 8148312 & 32417.61\\\\\n",
       "\t Austria & Europe & 2007 & 79.829 & 8199783 & 36126.49\\\\\n",
       "\\end{tabular}\n"
      ],
      "text/markdown": [
       "\n",
       "A tibble: 6 x 6\n",
       "\n",
       "| country &lt;fct&gt; | continent &lt;fct&gt; | year &lt;int&gt; | lifeExp &lt;dbl&gt; | pop &lt;int&gt; | gdpPercap &lt;dbl&gt; |\n",
       "|---|---|---|---|---|---|\n",
       "| Austria | Europe | 1982 | 73.180 | 7574613 | 21597.08 |\n",
       "| Austria | Europe | 1987 | 74.940 | 7578903 | 23687.83 |\n",
       "| Austria | Europe | 1992 | 76.040 | 7914969 | 27042.02 |\n",
       "| Austria | Europe | 1997 | 77.510 | 8069876 | 29095.92 |\n",
       "| Austria | Europe | 2002 | 78.980 | 8148312 | 32417.61 |\n",
       "| Austria | Europe | 2007 | 79.829 | 8199783 | 36126.49 |\n",
       "\n"
      ],
      "text/plain": [
       "  country continent year lifeExp pop     gdpPercap\n",
       "1 Austria Europe    1982 73.180  7574613 21597.08 \n",
       "2 Austria Europe    1987 74.940  7578903 23687.83 \n",
       "3 Austria Europe    1992 76.040  7914969 27042.02 \n",
       "4 Austria Europe    1997 77.510  8069876 29095.92 \n",
       "5 Austria Europe    2002 78.980  8148312 32417.61 \n",
       "6 Austria Europe    2007 79.829  8199783 36126.49 "
      ]
     },
     "metadata": {},
     "output_type": "display_data"
    }
   ],
   "source": [
    "austria <- filter(data, country == \"Austria\", year > 1980)\n",
    "austria"
   ]
  },
  {
   "cell_type": "markdown",
   "id": "14b5257b-58d2-470a-9f11-139e873e30f6",
   "metadata": {},
   "source": [
    "Pipe - %>% - |>"
   ]
  },
  {
   "cell_type": "code",
   "execution_count": 26,
   "id": "ca54a2fe-e510-485d-9e82-095e27365640",
   "metadata": {},
   "outputs": [],
   "source": [
    "library(magrittr)"
   ]
  },
  {
   "cell_type": "code",
   "execution_count": 30,
   "id": "4642866a-78e3-4317-89eb-a6367c34e7ee",
   "metadata": {},
   "outputs": [
    {
     "data": {
      "text/html": [
       "<table class=\"dataframe\">\n",
       "<caption>A tibble: 12 x 3</caption>\n",
       "<thead>\n",
       "\t<tr><th scope=col>country</th><th scope=col>continent</th><th scope=col>pop</th></tr>\n",
       "\t<tr><th scope=col>&lt;fct&gt;</th><th scope=col>&lt;fct&gt;</th><th scope=col>&lt;int&gt;</th></tr>\n",
       "</thead>\n",
       "<tbody>\n",
       "\t<tr><td>Austria</td><td>Europe</td><td>6927772</td></tr>\n",
       "\t<tr><td>Austria</td><td>Europe</td><td>6965860</td></tr>\n",
       "\t<tr><td>Austria</td><td>Europe</td><td>7129864</td></tr>\n",
       "\t<tr><td>Austria</td><td>Europe</td><td>7376998</td></tr>\n",
       "\t<tr><td>Austria</td><td>Europe</td><td>7544201</td></tr>\n",
       "\t<tr><td>Austria</td><td>Europe</td><td>7568430</td></tr>\n",
       "\t<tr><td>Austria</td><td>Europe</td><td>7574613</td></tr>\n",
       "\t<tr><td>Austria</td><td>Europe</td><td>7578903</td></tr>\n",
       "\t<tr><td>Austria</td><td>Europe</td><td>7914969</td></tr>\n",
       "\t<tr><td>Austria</td><td>Europe</td><td>8069876</td></tr>\n",
       "\t<tr><td>Austria</td><td>Europe</td><td>8148312</td></tr>\n",
       "\t<tr><td>Austria</td><td>Europe</td><td>8199783</td></tr>\n",
       "</tbody>\n",
       "</table>\n"
      ],
      "text/latex": [
       "A tibble: 12 x 3\n",
       "\\begin{tabular}{lll}\n",
       " country & continent & pop\\\\\n",
       " <fct> & <fct> & <int>\\\\\n",
       "\\hline\n",
       "\t Austria & Europe & 6927772\\\\\n",
       "\t Austria & Europe & 6965860\\\\\n",
       "\t Austria & Europe & 7129864\\\\\n",
       "\t Austria & Europe & 7376998\\\\\n",
       "\t Austria & Europe & 7544201\\\\\n",
       "\t Austria & Europe & 7568430\\\\\n",
       "\t Austria & Europe & 7574613\\\\\n",
       "\t Austria & Europe & 7578903\\\\\n",
       "\t Austria & Europe & 7914969\\\\\n",
       "\t Austria & Europe & 8069876\\\\\n",
       "\t Austria & Europe & 8148312\\\\\n",
       "\t Austria & Europe & 8199783\\\\\n",
       "\\end{tabular}\n"
      ],
      "text/markdown": [
       "\n",
       "A tibble: 12 x 3\n",
       "\n",
       "| country &lt;fct&gt; | continent &lt;fct&gt; | pop &lt;int&gt; |\n",
       "|---|---|---|\n",
       "| Austria | Europe | 6927772 |\n",
       "| Austria | Europe | 6965860 |\n",
       "| Austria | Europe | 7129864 |\n",
       "| Austria | Europe | 7376998 |\n",
       "| Austria | Europe | 7544201 |\n",
       "| Austria | Europe | 7568430 |\n",
       "| Austria | Europe | 7574613 |\n",
       "| Austria | Europe | 7578903 |\n",
       "| Austria | Europe | 7914969 |\n",
       "| Austria | Europe | 8069876 |\n",
       "| Austria | Europe | 8148312 |\n",
       "| Austria | Europe | 8199783 |\n",
       "\n"
      ],
      "text/plain": [
       "   country continent pop    \n",
       "1  Austria Europe    6927772\n",
       "2  Austria Europe    6965860\n",
       "3  Austria Europe    7129864\n",
       "4  Austria Europe    7376998\n",
       "5  Austria Europe    7544201\n",
       "6  Austria Europe    7568430\n",
       "7  Austria Europe    7574613\n",
       "8  Austria Europe    7578903\n",
       "9  Austria Europe    7914969\n",
       "10 Austria Europe    8069876\n",
       "11 Austria Europe    8148312\n",
       "12 Austria Europe    8199783"
      ]
     },
     "metadata": {},
     "output_type": "display_data"
    }
   ],
   "source": [
    "austria <- data |> filter(country == \"Austria\") |> select(1,2,5)\n",
    "austria"
   ]
  },
  {
   "cell_type": "code",
   "execution_count": 32,
   "id": "02d4ddab-eaed-47b7-b3eb-9d20ca72b27b",
   "metadata": {},
   "outputs": [
    {
     "data": {
      "text/html": [
       "<table class=\"dataframe\">\n",
       "<caption>A tibble: 6 x 6</caption>\n",
       "<thead>\n",
       "\t<tr><th scope=col>country</th><th scope=col>continent</th><th scope=col>year</th><th scope=col>lifeExp</th><th scope=col>pop</th><th scope=col>gdpPercap</th></tr>\n",
       "\t<tr><th scope=col>&lt;fct&gt;</th><th scope=col>&lt;fct&gt;</th><th scope=col>&lt;int&gt;</th><th scope=col>&lt;dbl&gt;</th><th scope=col>&lt;int&gt;</th><th scope=col>&lt;dbl&gt;</th></tr>\n",
       "</thead>\n",
       "<tbody>\n",
       "\t<tr><td>Afghanistan</td><td>Asia</td><td>1952</td><td>28.801</td><td> 8425333</td><td>779.4453</td></tr>\n",
       "\t<tr><td>Afghanistan</td><td>Asia</td><td>1957</td><td>30.332</td><td> 9240934</td><td>820.8530</td></tr>\n",
       "\t<tr><td>Afghanistan</td><td>Asia</td><td>1962</td><td>31.997</td><td>10267083</td><td>853.1007</td></tr>\n",
       "\t<tr><td>Afghanistan</td><td>Asia</td><td>1967</td><td>34.020</td><td>11537966</td><td>836.1971</td></tr>\n",
       "\t<tr><td>Afghanistan</td><td>Asia</td><td>1972</td><td>36.088</td><td>13079460</td><td>739.9811</td></tr>\n",
       "\t<tr><td>Afghanistan</td><td>Asia</td><td>1977</td><td>38.438</td><td>14880372</td><td>786.1134</td></tr>\n",
       "</tbody>\n",
       "</table>\n"
      ],
      "text/latex": [
       "A tibble: 6 x 6\n",
       "\\begin{tabular}{llllll}\n",
       " country & continent & year & lifeExp & pop & gdpPercap\\\\\n",
       " <fct> & <fct> & <int> & <dbl> & <int> & <dbl>\\\\\n",
       "\\hline\n",
       "\t Afghanistan & Asia & 1952 & 28.801 &  8425333 & 779.4453\\\\\n",
       "\t Afghanistan & Asia & 1957 & 30.332 &  9240934 & 820.8530\\\\\n",
       "\t Afghanistan & Asia & 1962 & 31.997 & 10267083 & 853.1007\\\\\n",
       "\t Afghanistan & Asia & 1967 & 34.020 & 11537966 & 836.1971\\\\\n",
       "\t Afghanistan & Asia & 1972 & 36.088 & 13079460 & 739.9811\\\\\n",
       "\t Afghanistan & Asia & 1977 & 38.438 & 14880372 & 786.1134\\\\\n",
       "\\end{tabular}\n"
      ],
      "text/markdown": [
       "\n",
       "A tibble: 6 x 6\n",
       "\n",
       "| country &lt;fct&gt; | continent &lt;fct&gt; | year &lt;int&gt; | lifeExp &lt;dbl&gt; | pop &lt;int&gt; | gdpPercap &lt;dbl&gt; |\n",
       "|---|---|---|---|---|---|\n",
       "| Afghanistan | Asia | 1952 | 28.801 |  8425333 | 779.4453 |\n",
       "| Afghanistan | Asia | 1957 | 30.332 |  9240934 | 820.8530 |\n",
       "| Afghanistan | Asia | 1962 | 31.997 | 10267083 | 853.1007 |\n",
       "| Afghanistan | Asia | 1967 | 34.020 | 11537966 | 836.1971 |\n",
       "| Afghanistan | Asia | 1972 | 36.088 | 13079460 | 739.9811 |\n",
       "| Afghanistan | Asia | 1977 | 38.438 | 14880372 | 786.1134 |\n",
       "\n"
      ],
      "text/plain": [
       "  country     continent year lifeExp pop      gdpPercap\n",
       "1 Afghanistan Asia      1952 28.801   8425333 779.4453 \n",
       "2 Afghanistan Asia      1957 30.332   9240934 820.8530 \n",
       "3 Afghanistan Asia      1962 31.997  10267083 853.1007 \n",
       "4 Afghanistan Asia      1967 34.020  11537966 836.1971 \n",
       "5 Afghanistan Asia      1972 36.088  13079460 739.9811 \n",
       "6 Afghanistan Asia      1977 38.438  14880372 786.1134 "
      ]
     },
     "metadata": {},
     "output_type": "display_data"
    }
   ],
   "source": [
    "data |> head()"
   ]
  },
  {
   "cell_type": "code",
   "execution_count": 34,
   "id": "9224818e-20a9-4b0a-86c4-6b7e6b7dfc6f",
   "metadata": {},
   "outputs": [
    {
     "data": {
      "text/html": [
       "<table class=\"dataframe\">\n",
       "<caption>A tibble: 10 x 3</caption>\n",
       "<thead>\n",
       "\t<tr><th scope=col>year</th><th scope=col>country</th><th scope=col>pop</th></tr>\n",
       "\t<tr><th scope=col>&lt;int&gt;</th><th scope=col>&lt;fct&gt;</th><th scope=col>&lt;int&gt;</th></tr>\n",
       "</thead>\n",
       "<tbody>\n",
       "\t<tr><td>1952</td><td>Afghanistan</td><td> 8425333</td></tr>\n",
       "\t<tr><td>1957</td><td>Afghanistan</td><td> 9240934</td></tr>\n",
       "\t<tr><td>1962</td><td>Afghanistan</td><td>10267083</td></tr>\n",
       "\t<tr><td>1967</td><td>Afghanistan</td><td>11537966</td></tr>\n",
       "\t<tr><td>1972</td><td>Afghanistan</td><td>13079460</td></tr>\n",
       "\t<tr><td>1977</td><td>Afghanistan</td><td>14880372</td></tr>\n",
       "\t<tr><td>1982</td><td>Afghanistan</td><td>12881816</td></tr>\n",
       "\t<tr><td>1987</td><td>Afghanistan</td><td>13867957</td></tr>\n",
       "\t<tr><td>1992</td><td>Afghanistan</td><td>16317921</td></tr>\n",
       "\t<tr><td>1997</td><td>Afghanistan</td><td>22227415</td></tr>\n",
       "</tbody>\n",
       "</table>\n"
      ],
      "text/latex": [
       "A tibble: 10 x 3\n",
       "\\begin{tabular}{lll}\n",
       " year & country & pop\\\\\n",
       " <int> & <fct> & <int>\\\\\n",
       "\\hline\n",
       "\t 1952 & Afghanistan &  8425333\\\\\n",
       "\t 1957 & Afghanistan &  9240934\\\\\n",
       "\t 1962 & Afghanistan & 10267083\\\\\n",
       "\t 1967 & Afghanistan & 11537966\\\\\n",
       "\t 1972 & Afghanistan & 13079460\\\\\n",
       "\t 1977 & Afghanistan & 14880372\\\\\n",
       "\t 1982 & Afghanistan & 12881816\\\\\n",
       "\t 1987 & Afghanistan & 13867957\\\\\n",
       "\t 1992 & Afghanistan & 16317921\\\\\n",
       "\t 1997 & Afghanistan & 22227415\\\\\n",
       "\\end{tabular}\n"
      ],
      "text/markdown": [
       "\n",
       "A tibble: 10 x 3\n",
       "\n",
       "| year &lt;int&gt; | country &lt;fct&gt; | pop &lt;int&gt; |\n",
       "|---|---|---|\n",
       "| 1952 | Afghanistan |  8425333 |\n",
       "| 1957 | Afghanistan |  9240934 |\n",
       "| 1962 | Afghanistan | 10267083 |\n",
       "| 1967 | Afghanistan | 11537966 |\n",
       "| 1972 | Afghanistan | 13079460 |\n",
       "| 1977 | Afghanistan | 14880372 |\n",
       "| 1982 | Afghanistan | 12881816 |\n",
       "| 1987 | Afghanistan | 13867957 |\n",
       "| 1992 | Afghanistan | 16317921 |\n",
       "| 1997 | Afghanistan | 22227415 |\n",
       "\n"
      ],
      "text/plain": [
       "   year country     pop     \n",
       "1  1952 Afghanistan  8425333\n",
       "2  1957 Afghanistan  9240934\n",
       "3  1962 Afghanistan 10267083\n",
       "4  1967 Afghanistan 11537966\n",
       "5  1972 Afghanistan 13079460\n",
       "6  1977 Afghanistan 14880372\n",
       "7  1982 Afghanistan 12881816\n",
       "8  1987 Afghanistan 13867957\n",
       "9  1992 Afghanistan 16317921\n",
       "10 1997 Afghanistan 22227415"
      ]
     },
     "metadata": {},
     "output_type": "display_data"
    }
   ],
   "source": [
    "data |> select(year, country, pop) |>\n",
    "    slice(1:10)"
   ]
  },
  {
   "cell_type": "code",
   "execution_count": 37,
   "id": "32681ec9-1b7c-43ff-afae-f1710576966f",
   "metadata": {},
   "outputs": [
    {
     "data": {
      "text/html": [
       "<table class=\"dataframe\">\n",
       "<caption>A tibble: 6 x 2</caption>\n",
       "<thead>\n",
       "\t<tr><th scope=col>country</th><th scope=col>pop</th></tr>\n",
       "\t<tr><th scope=col>&lt;fct&gt;</th><th scope=col>&lt;int&gt;</th></tr>\n",
       "</thead>\n",
       "<tbody>\n",
       "\t<tr><td>Afghanistan</td><td> 8425333</td></tr>\n",
       "\t<tr><td>Afghanistan</td><td> 9240934</td></tr>\n",
       "\t<tr><td>Afghanistan</td><td>10267083</td></tr>\n",
       "\t<tr><td>Afghanistan</td><td>11537966</td></tr>\n",
       "\t<tr><td>Afghanistan</td><td>13079460</td></tr>\n",
       "\t<tr><td>Afghanistan</td><td>14880372</td></tr>\n",
       "</tbody>\n",
       "</table>\n"
      ],
      "text/latex": [
       "A tibble: 6 x 2\n",
       "\\begin{tabular}{ll}\n",
       " country & pop\\\\\n",
       " <fct> & <int>\\\\\n",
       "\\hline\n",
       "\t Afghanistan &  8425333\\\\\n",
       "\t Afghanistan &  9240934\\\\\n",
       "\t Afghanistan & 10267083\\\\\n",
       "\t Afghanistan & 11537966\\\\\n",
       "\t Afghanistan & 13079460\\\\\n",
       "\t Afghanistan & 14880372\\\\\n",
       "\\end{tabular}\n"
      ],
      "text/markdown": [
       "\n",
       "A tibble: 6 x 2\n",
       "\n",
       "| country &lt;fct&gt; | pop &lt;int&gt; |\n",
       "|---|---|\n",
       "| Afghanistan |  8425333 |\n",
       "| Afghanistan |  9240934 |\n",
       "| Afghanistan | 10267083 |\n",
       "| Afghanistan | 11537966 |\n",
       "| Afghanistan | 13079460 |\n",
       "| Afghanistan | 14880372 |\n",
       "\n"
      ],
      "text/plain": [
       "  country     pop     \n",
       "1 Afghanistan  8425333\n",
       "2 Afghanistan  9240934\n",
       "3 Afghanistan 10267083\n",
       "4 Afghanistan 11537966\n",
       "5 Afghanistan 13079460\n",
       "6 Afghanistan 14880372"
      ]
     },
     "metadata": {},
     "output_type": "display_data"
    }
   ],
   "source": [
    "data |> select(1, 5) |>\n",
    "    head()"
   ]
  },
  {
   "cell_type": "code",
   "execution_count": 39,
   "id": "78477cb4-9b5a-49f6-8941-74ed08c6a3a7",
   "metadata": {},
   "outputs": [
    {
     "data": {
      "text/html": [
       "<table class=\"dataframe\">\n",
       "<caption>A tibble: 6 x 4</caption>\n",
       "<thead>\n",
       "\t<tr><th scope=col>country</th><th scope=col>continent</th><th scope=col>year</th><th scope=col>pop</th></tr>\n",
       "\t<tr><th scope=col>&lt;fct&gt;</th><th scope=col>&lt;fct&gt;</th><th scope=col>&lt;int&gt;</th><th scope=col>&lt;int&gt;</th></tr>\n",
       "</thead>\n",
       "<tbody>\n",
       "\t<tr><td>Afghanistan</td><td>Asia</td><td>1952</td><td> 8425333</td></tr>\n",
       "\t<tr><td>Afghanistan</td><td>Asia</td><td>1957</td><td> 9240934</td></tr>\n",
       "\t<tr><td>Afghanistan</td><td>Asia</td><td>1962</td><td>10267083</td></tr>\n",
       "\t<tr><td>Afghanistan</td><td>Asia</td><td>1967</td><td>11537966</td></tr>\n",
       "\t<tr><td>Afghanistan</td><td>Asia</td><td>1972</td><td>13079460</td></tr>\n",
       "\t<tr><td>Afghanistan</td><td>Asia</td><td>1977</td><td>14880372</td></tr>\n",
       "</tbody>\n",
       "</table>\n"
      ],
      "text/latex": [
       "A tibble: 6 x 4\n",
       "\\begin{tabular}{llll}\n",
       " country & continent & year & pop\\\\\n",
       " <fct> & <fct> & <int> & <int>\\\\\n",
       "\\hline\n",
       "\t Afghanistan & Asia & 1952 &  8425333\\\\\n",
       "\t Afghanistan & Asia & 1957 &  9240934\\\\\n",
       "\t Afghanistan & Asia & 1962 & 10267083\\\\\n",
       "\t Afghanistan & Asia & 1967 & 11537966\\\\\n",
       "\t Afghanistan & Asia & 1972 & 13079460\\\\\n",
       "\t Afghanistan & Asia & 1977 & 14880372\\\\\n",
       "\\end{tabular}\n"
      ],
      "text/markdown": [
       "\n",
       "A tibble: 6 x 4\n",
       "\n",
       "| country &lt;fct&gt; | continent &lt;fct&gt; | year &lt;int&gt; | pop &lt;int&gt; |\n",
       "|---|---|---|---|\n",
       "| Afghanistan | Asia | 1952 |  8425333 |\n",
       "| Afghanistan | Asia | 1957 |  9240934 |\n",
       "| Afghanistan | Asia | 1962 | 10267083 |\n",
       "| Afghanistan | Asia | 1967 | 11537966 |\n",
       "| Afghanistan | Asia | 1972 | 13079460 |\n",
       "| Afghanistan | Asia | 1977 | 14880372 |\n",
       "\n"
      ],
      "text/plain": [
       "  country     continent year pop     \n",
       "1 Afghanistan Asia      1952  8425333\n",
       "2 Afghanistan Asia      1957  9240934\n",
       "3 Afghanistan Asia      1962 10267083\n",
       "4 Afghanistan Asia      1967 11537966\n",
       "5 Afghanistan Asia      1972 13079460\n",
       "6 Afghanistan Asia      1977 14880372"
      ]
     },
     "metadata": {},
     "output_type": "display_data"
    }
   ],
   "source": [
    "data |> select(1:3, 5) |>\n",
    "    head()"
   ]
  },
  {
   "cell_type": "code",
   "execution_count": 43,
   "id": "642c3f73-b51c-4ab4-99a0-20ab1e8a6dae",
   "metadata": {},
   "outputs": [
    {
     "data": {
      "text/html": [
       "<table class=\"dataframe\">\n",
       "<caption>A tibble: 6 x 3</caption>\n",
       "<thead>\n",
       "\t<tr><th scope=col>lifeExp</th><th scope=col>pop</th><th scope=col>gdpPercap</th></tr>\n",
       "\t<tr><th scope=col>&lt;dbl&gt;</th><th scope=col>&lt;int&gt;</th><th scope=col>&lt;dbl&gt;</th></tr>\n",
       "</thead>\n",
       "<tbody>\n",
       "\t<tr><td>28.801</td><td> 8425333</td><td>779.4453</td></tr>\n",
       "\t<tr><td>30.332</td><td> 9240934</td><td>820.8530</td></tr>\n",
       "\t<tr><td>31.997</td><td>10267083</td><td>853.1007</td></tr>\n",
       "\t<tr><td>34.020</td><td>11537966</td><td>836.1971</td></tr>\n",
       "\t<tr><td>36.088</td><td>13079460</td><td>739.9811</td></tr>\n",
       "\t<tr><td>38.438</td><td>14880372</td><td>786.1134</td></tr>\n",
       "</tbody>\n",
       "</table>\n"
      ],
      "text/latex": [
       "A tibble: 6 x 3\n",
       "\\begin{tabular}{lll}\n",
       " lifeExp & pop & gdpPercap\\\\\n",
       " <dbl> & <int> & <dbl>\\\\\n",
       "\\hline\n",
       "\t 28.801 &  8425333 & 779.4453\\\\\n",
       "\t 30.332 &  9240934 & 820.8530\\\\\n",
       "\t 31.997 & 10267083 & 853.1007\\\\\n",
       "\t 34.020 & 11537966 & 836.1971\\\\\n",
       "\t 36.088 & 13079460 & 739.9811\\\\\n",
       "\t 38.438 & 14880372 & 786.1134\\\\\n",
       "\\end{tabular}\n"
      ],
      "text/markdown": [
       "\n",
       "A tibble: 6 x 3\n",
       "\n",
       "| lifeExp &lt;dbl&gt; | pop &lt;int&gt; | gdpPercap &lt;dbl&gt; |\n",
       "|---|---|---|\n",
       "| 28.801 |  8425333 | 779.4453 |\n",
       "| 30.332 |  9240934 | 820.8530 |\n",
       "| 31.997 | 10267083 | 853.1007 |\n",
       "| 34.020 | 11537966 | 836.1971 |\n",
       "| 36.088 | 13079460 | 739.9811 |\n",
       "| 38.438 | 14880372 | 786.1134 |\n",
       "\n"
      ],
      "text/plain": [
       "  lifeExp pop      gdpPercap\n",
       "1 28.801   8425333 779.4453 \n",
       "2 30.332   9240934 820.8530 \n",
       "3 31.997  10267083 853.1007 \n",
       "4 34.020  11537966 836.1971 \n",
       "5 36.088  13079460 739.9811 \n",
       "6 38.438  14880372 786.1134 "
      ]
     },
     "metadata": {},
     "output_type": "display_data"
    }
   ],
   "source": [
    "data |> select(-c(1:3)) |>\n",
    "    head()"
   ]
  },
  {
   "cell_type": "code",
   "execution_count": 45,
   "id": "bd1dc60f-a1f7-4e0e-8cc5-6bdc285ffb7e",
   "metadata": {},
   "outputs": [
    {
     "data": {
      "text/html": [
       "<table class=\"dataframe\">\n",
       "<caption>A tibble: 6 x 2</caption>\n",
       "<thead>\n",
       "\t<tr><th scope=col>lifeExp</th><th scope=col>pop</th></tr>\n",
       "\t<tr><th scope=col>&lt;dbl&gt;</th><th scope=col>&lt;int&gt;</th></tr>\n",
       "</thead>\n",
       "<tbody>\n",
       "\t<tr><td>28.801</td><td> 8425333</td></tr>\n",
       "\t<tr><td>30.332</td><td> 9240934</td></tr>\n",
       "\t<tr><td>31.997</td><td>10267083</td></tr>\n",
       "\t<tr><td>34.020</td><td>11537966</td></tr>\n",
       "\t<tr><td>36.088</td><td>13079460</td></tr>\n",
       "\t<tr><td>38.438</td><td>14880372</td></tr>\n",
       "</tbody>\n",
       "</table>\n"
      ],
      "text/latex": [
       "A tibble: 6 x 2\n",
       "\\begin{tabular}{ll}\n",
       " lifeExp & pop\\\\\n",
       " <dbl> & <int>\\\\\n",
       "\\hline\n",
       "\t 28.801 &  8425333\\\\\n",
       "\t 30.332 &  9240934\\\\\n",
       "\t 31.997 & 10267083\\\\\n",
       "\t 34.020 & 11537966\\\\\n",
       "\t 36.088 & 13079460\\\\\n",
       "\t 38.438 & 14880372\\\\\n",
       "\\end{tabular}\n"
      ],
      "text/markdown": [
       "\n",
       "A tibble: 6 x 2\n",
       "\n",
       "| lifeExp &lt;dbl&gt; | pop &lt;int&gt; |\n",
       "|---|---|\n",
       "| 28.801 |  8425333 |\n",
       "| 30.332 |  9240934 |\n",
       "| 31.997 | 10267083 |\n",
       "| 34.020 | 11537966 |\n",
       "| 36.088 | 13079460 |\n",
       "| 38.438 | 14880372 |\n",
       "\n"
      ],
      "text/plain": [
       "  lifeExp pop     \n",
       "1 28.801   8425333\n",
       "2 30.332   9240934\n",
       "3 31.997  10267083\n",
       "4 34.020  11537966\n",
       "5 36.088  13079460\n",
       "6 38.438  14880372"
      ]
     },
     "metadata": {},
     "output_type": "display_data"
    }
   ],
   "source": [
    "data |> select(lifeExp, pop) |>\n",
    "    head()"
   ]
  },
  {
   "cell_type": "code",
   "execution_count": 47,
   "id": "eaa7b827-2294-4003-9c35-7ab9a88e2a59",
   "metadata": {},
   "outputs": [
    {
     "data": {
      "text/html": [
       "<table class=\"dataframe\">\n",
       "<caption>A tibble: 6 x 4</caption>\n",
       "<thead>\n",
       "\t<tr><th scope=col>country</th><th scope=col>continent</th><th scope=col>year</th><th scope=col>gdpPercap</th></tr>\n",
       "\t<tr><th scope=col>&lt;fct&gt;</th><th scope=col>&lt;fct&gt;</th><th scope=col>&lt;int&gt;</th><th scope=col>&lt;dbl&gt;</th></tr>\n",
       "</thead>\n",
       "<tbody>\n",
       "\t<tr><td>Afghanistan</td><td>Asia</td><td>1952</td><td>779.4453</td></tr>\n",
       "\t<tr><td>Afghanistan</td><td>Asia</td><td>1957</td><td>820.8530</td></tr>\n",
       "\t<tr><td>Afghanistan</td><td>Asia</td><td>1962</td><td>853.1007</td></tr>\n",
       "\t<tr><td>Afghanistan</td><td>Asia</td><td>1967</td><td>836.1971</td></tr>\n",
       "\t<tr><td>Afghanistan</td><td>Asia</td><td>1972</td><td>739.9811</td></tr>\n",
       "\t<tr><td>Afghanistan</td><td>Asia</td><td>1977</td><td>786.1134</td></tr>\n",
       "</tbody>\n",
       "</table>\n"
      ],
      "text/latex": [
       "A tibble: 6 x 4\n",
       "\\begin{tabular}{llll}\n",
       " country & continent & year & gdpPercap\\\\\n",
       " <fct> & <fct> & <int> & <dbl>\\\\\n",
       "\\hline\n",
       "\t Afghanistan & Asia & 1952 & 779.4453\\\\\n",
       "\t Afghanistan & Asia & 1957 & 820.8530\\\\\n",
       "\t Afghanistan & Asia & 1962 & 853.1007\\\\\n",
       "\t Afghanistan & Asia & 1967 & 836.1971\\\\\n",
       "\t Afghanistan & Asia & 1972 & 739.9811\\\\\n",
       "\t Afghanistan & Asia & 1977 & 786.1134\\\\\n",
       "\\end{tabular}\n"
      ],
      "text/markdown": [
       "\n",
       "A tibble: 6 x 4\n",
       "\n",
       "| country &lt;fct&gt; | continent &lt;fct&gt; | year &lt;int&gt; | gdpPercap &lt;dbl&gt; |\n",
       "|---|---|---|---|\n",
       "| Afghanistan | Asia | 1952 | 779.4453 |\n",
       "| Afghanistan | Asia | 1957 | 820.8530 |\n",
       "| Afghanistan | Asia | 1962 | 853.1007 |\n",
       "| Afghanistan | Asia | 1967 | 836.1971 |\n",
       "| Afghanistan | Asia | 1972 | 739.9811 |\n",
       "| Afghanistan | Asia | 1977 | 786.1134 |\n",
       "\n"
      ],
      "text/plain": [
       "  country     continent year gdpPercap\n",
       "1 Afghanistan Asia      1952 779.4453 \n",
       "2 Afghanistan Asia      1957 820.8530 \n",
       "3 Afghanistan Asia      1962 853.1007 \n",
       "4 Afghanistan Asia      1967 836.1971 \n",
       "5 Afghanistan Asia      1972 739.9811 \n",
       "6 Afghanistan Asia      1977 786.1134 "
      ]
     },
     "metadata": {},
     "output_type": "display_data"
    }
   ],
   "source": [
    "data |> select(-lifeExp, -pop) |>\n",
    "    head()"
   ]
  },
  {
   "cell_type": "code",
   "execution_count": 49,
   "id": "c59b0872-128d-43c6-84b4-a17313efceae",
   "metadata": {},
   "outputs": [
    {
     "data": {
      "text/html": [
       "<table class=\"dataframe\">\n",
       "<caption>A tibble: 6 x 4</caption>\n",
       "<thead>\n",
       "\t<tr><th scope=col>year</th><th scope=col>lifeExp</th><th scope=col>pop</th><th scope=col>gdpPercap</th></tr>\n",
       "\t<tr><th scope=col>&lt;int&gt;</th><th scope=col>&lt;dbl&gt;</th><th scope=col>&lt;int&gt;</th><th scope=col>&lt;dbl&gt;</th></tr>\n",
       "</thead>\n",
       "<tbody>\n",
       "\t<tr><td>1952</td><td>28.801</td><td> 8425333</td><td>779.4453</td></tr>\n",
       "\t<tr><td>1957</td><td>30.332</td><td> 9240934</td><td>820.8530</td></tr>\n",
       "\t<tr><td>1962</td><td>31.997</td><td>10267083</td><td>853.1007</td></tr>\n",
       "\t<tr><td>1967</td><td>34.020</td><td>11537966</td><td>836.1971</td></tr>\n",
       "\t<tr><td>1972</td><td>36.088</td><td>13079460</td><td>739.9811</td></tr>\n",
       "\t<tr><td>1977</td><td>38.438</td><td>14880372</td><td>786.1134</td></tr>\n",
       "</tbody>\n",
       "</table>\n"
      ],
      "text/latex": [
       "A tibble: 6 x 4\n",
       "\\begin{tabular}{llll}\n",
       " year & lifeExp & pop & gdpPercap\\\\\n",
       " <int> & <dbl> & <int> & <dbl>\\\\\n",
       "\\hline\n",
       "\t 1952 & 28.801 &  8425333 & 779.4453\\\\\n",
       "\t 1957 & 30.332 &  9240934 & 820.8530\\\\\n",
       "\t 1962 & 31.997 & 10267083 & 853.1007\\\\\n",
       "\t 1967 & 34.020 & 11537966 & 836.1971\\\\\n",
       "\t 1972 & 36.088 & 13079460 & 739.9811\\\\\n",
       "\t 1977 & 38.438 & 14880372 & 786.1134\\\\\n",
       "\\end{tabular}\n"
      ],
      "text/markdown": [
       "\n",
       "A tibble: 6 x 4\n",
       "\n",
       "| year &lt;int&gt; | lifeExp &lt;dbl&gt; | pop &lt;int&gt; | gdpPercap &lt;dbl&gt; |\n",
       "|---|---|---|---|\n",
       "| 1952 | 28.801 |  8425333 | 779.4453 |\n",
       "| 1957 | 30.332 |  9240934 | 820.8530 |\n",
       "| 1962 | 31.997 | 10267083 | 853.1007 |\n",
       "| 1967 | 34.020 | 11537966 | 836.1971 |\n",
       "| 1972 | 36.088 | 13079460 | 739.9811 |\n",
       "| 1977 | 38.438 | 14880372 | 786.1134 |\n",
       "\n"
      ],
      "text/plain": [
       "  year lifeExp pop      gdpPercap\n",
       "1 1952 28.801   8425333 779.4453 \n",
       "2 1957 30.332   9240934 820.8530 \n",
       "3 1962 31.997  10267083 853.1007 \n",
       "4 1967 34.020  11537966 836.1971 \n",
       "5 1972 36.088  13079460 739.9811 \n",
       "6 1977 38.438  14880372 786.1134 "
      ]
     },
     "metadata": {},
     "output_type": "display_data"
    }
   ],
   "source": [
    "data |> select(where(is.numeric)) |>\n",
    "    head()"
   ]
  },
  {
   "cell_type": "code",
   "execution_count": 51,
   "id": "689e69e3-ea5b-48e9-a0cb-bd881dcf3048",
   "metadata": {},
   "outputs": [
    {
     "data": {
      "text/html": [
       "<table class=\"dataframe\">\n",
       "<caption>A tibble: 6 x 2</caption>\n",
       "<thead>\n",
       "\t<tr><th scope=col>country</th><th scope=col>continent</th></tr>\n",
       "\t<tr><th scope=col>&lt;fct&gt;</th><th scope=col>&lt;fct&gt;</th></tr>\n",
       "</thead>\n",
       "<tbody>\n",
       "\t<tr><td>Afghanistan</td><td>Asia</td></tr>\n",
       "\t<tr><td>Afghanistan</td><td>Asia</td></tr>\n",
       "\t<tr><td>Afghanistan</td><td>Asia</td></tr>\n",
       "\t<tr><td>Afghanistan</td><td>Asia</td></tr>\n",
       "\t<tr><td>Afghanistan</td><td>Asia</td></tr>\n",
       "\t<tr><td>Afghanistan</td><td>Asia</td></tr>\n",
       "</tbody>\n",
       "</table>\n"
      ],
      "text/latex": [
       "A tibble: 6 x 2\n",
       "\\begin{tabular}{ll}\n",
       " country & continent\\\\\n",
       " <fct> & <fct>\\\\\n",
       "\\hline\n",
       "\t Afghanistan & Asia\\\\\n",
       "\t Afghanistan & Asia\\\\\n",
       "\t Afghanistan & Asia\\\\\n",
       "\t Afghanistan & Asia\\\\\n",
       "\t Afghanistan & Asia\\\\\n",
       "\t Afghanistan & Asia\\\\\n",
       "\\end{tabular}\n"
      ],
      "text/markdown": [
       "\n",
       "A tibble: 6 x 2\n",
       "\n",
       "| country &lt;fct&gt; | continent &lt;fct&gt; |\n",
       "|---|---|\n",
       "| Afghanistan | Asia |\n",
       "| Afghanistan | Asia |\n",
       "| Afghanistan | Asia |\n",
       "| Afghanistan | Asia |\n",
       "| Afghanistan | Asia |\n",
       "| Afghanistan | Asia |\n",
       "\n"
      ],
      "text/plain": [
       "  country     continent\n",
       "1 Afghanistan Asia     \n",
       "2 Afghanistan Asia     \n",
       "3 Afghanistan Asia     \n",
       "4 Afghanistan Asia     \n",
       "5 Afghanistan Asia     \n",
       "6 Afghanistan Asia     "
      ]
     },
     "metadata": {},
     "output_type": "display_data"
    }
   ],
   "source": [
    "data |> select(!where(is.numeric)) |>\n",
    "    head()"
   ]
  },
  {
   "cell_type": "code",
   "execution_count": 54,
   "id": "7b3049be-3259-4d3e-9039-563c9a7a4381",
   "metadata": {},
   "outputs": [
    {
     "data": {
      "text/html": [
       "<table class=\"dataframe\">\n",
       "<caption>A tibble: 142 x 2</caption>\n",
       "<thead>\n",
       "\t<tr><th scope=col>country</th><th scope=col>continent</th></tr>\n",
       "\t<tr><th scope=col>&lt;fct&gt;</th><th scope=col>&lt;fct&gt;</th></tr>\n",
       "</thead>\n",
       "<tbody>\n",
       "\t<tr><td>Afghanistan             </td><td>Asia    </td></tr>\n",
       "\t<tr><td>Albania                 </td><td>Europe  </td></tr>\n",
       "\t<tr><td>Algeria                 </td><td>Africa  </td></tr>\n",
       "\t<tr><td>Angola                  </td><td>Africa  </td></tr>\n",
       "\t<tr><td>Argentina               </td><td>Americas</td></tr>\n",
       "\t<tr><td>Australia               </td><td>Oceania </td></tr>\n",
       "\t<tr><td>Austria                 </td><td>Europe  </td></tr>\n",
       "\t<tr><td>Bahrain                 </td><td>Asia    </td></tr>\n",
       "\t<tr><td>Bangladesh              </td><td>Asia    </td></tr>\n",
       "\t<tr><td>Belgium                 </td><td>Europe  </td></tr>\n",
       "\t<tr><td>Benin                   </td><td>Africa  </td></tr>\n",
       "\t<tr><td>Bolivia                 </td><td>Americas</td></tr>\n",
       "\t<tr><td>Bosnia and Herzegovina  </td><td>Europe  </td></tr>\n",
       "\t<tr><td>Botswana                </td><td>Africa  </td></tr>\n",
       "\t<tr><td>Brazil                  </td><td>Americas</td></tr>\n",
       "\t<tr><td>Bulgaria                </td><td>Europe  </td></tr>\n",
       "\t<tr><td>Burkina Faso            </td><td>Africa  </td></tr>\n",
       "\t<tr><td>Burundi                 </td><td>Africa  </td></tr>\n",
       "\t<tr><td>Cambodia                </td><td>Asia    </td></tr>\n",
       "\t<tr><td>Cameroon                </td><td>Africa  </td></tr>\n",
       "\t<tr><td>Canada                  </td><td>Americas</td></tr>\n",
       "\t<tr><td>Central African Republic</td><td>Africa  </td></tr>\n",
       "\t<tr><td>Chad                    </td><td>Africa  </td></tr>\n",
       "\t<tr><td>Chile                   </td><td>Americas</td></tr>\n",
       "\t<tr><td>China                   </td><td>Asia    </td></tr>\n",
       "\t<tr><td>Colombia                </td><td>Americas</td></tr>\n",
       "\t<tr><td>Comoros                 </td><td>Africa  </td></tr>\n",
       "\t<tr><td>Congo, Dem. Rep.        </td><td>Africa  </td></tr>\n",
       "\t<tr><td>Congo, Rep.             </td><td>Africa  </td></tr>\n",
       "\t<tr><td>Costa Rica              </td><td>Americas</td></tr>\n",
       "\t<tr><td>...</td><td>...</td></tr>\n",
       "\t<tr><td>Sierra Leone       </td><td>Africa  </td></tr>\n",
       "\t<tr><td>Singapore          </td><td>Asia    </td></tr>\n",
       "\t<tr><td>Slovak Republic    </td><td>Europe  </td></tr>\n",
       "\t<tr><td>Slovenia           </td><td>Europe  </td></tr>\n",
       "\t<tr><td>Somalia            </td><td>Africa  </td></tr>\n",
       "\t<tr><td>South Africa       </td><td>Africa  </td></tr>\n",
       "\t<tr><td>Spain              </td><td>Europe  </td></tr>\n",
       "\t<tr><td>Sri Lanka          </td><td>Asia    </td></tr>\n",
       "\t<tr><td>Sudan              </td><td>Africa  </td></tr>\n",
       "\t<tr><td>Swaziland          </td><td>Africa  </td></tr>\n",
       "\t<tr><td>Sweden             </td><td>Europe  </td></tr>\n",
       "\t<tr><td>Switzerland        </td><td>Europe  </td></tr>\n",
       "\t<tr><td>Syria              </td><td>Asia    </td></tr>\n",
       "\t<tr><td>Taiwan             </td><td>Asia    </td></tr>\n",
       "\t<tr><td>Tanzania           </td><td>Africa  </td></tr>\n",
       "\t<tr><td>Thailand           </td><td>Asia    </td></tr>\n",
       "\t<tr><td>Togo               </td><td>Africa  </td></tr>\n",
       "\t<tr><td>Trinidad and Tobago</td><td>Americas</td></tr>\n",
       "\t<tr><td>Tunisia            </td><td>Africa  </td></tr>\n",
       "\t<tr><td>Turkey             </td><td>Europe  </td></tr>\n",
       "\t<tr><td>Uganda             </td><td>Africa  </td></tr>\n",
       "\t<tr><td>United Kingdom     </td><td>Europe  </td></tr>\n",
       "\t<tr><td>United States      </td><td>Americas</td></tr>\n",
       "\t<tr><td>Uruguay            </td><td>Americas</td></tr>\n",
       "\t<tr><td>Venezuela          </td><td>Americas</td></tr>\n",
       "\t<tr><td>Vietnam            </td><td>Asia    </td></tr>\n",
       "\t<tr><td>West Bank and Gaza </td><td>Asia    </td></tr>\n",
       "\t<tr><td>Yemen, Rep.        </td><td>Asia    </td></tr>\n",
       "\t<tr><td>Zambia             </td><td>Africa  </td></tr>\n",
       "\t<tr><td>Zimbabwe           </td><td>Africa  </td></tr>\n",
       "</tbody>\n",
       "</table>\n"
      ],
      "text/latex": [
       "A tibble: 142 x 2\n",
       "\\begin{tabular}{ll}\n",
       " country & continent\\\\\n",
       " <fct> & <fct>\\\\\n",
       "\\hline\n",
       "\t Afghanistan              & Asia    \\\\\n",
       "\t Albania                  & Europe  \\\\\n",
       "\t Algeria                  & Africa  \\\\\n",
       "\t Angola                   & Africa  \\\\\n",
       "\t Argentina                & Americas\\\\\n",
       "\t Australia                & Oceania \\\\\n",
       "\t Austria                  & Europe  \\\\\n",
       "\t Bahrain                  & Asia    \\\\\n",
       "\t Bangladesh               & Asia    \\\\\n",
       "\t Belgium                  & Europe  \\\\\n",
       "\t Benin                    & Africa  \\\\\n",
       "\t Bolivia                  & Americas\\\\\n",
       "\t Bosnia and Herzegovina   & Europe  \\\\\n",
       "\t Botswana                 & Africa  \\\\\n",
       "\t Brazil                   & Americas\\\\\n",
       "\t Bulgaria                 & Europe  \\\\\n",
       "\t Burkina Faso             & Africa  \\\\\n",
       "\t Burundi                  & Africa  \\\\\n",
       "\t Cambodia                 & Asia    \\\\\n",
       "\t Cameroon                 & Africa  \\\\\n",
       "\t Canada                   & Americas\\\\\n",
       "\t Central African Republic & Africa  \\\\\n",
       "\t Chad                     & Africa  \\\\\n",
       "\t Chile                    & Americas\\\\\n",
       "\t China                    & Asia    \\\\\n",
       "\t Colombia                 & Americas\\\\\n",
       "\t Comoros                  & Africa  \\\\\n",
       "\t Congo, Dem. Rep.         & Africa  \\\\\n",
       "\t Congo, Rep.              & Africa  \\\\\n",
       "\t Costa Rica               & Americas\\\\\n",
       "\t ... & ...\\\\\n",
       "\t Sierra Leone        & Africa  \\\\\n",
       "\t Singapore           & Asia    \\\\\n",
       "\t Slovak Republic     & Europe  \\\\\n",
       "\t Slovenia            & Europe  \\\\\n",
       "\t Somalia             & Africa  \\\\\n",
       "\t South Africa        & Africa  \\\\\n",
       "\t Spain               & Europe  \\\\\n",
       "\t Sri Lanka           & Asia    \\\\\n",
       "\t Sudan               & Africa  \\\\\n",
       "\t Swaziland           & Africa  \\\\\n",
       "\t Sweden              & Europe  \\\\\n",
       "\t Switzerland         & Europe  \\\\\n",
       "\t Syria               & Asia    \\\\\n",
       "\t Taiwan              & Asia    \\\\\n",
       "\t Tanzania            & Africa  \\\\\n",
       "\t Thailand            & Asia    \\\\\n",
       "\t Togo                & Africa  \\\\\n",
       "\t Trinidad and Tobago & Americas\\\\\n",
       "\t Tunisia             & Africa  \\\\\n",
       "\t Turkey              & Europe  \\\\\n",
       "\t Uganda              & Africa  \\\\\n",
       "\t United Kingdom      & Europe  \\\\\n",
       "\t United States       & Americas\\\\\n",
       "\t Uruguay             & Americas\\\\\n",
       "\t Venezuela           & Americas\\\\\n",
       "\t Vietnam             & Asia    \\\\\n",
       "\t West Bank and Gaza  & Asia    \\\\\n",
       "\t Yemen, Rep.         & Asia    \\\\\n",
       "\t Zambia              & Africa  \\\\\n",
       "\t Zimbabwe            & Africa  \\\\\n",
       "\\end{tabular}\n"
      ],
      "text/markdown": [
       "\n",
       "A tibble: 142 x 2\n",
       "\n",
       "| country &lt;fct&gt; | continent &lt;fct&gt; |\n",
       "|---|---|\n",
       "| Afghanistan              | Asia     |\n",
       "| Albania                  | Europe   |\n",
       "| Algeria                  | Africa   |\n",
       "| Angola                   | Africa   |\n",
       "| Argentina                | Americas |\n",
       "| Australia                | Oceania  |\n",
       "| Austria                  | Europe   |\n",
       "| Bahrain                  | Asia     |\n",
       "| Bangladesh               | Asia     |\n",
       "| Belgium                  | Europe   |\n",
       "| Benin                    | Africa   |\n",
       "| Bolivia                  | Americas |\n",
       "| Bosnia and Herzegovina   | Europe   |\n",
       "| Botswana                 | Africa   |\n",
       "| Brazil                   | Americas |\n",
       "| Bulgaria                 | Europe   |\n",
       "| Burkina Faso             | Africa   |\n",
       "| Burundi                  | Africa   |\n",
       "| Cambodia                 | Asia     |\n",
       "| Cameroon                 | Africa   |\n",
       "| Canada                   | Americas |\n",
       "| Central African Republic | Africa   |\n",
       "| Chad                     | Africa   |\n",
       "| Chile                    | Americas |\n",
       "| China                    | Asia     |\n",
       "| Colombia                 | Americas |\n",
       "| Comoros                  | Africa   |\n",
       "| Congo, Dem. Rep.         | Africa   |\n",
       "| Congo, Rep.              | Africa   |\n",
       "| Costa Rica               | Americas |\n",
       "| ... | ... |\n",
       "| Sierra Leone        | Africa   |\n",
       "| Singapore           | Asia     |\n",
       "| Slovak Republic     | Europe   |\n",
       "| Slovenia            | Europe   |\n",
       "| Somalia             | Africa   |\n",
       "| South Africa        | Africa   |\n",
       "| Spain               | Europe   |\n",
       "| Sri Lanka           | Asia     |\n",
       "| Sudan               | Africa   |\n",
       "| Swaziland           | Africa   |\n",
       "| Sweden              | Europe   |\n",
       "| Switzerland         | Europe   |\n",
       "| Syria               | Asia     |\n",
       "| Taiwan              | Asia     |\n",
       "| Tanzania            | Africa   |\n",
       "| Thailand            | Asia     |\n",
       "| Togo                | Africa   |\n",
       "| Trinidad and Tobago | Americas |\n",
       "| Tunisia             | Africa   |\n",
       "| Turkey              | Europe   |\n",
       "| Uganda              | Africa   |\n",
       "| United Kingdom      | Europe   |\n",
       "| United States       | Americas |\n",
       "| Uruguay             | Americas |\n",
       "| Venezuela           | Americas |\n",
       "| Vietnam             | Asia     |\n",
       "| West Bank and Gaza  | Asia     |\n",
       "| Yemen, Rep.         | Asia     |\n",
       "| Zambia              | Africa   |\n",
       "| Zimbabwe            | Africa   |\n",
       "\n"
      ],
      "text/plain": [
       "    country                  continent\n",
       "1   Afghanistan              Asia     \n",
       "2   Albania                  Europe   \n",
       "3   Algeria                  Africa   \n",
       "4   Angola                   Africa   \n",
       "5   Argentina                Americas \n",
       "6   Australia                Oceania  \n",
       "7   Austria                  Europe   \n",
       "8   Bahrain                  Asia     \n",
       "9   Bangladesh               Asia     \n",
       "10  Belgium                  Europe   \n",
       "11  Benin                    Africa   \n",
       "12  Bolivia                  Americas \n",
       "13  Bosnia and Herzegovina   Europe   \n",
       "14  Botswana                 Africa   \n",
       "15  Brazil                   Americas \n",
       "16  Bulgaria                 Europe   \n",
       "17  Burkina Faso             Africa   \n",
       "18  Burundi                  Africa   \n",
       "19  Cambodia                 Asia     \n",
       "20  Cameroon                 Africa   \n",
       "21  Canada                   Americas \n",
       "22  Central African Republic Africa   \n",
       "23  Chad                     Africa   \n",
       "24  Chile                    Americas \n",
       "25  China                    Asia     \n",
       "26  Colombia                 Americas \n",
       "27  Comoros                  Africa   \n",
       "28  Congo, Dem. Rep.         Africa   \n",
       "29  Congo, Rep.              Africa   \n",
       "30  Costa Rica               Americas \n",
       "... ...                      ...      \n",
       "113 Sierra Leone             Africa   \n",
       "114 Singapore                Asia     \n",
       "115 Slovak Republic          Europe   \n",
       "116 Slovenia                 Europe   \n",
       "117 Somalia                  Africa   \n",
       "118 South Africa             Africa   \n",
       "119 Spain                    Europe   \n",
       "120 Sri Lanka                Asia     \n",
       "121 Sudan                    Africa   \n",
       "122 Swaziland                Africa   \n",
       "123 Sweden                   Europe   \n",
       "124 Switzerland              Europe   \n",
       "125 Syria                    Asia     \n",
       "126 Taiwan                   Asia     \n",
       "127 Tanzania                 Africa   \n",
       "128 Thailand                 Asia     \n",
       "129 Togo                     Africa   \n",
       "130 Trinidad and Tobago      Americas \n",
       "131 Tunisia                  Africa   \n",
       "132 Turkey                   Europe   \n",
       "133 Uganda                   Africa   \n",
       "134 United Kingdom           Europe   \n",
       "135 United States            Americas \n",
       "136 Uruguay                  Americas \n",
       "137 Venezuela                Americas \n",
       "138 Vietnam                  Asia     \n",
       "139 West Bank and Gaza       Asia     \n",
       "140 Yemen, Rep.              Asia     \n",
       "141 Zambia                   Africa   \n",
       "142 Zimbabwe                 Africa   "
      ]
     },
     "metadata": {},
     "output_type": "display_data"
    }
   ],
   "source": [
    "data |> select(!where(is.numeric)) |>\n",
    "    distinct()"
   ]
  },
  {
   "cell_type": "code",
   "execution_count": 64,
   "id": "d662e9f6-d286-4b47-89cc-08c75a459c35",
   "metadata": {},
   "outputs": [
    {
     "data": {
      "text/html": [
       "<table class=\"dataframe\">\n",
       "<caption>A tibble: 5 x 6</caption>\n",
       "<thead>\n",
       "\t<tr><th scope=col>country</th><th scope=col>continent</th><th scope=col>year</th><th scope=col>lifeExp</th><th scope=col>pop</th><th scope=col>gdpPercap</th></tr>\n",
       "\t<tr><th scope=col>&lt;fct&gt;</th><th scope=col>&lt;fct&gt;</th><th scope=col>&lt;int&gt;</th><th scope=col>&lt;dbl&gt;</th><th scope=col>&lt;int&gt;</th><th scope=col>&lt;dbl&gt;</th></tr>\n",
       "</thead>\n",
       "<tbody>\n",
       "\t<tr><td>Montenegro</td><td>Europe</td><td>1992</td><td>75.435</td><td>  621621</td><td> 7003.3390</td></tr>\n",
       "\t<tr><td>Hungary   </td><td>Europe</td><td>1982</td><td>69.390</td><td>10705535</td><td>12545.9907</td></tr>\n",
       "\t<tr><td>Benin     </td><td>Africa</td><td>1992</td><td>53.919</td><td> 4981671</td><td> 1191.2077</td></tr>\n",
       "\t<tr><td>Malawi    </td><td>Africa</td><td>1977</td><td>43.767</td><td> 5637246</td><td>  663.2237</td></tr>\n",
       "\t<tr><td>Thailand  </td><td>Asia  </td><td>1992</td><td>67.298</td><td>56667095</td><td> 4616.8965</td></tr>\n",
       "</tbody>\n",
       "</table>\n"
      ],
      "text/latex": [
       "A tibble: 5 x 6\n",
       "\\begin{tabular}{llllll}\n",
       " country & continent & year & lifeExp & pop & gdpPercap\\\\\n",
       " <fct> & <fct> & <int> & <dbl> & <int> & <dbl>\\\\\n",
       "\\hline\n",
       "\t Montenegro & Europe & 1992 & 75.435 &   621621 &  7003.3390\\\\\n",
       "\t Hungary    & Europe & 1982 & 69.390 & 10705535 & 12545.9907\\\\\n",
       "\t Benin      & Africa & 1992 & 53.919 &  4981671 &  1191.2077\\\\\n",
       "\t Malawi     & Africa & 1977 & 43.767 &  5637246 &   663.2237\\\\\n",
       "\t Thailand   & Asia   & 1992 & 67.298 & 56667095 &  4616.8965\\\\\n",
       "\\end{tabular}\n"
      ],
      "text/markdown": [
       "\n",
       "A tibble: 5 x 6\n",
       "\n",
       "| country &lt;fct&gt; | continent &lt;fct&gt; | year &lt;int&gt; | lifeExp &lt;dbl&gt; | pop &lt;int&gt; | gdpPercap &lt;dbl&gt; |\n",
       "|---|---|---|---|---|---|\n",
       "| Montenegro | Europe | 1992 | 75.435 |   621621 |  7003.3390 |\n",
       "| Hungary    | Europe | 1982 | 69.390 | 10705535 | 12545.9907 |\n",
       "| Benin      | Africa | 1992 | 53.919 |  4981671 |  1191.2077 |\n",
       "| Malawi     | Africa | 1977 | 43.767 |  5637246 |   663.2237 |\n",
       "| Thailand   | Asia   | 1992 | 67.298 | 56667095 |  4616.8965 |\n",
       "\n"
      ],
      "text/plain": [
       "  country    continent year lifeExp pop      gdpPercap \n",
       "1 Montenegro Europe    1992 75.435    621621  7003.3390\n",
       "2 Hungary    Europe    1982 69.390  10705535 12545.9907\n",
       "3 Benin      Africa    1992 53.919   4981671  1191.2077\n",
       "4 Malawi     Africa    1977 43.767   5637246   663.2237\n",
       "5 Thailand   Asia      1992 67.298  56667095  4616.8965"
      ]
     },
     "metadata": {},
     "output_type": "display_data"
    }
   ],
   "source": [
    "set.seed(1)\n",
    "data |> sample_n(5)"
   ]
  },
  {
   "cell_type": "code",
   "execution_count": 69,
   "id": "05d8383f-8839-4c48-a883-beeb86e368cf",
   "metadata": {},
   "outputs": [
    {
     "data": {
      "text/html": [
       "<table class=\"dataframe\">\n",
       "<caption>A tibble: 17 x 6</caption>\n",
       "<thead>\n",
       "\t<tr><th scope=col>country</th><th scope=col>continent</th><th scope=col>year</th><th scope=col>lifeExp</th><th scope=col>pop</th><th scope=col>gdpPercap</th></tr>\n",
       "\t<tr><th scope=col>&lt;fct&gt;</th><th scope=col>&lt;fct&gt;</th><th scope=col>&lt;int&gt;</th><th scope=col>&lt;dbl&gt;</th><th scope=col>&lt;int&gt;</th><th scope=col>&lt;dbl&gt;</th></tr>\n",
       "</thead>\n",
       "<tbody>\n",
       "\t<tr><td>Montenegro           </td><td>Europe  </td><td>1992</td><td>75.435</td><td>    621621</td><td> 7003.3390</td></tr>\n",
       "\t<tr><td>Hungary              </td><td>Europe  </td><td>1982</td><td>69.390</td><td>  10705535</td><td>12545.9907</td></tr>\n",
       "\t<tr><td>Benin                </td><td>Africa  </td><td>1992</td><td>53.919</td><td>   4981671</td><td> 1191.2077</td></tr>\n",
       "\t<tr><td>Malawi               </td><td>Africa  </td><td>1977</td><td>43.767</td><td>   5637246</td><td>  663.2237</td></tr>\n",
       "\t<tr><td>Thailand             </td><td>Asia    </td><td>1992</td><td>67.298</td><td>  56667095</td><td> 4616.8965</td></tr>\n",
       "\t<tr><td>El Salvador          </td><td>Americas</td><td>1962</td><td>52.307</td><td>   2747687</td><td> 3776.8036</td></tr>\n",
       "\t<tr><td>China                </td><td>Asia    </td><td>2002</td><td>72.028</td><td>1280400000</td><td> 3119.2809</td></tr>\n",
       "\t<tr><td>Chad                 </td><td>Africa  </td><td>1977</td><td>47.383</td><td>   4388260</td><td> 1133.9850</td></tr>\n",
       "\t<tr><td>Peru                 </td><td>Americas</td><td>2002</td><td>69.906</td><td>  26769436</td><td> 5909.0201</td></tr>\n",
       "\t<tr><td>Senegal              </td><td>Africa  </td><td>2002</td><td>61.600</td><td>  10870037</td><td> 1519.6353</td></tr>\n",
       "\t<tr><td>Greece               </td><td>Europe  </td><td>1992</td><td>77.030</td><td>  10325429</td><td>17541.4963</td></tr>\n",
       "\t<tr><td>Sao Tome and Principe</td><td>Africa  </td><td>1972</td><td>56.480</td><td>     76595</td><td> 1532.9853</td></tr>\n",
       "\t<tr><td>Tanzania             </td><td>Africa  </td><td>1977</td><td>49.919</td><td>  17129565</td><td>  962.4923</td></tr>\n",
       "\t<tr><td>Congo, Dem. Rep.     </td><td>Africa  </td><td>1977</td><td>47.804</td><td>  26480870</td><td>  795.7573</td></tr>\n",
       "\t<tr><td>United States        </td><td>Americas</td><td>1982</td><td>74.650</td><td> 232187835</td><td>25009.5591</td></tr>\n",
       "\t<tr><td>Angola               </td><td>Africa  </td><td>1952</td><td>30.015</td><td>   4232095</td><td> 3520.6103</td></tr>\n",
       "\t<tr><td>Nigeria              </td><td>Africa  </td><td>1952</td><td>36.324</td><td>  33119096</td><td> 1077.2819</td></tr>\n",
       "</tbody>\n",
       "</table>\n"
      ],
      "text/latex": [
       "A tibble: 17 x 6\n",
       "\\begin{tabular}{llllll}\n",
       " country & continent & year & lifeExp & pop & gdpPercap\\\\\n",
       " <fct> & <fct> & <int> & <dbl> & <int> & <dbl>\\\\\n",
       "\\hline\n",
       "\t Montenegro            & Europe   & 1992 & 75.435 &     621621 &  7003.3390\\\\\n",
       "\t Hungary               & Europe   & 1982 & 69.390 &   10705535 & 12545.9907\\\\\n",
       "\t Benin                 & Africa   & 1992 & 53.919 &    4981671 &  1191.2077\\\\\n",
       "\t Malawi                & Africa   & 1977 & 43.767 &    5637246 &   663.2237\\\\\n",
       "\t Thailand              & Asia     & 1992 & 67.298 &   56667095 &  4616.8965\\\\\n",
       "\t El Salvador           & Americas & 1962 & 52.307 &    2747687 &  3776.8036\\\\\n",
       "\t China                 & Asia     & 2002 & 72.028 & 1280400000 &  3119.2809\\\\\n",
       "\t Chad                  & Africa   & 1977 & 47.383 &    4388260 &  1133.9850\\\\\n",
       "\t Peru                  & Americas & 2002 & 69.906 &   26769436 &  5909.0201\\\\\n",
       "\t Senegal               & Africa   & 2002 & 61.600 &   10870037 &  1519.6353\\\\\n",
       "\t Greece                & Europe   & 1992 & 77.030 &   10325429 & 17541.4963\\\\\n",
       "\t Sao Tome and Principe & Africa   & 1972 & 56.480 &      76595 &  1532.9853\\\\\n",
       "\t Tanzania              & Africa   & 1977 & 49.919 &   17129565 &   962.4923\\\\\n",
       "\t Congo, Dem. Rep.      & Africa   & 1977 & 47.804 &   26480870 &   795.7573\\\\\n",
       "\t United States         & Americas & 1982 & 74.650 &  232187835 & 25009.5591\\\\\n",
       "\t Angola                & Africa   & 1952 & 30.015 &    4232095 &  3520.6103\\\\\n",
       "\t Nigeria               & Africa   & 1952 & 36.324 &   33119096 &  1077.2819\\\\\n",
       "\\end{tabular}\n"
      ],
      "text/markdown": [
       "\n",
       "A tibble: 17 x 6\n",
       "\n",
       "| country &lt;fct&gt; | continent &lt;fct&gt; | year &lt;int&gt; | lifeExp &lt;dbl&gt; | pop &lt;int&gt; | gdpPercap &lt;dbl&gt; |\n",
       "|---|---|---|---|---|---|\n",
       "| Montenegro            | Europe   | 1992 | 75.435 |     621621 |  7003.3390 |\n",
       "| Hungary               | Europe   | 1982 | 69.390 |   10705535 | 12545.9907 |\n",
       "| Benin                 | Africa   | 1992 | 53.919 |    4981671 |  1191.2077 |\n",
       "| Malawi                | Africa   | 1977 | 43.767 |    5637246 |   663.2237 |\n",
       "| Thailand              | Asia     | 1992 | 67.298 |   56667095 |  4616.8965 |\n",
       "| El Salvador           | Americas | 1962 | 52.307 |    2747687 |  3776.8036 |\n",
       "| China                 | Asia     | 2002 | 72.028 | 1280400000 |  3119.2809 |\n",
       "| Chad                  | Africa   | 1977 | 47.383 |    4388260 |  1133.9850 |\n",
       "| Peru                  | Americas | 2002 | 69.906 |   26769436 |  5909.0201 |\n",
       "| Senegal               | Africa   | 2002 | 61.600 |   10870037 |  1519.6353 |\n",
       "| Greece                | Europe   | 1992 | 77.030 |   10325429 | 17541.4963 |\n",
       "| Sao Tome and Principe | Africa   | 1972 | 56.480 |      76595 |  1532.9853 |\n",
       "| Tanzania              | Africa   | 1977 | 49.919 |   17129565 |   962.4923 |\n",
       "| Congo, Dem. Rep.      | Africa   | 1977 | 47.804 |   26480870 |   795.7573 |\n",
       "| United States         | Americas | 1982 | 74.650 |  232187835 | 25009.5591 |\n",
       "| Angola                | Africa   | 1952 | 30.015 |    4232095 |  3520.6103 |\n",
       "| Nigeria               | Africa   | 1952 | 36.324 |   33119096 |  1077.2819 |\n",
       "\n"
      ],
      "text/plain": [
       "   country               continent year lifeExp pop        gdpPercap \n",
       "1  Montenegro            Europe    1992 75.435      621621  7003.3390\n",
       "2  Hungary               Europe    1982 69.390    10705535 12545.9907\n",
       "3  Benin                 Africa    1992 53.919     4981671  1191.2077\n",
       "4  Malawi                Africa    1977 43.767     5637246   663.2237\n",
       "5  Thailand              Asia      1992 67.298    56667095  4616.8965\n",
       "6  El Salvador           Americas  1962 52.307     2747687  3776.8036\n",
       "7  China                 Asia      2002 72.028  1280400000  3119.2809\n",
       "8  Chad                  Africa    1977 47.383     4388260  1133.9850\n",
       "9  Peru                  Americas  2002 69.906    26769436  5909.0201\n",
       "10 Senegal               Africa    2002 61.600    10870037  1519.6353\n",
       "11 Greece                Europe    1992 77.030    10325429 17541.4963\n",
       "12 Sao Tome and Principe Africa    1972 56.480       76595  1532.9853\n",
       "13 Tanzania              Africa    1977 49.919    17129565   962.4923\n",
       "14 Congo, Dem. Rep.      Africa    1977 47.804    26480870   795.7573\n",
       "15 United States         Americas  1982 74.650   232187835 25009.5591\n",
       "16 Angola                Africa    1952 30.015     4232095  3520.6103\n",
       "17 Nigeria               Africa    1952 36.324    33119096  1077.2819"
      ]
     },
     "metadata": {},
     "output_type": "display_data"
    }
   ],
   "source": [
    "set.seed(1)\n",
    "data |> sample_frac(0.01)"
   ]
  },
  {
   "cell_type": "code",
   "execution_count": 72,
   "id": "61cae543-946a-4bae-9ea2-c3d3bc87b32c",
   "metadata": {},
   "outputs": [
    {
     "data": {
      "text/html": [
       "<table class=\"dataframe\">\n",
       "<caption>A tibble: 8 x 6</caption>\n",
       "<thead>\n",
       "\t<tr><th scope=col>country</th><th scope=col>continent</th><th scope=col>year</th><th scope=col>lifeExp</th><th scope=col>pop</th><th scope=col>gdpPercap</th></tr>\n",
       "\t<tr><th scope=col>&lt;fct&gt;</th><th scope=col>&lt;fct&gt;</th><th scope=col>&lt;int&gt;</th><th scope=col>&lt;dbl&gt;</th><th scope=col>&lt;int&gt;</th><th scope=col>&lt;dbl&gt;</th></tr>\n",
       "</thead>\n",
       "<tbody>\n",
       "\t<tr><td>Afghanistan</td><td>Asia</td><td>1952</td><td>28.801</td><td> 8425333</td><td>779.4453</td></tr>\n",
       "\t<tr><td>Afghanistan</td><td>Asia</td><td>1957</td><td>30.332</td><td> 9240934</td><td>820.8530</td></tr>\n",
       "\t<tr><td>Afghanistan</td><td>Asia</td><td>1962</td><td>31.997</td><td>10267083</td><td>853.1007</td></tr>\n",
       "\t<tr><td>Afghanistan</td><td>Asia</td><td>1967</td><td>34.020</td><td>11537966</td><td>836.1971</td></tr>\n",
       "\t<tr><td>Afghanistan</td><td>Asia</td><td>1972</td><td>36.088</td><td>13079460</td><td>739.9811</td></tr>\n",
       "\t<tr><td>Afghanistan</td><td>Asia</td><td>1977</td><td>38.438</td><td>14880372</td><td>786.1134</td></tr>\n",
       "\t<tr><td>Afghanistan</td><td>Asia</td><td>1982</td><td>39.854</td><td>12881816</td><td>978.0114</td></tr>\n",
       "\t<tr><td>Afghanistan</td><td>Asia</td><td>1987</td><td>40.822</td><td>13867957</td><td>852.3959</td></tr>\n",
       "</tbody>\n",
       "</table>\n"
      ],
      "text/latex": [
       "A tibble: 8 x 6\n",
       "\\begin{tabular}{llllll}\n",
       " country & continent & year & lifeExp & pop & gdpPercap\\\\\n",
       " <fct> & <fct> & <int> & <dbl> & <int> & <dbl>\\\\\n",
       "\\hline\n",
       "\t Afghanistan & Asia & 1952 & 28.801 &  8425333 & 779.4453\\\\\n",
       "\t Afghanistan & Asia & 1957 & 30.332 &  9240934 & 820.8530\\\\\n",
       "\t Afghanistan & Asia & 1962 & 31.997 & 10267083 & 853.1007\\\\\n",
       "\t Afghanistan & Asia & 1967 & 34.020 & 11537966 & 836.1971\\\\\n",
       "\t Afghanistan & Asia & 1972 & 36.088 & 13079460 & 739.9811\\\\\n",
       "\t Afghanistan & Asia & 1977 & 38.438 & 14880372 & 786.1134\\\\\n",
       "\t Afghanistan & Asia & 1982 & 39.854 & 12881816 & 978.0114\\\\\n",
       "\t Afghanistan & Asia & 1987 & 40.822 & 13867957 & 852.3959\\\\\n",
       "\\end{tabular}\n"
      ],
      "text/markdown": [
       "\n",
       "A tibble: 8 x 6\n",
       "\n",
       "| country &lt;fct&gt; | continent &lt;fct&gt; | year &lt;int&gt; | lifeExp &lt;dbl&gt; | pop &lt;int&gt; | gdpPercap &lt;dbl&gt; |\n",
       "|---|---|---|---|---|---|\n",
       "| Afghanistan | Asia | 1952 | 28.801 |  8425333 | 779.4453 |\n",
       "| Afghanistan | Asia | 1957 | 30.332 |  9240934 | 820.8530 |\n",
       "| Afghanistan | Asia | 1962 | 31.997 | 10267083 | 853.1007 |\n",
       "| Afghanistan | Asia | 1967 | 34.020 | 11537966 | 836.1971 |\n",
       "| Afghanistan | Asia | 1972 | 36.088 | 13079460 | 739.9811 |\n",
       "| Afghanistan | Asia | 1977 | 38.438 | 14880372 | 786.1134 |\n",
       "| Afghanistan | Asia | 1982 | 39.854 | 12881816 | 978.0114 |\n",
       "| Afghanistan | Asia | 1987 | 40.822 | 13867957 | 852.3959 |\n",
       "\n"
      ],
      "text/plain": [
       "  country     continent year lifeExp pop      gdpPercap\n",
       "1 Afghanistan Asia      1952 28.801   8425333 779.4453 \n",
       "2 Afghanistan Asia      1957 30.332   9240934 820.8530 \n",
       "3 Afghanistan Asia      1962 31.997  10267083 853.1007 \n",
       "4 Afghanistan Asia      1967 34.020  11537966 836.1971 \n",
       "5 Afghanistan Asia      1972 36.088  13079460 739.9811 \n",
       "6 Afghanistan Asia      1977 38.438  14880372 786.1134 \n",
       "7 Afghanistan Asia      1982 39.854  12881816 978.0114 \n",
       "8 Afghanistan Asia      1987 40.822  13867957 852.3959 "
      ]
     },
     "metadata": {},
     "output_type": "display_data"
    }
   ],
   "source": [
    "data |> slice(1:8)"
   ]
  },
  {
   "cell_type": "code",
   "execution_count": 75,
   "id": "e1695708-4bae-4977-83de-ada7e03da5cf",
   "metadata": {},
   "outputs": [
    {
     "data": {
      "text/html": [
       "<table class=\"dataframe\">\n",
       "<caption>A tibble: 5 x 6</caption>\n",
       "<thead>\n",
       "\t<tr><th scope=col>country</th><th scope=col>continent</th><th scope=col>year</th><th scope=col>lifeExp</th><th scope=col>pop</th><th scope=col>gdpPercap</th></tr>\n",
       "\t<tr><th scope=col>&lt;fct&gt;</th><th scope=col>&lt;fct&gt;</th><th scope=col>&lt;int&gt;</th><th scope=col>&lt;dbl&gt;</th><th scope=col>&lt;int&gt;</th><th scope=col>&lt;dbl&gt;</th></tr>\n",
       "</thead>\n",
       "<tbody>\n",
       "\t<tr><td>Afghanistan</td><td>Asia</td><td>1952</td><td>28.801</td><td> 8425333</td><td>779.4453</td></tr>\n",
       "\t<tr><td>Afghanistan</td><td>Asia</td><td>1957</td><td>30.332</td><td> 9240934</td><td>820.8530</td></tr>\n",
       "\t<tr><td>Afghanistan</td><td>Asia</td><td>1962</td><td>31.997</td><td>10267083</td><td>853.1007</td></tr>\n",
       "\t<tr><td>Afghanistan</td><td>Asia</td><td>1967</td><td>34.020</td><td>11537966</td><td>836.1971</td></tr>\n",
       "\t<tr><td>Afghanistan</td><td>Asia</td><td>1972</td><td>36.088</td><td>13079460</td><td>739.9811</td></tr>\n",
       "</tbody>\n",
       "</table>\n"
      ],
      "text/latex": [
       "A tibble: 5 x 6\n",
       "\\begin{tabular}{llllll}\n",
       " country & continent & year & lifeExp & pop & gdpPercap\\\\\n",
       " <fct> & <fct> & <int> & <dbl> & <int> & <dbl>\\\\\n",
       "\\hline\n",
       "\t Afghanistan & Asia & 1952 & 28.801 &  8425333 & 779.4453\\\\\n",
       "\t Afghanistan & Asia & 1957 & 30.332 &  9240934 & 820.8530\\\\\n",
       "\t Afghanistan & Asia & 1962 & 31.997 & 10267083 & 853.1007\\\\\n",
       "\t Afghanistan & Asia & 1967 & 34.020 & 11537966 & 836.1971\\\\\n",
       "\t Afghanistan & Asia & 1972 & 36.088 & 13079460 & 739.9811\\\\\n",
       "\\end{tabular}\n"
      ],
      "text/markdown": [
       "\n",
       "A tibble: 5 x 6\n",
       "\n",
       "| country &lt;fct&gt; | continent &lt;fct&gt; | year &lt;int&gt; | lifeExp &lt;dbl&gt; | pop &lt;int&gt; | gdpPercap &lt;dbl&gt; |\n",
       "|---|---|---|---|---|---|\n",
       "| Afghanistan | Asia | 1952 | 28.801 |  8425333 | 779.4453 |\n",
       "| Afghanistan | Asia | 1957 | 30.332 |  9240934 | 820.8530 |\n",
       "| Afghanistan | Asia | 1962 | 31.997 | 10267083 | 853.1007 |\n",
       "| Afghanistan | Asia | 1967 | 34.020 | 11537966 | 836.1971 |\n",
       "| Afghanistan | Asia | 1972 | 36.088 | 13079460 | 739.9811 |\n",
       "\n"
      ],
      "text/plain": [
       "  country     continent year lifeExp pop      gdpPercap\n",
       "1 Afghanistan Asia      1952 28.801   8425333 779.4453 \n",
       "2 Afghanistan Asia      1957 30.332   9240934 820.8530 \n",
       "3 Afghanistan Asia      1962 31.997  10267083 853.1007 \n",
       "4 Afghanistan Asia      1967 34.020  11537966 836.1971 \n",
       "5 Afghanistan Asia      1972 36.088  13079460 739.9811 "
      ]
     },
     "metadata": {},
     "output_type": "display_data"
    }
   ],
   "source": [
    "data |> slice_head(n = 5)"
   ]
  },
  {
   "cell_type": "code",
   "execution_count": 77,
   "id": "90310d4e-c2bf-4f44-89d9-fbd8a4157f63",
   "metadata": {},
   "outputs": [
    {
     "data": {
      "text/html": [
       "<table class=\"dataframe\">\n",
       "<caption>A tibble: 5 x 6</caption>\n",
       "<thead>\n",
       "\t<tr><th scope=col>country</th><th scope=col>continent</th><th scope=col>year</th><th scope=col>lifeExp</th><th scope=col>pop</th><th scope=col>gdpPercap</th></tr>\n",
       "\t<tr><th scope=col>&lt;fct&gt;</th><th scope=col>&lt;fct&gt;</th><th scope=col>&lt;int&gt;</th><th scope=col>&lt;dbl&gt;</th><th scope=col>&lt;int&gt;</th><th scope=col>&lt;dbl&gt;</th></tr>\n",
       "</thead>\n",
       "<tbody>\n",
       "\t<tr><td>Zimbabwe</td><td>Africa</td><td>1987</td><td>62.351</td><td> 9216418</td><td>706.1573</td></tr>\n",
       "\t<tr><td>Zimbabwe</td><td>Africa</td><td>1992</td><td>60.377</td><td>10704340</td><td>693.4208</td></tr>\n",
       "\t<tr><td>Zimbabwe</td><td>Africa</td><td>1997</td><td>46.809</td><td>11404948</td><td>792.4500</td></tr>\n",
       "\t<tr><td>Zimbabwe</td><td>Africa</td><td>2002</td><td>39.989</td><td>11926563</td><td>672.0386</td></tr>\n",
       "\t<tr><td>Zimbabwe</td><td>Africa</td><td>2007</td><td>43.487</td><td>12311143</td><td>469.7093</td></tr>\n",
       "</tbody>\n",
       "</table>\n"
      ],
      "text/latex": [
       "A tibble: 5 x 6\n",
       "\\begin{tabular}{llllll}\n",
       " country & continent & year & lifeExp & pop & gdpPercap\\\\\n",
       " <fct> & <fct> & <int> & <dbl> & <int> & <dbl>\\\\\n",
       "\\hline\n",
       "\t Zimbabwe & Africa & 1987 & 62.351 &  9216418 & 706.1573\\\\\n",
       "\t Zimbabwe & Africa & 1992 & 60.377 & 10704340 & 693.4208\\\\\n",
       "\t Zimbabwe & Africa & 1997 & 46.809 & 11404948 & 792.4500\\\\\n",
       "\t Zimbabwe & Africa & 2002 & 39.989 & 11926563 & 672.0386\\\\\n",
       "\t Zimbabwe & Africa & 2007 & 43.487 & 12311143 & 469.7093\\\\\n",
       "\\end{tabular}\n"
      ],
      "text/markdown": [
       "\n",
       "A tibble: 5 x 6\n",
       "\n",
       "| country &lt;fct&gt; | continent &lt;fct&gt; | year &lt;int&gt; | lifeExp &lt;dbl&gt; | pop &lt;int&gt; | gdpPercap &lt;dbl&gt; |\n",
       "|---|---|---|---|---|---|\n",
       "| Zimbabwe | Africa | 1987 | 62.351 |  9216418 | 706.1573 |\n",
       "| Zimbabwe | Africa | 1992 | 60.377 | 10704340 | 693.4208 |\n",
       "| Zimbabwe | Africa | 1997 | 46.809 | 11404948 | 792.4500 |\n",
       "| Zimbabwe | Africa | 2002 | 39.989 | 11926563 | 672.0386 |\n",
       "| Zimbabwe | Africa | 2007 | 43.487 | 12311143 | 469.7093 |\n",
       "\n"
      ],
      "text/plain": [
       "  country  continent year lifeExp pop      gdpPercap\n",
       "1 Zimbabwe Africa    1987 62.351   9216418 706.1573 \n",
       "2 Zimbabwe Africa    1992 60.377  10704340 693.4208 \n",
       "3 Zimbabwe Africa    1997 46.809  11404948 792.4500 \n",
       "4 Zimbabwe Africa    2002 39.989  11926563 672.0386 \n",
       "5 Zimbabwe Africa    2007 43.487  12311143 469.7093 "
      ]
     },
     "metadata": {},
     "output_type": "display_data"
    }
   ],
   "source": [
    "data |> slice_tail(n = 5)"
   ]
  },
  {
   "cell_type": "code",
   "execution_count": 79,
   "id": "12dea95b-fc92-42c4-8a8e-b21b9d4571cd",
   "metadata": {},
   "outputs": [
    {
     "data": {
      "text/html": [
       "<table class=\"dataframe\">\n",
       "<caption>A tibble: 5 x 6</caption>\n",
       "<thead>\n",
       "\t<tr><th scope=col>country</th><th scope=col>continent</th><th scope=col>year</th><th scope=col>lifeExp</th><th scope=col>pop</th><th scope=col>gdpPercap</th></tr>\n",
       "\t<tr><th scope=col>&lt;fct&gt;</th><th scope=col>&lt;fct&gt;</th><th scope=col>&lt;int&gt;</th><th scope=col>&lt;dbl&gt;</th><th scope=col>&lt;int&gt;</th><th scope=col>&lt;dbl&gt;</th></tr>\n",
       "</thead>\n",
       "<tbody>\n",
       "\t<tr><td>Japan           </td><td>Asia  </td><td>2007</td><td>82.603</td><td>127467972</td><td>31656.07</td></tr>\n",
       "\t<tr><td>Hong Kong, China</td><td>Asia  </td><td>2007</td><td>82.208</td><td>  6980412</td><td>39724.98</td></tr>\n",
       "\t<tr><td>Japan           </td><td>Asia  </td><td>2002</td><td>82.000</td><td>127065841</td><td>28604.59</td></tr>\n",
       "\t<tr><td>Iceland         </td><td>Europe</td><td>2007</td><td>81.757</td><td>   301931</td><td>36180.79</td></tr>\n",
       "\t<tr><td>Switzerland     </td><td>Europe</td><td>2007</td><td>81.701</td><td>  7554661</td><td>37506.42</td></tr>\n",
       "</tbody>\n",
       "</table>\n"
      ],
      "text/latex": [
       "A tibble: 5 x 6\n",
       "\\begin{tabular}{llllll}\n",
       " country & continent & year & lifeExp & pop & gdpPercap\\\\\n",
       " <fct> & <fct> & <int> & <dbl> & <int> & <dbl>\\\\\n",
       "\\hline\n",
       "\t Japan            & Asia   & 2007 & 82.603 & 127467972 & 31656.07\\\\\n",
       "\t Hong Kong, China & Asia   & 2007 & 82.208 &   6980412 & 39724.98\\\\\n",
       "\t Japan            & Asia   & 2002 & 82.000 & 127065841 & 28604.59\\\\\n",
       "\t Iceland          & Europe & 2007 & 81.757 &    301931 & 36180.79\\\\\n",
       "\t Switzerland      & Europe & 2007 & 81.701 &   7554661 & 37506.42\\\\\n",
       "\\end{tabular}\n"
      ],
      "text/markdown": [
       "\n",
       "A tibble: 5 x 6\n",
       "\n",
       "| country &lt;fct&gt; | continent &lt;fct&gt; | year &lt;int&gt; | lifeExp &lt;dbl&gt; | pop &lt;int&gt; | gdpPercap &lt;dbl&gt; |\n",
       "|---|---|---|---|---|---|\n",
       "| Japan            | Asia   | 2007 | 82.603 | 127467972 | 31656.07 |\n",
       "| Hong Kong, China | Asia   | 2007 | 82.208 |   6980412 | 39724.98 |\n",
       "| Japan            | Asia   | 2002 | 82.000 | 127065841 | 28604.59 |\n",
       "| Iceland          | Europe | 2007 | 81.757 |    301931 | 36180.79 |\n",
       "| Switzerland      | Europe | 2007 | 81.701 |   7554661 | 37506.42 |\n",
       "\n"
      ],
      "text/plain": [
       "  country          continent year lifeExp pop       gdpPercap\n",
       "1 Japan            Asia      2007 82.603  127467972 31656.07 \n",
       "2 Hong Kong, China Asia      2007 82.208    6980412 39724.98 \n",
       "3 Japan            Asia      2002 82.000  127065841 28604.59 \n",
       "4 Iceland          Europe    2007 81.757     301931 36180.79 \n",
       "5 Switzerland      Europe    2007 81.701    7554661 37506.42 "
      ]
     },
     "metadata": {},
     "output_type": "display_data"
    }
   ],
   "source": [
    "data |> slice_max(lifeExp, n = 5)"
   ]
  },
  {
   "cell_type": "code",
   "execution_count": 81,
   "id": "0ee334ec-273b-4d7f-b9ec-088b5b82396a",
   "metadata": {},
   "outputs": [
    {
     "data": {
      "text/html": [
       "<table class=\"dataframe\">\n",
       "<caption>A tibble: 5 x 6</caption>\n",
       "<thead>\n",
       "\t<tr><th scope=col>country</th><th scope=col>continent</th><th scope=col>year</th><th scope=col>lifeExp</th><th scope=col>pop</th><th scope=col>gdpPercap</th></tr>\n",
       "\t<tr><th scope=col>&lt;fct&gt;</th><th scope=col>&lt;fct&gt;</th><th scope=col>&lt;int&gt;</th><th scope=col>&lt;dbl&gt;</th><th scope=col>&lt;int&gt;</th><th scope=col>&lt;dbl&gt;</th></tr>\n",
       "</thead>\n",
       "<tbody>\n",
       "\t<tr><td>Rwanda      </td><td>Africa</td><td>1992</td><td>23.599</td><td>7290203</td><td> 737.0686</td></tr>\n",
       "\t<tr><td>Afghanistan </td><td>Asia  </td><td>1952</td><td>28.801</td><td>8425333</td><td> 779.4453</td></tr>\n",
       "\t<tr><td>Gambia      </td><td>Africa</td><td>1952</td><td>30.000</td><td> 284320</td><td> 485.2307</td></tr>\n",
       "\t<tr><td>Angola      </td><td>Africa</td><td>1952</td><td>30.015</td><td>4232095</td><td>3520.6103</td></tr>\n",
       "\t<tr><td>Sierra Leone</td><td>Africa</td><td>1952</td><td>30.331</td><td>2143249</td><td> 879.7877</td></tr>\n",
       "</tbody>\n",
       "</table>\n"
      ],
      "text/latex": [
       "A tibble: 5 x 6\n",
       "\\begin{tabular}{llllll}\n",
       " country & continent & year & lifeExp & pop & gdpPercap\\\\\n",
       " <fct> & <fct> & <int> & <dbl> & <int> & <dbl>\\\\\n",
       "\\hline\n",
       "\t Rwanda       & Africa & 1992 & 23.599 & 7290203 &  737.0686\\\\\n",
       "\t Afghanistan  & Asia   & 1952 & 28.801 & 8425333 &  779.4453\\\\\n",
       "\t Gambia       & Africa & 1952 & 30.000 &  284320 &  485.2307\\\\\n",
       "\t Angola       & Africa & 1952 & 30.015 & 4232095 & 3520.6103\\\\\n",
       "\t Sierra Leone & Africa & 1952 & 30.331 & 2143249 &  879.7877\\\\\n",
       "\\end{tabular}\n"
      ],
      "text/markdown": [
       "\n",
       "A tibble: 5 x 6\n",
       "\n",
       "| country &lt;fct&gt; | continent &lt;fct&gt; | year &lt;int&gt; | lifeExp &lt;dbl&gt; | pop &lt;int&gt; | gdpPercap &lt;dbl&gt; |\n",
       "|---|---|---|---|---|---|\n",
       "| Rwanda       | Africa | 1992 | 23.599 | 7290203 |  737.0686 |\n",
       "| Afghanistan  | Asia   | 1952 | 28.801 | 8425333 |  779.4453 |\n",
       "| Gambia       | Africa | 1952 | 30.000 |  284320 |  485.2307 |\n",
       "| Angola       | Africa | 1952 | 30.015 | 4232095 | 3520.6103 |\n",
       "| Sierra Leone | Africa | 1952 | 30.331 | 2143249 |  879.7877 |\n",
       "\n"
      ],
      "text/plain": [
       "  country      continent year lifeExp pop     gdpPercap\n",
       "1 Rwanda       Africa    1992 23.599  7290203  737.0686\n",
       "2 Afghanistan  Asia      1952 28.801  8425333  779.4453\n",
       "3 Gambia       Africa    1952 30.000   284320  485.2307\n",
       "4 Angola       Africa    1952 30.015  4232095 3520.6103\n",
       "5 Sierra Leone Africa    1952 30.331  2143249  879.7877"
      ]
     },
     "metadata": {},
     "output_type": "display_data"
    }
   ],
   "source": [
    "data |> slice_min(lifeExp, n = 5)"
   ]
  },
  {
   "cell_type": "code",
   "execution_count": 84,
   "id": "af3e272f-853b-4767-b733-81f92d43b8cf",
   "metadata": {},
   "outputs": [
    {
     "data": {
      "text/html": [
       "<table class=\"dataframe\">\n",
       "<caption>A tibble: 10 x 6</caption>\n",
       "<thead>\n",
       "\t<tr><th scope=col>country</th><th scope=col>continent</th><th scope=col>year</th><th scope=col>lifeExp</th><th scope=col>pop</th><th scope=col>gdpPercap</th></tr>\n",
       "\t<tr><th scope=col>&lt;fct&gt;</th><th scope=col>&lt;fct&gt;</th><th scope=col>&lt;int&gt;</th><th scope=col>&lt;dbl&gt;</th><th scope=col>&lt;int&gt;</th><th scope=col>&lt;dbl&gt;</th></tr>\n",
       "</thead>\n",
       "<tbody>\n",
       "\t<tr><td>Swaziland               </td><td>Africa</td><td>2007</td><td>39.613</td><td> 1133066</td><td>4513.4806</td></tr>\n",
       "\t<tr><td>Mozambique              </td><td>Africa</td><td>2007</td><td>42.082</td><td>19951656</td><td> 823.6856</td></tr>\n",
       "\t<tr><td>Zambia                  </td><td>Africa</td><td>2007</td><td>42.384</td><td>11746035</td><td>1271.2116</td></tr>\n",
       "\t<tr><td>Sierra Leone            </td><td>Africa</td><td>2007</td><td>42.568</td><td> 6144562</td><td> 862.5408</td></tr>\n",
       "\t<tr><td>Lesotho                 </td><td>Africa</td><td>2007</td><td>42.592</td><td> 2012649</td><td>1569.3314</td></tr>\n",
       "\t<tr><td>Angola                  </td><td>Africa</td><td>2007</td><td>42.731</td><td>12420476</td><td>4797.2313</td></tr>\n",
       "\t<tr><td>Zimbabwe                </td><td>Africa</td><td>2007</td><td>43.487</td><td>12311143</td><td> 469.7093</td></tr>\n",
       "\t<tr><td>Afghanistan             </td><td>Asia  </td><td>2007</td><td>43.828</td><td>31889923</td><td> 974.5803</td></tr>\n",
       "\t<tr><td>Central African Republic</td><td>Africa</td><td>2007</td><td>44.741</td><td> 4369038</td><td> 706.0165</td></tr>\n",
       "\t<tr><td>Liberia                 </td><td>Africa</td><td>2007</td><td>45.678</td><td> 3193942</td><td> 414.5073</td></tr>\n",
       "</tbody>\n",
       "</table>\n"
      ],
      "text/latex": [
       "A tibble: 10 x 6\n",
       "\\begin{tabular}{llllll}\n",
       " country & continent & year & lifeExp & pop & gdpPercap\\\\\n",
       " <fct> & <fct> & <int> & <dbl> & <int> & <dbl>\\\\\n",
       "\\hline\n",
       "\t Swaziland                & Africa & 2007 & 39.613 &  1133066 & 4513.4806\\\\\n",
       "\t Mozambique               & Africa & 2007 & 42.082 & 19951656 &  823.6856\\\\\n",
       "\t Zambia                   & Africa & 2007 & 42.384 & 11746035 & 1271.2116\\\\\n",
       "\t Sierra Leone             & Africa & 2007 & 42.568 &  6144562 &  862.5408\\\\\n",
       "\t Lesotho                  & Africa & 2007 & 42.592 &  2012649 & 1569.3314\\\\\n",
       "\t Angola                   & Africa & 2007 & 42.731 & 12420476 & 4797.2313\\\\\n",
       "\t Zimbabwe                 & Africa & 2007 & 43.487 & 12311143 &  469.7093\\\\\n",
       "\t Afghanistan              & Asia   & 2007 & 43.828 & 31889923 &  974.5803\\\\\n",
       "\t Central African Republic & Africa & 2007 & 44.741 &  4369038 &  706.0165\\\\\n",
       "\t Liberia                  & Africa & 2007 & 45.678 &  3193942 &  414.5073\\\\\n",
       "\\end{tabular}\n"
      ],
      "text/markdown": [
       "\n",
       "A tibble: 10 x 6\n",
       "\n",
       "| country &lt;fct&gt; | continent &lt;fct&gt; | year &lt;int&gt; | lifeExp &lt;dbl&gt; | pop &lt;int&gt; | gdpPercap &lt;dbl&gt; |\n",
       "|---|---|---|---|---|---|\n",
       "| Swaziland                | Africa | 2007 | 39.613 |  1133066 | 4513.4806 |\n",
       "| Mozambique               | Africa | 2007 | 42.082 | 19951656 |  823.6856 |\n",
       "| Zambia                   | Africa | 2007 | 42.384 | 11746035 | 1271.2116 |\n",
       "| Sierra Leone             | Africa | 2007 | 42.568 |  6144562 |  862.5408 |\n",
       "| Lesotho                  | Africa | 2007 | 42.592 |  2012649 | 1569.3314 |\n",
       "| Angola                   | Africa | 2007 | 42.731 | 12420476 | 4797.2313 |\n",
       "| Zimbabwe                 | Africa | 2007 | 43.487 | 12311143 |  469.7093 |\n",
       "| Afghanistan              | Asia   | 2007 | 43.828 | 31889923 |  974.5803 |\n",
       "| Central African Republic | Africa | 2007 | 44.741 |  4369038 |  706.0165 |\n",
       "| Liberia                  | Africa | 2007 | 45.678 |  3193942 |  414.5073 |\n",
       "\n"
      ],
      "text/plain": [
       "   country                  continent year lifeExp pop      gdpPercap\n",
       "1  Swaziland                Africa    2007 39.613   1133066 4513.4806\n",
       "2  Mozambique               Africa    2007 42.082  19951656  823.6856\n",
       "3  Zambia                   Africa    2007 42.384  11746035 1271.2116\n",
       "4  Sierra Leone             Africa    2007 42.568   6144562  862.5408\n",
       "5  Lesotho                  Africa    2007 42.592   2012649 1569.3314\n",
       "6  Angola                   Africa    2007 42.731  12420476 4797.2313\n",
       "7  Zimbabwe                 Africa    2007 43.487  12311143  469.7093\n",
       "8  Afghanistan              Asia      2007 43.828  31889923  974.5803\n",
       "9  Central African Republic Africa    2007 44.741   4369038  706.0165\n",
       "10 Liberia                  Africa    2007 45.678   3193942  414.5073"
      ]
     },
     "metadata": {},
     "output_type": "display_data"
    }
   ],
   "source": [
    "data |> filter(year == 2007) |> slice_min(lifeExp, n = 10)"
   ]
  },
  {
   "cell_type": "code",
   "execution_count": 86,
   "id": "6b9c456c-7f56-4b18-a9c3-f1fe61b43d27",
   "metadata": {},
   "outputs": [
    {
     "data": {
      "text/html": [
       "<table class=\"dataframe\">\n",
       "<caption>A tibble: 10 x 6</caption>\n",
       "<thead>\n",
       "\t<tr><th scope=col>country</th><th scope=col>continent</th><th scope=col>year</th><th scope=col>lifeExp</th><th scope=col>pop</th><th scope=col>gdpPercap</th></tr>\n",
       "\t<tr><th scope=col>&lt;fct&gt;</th><th scope=col>&lt;fct&gt;</th><th scope=col>&lt;int&gt;</th><th scope=col>&lt;dbl&gt;</th><th scope=col>&lt;int&gt;</th><th scope=col>&lt;dbl&gt;</th></tr>\n",
       "</thead>\n",
       "<tbody>\n",
       "\t<tr><td>Canada          </td><td>Americas</td><td>1982</td><td>75.76</td><td> 25201900</td><td>22898.79</td></tr>\n",
       "\t<tr><td>Greece          </td><td>Europe  </td><td>1982</td><td>75.24</td><td>  9786480</td><td>15268.42</td></tr>\n",
       "\t<tr><td>Hong Kong, China</td><td>Asia    </td><td>1982</td><td>75.45</td><td>  5264500</td><td>14560.53</td></tr>\n",
       "\t<tr><td>Iceland         </td><td>Europe  </td><td>1982</td><td>76.99</td><td>   233997</td><td>23269.61</td></tr>\n",
       "\t<tr><td>Japan           </td><td>Asia    </td><td>1982</td><td>77.11</td><td>118454974</td><td>19384.11</td></tr>\n",
       "\t<tr><td>Netherlands     </td><td>Europe  </td><td>1982</td><td>76.05</td><td> 14310401</td><td>21399.46</td></tr>\n",
       "\t<tr><td>Norway          </td><td>Europe  </td><td>1982</td><td>75.97</td><td>  4114787</td><td>26298.64</td></tr>\n",
       "\t<tr><td>Spain           </td><td>Europe  </td><td>1982</td><td>76.30</td><td> 37983310</td><td>13926.17</td></tr>\n",
       "\t<tr><td>Sweden          </td><td>Europe  </td><td>1982</td><td>76.42</td><td>  8325260</td><td>20667.38</td></tr>\n",
       "\t<tr><td>Switzerland     </td><td>Europe  </td><td>1982</td><td>76.21</td><td>  6468126</td><td>28397.72</td></tr>\n",
       "</tbody>\n",
       "</table>\n"
      ],
      "text/latex": [
       "A tibble: 10 x 6\n",
       "\\begin{tabular}{llllll}\n",
       " country & continent & year & lifeExp & pop & gdpPercap\\\\\n",
       " <fct> & <fct> & <int> & <dbl> & <int> & <dbl>\\\\\n",
       "\\hline\n",
       "\t Canada           & Americas & 1982 & 75.76 &  25201900 & 22898.79\\\\\n",
       "\t Greece           & Europe   & 1982 & 75.24 &   9786480 & 15268.42\\\\\n",
       "\t Hong Kong, China & Asia     & 1982 & 75.45 &   5264500 & 14560.53\\\\\n",
       "\t Iceland          & Europe   & 1982 & 76.99 &    233997 & 23269.61\\\\\n",
       "\t Japan            & Asia     & 1982 & 77.11 & 118454974 & 19384.11\\\\\n",
       "\t Netherlands      & Europe   & 1982 & 76.05 &  14310401 & 21399.46\\\\\n",
       "\t Norway           & Europe   & 1982 & 75.97 &   4114787 & 26298.64\\\\\n",
       "\t Spain            & Europe   & 1982 & 76.30 &  37983310 & 13926.17\\\\\n",
       "\t Sweden           & Europe   & 1982 & 76.42 &   8325260 & 20667.38\\\\\n",
       "\t Switzerland      & Europe   & 1982 & 76.21 &   6468126 & 28397.72\\\\\n",
       "\\end{tabular}\n"
      ],
      "text/markdown": [
       "\n",
       "A tibble: 10 x 6\n",
       "\n",
       "| country &lt;fct&gt; | continent &lt;fct&gt; | year &lt;int&gt; | lifeExp &lt;dbl&gt; | pop &lt;int&gt; | gdpPercap &lt;dbl&gt; |\n",
       "|---|---|---|---|---|---|\n",
       "| Canada           | Americas | 1982 | 75.76 |  25201900 | 22898.79 |\n",
       "| Greece           | Europe   | 1982 | 75.24 |   9786480 | 15268.42 |\n",
       "| Hong Kong, China | Asia     | 1982 | 75.45 |   5264500 | 14560.53 |\n",
       "| Iceland          | Europe   | 1982 | 76.99 |    233997 | 23269.61 |\n",
       "| Japan            | Asia     | 1982 | 77.11 | 118454974 | 19384.11 |\n",
       "| Netherlands      | Europe   | 1982 | 76.05 |  14310401 | 21399.46 |\n",
       "| Norway           | Europe   | 1982 | 75.97 |   4114787 | 26298.64 |\n",
       "| Spain            | Europe   | 1982 | 76.30 |  37983310 | 13926.17 |\n",
       "| Sweden           | Europe   | 1982 | 76.42 |   8325260 | 20667.38 |\n",
       "| Switzerland      | Europe   | 1982 | 76.21 |   6468126 | 28397.72 |\n",
       "\n"
      ],
      "text/plain": [
       "   country          continent year lifeExp pop       gdpPercap\n",
       "1  Canada           Americas  1982 75.76    25201900 22898.79 \n",
       "2  Greece           Europe    1982 75.24     9786480 15268.42 \n",
       "3  Hong Kong, China Asia      1982 75.45     5264500 14560.53 \n",
       "4  Iceland          Europe    1982 76.99      233997 23269.61 \n",
       "5  Japan            Asia      1982 77.11   118454974 19384.11 \n",
       "6  Netherlands      Europe    1982 76.05    14310401 21399.46 \n",
       "7  Norway           Europe    1982 75.97     4114787 26298.64 \n",
       "8  Spain            Europe    1982 76.30    37983310 13926.17 \n",
       "9  Sweden           Europe    1982 76.42     8325260 20667.38 \n",
       "10 Switzerland      Europe    1982 76.21     6468126 28397.72 "
      ]
     },
     "metadata": {},
     "output_type": "display_data"
    }
   ],
   "source": [
    "data |> filter(year == 1982) |> top_n(10, lifeExp)"
   ]
  },
  {
   "cell_type": "code",
   "execution_count": 90,
   "id": "9e431978-a35a-49bd-a6af-982f095c0c45",
   "metadata": {},
   "outputs": [
    {
     "data": {
      "text/html": [
       "<table class=\"dataframe\">\n",
       "<caption>A tibble: 5 x 6</caption>\n",
       "<thead>\n",
       "\t<tr><th scope=col>country</th><th scope=col>continent</th><th scope=col>year</th><th scope=col>lifeExp</th><th scope=col>pop</th><th scope=col>gdpPercap</th></tr>\n",
       "\t<tr><th scope=col>&lt;fct&gt;</th><th scope=col>&lt;fct&gt;</th><th scope=col>&lt;int&gt;</th><th scope=col>&lt;dbl&gt;</th><th scope=col>&lt;int&gt;</th><th scope=col>&lt;dbl&gt;</th></tr>\n",
       "</thead>\n",
       "<tbody>\n",
       "\t<tr><td>Japan      </td><td>Asia  </td><td>1982</td><td>77.11</td><td>118454974</td><td>19384.11</td></tr>\n",
       "\t<tr><td>Iceland    </td><td>Europe</td><td>1982</td><td>76.99</td><td>   233997</td><td>23269.61</td></tr>\n",
       "\t<tr><td>Sweden     </td><td>Europe</td><td>1982</td><td>76.42</td><td>  8325260</td><td>20667.38</td></tr>\n",
       "\t<tr><td>Spain      </td><td>Europe</td><td>1982</td><td>76.30</td><td> 37983310</td><td>13926.17</td></tr>\n",
       "\t<tr><td>Switzerland</td><td>Europe</td><td>1982</td><td>76.21</td><td>  6468126</td><td>28397.72</td></tr>\n",
       "</tbody>\n",
       "</table>\n"
      ],
      "text/latex": [
       "A tibble: 5 x 6\n",
       "\\begin{tabular}{llllll}\n",
       " country & continent & year & lifeExp & pop & gdpPercap\\\\\n",
       " <fct> & <fct> & <int> & <dbl> & <int> & <dbl>\\\\\n",
       "\\hline\n",
       "\t Japan       & Asia   & 1982 & 77.11 & 118454974 & 19384.11\\\\\n",
       "\t Iceland     & Europe & 1982 & 76.99 &    233997 & 23269.61\\\\\n",
       "\t Sweden      & Europe & 1982 & 76.42 &   8325260 & 20667.38\\\\\n",
       "\t Spain       & Europe & 1982 & 76.30 &  37983310 & 13926.17\\\\\n",
       "\t Switzerland & Europe & 1982 & 76.21 &   6468126 & 28397.72\\\\\n",
       "\\end{tabular}\n"
      ],
      "text/markdown": [
       "\n",
       "A tibble: 5 x 6\n",
       "\n",
       "| country &lt;fct&gt; | continent &lt;fct&gt; | year &lt;int&gt; | lifeExp &lt;dbl&gt; | pop &lt;int&gt; | gdpPercap &lt;dbl&gt; |\n",
       "|---|---|---|---|---|---|\n",
       "| Japan       | Asia   | 1982 | 77.11 | 118454974 | 19384.11 |\n",
       "| Iceland     | Europe | 1982 | 76.99 |    233997 | 23269.61 |\n",
       "| Sweden      | Europe | 1982 | 76.42 |   8325260 | 20667.38 |\n",
       "| Spain       | Europe | 1982 | 76.30 |  37983310 | 13926.17 |\n",
       "| Switzerland | Europe | 1982 | 76.21 |   6468126 | 28397.72 |\n",
       "\n"
      ],
      "text/plain": [
       "  country     continent year lifeExp pop       gdpPercap\n",
       "1 Japan       Asia      1982 77.11   118454974 19384.11 \n",
       "2 Iceland     Europe    1982 76.99      233997 23269.61 \n",
       "3 Sweden      Europe    1982 76.42     8325260 20667.38 \n",
       "4 Spain       Europe    1982 76.30    37983310 13926.17 \n",
       "5 Switzerland Europe    1982 76.21     6468126 28397.72 "
      ]
     },
     "metadata": {},
     "output_type": "display_data"
    }
   ],
   "source": [
    "data |> filter(year == 1982) |>\n",
    "    arrange(desc(lifeExp)) |>\n",
    "    head(5)"
   ]
  },
  {
   "cell_type": "code",
   "execution_count": 94,
   "id": "e96b7850-21d1-4939-8c10-fcb8bea4512b",
   "metadata": {},
   "outputs": [
    {
     "data": {
      "text/html": [
       "<table class=\"dataframe\">\n",
       "<caption>A tibble: 6 x 7</caption>\n",
       "<thead>\n",
       "\t<tr><th scope=col>country</th><th scope=col>continent</th><th scope=col>year</th><th scope=col>lifeExp</th><th scope=col>pop</th><th scope=col>gdpPercap</th><th scope=col>gdpTotal</th></tr>\n",
       "\t<tr><th scope=col>&lt;fct&gt;</th><th scope=col>&lt;fct&gt;</th><th scope=col>&lt;int&gt;</th><th scope=col>&lt;dbl&gt;</th><th scope=col>&lt;int&gt;</th><th scope=col>&lt;dbl&gt;</th><th scope=col>&lt;dbl&gt;</th></tr>\n",
       "</thead>\n",
       "<tbody>\n",
       "\t<tr><td>Norway          </td><td>Europe  </td><td>2007</td><td>80.196</td><td>  4627926</td><td>49357.19</td><td>  228421.4</td></tr>\n",
       "\t<tr><td>Kuwait          </td><td>Asia    </td><td>2007</td><td>77.588</td><td>  2505559</td><td>47306.99</td><td>  118530.5</td></tr>\n",
       "\t<tr><td>Singapore       </td><td>Asia    </td><td>2007</td><td>79.972</td><td>  4553009</td><td>47143.18</td><td>  214643.3</td></tr>\n",
       "\t<tr><td>United States   </td><td>Americas</td><td>2007</td><td>78.242</td><td>301139947</td><td>42951.65</td><td>12934458.5</td></tr>\n",
       "\t<tr><td>Ireland         </td><td>Europe  </td><td>2007</td><td>78.885</td><td>  4109086</td><td>40676.00</td><td>  167141.2</td></tr>\n",
       "\t<tr><td>Hong Kong, China</td><td>Asia    </td><td>2007</td><td>82.208</td><td>  6980412</td><td>39724.98</td><td>  277296.7</td></tr>\n",
       "</tbody>\n",
       "</table>\n"
      ],
      "text/latex": [
       "A tibble: 6 x 7\n",
       "\\begin{tabular}{lllllll}\n",
       " country & continent & year & lifeExp & pop & gdpPercap & gdpTotal\\\\\n",
       " <fct> & <fct> & <int> & <dbl> & <int> & <dbl> & <dbl>\\\\\n",
       "\\hline\n",
       "\t Norway           & Europe   & 2007 & 80.196 &   4627926 & 49357.19 &   228421.4\\\\\n",
       "\t Kuwait           & Asia     & 2007 & 77.588 &   2505559 & 47306.99 &   118530.5\\\\\n",
       "\t Singapore        & Asia     & 2007 & 79.972 &   4553009 & 47143.18 &   214643.3\\\\\n",
       "\t United States    & Americas & 2007 & 78.242 & 301139947 & 42951.65 & 12934458.5\\\\\n",
       "\t Ireland          & Europe   & 2007 & 78.885 &   4109086 & 40676.00 &   167141.2\\\\\n",
       "\t Hong Kong, China & Asia     & 2007 & 82.208 &   6980412 & 39724.98 &   277296.7\\\\\n",
       "\\end{tabular}\n"
      ],
      "text/markdown": [
       "\n",
       "A tibble: 6 x 7\n",
       "\n",
       "| country &lt;fct&gt; | continent &lt;fct&gt; | year &lt;int&gt; | lifeExp &lt;dbl&gt; | pop &lt;int&gt; | gdpPercap &lt;dbl&gt; | gdpTotal &lt;dbl&gt; |\n",
       "|---|---|---|---|---|---|---|\n",
       "| Norway           | Europe   | 2007 | 80.196 |   4627926 | 49357.19 |   228421.4 |\n",
       "| Kuwait           | Asia     | 2007 | 77.588 |   2505559 | 47306.99 |   118530.5 |\n",
       "| Singapore        | Asia     | 2007 | 79.972 |   4553009 | 47143.18 |   214643.3 |\n",
       "| United States    | Americas | 2007 | 78.242 | 301139947 | 42951.65 | 12934458.5 |\n",
       "| Ireland          | Europe   | 2007 | 78.885 |   4109086 | 40676.00 |   167141.2 |\n",
       "| Hong Kong, China | Asia     | 2007 | 82.208 |   6980412 | 39724.98 |   277296.7 |\n",
       "\n"
      ],
      "text/plain": [
       "  country          continent year lifeExp pop       gdpPercap gdpTotal  \n",
       "1 Norway           Europe    2007 80.196    4627926 49357.19    228421.4\n",
       "2 Kuwait           Asia      2007 77.588    2505559 47306.99    118530.5\n",
       "3 Singapore        Asia      2007 79.972    4553009 47143.18    214643.3\n",
       "4 United States    Americas  2007 78.242  301139947 42951.65  12934458.5\n",
       "5 Ireland          Europe    2007 78.885    4109086 40676.00    167141.2\n",
       "6 Hong Kong, China Asia      2007 82.208    6980412 39724.98    277296.7"
      ]
     },
     "metadata": {},
     "output_type": "display_data"
    }
   ],
   "source": [
    "data |>\n",
    "    filter(year == 2007) |>\n",
    "    arrange(desc(gdpPercap)) |> \n",
    "    mutate(gdpTotal = pop * gdpPercap / 10^6) |>\n",
    "    head()"
   ]
  },
  {
   "cell_type": "code",
   "execution_count": 98,
   "id": "e8f471a6-700a-4060-95d8-49ac374f4109",
   "metadata": {},
   "outputs": [
    {
     "data": {
      "text/html": [
       "<table class=\"dataframe\">\n",
       "<caption>A tibble: 6 x 7</caption>\n",
       "<thead>\n",
       "\t<tr><th scope=col>country</th><th scope=col>continent</th><th scope=col>year</th><th scope=col>lifeExp</th><th scope=col>pop</th><th scope=col>gdpPercap</th><th scope=col>gdpTotal</th></tr>\n",
       "\t<tr><th scope=col>&lt;chr&gt;</th><th scope=col>&lt;fct&gt;</th><th scope=col>&lt;int&gt;</th><th scope=col>&lt;dbl&gt;</th><th scope=col>&lt;int&gt;</th><th scope=col>&lt;dbl&gt;</th><th scope=col>&lt;dbl&gt;</th></tr>\n",
       "</thead>\n",
       "<tbody>\n",
       "\t<tr><td>NORWAY          </td><td>Europe  </td><td>2007</td><td>81</td><td>  4627926</td><td>49357.19</td><td>  228421.4</td></tr>\n",
       "\t<tr><td>KUWAIT          </td><td>Asia    </td><td>2007</td><td>78</td><td>  2505559</td><td>47306.99</td><td>  118530.5</td></tr>\n",
       "\t<tr><td>SINGAPORE       </td><td>Asia    </td><td>2007</td><td>80</td><td>  4553009</td><td>47143.18</td><td>  214643.3</td></tr>\n",
       "\t<tr><td>UNITED STATES   </td><td>Americas</td><td>2007</td><td>79</td><td>301139947</td><td>42951.65</td><td>12934458.5</td></tr>\n",
       "\t<tr><td>IRELAND         </td><td>Europe  </td><td>2007</td><td>79</td><td>  4109086</td><td>40676.00</td><td>  167141.2</td></tr>\n",
       "\t<tr><td>HONG KONG, CHINA</td><td>Asia    </td><td>2007</td><td>83</td><td>  6980412</td><td>39724.98</td><td>  277296.7</td></tr>\n",
       "</tbody>\n",
       "</table>\n"
      ],
      "text/latex": [
       "A tibble: 6 x 7\n",
       "\\begin{tabular}{lllllll}\n",
       " country & continent & year & lifeExp & pop & gdpPercap & gdpTotal\\\\\n",
       " <chr> & <fct> & <int> & <dbl> & <int> & <dbl> & <dbl>\\\\\n",
       "\\hline\n",
       "\t NORWAY           & Europe   & 2007 & 81 &   4627926 & 49357.19 &   228421.4\\\\\n",
       "\t KUWAIT           & Asia     & 2007 & 78 &   2505559 & 47306.99 &   118530.5\\\\\n",
       "\t SINGAPORE        & Asia     & 2007 & 80 &   4553009 & 47143.18 &   214643.3\\\\\n",
       "\t UNITED STATES    & Americas & 2007 & 79 & 301139947 & 42951.65 & 12934458.5\\\\\n",
       "\t IRELAND          & Europe   & 2007 & 79 &   4109086 & 40676.00 &   167141.2\\\\\n",
       "\t HONG KONG, CHINA & Asia     & 2007 & 83 &   6980412 & 39724.98 &   277296.7\\\\\n",
       "\\end{tabular}\n"
      ],
      "text/markdown": [
       "\n",
       "A tibble: 6 x 7\n",
       "\n",
       "| country &lt;chr&gt; | continent &lt;fct&gt; | year &lt;int&gt; | lifeExp &lt;dbl&gt; | pop &lt;int&gt; | gdpPercap &lt;dbl&gt; | gdpTotal &lt;dbl&gt; |\n",
       "|---|---|---|---|---|---|---|\n",
       "| NORWAY           | Europe   | 2007 | 81 |   4627926 | 49357.19 |   228421.4 |\n",
       "| KUWAIT           | Asia     | 2007 | 78 |   2505559 | 47306.99 |   118530.5 |\n",
       "| SINGAPORE        | Asia     | 2007 | 80 |   4553009 | 47143.18 |   214643.3 |\n",
       "| UNITED STATES    | Americas | 2007 | 79 | 301139947 | 42951.65 | 12934458.5 |\n",
       "| IRELAND          | Europe   | 2007 | 79 |   4109086 | 40676.00 |   167141.2 |\n",
       "| HONG KONG, CHINA | Asia     | 2007 | 83 |   6980412 | 39724.98 |   277296.7 |\n",
       "\n"
      ],
      "text/plain": [
       "  country          continent year lifeExp pop       gdpPercap gdpTotal  \n",
       "1 NORWAY           Europe    2007 81        4627926 49357.19    228421.4\n",
       "2 KUWAIT           Asia      2007 78        2505559 47306.99    118530.5\n",
       "3 SINGAPORE        Asia      2007 80        4553009 47143.18    214643.3\n",
       "4 UNITED STATES    Americas  2007 79      301139947 42951.65  12934458.5\n",
       "5 IRELAND          Europe    2007 79        4109086 40676.00    167141.2\n",
       "6 HONG KONG, CHINA Asia      2007 83        6980412 39724.98    277296.7"
      ]
     },
     "metadata": {},
     "output_type": "display_data"
    }
   ],
   "source": [
    "data |>\n",
    "    filter(year == 2007) |>\n",
    "    arrange(desc(gdpPercap)) |> \n",
    "    mutate(gdpTotal = pop * gdpPercap / 10^6,\n",
    "           country = toupper(country),\n",
    "           lifeExp = ceiling(lifeExp)) |>\n",
    "    head()"
   ]
  },
  {
   "cell_type": "markdown",
   "id": "82e71f64-9398-40db-9b2a-57bf5d5d9b35",
   "metadata": {},
   "source": [
    "Europe -> EU"
   ]
  },
  {
   "cell_type": "code",
   "execution_count": 102,
   "id": "a634382a-818a-4fbf-8dda-16824c73e715",
   "metadata": {},
   "outputs": [
    {
     "data": {
      "text/html": [
       "<table class=\"dataframe\">\n",
       "<caption>A tibble: 6 x 7</caption>\n",
       "<thead>\n",
       "\t<tr><th scope=col>country</th><th scope=col>continent</th><th scope=col>year</th><th scope=col>lifeExp</th><th scope=col>pop</th><th scope=col>gdpPercap</th><th scope=col>gdpTotal</th></tr>\n",
       "\t<tr><th scope=col>&lt;chr&gt;</th><th scope=col>&lt;chr&gt;</th><th scope=col>&lt;int&gt;</th><th scope=col>&lt;dbl&gt;</th><th scope=col>&lt;int&gt;</th><th scope=col>&lt;dbl&gt;</th><th scope=col>&lt;dbl&gt;</th></tr>\n",
       "</thead>\n",
       "<tbody>\n",
       "\t<tr><td>NORWAY          </td><td>EU              </td><td>2007</td><td>81</td><td>  4627926</td><td>49357.19</td><td>  228421.4</td></tr>\n",
       "\t<tr><td>KUWAIT          </td><td>KUWAIT          </td><td>2007</td><td>78</td><td>  2505559</td><td>47306.99</td><td>  118530.5</td></tr>\n",
       "\t<tr><td>SINGAPORE       </td><td>SINGAPORE       </td><td>2007</td><td>80</td><td>  4553009</td><td>47143.18</td><td>  214643.3</td></tr>\n",
       "\t<tr><td>UNITED STATES   </td><td>UNITED STATES   </td><td>2007</td><td>79</td><td>301139947</td><td>42951.65</td><td>12934458.5</td></tr>\n",
       "\t<tr><td>IRELAND         </td><td>EU              </td><td>2007</td><td>79</td><td>  4109086</td><td>40676.00</td><td>  167141.2</td></tr>\n",
       "\t<tr><td>HONG KONG, CHINA</td><td>HONG KONG, CHINA</td><td>2007</td><td>83</td><td>  6980412</td><td>39724.98</td><td>  277296.7</td></tr>\n",
       "</tbody>\n",
       "</table>\n"
      ],
      "text/latex": [
       "A tibble: 6 x 7\n",
       "\\begin{tabular}{lllllll}\n",
       " country & continent & year & lifeExp & pop & gdpPercap & gdpTotal\\\\\n",
       " <chr> & <chr> & <int> & <dbl> & <int> & <dbl> & <dbl>\\\\\n",
       "\\hline\n",
       "\t NORWAY           & EU               & 2007 & 81 &   4627926 & 49357.19 &   228421.4\\\\\n",
       "\t KUWAIT           & KUWAIT           & 2007 & 78 &   2505559 & 47306.99 &   118530.5\\\\\n",
       "\t SINGAPORE        & SINGAPORE        & 2007 & 80 &   4553009 & 47143.18 &   214643.3\\\\\n",
       "\t UNITED STATES    & UNITED STATES    & 2007 & 79 & 301139947 & 42951.65 & 12934458.5\\\\\n",
       "\t IRELAND          & EU               & 2007 & 79 &   4109086 & 40676.00 &   167141.2\\\\\n",
       "\t HONG KONG, CHINA & HONG KONG, CHINA & 2007 & 83 &   6980412 & 39724.98 &   277296.7\\\\\n",
       "\\end{tabular}\n"
      ],
      "text/markdown": [
       "\n",
       "A tibble: 6 x 7\n",
       "\n",
       "| country &lt;chr&gt; | continent &lt;chr&gt; | year &lt;int&gt; | lifeExp &lt;dbl&gt; | pop &lt;int&gt; | gdpPercap &lt;dbl&gt; | gdpTotal &lt;dbl&gt; |\n",
       "|---|---|---|---|---|---|---|\n",
       "| NORWAY           | EU               | 2007 | 81 |   4627926 | 49357.19 |   228421.4 |\n",
       "| KUWAIT           | KUWAIT           | 2007 | 78 |   2505559 | 47306.99 |   118530.5 |\n",
       "| SINGAPORE        | SINGAPORE        | 2007 | 80 |   4553009 | 47143.18 |   214643.3 |\n",
       "| UNITED STATES    | UNITED STATES    | 2007 | 79 | 301139947 | 42951.65 | 12934458.5 |\n",
       "| IRELAND          | EU               | 2007 | 79 |   4109086 | 40676.00 |   167141.2 |\n",
       "| HONG KONG, CHINA | HONG KONG, CHINA | 2007 | 83 |   6980412 | 39724.98 |   277296.7 |\n",
       "\n"
      ],
      "text/plain": [
       "  country          continent        year lifeExp pop       gdpPercap gdpTotal  \n",
       "1 NORWAY           EU               2007 81        4627926 49357.19    228421.4\n",
       "2 KUWAIT           KUWAIT           2007 78        2505559 47306.99    118530.5\n",
       "3 SINGAPORE        SINGAPORE        2007 80        4553009 47143.18    214643.3\n",
       "4 UNITED STATES    UNITED STATES    2007 79      301139947 42951.65  12934458.5\n",
       "5 IRELAND          EU               2007 79        4109086 40676.00    167141.2\n",
       "6 HONG KONG, CHINA HONG KONG, CHINA 2007 83        6980412 39724.98    277296.7"
      ]
     },
     "metadata": {},
     "output_type": "display_data"
    }
   ],
   "source": [
    "data |>\n",
    "    filter(year == 2007) |>\n",
    "    arrange(desc(gdpPercap)) |> \n",
    "    mutate(gdpTotal = pop * gdpPercap / 10^6,\n",
    "           country = toupper(country),\n",
    "           lifeExp = ceiling(lifeExp),\n",
    "           continent = as.character(continent\t),\n",
    "         continent = ifelse(continent\t == \"Europe\", \"EU\", country)) |>\n",
    "    head()"
   ]
  },
  {
   "cell_type": "code",
   "execution_count": 105,
   "id": "c032f1f1-e229-4b63-9a57-9de9ce2b9f59",
   "metadata": {},
   "outputs": [
    {
     "data": {
      "text/html": [
       "<table class=\"dataframe\">\n",
       "<caption>A tibble: 6 x 6</caption>\n",
       "<thead>\n",
       "\t<tr><th scope=col>country</th><th scope=col>continent</th><th scope=col>year</th><th scope=col>lifeExp</th><th scope=col>population</th><th scope=col>gdpPercap</th></tr>\n",
       "\t<tr><th scope=col>&lt;fct&gt;</th><th scope=col>&lt;fct&gt;</th><th scope=col>&lt;int&gt;</th><th scope=col>&lt;dbl&gt;</th><th scope=col>&lt;int&gt;</th><th scope=col>&lt;dbl&gt;</th></tr>\n",
       "</thead>\n",
       "<tbody>\n",
       "\t<tr><td>Afghanistan</td><td>Asia</td><td>1952</td><td>28.801</td><td> 8425333</td><td>779.4453</td></tr>\n",
       "\t<tr><td>Afghanistan</td><td>Asia</td><td>1957</td><td>30.332</td><td> 9240934</td><td>820.8530</td></tr>\n",
       "\t<tr><td>Afghanistan</td><td>Asia</td><td>1962</td><td>31.997</td><td>10267083</td><td>853.1007</td></tr>\n",
       "\t<tr><td>Afghanistan</td><td>Asia</td><td>1967</td><td>34.020</td><td>11537966</td><td>836.1971</td></tr>\n",
       "\t<tr><td>Afghanistan</td><td>Asia</td><td>1972</td><td>36.088</td><td>13079460</td><td>739.9811</td></tr>\n",
       "\t<tr><td>Afghanistan</td><td>Asia</td><td>1977</td><td>38.438</td><td>14880372</td><td>786.1134</td></tr>\n",
       "</tbody>\n",
       "</table>\n"
      ],
      "text/latex": [
       "A tibble: 6 x 6\n",
       "\\begin{tabular}{llllll}\n",
       " country & continent & year & lifeExp & population & gdpPercap\\\\\n",
       " <fct> & <fct> & <int> & <dbl> & <int> & <dbl>\\\\\n",
       "\\hline\n",
       "\t Afghanistan & Asia & 1952 & 28.801 &  8425333 & 779.4453\\\\\n",
       "\t Afghanistan & Asia & 1957 & 30.332 &  9240934 & 820.8530\\\\\n",
       "\t Afghanistan & Asia & 1962 & 31.997 & 10267083 & 853.1007\\\\\n",
       "\t Afghanistan & Asia & 1967 & 34.020 & 11537966 & 836.1971\\\\\n",
       "\t Afghanistan & Asia & 1972 & 36.088 & 13079460 & 739.9811\\\\\n",
       "\t Afghanistan & Asia & 1977 & 38.438 & 14880372 & 786.1134\\\\\n",
       "\\end{tabular}\n"
      ],
      "text/markdown": [
       "\n",
       "A tibble: 6 x 6\n",
       "\n",
       "| country &lt;fct&gt; | continent &lt;fct&gt; | year &lt;int&gt; | lifeExp &lt;dbl&gt; | population &lt;int&gt; | gdpPercap &lt;dbl&gt; |\n",
       "|---|---|---|---|---|---|\n",
       "| Afghanistan | Asia | 1952 | 28.801 |  8425333 | 779.4453 |\n",
       "| Afghanistan | Asia | 1957 | 30.332 |  9240934 | 820.8530 |\n",
       "| Afghanistan | Asia | 1962 | 31.997 | 10267083 | 853.1007 |\n",
       "| Afghanistan | Asia | 1967 | 34.020 | 11537966 | 836.1971 |\n",
       "| Afghanistan | Asia | 1972 | 36.088 | 13079460 | 739.9811 |\n",
       "| Afghanistan | Asia | 1977 | 38.438 | 14880372 | 786.1134 |\n",
       "\n"
      ],
      "text/plain": [
       "  country     continent year lifeExp population gdpPercap\n",
       "1 Afghanistan Asia      1952 28.801   8425333   779.4453 \n",
       "2 Afghanistan Asia      1957 30.332   9240934   820.8530 \n",
       "3 Afghanistan Asia      1962 31.997  10267083   853.1007 \n",
       "4 Afghanistan Asia      1967 34.020  11537966   836.1971 \n",
       "5 Afghanistan Asia      1972 36.088  13079460   739.9811 \n",
       "6 Afghanistan Asia      1977 38.438  14880372   786.1134 "
      ]
     },
     "metadata": {},
     "output_type": "display_data"
    }
   ],
   "source": [
    "data |>\n",
    "    rename(population = pop) |>\n",
    "    head()"
   ]
  },
  {
   "cell_type": "code",
   "execution_count": 108,
   "id": "a3621648-1b9a-492d-9e15-e56322bbfcad",
   "metadata": {},
   "outputs": [
    {
     "data": {
      "text/html": [
       "<table class=\"dataframe\">\n",
       "<caption>A tibble: 5 x 3</caption>\n",
       "<thead>\n",
       "\t<tr><th scope=col>continent</th><th scope=col>lifeExp2007</th><th scope=col>countries</th></tr>\n",
       "\t<tr><th scope=col>&lt;fct&gt;</th><th scope=col>&lt;dbl&gt;</th><th scope=col>&lt;int&gt;</th></tr>\n",
       "</thead>\n",
       "<tbody>\n",
       "\t<tr><td>Africa  </td><td>54.80604</td><td>52</td></tr>\n",
       "\t<tr><td>Americas</td><td>73.60812</td><td>25</td></tr>\n",
       "\t<tr><td>Asia    </td><td>70.72848</td><td>33</td></tr>\n",
       "\t<tr><td>Europe  </td><td>77.64860</td><td>30</td></tr>\n",
       "\t<tr><td>Oceania </td><td>80.71950</td><td> 2</td></tr>\n",
       "</tbody>\n",
       "</table>\n"
      ],
      "text/latex": [
       "A tibble: 5 x 3\n",
       "\\begin{tabular}{lll}\n",
       " continent & lifeExp2007 & countries\\\\\n",
       " <fct> & <dbl> & <int>\\\\\n",
       "\\hline\n",
       "\t Africa   & 54.80604 & 52\\\\\n",
       "\t Americas & 73.60812 & 25\\\\\n",
       "\t Asia     & 70.72848 & 33\\\\\n",
       "\t Europe   & 77.64860 & 30\\\\\n",
       "\t Oceania  & 80.71950 &  2\\\\\n",
       "\\end{tabular}\n"
      ],
      "text/markdown": [
       "\n",
       "A tibble: 5 x 3\n",
       "\n",
       "| continent &lt;fct&gt; | lifeExp2007 &lt;dbl&gt; | countries &lt;int&gt; |\n",
       "|---|---|---|\n",
       "| Africa   | 54.80604 | 52 |\n",
       "| Americas | 73.60812 | 25 |\n",
       "| Asia     | 70.72848 | 33 |\n",
       "| Europe   | 77.64860 | 30 |\n",
       "| Oceania  | 80.71950 |  2 |\n",
       "\n"
      ],
      "text/plain": [
       "  continent lifeExp2007 countries\n",
       "1 Africa    54.80604    52       \n",
       "2 Americas  73.60812    25       \n",
       "3 Asia      70.72848    33       \n",
       "4 Europe    77.64860    30       \n",
       "5 Oceania   80.71950     2       "
      ]
     },
     "metadata": {},
     "output_type": "display_data"
    }
   ],
   "source": [
    "data |>\n",
    "    filter(year == 2007) |>\n",
    "    group_by(continent) |>\n",
    "    summarise(\n",
    "        lifeExp2007 = mean(lifeExp),\n",
    "        countries = n()\n",
    "    )"
   ]
  },
  {
   "cell_type": "code",
   "execution_count": 110,
   "id": "49029597-2463-45c7-b0a7-f09ac848a3ee",
   "metadata": {},
   "outputs": [
    {
     "data": {
      "text/html": [
       "<table class=\"dataframe\">\n",
       "<caption>A tibble: 5 x 4</caption>\n",
       "<thead>\n",
       "\t<tr><th scope=col>continent</th><th scope=col>lifeExp2007</th><th scope=col>countries</th><th scope=col>population</th></tr>\n",
       "\t<tr><th scope=col>&lt;fct&gt;</th><th scope=col>&lt;dbl&gt;</th><th scope=col>&lt;int&gt;</th><th scope=col>&lt;dbl&gt;</th></tr>\n",
       "</thead>\n",
       "<tbody>\n",
       "\t<tr><td>Africa  </td><td>54.80604</td><td>52</td><td> 929539692</td></tr>\n",
       "\t<tr><td>Americas</td><td>73.60812</td><td>25</td><td> 898871184</td></tr>\n",
       "\t<tr><td>Asia    </td><td>70.72848</td><td>33</td><td>3811953827</td></tr>\n",
       "\t<tr><td>Europe  </td><td>77.64860</td><td>30</td><td> 586098529</td></tr>\n",
       "\t<tr><td>Oceania </td><td>80.71950</td><td> 2</td><td>  24549947</td></tr>\n",
       "</tbody>\n",
       "</table>\n"
      ],
      "text/latex": [
       "A tibble: 5 x 4\n",
       "\\begin{tabular}{llll}\n",
       " continent & lifeExp2007 & countries & population\\\\\n",
       " <fct> & <dbl> & <int> & <dbl>\\\\\n",
       "\\hline\n",
       "\t Africa   & 54.80604 & 52 &  929539692\\\\\n",
       "\t Americas & 73.60812 & 25 &  898871184\\\\\n",
       "\t Asia     & 70.72848 & 33 & 3811953827\\\\\n",
       "\t Europe   & 77.64860 & 30 &  586098529\\\\\n",
       "\t Oceania  & 80.71950 &  2 &   24549947\\\\\n",
       "\\end{tabular}\n"
      ],
      "text/markdown": [
       "\n",
       "A tibble: 5 x 4\n",
       "\n",
       "| continent &lt;fct&gt; | lifeExp2007 &lt;dbl&gt; | countries &lt;int&gt; | population &lt;dbl&gt; |\n",
       "|---|---|---|---|\n",
       "| Africa   | 54.80604 | 52 |  929539692 |\n",
       "| Americas | 73.60812 | 25 |  898871184 |\n",
       "| Asia     | 70.72848 | 33 | 3811953827 |\n",
       "| Europe   | 77.64860 | 30 |  586098529 |\n",
       "| Oceania  | 80.71950 |  2 |   24549947 |\n",
       "\n"
      ],
      "text/plain": [
       "  continent lifeExp2007 countries population\n",
       "1 Africa    54.80604    52         929539692\n",
       "2 Americas  73.60812    25         898871184\n",
       "3 Asia      70.72848    33        3811953827\n",
       "4 Europe    77.64860    30         586098529\n",
       "5 Oceania   80.71950     2          24549947"
      ]
     },
     "metadata": {},
     "output_type": "display_data"
    }
   ],
   "source": [
    "data |>\n",
    "    filter(year == 2007) |>\n",
    "    group_by(continent) |>\n",
    "    summarise(\n",
    "        lifeExp2007 = mean(lifeExp),\n",
    "        countries = n(),\n",
    "        population = sum(pop)\n",
    "    )"
   ]
  },
  {
   "cell_type": "code",
   "execution_count": 111,
   "id": "704891d3-2d2e-4c3c-8b0f-1a74ccc7cb1a",
   "metadata": {},
   "outputs": [
    {
     "data": {
      "text/html": [
       "50440465801"
      ],
      "text/latex": [
       "50440465801"
      ],
      "text/markdown": [
       "50440465801"
      ],
      "text/plain": [
       "[1] 50440465801"
      ]
     },
     "metadata": {},
     "output_type": "display_data"
    }
   ],
   "source": [
    "sum(data$pop)"
   ]
  },
  {
   "cell_type": "code",
   "execution_count": 112,
   "id": "4a834b54-fbcb-465b-9d96-556cfaf15636",
   "metadata": {},
   "outputs": [],
   "source": [
    "library(tidyr)"
   ]
  },
  {
   "cell_type": "code",
   "execution_count": 114,
   "id": "584dea02-b8b9-41e2-9ed0-db9103a24449",
   "metadata": {},
   "outputs": [
    {
     "data": {
      "text/html": [
       "<table class=\"dataframe\">\n",
       "<caption>A data.frame: 5 x 5</caption>\n",
       "<thead>\n",
       "\t<tr><th scope=col>Name</th><th scope=col>q1_2021</th><th scope=col>q2_2021</th><th scope=col>q3_2021</th><th scope=col>q4_2021</th></tr>\n",
       "\t<tr><th scope=col>&lt;chr&gt;</th><th scope=col>&lt;dbl&gt;</th><th scope=col>&lt;dbl&gt;</th><th scope=col>&lt;dbl&gt;</th><th scope=col>&lt;dbl&gt;</th></tr>\n",
       "</thead>\n",
       "<tbody>\n",
       "\t<tr><td>Nick</td><td>12442</td><td>13442</td><td>15482</td><td>14511</td></tr>\n",
       "\t<tr><td>Jake</td><td>22131</td><td>22871</td><td>22031</td><td>20031</td></tr>\n",
       "\t<tr><td>Anna</td><td>21343</td><td>20343</td><td>22456</td><td>21741</td></tr>\n",
       "\t<tr><td>Jane</td><td>22111</td><td>22222</td><td>22444</td><td>22333</td></tr>\n",
       "\t<tr><td>Dina</td><td>14123</td><td>14456</td><td>14533</td><td>14511</td></tr>\n",
       "</tbody>\n",
       "</table>\n"
      ],
      "text/latex": [
       "A data.frame: 5 x 5\n",
       "\\begin{tabular}{lllll}\n",
       " Name & q1\\_2021 & q2\\_2021 & q3\\_2021 & q4\\_2021\\\\\n",
       " <chr> & <dbl> & <dbl> & <dbl> & <dbl>\\\\\n",
       "\\hline\n",
       "\t Nick & 12442 & 13442 & 15482 & 14511\\\\\n",
       "\t Jake & 22131 & 22871 & 22031 & 20031\\\\\n",
       "\t Anna & 21343 & 20343 & 22456 & 21741\\\\\n",
       "\t Jane & 22111 & 22222 & 22444 & 22333\\\\\n",
       "\t Dina & 14123 & 14456 & 14533 & 14511\\\\\n",
       "\\end{tabular}\n"
      ],
      "text/markdown": [
       "\n",
       "A data.frame: 5 x 5\n",
       "\n",
       "| Name &lt;chr&gt; | q1_2021 &lt;dbl&gt; | q2_2021 &lt;dbl&gt; | q3_2021 &lt;dbl&gt; | q4_2021 &lt;dbl&gt; |\n",
       "|---|---|---|---|---|\n",
       "| Nick | 12442 | 13442 | 15482 | 14511 |\n",
       "| Jake | 22131 | 22871 | 22031 | 20031 |\n",
       "| Anna | 21343 | 20343 | 22456 | 21741 |\n",
       "| Jane | 22111 | 22222 | 22444 | 22333 |\n",
       "| Dina | 14123 | 14456 | 14533 | 14511 |\n",
       "\n"
      ],
      "text/plain": [
       "  Name q1_2021 q2_2021 q3_2021 q4_2021\n",
       "1 Nick 12442   13442   15482   14511  \n",
       "2 Jake 22131   22871   22031   20031  \n",
       "3 Anna 21343   20343   22456   21741  \n",
       "4 Jane 22111   22222   22444   22333  \n",
       "5 Dina 14123   14456   14533   14511  "
      ]
     },
     "metadata": {},
     "output_type": "display_data"
    }
   ],
   "source": [
    "not_good_data <- data.frame(Name = c(\"Nick\", \"Jake\", \"Anna\", \"Jane\", \"Dina\"),\n",
    "                           q1_2021 = c(12442, 22131, 21343, 22111, 14123),\n",
    "                           q2_2021 = c(13442, 22871, 20343, 22222, 14456),\n",
    "                           q3_2021 = c(15482, 22031, 22456, 22444, 14533),\n",
    "                           q4_2021 = c(14511, 20031, 21741, 22333, 14511))\n",
    "not_good_data"
   ]
  },
  {
   "cell_type": "code",
   "execution_count": 116,
   "id": "aa2acada-7a96-4d0c-b04f-6bc3f7d26ff0",
   "metadata": {},
   "outputs": [
    {
     "data": {
      "text/html": [
       "<table class=\"dataframe\">\n",
       "<caption>A data.frame: 20 x 3</caption>\n",
       "<thead>\n",
       "\t<tr><th scope=col>Name</th><th scope=col>quater</th><th scope=col>salary</th></tr>\n",
       "\t<tr><th scope=col>&lt;chr&gt;</th><th scope=col>&lt;chr&gt;</th><th scope=col>&lt;dbl&gt;</th></tr>\n",
       "</thead>\n",
       "<tbody>\n",
       "\t<tr><td>Nick</td><td>q1_2021</td><td>12442</td></tr>\n",
       "\t<tr><td>Jake</td><td>q1_2021</td><td>22131</td></tr>\n",
       "\t<tr><td>Anna</td><td>q1_2021</td><td>21343</td></tr>\n",
       "\t<tr><td>Jane</td><td>q1_2021</td><td>22111</td></tr>\n",
       "\t<tr><td>Dina</td><td>q1_2021</td><td>14123</td></tr>\n",
       "\t<tr><td>Nick</td><td>q2_2021</td><td>13442</td></tr>\n",
       "\t<tr><td>Jake</td><td>q2_2021</td><td>22871</td></tr>\n",
       "\t<tr><td>Anna</td><td>q2_2021</td><td>20343</td></tr>\n",
       "\t<tr><td>Jane</td><td>q2_2021</td><td>22222</td></tr>\n",
       "\t<tr><td>Dina</td><td>q2_2021</td><td>14456</td></tr>\n",
       "\t<tr><td>Nick</td><td>q3_2021</td><td>15482</td></tr>\n",
       "\t<tr><td>Jake</td><td>q3_2021</td><td>22031</td></tr>\n",
       "\t<tr><td>Anna</td><td>q3_2021</td><td>22456</td></tr>\n",
       "\t<tr><td>Jane</td><td>q3_2021</td><td>22444</td></tr>\n",
       "\t<tr><td>Dina</td><td>q3_2021</td><td>14533</td></tr>\n",
       "\t<tr><td>Nick</td><td>q4_2021</td><td>14511</td></tr>\n",
       "\t<tr><td>Jake</td><td>q4_2021</td><td>20031</td></tr>\n",
       "\t<tr><td>Anna</td><td>q4_2021</td><td>21741</td></tr>\n",
       "\t<tr><td>Jane</td><td>q4_2021</td><td>22333</td></tr>\n",
       "\t<tr><td>Dina</td><td>q4_2021</td><td>14511</td></tr>\n",
       "</tbody>\n",
       "</table>\n"
      ],
      "text/latex": [
       "A data.frame: 20 x 3\n",
       "\\begin{tabular}{lll}\n",
       " Name & quater & salary\\\\\n",
       " <chr> & <chr> & <dbl>\\\\\n",
       "\\hline\n",
       "\t Nick & q1\\_2021 & 12442\\\\\n",
       "\t Jake & q1\\_2021 & 22131\\\\\n",
       "\t Anna & q1\\_2021 & 21343\\\\\n",
       "\t Jane & q1\\_2021 & 22111\\\\\n",
       "\t Dina & q1\\_2021 & 14123\\\\\n",
       "\t Nick & q2\\_2021 & 13442\\\\\n",
       "\t Jake & q2\\_2021 & 22871\\\\\n",
       "\t Anna & q2\\_2021 & 20343\\\\\n",
       "\t Jane & q2\\_2021 & 22222\\\\\n",
       "\t Dina & q2\\_2021 & 14456\\\\\n",
       "\t Nick & q3\\_2021 & 15482\\\\\n",
       "\t Jake & q3\\_2021 & 22031\\\\\n",
       "\t Anna & q3\\_2021 & 22456\\\\\n",
       "\t Jane & q3\\_2021 & 22444\\\\\n",
       "\t Dina & q3\\_2021 & 14533\\\\\n",
       "\t Nick & q4\\_2021 & 14511\\\\\n",
       "\t Jake & q4\\_2021 & 20031\\\\\n",
       "\t Anna & q4\\_2021 & 21741\\\\\n",
       "\t Jane & q4\\_2021 & 22333\\\\\n",
       "\t Dina & q4\\_2021 & 14511\\\\\n",
       "\\end{tabular}\n"
      ],
      "text/markdown": [
       "\n",
       "A data.frame: 20 x 3\n",
       "\n",
       "| Name &lt;chr&gt; | quater &lt;chr&gt; | salary &lt;dbl&gt; |\n",
       "|---|---|---|\n",
       "| Nick | q1_2021 | 12442 |\n",
       "| Jake | q1_2021 | 22131 |\n",
       "| Anna | q1_2021 | 21343 |\n",
       "| Jane | q1_2021 | 22111 |\n",
       "| Dina | q1_2021 | 14123 |\n",
       "| Nick | q2_2021 | 13442 |\n",
       "| Jake | q2_2021 | 22871 |\n",
       "| Anna | q2_2021 | 20343 |\n",
       "| Jane | q2_2021 | 22222 |\n",
       "| Dina | q2_2021 | 14456 |\n",
       "| Nick | q3_2021 | 15482 |\n",
       "| Jake | q3_2021 | 22031 |\n",
       "| Anna | q3_2021 | 22456 |\n",
       "| Jane | q3_2021 | 22444 |\n",
       "| Dina | q3_2021 | 14533 |\n",
       "| Nick | q4_2021 | 14511 |\n",
       "| Jake | q4_2021 | 20031 |\n",
       "| Anna | q4_2021 | 21741 |\n",
       "| Jane | q4_2021 | 22333 |\n",
       "| Dina | q4_2021 | 14511 |\n",
       "\n"
      ],
      "text/plain": [
       "   Name quater  salary\n",
       "1  Nick q1_2021 12442 \n",
       "2  Jake q1_2021 22131 \n",
       "3  Anna q1_2021 21343 \n",
       "4  Jane q1_2021 22111 \n",
       "5  Dina q1_2021 14123 \n",
       "6  Nick q2_2021 13442 \n",
       "7  Jake q2_2021 22871 \n",
       "8  Anna q2_2021 20343 \n",
       "9  Jane q2_2021 22222 \n",
       "10 Dina q2_2021 14456 \n",
       "11 Nick q3_2021 15482 \n",
       "12 Jake q3_2021 22031 \n",
       "13 Anna q3_2021 22456 \n",
       "14 Jane q3_2021 22444 \n",
       "15 Dina q3_2021 14533 \n",
       "16 Nick q4_2021 14511 \n",
       "17 Jake q4_2021 20031 \n",
       "18 Anna q4_2021 21741 \n",
       "19 Jane q4_2021 22333 \n",
       "20 Dina q4_2021 14511 "
      ]
     },
     "metadata": {},
     "output_type": "display_data"
    }
   ],
   "source": [
    "better_data <- not_good_data |>\n",
    "    gather(quater, salary, 2:5)\n",
    "better_data"
   ]
  },
  {
   "cell_type": "code",
   "execution_count": 119,
   "id": "88ff47ae-d2df-4541-95c9-a2677597f77c",
   "metadata": {},
   "outputs": [
    {
     "data": {
      "text/html": [
       "<table class=\"dataframe\">\n",
       "<caption>A data.frame: 20 x 4</caption>\n",
       "<thead>\n",
       "\t<tr><th scope=col>Name</th><th scope=col>quater</th><th scope=col>year</th><th scope=col>salary</th></tr>\n",
       "\t<tr><th scope=col>&lt;chr&gt;</th><th scope=col>&lt;chr&gt;</th><th scope=col>&lt;chr&gt;</th><th scope=col>&lt;dbl&gt;</th></tr>\n",
       "</thead>\n",
       "<tbody>\n",
       "\t<tr><td>Nick</td><td>q1</td><td>2021</td><td>12442</td></tr>\n",
       "\t<tr><td>Jake</td><td>q1</td><td>2021</td><td>22131</td></tr>\n",
       "\t<tr><td>Anna</td><td>q1</td><td>2021</td><td>21343</td></tr>\n",
       "\t<tr><td>Jane</td><td>q1</td><td>2021</td><td>22111</td></tr>\n",
       "\t<tr><td>Dina</td><td>q1</td><td>2021</td><td>14123</td></tr>\n",
       "\t<tr><td>Nick</td><td>q2</td><td>2021</td><td>13442</td></tr>\n",
       "\t<tr><td>Jake</td><td>q2</td><td>2021</td><td>22871</td></tr>\n",
       "\t<tr><td>Anna</td><td>q2</td><td>2021</td><td>20343</td></tr>\n",
       "\t<tr><td>Jane</td><td>q2</td><td>2021</td><td>22222</td></tr>\n",
       "\t<tr><td>Dina</td><td>q2</td><td>2021</td><td>14456</td></tr>\n",
       "\t<tr><td>Nick</td><td>q3</td><td>2021</td><td>15482</td></tr>\n",
       "\t<tr><td>Jake</td><td>q3</td><td>2021</td><td>22031</td></tr>\n",
       "\t<tr><td>Anna</td><td>q3</td><td>2021</td><td>22456</td></tr>\n",
       "\t<tr><td>Jane</td><td>q3</td><td>2021</td><td>22444</td></tr>\n",
       "\t<tr><td>Dina</td><td>q3</td><td>2021</td><td>14533</td></tr>\n",
       "\t<tr><td>Nick</td><td>q4</td><td>2021</td><td>14511</td></tr>\n",
       "\t<tr><td>Jake</td><td>q4</td><td>2021</td><td>20031</td></tr>\n",
       "\t<tr><td>Anna</td><td>q4</td><td>2021</td><td>21741</td></tr>\n",
       "\t<tr><td>Jane</td><td>q4</td><td>2021</td><td>22333</td></tr>\n",
       "\t<tr><td>Dina</td><td>q4</td><td>2021</td><td>14511</td></tr>\n",
       "</tbody>\n",
       "</table>\n"
      ],
      "text/latex": [
       "A data.frame: 20 x 4\n",
       "\\begin{tabular}{llll}\n",
       " Name & quater & year & salary\\\\\n",
       " <chr> & <chr> & <chr> & <dbl>\\\\\n",
       "\\hline\n",
       "\t Nick & q1 & 2021 & 12442\\\\\n",
       "\t Jake & q1 & 2021 & 22131\\\\\n",
       "\t Anna & q1 & 2021 & 21343\\\\\n",
       "\t Jane & q1 & 2021 & 22111\\\\\n",
       "\t Dina & q1 & 2021 & 14123\\\\\n",
       "\t Nick & q2 & 2021 & 13442\\\\\n",
       "\t Jake & q2 & 2021 & 22871\\\\\n",
       "\t Anna & q2 & 2021 & 20343\\\\\n",
       "\t Jane & q2 & 2021 & 22222\\\\\n",
       "\t Dina & q2 & 2021 & 14456\\\\\n",
       "\t Nick & q3 & 2021 & 15482\\\\\n",
       "\t Jake & q3 & 2021 & 22031\\\\\n",
       "\t Anna & q3 & 2021 & 22456\\\\\n",
       "\t Jane & q3 & 2021 & 22444\\\\\n",
       "\t Dina & q3 & 2021 & 14533\\\\\n",
       "\t Nick & q4 & 2021 & 14511\\\\\n",
       "\t Jake & q4 & 2021 & 20031\\\\\n",
       "\t Anna & q4 & 2021 & 21741\\\\\n",
       "\t Jane & q4 & 2021 & 22333\\\\\n",
       "\t Dina & q4 & 2021 & 14511\\\\\n",
       "\\end{tabular}\n"
      ],
      "text/markdown": [
       "\n",
       "A data.frame: 20 x 4\n",
       "\n",
       "| Name &lt;chr&gt; | quater &lt;chr&gt; | year &lt;chr&gt; | salary &lt;dbl&gt; |\n",
       "|---|---|---|---|\n",
       "| Nick | q1 | 2021 | 12442 |\n",
       "| Jake | q1 | 2021 | 22131 |\n",
       "| Anna | q1 | 2021 | 21343 |\n",
       "| Jane | q1 | 2021 | 22111 |\n",
       "| Dina | q1 | 2021 | 14123 |\n",
       "| Nick | q2 | 2021 | 13442 |\n",
       "| Jake | q2 | 2021 | 22871 |\n",
       "| Anna | q2 | 2021 | 20343 |\n",
       "| Jane | q2 | 2021 | 22222 |\n",
       "| Dina | q2 | 2021 | 14456 |\n",
       "| Nick | q3 | 2021 | 15482 |\n",
       "| Jake | q3 | 2021 | 22031 |\n",
       "| Anna | q3 | 2021 | 22456 |\n",
       "| Jane | q3 | 2021 | 22444 |\n",
       "| Dina | q3 | 2021 | 14533 |\n",
       "| Nick | q4 | 2021 | 14511 |\n",
       "| Jake | q4 | 2021 | 20031 |\n",
       "| Anna | q4 | 2021 | 21741 |\n",
       "| Jane | q4 | 2021 | 22333 |\n",
       "| Dina | q4 | 2021 | 14511 |\n",
       "\n"
      ],
      "text/plain": [
       "   Name quater year salary\n",
       "1  Nick q1     2021 12442 \n",
       "2  Jake q1     2021 22131 \n",
       "3  Anna q1     2021 21343 \n",
       "4  Jane q1     2021 22111 \n",
       "5  Dina q1     2021 14123 \n",
       "6  Nick q2     2021 13442 \n",
       "7  Jake q2     2021 22871 \n",
       "8  Anna q2     2021 20343 \n",
       "9  Jane q2     2021 22222 \n",
       "10 Dina q2     2021 14456 \n",
       "11 Nick q3     2021 15482 \n",
       "12 Jake q3     2021 22031 \n",
       "13 Anna q3     2021 22456 \n",
       "14 Jane q3     2021 22444 \n",
       "15 Dina q3     2021 14533 \n",
       "16 Nick q4     2021 14511 \n",
       "17 Jake q4     2021 20031 \n",
       "18 Anna q4     2021 21741 \n",
       "19 Jane q4     2021 22333 \n",
       "20 Dina q4     2021 14511 "
      ]
     },
     "metadata": {},
     "output_type": "display_data"
    }
   ],
   "source": [
    "best_data <- better_data |>\n",
    "    separate(quater, c(\"quater\", \"year\"), sep = \"_\") \n",
    "best_data"
   ]
  },
  {
   "cell_type": "code",
   "execution_count": 121,
   "id": "cac38644-8846-4be3-8f6c-5c2159407dce",
   "metadata": {},
   "outputs": [
    {
     "data": {
      "text/html": [
       "<table class=\"dataframe\">\n",
       "<caption>A data.frame: 20 x 4</caption>\n",
       "<thead>\n",
       "\t<tr><th scope=col>Name</th><th scope=col>quater</th><th scope=col>year</th><th scope=col>salary</th></tr>\n",
       "\t<tr><th scope=col>&lt;chr&gt;</th><th scope=col>&lt;int&gt;</th><th scope=col>&lt;int&gt;</th><th scope=col>&lt;dbl&gt;</th></tr>\n",
       "</thead>\n",
       "<tbody>\n",
       "\t<tr><td>Nick</td><td>1</td><td>2021</td><td>12442</td></tr>\n",
       "\t<tr><td>Jake</td><td>1</td><td>2021</td><td>22131</td></tr>\n",
       "\t<tr><td>Anna</td><td>1</td><td>2021</td><td>21343</td></tr>\n",
       "\t<tr><td>Jane</td><td>1</td><td>2021</td><td>22111</td></tr>\n",
       "\t<tr><td>Dina</td><td>1</td><td>2021</td><td>14123</td></tr>\n",
       "\t<tr><td>Nick</td><td>2</td><td>2021</td><td>13442</td></tr>\n",
       "\t<tr><td>Jake</td><td>2</td><td>2021</td><td>22871</td></tr>\n",
       "\t<tr><td>Anna</td><td>2</td><td>2021</td><td>20343</td></tr>\n",
       "\t<tr><td>Jane</td><td>2</td><td>2021</td><td>22222</td></tr>\n",
       "\t<tr><td>Dina</td><td>2</td><td>2021</td><td>14456</td></tr>\n",
       "\t<tr><td>Nick</td><td>3</td><td>2021</td><td>15482</td></tr>\n",
       "\t<tr><td>Jake</td><td>3</td><td>2021</td><td>22031</td></tr>\n",
       "\t<tr><td>Anna</td><td>3</td><td>2021</td><td>22456</td></tr>\n",
       "\t<tr><td>Jane</td><td>3</td><td>2021</td><td>22444</td></tr>\n",
       "\t<tr><td>Dina</td><td>3</td><td>2021</td><td>14533</td></tr>\n",
       "\t<tr><td>Nick</td><td>4</td><td>2021</td><td>14511</td></tr>\n",
       "\t<tr><td>Jake</td><td>4</td><td>2021</td><td>20031</td></tr>\n",
       "\t<tr><td>Anna</td><td>4</td><td>2021</td><td>21741</td></tr>\n",
       "\t<tr><td>Jane</td><td>4</td><td>2021</td><td>22333</td></tr>\n",
       "\t<tr><td>Dina</td><td>4</td><td>2021</td><td>14511</td></tr>\n",
       "</tbody>\n",
       "</table>\n"
      ],
      "text/latex": [
       "A data.frame: 20 x 4\n",
       "\\begin{tabular}{llll}\n",
       " Name & quater & year & salary\\\\\n",
       " <chr> & <int> & <int> & <dbl>\\\\\n",
       "\\hline\n",
       "\t Nick & 1 & 2021 & 12442\\\\\n",
       "\t Jake & 1 & 2021 & 22131\\\\\n",
       "\t Anna & 1 & 2021 & 21343\\\\\n",
       "\t Jane & 1 & 2021 & 22111\\\\\n",
       "\t Dina & 1 & 2021 & 14123\\\\\n",
       "\t Nick & 2 & 2021 & 13442\\\\\n",
       "\t Jake & 2 & 2021 & 22871\\\\\n",
       "\t Anna & 2 & 2021 & 20343\\\\\n",
       "\t Jane & 2 & 2021 & 22222\\\\\n",
       "\t Dina & 2 & 2021 & 14456\\\\\n",
       "\t Nick & 3 & 2021 & 15482\\\\\n",
       "\t Jake & 3 & 2021 & 22031\\\\\n",
       "\t Anna & 3 & 2021 & 22456\\\\\n",
       "\t Jane & 3 & 2021 & 22444\\\\\n",
       "\t Dina & 3 & 2021 & 14533\\\\\n",
       "\t Nick & 4 & 2021 & 14511\\\\\n",
       "\t Jake & 4 & 2021 & 20031\\\\\n",
       "\t Anna & 4 & 2021 & 21741\\\\\n",
       "\t Jane & 4 & 2021 & 22333\\\\\n",
       "\t Dina & 4 & 2021 & 14511\\\\\n",
       "\\end{tabular}\n"
      ],
      "text/markdown": [
       "\n",
       "A data.frame: 20 x 4\n",
       "\n",
       "| Name &lt;chr&gt; | quater &lt;int&gt; | year &lt;int&gt; | salary &lt;dbl&gt; |\n",
       "|---|---|---|---|\n",
       "| Nick | 1 | 2021 | 12442 |\n",
       "| Jake | 1 | 2021 | 22131 |\n",
       "| Anna | 1 | 2021 | 21343 |\n",
       "| Jane | 1 | 2021 | 22111 |\n",
       "| Dina | 1 | 2021 | 14123 |\n",
       "| Nick | 2 | 2021 | 13442 |\n",
       "| Jake | 2 | 2021 | 22871 |\n",
       "| Anna | 2 | 2021 | 20343 |\n",
       "| Jane | 2 | 2021 | 22222 |\n",
       "| Dina | 2 | 2021 | 14456 |\n",
       "| Nick | 3 | 2021 | 15482 |\n",
       "| Jake | 3 | 2021 | 22031 |\n",
       "| Anna | 3 | 2021 | 22456 |\n",
       "| Jane | 3 | 2021 | 22444 |\n",
       "| Dina | 3 | 2021 | 14533 |\n",
       "| Nick | 4 | 2021 | 14511 |\n",
       "| Jake | 4 | 2021 | 20031 |\n",
       "| Anna | 4 | 2021 | 21741 |\n",
       "| Jane | 4 | 2021 | 22333 |\n",
       "| Dina | 4 | 2021 | 14511 |\n",
       "\n"
      ],
      "text/plain": [
       "   Name quater year salary\n",
       "1  Nick 1      2021 12442 \n",
       "2  Jake 1      2021 22131 \n",
       "3  Anna 1      2021 21343 \n",
       "4  Jane 1      2021 22111 \n",
       "5  Dina 1      2021 14123 \n",
       "6  Nick 2      2021 13442 \n",
       "7  Jake 2      2021 22871 \n",
       "8  Anna 2      2021 20343 \n",
       "9  Jane 2      2021 22222 \n",
       "10 Dina 2      2021 14456 \n",
       "11 Nick 3      2021 15482 \n",
       "12 Jake 3      2021 22031 \n",
       "13 Anna 3      2021 22456 \n",
       "14 Jane 3      2021 22444 \n",
       "15 Dina 3      2021 14533 \n",
       "16 Nick 4      2021 14511 \n",
       "17 Jake 4      2021 20031 \n",
       "18 Anna 4      2021 21741 \n",
       "19 Jane 4      2021 22333 \n",
       "20 Dina 4      2021 14511 "
      ]
     },
     "metadata": {},
     "output_type": "display_data"
    }
   ],
   "source": [
    "best_data <- best_data |>\n",
    "    mutate(year = as.integer(year), # convert year to integer\n",
    "           quater = substr(better_data$quater, 2,2), # trim `q` from start\n",
    "           quater = as.integer(quater), # convert quater to integer\n",
    "          )\n",
    "best_data"
   ]
  },
  {
   "cell_type": "code",
   "execution_count": 123,
   "id": "3d39666a-3a10-4d3e-bb6f-51e089f57391",
   "metadata": {},
   "outputs": [
    {
     "data": {
      "text/html": [
       "<table class=\"dataframe\">\n",
       "<caption>A data.frame: 20 x 3</caption>\n",
       "<thead>\n",
       "\t<tr><th scope=col>Name</th><th scope=col>Qt</th><th scope=col>salary</th></tr>\n",
       "\t<tr><th scope=col>&lt;chr&gt;</th><th scope=col>&lt;chr&gt;</th><th scope=col>&lt;dbl&gt;</th></tr>\n",
       "</thead>\n",
       "<tbody>\n",
       "\t<tr><td>Nick</td><td>1_2021</td><td>12442</td></tr>\n",
       "\t<tr><td>Jake</td><td>1_2021</td><td>22131</td></tr>\n",
       "\t<tr><td>Anna</td><td>1_2021</td><td>21343</td></tr>\n",
       "\t<tr><td>Jane</td><td>1_2021</td><td>22111</td></tr>\n",
       "\t<tr><td>Dina</td><td>1_2021</td><td>14123</td></tr>\n",
       "\t<tr><td>Nick</td><td>2_2021</td><td>13442</td></tr>\n",
       "\t<tr><td>Jake</td><td>2_2021</td><td>22871</td></tr>\n",
       "\t<tr><td>Anna</td><td>2_2021</td><td>20343</td></tr>\n",
       "\t<tr><td>Jane</td><td>2_2021</td><td>22222</td></tr>\n",
       "\t<tr><td>Dina</td><td>2_2021</td><td>14456</td></tr>\n",
       "\t<tr><td>Nick</td><td>3_2021</td><td>15482</td></tr>\n",
       "\t<tr><td>Jake</td><td>3_2021</td><td>22031</td></tr>\n",
       "\t<tr><td>Anna</td><td>3_2021</td><td>22456</td></tr>\n",
       "\t<tr><td>Jane</td><td>3_2021</td><td>22444</td></tr>\n",
       "\t<tr><td>Dina</td><td>3_2021</td><td>14533</td></tr>\n",
       "\t<tr><td>Nick</td><td>4_2021</td><td>14511</td></tr>\n",
       "\t<tr><td>Jake</td><td>4_2021</td><td>20031</td></tr>\n",
       "\t<tr><td>Anna</td><td>4_2021</td><td>21741</td></tr>\n",
       "\t<tr><td>Jane</td><td>4_2021</td><td>22333</td></tr>\n",
       "\t<tr><td>Dina</td><td>4_2021</td><td>14511</td></tr>\n",
       "</tbody>\n",
       "</table>\n"
      ],
      "text/latex": [
       "A data.frame: 20 x 3\n",
       "\\begin{tabular}{lll}\n",
       " Name & Qt & salary\\\\\n",
       " <chr> & <chr> & <dbl>\\\\\n",
       "\\hline\n",
       "\t Nick & 1\\_2021 & 12442\\\\\n",
       "\t Jake & 1\\_2021 & 22131\\\\\n",
       "\t Anna & 1\\_2021 & 21343\\\\\n",
       "\t Jane & 1\\_2021 & 22111\\\\\n",
       "\t Dina & 1\\_2021 & 14123\\\\\n",
       "\t Nick & 2\\_2021 & 13442\\\\\n",
       "\t Jake & 2\\_2021 & 22871\\\\\n",
       "\t Anna & 2\\_2021 & 20343\\\\\n",
       "\t Jane & 2\\_2021 & 22222\\\\\n",
       "\t Dina & 2\\_2021 & 14456\\\\\n",
       "\t Nick & 3\\_2021 & 15482\\\\\n",
       "\t Jake & 3\\_2021 & 22031\\\\\n",
       "\t Anna & 3\\_2021 & 22456\\\\\n",
       "\t Jane & 3\\_2021 & 22444\\\\\n",
       "\t Dina & 3\\_2021 & 14533\\\\\n",
       "\t Nick & 4\\_2021 & 14511\\\\\n",
       "\t Jake & 4\\_2021 & 20031\\\\\n",
       "\t Anna & 4\\_2021 & 21741\\\\\n",
       "\t Jane & 4\\_2021 & 22333\\\\\n",
       "\t Dina & 4\\_2021 & 14511\\\\\n",
       "\\end{tabular}\n"
      ],
      "text/markdown": [
       "\n",
       "A data.frame: 20 x 3\n",
       "\n",
       "| Name &lt;chr&gt; | Qt &lt;chr&gt; | salary &lt;dbl&gt; |\n",
       "|---|---|---|\n",
       "| Nick | 1_2021 | 12442 |\n",
       "| Jake | 1_2021 | 22131 |\n",
       "| Anna | 1_2021 | 21343 |\n",
       "| Jane | 1_2021 | 22111 |\n",
       "| Dina | 1_2021 | 14123 |\n",
       "| Nick | 2_2021 | 13442 |\n",
       "| Jake | 2_2021 | 22871 |\n",
       "| Anna | 2_2021 | 20343 |\n",
       "| Jane | 2_2021 | 22222 |\n",
       "| Dina | 2_2021 | 14456 |\n",
       "| Nick | 3_2021 | 15482 |\n",
       "| Jake | 3_2021 | 22031 |\n",
       "| Anna | 3_2021 | 22456 |\n",
       "| Jane | 3_2021 | 22444 |\n",
       "| Dina | 3_2021 | 14533 |\n",
       "| Nick | 4_2021 | 14511 |\n",
       "| Jake | 4_2021 | 20031 |\n",
       "| Anna | 4_2021 | 21741 |\n",
       "| Jane | 4_2021 | 22333 |\n",
       "| Dina | 4_2021 | 14511 |\n",
       "\n"
      ],
      "text/plain": [
       "   Name Qt     salary\n",
       "1  Nick 1_2021 12442 \n",
       "2  Jake 1_2021 22131 \n",
       "3  Anna 1_2021 21343 \n",
       "4  Jane 1_2021 22111 \n",
       "5  Dina 1_2021 14123 \n",
       "6  Nick 2_2021 13442 \n",
       "7  Jake 2_2021 22871 \n",
       "8  Anna 2_2021 20343 \n",
       "9  Jane 2_2021 22222 \n",
       "10 Dina 2_2021 14456 \n",
       "11 Nick 3_2021 15482 \n",
       "12 Jake 3_2021 22031 \n",
       "13 Anna 3_2021 22456 \n",
       "14 Jane 3_2021 22444 \n",
       "15 Dina 3_2021 14533 \n",
       "16 Nick 4_2021 14511 \n",
       "17 Jake 4_2021 20031 \n",
       "18 Anna 4_2021 21741 \n",
       "19 Jane 4_2021 22333 \n",
       "20 Dina 4_2021 14511 "
      ]
     },
     "metadata": {},
     "output_type": "display_data"
    }
   ],
   "source": [
    "united_data <- best_data |>\n",
    "    unite(Qt, quater, year, sep = \"_\")\n",
    "united_data"
   ]
  },
  {
   "cell_type": "code",
   "execution_count": 125,
   "id": "e6a44c22-d576-48a0-b121-58a39ca9cf4c",
   "metadata": {},
   "outputs": [
    {
     "data": {
      "text/html": [
       "<table class=\"dataframe\">\n",
       "<caption>A data.frame: 5 x 5</caption>\n",
       "<thead>\n",
       "\t<tr><th scope=col>Name</th><th scope=col>1_2021</th><th scope=col>2_2021</th><th scope=col>3_2021</th><th scope=col>4_2021</th></tr>\n",
       "\t<tr><th scope=col>&lt;chr&gt;</th><th scope=col>&lt;dbl&gt;</th><th scope=col>&lt;dbl&gt;</th><th scope=col>&lt;dbl&gt;</th><th scope=col>&lt;dbl&gt;</th></tr>\n",
       "</thead>\n",
       "<tbody>\n",
       "\t<tr><td>Anna</td><td>21343</td><td>20343</td><td>22456</td><td>21741</td></tr>\n",
       "\t<tr><td>Dina</td><td>14123</td><td>14456</td><td>14533</td><td>14511</td></tr>\n",
       "\t<tr><td>Jake</td><td>22131</td><td>22871</td><td>22031</td><td>20031</td></tr>\n",
       "\t<tr><td>Jane</td><td>22111</td><td>22222</td><td>22444</td><td>22333</td></tr>\n",
       "\t<tr><td>Nick</td><td>12442</td><td>13442</td><td>15482</td><td>14511</td></tr>\n",
       "</tbody>\n",
       "</table>\n"
      ],
      "text/latex": [
       "A data.frame: 5 x 5\n",
       "\\begin{tabular}{lllll}\n",
       " Name & 1\\_2021 & 2\\_2021 & 3\\_2021 & 4\\_2021\\\\\n",
       " <chr> & <dbl> & <dbl> & <dbl> & <dbl>\\\\\n",
       "\\hline\n",
       "\t Anna & 21343 & 20343 & 22456 & 21741\\\\\n",
       "\t Dina & 14123 & 14456 & 14533 & 14511\\\\\n",
       "\t Jake & 22131 & 22871 & 22031 & 20031\\\\\n",
       "\t Jane & 22111 & 22222 & 22444 & 22333\\\\\n",
       "\t Nick & 12442 & 13442 & 15482 & 14511\\\\\n",
       "\\end{tabular}\n"
      ],
      "text/markdown": [
       "\n",
       "A data.frame: 5 x 5\n",
       "\n",
       "| Name &lt;chr&gt; | 1_2021 &lt;dbl&gt; | 2_2021 &lt;dbl&gt; | 3_2021 &lt;dbl&gt; | 4_2021 &lt;dbl&gt; |\n",
       "|---|---|---|---|---|\n",
       "| Anna | 21343 | 20343 | 22456 | 21741 |\n",
       "| Dina | 14123 | 14456 | 14533 | 14511 |\n",
       "| Jake | 22131 | 22871 | 22031 | 20031 |\n",
       "| Jane | 22111 | 22222 | 22444 | 22333 |\n",
       "| Nick | 12442 | 13442 | 15482 | 14511 |\n",
       "\n"
      ],
      "text/plain": [
       "  Name 1_2021 2_2021 3_2021 4_2021\n",
       "1 Anna 21343  20343  22456  21741 \n",
       "2 Dina 14123  14456  14533  14511 \n",
       "3 Jake 22131  22871  22031  20031 \n",
       "4 Jane 22111  22222  22444  22333 \n",
       "5 Nick 12442  13442  15482  14511 "
      ]
     },
     "metadata": {},
     "output_type": "display_data"
    }
   ],
   "source": [
    "latest_data <- united_data |>\n",
    "    spread(Qt, salary)\n",
    "latest_data"
   ]
  }
 ],
 "metadata": {
  "kernelspec": {
   "display_name": "R",
   "language": "R",
   "name": "ir"
  },
  "language_info": {
   "codemirror_mode": "r",
   "file_extension": ".r",
   "mimetype": "text/x-r-source",
   "name": "R",
   "pygments_lexer": "r",
   "version": "4.1.3"
  }
 },
 "nbformat": 4,
 "nbformat_minor": 5
}
