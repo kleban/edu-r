{
 "cells": [
  {
   "cell_type": "markdown",
   "id": "9ba71422-eecf-4d84-83a0-15c1f9f052d3",
   "metadata": {},
   "source": [
    "# Linear regression"
   ]
  },
  {
   "cell_type": "markdown",
   "id": "00f00564-ce07-47a8-b5c2-2b8b54087b9a",
   "metadata": {},
   "source": [
    "## 1. Load and preview data"
   ]
  },
  {
   "cell_type": "code",
   "execution_count": 1,
   "id": "24f041b0-9e94-46ee-9652-af5440f7c72d",
   "metadata": {},
   "outputs": [],
   "source": [
    "library(carData)"
   ]
  },
  {
   "cell_type": "code",
   "execution_count": 2,
   "id": "bb3fd4ad-c248-44b6-a486-9ef58b7def45",
   "metadata": {},
   "outputs": [
    {
     "data": {
      "text/html": [
       "\n",
       "<table width=\"100%\" summary=\"page for Prestige {carData}\"><tr><td>Prestige {carData}</td><td style=\"text-align: right;\">R Documentation</td></tr></table>\n",
       "\n",
       "<h2>Prestige of Canadian Occupations</h2>\n",
       "\n",
       "<h3>Description</h3>\n",
       "\n",
       "<p>The <code>Prestige</code> data frame has 102 rows and 6 columns.\n",
       "The observations are occupations.\n",
       "</p>\n",
       "\n",
       "\n",
       "<h3>Usage</h3>\n",
       "\n",
       "<pre>\n",
       "Prestige\n",
       "</pre>\n",
       "\n",
       "\n",
       "<h3>Format</h3>\n",
       "\n",
       "<p>This data frame contains the following columns:\n",
       "</p>\n",
       "\n",
       "<dl>\n",
       "<dt>education</dt><dd>\n",
       "<p>Average education of occupational incumbents, years, in 1971. \n",
       "</p>\n",
       "</dd>\n",
       "<dt>income</dt><dd>\n",
       "<p>Average income of incumbents, dollars, in 1971.\n",
       "</p>\n",
       "</dd>\n",
       "<dt>women</dt><dd>\n",
       "<p>Percentage of incumbents who are women.\n",
       "</p>\n",
       "</dd>\n",
       "<dt>prestige</dt><dd>\n",
       "<p>Pineo-Porter prestige score for occupation, from a social survey\n",
       "conducted in the mid-1960s.\n",
       "</p>\n",
       "</dd>\n",
       "<dt>census</dt><dd>\n",
       "<p>Canadian Census occupational code.\n",
       "</p>\n",
       "</dd>\n",
       "<dt>type</dt><dd>\n",
       "<p>Type of occupation.\n",
       "A factor with levels (note: out of order):\n",
       "<code>bc</code>, Blue Collar;\n",
       "<code>prof</code>, Professional, Managerial, and Technical;\n",
       "<code>wc</code>, White Collar. \n",
       "</p>\n",
       "</dd>\n",
       "</dl>\n",
       "\n",
       "\n",
       "\n",
       "<h3>Source</h3>\n",
       "\n",
       "<p>Canada (1971)\n",
       "<em>Census of Canada</em>. Vol. 3, Part 6. Statistics Canada [pp. 19-1&ndash;19-21].\n",
       "</p>\n",
       "<p>Personal communication from B. Blishen, W. Carroll, and\n",
       "C. Moore, Departments of Sociology, York University and\n",
       "University of Victoria.\n",
       "</p>\n",
       "\n",
       "\n",
       "<h3>References</h3>\n",
       "\n",
       "<p>Fox, J. (2016)\n",
       "<em>Applied Regression Analysis and Generalized Linear Models</em>,\n",
       "Third Edition. Sage.  \n",
       "</p>\n",
       "<p>Fox, J. and Weisberg, S. (2019) \n",
       "<em>An R Companion to Applied Regression</em>, Third Edition, Sage.\n",
       "</p>\n",
       "\n",
       "<hr /><div style=\"text-align: center;\">[Package <em>carData</em> version 3.0-5 ]</div>"
      ],
      "text/latex": [
       "\\inputencoding{utf8}\n",
       "\\HeaderA{Prestige}{Prestige of Canadian Occupations}{Prestige}\n",
       "\\keyword{datasets}{Prestige}\n",
       "%\n",
       "\\begin{Description}\\relax\n",
       "The \\code{Prestige} data frame has 102 rows and 6 columns.\n",
       "The observations are occupations.\n",
       "\\end{Description}\n",
       "%\n",
       "\\begin{Usage}\n",
       "\\begin{verbatim}\n",
       "Prestige\n",
       "\\end{verbatim}\n",
       "\\end{Usage}\n",
       "%\n",
       "\\begin{Format}\n",
       "This data frame contains the following columns:\n",
       "\\begin{description}\n",
       "\n",
       "\\item[education] \n",
       "Average education of occupational incumbents, years, in 1971. \n",
       "\n",
       "\\item[income] \n",
       "Average income of incumbents, dollars, in 1971.\n",
       "\n",
       "\\item[women] \n",
       "Percentage of incumbents who are women.\n",
       "\n",
       "\\item[prestige] \n",
       "Pineo-Porter prestige score for occupation, from a social survey\n",
       "conducted in the mid-1960s.\n",
       "\n",
       "\\item[census] \n",
       "Canadian Census occupational code.\n",
       "\n",
       "\\item[type] \n",
       "Type of occupation.\n",
       "A factor with levels (note: out of order):\n",
       "\\code{bc}, Blue Collar;\n",
       "\\code{prof}, Professional, Managerial, and Technical;\n",
       "\\code{wc}, White Collar. \n",
       "\n",
       "\n",
       "\\end{description}\n",
       "\n",
       "\n",
       "\\end{Format}\n",
       "%\n",
       "\\begin{Source}\\relax\n",
       "Canada (1971)\n",
       "\\emph{Census of Canada}. Vol. 3, Part 6. Statistics Canada [pp. 19-1--19-21].\n",
       "\n",
       "Personal communication from B. Blishen, W. Carroll, and\n",
       "C. Moore, Departments of Sociology, York University and\n",
       "University of Victoria.\n",
       "\\end{Source}\n",
       "%\n",
       "\\begin{References}\\relax\n",
       "Fox, J. (2016)\n",
       "\\emph{Applied Regression Analysis and Generalized Linear Models},\n",
       "Third Edition. Sage.  \n",
       "\n",
       "Fox, J. and Weisberg, S. (2019) \n",
       "\\emph{An R Companion to Applied Regression}, Third Edition, Sage.\n",
       "\\end{References}"
      ],
      "text/plain": [
       "Prestige                package:carData                R Documentation\n",
       "\n",
       "_\bP_\br_\be_\bs_\bt_\bi_\bg_\be _\bo_\bf _\bC_\ba_\bn_\ba_\bd_\bi_\ba_\bn _\bO_\bc_\bc_\bu_\bp_\ba_\bt_\bi_\bo_\bn_\bs\n",
       "\n",
       "_\bD_\be_\bs_\bc_\br_\bi_\bp_\bt_\bi_\bo_\bn:\n",
       "\n",
       "     The 'Prestige' data frame has 102 rows and 6 columns. The\n",
       "     observations are occupations.\n",
       "\n",
       "_\bU_\bs_\ba_\bg_\be:\n",
       "\n",
       "     Prestige\n",
       "     \n",
       "_\bF_\bo_\br_\bm_\ba_\bt:\n",
       "\n",
       "     This data frame contains the following columns:\n",
       "\n",
       "     education Average education of occupational incumbents, years, in\n",
       "          1971.\n",
       "\n",
       "     income Average income of incumbents, dollars, in 1971.\n",
       "\n",
       "     women Percentage of incumbents who are women.\n",
       "\n",
       "     prestige Pineo-Porter prestige score for occupation, from a social\n",
       "          survey conducted in the mid-1960s.\n",
       "\n",
       "     census Canadian Census occupational code.\n",
       "\n",
       "     type Type of occupation.  A factor with levels (note: out of\n",
       "          order): 'bc', Blue Collar; 'prof', Professional, Managerial,\n",
       "          and Technical; 'wc', White Collar.\n",
       "\n",
       "_\bS_\bo_\bu_\br_\bc_\be:\n",
       "\n",
       "     Canada (1971) _Census of Canada_. Vol. 3, Part 6. Statistics\n",
       "     Canada [pp. 19-1-19-21].\n",
       "\n",
       "     Personal communication from B. Blishen, W. Carroll, and C. Moore,\n",
       "     Departments of Sociology, York University and University of\n",
       "     Victoria.\n",
       "\n",
       "_\bR_\be_\bf_\be_\br_\be_\bn_\bc_\be_\bs:\n",
       "\n",
       "     Fox, J. (2016) _Applied Regression Analysis and Generalized Linear\n",
       "     Models_, Third Edition. Sage.\n",
       "\n",
       "     Fox, J. and Weisberg, S. (2019) _An R Companion to Applied\n",
       "     Regression_, Third Edition, Sage.\n"
      ]
     },
     "metadata": {},
     "output_type": "display_data"
    }
   ],
   "source": [
    "?Prestige"
   ]
  },
  {
   "cell_type": "code",
   "execution_count": 3,
   "id": "b978342c-ee5b-4b2e-a751-f7a38009f4ad",
   "metadata": {},
   "outputs": [],
   "source": [
    "data <- Prestige"
   ]
  },
  {
   "cell_type": "code",
   "execution_count": 4,
   "id": "950bd4e3-71b1-4933-97dd-1d856cd65020",
   "metadata": {},
   "outputs": [
    {
     "data": {
      "text/html": [
       "<table class=\"dataframe\">\n",
       "<caption>A data.frame: 6 x 6</caption>\n",
       "<thead>\n",
       "\t<tr><th></th><th scope=col>education</th><th scope=col>income</th><th scope=col>women</th><th scope=col>prestige</th><th scope=col>census</th><th scope=col>type</th></tr>\n",
       "\t<tr><th></th><th scope=col>&lt;dbl&gt;</th><th scope=col>&lt;int&gt;</th><th scope=col>&lt;dbl&gt;</th><th scope=col>&lt;dbl&gt;</th><th scope=col>&lt;int&gt;</th><th scope=col>&lt;fct&gt;</th></tr>\n",
       "</thead>\n",
       "<tbody>\n",
       "\t<tr><th scope=row>gov.administrators</th><td>13.11</td><td>12351</td><td>11.16</td><td>68.8</td><td>1113</td><td>prof</td></tr>\n",
       "\t<tr><th scope=row>general.managers</th><td>12.26</td><td>25879</td><td> 4.02</td><td>69.1</td><td>1130</td><td>prof</td></tr>\n",
       "\t<tr><th scope=row>accountants</th><td>12.77</td><td> 9271</td><td>15.70</td><td>63.4</td><td>1171</td><td>prof</td></tr>\n",
       "\t<tr><th scope=row>purchasing.officers</th><td>11.42</td><td> 8865</td><td> 9.11</td><td>56.8</td><td>1175</td><td>prof</td></tr>\n",
       "\t<tr><th scope=row>chemists</th><td>14.62</td><td> 8403</td><td>11.68</td><td>73.5</td><td>2111</td><td>prof</td></tr>\n",
       "\t<tr><th scope=row>physicists</th><td>15.64</td><td>11030</td><td> 5.13</td><td>77.6</td><td>2113</td><td>prof</td></tr>\n",
       "</tbody>\n",
       "</table>\n"
      ],
      "text/latex": [
       "A data.frame: 6 x 6\n",
       "\\begin{tabular}{r|llllll}\n",
       "  & education & income & women & prestige & census & type\\\\\n",
       "  & <dbl> & <int> & <dbl> & <dbl> & <int> & <fct>\\\\\n",
       "\\hline\n",
       "\tgov.administrators & 13.11 & 12351 & 11.16 & 68.8 & 1113 & prof\\\\\n",
       "\tgeneral.managers & 12.26 & 25879 &  4.02 & 69.1 & 1130 & prof\\\\\n",
       "\taccountants & 12.77 &  9271 & 15.70 & 63.4 & 1171 & prof\\\\\n",
       "\tpurchasing.officers & 11.42 &  8865 &  9.11 & 56.8 & 1175 & prof\\\\\n",
       "\tchemists & 14.62 &  8403 & 11.68 & 73.5 & 2111 & prof\\\\\n",
       "\tphysicists & 15.64 & 11030 &  5.13 & 77.6 & 2113 & prof\\\\\n",
       "\\end{tabular}\n"
      ],
      "text/markdown": [
       "\n",
       "A data.frame: 6 x 6\n",
       "\n",
       "| <!--/--> | education &lt;dbl&gt; | income &lt;int&gt; | women &lt;dbl&gt; | prestige &lt;dbl&gt; | census &lt;int&gt; | type &lt;fct&gt; |\n",
       "|---|---|---|---|---|---|---|\n",
       "| gov.administrators | 13.11 | 12351 | 11.16 | 68.8 | 1113 | prof |\n",
       "| general.managers | 12.26 | 25879 |  4.02 | 69.1 | 1130 | prof |\n",
       "| accountants | 12.77 |  9271 | 15.70 | 63.4 | 1171 | prof |\n",
       "| purchasing.officers | 11.42 |  8865 |  9.11 | 56.8 | 1175 | prof |\n",
       "| chemists | 14.62 |  8403 | 11.68 | 73.5 | 2111 | prof |\n",
       "| physicists | 15.64 | 11030 |  5.13 | 77.6 | 2113 | prof |\n",
       "\n"
      ],
      "text/plain": [
       "                    education income women prestige census type\n",
       "gov.administrators  13.11     12351  11.16 68.8     1113   prof\n",
       "general.managers    12.26     25879   4.02 69.1     1130   prof\n",
       "accountants         12.77      9271  15.70 63.4     1171   prof\n",
       "purchasing.officers 11.42      8865   9.11 56.8     1175   prof\n",
       "chemists            14.62      8403  11.68 73.5     2111   prof\n",
       "physicists          15.64     11030   5.13 77.6     2113   prof"
      ]
     },
     "metadata": {},
     "output_type": "display_data"
    }
   ],
   "source": [
    "data |> head()"
   ]
  },
  {
   "cell_type": "code",
   "execution_count": 5,
   "id": "e6e6e0af-62b9-4c38-a191-7af618b53e54",
   "metadata": {},
   "outputs": [
    {
     "name": "stdout",
     "output_type": "stream",
     "text": [
      "'data.frame':\t102 obs. of  6 variables:\n",
      " $ education: num  13.1 12.3 12.8 11.4 14.6 ...\n",
      " $ income   : int  12351 25879 9271 8865 8403 11030 8258 14163 11377 11023 ...\n",
      " $ women    : num  11.16 4.02 15.7 9.11 11.68 ...\n",
      " $ prestige : num  68.8 69.1 63.4 56.8 73.5 77.6 72.6 78.1 73.1 68.8 ...\n",
      " $ census   : int  1113 1130 1171 1175 2111 2113 2133 2141 2143 2153 ...\n",
      " $ type     : Factor w/ 3 levels \"bc\",\"prof\",\"wc\": 2 2 2 2 2 2 2 2 2 2 ...\n"
     ]
    }
   ],
   "source": [
    "str(data)"
   ]
  },
  {
   "cell_type": "code",
   "execution_count": 6,
   "id": "2c4e0fe0-5f34-4742-9baf-61fed3639e0d",
   "metadata": {},
   "outputs": [
    {
     "data": {
      "text/plain": [
       "   education          income          women           prestige    \n",
       " Min.   : 6.380   Min.   :  611   Min.   : 0.000   Min.   :14.80  \n",
       " 1st Qu.: 8.445   1st Qu.: 4106   1st Qu.: 3.592   1st Qu.:35.23  \n",
       " Median :10.540   Median : 5930   Median :13.600   Median :43.60  \n",
       " Mean   :10.738   Mean   : 6798   Mean   :28.979   Mean   :46.83  \n",
       " 3rd Qu.:12.648   3rd Qu.: 8187   3rd Qu.:52.203   3rd Qu.:59.27  \n",
       " Max.   :15.970   Max.   :25879   Max.   :97.510   Max.   :87.20  \n",
       "     census       type   \n",
       " Min.   :1113   bc  :44  \n",
       " 1st Qu.:3120   prof:31  \n",
       " Median :5135   wc  :23  \n",
       " Mean   :5402   NA's: 4  \n",
       " 3rd Qu.:8312            \n",
       " Max.   :9517            "
      ]
     },
     "metadata": {},
     "output_type": "display_data"
    }
   ],
   "source": [
    "summary(data)"
   ]
  },
  {
   "cell_type": "code",
   "execution_count": 7,
   "id": "80140628-5d2d-43a4-96dd-3a2273eaba2d",
   "metadata": {},
   "outputs": [
    {
     "name": "stderr",
     "output_type": "stream",
     "text": [
      "\n",
      "Attaching package: 'dplyr'\n",
      "\n",
      "\n",
      "The following objects are masked from 'package:stats':\n",
      "\n",
      "    filter, lag\n",
      "\n",
      "\n",
      "The following objects are masked from 'package:base':\n",
      "\n",
      "    intersect, setdiff, setequal, union\n",
      "\n",
      "\n"
     ]
    },
    {
     "data": {
      "text/html": [
       "<table class=\"dataframe\">\n",
       "<caption>A matrix: 5 x 5 of type dbl</caption>\n",
       "<thead>\n",
       "\t<tr><th></th><th scope=col>education</th><th scope=col>income</th><th scope=col>women</th><th scope=col>prestige</th><th scope=col>census</th></tr>\n",
       "</thead>\n",
       "<tbody>\n",
       "\t<tr><th scope=row>education</th><td> 1.00000000</td><td> 0.5775802</td><td> 0.06185286</td><td> 0.8501769</td><td>-0.8230882</td></tr>\n",
       "\t<tr><th scope=row>income</th><td> 0.57758023</td><td> 1.0000000</td><td>-0.44105927</td><td> 0.7149057</td><td>-0.3610023</td></tr>\n",
       "\t<tr><th scope=row>women</th><td> 0.06185286</td><td>-0.4410593</td><td> 1.00000000</td><td>-0.1183342</td><td>-0.2270028</td></tr>\n",
       "\t<tr><th scope=row>prestige</th><td> 0.85017689</td><td> 0.7149057</td><td>-0.11833419</td><td> 1.0000000</td><td>-0.6345103</td></tr>\n",
       "\t<tr><th scope=row>census</th><td>-0.82308821</td><td>-0.3610023</td><td>-0.22700277</td><td>-0.6345103</td><td> 1.0000000</td></tr>\n",
       "</tbody>\n",
       "</table>\n"
      ],
      "text/latex": [
       "A matrix: 5 x 5 of type dbl\n",
       "\\begin{tabular}{r|lllll}\n",
       "  & education & income & women & prestige & census\\\\\n",
       "\\hline\n",
       "\teducation &  1.00000000 &  0.5775802 &  0.06185286 &  0.8501769 & -0.8230882\\\\\n",
       "\tincome &  0.57758023 &  1.0000000 & -0.44105927 &  0.7149057 & -0.3610023\\\\\n",
       "\twomen &  0.06185286 & -0.4410593 &  1.00000000 & -0.1183342 & -0.2270028\\\\\n",
       "\tprestige &  0.85017689 &  0.7149057 & -0.11833419 &  1.0000000 & -0.6345103\\\\\n",
       "\tcensus & -0.82308821 & -0.3610023 & -0.22700277 & -0.6345103 &  1.0000000\\\\\n",
       "\\end{tabular}\n"
      ],
      "text/markdown": [
       "\n",
       "A matrix: 5 x 5 of type dbl\n",
       "\n",
       "| <!--/--> | education | income | women | prestige | census |\n",
       "|---|---|---|---|---|---|\n",
       "| education |  1.00000000 |  0.5775802 |  0.06185286 |  0.8501769 | -0.8230882 |\n",
       "| income |  0.57758023 |  1.0000000 | -0.44105927 |  0.7149057 | -0.3610023 |\n",
       "| women |  0.06185286 | -0.4410593 |  1.00000000 | -0.1183342 | -0.2270028 |\n",
       "| prestige |  0.85017689 |  0.7149057 | -0.11833419 |  1.0000000 | -0.6345103 |\n",
       "| census | -0.82308821 | -0.3610023 | -0.22700277 | -0.6345103 |  1.0000000 |\n",
       "\n"
      ],
      "text/plain": [
       "          education   income     women       prestige   census    \n",
       "education  1.00000000  0.5775802  0.06185286  0.8501769 -0.8230882\n",
       "income     0.57758023  1.0000000 -0.44105927  0.7149057 -0.3610023\n",
       "women      0.06185286 -0.4410593  1.00000000 -0.1183342 -0.2270028\n",
       "prestige   0.85017689  0.7149057 -0.11833419  1.0000000 -0.6345103\n",
       "census    -0.82308821 -0.3610023 -0.22700277 -0.6345103  1.0000000"
      ]
     },
     "metadata": {},
     "output_type": "display_data"
    }
   ],
   "source": [
    "library(dplyr)\n",
    "cor(data |> select(-type))"
   ]
  },
  {
   "cell_type": "code",
   "execution_count": 8,
   "id": "a540d103-b0fa-4fc5-bef8-c0bcf934861f",
   "metadata": {},
   "outputs": [
    {
     "data": {
      "text/html": [
       "TRUE"
      ],
      "text/latex": [
       "TRUE"
      ],
      "text/markdown": [
       "TRUE"
      ],
      "text/plain": [
       "[1] TRUE"
      ]
     },
     "metadata": {},
     "output_type": "display_data"
    }
   ],
   "source": [
    "anyNA(data)"
   ]
  },
  {
   "cell_type": "code",
   "execution_count": 9,
   "id": "c7b841b9-e764-453f-a021-7f5ac5ed3d0a",
   "metadata": {},
   "outputs": [
    {
     "data": {
      "text/html": [
       "<style>\n",
       ".list-inline {list-style: none; margin:0; padding: 0}\n",
       ".list-inline>li {display: inline-block}\n",
       ".list-inline>li:not(:last-child)::after {content: \"\\00b7\"; padding: 0 .5ex}\n",
       "</style>\n",
       "<ol class=list-inline><li>TRUE</li><li>TRUE</li><li>TRUE</li><li>TRUE</li><li>TRUE</li><li>TRUE</li><li>TRUE</li><li>TRUE</li><li>TRUE</li><li>TRUE</li><li>TRUE</li><li>TRUE</li><li>TRUE</li><li>TRUE</li><li>TRUE</li><li>TRUE</li><li>TRUE</li><li>TRUE</li><li>TRUE</li><li>TRUE</li><li>TRUE</li><li>TRUE</li><li>TRUE</li><li>TRUE</li><li>TRUE</li><li>TRUE</li><li>TRUE</li><li>TRUE</li><li>TRUE</li><li>TRUE</li><li>TRUE</li><li>TRUE</li><li>TRUE</li><li>FALSE</li><li>TRUE</li><li>TRUE</li><li>TRUE</li><li>TRUE</li><li>TRUE</li><li>TRUE</li><li>TRUE</li><li>TRUE</li><li>TRUE</li><li>TRUE</li><li>TRUE</li><li>TRUE</li><li>TRUE</li><li>TRUE</li><li>TRUE</li><li>TRUE</li><li>TRUE</li><li>TRUE</li><li>FALSE</li><li>TRUE</li><li>TRUE</li><li>TRUE</li><li>TRUE</li><li>TRUE</li><li>TRUE</li><li>TRUE</li><li>TRUE</li><li>TRUE</li><li>FALSE</li><li>TRUE</li><li>TRUE</li><li>TRUE</li><li>FALSE</li><li>TRUE</li><li>TRUE</li><li>TRUE</li><li>TRUE</li><li>TRUE</li><li>TRUE</li><li>TRUE</li><li>TRUE</li><li>TRUE</li><li>TRUE</li><li>TRUE</li><li>TRUE</li><li>TRUE</li><li>TRUE</li><li>TRUE</li><li>TRUE</li><li>TRUE</li><li>TRUE</li><li>TRUE</li><li>TRUE</li><li>TRUE</li><li>TRUE</li><li>TRUE</li><li>TRUE</li><li>TRUE</li><li>TRUE</li><li>TRUE</li><li>TRUE</li><li>TRUE</li><li>TRUE</li><li>TRUE</li><li>TRUE</li><li>TRUE</li><li>TRUE</li><li>TRUE</li></ol>\n"
      ],
      "text/latex": [
       "\\begin{enumerate*}\n",
       "\\item TRUE\n",
       "\\item TRUE\n",
       "\\item TRUE\n",
       "\\item TRUE\n",
       "\\item TRUE\n",
       "\\item TRUE\n",
       "\\item TRUE\n",
       "\\item TRUE\n",
       "\\item TRUE\n",
       "\\item TRUE\n",
       "\\item TRUE\n",
       "\\item TRUE\n",
       "\\item TRUE\n",
       "\\item TRUE\n",
       "\\item TRUE\n",
       "\\item TRUE\n",
       "\\item TRUE\n",
       "\\item TRUE\n",
       "\\item TRUE\n",
       "\\item TRUE\n",
       "\\item TRUE\n",
       "\\item TRUE\n",
       "\\item TRUE\n",
       "\\item TRUE\n",
       "\\item TRUE\n",
       "\\item TRUE\n",
       "\\item TRUE\n",
       "\\item TRUE\n",
       "\\item TRUE\n",
       "\\item TRUE\n",
       "\\item TRUE\n",
       "\\item TRUE\n",
       "\\item TRUE\n",
       "\\item FALSE\n",
       "\\item TRUE\n",
       "\\item TRUE\n",
       "\\item TRUE\n",
       "\\item TRUE\n",
       "\\item TRUE\n",
       "\\item TRUE\n",
       "\\item TRUE\n",
       "\\item TRUE\n",
       "\\item TRUE\n",
       "\\item TRUE\n",
       "\\item TRUE\n",
       "\\item TRUE\n",
       "\\item TRUE\n",
       "\\item TRUE\n",
       "\\item TRUE\n",
       "\\item TRUE\n",
       "\\item TRUE\n",
       "\\item TRUE\n",
       "\\item FALSE\n",
       "\\item TRUE\n",
       "\\item TRUE\n",
       "\\item TRUE\n",
       "\\item TRUE\n",
       "\\item TRUE\n",
       "\\item TRUE\n",
       "\\item TRUE\n",
       "\\item TRUE\n",
       "\\item TRUE\n",
       "\\item FALSE\n",
       "\\item TRUE\n",
       "\\item TRUE\n",
       "\\item TRUE\n",
       "\\item FALSE\n",
       "\\item TRUE\n",
       "\\item TRUE\n",
       "\\item TRUE\n",
       "\\item TRUE\n",
       "\\item TRUE\n",
       "\\item TRUE\n",
       "\\item TRUE\n",
       "\\item TRUE\n",
       "\\item TRUE\n",
       "\\item TRUE\n",
       "\\item TRUE\n",
       "\\item TRUE\n",
       "\\item TRUE\n",
       "\\item TRUE\n",
       "\\item TRUE\n",
       "\\item TRUE\n",
       "\\item TRUE\n",
       "\\item TRUE\n",
       "\\item TRUE\n",
       "\\item TRUE\n",
       "\\item TRUE\n",
       "\\item TRUE\n",
       "\\item TRUE\n",
       "\\item TRUE\n",
       "\\item TRUE\n",
       "\\item TRUE\n",
       "\\item TRUE\n",
       "\\item TRUE\n",
       "\\item TRUE\n",
       "\\item TRUE\n",
       "\\item TRUE\n",
       "\\item TRUE\n",
       "\\item TRUE\n",
       "\\item TRUE\n",
       "\\item TRUE\n",
       "\\end{enumerate*}\n"
      ],
      "text/markdown": [
       "1. TRUE\n",
       "2. TRUE\n",
       "3. TRUE\n",
       "4. TRUE\n",
       "5. TRUE\n",
       "6. TRUE\n",
       "7. TRUE\n",
       "8. TRUE\n",
       "9. TRUE\n",
       "10. TRUE\n",
       "11. TRUE\n",
       "12. TRUE\n",
       "13. TRUE\n",
       "14. TRUE\n",
       "15. TRUE\n",
       "16. TRUE\n",
       "17. TRUE\n",
       "18. TRUE\n",
       "19. TRUE\n",
       "20. TRUE\n",
       "21. TRUE\n",
       "22. TRUE\n",
       "23. TRUE\n",
       "24. TRUE\n",
       "25. TRUE\n",
       "26. TRUE\n",
       "27. TRUE\n",
       "28. TRUE\n",
       "29. TRUE\n",
       "30. TRUE\n",
       "31. TRUE\n",
       "32. TRUE\n",
       "33. TRUE\n",
       "34. FALSE\n",
       "35. TRUE\n",
       "36. TRUE\n",
       "37. TRUE\n",
       "38. TRUE\n",
       "39. TRUE\n",
       "40. TRUE\n",
       "41. TRUE\n",
       "42. TRUE\n",
       "43. TRUE\n",
       "44. TRUE\n",
       "45. TRUE\n",
       "46. TRUE\n",
       "47. TRUE\n",
       "48. TRUE\n",
       "49. TRUE\n",
       "50. TRUE\n",
       "51. TRUE\n",
       "52. TRUE\n",
       "53. FALSE\n",
       "54. TRUE\n",
       "55. TRUE\n",
       "56. TRUE\n",
       "57. TRUE\n",
       "58. TRUE\n",
       "59. TRUE\n",
       "60. TRUE\n",
       "61. TRUE\n",
       "62. TRUE\n",
       "63. FALSE\n",
       "64. TRUE\n",
       "65. TRUE\n",
       "66. TRUE\n",
       "67. FALSE\n",
       "68. TRUE\n",
       "69. TRUE\n",
       "70. TRUE\n",
       "71. TRUE\n",
       "72. TRUE\n",
       "73. TRUE\n",
       "74. TRUE\n",
       "75. TRUE\n",
       "76. TRUE\n",
       "77. TRUE\n",
       "78. TRUE\n",
       "79. TRUE\n",
       "80. TRUE\n",
       "81. TRUE\n",
       "82. TRUE\n",
       "83. TRUE\n",
       "84. TRUE\n",
       "85. TRUE\n",
       "86. TRUE\n",
       "87. TRUE\n",
       "88. TRUE\n",
       "89. TRUE\n",
       "90. TRUE\n",
       "91. TRUE\n",
       "92. TRUE\n",
       "93. TRUE\n",
       "94. TRUE\n",
       "95. TRUE\n",
       "96. TRUE\n",
       "97. TRUE\n",
       "98. TRUE\n",
       "99. TRUE\n",
       "100. TRUE\n",
       "101. TRUE\n",
       "102. TRUE\n",
       "\n",
       "\n"
      ],
      "text/plain": [
       "  [1]  TRUE  TRUE  TRUE  TRUE  TRUE  TRUE  TRUE  TRUE  TRUE  TRUE  TRUE  TRUE\n",
       " [13]  TRUE  TRUE  TRUE  TRUE  TRUE  TRUE  TRUE  TRUE  TRUE  TRUE  TRUE  TRUE\n",
       " [25]  TRUE  TRUE  TRUE  TRUE  TRUE  TRUE  TRUE  TRUE  TRUE FALSE  TRUE  TRUE\n",
       " [37]  TRUE  TRUE  TRUE  TRUE  TRUE  TRUE  TRUE  TRUE  TRUE  TRUE  TRUE  TRUE\n",
       " [49]  TRUE  TRUE  TRUE  TRUE FALSE  TRUE  TRUE  TRUE  TRUE  TRUE  TRUE  TRUE\n",
       " [61]  TRUE  TRUE FALSE  TRUE  TRUE  TRUE FALSE  TRUE  TRUE  TRUE  TRUE  TRUE\n",
       " [73]  TRUE  TRUE  TRUE  TRUE  TRUE  TRUE  TRUE  TRUE  TRUE  TRUE  TRUE  TRUE\n",
       " [85]  TRUE  TRUE  TRUE  TRUE  TRUE  TRUE  TRUE  TRUE  TRUE  TRUE  TRUE  TRUE\n",
       " [97]  TRUE  TRUE  TRUE  TRUE  TRUE  TRUE"
      ]
     },
     "metadata": {},
     "output_type": "display_data"
    }
   ],
   "source": [
    "complete.cases(data)"
   ]
  },
  {
   "cell_type": "code",
   "execution_count": 10,
   "id": "745ed1b0-9bd7-4767-8083-d905fbb0e70b",
   "metadata": {},
   "outputs": [
    {
     "data": {
      "text/html": [
       "<table class=\"dataframe\">\n",
       "<caption>A data.frame: 98 x 6</caption>\n",
       "<thead>\n",
       "\t<tr><th></th><th scope=col>education</th><th scope=col>income</th><th scope=col>women</th><th scope=col>prestige</th><th scope=col>census</th><th scope=col>type</th></tr>\n",
       "\t<tr><th></th><th scope=col>&lt;dbl&gt;</th><th scope=col>&lt;int&gt;</th><th scope=col>&lt;dbl&gt;</th><th scope=col>&lt;dbl&gt;</th><th scope=col>&lt;int&gt;</th><th scope=col>&lt;fct&gt;</th></tr>\n",
       "</thead>\n",
       "<tbody>\n",
       "\t<tr><th scope=row>gov.administrators</th><td>13.11</td><td>12351</td><td>11.16</td><td>68.8</td><td>1113</td><td>prof</td></tr>\n",
       "\t<tr><th scope=row>general.managers</th><td>12.26</td><td>25879</td><td> 4.02</td><td>69.1</td><td>1130</td><td>prof</td></tr>\n",
       "\t<tr><th scope=row>accountants</th><td>12.77</td><td> 9271</td><td>15.70</td><td>63.4</td><td>1171</td><td>prof</td></tr>\n",
       "\t<tr><th scope=row>purchasing.officers</th><td>11.42</td><td> 8865</td><td> 9.11</td><td>56.8</td><td>1175</td><td>prof</td></tr>\n",
       "\t<tr><th scope=row>chemists</th><td>14.62</td><td> 8403</td><td>11.68</td><td>73.5</td><td>2111</td><td>prof</td></tr>\n",
       "\t<tr><th scope=row>physicists</th><td>15.64</td><td>11030</td><td> 5.13</td><td>77.6</td><td>2113</td><td>prof</td></tr>\n",
       "\t<tr><th scope=row>biologists</th><td>15.09</td><td> 8258</td><td>25.65</td><td>72.6</td><td>2133</td><td>prof</td></tr>\n",
       "\t<tr><th scope=row>architects</th><td>15.44</td><td>14163</td><td> 2.69</td><td>78.1</td><td>2141</td><td>prof</td></tr>\n",
       "\t<tr><th scope=row>civil.engineers</th><td>14.52</td><td>11377</td><td> 1.03</td><td>73.1</td><td>2143</td><td>prof</td></tr>\n",
       "\t<tr><th scope=row>mining.engineers</th><td>14.64</td><td>11023</td><td> 0.94</td><td>68.8</td><td>2153</td><td>prof</td></tr>\n",
       "\t<tr><th scope=row>surveyors</th><td>12.39</td><td> 5902</td><td> 1.91</td><td>62.0</td><td>2161</td><td>prof</td></tr>\n",
       "\t<tr><th scope=row>draughtsmen</th><td>12.30</td><td> 7059</td><td> 7.83</td><td>60.0</td><td>2163</td><td>prof</td></tr>\n",
       "\t<tr><th scope=row>computer.programers</th><td>13.83</td><td> 8425</td><td>15.33</td><td>53.8</td><td>2183</td><td>prof</td></tr>\n",
       "\t<tr><th scope=row>economists</th><td>14.44</td><td> 8049</td><td>57.31</td><td>62.2</td><td>2311</td><td>prof</td></tr>\n",
       "\t<tr><th scope=row>psychologists</th><td>14.36</td><td> 7405</td><td>48.28</td><td>74.9</td><td>2315</td><td>prof</td></tr>\n",
       "\t<tr><th scope=row>social.workers</th><td>14.21</td><td> 6336</td><td>54.77</td><td>55.1</td><td>2331</td><td>prof</td></tr>\n",
       "\t<tr><th scope=row>lawyers</th><td>15.77</td><td>19263</td><td> 5.13</td><td>82.3</td><td>2343</td><td>prof</td></tr>\n",
       "\t<tr><th scope=row>librarians</th><td>14.15</td><td> 6112</td><td>77.10</td><td>58.1</td><td>2351</td><td>prof</td></tr>\n",
       "\t<tr><th scope=row>vocational.counsellors</th><td>15.22</td><td> 9593</td><td>34.89</td><td>58.3</td><td>2391</td><td>prof</td></tr>\n",
       "\t<tr><th scope=row>ministers</th><td>14.50</td><td> 4686</td><td> 4.14</td><td>72.8</td><td>2511</td><td>prof</td></tr>\n",
       "\t<tr><th scope=row>university.teachers</th><td>15.97</td><td>12480</td><td>19.59</td><td>84.6</td><td>2711</td><td>prof</td></tr>\n",
       "\t<tr><th scope=row>primary.school.teachers</th><td>13.62</td><td> 5648</td><td>83.78</td><td>59.6</td><td>2731</td><td>prof</td></tr>\n",
       "\t<tr><th scope=row>secondary.school.teachers</th><td>15.08</td><td> 8034</td><td>46.80</td><td>66.1</td><td>2733</td><td>prof</td></tr>\n",
       "\t<tr><th scope=row>physicians</th><td>15.96</td><td>25308</td><td>10.56</td><td>87.2</td><td>3111</td><td>prof</td></tr>\n",
       "\t<tr><th scope=row>veterinarians</th><td>15.94</td><td>14558</td><td> 4.32</td><td>66.7</td><td>3115</td><td>prof</td></tr>\n",
       "\t<tr><th scope=row>osteopaths.chiropractors</th><td>14.71</td><td>17498</td><td> 6.91</td><td>68.4</td><td>3117</td><td>prof</td></tr>\n",
       "\t<tr><th scope=row>nurses</th><td>12.46</td><td> 4614</td><td>96.12</td><td>64.7</td><td>3131</td><td>prof</td></tr>\n",
       "\t<tr><th scope=row>nursing.aides</th><td> 9.45</td><td> 3485</td><td>76.14</td><td>34.9</td><td>3135</td><td>bc  </td></tr>\n",
       "\t<tr><th scope=row>physio.therapsts</th><td>13.62</td><td> 5092</td><td>82.66</td><td>72.1</td><td>3137</td><td>prof</td></tr>\n",
       "\t<tr><th scope=row>pharmacists</th><td>15.21</td><td>10432</td><td>24.71</td><td>69.3</td><td>3151</td><td>prof</td></tr>\n",
       "\t<tr><th scope=row>...</th><td>...</td><td>...</td><td>...</td><td>...</td><td>...</td><td>...</td></tr>\n",
       "\t<tr><th scope=row>canners</th><td> 7.42</td><td> 1890</td><td>72.24</td><td>23.2</td><td>8221</td><td>bc  </td></tr>\n",
       "\t<tr><th scope=row>textile.weavers</th><td> 6.69</td><td> 4443</td><td>31.36</td><td>33.3</td><td>8267</td><td>bc  </td></tr>\n",
       "\t<tr><th scope=row>textile.labourers</th><td> 6.74</td><td> 3485</td><td>39.48</td><td>28.8</td><td>8278</td><td>bc  </td></tr>\n",
       "\t<tr><th scope=row>tool.die.makers</th><td>10.09</td><td> 8043</td><td> 1.50</td><td>42.5</td><td>8311</td><td>bc  </td></tr>\n",
       "\t<tr><th scope=row>machinists</th><td> 8.81</td><td> 6686</td><td> 4.28</td><td>44.2</td><td>8313</td><td>bc  </td></tr>\n",
       "\t<tr><th scope=row>sheet.metal.workers</th><td> 8.40</td><td> 6565</td><td> 2.30</td><td>35.9</td><td>8333</td><td>bc  </td></tr>\n",
       "\t<tr><th scope=row>welders</th><td> 7.92</td><td> 6477</td><td> 5.17</td><td>41.8</td><td>8335</td><td>bc  </td></tr>\n",
       "\t<tr><th scope=row>auto.workers</th><td> 8.43</td><td> 5811</td><td>13.62</td><td>35.9</td><td>8513</td><td>bc  </td></tr>\n",
       "\t<tr><th scope=row>aircraft.workers</th><td> 8.78</td><td> 6573</td><td> 5.78</td><td>43.7</td><td>8515</td><td>bc  </td></tr>\n",
       "\t<tr><th scope=row>electronic.workers</th><td> 8.76</td><td> 3942</td><td>74.54</td><td>50.8</td><td>8534</td><td>bc  </td></tr>\n",
       "\t<tr><th scope=row>radio.tv.repairmen</th><td>10.29</td><td> 5449</td><td> 2.92</td><td>37.2</td><td>8537</td><td>bc  </td></tr>\n",
       "\t<tr><th scope=row>sewing.mach.operators</th><td> 6.38</td><td> 2847</td><td>90.67</td><td>28.2</td><td>8563</td><td>bc  </td></tr>\n",
       "\t<tr><th scope=row>auto.repairmen</th><td> 8.10</td><td> 5795</td><td> 0.81</td><td>38.1</td><td>8581</td><td>bc  </td></tr>\n",
       "\t<tr><th scope=row>aircraft.repairmen</th><td>10.10</td><td> 7716</td><td> 0.78</td><td>50.3</td><td>8582</td><td>bc  </td></tr>\n",
       "\t<tr><th scope=row>railway.sectionmen</th><td> 6.67</td><td> 4696</td><td> 0.00</td><td>27.3</td><td>8715</td><td>bc  </td></tr>\n",
       "\t<tr><th scope=row>electrical.linemen</th><td> 9.05</td><td> 8316</td><td> 1.34</td><td>40.9</td><td>8731</td><td>bc  </td></tr>\n",
       "\t<tr><th scope=row>electricians</th><td> 9.93</td><td> 7147</td><td> 0.99</td><td>50.2</td><td>8733</td><td>bc  </td></tr>\n",
       "\t<tr><th scope=row>construction.foremen</th><td> 8.24</td><td> 8880</td><td> 0.65</td><td>51.1</td><td>8780</td><td>bc  </td></tr>\n",
       "\t<tr><th scope=row>carpenters</th><td> 6.92</td><td> 5299</td><td> 0.56</td><td>38.9</td><td>8781</td><td>bc  </td></tr>\n",
       "\t<tr><th scope=row>masons</th><td> 6.60</td><td> 5959</td><td> 0.52</td><td>36.2</td><td>8782</td><td>bc  </td></tr>\n",
       "\t<tr><th scope=row>house.painters</th><td> 7.81</td><td> 4549</td><td> 2.46</td><td>29.9</td><td>8785</td><td>bc  </td></tr>\n",
       "\t<tr><th scope=row>plumbers</th><td> 8.33</td><td> 6928</td><td> 0.61</td><td>42.9</td><td>8791</td><td>bc  </td></tr>\n",
       "\t<tr><th scope=row>construction.labourers</th><td> 7.52</td><td> 3910</td><td> 1.09</td><td>26.5</td><td>8798</td><td>bc  </td></tr>\n",
       "\t<tr><th scope=row>pilots</th><td>12.27</td><td>14032</td><td> 0.58</td><td>66.1</td><td>9111</td><td>prof</td></tr>\n",
       "\t<tr><th scope=row>train.engineers</th><td> 8.49</td><td> 8845</td><td> 0.00</td><td>48.9</td><td>9131</td><td>bc  </td></tr>\n",
       "\t<tr><th scope=row>bus.drivers</th><td> 7.58</td><td> 5562</td><td> 9.47</td><td>35.9</td><td>9171</td><td>bc  </td></tr>\n",
       "\t<tr><th scope=row>taxi.drivers</th><td> 7.93</td><td> 4224</td><td> 3.59</td><td>25.1</td><td>9173</td><td>bc  </td></tr>\n",
       "\t<tr><th scope=row>longshoremen</th><td> 8.37</td><td> 4753</td><td> 0.00</td><td>26.1</td><td>9313</td><td>bc  </td></tr>\n",
       "\t<tr><th scope=row>typesetters</th><td>10.00</td><td> 6462</td><td>13.58</td><td>42.2</td><td>9511</td><td>bc  </td></tr>\n",
       "\t<tr><th scope=row>bookbinders</th><td> 8.55</td><td> 3617</td><td>70.87</td><td>35.2</td><td>9517</td><td>bc  </td></tr>\n",
       "</tbody>\n",
       "</table>\n"
      ],
      "text/latex": [
       "A data.frame: 98 x 6\n",
       "\\begin{tabular}{r|llllll}\n",
       "  & education & income & women & prestige & census & type\\\\\n",
       "  & <dbl> & <int> & <dbl> & <dbl> & <int> & <fct>\\\\\n",
       "\\hline\n",
       "\tgov.administrators & 13.11 & 12351 & 11.16 & 68.8 & 1113 & prof\\\\\n",
       "\tgeneral.managers & 12.26 & 25879 &  4.02 & 69.1 & 1130 & prof\\\\\n",
       "\taccountants & 12.77 &  9271 & 15.70 & 63.4 & 1171 & prof\\\\\n",
       "\tpurchasing.officers & 11.42 &  8865 &  9.11 & 56.8 & 1175 & prof\\\\\n",
       "\tchemists & 14.62 &  8403 & 11.68 & 73.5 & 2111 & prof\\\\\n",
       "\tphysicists & 15.64 & 11030 &  5.13 & 77.6 & 2113 & prof\\\\\n",
       "\tbiologists & 15.09 &  8258 & 25.65 & 72.6 & 2133 & prof\\\\\n",
       "\tarchitects & 15.44 & 14163 &  2.69 & 78.1 & 2141 & prof\\\\\n",
       "\tcivil.engineers & 14.52 & 11377 &  1.03 & 73.1 & 2143 & prof\\\\\n",
       "\tmining.engineers & 14.64 & 11023 &  0.94 & 68.8 & 2153 & prof\\\\\n",
       "\tsurveyors & 12.39 &  5902 &  1.91 & 62.0 & 2161 & prof\\\\\n",
       "\tdraughtsmen & 12.30 &  7059 &  7.83 & 60.0 & 2163 & prof\\\\\n",
       "\tcomputer.programers & 13.83 &  8425 & 15.33 & 53.8 & 2183 & prof\\\\\n",
       "\teconomists & 14.44 &  8049 & 57.31 & 62.2 & 2311 & prof\\\\\n",
       "\tpsychologists & 14.36 &  7405 & 48.28 & 74.9 & 2315 & prof\\\\\n",
       "\tsocial.workers & 14.21 &  6336 & 54.77 & 55.1 & 2331 & prof\\\\\n",
       "\tlawyers & 15.77 & 19263 &  5.13 & 82.3 & 2343 & prof\\\\\n",
       "\tlibrarians & 14.15 &  6112 & 77.10 & 58.1 & 2351 & prof\\\\\n",
       "\tvocational.counsellors & 15.22 &  9593 & 34.89 & 58.3 & 2391 & prof\\\\\n",
       "\tministers & 14.50 &  4686 &  4.14 & 72.8 & 2511 & prof\\\\\n",
       "\tuniversity.teachers & 15.97 & 12480 & 19.59 & 84.6 & 2711 & prof\\\\\n",
       "\tprimary.school.teachers & 13.62 &  5648 & 83.78 & 59.6 & 2731 & prof\\\\\n",
       "\tsecondary.school.teachers & 15.08 &  8034 & 46.80 & 66.1 & 2733 & prof\\\\\n",
       "\tphysicians & 15.96 & 25308 & 10.56 & 87.2 & 3111 & prof\\\\\n",
       "\tveterinarians & 15.94 & 14558 &  4.32 & 66.7 & 3115 & prof\\\\\n",
       "\tosteopaths.chiropractors & 14.71 & 17498 &  6.91 & 68.4 & 3117 & prof\\\\\n",
       "\tnurses & 12.46 &  4614 & 96.12 & 64.7 & 3131 & prof\\\\\n",
       "\tnursing.aides &  9.45 &  3485 & 76.14 & 34.9 & 3135 & bc  \\\\\n",
       "\tphysio.therapsts & 13.62 &  5092 & 82.66 & 72.1 & 3137 & prof\\\\\n",
       "\tpharmacists & 15.21 & 10432 & 24.71 & 69.3 & 3151 & prof\\\\\n",
       "\t... & ... & ... & ... & ... & ... & ...\\\\\n",
       "\tcanners &  7.42 &  1890 & 72.24 & 23.2 & 8221 & bc  \\\\\n",
       "\ttextile.weavers &  6.69 &  4443 & 31.36 & 33.3 & 8267 & bc  \\\\\n",
       "\ttextile.labourers &  6.74 &  3485 & 39.48 & 28.8 & 8278 & bc  \\\\\n",
       "\ttool.die.makers & 10.09 &  8043 &  1.50 & 42.5 & 8311 & bc  \\\\\n",
       "\tmachinists &  8.81 &  6686 &  4.28 & 44.2 & 8313 & bc  \\\\\n",
       "\tsheet.metal.workers &  8.40 &  6565 &  2.30 & 35.9 & 8333 & bc  \\\\\n",
       "\twelders &  7.92 &  6477 &  5.17 & 41.8 & 8335 & bc  \\\\\n",
       "\tauto.workers &  8.43 &  5811 & 13.62 & 35.9 & 8513 & bc  \\\\\n",
       "\taircraft.workers &  8.78 &  6573 &  5.78 & 43.7 & 8515 & bc  \\\\\n",
       "\telectronic.workers &  8.76 &  3942 & 74.54 & 50.8 & 8534 & bc  \\\\\n",
       "\tradio.tv.repairmen & 10.29 &  5449 &  2.92 & 37.2 & 8537 & bc  \\\\\n",
       "\tsewing.mach.operators &  6.38 &  2847 & 90.67 & 28.2 & 8563 & bc  \\\\\n",
       "\tauto.repairmen &  8.10 &  5795 &  0.81 & 38.1 & 8581 & bc  \\\\\n",
       "\taircraft.repairmen & 10.10 &  7716 &  0.78 & 50.3 & 8582 & bc  \\\\\n",
       "\trailway.sectionmen &  6.67 &  4696 &  0.00 & 27.3 & 8715 & bc  \\\\\n",
       "\telectrical.linemen &  9.05 &  8316 &  1.34 & 40.9 & 8731 & bc  \\\\\n",
       "\telectricians &  9.93 &  7147 &  0.99 & 50.2 & 8733 & bc  \\\\\n",
       "\tconstruction.foremen &  8.24 &  8880 &  0.65 & 51.1 & 8780 & bc  \\\\\n",
       "\tcarpenters &  6.92 &  5299 &  0.56 & 38.9 & 8781 & bc  \\\\\n",
       "\tmasons &  6.60 &  5959 &  0.52 & 36.2 & 8782 & bc  \\\\\n",
       "\thouse.painters &  7.81 &  4549 &  2.46 & 29.9 & 8785 & bc  \\\\\n",
       "\tplumbers &  8.33 &  6928 &  0.61 & 42.9 & 8791 & bc  \\\\\n",
       "\tconstruction.labourers &  7.52 &  3910 &  1.09 & 26.5 & 8798 & bc  \\\\\n",
       "\tpilots & 12.27 & 14032 &  0.58 & 66.1 & 9111 & prof\\\\\n",
       "\ttrain.engineers &  8.49 &  8845 &  0.00 & 48.9 & 9131 & bc  \\\\\n",
       "\tbus.drivers &  7.58 &  5562 &  9.47 & 35.9 & 9171 & bc  \\\\\n",
       "\ttaxi.drivers &  7.93 &  4224 &  3.59 & 25.1 & 9173 & bc  \\\\\n",
       "\tlongshoremen &  8.37 &  4753 &  0.00 & 26.1 & 9313 & bc  \\\\\n",
       "\ttypesetters & 10.00 &  6462 & 13.58 & 42.2 & 9511 & bc  \\\\\n",
       "\tbookbinders &  8.55 &  3617 & 70.87 & 35.2 & 9517 & bc  \\\\\n",
       "\\end{tabular}\n"
      ],
      "text/markdown": [
       "\n",
       "A data.frame: 98 x 6\n",
       "\n",
       "| <!--/--> | education &lt;dbl&gt; | income &lt;int&gt; | women &lt;dbl&gt; | prestige &lt;dbl&gt; | census &lt;int&gt; | type &lt;fct&gt; |\n",
       "|---|---|---|---|---|---|---|\n",
       "| gov.administrators | 13.11 | 12351 | 11.16 | 68.8 | 1113 | prof |\n",
       "| general.managers | 12.26 | 25879 |  4.02 | 69.1 | 1130 | prof |\n",
       "| accountants | 12.77 |  9271 | 15.70 | 63.4 | 1171 | prof |\n",
       "| purchasing.officers | 11.42 |  8865 |  9.11 | 56.8 | 1175 | prof |\n",
       "| chemists | 14.62 |  8403 | 11.68 | 73.5 | 2111 | prof |\n",
       "| physicists | 15.64 | 11030 |  5.13 | 77.6 | 2113 | prof |\n",
       "| biologists | 15.09 |  8258 | 25.65 | 72.6 | 2133 | prof |\n",
       "| architects | 15.44 | 14163 |  2.69 | 78.1 | 2141 | prof |\n",
       "| civil.engineers | 14.52 | 11377 |  1.03 | 73.1 | 2143 | prof |\n",
       "| mining.engineers | 14.64 | 11023 |  0.94 | 68.8 | 2153 | prof |\n",
       "| surveyors | 12.39 |  5902 |  1.91 | 62.0 | 2161 | prof |\n",
       "| draughtsmen | 12.30 |  7059 |  7.83 | 60.0 | 2163 | prof |\n",
       "| computer.programers | 13.83 |  8425 | 15.33 | 53.8 | 2183 | prof |\n",
       "| economists | 14.44 |  8049 | 57.31 | 62.2 | 2311 | prof |\n",
       "| psychologists | 14.36 |  7405 | 48.28 | 74.9 | 2315 | prof |\n",
       "| social.workers | 14.21 |  6336 | 54.77 | 55.1 | 2331 | prof |\n",
       "| lawyers | 15.77 | 19263 |  5.13 | 82.3 | 2343 | prof |\n",
       "| librarians | 14.15 |  6112 | 77.10 | 58.1 | 2351 | prof |\n",
       "| vocational.counsellors | 15.22 |  9593 | 34.89 | 58.3 | 2391 | prof |\n",
       "| ministers | 14.50 |  4686 |  4.14 | 72.8 | 2511 | prof |\n",
       "| university.teachers | 15.97 | 12480 | 19.59 | 84.6 | 2711 | prof |\n",
       "| primary.school.teachers | 13.62 |  5648 | 83.78 | 59.6 | 2731 | prof |\n",
       "| secondary.school.teachers | 15.08 |  8034 | 46.80 | 66.1 | 2733 | prof |\n",
       "| physicians | 15.96 | 25308 | 10.56 | 87.2 | 3111 | prof |\n",
       "| veterinarians | 15.94 | 14558 |  4.32 | 66.7 | 3115 | prof |\n",
       "| osteopaths.chiropractors | 14.71 | 17498 |  6.91 | 68.4 | 3117 | prof |\n",
       "| nurses | 12.46 |  4614 | 96.12 | 64.7 | 3131 | prof |\n",
       "| nursing.aides |  9.45 |  3485 | 76.14 | 34.9 | 3135 | bc   |\n",
       "| physio.therapsts | 13.62 |  5092 | 82.66 | 72.1 | 3137 | prof |\n",
       "| pharmacists | 15.21 | 10432 | 24.71 | 69.3 | 3151 | prof |\n",
       "| ... | ... | ... | ... | ... | ... | ... |\n",
       "| canners |  7.42 |  1890 | 72.24 | 23.2 | 8221 | bc   |\n",
       "| textile.weavers |  6.69 |  4443 | 31.36 | 33.3 | 8267 | bc   |\n",
       "| textile.labourers |  6.74 |  3485 | 39.48 | 28.8 | 8278 | bc   |\n",
       "| tool.die.makers | 10.09 |  8043 |  1.50 | 42.5 | 8311 | bc   |\n",
       "| machinists |  8.81 |  6686 |  4.28 | 44.2 | 8313 | bc   |\n",
       "| sheet.metal.workers |  8.40 |  6565 |  2.30 | 35.9 | 8333 | bc   |\n",
       "| welders |  7.92 |  6477 |  5.17 | 41.8 | 8335 | bc   |\n",
       "| auto.workers |  8.43 |  5811 | 13.62 | 35.9 | 8513 | bc   |\n",
       "| aircraft.workers |  8.78 |  6573 |  5.78 | 43.7 | 8515 | bc   |\n",
       "| electronic.workers |  8.76 |  3942 | 74.54 | 50.8 | 8534 | bc   |\n",
       "| radio.tv.repairmen | 10.29 |  5449 |  2.92 | 37.2 | 8537 | bc   |\n",
       "| sewing.mach.operators |  6.38 |  2847 | 90.67 | 28.2 | 8563 | bc   |\n",
       "| auto.repairmen |  8.10 |  5795 |  0.81 | 38.1 | 8581 | bc   |\n",
       "| aircraft.repairmen | 10.10 |  7716 |  0.78 | 50.3 | 8582 | bc   |\n",
       "| railway.sectionmen |  6.67 |  4696 |  0.00 | 27.3 | 8715 | bc   |\n",
       "| electrical.linemen |  9.05 |  8316 |  1.34 | 40.9 | 8731 | bc   |\n",
       "| electricians |  9.93 |  7147 |  0.99 | 50.2 | 8733 | bc   |\n",
       "| construction.foremen |  8.24 |  8880 |  0.65 | 51.1 | 8780 | bc   |\n",
       "| carpenters |  6.92 |  5299 |  0.56 | 38.9 | 8781 | bc   |\n",
       "| masons |  6.60 |  5959 |  0.52 | 36.2 | 8782 | bc   |\n",
       "| house.painters |  7.81 |  4549 |  2.46 | 29.9 | 8785 | bc   |\n",
       "| plumbers |  8.33 |  6928 |  0.61 | 42.9 | 8791 | bc   |\n",
       "| construction.labourers |  7.52 |  3910 |  1.09 | 26.5 | 8798 | bc   |\n",
       "| pilots | 12.27 | 14032 |  0.58 | 66.1 | 9111 | prof |\n",
       "| train.engineers |  8.49 |  8845 |  0.00 | 48.9 | 9131 | bc   |\n",
       "| bus.drivers |  7.58 |  5562 |  9.47 | 35.9 | 9171 | bc   |\n",
       "| taxi.drivers |  7.93 |  4224 |  3.59 | 25.1 | 9173 | bc   |\n",
       "| longshoremen |  8.37 |  4753 |  0.00 | 26.1 | 9313 | bc   |\n",
       "| typesetters | 10.00 |  6462 | 13.58 | 42.2 | 9511 | bc   |\n",
       "| bookbinders |  8.55 |  3617 | 70.87 | 35.2 | 9517 | bc   |\n",
       "\n"
      ],
      "text/plain": [
       "                          education income women prestige census type\n",
       "gov.administrators        13.11     12351  11.16 68.8     1113   prof\n",
       "general.managers          12.26     25879   4.02 69.1     1130   prof\n",
       "accountants               12.77      9271  15.70 63.4     1171   prof\n",
       "purchasing.officers       11.42      8865   9.11 56.8     1175   prof\n",
       "chemists                  14.62      8403  11.68 73.5     2111   prof\n",
       "physicists                15.64     11030   5.13 77.6     2113   prof\n",
       "biologists                15.09      8258  25.65 72.6     2133   prof\n",
       "architects                15.44     14163   2.69 78.1     2141   prof\n",
       "civil.engineers           14.52     11377   1.03 73.1     2143   prof\n",
       "mining.engineers          14.64     11023   0.94 68.8     2153   prof\n",
       "surveyors                 12.39      5902   1.91 62.0     2161   prof\n",
       "draughtsmen               12.30      7059   7.83 60.0     2163   prof\n",
       "computer.programers       13.83      8425  15.33 53.8     2183   prof\n",
       "economists                14.44      8049  57.31 62.2     2311   prof\n",
       "psychologists             14.36      7405  48.28 74.9     2315   prof\n",
       "social.workers            14.21      6336  54.77 55.1     2331   prof\n",
       "lawyers                   15.77     19263   5.13 82.3     2343   prof\n",
       "librarians                14.15      6112  77.10 58.1     2351   prof\n",
       "vocational.counsellors    15.22      9593  34.89 58.3     2391   prof\n",
       "ministers                 14.50      4686   4.14 72.8     2511   prof\n",
       "university.teachers       15.97     12480  19.59 84.6     2711   prof\n",
       "primary.school.teachers   13.62      5648  83.78 59.6     2731   prof\n",
       "secondary.school.teachers 15.08      8034  46.80 66.1     2733   prof\n",
       "physicians                15.96     25308  10.56 87.2     3111   prof\n",
       "veterinarians             15.94     14558   4.32 66.7     3115   prof\n",
       "osteopaths.chiropractors  14.71     17498   6.91 68.4     3117   prof\n",
       "nurses                    12.46      4614  96.12 64.7     3131   prof\n",
       "nursing.aides              9.45      3485  76.14 34.9     3135   bc  \n",
       "physio.therapsts          13.62      5092  82.66 72.1     3137   prof\n",
       "pharmacists               15.21     10432  24.71 69.3     3151   prof\n",
       "...                       ...       ...    ...   ...      ...    ... \n",
       "canners                    7.42      1890  72.24 23.2     8221   bc  \n",
       "textile.weavers            6.69      4443  31.36 33.3     8267   bc  \n",
       "textile.labourers          6.74      3485  39.48 28.8     8278   bc  \n",
       "tool.die.makers           10.09      8043   1.50 42.5     8311   bc  \n",
       "machinists                 8.81      6686   4.28 44.2     8313   bc  \n",
       "sheet.metal.workers        8.40      6565   2.30 35.9     8333   bc  \n",
       "welders                    7.92      6477   5.17 41.8     8335   bc  \n",
       "auto.workers               8.43      5811  13.62 35.9     8513   bc  \n",
       "aircraft.workers           8.78      6573   5.78 43.7     8515   bc  \n",
       "electronic.workers         8.76      3942  74.54 50.8     8534   bc  \n",
       "radio.tv.repairmen        10.29      5449   2.92 37.2     8537   bc  \n",
       "sewing.mach.operators      6.38      2847  90.67 28.2     8563   bc  \n",
       "auto.repairmen             8.10      5795   0.81 38.1     8581   bc  \n",
       "aircraft.repairmen        10.10      7716   0.78 50.3     8582   bc  \n",
       "railway.sectionmen         6.67      4696   0.00 27.3     8715   bc  \n",
       "electrical.linemen         9.05      8316   1.34 40.9     8731   bc  \n",
       "electricians               9.93      7147   0.99 50.2     8733   bc  \n",
       "construction.foremen       8.24      8880   0.65 51.1     8780   bc  \n",
       "carpenters                 6.92      5299   0.56 38.9     8781   bc  \n",
       "masons                     6.60      5959   0.52 36.2     8782   bc  \n",
       "house.painters             7.81      4549   2.46 29.9     8785   bc  \n",
       "plumbers                   8.33      6928   0.61 42.9     8791   bc  \n",
       "construction.labourers     7.52      3910   1.09 26.5     8798   bc  \n",
       "pilots                    12.27     14032   0.58 66.1     9111   prof\n",
       "train.engineers            8.49      8845   0.00 48.9     9131   bc  \n",
       "bus.drivers                7.58      5562   9.47 35.9     9171   bc  \n",
       "taxi.drivers               7.93      4224   3.59 25.1     9173   bc  \n",
       "longshoremen               8.37      4753   0.00 26.1     9313   bc  \n",
       "typesetters               10.00      6462  13.58 42.2     9511   bc  \n",
       "bookbinders                8.55      3617  70.87 35.2     9517   bc  "
      ]
     },
     "metadata": {},
     "output_type": "display_data"
    }
   ],
   "source": [
    "na.omit(data)"
   ]
  },
  {
   "cell_type": "code",
   "execution_count": 11,
   "id": "7284f3bb-57c8-4bd4-99ca-104cca50b23c",
   "metadata": {},
   "outputs": [],
   "source": [
    "data[is.na(data$type), \"type\"] <- \"bc\""
   ]
  },
  {
   "cell_type": "code",
   "execution_count": 12,
   "id": "3b83a7fd-35dd-4b46-8863-867a312f512d",
   "metadata": {},
   "outputs": [
    {
     "data": {
      "text/html": [
       "FALSE"
      ],
      "text/latex": [
       "FALSE"
      ],
      "text/markdown": [
       "FALSE"
      ],
      "text/plain": [
       "[1] FALSE"
      ]
     },
     "metadata": {},
     "output_type": "display_data"
    }
   ],
   "source": [
    "anyNA(data)"
   ]
  },
  {
   "cell_type": "markdown",
   "id": "cbf2916e-9745-449e-84ad-5e37c31cb146",
   "metadata": {},
   "source": [
    "## 2. Train test split"
   ]
  },
  {
   "cell_type": "code",
   "execution_count": 13,
   "id": "e7ce086e-22ea-4bba-bfeb-88eb78b06be8",
   "metadata": {},
   "outputs": [],
   "source": [
    "set.seed(2024)\n",
    "\n",
    "train_index <- sample(nrow(data), size = round(0.7*nrow(data)))"
   ]
  },
  {
   "cell_type": "code",
   "execution_count": 14,
   "id": "a82f0b7c-a8ae-437a-805d-b6cb8f046dd6",
   "metadata": {},
   "outputs": [
    {
     "data": {
      "text/html": [
       "71"
      ],
      "text/latex": [
       "71"
      ],
      "text/markdown": [
       "71"
      ],
      "text/plain": [
       "[1] 71"
      ]
     },
     "metadata": {},
     "output_type": "display_data"
    }
   ],
   "source": [
    "length(train_index)"
   ]
  },
  {
   "cell_type": "code",
   "execution_count": 15,
   "id": "1a28e863-de8a-4f0e-9089-f95a20bfed62",
   "metadata": {},
   "outputs": [],
   "source": [
    "train <- data[train_index,]\n",
    "test <- data[-train_index,]"
   ]
  },
  {
   "cell_type": "code",
   "execution_count": 16,
   "id": "af49d131-7691-42d2-91f2-94e7c4de6e0c",
   "metadata": {},
   "outputs": [
    {
     "data": {
      "text/html": [
       "<table class=\"dataframe\">\n",
       "<caption>A data.frame: 6 x 6</caption>\n",
       "<thead>\n",
       "\t<tr><th></th><th scope=col>education</th><th scope=col>income</th><th scope=col>women</th><th scope=col>prestige</th><th scope=col>census</th><th scope=col>type</th></tr>\n",
       "\t<tr><th></th><th scope=col>&lt;dbl&gt;</th><th scope=col>&lt;int&gt;</th><th scope=col>&lt;dbl&gt;</th><th scope=col>&lt;dbl&gt;</th><th scope=col>&lt;int&gt;</th><th scope=col>&lt;fct&gt;</th></tr>\n",
       "</thead>\n",
       "<tbody>\n",
       "\t<tr><th scope=row>elevator.operators</th><td> 7.58</td><td> 3582</td><td>30.08</td><td>20.1</td><td>6193</td><td>bc  </td></tr>\n",
       "\t<tr><th scope=row>bookkeepers</th><td>11.32</td><td> 4348</td><td>68.24</td><td>49.4</td><td>4131</td><td>wc  </td></tr>\n",
       "\t<tr><th scope=row>telephone.operators</th><td>10.51</td><td> 3161</td><td>96.14</td><td>38.1</td><td>4175</td><td>wc  </td></tr>\n",
       "\t<tr><th scope=row>cooks</th><td> 7.74</td><td> 3116</td><td>52.00</td><td>29.7</td><td>6121</td><td>bc  </td></tr>\n",
       "\t<tr><th scope=row>lawyers</th><td>15.77</td><td>19263</td><td> 5.13</td><td>82.3</td><td>2343</td><td>prof</td></tr>\n",
       "\t<tr><th scope=row>commercial.artists</th><td>11.09</td><td> 6197</td><td>21.03</td><td>57.2</td><td>3314</td><td>prof</td></tr>\n",
       "</tbody>\n",
       "</table>\n"
      ],
      "text/latex": [
       "A data.frame: 6 x 6\n",
       "\\begin{tabular}{r|llllll}\n",
       "  & education & income & women & prestige & census & type\\\\\n",
       "  & <dbl> & <int> & <dbl> & <dbl> & <int> & <fct>\\\\\n",
       "\\hline\n",
       "\televator.operators &  7.58 &  3582 & 30.08 & 20.1 & 6193 & bc  \\\\\n",
       "\tbookkeepers & 11.32 &  4348 & 68.24 & 49.4 & 4131 & wc  \\\\\n",
       "\ttelephone.operators & 10.51 &  3161 & 96.14 & 38.1 & 4175 & wc  \\\\\n",
       "\tcooks &  7.74 &  3116 & 52.00 & 29.7 & 6121 & bc  \\\\\n",
       "\tlawyers & 15.77 & 19263 &  5.13 & 82.3 & 2343 & prof\\\\\n",
       "\tcommercial.artists & 11.09 &  6197 & 21.03 & 57.2 & 3314 & prof\\\\\n",
       "\\end{tabular}\n"
      ],
      "text/markdown": [
       "\n",
       "A data.frame: 6 x 6\n",
       "\n",
       "| <!--/--> | education &lt;dbl&gt; | income &lt;int&gt; | women &lt;dbl&gt; | prestige &lt;dbl&gt; | census &lt;int&gt; | type &lt;fct&gt; |\n",
       "|---|---|---|---|---|---|---|\n",
       "| elevator.operators |  7.58 |  3582 | 30.08 | 20.1 | 6193 | bc   |\n",
       "| bookkeepers | 11.32 |  4348 | 68.24 | 49.4 | 4131 | wc   |\n",
       "| telephone.operators | 10.51 |  3161 | 96.14 | 38.1 | 4175 | wc   |\n",
       "| cooks |  7.74 |  3116 | 52.00 | 29.7 | 6121 | bc   |\n",
       "| lawyers | 15.77 | 19263 |  5.13 | 82.3 | 2343 | prof |\n",
       "| commercial.artists | 11.09 |  6197 | 21.03 | 57.2 | 3314 | prof |\n",
       "\n"
      ],
      "text/plain": [
       "                    education income women prestige census type\n",
       "elevator.operators   7.58      3582  30.08 20.1     6193   bc  \n",
       "bookkeepers         11.32      4348  68.24 49.4     4131   wc  \n",
       "telephone.operators 10.51      3161  96.14 38.1     4175   wc  \n",
       "cooks                7.74      3116  52.00 29.7     6121   bc  \n",
       "lawyers             15.77     19263   5.13 82.3     2343   prof\n",
       "commercial.artists  11.09      6197  21.03 57.2     3314   prof"
      ]
     },
     "metadata": {},
     "output_type": "display_data"
    }
   ],
   "source": [
    "head(train)"
   ]
  },
  {
   "cell_type": "markdown",
   "id": "2914a3c7-70bc-4d8e-974d-c9e1fe79d9b5",
   "metadata": {},
   "source": [
    "3. EDA "
   ]
  },
  {
   "cell_type": "code",
   "execution_count": 17,
   "id": "08a57709-23b7-40ba-bc64-a6c0db7834a9",
   "metadata": {},
   "outputs": [
    {
     "data": {
      "text/html": [
       "<table class=\"dataframe\">\n",
       "<caption>A matrix: 5 x 5 of type dbl</caption>\n",
       "<thead>\n",
       "\t<tr><th></th><th scope=col>education</th><th scope=col>income</th><th scope=col>women</th><th scope=col>prestige</th><th scope=col>census</th></tr>\n",
       "</thead>\n",
       "<tbody>\n",
       "\t<tr><th scope=row>education</th><td> 1.00000000</td><td> 0.5775802</td><td> 0.06185286</td><td> 0.8501769</td><td>-0.8230882</td></tr>\n",
       "\t<tr><th scope=row>income</th><td> 0.57758023</td><td> 1.0000000</td><td>-0.44105927</td><td> 0.7149057</td><td>-0.3610023</td></tr>\n",
       "\t<tr><th scope=row>women</th><td> 0.06185286</td><td>-0.4410593</td><td> 1.00000000</td><td>-0.1183342</td><td>-0.2270028</td></tr>\n",
       "\t<tr><th scope=row>prestige</th><td> 0.85017689</td><td> 0.7149057</td><td>-0.11833419</td><td> 1.0000000</td><td>-0.6345103</td></tr>\n",
       "\t<tr><th scope=row>census</th><td>-0.82308821</td><td>-0.3610023</td><td>-0.22700277</td><td>-0.6345103</td><td> 1.0000000</td></tr>\n",
       "</tbody>\n",
       "</table>\n"
      ],
      "text/latex": [
       "A matrix: 5 x 5 of type dbl\n",
       "\\begin{tabular}{r|lllll}\n",
       "  & education & income & women & prestige & census\\\\\n",
       "\\hline\n",
       "\teducation &  1.00000000 &  0.5775802 &  0.06185286 &  0.8501769 & -0.8230882\\\\\n",
       "\tincome &  0.57758023 &  1.0000000 & -0.44105927 &  0.7149057 & -0.3610023\\\\\n",
       "\twomen &  0.06185286 & -0.4410593 &  1.00000000 & -0.1183342 & -0.2270028\\\\\n",
       "\tprestige &  0.85017689 &  0.7149057 & -0.11833419 &  1.0000000 & -0.6345103\\\\\n",
       "\tcensus & -0.82308821 & -0.3610023 & -0.22700277 & -0.6345103 &  1.0000000\\\\\n",
       "\\end{tabular}\n"
      ],
      "text/markdown": [
       "\n",
       "A matrix: 5 x 5 of type dbl\n",
       "\n",
       "| <!--/--> | education | income | women | prestige | census |\n",
       "|---|---|---|---|---|---|\n",
       "| education |  1.00000000 |  0.5775802 |  0.06185286 |  0.8501769 | -0.8230882 |\n",
       "| income |  0.57758023 |  1.0000000 | -0.44105927 |  0.7149057 | -0.3610023 |\n",
       "| women |  0.06185286 | -0.4410593 |  1.00000000 | -0.1183342 | -0.2270028 |\n",
       "| prestige |  0.85017689 |  0.7149057 | -0.11833419 |  1.0000000 | -0.6345103 |\n",
       "| census | -0.82308821 | -0.3610023 | -0.22700277 | -0.6345103 |  1.0000000 |\n",
       "\n"
      ],
      "text/plain": [
       "          education   income     women       prestige   census    \n",
       "education  1.00000000  0.5775802  0.06185286  0.8501769 -0.8230882\n",
       "income     0.57758023  1.0000000 -0.44105927  0.7149057 -0.3610023\n",
       "women      0.06185286 -0.4410593  1.00000000 -0.1183342 -0.2270028\n",
       "prestige   0.85017689  0.7149057 -0.11833419  1.0000000 -0.6345103\n",
       "census    -0.82308821 -0.3610023 -0.22700277 -0.6345103  1.0000000"
      ]
     },
     "metadata": {},
     "output_type": "display_data"
    }
   ],
   "source": [
    "cor(data |> select(-type))"
   ]
  },
  {
   "cell_type": "code",
   "execution_count": 18,
   "id": "eddc20bf-c83b-461e-b321-fefd94da355b",
   "metadata": {},
   "outputs": [],
   "source": [
    "#install.packages(\"corrplot\")"
   ]
  },
  {
   "cell_type": "code",
   "execution_count": 19,
   "id": "00134d16-56ff-4980-b52e-6e1e4be79b1d",
   "metadata": {},
   "outputs": [
    {
     "name": "stderr",
     "output_type": "stream",
     "text": [
      "corrplot 0.92 loaded\n",
      "\n"
     ]
    },
    {
     "data": {
      "image/png": "[encoded data removed]",
      "text/plain": [
       "Plot with title \"\""
      ]
     },
     "metadata": {
      "image/png": {
       "height": 420,
       "width": 420
      }
     },
     "output_type": "display_data"
    }
   ],
   "source": [
    "library(corrplot)\n",
    "corrplot(cor(train[,-6]) , method = \"number\") "
   ]
  },
  {
   "cell_type": "code",
   "execution_count": 20,
   "id": "eb7a1a9c-aff5-4c56-9fc7-cbdc0caba802",
   "metadata": {},
   "outputs": [],
   "source": [
    "library(ggplot2)"
   ]
  },
  {
   "cell_type": "code",
   "execution_count": 21,
   "id": "18691a46-6091-4838-9e8e-ee48ff5828eb",
   "metadata": {},
   "outputs": [
    {
     "data": {
      "image/png": "[encoded data removed]",
      "text/plain": [
       "plot without title"
      ]
     },
     "metadata": {
      "image/png": {
       "height": 420,
       "width": 420
      }
     },
     "output_type": "display_data"
    }
   ],
   "source": [
    "ggplot(train, aes(prestige)) + \n",
    "    geom_histogram(bins = 25, alpha = 0.5, fill = 'blue', color='black')  + \n",
    "    theme_bw()"
   ]
  },
  {
   "cell_type": "code",
   "execution_count": 22,
   "id": "1e14a0cf-cd75-46fa-9023-d3b000bf96ec",
   "metadata": {},
   "outputs": [
    {
     "data": {
      "image/png": "[encoded data removed]",
      "text/plain": [
       "plot without title"
      ]
     },
     "metadata": {
      "image/png": {
       "height": 420,
       "width": 420
      }
     },
     "output_type": "display_data"
    }
   ],
   "source": [
    "ggplot(train, aes(income)) + \n",
    "    geom_histogram(bins = 25, alpha = 0.5, fill = 'blue', color='black')  + \n",
    "    theme_bw()"
   ]
  },
  {
   "cell_type": "code",
   "execution_count": 23,
   "id": "c3c3dc76-f4bc-40fd-a069-7fe5efebe0a0",
   "metadata": {},
   "outputs": [
    {
     "data": {
      "image/png": "[encoded data removed]",
      "text/plain": [
       "plot without title"
      ]
     },
     "metadata": {
      "image/png": {
       "height": 420,
       "width": 420
      }
     },
     "output_type": "display_data"
    }
   ],
   "source": [
    "ggplot(train, aes(women)) + \n",
    "    geom_histogram(bins = 25, alpha = 0.5, fill = 'blue', color='black')  + \n",
    "    theme_bw()"
   ]
  },
  {
   "cell_type": "markdown",
   "id": "691b6189-9ba1-4425-adcf-169ca8bee5b3",
   "metadata": {},
   "source": [
    "## 4. Model building"
   ]
  },
  {
   "cell_type": "code",
   "execution_count": 24,
   "id": "091a8fdd-3069-4d3c-8d3b-f455ae53535f",
   "metadata": {},
   "outputs": [],
   "source": [
    "lm_model <- lm(prestige ~ education, data = train)"
   ]
  },
  {
   "cell_type": "code",
   "execution_count": 25,
   "id": "9cf7fa4e-c40e-4d07-ada1-7fb73d83df7f",
   "metadata": {},
   "outputs": [
    {
     "data": {
      "text/plain": [
       "\n",
       "Call:\n",
       "lm(formula = prestige ~ education, data = train)\n",
       "\n",
       "Residuals:\n",
       "    Min      1Q  Median      3Q     Max \n",
       "-26.437  -5.954   1.032   6.703  17.376 \n",
       "\n",
       "Coefficients:\n",
       "            Estimate Std. Error t value Pr(>|t|)    \n",
       "(Intercept)  -8.9845     4.2435  -2.117   0.0378 *  \n",
       "education     5.2205     0.3896  13.399   <2e-16 ***\n",
       "---\n",
       "Signif. codes:  0 '***' 0.001 '**' 0.01 '*' 0.05 '.' 0.1 ' ' 1\n",
       "\n",
       "Residual standard error: 8.998 on 69 degrees of freedom\n",
       "Multiple R-squared:  0.7224,\tAdjusted R-squared:  0.7184 \n",
       "F-statistic: 179.5 on 1 and 69 DF,  p-value: < 2.2e-16\n"
      ]
     },
     "metadata": {},
     "output_type": "display_data"
    }
   ],
   "source": [
    "summary(lm_model)"
   ]
  },
  {
   "cell_type": "code",
   "execution_count": 26,
   "id": "6c1df465-9c8d-4554-a769-dcc161792c4d",
   "metadata": {},
   "outputs": [],
   "source": [
    "# prestige = -8.98 + 5.22*education"
   ]
  },
  {
   "cell_type": "code",
   "execution_count": 27,
   "id": "1a01633d-8f9c-4d57-a7a4-16306b5c7691",
   "metadata": {},
   "outputs": [],
   "source": [
    "library(broom)"
   ]
  },
  {
   "cell_type": "code",
   "execution_count": 28,
   "id": "4f180306-510a-471d-b2e1-a2bbd294d12d",
   "metadata": {},
   "outputs": [
    {
     "data": {
      "text/html": [
       "<table class=\"dataframe\">\n",
       "<caption>A tibble: 2 x 5</caption>\n",
       "<thead>\n",
       "\t<tr><th scope=col>term</th><th scope=col>estimate</th><th scope=col>std.error</th><th scope=col>statistic</th><th scope=col>p.value</th></tr>\n",
       "\t<tr><th scope=col>&lt;chr&gt;</th><th scope=col>&lt;dbl&gt;</th><th scope=col>&lt;dbl&gt;</th><th scope=col>&lt;dbl&gt;</th><th scope=col>&lt;dbl&gt;</th></tr>\n",
       "</thead>\n",
       "<tbody>\n",
       "\t<tr><td>(Intercept)</td><td>-8.984455</td><td>4.2435146</td><td>-2.11722</td><td>3.784807e-02</td></tr>\n",
       "\t<tr><td>education  </td><td> 5.220529</td><td>0.3896172</td><td>13.39912</td><td>7.056207e-21</td></tr>\n",
       "</tbody>\n",
       "</table>\n"
      ],
      "text/latex": [
       "A tibble: 2 x 5\n",
       "\\begin{tabular}{lllll}\n",
       " term & estimate & std.error & statistic & p.value\\\\\n",
       " <chr> & <dbl> & <dbl> & <dbl> & <dbl>\\\\\n",
       "\\hline\n",
       "\t (Intercept) & -8.984455 & 4.2435146 & -2.11722 & 3.784807e-02\\\\\n",
       "\t education   &  5.220529 & 0.3896172 & 13.39912 & 7.056207e-21\\\\\n",
       "\\end{tabular}\n"
      ],
      "text/markdown": [
       "\n",
       "A tibble: 2 x 5\n",
       "\n",
       "| term &lt;chr&gt; | estimate &lt;dbl&gt; | std.error &lt;dbl&gt; | statistic &lt;dbl&gt; | p.value &lt;dbl&gt; |\n",
       "|---|---|---|---|---|\n",
       "| (Intercept) | -8.984455 | 4.2435146 | -2.11722 | 3.784807e-02 |\n",
       "| education   |  5.220529 | 0.3896172 | 13.39912 | 7.056207e-21 |\n",
       "\n"
      ],
      "text/plain": [
       "  term        estimate  std.error statistic p.value     \n",
       "1 (Intercept) -8.984455 4.2435146 -2.11722  3.784807e-02\n",
       "2 education    5.220529 0.3896172 13.39912  7.056207e-21"
      ]
     },
     "metadata": {},
     "output_type": "display_data"
    }
   ],
   "source": [
    "tidy(lm_model)"
   ]
  },
  {
   "cell_type": "code",
   "execution_count": 29,
   "id": "aee1e830-1154-40b4-8bc7-d0da2b366528",
   "metadata": {},
   "outputs": [
    {
     "data": {
      "text/plain": [
       "\n",
       "Call:\n",
       "lm(formula = prestige ~ education + income, data = train)\n",
       "\n",
       "Residuals:\n",
       "     Min       1Q   Median       3Q      Max \n",
       "-17.7525  -4.5878   0.4582   4.7086  17.3600 \n",
       "\n",
       "Coefficients:\n",
       "              Estimate Std. Error t value Pr(>|t|)    \n",
       "(Intercept) -5.6264724  3.7225239  -1.511    0.135    \n",
       "education    3.8021103  0.4408681   8.624 1.61e-12 ***\n",
       "income       0.0017458  0.0003512   4.972 4.76e-06 ***\n",
       "---\n",
       "Signif. codes:  0 '***' 0.001 '**' 0.01 '*' 0.05 '.' 0.1 ' ' 1\n",
       "\n",
       "Residual standard error: 7.762 on 68 degrees of freedom\n",
       "Multiple R-squared:  0.7964,\tAdjusted R-squared:  0.7904 \n",
       "F-statistic:   133 on 2 and 68 DF,  p-value: < 2.2e-16\n"
      ]
     },
     "metadata": {},
     "output_type": "display_data"
    }
   ],
   "source": [
    "lm_model <- lm(prestige ~ education + income, data = train)\n",
    "summary(lm_model)"
   ]
  },
  {
   "cell_type": "code",
   "execution_count": 30,
   "id": "eb95880b-7003-44ab-8838-506796b4e74b",
   "metadata": {},
   "outputs": [
    {
     "data": {
      "text/plain": [
       "\n",
       "Call:\n",
       "lm(formula = prestige ~ log(education) + income, data = train)\n",
       "\n",
       "Residuals:\n",
       "     Min       1Q   Median       3Q      Max \n",
       "-18.0756  -5.3409   0.2461   4.6585  18.9241 \n",
       "\n",
       "Coefficients:\n",
       "                 Estimate Std. Error t value Pr(>|t|)    \n",
       "(Intercept)    -5.470e+01  9.643e+00  -5.673 3.14e-07 ***\n",
       "log(education)  3.791e+01  4.689e+00   8.084 1.54e-11 ***\n",
       "income          1.919e-03  3.541e-04   5.419 8.53e-07 ***\n",
       "---\n",
       "Signif. codes:  0 '***' 0.001 '**' 0.01 '*' 0.05 '.' 0.1 ' ' 1\n",
       "\n",
       "Residual standard error: 8.021 on 68 degrees of freedom\n",
       "Multiple R-squared:  0.7826,\tAdjusted R-squared:  0.7762 \n",
       "F-statistic: 122.4 on 2 and 68 DF,  p-value: < 2.2e-16\n"
      ]
     },
     "metadata": {},
     "output_type": "display_data"
    }
   ],
   "source": [
    "lm_model <- lm(prestige ~ log(education) + income, data = train)\n",
    "summary(lm_model)"
   ]
  },
  {
   "cell_type": "code",
   "execution_count": 31,
   "id": "7db97784-1378-4f5f-8bb4-3c5126579772",
   "metadata": {},
   "outputs": [
    {
     "data": {
      "text/plain": [
       "\n",
       "Call:\n",
       "lm(formula = prestige ~ log(education) + log(income), data = train)\n",
       "\n",
       "Residuals:\n",
       "    Min      1Q  Median      3Q     Max \n",
       "-15.633  -5.746   0.257   4.155  19.322 \n",
       "\n",
       "Coefficients:\n",
       "               Estimate Std. Error t value Pr(>|t|)    \n",
       "(Intercept)    -160.578     13.909 -11.545  < 2e-16 ***\n",
       "log(education)   37.051      4.076   9.091 2.31e-13 ***\n",
       "log(income)      13.915      1.963   7.089 9.82e-10 ***\n",
       "---\n",
       "Signif. codes:  0 '***' 0.001 '**' 0.01 '*' 0.05 '.' 0.1 ' ' 1\n",
       "\n",
       "Residual standard error: 7.278 on 68 degrees of freedom\n",
       "Multiple R-squared:  0.821,\tAdjusted R-squared:  0.8157 \n",
       "F-statistic: 155.9 on 2 and 68 DF,  p-value: < 2.2e-16\n"
      ]
     },
     "metadata": {},
     "output_type": "display_data"
    }
   ],
   "source": [
    "lm_model <- lm(prestige ~ log(education) + log(income), data = train)\n",
    "summary(lm_model)"
   ]
  },
  {
   "cell_type": "code",
   "execution_count": 32,
   "id": "9fa51cd5-78cc-4a16-9d5b-5ab744615622",
   "metadata": {},
   "outputs": [
    {
     "data": {
      "text/plain": [
       "\n",
       "Call:\n",
       "lm(formula = prestige ~ log(education) + log(income), data = train)\n",
       "\n",
       "Residuals:\n",
       "    Min      1Q  Median      3Q     Max \n",
       "-15.633  -5.746   0.257   4.155  19.322 \n",
       "\n",
       "Coefficients:\n",
       "               Estimate Std. Error t value Pr(>|t|)    \n",
       "(Intercept)    -160.578     13.909 -11.545  < 2e-16 ***\n",
       "log(education)   37.051      4.076   9.091 2.31e-13 ***\n",
       "log(income)      13.915      1.963   7.089 9.82e-10 ***\n",
       "---\n",
       "Signif. codes:  0 '***' 0.001 '**' 0.01 '*' 0.05 '.' 0.1 ' ' 1\n",
       "\n",
       "Residual standard error: 7.278 on 68 degrees of freedom\n",
       "Multiple R-squared:  0.821,\tAdjusted R-squared:  0.8157 \n",
       "F-statistic: 155.9 on 2 and 68 DF,  p-value: < 2.2e-16\n"
      ]
     },
     "metadata": {},
     "output_type": "display_data"
    }
   ],
   "source": [
    "lm_model <- lm(prestige ~ log(education) + log(income), data = train)\n",
    "summary(lm_model)"
   ]
  },
  {
   "cell_type": "code",
   "execution_count": 33,
   "id": "cde0f993-b4c4-4657-9e6e-bb3aff5cd356",
   "metadata": {},
   "outputs": [
    {
     "name": "stderr",
     "output_type": "stream",
     "text": [
      "\n",
      "Attaching package: 'modelr'\n",
      "\n",
      "\n",
      "The following object is masked from 'package:broom':\n",
      "\n",
      "    bootstrap\n",
      "\n",
      "\n"
     ]
    }
   ],
   "source": [
    "library(modelr)"
   ]
  },
  {
   "cell_type": "code",
   "execution_count": 34,
   "id": "0eafade4-9894-40db-a1f6-fbcd701a9415",
   "metadata": {},
   "outputs": [
    {
     "data": {
      "text/plain": [
       "\n",
       "Call:\n",
       "lm(formula = prestige ~ income, data = train)\n",
       "\n",
       "Residuals:\n",
       "    Min      1Q  Median      3Q     Max \n",
       "-17.877  -8.028  -2.094   6.279  33.998 \n",
       "\n",
       "Coefficients:\n",
       "             Estimate Std. Error t value Pr(>|t|)    \n",
       "(Intercept) 2.144e+01  2.876e+00   7.453 1.99e-10 ***\n",
       "income      3.706e-03  3.846e-04   9.636 2.10e-14 ***\n",
       "---\n",
       "Signif. codes:  0 '***' 0.001 '**' 0.01 '*' 0.05 '.' 0.1 ' ' 1\n",
       "\n",
       "Residual standard error: 11.15 on 69 degrees of freedom\n",
       "Multiple R-squared:  0.5737,\tAdjusted R-squared:  0.5675 \n",
       "F-statistic: 92.85 on 1 and 69 DF,  p-value: 2.103e-14\n"
      ]
     },
     "metadata": {},
     "output_type": "display_data"
    }
   ],
   "source": [
    "lm_model1 <- lm(prestige ~ income, data = train)\n",
    "summary(lm_model1)"
   ]
  },
  {
   "cell_type": "code",
   "execution_count": 35,
   "id": "f63f40d8-d450-46dd-901d-9368c0e4a2bb",
   "metadata": {},
   "outputs": [
    {
     "data": {
      "text/html": [
       "<table class=\"dataframe\">\n",
       "<caption>A data.frame: 1 x 3</caption>\n",
       "<thead>\n",
       "\t<tr><th scope=col>Model</th><th scope=col>R2_Train</th><th scope=col>R2_Test</th></tr>\n",
       "\t<tr><th scope=col>&lt;chr&gt;</th><th scope=col>&lt;dbl&gt;</th><th scope=col>&lt;dbl&gt;</th></tr>\n",
       "</thead>\n",
       "<tbody>\n",
       "\t<tr><td>Base line</td><td>0.5736839</td><td>0.2501919</td></tr>\n",
       "</tbody>\n",
       "</table>\n"
      ],
      "text/latex": [
       "A data.frame: 1 x 3\n",
       "\\begin{tabular}{lll}\n",
       " Model & R2\\_Train & R2\\_Test\\\\\n",
       " <chr> & <dbl> & <dbl>\\\\\n",
       "\\hline\n",
       "\t Base line & 0.5736839 & 0.2501919\\\\\n",
       "\\end{tabular}\n"
      ],
      "text/markdown": [
       "\n",
       "A data.frame: 1 x 3\n",
       "\n",
       "| Model &lt;chr&gt; | R2_Train &lt;dbl&gt; | R2_Test &lt;dbl&gt; |\n",
       "|---|---|---|\n",
       "| Base line | 0.5736839 | 0.2501919 |\n",
       "\n"
      ],
      "text/plain": [
       "  Model     R2_Train  R2_Test  \n",
       "1 Base line 0.5736839 0.2501919"
      ]
     },
     "metadata": {},
     "output_type": "display_data"
    }
   ],
   "source": [
    "r_df <- data.frame(\n",
    "    Model = c(\"Base line\"),\n",
    "    R2_Train = rsquare(lm_model1, train),\n",
    "    R2_Test = rsquare(lm_model1, test)\n",
    ")\n",
    "r_df"
   ]
  },
  {
   "cell_type": "code",
   "execution_count": 36,
   "id": "112ca481-a626-4147-9b9e-1196b735371c",
   "metadata": {},
   "outputs": [
    {
     "data": {
      "text/plain": [
       "\n",
       "Call:\n",
       "lm(formula = prestige ~ income + education, data = train)\n",
       "\n",
       "Residuals:\n",
       "     Min       1Q   Median       3Q      Max \n",
       "-17.7525  -4.5878   0.4582   4.7086  17.3600 \n",
       "\n",
       "Coefficients:\n",
       "              Estimate Std. Error t value Pr(>|t|)    \n",
       "(Intercept) -5.6264724  3.7225239  -1.511    0.135    \n",
       "income       0.0017458  0.0003512   4.972 4.76e-06 ***\n",
       "education    3.8021103  0.4408681   8.624 1.61e-12 ***\n",
       "---\n",
       "Signif. codes:  0 '***' 0.001 '**' 0.01 '*' 0.05 '.' 0.1 ' ' 1\n",
       "\n",
       "Residual standard error: 7.762 on 68 degrees of freedom\n",
       "Multiple R-squared:  0.7964,\tAdjusted R-squared:  0.7904 \n",
       "F-statistic:   133 on 2 and 68 DF,  p-value: < 2.2e-16\n"
      ]
     },
     "metadata": {},
     "output_type": "display_data"
    }
   ],
   "source": [
    "lm_model2 <- lm(prestige ~ income + education, data = train)\n",
    "summary(lm_model2)"
   ]
  },
  {
   "cell_type": "code",
   "execution_count": 37,
   "id": "c644a32c-9284-41f7-b7e2-0e22b3edec74",
   "metadata": {},
   "outputs": [
    {
     "data": {
      "text/html": [
       "<table class=\"dataframe\">\n",
       "<caption>A data.frame: 2 x 3</caption>\n",
       "<thead>\n",
       "\t<tr><th scope=col>Model</th><th scope=col>R2_Train</th><th scope=col>R2_Test</th></tr>\n",
       "\t<tr><th scope=col>&lt;chr&gt;</th><th scope=col>&lt;dbl&gt;</th><th scope=col>&lt;dbl&gt;</th></tr>\n",
       "</thead>\n",
       "<tbody>\n",
       "\t<tr><td>Base line</td><td>0.5736839</td><td>0.2501919</td></tr>\n",
       "\t<tr><td>+ Edu    </td><td>0.7963876</td><td>0.7810138</td></tr>\n",
       "</tbody>\n",
       "</table>\n"
      ],
      "text/latex": [
       "A data.frame: 2 x 3\n",
       "\\begin{tabular}{lll}\n",
       " Model & R2\\_Train & R2\\_Test\\\\\n",
       " <chr> & <dbl> & <dbl>\\\\\n",
       "\\hline\n",
       "\t Base line & 0.5736839 & 0.2501919\\\\\n",
       "\t + Edu     & 0.7963876 & 0.7810138\\\\\n",
       "\\end{tabular}\n"
      ],
      "text/markdown": [
       "\n",
       "A data.frame: 2 x 3\n",
       "\n",
       "| Model &lt;chr&gt; | R2_Train &lt;dbl&gt; | R2_Test &lt;dbl&gt; |\n",
       "|---|---|---|\n",
       "| Base line | 0.5736839 | 0.2501919 |\n",
       "| + Edu     | 0.7963876 | 0.7810138 |\n",
       "\n"
      ],
      "text/plain": [
       "  Model     R2_Train  R2_Test  \n",
       "1 Base line 0.5736839 0.2501919\n",
       "2 + Edu     0.7963876 0.7810138"
      ]
     },
     "metadata": {},
     "output_type": "display_data"
    }
   ],
   "source": [
    "r_df <- r_df |>\n",
    "    bind_rows(data.frame(\n",
    "    Model = c(\"+ Edu\"),\n",
    "    R2_Train = rsquare(lm_model2, train),\n",
    "    R2_Test = rsquare(lm_model2, test)\n",
    "))\n",
    "r_df"
   ]
  },
  {
   "cell_type": "code",
   "execution_count": 38,
   "id": "475ba060-ce2b-41b8-9bbe-e0a1127479a1",
   "metadata": {},
   "outputs": [
    {
     "data": {
      "text/plain": [
       "\n",
       "Call:\n",
       "lm(formula = prestige ~ log(income) + log(education), data = train)\n",
       "\n",
       "Residuals:\n",
       "    Min      1Q  Median      3Q     Max \n",
       "-15.633  -5.746   0.257   4.155  19.322 \n",
       "\n",
       "Coefficients:\n",
       "               Estimate Std. Error t value Pr(>|t|)    \n",
       "(Intercept)    -160.578     13.909 -11.545  < 2e-16 ***\n",
       "log(income)      13.915      1.963   7.089 9.82e-10 ***\n",
       "log(education)   37.051      4.076   9.091 2.31e-13 ***\n",
       "---\n",
       "Signif. codes:  0 '***' 0.001 '**' 0.01 '*' 0.05 '.' 0.1 ' ' 1\n",
       "\n",
       "Residual standard error: 7.278 on 68 degrees of freedom\n",
       "Multiple R-squared:  0.821,\tAdjusted R-squared:  0.8157 \n",
       "F-statistic: 155.9 on 2 and 68 DF,  p-value: < 2.2e-16\n"
      ]
     },
     "metadata": {},
     "output_type": "display_data"
    }
   ],
   "source": [
    "lm_model3 <- lm(prestige ~ log(income) + log(education), data = train)\n",
    "summary(lm_model3)"
   ]
  },
  {
   "cell_type": "code",
   "execution_count": 39,
   "id": "2b877a7f-eb4c-4ec6-8f3e-ca3a7618aed4",
   "metadata": {},
   "outputs": [
    {
     "data": {
      "text/html": [
       "<table class=\"dataframe\">\n",
       "<caption>A data.frame: 3 x 3</caption>\n",
       "<thead>\n",
       "\t<tr><th scope=col>Model</th><th scope=col>R2_Train</th><th scope=col>R2_Test</th></tr>\n",
       "\t<tr><th scope=col>&lt;chr&gt;</th><th scope=col>&lt;dbl&gt;</th><th scope=col>&lt;dbl&gt;</th></tr>\n",
       "</thead>\n",
       "<tbody>\n",
       "\t<tr><td>Base line</td><td>0.5736839</td><td>0.2501919</td></tr>\n",
       "\t<tr><td>+ Edu    </td><td>0.7963876</td><td>0.7810138</td></tr>\n",
       "\t<tr><td>Log      </td><td>0.8210033</td><td>0.7886101</td></tr>\n",
       "</tbody>\n",
       "</table>\n"
      ],
      "text/latex": [
       "A data.frame: 3 x 3\n",
       "\\begin{tabular}{lll}\n",
       " Model & R2\\_Train & R2\\_Test\\\\\n",
       " <chr> & <dbl> & <dbl>\\\\\n",
       "\\hline\n",
       "\t Base line & 0.5736839 & 0.2501919\\\\\n",
       "\t + Edu     & 0.7963876 & 0.7810138\\\\\n",
       "\t Log       & 0.8210033 & 0.7886101\\\\\n",
       "\\end{tabular}\n"
      ],
      "text/markdown": [
       "\n",
       "A data.frame: 3 x 3\n",
       "\n",
       "| Model &lt;chr&gt; | R2_Train &lt;dbl&gt; | R2_Test &lt;dbl&gt; |\n",
       "|---|---|---|\n",
       "| Base line | 0.5736839 | 0.2501919 |\n",
       "| + Edu     | 0.7963876 | 0.7810138 |\n",
       "| Log       | 0.8210033 | 0.7886101 |\n",
       "\n"
      ],
      "text/plain": [
       "  Model     R2_Train  R2_Test  \n",
       "1 Base line 0.5736839 0.2501919\n",
       "2 + Edu     0.7963876 0.7810138\n",
       "3 Log       0.8210033 0.7886101"
      ]
     },
     "metadata": {},
     "output_type": "display_data"
    }
   ],
   "source": [
    "r_df <- r_df |>\n",
    "    bind_rows(data.frame(\n",
    "    Model = c(\"Log\"),\n",
    "    R2_Train = rsquare(lm_model3, train),\n",
    "    R2_Test = rsquare(lm_model3, test)\n",
    "))\n",
    "r_df"
   ]
  },
  {
   "cell_type": "code",
   "execution_count": 40,
   "id": "7edbf036-2d1e-4c9f-b3d2-d98d065b179f",
   "metadata": {},
   "outputs": [
    {
     "name": "stderr",
     "output_type": "stream",
     "text": [
      "\n",
      "Attaching package: 'car'\n",
      "\n",
      "\n",
      "The following object is masked from 'package:dplyr':\n",
      "\n",
      "    recode\n",
      "\n",
      "\n"
     ]
    },
    {
     "data": {
      "text/html": [
       "<style>\n",
       ".dl-inline {width: auto; margin:0; padding: 0}\n",
       ".dl-inline>dt, .dl-inline>dd {float: none; width: auto; display: inline-block}\n",
       ".dl-inline>dt::after {content: \":\\0020\"; padding-right: .5ex}\n",
       ".dl-inline>dt:not(:first-of-type) {padding-left: .5ex}\n",
       "</style><dl class=dl-inline><dt>income</dt><dd>1.72050342610155</dd><dt>education</dt><dd>1.72050342610155</dd></dl>\n"
      ],
      "text/latex": [
       "\\begin{description*}\n",
       "\\item[income] 1.72050342610155\n",
       "\\item[education] 1.72050342610155\n",
       "\\end{description*}\n"
      ],
      "text/markdown": [
       "income\n",
       ":   1.72050342610155education\n",
       ":   1.72050342610155\n",
       "\n"
      ],
      "text/plain": [
       "   income education \n",
       " 1.720503  1.720503 "
      ]
     },
     "metadata": {},
     "output_type": "display_data"
    }
   ],
   "source": [
    "library(car)\n",
    "vif(lm_model2)"
   ]
  },
  {
   "cell_type": "code",
   "execution_count": 41,
   "id": "d54ef57b-78b2-4ae2-9f78-d6d8ee64e038",
   "metadata": {},
   "outputs": [
    {
     "data": {
      "text/plain": [
       "\n",
       "Call:\n",
       "lm(formula = prestige ~ log(income) + log(education) + education * \n",
       "    income + income^2, data = train)\n",
       "\n",
       "Residuals:\n",
       "    Min      1Q  Median      3Q     Max \n",
       "-14.723  -5.204   1.326   3.622  16.143 \n",
       "\n",
       "Coefficients:\n",
       "                   Estimate Std. Error t value Pr(>|t|)    \n",
       "(Intercept)       8.162e+01  7.195e+01   1.134  0.26080    \n",
       "log(income)       5.084e+00  6.215e+00   0.818  0.41628    \n",
       "log(education)   -1.218e+02  3.579e+01  -3.403  0.00114 ** \n",
       "education         1.846e+01  4.280e+00   4.313 5.58e-05 ***\n",
       "income            6.660e-03  2.889e-03   2.305  0.02434 *  \n",
       "education:income -4.687e-04  1.703e-04  -2.752  0.00766 ** \n",
       "---\n",
       "Signif. codes:  0 '***' 0.001 '**' 0.01 '*' 0.05 '.' 0.1 ' ' 1\n",
       "\n",
       "Residual standard error: 6.464 on 65 degrees of freedom\n",
       "Multiple R-squared:  0.865,\tAdjusted R-squared:  0.8547 \n",
       "F-statistic: 83.32 on 5 and 65 DF,  p-value: < 2.2e-16\n"
      ]
     },
     "metadata": {},
     "output_type": "display_data"
    }
   ],
   "source": [
    "lm_model5 <- lm(prestige ~ log(income) + log(education) + education*income +income^2, data = train)\n",
    "summary(lm_model5)"
   ]
  },
  {
   "cell_type": "code",
   "execution_count": 42,
   "id": "0c99989c-e07b-43c0-9bdc-aac1b4cc5d91",
   "metadata": {},
   "outputs": [
    {
     "name": "stderr",
     "output_type": "stream",
     "text": [
      "there are higher-order terms (interactions) in this model\n",
      "consider setting type = 'predictor'; see ?vif\n",
      "\n"
     ]
    },
    {
     "data": {
      "text/html": [
       "<style>\n",
       ".dl-inline {width: auto; margin:0; padding: 0}\n",
       ".dl-inline>dt, .dl-inline>dd {float: none; width: auto; display: inline-block}\n",
       ".dl-inline>dt::after {content: \":\\0020\"; padding-right: .5ex}\n",
       ".dl-inline>dt:not(:first-of-type) {padding-left: .5ex}\n",
       "</style><dl class=dl-inline><dt>log(income)</dt><dd>19.1005055257108</dd><dt>log(education)</dt><dd>146.956836309515</dd><dt>education</dt><dd>233.80157827169</dd><dt>income</dt><dd>167.940694788093</dd><dt>education:income</dt><dd>160.804979513768</dd></dl>\n"
      ],
      "text/latex": [
       "\\begin{description*}\n",
       "\\item[log(income)] 19.1005055257108\n",
       "\\item[log(education)] 146.956836309515\n",
       "\\item[education] 233.80157827169\n",
       "\\item[income] 167.940694788093\n",
       "\\item[education:income] 160.804979513768\n",
       "\\end{description*}\n"
      ],
      "text/markdown": [
       "log(income)\n",
       ":   19.1005055257108log(education)\n",
       ":   146.956836309515education\n",
       ":   233.80157827169income\n",
       ":   167.940694788093education:income\n",
       ":   160.804979513768\n",
       "\n"
      ],
      "text/plain": [
       "     log(income)   log(education)        education           income \n",
       "        19.10051        146.95684        233.80158        167.94069 \n",
       "education:income \n",
       "       160.80498 "
      ]
     },
     "metadata": {},
     "output_type": "display_data"
    }
   ],
   "source": [
    "vif(lm_model5)"
   ]
  },
  {
   "cell_type": "code",
   "execution_count": 43,
   "id": "78487ad8-0979-4dd7-bc22-12823c916588",
   "metadata": {},
   "outputs": [
    {
     "name": "stderr",
     "output_type": "stream",
     "text": [
      "there are higher-order terms (interactions) in this model\n",
      "consider setting type = 'predictor'; see ?vif\n",
      "\n"
     ]
    },
    {
     "data": {
      "text/html": [
       "<style>\n",
       ".dl-inline {width: auto; margin:0; padding: 0}\n",
       ".dl-inline>dt, .dl-inline>dd {float: none; width: auto; display: inline-block}\n",
       ".dl-inline>dt::after {content: \":\\0020\"; padding-right: .5ex}\n",
       ".dl-inline>dt:not(:first-of-type) {padding-left: .5ex}\n",
       "</style><dl class=dl-inline><dt>log(income)</dt><dd>19.1005055257108</dd><dt>log(education)</dt><dd>146.956836309515</dd><dt>education</dt><dd>233.80157827169</dd><dt>income</dt><dd>167.940694788093</dd><dt>education:income</dt><dd>160.804979513768</dd></dl>\n"
      ],
      "text/latex": [
       "\\begin{description*}\n",
       "\\item[log(income)] 19.1005055257108\n",
       "\\item[log(education)] 146.956836309515\n",
       "\\item[education] 233.80157827169\n",
       "\\item[income] 167.940694788093\n",
       "\\item[education:income] 160.804979513768\n",
       "\\end{description*}\n"
      ],
      "text/markdown": [
       "log(income)\n",
       ":   19.1005055257108log(education)\n",
       ":   146.956836309515education\n",
       ":   233.80157827169income\n",
       ":   167.940694788093education:income\n",
       ":   160.804979513768\n",
       "\n"
      ],
      "text/plain": [
       "     log(income)   log(education)        education           income \n",
       "        19.10051        146.95684        233.80158        167.94069 \n",
       "education:income \n",
       "       160.80498 "
      ]
     },
     "metadata": {},
     "output_type": "display_data"
    }
   ],
   "source": [
    "lm_model6 <- lm(prestige ~ log(income) + log(education) + education*income +income^2 + education + income, data = train)\n",
    "vif(lm_model6)"
   ]
  },
  {
   "cell_type": "code",
   "execution_count": 44,
   "id": "2551b107-0328-468e-8653-db82cc456683",
   "metadata": {},
   "outputs": [
    {
     "data": {
      "text/plain": [
       "\n",
       "Call:\n",
       "lm(formula = prestige ~ log(income) + log(education) + type, \n",
       "    data = train)\n",
       "\n",
       "Residuals:\n",
       "     Min       1Q   Median       3Q      Max \n",
       "-13.3602  -3.9438   0.4233   4.6210  16.4688 \n",
       "\n",
       "Coefficients:\n",
       "                Estimate Std. Error t value Pr(>|t|)    \n",
       "(Intercept)    -119.4515    17.7013  -6.748 4.53e-09 ***\n",
       "log(income)      12.5658     1.8424   6.820 3.38e-09 ***\n",
       "log(education)   22.9023     6.6796   3.429  0.00105 ** \n",
       "typeprof         11.3955     3.8164   2.986  0.00396 ** \n",
       "typewc            0.2472     2.7451   0.090  0.92851    \n",
       "---\n",
       "Signif. codes:  0 '***' 0.001 '**' 0.01 '*' 0.05 '.' 0.1 ' ' 1\n",
       "\n",
       "Residual standard error: 6.653 on 66 degrees of freedom\n",
       "Multiple R-squared:  0.8548,\tAdjusted R-squared:  0.846 \n",
       "F-statistic: 97.15 on 4 and 66 DF,  p-value: < 2.2e-16\n"
      ]
     },
     "metadata": {},
     "output_type": "display_data"
    }
   ],
   "source": [
    "lm_model7 <- lm(prestige ~ log(income) + log(education) + type, data = train)\n",
    "summary(lm_model7)"
   ]
  },
  {
   "cell_type": "code",
   "execution_count": 45,
   "id": "19e19e35-6fb2-465b-959c-a4eacc309e0c",
   "metadata": {},
   "outputs": [
    {
     "data": {
      "text/html": [
       "<table class=\"dataframe\">\n",
       "<caption>A data.frame: 4 x 3</caption>\n",
       "<thead>\n",
       "\t<tr><th scope=col>Model</th><th scope=col>R2_Train</th><th scope=col>R2_Test</th></tr>\n",
       "\t<tr><th scope=col>&lt;chr&gt;</th><th scope=col>&lt;dbl&gt;</th><th scope=col>&lt;dbl&gt;</th></tr>\n",
       "</thead>\n",
       "<tbody>\n",
       "\t<tr><td>Base line </td><td>0.5736839</td><td>0.2501919</td></tr>\n",
       "\t<tr><td>+ Edu     </td><td>0.7963876</td><td>0.7810138</td></tr>\n",
       "\t<tr><td>Log       </td><td>0.8210033</td><td>0.7886101</td></tr>\n",
       "\t<tr><td>Log + Type</td><td>0.8548172</td><td>0.8098413</td></tr>\n",
       "</tbody>\n",
       "</table>\n"
      ],
      "text/latex": [
       "A data.frame: 4 x 3\n",
       "\\begin{tabular}{lll}\n",
       " Model & R2\\_Train & R2\\_Test\\\\\n",
       " <chr> & <dbl> & <dbl>\\\\\n",
       "\\hline\n",
       "\t Base line  & 0.5736839 & 0.2501919\\\\\n",
       "\t + Edu      & 0.7963876 & 0.7810138\\\\\n",
       "\t Log        & 0.8210033 & 0.7886101\\\\\n",
       "\t Log + Type & 0.8548172 & 0.8098413\\\\\n",
       "\\end{tabular}\n"
      ],
      "text/markdown": [
       "\n",
       "A data.frame: 4 x 3\n",
       "\n",
       "| Model &lt;chr&gt; | R2_Train &lt;dbl&gt; | R2_Test &lt;dbl&gt; |\n",
       "|---|---|---|\n",
       "| Base line  | 0.5736839 | 0.2501919 |\n",
       "| + Edu      | 0.7963876 | 0.7810138 |\n",
       "| Log        | 0.8210033 | 0.7886101 |\n",
       "| Log + Type | 0.8548172 | 0.8098413 |\n",
       "\n"
      ],
      "text/plain": [
       "  Model      R2_Train  R2_Test  \n",
       "1 Base line  0.5736839 0.2501919\n",
       "2 + Edu      0.7963876 0.7810138\n",
       "3 Log        0.8210033 0.7886101\n",
       "4 Log + Type 0.8548172 0.8098413"
      ]
     },
     "metadata": {},
     "output_type": "display_data"
    }
   ],
   "source": [
    "r_df <- r_df |>\n",
    "    bind_rows(data.frame(\n",
    "    Model = c(\"Log + Type\"),\n",
    "    R2_Train = rsquare(lm_model7, train),\n",
    "    R2_Test = rsquare(lm_model7, test)\n",
    "))\n",
    "r_df"
   ]
  },
  {
   "cell_type": "code",
   "execution_count": 46,
   "id": "cef63f15-5c43-481e-8d98-3591df9232ed",
   "metadata": {},
   "outputs": [
    {
     "data": {
      "text/plain": [
       "\n",
       "Call:\n",
       "lm(formula = prestige ~ income + education + type + women, data = train)\n",
       "\n",
       "Residuals:\n",
       "     Min       1Q   Median       3Q      Max \n",
       "-16.1916  -4.3011  -0.2138   5.6119  15.3695 \n",
       "\n",
       "Coefficients:\n",
       "             Estimate Std. Error t value Pr(>|t|)    \n",
       "(Intercept) 6.172e+00  6.454e+00   0.956 0.342467    \n",
       "income      1.644e-03  4.161e-04   3.952 0.000194 ***\n",
       "education   2.420e+00  8.006e-01   3.023 0.003582 ** \n",
       "typeprof    1.057e+01  4.722e+00   2.238 0.028687 *  \n",
       "typewc      1.108e+00  3.271e+00   0.339 0.736010    \n",
       "women       4.178e-03  4.201e-02   0.099 0.921081    \n",
       "---\n",
       "Signif. codes:  0 '***' 0.001 '**' 0.01 '*' 0.05 '.' 0.1 ' ' 1\n",
       "\n",
       "Residual standard error: 7.525 on 65 degrees of freedom\n",
       "Multiple R-squared:  0.8171,\tAdjusted R-squared:  0.803 \n",
       "F-statistic: 58.08 on 5 and 65 DF,  p-value: < 2.2e-16\n"
      ]
     },
     "metadata": {},
     "output_type": "display_data"
    }
   ],
   "source": [
    "lm_model9 <- lm(prestige ~ income + education + type + women, data = train)\n",
    "summary(lm_model9)"
   ]
  },
  {
   "cell_type": "code",
   "execution_count": null,
   "id": "09214ebc-4fca-4991-99ef-d98492f2538a",
   "metadata": {},
   "outputs": [],
   "source": []
  },
  {
   "cell_type": "code",
   "execution_count": 47,
   "id": "aec02299-933f-4f0f-9c91-3fc02cf8acac",
   "metadata": {},
   "outputs": [
    {
     "data": {
      "text/plain": [
       "\n",
       "Call:\n",
       "lm(formula = prestige ~ log(income) + log(education) + type + \n",
       "    women, data = train)\n",
       "\n",
       "Residuals:\n",
       "     Min       1Q   Median       3Q      Max \n",
       "-13.0150  -3.8292   0.2988   4.2164  17.5130 \n",
       "\n",
       "Coefficients:\n",
       "                 Estimate Std. Error t value Pr(>|t|)    \n",
       "(Intercept)    -133.02670   20.45108  -6.505 1.29e-08 ***\n",
       "log(income)      14.06560    2.16324   6.502 1.30e-08 ***\n",
       "log(education)   22.93172    6.64438   3.451 0.000985 ***\n",
       "typeprof         10.18453    3.90797   2.606 0.011343 *  \n",
       "typewc           -1.28640    2.97273  -0.433 0.666641    \n",
       "women             0.04860    0.03724   1.305 0.196495    \n",
       "---\n",
       "Signif. codes:  0 '***' 0.001 '**' 0.01 '*' 0.05 '.' 0.1 ' ' 1\n",
       "\n",
       "Residual standard error: 6.618 on 65 degrees of freedom\n",
       "Multiple R-squared:  0.8585,\tAdjusted R-squared:  0.8476 \n",
       "F-statistic: 78.89 on 5 and 65 DF,  p-value: < 2.2e-16\n"
      ]
     },
     "metadata": {},
     "output_type": "display_data"
    }
   ],
   "source": [
    "lm_model8 <- lm(prestige ~ log(income) + log(education) + type + women, data = train)\n",
    "summary(lm_model8)"
   ]
  },
  {
   "cell_type": "code",
   "execution_count": 49,
   "id": "f37ec0ed-c433-4bfe-9b06-ee6985413ac1",
   "metadata": {},
   "outputs": [
    {
     "data": {
      "text/html": [
       "<table class=\"dataframe\">\n",
       "<caption>A data.frame: 6 x 3</caption>\n",
       "<thead>\n",
       "\t<tr><th scope=col>Model</th><th scope=col>R2_Train</th><th scope=col>R2_Test</th></tr>\n",
       "\t<tr><th scope=col>&lt;chr&gt;</th><th scope=col>&lt;dbl&gt;</th><th scope=col>&lt;dbl&gt;</th></tr>\n",
       "</thead>\n",
       "<tbody>\n",
       "\t<tr><td>Base line         </td><td>0.5736839</td><td>0.2501919</td></tr>\n",
       "\t<tr><td>+ Edu             </td><td>0.7963876</td><td>0.7810138</td></tr>\n",
       "\t<tr><td>Log               </td><td>0.8210033</td><td>0.7886101</td></tr>\n",
       "\t<tr><td>Log + Type        </td><td>0.8548172</td><td>0.8098413</td></tr>\n",
       "\t<tr><td>Log + type + women</td><td>0.8548172</td><td>0.8098413</td></tr>\n",
       "\t<tr><td>Log + type + women</td><td>0.8548172</td><td>0.8098413</td></tr>\n",
       "</tbody>\n",
       "</table>\n"
      ],
      "text/latex": [
       "A data.frame: 6 x 3\n",
       "\\begin{tabular}{lll}\n",
       " Model & R2\\_Train & R2\\_Test\\\\\n",
       " <chr> & <dbl> & <dbl>\\\\\n",
       "\\hline\n",
       "\t Base line          & 0.5736839 & 0.2501919\\\\\n",
       "\t + Edu              & 0.7963876 & 0.7810138\\\\\n",
       "\t Log                & 0.8210033 & 0.7886101\\\\\n",
       "\t Log + Type         & 0.8548172 & 0.8098413\\\\\n",
       "\t Log + type + women & 0.8548172 & 0.8098413\\\\\n",
       "\t Log + type + women & 0.8548172 & 0.8098413\\\\\n",
       "\\end{tabular}\n"
      ],
      "text/markdown": [
       "\n",
       "A data.frame: 6 x 3\n",
       "\n",
       "| Model &lt;chr&gt; | R2_Train &lt;dbl&gt; | R2_Test &lt;dbl&gt; |\n",
       "|---|---|---|\n",
       "| Base line          | 0.5736839 | 0.2501919 |\n",
       "| + Edu              | 0.7963876 | 0.7810138 |\n",
       "| Log                | 0.8210033 | 0.7886101 |\n",
       "| Log + Type         | 0.8548172 | 0.8098413 |\n",
       "| Log + type + women | 0.8548172 | 0.8098413 |\n",
       "| Log + type + women | 0.8548172 | 0.8098413 |\n",
       "\n"
      ],
      "text/plain": [
       "  Model              R2_Train  R2_Test  \n",
       "1 Base line          0.5736839 0.2501919\n",
       "2 + Edu              0.7963876 0.7810138\n",
       "3 Log                0.8210033 0.7886101\n",
       "4 Log + Type         0.8548172 0.8098413\n",
       "5 Log + type + women 0.8548172 0.8098413\n",
       "6 Log + type + women 0.8548172 0.8098413"
      ]
     },
     "metadata": {},
     "output_type": "display_data"
    }
   ],
   "source": [
    "r_df <- r_df |>\n",
    "    bind_rows(data.frame(\n",
    "    Model = c(\"Log + type + women\"),\n",
    "    R2_Train = rsquare(lm_model7, train),\n",
    "    R2_Test = rsquare(lm_model7, test)\n",
    "))\n",
    "r_df"
   ]
  },
  {
   "cell_type": "markdown",
   "id": "7ee5fc08-2adc-400e-ab10-aab29e3ed767",
   "metadata": {},
   "source": [
    "## 4. Features Selection"
   ]
  },
  {
   "cell_type": "code",
   "execution_count": 51,
   "id": "a0de6e5a-d259-4159-a26c-07347b82691b",
   "metadata": {},
   "outputs": [],
   "source": [
    "#install.packages(\"leaps\")"
   ]
  },
  {
   "cell_type": "code",
   "execution_count": 57,
   "id": "4fcad714-1493-4a04-96d2-40759a3d7edf",
   "metadata": {},
   "outputs": [],
   "source": [
    "library(leaps)"
   ]
  },
  {
   "cell_type": "code",
   "execution_count": 60,
   "id": "f4c6ded8-e9c8-4a3d-bde9-1e3df0fd2686",
   "metadata": {},
   "outputs": [],
   "source": [
    "best_subs_model <- regsubsets(prestige ~ income + education + type + women, data = train)"
   ]
  },
  {
   "cell_type": "code",
   "execution_count": 62,
   "id": "a024a15d-1079-4e83-a884-aedf2647492b",
   "metadata": {},
   "outputs": [
    {
     "data": {
      "image/png": "[encoded data removed]",
      "text/plain": [
       "plot without title"
      ]
     },
     "metadata": {
      "image/png": {
       "height": 420,
       "width": 420
      }
     },
     "output_type": "display_data"
    }
   ],
   "source": [
    "plot(best_subs_model)"
   ]
  },
  {
   "cell_type": "code",
   "execution_count": 64,
   "id": "ad89943a-a407-40c6-b1ef-0455e76e5b03",
   "metadata": {},
   "outputs": [
    {
     "data": {
      "image/png": "[encoded data removed]",
      "text/plain": [
       "plot without title"
      ]
     },
     "metadata": {
      "image/png": {
       "height": 420,
       "width": 420
      }
     },
     "output_type": "display_data"
    }
   ],
   "source": [
    "plot(best_subs_model, scale = \"adjr2\")"
   ]
  },
  {
   "cell_type": "code",
   "execution_count": 67,
   "id": "4712d613-46f0-4dd1-a7cf-86316a401166",
   "metadata": {},
   "outputs": [
    {
     "data": {
      "text/html": [
       "<style>\n",
       ".list-inline {list-style: none; margin:0; padding: 0}\n",
       ".list-inline>li {display: inline-block}\n",
       ".list-inline>li:not(:last-child)::after {content: \"\\00b7\"; padding: 0 .5ex}\n",
       "</style>\n",
       "<ol class=list-inline><li>0.718351249080615</li><li>0.790398956266791</li><li>0.808423959085245</li><li>0.805981078124886</li><li>0.803026147358296</li></ol>\n"
      ],
      "text/latex": [
       "\\begin{enumerate*}\n",
       "\\item 0.718351249080615\n",
       "\\item 0.790398956266791\n",
       "\\item 0.808423959085245\n",
       "\\item 0.805981078124886\n",
       "\\item 0.803026147358296\n",
       "\\end{enumerate*}\n"
      ],
      "text/markdown": [
       "1. 0.718351249080615\n",
       "2. 0.790398956266791\n",
       "3. 0.808423959085245\n",
       "4. 0.805981078124886\n",
       "5. 0.803026147358296\n",
       "\n",
       "\n"
      ],
      "text/plain": [
       "[1] 0.7183512 0.7903990 0.8084240 0.8059811 0.8030261"
      ]
     },
     "metadata": {},
     "output_type": "display_data"
    }
   ],
   "source": [
    "results <- summary(best_subs_model)\n",
    "results$adjr2"
   ]
  },
  {
   "cell_type": "code",
   "execution_count": 70,
   "id": "5523ab18-2b27-4fae-9b72-7c2c3059d811",
   "metadata": {},
   "outputs": [
    {
     "data": {
      "text/html": [
       "<table class=\"dataframe\">\n",
       "<caption>A data.frame: 6 x 1</caption>\n",
       "<thead>\n",
       "\t<tr><th></th><th scope=col>model_info</th></tr>\n",
       "\t<tr><th></th><th scope=col>&lt;lgl&gt;</th></tr>\n",
       "</thead>\n",
       "<tbody>\n",
       "\t<tr><th scope=row>(Intercept)</th><td> TRUE</td></tr>\n",
       "\t<tr><th scope=row>income</th><td> TRUE</td></tr>\n",
       "\t<tr><th scope=row>education</th><td> TRUE</td></tr>\n",
       "\t<tr><th scope=row>typeprof</th><td> TRUE</td></tr>\n",
       "\t<tr><th scope=row>typewc</th><td>FALSE</td></tr>\n",
       "\t<tr><th scope=row>women</th><td>FALSE</td></tr>\n",
       "</tbody>\n",
       "</table>\n"
      ],
      "text/latex": [
       "A data.frame: 6 x 1\n",
       "\\begin{tabular}{r|l}\n",
       "  & model\\_info\\\\\n",
       "  & <lgl>\\\\\n",
       "\\hline\n",
       "\t(Intercept) &  TRUE\\\\\n",
       "\tincome &  TRUE\\\\\n",
       "\teducation &  TRUE\\\\\n",
       "\ttypeprof &  TRUE\\\\\n",
       "\ttypewc & FALSE\\\\\n",
       "\twomen & FALSE\\\\\n",
       "\\end{tabular}\n"
      ],
      "text/markdown": [
       "\n",
       "A data.frame: 6 x 1\n",
       "\n",
       "| <!--/--> | model_info &lt;lgl&gt; |\n",
       "|---|---|\n",
       "| (Intercept) |  TRUE |\n",
       "| income |  TRUE |\n",
       "| education |  TRUE |\n",
       "| typeprof |  TRUE |\n",
       "| typewc | FALSE |\n",
       "| women | FALSE |\n",
       "\n"
      ],
      "text/plain": [
       "            model_info\n",
       "(Intercept)  TRUE     \n",
       "income       TRUE     \n",
       "education    TRUE     \n",
       "typeprof     TRUE     \n",
       "typewc      FALSE     \n",
       "women       FALSE     "
      ]
     },
     "metadata": {},
     "output_type": "display_data"
    }
   ],
   "source": [
    "model_index <- which.max(results$adjr2)\n",
    "model_info <- results$which[model_index,]\n",
    "as.data.frame(model_info)"
   ]
  },
  {
   "cell_type": "markdown",
   "id": "dbd06f02-b0e2-46f9-8ed0-48c178514db6",
   "metadata": {},
   "source": [
    "### Stepwise"
   ]
  },
  {
   "cell_type": "code",
   "execution_count": 71,
   "id": "3ebd3622-0189-4e12-81c9-e5c13a51d2d1",
   "metadata": {},
   "outputs": [],
   "source": [
    "start_model <- lm(prestige ~ 1, data = train)"
   ]
  },
  {
   "cell_type": "code",
   "execution_count": 73,
   "id": "71498a30-57ef-4774-810e-341dee361331",
   "metadata": {},
   "outputs": [],
   "source": [
    "final_model <- lm(prestige ~ ., data = train) "
   ]
  },
  {
   "cell_type": "code",
   "execution_count": 78,
   "id": "53be407c-d2fc-4fdb-bb89-1d334f5cba12",
   "metadata": {},
   "outputs": [
    {
     "name": "stdout",
     "output_type": "stream",
     "text": [
      "Start:  AIC=402.93\n",
      "prestige ~ 1\n",
      "\n",
      "            Df Sum of Sq     RSS    AIC\n",
      "+ education  1   14536.5  5586.7 313.95\n",
      "+ type       2   13711.6  6411.7 325.73\n",
      "+ income     1   11544.4  8578.9 344.40\n",
      "+ census     1    7949.3 12174.0 369.25\n",
      "<none>                   20123.3 402.93\n",
      "+ women      1     381.1 19742.1 403.58\n",
      "\n",
      "Step:  AIC=313.95\n",
      "prestige ~ education\n",
      "\n",
      "            Df Sum of Sq     RSS    AIC\n",
      "+ income     1    1489.4  4097.3 293.93\n",
      "+ type       2     715.1  4871.7 308.22\n",
      "+ women      1     477.1  5109.6 309.61\n",
      "+ census     1     296.3  5290.4 312.08\n",
      "<none>                    5586.7 313.95\n",
      "- education  1   14536.5 20123.3 402.93\n",
      "\n",
      "Step:  AIC=293.93\n",
      "prestige ~ education + income\n",
      "\n",
      "            Df Sum of Sq    RSS    AIC\n",
      "+ type       2     416.2 3681.2 290.33\n",
      "<none>                   4097.3 293.93\n",
      "+ census     1       1.2 4096.2 295.91\n",
      "+ women      1       0.0 4097.3 295.93\n",
      "- income     1    1489.4 5586.7 313.95\n",
      "- education  1    4481.5 8578.9 344.40\n",
      "\n",
      "Step:  AIC=290.33\n",
      "prestige ~ education + income + type\n",
      "\n",
      "            Df Sum of Sq    RSS    AIC\n",
      "<none>                   3681.2 290.33\n",
      "+ census     1     39.91 3641.3 291.56\n",
      "+ women      1      0.56 3680.6 292.32\n",
      "- type       2    416.16 4097.3 293.94\n",
      "- education  1    524.24 4205.4 297.78\n",
      "- income     1   1190.46 4871.7 308.22\n"
     ]
    }
   ],
   "source": [
    "stepwise <- step(start_model,\n",
    "    scope = list(lower = start_model, upper = final_model),\n",
    "    direction = \"both\",\n",
    "    trace = 1,\n",
    "    steps = 1000\n",
    ")"
   ]
  },
  {
   "cell_type": "code",
   "execution_count": 79,
   "id": "36a2b211-f09f-4c7a-9c23-cdba707223b8",
   "metadata": {},
   "outputs": [
    {
     "data": {
      "text/plain": [
       "\n",
       "Call:\n",
       "lm(formula = prestige ~ education + income + type, data = train)\n",
       "\n",
       "Residuals:\n",
       "     Min       1Q   Median       3Q      Max \n",
       "-16.3373  -4.1732  -0.0504   5.5306  15.2880 \n",
       "\n",
       "Coefficients:\n",
       "             Estimate Std. Error t value Pr(>|t|)    \n",
       "(Intercept) 6.301e+00  6.276e+00   1.004  0.31904    \n",
       "education   2.427e+00  7.916e-01   3.066  0.00314 ** \n",
       "income      1.623e-03  3.512e-04   4.620 1.83e-05 ***\n",
       "typeprof    1.064e+01  4.623e+00   2.302  0.02449 *  \n",
       "typewc      1.214e+00  3.069e+00   0.395  0.69376    \n",
       "---\n",
       "Signif. codes:  0 '***' 0.001 '**' 0.01 '*' 0.05 '.' 0.1 ' ' 1\n",
       "\n",
       "Residual standard error: 7.468 on 66 degrees of freedom\n",
       "Multiple R-squared:  0.8171,\tAdjusted R-squared:  0.806 \n",
       "F-statistic:  73.7 on 4 and 66 DF,  p-value: < 2.2e-16\n"
      ]
     },
     "metadata": {},
     "output_type": "display_data"
    }
   ],
   "source": [
    "summary(stepwise)"
   ]
  }
 ],
 "metadata": {
  "kernelspec": {
   "display_name": "R",
   "language": "R",
   "name": "ir"
  },
  "language_info": {
   "codemirror_mode": "r",
   "file_extension": ".r",
   "mimetype": "text/x-r-source",
   "name": "R",
   "pygments_lexer": "r",
   "version": "4.1.3"
  }
 },
 "nbformat": 4,
 "nbformat_minor": 5
}
