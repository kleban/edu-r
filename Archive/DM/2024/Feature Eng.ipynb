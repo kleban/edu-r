{
 "cells": [
  {
   "cell_type": "markdown",
   "id": "d283b8db-1c59-4888-8eb4-8f478e447382",
   "metadata": {},
   "source": [
    "# Data Scaling"
   ]
  },
  {
   "cell_type": "markdown",
   "id": "4e751037-b353-42b1-b957-c2a1eeb1a86c",
   "metadata": {},
   "source": [
    "## 1. Feature Scaling"
   ]
  },
  {
   "cell_type": "markdown",
   "id": "75780425-0538-429f-91af-37e6f439dd86",
   "metadata": {},
   "source": [
    "## 1.1. Normalization"
   ]
  },
  {
   "cell_type": "code",
   "execution_count": 5,
   "id": "162e2bc0-12a5-4f40-b382-deb7aa757585",
   "metadata": {},
   "outputs": [],
   "source": [
    "setwd(\"d:/Fldr/Repos/edu-r/DM\")"
   ]
  },
  {
   "cell_type": "markdown",
   "id": "65430446-0bf9-40b5-aa9c-9bd7584dbab1",
   "metadata": {},
   "source": [
    "<center>$X' = \\frac{X-X_{min}}{X_{max} - X_{min}}$</center>"
   ]
  },
  {
   "cell_type": "code",
   "execution_count": 94,
   "id": "07062b84-4932-440d-91c7-f290b61520b7",
   "metadata": {},
   "outputs": [
    {
     "data": {
      "text/html": [
       "<table class=\"dataframe\">\n",
       "<caption>A data.frame: 6 x 21</caption>\n",
       "<thead>\n",
       "\t<tr><th></th><th scope=col>customerID</th><th scope=col>gender</th><th scope=col>SeniorCitizen</th><th scope=col>Partner</th><th scope=col>Dependents</th><th scope=col>tenure</th><th scope=col>PhoneService</th><th scope=col>MultipleLines</th><th scope=col>InternetService</th><th scope=col>OnlineSecurity</th><th scope=col>...</th><th scope=col>DeviceProtection</th><th scope=col>TechSupport</th><th scope=col>StreamingTV</th><th scope=col>StreamingMovies</th><th scope=col>Contract</th><th scope=col>PaperlessBilling</th><th scope=col>PaymentMethod</th><th scope=col>MonthlyCharges</th><th scope=col>TotalCharges</th><th scope=col>Churn</th></tr>\n",
       "\t<tr><th></th><th scope=col>&lt;chr&gt;</th><th scope=col>&lt;chr&gt;</th><th scope=col>&lt;int&gt;</th><th scope=col>&lt;chr&gt;</th><th scope=col>&lt;chr&gt;</th><th scope=col>&lt;int&gt;</th><th scope=col>&lt;chr&gt;</th><th scope=col>&lt;chr&gt;</th><th scope=col>&lt;chr&gt;</th><th scope=col>&lt;chr&gt;</th><th scope=col>...</th><th scope=col>&lt;chr&gt;</th><th scope=col>&lt;chr&gt;</th><th scope=col>&lt;chr&gt;</th><th scope=col>&lt;chr&gt;</th><th scope=col>&lt;chr&gt;</th><th scope=col>&lt;chr&gt;</th><th scope=col>&lt;chr&gt;</th><th scope=col>&lt;dbl&gt;</th><th scope=col>&lt;dbl&gt;</th><th scope=col>&lt;chr&gt;</th></tr>\n",
       "</thead>\n",
       "<tbody>\n",
       "\t<tr><th scope=row>1</th><td>7590-VHVEG</td><td>Female</td><td>0</td><td>Yes</td><td>No</td><td> 1</td><td>No </td><td>No phone service</td><td>DSL        </td><td>No </td><td>...</td><td>No </td><td>No </td><td>No </td><td>No </td><td>Month-to-month</td><td>Yes</td><td>Electronic check         </td><td>29.85</td><td>  29.85</td><td>No </td></tr>\n",
       "\t<tr><th scope=row>2</th><td>5575-GNVDE</td><td>Male  </td><td>0</td><td>No </td><td>No</td><td>34</td><td>Yes</td><td>No              </td><td>DSL        </td><td>Yes</td><td>...</td><td>Yes</td><td>No </td><td>No </td><td>No </td><td>One year      </td><td>No </td><td>Mailed check             </td><td>56.95</td><td>1889.50</td><td>No </td></tr>\n",
       "\t<tr><th scope=row>3</th><td>3668-QPYBK</td><td>Male  </td><td>0</td><td>No </td><td>No</td><td> 2</td><td>Yes</td><td>No              </td><td>DSL        </td><td>Yes</td><td>...</td><td>No </td><td>No </td><td>No </td><td>No </td><td>Month-to-month</td><td>Yes</td><td>Mailed check             </td><td>53.85</td><td> 108.15</td><td>Yes</td></tr>\n",
       "\t<tr><th scope=row>4</th><td>7795-CFOCW</td><td>Male  </td><td>0</td><td>No </td><td>No</td><td>45</td><td>No </td><td>No phone service</td><td>DSL        </td><td>Yes</td><td>...</td><td>Yes</td><td>Yes</td><td>No </td><td>No </td><td>One year      </td><td>No </td><td>Bank transfer (automatic)</td><td>42.30</td><td>1840.75</td><td>No </td></tr>\n",
       "\t<tr><th scope=row>5</th><td>9237-HQITU</td><td>Female</td><td>0</td><td>No </td><td>No</td><td> 2</td><td>Yes</td><td>No              </td><td>Fiber optic</td><td>No </td><td>...</td><td>No </td><td>No </td><td>No </td><td>No </td><td>Month-to-month</td><td>Yes</td><td>Electronic check         </td><td>70.70</td><td> 151.65</td><td>Yes</td></tr>\n",
       "\t<tr><th scope=row>6</th><td>9305-CDSKC</td><td>Female</td><td>0</td><td>No </td><td>No</td><td> 8</td><td>Yes</td><td>Yes             </td><td>Fiber optic</td><td>No </td><td>...</td><td>Yes</td><td>No </td><td>Yes</td><td>Yes</td><td>Month-to-month</td><td>Yes</td><td>Electronic check         </td><td>99.65</td><td> 820.50</td><td>Yes</td></tr>\n",
       "</tbody>\n",
       "</table>\n"
      ],
      "text/latex": [
       "A data.frame: 6 x 21\n",
       "\\begin{tabular}{r|lllllllllllllllllllll}\n",
       "  & customerID & gender & SeniorCitizen & Partner & Dependents & tenure & PhoneService & MultipleLines & InternetService & OnlineSecurity & ... & DeviceProtection & TechSupport & StreamingTV & StreamingMovies & Contract & PaperlessBilling & PaymentMethod & MonthlyCharges & TotalCharges & Churn\\\\\n",
       "  & <chr> & <chr> & <int> & <chr> & <chr> & <int> & <chr> & <chr> & <chr> & <chr> & ... & <chr> & <chr> & <chr> & <chr> & <chr> & <chr> & <chr> & <dbl> & <dbl> & <chr>\\\\\n",
       "\\hline\n",
       "\t1 & 7590-VHVEG & Female & 0 & Yes & No &  1 & No  & No phone service & DSL         & No  & ... & No  & No  & No  & No  & Month-to-month & Yes & Electronic check          & 29.85 &   29.85 & No \\\\\n",
       "\t2 & 5575-GNVDE & Male   & 0 & No  & No & 34 & Yes & No               & DSL         & Yes & ... & Yes & No  & No  & No  & One year       & No  & Mailed check              & 56.95 & 1889.50 & No \\\\\n",
       "\t3 & 3668-QPYBK & Male   & 0 & No  & No &  2 & Yes & No               & DSL         & Yes & ... & No  & No  & No  & No  & Month-to-month & Yes & Mailed check              & 53.85 &  108.15 & Yes\\\\\n",
       "\t4 & 7795-CFOCW & Male   & 0 & No  & No & 45 & No  & No phone service & DSL         & Yes & ... & Yes & Yes & No  & No  & One year       & No  & Bank transfer (automatic) & 42.30 & 1840.75 & No \\\\\n",
       "\t5 & 9237-HQITU & Female & 0 & No  & No &  2 & Yes & No               & Fiber optic & No  & ... & No  & No  & No  & No  & Month-to-month & Yes & Electronic check          & 70.70 &  151.65 & Yes\\\\\n",
       "\t6 & 9305-CDSKC & Female & 0 & No  & No &  8 & Yes & Yes              & Fiber optic & No  & ... & Yes & No  & Yes & Yes & Month-to-month & Yes & Electronic check          & 99.65 &  820.50 & Yes\\\\\n",
       "\\end{tabular}\n"
      ],
      "text/markdown": [
       "\n",
       "A data.frame: 6 x 21\n",
       "\n",
       "| <!--/--> | customerID &lt;chr&gt; | gender &lt;chr&gt; | SeniorCitizen &lt;int&gt; | Partner &lt;chr&gt; | Dependents &lt;chr&gt; | tenure &lt;int&gt; | PhoneService &lt;chr&gt; | MultipleLines &lt;chr&gt; | InternetService &lt;chr&gt; | OnlineSecurity &lt;chr&gt; | ... ... | DeviceProtection &lt;chr&gt; | TechSupport &lt;chr&gt; | StreamingTV &lt;chr&gt; | StreamingMovies &lt;chr&gt; | Contract &lt;chr&gt; | PaperlessBilling &lt;chr&gt; | PaymentMethod &lt;chr&gt; | MonthlyCharges &lt;dbl&gt; | TotalCharges &lt;dbl&gt; | Churn &lt;chr&gt; |\n",
       "|---|---|---|---|---|---|---|---|---|---|---|---|---|---|---|---|---|---|---|---|---|---|\n",
       "| 1 | 7590-VHVEG | Female | 0 | Yes | No |  1 | No  | No phone service | DSL         | No  | ... | No  | No  | No  | No  | Month-to-month | Yes | Electronic check          | 29.85 |   29.85 | No  |\n",
       "| 2 | 5575-GNVDE | Male   | 0 | No  | No | 34 | Yes | No               | DSL         | Yes | ... | Yes | No  | No  | No  | One year       | No  | Mailed check              | 56.95 | 1889.50 | No  |\n",
       "| 3 | 3668-QPYBK | Male   | 0 | No  | No |  2 | Yes | No               | DSL         | Yes | ... | No  | No  | No  | No  | Month-to-month | Yes | Mailed check              | 53.85 |  108.15 | Yes |\n",
       "| 4 | 7795-CFOCW | Male   | 0 | No  | No | 45 | No  | No phone service | DSL         | Yes | ... | Yes | Yes | No  | No  | One year       | No  | Bank transfer (automatic) | 42.30 | 1840.75 | No  |\n",
       "| 5 | 9237-HQITU | Female | 0 | No  | No |  2 | Yes | No               | Fiber optic | No  | ... | No  | No  | No  | No  | Month-to-month | Yes | Electronic check          | 70.70 |  151.65 | Yes |\n",
       "| 6 | 9305-CDSKC | Female | 0 | No  | No |  8 | Yes | Yes              | Fiber optic | No  | ... | Yes | No  | Yes | Yes | Month-to-month | Yes | Electronic check          | 99.65 |  820.50 | Yes |\n",
       "\n"
      ],
      "text/plain": [
       "  customerID gender SeniorCitizen Partner Dependents tenure PhoneService\n",
       "1 7590-VHVEG Female 0             Yes     No          1     No          \n",
       "2 5575-GNVDE Male   0             No      No         34     Yes         \n",
       "3 3668-QPYBK Male   0             No      No          2     Yes         \n",
       "4 7795-CFOCW Male   0             No      No         45     No          \n",
       "5 9237-HQITU Female 0             No      No          2     Yes         \n",
       "6 9305-CDSKC Female 0             No      No          8     Yes         \n",
       "  MultipleLines    InternetService OnlineSecurity ... DeviceProtection\n",
       "1 No phone service DSL             No             ... No              \n",
       "2 No               DSL             Yes            ... Yes             \n",
       "3 No               DSL             Yes            ... No              \n",
       "4 No phone service DSL             Yes            ... Yes             \n",
       "5 No               Fiber optic     No             ... No              \n",
       "6 Yes              Fiber optic     No             ... Yes             \n",
       "  TechSupport StreamingTV StreamingMovies Contract       PaperlessBilling\n",
       "1 No          No          No              Month-to-month Yes             \n",
       "2 No          No          No              One year       No              \n",
       "3 No          No          No              Month-to-month Yes             \n",
       "4 Yes         No          No              One year       No              \n",
       "5 No          No          No              Month-to-month Yes             \n",
       "6 No          Yes         Yes             Month-to-month Yes             \n",
       "  PaymentMethod             MonthlyCharges TotalCharges Churn\n",
       "1 Electronic check          29.85            29.85      No   \n",
       "2 Mailed check              56.95          1889.50      No   \n",
       "3 Mailed check              53.85           108.15      Yes  \n",
       "4 Bank transfer (automatic) 42.30          1840.75      No   \n",
       "5 Electronic check          70.70           151.65      Yes  \n",
       "6 Electronic check          99.65           820.50      Yes  "
      ]
     },
     "metadata": {},
     "output_type": "display_data"
    }
   ],
   "source": [
    "data <- read.csv(\"data/WA_Fn-UseC_-Telco-Customer-Churn.csv\")\n",
    "head(data)"
   ]
  },
  {
   "cell_type": "code",
   "execution_count": 9,
   "id": "e9ab73cc-f953-417e-b27f-41b6b462339a",
   "metadata": {},
   "outputs": [
    {
     "name": "stdout",
     "output_type": "stream",
     "text": [
      "'data.frame':\t7043 obs. of  21 variables:\n",
      " $ customerID      : chr  \"7590-VHVEG\" \"5575-GNVDE\" \"3668-QPYBK\" \"7795-CFOCW\" ...\n",
      " $ gender          : chr  \"Female\" \"Male\" \"Male\" \"Male\" ...\n",
      " $ SeniorCitizen   : int  0 0 0 0 0 0 0 0 0 0 ...\n",
      " $ Partner         : chr  \"Yes\" \"No\" \"No\" \"No\" ...\n",
      " $ Dependents      : chr  \"No\" \"No\" \"No\" \"No\" ...\n",
      " $ tenure          : int  1 34 2 45 2 8 22 10 28 62 ...\n",
      " $ PhoneService    : chr  \"No\" \"Yes\" \"Yes\" \"No\" ...\n",
      " $ MultipleLines   : chr  \"No phone service\" \"No\" \"No\" \"No phone service\" ...\n",
      " $ InternetService : chr  \"DSL\" \"DSL\" \"DSL\" \"DSL\" ...\n",
      " $ OnlineSecurity  : chr  \"No\" \"Yes\" \"Yes\" \"Yes\" ...\n",
      " $ OnlineBackup    : chr  \"Yes\" \"No\" \"Yes\" \"No\" ...\n",
      " $ DeviceProtection: chr  \"No\" \"Yes\" \"No\" \"Yes\" ...\n",
      " $ TechSupport     : chr  \"No\" \"No\" \"No\" \"Yes\" ...\n",
      " $ StreamingTV     : chr  \"No\" \"No\" \"No\" \"No\" ...\n",
      " $ StreamingMovies : chr  \"No\" \"No\" \"No\" \"No\" ...\n",
      " $ Contract        : chr  \"Month-to-month\" \"One year\" \"Month-to-month\" \"One year\" ...\n",
      " $ PaperlessBilling: chr  \"Yes\" \"No\" \"Yes\" \"No\" ...\n",
      " $ PaymentMethod   : chr  \"Electronic check\" \"Mailed check\" \"Mailed check\" \"Bank transfer (automatic)\" ...\n",
      " $ MonthlyCharges  : num  29.9 57 53.9 42.3 70.7 ...\n",
      " $ TotalCharges    : num  29.9 1889.5 108.2 1840.8 151.7 ...\n",
      " $ Churn           : chr  \"No\" \"No\" \"Yes\" \"No\" ...\n"
     ]
    }
   ],
   "source": [
    "str(data)"
   ]
  },
  {
   "cell_type": "code",
   "execution_count": 11,
   "id": "bfc8a733-9e8d-427f-83af-24f75e83f92f",
   "metadata": {},
   "outputs": [
    {
     "data": {
      "text/plain": [
       "   Min. 1st Qu.  Median    Mean 3rd Qu.    Max.    NA's \n",
       "   18.8   401.4  1397.5  2283.3  3794.7  8684.8      11 "
      ]
     },
     "metadata": {},
     "output_type": "display_data"
    }
   ],
   "source": [
    "summary(data$TotalCharges)"
   ]
  },
  {
   "cell_type": "code",
   "execution_count": 13,
   "id": "a2235e6b-2a13-4e5f-a1ff-8d8ac63a4727",
   "metadata": {},
   "outputs": [],
   "source": [
    "library(ggplot2)"
   ]
  },
  {
   "cell_type": "code",
   "execution_count": 22,
   "id": "15246559-ebdc-4af7-a887-2c01b4962c60",
   "metadata": {},
   "outputs": [
    {
     "name": "stderr",
     "output_type": "stream",
     "text": [
      "Warning message:\n",
      "\"\u001b[1m\u001b[22mRemoved 11 rows containing non-finite values (`stat_bin()`).\"\n"
     ]
    },
    {
     "data": {
      "image/png": "[encoded data removed]",
      "text/plain": [
       "plot without title"
      ]
     },
     "metadata": {
      "image/png": {
       "height": 420,
       "width": 420
      }
     },
     "output_type": "display_data"
    }
   ],
   "source": [
    "ggplot(data = data, aes(x = TotalCharges)) +\n",
    "    geom_histogram(bins = 50)"
   ]
  },
  {
   "cell_type": "code",
   "execution_count": 25,
   "id": "b0680f30-2388-45bd-abe0-a634afe1b5ea",
   "metadata": {},
   "outputs": [
    {
     "data": {
      "text/plain": [
       "   Min. 1st Qu.  Median    Mean 3rd Qu.    Max. \n",
       "    0.0   398.6  1394.5  2279.7  3786.6  8684.8 "
      ]
     },
     "metadata": {},
     "output_type": "display_data"
    }
   ],
   "source": [
    "library(dplyr)\n",
    "data <- data |>\n",
    "    mutate(TotalCharges = ifelse(is.na(TotalCharges), 0, TotalCharges))\n",
    "summary(data$TotalCharges)"
   ]
  },
  {
   "cell_type": "code",
   "execution_count": 27,
   "id": "07262ede-38a7-4ddc-b81b-515538bf9b93",
   "metadata": {},
   "outputs": [
    {
     "data": {
      "image/png": "[encoded data removed]",
      "text/plain": [
       "plot without title"
      ]
     },
     "metadata": {
      "image/png": {
       "height": 420,
       "width": 420
      }
     },
     "output_type": "display_data"
    }
   ],
   "source": [
    "ggplot(data = data, aes(x = TotalCharges)) +\n",
    "    geom_histogram(bins = 50)"
   ]
  },
  {
   "cell_type": "code",
   "execution_count": 33,
   "id": "105d151d-a40d-4506-b01f-264d65997d88",
   "metadata": {},
   "outputs": [],
   "source": [
    "normalizeFunc <- function(x) {\n",
    "    return ((x - min(x))/(max(x) - min(x)))\n",
    "}"
   ]
  },
  {
   "cell_type": "code",
   "execution_count": 35,
   "id": "ab118e28-369a-4c1f-b753-bacd1f5014a3",
   "metadata": {},
   "outputs": [
    {
     "data": {
      "text/html": [
       "<table class=\"dataframe\">\n",
       "<caption>A data.frame: 6 x 2</caption>\n",
       "<thead>\n",
       "\t<tr><th></th><th scope=col>TotalCharges</th><th scope=col>TotalNorm</th></tr>\n",
       "\t<tr><th></th><th scope=col>&lt;dbl&gt;</th><th scope=col>&lt;dbl&gt;</th></tr>\n",
       "</thead>\n",
       "<tbody>\n",
       "\t<tr><th scope=row>1</th><td>  29.85</td><td>0.003437039</td></tr>\n",
       "\t<tr><th scope=row>2</th><td>1889.50</td><td>0.217564020</td></tr>\n",
       "\t<tr><th scope=row>3</th><td> 108.15</td><td>0.012452791</td></tr>\n",
       "\t<tr><th scope=row>4</th><td>1840.75</td><td>0.211950765</td></tr>\n",
       "\t<tr><th scope=row>5</th><td> 151.65</td><td>0.017461542</td></tr>\n",
       "\t<tr><th scope=row>6</th><td> 820.50</td><td>0.094475405</td></tr>\n",
       "</tbody>\n",
       "</table>\n"
      ],
      "text/latex": [
       "A data.frame: 6 x 2\n",
       "\\begin{tabular}{r|ll}\n",
       "  & TotalCharges & TotalNorm\\\\\n",
       "  & <dbl> & <dbl>\\\\\n",
       "\\hline\n",
       "\t1 &   29.85 & 0.003437039\\\\\n",
       "\t2 & 1889.50 & 0.217564020\\\\\n",
       "\t3 &  108.15 & 0.012452791\\\\\n",
       "\t4 & 1840.75 & 0.211950765\\\\\n",
       "\t5 &  151.65 & 0.017461542\\\\\n",
       "\t6 &  820.50 & 0.094475405\\\\\n",
       "\\end{tabular}\n"
      ],
      "text/markdown": [
       "\n",
       "A data.frame: 6 x 2\n",
       "\n",
       "| <!--/--> | TotalCharges &lt;dbl&gt; | TotalNorm &lt;dbl&gt; |\n",
       "|---|---|---|\n",
       "| 1 |   29.85 | 0.003437039 |\n",
       "| 2 | 1889.50 | 0.217564020 |\n",
       "| 3 |  108.15 | 0.012452791 |\n",
       "| 4 | 1840.75 | 0.211950765 |\n",
       "| 5 |  151.65 | 0.017461542 |\n",
       "| 6 |  820.50 | 0.094475405 |\n",
       "\n"
      ],
      "text/plain": [
       "  TotalCharges TotalNorm  \n",
       "1   29.85      0.003437039\n",
       "2 1889.50      0.217564020\n",
       "3  108.15      0.012452791\n",
       "4 1840.75      0.211950765\n",
       "5  151.65      0.017461542\n",
       "6  820.50      0.094475405"
      ]
     },
     "metadata": {},
     "output_type": "display_data"
    }
   ],
   "source": [
    "data <- data |>\n",
    "    mutate(TotalNorm = normalizeFunc(TotalCharges))\n",
    "data |>\n",
    " select(TotalCharges, TotalNorm) |>\n",
    " head()"
   ]
  },
  {
   "cell_type": "code",
   "execution_count": 36,
   "id": "ae6bfd3c-3ba6-4936-bd42-92ad1dfa908e",
   "metadata": {},
   "outputs": [
    {
     "data": {
      "image/png": "[encoded data removed]",
      "text/plain": [
       "plot without title"
      ]
     },
     "metadata": {
      "image/png": {
       "height": 420,
       "width": 420
      }
     },
     "output_type": "display_data"
    }
   ],
   "source": [
    "plot(data$TotalNorm)"
   ]
  },
  {
   "cell_type": "code",
   "execution_count": 38,
   "id": "284260a8-6500-43a5-a34c-62809c8cca0c",
   "metadata": {},
   "outputs": [
    {
     "data": {
      "image/png": "[encoded data removed]",
      "text/plain": [
       "plot without title"
      ]
     },
     "metadata": {
      "image/png": {
       "height": 420,
       "width": 420
      }
     },
     "output_type": "display_data"
    }
   ],
   "source": [
    "ggplot(data = data, aes(x = TotalNorm)) +\n",
    "    geom_histogram(bins = 50)"
   ]
  },
  {
   "cell_type": "markdown",
   "id": "ad635e08-0059-43c0-813d-995cabadc763",
   "metadata": {},
   "source": [
    "## 1.2. Standartization"
   ]
  },
  {
   "cell_type": "markdown",
   "id": "fd8fb5b0-4bdf-4a46-af83-4ce16dad1ab9",
   "metadata": {},
   "source": [
    "<center>$X' = \\frac{X-\\mu}{\\sigma}$</center>"
   ]
  },
  {
   "cell_type": "code",
   "execution_count": 41,
   "id": "ba75822c-e567-4b0c-9607-c94a529f5a9c",
   "metadata": {},
   "outputs": [],
   "source": [
    "standartize <- function(data) {    \n",
    "    sdev = sd(data, na.rm = TRUE)  \n",
    "    data <- (data - mean(data, na.rm = T)) / sdev\n",
    "    return (data)    \n",
    "}"
   ]
  },
  {
   "cell_type": "code",
   "execution_count": 43,
   "id": "a91a6bbc-a71d-489e-af5b-074833e04691",
   "metadata": {},
   "outputs": [
    {
     "data": {
      "text/html": [
       "<table class=\"dataframe\">\n",
       "<caption>A data.frame: 6 x 3</caption>\n",
       "<thead>\n",
       "\t<tr><th></th><th scope=col>TotalCharges</th><th scope=col>TotalNorm</th><th scope=col>TotalStand</th></tr>\n",
       "\t<tr><th></th><th scope=col>&lt;dbl&gt;</th><th scope=col>&lt;dbl&gt;</th><th scope=col>&lt;dbl&gt;</th></tr>\n",
       "</thead>\n",
       "<tbody>\n",
       "\t<tr><th scope=row>1</th><td>  29.85</td><td>0.003437039</td><td>-0.9925401</td></tr>\n",
       "\t<tr><th scope=row>2</th><td>1889.50</td><td>0.217564020</td><td>-0.1721525</td></tr>\n",
       "\t<tr><th scope=row>3</th><td> 108.15</td><td>0.012452791</td><td>-0.9579979</td></tr>\n",
       "\t<tr><th scope=row>4</th><td>1840.75</td><td>0.211950765</td><td>-0.1936586</td></tr>\n",
       "\t<tr><th scope=row>5</th><td> 151.65</td><td>0.017461542</td><td>-0.9388078</td></tr>\n",
       "\t<tr><th scope=row>6</th><td> 820.50</td><td>0.094475405</td><td>-0.6437435</td></tr>\n",
       "</tbody>\n",
       "</table>\n"
      ],
      "text/latex": [
       "A data.frame: 6 x 3\n",
       "\\begin{tabular}{r|lll}\n",
       "  & TotalCharges & TotalNorm & TotalStand\\\\\n",
       "  & <dbl> & <dbl> & <dbl>\\\\\n",
       "\\hline\n",
       "\t1 &   29.85 & 0.003437039 & -0.9925401\\\\\n",
       "\t2 & 1889.50 & 0.217564020 & -0.1721525\\\\\n",
       "\t3 &  108.15 & 0.012452791 & -0.9579979\\\\\n",
       "\t4 & 1840.75 & 0.211950765 & -0.1936586\\\\\n",
       "\t5 &  151.65 & 0.017461542 & -0.9388078\\\\\n",
       "\t6 &  820.50 & 0.094475405 & -0.6437435\\\\\n",
       "\\end{tabular}\n"
      ],
      "text/markdown": [
       "\n",
       "A data.frame: 6 x 3\n",
       "\n",
       "| <!--/--> | TotalCharges &lt;dbl&gt; | TotalNorm &lt;dbl&gt; | TotalStand &lt;dbl&gt; |\n",
       "|---|---|---|---|\n",
       "| 1 |   29.85 | 0.003437039 | -0.9925401 |\n",
       "| 2 | 1889.50 | 0.217564020 | -0.1721525 |\n",
       "| 3 |  108.15 | 0.012452791 | -0.9579979 |\n",
       "| 4 | 1840.75 | 0.211950765 | -0.1936586 |\n",
       "| 5 |  151.65 | 0.017461542 | -0.9388078 |\n",
       "| 6 |  820.50 | 0.094475405 | -0.6437435 |\n",
       "\n"
      ],
      "text/plain": [
       "  TotalCharges TotalNorm   TotalStand\n",
       "1   29.85      0.003437039 -0.9925401\n",
       "2 1889.50      0.217564020 -0.1721525\n",
       "3  108.15      0.012452791 -0.9579979\n",
       "4 1840.75      0.211950765 -0.1936586\n",
       "5  151.65      0.017461542 -0.9388078\n",
       "6  820.50      0.094475405 -0.6437435"
      ]
     },
     "metadata": {},
     "output_type": "display_data"
    }
   ],
   "source": [
    "data <- data |>\n",
    "    mutate(TotalStand = standartize(TotalCharges))\n",
    "data |>\n",
    " select(TotalCharges, TotalNorm, TotalStand) |>\n",
    " head()"
   ]
  },
  {
   "cell_type": "code",
   "execution_count": 45,
   "id": "06f8db71-b126-4df0-a799-cd0b545e53ee",
   "metadata": {},
   "outputs": [],
   "source": [
    "#install.packages(\"gridExtra\")"
   ]
  },
  {
   "cell_type": "code",
   "execution_count": 47,
   "id": "f4ad70bb-b067-4483-9009-93bbbd406471",
   "metadata": {},
   "outputs": [],
   "source": [
    "library(gridExtra)"
   ]
  },
  {
   "cell_type": "code",
   "execution_count": 51,
   "id": "c739e13b-daf4-4c3c-950e-9b330be18760",
   "metadata": {},
   "outputs": [
    {
     "data": {
      "image/png": "[encoded data removed]",
      "text/plain": [
       "plot without title"
      ]
     },
     "metadata": {
      "image/png": {
       "height": 420,
       "width": 420
      }
     },
     "output_type": "display_data"
    }
   ],
   "source": [
    "p1 <- ggplot(data = data, aes(x = TotalCharges)) +\n",
    "        geom_histogram(bins = 15)\n",
    "p2 <- ggplot(data = data, aes(x = TotalNorm)) +\n",
    "        geom_histogram(bins = 15)\n",
    "p3 <- ggplot(data = data, aes(x = TotalStand)) +\n",
    "        geom_histogram(bins = 15)\n",
    "\n",
    "grid.arrange(p1, p2, p3, ncol = 3)"
   ]
  },
  {
   "cell_type": "markdown",
   "id": "7f798e58-4c2a-428b-959e-8512025a9c1f",
   "metadata": {},
   "source": [
    "1.3. `Scale` function"
   ]
  },
  {
   "cell_type": "code",
   "execution_count": 60,
   "id": "cd5bcebc-25cb-4f6e-ba22-b66677327bab",
   "metadata": {},
   "outputs": [],
   "source": [
    "scaled_charges <- scale(data$TotalCharges,\n",
    "                        center = mean(data$TotalCharges),\n",
    "                        scale = sd(data$TotalCharges))"
   ]
  },
  {
   "cell_type": "code",
   "execution_count": 62,
   "id": "8ae081d6-6d9c-4fae-9a50-f186b28b3b6b",
   "metadata": {},
   "outputs": [
    {
     "data": {
      "text/html": [
       "<table class=\"dataframe\">\n",
       "<caption>A matrix: 7043 x 1 of type dbl</caption>\n",
       "<tbody>\n",
       "\t<tr><td>-0.9925401</td></tr>\n",
       "\t<tr><td>-0.1721525</td></tr>\n",
       "\t<tr><td>-0.9579979</td></tr>\n",
       "\t<tr><td>-0.1936586</td></tr>\n",
       "\t<tr><td>-0.9388078</td></tr>\n",
       "\t<tr><td>-0.6437435</td></tr>\n",
       "\t<tr><td>-0.1457275</td></tr>\n",
       "\t<tr><td>-0.8725248</td></tr>\n",
       "\t<tr><td> 0.3380614</td></tr>\n",
       "\t<tr><td> 0.5330063</td></tr>\n",
       "\t<tr><td>-0.7465539</td></tr>\n",
       "\t<tr><td>-0.8615401</td></tr>\n",
       "\t<tr><td> 1.5005179</td></tr>\n",
       "\t<tr><td> 1.2160634</td></tr>\n",
       "\t<tr><td> 0.1792468</td></tr>\n",
       "\t<tr><td> 2.4772496</td></tr>\n",
       "\t<tr><td>-0.5544324</td></tr>\n",
       "\t<tr><td> 2.2509829</td></tr>\n",
       "\t<tr><td>-0.7726260</td></tr>\n",
       "\t<tr><td>-0.1838871</td></tr>\n",
       "\t<tr><td>-0.9882168</td></tr>\n",
       "\t<tr><td>-0.9164855</td></tr>\n",
       "\t<tr><td>-0.9968192</td></tr>\n",
       "\t<tr><td> 0.5405720</td></tr>\n",
       "\t<tr><td> 0.3046442</td></tr>\n",
       "\t<tr><td>-0.3304818</td></tr>\n",
       "\t<tr><td> 1.0893867</td></tr>\n",
       "\t<tr><td>-0.9923857</td></tr>\n",
       "\t<tr><td> 1.8041846</td></tr>\n",
       "\t<tr><td>-0.5234856</td></tr>\n",
       "\t<tr><td>...</td></tr>\n",
       "\t<tr><td> 0.6514334</td></tr>\n",
       "\t<tr><td> 0.6026200</td></tr>\n",
       "\t<tr><td> 0.2623598</td></tr>\n",
       "\t<tr><td>-0.9836729</td></tr>\n",
       "\t<tr><td>-0.5554029</td></tr>\n",
       "\t<tr><td>-0.9745411</td></tr>\n",
       "\t<tr><td>-0.6413172</td></tr>\n",
       "\t<tr><td>-0.9002732</td></tr>\n",
       "\t<tr><td>-0.6846383</td></tr>\n",
       "\t<tr><td> 2.3224716</td></tr>\n",
       "\t<tr><td> 1.8526892</td></tr>\n",
       "\t<tr><td> 0.5940617</td></tr>\n",
       "\t<tr><td>-0.2648384</td></tr>\n",
       "\t<tr><td>-0.8277699</td></tr>\n",
       "\t<tr><td>-0.5947537</td></tr>\n",
       "\t<tr><td> 0.9028237</td></tr>\n",
       "\t<tr><td>-0.8896635</td></tr>\n",
       "\t<tr><td>-0.9883932</td></tr>\n",
       "\t<tr><td> 0.4571944</td></tr>\n",
       "\t<tr><td>-0.9722912</td></tr>\n",
       "\t<tr><td> 0.1524248</td></tr>\n",
       "\t<tr><td> 2.0321718</td></tr>\n",
       "\t<tr><td>-0.3461427</td></tr>\n",
       "\t<tr><td>-0.6778004</td></tr>\n",
       "\t<tr><td>-0.3795379</td></tr>\n",
       "\t<tr><td>-0.1275962</td></tr>\n",
       "\t<tr><td> 2.2424467</td></tr>\n",
       "\t<tr><td>-0.8528715</td></tr>\n",
       "\t<tr><td>-0.8704513</td></tr>\n",
       "\t<tr><td> 2.0137537</td></tr>\n",
       "</tbody>\n",
       "</table>\n"
      ],
      "text/latex": [
       "A matrix: 7043 x 1 of type dbl\n",
       "\\begin{tabular}{l}\n",
       "\t -0.9925401\\\\\n",
       "\t -0.1721525\\\\\n",
       "\t -0.9579979\\\\\n",
       "\t -0.1936586\\\\\n",
       "\t -0.9388078\\\\\n",
       "\t -0.6437435\\\\\n",
       "\t -0.1457275\\\\\n",
       "\t -0.8725248\\\\\n",
       "\t  0.3380614\\\\\n",
       "\t  0.5330063\\\\\n",
       "\t -0.7465539\\\\\n",
       "\t -0.8615401\\\\\n",
       "\t  1.5005179\\\\\n",
       "\t  1.2160634\\\\\n",
       "\t  0.1792468\\\\\n",
       "\t  2.4772496\\\\\n",
       "\t -0.5544324\\\\\n",
       "\t  2.2509829\\\\\n",
       "\t -0.7726260\\\\\n",
       "\t -0.1838871\\\\\n",
       "\t -0.9882168\\\\\n",
       "\t -0.9164855\\\\\n",
       "\t -0.9968192\\\\\n",
       "\t  0.5405720\\\\\n",
       "\t  0.3046442\\\\\n",
       "\t -0.3304818\\\\\n",
       "\t  1.0893867\\\\\n",
       "\t -0.9923857\\\\\n",
       "\t  1.8041846\\\\\n",
       "\t -0.5234856\\\\\n",
       "\t ...\\\\\n",
       "\t  0.6514334\\\\\n",
       "\t  0.6026200\\\\\n",
       "\t  0.2623598\\\\\n",
       "\t -0.9836729\\\\\n",
       "\t -0.5554029\\\\\n",
       "\t -0.9745411\\\\\n",
       "\t -0.6413172\\\\\n",
       "\t -0.9002732\\\\\n",
       "\t -0.6846383\\\\\n",
       "\t  2.3224716\\\\\n",
       "\t  1.8526892\\\\\n",
       "\t  0.5940617\\\\\n",
       "\t -0.2648384\\\\\n",
       "\t -0.8277699\\\\\n",
       "\t -0.5947537\\\\\n",
       "\t  0.9028237\\\\\n",
       "\t -0.8896635\\\\\n",
       "\t -0.9883932\\\\\n",
       "\t  0.4571944\\\\\n",
       "\t -0.9722912\\\\\n",
       "\t  0.1524248\\\\\n",
       "\t  2.0321718\\\\\n",
       "\t -0.3461427\\\\\n",
       "\t -0.6778004\\\\\n",
       "\t -0.3795379\\\\\n",
       "\t -0.1275962\\\\\n",
       "\t  2.2424467\\\\\n",
       "\t -0.8528715\\\\\n",
       "\t -0.8704513\\\\\n",
       "\t  2.0137537\\\\\n",
       "\\end{tabular}\n"
      ],
      "text/markdown": [
       "\n",
       "A matrix: 7043 x 1 of type dbl\n",
       "\n",
       "| -0.9925401 |\n",
       "| -0.1721525 |\n",
       "| -0.9579979 |\n",
       "| -0.1936586 |\n",
       "| -0.9388078 |\n",
       "| -0.6437435 |\n",
       "| -0.1457275 |\n",
       "| -0.8725248 |\n",
       "|  0.3380614 |\n",
       "|  0.5330063 |\n",
       "| -0.7465539 |\n",
       "| -0.8615401 |\n",
       "|  1.5005179 |\n",
       "|  1.2160634 |\n",
       "|  0.1792468 |\n",
       "|  2.4772496 |\n",
       "| -0.5544324 |\n",
       "|  2.2509829 |\n",
       "| -0.7726260 |\n",
       "| -0.1838871 |\n",
       "| -0.9882168 |\n",
       "| -0.9164855 |\n",
       "| -0.9968192 |\n",
       "|  0.5405720 |\n",
       "|  0.3046442 |\n",
       "| -0.3304818 |\n",
       "|  1.0893867 |\n",
       "| -0.9923857 |\n",
       "|  1.8041846 |\n",
       "| -0.5234856 |\n",
       "| ... |\n",
       "|  0.6514334 |\n",
       "|  0.6026200 |\n",
       "|  0.2623598 |\n",
       "| -0.9836729 |\n",
       "| -0.5554029 |\n",
       "| -0.9745411 |\n",
       "| -0.6413172 |\n",
       "| -0.9002732 |\n",
       "| -0.6846383 |\n",
       "|  2.3224716 |\n",
       "|  1.8526892 |\n",
       "|  0.5940617 |\n",
       "| -0.2648384 |\n",
       "| -0.8277699 |\n",
       "| -0.5947537 |\n",
       "|  0.9028237 |\n",
       "| -0.8896635 |\n",
       "| -0.9883932 |\n",
       "|  0.4571944 |\n",
       "| -0.9722912 |\n",
       "|  0.1524248 |\n",
       "|  2.0321718 |\n",
       "| -0.3461427 |\n",
       "| -0.6778004 |\n",
       "| -0.3795379 |\n",
       "| -0.1275962 |\n",
       "|  2.2424467 |\n",
       "| -0.8528715 |\n",
       "| -0.8704513 |\n",
       "|  2.0137537 |\n",
       "\n"
      ],
      "text/plain": [
       "      [,1]      \n",
       " [1,] -0.9925401\n",
       " [2,] -0.1721525\n",
       " [3,] -0.9579979\n",
       " [4,] -0.1936586\n",
       " [5,] -0.9388078\n",
       " [6,] -0.6437435\n",
       " [7,] -0.1457275\n",
       " [8,] -0.8725248\n",
       " [9,]  0.3380614\n",
       "[10,]  0.5330063\n",
       "[11,] -0.7465539\n",
       "[12,] -0.8615401\n",
       "[13,]  1.5005179\n",
       "[14,]  1.2160634\n",
       "[15,]  0.1792468\n",
       "[16,]  2.4772496\n",
       "[17,] -0.5544324\n",
       "[18,]  2.2509829\n",
       "[19,] -0.7726260\n",
       "[20,] -0.1838871\n",
       "[21,] -0.9882168\n",
       "[22,] -0.9164855\n",
       "[23,] -0.9968192\n",
       "[24,]  0.5405720\n",
       "[25,]  0.3046442\n",
       "[26,] -0.3304818\n",
       "[27,]  1.0893867\n",
       "[28,] -0.9923857\n",
       "[29,]  1.8041846\n",
       "[30,] -0.5234856\n",
       "[31,] ...       \n",
       "[32,]  0.6514334\n",
       "[33,]  0.6026200\n",
       "[34,]  0.2623598\n",
       "[35,] -0.9836729\n",
       "[36,] -0.5554029\n",
       "[37,] -0.9745411\n",
       "[38,] -0.6413172\n",
       "[39,] -0.9002732\n",
       "[40,] -0.6846383\n",
       "[41,]  2.3224716\n",
       "[42,]  1.8526892\n",
       "[43,]  0.5940617\n",
       "[44,] -0.2648384\n",
       "[45,] -0.8277699\n",
       "[46,] -0.5947537\n",
       "[47,]  0.9028237\n",
       "[48,] -0.8896635\n",
       "[49,] -0.9883932\n",
       "[50,]  0.4571944\n",
       "[51,] -0.9722912\n",
       "[52,]  0.1524248\n",
       "[53,]  2.0321718\n",
       "[54,] -0.3461427\n",
       "[55,] -0.6778004\n",
       "[56,] -0.3795379\n",
       "[57,] -0.1275962\n",
       "[58,]  2.2424467\n",
       "[59,] -0.8528715\n",
       "[60,] -0.8704513\n",
       "[61,]  2.0137537"
      ]
     },
     "metadata": {},
     "output_type": "display_data"
    }
   ],
   "source": [
    "scaled_charges"
   ]
  },
  {
   "cell_type": "code",
   "execution_count": 67,
   "id": "2961146e-14c1-48aa-9ff2-246c81401a28",
   "metadata": {},
   "outputs": [
    {
     "name": "stderr",
     "output_type": "stream",
     "text": [
      "Warning message:\n",
      "\"\u001b[1m\u001b[22mRemoved 11 rows containing non-finite values (`stat_bin()`).\"\n",
      "Warning message:\n",
      "\"\u001b[1m\u001b[22mRemoved 11 rows containing non-finite values (`stat_bin()`).\"\n"
     ]
    },
    {
     "data": {
      "image/png": "[encoded data removed]",
      "text/plain": [
       "plot without title"
      ]
     },
     "metadata": {
      "image/png": {
       "height": 420,
       "width": 420
      }
     },
     "output_type": "display_data"
    }
   ],
   "source": [
    "data_tmp <- data |>\n",
    "    mutate(TotalLog = log(TotalCharges),\n",
    "           TotalSqrt = sqrt(TotalCharges),\n",
    "           TotalPow2 = TotalCharges^2,\n",
    "        TotalReverse = 1/TotalCharges)\n",
    "\n",
    "p1 <- ggplot(data = data_tmp, aes(x = TotalCharges)) +\n",
    "        geom_histogram(bins = 15)\n",
    "p2 <- ggplot(data =data_tmp, aes(x = TotalLog)) +\n",
    "        geom_histogram(bins = 15)\n",
    "p3 <- ggplot(data = data_tmp, aes(x = TotalSqrt)) +\n",
    "        geom_histogram(bins = 15)\n",
    "p4 <- ggplot(data = data_tmp, aes(x = TotalPow2)) +\n",
    "        geom_histogram(bins = 15)\n",
    "p5 <- ggplot(data = data_tmp, aes(x = TotalReverse)) +\n",
    "        geom_histogram(bins = 15)\n",
    "\n",
    "grid.arrange(p1, p2, p3, p4, p5, ncol = 5)"
   ]
  },
  {
   "cell_type": "code",
   "execution_count": 69,
   "id": "408ab2c2-e93c-40d9-8444-202a3f14436e",
   "metadata": {},
   "outputs": [
    {
     "data": {
      "text/html": [
       "<table class=\"dataframe\">\n",
       "<caption>A data.frame: 6 x 2</caption>\n",
       "<thead>\n",
       "\t<tr><th></th><th scope=col>MonthlyCharges</th><th scope=col>TotalCharges</th></tr>\n",
       "\t<tr><th></th><th scope=col>&lt;dbl&gt;</th><th scope=col>&lt;dbl&gt;</th></tr>\n",
       "</thead>\n",
       "<tbody>\n",
       "\t<tr><th scope=row>1</th><td>29.85</td><td>  29.85</td></tr>\n",
       "\t<tr><th scope=row>2</th><td>56.95</td><td>1889.50</td></tr>\n",
       "\t<tr><th scope=row>3</th><td>53.85</td><td> 108.15</td></tr>\n",
       "\t<tr><th scope=row>4</th><td>42.30</td><td>1840.75</td></tr>\n",
       "\t<tr><th scope=row>5</th><td>70.70</td><td> 151.65</td></tr>\n",
       "\t<tr><th scope=row>6</th><td>99.65</td><td> 820.50</td></tr>\n",
       "</tbody>\n",
       "</table>\n"
      ],
      "text/latex": [
       "A data.frame: 6 x 2\n",
       "\\begin{tabular}{r|ll}\n",
       "  & MonthlyCharges & TotalCharges\\\\\n",
       "  & <dbl> & <dbl>\\\\\n",
       "\\hline\n",
       "\t1 & 29.85 &   29.85\\\\\n",
       "\t2 & 56.95 & 1889.50\\\\\n",
       "\t3 & 53.85 &  108.15\\\\\n",
       "\t4 & 42.30 & 1840.75\\\\\n",
       "\t5 & 70.70 &  151.65\\\\\n",
       "\t6 & 99.65 &  820.50\\\\\n",
       "\\end{tabular}\n"
      ],
      "text/markdown": [
       "\n",
       "A data.frame: 6 x 2\n",
       "\n",
       "| <!--/--> | MonthlyCharges &lt;dbl&gt; | TotalCharges &lt;dbl&gt; |\n",
       "|---|---|---|\n",
       "| 1 | 29.85 |   29.85 |\n",
       "| 2 | 56.95 | 1889.50 |\n",
       "| 3 | 53.85 |  108.15 |\n",
       "| 4 | 42.30 | 1840.75 |\n",
       "| 5 | 70.70 |  151.65 |\n",
       "| 6 | 99.65 |  820.50 |\n",
       "\n"
      ],
      "text/plain": [
       "  MonthlyCharges TotalCharges\n",
       "1 29.85            29.85     \n",
       "2 56.95          1889.50     \n",
       "3 53.85           108.15     \n",
       "4 42.30          1840.75     \n",
       "5 70.70           151.65     \n",
       "6 99.65           820.50     "
      ]
     },
     "metadata": {},
     "output_type": "display_data"
    }
   ],
   "source": [
    "data |>\n",
    "    select(MonthlyCharges, TotalCharges) |>\n",
    "    head(6)"
   ]
  },
  {
   "cell_type": "code",
   "execution_count": 71,
   "id": "56fa01b6-44f1-4b53-afae-d129eade4de3",
   "metadata": {},
   "outputs": [
    {
     "data": {
      "text/html": [
       "<table class=\"dataframe\">\n",
       "<caption>A data.frame: 6 x 3</caption>\n",
       "<thead>\n",
       "\t<tr><th></th><th scope=col>MonthlyCharges</th><th scope=col>TotalCharges</th><th scope=col>M2T</th></tr>\n",
       "\t<tr><th></th><th scope=col>&lt;dbl&gt;</th><th scope=col>&lt;dbl&gt;</th><th scope=col>&lt;dbl&gt;</th></tr>\n",
       "</thead>\n",
       "<tbody>\n",
       "\t<tr><th scope=row>1</th><td>29.85</td><td>  29.85</td><td>1.00</td></tr>\n",
       "\t<tr><th scope=row>2</th><td>56.95</td><td>1889.50</td><td>0.03</td></tr>\n",
       "\t<tr><th scope=row>3</th><td>53.85</td><td> 108.15</td><td>0.50</td></tr>\n",
       "\t<tr><th scope=row>4</th><td>42.30</td><td>1840.75</td><td>0.02</td></tr>\n",
       "\t<tr><th scope=row>5</th><td>70.70</td><td> 151.65</td><td>0.47</td></tr>\n",
       "\t<tr><th scope=row>6</th><td>99.65</td><td> 820.50</td><td>0.12</td></tr>\n",
       "</tbody>\n",
       "</table>\n"
      ],
      "text/latex": [
       "A data.frame: 6 x 3\n",
       "\\begin{tabular}{r|lll}\n",
       "  & MonthlyCharges & TotalCharges & M2T\\\\\n",
       "  & <dbl> & <dbl> & <dbl>\\\\\n",
       "\\hline\n",
       "\t1 & 29.85 &   29.85 & 1.00\\\\\n",
       "\t2 & 56.95 & 1889.50 & 0.03\\\\\n",
       "\t3 & 53.85 &  108.15 & 0.50\\\\\n",
       "\t4 & 42.30 & 1840.75 & 0.02\\\\\n",
       "\t5 & 70.70 &  151.65 & 0.47\\\\\n",
       "\t6 & 99.65 &  820.50 & 0.12\\\\\n",
       "\\end{tabular}\n"
      ],
      "text/markdown": [
       "\n",
       "A data.frame: 6 x 3\n",
       "\n",
       "| <!--/--> | MonthlyCharges &lt;dbl&gt; | TotalCharges &lt;dbl&gt; | M2T &lt;dbl&gt; |\n",
       "|---|---|---|---|\n",
       "| 1 | 29.85 |   29.85 | 1.00 |\n",
       "| 2 | 56.95 | 1889.50 | 0.03 |\n",
       "| 3 | 53.85 |  108.15 | 0.50 |\n",
       "| 4 | 42.30 | 1840.75 | 0.02 |\n",
       "| 5 | 70.70 |  151.65 | 0.47 |\n",
       "| 6 | 99.65 |  820.50 | 0.12 |\n",
       "\n"
      ],
      "text/plain": [
       "  MonthlyCharges TotalCharges M2T \n",
       "1 29.85            29.85      1.00\n",
       "2 56.95          1889.50      0.03\n",
       "3 53.85           108.15      0.50\n",
       "4 42.30          1840.75      0.02\n",
       "5 70.70           151.65      0.47\n",
       "6 99.65           820.50      0.12"
      ]
     },
     "metadata": {},
     "output_type": "display_data"
    }
   ],
   "source": [
    "data <- data |>\n",
    "    mutate(M2T = round(MonthlyCharges/TotalCharges, 2))\n",
    "data |>\n",
    "    select(MonthlyCharges, TotalCharges, M2T) |>\n",
    "    head(6)"
   ]
  },
  {
   "cell_type": "markdown",
   "id": "429fa3d2-ef18-486b-9633-2db22e7915af",
   "metadata": {},
   "source": [
    "1.4. Labeling"
   ]
  },
  {
   "cell_type": "code",
   "execution_count": 73,
   "id": "ba19704b-9be5-4107-867c-b84dcd857f4d",
   "metadata": {},
   "outputs": [
    {
     "data": {
      "text/html": [
       "<table class=\"dataframe\">\n",
       "<caption>A data.frame: 6 x 24</caption>\n",
       "<thead>\n",
       "\t<tr><th></th><th scope=col>customerID</th><th scope=col>gender</th><th scope=col>SeniorCitizen</th><th scope=col>Partner</th><th scope=col>Dependents</th><th scope=col>tenure</th><th scope=col>PhoneService</th><th scope=col>MultipleLines</th><th scope=col>InternetService</th><th scope=col>OnlineSecurity</th><th scope=col>...</th><th scope=col>StreamingMovies</th><th scope=col>Contract</th><th scope=col>PaperlessBilling</th><th scope=col>PaymentMethod</th><th scope=col>MonthlyCharges</th><th scope=col>TotalCharges</th><th scope=col>Churn</th><th scope=col>TotalNorm</th><th scope=col>TotalStand</th><th scope=col>M2T</th></tr>\n",
       "\t<tr><th></th><th scope=col>&lt;chr&gt;</th><th scope=col>&lt;chr&gt;</th><th scope=col>&lt;int&gt;</th><th scope=col>&lt;chr&gt;</th><th scope=col>&lt;chr&gt;</th><th scope=col>&lt;int&gt;</th><th scope=col>&lt;chr&gt;</th><th scope=col>&lt;chr&gt;</th><th scope=col>&lt;chr&gt;</th><th scope=col>&lt;chr&gt;</th><th scope=col>...</th><th scope=col>&lt;chr&gt;</th><th scope=col>&lt;chr&gt;</th><th scope=col>&lt;chr&gt;</th><th scope=col>&lt;chr&gt;</th><th scope=col>&lt;dbl&gt;</th><th scope=col>&lt;dbl&gt;</th><th scope=col>&lt;chr&gt;</th><th scope=col>&lt;dbl&gt;</th><th scope=col>&lt;dbl&gt;</th><th scope=col>&lt;dbl&gt;</th></tr>\n",
       "</thead>\n",
       "<tbody>\n",
       "\t<tr><th scope=row>1</th><td>7590-VHVEG</td><td>Female</td><td>0</td><td>Yes</td><td>No</td><td> 1</td><td>No </td><td>No phone service</td><td>DSL        </td><td>No </td><td>...</td><td>No </td><td>Month-to-month</td><td>Yes</td><td>Electronic check         </td><td>29.85</td><td>  29.85</td><td>No </td><td>0.003437039</td><td>-0.9925401</td><td>1.00</td></tr>\n",
       "\t<tr><th scope=row>2</th><td>5575-GNVDE</td><td>Male  </td><td>0</td><td>No </td><td>No</td><td>34</td><td>Yes</td><td>No              </td><td>DSL        </td><td>Yes</td><td>...</td><td>No </td><td>One year      </td><td>No </td><td>Mailed check             </td><td>56.95</td><td>1889.50</td><td>No </td><td>0.217564020</td><td>-0.1721525</td><td>0.03</td></tr>\n",
       "\t<tr><th scope=row>3</th><td>3668-QPYBK</td><td>Male  </td><td>0</td><td>No </td><td>No</td><td> 2</td><td>Yes</td><td>No              </td><td>DSL        </td><td>Yes</td><td>...</td><td>No </td><td>Month-to-month</td><td>Yes</td><td>Mailed check             </td><td>53.85</td><td> 108.15</td><td>Yes</td><td>0.012452791</td><td>-0.9579979</td><td>0.50</td></tr>\n",
       "\t<tr><th scope=row>4</th><td>7795-CFOCW</td><td>Male  </td><td>0</td><td>No </td><td>No</td><td>45</td><td>No </td><td>No phone service</td><td>DSL        </td><td>Yes</td><td>...</td><td>No </td><td>One year      </td><td>No </td><td>Bank transfer (automatic)</td><td>42.30</td><td>1840.75</td><td>No </td><td>0.211950765</td><td>-0.1936586</td><td>0.02</td></tr>\n",
       "\t<tr><th scope=row>5</th><td>9237-HQITU</td><td>Female</td><td>0</td><td>No </td><td>No</td><td> 2</td><td>Yes</td><td>No              </td><td>Fiber optic</td><td>No </td><td>...</td><td>No </td><td>Month-to-month</td><td>Yes</td><td>Electronic check         </td><td>70.70</td><td> 151.65</td><td>Yes</td><td>0.017461542</td><td>-0.9388078</td><td>0.47</td></tr>\n",
       "\t<tr><th scope=row>6</th><td>9305-CDSKC</td><td>Female</td><td>0</td><td>No </td><td>No</td><td> 8</td><td>Yes</td><td>Yes             </td><td>Fiber optic</td><td>No </td><td>...</td><td>Yes</td><td>Month-to-month</td><td>Yes</td><td>Electronic check         </td><td>99.65</td><td> 820.50</td><td>Yes</td><td>0.094475405</td><td>-0.6437435</td><td>0.12</td></tr>\n",
       "</tbody>\n",
       "</table>\n"
      ],
      "text/latex": [
       "A data.frame: 6 x 24\n",
       "\\begin{tabular}{r|lllllllllllllllllllll}\n",
       "  & customerID & gender & SeniorCitizen & Partner & Dependents & tenure & PhoneService & MultipleLines & InternetService & OnlineSecurity & ... & StreamingMovies & Contract & PaperlessBilling & PaymentMethod & MonthlyCharges & TotalCharges & Churn & TotalNorm & TotalStand & M2T\\\\\n",
       "  & <chr> & <chr> & <int> & <chr> & <chr> & <int> & <chr> & <chr> & <chr> & <chr> & ... & <chr> & <chr> & <chr> & <chr> & <dbl> & <dbl> & <chr> & <dbl> & <dbl> & <dbl>\\\\\n",
       "\\hline\n",
       "\t1 & 7590-VHVEG & Female & 0 & Yes & No &  1 & No  & No phone service & DSL         & No  & ... & No  & Month-to-month & Yes & Electronic check          & 29.85 &   29.85 & No  & 0.003437039 & -0.9925401 & 1.00\\\\\n",
       "\t2 & 5575-GNVDE & Male   & 0 & No  & No & 34 & Yes & No               & DSL         & Yes & ... & No  & One year       & No  & Mailed check              & 56.95 & 1889.50 & No  & 0.217564020 & -0.1721525 & 0.03\\\\\n",
       "\t3 & 3668-QPYBK & Male   & 0 & No  & No &  2 & Yes & No               & DSL         & Yes & ... & No  & Month-to-month & Yes & Mailed check              & 53.85 &  108.15 & Yes & 0.012452791 & -0.9579979 & 0.50\\\\\n",
       "\t4 & 7795-CFOCW & Male   & 0 & No  & No & 45 & No  & No phone service & DSL         & Yes & ... & No  & One year       & No  & Bank transfer (automatic) & 42.30 & 1840.75 & No  & 0.211950765 & -0.1936586 & 0.02\\\\\n",
       "\t5 & 9237-HQITU & Female & 0 & No  & No &  2 & Yes & No               & Fiber optic & No  & ... & No  & Month-to-month & Yes & Electronic check          & 70.70 &  151.65 & Yes & 0.017461542 & -0.9388078 & 0.47\\\\\n",
       "\t6 & 9305-CDSKC & Female & 0 & No  & No &  8 & Yes & Yes              & Fiber optic & No  & ... & Yes & Month-to-month & Yes & Electronic check          & 99.65 &  820.50 & Yes & 0.094475405 & -0.6437435 & 0.12\\\\\n",
       "\\end{tabular}\n"
      ],
      "text/markdown": [
       "\n",
       "A data.frame: 6 x 24\n",
       "\n",
       "| <!--/--> | customerID &lt;chr&gt; | gender &lt;chr&gt; | SeniorCitizen &lt;int&gt; | Partner &lt;chr&gt; | Dependents &lt;chr&gt; | tenure &lt;int&gt; | PhoneService &lt;chr&gt; | MultipleLines &lt;chr&gt; | InternetService &lt;chr&gt; | OnlineSecurity &lt;chr&gt; | ... ... | StreamingMovies &lt;chr&gt; | Contract &lt;chr&gt; | PaperlessBilling &lt;chr&gt; | PaymentMethod &lt;chr&gt; | MonthlyCharges &lt;dbl&gt; | TotalCharges &lt;dbl&gt; | Churn &lt;chr&gt; | TotalNorm &lt;dbl&gt; | TotalStand &lt;dbl&gt; | M2T &lt;dbl&gt; |\n",
       "|---|---|---|---|---|---|---|---|---|---|---|---|---|---|---|---|---|---|---|---|---|---|\n",
       "| 1 | 7590-VHVEG | Female | 0 | Yes | No |  1 | No  | No phone service | DSL         | No  | ... | No  | Month-to-month | Yes | Electronic check          | 29.85 |   29.85 | No  | 0.003437039 | -0.9925401 | 1.00 |\n",
       "| 2 | 5575-GNVDE | Male   | 0 | No  | No | 34 | Yes | No               | DSL         | Yes | ... | No  | One year       | No  | Mailed check              | 56.95 | 1889.50 | No  | 0.217564020 | -0.1721525 | 0.03 |\n",
       "| 3 | 3668-QPYBK | Male   | 0 | No  | No |  2 | Yes | No               | DSL         | Yes | ... | No  | Month-to-month | Yes | Mailed check              | 53.85 |  108.15 | Yes | 0.012452791 | -0.9579979 | 0.50 |\n",
       "| 4 | 7795-CFOCW | Male   | 0 | No  | No | 45 | No  | No phone service | DSL         | Yes | ... | No  | One year       | No  | Bank transfer (automatic) | 42.30 | 1840.75 | No  | 0.211950765 | -0.1936586 | 0.02 |\n",
       "| 5 | 9237-HQITU | Female | 0 | No  | No |  2 | Yes | No               | Fiber optic | No  | ... | No  | Month-to-month | Yes | Electronic check          | 70.70 |  151.65 | Yes | 0.017461542 | -0.9388078 | 0.47 |\n",
       "| 6 | 9305-CDSKC | Female | 0 | No  | No |  8 | Yes | Yes              | Fiber optic | No  | ... | Yes | Month-to-month | Yes | Electronic check          | 99.65 |  820.50 | Yes | 0.094475405 | -0.6437435 | 0.12 |\n",
       "\n"
      ],
      "text/plain": [
       "  customerID gender SeniorCitizen Partner Dependents tenure PhoneService\n",
       "1 7590-VHVEG Female 0             Yes     No          1     No          \n",
       "2 5575-GNVDE Male   0             No      No         34     Yes         \n",
       "3 3668-QPYBK Male   0             No      No          2     Yes         \n",
       "4 7795-CFOCW Male   0             No      No         45     No          \n",
       "5 9237-HQITU Female 0             No      No          2     Yes         \n",
       "6 9305-CDSKC Female 0             No      No          8     Yes         \n",
       "  MultipleLines    InternetService OnlineSecurity ... StreamingMovies\n",
       "1 No phone service DSL             No             ... No             \n",
       "2 No               DSL             Yes            ... No             \n",
       "3 No               DSL             Yes            ... No             \n",
       "4 No phone service DSL             Yes            ... No             \n",
       "5 No               Fiber optic     No             ... No             \n",
       "6 Yes              Fiber optic     No             ... Yes            \n",
       "  Contract       PaperlessBilling PaymentMethod             MonthlyCharges\n",
       "1 Month-to-month Yes              Electronic check          29.85         \n",
       "2 One year       No               Mailed check              56.95         \n",
       "3 Month-to-month Yes              Mailed check              53.85         \n",
       "4 One year       No               Bank transfer (automatic) 42.30         \n",
       "5 Month-to-month Yes              Electronic check          70.70         \n",
       "6 Month-to-month Yes              Electronic check          99.65         \n",
       "  TotalCharges Churn TotalNorm   TotalStand M2T \n",
       "1   29.85      No    0.003437039 -0.9925401 1.00\n",
       "2 1889.50      No    0.217564020 -0.1721525 0.03\n",
       "3  108.15      Yes   0.012452791 -0.9579979 0.50\n",
       "4 1840.75      No    0.211950765 -0.1936586 0.02\n",
       "5  151.65      Yes   0.017461542 -0.9388078 0.47\n",
       "6  820.50      Yes   0.094475405 -0.6437435 0.12"
      ]
     },
     "metadata": {},
     "output_type": "display_data"
    }
   ],
   "source": [
    "data |> head()"
   ]
  },
  {
   "cell_type": "code",
   "execution_count": 77,
   "id": "e3a704e9-0436-4459-a174-29b37f48c89d",
   "metadata": {},
   "outputs": [
    {
     "name": "stdout",
     "output_type": "stream",
     "text": [
      "'data.frame':\t7043 obs. of  24 variables:\n",
      " $ customerID      : chr  \"7590-VHVEG\" \"5575-GNVDE\" \"3668-QPYBK\" \"7795-CFOCW\" ...\n",
      " $ gender          : chr  \"Female\" \"Male\" \"Male\" \"Male\" ...\n",
      " $ SeniorCitizen   : int  0 0 0 0 0 0 0 0 0 0 ...\n",
      " $ Partner         : chr  \"Yes\" \"No\" \"No\" \"No\" ...\n",
      " $ Dependents      : chr  \"No\" \"No\" \"No\" \"No\" ...\n",
      " $ tenure          : int  1 34 2 45 2 8 22 10 28 62 ...\n",
      " $ PhoneService    : chr  \"No\" \"Yes\" \"Yes\" \"No\" ...\n",
      " $ MultipleLines   : chr  \"No phone service\" \"No\" \"No\" \"No phone service\" ...\n",
      " $ InternetService : Factor w/ 3 levels \"DSL\",\"Fiber optic\",..: 1 1 1 1 2 2 2 1 2 1 ...\n",
      " $ OnlineSecurity  : chr  \"No\" \"Yes\" \"Yes\" \"Yes\" ...\n",
      " $ OnlineBackup    : chr  \"Yes\" \"No\" \"Yes\" \"No\" ...\n",
      " $ DeviceProtection: chr  \"No\" \"Yes\" \"No\" \"Yes\" ...\n",
      " $ TechSupport     : chr  \"No\" \"No\" \"No\" \"Yes\" ...\n",
      " $ StreamingTV     : chr  \"No\" \"No\" \"No\" \"No\" ...\n",
      " $ StreamingMovies : chr  \"No\" \"No\" \"No\" \"No\" ...\n",
      " $ Contract        : chr  \"Month-to-month\" \"One year\" \"Month-to-month\" \"One year\" ...\n",
      " $ PaperlessBilling: chr  \"Yes\" \"No\" \"Yes\" \"No\" ...\n",
      " $ PaymentMethod   : chr  \"Electronic check\" \"Mailed check\" \"Mailed check\" \"Bank transfer (automatic)\" ...\n",
      " $ MonthlyCharges  : num  29.9 57 53.9 42.3 70.7 ...\n",
      " $ TotalCharges    : num  29.9 1889.5 108.2 1840.8 151.7 ...\n",
      " $ Churn           : chr  \"No\" \"No\" \"Yes\" \"No\" ...\n",
      " $ TotalNorm       : num  0.00344 0.21756 0.01245 0.21195 0.01746 ...\n",
      " $ TotalStand      : num  -0.993 -0.172 -0.958 -0.194 -0.939 ...\n",
      " $ M2T             : num  1 0.03 0.5 0.02 0.47 0.12 0.05 0.1 0.03 0.02 ...\n"
     ]
    }
   ],
   "source": [
    "data <- data |>\n",
    "    mutate(InternetService = as.factor(InternetService))\n",
    "str(data)"
   ]
  },
  {
   "cell_type": "markdown",
   "id": "6674d095-00eb-4e02-84fa-4a737e5c4dc1",
   "metadata": {},
   "source": [
    "## 1.5. One Hot encoding"
   ]
  },
  {
   "cell_type": "code",
   "execution_count": 95,
   "id": "1eec21f7-d8fc-4b5e-ab6c-eb449a4c8adc",
   "metadata": {},
   "outputs": [
    {
     "data": {
      "text/html": [
       "<table class=\"dataframe\">\n",
       "<caption>A data.frame: 6 x 4</caption>\n",
       "<thead>\n",
       "\t<tr><th></th><th scope=col>gender</th><th scope=col>InternetService</th><th scope=col>TotalCharges</th><th scope=col>Churn</th></tr>\n",
       "\t<tr><th></th><th scope=col>&lt;chr&gt;</th><th scope=col>&lt;chr&gt;</th><th scope=col>&lt;dbl&gt;</th><th scope=col>&lt;chr&gt;</th></tr>\n",
       "</thead>\n",
       "<tbody>\n",
       "\t<tr><th scope=row>1</th><td>Female</td><td>DSL        </td><td>  29.85</td><td>No </td></tr>\n",
       "\t<tr><th scope=row>2</th><td>Male  </td><td>DSL        </td><td>1889.50</td><td>No </td></tr>\n",
       "\t<tr><th scope=row>3</th><td>Male  </td><td>DSL        </td><td> 108.15</td><td>Yes</td></tr>\n",
       "\t<tr><th scope=row>4</th><td>Male  </td><td>DSL        </td><td>1840.75</td><td>No </td></tr>\n",
       "\t<tr><th scope=row>5</th><td>Female</td><td>Fiber optic</td><td> 151.65</td><td>Yes</td></tr>\n",
       "\t<tr><th scope=row>6</th><td>Female</td><td>Fiber optic</td><td> 820.50</td><td>Yes</td></tr>\n",
       "</tbody>\n",
       "</table>\n"
      ],
      "text/latex": [
       "A data.frame: 6 x 4\n",
       "\\begin{tabular}{r|llll}\n",
       "  & gender & InternetService & TotalCharges & Churn\\\\\n",
       "  & <chr> & <chr> & <dbl> & <chr>\\\\\n",
       "\\hline\n",
       "\t1 & Female & DSL         &   29.85 & No \\\\\n",
       "\t2 & Male   & DSL         & 1889.50 & No \\\\\n",
       "\t3 & Male   & DSL         &  108.15 & Yes\\\\\n",
       "\t4 & Male   & DSL         & 1840.75 & No \\\\\n",
       "\t5 & Female & Fiber optic &  151.65 & Yes\\\\\n",
       "\t6 & Female & Fiber optic &  820.50 & Yes\\\\\n",
       "\\end{tabular}\n"
      ],
      "text/markdown": [
       "\n",
       "A data.frame: 6 x 4\n",
       "\n",
       "| <!--/--> | gender &lt;chr&gt; | InternetService &lt;chr&gt; | TotalCharges &lt;dbl&gt; | Churn &lt;chr&gt; |\n",
       "|---|---|---|---|---|\n",
       "| 1 | Female | DSL         |   29.85 | No  |\n",
       "| 2 | Male   | DSL         | 1889.50 | No  |\n",
       "| 3 | Male   | DSL         |  108.15 | Yes |\n",
       "| 4 | Male   | DSL         | 1840.75 | No  |\n",
       "| 5 | Female | Fiber optic |  151.65 | Yes |\n",
       "| 6 | Female | Fiber optic |  820.50 | Yes |\n",
       "\n"
      ],
      "text/plain": [
       "  gender InternetService TotalCharges Churn\n",
       "1 Female DSL               29.85      No   \n",
       "2 Male   DSL             1889.50      No   \n",
       "3 Male   DSL              108.15      Yes  \n",
       "4 Male   DSL             1840.75      No   \n",
       "5 Female Fiber optic      151.65      Yes  \n",
       "6 Female Fiber optic      820.50      Yes  "
      ]
     },
     "metadata": {},
     "output_type": "display_data"
    }
   ],
   "source": [
    "data1 <- data |>\n",
    "    select(gender, InternetService, TotalCharges, Churn)\n",
    "data1 |> head()"
   ]
  },
  {
   "cell_type": "code",
   "execution_count": 96,
   "id": "3962cd87-331c-4745-a336-53147070d9ca",
   "metadata": {},
   "outputs": [
    {
     "data": {
      "text/html": [
       "<style>\n",
       ".list-inline {list-style: none; margin:0; padding: 0}\n",
       ".list-inline>li {display: inline-block}\n",
       ".list-inline>li:not(:last-child)::after {content: \"\\00b7\"; padding: 0 .5ex}\n",
       "</style>\n",
       "<ol class=list-inline><li>'Female'</li><li>'Male'</li></ol>\n"
      ],
      "text/latex": [
       "\\begin{enumerate*}\n",
       "\\item 'Female'\n",
       "\\item 'Male'\n",
       "\\end{enumerate*}\n"
      ],
      "text/markdown": [
       "1. 'Female'\n",
       "2. 'Male'\n",
       "\n",
       "\n"
      ],
      "text/plain": [
       "[1] \"Female\" \"Male\"  "
      ]
     },
     "metadata": {},
     "output_type": "display_data"
    }
   ],
   "source": [
    "unique(data$gender)"
   ]
  },
  {
   "cell_type": "code",
   "execution_count": 85,
   "id": "2b38f310-7ddc-4ea2-a9a7-bfdb8391ee55",
   "metadata": {},
   "outputs": [
    {
     "data": {
      "text/plain": [
       "\n",
       "Female   Male \n",
       "  3488   3555 "
      ]
     },
     "metadata": {},
     "output_type": "display_data"
    }
   ],
   "source": [
    "table(data$gender)"
   ]
  },
  {
   "cell_type": "code",
   "execution_count": 88,
   "id": "fa518071-6401-468c-acbb-0eab72027502",
   "metadata": {},
   "outputs": [
    {
     "name": "stdout",
     "output_type": "stream",
     "text": [
      "\n",
      " \n",
      "   Cell Contents\n",
      "|-------------------------|\n",
      "|                       N |\n",
      "|         N / Table Total |\n",
      "|-------------------------|\n",
      "\n",
      " \n",
      "Total Observations in Table:  7043 \n",
      "\n",
      " \n",
      "          |    Female |      Male | \n",
      "          |-----------|-----------|\n",
      "          |      3488 |      3555 | \n",
      "          |     0.495 |     0.505 | \n",
      "          |-----------|-----------|\n",
      "\n",
      "\n",
      "\n",
      " \n"
     ]
    }
   ],
   "source": [
    "library(gmodels)\n",
    "CrossTable(data$gender)"
   ]
  },
  {
   "cell_type": "code",
   "execution_count": 98,
   "id": "eb790322-0967-43e4-917f-43785460e4fb",
   "metadata": {},
   "outputs": [
    {
     "data": {
      "text/html": [
       "<table class=\"dataframe\">\n",
       "<caption>A data.frame: 6 x 4</caption>\n",
       "<thead>\n",
       "\t<tr><th></th><th scope=col>gender</th><th scope=col>InternetService</th><th scope=col>TotalCharges</th><th scope=col>Churn</th></tr>\n",
       "\t<tr><th></th><th scope=col>&lt;dbl&gt;</th><th scope=col>&lt;chr&gt;</th><th scope=col>&lt;dbl&gt;</th><th scope=col>&lt;dbl&gt;</th></tr>\n",
       "</thead>\n",
       "<tbody>\n",
       "\t<tr><th scope=row>1</th><td>0</td><td>DSL        </td><td>  29.85</td><td>1</td></tr>\n",
       "\t<tr><th scope=row>2</th><td>0</td><td>DSL        </td><td>1889.50</td><td>1</td></tr>\n",
       "\t<tr><th scope=row>3</th><td>0</td><td>DSL        </td><td> 108.15</td><td>1</td></tr>\n",
       "\t<tr><th scope=row>4</th><td>0</td><td>DSL        </td><td>1840.75</td><td>1</td></tr>\n",
       "\t<tr><th scope=row>5</th><td>0</td><td>Fiber optic</td><td> 151.65</td><td>1</td></tr>\n",
       "\t<tr><th scope=row>6</th><td>0</td><td>Fiber optic</td><td> 820.50</td><td>1</td></tr>\n",
       "</tbody>\n",
       "</table>\n"
      ],
      "text/latex": [
       "A data.frame: 6 x 4\n",
       "\\begin{tabular}{r|llll}\n",
       "  & gender & InternetService & TotalCharges & Churn\\\\\n",
       "  & <dbl> & <chr> & <dbl> & <dbl>\\\\\n",
       "\\hline\n",
       "\t1 & 0 & DSL         &   29.85 & 1\\\\\n",
       "\t2 & 0 & DSL         & 1889.50 & 1\\\\\n",
       "\t3 & 0 & DSL         &  108.15 & 1\\\\\n",
       "\t4 & 0 & DSL         & 1840.75 & 1\\\\\n",
       "\t5 & 0 & Fiber optic &  151.65 & 1\\\\\n",
       "\t6 & 0 & Fiber optic &  820.50 & 1\\\\\n",
       "\\end{tabular}\n"
      ],
      "text/markdown": [
       "\n",
       "A data.frame: 6 x 4\n",
       "\n",
       "| <!--/--> | gender &lt;dbl&gt; | InternetService &lt;chr&gt; | TotalCharges &lt;dbl&gt; | Churn &lt;dbl&gt; |\n",
       "|---|---|---|---|---|\n",
       "| 1 | 0 | DSL         |   29.85 | 1 |\n",
       "| 2 | 0 | DSL         | 1889.50 | 1 |\n",
       "| 3 | 0 | DSL         |  108.15 | 1 |\n",
       "| 4 | 0 | DSL         | 1840.75 | 1 |\n",
       "| 5 | 0 | Fiber optic |  151.65 | 1 |\n",
       "| 6 | 0 | Fiber optic |  820.50 | 1 |\n",
       "\n"
      ],
      "text/plain": [
       "  gender InternetService TotalCharges Churn\n",
       "1 0      DSL               29.85      1    \n",
       "2 0      DSL             1889.50      1    \n",
       "3 0      DSL              108.15      1    \n",
       "4 0      DSL             1840.75      1    \n",
       "5 0      Fiber optic      151.65      1    \n",
       "6 0      Fiber optic      820.50      1    "
      ]
     },
     "metadata": {},
     "output_type": "display_data"
    }
   ],
   "source": [
    "data1 <- data1 |>\n",
    "    mutate(gender = ifelse(gender == \"Male\", 1, 0),\n",
    "          Churn = ifelse(Churn == \"Yes\", 0, 1))\n",
    "data1 |> head()"
   ]
  },
  {
   "cell_type": "code",
   "execution_count": 100,
   "id": "1758ea54-fd5a-481c-a9b9-cb5eca67ffc8",
   "metadata": {},
   "outputs": [
    {
     "name": "stdout",
     "output_type": "stream",
     "text": [
      "\n",
      " \n",
      "   Cell Contents\n",
      "|-------------------------|\n",
      "|                       N |\n",
      "|         N / Table Total |\n",
      "|-------------------------|\n",
      "\n",
      " \n",
      "Total Observations in Table:  7043 \n",
      "\n",
      " \n",
      "            |         DSL | Fiber optic |          No | \n",
      "            |-------------|-------------|-------------|\n",
      "            |        2421 |        3096 |        1526 | \n",
      "            |       0.344 |       0.440 |       0.217 | \n",
      "            |-------------|-------------|-------------|\n",
      "\n",
      "\n",
      "\n",
      " \n"
     ]
    }
   ],
   "source": [
    "CrossTable(data$InternetService)"
   ]
  },
  {
   "cell_type": "code",
   "execution_count": 102,
   "id": "a5f98b16-0a54-4042-b178-2a55c4db1834",
   "metadata": {},
   "outputs": [],
   "source": [
    "library(caret)"
   ]
  },
  {
   "cell_type": "code",
   "execution_count": 107,
   "id": "da33b243-154e-45f3-ad96-301b35363bf7",
   "metadata": {},
   "outputs": [],
   "source": [
    "dummy <- dummyVars(\"~ InternetService\", data = data1)"
   ]
  },
  {
   "cell_type": "code",
   "execution_count": 109,
   "id": "0d828430-d669-45e0-8234-c40ee97020de",
   "metadata": {},
   "outputs": [
    {
     "data": {
      "text/html": [
       "<table class=\"dataframe\">\n",
       "<caption>A data.frame: 6 x 4</caption>\n",
       "<thead>\n",
       "\t<tr><th></th><th scope=col>gender</th><th scope=col>InternetService</th><th scope=col>TotalCharges</th><th scope=col>Churn</th></tr>\n",
       "\t<tr><th></th><th scope=col>&lt;dbl&gt;</th><th scope=col>&lt;chr&gt;</th><th scope=col>&lt;dbl&gt;</th><th scope=col>&lt;dbl&gt;</th></tr>\n",
       "</thead>\n",
       "<tbody>\n",
       "\t<tr><th scope=row>1</th><td>0</td><td>DSL        </td><td>  29.85</td><td>1</td></tr>\n",
       "\t<tr><th scope=row>2</th><td>0</td><td>DSL        </td><td>1889.50</td><td>1</td></tr>\n",
       "\t<tr><th scope=row>3</th><td>0</td><td>DSL        </td><td> 108.15</td><td>1</td></tr>\n",
       "\t<tr><th scope=row>4</th><td>0</td><td>DSL        </td><td>1840.75</td><td>1</td></tr>\n",
       "\t<tr><th scope=row>5</th><td>0</td><td>Fiber optic</td><td> 151.65</td><td>1</td></tr>\n",
       "\t<tr><th scope=row>6</th><td>0</td><td>Fiber optic</td><td> 820.50</td><td>1</td></tr>\n",
       "</tbody>\n",
       "</table>\n"
      ],
      "text/latex": [
       "A data.frame: 6 x 4\n",
       "\\begin{tabular}{r|llll}\n",
       "  & gender & InternetService & TotalCharges & Churn\\\\\n",
       "  & <dbl> & <chr> & <dbl> & <dbl>\\\\\n",
       "\\hline\n",
       "\t1 & 0 & DSL         &   29.85 & 1\\\\\n",
       "\t2 & 0 & DSL         & 1889.50 & 1\\\\\n",
       "\t3 & 0 & DSL         &  108.15 & 1\\\\\n",
       "\t4 & 0 & DSL         & 1840.75 & 1\\\\\n",
       "\t5 & 0 & Fiber optic &  151.65 & 1\\\\\n",
       "\t6 & 0 & Fiber optic &  820.50 & 1\\\\\n",
       "\\end{tabular}\n"
      ],
      "text/markdown": [
       "\n",
       "A data.frame: 6 x 4\n",
       "\n",
       "| <!--/--> | gender &lt;dbl&gt; | InternetService &lt;chr&gt; | TotalCharges &lt;dbl&gt; | Churn &lt;dbl&gt; |\n",
       "|---|---|---|---|---|\n",
       "| 1 | 0 | DSL         |   29.85 | 1 |\n",
       "| 2 | 0 | DSL         | 1889.50 | 1 |\n",
       "| 3 | 0 | DSL         |  108.15 | 1 |\n",
       "| 4 | 0 | DSL         | 1840.75 | 1 |\n",
       "| 5 | 0 | Fiber optic |  151.65 | 1 |\n",
       "| 6 | 0 | Fiber optic |  820.50 | 1 |\n",
       "\n"
      ],
      "text/plain": [
       "  gender InternetService TotalCharges Churn\n",
       "1 0      DSL               29.85      1    \n",
       "2 0      DSL             1889.50      1    \n",
       "3 0      DSL              108.15      1    \n",
       "4 0      DSL             1840.75      1    \n",
       "5 0      Fiber optic      151.65      1    \n",
       "6 0      Fiber optic      820.50      1    "
      ]
     },
     "metadata": {},
     "output_type": "display_data"
    }
   ],
   "source": [
    "head(data1)"
   ]
  },
  {
   "cell_type": "code",
   "execution_count": 111,
   "id": "cab8e62f-5050-4ad4-bbde-65a5a6206a9b",
   "metadata": {},
   "outputs": [
    {
     "data": {
      "text/html": [
       "<table class=\"dataframe\">\n",
       "<caption>A matrix: 7043 x 3 of type dbl</caption>\n",
       "<thead>\n",
       "\t<tr><th></th><th scope=col>InternetServiceDSL</th><th scope=col>InternetServiceFiber optic</th><th scope=col>InternetServiceNo</th></tr>\n",
       "</thead>\n",
       "<tbody>\n",
       "\t<tr><th scope=row>1</th><td>1</td><td>0</td><td>0</td></tr>\n",
       "\t<tr><th scope=row>2</th><td>1</td><td>0</td><td>0</td></tr>\n",
       "\t<tr><th scope=row>3</th><td>1</td><td>0</td><td>0</td></tr>\n",
       "\t<tr><th scope=row>4</th><td>1</td><td>0</td><td>0</td></tr>\n",
       "\t<tr><th scope=row>5</th><td>0</td><td>1</td><td>0</td></tr>\n",
       "\t<tr><th scope=row>6</th><td>0</td><td>1</td><td>0</td></tr>\n",
       "\t<tr><th scope=row>7</th><td>0</td><td>1</td><td>0</td></tr>\n",
       "\t<tr><th scope=row>8</th><td>1</td><td>0</td><td>0</td></tr>\n",
       "\t<tr><th scope=row>9</th><td>0</td><td>1</td><td>0</td></tr>\n",
       "\t<tr><th scope=row>10</th><td>1</td><td>0</td><td>0</td></tr>\n",
       "\t<tr><th scope=row>11</th><td>1</td><td>0</td><td>0</td></tr>\n",
       "\t<tr><th scope=row>12</th><td>0</td><td>0</td><td>1</td></tr>\n",
       "\t<tr><th scope=row>13</th><td>0</td><td>1</td><td>0</td></tr>\n",
       "\t<tr><th scope=row>14</th><td>0</td><td>1</td><td>0</td></tr>\n",
       "\t<tr><th scope=row>15</th><td>0</td><td>1</td><td>0</td></tr>\n",
       "\t<tr><th scope=row>16</th><td>0</td><td>1</td><td>0</td></tr>\n",
       "\t<tr><th scope=row>17</th><td>0</td><td>0</td><td>1</td></tr>\n",
       "\t<tr><th scope=row>18</th><td>0</td><td>1</td><td>0</td></tr>\n",
       "\t<tr><th scope=row>19</th><td>1</td><td>0</td><td>0</td></tr>\n",
       "\t<tr><th scope=row>20</th><td>0</td><td>1</td><td>0</td></tr>\n",
       "\t<tr><th scope=row>21</th><td>1</td><td>0</td><td>0</td></tr>\n",
       "\t<tr><th scope=row>22</th><td>0</td><td>0</td><td>1</td></tr>\n",
       "\t<tr><th scope=row>23</th><td>0</td><td>0</td><td>1</td></tr>\n",
       "\t<tr><th scope=row>24</th><td>1</td><td>0</td><td>0</td></tr>\n",
       "\t<tr><th scope=row>25</th><td>1</td><td>0</td><td>0</td></tr>\n",
       "\t<tr><th scope=row>26</th><td>1</td><td>0</td><td>0</td></tr>\n",
       "\t<tr><th scope=row>27</th><td>0</td><td>1</td><td>0</td></tr>\n",
       "\t<tr><th scope=row>28</th><td>1</td><td>0</td><td>0</td></tr>\n",
       "\t<tr><th scope=row>29</th><td>1</td><td>0</td><td>0</td></tr>\n",
       "\t<tr><th scope=row>30</th><td>1</td><td>0</td><td>0</td></tr>\n",
       "\t<tr><th scope=row>...</th><td>...</td><td>...</td><td>...</td></tr>\n",
       "\t<tr><th scope=row>7014</th><td>0</td><td>1</td><td>0</td></tr>\n",
       "\t<tr><th scope=row>7015</th><td>0</td><td>1</td><td>0</td></tr>\n",
       "\t<tr><th scope=row>7016</th><td>0</td><td>1</td><td>0</td></tr>\n",
       "\t<tr><th scope=row>7017</th><td>1</td><td>0</td><td>0</td></tr>\n",
       "\t<tr><th scope=row>7018</th><td>0</td><td>0</td><td>1</td></tr>\n",
       "\t<tr><th scope=row>7019</th><td>0</td><td>1</td><td>0</td></tr>\n",
       "\t<tr><th scope=row>7020</th><td>0</td><td>0</td><td>1</td></tr>\n",
       "\t<tr><th scope=row>7021</th><td>0</td><td>0</td><td>1</td></tr>\n",
       "\t<tr><th scope=row>7022</th><td>1</td><td>0</td><td>0</td></tr>\n",
       "\t<tr><th scope=row>7023</th><td>0</td><td>1</td><td>0</td></tr>\n",
       "\t<tr><th scope=row>7024</th><td>0</td><td>1</td><td>0</td></tr>\n",
       "\t<tr><th scope=row>7025</th><td>0</td><td>1</td><td>0</td></tr>\n",
       "\t<tr><th scope=row>7026</th><td>0</td><td>1</td><td>0</td></tr>\n",
       "\t<tr><th scope=row>7027</th><td>1</td><td>0</td><td>0</td></tr>\n",
       "\t<tr><th scope=row>7028</th><td>1</td><td>0</td><td>0</td></tr>\n",
       "\t<tr><th scope=row>7029</th><td>1</td><td>0</td><td>0</td></tr>\n",
       "\t<tr><th scope=row>7030</th><td>1</td><td>0</td><td>0</td></tr>\n",
       "\t<tr><th scope=row>7031</th><td>0</td><td>0</td><td>1</td></tr>\n",
       "\t<tr><th scope=row>7032</th><td>1</td><td>0</td><td>0</td></tr>\n",
       "\t<tr><th scope=row>7033</th><td>0</td><td>1</td><td>0</td></tr>\n",
       "\t<tr><th scope=row>7034</th><td>0</td><td>1</td><td>0</td></tr>\n",
       "\t<tr><th scope=row>7035</th><td>0</td><td>1</td><td>0</td></tr>\n",
       "\t<tr><th scope=row>7036</th><td>0</td><td>1</td><td>0</td></tr>\n",
       "\t<tr><th scope=row>7037</th><td>1</td><td>0</td><td>0</td></tr>\n",
       "\t<tr><th scope=row>7038</th><td>0</td><td>0</td><td>1</td></tr>\n",
       "\t<tr><th scope=row>7039</th><td>1</td><td>0</td><td>0</td></tr>\n",
       "\t<tr><th scope=row>7040</th><td>0</td><td>1</td><td>0</td></tr>\n",
       "\t<tr><th scope=row>7041</th><td>1</td><td>0</td><td>0</td></tr>\n",
       "\t<tr><th scope=row>7042</th><td>0</td><td>1</td><td>0</td></tr>\n",
       "\t<tr><th scope=row>7043</th><td>0</td><td>1</td><td>0</td></tr>\n",
       "</tbody>\n",
       "</table>\n"
      ],
      "text/latex": [
       "A matrix: 7043 x 3 of type dbl\n",
       "\\begin{tabular}{r|lll}\n",
       "  & InternetServiceDSL & InternetServiceFiber optic & InternetServiceNo\\\\\n",
       "\\hline\n",
       "\t1 & 1 & 0 & 0\\\\\n",
       "\t2 & 1 & 0 & 0\\\\\n",
       "\t3 & 1 & 0 & 0\\\\\n",
       "\t4 & 1 & 0 & 0\\\\\n",
       "\t5 & 0 & 1 & 0\\\\\n",
       "\t6 & 0 & 1 & 0\\\\\n",
       "\t7 & 0 & 1 & 0\\\\\n",
       "\t8 & 1 & 0 & 0\\\\\n",
       "\t9 & 0 & 1 & 0\\\\\n",
       "\t10 & 1 & 0 & 0\\\\\n",
       "\t11 & 1 & 0 & 0\\\\\n",
       "\t12 & 0 & 0 & 1\\\\\n",
       "\t13 & 0 & 1 & 0\\\\\n",
       "\t14 & 0 & 1 & 0\\\\\n",
       "\t15 & 0 & 1 & 0\\\\\n",
       "\t16 & 0 & 1 & 0\\\\\n",
       "\t17 & 0 & 0 & 1\\\\\n",
       "\t18 & 0 & 1 & 0\\\\\n",
       "\t19 & 1 & 0 & 0\\\\\n",
       "\t20 & 0 & 1 & 0\\\\\n",
       "\t21 & 1 & 0 & 0\\\\\n",
       "\t22 & 0 & 0 & 1\\\\\n",
       "\t23 & 0 & 0 & 1\\\\\n",
       "\t24 & 1 & 0 & 0\\\\\n",
       "\t25 & 1 & 0 & 0\\\\\n",
       "\t26 & 1 & 0 & 0\\\\\n",
       "\t27 & 0 & 1 & 0\\\\\n",
       "\t28 & 1 & 0 & 0\\\\\n",
       "\t29 & 1 & 0 & 0\\\\\n",
       "\t30 & 1 & 0 & 0\\\\\n",
       "\t... & ... & ... & ...\\\\\n",
       "\t7014 & 0 & 1 & 0\\\\\n",
       "\t7015 & 0 & 1 & 0\\\\\n",
       "\t7016 & 0 & 1 & 0\\\\\n",
       "\t7017 & 1 & 0 & 0\\\\\n",
       "\t7018 & 0 & 0 & 1\\\\\n",
       "\t7019 & 0 & 1 & 0\\\\\n",
       "\t7020 & 0 & 0 & 1\\\\\n",
       "\t7021 & 0 & 0 & 1\\\\\n",
       "\t7022 & 1 & 0 & 0\\\\\n",
       "\t7023 & 0 & 1 & 0\\\\\n",
       "\t7024 & 0 & 1 & 0\\\\\n",
       "\t7025 & 0 & 1 & 0\\\\\n",
       "\t7026 & 0 & 1 & 0\\\\\n",
       "\t7027 & 1 & 0 & 0\\\\\n",
       "\t7028 & 1 & 0 & 0\\\\\n",
       "\t7029 & 1 & 0 & 0\\\\\n",
       "\t7030 & 1 & 0 & 0\\\\\n",
       "\t7031 & 0 & 0 & 1\\\\\n",
       "\t7032 & 1 & 0 & 0\\\\\n",
       "\t7033 & 0 & 1 & 0\\\\\n",
       "\t7034 & 0 & 1 & 0\\\\\n",
       "\t7035 & 0 & 1 & 0\\\\\n",
       "\t7036 & 0 & 1 & 0\\\\\n",
       "\t7037 & 1 & 0 & 0\\\\\n",
       "\t7038 & 0 & 0 & 1\\\\\n",
       "\t7039 & 1 & 0 & 0\\\\\n",
       "\t7040 & 0 & 1 & 0\\\\\n",
       "\t7041 & 1 & 0 & 0\\\\\n",
       "\t7042 & 0 & 1 & 0\\\\\n",
       "\t7043 & 0 & 1 & 0\\\\\n",
       "\\end{tabular}\n"
      ],
      "text/markdown": [
       "\n",
       "A matrix: 7043 x 3 of type dbl\n",
       "\n",
       "| <!--/--> | InternetServiceDSL | InternetServiceFiber optic | InternetServiceNo |\n",
       "|---|---|---|---|\n",
       "| 1 | 1 | 0 | 0 |\n",
       "| 2 | 1 | 0 | 0 |\n",
       "| 3 | 1 | 0 | 0 |\n",
       "| 4 | 1 | 0 | 0 |\n",
       "| 5 | 0 | 1 | 0 |\n",
       "| 6 | 0 | 1 | 0 |\n",
       "| 7 | 0 | 1 | 0 |\n",
       "| 8 | 1 | 0 | 0 |\n",
       "| 9 | 0 | 1 | 0 |\n",
       "| 10 | 1 | 0 | 0 |\n",
       "| 11 | 1 | 0 | 0 |\n",
       "| 12 | 0 | 0 | 1 |\n",
       "| 13 | 0 | 1 | 0 |\n",
       "| 14 | 0 | 1 | 0 |\n",
       "| 15 | 0 | 1 | 0 |\n",
       "| 16 | 0 | 1 | 0 |\n",
       "| 17 | 0 | 0 | 1 |\n",
       "| 18 | 0 | 1 | 0 |\n",
       "| 19 | 1 | 0 | 0 |\n",
       "| 20 | 0 | 1 | 0 |\n",
       "| 21 | 1 | 0 | 0 |\n",
       "| 22 | 0 | 0 | 1 |\n",
       "| 23 | 0 | 0 | 1 |\n",
       "| 24 | 1 | 0 | 0 |\n",
       "| 25 | 1 | 0 | 0 |\n",
       "| 26 | 1 | 0 | 0 |\n",
       "| 27 | 0 | 1 | 0 |\n",
       "| 28 | 1 | 0 | 0 |\n",
       "| 29 | 1 | 0 | 0 |\n",
       "| 30 | 1 | 0 | 0 |\n",
       "| ... | ... | ... | ... |\n",
       "| 7014 | 0 | 1 | 0 |\n",
       "| 7015 | 0 | 1 | 0 |\n",
       "| 7016 | 0 | 1 | 0 |\n",
       "| 7017 | 1 | 0 | 0 |\n",
       "| 7018 | 0 | 0 | 1 |\n",
       "| 7019 | 0 | 1 | 0 |\n",
       "| 7020 | 0 | 0 | 1 |\n",
       "| 7021 | 0 | 0 | 1 |\n",
       "| 7022 | 1 | 0 | 0 |\n",
       "| 7023 | 0 | 1 | 0 |\n",
       "| 7024 | 0 | 1 | 0 |\n",
       "| 7025 | 0 | 1 | 0 |\n",
       "| 7026 | 0 | 1 | 0 |\n",
       "| 7027 | 1 | 0 | 0 |\n",
       "| 7028 | 1 | 0 | 0 |\n",
       "| 7029 | 1 | 0 | 0 |\n",
       "| 7030 | 1 | 0 | 0 |\n",
       "| 7031 | 0 | 0 | 1 |\n",
       "| 7032 | 1 | 0 | 0 |\n",
       "| 7033 | 0 | 1 | 0 |\n",
       "| 7034 | 0 | 1 | 0 |\n",
       "| 7035 | 0 | 1 | 0 |\n",
       "| 7036 | 0 | 1 | 0 |\n",
       "| 7037 | 1 | 0 | 0 |\n",
       "| 7038 | 0 | 0 | 1 |\n",
       "| 7039 | 1 | 0 | 0 |\n",
       "| 7040 | 0 | 1 | 0 |\n",
       "| 7041 | 1 | 0 | 0 |\n",
       "| 7042 | 0 | 1 | 0 |\n",
       "| 7043 | 0 | 1 | 0 |\n",
       "\n"
      ],
      "text/plain": [
       "     InternetServiceDSL InternetServiceFiber optic InternetServiceNo\n",
       "1    1                  0                          0                \n",
       "2    1                  0                          0                \n",
       "3    1                  0                          0                \n",
       "4    1                  0                          0                \n",
       "5    0                  1                          0                \n",
       "6    0                  1                          0                \n",
       "7    0                  1                          0                \n",
       "8    1                  0                          0                \n",
       "9    0                  1                          0                \n",
       "10   1                  0                          0                \n",
       "11   1                  0                          0                \n",
       "12   0                  0                          1                \n",
       "13   0                  1                          0                \n",
       "14   0                  1                          0                \n",
       "15   0                  1                          0                \n",
       "16   0                  1                          0                \n",
       "17   0                  0                          1                \n",
       "18   0                  1                          0                \n",
       "19   1                  0                          0                \n",
       "20   0                  1                          0                \n",
       "21   1                  0                          0                \n",
       "22   0                  0                          1                \n",
       "23   0                  0                          1                \n",
       "24   1                  0                          0                \n",
       "25   1                  0                          0                \n",
       "26   1                  0                          0                \n",
       "27   0                  1                          0                \n",
       "28   1                  0                          0                \n",
       "29   1                  0                          0                \n",
       "30   1                  0                          0                \n",
       "...  ...                ...                        ...              \n",
       "7014 0                  1                          0                \n",
       "7015 0                  1                          0                \n",
       "7016 0                  1                          0                \n",
       "7017 1                  0                          0                \n",
       "7018 0                  0                          1                \n",
       "7019 0                  1                          0                \n",
       "7020 0                  0                          1                \n",
       "7021 0                  0                          1                \n",
       "7022 1                  0                          0                \n",
       "7023 0                  1                          0                \n",
       "7024 0                  1                          0                \n",
       "7025 0                  1                          0                \n",
       "7026 0                  1                          0                \n",
       "7027 1                  0                          0                \n",
       "7028 1                  0                          0                \n",
       "7029 1                  0                          0                \n",
       "7030 1                  0                          0                \n",
       "7031 0                  0                          1                \n",
       "7032 1                  0                          0                \n",
       "7033 0                  1                          0                \n",
       "7034 0                  1                          0                \n",
       "7035 0                  1                          0                \n",
       "7036 0                  1                          0                \n",
       "7037 1                  0                          0                \n",
       "7038 0                  0                          1                \n",
       "7039 1                  0                          0                \n",
       "7040 0                  1                          0                \n",
       "7041 1                  0                          0                \n",
       "7042 0                  1                          0                \n",
       "7043 0                  1                          0                "
      ]
     },
     "metadata": {},
     "output_type": "display_data"
    }
   ],
   "source": [
    "predict(dummy, newdata = data1)"
   ]
  },
  {
   "cell_type": "code",
   "execution_count": 120,
   "id": "b6f61d9f-6322-4334-aad0-c4546deffda1",
   "metadata": {},
   "outputs": [
    {
     "data": {
      "text/html": [
       "21"
      ],
      "text/latex": [
       "21"
      ],
      "text/markdown": [
       "21"
      ],
      "text/plain": [
       "[1] 21"
      ]
     },
     "metadata": {},
     "output_type": "display_data"
    }
   ],
   "source": [
    "ncol(data)"
   ]
  },
  {
   "cell_type": "code",
   "execution_count": 121,
   "id": "6018b942-6433-442e-a09f-a5df5a773ead",
   "metadata": {},
   "outputs": [
    {
     "data": {
      "text/html": [
       "<table class=\"dataframe\">\n",
       "<caption>A data.frame: 6 x 47</caption>\n",
       "<thead>\n",
       "\t<tr><th></th><th scope=col>genderFemale</th><th scope=col>genderMale</th><th scope=col>SeniorCitizen</th><th scope=col>PartnerNo</th><th scope=col>PartnerYes</th><th scope=col>DependentsNo</th><th scope=col>DependentsYes</th><th scope=col>tenure</th><th scope=col>PhoneServiceNo</th><th scope=col>PhoneServiceYes</th><th scope=col>...</th><th scope=col>PaperlessBillingNo</th><th scope=col>PaperlessBillingYes</th><th scope=col>PaymentMethodBank.transfer..automatic.</th><th scope=col>PaymentMethodCredit.card..automatic.</th><th scope=col>PaymentMethodElectronic.check</th><th scope=col>PaymentMethodMailed.check</th><th scope=col>MonthlyCharges</th><th scope=col>TotalCharges</th><th scope=col>ChurnNo</th><th scope=col>ChurnYes</th></tr>\n",
       "\t<tr><th></th><th scope=col>&lt;dbl&gt;</th><th scope=col>&lt;dbl&gt;</th><th scope=col>&lt;dbl&gt;</th><th scope=col>&lt;dbl&gt;</th><th scope=col>&lt;dbl&gt;</th><th scope=col>&lt;dbl&gt;</th><th scope=col>&lt;dbl&gt;</th><th scope=col>&lt;dbl&gt;</th><th scope=col>&lt;dbl&gt;</th><th scope=col>&lt;dbl&gt;</th><th scope=col>...</th><th scope=col>&lt;dbl&gt;</th><th scope=col>&lt;dbl&gt;</th><th scope=col>&lt;dbl&gt;</th><th scope=col>&lt;dbl&gt;</th><th scope=col>&lt;dbl&gt;</th><th scope=col>&lt;dbl&gt;</th><th scope=col>&lt;dbl&gt;</th><th scope=col>&lt;dbl&gt;</th><th scope=col>&lt;dbl&gt;</th><th scope=col>&lt;dbl&gt;</th></tr>\n",
       "</thead>\n",
       "<tbody>\n",
       "\t<tr><th scope=row>1</th><td>1</td><td>0</td><td>0</td><td>0</td><td>1</td><td>1</td><td>0</td><td> 1</td><td>1</td><td>0</td><td>...</td><td>0</td><td>1</td><td>0</td><td>0</td><td>1</td><td>0</td><td>29.85</td><td>  29.85</td><td>1</td><td>0</td></tr>\n",
       "\t<tr><th scope=row>2</th><td>0</td><td>1</td><td>0</td><td>1</td><td>0</td><td>1</td><td>0</td><td>34</td><td>0</td><td>1</td><td>...</td><td>1</td><td>0</td><td>0</td><td>0</td><td>0</td><td>1</td><td>56.95</td><td>1889.50</td><td>1</td><td>0</td></tr>\n",
       "\t<tr><th scope=row>3</th><td>0</td><td>1</td><td>0</td><td>1</td><td>0</td><td>1</td><td>0</td><td> 2</td><td>0</td><td>1</td><td>...</td><td>0</td><td>1</td><td>0</td><td>0</td><td>0</td><td>1</td><td>53.85</td><td> 108.15</td><td>0</td><td>1</td></tr>\n",
       "\t<tr><th scope=row>4</th><td>0</td><td>1</td><td>0</td><td>1</td><td>0</td><td>1</td><td>0</td><td>45</td><td>1</td><td>0</td><td>...</td><td>1</td><td>0</td><td>1</td><td>0</td><td>0</td><td>0</td><td>42.30</td><td>1840.75</td><td>1</td><td>0</td></tr>\n",
       "\t<tr><th scope=row>5</th><td>1</td><td>0</td><td>0</td><td>1</td><td>0</td><td>1</td><td>0</td><td> 2</td><td>0</td><td>1</td><td>...</td><td>0</td><td>1</td><td>0</td><td>0</td><td>1</td><td>0</td><td>70.70</td><td> 151.65</td><td>0</td><td>1</td></tr>\n",
       "\t<tr><th scope=row>6</th><td>1</td><td>0</td><td>0</td><td>1</td><td>0</td><td>1</td><td>0</td><td> 8</td><td>0</td><td>1</td><td>...</td><td>0</td><td>1</td><td>0</td><td>0</td><td>1</td><td>0</td><td>99.65</td><td> 820.50</td><td>0</td><td>1</td></tr>\n",
       "</tbody>\n",
       "</table>\n"
      ],
      "text/latex": [
       "A data.frame: 6 x 47\n",
       "\\begin{tabular}{r|lllllllllllllllllllll}\n",
       "  & genderFemale & genderMale & SeniorCitizen & PartnerNo & PartnerYes & DependentsNo & DependentsYes & tenure & PhoneServiceNo & PhoneServiceYes & ... & PaperlessBillingNo & PaperlessBillingYes & PaymentMethodBank.transfer..automatic. & PaymentMethodCredit.card..automatic. & PaymentMethodElectronic.check & PaymentMethodMailed.check & MonthlyCharges & TotalCharges & ChurnNo & ChurnYes\\\\\n",
       "  & <dbl> & <dbl> & <dbl> & <dbl> & <dbl> & <dbl> & <dbl> & <dbl> & <dbl> & <dbl> & ... & <dbl> & <dbl> & <dbl> & <dbl> & <dbl> & <dbl> & <dbl> & <dbl> & <dbl> & <dbl>\\\\\n",
       "\\hline\n",
       "\t1 & 1 & 0 & 0 & 0 & 1 & 1 & 0 &  1 & 1 & 0 & ... & 0 & 1 & 0 & 0 & 1 & 0 & 29.85 &   29.85 & 1 & 0\\\\\n",
       "\t2 & 0 & 1 & 0 & 1 & 0 & 1 & 0 & 34 & 0 & 1 & ... & 1 & 0 & 0 & 0 & 0 & 1 & 56.95 & 1889.50 & 1 & 0\\\\\n",
       "\t3 & 0 & 1 & 0 & 1 & 0 & 1 & 0 &  2 & 0 & 1 & ... & 0 & 1 & 0 & 0 & 0 & 1 & 53.85 &  108.15 & 0 & 1\\\\\n",
       "\t4 & 0 & 1 & 0 & 1 & 0 & 1 & 0 & 45 & 1 & 0 & ... & 1 & 0 & 1 & 0 & 0 & 0 & 42.30 & 1840.75 & 1 & 0\\\\\n",
       "\t5 & 1 & 0 & 0 & 1 & 0 & 1 & 0 &  2 & 0 & 1 & ... & 0 & 1 & 0 & 0 & 1 & 0 & 70.70 &  151.65 & 0 & 1\\\\\n",
       "\t6 & 1 & 0 & 0 & 1 & 0 & 1 & 0 &  8 & 0 & 1 & ... & 0 & 1 & 0 & 0 & 1 & 0 & 99.65 &  820.50 & 0 & 1\\\\\n",
       "\\end{tabular}\n"
      ],
      "text/markdown": [
       "\n",
       "A data.frame: 6 x 47\n",
       "\n",
       "| <!--/--> | genderFemale &lt;dbl&gt; | genderMale &lt;dbl&gt; | SeniorCitizen &lt;dbl&gt; | PartnerNo &lt;dbl&gt; | PartnerYes &lt;dbl&gt; | DependentsNo &lt;dbl&gt; | DependentsYes &lt;dbl&gt; | tenure &lt;dbl&gt; | PhoneServiceNo &lt;dbl&gt; | PhoneServiceYes &lt;dbl&gt; | ... ... | PaperlessBillingNo &lt;dbl&gt; | PaperlessBillingYes &lt;dbl&gt; | PaymentMethodBank.transfer..automatic. &lt;dbl&gt; | PaymentMethodCredit.card..automatic. &lt;dbl&gt; | PaymentMethodElectronic.check &lt;dbl&gt; | PaymentMethodMailed.check &lt;dbl&gt; | MonthlyCharges &lt;dbl&gt; | TotalCharges &lt;dbl&gt; | ChurnNo &lt;dbl&gt; | ChurnYes &lt;dbl&gt; |\n",
       "|---|---|---|---|---|---|---|---|---|---|---|---|---|---|---|---|---|---|---|---|---|---|\n",
       "| 1 | 1 | 0 | 0 | 0 | 1 | 1 | 0 |  1 | 1 | 0 | ... | 0 | 1 | 0 | 0 | 1 | 0 | 29.85 |   29.85 | 1 | 0 |\n",
       "| 2 | 0 | 1 | 0 | 1 | 0 | 1 | 0 | 34 | 0 | 1 | ... | 1 | 0 | 0 | 0 | 0 | 1 | 56.95 | 1889.50 | 1 | 0 |\n",
       "| 3 | 0 | 1 | 0 | 1 | 0 | 1 | 0 |  2 | 0 | 1 | ... | 0 | 1 | 0 | 0 | 0 | 1 | 53.85 |  108.15 | 0 | 1 |\n",
       "| 4 | 0 | 1 | 0 | 1 | 0 | 1 | 0 | 45 | 1 | 0 | ... | 1 | 0 | 1 | 0 | 0 | 0 | 42.30 | 1840.75 | 1 | 0 |\n",
       "| 5 | 1 | 0 | 0 | 1 | 0 | 1 | 0 |  2 | 0 | 1 | ... | 0 | 1 | 0 | 0 | 1 | 0 | 70.70 |  151.65 | 0 | 1 |\n",
       "| 6 | 1 | 0 | 0 | 1 | 0 | 1 | 0 |  8 | 0 | 1 | ... | 0 | 1 | 0 | 0 | 1 | 0 | 99.65 |  820.50 | 0 | 1 |\n",
       "\n"
      ],
      "text/plain": [
       "  genderFemale genderMale SeniorCitizen PartnerNo PartnerYes DependentsNo\n",
       "1 1            0          0             0         1          1           \n",
       "2 0            1          0             1         0          1           \n",
       "3 0            1          0             1         0          1           \n",
       "4 0            1          0             1         0          1           \n",
       "5 1            0          0             1         0          1           \n",
       "6 1            0          0             1         0          1           \n",
       "  DependentsYes tenure PhoneServiceNo PhoneServiceYes ... PaperlessBillingNo\n",
       "1 0              1     1              0               ... 0                 \n",
       "2 0             34     0              1               ... 1                 \n",
       "3 0              2     0              1               ... 0                 \n",
       "4 0             45     1              0               ... 1                 \n",
       "5 0              2     0              1               ... 0                 \n",
       "6 0              8     0              1               ... 0                 \n",
       "  PaperlessBillingYes PaymentMethodBank.transfer..automatic.\n",
       "1 1                   0                                     \n",
       "2 0                   0                                     \n",
       "3 1                   0                                     \n",
       "4 0                   1                                     \n",
       "5 1                   0                                     \n",
       "6 1                   0                                     \n",
       "  PaymentMethodCredit.card..automatic. PaymentMethodElectronic.check\n",
       "1 0                                    1                            \n",
       "2 0                                    0                            \n",
       "3 0                                    0                            \n",
       "4 0                                    0                            \n",
       "5 0                                    1                            \n",
       "6 0                                    1                            \n",
       "  PaymentMethodMailed.check MonthlyCharges TotalCharges ChurnNo ChurnYes\n",
       "1 0                         29.85            29.85      1       0       \n",
       "2 1                         56.95          1889.50      1       0       \n",
       "3 1                         53.85           108.15      0       1       \n",
       "4 0                         42.30          1840.75      1       0       \n",
       "5 0                         70.70           151.65      0       1       \n",
       "6 0                         99.65           820.50      0       1       "
      ]
     },
     "metadata": {},
     "output_type": "display_data"
    }
   ],
   "source": [
    "dummy <- dummyVars(\" ~. -customerID\", data = data)\n",
    "new_df <- data.frame(predict(dummy, newdata = data)) # precit dummy variables and\n",
    "new_df %>% head()"
   ]
  },
  {
   "cell_type": "code",
   "execution_count": 123,
   "id": "5ac04e2f-986c-4d7c-adfd-eb3d8894f307",
   "metadata": {},
   "outputs": [
    {
     "data": {
      "text/html": [
       "47"
      ],
      "text/latex": [
       "47"
      ],
      "text/markdown": [
       "47"
      ],
      "text/plain": [
       "[1] 47"
      ]
     },
     "metadata": {},
     "output_type": "display_data"
    }
   ],
   "source": [
    "ncol(new_df)"
   ]
  },
  {
   "cell_type": "markdown",
   "id": "6efdb890-1356-4cb2-8fb8-66dd1829f70d",
   "metadata": {},
   "source": [
    "## Histogram"
   ]
  },
  {
   "cell_type": "code",
   "execution_count": 136,
   "id": "e517bdf1-00c6-45f6-ad28-4070faf8d808",
   "metadata": {},
   "outputs": [
    {
     "name": "stdout",
     "output_type": "stream",
     "text": [
      "'data.frame':\t7043 obs. of  21 variables:\n",
      " $ customerID      : chr  \"7590-VHVEG\" \"5575-GNVDE\" \"3668-QPYBK\" \"7795-CFOCW\" ...\n",
      " $ gender          : chr  \"Female\" \"Male\" \"Male\" \"Male\" ...\n",
      " $ SeniorCitizen   : int  0 0 0 0 0 0 0 0 0 0 ...\n",
      " $ Partner         : chr  \"Yes\" \"No\" \"No\" \"No\" ...\n",
      " $ Dependents      : chr  \"No\" \"No\" \"No\" \"No\" ...\n",
      " $ tenure          : int  1 34 2 45 2 8 22 10 28 62 ...\n",
      " $ PhoneService    : chr  \"No\" \"Yes\" \"Yes\" \"No\" ...\n",
      " $ MultipleLines   : chr  \"No phone service\" \"No\" \"No\" \"No phone service\" ...\n",
      " $ InternetService : chr  \"DSL\" \"DSL\" \"DSL\" \"DSL\" ...\n",
      " $ OnlineSecurity  : chr  \"No\" \"Yes\" \"Yes\" \"Yes\" ...\n",
      " $ OnlineBackup    : chr  \"Yes\" \"No\" \"Yes\" \"No\" ...\n",
      " $ DeviceProtection: chr  \"No\" \"Yes\" \"No\" \"Yes\" ...\n",
      " $ TechSupport     : chr  \"No\" \"No\" \"No\" \"Yes\" ...\n",
      " $ StreamingTV     : chr  \"No\" \"No\" \"No\" \"No\" ...\n",
      " $ StreamingMovies : chr  \"No\" \"No\" \"No\" \"No\" ...\n",
      " $ Contract        : chr  \"Month-to-month\" \"One year\" \"Month-to-month\" \"One year\" ...\n",
      " $ PaperlessBilling: chr  \"Yes\" \"No\" \"Yes\" \"No\" ...\n",
      " $ PaymentMethod   : chr  \"Electronic check\" \"Mailed check\" \"Mailed check\" \"Bank transfer (automatic)\" ...\n",
      " $ MonthlyCharges  : num  29.9 57 53.9 42.3 70.7 ...\n",
      " $ TotalCharges    : num  29.9 1889.5 108.2 1840.8 151.7 ...\n",
      " $ Churn           : chr  \"No\" \"No\" \"Yes\" \"No\" ...\n"
     ]
    }
   ],
   "source": [
    "data <- read.csv(\"data/WA_Fn-UseC_-Telco-Customer-Churn.csv\")\n",
    "str(data)"
   ]
  },
  {
   "cell_type": "code",
   "execution_count": 138,
   "id": "317ac891-d5f1-447f-a177-fc9bb24e69cf",
   "metadata": {},
   "outputs": [
    {
     "data": {
      "image/png": "[encoded data removed]",
      "text/plain": [
       "plot without title"
      ]
     },
     "metadata": {
      "image/png": {
       "height": 420,
       "width": 420
      }
     },
     "output_type": "display_data"
    }
   ],
   "source": [
    "hist <- ggplot(data, aes(x = MonthlyCharges)) +\n",
    "     geom_histogram(bins = 15)\n",
    "hist"
   ]
  },
  {
   "cell_type": "code",
   "execution_count": 141,
   "id": "8704801a-d0ca-404e-a14b-6a80f9d3fd0b",
   "metadata": {},
   "outputs": [
    {
     "data": {
      "image/png": "[encoded data removed]",
      "text/plain": [
       "plot without title"
      ]
     },
     "metadata": {
      "image/png": {
       "height": 420,
       "width": 420
      }
     },
     "output_type": "display_data"
    }
   ],
   "source": [
    "bar <- ggplot(data, aes(x = gender, fill=gender)) +\n",
    "     geom_bar()\n",
    "bar"
   ]
  },
  {
   "cell_type": "code",
   "execution_count": 147,
   "id": "40ec4d69-206a-418a-92e3-78cf67beed0e",
   "metadata": {},
   "outputs": [
    {
     "name": "stderr",
     "output_type": "stream",
     "text": [
      "Warning message:\n",
      "\"\u001b[1m\u001b[22mRemoved 11 rows containing non-finite values (`stat_boxplot()`).\"\n"
     ]
    },
    {
     "data": {
      "image/png": "[encoded data removed]",
      "text/plain": [
       "plot without title"
      ]
     },
     "metadata": {
      "image/png": {
       "height": 420,
       "width": 420
      }
     },
     "output_type": "display_data"
    }
   ],
   "source": [
    "ggplot(data, aes(TotalCharges, InternetService)) + geom_boxplot()"
   ]
  },
  {
   "cell_type": "code",
   "execution_count": 149,
   "id": "695dbcbd-13b1-46ce-b557-3a22226ac64a",
   "metadata": {},
   "outputs": [],
   "source": [
    "library(Hmisc)"
   ]
  },
  {
   "cell_type": "code",
   "execution_count": 152,
   "id": "c35aa274-ccd8-462f-bd5c-4fc689810e2a",
   "metadata": {},
   "outputs": [
    {
     "data": {
      "text/plain": [
       "data \n",
       "\n",
       " 21  Variables      7043  Observations\n",
       "--------------------------------------------------------------------------------\n",
       "customerID \n",
       "       n  missing distinct \n",
       "    7043        0     7043 \n",
       "\n",
       "lowest : 0002-ORFBO 0003-MKNFE 0004-TLHLJ 0011-IGKFF 0013-EXCHZ\n",
       "highest: 9987-LUTYD 9992-RRAMN 9992-UJOEL 9993-LHIEB 9995-HOTOH\n",
       "--------------------------------------------------------------------------------\n",
       "gender \n",
       "       n  missing distinct \n",
       "    7043        0        2 \n",
       "                        \n",
       "Value      Female   Male\n",
       "Frequency    3488   3555\n",
       "Proportion  0.495  0.505\n",
       "--------------------------------------------------------------------------------\n",
       "SeniorCitizen \n",
       "       n  missing distinct     Info      Sum     Mean      Gmd \n",
       "    7043        0        2    0.408     1142   0.1621   0.2717 \n",
       "\n",
       "--------------------------------------------------------------------------------\n",
       "Partner \n",
       "       n  missing distinct \n",
       "    7043        0        2 \n",
       "                      \n",
       "Value         No   Yes\n",
       "Frequency   3641  3402\n",
       "Proportion 0.517 0.483\n",
       "--------------------------------------------------------------------------------\n",
       "Dependents \n",
       "       n  missing distinct \n",
       "    7043        0        2 \n",
       "                    \n",
       "Value        No  Yes\n",
       "Frequency  4933 2110\n",
       "Proportion  0.7  0.3\n",
       "--------------------------------------------------------------------------------\n",
       "tenure \n",
       "       n  missing distinct     Info     Mean      Gmd      .05      .10 \n",
       "    7043        0       73    0.999    32.37    28.08        1        2 \n",
       "     .25      .50      .75      .90      .95 \n",
       "       9       29       55       69       72 \n",
       "\n",
       "lowest :  0  1  2  3  4, highest: 68 69 70 71 72\n",
       "--------------------------------------------------------------------------------\n",
       "PhoneService \n",
       "       n  missing distinct \n",
       "    7043        0        2 \n",
       "                      \n",
       "Value         No   Yes\n",
       "Frequency    682  6361\n",
       "Proportion 0.097 0.903\n",
       "--------------------------------------------------------------------------------\n",
       "MultipleLines \n",
       "       n  missing distinct \n",
       "    7043        0        3 \n",
       "                                                             \n",
       "Value                    No No phone service              Yes\n",
       "Frequency              3390              682             2971\n",
       "Proportion            0.481            0.097            0.422\n",
       "--------------------------------------------------------------------------------\n",
       "InternetService \n",
       "       n  missing distinct \n",
       "    7043        0        3 \n",
       "                                              \n",
       "Value              DSL Fiber optic          No\n",
       "Frequency         2421        3096        1526\n",
       "Proportion       0.344       0.440       0.217\n",
       "--------------------------------------------------------------------------------\n",
       "OnlineSecurity \n",
       "       n  missing distinct \n",
       "    7043        0        3 \n",
       "                                                                      \n",
       "Value                       No No internet service                 Yes\n",
       "Frequency                 3498                1526                2019\n",
       "Proportion               0.497               0.217               0.287\n",
       "--------------------------------------------------------------------------------\n",
       "OnlineBackup \n",
       "       n  missing distinct \n",
       "    7043        0        3 \n",
       "                                                                      \n",
       "Value                       No No internet service                 Yes\n",
       "Frequency                 3088                1526                2429\n",
       "Proportion               0.438               0.217               0.345\n",
       "--------------------------------------------------------------------------------\n",
       "DeviceProtection \n",
       "       n  missing distinct \n",
       "    7043        0        3 \n",
       "                                                                      \n",
       "Value                       No No internet service                 Yes\n",
       "Frequency                 3095                1526                2422\n",
       "Proportion               0.439               0.217               0.344\n",
       "--------------------------------------------------------------------------------\n",
       "TechSupport \n",
       "       n  missing distinct \n",
       "    7043        0        3 \n",
       "                                                                      \n",
       "Value                       No No internet service                 Yes\n",
       "Frequency                 3473                1526                2044\n",
       "Proportion               0.493               0.217               0.290\n",
       "--------------------------------------------------------------------------------\n",
       "StreamingTV \n",
       "       n  missing distinct \n",
       "    7043        0        3 \n",
       "                                                                      \n",
       "Value                       No No internet service                 Yes\n",
       "Frequency                 2810                1526                2707\n",
       "Proportion               0.399               0.217               0.384\n",
       "--------------------------------------------------------------------------------\n",
       "StreamingMovies \n",
       "       n  missing distinct \n",
       "    7043        0        3 \n",
       "                                                                      \n",
       "Value                       No No internet service                 Yes\n",
       "Frequency                 2785                1526                2732\n",
       "Proportion               0.395               0.217               0.388\n",
       "--------------------------------------------------------------------------------\n",
       "Contract \n",
       "       n  missing distinct \n",
       "    7043        0        3 \n",
       "                                                       \n",
       "Value      Month-to-month       One year       Two year\n",
       "Frequency            3875           1473           1695\n",
       "Proportion          0.550          0.209          0.241\n",
       "--------------------------------------------------------------------------------\n",
       "PaperlessBilling \n",
       "       n  missing distinct \n",
       "    7043        0        2 \n",
       "                      \n",
       "Value         No   Yes\n",
       "Frequency   2872  4171\n",
       "Proportion 0.408 0.592\n",
       "--------------------------------------------------------------------------------\n",
       "PaymentMethod \n",
       "       n  missing distinct \n",
       "    7043        0        4 \n",
       "                                                              \n",
       "Value      Bank transfer (automatic)   Credit card (automatic)\n",
       "Frequency                       1544                      1522\n",
       "Proportion                     0.219                     0.216\n",
       "                                                              \n",
       "Value               Electronic check              Mailed check\n",
       "Frequency                       2365                      1612\n",
       "Proportion                     0.336                     0.229\n",
       "--------------------------------------------------------------------------------\n",
       "MonthlyCharges \n",
       "       n  missing distinct     Info     Mean      Gmd      .05      .10 \n",
       "    7043        0     1585        1    64.76    34.39    19.65    20.05 \n",
       "     .25      .50      .75      .90      .95 \n",
       "   35.50    70.35    89.85   102.60   107.40 \n",
       "\n",
       "lowest :  18.25  18.40  18.55  18.70  18.75, highest: 118.20 118.35 118.60 118.65 118.75\n",
       "--------------------------------------------------------------------------------\n",
       "TotalCharges \n",
       "       n  missing distinct     Info     Mean      Gmd      .05      .10 \n",
       "    7032       11     6530        1     2283     2449     49.6     84.6 \n",
       "     .25      .50      .75      .90      .95 \n",
       "   401.4   1397.5   3794.7   5976.6   6923.6 \n",
       "\n",
       "lowest :   18.80   18.85   18.90   19.00   19.05\n",
       "highest: 8564.75 8594.40 8670.10 8672.45 8684.80\n",
       "--------------------------------------------------------------------------------\n",
       "Churn \n",
       "       n  missing distinct \n",
       "    7043        0        2 \n",
       "                      \n",
       "Value         No   Yes\n",
       "Frequency   5174  1869\n",
       "Proportion 0.735 0.265\n",
       "--------------------------------------------------------------------------------"
      ]
     },
     "metadata": {},
     "output_type": "display_data"
    }
   ],
   "source": [
    "describe(data)"
   ]
  },
  {
   "cell_type": "code",
   "execution_count": 156,
   "id": "43bfcc88-4684-4ebc-bd92-4a43298fa8dd",
   "metadata": {},
   "outputs": [],
   "source": [
    "library(psych)"
   ]
  },
  {
   "cell_type": "code",
   "execution_count": 157,
   "id": "2c87bad5-a31e-4bb6-a26b-16c8c2735c5b",
   "metadata": {},
   "outputs": [
    {
     "data": {
      "text/html": [
       "<table class=\"dataframe\">\n",
       "<caption>A psych: 21 x 13</caption>\n",
       "<thead>\n",
       "\t<tr><th></th><th scope=col>vars</th><th scope=col>n</th><th scope=col>mean</th><th scope=col>sd</th><th scope=col>median</th><th scope=col>trimmed</th><th scope=col>mad</th><th scope=col>min</th><th scope=col>max</th><th scope=col>range</th><th scope=col>skew</th><th scope=col>kurtosis</th><th scope=col>se</th></tr>\n",
       "\t<tr><th></th><th scope=col>&lt;int&gt;</th><th scope=col>&lt;dbl&gt;</th><th scope=col>&lt;dbl&gt;</th><th scope=col>&lt;dbl&gt;</th><th scope=col>&lt;dbl&gt;</th><th scope=col>&lt;dbl&gt;</th><th scope=col>&lt;dbl&gt;</th><th scope=col>&lt;dbl&gt;</th><th scope=col>&lt;dbl&gt;</th><th scope=col>&lt;dbl&gt;</th><th scope=col>&lt;dbl&gt;</th><th scope=col>&lt;dbl&gt;</th><th scope=col>&lt;dbl&gt;</th></tr>\n",
       "</thead>\n",
       "<tbody>\n",
       "\t<tr><th scope=row>customerID*</th><td> 1</td><td>7043</td><td>3522.0000000</td><td>2033.2833054</td><td>3522.000</td><td>3.522000e+03</td><td>2610.85860</td><td> 1.00</td><td>7043.00</td><td>7042.0</td><td> 0.00000000</td><td>-1.2005112</td><td>24.228082879</td></tr>\n",
       "\t<tr><th scope=row>gender*</th><td> 2</td><td>7043</td><td>   1.5047565</td><td>   0.5000129</td><td>   2.000</td><td>1.505945e+00</td><td>   0.00000</td><td> 1.00</td><td>   2.00</td><td>   1.0</td><td>-0.01902279</td><td>-1.9999220</td><td> 0.005958025</td></tr>\n",
       "\t<tr><th scope=row>SeniorCitizen</th><td> 3</td><td>7043</td><td>   0.1621468</td><td>   0.3686116</td><td>   0.000</td><td>7.772848e-02</td><td>   0.00000</td><td> 0.00</td><td>   1.00</td><td>   1.0</td><td> 1.83285177</td><td> 1.3595387</td><td> 0.004392281</td></tr>\n",
       "\t<tr><th scope=row>Partner*</th><td> 4</td><td>7043</td><td>   1.4830328</td><td>   0.4997475</td><td>   1.000</td><td>1.478793e+00</td><td>   0.00000</td><td> 1.00</td><td>   2.00</td><td>   1.0</td><td> 0.06789345</td><td>-1.9956738</td><td> 0.005954863</td></tr>\n",
       "\t<tr><th scope=row>Dependents*</th><td> 5</td><td>7043</td><td>   1.2995882</td><td>   0.4581102</td><td>   1.000</td><td>1.249512e+00</td><td>   0.00000</td><td> 1.00</td><td>   2.00</td><td>   1.0</td><td> 0.87482582</td><td>-1.2348551</td><td> 0.005458723</td></tr>\n",
       "\t<tr><th scope=row>tenure</th><td> 6</td><td>7043</td><td>  32.3711487</td><td>  24.5594810</td><td>  29.000</td><td>3.142786e+01</td><td>  32.61720</td><td> 0.00</td><td>  72.00</td><td>  72.0</td><td> 0.23943773</td><td>-1.3876966</td><td> 0.292644483</td></tr>\n",
       "\t<tr><th scope=row>PhoneService*</th><td> 7</td><td>7043</td><td>   1.9031663</td><td>   0.2957522</td><td>   2.000</td><td>2.000000e+00</td><td>   0.00000</td><td> 1.00</td><td>   2.00</td><td>   1.0</td><td>-2.72599140</td><td> 5.4318004</td><td> 0.003524108</td></tr>\n",
       "\t<tr><th scope=row>MultipleLines*</th><td> 8</td><td>7043</td><td>   1.9405083</td><td>   0.9485540</td><td>   2.000</td><td>1.925643e+00</td><td>   1.48260</td><td> 1.00</td><td>   3.00</td><td>   2.0</td><td> 0.11866889</td><td>-1.8782148</td><td> 0.011302727</td></tr>\n",
       "\t<tr><th scope=row>InternetService*</th><td> 9</td><td>7043</td><td>   1.8729235</td><td>   0.7377963</td><td>   2.000</td><td>1.841171e+00</td><td>   1.48260</td><td> 1.00</td><td>   3.00</td><td>   2.0</td><td> 0.20533596</td><td>-1.1460705</td><td> 0.008791392</td></tr>\n",
       "\t<tr><th scope=row>OnlineSecurity*</th><td>10</td><td>7043</td><td>   1.7900043</td><td>   0.8598475</td><td>   2.000</td><td>1.737533e+00</td><td>   1.48260</td><td> 1.00</td><td>   3.00</td><td>   2.0</td><td> 0.41680747</td><td>-1.5211578</td><td> 0.010245723</td></tr>\n",
       "\t<tr><th scope=row>OnlineBackup*</th><td>11</td><td>7043</td><td>   1.9064319</td><td>   0.8801625</td><td>   2.000</td><td>1.883052e+00</td><td>   1.48260</td><td> 1.00</td><td>   3.00</td><td>   2.0</td><td> 0.18285247</td><td>-1.6849210</td><td> 0.010487790</td></tr>\n",
       "\t<tr><th scope=row>DeviceProtection*</th><td>12</td><td>7043</td><td>   1.9044441</td><td>   0.8799489</td><td>   2.000</td><td>1.880568e+00</td><td>   1.48260</td><td> 1.00</td><td>   3.00</td><td>   2.0</td><td> 0.18676763</td><td>-1.6832382</td><td> 0.010485245</td></tr>\n",
       "\t<tr><th scope=row>TechSupport*</th><td>13</td><td>7043</td><td>   1.7971035</td><td>   0.8615506</td><td>   2.000</td><td>1.746406e+00</td><td>   1.48260</td><td> 1.00</td><td>   3.00</td><td>   2.0</td><td> 0.40219313</td><td>-1.5351795</td><td> 0.010266016</td></tr>\n",
       "\t<tr><th scope=row>StreamingTV*</th><td>14</td><td>7043</td><td>   1.9853756</td><td>   0.8850019</td><td>   2.000</td><td>1.981721e+00</td><td>   1.48260</td><td> 1.00</td><td>   3.00</td><td>   2.0</td><td> 0.02847350</td><td>-1.7228219</td><td> 0.010545455</td></tr>\n",
       "\t<tr><th scope=row>StreamingMovies*</th><td>15</td><td>7043</td><td>   1.9924748</td><td>   0.8850907</td><td>   2.000</td><td>1.990594e+00</td><td>   1.48260</td><td> 1.00</td><td>   3.00</td><td>   2.0</td><td> 0.01465041</td><td>-1.7235138</td><td> 0.010546514</td></tr>\n",
       "\t<tr><th scope=row>Contract*</th><td>16</td><td>7043</td><td>   1.6904728</td><td>   0.8337552</td><td>   1.000</td><td>1.613132e+00</td><td>   0.00000</td><td> 1.00</td><td>   3.00</td><td>   2.0</td><td> 0.63069036</td><td>-1.2726490</td><td> 0.009934814</td></tr>\n",
       "\t<tr><th scope=row>PaperlessBilling*</th><td>17</td><td>7043</td><td>   1.5922192</td><td>   0.4914569</td><td>   2.000</td><td>1.615262e+00</td><td>   0.00000</td><td> 1.00</td><td>   2.00</td><td>   1.0</td><td>-0.37523586</td><td>-1.8594620</td><td> 0.005856075</td></tr>\n",
       "\t<tr><th scope=row>PaymentMethod*</th><td>18</td><td>7043</td><td>   2.5743291</td><td>   1.0681040</td><td>   3.000</td><td>2.592902e+00</td><td>   1.48260</td><td> 1.00</td><td>   4.00</td><td>   3.0</td><td>-0.17005696</td><td>-1.2122656</td><td> 0.012727254</td></tr>\n",
       "\t<tr><th scope=row>MonthlyCharges</th><td>19</td><td>7043</td><td>  64.7616925</td><td>  30.0900471</td><td>  70.350</td><td>6.496565e+01</td><td>  35.65653</td><td>18.25</td><td> 118.75</td><td> 100.5</td><td>-0.22043051</td><td>-1.2577140</td><td> 0.358545291</td></tr>\n",
       "\t<tr><th scope=row>TotalCharges</th><td>20</td><td>7032</td><td>2283.3004408</td><td>2266.7713619</td><td>1397.475</td><td>1.970140e+03</td><td>1812.92328</td><td>18.80</td><td>8684.80</td><td>8666.0</td><td> 0.96123228</td><td>-0.2332742</td><td>27.031384256</td></tr>\n",
       "\t<tr><th scope=row>Churn*</th><td>21</td><td>7043</td><td>   1.2653699</td><td>   0.4415613</td><td>   1.000</td><td>1.206744e+00</td><td>   0.00000</td><td> 1.00</td><td>   2.00</td><td>   1.0</td><td> 1.06257868</td><td>-0.8710502</td><td> 0.005261531</td></tr>\n",
       "</tbody>\n",
       "</table>\n"
      ],
      "text/latex": [
       "A psych: 21 x 13\n",
       "\\begin{tabular}{r|lllllllllllll}\n",
       "  & vars & n & mean & sd & median & trimmed & mad & min & max & range & skew & kurtosis & se\\\\\n",
       "  & <int> & <dbl> & <dbl> & <dbl> & <dbl> & <dbl> & <dbl> & <dbl> & <dbl> & <dbl> & <dbl> & <dbl> & <dbl>\\\\\n",
       "\\hline\n",
       "\tcustomerID* &  1 & 7043 & 3522.0000000 & 2033.2833054 & 3522.000 & 3.522000e+03 & 2610.85860 &  1.00 & 7043.00 & 7042.0 &  0.00000000 & -1.2005112 & 24.228082879\\\\\n",
       "\tgender* &  2 & 7043 &    1.5047565 &    0.5000129 &    2.000 & 1.505945e+00 &    0.00000 &  1.00 &    2.00 &    1.0 & -0.01902279 & -1.9999220 &  0.005958025\\\\\n",
       "\tSeniorCitizen &  3 & 7043 &    0.1621468 &    0.3686116 &    0.000 & 7.772848e-02 &    0.00000 &  0.00 &    1.00 &    1.0 &  1.83285177 &  1.3595387 &  0.004392281\\\\\n",
       "\tPartner* &  4 & 7043 &    1.4830328 &    0.4997475 &    1.000 & 1.478793e+00 &    0.00000 &  1.00 &    2.00 &    1.0 &  0.06789345 & -1.9956738 &  0.005954863\\\\\n",
       "\tDependents* &  5 & 7043 &    1.2995882 &    0.4581102 &    1.000 & 1.249512e+00 &    0.00000 &  1.00 &    2.00 &    1.0 &  0.87482582 & -1.2348551 &  0.005458723\\\\\n",
       "\ttenure &  6 & 7043 &   32.3711487 &   24.5594810 &   29.000 & 3.142786e+01 &   32.61720 &  0.00 &   72.00 &   72.0 &  0.23943773 & -1.3876966 &  0.292644483\\\\\n",
       "\tPhoneService* &  7 & 7043 &    1.9031663 &    0.2957522 &    2.000 & 2.000000e+00 &    0.00000 &  1.00 &    2.00 &    1.0 & -2.72599140 &  5.4318004 &  0.003524108\\\\\n",
       "\tMultipleLines* &  8 & 7043 &    1.9405083 &    0.9485540 &    2.000 & 1.925643e+00 &    1.48260 &  1.00 &    3.00 &    2.0 &  0.11866889 & -1.8782148 &  0.011302727\\\\\n",
       "\tInternetService* &  9 & 7043 &    1.8729235 &    0.7377963 &    2.000 & 1.841171e+00 &    1.48260 &  1.00 &    3.00 &    2.0 &  0.20533596 & -1.1460705 &  0.008791392\\\\\n",
       "\tOnlineSecurity* & 10 & 7043 &    1.7900043 &    0.8598475 &    2.000 & 1.737533e+00 &    1.48260 &  1.00 &    3.00 &    2.0 &  0.41680747 & -1.5211578 &  0.010245723\\\\\n",
       "\tOnlineBackup* & 11 & 7043 &    1.9064319 &    0.8801625 &    2.000 & 1.883052e+00 &    1.48260 &  1.00 &    3.00 &    2.0 &  0.18285247 & -1.6849210 &  0.010487790\\\\\n",
       "\tDeviceProtection* & 12 & 7043 &    1.9044441 &    0.8799489 &    2.000 & 1.880568e+00 &    1.48260 &  1.00 &    3.00 &    2.0 &  0.18676763 & -1.6832382 &  0.010485245\\\\\n",
       "\tTechSupport* & 13 & 7043 &    1.7971035 &    0.8615506 &    2.000 & 1.746406e+00 &    1.48260 &  1.00 &    3.00 &    2.0 &  0.40219313 & -1.5351795 &  0.010266016\\\\\n",
       "\tStreamingTV* & 14 & 7043 &    1.9853756 &    0.8850019 &    2.000 & 1.981721e+00 &    1.48260 &  1.00 &    3.00 &    2.0 &  0.02847350 & -1.7228219 &  0.010545455\\\\\n",
       "\tStreamingMovies* & 15 & 7043 &    1.9924748 &    0.8850907 &    2.000 & 1.990594e+00 &    1.48260 &  1.00 &    3.00 &    2.0 &  0.01465041 & -1.7235138 &  0.010546514\\\\\n",
       "\tContract* & 16 & 7043 &    1.6904728 &    0.8337552 &    1.000 & 1.613132e+00 &    0.00000 &  1.00 &    3.00 &    2.0 &  0.63069036 & -1.2726490 &  0.009934814\\\\\n",
       "\tPaperlessBilling* & 17 & 7043 &    1.5922192 &    0.4914569 &    2.000 & 1.615262e+00 &    0.00000 &  1.00 &    2.00 &    1.0 & -0.37523586 & -1.8594620 &  0.005856075\\\\\n",
       "\tPaymentMethod* & 18 & 7043 &    2.5743291 &    1.0681040 &    3.000 & 2.592902e+00 &    1.48260 &  1.00 &    4.00 &    3.0 & -0.17005696 & -1.2122656 &  0.012727254\\\\\n",
       "\tMonthlyCharges & 19 & 7043 &   64.7616925 &   30.0900471 &   70.350 & 6.496565e+01 &   35.65653 & 18.25 &  118.75 &  100.5 & -0.22043051 & -1.2577140 &  0.358545291\\\\\n",
       "\tTotalCharges & 20 & 7032 & 2283.3004408 & 2266.7713619 & 1397.475 & 1.970140e+03 & 1812.92328 & 18.80 & 8684.80 & 8666.0 &  0.96123228 & -0.2332742 & 27.031384256\\\\\n",
       "\tChurn* & 21 & 7043 &    1.2653699 &    0.4415613 &    1.000 & 1.206744e+00 &    0.00000 &  1.00 &    2.00 &    1.0 &  1.06257868 & -0.8710502 &  0.005261531\\\\\n",
       "\\end{tabular}\n"
      ],
      "text/markdown": [
       "\n",
       "A psych: 21 x 13\n",
       "\n",
       "| <!--/--> | vars &lt;int&gt; | n &lt;dbl&gt; | mean &lt;dbl&gt; | sd &lt;dbl&gt; | median &lt;dbl&gt; | trimmed &lt;dbl&gt; | mad &lt;dbl&gt; | min &lt;dbl&gt; | max &lt;dbl&gt; | range &lt;dbl&gt; | skew &lt;dbl&gt; | kurtosis &lt;dbl&gt; | se &lt;dbl&gt; |\n",
       "|---|---|---|---|---|---|---|---|---|---|---|---|---|---|\n",
       "| customerID* |  1 | 7043 | 3522.0000000 | 2033.2833054 | 3522.000 | 3.522000e+03 | 2610.85860 |  1.00 | 7043.00 | 7042.0 |  0.00000000 | -1.2005112 | 24.228082879 |\n",
       "| gender* |  2 | 7043 |    1.5047565 |    0.5000129 |    2.000 | 1.505945e+00 |    0.00000 |  1.00 |    2.00 |    1.0 | -0.01902279 | -1.9999220 |  0.005958025 |\n",
       "| SeniorCitizen |  3 | 7043 |    0.1621468 |    0.3686116 |    0.000 | 7.772848e-02 |    0.00000 |  0.00 |    1.00 |    1.0 |  1.83285177 |  1.3595387 |  0.004392281 |\n",
       "| Partner* |  4 | 7043 |    1.4830328 |    0.4997475 |    1.000 | 1.478793e+00 |    0.00000 |  1.00 |    2.00 |    1.0 |  0.06789345 | -1.9956738 |  0.005954863 |\n",
       "| Dependents* |  5 | 7043 |    1.2995882 |    0.4581102 |    1.000 | 1.249512e+00 |    0.00000 |  1.00 |    2.00 |    1.0 |  0.87482582 | -1.2348551 |  0.005458723 |\n",
       "| tenure |  6 | 7043 |   32.3711487 |   24.5594810 |   29.000 | 3.142786e+01 |   32.61720 |  0.00 |   72.00 |   72.0 |  0.23943773 | -1.3876966 |  0.292644483 |\n",
       "| PhoneService* |  7 | 7043 |    1.9031663 |    0.2957522 |    2.000 | 2.000000e+00 |    0.00000 |  1.00 |    2.00 |    1.0 | -2.72599140 |  5.4318004 |  0.003524108 |\n",
       "| MultipleLines* |  8 | 7043 |    1.9405083 |    0.9485540 |    2.000 | 1.925643e+00 |    1.48260 |  1.00 |    3.00 |    2.0 |  0.11866889 | -1.8782148 |  0.011302727 |\n",
       "| InternetService* |  9 | 7043 |    1.8729235 |    0.7377963 |    2.000 | 1.841171e+00 |    1.48260 |  1.00 |    3.00 |    2.0 |  0.20533596 | -1.1460705 |  0.008791392 |\n",
       "| OnlineSecurity* | 10 | 7043 |    1.7900043 |    0.8598475 |    2.000 | 1.737533e+00 |    1.48260 |  1.00 |    3.00 |    2.0 |  0.41680747 | -1.5211578 |  0.010245723 |\n",
       "| OnlineBackup* | 11 | 7043 |    1.9064319 |    0.8801625 |    2.000 | 1.883052e+00 |    1.48260 |  1.00 |    3.00 |    2.0 |  0.18285247 | -1.6849210 |  0.010487790 |\n",
       "| DeviceProtection* | 12 | 7043 |    1.9044441 |    0.8799489 |    2.000 | 1.880568e+00 |    1.48260 |  1.00 |    3.00 |    2.0 |  0.18676763 | -1.6832382 |  0.010485245 |\n",
       "| TechSupport* | 13 | 7043 |    1.7971035 |    0.8615506 |    2.000 | 1.746406e+00 |    1.48260 |  1.00 |    3.00 |    2.0 |  0.40219313 | -1.5351795 |  0.010266016 |\n",
       "| StreamingTV* | 14 | 7043 |    1.9853756 |    0.8850019 |    2.000 | 1.981721e+00 |    1.48260 |  1.00 |    3.00 |    2.0 |  0.02847350 | -1.7228219 |  0.010545455 |\n",
       "| StreamingMovies* | 15 | 7043 |    1.9924748 |    0.8850907 |    2.000 | 1.990594e+00 |    1.48260 |  1.00 |    3.00 |    2.0 |  0.01465041 | -1.7235138 |  0.010546514 |\n",
       "| Contract* | 16 | 7043 |    1.6904728 |    0.8337552 |    1.000 | 1.613132e+00 |    0.00000 |  1.00 |    3.00 |    2.0 |  0.63069036 | -1.2726490 |  0.009934814 |\n",
       "| PaperlessBilling* | 17 | 7043 |    1.5922192 |    0.4914569 |    2.000 | 1.615262e+00 |    0.00000 |  1.00 |    2.00 |    1.0 | -0.37523586 | -1.8594620 |  0.005856075 |\n",
       "| PaymentMethod* | 18 | 7043 |    2.5743291 |    1.0681040 |    3.000 | 2.592902e+00 |    1.48260 |  1.00 |    4.00 |    3.0 | -0.17005696 | -1.2122656 |  0.012727254 |\n",
       "| MonthlyCharges | 19 | 7043 |   64.7616925 |   30.0900471 |   70.350 | 6.496565e+01 |   35.65653 | 18.25 |  118.75 |  100.5 | -0.22043051 | -1.2577140 |  0.358545291 |\n",
       "| TotalCharges | 20 | 7032 | 2283.3004408 | 2266.7713619 | 1397.475 | 1.970140e+03 | 1812.92328 | 18.80 | 8684.80 | 8666.0 |  0.96123228 | -0.2332742 | 27.031384256 |\n",
       "| Churn* | 21 | 7043 |    1.2653699 |    0.4415613 |    1.000 | 1.206744e+00 |    0.00000 |  1.00 |    2.00 |    1.0 |  1.06257868 | -0.8710502 |  0.005261531 |\n",
       "\n"
      ],
      "text/plain": [
       "                  vars n    mean         sd           median   trimmed     \n",
       "customerID*        1   7043 3522.0000000 2033.2833054 3522.000 3.522000e+03\n",
       "gender*            2   7043    1.5047565    0.5000129    2.000 1.505945e+00\n",
       "SeniorCitizen      3   7043    0.1621468    0.3686116    0.000 7.772848e-02\n",
       "Partner*           4   7043    1.4830328    0.4997475    1.000 1.478793e+00\n",
       "Dependents*        5   7043    1.2995882    0.4581102    1.000 1.249512e+00\n",
       "tenure             6   7043   32.3711487   24.5594810   29.000 3.142786e+01\n",
       "PhoneService*      7   7043    1.9031663    0.2957522    2.000 2.000000e+00\n",
       "MultipleLines*     8   7043    1.9405083    0.9485540    2.000 1.925643e+00\n",
       "InternetService*   9   7043    1.8729235    0.7377963    2.000 1.841171e+00\n",
       "OnlineSecurity*   10   7043    1.7900043    0.8598475    2.000 1.737533e+00\n",
       "OnlineBackup*     11   7043    1.9064319    0.8801625    2.000 1.883052e+00\n",
       "DeviceProtection* 12   7043    1.9044441    0.8799489    2.000 1.880568e+00\n",
       "TechSupport*      13   7043    1.7971035    0.8615506    2.000 1.746406e+00\n",
       "StreamingTV*      14   7043    1.9853756    0.8850019    2.000 1.981721e+00\n",
       "StreamingMovies*  15   7043    1.9924748    0.8850907    2.000 1.990594e+00\n",
       "Contract*         16   7043    1.6904728    0.8337552    1.000 1.613132e+00\n",
       "PaperlessBilling* 17   7043    1.5922192    0.4914569    2.000 1.615262e+00\n",
       "PaymentMethod*    18   7043    2.5743291    1.0681040    3.000 2.592902e+00\n",
       "MonthlyCharges    19   7043   64.7616925   30.0900471   70.350 6.496565e+01\n",
       "TotalCharges      20   7032 2283.3004408 2266.7713619 1397.475 1.970140e+03\n",
       "Churn*            21   7043    1.2653699    0.4415613    1.000 1.206744e+00\n",
       "                  mad        min   max     range  skew        kurtosis  \n",
       "customerID*       2610.85860  1.00 7043.00 7042.0  0.00000000 -1.2005112\n",
       "gender*              0.00000  1.00    2.00    1.0 -0.01902279 -1.9999220\n",
       "SeniorCitizen        0.00000  0.00    1.00    1.0  1.83285177  1.3595387\n",
       "Partner*             0.00000  1.00    2.00    1.0  0.06789345 -1.9956738\n",
       "Dependents*          0.00000  1.00    2.00    1.0  0.87482582 -1.2348551\n",
       "tenure              32.61720  0.00   72.00   72.0  0.23943773 -1.3876966\n",
       "PhoneService*        0.00000  1.00    2.00    1.0 -2.72599140  5.4318004\n",
       "MultipleLines*       1.48260  1.00    3.00    2.0  0.11866889 -1.8782148\n",
       "InternetService*     1.48260  1.00    3.00    2.0  0.20533596 -1.1460705\n",
       "OnlineSecurity*      1.48260  1.00    3.00    2.0  0.41680747 -1.5211578\n",
       "OnlineBackup*        1.48260  1.00    3.00    2.0  0.18285247 -1.6849210\n",
       "DeviceProtection*    1.48260  1.00    3.00    2.0  0.18676763 -1.6832382\n",
       "TechSupport*         1.48260  1.00    3.00    2.0  0.40219313 -1.5351795\n",
       "StreamingTV*         1.48260  1.00    3.00    2.0  0.02847350 -1.7228219\n",
       "StreamingMovies*     1.48260  1.00    3.00    2.0  0.01465041 -1.7235138\n",
       "Contract*            0.00000  1.00    3.00    2.0  0.63069036 -1.2726490\n",
       "PaperlessBilling*    0.00000  1.00    2.00    1.0 -0.37523586 -1.8594620\n",
       "PaymentMethod*       1.48260  1.00    4.00    3.0 -0.17005696 -1.2122656\n",
       "MonthlyCharges      35.65653 18.25  118.75  100.5 -0.22043051 -1.2577140\n",
       "TotalCharges      1812.92328 18.80 8684.80 8666.0  0.96123228 -0.2332742\n",
       "Churn*               0.00000  1.00    2.00    1.0  1.06257868 -0.8710502\n",
       "                  se          \n",
       "customerID*       24.228082879\n",
       "gender*            0.005958025\n",
       "SeniorCitizen      0.004392281\n",
       "Partner*           0.005954863\n",
       "Dependents*        0.005458723\n",
       "tenure             0.292644483\n",
       "PhoneService*      0.003524108\n",
       "MultipleLines*     0.011302727\n",
       "InternetService*   0.008791392\n",
       "OnlineSecurity*    0.010245723\n",
       "OnlineBackup*      0.010487790\n",
       "DeviceProtection*  0.010485245\n",
       "TechSupport*       0.010266016\n",
       "StreamingTV*       0.010545455\n",
       "StreamingMovies*   0.010546514\n",
       "Contract*          0.009934814\n",
       "PaperlessBilling*  0.005856075\n",
       "PaymentMethod*     0.012727254\n",
       "MonthlyCharges     0.358545291\n",
       "TotalCharges      27.031384256\n",
       "Churn*             0.005261531"
      ]
     },
     "metadata": {},
     "output_type": "display_data"
    }
   ],
   "source": [
    "describe(data)"
   ]
  }
 ],
 "metadata": {
  "kernelspec": {
   "display_name": "R",
   "language": "R",
   "name": "ir"
  },
  "language_info": {
   "codemirror_mode": "r",
   "file_extension": ".r",
   "mimetype": "text/x-r-source",
   "name": "R",
   "pygments_lexer": "r",
   "version": "4.1.3"
  }
 },
 "nbformat": 4,
 "nbformat_minor": 5
}
