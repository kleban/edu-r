{
 "cells": [
  {
   "cell_type": "markdown",
   "id": "de566f74-8262-45b1-8de5-191fde204b29",
   "metadata": {},
   "source": [
    "## Data from web"
   ]
  },
  {
   "cell_type": "code",
   "execution_count": 84,
   "id": "22c66274-ee69-42da-9823-9028fd49d97d",
   "metadata": {},
   "outputs": [],
   "source": [
    "# install.packages(\"rvest\")"
   ]
  },
  {
   "cell_type": "code",
   "execution_count": 1,
   "id": "86e6ff85-5516-41c6-bdfc-59226438979e",
   "metadata": {},
   "outputs": [],
   "source": [
    "library(rvest)"
   ]
  },
  {
   "cell_type": "code",
   "execution_count": 13,
   "id": "90f52131-1f2f-4546-bff6-02438e343dda",
   "metadata": {},
   "outputs": [],
   "source": [
    "url <- \"https://www.transfermarkt.com/wettbewerbe/fifa\""
   ]
  },
  {
   "cell_type": "code",
   "execution_count": 14,
   "id": "3c523796-090b-4e28-9b79-4f33ba5fefab",
   "metadata": {},
   "outputs": [
    {
     "data": {
      "text/plain": [
       "{html_document}\n",
       "<html lang=\"en\">\n",
       "[1] <head>\\n<meta http-equiv=\"Content-Type\" content=\"text/html; charset=UTF-8 ...\n",
       "[2] <body class=\"\" itemscope itemtype=\"http://schema.org/WebPage\" data-tm-tld ..."
      ]
     },
     "metadata": {},
     "output_type": "display_data"
    }
   ],
   "source": [
    "page <- read_html(url)\n",
    "page"
   ]
  },
  {
   "cell_type": "code",
   "execution_count": 15,
   "id": "42e7c24e-3c93-473d-8fe1-bda6ec1c4aec",
   "metadata": {},
   "outputs": [
    {
     "data": {
      "text/plain": [
       "{xml_nodeset (1)}\n",
       "[1] <table class=\"items\">\\n<thead><tr>\\n<th class=\"zentriert\" id=\"yw1_c0\"><a  ..."
      ]
     },
     "metadata": {},
     "output_type": "display_data"
    }
   ],
   "source": [
    "tables <- html_nodes(page, \"table\")\n",
    "tables"
   ]
  },
  {
   "cell_type": "code",
   "execution_count": 16,
   "id": "71c3644c-be1b-473a-a3d1-8a2144f2e390",
   "metadata": {},
   "outputs": [],
   "source": [
    "data <- data.frame(html_table(tables[1]))"
   ]
  },
  {
   "cell_type": "code",
   "execution_count": 18,
   "id": "28f48024-84c1-4f12-82f4-117adcbc8b2c",
   "metadata": {},
   "outputs": [
    {
     "data": {
      "text/html": [
       "<table class=\"dataframe\">\n",
       "<caption>A data.frame: 25 x 7</caption>\n",
       "<thead>\n",
       "\t<tr><th scope=col>X.</th><th scope=col>Nation</th><th scope=col>Squad.size</th><th scope=col>Avg..age</th><th scope=col>Total.value</th><th scope=col>Confederation</th><th scope=col>Points</th></tr>\n",
       "\t<tr><th scope=col>&lt;int&gt;</th><th scope=col>&lt;chr&gt;</th><th scope=col>&lt;int&gt;</th><th scope=col>&lt;dbl&gt;</th><th scope=col>&lt;chr&gt;</th><th scope=col>&lt;chr&gt;</th><th scope=col>&lt;int&gt;</th></tr>\n",
       "</thead>\n",
       "<tbody>\n",
       "\t<tr><td> 1</td><td>Argentina  </td><td>24</td><td>26.8</td><td>€727.70m</td><td>CONMEBOL</td><td>1855</td></tr>\n",
       "\t<tr><td> 2</td><td>France     </td><td>23</td><td>26.2</td><td>€1.22bn </td><td>UEFA    </td><td>1845</td></tr>\n",
       "\t<tr><td> 3</td><td>England    </td><td>28</td><td>25.9</td><td>€1.47bn </td><td>UEFA    </td><td>1800</td></tr>\n",
       "\t<tr><td> 4</td><td>Belgium    </td><td>25</td><td>25.8</td><td>€535.80m</td><td>UEFA    </td><td>1798</td></tr>\n",
       "\t<tr><td> 5</td><td>Brazil     </td><td>26</td><td>25.3</td><td>€927.10m</td><td>CONMEBOL</td><td>1784</td></tr>\n",
       "\t<tr><td> 6</td><td>Netherlands</td><td>22</td><td>27.1</td><td>€597.00m</td><td>UEFA    </td><td>1745</td></tr>\n",
       "\t<tr><td> 7</td><td>Portugal   </td><td>32</td><td>26.6</td><td>€1.06bn </td><td>UEFA    </td><td>1745</td></tr>\n",
       "\t<tr><td> 8</td><td>Spain      </td><td>26</td><td>26.7</td><td>€896.00m</td><td>UEFA    </td><td>1733</td></tr>\n",
       "\t<tr><td> 9</td><td>Italy      </td><td>28</td><td>26.0</td><td>€757.00m</td><td>UEFA    </td><td>1719</td></tr>\n",
       "\t<tr><td>10</td><td>Croatia    </td><td>23</td><td>27.6</td><td>€278.00m</td><td>UEFA    </td><td>1718</td></tr>\n",
       "\t<tr><td>11</td><td>Uruguay    </td><td>27</td><td>25.1</td><td>€408.20m</td><td>CONMEBOL</td><td>1666</td></tr>\n",
       "\t<tr><td>12</td><td>Morocco    </td><td>24</td><td>25.2</td><td>€321.40m</td><td>CAF     </td><td>1663</td></tr>\n",
       "\t<tr><td>13</td><td>USA        </td><td>23</td><td>24.4</td><td>€311.50m</td><td>CONCACAF</td><td>1662</td></tr>\n",
       "\t<tr><td>14</td><td>Colombia   </td><td>26</td><td>26.8</td><td>€223.50m</td><td>CONMEBOL</td><td>1655</td></tr>\n",
       "\t<tr><td>15</td><td>Mexico     </td><td>23</td><td>27.0</td><td>€210.00m</td><td>CONCACAF</td><td>1653</td></tr>\n",
       "\t<tr><td>16</td><td>Germany    </td><td>23</td><td>28.2</td><td>€628.00m</td><td>UEFA    </td><td>1631</td></tr>\n",
       "\t<tr><td>17</td><td>Senegal    </td><td>29</td><td>26.6</td><td>€289.40m</td><td>CAF     </td><td>1621</td></tr>\n",
       "\t<tr><td>18</td><td>Japan      </td><td>23</td><td>26.4</td><td>€225.20m</td><td>AFC     </td><td>1614</td></tr>\n",
       "\t<tr><td>19</td><td>Switzerland</td><td>26</td><td>27.6</td><td>€229.70m</td><td>UEFA    </td><td>1613</td></tr>\n",
       "\t<tr><td>20</td><td>Iran       </td><td>29</td><td>26.3</td><td>€48.98m </td><td>AFC     </td><td>1608</td></tr>\n",
       "\t<tr><td>21</td><td>Denmark    </td><td>25</td><td>26.4</td><td>€371.50m</td><td>UEFA    </td><td>1601</td></tr>\n",
       "\t<tr><td>22</td><td>South Korea</td><td>23</td><td>28.0</td><td>€168.30m</td><td>AFC     </td><td>1566</td></tr>\n",
       "\t<tr><td>23</td><td>Australia  </td><td>22</td><td>26.7</td><td>€31.10m </td><td>AFC     </td><td>1555</td></tr>\n",
       "\t<tr><td>24</td><td>Ukraine    </td><td>28</td><td>25.5</td><td>€354.50m</td><td>UEFA    </td><td>1553</td></tr>\n",
       "\t<tr><td>25</td><td>Austria    </td><td>26</td><td>25.5</td><td>€273.80m</td><td>UEFA    </td><td>1546</td></tr>\n",
       "</tbody>\n",
       "</table>\n"
      ],
      "text/latex": [
       "A data.frame: 25 x 7\n",
       "\\begin{tabular}{lllllll}\n",
       " X. & Nation & Squad.size & Avg..age & Total.value & Confederation & Points\\\\\n",
       " <int> & <chr> & <int> & <dbl> & <chr> & <chr> & <int>\\\\\n",
       "\\hline\n",
       "\t  1 & Argentina   & 24 & 26.8 & €727.70m & CONMEBOL & 1855\\\\\n",
       "\t  2 & France      & 23 & 26.2 & €1.22bn  & UEFA     & 1845\\\\\n",
       "\t  3 & England     & 28 & 25.9 & €1.47bn  & UEFA     & 1800\\\\\n",
       "\t  4 & Belgium     & 25 & 25.8 & €535.80m & UEFA     & 1798\\\\\n",
       "\t  5 & Brazil      & 26 & 25.3 & €927.10m & CONMEBOL & 1784\\\\\n",
       "\t  6 & Netherlands & 22 & 27.1 & €597.00m & UEFA     & 1745\\\\\n",
       "\t  7 & Portugal    & 32 & 26.6 & €1.06bn  & UEFA     & 1745\\\\\n",
       "\t  8 & Spain       & 26 & 26.7 & €896.00m & UEFA     & 1733\\\\\n",
       "\t  9 & Italy       & 28 & 26.0 & €757.00m & UEFA     & 1719\\\\\n",
       "\t 10 & Croatia     & 23 & 27.6 & €278.00m & UEFA     & 1718\\\\\n",
       "\t 11 & Uruguay     & 27 & 25.1 & €408.20m & CONMEBOL & 1666\\\\\n",
       "\t 12 & Morocco     & 24 & 25.2 & €321.40m & CAF      & 1663\\\\\n",
       "\t 13 & USA         & 23 & 24.4 & €311.50m & CONCACAF & 1662\\\\\n",
       "\t 14 & Colombia    & 26 & 26.8 & €223.50m & CONMEBOL & 1655\\\\\n",
       "\t 15 & Mexico      & 23 & 27.0 & €210.00m & CONCACAF & 1653\\\\\n",
       "\t 16 & Germany     & 23 & 28.2 & €628.00m & UEFA     & 1631\\\\\n",
       "\t 17 & Senegal     & 29 & 26.6 & €289.40m & CAF      & 1621\\\\\n",
       "\t 18 & Japan       & 23 & 26.4 & €225.20m & AFC      & 1614\\\\\n",
       "\t 19 & Switzerland & 26 & 27.6 & €229.70m & UEFA     & 1613\\\\\n",
       "\t 20 & Iran        & 29 & 26.3 & €48.98m  & AFC      & 1608\\\\\n",
       "\t 21 & Denmark     & 25 & 26.4 & €371.50m & UEFA     & 1601\\\\\n",
       "\t 22 & South Korea & 23 & 28.0 & €168.30m & AFC      & 1566\\\\\n",
       "\t 23 & Australia   & 22 & 26.7 & €31.10m  & AFC      & 1555\\\\\n",
       "\t 24 & Ukraine     & 28 & 25.5 & €354.50m & UEFA     & 1553\\\\\n",
       "\t 25 & Austria     & 26 & 25.5 & €273.80m & UEFA     & 1546\\\\\n",
       "\\end{tabular}\n"
      ],
      "text/markdown": [
       "\n",
       "A data.frame: 25 x 7\n",
       "\n",
       "| X. &lt;int&gt; | Nation &lt;chr&gt; | Squad.size &lt;int&gt; | Avg..age &lt;dbl&gt; | Total.value &lt;chr&gt; | Confederation &lt;chr&gt; | Points &lt;int&gt; |\n",
       "|---|---|---|---|---|---|---|\n",
       "|  1 | Argentina   | 24 | 26.8 | €727.70m | CONMEBOL | 1855 |\n",
       "|  2 | France      | 23 | 26.2 | €1.22bn  | UEFA     | 1845 |\n",
       "|  3 | England     | 28 | 25.9 | €1.47bn  | UEFA     | 1800 |\n",
       "|  4 | Belgium     | 25 | 25.8 | €535.80m | UEFA     | 1798 |\n",
       "|  5 | Brazil      | 26 | 25.3 | €927.10m | CONMEBOL | 1784 |\n",
       "|  6 | Netherlands | 22 | 27.1 | €597.00m | UEFA     | 1745 |\n",
       "|  7 | Portugal    | 32 | 26.6 | €1.06bn  | UEFA     | 1745 |\n",
       "|  8 | Spain       | 26 | 26.7 | €896.00m | UEFA     | 1733 |\n",
       "|  9 | Italy       | 28 | 26.0 | €757.00m | UEFA     | 1719 |\n",
       "| 10 | Croatia     | 23 | 27.6 | €278.00m | UEFA     | 1718 |\n",
       "| 11 | Uruguay     | 27 | 25.1 | €408.20m | CONMEBOL | 1666 |\n",
       "| 12 | Morocco     | 24 | 25.2 | €321.40m | CAF      | 1663 |\n",
       "| 13 | USA         | 23 | 24.4 | €311.50m | CONCACAF | 1662 |\n",
       "| 14 | Colombia    | 26 | 26.8 | €223.50m | CONMEBOL | 1655 |\n",
       "| 15 | Mexico      | 23 | 27.0 | €210.00m | CONCACAF | 1653 |\n",
       "| 16 | Germany     | 23 | 28.2 | €628.00m | UEFA     | 1631 |\n",
       "| 17 | Senegal     | 29 | 26.6 | €289.40m | CAF      | 1621 |\n",
       "| 18 | Japan       | 23 | 26.4 | €225.20m | AFC      | 1614 |\n",
       "| 19 | Switzerland | 26 | 27.6 | €229.70m | UEFA     | 1613 |\n",
       "| 20 | Iran        | 29 | 26.3 | €48.98m  | AFC      | 1608 |\n",
       "| 21 | Denmark     | 25 | 26.4 | €371.50m | UEFA     | 1601 |\n",
       "| 22 | South Korea | 23 | 28.0 | €168.30m | AFC      | 1566 |\n",
       "| 23 | Australia   | 22 | 26.7 | €31.10m  | AFC      | 1555 |\n",
       "| 24 | Ukraine     | 28 | 25.5 | €354.50m | UEFA     | 1553 |\n",
       "| 25 | Austria     | 26 | 25.5 | €273.80m | UEFA     | 1546 |\n",
       "\n"
      ],
      "text/plain": [
       "   X. Nation      Squad.size Avg..age Total.value Confederation Points\n",
       "1   1 Argentina   24         26.8     \\210727.70m    CONMEBOL      1855  \n",
       "2   2 France      23         26.2     \\2101.22bn     UEFA          1845  \n",
       "3   3 England     28         25.9     \\2101.47bn     UEFA          1800  \n",
       "4   4 Belgium     25         25.8     \\210535.80m    UEFA          1798  \n",
       "5   5 Brazil      26         25.3     \\210927.10m    CONMEBOL      1784  \n",
       "6   6 Netherlands 22         27.1     \\210597.00m    UEFA          1745  \n",
       "7   7 Portugal    32         26.6     \\2101.06bn     UEFA          1745  \n",
       "8   8 Spain       26         26.7     \\210896.00m    UEFA          1733  \n",
       "9   9 Italy       28         26.0     \\210757.00m    UEFA          1719  \n",
       "10 10 Croatia     23         27.6     \\210278.00m    UEFA          1718  \n",
       "11 11 Uruguay     27         25.1     \\210408.20m    CONMEBOL      1666  \n",
       "12 12 Morocco     24         25.2     \\210321.40m    CAF           1663  \n",
       "13 13 USA         23         24.4     \\210311.50m    CONCACAF      1662  \n",
       "14 14 Colombia    26         26.8     \\210223.50m    CONMEBOL      1655  \n",
       "15 15 Mexico      23         27.0     \\210210.00m    CONCACAF      1653  \n",
       "16 16 Germany     23         28.2     \\210628.00m    UEFA          1631  \n",
       "17 17 Senegal     29         26.6     \\210289.40m    CAF           1621  \n",
       "18 18 Japan       23         26.4     \\210225.20m    AFC           1614  \n",
       "19 19 Switzerland 26         27.6     \\210229.70m    UEFA          1613  \n",
       "20 20 Iran        29         26.3     \\21048.98m     AFC           1608  \n",
       "21 21 Denmark     25         26.4     \\210371.50m    UEFA          1601  \n",
       "22 22 South Korea 23         28.0     \\210168.30m    AFC           1566  \n",
       "23 23 Australia   22         26.7     \\21031.10m     AFC           1555  \n",
       "24 24 Ukraine     28         25.5     \\210354.50m    UEFA          1553  \n",
       "25 25 Austria     26         25.5     \\210273.80m    UEFA          1546  "
      ]
     },
     "metadata": {},
     "output_type": "display_data"
    }
   ],
   "source": [
    "data"
   ]
  },
  {
   "cell_type": "code",
   "execution_count": 101,
   "id": "4569b01d-c169-47aa-b08c-48050b012616",
   "metadata": {},
   "outputs": [],
   "source": [
    "colnames(data) <- c(\"Rank\", \"Name\", \"MarketCap\")"
   ]
  },
  {
   "cell_type": "code",
   "execution_count": 103,
   "id": "d71ca89c-5774-4792-9d7a-63b0ef1bfa1e",
   "metadata": {},
   "outputs": [
    {
     "data": {
      "text/html": [
       "<table class=\"dataframe\">\n",
       "<caption>A data.frame: 6 x 3</caption>\n",
       "<thead>\n",
       "\t<tr><th></th><th scope=col>Rank</th><th scope=col>Name</th><th scope=col>MarketCap</th></tr>\n",
       "\t<tr><th></th><th scope=col>&lt;int&gt;</th><th scope=col>&lt;chr&gt;</th><th scope=col>&lt;dbl&gt;</th></tr>\n",
       "</thead>\n",
       "<tbody>\n",
       "\t<tr><th scope=row>1</th><td>1</td><td>JPMorgan Chase                         </td><td>491.76</td></tr>\n",
       "\t<tr><th scope=row>2</th><td>2</td><td>Bank of America                        </td><td>266.45</td></tr>\n",
       "\t<tr><th scope=row>3</th><td>3</td><td>Industrial and Commercial Bank of China</td><td>219.45</td></tr>\n",
       "\t<tr><th scope=row>4</th><td>4</td><td>Wells Fargo                            </td><td>178.74</td></tr>\n",
       "\t<tr><th scope=row>5</th><td>5</td><td>Agricultural Bank of China             </td><td>175.69</td></tr>\n",
       "\t<tr><th scope=row>6</th><td>6</td><td>HDFC Bank                              </td><td>169.84</td></tr>\n",
       "</tbody>\n",
       "</table>\n"
      ],
      "text/latex": [
       "A data.frame: 6 x 3\n",
       "\\begin{tabular}{r|lll}\n",
       "  & Rank & Name & MarketCap\\\\\n",
       "  & <int> & <chr> & <dbl>\\\\\n",
       "\\hline\n",
       "\t1 & 1 & JPMorgan Chase                          & 491.76\\\\\n",
       "\t2 & 2 & Bank of America                         & 266.45\\\\\n",
       "\t3 & 3 & Industrial and Commercial Bank of China & 219.45\\\\\n",
       "\t4 & 4 & Wells Fargo                             & 178.74\\\\\n",
       "\t5 & 5 & Agricultural Bank of China              & 175.69\\\\\n",
       "\t6 & 6 & HDFC Bank                               & 169.84\\\\\n",
       "\\end{tabular}\n"
      ],
      "text/markdown": [
       "\n",
       "A data.frame: 6 x 3\n",
       "\n",
       "| <!--/--> | Rank &lt;int&gt; | Name &lt;chr&gt; | MarketCap &lt;dbl&gt; |\n",
       "|---|---|---|---|\n",
       "| 1 | 1 | JPMorgan Chase                          | 491.76 |\n",
       "| 2 | 2 | Bank of America                         | 266.45 |\n",
       "| 3 | 3 | Industrial and Commercial Bank of China | 219.45 |\n",
       "| 4 | 4 | Wells Fargo                             | 178.74 |\n",
       "| 5 | 5 | Agricultural Bank of China              | 175.69 |\n",
       "| 6 | 6 | HDFC Bank                               | 169.84 |\n",
       "\n"
      ],
      "text/plain": [
       "  Rank Name                                    MarketCap\n",
       "1 1    JPMorgan Chase                          491.76   \n",
       "2 2    Bank of America                         266.45   \n",
       "3 3    Industrial and Commercial Bank of China 219.45   \n",
       "4 4    Wells Fargo                             178.74   \n",
       "5 5    Agricultural Bank of China              175.69   \n",
       "6 6    HDFC Bank                               169.84   "
      ]
     },
     "metadata": {},
     "output_type": "display_data"
    }
   ],
   "source": [
    "head(data)"
   ]
  },
  {
   "cell_type": "code",
   "execution_count": 104,
   "id": "cd27a3e0-6535-46f8-8b7a-ac577ee42091",
   "metadata": {},
   "outputs": [
    {
     "data": {
      "text/html": [
       "<style>\n",
       ".list-inline {list-style: none; margin:0; padding: 0}\n",
       ".list-inline>li {display: inline-block}\n",
       ".list-inline>li:not(:last-child)::after {content: \"\\00b7\"; padding: 0 .5ex}\n",
       "</style>\n",
       "<ol class=list-inline><li>150.39</li><li>491.76</li></ol>\n"
      ],
      "text/latex": [
       "\\begin{enumerate*}\n",
       "\\item 150.39\n",
       "\\item 491.76\n",
       "\\end{enumerate*}\n"
      ],
      "text/markdown": [
       "1. 150.39\n",
       "2. 491.76\n",
       "\n",
       "\n"
      ],
      "text/plain": [
       "[1] 150.39 491.76"
      ]
     },
     "metadata": {},
     "output_type": "display_data"
    }
   ],
   "source": [
    "range(data$MarketCap)"
   ]
  }
 ],
 "metadata": {
  "kernelspec": {
   "display_name": "R",
   "language": "R",
   "name": "ir"
  },
  "language_info": {
   "codemirror_mode": "r",
   "file_extension": ".r",
   "mimetype": "text/x-r-source",
   "name": "R",
   "pygments_lexer": "r",
   "version": "4.1.3"
  }
 },
 "nbformat": 4,
 "nbformat_minor": 5
}
