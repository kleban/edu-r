{
 "cells": [
  {
   "cell_type": "markdown",
   "id": "0c71e7a4-f078-433b-be51-101e2e7fd68b",
   "metadata": {},
   "source": [
    "# Робота зі списками"
   ]
  },
  {
   "cell_type": "markdown",
   "id": "8e4e64c6-9681-4ac3-a739-f7c169ae6327",
   "metadata": {},
   "source": [
    "## Приклад роботи з датами"
   ]
  },
  {
   "cell_type": "markdown",
   "id": "f770bdc0-121f-4a3a-b118-0dc883996cbe",
   "metadata": {},
   "source": [
    "Для роботи з датами використаємо біблотеку `lubridate`. "
   ]
  },
  {
   "cell_type": "code",
   "execution_count": 1,
   "id": "e3140381-e204-46cd-94fb-985b6199f0d0",
   "metadata": {},
   "outputs": [
    {
     "name": "stderr",
     "output_type": "stream",
     "text": [
      "\n",
      "Attaching package: 'lubridate'\n",
      "\n",
      "\n",
      "The following objects are masked from 'package:base':\n",
      "\n",
      "    date, intersect, setdiff, union\n",
      "\n",
      "\n"
     ]
    }
   ],
   "source": [
    "#install.packages(\"lubridate\")\n",
    "library(lubridate)"
   ]
  },
  {
   "cell_type": "code",
   "execution_count": 2,
   "id": "429fa817-e441-49bd-8176-fbfc8cf4fa86",
   "metadata": {},
   "outputs": [
    {
     "data": {
      "text/html": [
       "<time datetime=\"2024-03-13\">2024-03-13</time>"
      ],
      "text/latex": [
       "2024-03-13"
      ],
      "text/markdown": [
       "2024-03-13"
      ],
      "text/plain": [
       "[1] \"2024-03-13\""
      ]
     },
     "metadata": {},
     "output_type": "display_data"
    },
    {
     "data": {
      "text/html": [
       "<time datetime=\"2024-03-15\">2024-03-15</time>"
      ],
      "text/latex": [
       "2024-03-15"
      ],
      "text/markdown": [
       "2024-03-15"
      ],
      "text/plain": [
       "[1] \"2024-03-15\""
      ]
     },
     "metadata": {},
     "output_type": "display_data"
    },
    {
     "data": {
      "text/plain": [
       "[1] \"2024-03-13 09:20:12 UTC\""
      ]
     },
     "metadata": {},
     "output_type": "display_data"
    }
   ],
   "source": [
    "date1 <- ymd(\"2024-03-13\")\n",
    "date1\n",
    "date2 <- ymd(\"2024-03-15\")\n",
    "date2\n",
    "\n",
    "datetime <- ymd_hms(\"2024-03-13 09:20:12\")\n",
    "datetime"
   ]
  },
  {
   "cell_type": "markdown",
   "id": "f4e46f78-60dc-4e44-8384-83728ed51b83",
   "metadata": {},
   "source": [
    "## Створення списку"
   ]
  },
  {
   "cell_type": "markdown",
   "id": "daa32036-b310-4df5-8e16-516b2f2d893d",
   "metadata": {},
   "source": [
    "Для початку створимо змінні з інформацією про клієнта:"
   ]
  },
  {
   "cell_type": "code",
   "execution_count": 3,
   "id": "0e9d86cf-f78b-4cc6-b302-b8b9548b6c9b",
   "metadata": {},
   "outputs": [],
   "source": [
    "set.seed(2024)\n",
    "client_name <- \"John Doe\"\n",
    "services <- c(\"credit\", \"deposite\", \"online-app\")\n",
    "is_active <- TRUE\n",
    "\n",
    "transactions <- data.frame(contract_id = sample(10000:99999, size = 1, replace = T),\n",
    "                           datetime = c(ymd_hms(\"2023-05-25 11:05:12\"),\n",
    "                                        ymd_hms(\"2023-05-25 11:07:14\"),\n",
    "                                        ymd_hms(\"2023-05-25 11:08:02\"),\n",
    "                                        ymd_hms(\"2023-05-25 11:12:45\"),\n",
    "                                        ymd_hms(\"2023-05-25 11:47:00\"),\n",
    "                                        ymd_hms(\"2023-05-25 11:48:08\")),\n",
    "                           oper_type = sample(0:1, size=6, replace = T), \n",
    "                           amount = round(runif(6, min = 1, max = 1000), 2))  \n"
   ]
  },
  {
   "cell_type": "markdown",
   "id": "e93c5b54-3bc2-4377-9f38-02677d8765e8",
   "metadata": {},
   "source": [
    "Створимо список"
   ]
  },
  {
   "cell_type": "code",
   "execution_count": 4,
   "id": "480a3505-d692-4127-becc-41ebe7aca18c",
   "metadata": {},
   "outputs": [
    {
     "data": {
      "text/html": [
       "<ol>\n",
       "\t<li>'John Doe'</li>\n",
       "\t<li><style>\n",
       ".list-inline {list-style: none; margin:0; padding: 0}\n",
       ".list-inline>li {display: inline-block}\n",
       ".list-inline>li:not(:last-child)::after {content: \"\\00b7\"; padding: 0 .5ex}\n",
       "</style>\n",
       "<ol class=list-inline><li>'credit'</li><li>'deposite'</li><li>'online-app'</li></ol>\n",
       "</li>\n",
       "\t<li>TRUE</li>\n",
       "\t<li><table class=\"dataframe\">\n",
       "<caption>A data.frame: 6 x 4</caption>\n",
       "<thead>\n",
       "\t<tr><th scope=col>contract_id</th><th scope=col>datetime</th><th scope=col>oper_type</th><th scope=col>amount</th></tr>\n",
       "\t<tr><th scope=col>&lt;int&gt;</th><th scope=col>&lt;dttm&gt;</th><th scope=col>&lt;int&gt;</th><th scope=col>&lt;dbl&gt;</th></tr>\n",
       "</thead>\n",
       "<tbody>\n",
       "\t<tr><td>96564</td><td>2023-05-25 11:05:12</td><td>0</td><td>876.71</td></tr>\n",
       "\t<tr><td>96564</td><td>2023-05-25 11:07:14</td><td>1</td><td>119.93</td></tr>\n",
       "\t<tr><td>96564</td><td>2023-05-25 11:08:02</td><td>0</td><td>901.98</td></tr>\n",
       "\t<tr><td>96564</td><td>2023-05-25 11:12:45</td><td>0</td><td>953.15</td></tr>\n",
       "\t<tr><td>96564</td><td>2023-05-25 11:47:00</td><td>0</td><td>703.85</td></tr>\n",
       "\t<tr><td>96564</td><td>2023-05-25 11:48:08</td><td>1</td><td>516.27</td></tr>\n",
       "</tbody>\n",
       "</table>\n",
       "</li>\n",
       "</ol>\n"
      ],
      "text/latex": [
       "\\begin{enumerate}\n",
       "\\item 'John Doe'\n",
       "\\item \\begin{enumerate*}\n",
       "\\item 'credit'\n",
       "\\item 'deposite'\n",
       "\\item 'online-app'\n",
       "\\end{enumerate*}\n",
       "\n",
       "\\item TRUE\n",
       "\\item A data.frame: 6 x 4\n",
       "\\begin{tabular}{llll}\n",
       " contract\\_id & datetime & oper\\_type & amount\\\\\n",
       " <int> & <dttm> & <int> & <dbl>\\\\\n",
       "\\hline\n",
       "\t 96564 & 2023-05-25 11:05:12 & 0 & 876.71\\\\\n",
       "\t 96564 & 2023-05-25 11:07:14 & 1 & 119.93\\\\\n",
       "\t 96564 & 2023-05-25 11:08:02 & 0 & 901.98\\\\\n",
       "\t 96564 & 2023-05-25 11:12:45 & 0 & 953.15\\\\\n",
       "\t 96564 & 2023-05-25 11:47:00 & 0 & 703.85\\\\\n",
       "\t 96564 & 2023-05-25 11:48:08 & 1 & 516.27\\\\\n",
       "\\end{tabular}\n",
       "\n",
       "\\end{enumerate}\n"
      ],
      "text/markdown": [
       "1. 'John Doe'\n",
       "2. 1. 'credit'\n",
       "2. 'deposite'\n",
       "3. 'online-app'\n",
       "\n",
       "\n",
       "\n",
       "3. TRUE\n",
       "4. \n",
       "A data.frame: 6 x 4\n",
       "\n",
       "| contract_id &lt;int&gt; | datetime &lt;dttm&gt; | oper_type &lt;int&gt; | amount &lt;dbl&gt; |\n",
       "|---|---|---|---|\n",
       "| 96564 | 2023-05-25 11:05:12 | 0 | 876.71 |\n",
       "| 96564 | 2023-05-25 11:07:14 | 1 | 119.93 |\n",
       "| 96564 | 2023-05-25 11:08:02 | 0 | 901.98 |\n",
       "| 96564 | 2023-05-25 11:12:45 | 0 | 953.15 |\n",
       "| 96564 | 2023-05-25 11:47:00 | 0 | 703.85 |\n",
       "| 96564 | 2023-05-25 11:48:08 | 1 | 516.27 |\n",
       "\n",
       "\n",
       "\n",
       "\n"
      ],
      "text/plain": [
       "[[1]]\n",
       "[1] \"John Doe\"\n",
       "\n",
       "[[2]]\n",
       "[1] \"credit\"     \"deposite\"   \"online-app\"\n",
       "\n",
       "[[3]]\n",
       "[1] TRUE\n",
       "\n",
       "[[4]]\n",
       "  contract_id            datetime oper_type amount\n",
       "1       96564 2023-05-25 11:05:12         0 876.71\n",
       "2       96564 2023-05-25 11:07:14         1 119.93\n",
       "3       96564 2023-05-25 11:08:02         0 901.98\n",
       "4       96564 2023-05-25 11:12:45         0 953.15\n",
       "5       96564 2023-05-25 11:47:00         0 703.85\n",
       "6       96564 2023-05-25 11:48:08         1 516.27\n"
      ]
     },
     "metadata": {},
     "output_type": "display_data"
    }
   ],
   "source": [
    "client_list <- list(client_name, services, is_active, transactions)\n",
    "client_list"
   ]
  },
  {
   "cell_type": "code",
   "execution_count": 5,
   "id": "996f31bd-41fb-4d15-9b6c-dfac7151a0f7",
   "metadata": {},
   "outputs": [
    {
     "data": {
      "text/html": [
       "<dl>\n",
       "\t<dt>$Name</dt>\n",
       "\t\t<dd>'John Doe'</dd>\n",
       "\t<dt>$Services</dt>\n",
       "\t\t<dd><style>\n",
       ".list-inline {list-style: none; margin:0; padding: 0}\n",
       ".list-inline>li {display: inline-block}\n",
       ".list-inline>li:not(:last-child)::after {content: \"\\00b7\"; padding: 0 .5ex}\n",
       "</style>\n",
       "<ol class=list-inline><li>'credit'</li><li>'deposite'</li><li>'online-app'</li></ol>\n",
       "</dd>\n",
       "\t<dt>$IsActive</dt>\n",
       "\t\t<dd>TRUE</dd>\n",
       "\t<dt>$Transactions</dt>\n",
       "\t\t<dd><table class=\"dataframe\">\n",
       "<caption>A data.frame: 6 x 4</caption>\n",
       "<thead>\n",
       "\t<tr><th scope=col>contract_id</th><th scope=col>datetime</th><th scope=col>oper_type</th><th scope=col>amount</th></tr>\n",
       "\t<tr><th scope=col>&lt;int&gt;</th><th scope=col>&lt;dttm&gt;</th><th scope=col>&lt;int&gt;</th><th scope=col>&lt;dbl&gt;</th></tr>\n",
       "</thead>\n",
       "<tbody>\n",
       "\t<tr><td>96564</td><td>2023-05-25 11:05:12</td><td>0</td><td>876.71</td></tr>\n",
       "\t<tr><td>96564</td><td>2023-05-25 11:07:14</td><td>1</td><td>119.93</td></tr>\n",
       "\t<tr><td>96564</td><td>2023-05-25 11:08:02</td><td>0</td><td>901.98</td></tr>\n",
       "\t<tr><td>96564</td><td>2023-05-25 11:12:45</td><td>0</td><td>953.15</td></tr>\n",
       "\t<tr><td>96564</td><td>2023-05-25 11:47:00</td><td>0</td><td>703.85</td></tr>\n",
       "\t<tr><td>96564</td><td>2023-05-25 11:48:08</td><td>1</td><td>516.27</td></tr>\n",
       "</tbody>\n",
       "</table>\n",
       "</dd>\n",
       "</dl>\n"
      ],
      "text/latex": [
       "\\begin{description}\n",
       "\\item[\\$Name] 'John Doe'\n",
       "\\item[\\$Services] \\begin{enumerate*}\n",
       "\\item 'credit'\n",
       "\\item 'deposite'\n",
       "\\item 'online-app'\n",
       "\\end{enumerate*}\n",
       "\n",
       "\\item[\\$IsActive] TRUE\n",
       "\\item[\\$Transactions] A data.frame: 6 x 4\n",
       "\\begin{tabular}{llll}\n",
       " contract\\_id & datetime & oper\\_type & amount\\\\\n",
       " <int> & <dttm> & <int> & <dbl>\\\\\n",
       "\\hline\n",
       "\t 96564 & 2023-05-25 11:05:12 & 0 & 876.71\\\\\n",
       "\t 96564 & 2023-05-25 11:07:14 & 1 & 119.93\\\\\n",
       "\t 96564 & 2023-05-25 11:08:02 & 0 & 901.98\\\\\n",
       "\t 96564 & 2023-05-25 11:12:45 & 0 & 953.15\\\\\n",
       "\t 96564 & 2023-05-25 11:47:00 & 0 & 703.85\\\\\n",
       "\t 96564 & 2023-05-25 11:48:08 & 1 & 516.27\\\\\n",
       "\\end{tabular}\n",
       "\n",
       "\\end{description}\n"
      ],
      "text/markdown": [
       "$Name\n",
       ":   'John Doe'\n",
       "$Services\n",
       ":   1. 'credit'\n",
       "2. 'deposite'\n",
       "3. 'online-app'\n",
       "\n",
       "\n",
       "\n",
       "$IsActive\n",
       ":   TRUE\n",
       "$Transactions\n",
       ":   \n",
       "A data.frame: 6 x 4\n",
       "\n",
       "| contract_id &lt;int&gt; | datetime &lt;dttm&gt; | oper_type &lt;int&gt; | amount &lt;dbl&gt; |\n",
       "|---|---|---|---|\n",
       "| 96564 | 2023-05-25 11:05:12 | 0 | 876.71 |\n",
       "| 96564 | 2023-05-25 11:07:14 | 1 | 119.93 |\n",
       "| 96564 | 2023-05-25 11:08:02 | 0 | 901.98 |\n",
       "| 96564 | 2023-05-25 11:12:45 | 0 | 953.15 |\n",
       "| 96564 | 2023-05-25 11:47:00 | 0 | 703.85 |\n",
       "| 96564 | 2023-05-25 11:48:08 | 1 | 516.27 |\n",
       "\n",
       "\n",
       "\n",
       "\n"
      ],
      "text/plain": [
       "$Name\n",
       "[1] \"John Doe\"\n",
       "\n",
       "$Services\n",
       "[1] \"credit\"     \"deposite\"   \"online-app\"\n",
       "\n",
       "$IsActive\n",
       "[1] TRUE\n",
       "\n",
       "$Transactions\n",
       "  contract_id            datetime oper_type amount\n",
       "1       96564 2023-05-25 11:05:12         0 876.71\n",
       "2       96564 2023-05-25 11:07:14         1 119.93\n",
       "3       96564 2023-05-25 11:08:02         0 901.98\n",
       "4       96564 2023-05-25 11:12:45         0 953.15\n",
       "5       96564 2023-05-25 11:47:00         0 703.85\n",
       "6       96564 2023-05-25 11:48:08         1 516.27\n"
      ]
     },
     "metadata": {},
     "output_type": "display_data"
    }
   ],
   "source": [
    "names(client_list) <- c(\"Name\", \"Services\", \"IsActive\", \"Transactions\")\n",
    "client_list"
   ]
  },
  {
   "cell_type": "code",
   "execution_count": 6,
   "id": "9ef010e6-1fa4-402c-8040-d4f3d1c6687a",
   "metadata": {},
   "outputs": [
    {
     "data": {
      "text/html": [
       "<table class=\"dataframe\">\n",
       "<caption>A data.frame: 6 x 4</caption>\n",
       "<thead>\n",
       "\t<tr><th></th><th scope=col>contract_id</th><th scope=col>datetime</th><th scope=col>oper_type</th><th scope=col>amount</th></tr>\n",
       "\t<tr><th></th><th scope=col>&lt;int&gt;</th><th scope=col>&lt;dttm&gt;</th><th scope=col>&lt;int&gt;</th><th scope=col>&lt;dbl&gt;</th></tr>\n",
       "</thead>\n",
       "<tbody>\n",
       "\t<tr><th scope=row>1</th><td>96564</td><td>2023-05-25 11:05:12</td><td>0</td><td>876.71</td></tr>\n",
       "\t<tr><th scope=row>2</th><td>96564</td><td>2023-05-25 11:07:14</td><td>1</td><td>119.93</td></tr>\n",
       "\t<tr><th scope=row>3</th><td>96564</td><td>2023-05-25 11:08:02</td><td>0</td><td>901.98</td></tr>\n",
       "\t<tr><th scope=row>4</th><td>96564</td><td>2023-05-25 11:12:45</td><td>0</td><td>953.15</td></tr>\n",
       "\t<tr><th scope=row>5</th><td>96564</td><td>2023-05-25 11:47:00</td><td>0</td><td>703.85</td></tr>\n",
       "\t<tr><th scope=row>6</th><td>96564</td><td>2023-05-25 11:48:08</td><td>1</td><td>516.27</td></tr>\n",
       "</tbody>\n",
       "</table>\n"
      ],
      "text/latex": [
       "A data.frame: 6 x 4\n",
       "\\begin{tabular}{r|llll}\n",
       "  & contract\\_id & datetime & oper\\_type & amount\\\\\n",
       "  & <int> & <dttm> & <int> & <dbl>\\\\\n",
       "\\hline\n",
       "\t1 & 96564 & 2023-05-25 11:05:12 & 0 & 876.71\\\\\n",
       "\t2 & 96564 & 2023-05-25 11:07:14 & 1 & 119.93\\\\\n",
       "\t3 & 96564 & 2023-05-25 11:08:02 & 0 & 901.98\\\\\n",
       "\t4 & 96564 & 2023-05-25 11:12:45 & 0 & 953.15\\\\\n",
       "\t5 & 96564 & 2023-05-25 11:47:00 & 0 & 703.85\\\\\n",
       "\t6 & 96564 & 2023-05-25 11:48:08 & 1 & 516.27\\\\\n",
       "\\end{tabular}\n"
      ],
      "text/markdown": [
       "\n",
       "A data.frame: 6 x 4\n",
       "\n",
       "| <!--/--> | contract_id &lt;int&gt; | datetime &lt;dttm&gt; | oper_type &lt;int&gt; | amount &lt;dbl&gt; |\n",
       "|---|---|---|---|---|\n",
       "| 1 | 96564 | 2023-05-25 11:05:12 | 0 | 876.71 |\n",
       "| 2 | 96564 | 2023-05-25 11:07:14 | 1 | 119.93 |\n",
       "| 3 | 96564 | 2023-05-25 11:08:02 | 0 | 901.98 |\n",
       "| 4 | 96564 | 2023-05-25 11:12:45 | 0 | 953.15 |\n",
       "| 5 | 96564 | 2023-05-25 11:47:00 | 0 | 703.85 |\n",
       "| 6 | 96564 | 2023-05-25 11:48:08 | 1 | 516.27 |\n",
       "\n"
      ],
      "text/plain": [
       "  contract_id datetime            oper_type amount\n",
       "1 96564       2023-05-25 11:05:12 0         876.71\n",
       "2 96564       2023-05-25 11:07:14 1         119.93\n",
       "3 96564       2023-05-25 11:08:02 0         901.98\n",
       "4 96564       2023-05-25 11:12:45 0         953.15\n",
       "5 96564       2023-05-25 11:47:00 0         703.85\n",
       "6 96564       2023-05-25 11:48:08 1         516.27"
      ]
     },
     "metadata": {},
     "output_type": "display_data"
    }
   ],
   "source": [
    "df_transactions <- client_list$Transactions\n",
    "df_transactions[df_transactions$contract_id == 96564,]"
   ]
  },
  {
   "cell_type": "code",
   "execution_count": 8,
   "id": "ff7e7965-d4b8-4743-a1d3-b8e8ffde3f83",
   "metadata": {},
   "outputs": [
    {
     "data": {
      "image/png": "[encoded data removed]",
      "text/plain": [
       "plot without title"
      ]
     },
     "metadata": {
      "image/png": {
       "height": 420,
       "width": 420
      }
     },
     "output_type": "display_data"
    }
   ],
   "source": [
    "plot(df_transactions$amount)"
   ]
  },
  {
   "cell_type": "markdown",
   "id": "8a985279-6b91-4dde-9579-9d69df6e79ca",
   "metadata": {},
   "source": [
    "## Додавання елементів списку"
   ]
  },
  {
   "cell_type": "code",
   "execution_count": 10,
   "id": "5e99ff6c-ce29-4163-b174-dc9998dcc3b7",
   "metadata": {},
   "outputs": [
    {
     "data": {
      "text/html": [
       "'John Doe'"
      ],
      "text/latex": [
       "'John Doe'"
      ],
      "text/markdown": [
       "'John Doe'"
      ],
      "text/plain": [
       "[1] \"John Doe\""
      ]
     },
     "metadata": {},
     "output_type": "display_data"
    }
   ],
   "source": [
    "client_list$Name"
   ]
  },
  {
   "cell_type": "code",
   "execution_count": 12,
   "id": "1afff2c2-bd26-4264-8aab-583c989131d7",
   "metadata": {},
   "outputs": [],
   "source": [
    "client_list$Id <- 1346546531465"
   ]
  },
  {
   "cell_type": "code",
   "execution_count": 14,
   "id": "f73e425e-8c1a-43f3-9749-33d75f7e178b",
   "metadata": {},
   "outputs": [
    {
     "data": {
      "text/html": [
       "<dl>\n",
       "\t<dt>$Name</dt>\n",
       "\t\t<dd>'John Doe'</dd>\n",
       "\t<dt>$Services</dt>\n",
       "\t\t<dd><style>\n",
       ".list-inline {list-style: none; margin:0; padding: 0}\n",
       ".list-inline>li {display: inline-block}\n",
       ".list-inline>li:not(:last-child)::after {content: \"\\00b7\"; padding: 0 .5ex}\n",
       "</style>\n",
       "<ol class=list-inline><li>'credit'</li><li>'deposite'</li><li>'online-app'</li></ol>\n",
       "</dd>\n",
       "\t<dt>$IsActive</dt>\n",
       "\t\t<dd>TRUE</dd>\n",
       "\t<dt>$Transactions</dt>\n",
       "\t\t<dd><table class=\"dataframe\">\n",
       "<caption>A data.frame: 6 x 4</caption>\n",
       "<thead>\n",
       "\t<tr><th scope=col>contract_id</th><th scope=col>datetime</th><th scope=col>oper_type</th><th scope=col>amount</th></tr>\n",
       "\t<tr><th scope=col>&lt;int&gt;</th><th scope=col>&lt;dttm&gt;</th><th scope=col>&lt;int&gt;</th><th scope=col>&lt;dbl&gt;</th></tr>\n",
       "</thead>\n",
       "<tbody>\n",
       "\t<tr><td>96564</td><td>2023-05-25 11:05:12</td><td>0</td><td>876.71</td></tr>\n",
       "\t<tr><td>96564</td><td>2023-05-25 11:07:14</td><td>1</td><td>119.93</td></tr>\n",
       "\t<tr><td>96564</td><td>2023-05-25 11:08:02</td><td>0</td><td>901.98</td></tr>\n",
       "\t<tr><td>96564</td><td>2023-05-25 11:12:45</td><td>0</td><td>953.15</td></tr>\n",
       "\t<tr><td>96564</td><td>2023-05-25 11:47:00</td><td>0</td><td>703.85</td></tr>\n",
       "\t<tr><td>96564</td><td>2023-05-25 11:48:08</td><td>1</td><td>516.27</td></tr>\n",
       "</tbody>\n",
       "</table>\n",
       "</dd>\n",
       "\t<dt>$Id</dt>\n",
       "\t\t<dd>1346546531465</dd>\n",
       "</dl>\n"
      ],
      "text/latex": [
       "\\begin{description}\n",
       "\\item[\\$Name] 'John Doe'\n",
       "\\item[\\$Services] \\begin{enumerate*}\n",
       "\\item 'credit'\n",
       "\\item 'deposite'\n",
       "\\item 'online-app'\n",
       "\\end{enumerate*}\n",
       "\n",
       "\\item[\\$IsActive] TRUE\n",
       "\\item[\\$Transactions] A data.frame: 6 x 4\n",
       "\\begin{tabular}{llll}\n",
       " contract\\_id & datetime & oper\\_type & amount\\\\\n",
       " <int> & <dttm> & <int> & <dbl>\\\\\n",
       "\\hline\n",
       "\t 96564 & 2023-05-25 11:05:12 & 0 & 876.71\\\\\n",
       "\t 96564 & 2023-05-25 11:07:14 & 1 & 119.93\\\\\n",
       "\t 96564 & 2023-05-25 11:08:02 & 0 & 901.98\\\\\n",
       "\t 96564 & 2023-05-25 11:12:45 & 0 & 953.15\\\\\n",
       "\t 96564 & 2023-05-25 11:47:00 & 0 & 703.85\\\\\n",
       "\t 96564 & 2023-05-25 11:48:08 & 1 & 516.27\\\\\n",
       "\\end{tabular}\n",
       "\n",
       "\\item[\\$Id] 1346546531465\n",
       "\\end{description}\n"
      ],
      "text/markdown": [
       "$Name\n",
       ":   'John Doe'\n",
       "$Services\n",
       ":   1. 'credit'\n",
       "2. 'deposite'\n",
       "3. 'online-app'\n",
       "\n",
       "\n",
       "\n",
       "$IsActive\n",
       ":   TRUE\n",
       "$Transactions\n",
       ":   \n",
       "A data.frame: 6 x 4\n",
       "\n",
       "| contract_id &lt;int&gt; | datetime &lt;dttm&gt; | oper_type &lt;int&gt; | amount &lt;dbl&gt; |\n",
       "|---|---|---|---|\n",
       "| 96564 | 2023-05-25 11:05:12 | 0 | 876.71 |\n",
       "| 96564 | 2023-05-25 11:07:14 | 1 | 119.93 |\n",
       "| 96564 | 2023-05-25 11:08:02 | 0 | 901.98 |\n",
       "| 96564 | 2023-05-25 11:12:45 | 0 | 953.15 |\n",
       "| 96564 | 2023-05-25 11:47:00 | 0 | 703.85 |\n",
       "| 96564 | 2023-05-25 11:48:08 | 1 | 516.27 |\n",
       "\n",
       "\n",
       "$Id\n",
       ":   1346546531465\n",
       "\n",
       "\n"
      ],
      "text/plain": [
       "$Name\n",
       "[1] \"John Doe\"\n",
       "\n",
       "$Services\n",
       "[1] \"credit\"     \"deposite\"   \"online-app\"\n",
       "\n",
       "$IsActive\n",
       "[1] TRUE\n",
       "\n",
       "$Transactions\n",
       "  contract_id            datetime oper_type amount\n",
       "1       96564 2023-05-25 11:05:12         0 876.71\n",
       "2       96564 2023-05-25 11:07:14         1 119.93\n",
       "3       96564 2023-05-25 11:08:02         0 901.98\n",
       "4       96564 2023-05-25 11:12:45         0 953.15\n",
       "5       96564 2023-05-25 11:47:00         0 703.85\n",
       "6       96564 2023-05-25 11:48:08         1 516.27\n",
       "\n",
       "$Id\n",
       "[1] 1.346547e+12\n"
      ]
     },
     "metadata": {},
     "output_type": "display_data"
    }
   ],
   "source": [
    "client_list"
   ]
  },
  {
   "cell_type": "markdown",
   "id": "3d97a79b-66fb-4437-95a7-ce98e98c52f4",
   "metadata": {},
   "source": [
    "## Доступ до елементів списку"
   ]
  },
  {
   "cell_type": "code",
   "execution_count": 16,
   "id": "5ece31a5-ac8e-41fb-b7cf-653da2e7f8ab",
   "metadata": {},
   "outputs": [
    {
     "data": {
      "text/html": [
       "'John Doe'"
      ],
      "text/latex": [
       "'John Doe'"
      ],
      "text/markdown": [
       "'John Doe'"
      ],
      "text/plain": [
       "[1] \"John Doe\""
      ]
     },
     "metadata": {},
     "output_type": "display_data"
    }
   ],
   "source": [
    "client_list$Name"
   ]
  },
  {
   "cell_type": "code",
   "execution_count": 18,
   "id": "dc57e220-b9f5-483b-8780-bc9f43c1a45b",
   "metadata": {},
   "outputs": [
    {
     "data": {
      "text/html": [
       "<strong>$Name</strong> = 'John Doe'"
      ],
      "text/latex": [
       "\\textbf{\\$Name} = 'John Doe'"
      ],
      "text/markdown": [
       "**$Name** = 'John Doe'"
      ],
      "text/plain": [
       "$Name\n",
       "[1] \"John Doe\"\n"
      ]
     },
     "metadata": {},
     "output_type": "display_data"
    }
   ],
   "source": [
    "client_list[1]"
   ]
  },
  {
   "cell_type": "code",
   "execution_count": 20,
   "id": "58b43cbf-878c-4b5c-9d0a-8aee3ae1dcd2",
   "metadata": {},
   "outputs": [
    {
     "data": {
      "text/html": [
       "'John Doe'"
      ],
      "text/latex": [
       "'John Doe'"
      ],
      "text/markdown": [
       "'John Doe'"
      ],
      "text/plain": [
       "[1] \"John Doe\""
      ]
     },
     "metadata": {},
     "output_type": "display_data"
    }
   ],
   "source": [
    "client_list[[1]]"
   ]
  },
  {
   "cell_type": "code",
   "execution_count": 24,
   "id": "880df918-f47a-4893-869a-34b4dcec0048",
   "metadata": {},
   "outputs": [
    {
     "data": {
      "text/html": [
       "<table class=\"dataframe\">\n",
       "<caption>A data.frame: 2 x 3</caption>\n",
       "<thead>\n",
       "\t<tr><th></th><th scope=col>contract_id</th><th scope=col>datetime</th><th scope=col>oper_type</th></tr>\n",
       "\t<tr><th></th><th scope=col>&lt;int&gt;</th><th scope=col>&lt;dttm&gt;</th><th scope=col>&lt;int&gt;</th></tr>\n",
       "</thead>\n",
       "<tbody>\n",
       "\t<tr><th scope=row>1</th><td>96564</td><td>2023-05-25 11:05:12</td><td>0</td></tr>\n",
       "\t<tr><th scope=row>2</th><td>96564</td><td>2023-05-25 11:07:14</td><td>1</td></tr>\n",
       "</tbody>\n",
       "</table>\n"
      ],
      "text/latex": [
       "A data.frame: 2 x 3\n",
       "\\begin{tabular}{r|lll}\n",
       "  & contract\\_id & datetime & oper\\_type\\\\\n",
       "  & <int> & <dttm> & <int>\\\\\n",
       "\\hline\n",
       "\t1 & 96564 & 2023-05-25 11:05:12 & 0\\\\\n",
       "\t2 & 96564 & 2023-05-25 11:07:14 & 1\\\\\n",
       "\\end{tabular}\n"
      ],
      "text/markdown": [
       "\n",
       "A data.frame: 2 x 3\n",
       "\n",
       "| <!--/--> | contract_id &lt;int&gt; | datetime &lt;dttm&gt; | oper_type &lt;int&gt; |\n",
       "|---|---|---|---|\n",
       "| 1 | 96564 | 2023-05-25 11:05:12 | 0 |\n",
       "| 2 | 96564 | 2023-05-25 11:07:14 | 1 |\n",
       "\n"
      ],
      "text/plain": [
       "  contract_id datetime            oper_type\n",
       "1 96564       2023-05-25 11:05:12 0        \n",
       "2 96564       2023-05-25 11:07:14 1        "
      ]
     },
     "metadata": {},
     "output_type": "display_data"
    }
   ],
   "source": [
    "client_list$Transactions[1:2, 1:3]"
   ]
  },
  {
   "cell_type": "markdown",
   "id": "6b9965fb-bb8d-4b70-8647-7f42955de832",
   "metadata": {},
   "source": [
    "## Маніпулювання даними"
   ]
  },
  {
   "cell_type": "code",
   "execution_count": 26,
   "id": "76c8d76a-0a37-41e3-8c3a-1313fd2586e2",
   "metadata": {},
   "outputs": [],
   "source": [
    "client_list[1] <- \"NAME\""
   ]
  },
  {
   "cell_type": "code",
   "execution_count": 27,
   "id": "07f7cb4b-2677-452a-a5a7-2840637c3b4d",
   "metadata": {},
   "outputs": [
    {
     "data": {
      "text/html": [
       "<dl>\n",
       "\t<dt>$Name</dt>\n",
       "\t\t<dd>'NAME'</dd>\n",
       "\t<dt>$Services</dt>\n",
       "\t\t<dd><style>\n",
       ".list-inline {list-style: none; margin:0; padding: 0}\n",
       ".list-inline>li {display: inline-block}\n",
       ".list-inline>li:not(:last-child)::after {content: \"\\00b7\"; padding: 0 .5ex}\n",
       "</style>\n",
       "<ol class=list-inline><li>'credit'</li><li>'deposite'</li><li>'online-app'</li></ol>\n",
       "</dd>\n",
       "\t<dt>$IsActive</dt>\n",
       "\t\t<dd>TRUE</dd>\n",
       "\t<dt>$Transactions</dt>\n",
       "\t\t<dd><table class=\"dataframe\">\n",
       "<caption>A data.frame: 6 x 4</caption>\n",
       "<thead>\n",
       "\t<tr><th scope=col>contract_id</th><th scope=col>datetime</th><th scope=col>oper_type</th><th scope=col>amount</th></tr>\n",
       "\t<tr><th scope=col>&lt;int&gt;</th><th scope=col>&lt;dttm&gt;</th><th scope=col>&lt;int&gt;</th><th scope=col>&lt;dbl&gt;</th></tr>\n",
       "</thead>\n",
       "<tbody>\n",
       "\t<tr><td>96564</td><td>2023-05-25 11:05:12</td><td>0</td><td>876.71</td></tr>\n",
       "\t<tr><td>96564</td><td>2023-05-25 11:07:14</td><td>1</td><td>119.93</td></tr>\n",
       "\t<tr><td>96564</td><td>2023-05-25 11:08:02</td><td>0</td><td>901.98</td></tr>\n",
       "\t<tr><td>96564</td><td>2023-05-25 11:12:45</td><td>0</td><td>953.15</td></tr>\n",
       "\t<tr><td>96564</td><td>2023-05-25 11:47:00</td><td>0</td><td>703.85</td></tr>\n",
       "\t<tr><td>96564</td><td>2023-05-25 11:48:08</td><td>1</td><td>516.27</td></tr>\n",
       "</tbody>\n",
       "</table>\n",
       "</dd>\n",
       "\t<dt>$Id</dt>\n",
       "\t\t<dd>1346546531465</dd>\n",
       "</dl>\n"
      ],
      "text/latex": [
       "\\begin{description}\n",
       "\\item[\\$Name] 'NAME'\n",
       "\\item[\\$Services] \\begin{enumerate*}\n",
       "\\item 'credit'\n",
       "\\item 'deposite'\n",
       "\\item 'online-app'\n",
       "\\end{enumerate*}\n",
       "\n",
       "\\item[\\$IsActive] TRUE\n",
       "\\item[\\$Transactions] A data.frame: 6 x 4\n",
       "\\begin{tabular}{llll}\n",
       " contract\\_id & datetime & oper\\_type & amount\\\\\n",
       " <int> & <dttm> & <int> & <dbl>\\\\\n",
       "\\hline\n",
       "\t 96564 & 2023-05-25 11:05:12 & 0 & 876.71\\\\\n",
       "\t 96564 & 2023-05-25 11:07:14 & 1 & 119.93\\\\\n",
       "\t 96564 & 2023-05-25 11:08:02 & 0 & 901.98\\\\\n",
       "\t 96564 & 2023-05-25 11:12:45 & 0 & 953.15\\\\\n",
       "\t 96564 & 2023-05-25 11:47:00 & 0 & 703.85\\\\\n",
       "\t 96564 & 2023-05-25 11:48:08 & 1 & 516.27\\\\\n",
       "\\end{tabular}\n",
       "\n",
       "\\item[\\$Id] 1346546531465\n",
       "\\end{description}\n"
      ],
      "text/markdown": [
       "$Name\n",
       ":   'NAME'\n",
       "$Services\n",
       ":   1. 'credit'\n",
       "2. 'deposite'\n",
       "3. 'online-app'\n",
       "\n",
       "\n",
       "\n",
       "$IsActive\n",
       ":   TRUE\n",
       "$Transactions\n",
       ":   \n",
       "A data.frame: 6 x 4\n",
       "\n",
       "| contract_id &lt;int&gt; | datetime &lt;dttm&gt; | oper_type &lt;int&gt; | amount &lt;dbl&gt; |\n",
       "|---|---|---|---|\n",
       "| 96564 | 2023-05-25 11:05:12 | 0 | 876.71 |\n",
       "| 96564 | 2023-05-25 11:07:14 | 1 | 119.93 |\n",
       "| 96564 | 2023-05-25 11:08:02 | 0 | 901.98 |\n",
       "| 96564 | 2023-05-25 11:12:45 | 0 | 953.15 |\n",
       "| 96564 | 2023-05-25 11:47:00 | 0 | 703.85 |\n",
       "| 96564 | 2023-05-25 11:48:08 | 1 | 516.27 |\n",
       "\n",
       "\n",
       "$Id\n",
       ":   1346546531465\n",
       "\n",
       "\n"
      ],
      "text/plain": [
       "$Name\n",
       "[1] \"NAME\"\n",
       "\n",
       "$Services\n",
       "[1] \"credit\"     \"deposite\"   \"online-app\"\n",
       "\n",
       "$IsActive\n",
       "[1] TRUE\n",
       "\n",
       "$Transactions\n",
       "  contract_id            datetime oper_type amount\n",
       "1       96564 2023-05-25 11:05:12         0 876.71\n",
       "2       96564 2023-05-25 11:07:14         1 119.93\n",
       "3       96564 2023-05-25 11:08:02         0 901.98\n",
       "4       96564 2023-05-25 11:12:45         0 953.15\n",
       "5       96564 2023-05-25 11:47:00         0 703.85\n",
       "6       96564 2023-05-25 11:48:08         1 516.27\n",
       "\n",
       "$Id\n",
       "[1] 1.346547e+12\n"
      ]
     },
     "metadata": {},
     "output_type": "display_data"
    }
   ],
   "source": [
    "client_list"
   ]
  },
  {
   "cell_type": "markdown",
   "id": "0df75d63-d3b2-4fab-bdbf-d922d7c0889f",
   "metadata": {},
   "source": [
    "client_list"
   ]
  }
 ],
 "metadata": {
  "kernelspec": {
   "display_name": "R",
   "language": "R",
   "name": "ir"
  },
  "language_info": {
   "codemirror_mode": "r",
   "file_extension": ".r",
   "mimetype": "text/x-r-source",
   "name": "R",
   "pygments_lexer": "r",
   "version": "4.1.3"
  }
 },
 "nbformat": 4,
 "nbformat_minor": 5
}
