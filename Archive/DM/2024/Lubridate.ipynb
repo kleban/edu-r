{
 "cells": [
  {
   "cell_type": "markdown",
   "id": "32756911-67e5-49a1-9d14-b4fc6a930202",
   "metadata": {},
   "source": [
    "# Практична робота \"Робота з датою з використанням пакету `lubridate`\""
   ]
  },
  {
   "cell_type": "markdown",
   "id": "b0f94363-309f-4754-8345-82252102a580",
   "metadata": {},
   "source": [
    "---"
   ]
  },
  {
   "cell_type": "markdown",
   "id": "9a0aeb1e-2336-462e-a353-0137ed2a5cb0",
   "metadata": {},
   "source": [
    "У будь-якій мові програмування робота зі змінними дати та часу може бути досить важливою, оскільки, наприклад, не існує одного єдиного формату для дат, існують різні часові пояси, а також проблеми, такі як перехід на літній час.\r\n",
    "\r\n",
    "Базови набір функцій R надає кілька пакетів для роботи з датами та часом, але вони вимагають володіння непростим синтаксисом.\r\n",
    "\r\n",
    "Для вирішення всіх цих проблем був створений пакет R `lubridate`. Цей пакет, з одного боку, має дуже простий і легкий для розуміння синтаксис, а з іншого боку, він має функції, які охоплюють широкий спектр проблем, пов'язаних з датами та часом.\r\n",
    "\r\n",
    "\r\n",
    "\r\n",
    "https://lubridate.tidyverse.org/"
   ]
  },
  {
   "cell_type": "markdown",
   "id": "557cbed8-ae46-41f8-8406-1f8e4109496c",
   "metadata": {},
   "source": [
    "## Частина 1. Базові завдання"
   ]
  },
  {
   "cell_type": "markdown",
   "id": "f747f654-a66a-422b-bc7a-729a26d03124",
   "metadata": {},
   "source": [
    "Як завжди, давайте почнемо зі завантаження та встановлення пакету:."
   ]
  },
  {
   "cell_type": "code",
   "execution_count": 2,
   "id": "c7ff7514-cfae-4bf6-b50c-ae1d83dff409",
   "metadata": {},
   "outputs": [],
   "source": [
    "#install.packages(\"lubridate\")\n",
    "library(lubridate)"
   ]
  },
  {
   "cell_type": "markdown",
   "id": "b5e724c2-c3f5-40da-84e6-34cc0f97ece1",
   "metadata": {},
   "source": [
    "##### Вправа 1: Заповніть змінну з назвою \"start_date\" з даних рядка \"23012017\"."
   ]
  },
  {
   "cell_type": "code",
   "execution_count": null,
   "id": "92dbe0d7-d47b-4f30-993b-d8fa99a5ec9e",
   "metadata": {},
   "outputs": [],
   "source": []
  },
  {
   "cell_type": "markdown",
   "id": "e4b783b9-b066-4777-971a-35e0e433d9f1",
   "metadata": {},
   "source": [
    "##### Вправа 2: Використовуйте функцію `today` з пакету `lubridate`, щоб вивести поточну дату."
   ]
  },
  {
   "cell_type": "code",
   "execution_count": null,
   "id": "e6b9bf83-c423-4d33-8595-5c761c118333",
   "metadata": {},
   "outputs": [],
   "source": []
  },
  {
   "cell_type": "markdown",
   "id": "486e79b4-f6df-4a14-ad21-f82392baf1b0",
   "metadata": {},
   "source": [
    "##### Вправа 3: Витягніть інформацію про рік зі змінної \"start_date\", створеної в завданні 1."
   ]
  },
  {
   "cell_type": "code",
   "execution_count": null,
   "id": "9c04cd48-a91d-4c6a-9441-8a83780ce539",
   "metadata": {},
   "outputs": [],
   "source": []
  },
  {
   "cell_type": "markdown",
   "id": "b7ef033e-51c1-48d9-afe5-ee99d2f81b0d",
   "metadata": {},
   "source": [
    "##### Вправа 4: Витягніть інформацію про місяць року зі змінної \"start_date\", створеної в завданні 1."
   ]
  },
  {
   "cell_type": "code",
   "execution_count": null,
   "id": "3da00611-43e9-4f08-a9a9-711dcbe116cf",
   "metadata": {},
   "outputs": [],
   "source": []
  },
  {
   "cell_type": "markdown",
   "id": "ef3a8e7f-461c-47c6-976d-16f5158830b2",
   "metadata": {},
   "source": [
    "##### Вправа 5: Витягніть про день зі змінної \"start_date\", створеної в завданні 1."
   ]
  },
  {
   "cell_type": "code",
   "execution_count": null,
   "id": "227ab73d-27bb-4f77-a309-cc2c811e255d",
   "metadata": {},
   "outputs": [],
   "source": []
  },
  {
   "cell_type": "markdown",
   "id": "ffc86492-41f8-402d-8ff0-f389d68dc568",
   "metadata": {},
   "source": [
    "##### Вправа 6: Змініть місяць у змінній \"start_date\" на лютий."
   ]
  },
  {
   "cell_type": "code",
   "execution_count": null,
   "id": "fa62ef0f-6f31-452c-a414-d4ca2ab6ad8c",
   "metadata": {},
   "outputs": [],
   "source": []
  },
  {
   "cell_type": "markdown",
   "id": "b07d6ce7-c45d-42e9-9a0e-55f4b6bf8a21",
   "metadata": {},
   "source": [
    "##### Вправа 7: Додайте 6 днів до змінної \"start_date\". Чи помітили ви, що сталося зі значенням місяця?"
   ]
  },
  {
   "cell_type": "code",
   "execution_count": null,
   "id": "0d8f45ca-b11e-4d0a-b236-dd39c317c52d",
   "metadata": {},
   "outputs": [],
   "source": []
  },
  {
   "cell_type": "markdown",
   "id": "020a9570-77d5-487e-a572-e0bca24d458a",
   "metadata": {},
   "source": [
    "##### Вправа 8: Відніміть 3 місяці від змінної \"start_date\"."
   ]
  },
  {
   "cell_type": "code",
   "execution_count": null,
   "id": "744ad8cb-3d32-4710-bad7-002a35498c35",
   "metadata": {},
   "outputs": [],
   "source": []
  },
  {
   "cell_type": "markdown",
   "id": "208dc046-a675-4cfb-b4b2-e2b627fbdc53",
   "metadata": {},
   "source": [
    "##### Вправа 9*: Заповніть поле з назвою \"concatenated_dates\" вектором дат, який містить наступні значення: `31.12.2015`, `01.01.2016`, `15.02.2016`."
   ]
  },
  {
   "cell_type": "markdown",
   "id": "0ed0b264-2998-4527-aeee-bdc796320838",
   "metadata": {},
   "source": [
    "---"
   ]
  },
  {
   "cell_type": "markdown",
   "id": "c59b7b74-7d5b-469f-9f1d-0d748d211e0e",
   "metadata": {},
   "source": [
    "## Частина 2. Робота з інтервалами"
   ]
  },
  {
   "cell_type": "markdown",
   "id": "a02aa20c-3876-4b3a-afdd-e2a6808abf59",
   "metadata": {},
   "source": [
    "`lubridate` має кілька варіантів представлення дат та часу, деякі з них є \"абсолютними\" проміжками часу, а інші - \"відносними\" (наприклад, додавання \"одного місяця\" до певної дати, чи потрібно враховувати проблеми, такі як високосний рік або перехід на літній час).\r\n",
    "\r\n",
    "Можливі представлення дати/часу в`lubridate` - це момент, інтервал, тривалість (`instant`, `interval`, `duration`) (точний проміжок часу) та період (`period`) (відносний проміжок часу)."
   ]
  },
  {
   "cell_type": "markdown",
   "id": "1d98e46d-8495-4486-aab4-0fdff472be69",
   "metadata": {},
   "source": [
    "##### Вправа 1: Заповніть дві змінні з назвами \"start_date\" і \"end_date\" датовим представленням рядка `01/12/2015 15:40:32` і `01/01/2016 16:01:10` відповідно."
   ]
  },
  {
   "cell_type": "code",
   "execution_count": null,
   "id": "204303eb-0d91-44e8-a48e-1b5606afafd2",
   "metadata": {},
   "outputs": [],
   "source": []
  },
  {
   "cell_type": "markdown",
   "id": "e539e4ba-7c6f-4ed8-9008-6aa098de184b",
   "metadata": {},
   "source": [
    "##### Вправа 2: Створіть змінну інтервалу під назвою \"my_interval\" на основі змінних \"start_date\" і \"end_date\". зонами."
   ]
  },
  {
   "cell_type": "code",
   "execution_count": null,
   "id": "dd06c25b-45a1-4649-b7dd-766f77ae2d21",
   "metadata": {},
   "outputs": [],
   "source": []
  },
  {
   "cell_type": "markdown",
   "id": "ebacbabe-d5be-4411-b077-d273389d59ec",
   "metadata": {},
   "source": [
    "##### Вправа 3: Покажіть клас нового об'єкта, щоб переконатися, що це \"інтервал\"."
   ]
  },
  {
   "cell_type": "code",
   "execution_count": null,
   "id": "f83d90e3-e745-4582-8eea-2a08a0124cde",
   "metadata": {},
   "outputs": [],
   "source": []
  },
  {
   "cell_type": "markdown",
   "id": "3f38ad4f-e15e-4698-845b-79079cae44e4",
   "metadata": {},
   "source": [
    "Подібно до чисел, дати та часи фрмуються у певному порядку. Це дозволяє округлювати дати та часи. `lubridate` надає три методи, які допомагають виконувати це округлення: `round_date()`, `floor_date()` та `ceiling_date()`. Перший аргумент кожної функції - це дати та часи, які потрібно округлити. Другий аргумент - це одиниця, до якої потрібно округлити."
   ]
  },
  {
   "cell_type": "markdown",
   "id": "7d5bc6be-1f7d-42d6-b4ad-c43488510880",
   "metadata": {},
   "source": [
    "##### Вправа 4: Створіть об'єкт duration, що складається з 260 секунд."
   ]
  },
  {
   "cell_type": "code",
   "execution_count": null,
   "id": "6dbf8530-4d2b-4622-8fa9-08d1014f8399",
   "metadata": {},
   "outputs": [],
   "source": []
  },
  {
   "cell_type": "markdown",
   "id": "1053b56c-132d-409a-9ffa-33061b2191f7",
   "metadata": {},
   "source": [
    "##### Вправа 5: Створіть об'єкт duration, який складається з 260 хвилин, і розділіть його на 60."
   ]
  },
  {
   "cell_type": "code",
   "execution_count": null,
   "id": "8e33b164-a7d6-4785-878a-2ca62aab8685",
   "metadata": {},
   "outputs": [],
   "source": []
  },
  {
   "cell_type": "markdown",
   "id": "7f81946a-dc03-4faa-9c4b-ed510a4a3703",
   "metadata": {},
   "source": [
    "##### Вправа 6: Створіть об'єкт duration з тривалістю одного дня і відніміть від нього 260 хвилин."
   ]
  },
  {
   "cell_type": "code",
   "execution_count": null,
   "id": "97c913e8-5e97-4ede-941a-06fe15cc4c6d",
   "metadata": {},
   "outputs": [],
   "source": []
  },
  {
   "cell_type": "markdown",
   "id": "f7135576-edd0-46b1-9072-511f499181aa",
   "metadata": {},
   "source": [
    "##### Вправа 7: Створіть об'єкт duration, який складається з 12 днів, 5 годин і 10 хвилин."
   ]
  },
  {
   "cell_type": "code",
   "execution_count": null,
   "id": "5c03819b-6b0c-4ff9-83b6-a7bd6907df2f",
   "metadata": {},
   "outputs": [],
   "source": []
  },
  {
   "cell_type": "markdown",
   "id": "d18870a8-b314-413b-8ca4-3b9f8d15292c",
   "metadata": {},
   "source": [
    "##### Вправа 8: Створіть послідовність періодів від нуля до 10, через 2 тижні."
   ]
  },
  {
   "cell_type": "code",
   "execution_count": null,
   "id": "bee68457-ee66-42f9-95c7-db05784acdee",
   "metadata": {},
   "outputs": [],
   "source": []
  },
  {
   "cell_type": "markdown",
   "id": "6c4c5d5c-4cf5-4d35-9df3-1e23fce064ec",
   "metadata": {},
   "source": [
    "##### Вправа 9: Округліть дату '2016-10-16' за одиницею 'місяць' вгору та вниз."
   ]
  },
  {
   "cell_type": "code",
   "execution_count": null,
   "id": "321c9497-df41-4117-b3c3-510c53141df0",
   "metadata": {},
   "outputs": [],
   "source": []
  },
  {
   "cell_type": "markdown",
   "id": "6b063827-cadb-4cc1-9f0b-a87f5b337cfd",
   "metadata": {},
   "source": [
    "---"
   ]
  }
 ],
 "metadata": {
  "kernelspec": {
   "display_name": "R",
   "language": "R",
   "name": "ir"
  },
  "language_info": {
   "codemirror_mode": "r",
   "file_extension": ".r",
   "mimetype": "text/x-r-source",
   "name": "R",
   "pygments_lexer": "r",
   "version": "4.1.3"
  }
 },
 "nbformat": 4,
 "nbformat_minor": 5
}
