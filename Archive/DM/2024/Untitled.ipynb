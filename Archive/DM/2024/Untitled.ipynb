{
 "cells": [
  {
   "cell_type": "markdown",
   "id": "da3d0536-1b9a-4a14-841f-9423e0131de4",
   "metadata": {},
   "source": [
    "Варіант №1"
   ]
  },
  {
   "cell_type": "markdown",
   "id": "ee71bb0d-4f0b-4f57-a1c6-5326cdd2b813",
   "metadata": {},
   "source": [
    "## Завдання 3"
   ]
  },
  {
   "cell_type": "markdown",
   "id": "15fb0ae8-05a5-48ab-ac02-17be01fa44d7",
   "metadata": {},
   "source": []
  },
  {
   "cell_type": "markdown",
   "id": "6baebd12-b6a0-4744-8e8a-87ad9ea373c2",
   "metadata": {},
   "source": [
    "Створіть набір даних, що містить інформацію про продажі автомобілів. Набір даних має включати наступні поля:\n",
    "\n",
    "- `sale_id`: унікальний ідентифікатор продажу.\n",
    "- `brand`: марка автомобіля (наприклад, Toyota, Honda, Ford, Chevrolet).\n",
    "- `year`: рік випуску автомобіля.\n",
    "- `price`: ціна продажу автомобіля.\n",
    "- `mileage`: пробіг автомобіля на момент продажу.\n",
    "\n",
    "Генеруйте дані таким чином, щоб вони були реалістичними для сценарію продажу автомобілів. Наприклад, випадкові марки, реалістичні роки випуску, ціни та пробіги."
   ]
  },
  {
   "cell_type": "code",
   "execution_count": null,
   "id": "b95b3321-f7f1-43a1-bd26-a27d6bd5561a",
   "metadata": {},
   "outputs": [],
   "source": []
  }
 ],
 "metadata": {
  "kernelspec": {
   "display_name": "Python 3 (ipykernel)",
   "language": "python",
   "name": "python3"
  },
  "language_info": {
   "codemirror_mode": {
    "name": "ipython",
    "version": 3
   },
   "file_extension": ".py",
   "mimetype": "text/x-python",
   "name": "python",
   "nbconvert_exporter": "python",
   "pygments_lexer": "ipython3",
   "version": "3.12.2"
  }
 },
 "nbformat": 4,
 "nbformat_minor": 5
}
