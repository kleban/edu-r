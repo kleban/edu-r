{
 "cells": [
  {
   "cell_type": "markdown",
   "id": "033e13c1-2b29-4f7a-a735-0d9915a28f34",
   "metadata": {},
   "source": [
    "# Titanic Classification"
   ]
  },
  {
   "cell_type": "markdown",
   "id": "ad1271c4-50ce-477a-b28d-d79e70726441",
   "metadata": {},
   "source": [
    "## 1. Data Load"
   ]
  },
  {
   "cell_type": "code",
   "execution_count": 2,
   "id": "7651f66e-9573-4b6c-a438-ff3df46cd9c9",
   "metadata": {},
   "outputs": [
    {
     "data": {
      "text/html": [
       "<table class=\"dataframe\">\n",
       "<caption>A data.frame: 6 x 14</caption>\n",
       "<thead>\n",
       "\t<tr><th></th><th scope=col>pclass</th><th scope=col>survived</th><th scope=col>name</th><th scope=col>sex</th><th scope=col>age</th><th scope=col>sibsp</th><th scope=col>parch</th><th scope=col>ticket</th><th scope=col>fare</th><th scope=col>cabin</th><th scope=col>embarked</th><th scope=col>boat</th><th scope=col>body</th><th scope=col>home.dest</th></tr>\n",
       "\t<tr><th></th><th scope=col>&lt;int&gt;</th><th scope=col>&lt;int&gt;</th><th scope=col>&lt;chr&gt;</th><th scope=col>&lt;chr&gt;</th><th scope=col>&lt;dbl&gt;</th><th scope=col>&lt;int&gt;</th><th scope=col>&lt;int&gt;</th><th scope=col>&lt;chr&gt;</th><th scope=col>&lt;dbl&gt;</th><th scope=col>&lt;chr&gt;</th><th scope=col>&lt;chr&gt;</th><th scope=col>&lt;chr&gt;</th><th scope=col>&lt;int&gt;</th><th scope=col>&lt;chr&gt;</th></tr>\n",
       "</thead>\n",
       "<tbody>\n",
       "\t<tr><th scope=row>1</th><td>1</td><td>1</td><td>Allen, Miss. Elisabeth Walton                  </td><td>female</td><td>29.0000</td><td>0</td><td>0</td><td>24160 </td><td>211.3375</td><td>B5     </td><td>S</td><td>2 </td><td> NA</td><td>St Louis, MO                   </td></tr>\n",
       "\t<tr><th scope=row>2</th><td>1</td><td>1</td><td>Allison, Master. Hudson Trevor                 </td><td>male  </td><td> 0.9167</td><td>1</td><td>2</td><td>113781</td><td>151.5500</td><td>C22 C26</td><td>S</td><td>11</td><td> NA</td><td>Montreal, PQ / Chesterville, ON</td></tr>\n",
       "\t<tr><th scope=row>3</th><td>1</td><td>0</td><td>Allison, Miss. Helen Loraine                   </td><td>female</td><td> 2.0000</td><td>1</td><td>2</td><td>113781</td><td>151.5500</td><td>C22 C26</td><td>S</td><td>NA</td><td> NA</td><td>Montreal, PQ / Chesterville, ON</td></tr>\n",
       "\t<tr><th scope=row>4</th><td>1</td><td>0</td><td>Allison, Mr. Hudson Joshua Creighton           </td><td>male  </td><td>30.0000</td><td>1</td><td>2</td><td>113781</td><td>151.5500</td><td>C22 C26</td><td>S</td><td>NA</td><td>135</td><td>Montreal, PQ / Chesterville, ON</td></tr>\n",
       "\t<tr><th scope=row>5</th><td>1</td><td>0</td><td>Allison, Mrs. Hudson J C (Bessie Waldo Daniels)</td><td>female</td><td>25.0000</td><td>1</td><td>2</td><td>113781</td><td>151.5500</td><td>C22 C26</td><td>S</td><td>NA</td><td> NA</td><td>Montreal, PQ / Chesterville, ON</td></tr>\n",
       "\t<tr><th scope=row>6</th><td>1</td><td>1</td><td>Anderson, Mr. Harry                            </td><td>male  </td><td>48.0000</td><td>0</td><td>0</td><td>19952 </td><td> 26.5500</td><td>E12    </td><td>S</td><td>3 </td><td> NA</td><td>New York, NY                   </td></tr>\n",
       "</tbody>\n",
       "</table>\n"
      ],
      "text/latex": [
       "A data.frame: 6 x 14\n",
       "\\begin{tabular}{r|llllllllllllll}\n",
       "  & pclass & survived & name & sex & age & sibsp & parch & ticket & fare & cabin & embarked & boat & body & home.dest\\\\\n",
       "  & <int> & <int> & <chr> & <chr> & <dbl> & <int> & <int> & <chr> & <dbl> & <chr> & <chr> & <chr> & <int> & <chr>\\\\\n",
       "\\hline\n",
       "\t1 & 1 & 1 & Allen, Miss. Elisabeth Walton                   & female & 29.0000 & 0 & 0 & 24160  & 211.3375 & B5      & S & 2  &  NA & St Louis, MO                   \\\\\n",
       "\t2 & 1 & 1 & Allison, Master. Hudson Trevor                  & male   &  0.9167 & 1 & 2 & 113781 & 151.5500 & C22 C26 & S & 11 &  NA & Montreal, PQ / Chesterville, ON\\\\\n",
       "\t3 & 1 & 0 & Allison, Miss. Helen Loraine                    & female &  2.0000 & 1 & 2 & 113781 & 151.5500 & C22 C26 & S & NA &  NA & Montreal, PQ / Chesterville, ON\\\\\n",
       "\t4 & 1 & 0 & Allison, Mr. Hudson Joshua Creighton            & male   & 30.0000 & 1 & 2 & 113781 & 151.5500 & C22 C26 & S & NA & 135 & Montreal, PQ / Chesterville, ON\\\\\n",
       "\t5 & 1 & 0 & Allison, Mrs. Hudson J C (Bessie Waldo Daniels) & female & 25.0000 & 1 & 2 & 113781 & 151.5500 & C22 C26 & S & NA &  NA & Montreal, PQ / Chesterville, ON\\\\\n",
       "\t6 & 1 & 1 & Anderson, Mr. Harry                             & male   & 48.0000 & 0 & 0 & 19952  &  26.5500 & E12     & S & 3  &  NA & New York, NY                   \\\\\n",
       "\\end{tabular}\n"
      ],
      "text/markdown": [
       "\n",
       "A data.frame: 6 x 14\n",
       "\n",
       "| <!--/--> | pclass &lt;int&gt; | survived &lt;int&gt; | name &lt;chr&gt; | sex &lt;chr&gt; | age &lt;dbl&gt; | sibsp &lt;int&gt; | parch &lt;int&gt; | ticket &lt;chr&gt; | fare &lt;dbl&gt; | cabin &lt;chr&gt; | embarked &lt;chr&gt; | boat &lt;chr&gt; | body &lt;int&gt; | home.dest &lt;chr&gt; |\n",
       "|---|---|---|---|---|---|---|---|---|---|---|---|---|---|---|\n",
       "| 1 | 1 | 1 | Allen, Miss. Elisabeth Walton                   | female | 29.0000 | 0 | 0 | 24160  | 211.3375 | B5      | S | 2  |  NA | St Louis, MO                    |\n",
       "| 2 | 1 | 1 | Allison, Master. Hudson Trevor                  | male   |  0.9167 | 1 | 2 | 113781 | 151.5500 | C22 C26 | S | 11 |  NA | Montreal, PQ / Chesterville, ON |\n",
       "| 3 | 1 | 0 | Allison, Miss. Helen Loraine                    | female |  2.0000 | 1 | 2 | 113781 | 151.5500 | C22 C26 | S | NA |  NA | Montreal, PQ / Chesterville, ON |\n",
       "| 4 | 1 | 0 | Allison, Mr. Hudson Joshua Creighton            | male   | 30.0000 | 1 | 2 | 113781 | 151.5500 | C22 C26 | S | NA | 135 | Montreal, PQ / Chesterville, ON |\n",
       "| 5 | 1 | 0 | Allison, Mrs. Hudson J C (Bessie Waldo Daniels) | female | 25.0000 | 1 | 2 | 113781 | 151.5500 | C22 C26 | S | NA |  NA | Montreal, PQ / Chesterville, ON |\n",
       "| 6 | 1 | 1 | Anderson, Mr. Harry                             | male   | 48.0000 | 0 | 0 | 19952  |  26.5500 | E12     | S | 3  |  NA | New York, NY                    |\n",
       "\n"
      ],
      "text/plain": [
       "  pclass survived name                                            sex   \n",
       "1 1      1        Allen, Miss. Elisabeth Walton                   female\n",
       "2 1      1        Allison, Master. Hudson Trevor                  male  \n",
       "3 1      0        Allison, Miss. Helen Loraine                    female\n",
       "4 1      0        Allison, Mr. Hudson Joshua Creighton            male  \n",
       "5 1      0        Allison, Mrs. Hudson J C (Bessie Waldo Daniels) female\n",
       "6 1      1        Anderson, Mr. Harry                             male  \n",
       "  age     sibsp parch ticket fare     cabin   embarked boat body\n",
       "1 29.0000 0     0     24160  211.3375 B5      S        2     NA \n",
       "2  0.9167 1     2     113781 151.5500 C22 C26 S        11    NA \n",
       "3  2.0000 1     2     113781 151.5500 C22 C26 S        NA    NA \n",
       "4 30.0000 1     2     113781 151.5500 C22 C26 S        NA   135 \n",
       "5 25.0000 1     2     113781 151.5500 C22 C26 S        NA    NA \n",
       "6 48.0000 0     0     19952   26.5500 E12     S        3     NA \n",
       "  home.dest                      \n",
       "1 St Louis, MO                   \n",
       "2 Montreal, PQ / Chesterville, ON\n",
       "3 Montreal, PQ / Chesterville, ON\n",
       "4 Montreal, PQ / Chesterville, ON\n",
       "5 Montreal, PQ / Chesterville, ON\n",
       "6 New York, NY                   "
      ]
     },
     "metadata": {},
     "output_type": "display_data"
    }
   ],
   "source": [
    "titanic_data <- read.csv(\"https://raw.githubusercontent.com/Geoyi/Cleaning-Titanic-Data/master/titanic_original.csv\", na.strings = c(\"\")) # empty strings is missing data and wiil be replaced with NA\n",
    "head(titanic_data)"
   ]
  },
  {
   "cell_type": "code",
   "execution_count": 4,
   "id": "442efa8f-8ba0-4aa3-b8ee-b4290901bb5f",
   "metadata": {},
   "outputs": [
    {
     "name": "stdout",
     "output_type": "stream",
     "text": [
      "'data.frame':\t1310 obs. of  14 variables:\n",
      " $ pclass   : int  1 1 1 1 1 1 1 1 1 1 ...\n",
      " $ survived : int  1 1 0 0 0 1 1 0 1 0 ...\n",
      " $ name     : chr  \"Allen, Miss. Elisabeth Walton\" \"Allison, Master. Hudson Trevor\" \"Allison, Miss. Helen Loraine\" \"Allison, Mr. Hudson Joshua Creighton\" ...\n",
      " $ sex      : chr  \"female\" \"male\" \"female\" \"male\" ...\n",
      " $ age      : num  29 0.917 2 30 25 ...\n",
      " $ sibsp    : int  0 1 1 1 1 0 1 0 2 0 ...\n",
      " $ parch    : int  0 2 2 2 2 0 0 0 0 0 ...\n",
      " $ ticket   : chr  \"24160\" \"113781\" \"113781\" \"113781\" ...\n",
      " $ fare     : num  211 152 152 152 152 ...\n",
      " $ cabin    : chr  \"B5\" \"C22 C26\" \"C22 C26\" \"C22 C26\" ...\n",
      " $ embarked : chr  \"S\" \"S\" \"S\" \"S\" ...\n",
      " $ boat     : chr  \"2\" \"11\" NA NA ...\n",
      " $ body     : int  NA NA NA 135 NA NA NA NA NA 22 ...\n",
      " $ home.dest: chr  \"St Louis, MO\" \"Montreal, PQ / Chesterville, ON\" \"Montreal, PQ / Chesterville, ON\" \"Montreal, PQ / Chesterville, ON\" ...\n"
     ]
    }
   ],
   "source": [
    "str(titanic_data)"
   ]
  },
  {
   "cell_type": "markdown",
   "id": "531dcc0f-1f5a-4a13-87df-6b8852911001",
   "metadata": {},
   "source": [
    "## 2. Data preprocessing"
   ]
  },
  {
   "cell_type": "markdown",
   "id": "7dd0ef1c-750b-479a-a944-187c08653b9d",
   "metadata": {},
   "source": [
    "## 2.1. Remove columns"
   ]
  },
  {
   "cell_type": "code",
   "execution_count": 8,
   "id": "5d9a9224-8315-4a21-a046-1fb6c8a55816",
   "metadata": {},
   "outputs": [],
   "source": [
    "library(dplyr)"
   ]
  },
  {
   "cell_type": "code",
   "execution_count": 9,
   "id": "bb5f00fc-102d-4684-85fc-2965ba891868",
   "metadata": {},
   "outputs": [
    {
     "data": {
      "text/html": [
       "<table class=\"dataframe\">\n",
       "<caption>A data.frame: 6 x 9</caption>\n",
       "<thead>\n",
       "\t<tr><th></th><th scope=col>pclass</th><th scope=col>survived</th><th scope=col>sex</th><th scope=col>age</th><th scope=col>sibsp</th><th scope=col>parch</th><th scope=col>fare</th><th scope=col>cabin</th><th scope=col>embarked</th></tr>\n",
       "\t<tr><th></th><th scope=col>&lt;int&gt;</th><th scope=col>&lt;int&gt;</th><th scope=col>&lt;chr&gt;</th><th scope=col>&lt;dbl&gt;</th><th scope=col>&lt;int&gt;</th><th scope=col>&lt;int&gt;</th><th scope=col>&lt;dbl&gt;</th><th scope=col>&lt;chr&gt;</th><th scope=col>&lt;chr&gt;</th></tr>\n",
       "</thead>\n",
       "<tbody>\n",
       "\t<tr><th scope=row>1</th><td>1</td><td>1</td><td>female</td><td>29.0000</td><td>0</td><td>0</td><td>211.3375</td><td>B5     </td><td>S</td></tr>\n",
       "\t<tr><th scope=row>2</th><td>1</td><td>1</td><td>male  </td><td> 0.9167</td><td>1</td><td>2</td><td>151.5500</td><td>C22 C26</td><td>S</td></tr>\n",
       "\t<tr><th scope=row>3</th><td>1</td><td>0</td><td>female</td><td> 2.0000</td><td>1</td><td>2</td><td>151.5500</td><td>C22 C26</td><td>S</td></tr>\n",
       "\t<tr><th scope=row>4</th><td>1</td><td>0</td><td>male  </td><td>30.0000</td><td>1</td><td>2</td><td>151.5500</td><td>C22 C26</td><td>S</td></tr>\n",
       "\t<tr><th scope=row>5</th><td>1</td><td>0</td><td>female</td><td>25.0000</td><td>1</td><td>2</td><td>151.5500</td><td>C22 C26</td><td>S</td></tr>\n",
       "\t<tr><th scope=row>6</th><td>1</td><td>1</td><td>male  </td><td>48.0000</td><td>0</td><td>0</td><td> 26.5500</td><td>E12    </td><td>S</td></tr>\n",
       "</tbody>\n",
       "</table>\n"
      ],
      "text/latex": [
       "A data.frame: 6 x 9\n",
       "\\begin{tabular}{r|lllllllll}\n",
       "  & pclass & survived & sex & age & sibsp & parch & fare & cabin & embarked\\\\\n",
       "  & <int> & <int> & <chr> & <dbl> & <int> & <int> & <dbl> & <chr> & <chr>\\\\\n",
       "\\hline\n",
       "\t1 & 1 & 1 & female & 29.0000 & 0 & 0 & 211.3375 & B5      & S\\\\\n",
       "\t2 & 1 & 1 & male   &  0.9167 & 1 & 2 & 151.5500 & C22 C26 & S\\\\\n",
       "\t3 & 1 & 0 & female &  2.0000 & 1 & 2 & 151.5500 & C22 C26 & S\\\\\n",
       "\t4 & 1 & 0 & male   & 30.0000 & 1 & 2 & 151.5500 & C22 C26 & S\\\\\n",
       "\t5 & 1 & 0 & female & 25.0000 & 1 & 2 & 151.5500 & C22 C26 & S\\\\\n",
       "\t6 & 1 & 1 & male   & 48.0000 & 0 & 0 &  26.5500 & E12     & S\\\\\n",
       "\\end{tabular}\n"
      ],
      "text/markdown": [
       "\n",
       "A data.frame: 6 x 9\n",
       "\n",
       "| <!--/--> | pclass &lt;int&gt; | survived &lt;int&gt; | sex &lt;chr&gt; | age &lt;dbl&gt; | sibsp &lt;int&gt; | parch &lt;int&gt; | fare &lt;dbl&gt; | cabin &lt;chr&gt; | embarked &lt;chr&gt; |\n",
       "|---|---|---|---|---|---|---|---|---|---|\n",
       "| 1 | 1 | 1 | female | 29.0000 | 0 | 0 | 211.3375 | B5      | S |\n",
       "| 2 | 1 | 1 | male   |  0.9167 | 1 | 2 | 151.5500 | C22 C26 | S |\n",
       "| 3 | 1 | 0 | female |  2.0000 | 1 | 2 | 151.5500 | C22 C26 | S |\n",
       "| 4 | 1 | 0 | male   | 30.0000 | 1 | 2 | 151.5500 | C22 C26 | S |\n",
       "| 5 | 1 | 0 | female | 25.0000 | 1 | 2 | 151.5500 | C22 C26 | S |\n",
       "| 6 | 1 | 1 | male   | 48.0000 | 0 | 0 |  26.5500 | E12     | S |\n",
       "\n"
      ],
      "text/plain": [
       "  pclass survived sex    age     sibsp parch fare     cabin   embarked\n",
       "1 1      1        female 29.0000 0     0     211.3375 B5      S       \n",
       "2 1      1        male    0.9167 1     2     151.5500 C22 C26 S       \n",
       "3 1      0        female  2.0000 1     2     151.5500 C22 C26 S       \n",
       "4 1      0        male   30.0000 1     2     151.5500 C22 C26 S       \n",
       "5 1      0        female 25.0000 1     2     151.5500 C22 C26 S       \n",
       "6 1      1        male   48.0000 0     0      26.5500 E12     S       "
      ]
     },
     "metadata": {},
     "output_type": "display_data"
    }
   ],
   "source": [
    "#titanic_data <- titanic_data |>\n",
    " #   select(-c(name, ticket, boat, body, home.dest))\n",
    "head(titanic_data)"
   ]
  },
  {
   "cell_type": "code",
   "execution_count": 11,
   "id": "44f620eb-1ada-4303-8a55-a4d456b97303",
   "metadata": {},
   "outputs": [
    {
     "data": {
      "text/plain": [
       "     pclass         survived         sex                 age         \n",
       " Min.   :1.000   Min.   :0.000   Length:1310        Min.   : 0.1667  \n",
       " 1st Qu.:2.000   1st Qu.:0.000   Class :character   1st Qu.:21.0000  \n",
       " Median :3.000   Median :0.000   Mode  :character   Median :28.0000  \n",
       " Mean   :2.295   Mean   :0.382                      Mean   :29.8811  \n",
       " 3rd Qu.:3.000   3rd Qu.:1.000                      3rd Qu.:39.0000  \n",
       " Max.   :3.000   Max.   :1.000                      Max.   :80.0000  \n",
       " NA's   :1       NA's   :1                          NA's   :264      \n",
       "     sibsp            parch            fare            cabin          \n",
       " Min.   :0.0000   Min.   :0.000   Min.   :  0.000   Length:1310       \n",
       " 1st Qu.:0.0000   1st Qu.:0.000   1st Qu.:  7.896   Class :character  \n",
       " Median :0.0000   Median :0.000   Median : 14.454   Mode  :character  \n",
       " Mean   :0.4989   Mean   :0.385   Mean   : 33.295                     \n",
       " 3rd Qu.:1.0000   3rd Qu.:0.000   3rd Qu.: 31.275                     \n",
       " Max.   :8.0000   Max.   :9.000   Max.   :512.329                     \n",
       " NA's   :1        NA's   :1       NA's   :2                           \n",
       "   embarked        \n",
       " Length:1310       \n",
       " Class :character  \n",
       " Mode  :character  \n",
       "                   \n",
       "                   \n",
       "                   \n",
       "                   "
      ]
     },
     "metadata": {},
     "output_type": "display_data"
    }
   ],
   "source": [
    "summary(titanic_data)"
   ]
  },
  {
   "cell_type": "markdown",
   "id": "bbfc9609-c43c-4c8e-8c7a-2d2dfc463087",
   "metadata": {},
   "source": [
    "## 2.2. Check missing data"
   ]
  },
  {
   "cell_type": "code",
   "execution_count": 15,
   "id": "159ef9cd-b2ff-46f9-b7c9-7205fe2c90d5",
   "metadata": {},
   "outputs": [],
   "source": [
    "#install.packages(\"mice\")"
   ]
  },
  {
   "cell_type": "code",
   "execution_count": 17,
   "id": "5a7b6a27-c30b-45a7-8aa7-66e95409c0eb",
   "metadata": {},
   "outputs": [],
   "source": [
    "library(mice)"
   ]
  },
  {
   "cell_type": "code",
   "execution_count": 19,
   "id": "6c5dc4dd-a19c-491f-9e5d-991c3b447ea2",
   "metadata": {},
   "outputs": [
    {
     "data": {
      "text/html": [
       "<table class=\"dataframe\">\n",
       "<caption>A matrix: 8 x 10 of type dbl</caption>\n",
       "<thead>\n",
       "\t<tr><th></th><th scope=col>pclass</th><th scope=col>survived</th><th scope=col>sex</th><th scope=col>sibsp</th><th scope=col>parch</th><th scope=col>fare</th><th scope=col>embarked</th><th scope=col>age</th><th scope=col>cabin</th><th scope=col></th></tr>\n",
       "</thead>\n",
       "<tbody>\n",
       "\t<tr><th scope=row>270</th><td>1</td><td>1</td><td>1</td><td>1</td><td>1</td><td>1</td><td>1</td><td>  1</td><td>   1</td><td>   0</td></tr>\n",
       "\t<tr><th scope=row>773</th><td>1</td><td>1</td><td>1</td><td>1</td><td>1</td><td>1</td><td>1</td><td>  1</td><td>   0</td><td>   1</td></tr>\n",
       "\t<tr><th scope=row>23</th><td>1</td><td>1</td><td>1</td><td>1</td><td>1</td><td>1</td><td>1</td><td>  0</td><td>   1</td><td>   1</td></tr>\n",
       "\t<tr><th scope=row>240</th><td>1</td><td>1</td><td>1</td><td>1</td><td>1</td><td>1</td><td>1</td><td>  0</td><td>   0</td><td>   2</td></tr>\n",
       "\t<tr><th scope=row>2</th><td>1</td><td>1</td><td>1</td><td>1</td><td>1</td><td>1</td><td>0</td><td>  1</td><td>   1</td><td>   1</td></tr>\n",
       "\t<tr><th scope=row>1</th><td>1</td><td>1</td><td>1</td><td>1</td><td>1</td><td>0</td><td>1</td><td>  1</td><td>   0</td><td>   2</td></tr>\n",
       "\t<tr><th scope=row>1</th><td>0</td><td>0</td><td>0</td><td>0</td><td>0</td><td>0</td><td>0</td><td>  0</td><td>   0</td><td>   9</td></tr>\n",
       "\t<tr><th scope=row></th><td>1</td><td>1</td><td>1</td><td>1</td><td>1</td><td>2</td><td>3</td><td>264</td><td>1015</td><td>1289</td></tr>\n",
       "</tbody>\n",
       "</table>\n"
      ],
      "text/latex": [
       "A matrix: 8 x 10 of type dbl\n",
       "\\begin{tabular}{r|llllllllll}\n",
       "  & pclass & survived & sex & sibsp & parch & fare & embarked & age & cabin & \\\\\n",
       "\\hline\n",
       "\t270 & 1 & 1 & 1 & 1 & 1 & 1 & 1 &   1 &    1 &    0\\\\\n",
       "\t773 & 1 & 1 & 1 & 1 & 1 & 1 & 1 &   1 &    0 &    1\\\\\n",
       "\t23 & 1 & 1 & 1 & 1 & 1 & 1 & 1 &   0 &    1 &    1\\\\\n",
       "\t240 & 1 & 1 & 1 & 1 & 1 & 1 & 1 &   0 &    0 &    2\\\\\n",
       "\t2 & 1 & 1 & 1 & 1 & 1 & 1 & 0 &   1 &    1 &    1\\\\\n",
       "\t1 & 1 & 1 & 1 & 1 & 1 & 0 & 1 &   1 &    0 &    2\\\\\n",
       "\t1 & 0 & 0 & 0 & 0 & 0 & 0 & 0 &   0 &    0 &    9\\\\\n",
       "\t & 1 & 1 & 1 & 1 & 1 & 2 & 3 & 264 & 1015 & 1289\\\\\n",
       "\\end{tabular}\n"
      ],
      "text/markdown": [
       "\n",
       "A matrix: 8 x 10 of type dbl\n",
       "\n",
       "| <!--/--> | pclass | survived | sex | sibsp | parch | fare | embarked | age | cabin | <!----> |\n",
       "|---|---|---|---|---|---|---|---|---|---|---|\n",
       "| 270 | 1 | 1 | 1 | 1 | 1 | 1 | 1 |   1 |    1 |    0 |\n",
       "| 773 | 1 | 1 | 1 | 1 | 1 | 1 | 1 |   1 |    0 |    1 |\n",
       "| 23 | 1 | 1 | 1 | 1 | 1 | 1 | 1 |   0 |    1 |    1 |\n",
       "| 240 | 1 | 1 | 1 | 1 | 1 | 1 | 1 |   0 |    0 |    2 |\n",
       "| 2 | 1 | 1 | 1 | 1 | 1 | 1 | 0 |   1 |    1 |    1 |\n",
       "| 1 | 1 | 1 | 1 | 1 | 1 | 0 | 1 |   1 |    0 |    2 |\n",
       "| 1 | 0 | 0 | 0 | 0 | 0 | 0 | 0 |   0 |    0 |    9 |\n",
       "| <!----> | 1 | 1 | 1 | 1 | 1 | 2 | 3 | 264 | 1015 | 1289 |\n",
       "\n"
      ],
      "text/plain": [
       "    pclass survived sex sibsp parch fare embarked age cabin     \n",
       "270 1      1        1   1     1     1    1          1    1     0\n",
       "773 1      1        1   1     1     1    1          1    0     1\n",
       "23  1      1        1   1     1     1    1          0    1     1\n",
       "240 1      1        1   1     1     1    1          0    0     2\n",
       "2   1      1        1   1     1     1    0          1    1     1\n",
       "1   1      1        1   1     1     0    1          1    0     2\n",
       "1   0      0        0   0     0     0    0          0    0     9\n",
       "    1      1        1   1     1     2    3        264 1015  1289"
      ]
     },
     "metadata": {},
     "output_type": "display_data"
    },
    {
     "data": {
      "image/png": "[encoded data removed]",
      "text/plain": [
       "plot without title"
      ]
     },
     "metadata": {
      "image/png": {
       "height": 420,
       "width": 420
      }
     },
     "output_type": "display_data"
    }
   ],
   "source": [
    "md.pattern(titanic_data)"
   ]
  },
  {
   "cell_type": "code",
   "execution_count": 21,
   "id": "13c89a3c-1ee9-4688-8130-cd364f8832b1",
   "metadata": {},
   "outputs": [],
   "source": [
    "titanic_data <- titanic_data |> filter(!is.na(survived))"
   ]
  },
  {
   "cell_type": "code",
   "execution_count": 22,
   "id": "eea8b2d0-4037-4836-b72e-368667b9f807",
   "metadata": {},
   "outputs": [
    {
     "data": {
      "text/html": [
       "<table class=\"dataframe\">\n",
       "<caption>A matrix: 7 x 10 of type dbl</caption>\n",
       "<thead>\n",
       "\t<tr><th></th><th scope=col>pclass</th><th scope=col>survived</th><th scope=col>sex</th><th scope=col>sibsp</th><th scope=col>parch</th><th scope=col>fare</th><th scope=col>embarked</th><th scope=col>age</th><th scope=col>cabin</th><th scope=col></th></tr>\n",
       "</thead>\n",
       "<tbody>\n",
       "\t<tr><th scope=row>270</th><td>1</td><td>1</td><td>1</td><td>1</td><td>1</td><td>1</td><td>1</td><td>  1</td><td>   1</td><td>   0</td></tr>\n",
       "\t<tr><th scope=row>773</th><td>1</td><td>1</td><td>1</td><td>1</td><td>1</td><td>1</td><td>1</td><td>  1</td><td>   0</td><td>   1</td></tr>\n",
       "\t<tr><th scope=row>23</th><td>1</td><td>1</td><td>1</td><td>1</td><td>1</td><td>1</td><td>1</td><td>  0</td><td>   1</td><td>   1</td></tr>\n",
       "\t<tr><th scope=row>240</th><td>1</td><td>1</td><td>1</td><td>1</td><td>1</td><td>1</td><td>1</td><td>  0</td><td>   0</td><td>   2</td></tr>\n",
       "\t<tr><th scope=row>2</th><td>1</td><td>1</td><td>1</td><td>1</td><td>1</td><td>1</td><td>0</td><td>  1</td><td>   1</td><td>   1</td></tr>\n",
       "\t<tr><th scope=row>1</th><td>1</td><td>1</td><td>1</td><td>1</td><td>1</td><td>0</td><td>1</td><td>  1</td><td>   0</td><td>   2</td></tr>\n",
       "\t<tr><th scope=row></th><td>0</td><td>0</td><td>0</td><td>0</td><td>0</td><td>1</td><td>2</td><td>263</td><td>1014</td><td>1280</td></tr>\n",
       "</tbody>\n",
       "</table>\n"
      ],
      "text/latex": [
       "A matrix: 7 x 10 of type dbl\n",
       "\\begin{tabular}{r|llllllllll}\n",
       "  & pclass & survived & sex & sibsp & parch & fare & embarked & age & cabin & \\\\\n",
       "\\hline\n",
       "\t270 & 1 & 1 & 1 & 1 & 1 & 1 & 1 &   1 &    1 &    0\\\\\n",
       "\t773 & 1 & 1 & 1 & 1 & 1 & 1 & 1 &   1 &    0 &    1\\\\\n",
       "\t23 & 1 & 1 & 1 & 1 & 1 & 1 & 1 &   0 &    1 &    1\\\\\n",
       "\t240 & 1 & 1 & 1 & 1 & 1 & 1 & 1 &   0 &    0 &    2\\\\\n",
       "\t2 & 1 & 1 & 1 & 1 & 1 & 1 & 0 &   1 &    1 &    1\\\\\n",
       "\t1 & 1 & 1 & 1 & 1 & 1 & 0 & 1 &   1 &    0 &    2\\\\\n",
       "\t & 0 & 0 & 0 & 0 & 0 & 1 & 2 & 263 & 1014 & 1280\\\\\n",
       "\\end{tabular}\n"
      ],
      "text/markdown": [
       "\n",
       "A matrix: 7 x 10 of type dbl\n",
       "\n",
       "| <!--/--> | pclass | survived | sex | sibsp | parch | fare | embarked | age | cabin | <!----> |\n",
       "|---|---|---|---|---|---|---|---|---|---|---|\n",
       "| 270 | 1 | 1 | 1 | 1 | 1 | 1 | 1 |   1 |    1 |    0 |\n",
       "| 773 | 1 | 1 | 1 | 1 | 1 | 1 | 1 |   1 |    0 |    1 |\n",
       "| 23 | 1 | 1 | 1 | 1 | 1 | 1 | 1 |   0 |    1 |    1 |\n",
       "| 240 | 1 | 1 | 1 | 1 | 1 | 1 | 1 |   0 |    0 |    2 |\n",
       "| 2 | 1 | 1 | 1 | 1 | 1 | 1 | 0 |   1 |    1 |    1 |\n",
       "| 1 | 1 | 1 | 1 | 1 | 1 | 0 | 1 |   1 |    0 |    2 |\n",
       "| <!----> | 0 | 0 | 0 | 0 | 0 | 1 | 2 | 263 | 1014 | 1280 |\n",
       "\n"
      ],
      "text/plain": [
       "    pclass survived sex sibsp parch fare embarked age cabin     \n",
       "270 1      1        1   1     1     1    1          1    1     0\n",
       "773 1      1        1   1     1     1    1          1    0     1\n",
       "23  1      1        1   1     1     1    1          0    1     1\n",
       "240 1      1        1   1     1     1    1          0    0     2\n",
       "2   1      1        1   1     1     1    0          1    1     1\n",
       "1   1      1        1   1     1     0    1          1    0     2\n",
       "    0      0        0   0     0     1    2        263 1014  1280"
      ]
     },
     "metadata": {},
     "output_type": "display_data"
    },
    {
     "data": {
      "image/png": "[encoded data removed]",
      "text/plain": [
       "plot without title"
      ]
     },
     "metadata": {
      "image/png": {
       "height": 420,
       "width": 420
      }
     },
     "output_type": "display_data"
    }
   ],
   "source": [
    "md.pattern(titanic_data)"
   ]
  },
  {
   "cell_type": "markdown",
   "id": "2e52a704-d243-4596-bf7a-f211805167c3",
   "metadata": {},
   "source": [
    "## 2.3. Data visualization"
   ]
  },
  {
   "cell_type": "code",
   "execution_count": 24,
   "id": "d7519f52-fdfb-4851-ba8c-7ba0a2c4e92f",
   "metadata": {},
   "outputs": [],
   "source": [
    "library(ggplot2)\n",
    "library(gmodels)"
   ]
  },
  {
   "cell_type": "code",
   "execution_count": 26,
   "id": "f808b2dd-8fa3-4099-8bee-376a44862806",
   "metadata": {},
   "outputs": [
    {
     "name": "stdout",
     "output_type": "stream",
     "text": [
      "\n",
      " \n",
      "   Cell Contents\n",
      "|-------------------------|\n",
      "|                       N |\n",
      "|         N / Table Total |\n",
      "|-------------------------|\n",
      "\n",
      " \n",
      "Total Observations in Table:  1309 \n",
      "\n",
      " \n",
      "          |         0 |         1 | \n",
      "          |-----------|-----------|\n",
      "          |       809 |       500 | \n",
      "          |     0.618 |     0.382 | \n",
      "          |-----------|-----------|\n",
      "\n",
      "\n",
      "\n",
      " \n"
     ]
    }
   ],
   "source": [
    "CrossTable(titanic_data$survived)"
   ]
  },
  {
   "cell_type": "code",
   "execution_count": 31,
   "id": "fcbfa13a-e0c4-4c7c-9a05-2cdfab360e4c",
   "metadata": {},
   "outputs": [
    {
     "data": {
      "image/png": "[encoded data removed]",
      "text/plain": [
       "plot without title"
      ]
     },
     "metadata": {
      "image/png": {
       "height": 420,
       "width": 420
      }
     },
     "output_type": "display_data"
    }
   ],
   "source": [
    "ggplot(titanic_data, aes(survived)) +\n",
    "    geom_bar(aes(fill = factor(survived))) +\n",
    "    theme_bw()"
   ]
  },
  {
   "cell_type": "code",
   "execution_count": 33,
   "id": "ffefb902-2e6a-49db-bc06-1fdfa1a03d8a",
   "metadata": {},
   "outputs": [
    {
     "name": "stdout",
     "output_type": "stream",
     "text": [
      "\n",
      " \n",
      "   Cell Contents\n",
      "|-------------------------|\n",
      "|                       N |\n",
      "| Chi-square contribution |\n",
      "|           N / Row Total |\n",
      "|           N / Col Total |\n",
      "|         N / Table Total |\n",
      "|-------------------------|\n",
      "\n",
      " \n",
      "Total Observations in Table:  1309 \n",
      "\n",
      " \n",
      "                      | titanic_data$pclass \n",
      "titanic_data$survived |         1 |         2 |         3 | Row Total | \n",
      "----------------------|-----------|-----------|-----------|-----------|\n",
      "                    0 |       123 |       158 |       528 |       809 | \n",
      "                      |    29.411 |     1.017 |    18.411 |           | \n",
      "                      |     0.152 |     0.195 |     0.653 |     0.618 | \n",
      "                      |     0.381 |     0.570 |     0.745 |           | \n",
      "                      |     0.094 |     0.121 |     0.403 |           | \n",
      "----------------------|-----------|-----------|-----------|-----------|\n",
      "                    1 |       200 |       119 |       181 |       500 | \n",
      "                      |    47.587 |     1.645 |    29.788 |           | \n",
      "                      |     0.400 |     0.238 |     0.362 |     0.382 | \n",
      "                      |     0.619 |     0.430 |     0.255 |           | \n",
      "                      |     0.153 |     0.091 |     0.138 |           | \n",
      "----------------------|-----------|-----------|-----------|-----------|\n",
      "         Column Total |       323 |       277 |       709 |      1309 | \n",
      "                      |     0.247 |     0.212 |     0.542 |           | \n",
      "----------------------|-----------|-----------|-----------|-----------|\n",
      "\n",
      " \n"
     ]
    }
   ],
   "source": [
    "CrossTable(titanic_data$survived, titanic_data$pclass)"
   ]
  },
  {
   "cell_type": "code",
   "execution_count": 35,
   "id": "78ea0aa9-0de6-4440-b421-cff963f6bbc2",
   "metadata": {},
   "outputs": [
    {
     "data": {
      "image/png": "[encoded data removed]",
      "text/plain": [
       "plot without title"
      ]
     },
     "metadata": {
      "image/png": {
       "height": 420,
       "width": 420
      }
     },
     "output_type": "display_data"
    }
   ],
   "source": [
    "ggplot(titanic_data, aes(pclass)) + geom_bar(aes(fill = factor(pclass)))+ theme_bw()"
   ]
  },
  {
   "cell_type": "code",
   "execution_count": 37,
   "id": "d1ef2869-20ae-45b6-b0c4-ccbeffa2c13f",
   "metadata": {},
   "outputs": [
    {
     "data": {
      "image/png": "[encoded data removed]",
      "text/plain": [
       "plot without title"
      ]
     },
     "metadata": {
      "image/png": {
       "height": 420,
       "width": 420
      }
     },
     "output_type": "display_data"
    }
   ],
   "source": [
    "ggplot(titanic_data, aes(x = sex)) + geom_bar(aes(fill = factor(sex))) + theme_bw()"
   ]
  },
  {
   "cell_type": "code",
   "execution_count": 39,
   "id": "529e313c-dedd-479e-a204-e3fc16ebd363",
   "metadata": {},
   "outputs": [
    {
     "name": "stderr",
     "output_type": "stream",
     "text": [
      "Warning message:\n",
      "\"\u001b[1m\u001b[22mRemoved 263 rows containing non-finite values (`stat_bin()`).\"\n"
     ]
    },
    {
     "data": {
      "image/png": "[encoded data removed]",
      "text/plain": [
       "plot without title"
      ]
     },
     "metadata": {
      "image/png": {
       "height": 420,
       "width": 420
      }
     },
     "output_type": "display_data"
    }
   ],
   "source": [
    "ggplot(titanic_data, aes(age)) + geom_histogram(bins = 25, alpha = 0.5, fill = 'blue', color='black')  + theme_bw()"
   ]
  },
  {
   "cell_type": "code",
   "execution_count": 41,
   "id": "0b05d588-ac70-49f9-afed-98c252cbc11b",
   "metadata": {},
   "outputs": [
    {
     "name": "stderr",
     "output_type": "stream",
     "text": [
      "Warning message:\n",
      "\"\u001b[1m\u001b[22mRemoved 1 rows containing non-finite values (`stat_bin()`).\"\n"
     ]
    },
    {
     "data": {
      "image/png": "[encoded data removed]",
      "text/plain": [
       "plot without title"
      ]
     },
     "metadata": {
      "image/png": {
       "height": 420,
       "width": 420
      }
     },
     "output_type": "display_data"
    }
   ],
   "source": [
    "ggplot(titanic_data, aes(fare)) + geom_histogram(bins = 15, alpha = 0.5, fill = 'blue', color='black')+ theme_bw()"
   ]
  },
  {
   "cell_type": "code",
   "execution_count": 43,
   "id": "2d70ccef-8c47-4645-b567-89295b4ea2b1",
   "metadata": {},
   "outputs": [
    {
     "data": {
      "image/png": "[encoded data removed]",
      "text/plain": [
       "plot without title"
      ]
     },
     "metadata": {
      "image/png": {
       "height": 420,
       "width": 420
      }
     },
     "output_type": "display_data"
    }
   ],
   "source": [
    "ggplot(titanic_data, aes(embarked)) + geom_bar(aes(fill = factor(embarked)))+ theme_bw()"
   ]
  },
  {
   "cell_type": "markdown",
   "id": "22927de0-f61c-4208-90dd-64fe63fd53d2",
   "metadata": {},
   "source": [
    "## 3. Data split"
   ]
  },
  {
   "cell_type": "code",
   "execution_count": 46,
   "id": "fddc5fc7-a33e-4161-8079-e2d9162da925",
   "metadata": {},
   "outputs": [],
   "source": [
    "#install.packages(\"caTools\")"
   ]
  },
  {
   "cell_type": "code",
   "execution_count": 65,
   "id": "1a93ad04-d69d-4095-bbbb-24c3101601b9",
   "metadata": {},
   "outputs": [],
   "source": [
    "set.seed(2024) \n",
    "library(caTools)\n",
    "split <- sample.split(titanic_data$survived, SplitRatio = 0.7)\n",
    "titanic_train <- subset(titanic_data, split == TRUE)\n",
    "titanic_test <- subset(titanic_data, split == FALSE)"
   ]
  },
  {
   "cell_type": "code",
   "execution_count": 49,
   "id": "ccb1daaa-b1c7-450b-a058-3e73cd08366c",
   "metadata": {},
   "outputs": [
    {
     "name": "stdout",
     "output_type": "stream",
     "text": [
      "\n",
      " \n",
      "   Cell Contents\n",
      "|-------------------------|\n",
      "|                       N |\n",
      "|         N / Table Total |\n",
      "|-------------------------|\n",
      "\n",
      " \n",
      "Total Observations in Table:  916 \n",
      "\n",
      " \n",
      "          |         0 |         1 | \n",
      "          |-----------|-----------|\n",
      "          |       566 |       350 | \n",
      "          |     0.618 |     0.382 | \n",
      "          |-----------|-----------|\n",
      "\n",
      "\n",
      "\n",
      " \n",
      "\n",
      " \n",
      "   Cell Contents\n",
      "|-------------------------|\n",
      "|                       N |\n",
      "|         N / Table Total |\n",
      "|-------------------------|\n",
      "\n",
      " \n",
      "Total Observations in Table:  393 \n",
      "\n",
      " \n",
      "          |         0 |         1 | \n",
      "          |-----------|-----------|\n",
      "          |       243 |       150 | \n",
      "          |     0.618 |     0.382 | \n",
      "          |-----------|-----------|\n",
      "\n",
      "\n",
      "\n",
      " \n"
     ]
    }
   ],
   "source": [
    "CrossTable(titanic_train$survived)\n",
    "CrossTable(titanic_test$survived)"
   ]
  },
  {
   "cell_type": "markdown",
   "id": "bbba026d-3218-4f58-aad8-2eae62573cae",
   "metadata": {},
   "source": [
    "## 4. Missing data replacement"
   ]
  },
  {
   "cell_type": "code",
   "execution_count": 51,
   "id": "a0685f60-a694-4e56-8b66-d8e23e6871c9",
   "metadata": {},
   "outputs": [
    {
     "data": {
      "text/html": [
       "<table class=\"dataframe\">\n",
       "<caption>A matrix: 7 x 10 of type dbl</caption>\n",
       "<thead>\n",
       "\t<tr><th></th><th scope=col>pclass</th><th scope=col>survived</th><th scope=col>sex</th><th scope=col>sibsp</th><th scope=col>parch</th><th scope=col>fare</th><th scope=col>embarked</th><th scope=col>age</th><th scope=col>cabin</th><th scope=col></th></tr>\n",
       "</thead>\n",
       "<tbody>\n",
       "\t<tr><th scope=row>189</th><td>1</td><td>1</td><td>1</td><td>1</td><td>1</td><td>1</td><td>1</td><td>  1</td><td>  1</td><td>  0</td></tr>\n",
       "\t<tr><th scope=row>542</th><td>1</td><td>1</td><td>1</td><td>1</td><td>1</td><td>1</td><td>1</td><td>  1</td><td>  0</td><td>  1</td></tr>\n",
       "\t<tr><th scope=row>18</th><td>1</td><td>1</td><td>1</td><td>1</td><td>1</td><td>1</td><td>1</td><td>  0</td><td>  1</td><td>  1</td></tr>\n",
       "\t<tr><th scope=row>165</th><td>1</td><td>1</td><td>1</td><td>1</td><td>1</td><td>1</td><td>1</td><td>  0</td><td>  0</td><td>  2</td></tr>\n",
       "\t<tr><th scope=row>1</th><td>1</td><td>1</td><td>1</td><td>1</td><td>1</td><td>1</td><td>0</td><td>  1</td><td>  1</td><td>  1</td></tr>\n",
       "\t<tr><th scope=row>1</th><td>1</td><td>1</td><td>1</td><td>1</td><td>1</td><td>0</td><td>1</td><td>  1</td><td>  0</td><td>  2</td></tr>\n",
       "\t<tr><th scope=row></th><td>0</td><td>0</td><td>0</td><td>0</td><td>0</td><td>1</td><td>1</td><td>183</td><td>708</td><td>893</td></tr>\n",
       "</tbody>\n",
       "</table>\n"
      ],
      "text/latex": [
       "A matrix: 7 x 10 of type dbl\n",
       "\\begin{tabular}{r|llllllllll}\n",
       "  & pclass & survived & sex & sibsp & parch & fare & embarked & age & cabin & \\\\\n",
       "\\hline\n",
       "\t189 & 1 & 1 & 1 & 1 & 1 & 1 & 1 &   1 &   1 &   0\\\\\n",
       "\t542 & 1 & 1 & 1 & 1 & 1 & 1 & 1 &   1 &   0 &   1\\\\\n",
       "\t18 & 1 & 1 & 1 & 1 & 1 & 1 & 1 &   0 &   1 &   1\\\\\n",
       "\t165 & 1 & 1 & 1 & 1 & 1 & 1 & 1 &   0 &   0 &   2\\\\\n",
       "\t1 & 1 & 1 & 1 & 1 & 1 & 1 & 0 &   1 &   1 &   1\\\\\n",
       "\t1 & 1 & 1 & 1 & 1 & 1 & 0 & 1 &   1 &   0 &   2\\\\\n",
       "\t & 0 & 0 & 0 & 0 & 0 & 1 & 1 & 183 & 708 & 893\\\\\n",
       "\\end{tabular}\n"
      ],
      "text/markdown": [
       "\n",
       "A matrix: 7 x 10 of type dbl\n",
       "\n",
       "| <!--/--> | pclass | survived | sex | sibsp | parch | fare | embarked | age | cabin | <!----> |\n",
       "|---|---|---|---|---|---|---|---|---|---|---|\n",
       "| 189 | 1 | 1 | 1 | 1 | 1 | 1 | 1 |   1 |   1 |   0 |\n",
       "| 542 | 1 | 1 | 1 | 1 | 1 | 1 | 1 |   1 |   0 |   1 |\n",
       "| 18 | 1 | 1 | 1 | 1 | 1 | 1 | 1 |   0 |   1 |   1 |\n",
       "| 165 | 1 | 1 | 1 | 1 | 1 | 1 | 1 |   0 |   0 |   2 |\n",
       "| 1 | 1 | 1 | 1 | 1 | 1 | 1 | 0 |   1 |   1 |   1 |\n",
       "| 1 | 1 | 1 | 1 | 1 | 1 | 0 | 1 |   1 |   0 |   2 |\n",
       "| <!----> | 0 | 0 | 0 | 0 | 0 | 1 | 1 | 183 | 708 | 893 |\n",
       "\n"
      ],
      "text/plain": [
       "    pclass survived sex sibsp parch fare embarked age cabin    \n",
       "189 1      1        1   1     1     1    1          1   1     0\n",
       "542 1      1        1   1     1     1    1          1   0     1\n",
       "18  1      1        1   1     1     1    1          0   1     1\n",
       "165 1      1        1   1     1     1    1          0   0     2\n",
       "1   1      1        1   1     1     1    0          1   1     1\n",
       "1   1      1        1   1     1     0    1          1   0     2\n",
       "    0      0        0   0     0     1    1        183 708   893"
      ]
     },
     "metadata": {},
     "output_type": "display_data"
    },
    {
     "data": {
      "image/png": "[encoded data removed]",
      "text/plain": [
       "plot without title"
      ]
     },
     "metadata": {
      "image/png": {
       "height": 420,
       "width": 420
      }
     },
     "output_type": "display_data"
    }
   ],
   "source": [
    "md.pattern(titanic_train)"
   ]
  },
  {
   "cell_type": "code",
   "execution_count": 53,
   "id": "a59b9aee-4043-4502-840c-34290e81d28b",
   "metadata": {},
   "outputs": [
    {
     "data": {
      "text/html": [
       "<table class=\"dataframe\">\n",
       "<caption>A matrix: 6 x 10 of type dbl</caption>\n",
       "<thead>\n",
       "\t<tr><th></th><th scope=col>pclass</th><th scope=col>survived</th><th scope=col>sex</th><th scope=col>sibsp</th><th scope=col>parch</th><th scope=col>fare</th><th scope=col>embarked</th><th scope=col>age</th><th scope=col>cabin</th><th scope=col></th></tr>\n",
       "</thead>\n",
       "<tbody>\n",
       "\t<tr><th scope=row>81</th><td>1</td><td>1</td><td>1</td><td>1</td><td>1</td><td>1</td><td>1</td><td> 1</td><td>  1</td><td>  0</td></tr>\n",
       "\t<tr><th scope=row>231</th><td>1</td><td>1</td><td>1</td><td>1</td><td>1</td><td>1</td><td>1</td><td> 1</td><td>  0</td><td>  1</td></tr>\n",
       "\t<tr><th scope=row>5</th><td>1</td><td>1</td><td>1</td><td>1</td><td>1</td><td>1</td><td>1</td><td> 0</td><td>  1</td><td>  1</td></tr>\n",
       "\t<tr><th scope=row>75</th><td>1</td><td>1</td><td>1</td><td>1</td><td>1</td><td>1</td><td>1</td><td> 0</td><td>  0</td><td>  2</td></tr>\n",
       "\t<tr><th scope=row>1</th><td>1</td><td>1</td><td>1</td><td>1</td><td>1</td><td>1</td><td>0</td><td> 1</td><td>  1</td><td>  1</td></tr>\n",
       "\t<tr><th scope=row></th><td>0</td><td>0</td><td>0</td><td>0</td><td>0</td><td>0</td><td>1</td><td>80</td><td>306</td><td>387</td></tr>\n",
       "</tbody>\n",
       "</table>\n"
      ],
      "text/latex": [
       "A matrix: 6 x 10 of type dbl\n",
       "\\begin{tabular}{r|llllllllll}\n",
       "  & pclass & survived & sex & sibsp & parch & fare & embarked & age & cabin & \\\\\n",
       "\\hline\n",
       "\t81 & 1 & 1 & 1 & 1 & 1 & 1 & 1 &  1 &   1 &   0\\\\\n",
       "\t231 & 1 & 1 & 1 & 1 & 1 & 1 & 1 &  1 &   0 &   1\\\\\n",
       "\t5 & 1 & 1 & 1 & 1 & 1 & 1 & 1 &  0 &   1 &   1\\\\\n",
       "\t75 & 1 & 1 & 1 & 1 & 1 & 1 & 1 &  0 &   0 &   2\\\\\n",
       "\t1 & 1 & 1 & 1 & 1 & 1 & 1 & 0 &  1 &   1 &   1\\\\\n",
       "\t & 0 & 0 & 0 & 0 & 0 & 0 & 1 & 80 & 306 & 387\\\\\n",
       "\\end{tabular}\n"
      ],
      "text/markdown": [
       "\n",
       "A matrix: 6 x 10 of type dbl\n",
       "\n",
       "| <!--/--> | pclass | survived | sex | sibsp | parch | fare | embarked | age | cabin | <!----> |\n",
       "|---|---|---|---|---|---|---|---|---|---|---|\n",
       "| 81 | 1 | 1 | 1 | 1 | 1 | 1 | 1 |  1 |   1 |   0 |\n",
       "| 231 | 1 | 1 | 1 | 1 | 1 | 1 | 1 |  1 |   0 |   1 |\n",
       "| 5 | 1 | 1 | 1 | 1 | 1 | 1 | 1 |  0 |   1 |   1 |\n",
       "| 75 | 1 | 1 | 1 | 1 | 1 | 1 | 1 |  0 |   0 |   2 |\n",
       "| 1 | 1 | 1 | 1 | 1 | 1 | 1 | 0 |  1 |   1 |   1 |\n",
       "| <!----> | 0 | 0 | 0 | 0 | 0 | 0 | 1 | 80 | 306 | 387 |\n",
       "\n"
      ],
      "text/plain": [
       "    pclass survived sex sibsp parch fare embarked age cabin    \n",
       "81  1      1        1   1     1     1    1         1    1     0\n",
       "231 1      1        1   1     1     1    1         1    0     1\n",
       "5   1      1        1   1     1     1    1         0    1     1\n",
       "75  1      1        1   1     1     1    1         0    0     2\n",
       "1   1      1        1   1     1     1    0         1    1     1\n",
       "    0      0        0   0     0     0    1        80  306   387"
      ]
     },
     "metadata": {},
     "output_type": "display_data"
    },
    {
     "data": {
      "image/png": "[encoded data removed]",
      "text/plain": [
       "plot without title"
      ]
     },
     "metadata": {
      "image/png": {
       "height": 420,
       "width": 420
      }
     },
     "output_type": "display_data"
    }
   ],
   "source": [
    "md.pattern(titanic_test)"
   ]
  },
  {
   "cell_type": "code",
   "execution_count": 55,
   "id": "d840262c-9b0c-4ac3-b9ff-326a1230dae8",
   "metadata": {},
   "outputs": [
    {
     "data": {
      "text/html": [
       "<table class=\"dataframe\">\n",
       "<caption>A data.frame: 6 x 9</caption>\n",
       "<thead>\n",
       "\t<tr><th></th><th scope=col>pclass</th><th scope=col>survived</th><th scope=col>sex</th><th scope=col>age</th><th scope=col>sibsp</th><th scope=col>parch</th><th scope=col>fare</th><th scope=col>cabin</th><th scope=col>embarked</th></tr>\n",
       "\t<tr><th></th><th scope=col>&lt;int&gt;</th><th scope=col>&lt;int&gt;</th><th scope=col>&lt;chr&gt;</th><th scope=col>&lt;dbl&gt;</th><th scope=col>&lt;int&gt;</th><th scope=col>&lt;int&gt;</th><th scope=col>&lt;dbl&gt;</th><th scope=col>&lt;chr&gt;</th><th scope=col>&lt;chr&gt;</th></tr>\n",
       "</thead>\n",
       "<tbody>\n",
       "\t<tr><th scope=row>2</th><td>1</td><td>1</td><td>male  </td><td> 0.9167</td><td>1</td><td>2</td><td>151.5500</td><td>C22 C26</td><td>S</td></tr>\n",
       "\t<tr><th scope=row>4</th><td>1</td><td>0</td><td>male  </td><td>30.0000</td><td>1</td><td>2</td><td>151.5500</td><td>C22 C26</td><td>S</td></tr>\n",
       "\t<tr><th scope=row>5</th><td>1</td><td>0</td><td>female</td><td>25.0000</td><td>1</td><td>2</td><td>151.5500</td><td>C22 C26</td><td>S</td></tr>\n",
       "\t<tr><th scope=row>6</th><td>1</td><td>1</td><td>male  </td><td>48.0000</td><td>0</td><td>0</td><td> 26.5500</td><td>E12    </td><td>S</td></tr>\n",
       "\t<tr><th scope=row>7</th><td>1</td><td>1</td><td>female</td><td>63.0000</td><td>1</td><td>0</td><td> 77.9583</td><td>D7     </td><td>S</td></tr>\n",
       "\t<tr><th scope=row>8</th><td>1</td><td>0</td><td>male  </td><td>39.0000</td><td>0</td><td>0</td><td>  0.0000</td><td>A36    </td><td>S</td></tr>\n",
       "</tbody>\n",
       "</table>\n"
      ],
      "text/latex": [
       "A data.frame: 6 x 9\n",
       "\\begin{tabular}{r|lllllllll}\n",
       "  & pclass & survived & sex & age & sibsp & parch & fare & cabin & embarked\\\\\n",
       "  & <int> & <int> & <chr> & <dbl> & <int> & <int> & <dbl> & <chr> & <chr>\\\\\n",
       "\\hline\n",
       "\t2 & 1 & 1 & male   &  0.9167 & 1 & 2 & 151.5500 & C22 C26 & S\\\\\n",
       "\t4 & 1 & 0 & male   & 30.0000 & 1 & 2 & 151.5500 & C22 C26 & S\\\\\n",
       "\t5 & 1 & 0 & female & 25.0000 & 1 & 2 & 151.5500 & C22 C26 & S\\\\\n",
       "\t6 & 1 & 1 & male   & 48.0000 & 0 & 0 &  26.5500 & E12     & S\\\\\n",
       "\t7 & 1 & 1 & female & 63.0000 & 1 & 0 &  77.9583 & D7      & S\\\\\n",
       "\t8 & 1 & 0 & male   & 39.0000 & 0 & 0 &   0.0000 & A36     & S\\\\\n",
       "\\end{tabular}\n"
      ],
      "text/markdown": [
       "\n",
       "A data.frame: 6 x 9\n",
       "\n",
       "| <!--/--> | pclass &lt;int&gt; | survived &lt;int&gt; | sex &lt;chr&gt; | age &lt;dbl&gt; | sibsp &lt;int&gt; | parch &lt;int&gt; | fare &lt;dbl&gt; | cabin &lt;chr&gt; | embarked &lt;chr&gt; |\n",
       "|---|---|---|---|---|---|---|---|---|---|\n",
       "| 2 | 1 | 1 | male   |  0.9167 | 1 | 2 | 151.5500 | C22 C26 | S |\n",
       "| 4 | 1 | 0 | male   | 30.0000 | 1 | 2 | 151.5500 | C22 C26 | S |\n",
       "| 5 | 1 | 0 | female | 25.0000 | 1 | 2 | 151.5500 | C22 C26 | S |\n",
       "| 6 | 1 | 1 | male   | 48.0000 | 0 | 0 |  26.5500 | E12     | S |\n",
       "| 7 | 1 | 1 | female | 63.0000 | 1 | 0 |  77.9583 | D7      | S |\n",
       "| 8 | 1 | 0 | male   | 39.0000 | 0 | 0 |   0.0000 | A36     | S |\n",
       "\n"
      ],
      "text/plain": [
       "  pclass survived sex    age     sibsp parch fare     cabin   embarked\n",
       "2 1      1        male    0.9167 1     2     151.5500 C22 C26 S       \n",
       "4 1      0        male   30.0000 1     2     151.5500 C22 C26 S       \n",
       "5 1      0        female 25.0000 1     2     151.5500 C22 C26 S       \n",
       "6 1      1        male   48.0000 0     0      26.5500 E12     S       \n",
       "7 1      1        female 63.0000 1     0      77.9583 D7      S       \n",
       "8 1      0        male   39.0000 0     0       0.0000 A36     S       "
      ]
     },
     "metadata": {},
     "output_type": "display_data"
    }
   ],
   "source": [
    "head(titanic_train)"
   ]
  },
  {
   "cell_type": "code",
   "execution_count": 66,
   "id": "edac1119-8cd1-461e-bcb2-4607d1379390",
   "metadata": {},
   "outputs": [],
   "source": [
    "titanic_train <- titanic_train |>\n",
    "    mutate(hascabin = ifelse(!is.na(cabin), 1, 0)) |>\n",
    "    select(-cabin) # remove cabin column\n",
    "\n",
    " titanic_test <- titanic_test |> mutate(hascabin = ifelse(!is.na(cabin), 1, 0)) |>\n",
    "    select(-cabin) # remove cabin column"
   ]
  },
  {
   "cell_type": "code",
   "execution_count": 68,
   "id": "2bd80c2d-db1e-4664-ab8c-6047d728b712",
   "metadata": {},
   "outputs": [
    {
     "data": {
      "text/html": [
       "<table class=\"dataframe\">\n",
       "<caption>A data.frame: 6 x 9</caption>\n",
       "<thead>\n",
       "\t<tr><th></th><th scope=col>pclass</th><th scope=col>survived</th><th scope=col>sex</th><th scope=col>age</th><th scope=col>sibsp</th><th scope=col>parch</th><th scope=col>fare</th><th scope=col>embarked</th><th scope=col>hascabin</th></tr>\n",
       "\t<tr><th></th><th scope=col>&lt;int&gt;</th><th scope=col>&lt;int&gt;</th><th scope=col>&lt;chr&gt;</th><th scope=col>&lt;dbl&gt;</th><th scope=col>&lt;int&gt;</th><th scope=col>&lt;int&gt;</th><th scope=col>&lt;dbl&gt;</th><th scope=col>&lt;chr&gt;</th><th scope=col>&lt;dbl&gt;</th></tr>\n",
       "</thead>\n",
       "<tbody>\n",
       "\t<tr><th scope=row>2</th><td>1</td><td>1</td><td>male  </td><td> 0.9167</td><td>1</td><td>2</td><td>151.5500</td><td>S</td><td>1</td></tr>\n",
       "\t<tr><th scope=row>4</th><td>1</td><td>0</td><td>male  </td><td>30.0000</td><td>1</td><td>2</td><td>151.5500</td><td>S</td><td>1</td></tr>\n",
       "\t<tr><th scope=row>5</th><td>1</td><td>0</td><td>female</td><td>25.0000</td><td>1</td><td>2</td><td>151.5500</td><td>S</td><td>1</td></tr>\n",
       "\t<tr><th scope=row>6</th><td>1</td><td>1</td><td>male  </td><td>48.0000</td><td>0</td><td>0</td><td> 26.5500</td><td>S</td><td>1</td></tr>\n",
       "\t<tr><th scope=row>7</th><td>1</td><td>1</td><td>female</td><td>63.0000</td><td>1</td><td>0</td><td> 77.9583</td><td>S</td><td>1</td></tr>\n",
       "\t<tr><th scope=row>8</th><td>1</td><td>0</td><td>male  </td><td>39.0000</td><td>0</td><td>0</td><td>  0.0000</td><td>S</td><td>1</td></tr>\n",
       "</tbody>\n",
       "</table>\n"
      ],
      "text/latex": [
       "A data.frame: 6 x 9\n",
       "\\begin{tabular}{r|lllllllll}\n",
       "  & pclass & survived & sex & age & sibsp & parch & fare & embarked & hascabin\\\\\n",
       "  & <int> & <int> & <chr> & <dbl> & <int> & <int> & <dbl> & <chr> & <dbl>\\\\\n",
       "\\hline\n",
       "\t2 & 1 & 1 & male   &  0.9167 & 1 & 2 & 151.5500 & S & 1\\\\\n",
       "\t4 & 1 & 0 & male   & 30.0000 & 1 & 2 & 151.5500 & S & 1\\\\\n",
       "\t5 & 1 & 0 & female & 25.0000 & 1 & 2 & 151.5500 & S & 1\\\\\n",
       "\t6 & 1 & 1 & male   & 48.0000 & 0 & 0 &  26.5500 & S & 1\\\\\n",
       "\t7 & 1 & 1 & female & 63.0000 & 1 & 0 &  77.9583 & S & 1\\\\\n",
       "\t8 & 1 & 0 & male   & 39.0000 & 0 & 0 &   0.0000 & S & 1\\\\\n",
       "\\end{tabular}\n"
      ],
      "text/markdown": [
       "\n",
       "A data.frame: 6 x 9\n",
       "\n",
       "| <!--/--> | pclass &lt;int&gt; | survived &lt;int&gt; | sex &lt;chr&gt; | age &lt;dbl&gt; | sibsp &lt;int&gt; | parch &lt;int&gt; | fare &lt;dbl&gt; | embarked &lt;chr&gt; | hascabin &lt;dbl&gt; |\n",
       "|---|---|---|---|---|---|---|---|---|---|\n",
       "| 2 | 1 | 1 | male   |  0.9167 | 1 | 2 | 151.5500 | S | 1 |\n",
       "| 4 | 1 | 0 | male   | 30.0000 | 1 | 2 | 151.5500 | S | 1 |\n",
       "| 5 | 1 | 0 | female | 25.0000 | 1 | 2 | 151.5500 | S | 1 |\n",
       "| 6 | 1 | 1 | male   | 48.0000 | 0 | 0 |  26.5500 | S | 1 |\n",
       "| 7 | 1 | 1 | female | 63.0000 | 1 | 0 |  77.9583 | S | 1 |\n",
       "| 8 | 1 | 0 | male   | 39.0000 | 0 | 0 |   0.0000 | S | 1 |\n",
       "\n"
      ],
      "text/plain": [
       "  pclass survived sex    age     sibsp parch fare     embarked hascabin\n",
       "2 1      1        male    0.9167 1     2     151.5500 S        1       \n",
       "4 1      0        male   30.0000 1     2     151.5500 S        1       \n",
       "5 1      0        female 25.0000 1     2     151.5500 S        1       \n",
       "6 1      1        male   48.0000 0     0      26.5500 S        1       \n",
       "7 1      1        female 63.0000 1     0      77.9583 S        1       \n",
       "8 1      0        male   39.0000 0     0       0.0000 S        1       "
      ]
     },
     "metadata": {},
     "output_type": "display_data"
    }
   ],
   "source": [
    "head(titanic_train)"
   ]
  },
  {
   "cell_type": "code",
   "execution_count": 70,
   "id": "1c2416ff-472a-48ee-bca4-814063bc353d",
   "metadata": {},
   "outputs": [
    {
     "data": {
      "text/html": [
       "<table class=\"dataframe\">\n",
       "<caption>A data.frame: 1 x 9</caption>\n",
       "<thead>\n",
       "\t<tr><th scope=col>pclass</th><th scope=col>survived</th><th scope=col>sex</th><th scope=col>age</th><th scope=col>sibsp</th><th scope=col>parch</th><th scope=col>fare</th><th scope=col>embarked</th><th scope=col>hascabin</th></tr>\n",
       "\t<tr><th scope=col>&lt;int&gt;</th><th scope=col>&lt;int&gt;</th><th scope=col>&lt;chr&gt;</th><th scope=col>&lt;dbl&gt;</th><th scope=col>&lt;int&gt;</th><th scope=col>&lt;int&gt;</th><th scope=col>&lt;dbl&gt;</th><th scope=col>&lt;chr&gt;</th><th scope=col>&lt;dbl&gt;</th></tr>\n",
       "</thead>\n",
       "<tbody>\n",
       "\t<tr><td>3</td><td>0</td><td>male</td><td>60.5</td><td>0</td><td>0</td><td>NA</td><td>S</td><td>0</td></tr>\n",
       "</tbody>\n",
       "</table>\n"
      ],
      "text/latex": [
       "A data.frame: 1 x 9\n",
       "\\begin{tabular}{lllllllll}\n",
       " pclass & survived & sex & age & sibsp & parch & fare & embarked & hascabin\\\\\n",
       " <int> & <int> & <chr> & <dbl> & <int> & <int> & <dbl> & <chr> & <dbl>\\\\\n",
       "\\hline\n",
       "\t 3 & 0 & male & 60.5 & 0 & 0 & NA & S & 0\\\\\n",
       "\\end{tabular}\n"
      ],
      "text/markdown": [
       "\n",
       "A data.frame: 1 x 9\n",
       "\n",
       "| pclass &lt;int&gt; | survived &lt;int&gt; | sex &lt;chr&gt; | age &lt;dbl&gt; | sibsp &lt;int&gt; | parch &lt;int&gt; | fare &lt;dbl&gt; | embarked &lt;chr&gt; | hascabin &lt;dbl&gt; |\n",
       "|---|---|---|---|---|---|---|---|---|\n",
       "| 3 | 0 | male | 60.5 | 0 | 0 | NA | S | 0 |\n",
       "\n"
      ],
      "text/plain": [
       "  pclass survived sex  age  sibsp parch fare embarked hascabin\n",
       "1 3      0        male 60.5 0     0     NA   S        0       "
      ]
     },
     "metadata": {},
     "output_type": "display_data"
    }
   ],
   "source": [
    "titanic_train |> filter(is.na(fare))"
   ]
  },
  {
   "cell_type": "code",
   "execution_count": 81,
   "id": "5e7bbd06-d359-48d6-a4a9-ea3a5749d1af",
   "metadata": {},
   "outputs": [],
   "source": [
    "avg_fare <- titanic_data |> filter(pclass == 3) |> select(fare)\n",
    "avg_fare <- round(mean(unlist(avg_fare), na.rm = T))"
   ]
  },
  {
   "cell_type": "code",
   "execution_count": 83,
   "id": "4299e538-45b4-4b1f-a8cc-7c6ed188dedc",
   "metadata": {},
   "outputs": [],
   "source": [
    "library(tidyr)"
   ]
  },
  {
   "cell_type": "code",
   "execution_count": 84,
   "id": "651c286e-c044-4d9f-8816-05d7b208de14",
   "metadata": {},
   "outputs": [],
   "source": [
    "titanic_train <- titanic_train |> \n",
    "    mutate(fare = replace_na(fare, avg_fare))"
   ]
  },
  {
   "cell_type": "code",
   "execution_count": 86,
   "id": "8f001251-75d2-4122-a44c-a68115a0aa30",
   "metadata": {},
   "outputs": [
    {
     "data": {
      "text/html": [
       "FALSE"
      ],
      "text/latex": [
       "FALSE"
      ],
      "text/markdown": [
       "FALSE"
      ],
      "text/plain": [
       "[1] FALSE"
      ]
     },
     "metadata": {},
     "output_type": "display_data"
    }
   ],
   "source": [
    "any(is.na(titanic_train$fare))"
   ]
  },
  {
   "cell_type": "code",
   "execution_count": 87,
   "id": "795902da-4fc6-4dec-b798-d2da7992db02",
   "metadata": {},
   "outputs": [],
   "source": [
    "getmode <- function(v) {\n",
    "  uniqv <- unique(v) # select all unique values\n",
    "  uniqv[which.max(tabulate(match(v, uniqv)))] # select value that included most times\n",
    "}"
   ]
  },
  {
   "cell_type": "code",
   "execution_count": 89,
   "id": "06ff28ea-bc92-47f4-a985-d575bd079dcc",
   "metadata": {},
   "outputs": [
    {
     "data": {
      "text/html": [
       "'S'"
      ],
      "text/latex": [
       "'S'"
      ],
      "text/markdown": [
       "'S'"
      ],
      "text/plain": [
       "[1] \"S\""
      ]
     },
     "metadata": {},
     "output_type": "display_data"
    }
   ],
   "source": [
    "embarked_moda <- getmode(titanic_data$embarked)\n",
    "embarked_moda"
   ]
  },
  {
   "cell_type": "code",
   "execution_count": 91,
   "id": "d5e1951a-96f2-4c43-b52b-aaebc72a545a",
   "metadata": {},
   "outputs": [],
   "source": [
    "titanic_train <- titanic_train %>% \n",
    "    mutate(embarked = replace_na(embarked, embarked_moda))\n",
    "\n",
    "titanic_test <- titanic_test %>% \n",
    "    mutate(embarked = replace_na(embarked, embarked_moda))"
   ]
  },
  {
   "cell_type": "code",
   "execution_count": 93,
   "id": "feb3777f-a13e-48a6-a945-b41efcd19faa",
   "metadata": {},
   "outputs": [
    {
     "name": "stderr",
     "output_type": "stream",
     "text": [
      "Warning message:\n",
      "\"\u001b[1m\u001b[22mRemoved 183 rows containing non-finite values (`stat_boxplot()`).\"\n"
     ]
    },
    {
     "data": {
      "image/png": "[encoded data removed]",
      "text/plain": [
       "plot without title"
      ]
     },
     "metadata": {
      "image/png": {
       "height": 420,
       "width": 420
      }
     },
     "output_type": "display_data"
    }
   ],
   "source": [
    "age_plot <- ggplot(titanic_train, aes(pclass, age)) \n",
    "age_plot <- age_plot + geom_boxplot(aes(group = pclass, fill = factor(pclass), alpha = 0.4)) # alpha == opacity of chart elements\n",
    "age_plot <- age_plot + scale_y_continuous(breaks = seq(min(0), max(80), by = 2)) + theme_bw()\n",
    "age_plot"
   ]
  },
  {
   "cell_type": "code",
   "execution_count": 95,
   "id": "2531e217-c441-46e3-8ea8-c5d02e0f215b",
   "metadata": {},
   "outputs": [
    {
     "data": {
      "text/html": [
       "<table class=\"dataframe\">\n",
       "<caption>A tibble: 3 x 2</caption>\n",
       "<thead>\n",
       "\t<tr><th scope=col>pclass</th><th scope=col>mean_age</th></tr>\n",
       "\t<tr><th scope=col>&lt;int&gt;</th><th scope=col>&lt;dbl&gt;</th></tr>\n",
       "</thead>\n",
       "<tbody>\n",
       "\t<tr><td>1</td><td>38</td></tr>\n",
       "\t<tr><td>2</td><td>28</td></tr>\n",
       "\t<tr><td>3</td><td>24</td></tr>\n",
       "</tbody>\n",
       "</table>\n"
      ],
      "text/latex": [
       "A tibble: 3 x 2\n",
       "\\begin{tabular}{ll}\n",
       " pclass & mean\\_age\\\\\n",
       " <int> & <dbl>\\\\\n",
       "\\hline\n",
       "\t 1 & 38\\\\\n",
       "\t 2 & 28\\\\\n",
       "\t 3 & 24\\\\\n",
       "\\end{tabular}\n"
      ],
      "text/markdown": [
       "\n",
       "A tibble: 3 x 2\n",
       "\n",
       "| pclass &lt;int&gt; | mean_age &lt;dbl&gt; |\n",
       "|---|---|\n",
       "| 1 | 38 |\n",
       "| 2 | 28 |\n",
       "| 3 | 24 |\n",
       "\n"
      ],
      "text/plain": [
       "  pclass mean_age\n",
       "1 1      38      \n",
       "2 2      28      \n",
       "3 3      24      "
      ]
     },
     "metadata": {},
     "output_type": "display_data"
    }
   ],
   "source": [
    "pclass_ages <- titanic_train %>%\n",
    "    group_by(pclass) %>%\n",
    "    summarise(mean_age = floor(mean(age, na.rm =T)))\n",
    "pclass_ages"
   ]
  },
  {
   "cell_type": "code",
   "execution_count": 97,
   "id": "45e71ef9-655a-4c26-b855-1613007e86f7",
   "metadata": {},
   "outputs": [],
   "source": [
    "titanic_train <- titanic_train %>% \n",
    "    mutate(age = ifelse(is.na(age), pclass_ages$mean_age[pclass], age))"
   ]
  },
  {
   "cell_type": "code",
   "execution_count": 99,
   "id": "248ab688-6f1e-40ed-b16b-c0bc3beb69e6",
   "metadata": {},
   "outputs": [
    {
     "data": {
      "image/png": "[encoded data removed]",
      "text/plain": [
       "plot without title"
      ]
     },
     "metadata": {
      "image/png": {
       "height": 420,
       "width": 420
      }
     },
     "output_type": "display_data"
    }
   ],
   "source": [
    "age_plot <- ggplot(titanic_train, aes(pclass, age)) \n",
    "age_plot <- age_plot + geom_boxplot(aes(group = pclass, fill = factor(pclass), alpha = 0.4)) # alpha == opacity of chart elements\n",
    "age_plot <- age_plot + scale_y_continuous(breaks = seq(min(0), max(80), by = 2)) + theme_bw()\n",
    "age_plot"
   ]
  },
  {
   "cell_type": "code",
   "execution_count": 101,
   "id": "5a87a617-25ff-45f5-8e6e-a0de84535593",
   "metadata": {},
   "outputs": [],
   "source": [
    "titanic_test <- titanic_test %>% \n",
    "       mutate(age = ifelse(is.na(age), pclass_ages$mean_age[pclass], age))"
   ]
  },
  {
   "cell_type": "code",
   "execution_count": 103,
   "id": "b1c02871-9cc2-421e-9b1f-7adb96826732",
   "metadata": {},
   "outputs": [
    {
     "name": "stdout",
     "output_type": "stream",
     "text": [
      " /\\     /\\\n",
      "{  `---'  }\n",
      "{  O   O  }\n",
      "==>  V <==  No need for mice. This data set is completely observed.\n",
      " \\  \\|/  /\n",
      "  `-----'\n",
      "\n"
     ]
    },
    {
     "data": {
      "text/html": [
       "<table class=\"dataframe\">\n",
       "<caption>A matrix: 2 x 10 of type dbl</caption>\n",
       "<thead>\n",
       "\t<tr><th></th><th scope=col>pclass</th><th scope=col>survived</th><th scope=col>sex</th><th scope=col>age</th><th scope=col>sibsp</th><th scope=col>parch</th><th scope=col>fare</th><th scope=col>embarked</th><th scope=col>hascabin</th><th scope=col></th></tr>\n",
       "</thead>\n",
       "<tbody>\n",
       "\t<tr><th scope=row>916</th><td>1</td><td>1</td><td>1</td><td>1</td><td>1</td><td>1</td><td>1</td><td>1</td><td>1</td><td>0</td></tr>\n",
       "\t<tr><th scope=row></th><td>0</td><td>0</td><td>0</td><td>0</td><td>0</td><td>0</td><td>0</td><td>0</td><td>0</td><td>0</td></tr>\n",
       "</tbody>\n",
       "</table>\n"
      ],
      "text/latex": [
       "A matrix: 2 x 10 of type dbl\n",
       "\\begin{tabular}{r|llllllllll}\n",
       "  & pclass & survived & sex & age & sibsp & parch & fare & embarked & hascabin & \\\\\n",
       "\\hline\n",
       "\t916 & 1 & 1 & 1 & 1 & 1 & 1 & 1 & 1 & 1 & 0\\\\\n",
       "\t & 0 & 0 & 0 & 0 & 0 & 0 & 0 & 0 & 0 & 0\\\\\n",
       "\\end{tabular}\n"
      ],
      "text/markdown": [
       "\n",
       "A matrix: 2 x 10 of type dbl\n",
       "\n",
       "| <!--/--> | pclass | survived | sex | age | sibsp | parch | fare | embarked | hascabin | <!----> |\n",
       "|---|---|---|---|---|---|---|---|---|---|---|\n",
       "| 916 | 1 | 1 | 1 | 1 | 1 | 1 | 1 | 1 | 1 | 0 |\n",
       "| <!----> | 0 | 0 | 0 | 0 | 0 | 0 | 0 | 0 | 0 | 0 |\n",
       "\n"
      ],
      "text/plain": [
       "    pclass survived sex age sibsp parch fare embarked hascabin  \n",
       "916 1      1        1   1   1     1     1    1        1        0\n",
       "    0      0        0   0   0     0     0    0        0        0"
      ]
     },
     "metadata": {},
     "output_type": "display_data"
    },
    {
     "data": {
      "image/png": "[encoded data removed]",
      "text/plain": [
       "plot without title"
      ]
     },
     "metadata": {
      "image/png": {
       "height": 420,
       "width": 420
      }
     },
     "output_type": "display_data"
    }
   ],
   "source": [
    "md.pattern(titanic_train)"
   ]
  },
  {
   "cell_type": "code",
   "execution_count": 105,
   "id": "c11c368f-f4b7-46d0-bfd6-759457bf97c8",
   "metadata": {},
   "outputs": [
    {
     "name": "stdout",
     "output_type": "stream",
     "text": [
      " /\\     /\\\n",
      "{  `---'  }\n",
      "{  O   O  }\n",
      "==>  V <==  No need for mice. This data set is completely observed.\n",
      " \\  \\|/  /\n",
      "  `-----'\n",
      "\n"
     ]
    },
    {
     "data": {
      "text/html": [
       "<table class=\"dataframe\">\n",
       "<caption>A matrix: 2 x 10 of type dbl</caption>\n",
       "<thead>\n",
       "\t<tr><th></th><th scope=col>pclass</th><th scope=col>survived</th><th scope=col>sex</th><th scope=col>age</th><th scope=col>sibsp</th><th scope=col>parch</th><th scope=col>fare</th><th scope=col>embarked</th><th scope=col>hascabin</th><th scope=col></th></tr>\n",
       "</thead>\n",
       "<tbody>\n",
       "\t<tr><th scope=row>393</th><td>1</td><td>1</td><td>1</td><td>1</td><td>1</td><td>1</td><td>1</td><td>1</td><td>1</td><td>0</td></tr>\n",
       "\t<tr><th scope=row></th><td>0</td><td>0</td><td>0</td><td>0</td><td>0</td><td>0</td><td>0</td><td>0</td><td>0</td><td>0</td></tr>\n",
       "</tbody>\n",
       "</table>\n"
      ],
      "text/latex": [
       "A matrix: 2 x 10 of type dbl\n",
       "\\begin{tabular}{r|llllllllll}\n",
       "  & pclass & survived & sex & age & sibsp & parch & fare & embarked & hascabin & \\\\\n",
       "\\hline\n",
       "\t393 & 1 & 1 & 1 & 1 & 1 & 1 & 1 & 1 & 1 & 0\\\\\n",
       "\t & 0 & 0 & 0 & 0 & 0 & 0 & 0 & 0 & 0 & 0\\\\\n",
       "\\end{tabular}\n"
      ],
      "text/markdown": [
       "\n",
       "A matrix: 2 x 10 of type dbl\n",
       "\n",
       "| <!--/--> | pclass | survived | sex | age | sibsp | parch | fare | embarked | hascabin | <!----> |\n",
       "|---|---|---|---|---|---|---|---|---|---|---|\n",
       "| 393 | 1 | 1 | 1 | 1 | 1 | 1 | 1 | 1 | 1 | 0 |\n",
       "| <!----> | 0 | 0 | 0 | 0 | 0 | 0 | 0 | 0 | 0 | 0 |\n",
       "\n"
      ],
      "text/plain": [
       "    pclass survived sex age sibsp parch fare embarked hascabin  \n",
       "393 1      1        1   1   1     1     1    1        1        0\n",
       "    0      0        0   0   0     0     0    0        0        0"
      ]
     },
     "metadata": {},
     "output_type": "display_data"
    },
    {
     "data": {
      "image/png": "[encoded data removed]",
      "text/plain": [
       "plot without title"
      ]
     },
     "metadata": {
      "image/png": {
       "height": 420,
       "width": 420
      }
     },
     "output_type": "display_data"
    }
   ],
   "source": [
    "md.pattern(titanic_test)"
   ]
  },
  {
   "cell_type": "markdown",
   "id": "8490574a-b536-4ab3-9362-e140451aa77b",
   "metadata": {},
   "source": [
    "## 5. Model building"
   ]
  },
  {
   "cell_type": "code",
   "execution_count": 108,
   "id": "1b67a5b9-2165-4139-a9bb-e70f5c50e06c",
   "metadata": {},
   "outputs": [
    {
     "data": {
      "text/html": [
       "<table class=\"dataframe\">\n",
       "<caption>A data.frame: 6 x 9</caption>\n",
       "<thead>\n",
       "\t<tr><th></th><th scope=col>pclass</th><th scope=col>survived</th><th scope=col>sex</th><th scope=col>age</th><th scope=col>sibsp</th><th scope=col>parch</th><th scope=col>fare</th><th scope=col>embarked</th><th scope=col>hascabin</th></tr>\n",
       "\t<tr><th></th><th scope=col>&lt;int&gt;</th><th scope=col>&lt;int&gt;</th><th scope=col>&lt;chr&gt;</th><th scope=col>&lt;dbl&gt;</th><th scope=col>&lt;int&gt;</th><th scope=col>&lt;int&gt;</th><th scope=col>&lt;dbl&gt;</th><th scope=col>&lt;chr&gt;</th><th scope=col>&lt;dbl&gt;</th></tr>\n",
       "</thead>\n",
       "<tbody>\n",
       "\t<tr><th scope=row>2</th><td>1</td><td>1</td><td>male  </td><td> 0.9167</td><td>1</td><td>2</td><td>151.5500</td><td>S</td><td>1</td></tr>\n",
       "\t<tr><th scope=row>4</th><td>1</td><td>0</td><td>male  </td><td>30.0000</td><td>1</td><td>2</td><td>151.5500</td><td>S</td><td>1</td></tr>\n",
       "\t<tr><th scope=row>5</th><td>1</td><td>0</td><td>female</td><td>25.0000</td><td>1</td><td>2</td><td>151.5500</td><td>S</td><td>1</td></tr>\n",
       "\t<tr><th scope=row>6</th><td>1</td><td>1</td><td>male  </td><td>48.0000</td><td>0</td><td>0</td><td> 26.5500</td><td>S</td><td>1</td></tr>\n",
       "\t<tr><th scope=row>7</th><td>1</td><td>1</td><td>female</td><td>63.0000</td><td>1</td><td>0</td><td> 77.9583</td><td>S</td><td>1</td></tr>\n",
       "\t<tr><th scope=row>8</th><td>1</td><td>0</td><td>male  </td><td>39.0000</td><td>0</td><td>0</td><td>  0.0000</td><td>S</td><td>1</td></tr>\n",
       "</tbody>\n",
       "</table>\n"
      ],
      "text/latex": [
       "A data.frame: 6 x 9\n",
       "\\begin{tabular}{r|lllllllll}\n",
       "  & pclass & survived & sex & age & sibsp & parch & fare & embarked & hascabin\\\\\n",
       "  & <int> & <int> & <chr> & <dbl> & <int> & <int> & <dbl> & <chr> & <dbl>\\\\\n",
       "\\hline\n",
       "\t2 & 1 & 1 & male   &  0.9167 & 1 & 2 & 151.5500 & S & 1\\\\\n",
       "\t4 & 1 & 0 & male   & 30.0000 & 1 & 2 & 151.5500 & S & 1\\\\\n",
       "\t5 & 1 & 0 & female & 25.0000 & 1 & 2 & 151.5500 & S & 1\\\\\n",
       "\t6 & 1 & 1 & male   & 48.0000 & 0 & 0 &  26.5500 & S & 1\\\\\n",
       "\t7 & 1 & 1 & female & 63.0000 & 1 & 0 &  77.9583 & S & 1\\\\\n",
       "\t8 & 1 & 0 & male   & 39.0000 & 0 & 0 &   0.0000 & S & 1\\\\\n",
       "\\end{tabular}\n"
      ],
      "text/markdown": [
       "\n",
       "A data.frame: 6 x 9\n",
       "\n",
       "| <!--/--> | pclass &lt;int&gt; | survived &lt;int&gt; | sex &lt;chr&gt; | age &lt;dbl&gt; | sibsp &lt;int&gt; | parch &lt;int&gt; | fare &lt;dbl&gt; | embarked &lt;chr&gt; | hascabin &lt;dbl&gt; |\n",
       "|---|---|---|---|---|---|---|---|---|---|\n",
       "| 2 | 1 | 1 | male   |  0.9167 | 1 | 2 | 151.5500 | S | 1 |\n",
       "| 4 | 1 | 0 | male   | 30.0000 | 1 | 2 | 151.5500 | S | 1 |\n",
       "| 5 | 1 | 0 | female | 25.0000 | 1 | 2 | 151.5500 | S | 1 |\n",
       "| 6 | 1 | 1 | male   | 48.0000 | 0 | 0 |  26.5500 | S | 1 |\n",
       "| 7 | 1 | 1 | female | 63.0000 | 1 | 0 |  77.9583 | S | 1 |\n",
       "| 8 | 1 | 0 | male   | 39.0000 | 0 | 0 |   0.0000 | S | 1 |\n",
       "\n"
      ],
      "text/plain": [
       "  pclass survived sex    age     sibsp parch fare     embarked hascabin\n",
       "2 1      1        male    0.9167 1     2     151.5500 S        1       \n",
       "4 1      0        male   30.0000 1     2     151.5500 S        1       \n",
       "5 1      0        female 25.0000 1     2     151.5500 S        1       \n",
       "6 1      1        male   48.0000 0     0      26.5500 S        1       \n",
       "7 1      1        female 63.0000 1     0      77.9583 S        1       \n",
       "8 1      0        male   39.0000 0     0       0.0000 S        1       "
      ]
     },
     "metadata": {},
     "output_type": "display_data"
    }
   ],
   "source": [
    "head(titanic_train)"
   ]
  },
  {
   "cell_type": "code",
   "execution_count": 110,
   "id": "df275621-e2bd-479c-8c3c-efa38276e12f",
   "metadata": {},
   "outputs": [
    {
     "data": {
      "text/html": [
       "<table class=\"dataframe\">\n",
       "<caption>A data.frame: 6 x 9</caption>\n",
       "<thead>\n",
       "\t<tr><th></th><th scope=col>pclass</th><th scope=col>survived</th><th scope=col>sex</th><th scope=col>age</th><th scope=col>sibsp</th><th scope=col>parch</th><th scope=col>fare</th><th scope=col>embarked</th><th scope=col>hascabin</th></tr>\n",
       "\t<tr><th></th><th scope=col>&lt;fct&gt;</th><th scope=col>&lt;fct&gt;</th><th scope=col>&lt;fct&gt;</th><th scope=col>&lt;dbl&gt;</th><th scope=col>&lt;int&gt;</th><th scope=col>&lt;int&gt;</th><th scope=col>&lt;dbl&gt;</th><th scope=col>&lt;fct&gt;</th><th scope=col>&lt;fct&gt;</th></tr>\n",
       "</thead>\n",
       "<tbody>\n",
       "\t<tr><th scope=row>2</th><td>1</td><td>1</td><td>male  </td><td> 0.9167</td><td>1</td><td>2</td><td>151.5500</td><td>S</td><td>1</td></tr>\n",
       "\t<tr><th scope=row>4</th><td>1</td><td>0</td><td>male  </td><td>30.0000</td><td>1</td><td>2</td><td>151.5500</td><td>S</td><td>1</td></tr>\n",
       "\t<tr><th scope=row>5</th><td>1</td><td>0</td><td>female</td><td>25.0000</td><td>1</td><td>2</td><td>151.5500</td><td>S</td><td>1</td></tr>\n",
       "\t<tr><th scope=row>6</th><td>1</td><td>1</td><td>male  </td><td>48.0000</td><td>0</td><td>0</td><td> 26.5500</td><td>S</td><td>1</td></tr>\n",
       "\t<tr><th scope=row>7</th><td>1</td><td>1</td><td>female</td><td>63.0000</td><td>1</td><td>0</td><td> 77.9583</td><td>S</td><td>1</td></tr>\n",
       "\t<tr><th scope=row>8</th><td>1</td><td>0</td><td>male  </td><td>39.0000</td><td>0</td><td>0</td><td>  0.0000</td><td>S</td><td>1</td></tr>\n",
       "</tbody>\n",
       "</table>\n"
      ],
      "text/latex": [
       "A data.frame: 6 x 9\n",
       "\\begin{tabular}{r|lllllllll}\n",
       "  & pclass & survived & sex & age & sibsp & parch & fare & embarked & hascabin\\\\\n",
       "  & <fct> & <fct> & <fct> & <dbl> & <int> & <int> & <dbl> & <fct> & <fct>\\\\\n",
       "\\hline\n",
       "\t2 & 1 & 1 & male   &  0.9167 & 1 & 2 & 151.5500 & S & 1\\\\\n",
       "\t4 & 1 & 0 & male   & 30.0000 & 1 & 2 & 151.5500 & S & 1\\\\\n",
       "\t5 & 1 & 0 & female & 25.0000 & 1 & 2 & 151.5500 & S & 1\\\\\n",
       "\t6 & 1 & 1 & male   & 48.0000 & 0 & 0 &  26.5500 & S & 1\\\\\n",
       "\t7 & 1 & 1 & female & 63.0000 & 1 & 0 &  77.9583 & S & 1\\\\\n",
       "\t8 & 1 & 0 & male   & 39.0000 & 0 & 0 &   0.0000 & S & 1\\\\\n",
       "\\end{tabular}\n"
      ],
      "text/markdown": [
       "\n",
       "A data.frame: 6 x 9\n",
       "\n",
       "| <!--/--> | pclass &lt;fct&gt; | survived &lt;fct&gt; | sex &lt;fct&gt; | age &lt;dbl&gt; | sibsp &lt;int&gt; | parch &lt;int&gt; | fare &lt;dbl&gt; | embarked &lt;fct&gt; | hascabin &lt;fct&gt; |\n",
       "|---|---|---|---|---|---|---|---|---|---|\n",
       "| 2 | 1 | 1 | male   |  0.9167 | 1 | 2 | 151.5500 | S | 1 |\n",
       "| 4 | 1 | 0 | male   | 30.0000 | 1 | 2 | 151.5500 | S | 1 |\n",
       "| 5 | 1 | 0 | female | 25.0000 | 1 | 2 | 151.5500 | S | 1 |\n",
       "| 6 | 1 | 1 | male   | 48.0000 | 0 | 0 |  26.5500 | S | 1 |\n",
       "| 7 | 1 | 1 | female | 63.0000 | 1 | 0 |  77.9583 | S | 1 |\n",
       "| 8 | 1 | 0 | male   | 39.0000 | 0 | 0 |   0.0000 | S | 1 |\n",
       "\n"
      ],
      "text/plain": [
       "  pclass survived sex    age     sibsp parch fare     embarked hascabin\n",
       "2 1      1        male    0.9167 1     2     151.5500 S        1       \n",
       "4 1      0        male   30.0000 1     2     151.5500 S        1       \n",
       "5 1      0        female 25.0000 1     2     151.5500 S        1       \n",
       "6 1      1        male   48.0000 0     0      26.5500 S        1       \n",
       "7 1      1        female 63.0000 1     0      77.9583 S        1       \n",
       "8 1      0        male   39.0000 0     0       0.0000 S        1       "
      ]
     },
     "metadata": {},
     "output_type": "display_data"
    }
   ],
   "source": [
    "titanic_train$pclass <- factor(titanic_train$pclass, levels = c(1,2,3))\n",
    "titanic_train$survived <- factor(titanic_train$survived, levels = c(0, 1))\n",
    "titanic_train$hascabin<- factor(titanic_train$hascabin, levels = c(0, 1))\n",
    "\n",
    "titanic_train$embarked <- factor(titanic_train$embarked, levels = c('S', 'C', 'Q'))\n",
    "titanic_train$sex <- factor(titanic_train$sex, levels = c('female', 'male'))\n",
    "\n",
    "head(titanic_train)"
   ]
  },
  {
   "cell_type": "code",
   "execution_count": 112,
   "id": "c8c28d24-6f01-4cf9-ad29-b7e2ef402cd3",
   "metadata": {},
   "outputs": [
    {
     "data": {
      "text/html": [
       "<table class=\"dataframe\">\n",
       "<caption>A data.frame: 6 x 9</caption>\n",
       "<thead>\n",
       "\t<tr><th></th><th scope=col>pclass</th><th scope=col>survived</th><th scope=col>sex</th><th scope=col>age</th><th scope=col>sibsp</th><th scope=col>parch</th><th scope=col>fare</th><th scope=col>embarked</th><th scope=col>hascabin</th></tr>\n",
       "\t<tr><th></th><th scope=col>&lt;fct&gt;</th><th scope=col>&lt;fct&gt;</th><th scope=col>&lt;fct&gt;</th><th scope=col>&lt;dbl&gt;</th><th scope=col>&lt;int&gt;</th><th scope=col>&lt;int&gt;</th><th scope=col>&lt;dbl&gt;</th><th scope=col>&lt;fct&gt;</th><th scope=col>&lt;fct&gt;</th></tr>\n",
       "</thead>\n",
       "<tbody>\n",
       "\t<tr><th scope=row>1</th><td>1</td><td>1</td><td>female</td><td>29</td><td>0</td><td>0</td><td>211.3375</td><td>S</td><td>1</td></tr>\n",
       "\t<tr><th scope=row>3</th><td>1</td><td>0</td><td>female</td><td> 2</td><td>1</td><td>2</td><td>151.5500</td><td>S</td><td>1</td></tr>\n",
       "\t<tr><th scope=row>10</th><td>1</td><td>0</td><td>male  </td><td>71</td><td>0</td><td>0</td><td> 49.5042</td><td>C</td><td>0</td></tr>\n",
       "\t<tr><th scope=row>15</th><td>1</td><td>1</td><td>male  </td><td>80</td><td>0</td><td>0</td><td> 30.0000</td><td>S</td><td>1</td></tr>\n",
       "\t<tr><th scope=row>19</th><td>1</td><td>1</td><td>female</td><td>32</td><td>0</td><td>0</td><td> 76.2917</td><td>C</td><td>1</td></tr>\n",
       "\t<tr><th scope=row>21</th><td>1</td><td>1</td><td>male  </td><td>37</td><td>1</td><td>1</td><td> 52.5542</td><td>S</td><td>1</td></tr>\n",
       "</tbody>\n",
       "</table>\n"
      ],
      "text/latex": [
       "A data.frame: 6 x 9\n",
       "\\begin{tabular}{r|lllllllll}\n",
       "  & pclass & survived & sex & age & sibsp & parch & fare & embarked & hascabin\\\\\n",
       "  & <fct> & <fct> & <fct> & <dbl> & <int> & <int> & <dbl> & <fct> & <fct>\\\\\n",
       "\\hline\n",
       "\t1 & 1 & 1 & female & 29 & 0 & 0 & 211.3375 & S & 1\\\\\n",
       "\t3 & 1 & 0 & female &  2 & 1 & 2 & 151.5500 & S & 1\\\\\n",
       "\t10 & 1 & 0 & male   & 71 & 0 & 0 &  49.5042 & C & 0\\\\\n",
       "\t15 & 1 & 1 & male   & 80 & 0 & 0 &  30.0000 & S & 1\\\\\n",
       "\t19 & 1 & 1 & female & 32 & 0 & 0 &  76.2917 & C & 1\\\\\n",
       "\t21 & 1 & 1 & male   & 37 & 1 & 1 &  52.5542 & S & 1\\\\\n",
       "\\end{tabular}\n"
      ],
      "text/markdown": [
       "\n",
       "A data.frame: 6 x 9\n",
       "\n",
       "| <!--/--> | pclass &lt;fct&gt; | survived &lt;fct&gt; | sex &lt;fct&gt; | age &lt;dbl&gt; | sibsp &lt;int&gt; | parch &lt;int&gt; | fare &lt;dbl&gt; | embarked &lt;fct&gt; | hascabin &lt;fct&gt; |\n",
       "|---|---|---|---|---|---|---|---|---|---|\n",
       "| 1 | 1 | 1 | female | 29 | 0 | 0 | 211.3375 | S | 1 |\n",
       "| 3 | 1 | 0 | female |  2 | 1 | 2 | 151.5500 | S | 1 |\n",
       "| 10 | 1 | 0 | male   | 71 | 0 | 0 |  49.5042 | C | 0 |\n",
       "| 15 | 1 | 1 | male   | 80 | 0 | 0 |  30.0000 | S | 1 |\n",
       "| 19 | 1 | 1 | female | 32 | 0 | 0 |  76.2917 | C | 1 |\n",
       "| 21 | 1 | 1 | male   | 37 | 1 | 1 |  52.5542 | S | 1 |\n",
       "\n"
      ],
      "text/plain": [
       "   pclass survived sex    age sibsp parch fare     embarked hascabin\n",
       "1  1      1        female 29  0     0     211.3375 S        1       \n",
       "3  1      0        female  2  1     2     151.5500 S        1       \n",
       "10 1      0        male   71  0     0      49.5042 C        0       \n",
       "15 1      1        male   80  0     0      30.0000 S        1       \n",
       "19 1      1        female 32  0     0      76.2917 C        1       \n",
       "21 1      1        male   37  1     1      52.5542 S        1       "
      ]
     },
     "metadata": {},
     "output_type": "display_data"
    }
   ],
   "source": [
    "titanic_test$pclass <- factor(titanic_test$pclass, levels = c(1,2,3))\n",
    "titanic_test$survived <- factor(titanic_test$survived, levels = c(0, 1))\n",
    "titanic_test$hascabin<- factor(titanic_test$hascabin, levels = c(0, 1))\n",
    "\n",
    "titanic_test$embarked <- factor(titanic_test$embarked, levels = c('S', 'C', 'Q'))\n",
    "titanic_test$sex <- factor(titanic_test$sex, levels = c('female', 'male'))\n",
    "\n",
    "head(titanic_test)"
   ]
  },
  {
   "cell_type": "code",
   "execution_count": 114,
   "id": "65472fcc-5a45-4fdf-83dd-f070e823baaa",
   "metadata": {},
   "outputs": [
    {
     "data": {
      "text/plain": [
       "\n",
       "Call:\n",
       "glm(formula = survived ~ ., family = binomial(link = \"logit\"), \n",
       "    data = titanic_train)\n",
       "\n",
       "Deviance Residuals: \n",
       "    Min       1Q   Median       3Q      Max  \n",
       "-2.4095  -0.6015  -0.3923   0.5737   2.6619  \n",
       "\n",
       "Coefficients:\n",
       "             Estimate Std. Error z value Pr(>|z|)    \n",
       "(Intercept)  3.262736   0.543904   5.999 1.99e-09 ***\n",
       "pclass2     -0.657637   0.377371  -1.743  0.08139 .  \n",
       "pclass3     -1.742837   0.397465  -4.385 1.16e-05 ***\n",
       "sexmale     -2.793824   0.202187 -13.818  < 2e-16 ***\n",
       "age         -0.041861   0.008436  -4.962 6.98e-07 ***\n",
       "sibsp       -0.328577   0.111091  -2.958  0.00310 ** \n",
       "parch       -0.069026   0.110624  -0.624  0.53265    \n",
       "fare         0.001319   0.002496   0.528  0.59726    \n",
       "embarkedC    0.451241   0.237224   1.902  0.05715 .  \n",
       "embarkedQ    0.042958   0.315594   0.136  0.89173    \n",
       "hascabin1    0.896952   0.313022   2.865  0.00416 ** \n",
       "---\n",
       "Signif. codes:  0 '***' 0.001 '**' 0.01 '*' 0.05 '.' 0.1 ' ' 1\n",
       "\n",
       "(Dispersion parameter for binomial family taken to be 1)\n",
       "\n",
       "    Null deviance: 1218.43  on 915  degrees of freedom\n",
       "Residual deviance:  787.82  on 905  degrees of freedom\n",
       "AIC: 809.82\n",
       "\n",
       "Number of Fisher Scoring iterations: 5\n"
      ]
     },
     "metadata": {},
     "output_type": "display_data"
    }
   ],
   "source": [
    "def_glm <- glm(formula = survived ~ ., family = binomial(link = \"logit\"), data = titanic_train)\n",
    "summary(def_glm)"
   ]
  },
  {
   "cell_type": "code",
   "execution_count": 116,
   "id": "1a7316c1-2940-4fc3-b02d-6e799605a838",
   "metadata": {},
   "outputs": [],
   "source": [
    "titanic_train <- titanic_train |>\n",
    "    mutate(predicted = predict(def_glm, newdata = titanic_train, type = 'response'))\n",
    "\n",
    "titanic_test <- titanic_test |>\n",
    "    mutate(predicted = predict(def_glm, newdata = titanic_test, type = 'response'))"
   ]
  },
  {
   "cell_type": "code",
   "execution_count": 118,
   "id": "c98dcac9-932f-416e-b87a-1e3e6dc24188",
   "metadata": {},
   "outputs": [
    {
     "data": {
      "text/html": [
       "<table class=\"dataframe\">\n",
       "<caption>A data.frame: 6 x 10</caption>\n",
       "<thead>\n",
       "\t<tr><th></th><th scope=col>pclass</th><th scope=col>survived</th><th scope=col>sex</th><th scope=col>age</th><th scope=col>sibsp</th><th scope=col>parch</th><th scope=col>fare</th><th scope=col>embarked</th><th scope=col>hascabin</th><th scope=col>predicted</th></tr>\n",
       "\t<tr><th></th><th scope=col>&lt;fct&gt;</th><th scope=col>&lt;fct&gt;</th><th scope=col>&lt;fct&gt;</th><th scope=col>&lt;dbl&gt;</th><th scope=col>&lt;int&gt;</th><th scope=col>&lt;int&gt;</th><th scope=col>&lt;dbl&gt;</th><th scope=col>&lt;fct&gt;</th><th scope=col>&lt;fct&gt;</th><th scope=col>&lt;dbl&gt;</th></tr>\n",
       "</thead>\n",
       "<tbody>\n",
       "\t<tr><th scope=row>2</th><td>1</td><td>1</td><td>male  </td><td> 0.9167</td><td>1</td><td>2</td><td>151.5500</td><td>S</td><td>1</td><td>0.7428337</td></tr>\n",
       "\t<tr><th scope=row>4</th><td>1</td><td>0</td><td>male  </td><td>30.0000</td><td>1</td><td>2</td><td>151.5500</td><td>S</td><td>1</td><td>0.4609066</td></tr>\n",
       "\t<tr><th scope=row>5</th><td>1</td><td>0</td><td>female</td><td>25.0000</td><td>1</td><td>2</td><td>151.5500</td><td>S</td><td>1</td><td>0.9451340</td></tr>\n",
       "\t<tr><th scope=row>6</th><td>1</td><td>1</td><td>male  </td><td>48.0000</td><td>0</td><td>0</td><td> 26.5500</td><td>S</td><td>1</td><td>0.3524190</td></tr>\n",
       "\t<tr><th scope=row>7</th><td>1</td><td>1</td><td>female</td><td>63.0000</td><td>1</td><td>0</td><td> 77.9583</td><td>S</td><td>1</td><td>0.7852826</td></tr>\n",
       "\t<tr><th scope=row>8</th><td>1</td><td>0</td><td>male  </td><td>39.0000</td><td>0</td><td>0</td><td>  0.0000</td><td>S</td><td>1</td><td>0.4337183</td></tr>\n",
       "</tbody>\n",
       "</table>\n"
      ],
      "text/latex": [
       "A data.frame: 6 x 10\n",
       "\\begin{tabular}{r|llllllllll}\n",
       "  & pclass & survived & sex & age & sibsp & parch & fare & embarked & hascabin & predicted\\\\\n",
       "  & <fct> & <fct> & <fct> & <dbl> & <int> & <int> & <dbl> & <fct> & <fct> & <dbl>\\\\\n",
       "\\hline\n",
       "\t2 & 1 & 1 & male   &  0.9167 & 1 & 2 & 151.5500 & S & 1 & 0.7428337\\\\\n",
       "\t4 & 1 & 0 & male   & 30.0000 & 1 & 2 & 151.5500 & S & 1 & 0.4609066\\\\\n",
       "\t5 & 1 & 0 & female & 25.0000 & 1 & 2 & 151.5500 & S & 1 & 0.9451340\\\\\n",
       "\t6 & 1 & 1 & male   & 48.0000 & 0 & 0 &  26.5500 & S & 1 & 0.3524190\\\\\n",
       "\t7 & 1 & 1 & female & 63.0000 & 1 & 0 &  77.9583 & S & 1 & 0.7852826\\\\\n",
       "\t8 & 1 & 0 & male   & 39.0000 & 0 & 0 &   0.0000 & S & 1 & 0.4337183\\\\\n",
       "\\end{tabular}\n"
      ],
      "text/markdown": [
       "\n",
       "A data.frame: 6 x 10\n",
       "\n",
       "| <!--/--> | pclass &lt;fct&gt; | survived &lt;fct&gt; | sex &lt;fct&gt; | age &lt;dbl&gt; | sibsp &lt;int&gt; | parch &lt;int&gt; | fare &lt;dbl&gt; | embarked &lt;fct&gt; | hascabin &lt;fct&gt; | predicted &lt;dbl&gt; |\n",
       "|---|---|---|---|---|---|---|---|---|---|---|\n",
       "| 2 | 1 | 1 | male   |  0.9167 | 1 | 2 | 151.5500 | S | 1 | 0.7428337 |\n",
       "| 4 | 1 | 0 | male   | 30.0000 | 1 | 2 | 151.5500 | S | 1 | 0.4609066 |\n",
       "| 5 | 1 | 0 | female | 25.0000 | 1 | 2 | 151.5500 | S | 1 | 0.9451340 |\n",
       "| 6 | 1 | 1 | male   | 48.0000 | 0 | 0 |  26.5500 | S | 1 | 0.3524190 |\n",
       "| 7 | 1 | 1 | female | 63.0000 | 1 | 0 |  77.9583 | S | 1 | 0.7852826 |\n",
       "| 8 | 1 | 0 | male   | 39.0000 | 0 | 0 |   0.0000 | S | 1 | 0.4337183 |\n",
       "\n"
      ],
      "text/plain": [
       "  pclass survived sex    age     sibsp parch fare     embarked hascabin\n",
       "2 1      1        male    0.9167 1     2     151.5500 S        1       \n",
       "4 1      0        male   30.0000 1     2     151.5500 S        1       \n",
       "5 1      0        female 25.0000 1     2     151.5500 S        1       \n",
       "6 1      1        male   48.0000 0     0      26.5500 S        1       \n",
       "7 1      1        female 63.0000 1     0      77.9583 S        1       \n",
       "8 1      0        male   39.0000 0     0       0.0000 S        1       \n",
       "  predicted\n",
       "2 0.7428337\n",
       "4 0.4609066\n",
       "5 0.9451340\n",
       "6 0.3524190\n",
       "7 0.7852826\n",
       "8 0.4337183"
      ]
     },
     "metadata": {},
     "output_type": "display_data"
    }
   ],
   "source": [
    "head(titanic_train)"
   ]
  },
  {
   "cell_type": "code",
   "execution_count": 121,
   "id": "c3894457-6b96-4d0e-81c4-424aa5fefdcd",
   "metadata": {},
   "outputs": [
    {
     "data": {
      "text/html": [
       "<table class=\"dataframe\">\n",
       "<caption>A data.frame: 6 x 11</caption>\n",
       "<thead>\n",
       "\t<tr><th></th><th scope=col>pclass</th><th scope=col>survived</th><th scope=col>sex</th><th scope=col>age</th><th scope=col>sibsp</th><th scope=col>parch</th><th scope=col>fare</th><th scope=col>embarked</th><th scope=col>hascabin</th><th scope=col>predicted</th><th scope=col>survived_05</th></tr>\n",
       "\t<tr><th></th><th scope=col>&lt;fct&gt;</th><th scope=col>&lt;fct&gt;</th><th scope=col>&lt;fct&gt;</th><th scope=col>&lt;dbl&gt;</th><th scope=col>&lt;int&gt;</th><th scope=col>&lt;int&gt;</th><th scope=col>&lt;dbl&gt;</th><th scope=col>&lt;fct&gt;</th><th scope=col>&lt;fct&gt;</th><th scope=col>&lt;dbl&gt;</th><th scope=col>&lt;fct&gt;</th></tr>\n",
       "</thead>\n",
       "<tbody>\n",
       "\t<tr><th scope=row>2</th><td>1</td><td>1</td><td>male  </td><td> 0.9167</td><td>1</td><td>2</td><td>151.5500</td><td>S</td><td>1</td><td>0.7428337</td><td>1</td></tr>\n",
       "\t<tr><th scope=row>4</th><td>1</td><td>0</td><td>male  </td><td>30.0000</td><td>1</td><td>2</td><td>151.5500</td><td>S</td><td>1</td><td>0.4609066</td><td>0</td></tr>\n",
       "\t<tr><th scope=row>5</th><td>1</td><td>0</td><td>female</td><td>25.0000</td><td>1</td><td>2</td><td>151.5500</td><td>S</td><td>1</td><td>0.9451340</td><td>1</td></tr>\n",
       "\t<tr><th scope=row>6</th><td>1</td><td>1</td><td>male  </td><td>48.0000</td><td>0</td><td>0</td><td> 26.5500</td><td>S</td><td>1</td><td>0.3524190</td><td>0</td></tr>\n",
       "\t<tr><th scope=row>7</th><td>1</td><td>1</td><td>female</td><td>63.0000</td><td>1</td><td>0</td><td> 77.9583</td><td>S</td><td>1</td><td>0.7852826</td><td>1</td></tr>\n",
       "\t<tr><th scope=row>8</th><td>1</td><td>0</td><td>male  </td><td>39.0000</td><td>0</td><td>0</td><td>  0.0000</td><td>S</td><td>1</td><td>0.4337183</td><td>0</td></tr>\n",
       "</tbody>\n",
       "</table>\n"
      ],
      "text/latex": [
       "A data.frame: 6 x 11\n",
       "\\begin{tabular}{r|lllllllllll}\n",
       "  & pclass & survived & sex & age & sibsp & parch & fare & embarked & hascabin & predicted & survived\\_05\\\\\n",
       "  & <fct> & <fct> & <fct> & <dbl> & <int> & <int> & <dbl> & <fct> & <fct> & <dbl> & <fct>\\\\\n",
       "\\hline\n",
       "\t2 & 1 & 1 & male   &  0.9167 & 1 & 2 & 151.5500 & S & 1 & 0.7428337 & 1\\\\\n",
       "\t4 & 1 & 0 & male   & 30.0000 & 1 & 2 & 151.5500 & S & 1 & 0.4609066 & 0\\\\\n",
       "\t5 & 1 & 0 & female & 25.0000 & 1 & 2 & 151.5500 & S & 1 & 0.9451340 & 1\\\\\n",
       "\t6 & 1 & 1 & male   & 48.0000 & 0 & 0 &  26.5500 & S & 1 & 0.3524190 & 0\\\\\n",
       "\t7 & 1 & 1 & female & 63.0000 & 1 & 0 &  77.9583 & S & 1 & 0.7852826 & 1\\\\\n",
       "\t8 & 1 & 0 & male   & 39.0000 & 0 & 0 &   0.0000 & S & 1 & 0.4337183 & 0\\\\\n",
       "\\end{tabular}\n"
      ],
      "text/markdown": [
       "\n",
       "A data.frame: 6 x 11\n",
       "\n",
       "| <!--/--> | pclass &lt;fct&gt; | survived &lt;fct&gt; | sex &lt;fct&gt; | age &lt;dbl&gt; | sibsp &lt;int&gt; | parch &lt;int&gt; | fare &lt;dbl&gt; | embarked &lt;fct&gt; | hascabin &lt;fct&gt; | predicted &lt;dbl&gt; | survived_05 &lt;fct&gt; |\n",
       "|---|---|---|---|---|---|---|---|---|---|---|---|\n",
       "| 2 | 1 | 1 | male   |  0.9167 | 1 | 2 | 151.5500 | S | 1 | 0.7428337 | 1 |\n",
       "| 4 | 1 | 0 | male   | 30.0000 | 1 | 2 | 151.5500 | S | 1 | 0.4609066 | 0 |\n",
       "| 5 | 1 | 0 | female | 25.0000 | 1 | 2 | 151.5500 | S | 1 | 0.9451340 | 1 |\n",
       "| 6 | 1 | 1 | male   | 48.0000 | 0 | 0 |  26.5500 | S | 1 | 0.3524190 | 0 |\n",
       "| 7 | 1 | 1 | female | 63.0000 | 1 | 0 |  77.9583 | S | 1 | 0.7852826 | 1 |\n",
       "| 8 | 1 | 0 | male   | 39.0000 | 0 | 0 |   0.0000 | S | 1 | 0.4337183 | 0 |\n",
       "\n"
      ],
      "text/plain": [
       "  pclass survived sex    age     sibsp parch fare     embarked hascabin\n",
       "2 1      1        male    0.9167 1     2     151.5500 S        1       \n",
       "4 1      0        male   30.0000 1     2     151.5500 S        1       \n",
       "5 1      0        female 25.0000 1     2     151.5500 S        1       \n",
       "6 1      1        male   48.0000 0     0      26.5500 S        1       \n",
       "7 1      1        female 63.0000 1     0      77.9583 S        1       \n",
       "8 1      0        male   39.0000 0     0       0.0000 S        1       \n",
       "  predicted survived_05\n",
       "2 0.7428337 1          \n",
       "4 0.4609066 0          \n",
       "5 0.9451340 1          \n",
       "6 0.3524190 0          \n",
       "7 0.7852826 1          \n",
       "8 0.4337183 0          "
      ]
     },
     "metadata": {},
     "output_type": "display_data"
    }
   ],
   "source": [
    "titanic_train <- titanic_train %>%\n",
    "    mutate(survived_05 = as.factor(ifelse(predicted >= 0.5, 1 , 0)))\n",
    "\n",
    "titanic_test <- titanic_test %>%\n",
    "    mutate(survived_05 = as.factor(ifelse(predicted >= 0.5, 1 , 0)))\n",
    "\n",
    "head(titanic_train)"
   ]
  },
  {
   "cell_type": "code",
   "execution_count": 123,
   "id": "2ded5903-da5b-4700-900c-e93eef61f649",
   "metadata": {},
   "outputs": [
    {
     "data": {
      "text/plain": [
       "   \n",
       "      0   1\n",
       "  0 494  72\n",
       "  1  95 255"
      ]
     },
     "metadata": {},
     "output_type": "display_data"
    }
   ],
   "source": [
    "table(titanic_train$survived, titanic_train$survived_05)"
   ]
  },
  {
   "cell_type": "code",
   "execution_count": 125,
   "id": "d16ecc8d-374a-490c-8add-f7291616c2bd",
   "metadata": {},
   "outputs": [
    {
     "data": {
      "text/plain": [
       "   \n",
       "      0   1\n",
       "  0 200  43\n",
       "  1  55  95"
      ]
     },
     "metadata": {},
     "output_type": "display_data"
    }
   ],
   "source": [
    "table(titanic_test$survived, titanic_test$survived_05)"
   ]
  },
  {
   "cell_type": "code",
   "execution_count": 127,
   "id": "d75f597c-c940-49c6-8ce6-30004c726654",
   "metadata": {},
   "outputs": [
    {
     "data": {
      "text/plain": [
       "Confusion Matrix and Statistics\n",
       "\n",
       "          Reference\n",
       "Prediction   0   1\n",
       "         0 494  72\n",
       "         1  95 255\n",
       "                                          \n",
       "               Accuracy : 0.8177          \n",
       "                 95% CI : (0.7911, 0.8422)\n",
       "    No Information Rate : 0.643           \n",
       "    P-Value [Acc > NIR] : < 2e-16         \n",
       "                                          \n",
       "                  Kappa : 0.609           \n",
       "                                          \n",
       " Mcnemar's Test P-Value : 0.08868         \n",
       "                                          \n",
       "            Sensitivity : 0.7798          \n",
       "            Specificity : 0.8387          \n",
       "         Pos Pred Value : 0.7286          \n",
       "         Neg Pred Value : 0.8728          \n",
       "             Prevalence : 0.3570          \n",
       "         Detection Rate : 0.2784          \n",
       "   Detection Prevalence : 0.3821          \n",
       "      Balanced Accuracy : 0.8093          \n",
       "                                          \n",
       "       'Positive' Class : 1               \n",
       "                                          "
      ]
     },
     "metadata": {},
     "output_type": "display_data"
    }
   ],
   "source": [
    "caret::confusionMatrix(titanic_train$survived, titanic_train$survived_05, positive = \"1\")"
   ]
  },
  {
   "cell_type": "code",
   "execution_count": 136,
   "id": "0f9ab14c-0227-4726-8803-25c283848698",
   "metadata": {},
   "outputs": [
    {
     "data": {
      "text/plain": [
       "Confusion Matrix and Statistics\n",
       "\n",
       "          Reference\n",
       "Prediction   0   1\n",
       "         0 200  43\n",
       "         1  55  95\n",
       "                                          \n",
       "               Accuracy : 0.7506          \n",
       "                 95% CI : (0.7048, 0.7927)\n",
       "    No Information Rate : 0.6489          \n",
       "    P-Value [Acc > NIR] : 9.225e-06       \n",
       "                                          \n",
       "                  Kappa : 0.4635          \n",
       "                                          \n",
       " Mcnemar's Test P-Value : 0.2665          \n",
       "                                          \n",
       "            Sensitivity : 0.6884          \n",
       "            Specificity : 0.7843          \n",
       "         Pos Pred Value : 0.6333          \n",
       "         Neg Pred Value : 0.8230          \n",
       "             Prevalence : 0.3511          \n",
       "         Detection Rate : 0.2417          \n",
       "   Detection Prevalence : 0.3817          \n",
       "      Balanced Accuracy : 0.7364          \n",
       "                                          \n",
       "       'Positive' Class : 1               \n",
       "                                          "
      ]
     },
     "metadata": {},
     "output_type": "display_data"
    }
   ],
   "source": [
    "caret::confusionMatrix(titanic_test$survived, titanic_test$survived_05, positive = \"1\")"
   ]
  },
  {
   "cell_type": "code",
   "execution_count": 137,
   "id": "c4da4d2e-d2b4-4d34-aa96-50f910ed0841",
   "metadata": {},
   "outputs": [
    {
     "ename": "ERROR",
     "evalue": "Error in library(devtools): there is no package called 'devtools'\n",
     "output_type": "error",
     "traceback": [
      "Error in library(devtools): there is no package called 'devtools'\nTraceback:\n",
      "1. library(devtools)"
     ]
    }
   ],
   "source": []
  },
  {
   "cell_type": "code",
   "execution_count": 144,
   "id": "6ac45cda-5328-4932-9dd2-70564f56a007",
   "metadata": {},
   "outputs": [
    {
     "name": "stderr",
     "output_type": "stream",
     "text": [
      "also installing the dependencies 'curl', 'httr2', 'gh'\n",
      "\n",
      "\n"
     ]
    },
    {
     "name": "stdout",
     "output_type": "stream",
     "text": [
      "\n",
      "  There are binary versions available but the source versions are later:\n",
      "        binary source needs_compilation\n",
      "curl     5.0.0  5.2.1              TRUE\n",
      "httr2    0.2.2  1.0.1             FALSE\n",
      "gh       1.4.0  1.4.1             FALSE\n",
      "usethis  2.1.6  2.2.3             FALSE\n",
      "\n",
      "  Binaries will be installed\n",
      "package 'curl' successfully unpacked and MD5 sums checked\n",
      "\n",
      "The downloaded binary packages are in\n",
      "\tG:\\Temp\\RtmpmCZutO\\downloaded_packages\n"
     ]
    },
    {
     "name": "stderr",
     "output_type": "stream",
     "text": [
      "installing the source packages 'httr2', 'gh', 'usethis'\n",
      "\n",
      "\n",
      "Warning message in install.packages(\"usethis\"):\n",
      "\"installation of package 'httr2' had non-zero exit status\"\n",
      "Warning message in install.packages(\"usethis\"):\n",
      "\"installation of package 'gh' had non-zero exit status\"\n",
      "Warning message in install.packages(\"usethis\"):\n",
      "\"installation of package 'usethis' had non-zero exit status\"\n"
     ]
    }
   ],
   "source": [
    "#install.packages(\"devtools\")\n",
    "install.packages(\"usethis\")"
   ]
  },
  {
   "cell_type": "code",
   "execution_count": 145,
   "id": "2d1b90a0-2608-4591-a44c-29304e53054c",
   "metadata": {},
   "outputs": [
    {
     "ename": "ERROR",
     "evalue": "Error: package 'usethis' required by 'devtools' could not be found\n",
     "output_type": "error",
     "traceback": [
      "Error: package 'usethis' required by 'devtools' could not be found\nTraceback:\n",
      "1. library(devtools)",
      "2. .getRequiredPackages2(pkgInfo, quietly = quietly)",
      "3. stop(gettextf(\"package %s required by %s could not be found\", \n .     sQuote(pkg), sQuote(pkgname)), call. = FALSE, domain = NA)"
     ]
    }
   ],
   "source": [
    "library(devtools)"
   ]
  },
  {
   "cell_type": "code",
   "execution_count": 134,
   "id": "61996f8d-6717-4282-924f-dba146a46fdb",
   "metadata": {},
   "outputs": [
    {
     "ename": "ERROR",
     "evalue": "Error in library(InformationValue): there is no package called 'InformationValue'\n",
     "output_type": "error",
     "traceback": [
      "Error in library(InformationValue): there is no package called 'InformationValue'\nTraceback:\n",
      "1. library(InformationValue)"
     ]
    }
   ],
   "source": [
    "\n",
    "library(InformationValue)"
   ]
  }
 ],
 "metadata": {
  "kernelspec": {
   "display_name": "R",
   "language": "R",
   "name": "ir"
  },
  "language_info": {
   "codemirror_mode": "r",
   "file_extension": ".r",
   "mimetype": "text/x-r-source",
   "name": "R",
   "pygments_lexer": "r",
   "version": "4.1.3"
  }
 },
 "nbformat": 4,
 "nbformat_minor": 5
}
