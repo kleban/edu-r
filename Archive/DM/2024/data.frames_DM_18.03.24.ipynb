{
 "cells": [
  {
   "cell_type": "markdown",
   "id": "e6b1738c-b7d2-48d1-96e8-904ba1507791",
   "metadata": {},
   "source": [
    "# Основи роботи з data.frame-ами"
   ]
  },
  {
   "cell_type": "markdown",
   "id": "e89542e0-7015-4add-b646-08910f38d68a",
   "metadata": {},
   "source": [
    "---"
   ]
  },
  {
   "cell_type": "code",
   "execution_count": 2,
   "id": "d8574487-f221-4d7b-a201-8f2c012f2243",
   "metadata": {},
   "outputs": [
    {
     "data": {
      "text/html": [
       "\n",
       "<table width=\"100%\" summary=\"page for data.frame {base}\"><tr><td>data.frame {base}</td><td style=\"text-align: right;\">R Documentation</td></tr></table>\n",
       "\n",
       "<h2>Data Frames</h2>\n",
       "\n",
       "<h3>Description</h3>\n",
       "\n",
       "<p>The function <code>data.frame()</code> creates data frames, tightly coupled\n",
       "collections of variables which share many of the properties of\n",
       "matrices and of lists, used as the fundamental data structure by most\n",
       "of <span style=\"font-family: Courier New, Courier; color: #666666;\"><b>R</b></span>'s modeling software.\n",
       "</p>\n",
       "\n",
       "\n",
       "<h3>Usage</h3>\n",
       "\n",
       "<pre>\n",
       "data.frame(..., row.names = NULL, check.rows = FALSE,\n",
       "           check.names = TRUE, fix.empty.names = TRUE,\n",
       "           stringsAsFactors = FALSE)\n",
       "\n",
       "default.stringsAsFactors() # &lt;&lt; this is deprecated !\n",
       "</pre>\n",
       "\n",
       "\n",
       "<h3>Arguments</h3>\n",
       "\n",
       "<table summary=\"R argblock\">\n",
       "<tr valign=\"top\"><td><code>...</code></td>\n",
       "<td>\n",
       "<p>these arguments are of either the form <code>value</code> or\n",
       "<code>tag = value</code>.  Component names are created based on the tag (if\n",
       "present) or the deparsed argument itself.</p>\n",
       "</td></tr>\n",
       "<tr valign=\"top\"><td><code>row.names</code></td>\n",
       "<td>\n",
       "<p><code>NULL</code> or a single integer or character string\n",
       "specifying a column to be used as row names, or a character or\n",
       "integer vector giving the row names for the data frame.</p>\n",
       "</td></tr>\n",
       "<tr valign=\"top\"><td><code>check.rows</code></td>\n",
       "<td>\n",
       "<p>if <code>TRUE</code> then the rows are checked for\n",
       "consistency of length and names.</p>\n",
       "</td></tr>\n",
       "<tr valign=\"top\"><td><code>check.names</code></td>\n",
       "<td>\n",
       "<p>logical.  If <code>TRUE</code> then the names of the\n",
       "variables in the data frame are checked to ensure that they are\n",
       "syntactically valid variable names and are not duplicated.\n",
       "If necessary they are adjusted (by <code>make.names</code>)\n",
       "so that they are.</p>\n",
       "</td></tr>\n",
       "<tr valign=\"top\"><td><code>fix.empty.names</code></td>\n",
       "<td>\n",
       "<p>logical indicating if arguments which are\n",
       "&ldquo;unnamed&rdquo; (in the sense of not being formally called as\n",
       "<code>someName = arg</code>) get an automatically constructed name or\n",
       "rather name <code>\"\"</code>.  Needs to be set to <code>FALSE</code> even when\n",
       "<code>check.names</code> is false if <code>\"\"</code> names should be kept.</p>\n",
       "</td></tr>\n",
       "<tr valign=\"top\"><td><code>stringsAsFactors</code></td>\n",
       "<td>\n",
       "<p>logical: should character vectors be converted\n",
       "to factors?  The &lsquo;factory-fresh&rsquo; default has been <code>TRUE</code>\n",
       "previously but has been changed to <code>FALSE</code> for <span style=\"font-family: Courier New, Courier; color: #666666;\"><b>R</b></span> 4.0.0.</p>\n",
       "</td></tr>\n",
       "</table>\n",
       "\n",
       "\n",
       "<h3>Details</h3>\n",
       "\n",
       "<p>A data frame is a list of variables of the same number of rows with\n",
       "unique row names, given class <code>\"data.frame\"</code>.  If no variables\n",
       "are included, the row names determine the number of rows.\n",
       "</p>\n",
       "<p>The column names should be non-empty, and attempts to use empty names\n",
       "will have unsupported results.  Duplicate column names are allowed,\n",
       "but you need to use <code>check.names = FALSE</code> for <code>data.frame</code>\n",
       "to generate such a data frame.  However, not all operations on data\n",
       "frames will preserve duplicated column names: for example matrix-like\n",
       "subsetting will force column names in the result to be unique.\n",
       "</p>\n",
       "<p><code>data.frame</code> converts each of its arguments to a data frame by\n",
       "calling <code>as.data.frame(optional = TRUE)</code>.  As that is a\n",
       "generic function, methods can be written to change the behaviour of\n",
       "arguments according to their classes: <span style=\"font-family: Courier New, Courier; color: #666666;\"><b>R</b></span> comes with many such methods.\n",
       "Character variables passed to <code>data.frame</code> are converted to\n",
       "factor columns unless protected by <code>I</code> or argument\n",
       "<code>stringsAsFactors</code> is false.  If a list or data\n",
       "frame or matrix is passed to <code>data.frame</code> it is as if each\n",
       "component or column had been passed as a separate argument (except for\n",
       "matrices protected by <code>I</code>).\n",
       "</p>\n",
       "<p>Objects passed to <code>data.frame</code> should have the same number of\n",
       "rows, but atomic vectors (see <code>is.vector</code>), factors and\n",
       "character vectors protected by <code>I</code> will be recycled a\n",
       "whole number of times if necessary (including as elements of list\n",
       "arguments).\n",
       "</p>\n",
       "<p>If row names are not supplied in the call to <code>data.frame</code>, the\n",
       "row names are taken from the first component that has suitable names,\n",
       "for example a named vector or a matrix with rownames or a data frame.\n",
       "(If that component is subsequently recycled, the names are discarded\n",
       "with a warning.)  If <code>row.names</code> was supplied as <code>NULL</code> or no\n",
       "suitable component was found the row names are the integer sequence\n",
       "starting at one (and such row names are considered to be\n",
       "&lsquo;automatic&rsquo;, and not preserved by <code>as.matrix</code>).\n",
       "</p>\n",
       "<p>If row names are supplied of length one and the data frame has a\n",
       "single row, the <code>row.names</code> is taken to specify the row names and\n",
       "not a column (by name or number).\n",
       "</p>\n",
       "<p>Names are removed from vector inputs not protected by <code>I</code>.\n",
       "</p>\n",
       "<p><code>default.stringsAsFactors</code> is a utility that takes\n",
       "<code>getOption(\"stringsAsFactors\")</code> and ensures the result is\n",
       "<code>TRUE</code> or <code>FALSE</code> (or throws an error if the value is not\n",
       "<code>NULL</code>).  This function is <b>deprecated</b> now and will no longer\n",
       "be available in the future.\n",
       "</p>\n",
       "\n",
       "\n",
       "<h3>Value</h3>\n",
       "\n",
       "<p>A data frame, a matrix-like structure whose columns may be of\n",
       "differing types (numeric, logical, factor and character and so on).\n",
       "</p>\n",
       "<p>How the names of the data frame are created is complex, and the rest\n",
       "of this paragraph is only the basic story.  If the arguments are all\n",
       "named and simple objects (not lists, matrices of data frames) then the\n",
       "argument names give the column names.  For an unnamed simple argument,\n",
       "a deparsed version of the argument is used as the name (with an\n",
       "enclosing <code>I(...)</code> removed).  For a named matrix/list/data frame\n",
       "argument with more than one named column, the names of the columns are\n",
       "the name of the argument followed by a dot and the column name inside\n",
       "the argument: if the argument is unnamed, the argument's column names\n",
       "are used.  For a named or unnamed matrix/list/data frame argument that\n",
       "contains a single column, the column name in the result is the column\n",
       "name in the argument.  Finally, the names are adjusted to be unique\n",
       "and syntactically valid unless <code>check.names = FALSE</code>.\n",
       "</p>\n",
       "\n",
       "\n",
       "<h3>Note</h3>\n",
       "\n",
       "<p>In versions of <span style=\"font-family: Courier New, Courier; color: #666666;\"><b>R</b></span> prior to 2.4.0 <code>row.names</code> had to be\n",
       "character: to ensure compatibility with such versions of <span style=\"font-family: Courier New, Courier; color: #666666;\"><b>R</b></span>, supply\n",
       "a character vector as the <code>row.names</code> argument.\n",
       "</p>\n",
       "\n",
       "\n",
       "<h3>References</h3>\n",
       "\n",
       "<p>Chambers, J. M. (1992)\n",
       "<em>Data for models.</em>\n",
       "Chapter 3 of <em>Statistical Models in S</em>\n",
       "eds J. M. Chambers and T. J. Hastie, Wadsworth &amp; Brooks/Cole.\n",
       "</p>\n",
       "\n",
       "\n",
       "<h3>See Also</h3>\n",
       "\n",
       "<p><code>I</code>,\n",
       "<code>plot.data.frame</code>,\n",
       "<code>print.data.frame</code>,\n",
       "<code>row.names</code>, <code>names</code> (for the column names),\n",
       "<code>[.data.frame</code> for subsetting methods \n",
       "and <code>I(matrix(..))</code> examples;\n",
       "<code>Math.data.frame</code> etc, about\n",
       "<em>Group</em> methods for <code>data.frame</code>s;\n",
       "<code>read.table</code>,\n",
       "<code>make.names</code>,\n",
       "<code>list2DF</code> for creating data frames from lists of variables.\n",
       "</p>\n",
       "\n",
       "\n",
       "<h3>Examples</h3>\n",
       "\n",
       "<pre>\n",
       "L3 &lt;- LETTERS[1:3]\n",
       "fac &lt;- sample(L3, 10, replace = TRUE)\n",
       "(d &lt;- data.frame(x = 1, y = 1:10, fac = fac))\n",
       "## The \"same\" with automatic column names:\n",
       "data.frame(1, 1:10, sample(L3, 10, replace = TRUE))\n",
       "\n",
       "is.data.frame(d)\n",
       "\n",
       "## do not convert to factor, using I() :\n",
       "(dd &lt;- cbind(d, char = I(letters[1:10])))\n",
       "rbind(class = sapply(dd, class), mode = sapply(dd, mode))\n",
       "\n",
       "stopifnot(1:10 == row.names(d))  # {coercion}\n",
       "\n",
       "(d0  &lt;- d[, FALSE])   # data frame with 0 columns and 10 rows\n",
       "(d.0 &lt;- d[FALSE, ])   # &lt;0 rows&gt; data frame  (3 named cols)\n",
       "(d00 &lt;- d0[FALSE, ])  # data frame with 0 columns and 0 rows\n",
       "</pre>\n",
       "\n",
       "<hr /><div style=\"text-align: center;\">[Package <em>base</em> version 4.1.3 ]</div>"
      ],
      "text/latex": [
       "\\inputencoding{utf8}\n",
       "\\HeaderA{data.frame}{Data Frames}{data.frame}\n",
       "\\aliasA{default.stringsAsFactors}{data.frame}{default.stringsAsFactors}\n",
       "\\keyword{classes}{data.frame}\n",
       "\\keyword{methods}{data.frame}\n",
       "%\n",
       "\\begin{Description}\\relax\n",
       "The function \\code{data.frame()} creates data frames, tightly coupled\n",
       "collections of variables which share many of the properties of\n",
       "matrices and of lists, used as the fundamental data structure by most\n",
       "of \\R{}'s modeling software.\n",
       "\\end{Description}\n",
       "%\n",
       "\\begin{Usage}\n",
       "\\begin{verbatim}\n",
       "data.frame(..., row.names = NULL, check.rows = FALSE,\n",
       "           check.names = TRUE, fix.empty.names = TRUE,\n",
       "           stringsAsFactors = FALSE)\n",
       "\n",
       "default.stringsAsFactors() # << this is deprecated !\n",
       "\\end{verbatim}\n",
       "\\end{Usage}\n",
       "%\n",
       "\\begin{Arguments}\n",
       "\\begin{ldescription}\n",
       "\\item[\\code{...}] these arguments are of either the form \\code{value} or\n",
       "\\code{tag = value}.  Component names are created based on the tag (if\n",
       "present) or the deparsed argument itself.\n",
       "\\item[\\code{row.names}] \\code{NULL} or a single integer or character string\n",
       "specifying a column to be used as row names, or a character or\n",
       "integer vector giving the row names for the data frame.\n",
       "\\item[\\code{check.rows}] if \\code{TRUE} then the rows are checked for\n",
       "consistency of length and names.\n",
       "\\item[\\code{check.names}] logical.  If \\code{TRUE} then the names of the\n",
       "variables in the data frame are checked to ensure that they are\n",
       "syntactically valid variable names and are not duplicated.\n",
       "If necessary they are adjusted (by \\code{\\LinkA{make.names}{make.names}})\n",
       "so that they are.\n",
       "\\item[\\code{fix.empty.names}] logical indicating if arguments which are\n",
       "``unnamed'' (in the sense of not being formally called as\n",
       "\\code{someName = arg}) get an automatically constructed name or\n",
       "rather name \\code{\"\"}.  Needs to be set to \\code{FALSE} even when\n",
       "\\code{check.names} is false if \\code{\"\"} names should be kept.\n",
       "\\item[\\code{stringsAsFactors}] logical: should character vectors be converted\n",
       "to factors?  The `factory-fresh' default has been \\code{TRUE}\n",
       "previously but has been changed to \\code{FALSE} for \\R{} 4.0.0.\n",
       "\\end{ldescription}\n",
       "\\end{Arguments}\n",
       "%\n",
       "\\begin{Details}\\relax\n",
       "A data frame is a list of variables of the same number of rows with\n",
       "unique row names, given class \\code{\"data.frame\"}.  If no variables\n",
       "are included, the row names determine the number of rows.\n",
       "\n",
       "The column names should be non-empty, and attempts to use empty names\n",
       "will have unsupported results.  Duplicate column names are allowed,\n",
       "but you need to use \\code{check.names = FALSE} for \\code{data.frame}\n",
       "to generate such a data frame.  However, not all operations on data\n",
       "frames will preserve duplicated column names: for example matrix-like\n",
       "subsetting will force column names in the result to be unique.\n",
       "\n",
       "\\code{data.frame} converts each of its arguments to a data frame by\n",
       "calling \\code{\\LinkA{as.data.frame}{as.data.frame}(optional = TRUE)}.  As that is a\n",
       "generic function, methods can be written to change the behaviour of\n",
       "arguments according to their classes: \\R{} comes with many such methods.\n",
       "Character variables passed to \\code{data.frame} are converted to\n",
       "factor columns unless protected by \\code{\\LinkA{I}{I}} or argument\n",
       "\\code{stringsAsFactors} is false.  If a list or data\n",
       "frame or matrix is passed to \\code{data.frame} it is as if each\n",
       "component or column had been passed as a separate argument (except for\n",
       "matrices protected by \\code{\\LinkA{I}{I}}).\n",
       "\n",
       "Objects passed to \\code{data.frame} should have the same number of\n",
       "rows, but atomic vectors (see \\code{\\LinkA{is.vector}{is.vector}}), factors and\n",
       "character vectors protected by \\code{\\LinkA{I}{I}} will be recycled a\n",
       "whole number of times if necessary (including as elements of list\n",
       "arguments).\n",
       "\n",
       "If row names are not supplied in the call to \\code{data.frame}, the\n",
       "row names are taken from the first component that has suitable names,\n",
       "for example a named vector or a matrix with rownames or a data frame.\n",
       "(If that component is subsequently recycled, the names are discarded\n",
       "with a warning.)  If \\code{row.names} was supplied as \\code{NULL} or no\n",
       "suitable component was found the row names are the integer sequence\n",
       "starting at one (and such row names are considered to be\n",
       "`automatic', and not preserved by \\code{\\LinkA{as.matrix}{as.matrix}}).\n",
       "\n",
       "If row names are supplied of length one and the data frame has a\n",
       "single row, the \\code{row.names} is taken to specify the row names and\n",
       "not a column (by name or number).\n",
       "\n",
       "Names are removed from vector inputs not protected by \\code{\\LinkA{I}{I}}.\n",
       "\n",
       "\\code{default.stringsAsFactors} is a utility that takes\n",
       "\\code{\\LinkA{getOption}{getOption}(\"stringsAsFactors\")} and ensures the result is\n",
       "\\code{TRUE} or \\code{FALSE} (or throws an error if the value is not\n",
       "\\code{NULL}).  This function is \\bold{deprecated} now and will no longer\n",
       "be available in the future.\n",
       "\\end{Details}\n",
       "%\n",
       "\\begin{Value}\n",
       "A data frame, a matrix-like structure whose columns may be of\n",
       "differing types (numeric, logical, factor and character and so on).\n",
       "\n",
       "How the names of the data frame are created is complex, and the rest\n",
       "of this paragraph is only the basic story.  If the arguments are all\n",
       "named and simple objects (not lists, matrices of data frames) then the\n",
       "argument names give the column names.  For an unnamed simple argument,\n",
       "a deparsed version of the argument is used as the name (with an\n",
       "enclosing \\code{I(...)} removed).  For a named matrix/list/data frame\n",
       "argument with more than one named column, the names of the columns are\n",
       "the name of the argument followed by a dot and the column name inside\n",
       "the argument: if the argument is unnamed, the argument's column names\n",
       "are used.  For a named or unnamed matrix/list/data frame argument that\n",
       "contains a single column, the column name in the result is the column\n",
       "name in the argument.  Finally, the names are adjusted to be unique\n",
       "and syntactically valid unless \\code{check.names = FALSE}.\n",
       "\\end{Value}\n",
       "%\n",
       "\\begin{Note}\\relax\n",
       "In versions of \\R{} prior to 2.4.0 \\code{row.names} had to be\n",
       "character: to ensure compatibility with such versions of \\R{}, supply\n",
       "a character vector as the \\code{row.names} argument.\n",
       "\\end{Note}\n",
       "%\n",
       "\\begin{References}\\relax\n",
       "Chambers, J. M. (1992)\n",
       "\\emph{Data for models.}\n",
       "Chapter 3 of \\emph{Statistical Models in S}\n",
       "eds J. M. Chambers and T. J. Hastie, Wadsworth \\& Brooks/Cole.\n",
       "\\end{References}\n",
       "%\n",
       "\\begin{SeeAlso}\\relax\n",
       "\\code{\\LinkA{I}{I}},\n",
       "\\code{\\LinkA{plot.data.frame}{plot.data.frame}},\n",
       "\\code{\\LinkA{print.data.frame}{print.data.frame}},\n",
       "\\code{\\LinkA{row.names}{row.names}}, \\code{\\LinkA{names}{names}} (for the column names),\n",
       "\\code{\\LinkA{[.data.frame}{[.data.frame}} for subsetting methods \n",
       "and \\code{I(matrix(..))} examples;\n",
       "\\code{\\LinkA{Math.data.frame}{Math.data.frame}} etc, about\n",
       "\\emph{Group} methods for \\code{data.frame}s;\n",
       "\\code{\\LinkA{read.table}{read.table}},\n",
       "\\code{\\LinkA{make.names}{make.names}},\n",
       "\\code{\\LinkA{list2DF}{list2DF}} for creating data frames from lists of variables.\n",
       "\\end{SeeAlso}\n",
       "%\n",
       "\\begin{Examples}\n",
       "\\begin{ExampleCode}\n",
       "L3 <- LETTERS[1:3]\n",
       "fac <- sample(L3, 10, replace = TRUE)\n",
       "(d <- data.frame(x = 1, y = 1:10, fac = fac))\n",
       "## The \"same\" with automatic column names:\n",
       "data.frame(1, 1:10, sample(L3, 10, replace = TRUE))\n",
       "\n",
       "is.data.frame(d)\n",
       "\n",
       "## do not convert to factor, using I() :\n",
       "(dd <- cbind(d, char = I(letters[1:10])))\n",
       "rbind(class = sapply(dd, class), mode = sapply(dd, mode))\n",
       "\n",
       "stopifnot(1:10 == row.names(d))  # {coercion}\n",
       "\n",
       "(d0  <- d[, FALSE])   # data frame with 0 columns and 10 rows\n",
       "(d.0 <- d[FALSE, ])   # <0 rows> data frame  (3 named cols)\n",
       "(d00 <- d0[FALSE, ])  # data frame with 0 columns and 0 rows\n",
       "\\end{ExampleCode}\n",
       "\\end{Examples}"
      ],
      "text/plain": [
       "data.frame                package:base                 R Documentation\n",
       "\n",
       "_\bD_\ba_\bt_\ba _\bF_\br_\ba_\bm_\be_\bs\n",
       "\n",
       "_\bD_\be_\bs_\bc_\br_\bi_\bp_\bt_\bi_\bo_\bn:\n",
       "\n",
       "     The function 'data.frame()' creates data frames, tightly coupled\n",
       "     collections of variables which share many of the properties of\n",
       "     matrices and of lists, used as the fundamental data structure by\n",
       "     most of R's modeling software.\n",
       "\n",
       "_\bU_\bs_\ba_\bg_\be:\n",
       "\n",
       "     data.frame(..., row.names = NULL, check.rows = FALSE,\n",
       "                check.names = TRUE, fix.empty.names = TRUE,\n",
       "                stringsAsFactors = FALSE)\n",
       "     \n",
       "     default.stringsAsFactors() # << this is deprecated !\n",
       "     \n",
       "_\bA_\br_\bg_\bu_\bm_\be_\bn_\bt_\bs:\n",
       "\n",
       "     ...: these arguments are of either the form 'value' or 'tag =\n",
       "          value'.  Component names are created based on the tag (if\n",
       "          present) or the deparsed argument itself.\n",
       "\n",
       "row.names: 'NULL' or a single integer or character string specifying a\n",
       "          column to be used as row names, or a character or integer\n",
       "          vector giving the row names for the data frame.\n",
       "\n",
       "check.rows: if 'TRUE' then the rows are checked for consistency of\n",
       "          length and names.\n",
       "\n",
       "check.names: logical.  If 'TRUE' then the names of the variables in the\n",
       "          data frame are checked to ensure that they are syntactically\n",
       "          valid variable names and are not duplicated.  If necessary\n",
       "          they are adjusted (by 'make.names') so that they are.\n",
       "\n",
       "fix.empty.names: logical indicating if arguments which are \"unnamed\"\n",
       "          (in the sense of not being formally called as 'someName =\n",
       "          arg') get an automatically constructed name or rather name\n",
       "          '\"\"'.  Needs to be set to 'FALSE' even when 'check.names' is\n",
       "          false if '\"\"' names should be kept.\n",
       "\n",
       "stringsAsFactors: logical: should character vectors be converted to\n",
       "          factors?  The 'factory-fresh' default has been 'TRUE'\n",
       "          previously but has been changed to 'FALSE' for R 4.0.0.\n",
       "\n",
       "_\bD_\be_\bt_\ba_\bi_\bl_\bs:\n",
       "\n",
       "     A data frame is a list of variables of the same number of rows\n",
       "     with unique row names, given class '\"data.frame\"'.  If no\n",
       "     variables are included, the row names determine the number of\n",
       "     rows.\n",
       "\n",
       "     The column names should be non-empty, and attempts to use empty\n",
       "     names will have unsupported results.  Duplicate column names are\n",
       "     allowed, but you need to use 'check.names = FALSE' for\n",
       "     'data.frame' to generate such a data frame.  However, not all\n",
       "     operations on data frames will preserve duplicated column names:\n",
       "     for example matrix-like subsetting will force column names in the\n",
       "     result to be unique.\n",
       "\n",
       "     'data.frame' converts each of its arguments to a data frame by\n",
       "     calling 'as.data.frame(optional = TRUE)'.  As that is a generic\n",
       "     function, methods can be written to change the behaviour of\n",
       "     arguments according to their classes: R comes with many such\n",
       "     methods.  Character variables passed to 'data.frame' are converted\n",
       "     to factor columns unless protected by 'I' or argument\n",
       "     'stringsAsFactors' is false.  If a list or data frame or matrix is\n",
       "     passed to 'data.frame' it is as if each component or column had\n",
       "     been passed as a separate argument (except for matrices protected\n",
       "     by 'I').\n",
       "\n",
       "     Objects passed to 'data.frame' should have the same number of\n",
       "     rows, but atomic vectors (see 'is.vector'), factors and character\n",
       "     vectors protected by 'I' will be recycled a whole number of times\n",
       "     if necessary (including as elements of list arguments).\n",
       "\n",
       "     If row names are not supplied in the call to 'data.frame', the row\n",
       "     names are taken from the first component that has suitable names,\n",
       "     for example a named vector or a matrix with rownames or a data\n",
       "     frame.  (If that component is subsequently recycled, the names are\n",
       "     discarded with a warning.)  If 'row.names' was supplied as 'NULL'\n",
       "     or no suitable component was found the row names are the integer\n",
       "     sequence starting at one (and such row names are considered to be\n",
       "     'automatic', and not preserved by 'as.matrix').\n",
       "\n",
       "     If row names are supplied of length one and the data frame has a\n",
       "     single row, the 'row.names' is taken to specify the row names and\n",
       "     not a column (by name or number).\n",
       "\n",
       "     Names are removed from vector inputs not protected by 'I'.\n",
       "\n",
       "     'default.stringsAsFactors' is a utility that takes\n",
       "     'getOption(\"stringsAsFactors\")' and ensures the result is 'TRUE'\n",
       "     or 'FALSE' (or throws an error if the value is not 'NULL').  This\n",
       "     function is *deprecated* now and will no longer be available in\n",
       "     the future.\n",
       "\n",
       "_\bV_\ba_\bl_\bu_\be:\n",
       "\n",
       "     A data frame, a matrix-like structure whose columns may be of\n",
       "     differing types (numeric, logical, factor and character and so\n",
       "     on).\n",
       "\n",
       "     How the names of the data frame are created is complex, and the\n",
       "     rest of this paragraph is only the basic story.  If the arguments\n",
       "     are all named and simple objects (not lists, matrices of data\n",
       "     frames) then the argument names give the column names.  For an\n",
       "     unnamed simple argument, a deparsed version of the argument is\n",
       "     used as the name (with an enclosing 'I(...)' removed).  For a\n",
       "     named matrix/list/data frame argument with more than one named\n",
       "     column, the names of the columns are the name of the argument\n",
       "     followed by a dot and the column name inside the argument: if the\n",
       "     argument is unnamed, the argument's column names are used.  For a\n",
       "     named or unnamed matrix/list/data frame argument that contains a\n",
       "     single column, the column name in the result is the column name in\n",
       "     the argument.  Finally, the names are adjusted to be unique and\n",
       "     syntactically valid unless 'check.names = FALSE'.\n",
       "\n",
       "_\bN_\bo_\bt_\be:\n",
       "\n",
       "     In versions of R prior to 2.4.0 'row.names' had to be character:\n",
       "     to ensure compatibility with such versions of R, supply a\n",
       "     character vector as the 'row.names' argument.\n",
       "\n",
       "_\bR_\be_\bf_\be_\br_\be_\bn_\bc_\be_\bs:\n",
       "\n",
       "     Chambers, J. M. (1992) _Data for models._ Chapter 3 of\n",
       "     _Statistical Models in S_ eds J. M. Chambers and T. J. Hastie,\n",
       "     Wadsworth & Brooks/Cole.\n",
       "\n",
       "_\bS_\be_\be _\bA_\bl_\bs_\bo:\n",
       "\n",
       "     'I', 'plot.data.frame', 'print.data.frame', 'row.names', 'names'\n",
       "     (for the column names), '[.data.frame' for subsetting methods and\n",
       "     'I(matrix(..))' examples; 'Math.data.frame' etc, about _Group_\n",
       "     methods for 'data.frame's; 'read.table', 'make.names', 'list2DF'\n",
       "     for creating data frames from lists of variables.\n",
       "\n",
       "_\bE_\bx_\ba_\bm_\bp_\bl_\be_\bs:\n",
       "\n",
       "     L3 <- LETTERS[1:3]\n",
       "     fac <- sample(L3, 10, replace = TRUE)\n",
       "     (d <- data.frame(x = 1, y = 1:10, fac = fac))\n",
       "     ## The \"same\" with automatic column names:\n",
       "     data.frame(1, 1:10, sample(L3, 10, replace = TRUE))\n",
       "     \n",
       "     is.data.frame(d)\n",
       "     \n",
       "     ## do not convert to factor, using I() :\n",
       "     (dd <- cbind(d, char = I(letters[1:10])))\n",
       "     rbind(class = sapply(dd, class), mode = sapply(dd, mode))\n",
       "     \n",
       "     stopifnot(1:10 == row.names(d))  # {coercion}\n",
       "     \n",
       "     (d0  <- d[, FALSE])   # data frame with 0 columns and 10 rows\n",
       "     (d.0 <- d[FALSE, ])   # <0 rows> data frame  (3 named cols)\n",
       "     (d00 <- d0[FALSE, ])  # data frame with 0 columns and 0 rows\n",
       "     "
      ]
     },
     "metadata": {},
     "output_type": "display_data"
    }
   ],
   "source": [
    "?data.frame"
   ]
  },
  {
   "cell_type": "markdown",
   "id": "bbf0f224-4b59-4d0b-beb0-555b8733dc85",
   "metadata": {},
   "source": [
    "## Як створити data.frame?"
   ]
  },
  {
   "cell_type": "code",
   "execution_count": 80,
   "id": "8a86d792-31db-4e77-8c33-ee42ee675dad",
   "metadata": {},
   "outputs": [],
   "source": [
    "df <- data.frame(id = (1:5),\n",
    "                name = c(\"Petro\", \"Ivan\", \"Olena\", \"Olha\", \"Andriy\"),\n",
    "                age = sample(18:100, size = 5),\n",
    "                is_active = c(T, T, F, T, F))"
   ]
  },
  {
   "cell_type": "code",
   "execution_count": 82,
   "id": "b64e151f-01c3-4781-b689-56ccb5497e35",
   "metadata": {},
   "outputs": [
    {
     "data": {
      "text/html": [
       "<table class=\"dataframe\">\n",
       "<caption>A data.frame: 5 x 4</caption>\n",
       "<thead>\n",
       "\t<tr><th scope=col>id</th><th scope=col>name</th><th scope=col>age</th><th scope=col>is_active</th></tr>\n",
       "\t<tr><th scope=col>&lt;int&gt;</th><th scope=col>&lt;chr&gt;</th><th scope=col>&lt;int&gt;</th><th scope=col>&lt;lgl&gt;</th></tr>\n",
       "</thead>\n",
       "<tbody>\n",
       "\t<tr><td>1</td><td>Petro </td><td>37</td><td> TRUE</td></tr>\n",
       "\t<tr><td>2</td><td>Ivan  </td><td>70</td><td> TRUE</td></tr>\n",
       "\t<tr><td>3</td><td>Olena </td><td>67</td><td>FALSE</td></tr>\n",
       "\t<tr><td>4</td><td>Olha  </td><td>92</td><td> TRUE</td></tr>\n",
       "\t<tr><td>5</td><td>Andriy</td><td>68</td><td>FALSE</td></tr>\n",
       "</tbody>\n",
       "</table>\n"
      ],
      "text/latex": [
       "A data.frame: 5 x 4\n",
       "\\begin{tabular}{llll}\n",
       " id & name & age & is\\_active\\\\\n",
       " <int> & <chr> & <int> & <lgl>\\\\\n",
       "\\hline\n",
       "\t 1 & Petro  & 37 &  TRUE\\\\\n",
       "\t 2 & Ivan   & 70 &  TRUE\\\\\n",
       "\t 3 & Olena  & 67 & FALSE\\\\\n",
       "\t 4 & Olha   & 92 &  TRUE\\\\\n",
       "\t 5 & Andriy & 68 & FALSE\\\\\n",
       "\\end{tabular}\n"
      ],
      "text/markdown": [
       "\n",
       "A data.frame: 5 x 4\n",
       "\n",
       "| id &lt;int&gt; | name &lt;chr&gt; | age &lt;int&gt; | is_active &lt;lgl&gt; |\n",
       "|---|---|---|---|\n",
       "| 1 | Petro  | 37 |  TRUE |\n",
       "| 2 | Ivan   | 70 |  TRUE |\n",
       "| 3 | Olena  | 67 | FALSE |\n",
       "| 4 | Olha   | 92 |  TRUE |\n",
       "| 5 | Andriy | 68 | FALSE |\n",
       "\n"
      ],
      "text/plain": [
       "  id name   age is_active\n",
       "1 1  Petro  37   TRUE    \n",
       "2 2  Ivan   70   TRUE    \n",
       "3 3  Olena  67  FALSE    \n",
       "4 4  Olha   92   TRUE    \n",
       "5 5  Andriy 68  FALSE    "
      ]
     },
     "metadata": {},
     "output_type": "display_data"
    }
   ],
   "source": [
    "df"
   ]
  },
  {
   "cell_type": "code",
   "execution_count": 87,
   "id": "14565505-5e42-4884-9cd7-56830d0404eb",
   "metadata": {},
   "outputs": [
    {
     "data": {
      "text/html": [
       "66.8"
      ],
      "text/latex": [
       "66.8"
      ],
      "text/markdown": [
       "66.8"
      ],
      "text/plain": [
       "[1] 66.8"
      ]
     },
     "metadata": {},
     "output_type": "display_data"
    }
   ],
   "source": [
    "mean(df$age)"
   ]
  },
  {
   "cell_type": "code",
   "execution_count": 85,
   "id": "3ef10bed-ae74-4b3e-a32c-2404847a8f65",
   "metadata": {},
   "outputs": [
    {
     "data": {
      "image/png": "[encoded data removed]",
      "text/plain": [
       "plot without title"
      ]
     },
     "metadata": {
      "image/png": {
       "height": 420,
       "width": 420
      }
     },
     "output_type": "display_data"
    }
   ],
   "source": [
    "plot(df$age)"
   ]
  },
  {
   "cell_type": "code",
   "execution_count": 8,
   "id": "85809eb8-11e0-4dbb-a0fe-9e55906bb239",
   "metadata": {},
   "outputs": [
    {
     "name": "stdout",
     "output_type": "stream",
     "text": [
      "'data.frame':\t5 obs. of  4 variables:\n",
      " $ id       : int  1 2 3 4 5\n",
      " $ name     : chr  \"Petro\" \"Ivan\" \"Olena\" \"Olha\" ...\n",
      " $ age      : int  37 89 83 21 46\n",
      " $ is_active: logi  TRUE TRUE FALSE TRUE FALSE\n"
     ]
    }
   ],
   "source": [
    "str(df)"
   ]
  },
  {
   "cell_type": "code",
   "execution_count": 10,
   "id": "c1c50791-76b9-47a5-97fb-7e8a3d884fed",
   "metadata": {},
   "outputs": [
    {
     "data": {
      "text/html": [
       "5"
      ],
      "text/latex": [
       "5"
      ],
      "text/markdown": [
       "5"
      ],
      "text/plain": [
       "[1] 5"
      ]
     },
     "metadata": {},
     "output_type": "display_data"
    }
   ],
   "source": [
    "nrow(df)"
   ]
  },
  {
   "cell_type": "code",
   "execution_count": 12,
   "id": "fa285ef5-60cf-4aff-94f7-f60be4a63b8c",
   "metadata": {},
   "outputs": [
    {
     "data": {
      "text/html": [
       "4"
      ],
      "text/latex": [
       "4"
      ],
      "text/markdown": [
       "4"
      ],
      "text/plain": [
       "[1] 4"
      ]
     },
     "metadata": {},
     "output_type": "display_data"
    }
   ],
   "source": [
    "ncol(df)"
   ]
  },
  {
   "cell_type": "code",
   "execution_count": 14,
   "id": "d2729b24-14ed-4a4d-8769-96f2dcc2be29",
   "metadata": {},
   "outputs": [
    {
     "data": {
      "text/html": [
       "<style>\n",
       ".list-inline {list-style: none; margin:0; padding: 0}\n",
       ".list-inline>li {display: inline-block}\n",
       ".list-inline>li:not(:last-child)::after {content: \"\\00b7\"; padding: 0 .5ex}\n",
       "</style>\n",
       "<ol class=list-inline><li>5</li><li>4</li></ol>\n"
      ],
      "text/latex": [
       "\\begin{enumerate*}\n",
       "\\item 5\n",
       "\\item 4\n",
       "\\end{enumerate*}\n"
      ],
      "text/markdown": [
       "1. 5\n",
       "2. 4\n",
       "\n",
       "\n"
      ],
      "text/plain": [
       "[1] 5 4"
      ]
     },
     "metadata": {},
     "output_type": "display_data"
    }
   ],
   "source": [
    "dim(df)"
   ]
  },
  {
   "cell_type": "code",
   "execution_count": 88,
   "id": "1e2afb4c-801e-4a9b-ad08-65771efdf0c1",
   "metadata": {},
   "outputs": [],
   "source": [
    "df <- data.frame(id = (1:5),\n",
    "                name = c(\"Petro\", \"Ivan\", \"Olena\", \"Olha\", \"Andriy\"),\n",
    "                age = sample(18:100, size = 5),\n",
    "                is_active = c(T, T, F, T, F),\n",
    "                gender = c(\"Male\", \"Male\", \"Female\", \"Female\", \"Unknown\"))"
   ]
  },
  {
   "cell_type": "code",
   "execution_count": 89,
   "id": "24c430ee-bb87-4d0e-b824-ca7192082c6b",
   "metadata": {},
   "outputs": [
    {
     "data": {
      "text/html": [
       "<table class=\"dataframe\">\n",
       "<caption>A data.frame: 5 x 5</caption>\n",
       "<thead>\n",
       "\t<tr><th scope=col>id</th><th scope=col>name</th><th scope=col>age</th><th scope=col>is_active</th><th scope=col>gender</th></tr>\n",
       "\t<tr><th scope=col>&lt;int&gt;</th><th scope=col>&lt;chr&gt;</th><th scope=col>&lt;int&gt;</th><th scope=col>&lt;lgl&gt;</th><th scope=col>&lt;chr&gt;</th></tr>\n",
       "</thead>\n",
       "<tbody>\n",
       "\t<tr><td>1</td><td>Petro </td><td>26</td><td> TRUE</td><td>Male   </td></tr>\n",
       "\t<tr><td>2</td><td>Ivan  </td><td>66</td><td> TRUE</td><td>Male   </td></tr>\n",
       "\t<tr><td>3</td><td>Olena </td><td>27</td><td>FALSE</td><td>Female </td></tr>\n",
       "\t<tr><td>4</td><td>Olha  </td><td>24</td><td> TRUE</td><td>Female </td></tr>\n",
       "\t<tr><td>5</td><td>Andriy</td><td>89</td><td>FALSE</td><td>Unknown</td></tr>\n",
       "</tbody>\n",
       "</table>\n"
      ],
      "text/latex": [
       "A data.frame: 5 x 5\n",
       "\\begin{tabular}{lllll}\n",
       " id & name & age & is\\_active & gender\\\\\n",
       " <int> & <chr> & <int> & <lgl> & <chr>\\\\\n",
       "\\hline\n",
       "\t 1 & Petro  & 26 &  TRUE & Male   \\\\\n",
       "\t 2 & Ivan   & 66 &  TRUE & Male   \\\\\n",
       "\t 3 & Olena  & 27 & FALSE & Female \\\\\n",
       "\t 4 & Olha   & 24 &  TRUE & Female \\\\\n",
       "\t 5 & Andriy & 89 & FALSE & Unknown\\\\\n",
       "\\end{tabular}\n"
      ],
      "text/markdown": [
       "\n",
       "A data.frame: 5 x 5\n",
       "\n",
       "| id &lt;int&gt; | name &lt;chr&gt; | age &lt;int&gt; | is_active &lt;lgl&gt; | gender &lt;chr&gt; |\n",
       "|---|---|---|---|---|\n",
       "| 1 | Petro  | 26 |  TRUE | Male    |\n",
       "| 2 | Ivan   | 66 |  TRUE | Male    |\n",
       "| 3 | Olena  | 27 | FALSE | Female  |\n",
       "| 4 | Olha   | 24 |  TRUE | Female  |\n",
       "| 5 | Andriy | 89 | FALSE | Unknown |\n",
       "\n"
      ],
      "text/plain": [
       "  id name   age is_active gender \n",
       "1 1  Petro  26   TRUE     Male   \n",
       "2 2  Ivan   66   TRUE     Male   \n",
       "3 3  Olena  27  FALSE     Female \n",
       "4 4  Olha   24   TRUE     Female \n",
       "5 5  Andriy 89  FALSE     Unknown"
      ]
     },
     "metadata": {},
     "output_type": "display_data"
    }
   ],
   "source": [
    "df"
   ]
  },
  {
   "cell_type": "code",
   "execution_count": 19,
   "id": "7b5b30d4-a2ea-4623-857a-486c5f47c053",
   "metadata": {},
   "outputs": [],
   "source": [
    "df <- data.frame(id = (1:5),\n",
    "                name = c(\"Petro\", \"Ivan\", \"Olena\", \"Olha\", \"Andriy\"),\n",
    "                age = sample(18:100, size = 5),\n",
    "                is_active = c(T, T, F, T, F),\n",
    "                gender = c(\"Male\", \"Male\", \"Female\", \"Female\", \"Unknown\"),\n",
    "                stringsAsFactors = T)\n",
    "df$name <- as.character(df$name)"
   ]
  },
  {
   "cell_type": "code",
   "execution_count": 21,
   "id": "2a370fa7-feaa-4ced-9584-8749d0de1942",
   "metadata": {},
   "outputs": [
    {
     "data": {
      "text/html": [
       "<table class=\"dataframe\">\n",
       "<caption>A data.frame: 5 x 5</caption>\n",
       "<thead>\n",
       "\t<tr><th scope=col>id</th><th scope=col>name</th><th scope=col>age</th><th scope=col>is_active</th><th scope=col>gender</th></tr>\n",
       "\t<tr><th scope=col>&lt;int&gt;</th><th scope=col>&lt;fct&gt;</th><th scope=col>&lt;int&gt;</th><th scope=col>&lt;lgl&gt;</th><th scope=col>&lt;fct&gt;</th></tr>\n",
       "</thead>\n",
       "<tbody>\n",
       "\t<tr><td>1</td><td>Petro </td><td>96</td><td> TRUE</td><td>Male   </td></tr>\n",
       "\t<tr><td>2</td><td>Ivan  </td><td>95</td><td> TRUE</td><td>Male   </td></tr>\n",
       "\t<tr><td>3</td><td>Olena </td><td>80</td><td>FALSE</td><td>Female </td></tr>\n",
       "\t<tr><td>4</td><td>Olha  </td><td>34</td><td> TRUE</td><td>Female </td></tr>\n",
       "\t<tr><td>5</td><td>Andriy</td><td>18</td><td>FALSE</td><td>Unknown</td></tr>\n",
       "</tbody>\n",
       "</table>\n"
      ],
      "text/latex": [
       "A data.frame: 5 x 5\n",
       "\\begin{tabular}{lllll}\n",
       " id & name & age & is\\_active & gender\\\\\n",
       " <int> & <fct> & <int> & <lgl> & <fct>\\\\\n",
       "\\hline\n",
       "\t 1 & Petro  & 96 &  TRUE & Male   \\\\\n",
       "\t 2 & Ivan   & 95 &  TRUE & Male   \\\\\n",
       "\t 3 & Olena  & 80 & FALSE & Female \\\\\n",
       "\t 4 & Olha   & 34 &  TRUE & Female \\\\\n",
       "\t 5 & Andriy & 18 & FALSE & Unknown\\\\\n",
       "\\end{tabular}\n"
      ],
      "text/markdown": [
       "\n",
       "A data.frame: 5 x 5\n",
       "\n",
       "| id &lt;int&gt; | name &lt;fct&gt; | age &lt;int&gt; | is_active &lt;lgl&gt; | gender &lt;fct&gt; |\n",
       "|---|---|---|---|---|\n",
       "| 1 | Petro  | 96 |  TRUE | Male    |\n",
       "| 2 | Ivan   | 95 |  TRUE | Male    |\n",
       "| 3 | Olena  | 80 | FALSE | Female  |\n",
       "| 4 | Olha   | 34 |  TRUE | Female  |\n",
       "| 5 | Andriy | 18 | FALSE | Unknown |\n",
       "\n"
      ],
      "text/plain": [
       "  id name   age is_active gender \n",
       "1 1  Petro  96   TRUE     Male   \n",
       "2 2  Ivan   95   TRUE     Male   \n",
       "3 3  Olena  80  FALSE     Female \n",
       "4 4  Olha   34   TRUE     Female \n",
       "5 5  Andriy 18  FALSE     Unknown"
      ]
     },
     "metadata": {},
     "output_type": "display_data"
    }
   ],
   "source": [
    "df"
   ]
  },
  {
   "cell_type": "code",
   "execution_count": 23,
   "id": "14b92913-c622-4461-a8ee-befed0ffb43b",
   "metadata": {},
   "outputs": [],
   "source": [
    "df$name <- as.character(df$name)"
   ]
  },
  {
   "cell_type": "code",
   "execution_count": 25,
   "id": "f5d89ac6-0570-4820-8f31-e564b8964635",
   "metadata": {},
   "outputs": [
    {
     "data": {
      "text/html": [
       "<table class=\"dataframe\">\n",
       "<caption>A data.frame: 5 x 5</caption>\n",
       "<thead>\n",
       "\t<tr><th scope=col>id</th><th scope=col>name</th><th scope=col>age</th><th scope=col>is_active</th><th scope=col>gender</th></tr>\n",
       "\t<tr><th scope=col>&lt;int&gt;</th><th scope=col>&lt;chr&gt;</th><th scope=col>&lt;int&gt;</th><th scope=col>&lt;lgl&gt;</th><th scope=col>&lt;fct&gt;</th></tr>\n",
       "</thead>\n",
       "<tbody>\n",
       "\t<tr><td>1</td><td>Petro </td><td>96</td><td> TRUE</td><td>Male   </td></tr>\n",
       "\t<tr><td>2</td><td>Ivan  </td><td>95</td><td> TRUE</td><td>Male   </td></tr>\n",
       "\t<tr><td>3</td><td>Olena </td><td>80</td><td>FALSE</td><td>Female </td></tr>\n",
       "\t<tr><td>4</td><td>Olha  </td><td>34</td><td> TRUE</td><td>Female </td></tr>\n",
       "\t<tr><td>5</td><td>Andriy</td><td>18</td><td>FALSE</td><td>Unknown</td></tr>\n",
       "</tbody>\n",
       "</table>\n"
      ],
      "text/latex": [
       "A data.frame: 5 x 5\n",
       "\\begin{tabular}{lllll}\n",
       " id & name & age & is\\_active & gender\\\\\n",
       " <int> & <chr> & <int> & <lgl> & <fct>\\\\\n",
       "\\hline\n",
       "\t 1 & Petro  & 96 &  TRUE & Male   \\\\\n",
       "\t 2 & Ivan   & 95 &  TRUE & Male   \\\\\n",
       "\t 3 & Olena  & 80 & FALSE & Female \\\\\n",
       "\t 4 & Olha   & 34 &  TRUE & Female \\\\\n",
       "\t 5 & Andriy & 18 & FALSE & Unknown\\\\\n",
       "\\end{tabular}\n"
      ],
      "text/markdown": [
       "\n",
       "A data.frame: 5 x 5\n",
       "\n",
       "| id &lt;int&gt; | name &lt;chr&gt; | age &lt;int&gt; | is_active &lt;lgl&gt; | gender &lt;fct&gt; |\n",
       "|---|---|---|---|---|\n",
       "| 1 | Petro  | 96 |  TRUE | Male    |\n",
       "| 2 | Ivan   | 95 |  TRUE | Male    |\n",
       "| 3 | Olena  | 80 | FALSE | Female  |\n",
       "| 4 | Olha   | 34 |  TRUE | Female  |\n",
       "| 5 | Andriy | 18 | FALSE | Unknown |\n",
       "\n"
      ],
      "text/plain": [
       "  id name   age is_active gender \n",
       "1 1  Petro  96   TRUE     Male   \n",
       "2 2  Ivan   95   TRUE     Male   \n",
       "3 3  Olena  80  FALSE     Female \n",
       "4 4  Olha   34   TRUE     Female \n",
       "5 5  Andriy 18  FALSE     Unknown"
      ]
     },
     "metadata": {},
     "output_type": "display_data"
    }
   ],
   "source": [
    "df"
   ]
  },
  {
   "cell_type": "code",
   "execution_count": 27,
   "id": "548bad2d-3989-4e53-a001-b4ee40206e40",
   "metadata": {},
   "outputs": [
    {
     "data": {
      "text/html": [
       "<table class=\"dataframe\">\n",
       "<caption>A data.frame: 3 x 3</caption>\n",
       "<thead>\n",
       "\t<tr><th scope=col>a</th><th scope=col>b</th><th scope=col>c</th></tr>\n",
       "\t<tr><th scope=col>&lt;int&gt;</th><th scope=col>&lt;dbl&gt;</th><th scope=col>&lt;chr&gt;</th></tr>\n",
       "</thead>\n",
       "<tbody>\n",
       "\t<tr><td>1</td><td>4</td><td>AAA</td></tr>\n",
       "\t<tr><td>2</td><td>1</td><td>BBB</td></tr>\n",
       "\t<tr><td>3</td><td>8</td><td>CCC</td></tr>\n",
       "</tbody>\n",
       "</table>\n"
      ],
      "text/latex": [
       "A data.frame: 3 x 3\n",
       "\\begin{tabular}{lll}\n",
       " a & b & c\\\\\n",
       " <int> & <dbl> & <chr>\\\\\n",
       "\\hline\n",
       "\t 1 & 4 & AAA\\\\\n",
       "\t 2 & 1 & BBB\\\\\n",
       "\t 3 & 8 & CCC\\\\\n",
       "\\end{tabular}\n"
      ],
      "text/markdown": [
       "\n",
       "A data.frame: 3 x 3\n",
       "\n",
       "| a &lt;int&gt; | b &lt;dbl&gt; | c &lt;chr&gt; |\n",
       "|---|---|---|\n",
       "| 1 | 4 | AAA |\n",
       "| 2 | 1 | BBB |\n",
       "| 3 | 8 | CCC |\n",
       "\n"
      ],
      "text/plain": [
       "  a b c  \n",
       "1 1 4 AAA\n",
       "2 2 1 BBB\n",
       "3 3 8 CCC"
      ]
     },
     "metadata": {},
     "output_type": "display_data"
    }
   ],
   "source": [
    "a <- c(1:3)\n",
    "b <- c(4,1,8)\n",
    "c <- c(\"AAA\", \"BBB\", \"CCC\")\n",
    "\n",
    "df_abc <- data.frame(a,b,c)\n",
    "df_abc"
   ]
  },
  {
   "cell_type": "markdown",
   "id": "198ae759-7f5b-4093-848c-04a38aa5949e",
   "metadata": {},
   "source": [
    "## Іменування елементів data,frame"
   ]
  },
  {
   "cell_type": "code",
   "execution_count": 90,
   "id": "b63d5c40-465e-45a6-8ff8-1601e0899108",
   "metadata": {},
   "outputs": [
    {
     "data": {
      "text/html": [
       "<table class=\"dataframe\">\n",
       "<caption>A data.frame: 5 x 5</caption>\n",
       "<thead>\n",
       "\t<tr><th scope=col>X1</th><th scope=col>X2</th><th scope=col>X3</th><th scope=col>X4</th><th scope=col>X5</th></tr>\n",
       "\t<tr><th scope=col>&lt;int&gt;</th><th scope=col>&lt;chr&gt;</th><th scope=col>&lt;int&gt;</th><th scope=col>&lt;lgl&gt;</th><th scope=col>&lt;fct&gt;</th></tr>\n",
       "</thead>\n",
       "<tbody>\n",
       "\t<tr><td>1</td><td>Petro </td><td>63</td><td> TRUE</td><td>Male   </td></tr>\n",
       "\t<tr><td>2</td><td>Ivan  </td><td>93</td><td> TRUE</td><td>Male   </td></tr>\n",
       "\t<tr><td>3</td><td>Olena </td><td>31</td><td>FALSE</td><td>Female </td></tr>\n",
       "\t<tr><td>4</td><td>Olha  </td><td>69</td><td> TRUE</td><td>Female </td></tr>\n",
       "\t<tr><td>5</td><td>Andriy</td><td>60</td><td>FALSE</td><td>Unknown</td></tr>\n",
       "</tbody>\n",
       "</table>\n"
      ],
      "text/latex": [
       "A data.frame: 5 x 5\n",
       "\\begin{tabular}{lllll}\n",
       " X1 & X2 & X3 & X4 & X5\\\\\n",
       " <int> & <chr> & <int> & <lgl> & <fct>\\\\\n",
       "\\hline\n",
       "\t 1 & Petro  & 63 &  TRUE & Male   \\\\\n",
       "\t 2 & Ivan   & 93 &  TRUE & Male   \\\\\n",
       "\t 3 & Olena  & 31 & FALSE & Female \\\\\n",
       "\t 4 & Olha   & 69 &  TRUE & Female \\\\\n",
       "\t 5 & Andriy & 60 & FALSE & Unknown\\\\\n",
       "\\end{tabular}\n"
      ],
      "text/markdown": [
       "\n",
       "A data.frame: 5 x 5\n",
       "\n",
       "| X1 &lt;int&gt; | X2 &lt;chr&gt; | X3 &lt;int&gt; | X4 &lt;lgl&gt; | X5 &lt;fct&gt; |\n",
       "|---|---|---|---|---|\n",
       "| 1 | Petro  | 63 |  TRUE | Male    |\n",
       "| 2 | Ivan   | 93 |  TRUE | Male    |\n",
       "| 3 | Olena  | 31 | FALSE | Female  |\n",
       "| 4 | Olha   | 69 |  TRUE | Female  |\n",
       "| 5 | Andriy | 60 | FALSE | Unknown |\n",
       "\n"
      ],
      "text/plain": [
       "  X1 X2     X3 X4    X5     \n",
       "1 1  Petro  63  TRUE Male   \n",
       "2 2  Ivan   93  TRUE Male   \n",
       "3 3  Olena  31 FALSE Female \n",
       "4 4  Olha   69  TRUE Female \n",
       "5 5  Andriy 60 FALSE Unknown"
      ]
     },
     "metadata": {},
     "output_type": "display_data"
    }
   ],
   "source": [
    "df <- data.frame(X1 = (1:5),\n",
    "                X2 = c(\"Petro\", \"Ivan\", \"Olena\", \"Olha\", \"Andriy\"),\n",
    "                X3 = sample(18:100, size = 5),\n",
    "                X4 = c(T, T, F, T, F),\n",
    "                X5 = c(\"Male\", \"Male\", \"Female\", \"Female\", \"Unknown\"),\n",
    "                stringsAsFactors = T)\n",
    "df$X2 <- as.character(df$X2)\n",
    "df"
   ]
  },
  {
   "cell_type": "code",
   "execution_count": 91,
   "id": "9d32de20-7151-4e40-92be-2f34c7df53b4",
   "metadata": {},
   "outputs": [
    {
     "data": {
      "text/html": [
       "<style>\n",
       ".list-inline {list-style: none; margin:0; padding: 0}\n",
       ".list-inline>li {display: inline-block}\n",
       ".list-inline>li:not(:last-child)::after {content: \"\\00b7\"; padding: 0 .5ex}\n",
       "</style>\n",
       "<ol class=list-inline><li>'X1'</li><li>'X2'</li><li>'X3'</li><li>'X4'</li><li>'X5'</li></ol>\n"
      ],
      "text/latex": [
       "\\begin{enumerate*}\n",
       "\\item 'X1'\n",
       "\\item 'X2'\n",
       "\\item 'X3'\n",
       "\\item 'X4'\n",
       "\\item 'X5'\n",
       "\\end{enumerate*}\n"
      ],
      "text/markdown": [
       "1. 'X1'\n",
       "2. 'X2'\n",
       "3. 'X3'\n",
       "4. 'X4'\n",
       "5. 'X5'\n",
       "\n",
       "\n"
      ],
      "text/plain": [
       "[1] \"X1\" \"X2\" \"X3\" \"X4\" \"X5\""
      ]
     },
     "metadata": {},
     "output_type": "display_data"
    }
   ],
   "source": [
    "colnames(df)"
   ]
  },
  {
   "cell_type": "code",
   "execution_count": 92,
   "id": "a082b28e-e5d7-463a-88fb-23ec99722a8e",
   "metadata": {},
   "outputs": [],
   "source": [
    "colnames(df) <- c(\"Id\", \"FirstName\", \"Age\", \"IsActiveCustomer\", \"Gender\")"
   ]
  },
  {
   "cell_type": "code",
   "execution_count": 93,
   "id": "45925f66-b4aa-4a5a-a67f-b6843975deac",
   "metadata": {},
   "outputs": [
    {
     "data": {
      "text/html": [
       "<table class=\"dataframe\">\n",
       "<caption>A data.frame: 5 x 5</caption>\n",
       "<thead>\n",
       "\t<tr><th scope=col>Id</th><th scope=col>FirstName</th><th scope=col>Age</th><th scope=col>IsActiveCustomer</th><th scope=col>Gender</th></tr>\n",
       "\t<tr><th scope=col>&lt;int&gt;</th><th scope=col>&lt;chr&gt;</th><th scope=col>&lt;int&gt;</th><th scope=col>&lt;lgl&gt;</th><th scope=col>&lt;fct&gt;</th></tr>\n",
       "</thead>\n",
       "<tbody>\n",
       "\t<tr><td>1</td><td>Petro </td><td>63</td><td> TRUE</td><td>Male   </td></tr>\n",
       "\t<tr><td>2</td><td>Ivan  </td><td>93</td><td> TRUE</td><td>Male   </td></tr>\n",
       "\t<tr><td>3</td><td>Olena </td><td>31</td><td>FALSE</td><td>Female </td></tr>\n",
       "\t<tr><td>4</td><td>Olha  </td><td>69</td><td> TRUE</td><td>Female </td></tr>\n",
       "\t<tr><td>5</td><td>Andriy</td><td>60</td><td>FALSE</td><td>Unknown</td></tr>\n",
       "</tbody>\n",
       "</table>\n"
      ],
      "text/latex": [
       "A data.frame: 5 x 5\n",
       "\\begin{tabular}{lllll}\n",
       " Id & FirstName & Age & IsActiveCustomer & Gender\\\\\n",
       " <int> & <chr> & <int> & <lgl> & <fct>\\\\\n",
       "\\hline\n",
       "\t 1 & Petro  & 63 &  TRUE & Male   \\\\\n",
       "\t 2 & Ivan   & 93 &  TRUE & Male   \\\\\n",
       "\t 3 & Olena  & 31 & FALSE & Female \\\\\n",
       "\t 4 & Olha   & 69 &  TRUE & Female \\\\\n",
       "\t 5 & Andriy & 60 & FALSE & Unknown\\\\\n",
       "\\end{tabular}\n"
      ],
      "text/markdown": [
       "\n",
       "A data.frame: 5 x 5\n",
       "\n",
       "| Id &lt;int&gt; | FirstName &lt;chr&gt; | Age &lt;int&gt; | IsActiveCustomer &lt;lgl&gt; | Gender &lt;fct&gt; |\n",
       "|---|---|---|---|---|\n",
       "| 1 | Petro  | 63 |  TRUE | Male    |\n",
       "| 2 | Ivan   | 93 |  TRUE | Male    |\n",
       "| 3 | Olena  | 31 | FALSE | Female  |\n",
       "| 4 | Olha   | 69 |  TRUE | Female  |\n",
       "| 5 | Andriy | 60 | FALSE | Unknown |\n",
       "\n"
      ],
      "text/plain": [
       "  Id FirstName Age IsActiveCustomer Gender \n",
       "1 1  Petro     63   TRUE            Male   \n",
       "2 2  Ivan      93   TRUE            Male   \n",
       "3 3  Olena     31  FALSE            Female \n",
       "4 4  Olha      69   TRUE            Female \n",
       "5 5  Andriy    60  FALSE            Unknown"
      ]
     },
     "metadata": {},
     "output_type": "display_data"
    }
   ],
   "source": [
    "df"
   ]
  },
  {
   "cell_type": "code",
   "execution_count": 94,
   "id": "7745a39f-8c4c-4b56-af15-4a04a1d0c044",
   "metadata": {},
   "outputs": [
    {
     "data": {
      "text/html": [
       "<style>\n",
       ".list-inline {list-style: none; margin:0; padding: 0}\n",
       ".list-inline>li {display: inline-block}\n",
       ".list-inline>li:not(:last-child)::after {content: \"\\00b7\"; padding: 0 .5ex}\n",
       "</style>\n",
       "<ol class=list-inline><li>'1'</li><li>'2'</li><li>'3'</li><li>'4'</li><li>'5'</li></ol>\n"
      ],
      "text/latex": [
       "\\begin{enumerate*}\n",
       "\\item '1'\n",
       "\\item '2'\n",
       "\\item '3'\n",
       "\\item '4'\n",
       "\\item '5'\n",
       "\\end{enumerate*}\n"
      ],
      "text/markdown": [
       "1. '1'\n",
       "2. '2'\n",
       "3. '3'\n",
       "4. '4'\n",
       "5. '5'\n",
       "\n",
       "\n"
      ],
      "text/plain": [
       "[1] \"1\" \"2\" \"3\" \"4\" \"5\""
      ]
     },
     "metadata": {},
     "output_type": "display_data"
    }
   ],
   "source": [
    "rownames(df)"
   ]
  },
  {
   "cell_type": "code",
   "execution_count": 95,
   "id": "46c6e9b5-c2e1-4df5-9dc8-01f4c3aa947d",
   "metadata": {},
   "outputs": [],
   "source": [
    "rownames(df) <- df$Id"
   ]
  },
  {
   "cell_type": "code",
   "execution_count": 96,
   "id": "a3dbfbfe-5c7a-47e0-9fed-ee70bdd4d3f6",
   "metadata": {},
   "outputs": [
    {
     "data": {
      "text/html": [
       "<table class=\"dataframe\">\n",
       "<caption>A data.frame: 5 x 5</caption>\n",
       "<thead>\n",
       "\t<tr><th></th><th scope=col>Id</th><th scope=col>FirstName</th><th scope=col>Age</th><th scope=col>IsActiveCustomer</th><th scope=col>Gender</th></tr>\n",
       "\t<tr><th></th><th scope=col>&lt;int&gt;</th><th scope=col>&lt;chr&gt;</th><th scope=col>&lt;int&gt;</th><th scope=col>&lt;lgl&gt;</th><th scope=col>&lt;fct&gt;</th></tr>\n",
       "</thead>\n",
       "<tbody>\n",
       "\t<tr><th scope=row>1</th><td>1</td><td>Petro </td><td>63</td><td> TRUE</td><td>Male   </td></tr>\n",
       "\t<tr><th scope=row>2</th><td>2</td><td>Ivan  </td><td>93</td><td> TRUE</td><td>Male   </td></tr>\n",
       "\t<tr><th scope=row>3</th><td>3</td><td>Olena </td><td>31</td><td>FALSE</td><td>Female </td></tr>\n",
       "\t<tr><th scope=row>4</th><td>4</td><td>Olha  </td><td>69</td><td> TRUE</td><td>Female </td></tr>\n",
       "\t<tr><th scope=row>5</th><td>5</td><td>Andriy</td><td>60</td><td>FALSE</td><td>Unknown</td></tr>\n",
       "</tbody>\n",
       "</table>\n"
      ],
      "text/latex": [
       "A data.frame: 5 x 5\n",
       "\\begin{tabular}{r|lllll}\n",
       "  & Id & FirstName & Age & IsActiveCustomer & Gender\\\\\n",
       "  & <int> & <chr> & <int> & <lgl> & <fct>\\\\\n",
       "\\hline\n",
       "\t1 & 1 & Petro  & 63 &  TRUE & Male   \\\\\n",
       "\t2 & 2 & Ivan   & 93 &  TRUE & Male   \\\\\n",
       "\t3 & 3 & Olena  & 31 & FALSE & Female \\\\\n",
       "\t4 & 4 & Olha   & 69 &  TRUE & Female \\\\\n",
       "\t5 & 5 & Andriy & 60 & FALSE & Unknown\\\\\n",
       "\\end{tabular}\n"
      ],
      "text/markdown": [
       "\n",
       "A data.frame: 5 x 5\n",
       "\n",
       "| <!--/--> | Id &lt;int&gt; | FirstName &lt;chr&gt; | Age &lt;int&gt; | IsActiveCustomer &lt;lgl&gt; | Gender &lt;fct&gt; |\n",
       "|---|---|---|---|---|---|\n",
       "| 1 | 1 | Petro  | 63 |  TRUE | Male    |\n",
       "| 2 | 2 | Ivan   | 93 |  TRUE | Male    |\n",
       "| 3 | 3 | Olena  | 31 | FALSE | Female  |\n",
       "| 4 | 4 | Olha   | 69 |  TRUE | Female  |\n",
       "| 5 | 5 | Andriy | 60 | FALSE | Unknown |\n",
       "\n"
      ],
      "text/plain": [
       "  Id FirstName Age IsActiveCustomer Gender \n",
       "1 1  Petro     63   TRUE            Male   \n",
       "2 2  Ivan      93   TRUE            Male   \n",
       "3 3  Olena     31  FALSE            Female \n",
       "4 4  Olha      69   TRUE            Female \n",
       "5 5  Andriy    60  FALSE            Unknown"
      ]
     },
     "metadata": {},
     "output_type": "display_data"
    }
   ],
   "source": [
    "df"
   ]
  },
  {
   "cell_type": "code",
   "execution_count": 98,
   "id": "f4e46b4d-4de1-4fbb-9d8b-ffefc702de4a",
   "metadata": {},
   "outputs": [],
   "source": [
    "df$Id <- NULL"
   ]
  },
  {
   "cell_type": "code",
   "execution_count": 99,
   "id": "d5c4af0b-15ce-4747-a641-9ab186d6d003",
   "metadata": {},
   "outputs": [
    {
     "data": {
      "text/html": [
       "<table class=\"dataframe\">\n",
       "<caption>A data.frame: 5 x 4</caption>\n",
       "<thead>\n",
       "\t<tr><th></th><th scope=col>FirstName</th><th scope=col>Age</th><th scope=col>IsActiveCustomer</th><th scope=col>Gender</th></tr>\n",
       "\t<tr><th></th><th scope=col>&lt;chr&gt;</th><th scope=col>&lt;int&gt;</th><th scope=col>&lt;lgl&gt;</th><th scope=col>&lt;fct&gt;</th></tr>\n",
       "</thead>\n",
       "<tbody>\n",
       "\t<tr><th scope=row>1</th><td>Petro </td><td>63</td><td> TRUE</td><td>Male   </td></tr>\n",
       "\t<tr><th scope=row>2</th><td>Ivan  </td><td>93</td><td> TRUE</td><td>Male   </td></tr>\n",
       "\t<tr><th scope=row>3</th><td>Olena </td><td>31</td><td>FALSE</td><td>Female </td></tr>\n",
       "\t<tr><th scope=row>4</th><td>Olha  </td><td>69</td><td> TRUE</td><td>Female </td></tr>\n",
       "\t<tr><th scope=row>5</th><td>Andriy</td><td>60</td><td>FALSE</td><td>Unknown</td></tr>\n",
       "</tbody>\n",
       "</table>\n"
      ],
      "text/latex": [
       "A data.frame: 5 x 4\n",
       "\\begin{tabular}{r|llll}\n",
       "  & FirstName & Age & IsActiveCustomer & Gender\\\\\n",
       "  & <chr> & <int> & <lgl> & <fct>\\\\\n",
       "\\hline\n",
       "\t1 & Petro  & 63 &  TRUE & Male   \\\\\n",
       "\t2 & Ivan   & 93 &  TRUE & Male   \\\\\n",
       "\t3 & Olena  & 31 & FALSE & Female \\\\\n",
       "\t4 & Olha   & 69 &  TRUE & Female \\\\\n",
       "\t5 & Andriy & 60 & FALSE & Unknown\\\\\n",
       "\\end{tabular}\n"
      ],
      "text/markdown": [
       "\n",
       "A data.frame: 5 x 4\n",
       "\n",
       "| <!--/--> | FirstName &lt;chr&gt; | Age &lt;int&gt; | IsActiveCustomer &lt;lgl&gt; | Gender &lt;fct&gt; |\n",
       "|---|---|---|---|---|\n",
       "| 1 | Petro  | 63 |  TRUE | Male    |\n",
       "| 2 | Ivan   | 93 |  TRUE | Male    |\n",
       "| 3 | Olena  | 31 | FALSE | Female  |\n",
       "| 4 | Olha   | 69 |  TRUE | Female  |\n",
       "| 5 | Andriy | 60 | FALSE | Unknown |\n",
       "\n"
      ],
      "text/plain": [
       "  FirstName Age IsActiveCustomer Gender \n",
       "1 Petro     63   TRUE            Male   \n",
       "2 Ivan      93   TRUE            Male   \n",
       "3 Olena     31  FALSE            Female \n",
       "4 Olha      69   TRUE            Female \n",
       "5 Andriy    60  FALSE            Unknown"
      ]
     },
     "metadata": {},
     "output_type": "display_data"
    }
   ],
   "source": [
    "df"
   ]
  },
  {
   "cell_type": "markdown",
   "id": "bd1d95bc-0246-4bc0-8f47-37134f7fa316",
   "metadata": {},
   "source": [
    "## Розширення data.frame-ів"
   ]
  },
  {
   "cell_type": "code",
   "execution_count": 100,
   "id": "59a4a295-628d-4691-a8d7-096e20e933a9",
   "metadata": {},
   "outputs": [],
   "source": [
    "car <- c(\"Ford\", NA, \"Tesla\", NA, \"Ford\")"
   ]
  },
  {
   "cell_type": "code",
   "execution_count": 101,
   "id": "570ba849-cd87-4c94-ab80-6b2ab1bd1764",
   "metadata": {},
   "outputs": [],
   "source": [
    "df <- cbind(df, car)"
   ]
  },
  {
   "cell_type": "code",
   "execution_count": 102,
   "id": "581acfff-2fca-4bbf-888a-0742dc6fdfb1",
   "metadata": {},
   "outputs": [
    {
     "data": {
      "text/html": [
       "<table class=\"dataframe\">\n",
       "<caption>A data.frame: 5 x 5</caption>\n",
       "<thead>\n",
       "\t<tr><th></th><th scope=col>FirstName</th><th scope=col>Age</th><th scope=col>IsActiveCustomer</th><th scope=col>Gender</th><th scope=col>car</th></tr>\n",
       "\t<tr><th></th><th scope=col>&lt;chr&gt;</th><th scope=col>&lt;int&gt;</th><th scope=col>&lt;lgl&gt;</th><th scope=col>&lt;fct&gt;</th><th scope=col>&lt;chr&gt;</th></tr>\n",
       "</thead>\n",
       "<tbody>\n",
       "\t<tr><th scope=row>1</th><td>Petro </td><td>63</td><td> TRUE</td><td>Male   </td><td>Ford </td></tr>\n",
       "\t<tr><th scope=row>2</th><td>Ivan  </td><td>93</td><td> TRUE</td><td>Male   </td><td>NA   </td></tr>\n",
       "\t<tr><th scope=row>3</th><td>Olena </td><td>31</td><td>FALSE</td><td>Female </td><td>Tesla</td></tr>\n",
       "\t<tr><th scope=row>4</th><td>Olha  </td><td>69</td><td> TRUE</td><td>Female </td><td>NA   </td></tr>\n",
       "\t<tr><th scope=row>5</th><td>Andriy</td><td>60</td><td>FALSE</td><td>Unknown</td><td>Ford </td></tr>\n",
       "</tbody>\n",
       "</table>\n"
      ],
      "text/latex": [
       "A data.frame: 5 x 5\n",
       "\\begin{tabular}{r|lllll}\n",
       "  & FirstName & Age & IsActiveCustomer & Gender & car\\\\\n",
       "  & <chr> & <int> & <lgl> & <fct> & <chr>\\\\\n",
       "\\hline\n",
       "\t1 & Petro  & 63 &  TRUE & Male    & Ford \\\\\n",
       "\t2 & Ivan   & 93 &  TRUE & Male    & NA   \\\\\n",
       "\t3 & Olena  & 31 & FALSE & Female  & Tesla\\\\\n",
       "\t4 & Olha   & 69 &  TRUE & Female  & NA   \\\\\n",
       "\t5 & Andriy & 60 & FALSE & Unknown & Ford \\\\\n",
       "\\end{tabular}\n"
      ],
      "text/markdown": [
       "\n",
       "A data.frame: 5 x 5\n",
       "\n",
       "| <!--/--> | FirstName &lt;chr&gt; | Age &lt;int&gt; | IsActiveCustomer &lt;lgl&gt; | Gender &lt;fct&gt; | car &lt;chr&gt; |\n",
       "|---|---|---|---|---|---|\n",
       "| 1 | Petro  | 63 |  TRUE | Male    | Ford  |\n",
       "| 2 | Ivan   | 93 |  TRUE | Male    | NA    |\n",
       "| 3 | Olena  | 31 | FALSE | Female  | Tesla |\n",
       "| 4 | Olha   | 69 |  TRUE | Female  | NA    |\n",
       "| 5 | Andriy | 60 | FALSE | Unknown | Ford  |\n",
       "\n"
      ],
      "text/plain": [
       "  FirstName Age IsActiveCustomer Gender  car  \n",
       "1 Petro     63   TRUE            Male    Ford \n",
       "2 Ivan      93   TRUE            Male    NA   \n",
       "3 Olena     31  FALSE            Female  Tesla\n",
       "4 Olha      69   TRUE            Female  NA   \n",
       "5 Andriy    60  FALSE            Unknown Ford "
      ]
     },
     "metadata": {},
     "output_type": "display_data"
    }
   ],
   "source": [
    "df"
   ]
  },
  {
   "cell_type": "code",
   "execution_count": 104,
   "id": "0e59ed63-c6aa-4082-a62e-1c95a9e854f1",
   "metadata": {},
   "outputs": [],
   "source": [
    "df$HasCar <- !is.na(df$car)"
   ]
  },
  {
   "cell_type": "code",
   "execution_count": 57,
   "id": "f2b4b800-ecab-4d00-9798-a433d52182a8",
   "metadata": {},
   "outputs": [
    {
     "data": {
      "text/html": [
       "<table class=\"dataframe\">\n",
       "<caption>A data.frame: 5 x 6</caption>\n",
       "<thead>\n",
       "\t<tr><th></th><th scope=col>FirstName</th><th scope=col>Age</th><th scope=col>IsActiveCustomer</th><th scope=col>Gender</th><th scope=col>car</th><th scope=col>HasCar</th></tr>\n",
       "\t<tr><th></th><th scope=col>&lt;chr&gt;</th><th scope=col>&lt;int&gt;</th><th scope=col>&lt;lgl&gt;</th><th scope=col>&lt;fct&gt;</th><th scope=col>&lt;chr&gt;</th><th scope=col>&lt;lgl&gt;</th></tr>\n",
       "</thead>\n",
       "<tbody>\n",
       "\t<tr><th scope=row>1</th><td>Petro </td><td>31</td><td> TRUE</td><td>Male   </td><td>Ford </td><td> TRUE</td></tr>\n",
       "\t<tr><th scope=row>2</th><td>Ivan  </td><td>56</td><td> TRUE</td><td>Male   </td><td>NA   </td><td>FALSE</td></tr>\n",
       "\t<tr><th scope=row>3</th><td>Olena </td><td>48</td><td>FALSE</td><td>Female </td><td>Tesla</td><td> TRUE</td></tr>\n",
       "\t<tr><th scope=row>4</th><td>Olha  </td><td>34</td><td> TRUE</td><td>Female </td><td>NA   </td><td>FALSE</td></tr>\n",
       "\t<tr><th scope=row>5</th><td>Andriy</td><td>97</td><td>FALSE</td><td>Unknown</td><td>Ford </td><td> TRUE</td></tr>\n",
       "</tbody>\n",
       "</table>\n"
      ],
      "text/latex": [
       "A data.frame: 5 x 6\n",
       "\\begin{tabular}{r|llllll}\n",
       "  & FirstName & Age & IsActiveCustomer & Gender & car & HasCar\\\\\n",
       "  & <chr> & <int> & <lgl> & <fct> & <chr> & <lgl>\\\\\n",
       "\\hline\n",
       "\t1 & Petro  & 31 &  TRUE & Male    & Ford  &  TRUE\\\\\n",
       "\t2 & Ivan   & 56 &  TRUE & Male    & NA    & FALSE\\\\\n",
       "\t3 & Olena  & 48 & FALSE & Female  & Tesla &  TRUE\\\\\n",
       "\t4 & Olha   & 34 &  TRUE & Female  & NA    & FALSE\\\\\n",
       "\t5 & Andriy & 97 & FALSE & Unknown & Ford  &  TRUE\\\\\n",
       "\\end{tabular}\n"
      ],
      "text/markdown": [
       "\n",
       "A data.frame: 5 x 6\n",
       "\n",
       "| <!--/--> | FirstName &lt;chr&gt; | Age &lt;int&gt; | IsActiveCustomer &lt;lgl&gt; | Gender &lt;fct&gt; | car &lt;chr&gt; | HasCar &lt;lgl&gt; |\n",
       "|---|---|---|---|---|---|---|\n",
       "| 1 | Petro  | 31 |  TRUE | Male    | Ford  |  TRUE |\n",
       "| 2 | Ivan   | 56 |  TRUE | Male    | NA    | FALSE |\n",
       "| 3 | Olena  | 48 | FALSE | Female  | Tesla |  TRUE |\n",
       "| 4 | Olha   | 34 |  TRUE | Female  | NA    | FALSE |\n",
       "| 5 | Andriy | 97 | FALSE | Unknown | Ford  |  TRUE |\n",
       "\n"
      ],
      "text/plain": [
       "  FirstName Age IsActiveCustomer Gender  car   HasCar\n",
       "1 Petro     31   TRUE            Male    Ford   TRUE \n",
       "2 Ivan      56   TRUE            Male    NA    FALSE \n",
       "3 Olena     48  FALSE            Female  Tesla  TRUE \n",
       "4 Olha      34   TRUE            Female  NA    FALSE \n",
       "5 Andriy    97  FALSE            Unknown Ford   TRUE "
      ]
     },
     "metadata": {},
     "output_type": "display_data"
    }
   ],
   "source": [
    "df"
   ]
  },
  {
   "cell_type": "code",
   "execution_count": 106,
   "id": "fb189bfe-35c0-4f09-9e54-e272c8d2b9d1",
   "metadata": {},
   "outputs": [
    {
     "data": {
      "text/html": [
       "<table class=\"dataframe\">\n",
       "<caption>A data.frame: 3 x 4</caption>\n",
       "<thead>\n",
       "\t<tr><th></th><th scope=col>FirstName</th><th scope=col>Age</th><th scope=col>IsActiveCustomer</th><th scope=col>Gender</th></tr>\n",
       "\t<tr><th></th><th scope=col>&lt;chr&gt;</th><th scope=col>&lt;int&gt;</th><th scope=col>&lt;lgl&gt;</th><th scope=col>&lt;fct&gt;</th></tr>\n",
       "</thead>\n",
       "<tbody>\n",
       "\t<tr><th scope=row>1</th><td>Petro </td><td>63</td><td> TRUE</td><td>Male   </td></tr>\n",
       "\t<tr><th scope=row>3</th><td>Olena </td><td>31</td><td>FALSE</td><td>Female </td></tr>\n",
       "\t<tr><th scope=row>5</th><td>Andriy</td><td>60</td><td>FALSE</td><td>Unknown</td></tr>\n",
       "</tbody>\n",
       "</table>\n"
      ],
      "text/latex": [
       "A data.frame: 3 x 4\n",
       "\\begin{tabular}{r|llll}\n",
       "  & FirstName & Age & IsActiveCustomer & Gender\\\\\n",
       "  & <chr> & <int> & <lgl> & <fct>\\\\\n",
       "\\hline\n",
       "\t1 & Petro  & 63 &  TRUE & Male   \\\\\n",
       "\t3 & Olena  & 31 & FALSE & Female \\\\\n",
       "\t5 & Andriy & 60 & FALSE & Unknown\\\\\n",
       "\\end{tabular}\n"
      ],
      "text/markdown": [
       "\n",
       "A data.frame: 3 x 4\n",
       "\n",
       "| <!--/--> | FirstName &lt;chr&gt; | Age &lt;int&gt; | IsActiveCustomer &lt;lgl&gt; | Gender &lt;fct&gt; |\n",
       "|---|---|---|---|---|\n",
       "| 1 | Petro  | 63 |  TRUE | Male    |\n",
       "| 3 | Olena  | 31 | FALSE | Female  |\n",
       "| 5 | Andriy | 60 | FALSE | Unknown |\n",
       "\n"
      ],
      "text/plain": [
       "  FirstName Age IsActiveCustomer Gender \n",
       "1 Petro     63   TRUE            Male   \n",
       "3 Olena     31  FALSE            Female \n",
       "5 Andriy    60  FALSE            Unknown"
      ]
     },
     "metadata": {},
     "output_type": "display_data"
    }
   ],
   "source": [
    "df[df$HasCar, 1:4]"
   ]
  },
  {
   "cell_type": "code",
   "execution_count": 107,
   "id": "c9aa3550-dd12-49ea-85b9-9ec1a0da3abd",
   "metadata": {},
   "outputs": [],
   "source": [
    "new_client <- c(\"Oksana\", 24, T, \"Female\", \"Porshe\", NA) "
   ]
  },
  {
   "cell_type": "code",
   "execution_count": 108,
   "id": "fa4cefb8-d6b5-466b-b846-bde7f54336c5",
   "metadata": {},
   "outputs": [
    {
     "data": {
      "text/html": [
       "<table class=\"dataframe\">\n",
       "<caption>A data.frame: 6 x 6</caption>\n",
       "<thead>\n",
       "\t<tr><th scope=col>FirstName</th><th scope=col>Age</th><th scope=col>IsActiveCustomer</th><th scope=col>Gender</th><th scope=col>car</th><th scope=col>HasCar</th></tr>\n",
       "\t<tr><th scope=col>&lt;chr&gt;</th><th scope=col>&lt;chr&gt;</th><th scope=col>&lt;chr&gt;</th><th scope=col>&lt;fct&gt;</th><th scope=col>&lt;chr&gt;</th><th scope=col>&lt;chr&gt;</th></tr>\n",
       "</thead>\n",
       "<tbody>\n",
       "\t<tr><td>Petro </td><td>63</td><td>TRUE </td><td>Male   </td><td>Ford  </td><td>TRUE </td></tr>\n",
       "\t<tr><td>Ivan  </td><td>93</td><td>TRUE </td><td>Male   </td><td>NA    </td><td>FALSE</td></tr>\n",
       "\t<tr><td>Olena </td><td>31</td><td>FALSE</td><td>Female </td><td>Tesla </td><td>TRUE </td></tr>\n",
       "\t<tr><td>Olha  </td><td>69</td><td>TRUE </td><td>Female </td><td>NA    </td><td>FALSE</td></tr>\n",
       "\t<tr><td>Andriy</td><td>60</td><td>FALSE</td><td>Unknown</td><td>Ford  </td><td>TRUE </td></tr>\n",
       "\t<tr><td>Oksana</td><td>24</td><td>TRUE </td><td>Female </td><td>Porshe</td><td>NA   </td></tr>\n",
       "</tbody>\n",
       "</table>\n"
      ],
      "text/latex": [
       "A data.frame: 6 x 6\n",
       "\\begin{tabular}{llllll}\n",
       " FirstName & Age & IsActiveCustomer & Gender & car & HasCar\\\\\n",
       " <chr> & <chr> & <chr> & <fct> & <chr> & <chr>\\\\\n",
       "\\hline\n",
       "\t Petro  & 63 & TRUE  & Male    & Ford   & TRUE \\\\\n",
       "\t Ivan   & 93 & TRUE  & Male    & NA     & FALSE\\\\\n",
       "\t Olena  & 31 & FALSE & Female  & Tesla  & TRUE \\\\\n",
       "\t Olha   & 69 & TRUE  & Female  & NA     & FALSE\\\\\n",
       "\t Andriy & 60 & FALSE & Unknown & Ford   & TRUE \\\\\n",
       "\t Oksana & 24 & TRUE  & Female  & Porshe & NA   \\\\\n",
       "\\end{tabular}\n"
      ],
      "text/markdown": [
       "\n",
       "A data.frame: 6 x 6\n",
       "\n",
       "| FirstName &lt;chr&gt; | Age &lt;chr&gt; | IsActiveCustomer &lt;chr&gt; | Gender &lt;fct&gt; | car &lt;chr&gt; | HasCar &lt;chr&gt; |\n",
       "|---|---|---|---|---|---|\n",
       "| Petro  | 63 | TRUE  | Male    | Ford   | TRUE  |\n",
       "| Ivan   | 93 | TRUE  | Male    | NA     | FALSE |\n",
       "| Olena  | 31 | FALSE | Female  | Tesla  | TRUE  |\n",
       "| Olha   | 69 | TRUE  | Female  | NA     | FALSE |\n",
       "| Andriy | 60 | FALSE | Unknown | Ford   | TRUE  |\n",
       "| Oksana | 24 | TRUE  | Female  | Porshe | NA    |\n",
       "\n"
      ],
      "text/plain": [
       "  FirstName Age IsActiveCustomer Gender  car    HasCar\n",
       "1 Petro     63  TRUE             Male    Ford   TRUE  \n",
       "2 Ivan      93  TRUE             Male    NA     FALSE \n",
       "3 Olena     31  FALSE            Female  Tesla  TRUE  \n",
       "4 Olha      69  TRUE             Female  NA     FALSE \n",
       "5 Andriy    60  FALSE            Unknown Ford   TRUE  \n",
       "6 Oksana    24  TRUE             Female  Porshe NA    "
      ]
     },
     "metadata": {},
     "output_type": "display_data"
    }
   ],
   "source": [
    "df <- rbind(df, new_client)\n",
    "df"
   ]
  },
  {
   "cell_type": "code",
   "execution_count": 109,
   "id": "b7e176c1-53ce-407f-8894-07e2cb58eb65",
   "metadata": {},
   "outputs": [],
   "source": [
    "#df <- df[-nrow(df), ]\n",
    "#df"
   ]
  },
  {
   "cell_type": "code",
   "execution_count": 110,
   "id": "b4f19945-8b67-4d75-a116-d394b97838f1",
   "metadata": {},
   "outputs": [],
   "source": [
    "df$HasCar <- !is.na(df$car)"
   ]
  },
  {
   "cell_type": "code",
   "execution_count": 111,
   "id": "f6aa851b-af11-47c6-96ae-789047786b50",
   "metadata": {},
   "outputs": [
    {
     "data": {
      "text/html": [
       "<table class=\"dataframe\">\n",
       "<caption>A data.frame: 6 x 6</caption>\n",
       "<thead>\n",
       "\t<tr><th scope=col>FirstName</th><th scope=col>Age</th><th scope=col>IsActiveCustomer</th><th scope=col>Gender</th><th scope=col>car</th><th scope=col>HasCar</th></tr>\n",
       "\t<tr><th scope=col>&lt;chr&gt;</th><th scope=col>&lt;chr&gt;</th><th scope=col>&lt;chr&gt;</th><th scope=col>&lt;fct&gt;</th><th scope=col>&lt;chr&gt;</th><th scope=col>&lt;lgl&gt;</th></tr>\n",
       "</thead>\n",
       "<tbody>\n",
       "\t<tr><td>Petro </td><td>63</td><td>TRUE </td><td>Male   </td><td>Ford  </td><td> TRUE</td></tr>\n",
       "\t<tr><td>Ivan  </td><td>93</td><td>TRUE </td><td>Male   </td><td>NA    </td><td>FALSE</td></tr>\n",
       "\t<tr><td>Olena </td><td>31</td><td>FALSE</td><td>Female </td><td>Tesla </td><td> TRUE</td></tr>\n",
       "\t<tr><td>Olha  </td><td>69</td><td>TRUE </td><td>Female </td><td>NA    </td><td>FALSE</td></tr>\n",
       "\t<tr><td>Andriy</td><td>60</td><td>FALSE</td><td>Unknown</td><td>Ford  </td><td> TRUE</td></tr>\n",
       "\t<tr><td>Oksana</td><td>24</td><td>TRUE </td><td>Female </td><td>Porshe</td><td> TRUE</td></tr>\n",
       "</tbody>\n",
       "</table>\n"
      ],
      "text/latex": [
       "A data.frame: 6 x 6\n",
       "\\begin{tabular}{llllll}\n",
       " FirstName & Age & IsActiveCustomer & Gender & car & HasCar\\\\\n",
       " <chr> & <chr> & <chr> & <fct> & <chr> & <lgl>\\\\\n",
       "\\hline\n",
       "\t Petro  & 63 & TRUE  & Male    & Ford   &  TRUE\\\\\n",
       "\t Ivan   & 93 & TRUE  & Male    & NA     & FALSE\\\\\n",
       "\t Olena  & 31 & FALSE & Female  & Tesla  &  TRUE\\\\\n",
       "\t Olha   & 69 & TRUE  & Female  & NA     & FALSE\\\\\n",
       "\t Andriy & 60 & FALSE & Unknown & Ford   &  TRUE\\\\\n",
       "\t Oksana & 24 & TRUE  & Female  & Porshe &  TRUE\\\\\n",
       "\\end{tabular}\n"
      ],
      "text/markdown": [
       "\n",
       "A data.frame: 6 x 6\n",
       "\n",
       "| FirstName &lt;chr&gt; | Age &lt;chr&gt; | IsActiveCustomer &lt;chr&gt; | Gender &lt;fct&gt; | car &lt;chr&gt; | HasCar &lt;lgl&gt; |\n",
       "|---|---|---|---|---|---|\n",
       "| Petro  | 63 | TRUE  | Male    | Ford   |  TRUE |\n",
       "| Ivan   | 93 | TRUE  | Male    | NA     | FALSE |\n",
       "| Olena  | 31 | FALSE | Female  | Tesla  |  TRUE |\n",
       "| Olha   | 69 | TRUE  | Female  | NA     | FALSE |\n",
       "| Andriy | 60 | FALSE | Unknown | Ford   |  TRUE |\n",
       "| Oksana | 24 | TRUE  | Female  | Porshe |  TRUE |\n",
       "\n"
      ],
      "text/plain": [
       "  FirstName Age IsActiveCustomer Gender  car    HasCar\n",
       "1 Petro     63  TRUE             Male    Ford    TRUE \n",
       "2 Ivan      93  TRUE             Male    NA     FALSE \n",
       "3 Olena     31  FALSE            Female  Tesla   TRUE \n",
       "4 Olha      69  TRUE             Female  NA     FALSE \n",
       "5 Andriy    60  FALSE            Unknown Ford    TRUE \n",
       "6 Oksana    24  TRUE             Female  Porshe  TRUE "
      ]
     },
     "metadata": {},
     "output_type": "display_data"
    }
   ],
   "source": [
    "df"
   ]
  },
  {
   "cell_type": "code",
   "execution_count": 113,
   "id": "d723cf04-0db0-459f-8522-c7dc06e4ee8d",
   "metadata": {},
   "outputs": [
    {
     "data": {
      "text/html": [
       "<table class=\"dataframe\">\n",
       "<caption>A data.frame: 6 x 7</caption>\n",
       "<thead>\n",
       "\t<tr><th scope=col>FirstName</th><th scope=col>Age</th><th scope=col>IsActiveCustomer</th><th scope=col>Gender</th><th scope=col>car</th><th scope=col>HasCar</th><th scope=col>Id</th></tr>\n",
       "\t<tr><th scope=col>&lt;chr&gt;</th><th scope=col>&lt;chr&gt;</th><th scope=col>&lt;chr&gt;</th><th scope=col>&lt;fct&gt;</th><th scope=col>&lt;chr&gt;</th><th scope=col>&lt;lgl&gt;</th><th scope=col>&lt;int&gt;</th></tr>\n",
       "</thead>\n",
       "<tbody>\n",
       "\t<tr><td>Petro </td><td>63</td><td>TRUE </td><td>Male   </td><td>Ford  </td><td> TRUE</td><td>1</td></tr>\n",
       "\t<tr><td>Ivan  </td><td>93</td><td>TRUE </td><td>Male   </td><td>NA    </td><td>FALSE</td><td>2</td></tr>\n",
       "\t<tr><td>Olena </td><td>31</td><td>FALSE</td><td>Female </td><td>Tesla </td><td> TRUE</td><td>3</td></tr>\n",
       "\t<tr><td>Olha  </td><td>69</td><td>TRUE </td><td>Female </td><td>NA    </td><td>FALSE</td><td>4</td></tr>\n",
       "\t<tr><td>Andriy</td><td>60</td><td>FALSE</td><td>Unknown</td><td>Ford  </td><td> TRUE</td><td>5</td></tr>\n",
       "\t<tr><td>Oksana</td><td>24</td><td>TRUE </td><td>Female </td><td>Porshe</td><td> TRUE</td><td>6</td></tr>\n",
       "</tbody>\n",
       "</table>\n"
      ],
      "text/latex": [
       "A data.frame: 6 x 7\n",
       "\\begin{tabular}{lllllll}\n",
       " FirstName & Age & IsActiveCustomer & Gender & car & HasCar & Id\\\\\n",
       " <chr> & <chr> & <chr> & <fct> & <chr> & <lgl> & <int>\\\\\n",
       "\\hline\n",
       "\t Petro  & 63 & TRUE  & Male    & Ford   &  TRUE & 1\\\\\n",
       "\t Ivan   & 93 & TRUE  & Male    & NA     & FALSE & 2\\\\\n",
       "\t Olena  & 31 & FALSE & Female  & Tesla  &  TRUE & 3\\\\\n",
       "\t Olha   & 69 & TRUE  & Female  & NA     & FALSE & 4\\\\\n",
       "\t Andriy & 60 & FALSE & Unknown & Ford   &  TRUE & 5\\\\\n",
       "\t Oksana & 24 & TRUE  & Female  & Porshe &  TRUE & 6\\\\\n",
       "\\end{tabular}\n"
      ],
      "text/markdown": [
       "\n",
       "A data.frame: 6 x 7\n",
       "\n",
       "| FirstName &lt;chr&gt; | Age &lt;chr&gt; | IsActiveCustomer &lt;chr&gt; | Gender &lt;fct&gt; | car &lt;chr&gt; | HasCar &lt;lgl&gt; | Id &lt;int&gt; |\n",
       "|---|---|---|---|---|---|---|\n",
       "| Petro  | 63 | TRUE  | Male    | Ford   |  TRUE | 1 |\n",
       "| Ivan   | 93 | TRUE  | Male    | NA     | FALSE | 2 |\n",
       "| Olena  | 31 | FALSE | Female  | Tesla  |  TRUE | 3 |\n",
       "| Olha   | 69 | TRUE  | Female  | NA     | FALSE | 4 |\n",
       "| Andriy | 60 | FALSE | Unknown | Ford   |  TRUE | 5 |\n",
       "| Oksana | 24 | TRUE  | Female  | Porshe |  TRUE | 6 |\n",
       "\n"
      ],
      "text/plain": [
       "  FirstName Age IsActiveCustomer Gender  car    HasCar Id\n",
       "1 Petro     63  TRUE             Male    Ford    TRUE  1 \n",
       "2 Ivan      93  TRUE             Male    NA     FALSE  2 \n",
       "3 Olena     31  FALSE            Female  Tesla   TRUE  3 \n",
       "4 Olha      69  TRUE             Female  NA     FALSE  4 \n",
       "5 Andriy    60  FALSE            Unknown Ford    TRUE  5 \n",
       "6 Oksana    24  TRUE             Female  Porshe  TRUE  6 "
      ]
     },
     "metadata": {},
     "output_type": "display_data"
    }
   ],
   "source": [
    "df$Id <- c(1: nrow(df))\n",
    "df"
   ]
  },
  {
   "cell_type": "code",
   "execution_count": 115,
   "id": "7078392d-4c10-4610-a75f-3e7a946af03c",
   "metadata": {},
   "outputs": [
    {
     "data": {
      "text/html": [
       "<table class=\"dataframe\">\n",
       "<caption>A data.frame: 6 x 4</caption>\n",
       "<thead>\n",
       "\t<tr><th scope=col>Id</th><th scope=col>FirstName</th><th scope=col>Age</th><th scope=col>Gender</th></tr>\n",
       "\t<tr><th scope=col>&lt;int&gt;</th><th scope=col>&lt;chr&gt;</th><th scope=col>&lt;chr&gt;</th><th scope=col>&lt;fct&gt;</th></tr>\n",
       "</thead>\n",
       "<tbody>\n",
       "\t<tr><td>1</td><td>Petro </td><td>63</td><td>Male   </td></tr>\n",
       "\t<tr><td>2</td><td>Ivan  </td><td>93</td><td>Male   </td></tr>\n",
       "\t<tr><td>3</td><td>Olena </td><td>31</td><td>Female </td></tr>\n",
       "\t<tr><td>4</td><td>Olha  </td><td>69</td><td>Female </td></tr>\n",
       "\t<tr><td>5</td><td>Andriy</td><td>60</td><td>Unknown</td></tr>\n",
       "\t<tr><td>6</td><td>Oksana</td><td>24</td><td>Female </td></tr>\n",
       "</tbody>\n",
       "</table>\n"
      ],
      "text/latex": [
       "A data.frame: 6 x 4\n",
       "\\begin{tabular}{llll}\n",
       " Id & FirstName & Age & Gender\\\\\n",
       " <int> & <chr> & <chr> & <fct>\\\\\n",
       "\\hline\n",
       "\t 1 & Petro  & 63 & Male   \\\\\n",
       "\t 2 & Ivan   & 93 & Male   \\\\\n",
       "\t 3 & Olena  & 31 & Female \\\\\n",
       "\t 4 & Olha   & 69 & Female \\\\\n",
       "\t 5 & Andriy & 60 & Unknown\\\\\n",
       "\t 6 & Oksana & 24 & Female \\\\\n",
       "\\end{tabular}\n"
      ],
      "text/markdown": [
       "\n",
       "A data.frame: 6 x 4\n",
       "\n",
       "| Id &lt;int&gt; | FirstName &lt;chr&gt; | Age &lt;chr&gt; | Gender &lt;fct&gt; |\n",
       "|---|---|---|---|\n",
       "| 1 | Petro  | 63 | Male    |\n",
       "| 2 | Ivan   | 93 | Male    |\n",
       "| 3 | Olena  | 31 | Female  |\n",
       "| 4 | Olha   | 69 | Female  |\n",
       "| 5 | Andriy | 60 | Unknown |\n",
       "| 6 | Oksana | 24 | Female  |\n",
       "\n"
      ],
      "text/plain": [
       "  Id FirstName Age Gender \n",
       "1 1  Petro     63  Male   \n",
       "2 2  Ivan      93  Male   \n",
       "3 3  Olena     31  Female \n",
       "4 4  Olha      69  Female \n",
       "5 5  Andriy    60  Unknown\n",
       "6 6  Oksana    24  Female "
      ]
     },
     "metadata": {},
     "output_type": "display_data"
    }
   ],
   "source": [
    "df_1 <- df[, c(\"Id\", \"FirstName\", \"Age\", \"Gender\")]\n",
    "df_1"
   ]
  },
  {
   "cell_type": "code",
   "execution_count": 116,
   "id": "d1accec1-696a-4e9f-8f33-6b63ba46d94c",
   "metadata": {},
   "outputs": [
    {
     "data": {
      "text/html": [
       "<table class=\"dataframe\">\n",
       "<caption>A data.frame: 6 x 4</caption>\n",
       "<thead>\n",
       "\t<tr><th scope=col>Id</th><th scope=col>car</th><th scope=col>HasCar</th><th scope=col>IsActiveCustomer</th></tr>\n",
       "\t<tr><th scope=col>&lt;int&gt;</th><th scope=col>&lt;chr&gt;</th><th scope=col>&lt;lgl&gt;</th><th scope=col>&lt;chr&gt;</th></tr>\n",
       "</thead>\n",
       "<tbody>\n",
       "\t<tr><td>1</td><td>Ford  </td><td> TRUE</td><td>TRUE </td></tr>\n",
       "\t<tr><td>2</td><td>NA    </td><td>FALSE</td><td>TRUE </td></tr>\n",
       "\t<tr><td>3</td><td>Tesla </td><td> TRUE</td><td>FALSE</td></tr>\n",
       "\t<tr><td>4</td><td>NA    </td><td>FALSE</td><td>TRUE </td></tr>\n",
       "\t<tr><td>5</td><td>Ford  </td><td> TRUE</td><td>FALSE</td></tr>\n",
       "\t<tr><td>6</td><td>Porshe</td><td> TRUE</td><td>TRUE </td></tr>\n",
       "</tbody>\n",
       "</table>\n"
      ],
      "text/latex": [
       "A data.frame: 6 x 4\n",
       "\\begin{tabular}{llll}\n",
       " Id & car & HasCar & IsActiveCustomer\\\\\n",
       " <int> & <chr> & <lgl> & <chr>\\\\\n",
       "\\hline\n",
       "\t 1 & Ford   &  TRUE & TRUE \\\\\n",
       "\t 2 & NA     & FALSE & TRUE \\\\\n",
       "\t 3 & Tesla  &  TRUE & FALSE\\\\\n",
       "\t 4 & NA     & FALSE & TRUE \\\\\n",
       "\t 5 & Ford   &  TRUE & FALSE\\\\\n",
       "\t 6 & Porshe &  TRUE & TRUE \\\\\n",
       "\\end{tabular}\n"
      ],
      "text/markdown": [
       "\n",
       "A data.frame: 6 x 4\n",
       "\n",
       "| Id &lt;int&gt; | car &lt;chr&gt; | HasCar &lt;lgl&gt; | IsActiveCustomer &lt;chr&gt; |\n",
       "|---|---|---|---|\n",
       "| 1 | Ford   |  TRUE | TRUE  |\n",
       "| 2 | NA     | FALSE | TRUE  |\n",
       "| 3 | Tesla  |  TRUE | FALSE |\n",
       "| 4 | NA     | FALSE | TRUE  |\n",
       "| 5 | Ford   |  TRUE | FALSE |\n",
       "| 6 | Porshe |  TRUE | TRUE  |\n",
       "\n"
      ],
      "text/plain": [
       "  Id car    HasCar IsActiveCustomer\n",
       "1 1  Ford    TRUE  TRUE            \n",
       "2 2  NA     FALSE  TRUE            \n",
       "3 3  Tesla   TRUE  FALSE           \n",
       "4 4  NA     FALSE  TRUE            \n",
       "5 5  Ford    TRUE  FALSE           \n",
       "6 6  Porshe  TRUE  TRUE            "
      ]
     },
     "metadata": {},
     "output_type": "display_data"
    }
   ],
   "source": [
    "df_2 <- df[, c(\"Id\", \"car\", \"HasCar\", \"IsActiveCustomer\")]\n",
    "df_2"
   ]
  }
 ],
 "metadata": {
  "kernelspec": {
   "display_name": "R",
   "language": "R",
   "name": "ir"
  },
  "language_info": {
   "codemirror_mode": "r",
   "file_extension": ".r",
   "mimetype": "text/x-r-source",
   "name": "R",
   "pygments_lexer": "r",
   "version": "4.1.3"
  }
 },
 "nbformat": 4,
 "nbformat_minor": 5
}
