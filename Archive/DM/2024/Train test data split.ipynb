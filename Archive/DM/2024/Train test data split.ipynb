{
 "cells": [
  {
   "cell_type": "markdown",
   "id": "5e729277-5445-460a-abd3-2b7b8a4d539f",
   "metadata": {},
   "source": [
    "# Train/test data split"
   ]
  },
  {
   "cell_type": "markdown",
   "id": "7a12b46b-6073-4b18-bd46-ac691675eb6d",
   "metadata": {},
   "source": [
    "https://www.kaggle.com/datasets/blastchar/telco-customer-churn"
   ]
  },
  {
   "cell_type": "code",
   "execution_count": 3,
   "id": "042d327c-96ff-47f9-af5f-2eb718789a91",
   "metadata": {},
   "outputs": [
    {
     "data": {
      "text/html": [
       "<table class=\"dataframe\">\n",
       "<caption>A data.frame: 6 x 21</caption>\n",
       "<thead>\n",
       "\t<tr><th></th><th scope=col>customerID</th><th scope=col>gender</th><th scope=col>SeniorCitizen</th><th scope=col>Partner</th><th scope=col>Dependents</th><th scope=col>tenure</th><th scope=col>PhoneService</th><th scope=col>MultipleLines</th><th scope=col>InternetService</th><th scope=col>OnlineSecurity</th><th scope=col>...</th><th scope=col>DeviceProtection</th><th scope=col>TechSupport</th><th scope=col>StreamingTV</th><th scope=col>StreamingMovies</th><th scope=col>Contract</th><th scope=col>PaperlessBilling</th><th scope=col>PaymentMethod</th><th scope=col>MonthlyCharges</th><th scope=col>TotalCharges</th><th scope=col>Churn</th></tr>\n",
       "\t<tr><th></th><th scope=col>&lt;chr&gt;</th><th scope=col>&lt;chr&gt;</th><th scope=col>&lt;int&gt;</th><th scope=col>&lt;chr&gt;</th><th scope=col>&lt;chr&gt;</th><th scope=col>&lt;int&gt;</th><th scope=col>&lt;chr&gt;</th><th scope=col>&lt;chr&gt;</th><th scope=col>&lt;chr&gt;</th><th scope=col>&lt;chr&gt;</th><th scope=col>...</th><th scope=col>&lt;chr&gt;</th><th scope=col>&lt;chr&gt;</th><th scope=col>&lt;chr&gt;</th><th scope=col>&lt;chr&gt;</th><th scope=col>&lt;chr&gt;</th><th scope=col>&lt;chr&gt;</th><th scope=col>&lt;chr&gt;</th><th scope=col>&lt;dbl&gt;</th><th scope=col>&lt;dbl&gt;</th><th scope=col>&lt;chr&gt;</th></tr>\n",
       "</thead>\n",
       "<tbody>\n",
       "\t<tr><th scope=row>1</th><td>7590-VHVEG</td><td>Female</td><td>0</td><td>Yes</td><td>No</td><td> 1</td><td>No </td><td>No phone service</td><td>DSL        </td><td>No </td><td>...</td><td>No </td><td>No </td><td>No </td><td>No </td><td>Month-to-month</td><td>Yes</td><td>Electronic check         </td><td>29.85</td><td>  29.85</td><td>No </td></tr>\n",
       "\t<tr><th scope=row>2</th><td>5575-GNVDE</td><td>Male  </td><td>0</td><td>No </td><td>No</td><td>34</td><td>Yes</td><td>No              </td><td>DSL        </td><td>Yes</td><td>...</td><td>Yes</td><td>No </td><td>No </td><td>No </td><td>One year      </td><td>No </td><td>Mailed check             </td><td>56.95</td><td>1889.50</td><td>No </td></tr>\n",
       "\t<tr><th scope=row>3</th><td>3668-QPYBK</td><td>Male  </td><td>0</td><td>No </td><td>No</td><td> 2</td><td>Yes</td><td>No              </td><td>DSL        </td><td>Yes</td><td>...</td><td>No </td><td>No </td><td>No </td><td>No </td><td>Month-to-month</td><td>Yes</td><td>Mailed check             </td><td>53.85</td><td> 108.15</td><td>Yes</td></tr>\n",
       "\t<tr><th scope=row>4</th><td>7795-CFOCW</td><td>Male  </td><td>0</td><td>No </td><td>No</td><td>45</td><td>No </td><td>No phone service</td><td>DSL        </td><td>Yes</td><td>...</td><td>Yes</td><td>Yes</td><td>No </td><td>No </td><td>One year      </td><td>No </td><td>Bank transfer (automatic)</td><td>42.30</td><td>1840.75</td><td>No </td></tr>\n",
       "\t<tr><th scope=row>5</th><td>9237-HQITU</td><td>Female</td><td>0</td><td>No </td><td>No</td><td> 2</td><td>Yes</td><td>No              </td><td>Fiber optic</td><td>No </td><td>...</td><td>No </td><td>No </td><td>No </td><td>No </td><td>Month-to-month</td><td>Yes</td><td>Electronic check         </td><td>70.70</td><td> 151.65</td><td>Yes</td></tr>\n",
       "\t<tr><th scope=row>6</th><td>9305-CDSKC</td><td>Female</td><td>0</td><td>No </td><td>No</td><td> 8</td><td>Yes</td><td>Yes             </td><td>Fiber optic</td><td>No </td><td>...</td><td>Yes</td><td>No </td><td>Yes</td><td>Yes</td><td>Month-to-month</td><td>Yes</td><td>Electronic check         </td><td>99.65</td><td> 820.50</td><td>Yes</td></tr>\n",
       "</tbody>\n",
       "</table>\n"
      ],
      "text/latex": [
       "A data.frame: 6 x 21\n",
       "\\begin{tabular}{r|lllllllllllllllllllll}\n",
       "  & customerID & gender & SeniorCitizen & Partner & Dependents & tenure & PhoneService & MultipleLines & InternetService & OnlineSecurity & ... & DeviceProtection & TechSupport & StreamingTV & StreamingMovies & Contract & PaperlessBilling & PaymentMethod & MonthlyCharges & TotalCharges & Churn\\\\\n",
       "  & <chr> & <chr> & <int> & <chr> & <chr> & <int> & <chr> & <chr> & <chr> & <chr> & ... & <chr> & <chr> & <chr> & <chr> & <chr> & <chr> & <chr> & <dbl> & <dbl> & <chr>\\\\\n",
       "\\hline\n",
       "\t1 & 7590-VHVEG & Female & 0 & Yes & No &  1 & No  & No phone service & DSL         & No  & ... & No  & No  & No  & No  & Month-to-month & Yes & Electronic check          & 29.85 &   29.85 & No \\\\\n",
       "\t2 & 5575-GNVDE & Male   & 0 & No  & No & 34 & Yes & No               & DSL         & Yes & ... & Yes & No  & No  & No  & One year       & No  & Mailed check              & 56.95 & 1889.50 & No \\\\\n",
       "\t3 & 3668-QPYBK & Male   & 0 & No  & No &  2 & Yes & No               & DSL         & Yes & ... & No  & No  & No  & No  & Month-to-month & Yes & Mailed check              & 53.85 &  108.15 & Yes\\\\\n",
       "\t4 & 7795-CFOCW & Male   & 0 & No  & No & 45 & No  & No phone service & DSL         & Yes & ... & Yes & Yes & No  & No  & One year       & No  & Bank transfer (automatic) & 42.30 & 1840.75 & No \\\\\n",
       "\t5 & 9237-HQITU & Female & 0 & No  & No &  2 & Yes & No               & Fiber optic & No  & ... & No  & No  & No  & No  & Month-to-month & Yes & Electronic check          & 70.70 &  151.65 & Yes\\\\\n",
       "\t6 & 9305-CDSKC & Female & 0 & No  & No &  8 & Yes & Yes              & Fiber optic & No  & ... & Yes & No  & Yes & Yes & Month-to-month & Yes & Electronic check          & 99.65 &  820.50 & Yes\\\\\n",
       "\\end{tabular}\n"
      ],
      "text/markdown": [
       "\n",
       "A data.frame: 6 x 21\n",
       "\n",
       "| <!--/--> | customerID &lt;chr&gt; | gender &lt;chr&gt; | SeniorCitizen &lt;int&gt; | Partner &lt;chr&gt; | Dependents &lt;chr&gt; | tenure &lt;int&gt; | PhoneService &lt;chr&gt; | MultipleLines &lt;chr&gt; | InternetService &lt;chr&gt; | OnlineSecurity &lt;chr&gt; | ... ... | DeviceProtection &lt;chr&gt; | TechSupport &lt;chr&gt; | StreamingTV &lt;chr&gt; | StreamingMovies &lt;chr&gt; | Contract &lt;chr&gt; | PaperlessBilling &lt;chr&gt; | PaymentMethod &lt;chr&gt; | MonthlyCharges &lt;dbl&gt; | TotalCharges &lt;dbl&gt; | Churn &lt;chr&gt; |\n",
       "|---|---|---|---|---|---|---|---|---|---|---|---|---|---|---|---|---|---|---|---|---|---|\n",
       "| 1 | 7590-VHVEG | Female | 0 | Yes | No |  1 | No  | No phone service | DSL         | No  | ... | No  | No  | No  | No  | Month-to-month | Yes | Electronic check          | 29.85 |   29.85 | No  |\n",
       "| 2 | 5575-GNVDE | Male   | 0 | No  | No | 34 | Yes | No               | DSL         | Yes | ... | Yes | No  | No  | No  | One year       | No  | Mailed check              | 56.95 | 1889.50 | No  |\n",
       "| 3 | 3668-QPYBK | Male   | 0 | No  | No |  2 | Yes | No               | DSL         | Yes | ... | No  | No  | No  | No  | Month-to-month | Yes | Mailed check              | 53.85 |  108.15 | Yes |\n",
       "| 4 | 7795-CFOCW | Male   | 0 | No  | No | 45 | No  | No phone service | DSL         | Yes | ... | Yes | Yes | No  | No  | One year       | No  | Bank transfer (automatic) | 42.30 | 1840.75 | No  |\n",
       "| 5 | 9237-HQITU | Female | 0 | No  | No |  2 | Yes | No               | Fiber optic | No  | ... | No  | No  | No  | No  | Month-to-month | Yes | Electronic check          | 70.70 |  151.65 | Yes |\n",
       "| 6 | 9305-CDSKC | Female | 0 | No  | No |  8 | Yes | Yes              | Fiber optic | No  | ... | Yes | No  | Yes | Yes | Month-to-month | Yes | Electronic check          | 99.65 |  820.50 | Yes |\n",
       "\n"
      ],
      "text/plain": [
       "  customerID gender SeniorCitizen Partner Dependents tenure PhoneService\n",
       "1 7590-VHVEG Female 0             Yes     No          1     No          \n",
       "2 5575-GNVDE Male   0             No      No         34     Yes         \n",
       "3 3668-QPYBK Male   0             No      No          2     Yes         \n",
       "4 7795-CFOCW Male   0             No      No         45     No          \n",
       "5 9237-HQITU Female 0             No      No          2     Yes         \n",
       "6 9305-CDSKC Female 0             No      No          8     Yes         \n",
       "  MultipleLines    InternetService OnlineSecurity ... DeviceProtection\n",
       "1 No phone service DSL             No             ... No              \n",
       "2 No               DSL             Yes            ... Yes             \n",
       "3 No               DSL             Yes            ... No              \n",
       "4 No phone service DSL             Yes            ... Yes             \n",
       "5 No               Fiber optic     No             ... No              \n",
       "6 Yes              Fiber optic     No             ... Yes             \n",
       "  TechSupport StreamingTV StreamingMovies Contract       PaperlessBilling\n",
       "1 No          No          No              Month-to-month Yes             \n",
       "2 No          No          No              One year       No              \n",
       "3 No          No          No              Month-to-month Yes             \n",
       "4 Yes         No          No              One year       No              \n",
       "5 No          No          No              Month-to-month Yes             \n",
       "6 No          Yes         Yes             Month-to-month Yes             \n",
       "  PaymentMethod             MonthlyCharges TotalCharges Churn\n",
       "1 Electronic check          29.85            29.85      No   \n",
       "2 Mailed check              56.95          1889.50      No   \n",
       "3 Mailed check              53.85           108.15      Yes  \n",
       "4 Bank transfer (automatic) 42.30          1840.75      No   \n",
       "5 Electronic check          70.70           151.65      Yes  \n",
       "6 Electronic check          99.65           820.50      Yes  "
      ]
     },
     "metadata": {},
     "output_type": "display_data"
    }
   ],
   "source": [
    "data <- read.csv(\"data/WA_Fn-UseC_-Telco-Customer-Churn.csv\")\n",
    "head(data)"
   ]
  },
  {
   "cell_type": "code",
   "execution_count": 4,
   "id": "a8938fc6-ca60-4ee7-afc1-31d37466a401",
   "metadata": {},
   "outputs": [
    {
     "name": "stderr",
     "output_type": "stream",
     "text": [
      "also installing the dependencies 'gtools', 'gdata'\n",
      "\n",
      "\n"
     ]
    },
    {
     "name": "stdout",
     "output_type": "stream",
     "text": [
      "\n",
      "  There are binary versions available but the source versions are later:\n",
      "          binary source needs_compilation\n",
      "gtools     3.9.4  3.9.5              TRUE\n",
      "gdata   2.18.0.1  3.0.0             FALSE\n",
      "gmodels 2.18.1.1 2.19.1             FALSE\n",
      "\n",
      "  Binaries will be installed\n",
      "package 'gtools' successfully unpacked and MD5 sums checked\n",
      "\n",
      "The downloaded binary packages are in\n",
      "\tC:\\Users\\User\\AppData\\Local\\Temp\\Rtmp8o14g3\\downloaded_packages\n"
     ]
    },
    {
     "name": "stderr",
     "output_type": "stream",
     "text": [
      "installing the source packages 'gdata', 'gmodels'\n",
      "\n",
      "\n"
     ]
    }
   ],
   "source": [
    "#install.packages(\"gmodels\")"
   ]
  },
  {
   "cell_type": "code",
   "execution_count": 6,
   "id": "0bda25de-cb33-4970-8925-91264124f357",
   "metadata": {},
   "outputs": [],
   "source": [
    "library(gmodels)"
   ]
  },
  {
   "cell_type": "code",
   "execution_count": 8,
   "id": "ced60306-7cff-4105-af05-4a6db19a2fc1",
   "metadata": {},
   "outputs": [
    {
     "name": "stdout",
     "output_type": "stream",
     "text": [
      "\n",
      " \n",
      "   Cell Contents\n",
      "|-------------------------|\n",
      "|                       N |\n",
      "|         N / Table Total |\n",
      "|-------------------------|\n",
      "\n",
      " \n",
      "Total Observations in Table:  7043 \n",
      "\n",
      " \n",
      "          |        No |       Yes | \n",
      "          |-----------|-----------|\n",
      "          |      5174 |      1869 | \n",
      "          |     0.735 |     0.265 | \n",
      "          |-----------|-----------|\n",
      "\n",
      "\n",
      "\n",
      " \n"
     ]
    }
   ],
   "source": [
    "CrossTable(data$Churn)"
   ]
  },
  {
   "cell_type": "code",
   "execution_count": 10,
   "id": "fcc418d5-b823-4983-ba0f-4e5f2d6187ec",
   "metadata": {},
   "outputs": [
    {
     "name": "stdout",
     "output_type": "stream",
     "text": [
      "\n",
      " \n",
      "   Cell Contents\n",
      "|-------------------------|\n",
      "|                       N |\n",
      "| Chi-square contribution |\n",
      "|           N / Row Total |\n",
      "|           N / Col Total |\n",
      "|         N / Table Total |\n",
      "|-------------------------|\n",
      "\n",
      " \n",
      "Total Observations in Table:  7043 \n",
      "\n",
      " \n",
      "             | data$TechSupport \n",
      "  data$Churn |                  No | No internet service |                 Yes |           Row Total | \n",
      "-------------|---------------------|---------------------|---------------------|---------------------|\n",
      "          No |                2027 |                1413 |                1734 |                5174 | \n",
      "             |             107.771 |              76.034 |              35.973 |                     | \n",
      "             |               0.392 |               0.273 |               0.335 |               0.735 | \n",
      "             |               0.584 |               0.926 |               0.848 |                     | \n",
      "             |               0.288 |               0.201 |               0.246 |                     | \n",
      "-------------|---------------------|---------------------|---------------------|---------------------|\n",
      "         Yes |                1446 |                 113 |                 310 |                1869 | \n",
      "             |             298.346 |             210.486 |              99.586 |                     | \n",
      "             |               0.774 |               0.060 |               0.166 |               0.265 | \n",
      "             |               0.416 |               0.074 |               0.152 |                     | \n",
      "             |               0.205 |               0.016 |               0.044 |                     | \n",
      "-------------|---------------------|---------------------|---------------------|---------------------|\n",
      "Column Total |                3473 |                1526 |                2044 |                7043 | \n",
      "             |               0.493 |               0.217 |               0.290 |                     | \n",
      "-------------|---------------------|---------------------|---------------------|---------------------|\n",
      "\n",
      " \n"
     ]
    }
   ],
   "source": [
    "CrossTable(data$Churn, data$TechSupport)"
   ]
  },
  {
   "cell_type": "code",
   "execution_count": 13,
   "id": "d910deab-320b-4a97-bda5-0a9665a58de5",
   "metadata": {},
   "outputs": [
    {
     "data": {
      "text/html": [
       "4930"
      ],
      "text/latex": [
       "4930"
      ],
      "text/markdown": [
       "4930"
      ],
      "text/plain": [
       "[1] 4930"
      ]
     },
     "metadata": {},
     "output_type": "display_data"
    }
   ],
   "source": [
    "sample_size = round(0.7*nrow(data))\n",
    "sample_size"
   ]
  },
  {
   "cell_type": "code",
   "execution_count": 26,
   "id": "24fa64ce-53a6-49b0-8997-a29e3292ab7a",
   "metadata": {},
   "outputs": [],
   "source": [
    "set.seed(2025)\n",
    "index <- sample(1:nrow(data),size = sample_size)\n",
    "\n",
    "train_data <- data[index,]\n",
    "test_data <- data[-index,]"
   ]
  },
  {
   "cell_type": "code",
   "execution_count": 27,
   "id": "ce9277d0-a6f8-4743-931e-536bcbfbab6a",
   "metadata": {},
   "outputs": [
    {
     "name": "stdout",
     "output_type": "stream",
     "text": [
      "\n",
      " \n",
      "   Cell Contents\n",
      "|-------------------------|\n",
      "|                       N |\n",
      "|         N / Table Total |\n",
      "|-------------------------|\n",
      "\n",
      " \n",
      "Total Observations in Table:  4930 \n",
      "\n",
      " \n",
      "          |        No |       Yes | \n",
      "          |-----------|-----------|\n",
      "          |      3601 |      1329 | \n",
      "          |     0.730 |     0.270 | \n",
      "          |-----------|-----------|\n",
      "\n",
      "\n",
      "\n",
      " \n"
     ]
    }
   ],
   "source": [
    "CrossTable(train_data$Churn)"
   ]
  },
  {
   "cell_type": "code",
   "execution_count": 29,
   "id": "6bc1b867-3a1c-4b14-8e15-db76e0ca3ad4",
   "metadata": {},
   "outputs": [
    {
     "name": "stdout",
     "output_type": "stream",
     "text": [
      "\n",
      " \n",
      "   Cell Contents\n",
      "|-------------------------|\n",
      "|                       N |\n",
      "|         N / Table Total |\n",
      "|-------------------------|\n",
      "\n",
      " \n",
      "Total Observations in Table:  2113 \n",
      "\n",
      " \n",
      "          |        No |       Yes | \n",
      "          |-----------|-----------|\n",
      "          |      1573 |       540 | \n",
      "          |     0.744 |     0.256 | \n",
      "          |-----------|-----------|\n",
      "\n",
      "\n",
      "\n",
      " \n"
     ]
    }
   ],
   "source": [
    "CrossTable(test_data$Churn)"
   ]
  },
  {
   "cell_type": "markdown",
   "id": "20167e5d-a5ed-40fe-af20-ad5763b1cd27",
   "metadata": {},
   "source": [
    "## createDataPartition()"
   ]
  },
  {
   "cell_type": "code",
   "execution_count": 31,
   "id": "422a041e-4e4c-434d-aa2f-4ab7d25d064b",
   "metadata": {},
   "outputs": [],
   "source": [
    "library(caret)"
   ]
  },
  {
   "cell_type": "code",
   "execution_count": 51,
   "id": "52003664-5f0d-4375-aabe-f81efb913770",
   "metadata": {},
   "outputs": [],
   "source": [
    "set.seed(2024)\n",
    "\n",
    "index <- createDataPartition(data$Churn, p = 0.7, list = F)\n",
    "train_data <- data[index,]\n",
    "test_data <- data[-index,]"
   ]
  },
  {
   "cell_type": "code",
   "execution_count": 53,
   "id": "b8050255-bfda-4be9-9822-a6b1b8790cb0",
   "metadata": {},
   "outputs": [
    {
     "data": {
      "text/html": [
       "2297.25268129189"
      ],
      "text/latex": [
       "2297.25268129189"
      ],
      "text/markdown": [
       "2297.25268129189"
      ],
      "text/plain": [
       "[1] 2297.253"
      ]
     },
     "metadata": {},
     "output_type": "display_data"
    }
   ],
   "source": [
    "mean(train_data$TotalCharges, na.rm = T)"
   ]
  },
  {
   "cell_type": "code",
   "execution_count": 35,
   "id": "e7b3e611-3626-4346-83ae-dad5745269b9",
   "metadata": {},
   "outputs": [
    {
     "name": "stdout",
     "output_type": "stream",
     "text": [
      "\n",
      " \n",
      "   Cell Contents\n",
      "|-------------------------|\n",
      "|                       N |\n",
      "|         N / Table Total |\n",
      "|-------------------------|\n",
      "\n",
      " \n",
      "Total Observations in Table:  4931 \n",
      "\n",
      " \n",
      "          |        No |       Yes | \n",
      "          |-----------|-----------|\n",
      "          |      3622 |      1309 | \n",
      "          |     0.735 |     0.265 | \n",
      "          |-----------|-----------|\n",
      "\n",
      "\n",
      "\n",
      " \n"
     ]
    }
   ],
   "source": [
    "CrossTable(train_data$Churn)"
   ]
  },
  {
   "cell_type": "code",
   "execution_count": 39,
   "id": "7414875d-e953-4238-a219-cd2951473506",
   "metadata": {},
   "outputs": [
    {
     "name": "stdout",
     "output_type": "stream",
     "text": [
      "\n",
      " \n",
      "   Cell Contents\n",
      "|-------------------------|\n",
      "|                       N |\n",
      "|         N / Table Total |\n",
      "|-------------------------|\n",
      "\n",
      " \n",
      "Total Observations in Table:  2112 \n",
      "\n",
      " \n",
      "          |        No |       Yes | \n",
      "          |-----------|-----------|\n",
      "          |      1552 |       560 | \n",
      "          |     0.735 |     0.265 | \n",
      "          |-----------|-----------|\n",
      "\n",
      "\n",
      "\n",
      " \n"
     ]
    }
   ],
   "source": [
    "CrossTable(test_data$Churn)"
   ]
  },
  {
   "cell_type": "code",
   "execution_count": 42,
   "id": "f638ad4e-fb13-4e50-9bac-16f8bdb560fc",
   "metadata": {},
   "outputs": [],
   "source": [
    "#install.packages(\"caTools\")"
   ]
  },
  {
   "cell_type": "code",
   "execution_count": 44,
   "id": "088c0fa4-6eb8-45eb-a473-c9731121f8cc",
   "metadata": {},
   "outputs": [],
   "source": [
    "library(caTools)"
   ]
  },
  {
   "cell_type": "code",
   "execution_count": 54,
   "id": "5812606d-fc8a-48e8-b45c-e4a43f2891ae",
   "metadata": {},
   "outputs": [],
   "source": [
    "set.seed(2024)\n",
    "\n",
    "index <- sample.split(data$Churn, SplitRatio = 0.7) "
   ]
  },
  {
   "cell_type": "code",
   "execution_count": 55,
   "id": "533ca24f-9a9b-4726-afad-f31c445d5b12",
   "metadata": {},
   "outputs": [],
   "source": [
    "train_data <- data[index,]\n",
    "test_data <- data[-index,]"
   ]
  },
  {
   "cell_type": "code",
   "execution_count": 56,
   "id": "f93ba3ea-9531-4145-b28e-793d300b9d31",
   "metadata": {},
   "outputs": [
    {
     "data": {
      "text/html": [
       "2276.445328052"
      ],
      "text/latex": [
       "2276.445328052"
      ],
      "text/markdown": [
       "2276.445328052"
      ],
      "text/plain": [
       "[1] 2276.445"
      ]
     },
     "metadata": {},
     "output_type": "display_data"
    }
   ],
   "source": [
    "mean(train_data$TotalCharges, na.rm = T)"
   ]
  },
  {
   "cell_type": "code",
   "execution_count": 49,
   "id": "2626b612-976e-4b31-9918-c46f8cdab1ce",
   "metadata": {},
   "outputs": [
    {
     "name": "stdout",
     "output_type": "stream",
     "text": [
      "\n",
      " \n",
      "   Cell Contents\n",
      "|-------------------------|\n",
      "|                       N |\n",
      "|         N / Table Total |\n",
      "|-------------------------|\n",
      "\n",
      " \n",
      "Total Observations in Table:  7042 \n",
      "\n",
      " \n",
      "          |        No |       Yes | \n",
      "          |-----------|-----------|\n",
      "          |      5173 |      1869 | \n",
      "          |     0.735 |     0.265 | \n",
      "          |-----------|-----------|\n",
      "\n",
      "\n",
      "\n",
      " \n"
     ]
    }
   ],
   "source": [
    "CrossTable(test_data$Churn)"
   ]
  },
  {
   "cell_type": "code",
   "execution_count": null,
   "id": "e7d167da-e9a3-4488-acad-cab51a61fb4b",
   "metadata": {},
   "outputs": [],
   "source": []
  }
 ],
 "metadata": {
  "kernelspec": {
   "display_name": "R",
   "language": "R",
   "name": "ir"
  },
  "language_info": {
   "codemirror_mode": "r",
   "file_extension": ".r",
   "mimetype": "text/x-r-source",
   "name": "R",
   "pygments_lexer": "r",
   "version": "4.1.3"
  }
 },
 "nbformat": 4,
 "nbformat_minor": 5
}
