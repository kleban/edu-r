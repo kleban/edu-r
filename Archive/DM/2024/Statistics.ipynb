{
 "cells": [
  {
   "cell_type": "markdown",
   "id": "0bd3bdb2-bbff-452b-a70f-5728a80bff04",
   "metadata": {},
   "source": [
    "# Основи роботи зі статистикою в R"
   ]
  },
  {
   "cell_type": "markdown",
   "id": "f052534d-dcc4-46d5-82b0-6dfafd3129d9",
   "metadata": {},
   "source": [
    "---"
   ]
  },
  {
   "cell_type": "markdown",
   "id": "c43c252e-70d9-4cc0-ad4a-9ecc1a7d74fb",
   "metadata": {},
   "source": [
    "## 1. Завантаження пакетів"
   ]
  },
  {
   "cell_type": "code",
   "execution_count": 5,
   "id": "c0fd662f-f1c6-46e5-99e8-d511bf9eb515",
   "metadata": {},
   "outputs": [],
   "source": [
    "# install.packages(\"ggplot2\")"
   ]
  },
  {
   "cell_type": "code",
   "execution_count": 6,
   "id": "167d00a7-3fed-40d3-a2f7-c2dfcb811704",
   "metadata": {},
   "outputs": [],
   "source": [
    "library(ggplot2)"
   ]
  },
  {
   "cell_type": "markdown",
   "id": "4cd58843-6dfc-47f2-bc14-a9fd3c5c1c67",
   "metadata": {},
   "source": [
    "## 2. Завантаження даних"
   ]
  },
  {
   "cell_type": "code",
   "execution_count": 8,
   "id": "526b64b2-b4cc-4b8d-8ad5-9d3c1b0589a9",
   "metadata": {},
   "outputs": [
    {
     "data": {
      "text/html": [
       "<table class=\"dataframe\">\n",
       "<caption>A tibble: 6 x 11</caption>\n",
       "<thead>\n",
       "\t<tr><th scope=col>name</th><th scope=col>genus</th><th scope=col>vore</th><th scope=col>order</th><th scope=col>conservation</th><th scope=col>sleep_total</th><th scope=col>sleep_rem</th><th scope=col>sleep_cycle</th><th scope=col>awake</th><th scope=col>brainwt</th><th scope=col>bodywt</th></tr>\n",
       "\t<tr><th scope=col>&lt;chr&gt;</th><th scope=col>&lt;chr&gt;</th><th scope=col>&lt;chr&gt;</th><th scope=col>&lt;chr&gt;</th><th scope=col>&lt;chr&gt;</th><th scope=col>&lt;dbl&gt;</th><th scope=col>&lt;dbl&gt;</th><th scope=col>&lt;dbl&gt;</th><th scope=col>&lt;dbl&gt;</th><th scope=col>&lt;dbl&gt;</th><th scope=col>&lt;dbl&gt;</th></tr>\n",
       "</thead>\n",
       "<tbody>\n",
       "\t<tr><td>Cheetah                   </td><td>Acinonyx  </td><td>carni</td><td>Carnivora   </td><td>lc          </td><td>12.1</td><td> NA</td><td>       NA</td><td>11.9</td><td>     NA</td><td> 50.000</td></tr>\n",
       "\t<tr><td>Owl monkey                </td><td>Aotus     </td><td>omni </td><td>Primates    </td><td>NA          </td><td>17.0</td><td>1.8</td><td>       NA</td><td> 7.0</td><td>0.01550</td><td>  0.480</td></tr>\n",
       "\t<tr><td>Mountain beaver           </td><td>Aplodontia</td><td>herbi</td><td>Rodentia    </td><td>nt          </td><td>14.4</td><td>2.4</td><td>       NA</td><td> 9.6</td><td>     NA</td><td>  1.350</td></tr>\n",
       "\t<tr><td>Greater short-tailed shrew</td><td>Blarina   </td><td>omni </td><td>Soricomorpha</td><td>lc          </td><td>14.9</td><td>2.3</td><td>0.1333333</td><td> 9.1</td><td>0.00029</td><td>  0.019</td></tr>\n",
       "\t<tr><td>Cow                       </td><td>Bos       </td><td>herbi</td><td>Artiodactyla</td><td>domesticated</td><td> 4.0</td><td>0.7</td><td>0.6666667</td><td>20.0</td><td>0.42300</td><td>600.000</td></tr>\n",
       "\t<tr><td>Three-toed sloth          </td><td>Bradypus  </td><td>herbi</td><td>Pilosa      </td><td>NA          </td><td>14.4</td><td>2.2</td><td>0.7666667</td><td> 9.6</td><td>     NA</td><td>  3.850</td></tr>\n",
       "</tbody>\n",
       "</table>\n"
      ],
      "text/latex": [
       "A tibble: 6 x 11\n",
       "\\begin{tabular}{lllllllllll}\n",
       " name & genus & vore & order & conservation & sleep\\_total & sleep\\_rem & sleep\\_cycle & awake & brainwt & bodywt\\\\\n",
       " <chr> & <chr> & <chr> & <chr> & <chr> & <dbl> & <dbl> & <dbl> & <dbl> & <dbl> & <dbl>\\\\\n",
       "\\hline\n",
       "\t Cheetah                    & Acinonyx   & carni & Carnivora    & lc           & 12.1 &  NA &        NA & 11.9 &      NA &  50.000\\\\\n",
       "\t Owl monkey                 & Aotus      & omni  & Primates     & NA           & 17.0 & 1.8 &        NA &  7.0 & 0.01550 &   0.480\\\\\n",
       "\t Mountain beaver            & Aplodontia & herbi & Rodentia     & nt           & 14.4 & 2.4 &        NA &  9.6 &      NA &   1.350\\\\\n",
       "\t Greater short-tailed shrew & Blarina    & omni  & Soricomorpha & lc           & 14.9 & 2.3 & 0.1333333 &  9.1 & 0.00029 &   0.019\\\\\n",
       "\t Cow                        & Bos        & herbi & Artiodactyla & domesticated &  4.0 & 0.7 & 0.6666667 & 20.0 & 0.42300 & 600.000\\\\\n",
       "\t Three-toed sloth           & Bradypus   & herbi & Pilosa       & NA           & 14.4 & 2.2 & 0.7666667 &  9.6 &      NA &   3.850\\\\\n",
       "\\end{tabular}\n"
      ],
      "text/markdown": [
       "\n",
       "A tibble: 6 x 11\n",
       "\n",
       "| name &lt;chr&gt; | genus &lt;chr&gt; | vore &lt;chr&gt; | order &lt;chr&gt; | conservation &lt;chr&gt; | sleep_total &lt;dbl&gt; | sleep_rem &lt;dbl&gt; | sleep_cycle &lt;dbl&gt; | awake &lt;dbl&gt; | brainwt &lt;dbl&gt; | bodywt &lt;dbl&gt; |\n",
       "|---|---|---|---|---|---|---|---|---|---|---|\n",
       "| Cheetah                    | Acinonyx   | carni | Carnivora    | lc           | 12.1 |  NA |        NA | 11.9 |      NA |  50.000 |\n",
       "| Owl monkey                 | Aotus      | omni  | Primates     | NA           | 17.0 | 1.8 |        NA |  7.0 | 0.01550 |   0.480 |\n",
       "| Mountain beaver            | Aplodontia | herbi | Rodentia     | nt           | 14.4 | 2.4 |        NA |  9.6 |      NA |   1.350 |\n",
       "| Greater short-tailed shrew | Blarina    | omni  | Soricomorpha | lc           | 14.9 | 2.3 | 0.1333333 |  9.1 | 0.00029 |   0.019 |\n",
       "| Cow                        | Bos        | herbi | Artiodactyla | domesticated |  4.0 | 0.7 | 0.6666667 | 20.0 | 0.42300 | 600.000 |\n",
       "| Three-toed sloth           | Bradypus   | herbi | Pilosa       | NA           | 14.4 | 2.2 | 0.7666667 |  9.6 |      NA |   3.850 |\n",
       "\n"
      ],
      "text/plain": [
       "  name                       genus      vore  order        conservation\n",
       "1 Cheetah                    Acinonyx   carni Carnivora    lc          \n",
       "2 Owl monkey                 Aotus      omni  Primates     NA          \n",
       "3 Mountain beaver            Aplodontia herbi Rodentia     nt          \n",
       "4 Greater short-tailed shrew Blarina    omni  Soricomorpha lc          \n",
       "5 Cow                        Bos        herbi Artiodactyla domesticated\n",
       "6 Three-toed sloth           Bradypus   herbi Pilosa       NA          \n",
       "  sleep_total sleep_rem sleep_cycle awake brainwt bodywt \n",
       "1 12.1         NA              NA   11.9       NA  50.000\n",
       "2 17.0        1.8              NA    7.0  0.01550   0.480\n",
       "3 14.4        2.4              NA    9.6       NA   1.350\n",
       "4 14.9        2.3       0.1333333    9.1  0.00029   0.019\n",
       "5  4.0        0.7       0.6666667   20.0  0.42300 600.000\n",
       "6 14.4        2.2       0.7666667    9.6       NA   3.850"
      ]
     },
     "metadata": {},
     "output_type": "display_data"
    }
   ],
   "source": [
    "head(msleep)"
   ]
  },
  {
   "cell_type": "code",
   "execution_count": 10,
   "id": "eedee724-538e-48c6-949a-f0bab7086d50",
   "metadata": {},
   "outputs": [
    {
     "data": {
      "text/html": [
       "\n",
       "<table width=\"100%\" summary=\"page for msleep {ggplot2}\"><tr><td>msleep {ggplot2}</td><td style=\"text-align: right;\">R Documentation</td></tr></table>\n",
       "\n",
       "<h2>An updated and expanded version of the mammals sleep dataset</h2>\n",
       "\n",
       "<h3>Description</h3>\n",
       "\n",
       "<p>This is an updated and expanded version of the mammals sleep dataset.\n",
       "Updated sleep times and weights were taken from V. M. Savage and G. B.\n",
       "West. A quantitative, theoretical framework for understanding mammalian\n",
       "sleep. Proceedings of the National Academy of Sciences, 104 (3):1051-1056,\n",
       "2007.\n",
       "</p>\n",
       "\n",
       "\n",
       "<h3>Usage</h3>\n",
       "\n",
       "<pre>\n",
       "msleep\n",
       "</pre>\n",
       "\n",
       "\n",
       "<h3>Format</h3>\n",
       "\n",
       "<p>A data frame with 83 rows and 11 variables:\n",
       "</p>\n",
       "\n",
       "<dl>\n",
       "<dt>name</dt><dd><p>common name</p>\n",
       "</dd>\n",
       "<dt>genus</dt><dd></dd>\n",
       "<dt>vore</dt><dd><p>carnivore, omnivore or herbivore?</p>\n",
       "</dd>\n",
       "<dt>order</dt><dd></dd>\n",
       "<dt>conservation</dt><dd><p>the conservation status of the animal</p>\n",
       "</dd>\n",
       "<dt>sleep_total</dt><dd><p>total amount of sleep, in hours</p>\n",
       "</dd>\n",
       "<dt>sleep_rem</dt><dd><p>rem sleep, in hours</p>\n",
       "</dd>\n",
       "<dt>sleep_cycle</dt><dd><p>length of sleep cycle, in hours</p>\n",
       "</dd>\n",
       "<dt>awake</dt><dd><p>amount of time spent awake, in hours</p>\n",
       "</dd>\n",
       "<dt>brainwt</dt><dd><p>brain weight in kilograms</p>\n",
       "</dd>\n",
       "<dt>bodywt</dt><dd><p>body weight in kilograms</p>\n",
       "</dd>\n",
       "</dl>\n",
       "\n",
       "\n",
       "\n",
       "<h3>Details</h3>\n",
       "\n",
       "<p>Additional variables order, conservation status and vore were added from\n",
       "wikipedia.\n",
       "</p>\n",
       "\n",
       "<hr /><div style=\"text-align: center;\">[Package <em>ggplot2</em> version 3.4.2 ]</div>"
      ],
      "text/latex": [
       "\\inputencoding{utf8}\n",
       "\\HeaderA{msleep}{An updated and expanded version of the mammals sleep dataset}{msleep}\n",
       "\\keyword{datasets}{msleep}\n",
       "%\n",
       "\\begin{Description}\\relax\n",
       "This is an updated and expanded version of the mammals sleep dataset.\n",
       "Updated sleep times and weights were taken from V. M. Savage and G. B.\n",
       "West. A quantitative, theoretical framework for understanding mammalian\n",
       "sleep. Proceedings of the National Academy of Sciences, 104 (3):1051-1056,\n",
       "2007.\n",
       "\\end{Description}\n",
       "%\n",
       "\\begin{Usage}\n",
       "\\begin{verbatim}\n",
       "msleep\n",
       "\\end{verbatim}\n",
       "\\end{Usage}\n",
       "%\n",
       "\\begin{Format}\n",
       "A data frame with 83 rows and 11 variables:\n",
       "\\begin{description}\n",
       "\n",
       "\\item[name] common name\n",
       "\\item[genus] \n",
       "\\item[vore] carnivore, omnivore or herbivore?\n",
       "\\item[order] \n",
       "\\item[conservation] the conservation status of the animal\n",
       "\\item[sleep\\_total] total amount of sleep, in hours\n",
       "\\item[sleep\\_rem] rem sleep, in hours\n",
       "\\item[sleep\\_cycle] length of sleep cycle, in hours\n",
       "\\item[awake] amount of time spent awake, in hours\n",
       "\\item[brainwt] brain weight in kilograms\n",
       "\\item[bodywt] body weight in kilograms\n",
       "\n",
       "\\end{description}\n",
       "\n",
       "\\end{Format}\n",
       "%\n",
       "\\begin{Details}\\relax\n",
       "Additional variables order, conservation status and vore were added from\n",
       "wikipedia.\n",
       "\\end{Details}"
      ],
      "text/plain": [
       "msleep                 package:ggplot2                 R Documentation\n",
       "\n",
       "_\bA_\bn _\bu_\bp_\bd_\ba_\bt_\be_\bd _\ba_\bn_\bd _\be_\bx_\bp_\ba_\bn_\bd_\be_\bd _\bv_\be_\br_\bs_\bi_\bo_\bn _\bo_\bf _\bt_\bh_\be _\bm_\ba_\bm_\bm_\ba_\bl_\bs _\bs_\bl_\be_\be_\bp _\bd_\ba_\bt_\ba_\bs_\be_\bt\n",
       "\n",
       "_\bD_\be_\bs_\bc_\br_\bi_\bp_\bt_\bi_\bo_\bn:\n",
       "\n",
       "     This is an updated and expanded version of the mammals sleep\n",
       "     dataset. Updated sleep times and weights were taken from V. M.\n",
       "     Savage and G. B. West. A quantitative, theoretical framework for\n",
       "     understanding mammalian sleep. Proceedings of the National Academy\n",
       "     of Sciences, 104 (3):1051-1056, 2007.\n",
       "\n",
       "_\bU_\bs_\ba_\bg_\be:\n",
       "\n",
       "     msleep\n",
       "     \n",
       "_\bF_\bo_\br_\bm_\ba_\bt:\n",
       "\n",
       "     A data frame with 83 rows and 11 variables:\n",
       "\n",
       "     name common name\n",
       "\n",
       "     genus\n",
       "\n",
       "     vore carnivore, omnivore or herbivore?\n",
       "\n",
       "     order\n",
       "\n",
       "     conservation the conservation status of the animal\n",
       "\n",
       "     sleep_total total amount of sleep, in hours\n",
       "\n",
       "     sleep_rem rem sleep, in hours\n",
       "\n",
       "     sleep_cycle length of sleep cycle, in hours\n",
       "\n",
       "     awake amount of time spent awake, in hours\n",
       "\n",
       "     brainwt brain weight in kilograms\n",
       "\n",
       "     bodywt body weight in kilograms\n",
       "\n",
       "_\bD_\be_\bt_\ba_\bi_\bl_\bs:\n",
       "\n",
       "     Additional variables order, conservation status and vore were\n",
       "     added from wikipedia.\n"
      ]
     },
     "metadata": {},
     "output_type": "display_data"
    }
   ],
   "source": [
    "?msleep"
   ]
  },
  {
   "cell_type": "markdown",
   "id": "06121451-d50b-4c14-b45a-d879ac998bcd",
   "metadata": {},
   "source": [
    "## 3. Базові функції"
   ]
  },
  {
   "cell_type": "code",
   "execution_count": 12,
   "id": "016bcd67-0798-4e7f-8482-124684e003e4",
   "metadata": {},
   "outputs": [
    {
     "data": {
      "text/html": [
       "0.005"
      ],
      "text/latex": [
       "0.005"
      ],
      "text/markdown": [
       "0.005"
      ],
      "text/plain": [
       "[1] 0.005"
      ]
     },
     "metadata": {},
     "output_type": "display_data"
    }
   ],
   "source": [
    "min(msleep$bodywt)"
   ]
  },
  {
   "cell_type": "code",
   "execution_count": 14,
   "id": "0de0a86c-3f62-419d-9097-b096e6a28c40",
   "metadata": {},
   "outputs": [
    {
     "data": {
      "text/html": [
       "6654"
      ],
      "text/latex": [
       "6654"
      ],
      "text/markdown": [
       "6654"
      ],
      "text/plain": [
       "[1] 6654"
      ]
     },
     "metadata": {},
     "output_type": "display_data"
    }
   ],
   "source": [
    "max(msleep$bodywt)"
   ]
  },
  {
   "cell_type": "code",
   "execution_count": 17,
   "id": "6490ae2d-b3c7-4b35-9cce-e8cee0163304",
   "metadata": {},
   "outputs": [],
   "source": [
    "r <- range(msleep$bodywt)"
   ]
  },
  {
   "cell_type": "code",
   "execution_count": 19,
   "id": "f8206485-a3e7-415a-9b9f-3cf13ac466cd",
   "metadata": {},
   "outputs": [
    {
     "data": {
      "text/html": [
       "0.005"
      ],
      "text/latex": [
       "0.005"
      ],
      "text/markdown": [
       "0.005"
      ],
      "text/plain": [
       "[1] 0.005"
      ]
     },
     "metadata": {},
     "output_type": "display_data"
    }
   ],
   "source": [
    "r[1]"
   ]
  },
  {
   "cell_type": "code",
   "execution_count": 21,
   "id": "ad6d479e-1e49-4361-a3fe-a43b77580a1b",
   "metadata": {},
   "outputs": [
    {
     "data": {
      "text/html": [
       "6654"
      ],
      "text/latex": [
       "6654"
      ],
      "text/markdown": [
       "6654"
      ],
      "text/plain": [
       "[1] 6654"
      ]
     },
     "metadata": {},
     "output_type": "display_data"
    }
   ],
   "source": [
    "r[2]"
   ]
  },
  {
   "cell_type": "code",
   "execution_count": 23,
   "id": "0a7ef5e6-0140-4974-b70f-69aaa8be8efc",
   "metadata": {},
   "outputs": [
    {
     "data": {
      "text/html": [
       "166.13634939759"
      ],
      "text/latex": [
       "166.13634939759"
      ],
      "text/markdown": [
       "166.13634939759"
      ],
      "text/plain": [
       "[1] 166.1363"
      ]
     },
     "metadata": {},
     "output_type": "display_data"
    }
   ],
   "source": [
    "mean(msleep$bodywt)"
   ]
  },
  {
   "cell_type": "code",
   "execution_count": 25,
   "id": "73e1e5a8-2890-47e6-890a-c859959ce28b",
   "metadata": {},
   "outputs": [
    {
     "data": {
      "text/html": [
       "1.67"
      ],
      "text/latex": [
       "1.67"
      ],
      "text/markdown": [
       "1.67"
      ],
      "text/plain": [
       "[1] 1.67"
      ]
     },
     "metadata": {},
     "output_type": "display_data"
    }
   ],
   "source": [
    "median(msleep$bodywt)"
   ]
  },
  {
   "cell_type": "code",
   "execution_count": 27,
   "id": "bbefe073-b6ea-44c5-b260-f0f625a2b24f",
   "metadata": {},
   "outputs": [
    {
     "data": {
      "text/html": [
       "786.839731552429"
      ],
      "text/latex": [
       "786.839731552429"
      ],
      "text/markdown": [
       "786.839731552429"
      ],
      "text/plain": [
       "[1] 786.8397"
      ]
     },
     "metadata": {},
     "output_type": "display_data"
    }
   ],
   "source": [
    "sd(msleep$bodywt)"
   ]
  },
  {
   "cell_type": "code",
   "execution_count": 31,
   "id": "edad727c-8e9a-4b3a-83e5-3ff68ca59353",
   "metadata": {},
   "outputs": [
    {
     "data": {
      "text/plain": [
       "         \n",
       "          1.9 2.7 2.9 3 3.1 3.3 3.5 3.8 3.9 4 4.4 5.2 5.3 5.4 5.6 6.2 6.3 7 7.7\n",
       "  carni     0   1   0 0   0   0   1   0   0 0   0   1   0   0   1   1   1 0   0\n",
       "  herbi     1   0   1 1   1   1   0   1   1 1   1   0   2   0   0   0   1 0   1\n",
       "  insecti   0   0   0 0   0   0   0   0   0 0   0   0   0   0   0   0   0 0   0\n",
       "  omni      0   0   0 0   0   0   0   0   0 0   0   0   0   0   0   0   0 0   0\n",
       "         \n",
       "          8 8.3 8.4 8.6 8.7 8.9 9.1 9.4 9.5 9.6 9.7 9.8 10 10.1 10.3 10.4 10.6\n",
       "  carni   0   0   0   0   1   0   0   0   0   0   0   1  0    1    0    1    0\n",
       "  herbi   0   0   1   0   0   0   0   1   1   0   0   0  0    0    0    0    0\n",
       "  insecti 0   0   1   1   0   0   0   0   0   0   0   0  0    0    0    0    0\n",
       "  omni    1   1   0   0   1   1   2   1   0   1   1   1  1    2    1    0    0\n",
       "         \n",
       "          10.9 11 11.1 11.3 11.5 12.1 12.5 12.8 13 13.5 13.7 13.8 14.2 14.3\n",
       "  carni      0  1    0    0    0    1    2    0  0    1    0    0    0    0\n",
       "  herbi      0  0    1    1    0    0    2    1  1    0    0    1    1    1\n",
       "  insecti    0  0    0    0    0    0    0    0  0    0    0    0    0    0\n",
       "  omni       1  1    0    0    0    0    0    0  0    0    0    0    0    0\n",
       "         \n",
       "          14.4 14.5 14.6 14.9 15.6 15.8 15.9 16.6 17 17.4 18 18.1 19.4 19.7\n",
       "  carni      0    1    0    0    0    1    0    0  0    1  0    0    1    0\n",
       "  herbi      2    0    1    1    0    1    1    1  0    0  0    0    0    0\n",
       "  insecti    0    0    0    0    0    0    0    0  0    0  0    1    0    1\n",
       "  omni       0    0    0    1    1    0    0    0  1    0  1    0    0    0\n",
       "         \n",
       "          19.9\n",
       "  carni      0\n",
       "  herbi      0\n",
       "  insecti    1\n",
       "  omni       0"
      ]
     },
     "metadata": {},
     "output_type": "display_data"
    }
   ],
   "source": [
    "table(msleep$vore, msleep$sleep_total)"
   ]
  },
  {
   "cell_type": "code",
   "execution_count": 32,
   "id": "28f33fbb-3dd1-4747-90d5-ec40c678c303",
   "metadata": {},
   "outputs": [
    {
     "data": {
      "text/plain": [
       "     name              genus               vore              order          \n",
       " Length:83          Length:83          Length:83          Length:83         \n",
       " Class :character   Class :character   Class :character   Class :character  \n",
       " Mode  :character   Mode  :character   Mode  :character   Mode  :character  \n",
       "                                                                            \n",
       "                                                                            \n",
       "                                                                            \n",
       "                                                                            \n",
       " conservation        sleep_total      sleep_rem      sleep_cycle    \n",
       " Length:83          Min.   : 1.90   Min.   :0.100   Min.   :0.1167  \n",
       " Class :character   1st Qu.: 7.85   1st Qu.:0.900   1st Qu.:0.1833  \n",
       " Mode  :character   Median :10.10   Median :1.500   Median :0.3333  \n",
       "                    Mean   :10.43   Mean   :1.875   Mean   :0.4396  \n",
       "                    3rd Qu.:13.75   3rd Qu.:2.400   3rd Qu.:0.5792  \n",
       "                    Max.   :19.90   Max.   :6.600   Max.   :1.5000  \n",
       "                                    NA's   :22      NA's   :51      \n",
       "     awake          brainwt            bodywt        \n",
       " Min.   : 4.10   Min.   :0.00014   Min.   :   0.005  \n",
       " 1st Qu.:10.25   1st Qu.:0.00290   1st Qu.:   0.174  \n",
       " Median :13.90   Median :0.01240   Median :   1.670  \n",
       " Mean   :13.57   Mean   :0.28158   Mean   : 166.136  \n",
       " 3rd Qu.:16.15   3rd Qu.:0.12550   3rd Qu.:  41.750  \n",
       " Max.   :22.10   Max.   :5.71200   Max.   :6654.000  \n",
       "                 NA's   :27                          "
      ]
     },
     "metadata": {},
     "output_type": "display_data"
    }
   ],
   "source": [
    "summary(msleep)"
   ]
  },
  {
   "cell_type": "code",
   "execution_count": 34,
   "id": "bdfb8294-9d67-428c-a3e0-c1f9fecc0eba",
   "metadata": {},
   "outputs": [
    {
     "data": {
      "text/html": [
       "<table class=\"dataframe\">\n",
       "<caption>A tibble: 6 x 11</caption>\n",
       "<thead>\n",
       "\t<tr><th scope=col>name</th><th scope=col>genus</th><th scope=col>vore</th><th scope=col>order</th><th scope=col>conservation</th><th scope=col>sleep_total</th><th scope=col>sleep_rem</th><th scope=col>sleep_cycle</th><th scope=col>awake</th><th scope=col>brainwt</th><th scope=col>bodywt</th></tr>\n",
       "\t<tr><th scope=col>&lt;chr&gt;</th><th scope=col>&lt;chr&gt;</th><th scope=col>&lt;chr&gt;</th><th scope=col>&lt;chr&gt;</th><th scope=col>&lt;chr&gt;</th><th scope=col>&lt;dbl&gt;</th><th scope=col>&lt;dbl&gt;</th><th scope=col>&lt;dbl&gt;</th><th scope=col>&lt;dbl&gt;</th><th scope=col>&lt;dbl&gt;</th><th scope=col>&lt;dbl&gt;</th></tr>\n",
       "</thead>\n",
       "<tbody>\n",
       "\t<tr><td>Cheetah                   </td><td>Acinonyx   </td><td>carni</td><td>Carnivora   </td><td>lc</td><td>12.1</td><td> NA</td><td>       NA</td><td>11.9</td><td>     NA</td><td>50.000</td></tr>\n",
       "\t<tr><td>Owl monkey                </td><td>Aotus      </td><td>omni </td><td>Primates    </td><td>NA</td><td>17.0</td><td>1.8</td><td>       NA</td><td> 7.0</td><td>0.01550</td><td> 0.480</td></tr>\n",
       "\t<tr><td>Mountain beaver           </td><td>Aplodontia </td><td>herbi</td><td>Rodentia    </td><td>nt</td><td>14.4</td><td>2.4</td><td>       NA</td><td> 9.6</td><td>     NA</td><td> 1.350</td></tr>\n",
       "\t<tr><td>Greater short-tailed shrew</td><td>Blarina    </td><td>omni </td><td>Soricomorpha</td><td>lc</td><td>14.9</td><td>2.3</td><td>0.1333333</td><td> 9.1</td><td>0.00029</td><td> 0.019</td></tr>\n",
       "\t<tr><td>Three-toed sloth          </td><td>Bradypus   </td><td>herbi</td><td>Pilosa      </td><td>NA</td><td>14.4</td><td>2.2</td><td>0.7666667</td><td> 9.6</td><td>     NA</td><td> 3.850</td></tr>\n",
       "\t<tr><td>Northern fur seal         </td><td>Callorhinus</td><td>carni</td><td>Carnivora   </td><td>vu</td><td> 8.7</td><td>1.4</td><td>0.3833333</td><td>15.3</td><td>     NA</td><td>20.490</td></tr>\n",
       "</tbody>\n",
       "</table>\n"
      ],
      "text/latex": [
       "A tibble: 6 x 11\n",
       "\\begin{tabular}{lllllllllll}\n",
       " name & genus & vore & order & conservation & sleep\\_total & sleep\\_rem & sleep\\_cycle & awake & brainwt & bodywt\\\\\n",
       " <chr> & <chr> & <chr> & <chr> & <chr> & <dbl> & <dbl> & <dbl> & <dbl> & <dbl> & <dbl>\\\\\n",
       "\\hline\n",
       "\t Cheetah                    & Acinonyx    & carni & Carnivora    & lc & 12.1 &  NA &        NA & 11.9 &      NA & 50.000\\\\\n",
       "\t Owl monkey                 & Aotus       & omni  & Primates     & NA & 17.0 & 1.8 &        NA &  7.0 & 0.01550 &  0.480\\\\\n",
       "\t Mountain beaver            & Aplodontia  & herbi & Rodentia     & nt & 14.4 & 2.4 &        NA &  9.6 &      NA &  1.350\\\\\n",
       "\t Greater short-tailed shrew & Blarina     & omni  & Soricomorpha & lc & 14.9 & 2.3 & 0.1333333 &  9.1 & 0.00029 &  0.019\\\\\n",
       "\t Three-toed sloth           & Bradypus    & herbi & Pilosa       & NA & 14.4 & 2.2 & 0.7666667 &  9.6 &      NA &  3.850\\\\\n",
       "\t Northern fur seal          & Callorhinus & carni & Carnivora    & vu &  8.7 & 1.4 & 0.3833333 & 15.3 &      NA & 20.490\\\\\n",
       "\\end{tabular}\n"
      ],
      "text/markdown": [
       "\n",
       "A tibble: 6 x 11\n",
       "\n",
       "| name &lt;chr&gt; | genus &lt;chr&gt; | vore &lt;chr&gt; | order &lt;chr&gt; | conservation &lt;chr&gt; | sleep_total &lt;dbl&gt; | sleep_rem &lt;dbl&gt; | sleep_cycle &lt;dbl&gt; | awake &lt;dbl&gt; | brainwt &lt;dbl&gt; | bodywt &lt;dbl&gt; |\n",
       "|---|---|---|---|---|---|---|---|---|---|---|\n",
       "| Cheetah                    | Acinonyx    | carni | Carnivora    | lc | 12.1 |  NA |        NA | 11.9 |      NA | 50.000 |\n",
       "| Owl monkey                 | Aotus       | omni  | Primates     | NA | 17.0 | 1.8 |        NA |  7.0 | 0.01550 |  0.480 |\n",
       "| Mountain beaver            | Aplodontia  | herbi | Rodentia     | nt | 14.4 | 2.4 |        NA |  9.6 |      NA |  1.350 |\n",
       "| Greater short-tailed shrew | Blarina     | omni  | Soricomorpha | lc | 14.9 | 2.3 | 0.1333333 |  9.1 | 0.00029 |  0.019 |\n",
       "| Three-toed sloth           | Bradypus    | herbi | Pilosa       | NA | 14.4 | 2.2 | 0.7666667 |  9.6 |      NA |  3.850 |\n",
       "| Northern fur seal          | Callorhinus | carni | Carnivora    | vu |  8.7 | 1.4 | 0.3833333 | 15.3 |      NA | 20.490 |\n",
       "\n"
      ],
      "text/plain": [
       "  name                       genus       vore  order        conservation\n",
       "1 Cheetah                    Acinonyx    carni Carnivora    lc          \n",
       "2 Owl monkey                 Aotus       omni  Primates     NA          \n",
       "3 Mountain beaver            Aplodontia  herbi Rodentia     nt          \n",
       "4 Greater short-tailed shrew Blarina     omni  Soricomorpha lc          \n",
       "5 Three-toed sloth           Bradypus    herbi Pilosa       NA          \n",
       "6 Northern fur seal          Callorhinus carni Carnivora    vu          \n",
       "  sleep_total sleep_rem sleep_cycle awake brainwt bodywt\n",
       "1 12.1         NA              NA   11.9       NA 50.000\n",
       "2 17.0        1.8              NA    7.0  0.01550  0.480\n",
       "3 14.4        2.4              NA    9.6       NA  1.350\n",
       "4 14.9        2.3       0.1333333    9.1  0.00029  0.019\n",
       "5 14.4        2.2       0.7666667    9.6       NA  3.850\n",
       "6  8.7        1.4       0.3833333   15.3       NA 20.490"
      ]
     },
     "metadata": {},
     "output_type": "display_data"
    }
   ],
   "source": [
    "more8 <- msleep[msleep$sleep_total > 8,]\n",
    "head(more8)"
   ]
  },
  {
   "cell_type": "code",
   "execution_count": 37,
   "id": "e515895b-6ea9-4573-840c-149ea1915339",
   "metadata": {},
   "outputs": [
    {
     "data": {
      "text/html": [
       "-0.360487369330295"
      ],
      "text/latex": [
       "-0.360487369330295"
      ],
      "text/markdown": [
       "-0.360487369330295"
      ],
      "text/plain": [
       "[1] -0.3604874"
      ]
     },
     "metadata": {},
     "output_type": "display_data"
    }
   ],
   "source": [
    "cor(msleep$sleep_total, msleep$brainwt, use = \"complete.obs\")"
   ]
  },
  {
   "cell_type": "code",
   "execution_count": 39,
   "id": "b8097f8f-9bde-4597-ac65-f3ca20109678",
   "metadata": {},
   "outputs": [
    {
     "data": {
      "text/plain": [
       "\n",
       "  carni   herbi insecti    omni \n",
       "     19      32       5      20 "
      ]
     },
     "metadata": {},
     "output_type": "display_data"
    }
   ],
   "source": [
    "table(msleep$vore)"
   ]
  },
  {
   "cell_type": "code",
   "execution_count": 41,
   "id": "cb5b2c01-1dc9-409b-9867-4db74a383037",
   "metadata": {},
   "outputs": [
    {
     "data": {
      "text/plain": [
       "\n",
       "     carni      herbi    insecti       omni \n",
       "0.25000000 0.42105263 0.06578947 0.26315789 "
      ]
     },
     "metadata": {},
     "output_type": "display_data"
    }
   ],
   "source": [
    "proportions(table(msleep$vore))"
   ]
  },
  {
   "cell_type": "code",
   "execution_count": 44,
   "id": "58b4538d-3367-42f5-9f8e-d32008cba13a",
   "metadata": {},
   "outputs": [
    {
     "data": {
      "text/html": [
       "-0.312010598447784"
      ],
      "text/latex": [
       "-0.312010598447784"
      ],
      "text/markdown": [
       "-0.312010598447784"
      ],
      "text/plain": [
       "[1] -0.3120106"
      ]
     },
     "metadata": {},
     "output_type": "display_data"
    }
   ],
   "source": [
    "cor(msleep$sleep_total, msleep$bodywt, use = \"complete.obs\")"
   ]
  },
  {
   "cell_type": "code",
   "execution_count": 46,
   "id": "0baae6f5-62b8-49a1-856b-4ee3c4df8eaa",
   "metadata": {},
   "outputs": [
    {
     "data": {
      "text/html": [
       "0.933782200562096"
      ],
      "text/latex": [
       "0.933782200562096"
      ],
      "text/markdown": [
       "0.933782200562096"
      ],
      "text/plain": [
       "[1] 0.9337822"
      ]
     },
     "metadata": {},
     "output_type": "display_data"
    }
   ],
   "source": [
    "cor(msleep$brainwt, msleep$bodywt, use = \"complete.obs\")"
   ]
  },
  {
   "cell_type": "code",
   "execution_count": 51,
   "id": "dce6ac0c-d5d3-458e-861b-43fe16bac3aa",
   "metadata": {},
   "outputs": [
    {
     "data": {
      "image/png": "[encoded data removed]",
      "text/plain": [
       "plot without title"
      ]
     },
     "metadata": {
      "image/png": {
       "height": 420,
       "width": 420
      }
     },
     "output_type": "display_data"
    }
   ],
   "source": [
    "x <- msleep[msleep$brainwt < 0.01,]\n",
    "plot(x$brainwt, x$bodywt)"
   ]
  },
  {
   "cell_type": "code",
   "execution_count": 55,
   "id": "c32ba6b2-593c-44b5-aba9-8e217791326c",
   "metadata": {},
   "outputs": [],
   "source": [
    "# install.packages(\"psych\")"
   ]
  },
  {
   "cell_type": "code",
   "execution_count": 57,
   "id": "062c107f-e069-457f-ad9c-e0e6c2a2e96b",
   "metadata": {},
   "outputs": [],
   "source": [
    "library(psych)"
   ]
  },
  {
   "cell_type": "code",
   "execution_count": 59,
   "id": "bf59b365-551b-483f-8cd5-adebe5066d57",
   "metadata": {},
   "outputs": [
    {
     "data": {
      "text/html": [
       "<table class=\"dataframe\">\n",
       "<caption>A psych: 11 x 13</caption>\n",
       "<thead>\n",
       "\t<tr><th></th><th scope=col>vars</th><th scope=col>n</th><th scope=col>mean</th><th scope=col>sd</th><th scope=col>median</th><th scope=col>trimmed</th><th scope=col>mad</th><th scope=col>min</th><th scope=col>max</th><th scope=col>range</th><th scope=col>skew</th><th scope=col>kurtosis</th><th scope=col>se</th></tr>\n",
       "\t<tr><th></th><th scope=col>&lt;int&gt;</th><th scope=col>&lt;dbl&gt;</th><th scope=col>&lt;dbl&gt;</th><th scope=col>&lt;dbl&gt;</th><th scope=col>&lt;dbl&gt;</th><th scope=col>&lt;dbl&gt;</th><th scope=col>&lt;dbl&gt;</th><th scope=col>&lt;dbl&gt;</th><th scope=col>&lt;dbl&gt;</th><th scope=col>&lt;dbl&gt;</th><th scope=col>&lt;dbl&gt;</th><th scope=col>&lt;dbl&gt;</th><th scope=col>&lt;dbl&gt;</th></tr>\n",
       "</thead>\n",
       "<tbody>\n",
       "\t<tr><th scope=row>name*</th><td> 1</td><td>83</td><td> 42.0000000</td><td> 24.1039416</td><td>42.0000000</td><td>42.00000000</td><td>31.13460000</td><td>1.0000000</td><td>  83.000</td><td>  82.000000</td><td> 0.00000000</td><td>-1.2434523</td><td> 2.64575131</td></tr>\n",
       "\t<tr><th scope=row>genus*</th><td> 2</td><td>83</td><td> 40.2530120</td><td> 22.5176589</td><td>41.0000000</td><td>40.44776119</td><td>28.16940000</td><td>1.0000000</td><td>  77.000</td><td>  76.000000</td><td>-0.05639775</td><td>-1.2520857</td><td> 2.47163416</td></tr>\n",
       "\t<tr><th scope=row>vore*</th><td> 3</td><td>76</td><td>  2.3421053</td><td>  1.1260862</td><td> 2.0000000</td><td> 2.30645161</td><td> 1.48260000</td><td>1.0000000</td><td>   4.000</td><td>   3.000000</td><td> 0.41786835</td><td>-1.2479239</td><td> 0.12917095</td></tr>\n",
       "\t<tr><th scope=row>order*</th><td> 4</td><td>83</td><td> 11.2771084</td><td>  6.1511713</td><td>15.0000000</td><td>11.53731343</td><td> 4.44780000</td><td>1.0000000</td><td>  19.000</td><td>  18.000000</td><td>-0.37717341</td><td>-1.5460760</td><td> 0.67517877</td></tr>\n",
       "\t<tr><th scope=row>conservation*</th><td> 5</td><td>54</td><td>  3.7777778</td><td>  1.3127340</td><td> 4.0000000</td><td> 3.77272727</td><td> 0.74130000</td><td>1.0000000</td><td>   6.000</td><td>   5.000000</td><td>-0.13522194</td><td>-0.5048689</td><td> 0.17864046</td></tr>\n",
       "\t<tr><th scope=row>sleep_total</th><td> 6</td><td>83</td><td> 10.4337349</td><td>  4.4503570</td><td>10.1000000</td><td>10.38358209</td><td> 5.04084000</td><td>1.9000000</td><td>  19.900</td><td>  18.000000</td><td> 0.05230964</td><td>-0.7074466</td><td> 0.48849014</td></tr>\n",
       "\t<tr><th scope=row>sleep_rem</th><td> 7</td><td>61</td><td>  1.8754098</td><td>  1.2982881</td><td> 1.5000000</td><td> 1.70816327</td><td> 1.18608000</td><td>0.1000000</td><td>   6.600</td><td>   6.500000</td><td> 1.46161590</td><td> 2.7342493</td><td> 0.16622875</td></tr>\n",
       "\t<tr><th scope=row>sleep_cycle</th><td> 8</td><td>32</td><td>  0.4395833</td><td>  0.3586801</td><td> 0.3333333</td><td> 0.37628205</td><td> 0.23474500</td><td>0.1166667</td><td>   1.500</td><td>   1.383333</td><td> 1.49498905</td><td> 1.5749153</td><td> 0.06340629</td></tr>\n",
       "\t<tr><th scope=row>awake</th><td> 9</td><td>83</td><td> 13.5674699</td><td>  4.4520852</td><td>13.9000000</td><td>13.61716418</td><td> 5.04084000</td><td>4.1000000</td><td>  22.100</td><td>  18.000000</td><td>-0.05133450</td><td>-0.7073810</td><td> 0.48867984</td></tr>\n",
       "\t<tr><th scope=row>brainwt</th><td>10</td><td>56</td><td>  0.2815814</td><td>  0.9764137</td><td> 0.0124000</td><td> 0.06602717</td><td> 0.01784309</td><td>0.0001400</td><td>   5.712</td><td>   5.711860</td><td> 4.62750025</td><td>20.9636487</td><td> 0.13047877</td></tr>\n",
       "\t<tr><th scope=row>bodywt</th><td>11</td><td>83</td><td>166.1363494</td><td>786.8397316</td><td> 1.6700000</td><td>20.48743284</td><td> 2.43442920</td><td>0.0050000</td><td>6654.000</td><td>6653.995000</td><td> 7.10016261</td><td>53.7180357</td><td>86.36688086</td></tr>\n",
       "</tbody>\n",
       "</table>\n"
      ],
      "text/latex": [
       "A psych: 11 x 13\n",
       "\\begin{tabular}{r|lllllllllllll}\n",
       "  & vars & n & mean & sd & median & trimmed & mad & min & max & range & skew & kurtosis & se\\\\\n",
       "  & <int> & <dbl> & <dbl> & <dbl> & <dbl> & <dbl> & <dbl> & <dbl> & <dbl> & <dbl> & <dbl> & <dbl> & <dbl>\\\\\n",
       "\\hline\n",
       "\tname* &  1 & 83 &  42.0000000 &  24.1039416 & 42.0000000 & 42.00000000 & 31.13460000 & 1.0000000 &   83.000 &   82.000000 &  0.00000000 & -1.2434523 &  2.64575131\\\\\n",
       "\tgenus* &  2 & 83 &  40.2530120 &  22.5176589 & 41.0000000 & 40.44776119 & 28.16940000 & 1.0000000 &   77.000 &   76.000000 & -0.05639775 & -1.2520857 &  2.47163416\\\\\n",
       "\tvore* &  3 & 76 &   2.3421053 &   1.1260862 &  2.0000000 &  2.30645161 &  1.48260000 & 1.0000000 &    4.000 &    3.000000 &  0.41786835 & -1.2479239 &  0.12917095\\\\\n",
       "\torder* &  4 & 83 &  11.2771084 &   6.1511713 & 15.0000000 & 11.53731343 &  4.44780000 & 1.0000000 &   19.000 &   18.000000 & -0.37717341 & -1.5460760 &  0.67517877\\\\\n",
       "\tconservation* &  5 & 54 &   3.7777778 &   1.3127340 &  4.0000000 &  3.77272727 &  0.74130000 & 1.0000000 &    6.000 &    5.000000 & -0.13522194 & -0.5048689 &  0.17864046\\\\\n",
       "\tsleep\\_total &  6 & 83 &  10.4337349 &   4.4503570 & 10.1000000 & 10.38358209 &  5.04084000 & 1.9000000 &   19.900 &   18.000000 &  0.05230964 & -0.7074466 &  0.48849014\\\\\n",
       "\tsleep\\_rem &  7 & 61 &   1.8754098 &   1.2982881 &  1.5000000 &  1.70816327 &  1.18608000 & 0.1000000 &    6.600 &    6.500000 &  1.46161590 &  2.7342493 &  0.16622875\\\\\n",
       "\tsleep\\_cycle &  8 & 32 &   0.4395833 &   0.3586801 &  0.3333333 &  0.37628205 &  0.23474500 & 0.1166667 &    1.500 &    1.383333 &  1.49498905 &  1.5749153 &  0.06340629\\\\\n",
       "\tawake &  9 & 83 &  13.5674699 &   4.4520852 & 13.9000000 & 13.61716418 &  5.04084000 & 4.1000000 &   22.100 &   18.000000 & -0.05133450 & -0.7073810 &  0.48867984\\\\\n",
       "\tbrainwt & 10 & 56 &   0.2815814 &   0.9764137 &  0.0124000 &  0.06602717 &  0.01784309 & 0.0001400 &    5.712 &    5.711860 &  4.62750025 & 20.9636487 &  0.13047877\\\\\n",
       "\tbodywt & 11 & 83 & 166.1363494 & 786.8397316 &  1.6700000 & 20.48743284 &  2.43442920 & 0.0050000 & 6654.000 & 6653.995000 &  7.10016261 & 53.7180357 & 86.36688086\\\\\n",
       "\\end{tabular}\n"
      ],
      "text/markdown": [
       "\n",
       "A psych: 11 x 13\n",
       "\n",
       "| <!--/--> | vars &lt;int&gt; | n &lt;dbl&gt; | mean &lt;dbl&gt; | sd &lt;dbl&gt; | median &lt;dbl&gt; | trimmed &lt;dbl&gt; | mad &lt;dbl&gt; | min &lt;dbl&gt; | max &lt;dbl&gt; | range &lt;dbl&gt; | skew &lt;dbl&gt; | kurtosis &lt;dbl&gt; | se &lt;dbl&gt; |\n",
       "|---|---|---|---|---|---|---|---|---|---|---|---|---|---|\n",
       "| name* |  1 | 83 |  42.0000000 |  24.1039416 | 42.0000000 | 42.00000000 | 31.13460000 | 1.0000000 |   83.000 |   82.000000 |  0.00000000 | -1.2434523 |  2.64575131 |\n",
       "| genus* |  2 | 83 |  40.2530120 |  22.5176589 | 41.0000000 | 40.44776119 | 28.16940000 | 1.0000000 |   77.000 |   76.000000 | -0.05639775 | -1.2520857 |  2.47163416 |\n",
       "| vore* |  3 | 76 |   2.3421053 |   1.1260862 |  2.0000000 |  2.30645161 |  1.48260000 | 1.0000000 |    4.000 |    3.000000 |  0.41786835 | -1.2479239 |  0.12917095 |\n",
       "| order* |  4 | 83 |  11.2771084 |   6.1511713 | 15.0000000 | 11.53731343 |  4.44780000 | 1.0000000 |   19.000 |   18.000000 | -0.37717341 | -1.5460760 |  0.67517877 |\n",
       "| conservation* |  5 | 54 |   3.7777778 |   1.3127340 |  4.0000000 |  3.77272727 |  0.74130000 | 1.0000000 |    6.000 |    5.000000 | -0.13522194 | -0.5048689 |  0.17864046 |\n",
       "| sleep_total |  6 | 83 |  10.4337349 |   4.4503570 | 10.1000000 | 10.38358209 |  5.04084000 | 1.9000000 |   19.900 |   18.000000 |  0.05230964 | -0.7074466 |  0.48849014 |\n",
       "| sleep_rem |  7 | 61 |   1.8754098 |   1.2982881 |  1.5000000 |  1.70816327 |  1.18608000 | 0.1000000 |    6.600 |    6.500000 |  1.46161590 |  2.7342493 |  0.16622875 |\n",
       "| sleep_cycle |  8 | 32 |   0.4395833 |   0.3586801 |  0.3333333 |  0.37628205 |  0.23474500 | 0.1166667 |    1.500 |    1.383333 |  1.49498905 |  1.5749153 |  0.06340629 |\n",
       "| awake |  9 | 83 |  13.5674699 |   4.4520852 | 13.9000000 | 13.61716418 |  5.04084000 | 4.1000000 |   22.100 |   18.000000 | -0.05133450 | -0.7073810 |  0.48867984 |\n",
       "| brainwt | 10 | 56 |   0.2815814 |   0.9764137 |  0.0124000 |  0.06602717 |  0.01784309 | 0.0001400 |    5.712 |    5.711860 |  4.62750025 | 20.9636487 |  0.13047877 |\n",
       "| bodywt | 11 | 83 | 166.1363494 | 786.8397316 |  1.6700000 | 20.48743284 |  2.43442920 | 0.0050000 | 6654.000 | 6653.995000 |  7.10016261 | 53.7180357 | 86.36688086 |\n",
       "\n"
      ],
      "text/plain": [
       "              vars n  mean        sd          median     trimmed    \n",
       "name*          1   83  42.0000000  24.1039416 42.0000000 42.00000000\n",
       "genus*         2   83  40.2530120  22.5176589 41.0000000 40.44776119\n",
       "vore*          3   76   2.3421053   1.1260862  2.0000000  2.30645161\n",
       "order*         4   83  11.2771084   6.1511713 15.0000000 11.53731343\n",
       "conservation*  5   54   3.7777778   1.3127340  4.0000000  3.77272727\n",
       "sleep_total    6   83  10.4337349   4.4503570 10.1000000 10.38358209\n",
       "sleep_rem      7   61   1.8754098   1.2982881  1.5000000  1.70816327\n",
       "sleep_cycle    8   32   0.4395833   0.3586801  0.3333333  0.37628205\n",
       "awake          9   83  13.5674699   4.4520852 13.9000000 13.61716418\n",
       "brainwt       10   56   0.2815814   0.9764137  0.0124000  0.06602717\n",
       "bodywt        11   83 166.1363494 786.8397316  1.6700000 20.48743284\n",
       "              mad         min       max      range       skew        kurtosis  \n",
       "name*         31.13460000 1.0000000   83.000   82.000000  0.00000000 -1.2434523\n",
       "genus*        28.16940000 1.0000000   77.000   76.000000 -0.05639775 -1.2520857\n",
       "vore*          1.48260000 1.0000000    4.000    3.000000  0.41786835 -1.2479239\n",
       "order*         4.44780000 1.0000000   19.000   18.000000 -0.37717341 -1.5460760\n",
       "conservation*  0.74130000 1.0000000    6.000    5.000000 -0.13522194 -0.5048689\n",
       "sleep_total    5.04084000 1.9000000   19.900   18.000000  0.05230964 -0.7074466\n",
       "sleep_rem      1.18608000 0.1000000    6.600    6.500000  1.46161590  2.7342493\n",
       "sleep_cycle    0.23474500 0.1166667    1.500    1.383333  1.49498905  1.5749153\n",
       "awake          5.04084000 4.1000000   22.100   18.000000 -0.05133450 -0.7073810\n",
       "brainwt        0.01784309 0.0001400    5.712    5.711860  4.62750025 20.9636487\n",
       "bodywt         2.43442920 0.0050000 6654.000 6653.995000  7.10016261 53.7180357\n",
       "              se         \n",
       "name*          2.64575131\n",
       "genus*         2.47163416\n",
       "vore*          0.12917095\n",
       "order*         0.67517877\n",
       "conservation*  0.17864046\n",
       "sleep_total    0.48849014\n",
       "sleep_rem      0.16622875\n",
       "sleep_cycle    0.06340629\n",
       "awake          0.48867984\n",
       "brainwt        0.13047877\n",
       "bodywt        86.36688086"
      ]
     },
     "metadata": {},
     "output_type": "display_data"
    }
   ],
   "source": [
    "describe(msleep)"
   ]
  },
  {
   "cell_type": "code",
   "execution_count": 62,
   "id": "36400e19-4942-4a95-89e5-f046db980ccc",
   "metadata": {},
   "outputs": [
    {
     "data": {
      "text/plain": [
       "\n",
       " Descriptive statistics by group \n",
       "vore: carni\n",
       "             vars  n  mean     sd median trimmed   mad  min    max  range  skew\n",
       "name            1 19 39.58  24.28  42.00   39.41 31.13 4.00  78.00  74.00  0.08\n",
       "genus           2 19 41.11  23.05  45.00   41.35 20.76 1.00  77.00  76.00 -0.04\n",
       "vore            3 19  1.00   0.00   1.00    1.00  0.00 1.00   1.00   0.00   NaN\n",
       "order           4 19  4.89   4.08   3.00    4.29  0.00 3.00  17.00  14.00  2.12\n",
       "conservation    5 14  4.07   1.64   4.00    4.17  2.22 1.00   6.00   5.00 -0.30\n",
       "sleep_total     6 19 10.38   4.67  10.40   10.30  6.08 2.70  19.40  16.70  0.10\n",
       "sleep_rem       7 10  2.29   1.86   1.95    2.02  1.56 0.10   6.60   6.50  0.96\n",
       "sleep_cycle     8  5  0.37   0.03   0.38    0.37  0.05 0.33   0.42   0.08  0.04\n",
       "awake           9 19 13.63   4.68  13.60   13.70  6.08 4.60  21.35  16.75 -0.10\n",
       "brainwt        10  9  0.08   0.10   0.04    0.08  0.04 0.01   0.32   0.31  1.46\n",
       "bodywt         11 19 90.75 182.07  20.49   54.37 30.34 0.03 800.00 799.97  3.07\n",
       "             kurtosis    se\n",
       "name            -1.51  5.57\n",
       "genus           -1.07  5.29\n",
       "vore              NaN  0.00\n",
       "order            3.09  0.94\n",
       "conservation    -1.19  0.44\n",
       "sleep_total     -1.02  1.07\n",
       "sleep_rem        0.19  0.59\n",
       "sleep_cycle     -1.85  0.01\n",
       "awake           -1.02  1.07\n",
       "brainwt          0.74  0.03\n",
       "bodywt           9.15 41.77\n",
       "------------------------------------------------------------ \n",
       "vore: herbi\n",
       "             vars  n   mean      sd median trimmed   mad  min     max   range\n",
       "name            1 32  41.72   25.01  38.50   41.50 32.62 1.00   83.00   82.00\n",
       "genus           2 32  37.25   21.75  37.50   37.12 25.95 3.00   73.00   70.00\n",
       "vore            3 32   2.00    0.00   2.00    2.00  0.00 2.00    2.00    0.00\n",
       "order           4 32  13.16    5.48  16.50   14.00  0.74 2.00   17.00   15.00\n",
       "conservation    5 26   3.62    1.42   4.00    3.59  1.48 1.00    6.00    5.00\n",
       "sleep_total     6 32   9.51    4.88  10.30    9.55  6.23 1.90   16.60   14.70\n",
       "sleep_rem       7 24   1.37    0.92   0.95    1.27  0.67 0.40    3.40    3.00\n",
       "sleep_cycle     8 12   0.42    0.32   0.22    0.39  0.12 0.12    1.00    0.88\n",
       "awake           9 32  14.49    4.88  13.70   14.45  6.23 7.40   22.10   14.70\n",
       "brainwt        10 20   0.62    1.57   0.01    0.13  0.02 0.00    5.71    5.71\n",
       "bodywt         11 32 366.88 1244.08   1.23   63.04  1.75 0.02 6654.00 6653.98\n",
       "              skew kurtosis     se\n",
       "name          0.14    -1.29   4.42\n",
       "genus         0.12    -1.25   3.84\n",
       "vore           NaN      NaN   0.00\n",
       "order        -1.18    -0.15   0.97\n",
       "conservation  0.02    -1.06   0.28\n",
       "sleep_total  -0.14    -1.63   0.86\n",
       "sleep_rem     0.84    -0.68   0.19\n",
       "sleep_cycle   0.65    -1.40   0.09\n",
       "awake         0.14    -1.63   0.86\n",
       "brainwt       2.47     4.57   0.35\n",
       "bodywt        4.18    17.68 219.92\n",
       "------------------------------------------------------------ \n",
       "vore: insecti\n",
       "             vars n  mean    sd median trimmed   mad   min   max range  skew\n",
       "name            1 5 35.60 23.50  29.00   35.60 25.20  8.00 70.00 62.00  0.30\n",
       "genus           2 5 52.20 19.84  60.00   52.20 16.31 22.00 71.00 49.00 -0.49\n",
       "vore            3 5  3.00  0.00   3.00    3.00  0.00  3.00  3.00  0.00   NaN\n",
       "order           4 5  9.40  6.11   6.00    9.40  1.48  5.00 19.00 14.00  0.61\n",
       "conservation    5 3  3.67  0.58   4.00    3.67  0.00  3.00  4.00  1.00 -0.38\n",
       "sleep_total     6 5 14.94  5.92  18.10   14.94  2.67  8.40 19.90 11.50 -0.26\n",
       "sleep_rem       7 4  3.52  1.93   3.00    3.52  1.41  2.00  6.10  4.10  0.37\n",
       "sleep_cycle     8 3  0.16  0.04   0.17    0.16  0.05  0.12  0.20  0.08 -0.13\n",
       "awake           9 5  9.06  5.92   5.90    9.06  2.67  4.10 15.60 11.50  0.26\n",
       "brainwt        10 5  0.02  0.03   0.00    0.02  0.00  0.00  0.08  0.08  0.86\n",
       "bodywt         11 5 12.92 26.39   0.07   12.92  0.10  0.01 60.00 59.99  1.06\n",
       "             kurtosis    se\n",
       "name            -1.68 10.51\n",
       "genus           -1.72  8.87\n",
       "vore              NaN  0.00\n",
       "order           -1.65  2.73\n",
       "conservation    -2.33  0.33\n",
       "sleep_total     -2.24  2.65\n",
       "sleep_rem       -2.03  0.96\n",
       "sleep_cycle     -2.33  0.02\n",
       "awake           -2.24  2.65\n",
       "brainwt         -1.23  0.02\n",
       "bodywt          -0.94 11.80\n",
       "------------------------------------------------------------ \n",
       "vore: omni\n",
       "             vars  n  mean    sd median trimmed   mad  min   max range  skew\n",
       "name            1 20 43.75 24.52  46.00   44.75 26.69 2.00 80.00 78.00 -0.30\n",
       "genus           2 20 36.90 23.95  31.00   36.44 27.43 2.00 75.00 73.00  0.23\n",
       "vore            3 20  4.00  0.00   4.00    4.00  0.00 4.00  4.00  0.00   NaN\n",
       "order           4 20 13.90  5.16  15.00   14.81  1.48 1.00 19.00 18.00 -1.36\n",
       "conservation    5  9  3.78  0.67   4.00    3.78  0.00 2.00  4.00  2.00 -2.07\n",
       "sleep_total     6 20 10.93  2.95   9.90   10.45  1.33 8.00 18.00 10.00  1.28\n",
       "sleep_rem       7 18  1.96  1.01   1.85    1.85  0.74 0.70  4.90  4.20  1.32\n",
       "sleep_cycle     8 11  0.59  0.47   0.50    0.54  0.37 0.13  1.50  1.37  0.89\n",
       "awake           9 20 13.07  2.95  14.10   13.55  1.33 6.00 16.00 10.00 -1.28\n",
       "brainwt        10 17  0.15  0.32   0.01    0.08  0.01 0.00  1.32  1.32  2.78\n",
       "bodywt         11 20 12.72 24.69   0.95    6.63  1.33 0.00 86.25 86.25  1.85\n",
       "             kurtosis   se\n",
       "name            -1.21 5.48\n",
       "genus           -1.47 5.36\n",
       "vore              NaN 0.00\n",
       "order            0.75 1.15\n",
       "conservation     2.63 0.22\n",
       "sleep_total      0.17 0.66\n",
       "sleep_rem        1.54 0.24\n",
       "sleep_cycle     -0.73 0.14\n",
       "awake            0.17 0.66\n",
       "brainwt          7.14 0.08\n",
       "bodywt           2.09 5.52"
      ]
     },
     "metadata": {},
     "output_type": "display_data"
    }
   ],
   "source": [
    "describe(msleep ~ vore)"
   ]
  },
  {
   "cell_type": "markdown",
   "id": "9dc1c5cd-c022-4b60-a5b0-9535412bd1df",
   "metadata": {},
   "source": [
    "## 4. Кореляційний аналіз"
   ]
  },
  {
   "cell_type": "code",
   "execution_count": 64,
   "id": "dff97fd4-d6db-40e5-af5c-7f125e8806f7",
   "metadata": {},
   "outputs": [
    {
     "data": {
      "text/html": [
       "<table class=\"dataframe\">\n",
       "<caption>A tibble: 6 x 11</caption>\n",
       "<thead>\n",
       "\t<tr><th scope=col>name</th><th scope=col>genus</th><th scope=col>vore</th><th scope=col>order</th><th scope=col>conservation</th><th scope=col>sleep_total</th><th scope=col>sleep_rem</th><th scope=col>sleep_cycle</th><th scope=col>awake</th><th scope=col>brainwt</th><th scope=col>bodywt</th></tr>\n",
       "\t<tr><th scope=col>&lt;chr&gt;</th><th scope=col>&lt;chr&gt;</th><th scope=col>&lt;chr&gt;</th><th scope=col>&lt;chr&gt;</th><th scope=col>&lt;chr&gt;</th><th scope=col>&lt;dbl&gt;</th><th scope=col>&lt;dbl&gt;</th><th scope=col>&lt;dbl&gt;</th><th scope=col>&lt;dbl&gt;</th><th scope=col>&lt;dbl&gt;</th><th scope=col>&lt;dbl&gt;</th></tr>\n",
       "</thead>\n",
       "<tbody>\n",
       "\t<tr><td>Cheetah                   </td><td>Acinonyx  </td><td>carni</td><td>Carnivora   </td><td>lc          </td><td>12.1</td><td> NA</td><td>       NA</td><td>11.9</td><td>     NA</td><td> 50.000</td></tr>\n",
       "\t<tr><td>Owl monkey                </td><td>Aotus     </td><td>omni </td><td>Primates    </td><td>NA          </td><td>17.0</td><td>1.8</td><td>       NA</td><td> 7.0</td><td>0.01550</td><td>  0.480</td></tr>\n",
       "\t<tr><td>Mountain beaver           </td><td>Aplodontia</td><td>herbi</td><td>Rodentia    </td><td>nt          </td><td>14.4</td><td>2.4</td><td>       NA</td><td> 9.6</td><td>     NA</td><td>  1.350</td></tr>\n",
       "\t<tr><td>Greater short-tailed shrew</td><td>Blarina   </td><td>omni </td><td>Soricomorpha</td><td>lc          </td><td>14.9</td><td>2.3</td><td>0.1333333</td><td> 9.1</td><td>0.00029</td><td>  0.019</td></tr>\n",
       "\t<tr><td>Cow                       </td><td>Bos       </td><td>herbi</td><td>Artiodactyla</td><td>domesticated</td><td> 4.0</td><td>0.7</td><td>0.6666667</td><td>20.0</td><td>0.42300</td><td>600.000</td></tr>\n",
       "\t<tr><td>Three-toed sloth          </td><td>Bradypus  </td><td>herbi</td><td>Pilosa      </td><td>NA          </td><td>14.4</td><td>2.2</td><td>0.7666667</td><td> 9.6</td><td>     NA</td><td>  3.850</td></tr>\n",
       "</tbody>\n",
       "</table>\n"
      ],
      "text/latex": [
       "A tibble: 6 x 11\n",
       "\\begin{tabular}{lllllllllll}\n",
       " name & genus & vore & order & conservation & sleep\\_total & sleep\\_rem & sleep\\_cycle & awake & brainwt & bodywt\\\\\n",
       " <chr> & <chr> & <chr> & <chr> & <chr> & <dbl> & <dbl> & <dbl> & <dbl> & <dbl> & <dbl>\\\\\n",
       "\\hline\n",
       "\t Cheetah                    & Acinonyx   & carni & Carnivora    & lc           & 12.1 &  NA &        NA & 11.9 &      NA &  50.000\\\\\n",
       "\t Owl monkey                 & Aotus      & omni  & Primates     & NA           & 17.0 & 1.8 &        NA &  7.0 & 0.01550 &   0.480\\\\\n",
       "\t Mountain beaver            & Aplodontia & herbi & Rodentia     & nt           & 14.4 & 2.4 &        NA &  9.6 &      NA &   1.350\\\\\n",
       "\t Greater short-tailed shrew & Blarina    & omni  & Soricomorpha & lc           & 14.9 & 2.3 & 0.1333333 &  9.1 & 0.00029 &   0.019\\\\\n",
       "\t Cow                        & Bos        & herbi & Artiodactyla & domesticated &  4.0 & 0.7 & 0.6666667 & 20.0 & 0.42300 & 600.000\\\\\n",
       "\t Three-toed sloth           & Bradypus   & herbi & Pilosa       & NA           & 14.4 & 2.2 & 0.7666667 &  9.6 &      NA &   3.850\\\\\n",
       "\\end{tabular}\n"
      ],
      "text/markdown": [
       "\n",
       "A tibble: 6 x 11\n",
       "\n",
       "| name &lt;chr&gt; | genus &lt;chr&gt; | vore &lt;chr&gt; | order &lt;chr&gt; | conservation &lt;chr&gt; | sleep_total &lt;dbl&gt; | sleep_rem &lt;dbl&gt; | sleep_cycle &lt;dbl&gt; | awake &lt;dbl&gt; | brainwt &lt;dbl&gt; | bodywt &lt;dbl&gt; |\n",
       "|---|---|---|---|---|---|---|---|---|---|---|\n",
       "| Cheetah                    | Acinonyx   | carni | Carnivora    | lc           | 12.1 |  NA |        NA | 11.9 |      NA |  50.000 |\n",
       "| Owl monkey                 | Aotus      | omni  | Primates     | NA           | 17.0 | 1.8 |        NA |  7.0 | 0.01550 |   0.480 |\n",
       "| Mountain beaver            | Aplodontia | herbi | Rodentia     | nt           | 14.4 | 2.4 |        NA |  9.6 |      NA |   1.350 |\n",
       "| Greater short-tailed shrew | Blarina    | omni  | Soricomorpha | lc           | 14.9 | 2.3 | 0.1333333 |  9.1 | 0.00029 |   0.019 |\n",
       "| Cow                        | Bos        | herbi | Artiodactyla | domesticated |  4.0 | 0.7 | 0.6666667 | 20.0 | 0.42300 | 600.000 |\n",
       "| Three-toed sloth           | Bradypus   | herbi | Pilosa       | NA           | 14.4 | 2.2 | 0.7666667 |  9.6 |      NA |   3.850 |\n",
       "\n"
      ],
      "text/plain": [
       "  name                       genus      vore  order        conservation\n",
       "1 Cheetah                    Acinonyx   carni Carnivora    lc          \n",
       "2 Owl monkey                 Aotus      omni  Primates     NA          \n",
       "3 Mountain beaver            Aplodontia herbi Rodentia     nt          \n",
       "4 Greater short-tailed shrew Blarina    omni  Soricomorpha lc          \n",
       "5 Cow                        Bos        herbi Artiodactyla domesticated\n",
       "6 Three-toed sloth           Bradypus   herbi Pilosa       NA          \n",
       "  sleep_total sleep_rem sleep_cycle awake brainwt bodywt \n",
       "1 12.1         NA              NA   11.9       NA  50.000\n",
       "2 17.0        1.8              NA    7.0  0.01550   0.480\n",
       "3 14.4        2.4              NA    9.6       NA   1.350\n",
       "4 14.9        2.3       0.1333333    9.1  0.00029   0.019\n",
       "5  4.0        0.7       0.6666667   20.0  0.42300 600.000\n",
       "6 14.4        2.2       0.7666667    9.6       NA   3.850"
      ]
     },
     "metadata": {},
     "output_type": "display_data"
    }
   ],
   "source": [
    "head(msleep)"
   ]
  },
  {
   "cell_type": "code",
   "execution_count": 67,
   "id": "4e61d58a-164d-4338-88c8-5020a9296c33",
   "metadata": {},
   "outputs": [
    {
     "data": {
      "text/html": [
       "<table class=\"dataframe\">\n",
       "<caption>A tibble: 6 x 6</caption>\n",
       "<thead>\n",
       "\t<tr><th scope=col>sleep_total</th><th scope=col>sleep_rem</th><th scope=col>sleep_cycle</th><th scope=col>awake</th><th scope=col>brainwt</th><th scope=col>bodywt</th></tr>\n",
       "\t<tr><th scope=col>&lt;dbl&gt;</th><th scope=col>&lt;dbl&gt;</th><th scope=col>&lt;dbl&gt;</th><th scope=col>&lt;dbl&gt;</th><th scope=col>&lt;dbl&gt;</th><th scope=col>&lt;dbl&gt;</th></tr>\n",
       "</thead>\n",
       "<tbody>\n",
       "\t<tr><td>12.1</td><td> NA</td><td>       NA</td><td>11.9</td><td>     NA</td><td> 50.000</td></tr>\n",
       "\t<tr><td>17.0</td><td>1.8</td><td>       NA</td><td> 7.0</td><td>0.01550</td><td>  0.480</td></tr>\n",
       "\t<tr><td>14.4</td><td>2.4</td><td>       NA</td><td> 9.6</td><td>     NA</td><td>  1.350</td></tr>\n",
       "\t<tr><td>14.9</td><td>2.3</td><td>0.1333333</td><td> 9.1</td><td>0.00029</td><td>  0.019</td></tr>\n",
       "\t<tr><td> 4.0</td><td>0.7</td><td>0.6666667</td><td>20.0</td><td>0.42300</td><td>600.000</td></tr>\n",
       "\t<tr><td>14.4</td><td>2.2</td><td>0.7666667</td><td> 9.6</td><td>     NA</td><td>  3.850</td></tr>\n",
       "</tbody>\n",
       "</table>\n"
      ],
      "text/latex": [
       "A tibble: 6 x 6\n",
       "\\begin{tabular}{llllll}\n",
       " sleep\\_total & sleep\\_rem & sleep\\_cycle & awake & brainwt & bodywt\\\\\n",
       " <dbl> & <dbl> & <dbl> & <dbl> & <dbl> & <dbl>\\\\\n",
       "\\hline\n",
       "\t 12.1 &  NA &        NA & 11.9 &      NA &  50.000\\\\\n",
       "\t 17.0 & 1.8 &        NA &  7.0 & 0.01550 &   0.480\\\\\n",
       "\t 14.4 & 2.4 &        NA &  9.6 &      NA &   1.350\\\\\n",
       "\t 14.9 & 2.3 & 0.1333333 &  9.1 & 0.00029 &   0.019\\\\\n",
       "\t  4.0 & 0.7 & 0.6666667 & 20.0 & 0.42300 & 600.000\\\\\n",
       "\t 14.4 & 2.2 & 0.7666667 &  9.6 &      NA &   3.850\\\\\n",
       "\\end{tabular}\n"
      ],
      "text/markdown": [
       "\n",
       "A tibble: 6 x 6\n",
       "\n",
       "| sleep_total &lt;dbl&gt; | sleep_rem &lt;dbl&gt; | sleep_cycle &lt;dbl&gt; | awake &lt;dbl&gt; | brainwt &lt;dbl&gt; | bodywt &lt;dbl&gt; |\n",
       "|---|---|---|---|---|---|\n",
       "| 12.1 |  NA |        NA | 11.9 |      NA |  50.000 |\n",
       "| 17.0 | 1.8 |        NA |  7.0 | 0.01550 |   0.480 |\n",
       "| 14.4 | 2.4 |        NA |  9.6 |      NA |   1.350 |\n",
       "| 14.9 | 2.3 | 0.1333333 |  9.1 | 0.00029 |   0.019 |\n",
       "|  4.0 | 0.7 | 0.6666667 | 20.0 | 0.42300 | 600.000 |\n",
       "| 14.4 | 2.2 | 0.7666667 |  9.6 |      NA |   3.850 |\n",
       "\n"
      ],
      "text/plain": [
       "  sleep_total sleep_rem sleep_cycle awake brainwt bodywt \n",
       "1 12.1         NA              NA   11.9       NA  50.000\n",
       "2 17.0        1.8              NA    7.0  0.01550   0.480\n",
       "3 14.4        2.4              NA    9.6       NA   1.350\n",
       "4 14.9        2.3       0.1333333    9.1  0.00029   0.019\n",
       "5  4.0        0.7       0.6666667   20.0  0.42300 600.000\n",
       "6 14.4        2.2       0.7666667    9.6       NA   3.850"
      ]
     },
     "metadata": {},
     "output_type": "display_data"
    }
   ],
   "source": [
    "data <- msleep[, c(6:11)]\n",
    "head(data)"
   ]
  },
  {
   "cell_type": "code",
   "execution_count": 69,
   "id": "b11f7fb8-78e5-446e-af6d-2fa053a05b6e",
   "metadata": {},
   "outputs": [],
   "source": [
    "data <- na.omit(data)"
   ]
  },
  {
   "cell_type": "code",
   "execution_count": 72,
   "id": "08aff291-2fb8-4889-af09-b38cb07a40a2",
   "metadata": {},
   "outputs": [
    {
     "data": {
      "text/html": [
       "<table class=\"dataframe\">\n",
       "<caption>A matrix: 6 x 6 of type dbl</caption>\n",
       "<thead>\n",
       "\t<tr><th></th><th scope=col>sleep_total</th><th scope=col>sleep_rem</th><th scope=col>sleep_cycle</th><th scope=col>awake</th><th scope=col>brainwt</th><th scope=col>bodywt</th></tr>\n",
       "</thead>\n",
       "<tbody>\n",
       "\t<tr><th scope=row>sleep_total</th><td> 1.0000000</td><td> 0.6618840</td><td>-0.5159194</td><td>-1.0000000</td><td>-0.4597432</td><td>-0.6035842</td></tr>\n",
       "\t<tr><th scope=row>sleep_rem</th><td> 0.6618840</td><td> 1.0000000</td><td>-0.3522936</td><td>-0.6618840</td><td>-0.2820403</td><td>-0.4089389</td></tr>\n",
       "\t<tr><th scope=row>sleep_cycle</th><td>-0.5159194</td><td>-0.3522936</td><td> 1.0000000</td><td> 0.5159194</td><td> 0.8516203</td><td> 0.4343020</td></tr>\n",
       "\t<tr><th scope=row>awake</th><td>-1.0000000</td><td>-0.6618840</td><td> 0.5159194</td><td> 1.0000000</td><td> 0.4597432</td><td> 0.6035842</td></tr>\n",
       "\t<tr><th scope=row>brainwt</th><td>-0.4597432</td><td>-0.2820403</td><td> 0.8516203</td><td> 0.4597432</td><td> 1.0000000</td><td> 0.4830048</td></tr>\n",
       "\t<tr><th scope=row>bodywt</th><td>-0.6035842</td><td>-0.4089389</td><td> 0.4343020</td><td> 0.6035842</td><td> 0.4830048</td><td> 1.0000000</td></tr>\n",
       "</tbody>\n",
       "</table>\n"
      ],
      "text/latex": [
       "A matrix: 6 x 6 of type dbl\n",
       "\\begin{tabular}{r|llllll}\n",
       "  & sleep\\_total & sleep\\_rem & sleep\\_cycle & awake & brainwt & bodywt\\\\\n",
       "\\hline\n",
       "\tsleep\\_total &  1.0000000 &  0.6618840 & -0.5159194 & -1.0000000 & -0.4597432 & -0.6035842\\\\\n",
       "\tsleep\\_rem &  0.6618840 &  1.0000000 & -0.3522936 & -0.6618840 & -0.2820403 & -0.4089389\\\\\n",
       "\tsleep\\_cycle & -0.5159194 & -0.3522936 &  1.0000000 &  0.5159194 &  0.8516203 &  0.4343020\\\\\n",
       "\tawake & -1.0000000 & -0.6618840 &  0.5159194 &  1.0000000 &  0.4597432 &  0.6035842\\\\\n",
       "\tbrainwt & -0.4597432 & -0.2820403 &  0.8516203 &  0.4597432 &  1.0000000 &  0.4830048\\\\\n",
       "\tbodywt & -0.6035842 & -0.4089389 &  0.4343020 &  0.6035842 &  0.4830048 &  1.0000000\\\\\n",
       "\\end{tabular}\n"
      ],
      "text/markdown": [
       "\n",
       "A matrix: 6 x 6 of type dbl\n",
       "\n",
       "| <!--/--> | sleep_total | sleep_rem | sleep_cycle | awake | brainwt | bodywt |\n",
       "|---|---|---|---|---|---|---|\n",
       "| sleep_total |  1.0000000 |  0.6618840 | -0.5159194 | -1.0000000 | -0.4597432 | -0.6035842 |\n",
       "| sleep_rem |  0.6618840 |  1.0000000 | -0.3522936 | -0.6618840 | -0.2820403 | -0.4089389 |\n",
       "| sleep_cycle | -0.5159194 | -0.3522936 |  1.0000000 |  0.5159194 |  0.8516203 |  0.4343020 |\n",
       "| awake | -1.0000000 | -0.6618840 |  0.5159194 |  1.0000000 |  0.4597432 |  0.6035842 |\n",
       "| brainwt | -0.4597432 | -0.2820403 |  0.8516203 |  0.4597432 |  1.0000000 |  0.4830048 |\n",
       "| bodywt | -0.6035842 | -0.4089389 |  0.4343020 |  0.6035842 |  0.4830048 |  1.0000000 |\n",
       "\n"
      ],
      "text/plain": [
       "            sleep_total sleep_rem  sleep_cycle awake      brainwt    bodywt    \n",
       "sleep_total  1.0000000   0.6618840 -0.5159194  -1.0000000 -0.4597432 -0.6035842\n",
       "sleep_rem    0.6618840   1.0000000 -0.3522936  -0.6618840 -0.2820403 -0.4089389\n",
       "sleep_cycle -0.5159194  -0.3522936  1.0000000   0.5159194  0.8516203  0.4343020\n",
       "awake       -1.0000000  -0.6618840  0.5159194   1.0000000  0.4597432  0.6035842\n",
       "brainwt     -0.4597432  -0.2820403  0.8516203   0.4597432  1.0000000  0.4830048\n",
       "bodywt      -0.6035842  -0.4089389  0.4343020   0.6035842  0.4830048  1.0000000"
      ]
     },
     "metadata": {},
     "output_type": "display_data"
    }
   ],
   "source": [
    "cor_matrix <- cor(data)\n",
    "cor_matrix"
   ]
  },
  {
   "cell_type": "code",
   "execution_count": 77,
   "id": "1dcd467f-86cf-4870-80ec-f34761a00f67",
   "metadata": {},
   "outputs": [
    {
     "data": {
      "image/png": "[encoded data removed]",
      "text/plain": [
       "plot without title"
      ]
     },
     "metadata": {
      "image/png": {
       "height": 420,
       "width": 420
      }
     },
     "output_type": "display_data"
    }
   ],
   "source": [
    "pairs(data, upper.panel = NULL)"
   ]
  },
  {
   "cell_type": "code",
   "execution_count": 79,
   "id": "74e6de79-f4e4-4ede-b39c-7ce9c349874e",
   "metadata": {},
   "outputs": [
    {
     "name": "stdout",
     "output_type": "stream",
     "text": [
      "package 'reshape2' successfully unpacked and MD5 sums checked\n",
      "\n",
      "The downloaded binary packages are in\n",
      "\tC:\\Users\\User\\AppData\\Local\\Temp\\RtmpI5yt5x\\downloaded_packages\n"
     ]
    }
   ],
   "source": [
    "install.packages(\"reshape2\")"
   ]
  },
  {
   "cell_type": "code",
   "execution_count": 80,
   "id": "8bdc1d95-47cb-45e7-8236-39fca5961946",
   "metadata": {},
   "outputs": [],
   "source": [
    "library(reshape2)"
   ]
  },
  {
   "cell_type": "code",
   "execution_count": 82,
   "id": "116179fd-48e3-4f2f-b9b6-d54486e951e3",
   "metadata": {},
   "outputs": [
    {
     "data": {
      "image/png": "[encoded data removed]",
      "text/plain": [
       "plot without title"
      ]
     },
     "metadata": {
      "image/png": {
       "height": 420,
       "width": 420
      }
     },
     "output_type": "display_data"
    }
   ],
   "source": [
    "ggplot(subset(melt(cor_matrix), lower.tri(cor_matrix)), \n",
    "       aes(x = Var1, y = Var2, fill = value)) +\n",
    "  geom_tile(color = \"white\") +\n",
    "  scale_fill_gradient2(low = \"red\", mid = \"white\", high = \"navy\", midpoint = 0) +\n",
    "  theme_minimal() +\n",
    "  theme(axis.text.x = element_text(angle = 45, vjust = 1, hjust = 1)) +\n",
    "  labs(title = \"Heatmap for Correlation Matrix\", x = \"\", y = \"\") +\n",
    "          geom_text(aes(label = round(value, 2)), color = \"black\", size = 5)"
   ]
  }
 ],
 "metadata": {
  "kernelspec": {
   "display_name": "R",
   "language": "R",
   "name": "ir"
  },
  "language_info": {
   "codemirror_mode": "r",
   "file_extension": ".r",
   "mimetype": "text/x-r-source",
   "name": "R",
   "pygments_lexer": "r",
   "version": "4.1.3"
  }
 },
 "nbformat": 4,
 "nbformat_minor": 5
}
