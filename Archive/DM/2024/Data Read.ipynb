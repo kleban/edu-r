{
 "cells": [
  {
   "cell_type": "markdown",
   "id": "42c5e1aa-8e20-424f-9086-1ec24dc8dfa7",
   "metadata": {},
   "source": [
    "Data Read"
   ]
  },
  {
   "cell_type": "code",
   "execution_count": 2,
   "id": "a28c1a24-c616-43a2-ad9e-f93c2c388326",
   "metadata": {},
   "outputs": [
    {
     "name": "stdout",
     "output_type": "stream",
     "text": [
      "package 'openxlsx' successfully unpacked and MD5 sums checked\n",
      "\n",
      "The downloaded binary packages are in\n",
      "\tG:\\Temp\\Rtmpk3nySC\\downloaded_packages\n"
     ]
    }
   ],
   "source": [
    "#install.packages(\"openxlsx\")"
   ]
  },
  {
   "cell_type": "code",
   "execution_count": 3,
   "id": "18ebcc7a-1c01-4d06-be86-e66e50b2c4a7",
   "metadata": {},
   "outputs": [],
   "source": [
    "library(openxlsx)"
   ]
  },
  {
   "cell_type": "code",
   "execution_count": 4,
   "id": "85c185c6-e429-454a-8489-377b4c67bb7c",
   "metadata": {},
   "outputs": [],
   "source": [
    "data <- read.xlsx(\"data/kn1.xlsx\",  sheet = 1)"
   ]
  },
  {
   "cell_type": "code",
   "execution_count": 5,
   "id": "0e16f5c1-bd0a-4f14-95b7-cd4d170f4d64",
   "metadata": {},
   "outputs": [
    {
     "data": {
      "text/html": [
       "<table class=\"dataframe\">\n",
       "<caption>A data.frame: 6 x 4</caption>\n",
       "<thead>\n",
       "\t<tr><th></th><th scope=col>N</th><th scope=col>Name</th><th scope=col>Group</th><th scope=col>Email</th></tr>\n",
       "\t<tr><th></th><th scope=col>&lt;dbl&gt;</th><th scope=col>&lt;chr&gt;</th><th scope=col>&lt;dbl&gt;</th><th scope=col>&lt;chr&gt;</th></tr>\n",
       "</thead>\n",
       "<tbody>\n",
       "\t<tr><th scope=row>1</th><td>1</td><td>Андрощук Роман Вікторович </td><td>1</td><td>roman.androshchuk@oa.edu.ua  </td></tr>\n",
       "\t<tr><th scope=row>2</th><td>2</td><td>Башмаков Богдан Олегович  </td><td>1</td><td>bohdan.bashmakov@oa.edu.ua   </td></tr>\n",
       "\t<tr><th scope=row>3</th><td>3</td><td>Боженко Анастасія Ігорівна</td><td>1</td><td>anastasiia.bozhenko@oa.edu.ua</td></tr>\n",
       "\t<tr><th scope=row>4</th><td>4</td><td>Власенко Андрій Максимович</td><td>1</td><td>andrii.vlasenko@oa.edu.ua    </td></tr>\n",
       "\t<tr><th scope=row>5</th><td>5</td><td>Войтюк Назарій Васильович </td><td>1</td><td>nazarii.voitiuk@oa.edu.ua    </td></tr>\n",
       "\t<tr><th scope=row>6</th><td>6</td><td>Воробей Юрій Вікторович   </td><td>1</td><td>yurii.vorobei@oa.edu.ua      </td></tr>\n",
       "</tbody>\n",
       "</table>\n"
      ],
      "text/latex": [
       "A data.frame: 6 x 4\n",
       "\\begin{tabular}{r|llll}\n",
       "  & N & Name & Group & Email\\\\\n",
       "  & <dbl> & <chr> & <dbl> & <chr>\\\\\n",
       "\\hline\n",
       "\t1 & 1 & Андрощук Роман Вікторович  & 1 & roman.androshchuk@oa.edu.ua  \\\\\n",
       "\t2 & 2 & Башмаков Богдан Олегович   & 1 & bohdan.bashmakov@oa.edu.ua   \\\\\n",
       "\t3 & 3 & Боженко Анастасія Ігорівна & 1 & anastasiia.bozhenko@oa.edu.ua\\\\\n",
       "\t4 & 4 & Власенко Андрій Максимович & 1 & andrii.vlasenko@oa.edu.ua    \\\\\n",
       "\t5 & 5 & Войтюк Назарій Васильович  & 1 & nazarii.voitiuk@oa.edu.ua    \\\\\n",
       "\t6 & 6 & Воробей Юрій Вікторович    & 1 & yurii.vorobei@oa.edu.ua      \\\\\n",
       "\\end{tabular}\n"
      ],
      "text/markdown": [
       "\n",
       "A data.frame: 6 x 4\n",
       "\n",
       "| <!--/--> | N &lt;dbl&gt; | Name &lt;chr&gt; | Group &lt;dbl&gt; | Email &lt;chr&gt; |\n",
       "|---|---|---|---|---|\n",
       "| 1 | 1 | Андрощук Роман Вікторович  | 1 | roman.androshchuk@oa.edu.ua   |\n",
       "| 2 | 2 | Башмаков Богдан Олегович   | 1 | bohdan.bashmakov@oa.edu.ua    |\n",
       "| 3 | 3 | Боженко Анастасія Ігорівна | 1 | anastasiia.bozhenko@oa.edu.ua |\n",
       "| 4 | 4 | Власенко Андрій Максимович | 1 | andrii.vlasenko@oa.edu.ua     |\n",
       "| 5 | 5 | Войтюк Назарій Васильович  | 1 | nazarii.voitiuk@oa.edu.ua     |\n",
       "| 6 | 6 | Воробей Юрій Вікторович    | 1 | yurii.vorobei@oa.edu.ua       |\n",
       "\n"
      ],
      "text/plain": [
       "  N Name                       Group Email                        \n",
       "1 1 Андрощук Роман Вікторович  1     roman.androshchuk@oa.edu.ua  \n",
       "2 2 Башмаков Богдан Олегович   1     bohdan.bashmakov@oa.edu.ua   \n",
       "3 3 Боженко Анастасія Ігорівна 1     anastasiia.bozhenko@oa.edu.ua\n",
       "4 4 Власенко Андрій Максимович 1     andrii.vlasenko@oa.edu.ua    \n",
       "5 5 Войтюк Назарій Васильович  1     nazarii.voitiuk@oa.edu.ua    \n",
       "6 6 Воробей Юрій Вікторович    1     yurii.vorobei@oa.edu.ua      "
      ]
     },
     "metadata": {},
     "output_type": "display_data"
    }
   ],
   "source": [
    "head(data)"
   ]
  },
  {
   "cell_type": "code",
   "execution_count": 16,
   "id": "11fe3838-8174-4060-81d1-da1a31c0d4c7",
   "metadata": {},
   "outputs": [
    {
     "data": {
      "text/html": [
       "<style>\n",
       ".list-inline {list-style: none; margin:0; padding: 0}\n",
       ".list-inline>li {display: inline-block}\n",
       ".list-inline>li:not(:last-child)::after {content: \"\\00b7\"; padding: 0 .5ex}\n",
       "</style>\n",
       "<ol class=list-inline><li>'КН11'</li><li>'КН11'</li><li>'КН11'</li><li>'КН11'</li><li>'КН11'</li><li>'КН11'</li><li>'КН11'</li><li>'КН11'</li><li>'КН11'</li><li>'КН11'</li><li>'КН11'</li><li>'КН12'</li><li>'КН12'</li><li>'КН12'</li><li>'КН12'</li><li>'КН12'</li><li>'КН12'</li><li>'КН12'</li><li>'КН12'</li><li>'КН12'</li><li>'КН12'</li><li>'КН12'</li></ol>\n"
      ],
      "text/latex": [
       "\\begin{enumerate*}\n",
       "\\item 'КН11'\n",
       "\\item 'КН11'\n",
       "\\item 'КН11'\n",
       "\\item 'КН11'\n",
       "\\item 'КН11'\n",
       "\\item 'КН11'\n",
       "\\item 'КН11'\n",
       "\\item 'КН11'\n",
       "\\item 'КН11'\n",
       "\\item 'КН11'\n",
       "\\item 'КН11'\n",
       "\\item 'КН12'\n",
       "\\item 'КН12'\n",
       "\\item 'КН12'\n",
       "\\item 'КН12'\n",
       "\\item 'КН12'\n",
       "\\item 'КН12'\n",
       "\\item 'КН12'\n",
       "\\item 'КН12'\n",
       "\\item 'КН12'\n",
       "\\item 'КН12'\n",
       "\\item 'КН12'\n",
       "\\end{enumerate*}\n"
      ],
      "text/markdown": [
       "1. 'КН11'\n",
       "2. 'КН11'\n",
       "3. 'КН11'\n",
       "4. 'КН11'\n",
       "5. 'КН11'\n",
       "6. 'КН11'\n",
       "7. 'КН11'\n",
       "8. 'КН11'\n",
       "9. 'КН11'\n",
       "10. 'КН11'\n",
       "11. 'КН11'\n",
       "12. 'КН12'\n",
       "13. 'КН12'\n",
       "14. 'КН12'\n",
       "15. 'КН12'\n",
       "16. 'КН12'\n",
       "17. 'КН12'\n",
       "18. 'КН12'\n",
       "19. 'КН12'\n",
       "20. 'КН12'\n",
       "21. 'КН12'\n",
       "22. 'КН12'\n",
       "\n",
       "\n"
      ],
      "text/plain": [
       " [1] \"КН11\" \"КН11\" \"КН11\" \"КН11\" \"КН11\" \"КН11\" \"КН11\" \"КН11\" \"КН11\" \"КН11\"\n",
       "[11] \"КН11\" \"КН12\" \"КН12\" \"КН12\" \"КН12\" \"КН12\" \"КН12\" \"КН12\" \"КН12\" \"КН12\"\n",
       "[21] \"КН12\" \"КН12\""
      ]
     },
     "metadata": {},
     "output_type": "display_data"
    }
   ],
   "source": []
  },
  {
   "cell_type": "code",
   "execution_count": 21,
   "id": "34fa4b45-d26b-436a-9b02-827aa5bb4918",
   "metadata": {},
   "outputs": [],
   "source": [
    "data$Group <- paste(\"КН1\", data$Group, sep = \"\")"
   ]
  },
  {
   "cell_type": "code",
   "execution_count": 26,
   "id": "330657d3-df85-4fbc-a56a-b61690cbacd2",
   "metadata": {},
   "outputs": [
    {
     "data": {
      "text/html": [
       "<table class=\"dataframe\">\n",
       "<caption>A data.frame: 6 x 4</caption>\n",
       "<thead>\n",
       "\t<tr><th></th><th scope=col>N</th><th scope=col>Name</th><th scope=col>Group</th><th scope=col>Email</th></tr>\n",
       "\t<tr><th></th><th scope=col>&lt;dbl&gt;</th><th scope=col>&lt;chr&gt;</th><th scope=col>&lt;chr&gt;</th><th scope=col>&lt;chr&gt;</th></tr>\n",
       "</thead>\n",
       "<tbody>\n",
       "\t<tr><th scope=row>1</th><td>1</td><td>Андрощук Роман Вікторович </td><td>КН11</td><td>roman.androshchuk@oa.edu.ua  </td></tr>\n",
       "\t<tr><th scope=row>2</th><td>2</td><td>Башмаков Богдан Олегович  </td><td>КН11</td><td>bohdan.bashmakov@oa.edu.ua   </td></tr>\n",
       "\t<tr><th scope=row>3</th><td>3</td><td>Боженко Анастасія Ігорівна</td><td>КН11</td><td>anastasiia.bozhenko@oa.edu.ua</td></tr>\n",
       "\t<tr><th scope=row>4</th><td>4</td><td>Власенко Андрій Максимович</td><td>КН11</td><td>andrii.vlasenko@oa.edu.ua    </td></tr>\n",
       "\t<tr><th scope=row>5</th><td>5</td><td>Войтюк Назарій Васильович </td><td>КН11</td><td>nazarii.voitiuk@oa.edu.ua    </td></tr>\n",
       "\t<tr><th scope=row>6</th><td>6</td><td>Воробей Юрій Вікторович   </td><td>КН11</td><td>yurii.vorobei@oa.edu.ua      </td></tr>\n",
       "</tbody>\n",
       "</table>\n"
      ],
      "text/latex": [
       "A data.frame: 6 x 4\n",
       "\\begin{tabular}{r|llll}\n",
       "  & N & Name & Group & Email\\\\\n",
       "  & <dbl> & <chr> & <chr> & <chr>\\\\\n",
       "\\hline\n",
       "\t1 & 1 & Андрощук Роман Вікторович  & КН11 & roman.androshchuk@oa.edu.ua  \\\\\n",
       "\t2 & 2 & Башмаков Богдан Олегович   & КН11 & bohdan.bashmakov@oa.edu.ua   \\\\\n",
       "\t3 & 3 & Боженко Анастасія Ігорівна & КН11 & anastasiia.bozhenko@oa.edu.ua\\\\\n",
       "\t4 & 4 & Власенко Андрій Максимович & КН11 & andrii.vlasenko@oa.edu.ua    \\\\\n",
       "\t5 & 5 & Войтюк Назарій Васильович  & КН11 & nazarii.voitiuk@oa.edu.ua    \\\\\n",
       "\t6 & 6 & Воробей Юрій Вікторович    & КН11 & yurii.vorobei@oa.edu.ua      \\\\\n",
       "\\end{tabular}\n"
      ],
      "text/markdown": [
       "\n",
       "A data.frame: 6 x 4\n",
       "\n",
       "| <!--/--> | N &lt;dbl&gt; | Name &lt;chr&gt; | Group &lt;chr&gt; | Email &lt;chr&gt; |\n",
       "|---|---|---|---|---|\n",
       "| 1 | 1 | Андрощук Роман Вікторович  | КН11 | roman.androshchuk@oa.edu.ua   |\n",
       "| 2 | 2 | Башмаков Богдан Олегович   | КН11 | bohdan.bashmakov@oa.edu.ua    |\n",
       "| 3 | 3 | Боженко Анастасія Ігорівна | КН11 | anastasiia.bozhenko@oa.edu.ua |\n",
       "| 4 | 4 | Власенко Андрій Максимович | КН11 | andrii.vlasenko@oa.edu.ua     |\n",
       "| 5 | 5 | Войтюк Назарій Васильович  | КН11 | nazarii.voitiuk@oa.edu.ua     |\n",
       "| 6 | 6 | Воробей Юрій Вікторович    | КН11 | yurii.vorobei@oa.edu.ua       |\n",
       "\n"
      ],
      "text/plain": [
       "  N Name                       Group Email                        \n",
       "1 1 Андрощук Роман Вікторович  КН11  roman.androshchuk@oa.edu.ua  \n",
       "2 2 Башмаков Богдан Олегович   КН11  bohdan.bashmakov@oa.edu.ua   \n",
       "3 3 Боженко Анастасія Ігорівна КН11  anastasiia.bozhenko@oa.edu.ua\n",
       "4 4 Власенко Андрій Максимович КН11  andrii.vlasenko@oa.edu.ua    \n",
       "5 5 Войтюк Назарій Васильович  КН11  nazarii.voitiuk@oa.edu.ua    \n",
       "6 6 Воробей Юрій Вікторович    КН11  yurii.vorobei@oa.edu.ua      "
      ]
     },
     "metadata": {},
     "output_type": "display_data"
    }
   ],
   "source": [
    "head(data)"
   ]
  },
  {
   "cell_type": "code",
   "execution_count": null,
   "id": "9cf397ed-8b20-49df-a18d-e0b6f688b0ce",
   "metadata": {},
   "outputs": [],
   "source": []
  },
  {
   "cell_type": "code",
   "execution_count": 27,
   "id": "95e89486-9fbc-4122-92c4-f5669d6fe1ee",
   "metadata": {},
   "outputs": [],
   "source": [
    "write.xlsx(data, \"data/kn1_new.xlsx\", colNames = TRUE)"
   ]
  },
  {
   "cell_type": "markdown",
   "id": "8a0eba57-0b69-4a50-92ed-38e1c17a2f8e",
   "metadata": {},
   "source": [
    "## XML"
   ]
  },
  {
   "cell_type": "code",
   "execution_count": 28,
   "id": "3a24e8d5-d58a-40c7-96f4-7b1150054006",
   "metadata": {},
   "outputs": [],
   "source": [
    "xml_path <- \"data/workers.xml\""
   ]
  },
  {
   "cell_type": "code",
   "execution_count": 31,
   "id": "19c2792a-8d13-4845-b292-c9cc683ed469",
   "metadata": {},
   "outputs": [],
   "source": [
    "#install.packages(\"XML\")\n",
    "#install.packages(\"methods\")"
   ]
  },
  {
   "cell_type": "code",
   "execution_count": 32,
   "id": "c208e6a6-6604-4ded-8580-82a01f33c4f3",
   "metadata": {},
   "outputs": [],
   "source": [
    "library(\"XML\")\n",
    "library(\"methods\")"
   ]
  },
  {
   "cell_type": "code",
   "execution_count": 35,
   "id": "745f6de2-6185-4da2-84b9-0106d1b54ff6",
   "metadata": {},
   "outputs": [
    {
     "name": "stdout",
     "output_type": "stream",
     "text": [
      "<?xml version=\"1.0\"?>\n",
      "<RECORDS>\n",
      "  <EMPLOYEE>\n",
      "    <ID>1</ID>\n",
      "    <NAME>Rick</NAME>\n",
      "    <SALARY>623.3</SALARY>\n",
      "    <STARTDATE>1/1/2012</STARTDATE>\n",
      "    <DEPT>IT</DEPT>\n",
      "  </EMPLOYEE>\n",
      "  <EMPLOYEE>\n",
      "    <ID>2</ID>\n",
      "    <NAME>Dan</NAME>\n",
      "    <SALARY>515.2</SALARY>\n",
      "    <STARTDATE>9/23/2013</STARTDATE>\n",
      "    <DEPT>Operations</DEPT>\n",
      "  </EMPLOYEE>\n",
      "  <EMPLOYEE>\n",
      "    <ID>3</ID>\n",
      "    <NAME>Michelle</NAME>\n",
      "    <SALARY>611</SALARY>\n",
      "    <STARTDATE>11/15/2014</STARTDATE>\n",
      "    <DEPT>IT</DEPT>\n",
      "  </EMPLOYEE>\n",
      "  <EMPLOYEE>\n",
      "    <ID>4</ID>\n",
      "    <NAME>Ryan</NAME>\n",
      "    <SALARY>729</SALARY>\n",
      "    <STARTDATE>5/11/2014</STARTDATE>\n",
      "    <DEPT>HR</DEPT>\n",
      "  </EMPLOYEE>\n",
      "  <EMPLOYEE>\n",
      "    <ID>5</ID>\n",
      "    <NAME>Gary</NAME>\n",
      "    <SALARY>843.25</SALARY>\n",
      "    <STARTDATE>3/27/2015</STARTDATE>\n",
      "    <DEPT>Finance</DEPT>\n",
      "  </EMPLOYEE>\n",
      "  <EMPLOYEE>\n",
      "    <ID>6</ID>\n",
      "    <NAME>Nina</NAME>\n",
      "    <SALARY>578</SALARY>\n",
      "    <STARTDATE>5/21/2013</STARTDATE>\n",
      "    <DEPT>IT</DEPT>\n",
      "  </EMPLOYEE>\n",
      "  <EMPLOYEE>\n",
      "    <ID>7</ID>\n",
      "    <NAME>Simon</NAME>\n",
      "    <SALARY>632.8</SALARY>\n",
      "    <STARTDATE>7/30/2013</STARTDATE>\n",
      "    <DEPT>Operations</DEPT>\n",
      "  </EMPLOYEE>\n",
      "  <EMPLOYEE>\n",
      "    <ID>8</ID>\n",
      "    <NAME>Guru</NAME>\n",
      "    <SALARY>722.5</SALARY>\n",
      "    <STARTDATE>6/17/2014</STARTDATE>\n",
      "    <DEPT>Finance</DEPT>\n",
      "  </EMPLOYEE>\n",
      "</RECORDS>\n",
      " \n"
     ]
    }
   ],
   "source": [
    "result <- xmlParse(file = xml_path)\n",
    "print(result)"
   ]
  },
  {
   "cell_type": "code",
   "execution_count": 38,
   "id": "e54ffd99-10ee-49e7-b411-8c728b294f6b",
   "metadata": {},
   "outputs": [
    {
     "data": {
      "text/plain": [
       "<EMPLOYEE>\n",
       "  <ID>2</ID>\n",
       "  <NAME>Dan</NAME>\n",
       "  <SALARY>515.2</SALARY>\n",
       "  <STARTDATE>9/23/2013</STARTDATE>\n",
       "  <DEPT>Operations</DEPT>\n",
       "</EMPLOYEE> "
      ]
     },
     "metadata": {},
     "output_type": "display_data"
    }
   ],
   "source": [
    "rootnode <- xmlRoot(result) # reading rootnode of xml document\n",
    "rootnode[[2]]"
   ]
  },
  {
   "cell_type": "code",
   "execution_count": 42,
   "id": "7fcdbb7d-617a-4eaf-9b72-757b50bfcc5d",
   "metadata": {},
   "outputs": [
    {
     "data": {
      "text/html": [
       "<table class=\"dataframe\">\n",
       "<caption>A data.frame: 8 x 5</caption>\n",
       "<thead>\n",
       "\t<tr><th scope=col>ID</th><th scope=col>NAME</th><th scope=col>SALARY</th><th scope=col>STARTDATE</th><th scope=col>DEPT</th></tr>\n",
       "\t<tr><th scope=col>&lt;chr&gt;</th><th scope=col>&lt;chr&gt;</th><th scope=col>&lt;chr&gt;</th><th scope=col>&lt;chr&gt;</th><th scope=col>&lt;chr&gt;</th></tr>\n",
       "</thead>\n",
       "<tbody>\n",
       "\t<tr><td>1</td><td>Rick    </td><td>623.3 </td><td>1/1/2012  </td><td>IT        </td></tr>\n",
       "\t<tr><td>2</td><td>Dan     </td><td>515.2 </td><td>9/23/2013 </td><td>Operations</td></tr>\n",
       "\t<tr><td>3</td><td>Michelle</td><td>611   </td><td>11/15/2014</td><td>IT        </td></tr>\n",
       "\t<tr><td>4</td><td>Ryan    </td><td>729   </td><td>5/11/2014 </td><td>HR        </td></tr>\n",
       "\t<tr><td>5</td><td>Gary    </td><td>843.25</td><td>3/27/2015 </td><td>Finance   </td></tr>\n",
       "\t<tr><td>6</td><td>Nina    </td><td>578   </td><td>5/21/2013 </td><td>IT        </td></tr>\n",
       "\t<tr><td>7</td><td>Simon   </td><td>632.8 </td><td>7/30/2013 </td><td>Operations</td></tr>\n",
       "\t<tr><td>8</td><td>Guru    </td><td>722.5 </td><td>6/17/2014 </td><td>Finance   </td></tr>\n",
       "</tbody>\n",
       "</table>\n"
      ],
      "text/latex": [
       "A data.frame: 8 x 5\n",
       "\\begin{tabular}{lllll}\n",
       " ID & NAME & SALARY & STARTDATE & DEPT\\\\\n",
       " <chr> & <chr> & <chr> & <chr> & <chr>\\\\\n",
       "\\hline\n",
       "\t 1 & Rick     & 623.3  & 1/1/2012   & IT        \\\\\n",
       "\t 2 & Dan      & 515.2  & 9/23/2013  & Operations\\\\\n",
       "\t 3 & Michelle & 611    & 11/15/2014 & IT        \\\\\n",
       "\t 4 & Ryan     & 729    & 5/11/2014  & HR        \\\\\n",
       "\t 5 & Gary     & 843.25 & 3/27/2015  & Finance   \\\\\n",
       "\t 6 & Nina     & 578    & 5/21/2013  & IT        \\\\\n",
       "\t 7 & Simon    & 632.8  & 7/30/2013  & Operations\\\\\n",
       "\t 8 & Guru     & 722.5  & 6/17/2014  & Finance   \\\\\n",
       "\\end{tabular}\n"
      ],
      "text/markdown": [
       "\n",
       "A data.frame: 8 x 5\n",
       "\n",
       "| ID &lt;chr&gt; | NAME &lt;chr&gt; | SALARY &lt;chr&gt; | STARTDATE &lt;chr&gt; | DEPT &lt;chr&gt; |\n",
       "|---|---|---|---|---|\n",
       "| 1 | Rick     | 623.3  | 1/1/2012   | IT         |\n",
       "| 2 | Dan      | 515.2  | 9/23/2013  | Operations |\n",
       "| 3 | Michelle | 611    | 11/15/2014 | IT         |\n",
       "| 4 | Ryan     | 729    | 5/11/2014  | HR         |\n",
       "| 5 | Gary     | 843.25 | 3/27/2015  | Finance    |\n",
       "| 6 | Nina     | 578    | 5/21/2013  | IT         |\n",
       "| 7 | Simon    | 632.8  | 7/30/2013  | Operations |\n",
       "| 8 | Guru     | 722.5  | 6/17/2014  | Finance    |\n",
       "\n"
      ],
      "text/plain": [
       "  ID NAME     SALARY STARTDATE  DEPT      \n",
       "1 1  Rick     623.3  1/1/2012   IT        \n",
       "2 2  Dan      515.2  9/23/2013  Operations\n",
       "3 3  Michelle 611    11/15/2014 IT        \n",
       "4 4  Ryan     729    5/11/2014  HR        \n",
       "5 5  Gary     843.25 3/27/2015  Finance   \n",
       "6 6  Nina     578    5/21/2013  IT        \n",
       "7 7  Simon    632.8  7/30/2013  Operations\n",
       "8 8  Guru     722.5  6/17/2014  Finance   "
      ]
     },
     "metadata": {},
     "output_type": "display_data"
    }
   ],
   "source": [
    "data <- xmlToDataFrame(xml_path)\n",
    "data"
   ]
  },
  {
   "cell_type": "code",
   "execution_count": 44,
   "id": "4d59c929-0fa0-4d0c-b7e3-dee548d68bb8",
   "metadata": {},
   "outputs": [],
   "source": [
    "data$SALARY <- as.numeric(data$SALARY)"
   ]
  },
  {
   "cell_type": "code",
   "execution_count": 45,
   "id": "4ef179a2-58c8-4249-b81e-6cb4cbe5eb2c",
   "metadata": {},
   "outputs": [
    {
     "data": {
      "text/html": [
       "<table class=\"dataframe\">\n",
       "<caption>A data.frame: 6 x 5</caption>\n",
       "<thead>\n",
       "\t<tr><th></th><th scope=col>ID</th><th scope=col>NAME</th><th scope=col>SALARY</th><th scope=col>STARTDATE</th><th scope=col>DEPT</th></tr>\n",
       "\t<tr><th></th><th scope=col>&lt;chr&gt;</th><th scope=col>&lt;chr&gt;</th><th scope=col>&lt;dbl&gt;</th><th scope=col>&lt;chr&gt;</th><th scope=col>&lt;chr&gt;</th></tr>\n",
       "</thead>\n",
       "<tbody>\n",
       "\t<tr><th scope=row>1</th><td>1</td><td>Rick    </td><td>623.30</td><td>1/1/2012  </td><td>IT        </td></tr>\n",
       "\t<tr><th scope=row>2</th><td>2</td><td>Dan     </td><td>515.20</td><td>9/23/2013 </td><td>Operations</td></tr>\n",
       "\t<tr><th scope=row>3</th><td>3</td><td>Michelle</td><td>611.00</td><td>11/15/2014</td><td>IT        </td></tr>\n",
       "\t<tr><th scope=row>4</th><td>4</td><td>Ryan    </td><td>729.00</td><td>5/11/2014 </td><td>HR        </td></tr>\n",
       "\t<tr><th scope=row>5</th><td>5</td><td>Gary    </td><td>843.25</td><td>3/27/2015 </td><td>Finance   </td></tr>\n",
       "\t<tr><th scope=row>6</th><td>6</td><td>Nina    </td><td>578.00</td><td>5/21/2013 </td><td>IT        </td></tr>\n",
       "</tbody>\n",
       "</table>\n"
      ],
      "text/latex": [
       "A data.frame: 6 x 5\n",
       "\\begin{tabular}{r|lllll}\n",
       "  & ID & NAME & SALARY & STARTDATE & DEPT\\\\\n",
       "  & <chr> & <chr> & <dbl> & <chr> & <chr>\\\\\n",
       "\\hline\n",
       "\t1 & 1 & Rick     & 623.30 & 1/1/2012   & IT        \\\\\n",
       "\t2 & 2 & Dan      & 515.20 & 9/23/2013  & Operations\\\\\n",
       "\t3 & 3 & Michelle & 611.00 & 11/15/2014 & IT        \\\\\n",
       "\t4 & 4 & Ryan     & 729.00 & 5/11/2014  & HR        \\\\\n",
       "\t5 & 5 & Gary     & 843.25 & 3/27/2015  & Finance   \\\\\n",
       "\t6 & 6 & Nina     & 578.00 & 5/21/2013  & IT        \\\\\n",
       "\\end{tabular}\n"
      ],
      "text/markdown": [
       "\n",
       "A data.frame: 6 x 5\n",
       "\n",
       "| <!--/--> | ID &lt;chr&gt; | NAME &lt;chr&gt; | SALARY &lt;dbl&gt; | STARTDATE &lt;chr&gt; | DEPT &lt;chr&gt; |\n",
       "|---|---|---|---|---|---|\n",
       "| 1 | 1 | Rick     | 623.30 | 1/1/2012   | IT         |\n",
       "| 2 | 2 | Dan      | 515.20 | 9/23/2013  | Operations |\n",
       "| 3 | 3 | Michelle | 611.00 | 11/15/2014 | IT         |\n",
       "| 4 | 4 | Ryan     | 729.00 | 5/11/2014  | HR         |\n",
       "| 5 | 5 | Gary     | 843.25 | 3/27/2015  | Finance    |\n",
       "| 6 | 6 | Nina     | 578.00 | 5/21/2013  | IT         |\n",
       "\n"
      ],
      "text/plain": [
       "  ID NAME     SALARY STARTDATE  DEPT      \n",
       "1 1  Rick     623.30 1/1/2012   IT        \n",
       "2 2  Dan      515.20 9/23/2013  Operations\n",
       "3 3  Michelle 611.00 11/15/2014 IT        \n",
       "4 4  Ryan     729.00 5/11/2014  HR        \n",
       "5 5  Gary     843.25 3/27/2015  Finance   \n",
       "6 6  Nina     578.00 5/21/2013  IT        "
      ]
     },
     "metadata": {},
     "output_type": "display_data"
    }
   ],
   "source": [
    "head(data)"
   ]
  },
  {
   "cell_type": "markdown",
   "id": "b4729494-d139-462d-b435-f9dfd70d2605",
   "metadata": {},
   "source": [
    "## API demo"
   ]
  },
  {
   "cell_type": "code",
   "execution_count": 48,
   "id": "ff933c6a-af4c-4900-bd9d-a7cb71e03282",
   "metadata": {},
   "outputs": [],
   "source": [
    "# install.packages(\"jsonlite\")"
   ]
  },
  {
   "cell_type": "code",
   "execution_count": 12,
   "id": "f5dcfcd2-547b-4981-b9bb-71deba29742c",
   "metadata": {},
   "outputs": [],
   "source": [
    "library(jsonlite)"
   ]
  },
  {
   "cell_type": "code",
   "execution_count": 13,
   "id": "85a5c645-589b-46a2-88b7-810f121d0a10",
   "metadata": {},
   "outputs": [],
   "source": [
    "# https://api.binance.com/api/v3/klines?symbol="
   ]
  },
  {
   "cell_type": "code",
   "execution_count": 28,
   "id": "a7f6b1fc-85de-46e2-9aff-96a6602a21b0",
   "metadata": {},
   "outputs": [
    {
     "name": "stdout",
     "output_type": "stream",
     "text": [
      "[1] \"https://api.binance.com/api/v3/klines?symbol=BTCUSDT&interval=1d&limit=1000\"\n"
     ]
    }
   ],
   "source": [
    "market = 'BTCUSDT'\n",
    "interval = '1d'\n",
    "limit = 1000\n",
    "\n",
    "url <- paste0(url = \"https://api.binance.com/api/v3/klines?symbol=\", market ,\"&interval=\", interval,\"&limit=\", limit)\n",
    "print(url) "
   ]
  },
  {
   "cell_type": "code",
   "execution_count": 29,
   "id": "584c3396-77bc-4b75-ae94-7d00f3ff9887",
   "metadata": {},
   "outputs": [],
   "source": [
    "data <- fromJSON(url)"
   ]
  },
  {
   "cell_type": "code",
   "execution_count": 30,
   "id": "a653bfdb-be9a-4bc6-ba12-9e2fb612e39d",
   "metadata": {},
   "outputs": [
    {
     "data": {
      "text/html": [
       "<table class=\"dataframe\">\n",
       "<caption>A matrix: 6 x 12 of type chr</caption>\n",
       "<tbody>\n",
       "\t<tr><td>1631318400000</td><td>44842.20000000</td><td>45987.93000000</td><td>44722.22000000</td><td>45173.69000000</td><td>30440.40810000</td><td>1631404799999</td><td>1380370764.01271670</td><td>1060890</td><td>14804.34260000</td><td>671123069.56236850 </td><td>0</td></tr>\n",
       "\t<tr><td>1631404800000</td><td>45173.68000000</td><td>46460.00000000</td><td>44742.06000000</td><td>46025.24000000</td><td>32094.28052000</td><td>1631491199999</td><td>1464780920.21998130</td><td>1179808</td><td>15735.45104000</td><td>718436012.75886560 </td><td>0</td></tr>\n",
       "\t<tr><td>1631491200000</td><td>46025.23000000</td><td>46880.00000000</td><td>43370.00000000</td><td>44940.73000000</td><td>65429.15056000</td><td>1631577599999</td><td>2930668118.26163420</td><td>1703512</td><td>32041.05972000</td><td>1435586958.77986810</td><td>0</td></tr>\n",
       "\t<tr><td>1631577600000</td><td>44940.72000000</td><td>47250.00000000</td><td>44594.44000000</td><td>47111.52000000</td><td>44855.85099000</td><td>1631663999999</td><td>2072259519.06191970</td><td>1210258</td><td>22182.46649000</td><td>1025156547.71891840</td><td>0</td></tr>\n",
       "\t<tr><td>1.631664e+12 </td><td>47103.28000000</td><td>48500.00000000</td><td>46682.32000000</td><td>48121.41000000</td><td>43204.71174000</td><td>1631750399999</td><td>2056996398.84396170</td><td>1176050</td><td>20903.53535000</td><td>995198313.74741110 </td><td>0</td></tr>\n",
       "\t<tr><td>1631750400000</td><td>48121.40000000</td><td>48557.00000000</td><td>47021.10000000</td><td>47737.82000000</td><td>40725.08895000</td><td>1631836799999</td><td>1948447232.91071780</td><td>1176129</td><td>19907.79151000</td><td>952502982.81190170 </td><td>0</td></tr>\n",
       "</tbody>\n",
       "</table>\n"
      ],
      "text/latex": [
       "A matrix: 6 x 12 of type chr\n",
       "\\begin{tabular}{llllllllllll}\n",
       "\t 1631318400000 & 44842.20000000 & 45987.93000000 & 44722.22000000 & 45173.69000000 & 30440.40810000 & 1631404799999 & 1380370764.01271670 & 1060890 & 14804.34260000 & 671123069.56236850  & 0\\\\\n",
       "\t 1631404800000 & 45173.68000000 & 46460.00000000 & 44742.06000000 & 46025.24000000 & 32094.28052000 & 1631491199999 & 1464780920.21998130 & 1179808 & 15735.45104000 & 718436012.75886560  & 0\\\\\n",
       "\t 1631491200000 & 46025.23000000 & 46880.00000000 & 43370.00000000 & 44940.73000000 & 65429.15056000 & 1631577599999 & 2930668118.26163420 & 1703512 & 32041.05972000 & 1435586958.77986810 & 0\\\\\n",
       "\t 1631577600000 & 44940.72000000 & 47250.00000000 & 44594.44000000 & 47111.52000000 & 44855.85099000 & 1631663999999 & 2072259519.06191970 & 1210258 & 22182.46649000 & 1025156547.71891840 & 0\\\\\n",
       "\t 1.631664e+12  & 47103.28000000 & 48500.00000000 & 46682.32000000 & 48121.41000000 & 43204.71174000 & 1631750399999 & 2056996398.84396170 & 1176050 & 20903.53535000 & 995198313.74741110  & 0\\\\\n",
       "\t 1631750400000 & 48121.40000000 & 48557.00000000 & 47021.10000000 & 47737.82000000 & 40725.08895000 & 1631836799999 & 1948447232.91071780 & 1176129 & 19907.79151000 & 952502982.81190170  & 0\\\\\n",
       "\\end{tabular}\n"
      ],
      "text/markdown": [
       "\n",
       "A matrix: 6 x 12 of type chr\n",
       "\n",
       "| 1631318400000 | 44842.20000000 | 45987.93000000 | 44722.22000000 | 45173.69000000 | 30440.40810000 | 1631404799999 | 1380370764.01271670 | 1060890 | 14804.34260000 | 671123069.56236850  | 0 |\n",
       "| 1631404800000 | 45173.68000000 | 46460.00000000 | 44742.06000000 | 46025.24000000 | 32094.28052000 | 1631491199999 | 1464780920.21998130 | 1179808 | 15735.45104000 | 718436012.75886560  | 0 |\n",
       "| 1631491200000 | 46025.23000000 | 46880.00000000 | 43370.00000000 | 44940.73000000 | 65429.15056000 | 1631577599999 | 2930668118.26163420 | 1703512 | 32041.05972000 | 1435586958.77986810 | 0 |\n",
       "| 1631577600000 | 44940.72000000 | 47250.00000000 | 44594.44000000 | 47111.52000000 | 44855.85099000 | 1631663999999 | 2072259519.06191970 | 1210258 | 22182.46649000 | 1025156547.71891840 | 0 |\n",
       "| 1.631664e+12  | 47103.28000000 | 48500.00000000 | 46682.32000000 | 48121.41000000 | 43204.71174000 | 1631750399999 | 2056996398.84396170 | 1176050 | 20903.53535000 | 995198313.74741110  | 0 |\n",
       "| 1631750400000 | 48121.40000000 | 48557.00000000 | 47021.10000000 | 47737.82000000 | 40725.08895000 | 1631836799999 | 1948447232.91071780 | 1176129 | 19907.79151000 | 952502982.81190170  | 0 |\n",
       "\n"
      ],
      "text/plain": [
       "     [,1]          [,2]           [,3]           [,4]           [,5]          \n",
       "[1,] 1631318400000 44842.20000000 45987.93000000 44722.22000000 45173.69000000\n",
       "[2,] 1631404800000 45173.68000000 46460.00000000 44742.06000000 46025.24000000\n",
       "[3,] 1631491200000 46025.23000000 46880.00000000 43370.00000000 44940.73000000\n",
       "[4,] 1631577600000 44940.72000000 47250.00000000 44594.44000000 47111.52000000\n",
       "[5,] 1.631664e+12  47103.28000000 48500.00000000 46682.32000000 48121.41000000\n",
       "[6,] 1631750400000 48121.40000000 48557.00000000 47021.10000000 47737.82000000\n",
       "     [,6]           [,7]          [,8]                [,9]    [,10]         \n",
       "[1,] 30440.40810000 1631404799999 1380370764.01271670 1060890 14804.34260000\n",
       "[2,] 32094.28052000 1631491199999 1464780920.21998130 1179808 15735.45104000\n",
       "[3,] 65429.15056000 1631577599999 2930668118.26163420 1703512 32041.05972000\n",
       "[4,] 44855.85099000 1631663999999 2072259519.06191970 1210258 22182.46649000\n",
       "[5,] 43204.71174000 1631750399999 2056996398.84396170 1176050 20903.53535000\n",
       "[6,] 40725.08895000 1631836799999 1948447232.91071780 1176129 19907.79151000\n",
       "     [,11]               [,12]\n",
       "[1,] 671123069.56236850  0    \n",
       "[2,] 718436012.75886560  0    \n",
       "[3,] 1435586958.77986810 0    \n",
       "[4,] 1025156547.71891840 0    \n",
       "[5,] 995198313.74741110  0    \n",
       "[6,] 952502982.81190170  0    "
      ]
     },
     "metadata": {},
     "output_type": "display_data"
    }
   ],
   "source": [
    "head(data)"
   ]
  },
  {
   "cell_type": "code",
   "execution_count": 31,
   "id": "bd1ea3a0-4008-4a71-a1b3-bee43abe512b",
   "metadata": {},
   "outputs": [
    {
     "data": {
      "text/html": [
       "<table class=\"dataframe\">\n",
       "<caption>A matrix: 6 x 7 of type chr</caption>\n",
       "<tbody>\n",
       "\t<tr><td>1631318400000</td><td>44842.20000000</td><td>45987.93000000</td><td>44722.22000000</td><td>45173.69000000</td><td>30440.40810000</td><td>1631404799999</td></tr>\n",
       "\t<tr><td>1631404800000</td><td>45173.68000000</td><td>46460.00000000</td><td>44742.06000000</td><td>46025.24000000</td><td>32094.28052000</td><td>1631491199999</td></tr>\n",
       "\t<tr><td>1631491200000</td><td>46025.23000000</td><td>46880.00000000</td><td>43370.00000000</td><td>44940.73000000</td><td>65429.15056000</td><td>1631577599999</td></tr>\n",
       "\t<tr><td>1631577600000</td><td>44940.72000000</td><td>47250.00000000</td><td>44594.44000000</td><td>47111.52000000</td><td>44855.85099000</td><td>1631663999999</td></tr>\n",
       "\t<tr><td>1.631664e+12 </td><td>47103.28000000</td><td>48500.00000000</td><td>46682.32000000</td><td>48121.41000000</td><td>43204.71174000</td><td>1631750399999</td></tr>\n",
       "\t<tr><td>1631750400000</td><td>48121.40000000</td><td>48557.00000000</td><td>47021.10000000</td><td>47737.82000000</td><td>40725.08895000</td><td>1631836799999</td></tr>\n",
       "</tbody>\n",
       "</table>\n"
      ],
      "text/latex": [
       "A matrix: 6 x 7 of type chr\n",
       "\\begin{tabular}{lllllll}\n",
       "\t 1631318400000 & 44842.20000000 & 45987.93000000 & 44722.22000000 & 45173.69000000 & 30440.40810000 & 1631404799999\\\\\n",
       "\t 1631404800000 & 45173.68000000 & 46460.00000000 & 44742.06000000 & 46025.24000000 & 32094.28052000 & 1631491199999\\\\\n",
       "\t 1631491200000 & 46025.23000000 & 46880.00000000 & 43370.00000000 & 44940.73000000 & 65429.15056000 & 1631577599999\\\\\n",
       "\t 1631577600000 & 44940.72000000 & 47250.00000000 & 44594.44000000 & 47111.52000000 & 44855.85099000 & 1631663999999\\\\\n",
       "\t 1.631664e+12  & 47103.28000000 & 48500.00000000 & 46682.32000000 & 48121.41000000 & 43204.71174000 & 1631750399999\\\\\n",
       "\t 1631750400000 & 48121.40000000 & 48557.00000000 & 47021.10000000 & 47737.82000000 & 40725.08895000 & 1631836799999\\\\\n",
       "\\end{tabular}\n"
      ],
      "text/markdown": [
       "\n",
       "A matrix: 6 x 7 of type chr\n",
       "\n",
       "| 1631318400000 | 44842.20000000 | 45987.93000000 | 44722.22000000 | 45173.69000000 | 30440.40810000 | 1631404799999 |\n",
       "| 1631404800000 | 45173.68000000 | 46460.00000000 | 44742.06000000 | 46025.24000000 | 32094.28052000 | 1631491199999 |\n",
       "| 1631491200000 | 46025.23000000 | 46880.00000000 | 43370.00000000 | 44940.73000000 | 65429.15056000 | 1631577599999 |\n",
       "| 1631577600000 | 44940.72000000 | 47250.00000000 | 44594.44000000 | 47111.52000000 | 44855.85099000 | 1631663999999 |\n",
       "| 1.631664e+12  | 47103.28000000 | 48500.00000000 | 46682.32000000 | 48121.41000000 | 43204.71174000 | 1631750399999 |\n",
       "| 1631750400000 | 48121.40000000 | 48557.00000000 | 47021.10000000 | 47737.82000000 | 40725.08895000 | 1631836799999 |\n",
       "\n"
      ],
      "text/plain": [
       "     [,1]          [,2]           [,3]           [,4]           [,5]          \n",
       "[1,] 1631318400000 44842.20000000 45987.93000000 44722.22000000 45173.69000000\n",
       "[2,] 1631404800000 45173.68000000 46460.00000000 44742.06000000 46025.24000000\n",
       "[3,] 1631491200000 46025.23000000 46880.00000000 43370.00000000 44940.73000000\n",
       "[4,] 1631577600000 44940.72000000 47250.00000000 44594.44000000 47111.52000000\n",
       "[5,] 1.631664e+12  47103.28000000 48500.00000000 46682.32000000 48121.41000000\n",
       "[6,] 1631750400000 48121.40000000 48557.00000000 47021.10000000 47737.82000000\n",
       "     [,6]           [,7]         \n",
       "[1,] 30440.40810000 1631404799999\n",
       "[2,] 32094.28052000 1631491199999\n",
       "[3,] 65429.15056000 1631577599999\n",
       "[4,] 44855.85099000 1631663999999\n",
       "[5,] 43204.71174000 1631750399999\n",
       "[6,] 40725.08895000 1631836799999"
      ]
     },
     "metadata": {},
     "output_type": "display_data"
    }
   ],
   "source": [
    "data <- data[, 1:7]\n",
    "head(data)"
   ]
  },
  {
   "cell_type": "code",
   "execution_count": 32,
   "id": "2fe8c6c0-464f-4b53-ae1f-804b6dd39bfc",
   "metadata": {},
   "outputs": [
    {
     "data": {
      "text/html": [
       "<table class=\"dataframe\">\n",
       "<caption>A data.frame: 6 x 7</caption>\n",
       "<thead>\n",
       "\t<tr><th></th><th scope=col>V1</th><th scope=col>V2</th><th scope=col>V3</th><th scope=col>V4</th><th scope=col>V5</th><th scope=col>V6</th><th scope=col>V7</th></tr>\n",
       "\t<tr><th></th><th scope=col>&lt;chr&gt;</th><th scope=col>&lt;chr&gt;</th><th scope=col>&lt;chr&gt;</th><th scope=col>&lt;chr&gt;</th><th scope=col>&lt;chr&gt;</th><th scope=col>&lt;chr&gt;</th><th scope=col>&lt;chr&gt;</th></tr>\n",
       "</thead>\n",
       "<tbody>\n",
       "\t<tr><th scope=row>1</th><td>1631318400000</td><td>44842.20000000</td><td>45987.93000000</td><td>44722.22000000</td><td>45173.69000000</td><td>30440.40810000</td><td>1631404799999</td></tr>\n",
       "\t<tr><th scope=row>2</th><td>1631404800000</td><td>45173.68000000</td><td>46460.00000000</td><td>44742.06000000</td><td>46025.24000000</td><td>32094.28052000</td><td>1631491199999</td></tr>\n",
       "\t<tr><th scope=row>3</th><td>1631491200000</td><td>46025.23000000</td><td>46880.00000000</td><td>43370.00000000</td><td>44940.73000000</td><td>65429.15056000</td><td>1631577599999</td></tr>\n",
       "\t<tr><th scope=row>4</th><td>1631577600000</td><td>44940.72000000</td><td>47250.00000000</td><td>44594.44000000</td><td>47111.52000000</td><td>44855.85099000</td><td>1631663999999</td></tr>\n",
       "\t<tr><th scope=row>5</th><td>1.631664e+12 </td><td>47103.28000000</td><td>48500.00000000</td><td>46682.32000000</td><td>48121.41000000</td><td>43204.71174000</td><td>1631750399999</td></tr>\n",
       "\t<tr><th scope=row>6</th><td>1631750400000</td><td>48121.40000000</td><td>48557.00000000</td><td>47021.10000000</td><td>47737.82000000</td><td>40725.08895000</td><td>1631836799999</td></tr>\n",
       "</tbody>\n",
       "</table>\n"
      ],
      "text/latex": [
       "A data.frame: 6 x 7\n",
       "\\begin{tabular}{r|lllllll}\n",
       "  & V1 & V2 & V3 & V4 & V5 & V6 & V7\\\\\n",
       "  & <chr> & <chr> & <chr> & <chr> & <chr> & <chr> & <chr>\\\\\n",
       "\\hline\n",
       "\t1 & 1631318400000 & 44842.20000000 & 45987.93000000 & 44722.22000000 & 45173.69000000 & 30440.40810000 & 1631404799999\\\\\n",
       "\t2 & 1631404800000 & 45173.68000000 & 46460.00000000 & 44742.06000000 & 46025.24000000 & 32094.28052000 & 1631491199999\\\\\n",
       "\t3 & 1631491200000 & 46025.23000000 & 46880.00000000 & 43370.00000000 & 44940.73000000 & 65429.15056000 & 1631577599999\\\\\n",
       "\t4 & 1631577600000 & 44940.72000000 & 47250.00000000 & 44594.44000000 & 47111.52000000 & 44855.85099000 & 1631663999999\\\\\n",
       "\t5 & 1.631664e+12  & 47103.28000000 & 48500.00000000 & 46682.32000000 & 48121.41000000 & 43204.71174000 & 1631750399999\\\\\n",
       "\t6 & 1631750400000 & 48121.40000000 & 48557.00000000 & 47021.10000000 & 47737.82000000 & 40725.08895000 & 1631836799999\\\\\n",
       "\\end{tabular}\n"
      ],
      "text/markdown": [
       "\n",
       "A data.frame: 6 x 7\n",
       "\n",
       "| <!--/--> | V1 &lt;chr&gt; | V2 &lt;chr&gt; | V3 &lt;chr&gt; | V4 &lt;chr&gt; | V5 &lt;chr&gt; | V6 &lt;chr&gt; | V7 &lt;chr&gt; |\n",
       "|---|---|---|---|---|---|---|---|\n",
       "| 1 | 1631318400000 | 44842.20000000 | 45987.93000000 | 44722.22000000 | 45173.69000000 | 30440.40810000 | 1631404799999 |\n",
       "| 2 | 1631404800000 | 45173.68000000 | 46460.00000000 | 44742.06000000 | 46025.24000000 | 32094.28052000 | 1631491199999 |\n",
       "| 3 | 1631491200000 | 46025.23000000 | 46880.00000000 | 43370.00000000 | 44940.73000000 | 65429.15056000 | 1631577599999 |\n",
       "| 4 | 1631577600000 | 44940.72000000 | 47250.00000000 | 44594.44000000 | 47111.52000000 | 44855.85099000 | 1631663999999 |\n",
       "| 5 | 1.631664e+12  | 47103.28000000 | 48500.00000000 | 46682.32000000 | 48121.41000000 | 43204.71174000 | 1631750399999 |\n",
       "| 6 | 1631750400000 | 48121.40000000 | 48557.00000000 | 47021.10000000 | 47737.82000000 | 40725.08895000 | 1631836799999 |\n",
       "\n"
      ],
      "text/plain": [
       "  V1            V2             V3             V4             V5            \n",
       "1 1631318400000 44842.20000000 45987.93000000 44722.22000000 45173.69000000\n",
       "2 1631404800000 45173.68000000 46460.00000000 44742.06000000 46025.24000000\n",
       "3 1631491200000 46025.23000000 46880.00000000 43370.00000000 44940.73000000\n",
       "4 1631577600000 44940.72000000 47250.00000000 44594.44000000 47111.52000000\n",
       "5 1.631664e+12  47103.28000000 48500.00000000 46682.32000000 48121.41000000\n",
       "6 1631750400000 48121.40000000 48557.00000000 47021.10000000 47737.82000000\n",
       "  V6             V7           \n",
       "1 30440.40810000 1631404799999\n",
       "2 32094.28052000 1631491199999\n",
       "3 65429.15056000 1631577599999\n",
       "4 44855.85099000 1631663999999\n",
       "5 43204.71174000 1631750399999\n",
       "6 40725.08895000 1631836799999"
      ]
     },
     "metadata": {},
     "output_type": "display_data"
    }
   ],
   "source": [
    "data <- as.data.frame(data) \n",
    "head(data)"
   ]
  },
  {
   "cell_type": "code",
   "execution_count": 33,
   "id": "a068bfc5-c36b-4ed9-97fb-02d330db2fd0",
   "metadata": {},
   "outputs": [
    {
     "data": {
      "text/html": [
       "<table class=\"dataframe\">\n",
       "<caption>A data.frame: 6 x 7</caption>\n",
       "<thead>\n",
       "\t<tr><th></th><th scope=col>Open_time</th><th scope=col>Open</th><th scope=col>High</th><th scope=col>Low</th><th scope=col>Close</th><th scope=col>Volume</th><th scope=col>Close_time</th></tr>\n",
       "\t<tr><th></th><th scope=col>&lt;chr&gt;</th><th scope=col>&lt;chr&gt;</th><th scope=col>&lt;chr&gt;</th><th scope=col>&lt;chr&gt;</th><th scope=col>&lt;chr&gt;</th><th scope=col>&lt;chr&gt;</th><th scope=col>&lt;chr&gt;</th></tr>\n",
       "</thead>\n",
       "<tbody>\n",
       "\t<tr><th scope=row>1</th><td>1631318400000</td><td>44842.20000000</td><td>45987.93000000</td><td>44722.22000000</td><td>45173.69000000</td><td>30440.40810000</td><td>1631404799999</td></tr>\n",
       "\t<tr><th scope=row>2</th><td>1631404800000</td><td>45173.68000000</td><td>46460.00000000</td><td>44742.06000000</td><td>46025.24000000</td><td>32094.28052000</td><td>1631491199999</td></tr>\n",
       "\t<tr><th scope=row>3</th><td>1631491200000</td><td>46025.23000000</td><td>46880.00000000</td><td>43370.00000000</td><td>44940.73000000</td><td>65429.15056000</td><td>1631577599999</td></tr>\n",
       "\t<tr><th scope=row>4</th><td>1631577600000</td><td>44940.72000000</td><td>47250.00000000</td><td>44594.44000000</td><td>47111.52000000</td><td>44855.85099000</td><td>1631663999999</td></tr>\n",
       "\t<tr><th scope=row>5</th><td>1.631664e+12 </td><td>47103.28000000</td><td>48500.00000000</td><td>46682.32000000</td><td>48121.41000000</td><td>43204.71174000</td><td>1631750399999</td></tr>\n",
       "\t<tr><th scope=row>6</th><td>1631750400000</td><td>48121.40000000</td><td>48557.00000000</td><td>47021.10000000</td><td>47737.82000000</td><td>40725.08895000</td><td>1631836799999</td></tr>\n",
       "</tbody>\n",
       "</table>\n"
      ],
      "text/latex": [
       "A data.frame: 6 x 7\n",
       "\\begin{tabular}{r|lllllll}\n",
       "  & Open\\_time & Open & High & Low & Close & Volume & Close\\_time\\\\\n",
       "  & <chr> & <chr> & <chr> & <chr> & <chr> & <chr> & <chr>\\\\\n",
       "\\hline\n",
       "\t1 & 1631318400000 & 44842.20000000 & 45987.93000000 & 44722.22000000 & 45173.69000000 & 30440.40810000 & 1631404799999\\\\\n",
       "\t2 & 1631404800000 & 45173.68000000 & 46460.00000000 & 44742.06000000 & 46025.24000000 & 32094.28052000 & 1631491199999\\\\\n",
       "\t3 & 1631491200000 & 46025.23000000 & 46880.00000000 & 43370.00000000 & 44940.73000000 & 65429.15056000 & 1631577599999\\\\\n",
       "\t4 & 1631577600000 & 44940.72000000 & 47250.00000000 & 44594.44000000 & 47111.52000000 & 44855.85099000 & 1631663999999\\\\\n",
       "\t5 & 1.631664e+12  & 47103.28000000 & 48500.00000000 & 46682.32000000 & 48121.41000000 & 43204.71174000 & 1631750399999\\\\\n",
       "\t6 & 1631750400000 & 48121.40000000 & 48557.00000000 & 47021.10000000 & 47737.82000000 & 40725.08895000 & 1631836799999\\\\\n",
       "\\end{tabular}\n"
      ],
      "text/markdown": [
       "\n",
       "A data.frame: 6 x 7\n",
       "\n",
       "| <!--/--> | Open_time &lt;chr&gt; | Open &lt;chr&gt; | High &lt;chr&gt; | Low &lt;chr&gt; | Close &lt;chr&gt; | Volume &lt;chr&gt; | Close_time &lt;chr&gt; |\n",
       "|---|---|---|---|---|---|---|---|\n",
       "| 1 | 1631318400000 | 44842.20000000 | 45987.93000000 | 44722.22000000 | 45173.69000000 | 30440.40810000 | 1631404799999 |\n",
       "| 2 | 1631404800000 | 45173.68000000 | 46460.00000000 | 44742.06000000 | 46025.24000000 | 32094.28052000 | 1631491199999 |\n",
       "| 3 | 1631491200000 | 46025.23000000 | 46880.00000000 | 43370.00000000 | 44940.73000000 | 65429.15056000 | 1631577599999 |\n",
       "| 4 | 1631577600000 | 44940.72000000 | 47250.00000000 | 44594.44000000 | 47111.52000000 | 44855.85099000 | 1631663999999 |\n",
       "| 5 | 1.631664e+12  | 47103.28000000 | 48500.00000000 | 46682.32000000 | 48121.41000000 | 43204.71174000 | 1631750399999 |\n",
       "| 6 | 1631750400000 | 48121.40000000 | 48557.00000000 | 47021.10000000 | 47737.82000000 | 40725.08895000 | 1631836799999 |\n",
       "\n"
      ],
      "text/plain": [
       "  Open_time     Open           High           Low            Close         \n",
       "1 1631318400000 44842.20000000 45987.93000000 44722.22000000 45173.69000000\n",
       "2 1631404800000 45173.68000000 46460.00000000 44742.06000000 46025.24000000\n",
       "3 1631491200000 46025.23000000 46880.00000000 43370.00000000 44940.73000000\n",
       "4 1631577600000 44940.72000000 47250.00000000 44594.44000000 47111.52000000\n",
       "5 1.631664e+12  47103.28000000 48500.00000000 46682.32000000 48121.41000000\n",
       "6 1631750400000 48121.40000000 48557.00000000 47021.10000000 47737.82000000\n",
       "  Volume         Close_time   \n",
       "1 30440.40810000 1631404799999\n",
       "2 32094.28052000 1631491199999\n",
       "3 65429.15056000 1631577599999\n",
       "4 44855.85099000 1631663999999\n",
       "5 43204.71174000 1631750399999\n",
       "6 40725.08895000 1631836799999"
      ]
     },
     "metadata": {},
     "output_type": "display_data"
    }
   ],
   "source": [
    "colnames(data) <- c(\"Open_time\", \"Open\", \"High\", \"Low\", \"Close\", \"Volume\", \"Close_time\")\n",
    "head(data)"
   ]
  },
  {
   "cell_type": "code",
   "execution_count": 34,
   "id": "451fab75-9559-45fa-8f1e-d5b69be4c1a0",
   "metadata": {},
   "outputs": [],
   "source": [
    "data <-  data.frame(sapply(data, as.numeric))"
   ]
  },
  {
   "cell_type": "code",
   "execution_count": 35,
   "id": "4dff7a05-f863-434a-a836-6d5b19a9cec5",
   "metadata": {},
   "outputs": [
    {
     "data": {
      "text/html": [
       "<table class=\"dataframe\">\n",
       "<caption>A data.frame: 6 x 7</caption>\n",
       "<thead>\n",
       "\t<tr><th></th><th scope=col>Open_time</th><th scope=col>Open</th><th scope=col>High</th><th scope=col>Low</th><th scope=col>Close</th><th scope=col>Volume</th><th scope=col>Close_time</th></tr>\n",
       "\t<tr><th></th><th scope=col>&lt;dbl&gt;</th><th scope=col>&lt;dbl&gt;</th><th scope=col>&lt;dbl&gt;</th><th scope=col>&lt;dbl&gt;</th><th scope=col>&lt;dbl&gt;</th><th scope=col>&lt;dbl&gt;</th><th scope=col>&lt;dbl&gt;</th></tr>\n",
       "</thead>\n",
       "<tbody>\n",
       "\t<tr><th scope=row>1</th><td>1.631318e+12</td><td>44842.20</td><td>45987.93</td><td>44722.22</td><td>45173.69</td><td>30440.41</td><td>1.631405e+12</td></tr>\n",
       "\t<tr><th scope=row>2</th><td>1.631405e+12</td><td>45173.68</td><td>46460.00</td><td>44742.06</td><td>46025.24</td><td>32094.28</td><td>1.631491e+12</td></tr>\n",
       "\t<tr><th scope=row>3</th><td>1.631491e+12</td><td>46025.23</td><td>46880.00</td><td>43370.00</td><td>44940.73</td><td>65429.15</td><td>1.631578e+12</td></tr>\n",
       "\t<tr><th scope=row>4</th><td>1.631578e+12</td><td>44940.72</td><td>47250.00</td><td>44594.44</td><td>47111.52</td><td>44855.85</td><td>1.631664e+12</td></tr>\n",
       "\t<tr><th scope=row>5</th><td>1.631664e+12</td><td>47103.28</td><td>48500.00</td><td>46682.32</td><td>48121.41</td><td>43204.71</td><td>1.631750e+12</td></tr>\n",
       "\t<tr><th scope=row>6</th><td>1.631750e+12</td><td>48121.40</td><td>48557.00</td><td>47021.10</td><td>47737.82</td><td>40725.09</td><td>1.631837e+12</td></tr>\n",
       "</tbody>\n",
       "</table>\n"
      ],
      "text/latex": [
       "A data.frame: 6 x 7\n",
       "\\begin{tabular}{r|lllllll}\n",
       "  & Open\\_time & Open & High & Low & Close & Volume & Close\\_time\\\\\n",
       "  & <dbl> & <dbl> & <dbl> & <dbl> & <dbl> & <dbl> & <dbl>\\\\\n",
       "\\hline\n",
       "\t1 & 1.631318e+12 & 44842.20 & 45987.93 & 44722.22 & 45173.69 & 30440.41 & 1.631405e+12\\\\\n",
       "\t2 & 1.631405e+12 & 45173.68 & 46460.00 & 44742.06 & 46025.24 & 32094.28 & 1.631491e+12\\\\\n",
       "\t3 & 1.631491e+12 & 46025.23 & 46880.00 & 43370.00 & 44940.73 & 65429.15 & 1.631578e+12\\\\\n",
       "\t4 & 1.631578e+12 & 44940.72 & 47250.00 & 44594.44 & 47111.52 & 44855.85 & 1.631664e+12\\\\\n",
       "\t5 & 1.631664e+12 & 47103.28 & 48500.00 & 46682.32 & 48121.41 & 43204.71 & 1.631750e+12\\\\\n",
       "\t6 & 1.631750e+12 & 48121.40 & 48557.00 & 47021.10 & 47737.82 & 40725.09 & 1.631837e+12\\\\\n",
       "\\end{tabular}\n"
      ],
      "text/markdown": [
       "\n",
       "A data.frame: 6 x 7\n",
       "\n",
       "| <!--/--> | Open_time &lt;dbl&gt; | Open &lt;dbl&gt; | High &lt;dbl&gt; | Low &lt;dbl&gt; | Close &lt;dbl&gt; | Volume &lt;dbl&gt; | Close_time &lt;dbl&gt; |\n",
       "|---|---|---|---|---|---|---|---|\n",
       "| 1 | 1.631318e+12 | 44842.20 | 45987.93 | 44722.22 | 45173.69 | 30440.41 | 1.631405e+12 |\n",
       "| 2 | 1.631405e+12 | 45173.68 | 46460.00 | 44742.06 | 46025.24 | 32094.28 | 1.631491e+12 |\n",
       "| 3 | 1.631491e+12 | 46025.23 | 46880.00 | 43370.00 | 44940.73 | 65429.15 | 1.631578e+12 |\n",
       "| 4 | 1.631578e+12 | 44940.72 | 47250.00 | 44594.44 | 47111.52 | 44855.85 | 1.631664e+12 |\n",
       "| 5 | 1.631664e+12 | 47103.28 | 48500.00 | 46682.32 | 48121.41 | 43204.71 | 1.631750e+12 |\n",
       "| 6 | 1.631750e+12 | 48121.40 | 48557.00 | 47021.10 | 47737.82 | 40725.09 | 1.631837e+12 |\n",
       "\n"
      ],
      "text/plain": [
       "  Open_time    Open     High     Low      Close    Volume   Close_time  \n",
       "1 1.631318e+12 44842.20 45987.93 44722.22 45173.69 30440.41 1.631405e+12\n",
       "2 1.631405e+12 45173.68 46460.00 44742.06 46025.24 32094.28 1.631491e+12\n",
       "3 1.631491e+12 46025.23 46880.00 43370.00 44940.73 65429.15 1.631578e+12\n",
       "4 1.631578e+12 44940.72 47250.00 44594.44 47111.52 44855.85 1.631664e+12\n",
       "5 1.631664e+12 47103.28 48500.00 46682.32 48121.41 43204.71 1.631750e+12\n",
       "6 1.631750e+12 48121.40 48557.00 47021.10 47737.82 40725.09 1.631837e+12"
      ]
     },
     "metadata": {},
     "output_type": "display_data"
    }
   ],
   "source": [
    "head(data)"
   ]
  },
  {
   "cell_type": "code",
   "execution_count": 36,
   "id": "44af373b-f2f8-4094-a06a-1ac9be37a984",
   "metadata": {},
   "outputs": [],
   "source": [
    "data$Open_time <- as.POSIXct(data$Open_time/1e3, origin = '1970-01-01')\n",
    "data$Close_time <- as.POSIXct(data$Close_time/1e3, origin = '1970-01-01')"
   ]
  },
  {
   "cell_type": "code",
   "execution_count": 37,
   "id": "d01cff42-e3b1-4333-9f46-e4cfe20a008d",
   "metadata": {},
   "outputs": [
    {
     "data": {
      "text/html": [
       "<table class=\"dataframe\">\n",
       "<caption>A data.frame: 6 x 7</caption>\n",
       "<thead>\n",
       "\t<tr><th></th><th scope=col>Open_time</th><th scope=col>Open</th><th scope=col>High</th><th scope=col>Low</th><th scope=col>Close</th><th scope=col>Volume</th><th scope=col>Close_time</th></tr>\n",
       "\t<tr><th></th><th scope=col>&lt;dttm&gt;</th><th scope=col>&lt;dbl&gt;</th><th scope=col>&lt;dbl&gt;</th><th scope=col>&lt;dbl&gt;</th><th scope=col>&lt;dbl&gt;</th><th scope=col>&lt;dbl&gt;</th><th scope=col>&lt;dttm&gt;</th></tr>\n",
       "</thead>\n",
       "<tbody>\n",
       "\t<tr><th scope=row>995</th><td>2024-06-01 03:00:00</td><td>67540.01</td><td>67900.00</td><td>67428.44</td><td>67766.85</td><td> 8837.661</td><td>2024-06-02 02:59:59</td></tr>\n",
       "\t<tr><th scope=row>996</th><td>2024-06-02 03:00:00</td><td>67766.84</td><td>68460.00</td><td>67257.47</td><td>67765.63</td><td>15426.325</td><td>2024-06-03 02:59:59</td></tr>\n",
       "\t<tr><th scope=row>997</th><td>2024-06-03 03:00:00</td><td>67765.62</td><td>70288.00</td><td>67612.48</td><td>68809.90</td><td>29633.374</td><td>2024-06-04 02:59:59</td></tr>\n",
       "\t<tr><th scope=row>998</th><td>2024-06-04 03:00:00</td><td>68809.89</td><td>71063.45</td><td>68567.32</td><td>70537.84</td><td>29619.785</td><td>2024-06-05 02:59:59</td></tr>\n",
       "\t<tr><th scope=row>999</th><td>2024-06-05 03:00:00</td><td>70537.83</td><td>71758.00</td><td>70383.66</td><td>71108.00</td><td>28703.181</td><td>2024-06-06 02:59:59</td></tr>\n",
       "\t<tr><th scope=row>1000</th><td>2024-06-06 03:00:00</td><td>71108.00</td><td>71237.02</td><td>70800.00</td><td>71104.00</td><td> 6150.610</td><td>2024-06-07 02:59:59</td></tr>\n",
       "</tbody>\n",
       "</table>\n"
      ],
      "text/latex": [
       "A data.frame: 6 x 7\n",
       "\\begin{tabular}{r|lllllll}\n",
       "  & Open\\_time & Open & High & Low & Close & Volume & Close\\_time\\\\\n",
       "  & <dttm> & <dbl> & <dbl> & <dbl> & <dbl> & <dbl> & <dttm>\\\\\n",
       "\\hline\n",
       "\t995 & 2024-06-01 03:00:00 & 67540.01 & 67900.00 & 67428.44 & 67766.85 &  8837.661 & 2024-06-02 02:59:59\\\\\n",
       "\t996 & 2024-06-02 03:00:00 & 67766.84 & 68460.00 & 67257.47 & 67765.63 & 15426.325 & 2024-06-03 02:59:59\\\\\n",
       "\t997 & 2024-06-03 03:00:00 & 67765.62 & 70288.00 & 67612.48 & 68809.90 & 29633.374 & 2024-06-04 02:59:59\\\\\n",
       "\t998 & 2024-06-04 03:00:00 & 68809.89 & 71063.45 & 68567.32 & 70537.84 & 29619.785 & 2024-06-05 02:59:59\\\\\n",
       "\t999 & 2024-06-05 03:00:00 & 70537.83 & 71758.00 & 70383.66 & 71108.00 & 28703.181 & 2024-06-06 02:59:59\\\\\n",
       "\t1000 & 2024-06-06 03:00:00 & 71108.00 & 71237.02 & 70800.00 & 71104.00 &  6150.610 & 2024-06-07 02:59:59\\\\\n",
       "\\end{tabular}\n"
      ],
      "text/markdown": [
       "\n",
       "A data.frame: 6 x 7\n",
       "\n",
       "| <!--/--> | Open_time &lt;dttm&gt; | Open &lt;dbl&gt; | High &lt;dbl&gt; | Low &lt;dbl&gt; | Close &lt;dbl&gt; | Volume &lt;dbl&gt; | Close_time &lt;dttm&gt; |\n",
       "|---|---|---|---|---|---|---|---|\n",
       "| 995 | 2024-06-01 03:00:00 | 67540.01 | 67900.00 | 67428.44 | 67766.85 |  8837.661 | 2024-06-02 02:59:59 |\n",
       "| 996 | 2024-06-02 03:00:00 | 67766.84 | 68460.00 | 67257.47 | 67765.63 | 15426.325 | 2024-06-03 02:59:59 |\n",
       "| 997 | 2024-06-03 03:00:00 | 67765.62 | 70288.00 | 67612.48 | 68809.90 | 29633.374 | 2024-06-04 02:59:59 |\n",
       "| 998 | 2024-06-04 03:00:00 | 68809.89 | 71063.45 | 68567.32 | 70537.84 | 29619.785 | 2024-06-05 02:59:59 |\n",
       "| 999 | 2024-06-05 03:00:00 | 70537.83 | 71758.00 | 70383.66 | 71108.00 | 28703.181 | 2024-06-06 02:59:59 |\n",
       "| 1000 | 2024-06-06 03:00:00 | 71108.00 | 71237.02 | 70800.00 | 71104.00 |  6150.610 | 2024-06-07 02:59:59 |\n",
       "\n"
      ],
      "text/plain": [
       "     Open_time           Open     High     Low      Close    Volume   \n",
       "995  2024-06-01 03:00:00 67540.01 67900.00 67428.44 67766.85  8837.661\n",
       "996  2024-06-02 03:00:00 67766.84 68460.00 67257.47 67765.63 15426.325\n",
       "997  2024-06-03 03:00:00 67765.62 70288.00 67612.48 68809.90 29633.374\n",
       "998  2024-06-04 03:00:00 68809.89 71063.45 68567.32 70537.84 29619.785\n",
       "999  2024-06-05 03:00:00 70537.83 71758.00 70383.66 71108.00 28703.181\n",
       "1000 2024-06-06 03:00:00 71108.00 71237.02 70800.00 71104.00  6150.610\n",
       "     Close_time         \n",
       "995  2024-06-02 02:59:59\n",
       "996  2024-06-03 02:59:59\n",
       "997  2024-06-04 02:59:59\n",
       "998  2024-06-05 02:59:59\n",
       "999  2024-06-06 02:59:59\n",
       "1000 2024-06-07 02:59:59"
      ]
     },
     "metadata": {},
     "output_type": "display_data"
    }
   ],
   "source": [
    "\n",
    "tail(data)\n"
   ]
  },
  {
   "cell_type": "code",
   "execution_count": 38,
   "id": "eaf723cf-c0ca-4791-ae9e-96b9c4588881",
   "metadata": {},
   "outputs": [
    {
     "data": {
      "text/html": [
       "1000"
      ],
      "text/latex": [
       "1000"
      ],
      "text/markdown": [
       "1000"
      ],
      "text/plain": [
       "[1] 1000"
      ]
     },
     "metadata": {},
     "output_type": "display_data"
    }
   ],
   "source": [
    "length((data$Open + data$Close)/2)"
   ]
  },
  {
   "cell_type": "code",
   "execution_count": 39,
   "id": "c7295e13-4202-4c2c-b991-56893bb953a7",
   "metadata": {},
   "outputs": [
    {
     "data": {
      "text/html": [
       "0"
      ],
      "text/latex": [
       "0"
      ],
      "text/markdown": [
       "0"
      ],
      "text/plain": [
       "[1] 0"
      ]
     },
     "metadata": {},
     "output_type": "display_data"
    }
   ],
   "source": [
    "length(data$Open_Time)"
   ]
  },
  {
   "cell_type": "code",
   "execution_count": 40,
   "id": "3abbad74-d721-4eea-9e1c-1c6030ec62af",
   "metadata": {},
   "outputs": [],
   "source": [
    "data_final <- data.frame(Date = data$Open_time,\n",
    "                        MeanPrice = (data$Open + data$Close) / 2)"
   ]
  },
  {
   "cell_type": "code",
   "execution_count": 41,
   "id": "1592a866-3771-4220-9f59-00c719ba4333",
   "metadata": {},
   "outputs": [
    {
     "data": {
      "image/png": "[encoded data removed]",
      "text/plain": [
       "plot without title"
      ]
     },
     "metadata": {
      "image/png": {
       "height": 420,
       "width": 420
      }
     },
     "output_type": "display_data"
    }
   ],
   "source": [
    "plot(data_final)"
   ]
  },
  {
   "cell_type": "markdown",
   "id": "de566f74-8262-45b1-8de5-191fde204b29",
   "metadata": {},
   "source": [
    "## Data from web"
   ]
  },
  {
   "cell_type": "code",
   "execution_count": 84,
   "id": "22c66274-ee69-42da-9823-9028fd49d97d",
   "metadata": {},
   "outputs": [],
   "source": [
    "# install.packages(\"rvest\")"
   ]
  },
  {
   "cell_type": "code",
   "execution_count": 86,
   "id": "86e6ff85-5516-41c6-bdfc-59226438979e",
   "metadata": {},
   "outputs": [],
   "source": [
    "library(rvest)"
   ]
  },
  {
   "cell_type": "code",
   "execution_count": 88,
   "id": "90f52131-1f2f-4546-bff6-02438e343dda",
   "metadata": {},
   "outputs": [],
   "source": [
    "url <- \"https://en.wikipedia.org/wiki/List_of_largest_banks\""
   ]
  },
  {
   "cell_type": "code",
   "execution_count": 90,
   "id": "3c523796-090b-4e28-9b79-4f33ba5fefab",
   "metadata": {},
   "outputs": [
    {
     "data": {
      "text/plain": [
       "{html_document}\n",
       "<html class=\"client-nojs vector-feature-language-in-header-enabled vector-feature-language-in-main-page-header-disabled vector-feature-sticky-header-disabled vector-feature-page-tools-pinned-disabled vector-feature-toc-pinned-clientpref-1 vector-feature-main-menu-pinned-disabled vector-feature-limited-width-clientpref-1 vector-feature-limited-width-content-enabled vector-feature-custom-font-size-clientpref-0 vector-feature-client-preferences-disabled vector-feature-client-prefs-pinned-disabled vector-feature-night-mode-disabled skin-night-mode-clientpref-0 vector-toc-available\" lang=\"en\" dir=\"ltr\">\n",
       "[1] <head>\\n<meta http-equiv=\"Content-Type\" content=\"text/html; charset=UTF-8 ...\n",
       "[2] <body class=\"skin-vector skin-vector-search-vue mediawiki ltr sitedir-ltr ..."
      ]
     },
     "metadata": {},
     "output_type": "display_data"
    }
   ],
   "source": [
    "page <- read_html(url)\n",
    "page"
   ]
  },
  {
   "cell_type": "code",
   "execution_count": 92,
   "id": "42e7c24e-3c93-473d-8fe1-bda6ec1c4aec",
   "metadata": {},
   "outputs": [
    {
     "data": {
      "text/plain": [
       "{xml_nodeset (3)}\n",
       "[1] <table class=\"wikitable sortable mw-collapsible\"><tbody>\\n<tr>\\n<th data- ...\n",
       "[2] <table class=\"wikitable sortable mw-collapsible\"><tbody>\\n<tr>\\n<th data- ...\n",
       "[3] <table class=\"wikitable sortable mw-collapsible\">\\n<caption>Number of ban ..."
      ]
     },
     "metadata": {},
     "output_type": "display_data"
    }
   ],
   "source": [
    "tables <- html_nodes(page, \"table\")\n",
    "tables"
   ]
  },
  {
   "cell_type": "code",
   "execution_count": 98,
   "id": "71c3644c-be1b-473a-a3d1-8a2144f2e390",
   "metadata": {},
   "outputs": [],
   "source": [
    "data <- data.frame(html_table(tables[1]))"
   ]
  },
  {
   "cell_type": "code",
   "execution_count": 99,
   "id": "28f48024-84c1-4f12-82f4-117adcbc8b2c",
   "metadata": {},
   "outputs": [
    {
     "data": {
      "text/html": [
       "<table class=\"dataframe\">\n",
       "<caption>A data.frame: 6 x 3</caption>\n",
       "<thead>\n",
       "\t<tr><th></th><th scope=col>Rank</th><th scope=col>Bank.name</th><th scope=col>Market.cap.US..billion.</th></tr>\n",
       "\t<tr><th></th><th scope=col>&lt;int&gt;</th><th scope=col>&lt;chr&gt;</th><th scope=col>&lt;dbl&gt;</th></tr>\n",
       "</thead>\n",
       "<tbody>\n",
       "\t<tr><th scope=row>1</th><td>1</td><td>JPMorgan Chase                         </td><td>491.76</td></tr>\n",
       "\t<tr><th scope=row>2</th><td>2</td><td>Bank of America                        </td><td>266.45</td></tr>\n",
       "\t<tr><th scope=row>3</th><td>3</td><td>Industrial and Commercial Bank of China</td><td>219.45</td></tr>\n",
       "\t<tr><th scope=row>4</th><td>4</td><td>Wells Fargo                            </td><td>178.74</td></tr>\n",
       "\t<tr><th scope=row>5</th><td>5</td><td>Agricultural Bank of China             </td><td>175.69</td></tr>\n",
       "\t<tr><th scope=row>6</th><td>6</td><td>HDFC Bank                              </td><td>169.84</td></tr>\n",
       "</tbody>\n",
       "</table>\n"
      ],
      "text/latex": [
       "A data.frame: 6 x 3\n",
       "\\begin{tabular}{r|lll}\n",
       "  & Rank & Bank.name & Market.cap.US..billion.\\\\\n",
       "  & <int> & <chr> & <dbl>\\\\\n",
       "\\hline\n",
       "\t1 & 1 & JPMorgan Chase                          & 491.76\\\\\n",
       "\t2 & 2 & Bank of America                         & 266.45\\\\\n",
       "\t3 & 3 & Industrial and Commercial Bank of China & 219.45\\\\\n",
       "\t4 & 4 & Wells Fargo                             & 178.74\\\\\n",
       "\t5 & 5 & Agricultural Bank of China              & 175.69\\\\\n",
       "\t6 & 6 & HDFC Bank                               & 169.84\\\\\n",
       "\\end{tabular}\n"
      ],
      "text/markdown": [
       "\n",
       "A data.frame: 6 x 3\n",
       "\n",
       "| <!--/--> | Rank &lt;int&gt; | Bank.name &lt;chr&gt; | Market.cap.US..billion. &lt;dbl&gt; |\n",
       "|---|---|---|---|\n",
       "| 1 | 1 | JPMorgan Chase                          | 491.76 |\n",
       "| 2 | 2 | Bank of America                         | 266.45 |\n",
       "| 3 | 3 | Industrial and Commercial Bank of China | 219.45 |\n",
       "| 4 | 4 | Wells Fargo                             | 178.74 |\n",
       "| 5 | 5 | Agricultural Bank of China              | 175.69 |\n",
       "| 6 | 6 | HDFC Bank                               | 169.84 |\n",
       "\n"
      ],
      "text/plain": [
       "  Rank Bank.name                               Market.cap.US..billion.\n",
       "1 1    JPMorgan Chase                          491.76                 \n",
       "2 2    Bank of America                         266.45                 \n",
       "3 3    Industrial and Commercial Bank of China 219.45                 \n",
       "4 4    Wells Fargo                             178.74                 \n",
       "5 5    Agricultural Bank of China              175.69                 \n",
       "6 6    HDFC Bank                               169.84                 "
      ]
     },
     "metadata": {},
     "output_type": "display_data"
    }
   ],
   "source": [
    "head(data)"
   ]
  },
  {
   "cell_type": "code",
   "execution_count": 101,
   "id": "4569b01d-c169-47aa-b08c-48050b012616",
   "metadata": {},
   "outputs": [],
   "source": [
    "colnames(data) <- c(\"Rank\", \"Name\", \"MarketCap\")"
   ]
  },
  {
   "cell_type": "code",
   "execution_count": 103,
   "id": "d71ca89c-5774-4792-9d7a-63b0ef1bfa1e",
   "metadata": {},
   "outputs": [
    {
     "data": {
      "text/html": [
       "<table class=\"dataframe\">\n",
       "<caption>A data.frame: 6 x 3</caption>\n",
       "<thead>\n",
       "\t<tr><th></th><th scope=col>Rank</th><th scope=col>Name</th><th scope=col>MarketCap</th></tr>\n",
       "\t<tr><th></th><th scope=col>&lt;int&gt;</th><th scope=col>&lt;chr&gt;</th><th scope=col>&lt;dbl&gt;</th></tr>\n",
       "</thead>\n",
       "<tbody>\n",
       "\t<tr><th scope=row>1</th><td>1</td><td>JPMorgan Chase                         </td><td>491.76</td></tr>\n",
       "\t<tr><th scope=row>2</th><td>2</td><td>Bank of America                        </td><td>266.45</td></tr>\n",
       "\t<tr><th scope=row>3</th><td>3</td><td>Industrial and Commercial Bank of China</td><td>219.45</td></tr>\n",
       "\t<tr><th scope=row>4</th><td>4</td><td>Wells Fargo                            </td><td>178.74</td></tr>\n",
       "\t<tr><th scope=row>5</th><td>5</td><td>Agricultural Bank of China             </td><td>175.69</td></tr>\n",
       "\t<tr><th scope=row>6</th><td>6</td><td>HDFC Bank                              </td><td>169.84</td></tr>\n",
       "</tbody>\n",
       "</table>\n"
      ],
      "text/latex": [
       "A data.frame: 6 x 3\n",
       "\\begin{tabular}{r|lll}\n",
       "  & Rank & Name & MarketCap\\\\\n",
       "  & <int> & <chr> & <dbl>\\\\\n",
       "\\hline\n",
       "\t1 & 1 & JPMorgan Chase                          & 491.76\\\\\n",
       "\t2 & 2 & Bank of America                         & 266.45\\\\\n",
       "\t3 & 3 & Industrial and Commercial Bank of China & 219.45\\\\\n",
       "\t4 & 4 & Wells Fargo                             & 178.74\\\\\n",
       "\t5 & 5 & Agricultural Bank of China              & 175.69\\\\\n",
       "\t6 & 6 & HDFC Bank                               & 169.84\\\\\n",
       "\\end{tabular}\n"
      ],
      "text/markdown": [
       "\n",
       "A data.frame: 6 x 3\n",
       "\n",
       "| <!--/--> | Rank &lt;int&gt; | Name &lt;chr&gt; | MarketCap &lt;dbl&gt; |\n",
       "|---|---|---|---|\n",
       "| 1 | 1 | JPMorgan Chase                          | 491.76 |\n",
       "| 2 | 2 | Bank of America                         | 266.45 |\n",
       "| 3 | 3 | Industrial and Commercial Bank of China | 219.45 |\n",
       "| 4 | 4 | Wells Fargo                             | 178.74 |\n",
       "| 5 | 5 | Agricultural Bank of China              | 175.69 |\n",
       "| 6 | 6 | HDFC Bank                               | 169.84 |\n",
       "\n"
      ],
      "text/plain": [
       "  Rank Name                                    MarketCap\n",
       "1 1    JPMorgan Chase                          491.76   \n",
       "2 2    Bank of America                         266.45   \n",
       "3 3    Industrial and Commercial Bank of China 219.45   \n",
       "4 4    Wells Fargo                             178.74   \n",
       "5 5    Agricultural Bank of China              175.69   \n",
       "6 6    HDFC Bank                               169.84   "
      ]
     },
     "metadata": {},
     "output_type": "display_data"
    }
   ],
   "source": [
    "head(data)"
   ]
  },
  {
   "cell_type": "code",
   "execution_count": 104,
   "id": "cd27a3e0-6535-46f8-8b7a-ac577ee42091",
   "metadata": {},
   "outputs": [
    {
     "data": {
      "text/html": [
       "<style>\n",
       ".list-inline {list-style: none; margin:0; padding: 0}\n",
       ".list-inline>li {display: inline-block}\n",
       ".list-inline>li:not(:last-child)::after {content: \"\\00b7\"; padding: 0 .5ex}\n",
       "</style>\n",
       "<ol class=list-inline><li>150.39</li><li>491.76</li></ol>\n"
      ],
      "text/latex": [
       "\\begin{enumerate*}\n",
       "\\item 150.39\n",
       "\\item 491.76\n",
       "\\end{enumerate*}\n"
      ],
      "text/markdown": [
       "1. 150.39\n",
       "2. 491.76\n",
       "\n",
       "\n"
      ],
      "text/plain": [
       "[1] 150.39 491.76"
      ]
     },
     "metadata": {},
     "output_type": "display_data"
    }
   ],
   "source": [
    "range(data$MarketCap)"
   ]
  }
 ],
 "metadata": {
  "kernelspec": {
   "display_name": "R",
   "language": "R",
   "name": "ir"
  },
  "language_info": {
   "codemirror_mode": "r",
   "file_extension": ".r",
   "mimetype": "text/x-r-source",
   "name": "R",
   "pygments_lexer": "r",
   "version": "4.1.3"
  }
 },
 "nbformat": 4,
 "nbformat_minor": 5
}
