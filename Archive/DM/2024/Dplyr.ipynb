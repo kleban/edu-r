{
 "cells": [
  {
   "cell_type": "markdown",
   "id": "edbc49e1-5f04-4ca7-93a2-ef7601611ae0",
   "metadata": {},
   "source": [
    "# Маніпулювання даними за допомогою `dplyr`"
   ]
  },
  {
   "cell_type": "markdown",
   "id": "794d6d7f-f4d9-48c9-a640-d62f187e25e9",
   "metadata": {},
   "source": [
    "## 0. Інсталяція та завантаження пакету"
   ]
  },
  {
   "cell_type": "code",
   "execution_count": 1,
   "id": "cc40ad92-bd3d-48bf-97b4-52712b28c1bd",
   "metadata": {},
   "outputs": [],
   "source": [
    "# install.packages(\"dplyr\")"
   ]
  },
  {
   "cell_type": "code",
   "execution_count": 2,
   "id": "7ff1dcaf-efdb-4ac7-92ab-8ffc0e42be61",
   "metadata": {},
   "outputs": [
    {
     "name": "stderr",
     "output_type": "stream",
     "text": [
      "\n",
      "Attaching package: 'dplyr'\n",
      "\n",
      "\n",
      "The following objects are masked from 'package:stats':\n",
      "\n",
      "    filter, lag\n",
      "\n",
      "\n",
      "The following objects are masked from 'package:base':\n",
      "\n",
      "    intersect, setdiff, setequal, union\n",
      "\n",
      "\n"
     ]
    }
   ],
   "source": [
    "library(dplyr)"
   ]
  },
  {
   "cell_type": "markdown",
   "id": "47cf7d6f-4081-452f-b69d-c9914433e7ea",
   "metadata": {},
   "source": [
    "## 1. Оператор `pipe`: `|>`, `%>%`"
   ]
  },
  {
   "cell_type": "code",
   "execution_count": 3,
   "id": "c17ecccb-bc24-4b21-a03b-ae333021b061",
   "metadata": {},
   "outputs": [
    {
     "data": {
      "text/html": [
       "<table class=\"dataframe\">\n",
       "<caption>A data.frame: 6 x 3</caption>\n",
       "<thead>\n",
       "\t<tr><th scope=col>Gender</th><th scope=col>Age</th><th scope=col>X</th></tr>\n",
       "\t<tr><th scope=col>&lt;chr&gt;</th><th scope=col>&lt;int&gt;</th><th scope=col>&lt;lgl&gt;</th></tr>\n",
       "</thead>\n",
       "<tbody>\n",
       "\t<tr><td>M</td><td>24</td><td> TRUE</td></tr>\n",
       "\t<tr><td>M</td><td>23</td><td>FALSE</td></tr>\n",
       "\t<tr><td>F</td><td>15</td><td>FALSE</td></tr>\n",
       "\t<tr><td>F</td><td>37</td><td>FALSE</td></tr>\n",
       "\t<tr><td>M</td><td>12</td><td> TRUE</td></tr>\n",
       "\t<tr><td>F</td><td>34</td><td> TRUE</td></tr>\n",
       "</tbody>\n",
       "</table>\n"
      ],
      "text/latex": [
       "A data.frame: 6 x 3\n",
       "\\begin{tabular}{lll}\n",
       " Gender & Age & X\\\\\n",
       " <chr> & <int> & <lgl>\\\\\n",
       "\\hline\n",
       "\t M & 24 &  TRUE\\\\\n",
       "\t M & 23 & FALSE\\\\\n",
       "\t F & 15 & FALSE\\\\\n",
       "\t F & 37 & FALSE\\\\\n",
       "\t M & 12 &  TRUE\\\\\n",
       "\t F & 34 &  TRUE\\\\\n",
       "\\end{tabular}\n"
      ],
      "text/markdown": [
       "\n",
       "A data.frame: 6 x 3\n",
       "\n",
       "| Gender &lt;chr&gt; | Age &lt;int&gt; | X &lt;lgl&gt; |\n",
       "|---|---|---|\n",
       "| M | 24 |  TRUE |\n",
       "| M | 23 | FALSE |\n",
       "| F | 15 | FALSE |\n",
       "| F | 37 | FALSE |\n",
       "| M | 12 |  TRUE |\n",
       "| F | 34 |  TRUE |\n",
       "\n"
      ],
      "text/plain": [
       "  Gender Age X    \n",
       "1 M      24   TRUE\n",
       "2 M      23  FALSE\n",
       "3 F      15  FALSE\n",
       "4 F      37  FALSE\n",
       "5 M      12   TRUE\n",
       "6 F      34   TRUE"
      ]
     },
     "metadata": {},
     "output_type": "display_data"
    }
   ],
   "source": [
    "set.seed(2025)\n",
    "data <- data.frame(\n",
    "    Gender = c(\"M\", \"M\", \"F\", \"F\", \"M\", \"F\"),\n",
    "    Age = sample(12:40, size = 6),\n",
    "    X = c(T,F,F,F,T,T))\n",
    "data"
   ]
  },
  {
   "cell_type": "code",
   "execution_count": 4,
   "id": "fbc7da19-4d5e-4f0c-8b42-0e68446175c4",
   "metadata": {},
   "outputs": [
    {
     "data": {
      "text/html": [
       "<table class=\"dataframe\">\n",
       "<caption>A data.frame: 6 x 2</caption>\n",
       "<thead>\n",
       "\t<tr><th scope=col>Gender</th><th scope=col>Age</th></tr>\n",
       "\t<tr><th scope=col>&lt;chr&gt;</th><th scope=col>&lt;int&gt;</th></tr>\n",
       "</thead>\n",
       "<tbody>\n",
       "\t<tr><td>M</td><td>24</td></tr>\n",
       "\t<tr><td>M</td><td>23</td></tr>\n",
       "\t<tr><td>F</td><td>15</td></tr>\n",
       "\t<tr><td>F</td><td>37</td></tr>\n",
       "\t<tr><td>M</td><td>12</td></tr>\n",
       "\t<tr><td>F</td><td>34</td></tr>\n",
       "</tbody>\n",
       "</table>\n"
      ],
      "text/latex": [
       "A data.frame: 6 x 2\n",
       "\\begin{tabular}{ll}\n",
       " Gender & Age\\\\\n",
       " <chr> & <int>\\\\\n",
       "\\hline\n",
       "\t M & 24\\\\\n",
       "\t M & 23\\\\\n",
       "\t F & 15\\\\\n",
       "\t F & 37\\\\\n",
       "\t M & 12\\\\\n",
       "\t F & 34\\\\\n",
       "\\end{tabular}\n"
      ],
      "text/markdown": [
       "\n",
       "A data.frame: 6 x 2\n",
       "\n",
       "| Gender &lt;chr&gt; | Age &lt;int&gt; |\n",
       "|---|---|\n",
       "| M | 24 |\n",
       "| M | 23 |\n",
       "| F | 15 |\n",
       "| F | 37 |\n",
       "| M | 12 |\n",
       "| F | 34 |\n",
       "\n"
      ],
      "text/plain": [
       "  Gender Age\n",
       "1 M      24 \n",
       "2 M      23 \n",
       "3 F      15 \n",
       "4 F      37 \n",
       "5 M      12 \n",
       "6 F      34 "
      ]
     },
     "metadata": {},
     "output_type": "display_data"
    }
   ],
   "source": [
    "data |> select(Gender, Age)"
   ]
  },
  {
   "cell_type": "code",
   "execution_count": 5,
   "id": "3d0fc89b-089c-4443-a16f-f6243dc6c050",
   "metadata": {},
   "outputs": [
    {
     "data": {
      "text/html": [
       "<table class=\"dataframe\">\n",
       "<caption>A data.frame: 4 x 2</caption>\n",
       "<thead>\n",
       "\t<tr><th scope=col>Gender</th><th scope=col>Age</th></tr>\n",
       "\t<tr><th scope=col>&lt;chr&gt;</th><th scope=col>&lt;int&gt;</th></tr>\n",
       "</thead>\n",
       "<tbody>\n",
       "\t<tr><td>M</td><td>24</td></tr>\n",
       "\t<tr><td>M</td><td>23</td></tr>\n",
       "\t<tr><td>F</td><td>37</td></tr>\n",
       "\t<tr><td>F</td><td>34</td></tr>\n",
       "</tbody>\n",
       "</table>\n"
      ],
      "text/latex": [
       "A data.frame: 4 x 2\n",
       "\\begin{tabular}{ll}\n",
       " Gender & Age\\\\\n",
       " <chr> & <int>\\\\\n",
       "\\hline\n",
       "\t M & 24\\\\\n",
       "\t M & 23\\\\\n",
       "\t F & 37\\\\\n",
       "\t F & 34\\\\\n",
       "\\end{tabular}\n"
      ],
      "text/markdown": [
       "\n",
       "A data.frame: 4 x 2\n",
       "\n",
       "| Gender &lt;chr&gt; | Age &lt;int&gt; |\n",
       "|---|---|\n",
       "| M | 24 |\n",
       "| M | 23 |\n",
       "| F | 37 |\n",
       "| F | 34 |\n",
       "\n"
      ],
      "text/plain": [
       "  Gender Age\n",
       "1 M      24 \n",
       "2 M      23 \n",
       "3 F      37 \n",
       "4 F      34 "
      ]
     },
     "metadata": {},
     "output_type": "display_data"
    }
   ],
   "source": [
    "data |> \n",
    "    select(Gender, Age) |> \n",
    "    filter(Age > 18)"
   ]
  },
  {
   "cell_type": "code",
   "execution_count": 6,
   "id": "1fed215f-fef3-4f62-8cda-69fa524504e2",
   "metadata": {},
   "outputs": [
    {
     "data": {
      "text/html": [
       "<table class=\"dataframe\">\n",
       "<caption>A tibble: 2 x 2</caption>\n",
       "<thead>\n",
       "\t<tr><th scope=col>Gender</th><th scope=col>avg_age</th></tr>\n",
       "\t<tr><th scope=col>&lt;chr&gt;</th><th scope=col>&lt;dbl&gt;</th></tr>\n",
       "</thead>\n",
       "<tbody>\n",
       "\t<tr><td>F</td><td>35.5</td></tr>\n",
       "\t<tr><td>M</td><td>23.5</td></tr>\n",
       "</tbody>\n",
       "</table>\n"
      ],
      "text/latex": [
       "A tibble: 2 x 2\n",
       "\\begin{tabular}{ll}\n",
       " Gender & avg\\_age\\\\\n",
       " <chr> & <dbl>\\\\\n",
       "\\hline\n",
       "\t F & 35.5\\\\\n",
       "\t M & 23.5\\\\\n",
       "\\end{tabular}\n"
      ],
      "text/markdown": [
       "\n",
       "A tibble: 2 x 2\n",
       "\n",
       "| Gender &lt;chr&gt; | avg_age &lt;dbl&gt; |\n",
       "|---|---|\n",
       "| F | 35.5 |\n",
       "| M | 23.5 |\n",
       "\n"
      ],
      "text/plain": [
       "  Gender avg_age\n",
       "1 F      35.5   \n",
       "2 M      23.5   "
      ]
     },
     "metadata": {},
     "output_type": "display_data"
    }
   ],
   "source": [
    "data |> \n",
    "    select(Gender, Age) |> \n",
    "    filter(Age > 18) |>\n",
    "    group_by(Gender) |>\n",
    "    summarise(avg_age = mean(Age))"
   ]
  },
  {
   "cell_type": "markdown",
   "id": "8a512e2a-92db-4a3d-a446-69d499dad0b6",
   "metadata": {},
   "source": [
    "## 3. Огляд набору даних"
   ]
  },
  {
   "cell_type": "code",
   "execution_count": 7,
   "id": "03a13595-25ff-4b35-b068-120a7c545bb9",
   "metadata": {},
   "outputs": [],
   "source": [
    "# install.packages(\"gapminder\")"
   ]
  },
  {
   "cell_type": "code",
   "execution_count": 8,
   "id": "893b623d-4254-4b75-aa9f-d67348f0a925",
   "metadata": {},
   "outputs": [],
   "source": [
    "library(gapminder)"
   ]
  },
  {
   "cell_type": "code",
   "execution_count": 9,
   "id": "cc4979f9-1dcd-4cd0-9bfb-bd4695825a3d",
   "metadata": {},
   "outputs": [
    {
     "data": {
      "text/html": [
       "\n",
       "<table width=\"100%\" summary=\"page for gapminder {gapminder}\"><tr><td>gapminder {gapminder}</td><td style=\"text-align: right;\">R Documentation</td></tr></table>\n",
       "\n",
       "<h2>Gapminder data</h2>\n",
       "\n",
       "<h3>Description</h3>\n",
       "\n",
       "<p>Excerpt of the Gapminder data on life expectancy, GDP per capita, and\n",
       "population by country.\n",
       "</p>\n",
       "\n",
       "\n",
       "<h3>Usage</h3>\n",
       "\n",
       "<pre>\n",
       "gapminder\n",
       "</pre>\n",
       "\n",
       "\n",
       "<h3>Format</h3>\n",
       "\n",
       "<p>The main data frame <code>gapminder</code> has 1704 rows and 6 variables:\n",
       "</p>\n",
       "\n",
       "<dl>\n",
       "<dt>country</dt><dd><p>factor with 142 levels</p>\n",
       "</dd>\n",
       "<dt>continent</dt><dd><p>factor with 5 levels</p>\n",
       "</dd>\n",
       "<dt>year</dt><dd><p>ranges from 1952 to 2007 in increments of 5 years</p>\n",
       "</dd>\n",
       "<dt>lifeExp</dt><dd><p>life expectancy at birth, in years</p>\n",
       "</dd>\n",
       "<dt>pop</dt><dd><p>population</p>\n",
       "</dd>\n",
       "<dt>gdpPercap</dt><dd><p>GDP per capita (US$, inflation-adjusted)</p>\n",
       "</dd>\n",
       "</dl>\n",
       "\n",
       "<p>The supplemental data frame <code>gapminder_unfiltered</code> was not\n",
       "filtered on <code>year</code> or for complete data and has 3313 rows.\n",
       "</p>\n",
       "\n",
       "\n",
       "<h3>Source</h3>\n",
       "\n",
       "<p><a href=\"https://www.gapminder.org/data/\">https://www.gapminder.org/data/</a>\n",
       "</p>\n",
       "\n",
       "\n",
       "<h3>See Also</h3>\n",
       "\n",
       "<p><code>country_colors</code> for a nice color scheme for the countries\n",
       "</p>\n",
       "\n",
       "\n",
       "<h3>Examples</h3>\n",
       "\n",
       "<pre>\n",
       "str(gapminder)\n",
       "head(gapminder)\n",
       "summary(gapminder)\n",
       "table(gapminder$continent)\n",
       "aggregate(lifeExp ~ continent, gapminder, median)\n",
       "plot(lifeExp ~ year, gapminder, subset = country == \"Cambodia\", type = \"b\")\n",
       "plot(lifeExp ~ gdpPercap, gapminder, subset = year == 2007, log = \"x\")\n",
       "\n",
       "if (require(\"dplyr\")) {\n",
       "  gapminder %&gt;%\n",
       "    filter(year == 2007) %&gt;%\n",
       "    group_by(continent) %&gt;%\n",
       "    summarise(lifeExp = median(lifeExp))\n",
       "\n",
       "  # how many unique countries does the data contain, by continent?\n",
       "  gapminder %&gt;%\n",
       "    group_by(continent) %&gt;%\n",
       "    summarize(n_obs = n(), n_countries = n_distinct(country))\n",
       "\n",
       "  # by continent, which country experienced the sharpest 5-year drop in\n",
       "  # life expectancy and what was the drop?\n",
       "  gapminder %&gt;%\n",
       "    group_by(continent, country) %&gt;%\n",
       "    select(country, year, continent, lifeExp) %&gt;%\n",
       "    mutate(le_delta = lifeExp - lag(lifeExp)) %&gt;%\n",
       "    summarize(worst_le_delta = min(le_delta, na.rm = TRUE)) %&gt;%\n",
       "    filter(min_rank(worst_le_delta) &lt; 2) %&gt;%\n",
       "    arrange(worst_le_delta)\n",
       "}\n",
       "\n",
       "</pre>\n",
       "\n",
       "<hr /><div style=\"text-align: center;\">[Package <em>gapminder</em> version 1.0.0 ]</div>"
      ],
      "text/latex": [
       "\\inputencoding{utf8}\n",
       "\\HeaderA{gapminder}{Gapminder data}{gapminder}\n",
       "\\keyword{datasets}{gapminder}\n",
       "%\n",
       "\\begin{Description}\\relax\n",
       "Excerpt of the Gapminder data on life expectancy, GDP per capita, and\n",
       "population by country.\n",
       "\\end{Description}\n",
       "%\n",
       "\\begin{Usage}\n",
       "\\begin{verbatim}\n",
       "gapminder\n",
       "\\end{verbatim}\n",
       "\\end{Usage}\n",
       "%\n",
       "\\begin{Format}\n",
       "The main data frame \\code{gapminder} has 1704 rows and 6 variables:\n",
       "\\begin{description}\n",
       "\n",
       "\\item[country] factor with 142 levels\n",
       "\\item[continent] factor with 5 levels\n",
       "\\item[year] ranges from 1952 to 2007 in increments of 5 years\n",
       "\\item[lifeExp] life expectancy at birth, in years\n",
       "\\item[pop] population\n",
       "\\item[gdpPercap] GDP per capita (US\\$, inflation-adjusted)\n",
       "\n",
       "\\end{description}\n",
       "\n",
       "\n",
       "The supplemental data frame \\code{\\LinkA{gapminder\\_unfiltered}{gapminder.Rul.unfiltered}} was not\n",
       "filtered on \\code{year} or for complete data and has 3313 rows.\n",
       "\\end{Format}\n",
       "%\n",
       "\\begin{Source}\\relax\n",
       "\\url{https://www.gapminder.org/data/}\n",
       "\\end{Source}\n",
       "%\n",
       "\\begin{SeeAlso}\\relax\n",
       "\\code{\\LinkA{country\\_colors}{country.Rul.colors}} for a nice color scheme for the countries\n",
       "\\end{SeeAlso}\n",
       "%\n",
       "\\begin{Examples}\n",
       "\\begin{ExampleCode}\n",
       "str(gapminder)\n",
       "head(gapminder)\n",
       "summary(gapminder)\n",
       "table(gapminder$continent)\n",
       "aggregate(lifeExp ~ continent, gapminder, median)\n",
       "plot(lifeExp ~ year, gapminder, subset = country == \"Cambodia\", type = \"b\")\n",
       "plot(lifeExp ~ gdpPercap, gapminder, subset = year == 2007, log = \"x\")\n",
       "\n",
       "if (require(\"dplyr\")) {\n",
       "  gapminder %>%\n",
       "    filter(year == 2007) %>%\n",
       "    group_by(continent) %>%\n",
       "    summarise(lifeExp = median(lifeExp))\n",
       "\n",
       "  # how many unique countries does the data contain, by continent?\n",
       "  gapminder %>%\n",
       "    group_by(continent) %>%\n",
       "    summarize(n_obs = n(), n_countries = n_distinct(country))\n",
       "\n",
       "  # by continent, which country experienced the sharpest 5-year drop in\n",
       "  # life expectancy and what was the drop?\n",
       "  gapminder %>%\n",
       "    group_by(continent, country) %>%\n",
       "    select(country, year, continent, lifeExp) %>%\n",
       "    mutate(le_delta = lifeExp - lag(lifeExp)) %>%\n",
       "    summarize(worst_le_delta = min(le_delta, na.rm = TRUE)) %>%\n",
       "    filter(min_rank(worst_le_delta) < 2) %>%\n",
       "    arrange(worst_le_delta)\n",
       "}\n",
       "\n",
       "\\end{ExampleCode}\n",
       "\\end{Examples}"
      ],
      "text/plain": [
       "gapminder              package:gapminder               R Documentation\n",
       "\n",
       "_\bG_\ba_\bp_\bm_\bi_\bn_\bd_\be_\br _\bd_\ba_\bt_\ba\n",
       "\n",
       "_\bD_\be_\bs_\bc_\br_\bi_\bp_\bt_\bi_\bo_\bn:\n",
       "\n",
       "     Excerpt of the Gapminder data on life expectancy, GDP per capita,\n",
       "     and population by country.\n",
       "\n",
       "_\bU_\bs_\ba_\bg_\be:\n",
       "\n",
       "     gapminder\n",
       "     \n",
       "_\bF_\bo_\br_\bm_\ba_\bt:\n",
       "\n",
       "     The main data frame 'gapminder' has 1704 rows and 6 variables:\n",
       "\n",
       "     country factor with 142 levels\n",
       "\n",
       "     continent factor with 5 levels\n",
       "\n",
       "     year ranges from 1952 to 2007 in increments of 5 years\n",
       "\n",
       "     lifeExp life expectancy at birth, in years\n",
       "\n",
       "     pop population\n",
       "\n",
       "     gdpPercap GDP per capita (US$, inflation-adjusted)\n",
       "\n",
       "     The supplemental data frame 'gapminder_unfiltered' was not\n",
       "     filtered on 'year' or for complete data and has 3313 rows.\n",
       "\n",
       "_\bS_\bo_\bu_\br_\bc_\be:\n",
       "\n",
       "     <URL: https://www.gapminder.org/data/>\n",
       "\n",
       "_\bS_\be_\be _\bA_\bl_\bs_\bo:\n",
       "\n",
       "     'country_colors' for a nice color scheme for the countries\n",
       "\n",
       "_\bE_\bx_\ba_\bm_\bp_\bl_\be_\bs:\n",
       "\n",
       "     str(gapminder)\n",
       "     head(gapminder)\n",
       "     summary(gapminder)\n",
       "     table(gapminder$continent)\n",
       "     aggregate(lifeExp ~ continent, gapminder, median)\n",
       "     plot(lifeExp ~ year, gapminder, subset = country == \"Cambodia\", type = \"b\")\n",
       "     plot(lifeExp ~ gdpPercap, gapminder, subset = year == 2007, log = \"x\")\n",
       "     \n",
       "     if (require(\"dplyr\")) {\n",
       "       gapminder %>%\n",
       "         filter(year == 2007) %>%\n",
       "         group_by(continent) %>%\n",
       "         summarise(lifeExp = median(lifeExp))\n",
       "     \n",
       "       # how many unique countries does the data contain, by continent?\n",
       "       gapminder %>%\n",
       "         group_by(continent) %>%\n",
       "         summarize(n_obs = n(), n_countries = n_distinct(country))\n",
       "     \n",
       "       # by continent, which country experienced the sharpest 5-year drop in\n",
       "       # life expectancy and what was the drop?\n",
       "       gapminder %>%\n",
       "         group_by(continent, country) %>%\n",
       "         select(country, year, continent, lifeExp) %>%\n",
       "         mutate(le_delta = lifeExp - lag(lifeExp)) %>%\n",
       "         summarize(worst_le_delta = min(le_delta, na.rm = TRUE)) %>%\n",
       "         filter(min_rank(worst_le_delta) < 2) %>%\n",
       "         arrange(worst_le_delta)\n",
       "     }\n",
       "     "
      ]
     },
     "metadata": {},
     "output_type": "display_data"
    }
   ],
   "source": [
    "?gapminder"
   ]
  },
  {
   "cell_type": "code",
   "execution_count": 10,
   "id": "80cbb57f-d478-47d7-bd44-c39c757d29c1",
   "metadata": {},
   "outputs": [
    {
     "name": "stdout",
     "output_type": "stream",
     "text": [
      "tibble [1,704 x 6] (S3: tbl_df/tbl/data.frame)\n",
      " $ country  : Factor w/ 142 levels \"Afghanistan\",..: 1 1 1 1 1 1 1 1 1 1 ...\n",
      " $ continent: Factor w/ 5 levels \"Africa\",\"Americas\",..: 3 3 3 3 3 3 3 3 3 3 ...\n",
      " $ year     : int [1:1704] 1952 1957 1962 1967 1972 1977 1982 1987 1992 1997 ...\n",
      " $ lifeExp  : num [1:1704] 28.8 30.3 32 34 36.1 ...\n",
      " $ pop      : int [1:1704] 8425333 9240934 10267083 11537966 13079460 14880372 12881816 13867957 16317921 22227415 ...\n",
      " $ gdpPercap: num [1:1704] 779 821 853 836 740 ...\n"
     ]
    }
   ],
   "source": [
    "str(gapminder)"
   ]
  },
  {
   "cell_type": "code",
   "execution_count": 11,
   "id": "a19acb0c-7401-41ed-9fb7-f1bfd98617df",
   "metadata": {},
   "outputs": [
    {
     "name": "stdout",
     "output_type": "stream",
     "text": [
      "Rows: 1,704\n",
      "Columns: 6\n",
      "$ country   \u001b[3m\u001b[90m<fct>\u001b[39m\u001b[23m \"Afghanistan\", \"Afghanistan\", \"Afghanistan\", \"Afghanistan\", ~\n",
      "$ continent \u001b[3m\u001b[90m<fct>\u001b[39m\u001b[23m Asia, Asia, Asia, Asia, Asia, Asia, Asia, Asia, Asia, Asia, ~\n",
      "$ year      \u001b[3m\u001b[90m<int>\u001b[39m\u001b[23m 1952, 1957, 1962, 1967, 1972, 1977, 1982, 1987, 1992, 1997, ~\n",
      "$ lifeExp   \u001b[3m\u001b[90m<dbl>\u001b[39m\u001b[23m 28.801, 30.332, 31.997, 34.020, 36.088, 38.438, 39.854, 40.8~\n",
      "$ pop       \u001b[3m\u001b[90m<int>\u001b[39m\u001b[23m 8425333, 9240934, 10267083, 11537966, 13079460, 14880372, 12~\n",
      "$ gdpPercap \u001b[3m\u001b[90m<dbl>\u001b[39m\u001b[23m 779.4453, 820.8530, 853.1007, 836.1971, 739.9811, 786.1134, ~\n"
     ]
    }
   ],
   "source": [
    "glimpse(gapminder)"
   ]
  },
  {
   "cell_type": "code",
   "execution_count": 12,
   "id": "8e5900dc-92bd-43c8-90af-a8f1b5028fc6",
   "metadata": {},
   "outputs": [
    {
     "data": {
      "text/html": [
       "<table class=\"dataframe\">\n",
       "<caption>A tibble: 6 x 6</caption>\n",
       "<thead>\n",
       "\t<tr><th scope=col>country</th><th scope=col>continent</th><th scope=col>year</th><th scope=col>lifeExp</th><th scope=col>pop</th><th scope=col>gdpPercap</th></tr>\n",
       "\t<tr><th scope=col>&lt;fct&gt;</th><th scope=col>&lt;fct&gt;</th><th scope=col>&lt;int&gt;</th><th scope=col>&lt;dbl&gt;</th><th scope=col>&lt;int&gt;</th><th scope=col>&lt;dbl&gt;</th></tr>\n",
       "</thead>\n",
       "<tbody>\n",
       "\t<tr><td>Afghanistan</td><td>Asia</td><td>1952</td><td>28.801</td><td> 8425333</td><td>779.4453</td></tr>\n",
       "\t<tr><td>Afghanistan</td><td>Asia</td><td>1957</td><td>30.332</td><td> 9240934</td><td>820.8530</td></tr>\n",
       "\t<tr><td>Afghanistan</td><td>Asia</td><td>1962</td><td>31.997</td><td>10267083</td><td>853.1007</td></tr>\n",
       "\t<tr><td>Afghanistan</td><td>Asia</td><td>1967</td><td>34.020</td><td>11537966</td><td>836.1971</td></tr>\n",
       "\t<tr><td>Afghanistan</td><td>Asia</td><td>1972</td><td>36.088</td><td>13079460</td><td>739.9811</td></tr>\n",
       "\t<tr><td>Afghanistan</td><td>Asia</td><td>1977</td><td>38.438</td><td>14880372</td><td>786.1134</td></tr>\n",
       "</tbody>\n",
       "</table>\n"
      ],
      "text/latex": [
       "A tibble: 6 x 6\n",
       "\\begin{tabular}{llllll}\n",
       " country & continent & year & lifeExp & pop & gdpPercap\\\\\n",
       " <fct> & <fct> & <int> & <dbl> & <int> & <dbl>\\\\\n",
       "\\hline\n",
       "\t Afghanistan & Asia & 1952 & 28.801 &  8425333 & 779.4453\\\\\n",
       "\t Afghanistan & Asia & 1957 & 30.332 &  9240934 & 820.8530\\\\\n",
       "\t Afghanistan & Asia & 1962 & 31.997 & 10267083 & 853.1007\\\\\n",
       "\t Afghanistan & Asia & 1967 & 34.020 & 11537966 & 836.1971\\\\\n",
       "\t Afghanistan & Asia & 1972 & 36.088 & 13079460 & 739.9811\\\\\n",
       "\t Afghanistan & Asia & 1977 & 38.438 & 14880372 & 786.1134\\\\\n",
       "\\end{tabular}\n"
      ],
      "text/markdown": [
       "\n",
       "A tibble: 6 x 6\n",
       "\n",
       "| country &lt;fct&gt; | continent &lt;fct&gt; | year &lt;int&gt; | lifeExp &lt;dbl&gt; | pop &lt;int&gt; | gdpPercap &lt;dbl&gt; |\n",
       "|---|---|---|---|---|---|\n",
       "| Afghanistan | Asia | 1952 | 28.801 |  8425333 | 779.4453 |\n",
       "| Afghanistan | Asia | 1957 | 30.332 |  9240934 | 820.8530 |\n",
       "| Afghanistan | Asia | 1962 | 31.997 | 10267083 | 853.1007 |\n",
       "| Afghanistan | Asia | 1967 | 34.020 | 11537966 | 836.1971 |\n",
       "| Afghanistan | Asia | 1972 | 36.088 | 13079460 | 739.9811 |\n",
       "| Afghanistan | Asia | 1977 | 38.438 | 14880372 | 786.1134 |\n",
       "\n"
      ],
      "text/plain": [
       "  country     continent year lifeExp pop      gdpPercap\n",
       "1 Afghanistan Asia      1952 28.801   8425333 779.4453 \n",
       "2 Afghanistan Asia      1957 30.332   9240934 820.8530 \n",
       "3 Afghanistan Asia      1962 31.997  10267083 853.1007 \n",
       "4 Afghanistan Asia      1967 34.020  11537966 836.1971 \n",
       "5 Afghanistan Asia      1972 36.088  13079460 739.9811 \n",
       "6 Afghanistan Asia      1977 38.438  14880372 786.1134 "
      ]
     },
     "metadata": {},
     "output_type": "display_data"
    }
   ],
   "source": [
    "head(gapminder)"
   ]
  },
  {
   "cell_type": "code",
   "execution_count": 13,
   "id": "340d694c-4799-4570-8d47-9fb7b12f8a0c",
   "metadata": {},
   "outputs": [
    {
     "data": {
      "text/html": [
       "<table class=\"dataframe\">\n",
       "<caption>A tibble: 6 x 6</caption>\n",
       "<thead>\n",
       "\t<tr><th scope=col>country</th><th scope=col>continent</th><th scope=col>year</th><th scope=col>lifeExp</th><th scope=col>pop</th><th scope=col>gdpPercap</th></tr>\n",
       "\t<tr><th scope=col>&lt;fct&gt;</th><th scope=col>&lt;fct&gt;</th><th scope=col>&lt;int&gt;</th><th scope=col>&lt;dbl&gt;</th><th scope=col>&lt;int&gt;</th><th scope=col>&lt;dbl&gt;</th></tr>\n",
       "</thead>\n",
       "<tbody>\n",
       "\t<tr><td>Zimbabwe</td><td>Africa</td><td>1982</td><td>60.363</td><td> 7636524</td><td>788.8550</td></tr>\n",
       "\t<tr><td>Zimbabwe</td><td>Africa</td><td>1987</td><td>62.351</td><td> 9216418</td><td>706.1573</td></tr>\n",
       "\t<tr><td>Zimbabwe</td><td>Africa</td><td>1992</td><td>60.377</td><td>10704340</td><td>693.4208</td></tr>\n",
       "\t<tr><td>Zimbabwe</td><td>Africa</td><td>1997</td><td>46.809</td><td>11404948</td><td>792.4500</td></tr>\n",
       "\t<tr><td>Zimbabwe</td><td>Africa</td><td>2002</td><td>39.989</td><td>11926563</td><td>672.0386</td></tr>\n",
       "\t<tr><td>Zimbabwe</td><td>Africa</td><td>2007</td><td>43.487</td><td>12311143</td><td>469.7093</td></tr>\n",
       "</tbody>\n",
       "</table>\n"
      ],
      "text/latex": [
       "A tibble: 6 x 6\n",
       "\\begin{tabular}{llllll}\n",
       " country & continent & year & lifeExp & pop & gdpPercap\\\\\n",
       " <fct> & <fct> & <int> & <dbl> & <int> & <dbl>\\\\\n",
       "\\hline\n",
       "\t Zimbabwe & Africa & 1982 & 60.363 &  7636524 & 788.8550\\\\\n",
       "\t Zimbabwe & Africa & 1987 & 62.351 &  9216418 & 706.1573\\\\\n",
       "\t Zimbabwe & Africa & 1992 & 60.377 & 10704340 & 693.4208\\\\\n",
       "\t Zimbabwe & Africa & 1997 & 46.809 & 11404948 & 792.4500\\\\\n",
       "\t Zimbabwe & Africa & 2002 & 39.989 & 11926563 & 672.0386\\\\\n",
       "\t Zimbabwe & Africa & 2007 & 43.487 & 12311143 & 469.7093\\\\\n",
       "\\end{tabular}\n"
      ],
      "text/markdown": [
       "\n",
       "A tibble: 6 x 6\n",
       "\n",
       "| country &lt;fct&gt; | continent &lt;fct&gt; | year &lt;int&gt; | lifeExp &lt;dbl&gt; | pop &lt;int&gt; | gdpPercap &lt;dbl&gt; |\n",
       "|---|---|---|---|---|---|\n",
       "| Zimbabwe | Africa | 1982 | 60.363 |  7636524 | 788.8550 |\n",
       "| Zimbabwe | Africa | 1987 | 62.351 |  9216418 | 706.1573 |\n",
       "| Zimbabwe | Africa | 1992 | 60.377 | 10704340 | 693.4208 |\n",
       "| Zimbabwe | Africa | 1997 | 46.809 | 11404948 | 792.4500 |\n",
       "| Zimbabwe | Africa | 2002 | 39.989 | 11926563 | 672.0386 |\n",
       "| Zimbabwe | Africa | 2007 | 43.487 | 12311143 | 469.7093 |\n",
       "\n"
      ],
      "text/plain": [
       "  country  continent year lifeExp pop      gdpPercap\n",
       "1 Zimbabwe Africa    1982 60.363   7636524 788.8550 \n",
       "2 Zimbabwe Africa    1987 62.351   9216418 706.1573 \n",
       "3 Zimbabwe Africa    1992 60.377  10704340 693.4208 \n",
       "4 Zimbabwe Africa    1997 46.809  11404948 792.4500 \n",
       "5 Zimbabwe Africa    2002 39.989  11926563 672.0386 \n",
       "6 Zimbabwe Africa    2007 43.487  12311143 469.7093 "
      ]
     },
     "metadata": {},
     "output_type": "display_data"
    }
   ],
   "source": [
    "tail(gapminder)"
   ]
  },
  {
   "cell_type": "code",
   "execution_count": 14,
   "id": "e8886286-9a6f-4a2a-9185-3318aae6e9b2",
   "metadata": {},
   "outputs": [
    {
     "data": {
      "text/plain": [
       "        country        continent        year         lifeExp     \n",
       " Afghanistan:  12   Africa  :624   Min.   :1952   Min.   :23.60  \n",
       " Albania    :  12   Americas:300   1st Qu.:1966   1st Qu.:48.20  \n",
       " Algeria    :  12   Asia    :396   Median :1980   Median :60.71  \n",
       " Angola     :  12   Europe  :360   Mean   :1980   Mean   :59.47  \n",
       " Argentina  :  12   Oceania : 24   3rd Qu.:1993   3rd Qu.:70.85  \n",
       " Australia  :  12                  Max.   :2007   Max.   :82.60  \n",
       " (Other)    :1632                                                \n",
       "      pop              gdpPercap       \n",
       " Min.   :6.001e+04   Min.   :   241.2  \n",
       " 1st Qu.:2.794e+06   1st Qu.:  1202.1  \n",
       " Median :7.024e+06   Median :  3531.8  \n",
       " Mean   :2.960e+07   Mean   :  7215.3  \n",
       " 3rd Qu.:1.959e+07   3rd Qu.:  9325.5  \n",
       " Max.   :1.319e+09   Max.   :113523.1  \n",
       "                                       "
      ]
     },
     "metadata": {},
     "output_type": "display_data"
    }
   ],
   "source": [
    "summary(gapminder)"
   ]
  },
  {
   "cell_type": "markdown",
   "id": "091e306a-a0b1-4741-87df-1bc2325ab7cc",
   "metadata": {},
   "source": [
    "## `filter`"
   ]
  },
  {
   "cell_type": "code",
   "execution_count": 15,
   "id": "644adbe4-8f5f-4be9-b214-e26d80dd0170",
   "metadata": {},
   "outputs": [],
   "source": [
    "data <- gapminder"
   ]
  },
  {
   "cell_type": "code",
   "execution_count": 16,
   "id": "5d20debe-d885-4522-a3f7-167e648bc93e",
   "metadata": {},
   "outputs": [],
   "source": [
    "canada <- filter(data, country == \"Canada\")"
   ]
  },
  {
   "cell_type": "code",
   "execution_count": 17,
   "id": "c0dda681-d2fa-48f5-a8b6-790efe541420",
   "metadata": {},
   "outputs": [],
   "source": [
    "canada <- data |> filter(country == \"Canada\")"
   ]
  },
  {
   "cell_type": "code",
   "execution_count": 18,
   "id": "636247e9-c24a-4d9e-adfc-fa034abc9dfa",
   "metadata": {},
   "outputs": [],
   "source": [
    "# |> 4.1 \n",
    "# %>% < 4.09"
   ]
  },
  {
   "cell_type": "code",
   "execution_count": 19,
   "id": "5c862fe0-7dc9-489d-9df4-090df51b2c54",
   "metadata": {},
   "outputs": [
    {
     "data": {
      "text/html": [
       "<table class=\"dataframe\">\n",
       "<caption>A tibble: 12 x 6</caption>\n",
       "<thead>\n",
       "\t<tr><th scope=col>country</th><th scope=col>continent</th><th scope=col>year</th><th scope=col>lifeExp</th><th scope=col>pop</th><th scope=col>gdpPercap</th></tr>\n",
       "\t<tr><th scope=col>&lt;fct&gt;</th><th scope=col>&lt;fct&gt;</th><th scope=col>&lt;int&gt;</th><th scope=col>&lt;dbl&gt;</th><th scope=col>&lt;int&gt;</th><th scope=col>&lt;dbl&gt;</th></tr>\n",
       "</thead>\n",
       "<tbody>\n",
       "\t<tr><td>Canada</td><td>Americas</td><td>1952</td><td>68.750</td><td>14785584</td><td>11367.16</td></tr>\n",
       "\t<tr><td>Canada</td><td>Americas</td><td>1957</td><td>69.960</td><td>17010154</td><td>12489.95</td></tr>\n",
       "\t<tr><td>Canada</td><td>Americas</td><td>1962</td><td>71.300</td><td>18985849</td><td>13462.49</td></tr>\n",
       "\t<tr><td>Canada</td><td>Americas</td><td>1967</td><td>72.130</td><td>20819767</td><td>16076.59</td></tr>\n",
       "\t<tr><td>Canada</td><td>Americas</td><td>1972</td><td>72.880</td><td>22284500</td><td>18970.57</td></tr>\n",
       "\t<tr><td>Canada</td><td>Americas</td><td>1977</td><td>74.210</td><td>23796400</td><td>22090.88</td></tr>\n",
       "\t<tr><td>Canada</td><td>Americas</td><td>1982</td><td>75.760</td><td>25201900</td><td>22898.79</td></tr>\n",
       "\t<tr><td>Canada</td><td>Americas</td><td>1987</td><td>76.860</td><td>26549700</td><td>26626.52</td></tr>\n",
       "\t<tr><td>Canada</td><td>Americas</td><td>1992</td><td>77.950</td><td>28523502</td><td>26342.88</td></tr>\n",
       "\t<tr><td>Canada</td><td>Americas</td><td>1997</td><td>78.610</td><td>30305843</td><td>28954.93</td></tr>\n",
       "\t<tr><td>Canada</td><td>Americas</td><td>2002</td><td>79.770</td><td>31902268</td><td>33328.97</td></tr>\n",
       "\t<tr><td>Canada</td><td>Americas</td><td>2007</td><td>80.653</td><td>33390141</td><td>36319.24</td></tr>\n",
       "</tbody>\n",
       "</table>\n"
      ],
      "text/latex": [
       "A tibble: 12 x 6\n",
       "\\begin{tabular}{llllll}\n",
       " country & continent & year & lifeExp & pop & gdpPercap\\\\\n",
       " <fct> & <fct> & <int> & <dbl> & <int> & <dbl>\\\\\n",
       "\\hline\n",
       "\t Canada & Americas & 1952 & 68.750 & 14785584 & 11367.16\\\\\n",
       "\t Canada & Americas & 1957 & 69.960 & 17010154 & 12489.95\\\\\n",
       "\t Canada & Americas & 1962 & 71.300 & 18985849 & 13462.49\\\\\n",
       "\t Canada & Americas & 1967 & 72.130 & 20819767 & 16076.59\\\\\n",
       "\t Canada & Americas & 1972 & 72.880 & 22284500 & 18970.57\\\\\n",
       "\t Canada & Americas & 1977 & 74.210 & 23796400 & 22090.88\\\\\n",
       "\t Canada & Americas & 1982 & 75.760 & 25201900 & 22898.79\\\\\n",
       "\t Canada & Americas & 1987 & 76.860 & 26549700 & 26626.52\\\\\n",
       "\t Canada & Americas & 1992 & 77.950 & 28523502 & 26342.88\\\\\n",
       "\t Canada & Americas & 1997 & 78.610 & 30305843 & 28954.93\\\\\n",
       "\t Canada & Americas & 2002 & 79.770 & 31902268 & 33328.97\\\\\n",
       "\t Canada & Americas & 2007 & 80.653 & 33390141 & 36319.24\\\\\n",
       "\\end{tabular}\n"
      ],
      "text/markdown": [
       "\n",
       "A tibble: 12 x 6\n",
       "\n",
       "| country &lt;fct&gt; | continent &lt;fct&gt; | year &lt;int&gt; | lifeExp &lt;dbl&gt; | pop &lt;int&gt; | gdpPercap &lt;dbl&gt; |\n",
       "|---|---|---|---|---|---|\n",
       "| Canada | Americas | 1952 | 68.750 | 14785584 | 11367.16 |\n",
       "| Canada | Americas | 1957 | 69.960 | 17010154 | 12489.95 |\n",
       "| Canada | Americas | 1962 | 71.300 | 18985849 | 13462.49 |\n",
       "| Canada | Americas | 1967 | 72.130 | 20819767 | 16076.59 |\n",
       "| Canada | Americas | 1972 | 72.880 | 22284500 | 18970.57 |\n",
       "| Canada | Americas | 1977 | 74.210 | 23796400 | 22090.88 |\n",
       "| Canada | Americas | 1982 | 75.760 | 25201900 | 22898.79 |\n",
       "| Canada | Americas | 1987 | 76.860 | 26549700 | 26626.52 |\n",
       "| Canada | Americas | 1992 | 77.950 | 28523502 | 26342.88 |\n",
       "| Canada | Americas | 1997 | 78.610 | 30305843 | 28954.93 |\n",
       "| Canada | Americas | 2002 | 79.770 | 31902268 | 33328.97 |\n",
       "| Canada | Americas | 2007 | 80.653 | 33390141 | 36319.24 |\n",
       "\n"
      ],
      "text/plain": [
       "   country continent year lifeExp pop      gdpPercap\n",
       "1  Canada  Americas  1952 68.750  14785584 11367.16 \n",
       "2  Canada  Americas  1957 69.960  17010154 12489.95 \n",
       "3  Canada  Americas  1962 71.300  18985849 13462.49 \n",
       "4  Canada  Americas  1967 72.130  20819767 16076.59 \n",
       "5  Canada  Americas  1972 72.880  22284500 18970.57 \n",
       "6  Canada  Americas  1977 74.210  23796400 22090.88 \n",
       "7  Canada  Americas  1982 75.760  25201900 22898.79 \n",
       "8  Canada  Americas  1987 76.860  26549700 26626.52 \n",
       "9  Canada  Americas  1992 77.950  28523502 26342.88 \n",
       "10 Canada  Americas  1997 78.610  30305843 28954.93 \n",
       "11 Canada  Americas  2002 79.770  31902268 33328.97 \n",
       "12 Canada  Americas  2007 80.653  33390141 36319.24 "
      ]
     },
     "metadata": {},
     "output_type": "display_data"
    }
   ],
   "source": [
    "canada"
   ]
  },
  {
   "cell_type": "code",
   "execution_count": 20,
   "id": "6c8c3581-bd15-4a97-9226-ba25f8fe1eec",
   "metadata": {},
   "outputs": [
    {
     "data": {
      "text/html": [
       "<table class=\"dataframe\">\n",
       "<caption>A tibble: 6 x 6</caption>\n",
       "<thead>\n",
       "\t<tr><th scope=col>country</th><th scope=col>continent</th><th scope=col>year</th><th scope=col>lifeExp</th><th scope=col>pop</th><th scope=col>gdpPercap</th></tr>\n",
       "\t<tr><th scope=col>&lt;fct&gt;</th><th scope=col>&lt;fct&gt;</th><th scope=col>&lt;int&gt;</th><th scope=col>&lt;dbl&gt;</th><th scope=col>&lt;int&gt;</th><th scope=col>&lt;dbl&gt;</th></tr>\n",
       "</thead>\n",
       "<tbody>\n",
       "\t<tr><td>Afghanistan </td><td>Asia  </td><td>1952</td><td>28.801</td><td>8425333</td><td> 779.4453</td></tr>\n",
       "\t<tr><td>Afghanistan </td><td>Asia  </td><td>1957</td><td>30.332</td><td>9240934</td><td> 820.8530</td></tr>\n",
       "\t<tr><td>Angola      </td><td>Africa</td><td>1952</td><td>30.015</td><td>4232095</td><td>3520.6103</td></tr>\n",
       "\t<tr><td>Gambia      </td><td>Africa</td><td>1952</td><td>30.000</td><td> 284320</td><td> 485.2307</td></tr>\n",
       "\t<tr><td>Rwanda      </td><td>Africa</td><td>1992</td><td>23.599</td><td>7290203</td><td> 737.0686</td></tr>\n",
       "\t<tr><td>Sierra Leone</td><td>Africa</td><td>1952</td><td>30.331</td><td>2143249</td><td> 879.7877</td></tr>\n",
       "</tbody>\n",
       "</table>\n"
      ],
      "text/latex": [
       "A tibble: 6 x 6\n",
       "\\begin{tabular}{llllll}\n",
       " country & continent & year & lifeExp & pop & gdpPercap\\\\\n",
       " <fct> & <fct> & <int> & <dbl> & <int> & <dbl>\\\\\n",
       "\\hline\n",
       "\t Afghanistan  & Asia   & 1952 & 28.801 & 8425333 &  779.4453\\\\\n",
       "\t Afghanistan  & Asia   & 1957 & 30.332 & 9240934 &  820.8530\\\\\n",
       "\t Angola       & Africa & 1952 & 30.015 & 4232095 & 3520.6103\\\\\n",
       "\t Gambia       & Africa & 1952 & 30.000 &  284320 &  485.2307\\\\\n",
       "\t Rwanda       & Africa & 1992 & 23.599 & 7290203 &  737.0686\\\\\n",
       "\t Sierra Leone & Africa & 1952 & 30.331 & 2143249 &  879.7877\\\\\n",
       "\\end{tabular}\n"
      ],
      "text/markdown": [
       "\n",
       "A tibble: 6 x 6\n",
       "\n",
       "| country &lt;fct&gt; | continent &lt;fct&gt; | year &lt;int&gt; | lifeExp &lt;dbl&gt; | pop &lt;int&gt; | gdpPercap &lt;dbl&gt; |\n",
       "|---|---|---|---|---|---|\n",
       "| Afghanistan  | Asia   | 1952 | 28.801 | 8425333 |  779.4453 |\n",
       "| Afghanistan  | Asia   | 1957 | 30.332 | 9240934 |  820.8530 |\n",
       "| Angola       | Africa | 1952 | 30.015 | 4232095 | 3520.6103 |\n",
       "| Gambia       | Africa | 1952 | 30.000 |  284320 |  485.2307 |\n",
       "| Rwanda       | Africa | 1992 | 23.599 | 7290203 |  737.0686 |\n",
       "| Sierra Leone | Africa | 1952 | 30.331 | 2143249 |  879.7877 |\n",
       "\n"
      ],
      "text/plain": [
       "  country      continent year lifeExp pop     gdpPercap\n",
       "1 Afghanistan  Asia      1952 28.801  8425333  779.4453\n",
       "2 Afghanistan  Asia      1957 30.332  9240934  820.8530\n",
       "3 Angola       Africa    1952 30.015  4232095 3520.6103\n",
       "4 Gambia       Africa    1952 30.000   284320  485.2307\n",
       "5 Rwanda       Africa    1992 23.599  7290203  737.0686\n",
       "6 Sierra Leone Africa    1952 30.331  2143249  879.7877"
      ]
     },
     "metadata": {},
     "output_type": "display_data"
    }
   ],
   "source": [
    "filter(data, lifeExp < 31)"
   ]
  },
  {
   "cell_type": "code",
   "execution_count": 21,
   "id": "ea729a88-7957-494a-8a76-816172837f33",
   "metadata": {},
   "outputs": [
    {
     "data": {
      "text/html": [
       "<table class=\"dataframe\">\n",
       "<caption>A tibble: 4 x 6</caption>\n",
       "<thead>\n",
       "\t<tr><th scope=col>country</th><th scope=col>continent</th><th scope=col>year</th><th scope=col>lifeExp</th><th scope=col>pop</th><th scope=col>gdpPercap</th></tr>\n",
       "\t<tr><th scope=col>&lt;fct&gt;</th><th scope=col>&lt;fct&gt;</th><th scope=col>&lt;int&gt;</th><th scope=col>&lt;dbl&gt;</th><th scope=col>&lt;int&gt;</th><th scope=col>&lt;dbl&gt;</th></tr>\n",
       "</thead>\n",
       "<tbody>\n",
       "\t<tr><td>Austria</td><td>Europe</td><td>1992</td><td>76.040</td><td>7914969</td><td>27042.02</td></tr>\n",
       "\t<tr><td>Austria</td><td>Europe</td><td>1997</td><td>77.510</td><td>8069876</td><td>29095.92</td></tr>\n",
       "\t<tr><td>Austria</td><td>Europe</td><td>2002</td><td>78.980</td><td>8148312</td><td>32417.61</td></tr>\n",
       "\t<tr><td>Austria</td><td>Europe</td><td>2007</td><td>79.829</td><td>8199783</td><td>36126.49</td></tr>\n",
       "</tbody>\n",
       "</table>\n"
      ],
      "text/latex": [
       "A tibble: 4 x 6\n",
       "\\begin{tabular}{llllll}\n",
       " country & continent & year & lifeExp & pop & gdpPercap\\\\\n",
       " <fct> & <fct> & <int> & <dbl> & <int> & <dbl>\\\\\n",
       "\\hline\n",
       "\t Austria & Europe & 1992 & 76.040 & 7914969 & 27042.02\\\\\n",
       "\t Austria & Europe & 1997 & 77.510 & 8069876 & 29095.92\\\\\n",
       "\t Austria & Europe & 2002 & 78.980 & 8148312 & 32417.61\\\\\n",
       "\t Austria & Europe & 2007 & 79.829 & 8199783 & 36126.49\\\\\n",
       "\\end{tabular}\n"
      ],
      "text/markdown": [
       "\n",
       "A tibble: 4 x 6\n",
       "\n",
       "| country &lt;fct&gt; | continent &lt;fct&gt; | year &lt;int&gt; | lifeExp &lt;dbl&gt; | pop &lt;int&gt; | gdpPercap &lt;dbl&gt; |\n",
       "|---|---|---|---|---|---|\n",
       "| Austria | Europe | 1992 | 76.040 | 7914969 | 27042.02 |\n",
       "| Austria | Europe | 1997 | 77.510 | 8069876 | 29095.92 |\n",
       "| Austria | Europe | 2002 | 78.980 | 8148312 | 32417.61 |\n",
       "| Austria | Europe | 2007 | 79.829 | 8199783 | 36126.49 |\n",
       "\n"
      ],
      "text/plain": [
       "  country continent year lifeExp pop     gdpPercap\n",
       "1 Austria Europe    1992 76.040  7914969 27042.02 \n",
       "2 Austria Europe    1997 77.510  8069876 29095.92 \n",
       "3 Austria Europe    2002 78.980  8148312 32417.61 \n",
       "4 Austria Europe    2007 79.829  8199783 36126.49 "
      ]
     },
     "metadata": {},
     "output_type": "display_data"
    }
   ],
   "source": [
    "filter(data, country == \"Austria\", year > 1990)"
   ]
  },
  {
   "cell_type": "code",
   "execution_count": 22,
   "id": "7bc8e95c-9797-4176-bdc9-87bb81ad1ab3",
   "metadata": {},
   "outputs": [
    {
     "data": {
      "text/html": [
       "<table class=\"dataframe\">\n",
       "<caption>A tibble: 8 x 6</caption>\n",
       "<thead>\n",
       "\t<tr><th scope=col>country</th><th scope=col>continent</th><th scope=col>year</th><th scope=col>lifeExp</th><th scope=col>pop</th><th scope=col>gdpPercap</th></tr>\n",
       "\t<tr><th scope=col>&lt;fct&gt;</th><th scope=col>&lt;fct&gt;</th><th scope=col>&lt;int&gt;</th><th scope=col>&lt;dbl&gt;</th><th scope=col>&lt;int&gt;</th><th scope=col>&lt;dbl&gt;</th></tr>\n",
       "</thead>\n",
       "<tbody>\n",
       "\t<tr><td>Austria</td><td>Europe  </td><td>1992</td><td>76.040</td><td> 7914969</td><td>27042.02</td></tr>\n",
       "\t<tr><td>Austria</td><td>Europe  </td><td>1997</td><td>77.510</td><td> 8069876</td><td>29095.92</td></tr>\n",
       "\t<tr><td>Austria</td><td>Europe  </td><td>2002</td><td>78.980</td><td> 8148312</td><td>32417.61</td></tr>\n",
       "\t<tr><td>Austria</td><td>Europe  </td><td>2007</td><td>79.829</td><td> 8199783</td><td>36126.49</td></tr>\n",
       "\t<tr><td>Canada </td><td>Americas</td><td>1992</td><td>77.950</td><td>28523502</td><td>26342.88</td></tr>\n",
       "\t<tr><td>Canada </td><td>Americas</td><td>1997</td><td>78.610</td><td>30305843</td><td>28954.93</td></tr>\n",
       "\t<tr><td>Canada </td><td>Americas</td><td>2002</td><td>79.770</td><td>31902268</td><td>33328.97</td></tr>\n",
       "\t<tr><td>Canada </td><td>Americas</td><td>2007</td><td>80.653</td><td>33390141</td><td>36319.24</td></tr>\n",
       "</tbody>\n",
       "</table>\n"
      ],
      "text/latex": [
       "A tibble: 8 x 6\n",
       "\\begin{tabular}{llllll}\n",
       " country & continent & year & lifeExp & pop & gdpPercap\\\\\n",
       " <fct> & <fct> & <int> & <dbl> & <int> & <dbl>\\\\\n",
       "\\hline\n",
       "\t Austria & Europe   & 1992 & 76.040 &  7914969 & 27042.02\\\\\n",
       "\t Austria & Europe   & 1997 & 77.510 &  8069876 & 29095.92\\\\\n",
       "\t Austria & Europe   & 2002 & 78.980 &  8148312 & 32417.61\\\\\n",
       "\t Austria & Europe   & 2007 & 79.829 &  8199783 & 36126.49\\\\\n",
       "\t Canada  & Americas & 1992 & 77.950 & 28523502 & 26342.88\\\\\n",
       "\t Canada  & Americas & 1997 & 78.610 & 30305843 & 28954.93\\\\\n",
       "\t Canada  & Americas & 2002 & 79.770 & 31902268 & 33328.97\\\\\n",
       "\t Canada  & Americas & 2007 & 80.653 & 33390141 & 36319.24\\\\\n",
       "\\end{tabular}\n"
      ],
      "text/markdown": [
       "\n",
       "A tibble: 8 x 6\n",
       "\n",
       "| country &lt;fct&gt; | continent &lt;fct&gt; | year &lt;int&gt; | lifeExp &lt;dbl&gt; | pop &lt;int&gt; | gdpPercap &lt;dbl&gt; |\n",
       "|---|---|---|---|---|---|\n",
       "| Austria | Europe   | 1992 | 76.040 |  7914969 | 27042.02 |\n",
       "| Austria | Europe   | 1997 | 77.510 |  8069876 | 29095.92 |\n",
       "| Austria | Europe   | 2002 | 78.980 |  8148312 | 32417.61 |\n",
       "| Austria | Europe   | 2007 | 79.829 |  8199783 | 36126.49 |\n",
       "| Canada  | Americas | 1992 | 77.950 | 28523502 | 26342.88 |\n",
       "| Canada  | Americas | 1997 | 78.610 | 30305843 | 28954.93 |\n",
       "| Canada  | Americas | 2002 | 79.770 | 31902268 | 33328.97 |\n",
       "| Canada  | Americas | 2007 | 80.653 | 33390141 | 36319.24 |\n",
       "\n"
      ],
      "text/plain": [
       "  country continent year lifeExp pop      gdpPercap\n",
       "1 Austria Europe    1992 76.040   7914969 27042.02 \n",
       "2 Austria Europe    1997 77.510   8069876 29095.92 \n",
       "3 Austria Europe    2002 78.980   8148312 32417.61 \n",
       "4 Austria Europe    2007 79.829   8199783 36126.49 \n",
       "5 Canada  Americas  1992 77.950  28523502 26342.88 \n",
       "6 Canada  Americas  1997 78.610  30305843 28954.93 \n",
       "7 Canada  Americas  2002 79.770  31902268 33328.97 \n",
       "8 Canada  Americas  2007 80.653  33390141 36319.24 "
      ]
     },
     "metadata": {},
     "output_type": "display_data"
    }
   ],
   "source": [
    "filter(data, country %in% c(\"Austria\", \"Canada\"), year > 1990)"
   ]
  },
  {
   "cell_type": "code",
   "execution_count": 23,
   "id": "4d28c03d-d45a-4dff-8371-421cb700fcd8",
   "metadata": {},
   "outputs": [
    {
     "data": {
      "text/html": [
       "<table class=\"dataframe\">\n",
       "<caption>A tibble: 6 x 6</caption>\n",
       "<thead>\n",
       "\t<tr><th scope=col>country</th><th scope=col>continent</th><th scope=col>year</th><th scope=col>lifeExp</th><th scope=col>pop</th><th scope=col>gdpPercap</th></tr>\n",
       "\t<tr><th scope=col>&lt;fct&gt;</th><th scope=col>&lt;fct&gt;</th><th scope=col>&lt;int&gt;</th><th scope=col>&lt;dbl&gt;</th><th scope=col>&lt;int&gt;</th><th scope=col>&lt;dbl&gt;</th></tr>\n",
       "</thead>\n",
       "<tbody>\n",
       "\t<tr><td>Afghanistan</td><td>Asia</td><td>1952</td><td>28.801</td><td> 8425333</td><td>779.4453</td></tr>\n",
       "\t<tr><td>Afghanistan</td><td>Asia</td><td>1957</td><td>30.332</td><td> 9240934</td><td>820.8530</td></tr>\n",
       "\t<tr><td>Afghanistan</td><td>Asia</td><td>1962</td><td>31.997</td><td>10267083</td><td>853.1007</td></tr>\n",
       "\t<tr><td>Afghanistan</td><td>Asia</td><td>1967</td><td>34.020</td><td>11537966</td><td>836.1971</td></tr>\n",
       "\t<tr><td>Afghanistan</td><td>Asia</td><td>1972</td><td>36.088</td><td>13079460</td><td>739.9811</td></tr>\n",
       "\t<tr><td>Afghanistan</td><td>Asia</td><td>1977</td><td>38.438</td><td>14880372</td><td>786.1134</td></tr>\n",
       "</tbody>\n",
       "</table>\n"
      ],
      "text/latex": [
       "A tibble: 6 x 6\n",
       "\\begin{tabular}{llllll}\n",
       " country & continent & year & lifeExp & pop & gdpPercap\\\\\n",
       " <fct> & <fct> & <int> & <dbl> & <int> & <dbl>\\\\\n",
       "\\hline\n",
       "\t Afghanistan & Asia & 1952 & 28.801 &  8425333 & 779.4453\\\\\n",
       "\t Afghanistan & Asia & 1957 & 30.332 &  9240934 & 820.8530\\\\\n",
       "\t Afghanistan & Asia & 1962 & 31.997 & 10267083 & 853.1007\\\\\n",
       "\t Afghanistan & Asia & 1967 & 34.020 & 11537966 & 836.1971\\\\\n",
       "\t Afghanistan & Asia & 1972 & 36.088 & 13079460 & 739.9811\\\\\n",
       "\t Afghanistan & Asia & 1977 & 38.438 & 14880372 & 786.1134\\\\\n",
       "\\end{tabular}\n"
      ],
      "text/markdown": [
       "\n",
       "A tibble: 6 x 6\n",
       "\n",
       "| country &lt;fct&gt; | continent &lt;fct&gt; | year &lt;int&gt; | lifeExp &lt;dbl&gt; | pop &lt;int&gt; | gdpPercap &lt;dbl&gt; |\n",
       "|---|---|---|---|---|---|\n",
       "| Afghanistan | Asia | 1952 | 28.801 |  8425333 | 779.4453 |\n",
       "| Afghanistan | Asia | 1957 | 30.332 |  9240934 | 820.8530 |\n",
       "| Afghanistan | Asia | 1962 | 31.997 | 10267083 | 853.1007 |\n",
       "| Afghanistan | Asia | 1967 | 34.020 | 11537966 | 836.1971 |\n",
       "| Afghanistan | Asia | 1972 | 36.088 | 13079460 | 739.9811 |\n",
       "| Afghanistan | Asia | 1977 | 38.438 | 14880372 | 786.1134 |\n",
       "\n"
      ],
      "text/plain": [
       "  country     continent year lifeExp pop      gdpPercap\n",
       "1 Afghanistan Asia      1952 28.801   8425333 779.4453 \n",
       "2 Afghanistan Asia      1957 30.332   9240934 820.8530 \n",
       "3 Afghanistan Asia      1962 31.997  10267083 853.1007 \n",
       "4 Afghanistan Asia      1967 34.020  11537966 836.1971 \n",
       "5 Afghanistan Asia      1972 36.088  13079460 739.9811 \n",
       "6 Afghanistan Asia      1977 38.438  14880372 786.1134 "
      ]
     },
     "metadata": {},
     "output_type": "display_data"
    }
   ],
   "source": [
    "head(data)"
   ]
  },
  {
   "cell_type": "code",
   "execution_count": 24,
   "id": "3c47e3f6-e9e3-4cb9-bd2c-cf99d3a52d92",
   "metadata": {},
   "outputs": [
    {
     "data": {
      "text/html": [
       "<table class=\"dataframe\">\n",
       "<caption>A tibble: 6 x 6</caption>\n",
       "<thead>\n",
       "\t<tr><th scope=col>country</th><th scope=col>continent</th><th scope=col>year</th><th scope=col>lifeExp</th><th scope=col>pop</th><th scope=col>gdpPercap</th></tr>\n",
       "\t<tr><th scope=col>&lt;fct&gt;</th><th scope=col>&lt;fct&gt;</th><th scope=col>&lt;int&gt;</th><th scope=col>&lt;dbl&gt;</th><th scope=col>&lt;int&gt;</th><th scope=col>&lt;dbl&gt;</th></tr>\n",
       "</thead>\n",
       "<tbody>\n",
       "\t<tr><td>Afghanistan</td><td>Asia</td><td>1952</td><td>28.801</td><td> 8425333</td><td>779.4453</td></tr>\n",
       "\t<tr><td>Afghanistan</td><td>Asia</td><td>1957</td><td>30.332</td><td> 9240934</td><td>820.8530</td></tr>\n",
       "\t<tr><td>Afghanistan</td><td>Asia</td><td>1962</td><td>31.997</td><td>10267083</td><td>853.1007</td></tr>\n",
       "\t<tr><td>Afghanistan</td><td>Asia</td><td>1967</td><td>34.020</td><td>11537966</td><td>836.1971</td></tr>\n",
       "\t<tr><td>Afghanistan</td><td>Asia</td><td>1972</td><td>36.088</td><td>13079460</td><td>739.9811</td></tr>\n",
       "\t<tr><td>Afghanistan</td><td>Asia</td><td>1977</td><td>38.438</td><td>14880372</td><td>786.1134</td></tr>\n",
       "</tbody>\n",
       "</table>\n"
      ],
      "text/latex": [
       "A tibble: 6 x 6\n",
       "\\begin{tabular}{llllll}\n",
       " country & continent & year & lifeExp & pop & gdpPercap\\\\\n",
       " <fct> & <fct> & <int> & <dbl> & <int> & <dbl>\\\\\n",
       "\\hline\n",
       "\t Afghanistan & Asia & 1952 & 28.801 &  8425333 & 779.4453\\\\\n",
       "\t Afghanistan & Asia & 1957 & 30.332 &  9240934 & 820.8530\\\\\n",
       "\t Afghanistan & Asia & 1962 & 31.997 & 10267083 & 853.1007\\\\\n",
       "\t Afghanistan & Asia & 1967 & 34.020 & 11537966 & 836.1971\\\\\n",
       "\t Afghanistan & Asia & 1972 & 36.088 & 13079460 & 739.9811\\\\\n",
       "\t Afghanistan & Asia & 1977 & 38.438 & 14880372 & 786.1134\\\\\n",
       "\\end{tabular}\n"
      ],
      "text/markdown": [
       "\n",
       "A tibble: 6 x 6\n",
       "\n",
       "| country &lt;fct&gt; | continent &lt;fct&gt; | year &lt;int&gt; | lifeExp &lt;dbl&gt; | pop &lt;int&gt; | gdpPercap &lt;dbl&gt; |\n",
       "|---|---|---|---|---|---|\n",
       "| Afghanistan | Asia | 1952 | 28.801 |  8425333 | 779.4453 |\n",
       "| Afghanistan | Asia | 1957 | 30.332 |  9240934 | 820.8530 |\n",
       "| Afghanistan | Asia | 1962 | 31.997 | 10267083 | 853.1007 |\n",
       "| Afghanistan | Asia | 1967 | 34.020 | 11537966 | 836.1971 |\n",
       "| Afghanistan | Asia | 1972 | 36.088 | 13079460 | 739.9811 |\n",
       "| Afghanistan | Asia | 1977 | 38.438 | 14880372 | 786.1134 |\n",
       "\n"
      ],
      "text/plain": [
       "  country     continent year lifeExp pop      gdpPercap\n",
       "1 Afghanistan Asia      1952 28.801   8425333 779.4453 \n",
       "2 Afghanistan Asia      1957 30.332   9240934 820.8530 \n",
       "3 Afghanistan Asia      1962 31.997  10267083 853.1007 \n",
       "4 Afghanistan Asia      1967 34.020  11537966 836.1971 \n",
       "5 Afghanistan Asia      1972 36.088  13079460 739.9811 \n",
       "6 Afghanistan Asia      1977 38.438  14880372 786.1134 "
      ]
     },
     "metadata": {},
     "output_type": "display_data"
    }
   ],
   "source": [
    "data |> head()"
   ]
  },
  {
   "cell_type": "markdown",
   "id": "8a937c99-2a79-421e-8803-91713085805a",
   "metadata": {},
   "source": [
    "## `select`"
   ]
  },
  {
   "cell_type": "code",
   "execution_count": 25,
   "id": "e4c0892b-97b0-491d-a484-afb53b5c1c4c",
   "metadata": {},
   "outputs": [
    {
     "data": {
      "text/html": [
       "<table class=\"dataframe\">\n",
       "<caption>A tibble: 12 x 3</caption>\n",
       "<thead>\n",
       "\t<tr><th scope=col>year</th><th scope=col>country</th><th scope=col>pop</th></tr>\n",
       "\t<tr><th scope=col>&lt;int&gt;</th><th scope=col>&lt;fct&gt;</th><th scope=col>&lt;int&gt;</th></tr>\n",
       "</thead>\n",
       "<tbody>\n",
       "\t<tr><td>1952</td><td>Afghanistan</td><td> 8425333</td></tr>\n",
       "\t<tr><td>1957</td><td>Afghanistan</td><td> 9240934</td></tr>\n",
       "\t<tr><td>1962</td><td>Afghanistan</td><td>10267083</td></tr>\n",
       "\t<tr><td>1967</td><td>Afghanistan</td><td>11537966</td></tr>\n",
       "\t<tr><td>1972</td><td>Afghanistan</td><td>13079460</td></tr>\n",
       "\t<tr><td>1977</td><td>Afghanistan</td><td>14880372</td></tr>\n",
       "\t<tr><td>1982</td><td>Afghanistan</td><td>12881816</td></tr>\n",
       "\t<tr><td>1987</td><td>Afghanistan</td><td>13867957</td></tr>\n",
       "\t<tr><td>1992</td><td>Afghanistan</td><td>16317921</td></tr>\n",
       "\t<tr><td>1997</td><td>Afghanistan</td><td>22227415</td></tr>\n",
       "\t<tr><td>2002</td><td>Afghanistan</td><td>25268405</td></tr>\n",
       "\t<tr><td>2007</td><td>Afghanistan</td><td>31889923</td></tr>\n",
       "</tbody>\n",
       "</table>\n"
      ],
      "text/latex": [
       "A tibble: 12 x 3\n",
       "\\begin{tabular}{lll}\n",
       " year & country & pop\\\\\n",
       " <int> & <fct> & <int>\\\\\n",
       "\\hline\n",
       "\t 1952 & Afghanistan &  8425333\\\\\n",
       "\t 1957 & Afghanistan &  9240934\\\\\n",
       "\t 1962 & Afghanistan & 10267083\\\\\n",
       "\t 1967 & Afghanistan & 11537966\\\\\n",
       "\t 1972 & Afghanistan & 13079460\\\\\n",
       "\t 1977 & Afghanistan & 14880372\\\\\n",
       "\t 1982 & Afghanistan & 12881816\\\\\n",
       "\t 1987 & Afghanistan & 13867957\\\\\n",
       "\t 1992 & Afghanistan & 16317921\\\\\n",
       "\t 1997 & Afghanistan & 22227415\\\\\n",
       "\t 2002 & Afghanistan & 25268405\\\\\n",
       "\t 2007 & Afghanistan & 31889923\\\\\n",
       "\\end{tabular}\n"
      ],
      "text/markdown": [
       "\n",
       "A tibble: 12 x 3\n",
       "\n",
       "| year &lt;int&gt; | country &lt;fct&gt; | pop &lt;int&gt; |\n",
       "|---|---|---|\n",
       "| 1952 | Afghanistan |  8425333 |\n",
       "| 1957 | Afghanistan |  9240934 |\n",
       "| 1962 | Afghanistan | 10267083 |\n",
       "| 1967 | Afghanistan | 11537966 |\n",
       "| 1972 | Afghanistan | 13079460 |\n",
       "| 1977 | Afghanistan | 14880372 |\n",
       "| 1982 | Afghanistan | 12881816 |\n",
       "| 1987 | Afghanistan | 13867957 |\n",
       "| 1992 | Afghanistan | 16317921 |\n",
       "| 1997 | Afghanistan | 22227415 |\n",
       "| 2002 | Afghanistan | 25268405 |\n",
       "| 2007 | Afghanistan | 31889923 |\n",
       "\n"
      ],
      "text/plain": [
       "   year country     pop     \n",
       "1  1952 Afghanistan  8425333\n",
       "2  1957 Afghanistan  9240934\n",
       "3  1962 Afghanistan 10267083\n",
       "4  1967 Afghanistan 11537966\n",
       "5  1972 Afghanistan 13079460\n",
       "6  1977 Afghanistan 14880372\n",
       "7  1982 Afghanistan 12881816\n",
       "8  1987 Afghanistan 13867957\n",
       "9  1992 Afghanistan 16317921\n",
       "10 1997 Afghanistan 22227415\n",
       "11 2002 Afghanistan 25268405\n",
       "12 2007 Afghanistan 31889923"
      ]
     },
     "metadata": {},
     "output_type": "display_data"
    }
   ],
   "source": [
    "data |> \n",
    "    select(year, country, pop) |>\n",
    "    slice(1:12)"
   ]
  },
  {
   "cell_type": "code",
   "execution_count": 26,
   "id": "f1af7243-acc3-4a1b-b596-22e6eb3a2aa1",
   "metadata": {},
   "outputs": [
    {
     "data": {
      "text/html": [
       "<table class=\"dataframe\">\n",
       "<caption>A tibble: 12 x 3</caption>\n",
       "<thead>\n",
       "\t<tr><th scope=col>year</th><th scope=col>country</th><th scope=col>pop</th></tr>\n",
       "\t<tr><th scope=col>&lt;int&gt;</th><th scope=col>&lt;fct&gt;</th><th scope=col>&lt;int&gt;</th></tr>\n",
       "</thead>\n",
       "<tbody>\n",
       "\t<tr><td>1952</td><td>Canada</td><td>14785584</td></tr>\n",
       "\t<tr><td>1957</td><td>Canada</td><td>17010154</td></tr>\n",
       "\t<tr><td>1962</td><td>Canada</td><td>18985849</td></tr>\n",
       "\t<tr><td>1967</td><td>Canada</td><td>20819767</td></tr>\n",
       "\t<tr><td>1972</td><td>Canada</td><td>22284500</td></tr>\n",
       "\t<tr><td>1977</td><td>Canada</td><td>23796400</td></tr>\n",
       "\t<tr><td>1982</td><td>Canada</td><td>25201900</td></tr>\n",
       "\t<tr><td>1987</td><td>Canada</td><td>26549700</td></tr>\n",
       "\t<tr><td>1992</td><td>Canada</td><td>28523502</td></tr>\n",
       "\t<tr><td>1997</td><td>Canada</td><td>30305843</td></tr>\n",
       "\t<tr><td>2002</td><td>Canada</td><td>31902268</td></tr>\n",
       "\t<tr><td>2007</td><td>Canada</td><td>33390141</td></tr>\n",
       "</tbody>\n",
       "</table>\n"
      ],
      "text/latex": [
       "A tibble: 12 x 3\n",
       "\\begin{tabular}{lll}\n",
       " year & country & pop\\\\\n",
       " <int> & <fct> & <int>\\\\\n",
       "\\hline\n",
       "\t 1952 & Canada & 14785584\\\\\n",
       "\t 1957 & Canada & 17010154\\\\\n",
       "\t 1962 & Canada & 18985849\\\\\n",
       "\t 1967 & Canada & 20819767\\\\\n",
       "\t 1972 & Canada & 22284500\\\\\n",
       "\t 1977 & Canada & 23796400\\\\\n",
       "\t 1982 & Canada & 25201900\\\\\n",
       "\t 1987 & Canada & 26549700\\\\\n",
       "\t 1992 & Canada & 28523502\\\\\n",
       "\t 1997 & Canada & 30305843\\\\\n",
       "\t 2002 & Canada & 31902268\\\\\n",
       "\t 2007 & Canada & 33390141\\\\\n",
       "\\end{tabular}\n"
      ],
      "text/markdown": [
       "\n",
       "A tibble: 12 x 3\n",
       "\n",
       "| year &lt;int&gt; | country &lt;fct&gt; | pop &lt;int&gt; |\n",
       "|---|---|---|\n",
       "| 1952 | Canada | 14785584 |\n",
       "| 1957 | Canada | 17010154 |\n",
       "| 1962 | Canada | 18985849 |\n",
       "| 1967 | Canada | 20819767 |\n",
       "| 1972 | Canada | 22284500 |\n",
       "| 1977 | Canada | 23796400 |\n",
       "| 1982 | Canada | 25201900 |\n",
       "| 1987 | Canada | 26549700 |\n",
       "| 1992 | Canada | 28523502 |\n",
       "| 1997 | Canada | 30305843 |\n",
       "| 2002 | Canada | 31902268 |\n",
       "| 2007 | Canada | 33390141 |\n",
       "\n"
      ],
      "text/plain": [
       "   year country pop     \n",
       "1  1952 Canada  14785584\n",
       "2  1957 Canada  17010154\n",
       "3  1962 Canada  18985849\n",
       "4  1967 Canada  20819767\n",
       "5  1972 Canada  22284500\n",
       "6  1977 Canada  23796400\n",
       "7  1982 Canada  25201900\n",
       "8  1987 Canada  26549700\n",
       "9  1992 Canada  28523502\n",
       "10 1997 Canada  30305843\n",
       "11 2002 Canada  31902268\n",
       "12 2007 Canada  33390141"
      ]
     },
     "metadata": {},
     "output_type": "display_data"
    }
   ],
   "source": [
    "data |> \n",
    "    filter(country == \"Canada\") |>\n",
    "    select(year, country, pop) "
   ]
  },
  {
   "cell_type": "code",
   "execution_count": 27,
   "id": "04f5585e-67e0-4df1-9ed4-0c517dc9502f",
   "metadata": {},
   "outputs": [
    {
     "data": {
      "text/html": [
       "<table class=\"dataframe\">\n",
       "<caption>A tibble: 12 x 3</caption>\n",
       "<thead>\n",
       "\t<tr><th scope=col>year</th><th scope=col>country</th><th scope=col>pop</th></tr>\n",
       "\t<tr><th scope=col>&lt;int&gt;</th><th scope=col>&lt;fct&gt;</th><th scope=col>&lt;int&gt;</th></tr>\n",
       "</thead>\n",
       "<tbody>\n",
       "\t<tr><td>1952</td><td>Canada</td><td>14785584</td></tr>\n",
       "\t<tr><td>1957</td><td>Canada</td><td>17010154</td></tr>\n",
       "\t<tr><td>1962</td><td>Canada</td><td>18985849</td></tr>\n",
       "\t<tr><td>1967</td><td>Canada</td><td>20819767</td></tr>\n",
       "\t<tr><td>1972</td><td>Canada</td><td>22284500</td></tr>\n",
       "\t<tr><td>1977</td><td>Canada</td><td>23796400</td></tr>\n",
       "\t<tr><td>1982</td><td>Canada</td><td>25201900</td></tr>\n",
       "\t<tr><td>1987</td><td>Canada</td><td>26549700</td></tr>\n",
       "\t<tr><td>1992</td><td>Canada</td><td>28523502</td></tr>\n",
       "\t<tr><td>1997</td><td>Canada</td><td>30305843</td></tr>\n",
       "\t<tr><td>2002</td><td>Canada</td><td>31902268</td></tr>\n",
       "\t<tr><td>2007</td><td>Canada</td><td>33390141</td></tr>\n",
       "</tbody>\n",
       "</table>\n"
      ],
      "text/latex": [
       "A tibble: 12 x 3\n",
       "\\begin{tabular}{lll}\n",
       " year & country & pop\\\\\n",
       " <int> & <fct> & <int>\\\\\n",
       "\\hline\n",
       "\t 1952 & Canada & 14785584\\\\\n",
       "\t 1957 & Canada & 17010154\\\\\n",
       "\t 1962 & Canada & 18985849\\\\\n",
       "\t 1967 & Canada & 20819767\\\\\n",
       "\t 1972 & Canada & 22284500\\\\\n",
       "\t 1977 & Canada & 23796400\\\\\n",
       "\t 1982 & Canada & 25201900\\\\\n",
       "\t 1987 & Canada & 26549700\\\\\n",
       "\t 1992 & Canada & 28523502\\\\\n",
       "\t 1997 & Canada & 30305843\\\\\n",
       "\t 2002 & Canada & 31902268\\\\\n",
       "\t 2007 & Canada & 33390141\\\\\n",
       "\\end{tabular}\n"
      ],
      "text/markdown": [
       "\n",
       "A tibble: 12 x 3\n",
       "\n",
       "| year &lt;int&gt; | country &lt;fct&gt; | pop &lt;int&gt; |\n",
       "|---|---|---|\n",
       "| 1952 | Canada | 14785584 |\n",
       "| 1957 | Canada | 17010154 |\n",
       "| 1962 | Canada | 18985849 |\n",
       "| 1967 | Canada | 20819767 |\n",
       "| 1972 | Canada | 22284500 |\n",
       "| 1977 | Canada | 23796400 |\n",
       "| 1982 | Canada | 25201900 |\n",
       "| 1987 | Canada | 26549700 |\n",
       "| 1992 | Canada | 28523502 |\n",
       "| 1997 | Canada | 30305843 |\n",
       "| 2002 | Canada | 31902268 |\n",
       "| 2007 | Canada | 33390141 |\n",
       "\n"
      ],
      "text/plain": [
       "   year country pop     \n",
       "1  1952 Canada  14785584\n",
       "2  1957 Canada  17010154\n",
       "3  1962 Canada  18985849\n",
       "4  1967 Canada  20819767\n",
       "5  1972 Canada  22284500\n",
       "6  1977 Canada  23796400\n",
       "7  1982 Canada  25201900\n",
       "8  1987 Canada  26549700\n",
       "9  1992 Canada  28523502\n",
       "10 1997 Canada  30305843\n",
       "11 2002 Canada  31902268\n",
       "12 2007 Canada  33390141"
      ]
     },
     "metadata": {},
     "output_type": "display_data"
    }
   ],
   "source": [
    "data[data$country == \"Canada\", c(\"year\", \"country\", \"pop\")]"
   ]
  },
  {
   "cell_type": "code",
   "execution_count": 28,
   "id": "413126d2-83eb-4290-9e6a-5d2242c264b5",
   "metadata": {},
   "outputs": [
    {
     "data": {
      "text/html": [
       "<table class=\"dataframe\">\n",
       "<caption>A tibble: 12 x 4</caption>\n",
       "<thead>\n",
       "\t<tr><th scope=col>country</th><th scope=col>continent</th><th scope=col>year</th><th scope=col>lifeExp</th></tr>\n",
       "\t<tr><th scope=col>&lt;fct&gt;</th><th scope=col>&lt;fct&gt;</th><th scope=col>&lt;int&gt;</th><th scope=col>&lt;dbl&gt;</th></tr>\n",
       "</thead>\n",
       "<tbody>\n",
       "\t<tr><td>Canada</td><td>Americas</td><td>1952</td><td>68.750</td></tr>\n",
       "\t<tr><td>Canada</td><td>Americas</td><td>1957</td><td>69.960</td></tr>\n",
       "\t<tr><td>Canada</td><td>Americas</td><td>1962</td><td>71.300</td></tr>\n",
       "\t<tr><td>Canada</td><td>Americas</td><td>1967</td><td>72.130</td></tr>\n",
       "\t<tr><td>Canada</td><td>Americas</td><td>1972</td><td>72.880</td></tr>\n",
       "\t<tr><td>Canada</td><td>Americas</td><td>1977</td><td>74.210</td></tr>\n",
       "\t<tr><td>Canada</td><td>Americas</td><td>1982</td><td>75.760</td></tr>\n",
       "\t<tr><td>Canada</td><td>Americas</td><td>1987</td><td>76.860</td></tr>\n",
       "\t<tr><td>Canada</td><td>Americas</td><td>1992</td><td>77.950</td></tr>\n",
       "\t<tr><td>Canada</td><td>Americas</td><td>1997</td><td>78.610</td></tr>\n",
       "\t<tr><td>Canada</td><td>Americas</td><td>2002</td><td>79.770</td></tr>\n",
       "\t<tr><td>Canada</td><td>Americas</td><td>2007</td><td>80.653</td></tr>\n",
       "</tbody>\n",
       "</table>\n"
      ],
      "text/latex": [
       "A tibble: 12 x 4\n",
       "\\begin{tabular}{llll}\n",
       " country & continent & year & lifeExp\\\\\n",
       " <fct> & <fct> & <int> & <dbl>\\\\\n",
       "\\hline\n",
       "\t Canada & Americas & 1952 & 68.750\\\\\n",
       "\t Canada & Americas & 1957 & 69.960\\\\\n",
       "\t Canada & Americas & 1962 & 71.300\\\\\n",
       "\t Canada & Americas & 1967 & 72.130\\\\\n",
       "\t Canada & Americas & 1972 & 72.880\\\\\n",
       "\t Canada & Americas & 1977 & 74.210\\\\\n",
       "\t Canada & Americas & 1982 & 75.760\\\\\n",
       "\t Canada & Americas & 1987 & 76.860\\\\\n",
       "\t Canada & Americas & 1992 & 77.950\\\\\n",
       "\t Canada & Americas & 1997 & 78.610\\\\\n",
       "\t Canada & Americas & 2002 & 79.770\\\\\n",
       "\t Canada & Americas & 2007 & 80.653\\\\\n",
       "\\end{tabular}\n"
      ],
      "text/markdown": [
       "\n",
       "A tibble: 12 x 4\n",
       "\n",
       "| country &lt;fct&gt; | continent &lt;fct&gt; | year &lt;int&gt; | lifeExp &lt;dbl&gt; |\n",
       "|---|---|---|---|\n",
       "| Canada | Americas | 1952 | 68.750 |\n",
       "| Canada | Americas | 1957 | 69.960 |\n",
       "| Canada | Americas | 1962 | 71.300 |\n",
       "| Canada | Americas | 1967 | 72.130 |\n",
       "| Canada | Americas | 1972 | 72.880 |\n",
       "| Canada | Americas | 1977 | 74.210 |\n",
       "| Canada | Americas | 1982 | 75.760 |\n",
       "| Canada | Americas | 1987 | 76.860 |\n",
       "| Canada | Americas | 1992 | 77.950 |\n",
       "| Canada | Americas | 1997 | 78.610 |\n",
       "| Canada | Americas | 2002 | 79.770 |\n",
       "| Canada | Americas | 2007 | 80.653 |\n",
       "\n"
      ],
      "text/plain": [
       "   country continent year lifeExp\n",
       "1  Canada  Americas  1952 68.750 \n",
       "2  Canada  Americas  1957 69.960 \n",
       "3  Canada  Americas  1962 71.300 \n",
       "4  Canada  Americas  1967 72.130 \n",
       "5  Canada  Americas  1972 72.880 \n",
       "6  Canada  Americas  1977 74.210 \n",
       "7  Canada  Americas  1982 75.760 \n",
       "8  Canada  Americas  1987 76.860 \n",
       "9  Canada  Americas  1992 77.950 \n",
       "10 Canada  Americas  1997 78.610 \n",
       "11 Canada  Americas  2002 79.770 \n",
       "12 Canada  Americas  2007 80.653 "
      ]
     },
     "metadata": {},
     "output_type": "display_data"
    }
   ],
   "source": [
    "data |> \n",
    "    filter(country == \"Canada\") |>\n",
    "    select(-gdpPercap, -pop) "
   ]
  },
  {
   "cell_type": "code",
   "execution_count": 29,
   "id": "eb9733aa-ceec-4760-89fa-041aa5e240bb",
   "metadata": {},
   "outputs": [
    {
     "data": {
      "text/html": [
       "<table class=\"dataframe\">\n",
       "<caption>A tibble: 6 x 2</caption>\n",
       "<thead>\n",
       "\t<tr><th scope=col>country</th><th scope=col>continent</th></tr>\n",
       "\t<tr><th scope=col>&lt;fct&gt;</th><th scope=col>&lt;fct&gt;</th></tr>\n",
       "</thead>\n",
       "<tbody>\n",
       "\t<tr><td>Afghanistan</td><td>Asia    </td></tr>\n",
       "\t<tr><td>Albania    </td><td>Europe  </td></tr>\n",
       "\t<tr><td>Algeria    </td><td>Africa  </td></tr>\n",
       "\t<tr><td>Angola     </td><td>Africa  </td></tr>\n",
       "\t<tr><td>Argentina  </td><td>Americas</td></tr>\n",
       "\t<tr><td>Australia  </td><td>Oceania </td></tr>\n",
       "</tbody>\n",
       "</table>\n"
      ],
      "text/latex": [
       "A tibble: 6 x 2\n",
       "\\begin{tabular}{ll}\n",
       " country & continent\\\\\n",
       " <fct> & <fct>\\\\\n",
       "\\hline\n",
       "\t Afghanistan & Asia    \\\\\n",
       "\t Albania     & Europe  \\\\\n",
       "\t Algeria     & Africa  \\\\\n",
       "\t Angola      & Africa  \\\\\n",
       "\t Argentina   & Americas\\\\\n",
       "\t Australia   & Oceania \\\\\n",
       "\\end{tabular}\n"
      ],
      "text/markdown": [
       "\n",
       "A tibble: 6 x 2\n",
       "\n",
       "| country &lt;fct&gt; | continent &lt;fct&gt; |\n",
       "|---|---|\n",
       "| Afghanistan | Asia     |\n",
       "| Albania     | Europe   |\n",
       "| Algeria     | Africa   |\n",
       "| Angola      | Africa   |\n",
       "| Argentina   | Americas |\n",
       "| Australia   | Oceania  |\n",
       "\n"
      ],
      "text/plain": [
       "  country     continent\n",
       "1 Afghanistan Asia     \n",
       "2 Albania     Europe   \n",
       "3 Algeria     Africa   \n",
       "4 Angola      Africa   \n",
       "5 Argentina   Americas \n",
       "6 Australia   Oceania  "
      ]
     },
     "metadata": {},
     "output_type": "display_data"
    }
   ],
   "source": [
    "data |>\n",
    "    select(!where(is.numeric)) |>\n",
    "    distinct() |>\n",
    "    head()"
   ]
  },
  {
   "cell_type": "markdown",
   "id": "8063539f-50a8-42da-bc0e-4e300742be96",
   "metadata": {},
   "source": [
    "## `sample_n`"
   ]
  },
  {
   "cell_type": "code",
   "execution_count": 30,
   "id": "d8034da6-17e9-4771-b182-828b8ea6945e",
   "metadata": {},
   "outputs": [],
   "source": [
    "data_10 <- data |>\n",
    "    sample_n(10)"
   ]
  },
  {
   "cell_type": "code",
   "execution_count": 31,
   "id": "29ce436e-9e2e-43ab-9441-d95f8b5600d5",
   "metadata": {},
   "outputs": [
    {
     "data": {
      "text/html": [
       "<table class=\"dataframe\">\n",
       "<caption>A tibble: 10 x 6</caption>\n",
       "<thead>\n",
       "\t<tr><th scope=col>country</th><th scope=col>continent</th><th scope=col>year</th><th scope=col>lifeExp</th><th scope=col>pop</th><th scope=col>gdpPercap</th></tr>\n",
       "\t<tr><th scope=col>&lt;fct&gt;</th><th scope=col>&lt;fct&gt;</th><th scope=col>&lt;int&gt;</th><th scope=col>&lt;dbl&gt;</th><th scope=col>&lt;int&gt;</th><th scope=col>&lt;dbl&gt;</th></tr>\n",
       "</thead>\n",
       "<tbody>\n",
       "\t<tr><td>Thailand  </td><td>Asia  </td><td>1997</td><td>67.521</td><td>60216677</td><td> 5852.6255</td></tr>\n",
       "\t<tr><td>Bulgaria  </td><td>Europe</td><td>1982</td><td>71.080</td><td> 8892098</td><td> 8224.1916</td></tr>\n",
       "\t<tr><td>Rwanda    </td><td>Africa</td><td>1977</td><td>45.000</td><td> 4657072</td><td>  670.0806</td></tr>\n",
       "\t<tr><td>Egypt     </td><td>Africa</td><td>1972</td><td>51.137</td><td>34807417</td><td> 2024.0081</td></tr>\n",
       "\t<tr><td>Mauritania</td><td>Africa</td><td>2007</td><td>64.164</td><td> 3270065</td><td> 1803.1515</td></tr>\n",
       "\t<tr><td>Tunisia   </td><td>Africa</td><td>1962</td><td>49.579</td><td> 4286552</td><td> 1660.3032</td></tr>\n",
       "\t<tr><td>Liberia   </td><td>Africa</td><td>1962</td><td>40.502</td><td> 1112796</td><td>  634.1952</td></tr>\n",
       "\t<tr><td>Somalia   </td><td>Africa</td><td>1972</td><td>40.973</td><td> 3840161</td><td> 1254.5761</td></tr>\n",
       "\t<tr><td>Sri Lanka </td><td>Asia  </td><td>1962</td><td>62.192</td><td>10421936</td><td> 1074.4720</td></tr>\n",
       "\t<tr><td>Germany   </td><td>Europe</td><td>1982</td><td>73.800</td><td>78335266</td><td>22031.5327</td></tr>\n",
       "</tbody>\n",
       "</table>\n"
      ],
      "text/latex": [
       "A tibble: 10 x 6\n",
       "\\begin{tabular}{llllll}\n",
       " country & continent & year & lifeExp & pop & gdpPercap\\\\\n",
       " <fct> & <fct> & <int> & <dbl> & <int> & <dbl>\\\\\n",
       "\\hline\n",
       "\t Thailand   & Asia   & 1997 & 67.521 & 60216677 &  5852.6255\\\\\n",
       "\t Bulgaria   & Europe & 1982 & 71.080 &  8892098 &  8224.1916\\\\\n",
       "\t Rwanda     & Africa & 1977 & 45.000 &  4657072 &   670.0806\\\\\n",
       "\t Egypt      & Africa & 1972 & 51.137 & 34807417 &  2024.0081\\\\\n",
       "\t Mauritania & Africa & 2007 & 64.164 &  3270065 &  1803.1515\\\\\n",
       "\t Tunisia    & Africa & 1962 & 49.579 &  4286552 &  1660.3032\\\\\n",
       "\t Liberia    & Africa & 1962 & 40.502 &  1112796 &   634.1952\\\\\n",
       "\t Somalia    & Africa & 1972 & 40.973 &  3840161 &  1254.5761\\\\\n",
       "\t Sri Lanka  & Asia   & 1962 & 62.192 & 10421936 &  1074.4720\\\\\n",
       "\t Germany    & Europe & 1982 & 73.800 & 78335266 & 22031.5327\\\\\n",
       "\\end{tabular}\n"
      ],
      "text/markdown": [
       "\n",
       "A tibble: 10 x 6\n",
       "\n",
       "| country &lt;fct&gt; | continent &lt;fct&gt; | year &lt;int&gt; | lifeExp &lt;dbl&gt; | pop &lt;int&gt; | gdpPercap &lt;dbl&gt; |\n",
       "|---|---|---|---|---|---|\n",
       "| Thailand   | Asia   | 1997 | 67.521 | 60216677 |  5852.6255 |\n",
       "| Bulgaria   | Europe | 1982 | 71.080 |  8892098 |  8224.1916 |\n",
       "| Rwanda     | Africa | 1977 | 45.000 |  4657072 |   670.0806 |\n",
       "| Egypt      | Africa | 1972 | 51.137 | 34807417 |  2024.0081 |\n",
       "| Mauritania | Africa | 2007 | 64.164 |  3270065 |  1803.1515 |\n",
       "| Tunisia    | Africa | 1962 | 49.579 |  4286552 |  1660.3032 |\n",
       "| Liberia    | Africa | 1962 | 40.502 |  1112796 |   634.1952 |\n",
       "| Somalia    | Africa | 1972 | 40.973 |  3840161 |  1254.5761 |\n",
       "| Sri Lanka  | Asia   | 1962 | 62.192 | 10421936 |  1074.4720 |\n",
       "| Germany    | Europe | 1982 | 73.800 | 78335266 | 22031.5327 |\n",
       "\n"
      ],
      "text/plain": [
       "   country    continent year lifeExp pop      gdpPercap \n",
       "1  Thailand   Asia      1997 67.521  60216677  5852.6255\n",
       "2  Bulgaria   Europe    1982 71.080   8892098  8224.1916\n",
       "3  Rwanda     Africa    1977 45.000   4657072   670.0806\n",
       "4  Egypt      Africa    1972 51.137  34807417  2024.0081\n",
       "5  Mauritania Africa    2007 64.164   3270065  1803.1515\n",
       "6  Tunisia    Africa    1962 49.579   4286552  1660.3032\n",
       "7  Liberia    Africa    1962 40.502   1112796   634.1952\n",
       "8  Somalia    Africa    1972 40.973   3840161  1254.5761\n",
       "9  Sri Lanka  Asia      1962 62.192  10421936  1074.4720\n",
       "10 Germany    Europe    1982 73.800  78335266 22031.5327"
      ]
     },
     "metadata": {},
     "output_type": "display_data"
    }
   ],
   "source": [
    "data_10"
   ]
  },
  {
   "cell_type": "code",
   "execution_count": 32,
   "id": "78dbc8c5-b898-4c2d-8a2d-68c816375512",
   "metadata": {},
   "outputs": [],
   "source": [
    "data_10_perc <- data |>\n",
    "    sample_frac(0.1)"
   ]
  },
  {
   "cell_type": "code",
   "execution_count": 33,
   "id": "14788dbc-06d4-44f2-a269-313830ca04ce",
   "metadata": {},
   "outputs": [
    {
     "data": {
      "text/html": [
       "170"
      ],
      "text/latex": [
       "170"
      ],
      "text/markdown": [
       "170"
      ],
      "text/plain": [
       "[1] 170"
      ]
     },
     "metadata": {},
     "output_type": "display_data"
    }
   ],
   "source": [
    "nrow(data_10_perc)"
   ]
  },
  {
   "cell_type": "code",
   "execution_count": 34,
   "id": "20811141-fd27-4de4-9003-dbd5eefc564f",
   "metadata": {},
   "outputs": [
    {
     "data": {
      "text/html": [
       "<table class=\"dataframe\">\n",
       "<caption>A tibble: 6 x 6</caption>\n",
       "<thead>\n",
       "\t<tr><th scope=col>country</th><th scope=col>continent</th><th scope=col>year</th><th scope=col>lifeExp</th><th scope=col>pop</th><th scope=col>gdpPercap</th></tr>\n",
       "\t<tr><th scope=col>&lt;fct&gt;</th><th scope=col>&lt;fct&gt;</th><th scope=col>&lt;int&gt;</th><th scope=col>&lt;dbl&gt;</th><th scope=col>&lt;int&gt;</th><th scope=col>&lt;dbl&gt;</th></tr>\n",
       "</thead>\n",
       "<tbody>\n",
       "\t<tr><td>Libya         </td><td>Africa  </td><td>1982</td><td>62.155</td><td>  3344074</td><td>17364.275</td></tr>\n",
       "\t<tr><td>Botswana      </td><td>Africa  </td><td>1962</td><td>51.520</td><td>   512764</td><td>  983.654</td></tr>\n",
       "\t<tr><td>Bolivia       </td><td>Americas</td><td>1997</td><td>62.050</td><td>  7693188</td><td> 3326.143</td></tr>\n",
       "\t<tr><td>Gabon         </td><td>Africa  </td><td>1992</td><td>61.366</td><td>   985739</td><td>13522.158</td></tr>\n",
       "\t<tr><td>United Kingdom</td><td>Europe  </td><td>1962</td><td>70.760</td><td> 53292000</td><td>12477.177</td></tr>\n",
       "\t<tr><td>Japan         </td><td>Asia    </td><td>1972</td><td>73.420</td><td>107188273</td><td>14778.786</td></tr>\n",
       "</tbody>\n",
       "</table>\n"
      ],
      "text/latex": [
       "A tibble: 6 x 6\n",
       "\\begin{tabular}{llllll}\n",
       " country & continent & year & lifeExp & pop & gdpPercap\\\\\n",
       " <fct> & <fct> & <int> & <dbl> & <int> & <dbl>\\\\\n",
       "\\hline\n",
       "\t Libya          & Africa   & 1982 & 62.155 &   3344074 & 17364.275\\\\\n",
       "\t Botswana       & Africa   & 1962 & 51.520 &    512764 &   983.654\\\\\n",
       "\t Bolivia        & Americas & 1997 & 62.050 &   7693188 &  3326.143\\\\\n",
       "\t Gabon          & Africa   & 1992 & 61.366 &    985739 & 13522.158\\\\\n",
       "\t United Kingdom & Europe   & 1962 & 70.760 &  53292000 & 12477.177\\\\\n",
       "\t Japan          & Asia     & 1972 & 73.420 & 107188273 & 14778.786\\\\\n",
       "\\end{tabular}\n"
      ],
      "text/markdown": [
       "\n",
       "A tibble: 6 x 6\n",
       "\n",
       "| country &lt;fct&gt; | continent &lt;fct&gt; | year &lt;int&gt; | lifeExp &lt;dbl&gt; | pop &lt;int&gt; | gdpPercap &lt;dbl&gt; |\n",
       "|---|---|---|---|---|---|\n",
       "| Libya          | Africa   | 1982 | 62.155 |   3344074 | 17364.275 |\n",
       "| Botswana       | Africa   | 1962 | 51.520 |    512764 |   983.654 |\n",
       "| Bolivia        | Americas | 1997 | 62.050 |   7693188 |  3326.143 |\n",
       "| Gabon          | Africa   | 1992 | 61.366 |    985739 | 13522.158 |\n",
       "| United Kingdom | Europe   | 1962 | 70.760 |  53292000 | 12477.177 |\n",
       "| Japan          | Asia     | 1972 | 73.420 | 107188273 | 14778.786 |\n",
       "\n"
      ],
      "text/plain": [
       "  country        continent year lifeExp pop       gdpPercap\n",
       "1 Libya          Africa    1982 62.155    3344074 17364.275\n",
       "2 Botswana       Africa    1962 51.520     512764   983.654\n",
       "3 Bolivia        Americas  1997 62.050    7693188  3326.143\n",
       "4 Gabon          Africa    1992 61.366     985739 13522.158\n",
       "5 United Kingdom Europe    1962 70.760   53292000 12477.177\n",
       "6 Japan          Asia      1972 73.420  107188273 14778.786"
      ]
     },
     "metadata": {},
     "output_type": "display_data"
    }
   ],
   "source": [
    "data_10_perc |> head()"
   ]
  },
  {
   "cell_type": "code",
   "execution_count": 36,
   "id": "f6e31b50-341c-4821-9edf-9981438f5188",
   "metadata": {},
   "outputs": [
    {
     "name": "stdout",
     "output_type": "stream",
     "text": [
      "tibble [1,704 x 6] (S3: tbl_df/tbl/data.frame)\n",
      " $ country  : Factor w/ 142 levels \"Afghanistan\",..: 1 1 1 1 1 1 1 1 1 1 ...\n",
      " $ continent: Factor w/ 5 levels \"Africa\",\"Americas\",..: 3 3 3 3 3 3 3 3 3 3 ...\n",
      " $ year     : int [1:1704] 1952 1957 1962 1967 1972 1977 1982 1987 1992 1997 ...\n",
      " $ lifeExp  : num [1:1704] 28.8 30.3 32 34 36.1 ...\n",
      " $ pop      : int [1:1704] 8425333 9240934 10267083 11537966 13079460 14880372 12881816 13867957 16317921 22227415 ...\n",
      " $ gdpPercap: num [1:1704] 779 821 853 836 740 ...\n"
     ]
    }
   ],
   "source": [
    "str(data)"
   ]
  },
  {
   "cell_type": "markdown",
   "id": "b7ce936e-ee23-40aa-b21c-8d15c0cddefe",
   "metadata": {},
   "source": [
    "## `slice_`"
   ]
  },
  {
   "cell_type": "code",
   "execution_count": 42,
   "id": "b6ae36e8-1c5e-4055-b0fb-0f8c0117f804",
   "metadata": {},
   "outputs": [
    {
     "data": {
      "text/html": [
       "<table class=\"dataframe\">\n",
       "<caption>A tibble: 2 x 6</caption>\n",
       "<thead>\n",
       "\t<tr><th scope=col>country</th><th scope=col>continent</th><th scope=col>year</th><th scope=col>lifeExp</th><th scope=col>pop</th><th scope=col>gdpPercap</th></tr>\n",
       "\t<tr><th scope=col>&lt;fct&gt;</th><th scope=col>&lt;fct&gt;</th><th scope=col>&lt;int&gt;</th><th scope=col>&lt;dbl&gt;</th><th scope=col>&lt;int&gt;</th><th scope=col>&lt;dbl&gt;</th></tr>\n",
       "</thead>\n",
       "<tbody>\n",
       "\t<tr><td>Afghanistan</td><td>Asia</td><td>1952</td><td>28.801</td><td> 8425333</td><td>779.4453</td></tr>\n",
       "\t<tr><td>Afghanistan</td><td>Asia</td><td>1977</td><td>38.438</td><td>14880372</td><td>786.1134</td></tr>\n",
       "</tbody>\n",
       "</table>\n"
      ],
      "text/latex": [
       "A tibble: 2 x 6\n",
       "\\begin{tabular}{llllll}\n",
       " country & continent & year & lifeExp & pop & gdpPercap\\\\\n",
       " <fct> & <fct> & <int> & <dbl> & <int> & <dbl>\\\\\n",
       "\\hline\n",
       "\t Afghanistan & Asia & 1952 & 28.801 &  8425333 & 779.4453\\\\\n",
       "\t Afghanistan & Asia & 1977 & 38.438 & 14880372 & 786.1134\\\\\n",
       "\\end{tabular}\n"
      ],
      "text/markdown": [
       "\n",
       "A tibble: 2 x 6\n",
       "\n",
       "| country &lt;fct&gt; | continent &lt;fct&gt; | year &lt;int&gt; | lifeExp &lt;dbl&gt; | pop &lt;int&gt; | gdpPercap &lt;dbl&gt; |\n",
       "|---|---|---|---|---|---|\n",
       "| Afghanistan | Asia | 1952 | 28.801 |  8425333 | 779.4453 |\n",
       "| Afghanistan | Asia | 1977 | 38.438 | 14880372 | 786.1134 |\n",
       "\n"
      ],
      "text/plain": [
       "  country     continent year lifeExp pop      gdpPercap\n",
       "1 Afghanistan Asia      1952 28.801   8425333 779.4453 \n",
       "2 Afghanistan Asia      1977 38.438  14880372 786.1134 "
      ]
     },
     "metadata": {},
     "output_type": "display_data"
    }
   ],
   "source": [
    "data |> slice(seq(1, 10, 5))"
   ]
  },
  {
   "cell_type": "code",
   "execution_count": 45,
   "id": "ccbb4eff-1522-4c9c-a512-283c1bae5c30",
   "metadata": {},
   "outputs": [
    {
     "data": {
      "text/html": [
       "<table class=\"dataframe\">\n",
       "<caption>A tibble: 8 x 6</caption>\n",
       "<thead>\n",
       "\t<tr><th scope=col>country</th><th scope=col>continent</th><th scope=col>year</th><th scope=col>lifeExp</th><th scope=col>pop</th><th scope=col>gdpPercap</th></tr>\n",
       "\t<tr><th scope=col>&lt;fct&gt;</th><th scope=col>&lt;fct&gt;</th><th scope=col>&lt;int&gt;</th><th scope=col>&lt;dbl&gt;</th><th scope=col>&lt;int&gt;</th><th scope=col>&lt;dbl&gt;</th></tr>\n",
       "</thead>\n",
       "<tbody>\n",
       "\t<tr><td>Afghanistan</td><td>Asia</td><td>1952</td><td>28.801</td><td> 8425333</td><td>779.4453</td></tr>\n",
       "\t<tr><td>Afghanistan</td><td>Asia</td><td>1957</td><td>30.332</td><td> 9240934</td><td>820.8530</td></tr>\n",
       "\t<tr><td>Afghanistan</td><td>Asia</td><td>1962</td><td>31.997</td><td>10267083</td><td>853.1007</td></tr>\n",
       "\t<tr><td>Afghanistan</td><td>Asia</td><td>1967</td><td>34.020</td><td>11537966</td><td>836.1971</td></tr>\n",
       "\t<tr><td>Afghanistan</td><td>Asia</td><td>1972</td><td>36.088</td><td>13079460</td><td>739.9811</td></tr>\n",
       "\t<tr><td>Afghanistan</td><td>Asia</td><td>1977</td><td>38.438</td><td>14880372</td><td>786.1134</td></tr>\n",
       "\t<tr><td>Afghanistan</td><td>Asia</td><td>1982</td><td>39.854</td><td>12881816</td><td>978.0114</td></tr>\n",
       "\t<tr><td>Afghanistan</td><td>Asia</td><td>1987</td><td>40.822</td><td>13867957</td><td>852.3959</td></tr>\n",
       "</tbody>\n",
       "</table>\n"
      ],
      "text/latex": [
       "A tibble: 8 x 6\n",
       "\\begin{tabular}{llllll}\n",
       " country & continent & year & lifeExp & pop & gdpPercap\\\\\n",
       " <fct> & <fct> & <int> & <dbl> & <int> & <dbl>\\\\\n",
       "\\hline\n",
       "\t Afghanistan & Asia & 1952 & 28.801 &  8425333 & 779.4453\\\\\n",
       "\t Afghanistan & Asia & 1957 & 30.332 &  9240934 & 820.8530\\\\\n",
       "\t Afghanistan & Asia & 1962 & 31.997 & 10267083 & 853.1007\\\\\n",
       "\t Afghanistan & Asia & 1967 & 34.020 & 11537966 & 836.1971\\\\\n",
       "\t Afghanistan & Asia & 1972 & 36.088 & 13079460 & 739.9811\\\\\n",
       "\t Afghanistan & Asia & 1977 & 38.438 & 14880372 & 786.1134\\\\\n",
       "\t Afghanistan & Asia & 1982 & 39.854 & 12881816 & 978.0114\\\\\n",
       "\t Afghanistan & Asia & 1987 & 40.822 & 13867957 & 852.3959\\\\\n",
       "\\end{tabular}\n"
      ],
      "text/markdown": [
       "\n",
       "A tibble: 8 x 6\n",
       "\n",
       "| country &lt;fct&gt; | continent &lt;fct&gt; | year &lt;int&gt; | lifeExp &lt;dbl&gt; | pop &lt;int&gt; | gdpPercap &lt;dbl&gt; |\n",
       "|---|---|---|---|---|---|\n",
       "| Afghanistan | Asia | 1952 | 28.801 |  8425333 | 779.4453 |\n",
       "| Afghanistan | Asia | 1957 | 30.332 |  9240934 | 820.8530 |\n",
       "| Afghanistan | Asia | 1962 | 31.997 | 10267083 | 853.1007 |\n",
       "| Afghanistan | Asia | 1967 | 34.020 | 11537966 | 836.1971 |\n",
       "| Afghanistan | Asia | 1972 | 36.088 | 13079460 | 739.9811 |\n",
       "| Afghanistan | Asia | 1977 | 38.438 | 14880372 | 786.1134 |\n",
       "| Afghanistan | Asia | 1982 | 39.854 | 12881816 | 978.0114 |\n",
       "| Afghanistan | Asia | 1987 | 40.822 | 13867957 | 852.3959 |\n",
       "\n"
      ],
      "text/plain": [
       "  country     continent year lifeExp pop      gdpPercap\n",
       "1 Afghanistan Asia      1952 28.801   8425333 779.4453 \n",
       "2 Afghanistan Asia      1957 30.332   9240934 820.8530 \n",
       "3 Afghanistan Asia      1962 31.997  10267083 853.1007 \n",
       "4 Afghanistan Asia      1967 34.020  11537966 836.1971 \n",
       "5 Afghanistan Asia      1972 36.088  13079460 739.9811 \n",
       "6 Afghanistan Asia      1977 38.438  14880372 786.1134 \n",
       "7 Afghanistan Asia      1982 39.854  12881816 978.0114 \n",
       "8 Afghanistan Asia      1987 40.822  13867957 852.3959 "
      ]
     },
     "metadata": {},
     "output_type": "display_data"
    }
   ],
   "source": [
    "data |> slice_head(n = 8)"
   ]
  },
  {
   "cell_type": "code",
   "execution_count": 47,
   "id": "007cd316-bfbf-422f-aa5b-2041f917538d",
   "metadata": {},
   "outputs": [
    {
     "data": {
      "text/html": [
       "<table class=\"dataframe\">\n",
       "<caption>A tibble: 8 x 6</caption>\n",
       "<thead>\n",
       "\t<tr><th scope=col>country</th><th scope=col>continent</th><th scope=col>year</th><th scope=col>lifeExp</th><th scope=col>pop</th><th scope=col>gdpPercap</th></tr>\n",
       "\t<tr><th scope=col>&lt;fct&gt;</th><th scope=col>&lt;fct&gt;</th><th scope=col>&lt;int&gt;</th><th scope=col>&lt;dbl&gt;</th><th scope=col>&lt;int&gt;</th><th scope=col>&lt;dbl&gt;</th></tr>\n",
       "</thead>\n",
       "<tbody>\n",
       "\t<tr><td>Zimbabwe</td><td>Africa</td><td>1972</td><td>55.635</td><td> 5861135</td><td>799.3622</td></tr>\n",
       "\t<tr><td>Zimbabwe</td><td>Africa</td><td>1977</td><td>57.674</td><td> 6642107</td><td>685.5877</td></tr>\n",
       "\t<tr><td>Zimbabwe</td><td>Africa</td><td>1982</td><td>60.363</td><td> 7636524</td><td>788.8550</td></tr>\n",
       "\t<tr><td>Zimbabwe</td><td>Africa</td><td>1987</td><td>62.351</td><td> 9216418</td><td>706.1573</td></tr>\n",
       "\t<tr><td>Zimbabwe</td><td>Africa</td><td>1992</td><td>60.377</td><td>10704340</td><td>693.4208</td></tr>\n",
       "\t<tr><td>Zimbabwe</td><td>Africa</td><td>1997</td><td>46.809</td><td>11404948</td><td>792.4500</td></tr>\n",
       "\t<tr><td>Zimbabwe</td><td>Africa</td><td>2002</td><td>39.989</td><td>11926563</td><td>672.0386</td></tr>\n",
       "\t<tr><td>Zimbabwe</td><td>Africa</td><td>2007</td><td>43.487</td><td>12311143</td><td>469.7093</td></tr>\n",
       "</tbody>\n",
       "</table>\n"
      ],
      "text/latex": [
       "A tibble: 8 x 6\n",
       "\\begin{tabular}{llllll}\n",
       " country & continent & year & lifeExp & pop & gdpPercap\\\\\n",
       " <fct> & <fct> & <int> & <dbl> & <int> & <dbl>\\\\\n",
       "\\hline\n",
       "\t Zimbabwe & Africa & 1972 & 55.635 &  5861135 & 799.3622\\\\\n",
       "\t Zimbabwe & Africa & 1977 & 57.674 &  6642107 & 685.5877\\\\\n",
       "\t Zimbabwe & Africa & 1982 & 60.363 &  7636524 & 788.8550\\\\\n",
       "\t Zimbabwe & Africa & 1987 & 62.351 &  9216418 & 706.1573\\\\\n",
       "\t Zimbabwe & Africa & 1992 & 60.377 & 10704340 & 693.4208\\\\\n",
       "\t Zimbabwe & Africa & 1997 & 46.809 & 11404948 & 792.4500\\\\\n",
       "\t Zimbabwe & Africa & 2002 & 39.989 & 11926563 & 672.0386\\\\\n",
       "\t Zimbabwe & Africa & 2007 & 43.487 & 12311143 & 469.7093\\\\\n",
       "\\end{tabular}\n"
      ],
      "text/markdown": [
       "\n",
       "A tibble: 8 x 6\n",
       "\n",
       "| country &lt;fct&gt; | continent &lt;fct&gt; | year &lt;int&gt; | lifeExp &lt;dbl&gt; | pop &lt;int&gt; | gdpPercap &lt;dbl&gt; |\n",
       "|---|---|---|---|---|---|\n",
       "| Zimbabwe | Africa | 1972 | 55.635 |  5861135 | 799.3622 |\n",
       "| Zimbabwe | Africa | 1977 | 57.674 |  6642107 | 685.5877 |\n",
       "| Zimbabwe | Africa | 1982 | 60.363 |  7636524 | 788.8550 |\n",
       "| Zimbabwe | Africa | 1987 | 62.351 |  9216418 | 706.1573 |\n",
       "| Zimbabwe | Africa | 1992 | 60.377 | 10704340 | 693.4208 |\n",
       "| Zimbabwe | Africa | 1997 | 46.809 | 11404948 | 792.4500 |\n",
       "| Zimbabwe | Africa | 2002 | 39.989 | 11926563 | 672.0386 |\n",
       "| Zimbabwe | Africa | 2007 | 43.487 | 12311143 | 469.7093 |\n",
       "\n"
      ],
      "text/plain": [
       "  country  continent year lifeExp pop      gdpPercap\n",
       "1 Zimbabwe Africa    1972 55.635   5861135 799.3622 \n",
       "2 Zimbabwe Africa    1977 57.674   6642107 685.5877 \n",
       "3 Zimbabwe Africa    1982 60.363   7636524 788.8550 \n",
       "4 Zimbabwe Africa    1987 62.351   9216418 706.1573 \n",
       "5 Zimbabwe Africa    1992 60.377  10704340 693.4208 \n",
       "6 Zimbabwe Africa    1997 46.809  11404948 792.4500 \n",
       "7 Zimbabwe Africa    2002 39.989  11926563 672.0386 \n",
       "8 Zimbabwe Africa    2007 43.487  12311143 469.7093 "
      ]
     },
     "metadata": {},
     "output_type": "display_data"
    }
   ],
   "source": [
    "data |> slice_tail(n = 8)"
   ]
  },
  {
   "cell_type": "code",
   "execution_count": 50,
   "id": "6021f3dd-9bb5-47d6-ab8d-0bd764405206",
   "metadata": {},
   "outputs": [
    {
     "data": {
      "text/html": [
       "<table class=\"dataframe\">\n",
       "<caption>A tibble: 3 x 6</caption>\n",
       "<thead>\n",
       "\t<tr><th scope=col>country</th><th scope=col>continent</th><th scope=col>year</th><th scope=col>lifeExp</th><th scope=col>pop</th><th scope=col>gdpPercap</th></tr>\n",
       "\t<tr><th scope=col>&lt;fct&gt;</th><th scope=col>&lt;fct&gt;</th><th scope=col>&lt;int&gt;</th><th scope=col>&lt;dbl&gt;</th><th scope=col>&lt;int&gt;</th><th scope=col>&lt;dbl&gt;</th></tr>\n",
       "</thead>\n",
       "<tbody>\n",
       "\t<tr><td>Congo, Rep.</td><td>Africa</td><td>2007</td><td>55.322</td><td>3800610</td><td>3632.558</td></tr>\n",
       "\t<tr><td>Oman       </td><td>Asia  </td><td>1957</td><td>40.080</td><td> 561977</td><td>2242.747</td></tr>\n",
       "\t<tr><td>Lebanon    </td><td>Asia  </td><td>1987</td><td>67.926</td><td>3089353</td><td>5377.091</td></tr>\n",
       "</tbody>\n",
       "</table>\n"
      ],
      "text/latex": [
       "A tibble: 3 x 6\n",
       "\\begin{tabular}{llllll}\n",
       " country & continent & year & lifeExp & pop & gdpPercap\\\\\n",
       " <fct> & <fct> & <int> & <dbl> & <int> & <dbl>\\\\\n",
       "\\hline\n",
       "\t Congo, Rep. & Africa & 2007 & 55.322 & 3800610 & 3632.558\\\\\n",
       "\t Oman        & Asia   & 1957 & 40.080 &  561977 & 2242.747\\\\\n",
       "\t Lebanon     & Asia   & 1987 & 67.926 & 3089353 & 5377.091\\\\\n",
       "\\end{tabular}\n"
      ],
      "text/markdown": [
       "\n",
       "A tibble: 3 x 6\n",
       "\n",
       "| country &lt;fct&gt; | continent &lt;fct&gt; | year &lt;int&gt; | lifeExp &lt;dbl&gt; | pop &lt;int&gt; | gdpPercap &lt;dbl&gt; |\n",
       "|---|---|---|---|---|---|\n",
       "| Congo, Rep. | Africa | 2007 | 55.322 | 3800610 | 3632.558 |\n",
       "| Oman        | Asia   | 1957 | 40.080 |  561977 | 2242.747 |\n",
       "| Lebanon     | Asia   | 1987 | 67.926 | 3089353 | 5377.091 |\n",
       "\n"
      ],
      "text/plain": [
       "  country     continent year lifeExp pop     gdpPercap\n",
       "1 Congo, Rep. Africa    2007 55.322  3800610 3632.558 \n",
       "2 Oman        Asia      1957 40.080   561977 2242.747 \n",
       "3 Lebanon     Asia      1987 67.926  3089353 5377.091 "
      ]
     },
     "metadata": {},
     "output_type": "display_data"
    }
   ],
   "source": [
    "data |> slice_sample(n = 3)"
   ]
  },
  {
   "cell_type": "code",
   "execution_count": 52,
   "id": "292368b5-df9b-4f7e-a3b3-f611c5777237",
   "metadata": {},
   "outputs": [
    {
     "data": {
      "text/html": [
       "<table class=\"dataframe\">\n",
       "<caption>A tibble: 5 x 6</caption>\n",
       "<thead>\n",
       "\t<tr><th scope=col>country</th><th scope=col>continent</th><th scope=col>year</th><th scope=col>lifeExp</th><th scope=col>pop</th><th scope=col>gdpPercap</th></tr>\n",
       "\t<tr><th scope=col>&lt;fct&gt;</th><th scope=col>&lt;fct&gt;</th><th scope=col>&lt;int&gt;</th><th scope=col>&lt;dbl&gt;</th><th scope=col>&lt;int&gt;</th><th scope=col>&lt;dbl&gt;</th></tr>\n",
       "</thead>\n",
       "<tbody>\n",
       "\t<tr><td>Rwanda      </td><td>Africa</td><td>1992</td><td>23.599</td><td>7290203</td><td> 737.0686</td></tr>\n",
       "\t<tr><td>Afghanistan </td><td>Asia  </td><td>1952</td><td>28.801</td><td>8425333</td><td> 779.4453</td></tr>\n",
       "\t<tr><td>Gambia      </td><td>Africa</td><td>1952</td><td>30.000</td><td> 284320</td><td> 485.2307</td></tr>\n",
       "\t<tr><td>Angola      </td><td>Africa</td><td>1952</td><td>30.015</td><td>4232095</td><td>3520.6103</td></tr>\n",
       "\t<tr><td>Sierra Leone</td><td>Africa</td><td>1952</td><td>30.331</td><td>2143249</td><td> 879.7877</td></tr>\n",
       "</tbody>\n",
       "</table>\n"
      ],
      "text/latex": [
       "A tibble: 5 x 6\n",
       "\\begin{tabular}{llllll}\n",
       " country & continent & year & lifeExp & pop & gdpPercap\\\\\n",
       " <fct> & <fct> & <int> & <dbl> & <int> & <dbl>\\\\\n",
       "\\hline\n",
       "\t Rwanda       & Africa & 1992 & 23.599 & 7290203 &  737.0686\\\\\n",
       "\t Afghanistan  & Asia   & 1952 & 28.801 & 8425333 &  779.4453\\\\\n",
       "\t Gambia       & Africa & 1952 & 30.000 &  284320 &  485.2307\\\\\n",
       "\t Angola       & Africa & 1952 & 30.015 & 4232095 & 3520.6103\\\\\n",
       "\t Sierra Leone & Africa & 1952 & 30.331 & 2143249 &  879.7877\\\\\n",
       "\\end{tabular}\n"
      ],
      "text/markdown": [
       "\n",
       "A tibble: 5 x 6\n",
       "\n",
       "| country &lt;fct&gt; | continent &lt;fct&gt; | year &lt;int&gt; | lifeExp &lt;dbl&gt; | pop &lt;int&gt; | gdpPercap &lt;dbl&gt; |\n",
       "|---|---|---|---|---|---|\n",
       "| Rwanda       | Africa | 1992 | 23.599 | 7290203 |  737.0686 |\n",
       "| Afghanistan  | Asia   | 1952 | 28.801 | 8425333 |  779.4453 |\n",
       "| Gambia       | Africa | 1952 | 30.000 |  284320 |  485.2307 |\n",
       "| Angola       | Africa | 1952 | 30.015 | 4232095 | 3520.6103 |\n",
       "| Sierra Leone | Africa | 1952 | 30.331 | 2143249 |  879.7877 |\n",
       "\n"
      ],
      "text/plain": [
       "  country      continent year lifeExp pop     gdpPercap\n",
       "1 Rwanda       Africa    1992 23.599  7290203  737.0686\n",
       "2 Afghanistan  Asia      1952 28.801  8425333  779.4453\n",
       "3 Gambia       Africa    1952 30.000   284320  485.2307\n",
       "4 Angola       Africa    1952 30.015  4232095 3520.6103\n",
       "5 Sierra Leone Africa    1952 30.331  2143249  879.7877"
      ]
     },
     "metadata": {},
     "output_type": "display_data"
    }
   ],
   "source": [
    "data |> slice_min(lifeExp, n = 5)"
   ]
  },
  {
   "cell_type": "code",
   "execution_count": 55,
   "id": "e0e8aa54-e8a2-439a-a98d-2f1b72a3c8fa",
   "metadata": {},
   "outputs": [
    {
     "data": {
      "text/html": [
       "<table class=\"dataframe\">\n",
       "<caption>A tibble: 10 x 6</caption>\n",
       "<thead>\n",
       "\t<tr><th scope=col>country</th><th scope=col>continent</th><th scope=col>year</th><th scope=col>lifeExp</th><th scope=col>pop</th><th scope=col>gdpPercap</th></tr>\n",
       "\t<tr><th scope=col>&lt;fct&gt;</th><th scope=col>&lt;fct&gt;</th><th scope=col>&lt;int&gt;</th><th scope=col>&lt;dbl&gt;</th><th scope=col>&lt;int&gt;</th><th scope=col>&lt;dbl&gt;</th></tr>\n",
       "</thead>\n",
       "<tbody>\n",
       "\t<tr><td>Japan           </td><td>Asia   </td><td>2007</td><td>82.603</td><td>127467972</td><td>31656.07</td></tr>\n",
       "\t<tr><td>Hong Kong, China</td><td>Asia   </td><td>2007</td><td>82.208</td><td>  6980412</td><td>39724.98</td></tr>\n",
       "\t<tr><td>Japan           </td><td>Asia   </td><td>2002</td><td>82.000</td><td>127065841</td><td>28604.59</td></tr>\n",
       "\t<tr><td>Iceland         </td><td>Europe </td><td>2007</td><td>81.757</td><td>   301931</td><td>36180.79</td></tr>\n",
       "\t<tr><td>Switzerland     </td><td>Europe </td><td>2007</td><td>81.701</td><td>  7554661</td><td>37506.42</td></tr>\n",
       "\t<tr><td>Hong Kong, China</td><td>Asia   </td><td>2002</td><td>81.495</td><td>  6762476</td><td>30209.02</td></tr>\n",
       "\t<tr><td>Australia       </td><td>Oceania</td><td>2007</td><td>81.235</td><td> 20434176</td><td>34435.37</td></tr>\n",
       "\t<tr><td>Spain           </td><td>Europe </td><td>2007</td><td>80.941</td><td> 40448191</td><td>28821.06</td></tr>\n",
       "\t<tr><td>Sweden          </td><td>Europe </td><td>2007</td><td>80.884</td><td>  9031088</td><td>33859.75</td></tr>\n",
       "\t<tr><td>Israel          </td><td>Asia   </td><td>2007</td><td>80.745</td><td>  6426679</td><td>25523.28</td></tr>\n",
       "</tbody>\n",
       "</table>\n"
      ],
      "text/latex": [
       "A tibble: 10 x 6\n",
       "\\begin{tabular}{llllll}\n",
       " country & continent & year & lifeExp & pop & gdpPercap\\\\\n",
       " <fct> & <fct> & <int> & <dbl> & <int> & <dbl>\\\\\n",
       "\\hline\n",
       "\t Japan            & Asia    & 2007 & 82.603 & 127467972 & 31656.07\\\\\n",
       "\t Hong Kong, China & Asia    & 2007 & 82.208 &   6980412 & 39724.98\\\\\n",
       "\t Japan            & Asia    & 2002 & 82.000 & 127065841 & 28604.59\\\\\n",
       "\t Iceland          & Europe  & 2007 & 81.757 &    301931 & 36180.79\\\\\n",
       "\t Switzerland      & Europe  & 2007 & 81.701 &   7554661 & 37506.42\\\\\n",
       "\t Hong Kong, China & Asia    & 2002 & 81.495 &   6762476 & 30209.02\\\\\n",
       "\t Australia        & Oceania & 2007 & 81.235 &  20434176 & 34435.37\\\\\n",
       "\t Spain            & Europe  & 2007 & 80.941 &  40448191 & 28821.06\\\\\n",
       "\t Sweden           & Europe  & 2007 & 80.884 &   9031088 & 33859.75\\\\\n",
       "\t Israel           & Asia    & 2007 & 80.745 &   6426679 & 25523.28\\\\\n",
       "\\end{tabular}\n"
      ],
      "text/markdown": [
       "\n",
       "A tibble: 10 x 6\n",
       "\n",
       "| country &lt;fct&gt; | continent &lt;fct&gt; | year &lt;int&gt; | lifeExp &lt;dbl&gt; | pop &lt;int&gt; | gdpPercap &lt;dbl&gt; |\n",
       "|---|---|---|---|---|---|\n",
       "| Japan            | Asia    | 2007 | 82.603 | 127467972 | 31656.07 |\n",
       "| Hong Kong, China | Asia    | 2007 | 82.208 |   6980412 | 39724.98 |\n",
       "| Japan            | Asia    | 2002 | 82.000 | 127065841 | 28604.59 |\n",
       "| Iceland          | Europe  | 2007 | 81.757 |    301931 | 36180.79 |\n",
       "| Switzerland      | Europe  | 2007 | 81.701 |   7554661 | 37506.42 |\n",
       "| Hong Kong, China | Asia    | 2002 | 81.495 |   6762476 | 30209.02 |\n",
       "| Australia        | Oceania | 2007 | 81.235 |  20434176 | 34435.37 |\n",
       "| Spain            | Europe  | 2007 | 80.941 |  40448191 | 28821.06 |\n",
       "| Sweden           | Europe  | 2007 | 80.884 |   9031088 | 33859.75 |\n",
       "| Israel           | Asia    | 2007 | 80.745 |   6426679 | 25523.28 |\n",
       "\n"
      ],
      "text/plain": [
       "   country          continent year lifeExp pop       gdpPercap\n",
       "1  Japan            Asia      2007 82.603  127467972 31656.07 \n",
       "2  Hong Kong, China Asia      2007 82.208    6980412 39724.98 \n",
       "3  Japan            Asia      2002 82.000  127065841 28604.59 \n",
       "4  Iceland          Europe    2007 81.757     301931 36180.79 \n",
       "5  Switzerland      Europe    2007 81.701    7554661 37506.42 \n",
       "6  Hong Kong, China Asia      2002 81.495    6762476 30209.02 \n",
       "7  Australia        Oceania   2007 81.235   20434176 34435.37 \n",
       "8  Spain            Europe    2007 80.941   40448191 28821.06 \n",
       "9  Sweden           Europe    2007 80.884    9031088 33859.75 \n",
       "10 Israel           Asia      2007 80.745    6426679 25523.28 "
      ]
     },
     "metadata": {},
     "output_type": "display_data"
    }
   ],
   "source": [
    "data |> slice_max(lifeExp, n = 10)"
   ]
  },
  {
   "cell_type": "markdown",
   "id": "e3b11172-a38a-4938-8659-9a18a675f540",
   "metadata": {},
   "source": [
    "## `arrange()`"
   ]
  },
  {
   "cell_type": "code",
   "execution_count": 57,
   "id": "4a190d0e-6c5c-48e3-8fb3-64938b119d1e",
   "metadata": {},
   "outputs": [],
   "source": [
    "tmp <- data |> filter(year == 2007)"
   ]
  },
  {
   "cell_type": "code",
   "execution_count": 59,
   "id": "440d930b-4b25-44c4-9827-b67a92fe5b4c",
   "metadata": {},
   "outputs": [
    {
     "data": {
      "text/html": [
       "<table class=\"dataframe\">\n",
       "<caption>A tibble: 6 x 6</caption>\n",
       "<thead>\n",
       "\t<tr><th scope=col>country</th><th scope=col>continent</th><th scope=col>year</th><th scope=col>lifeExp</th><th scope=col>pop</th><th scope=col>gdpPercap</th></tr>\n",
       "\t<tr><th scope=col>&lt;fct&gt;</th><th scope=col>&lt;fct&gt;</th><th scope=col>&lt;int&gt;</th><th scope=col>&lt;dbl&gt;</th><th scope=col>&lt;int&gt;</th><th scope=col>&lt;dbl&gt;</th></tr>\n",
       "</thead>\n",
       "<tbody>\n",
       "\t<tr><td>Afghanistan</td><td>Asia    </td><td>2007</td><td>43.828</td><td>31889923</td><td>  974.5803</td></tr>\n",
       "\t<tr><td>Albania    </td><td>Europe  </td><td>2007</td><td>76.423</td><td> 3600523</td><td> 5937.0295</td></tr>\n",
       "\t<tr><td>Algeria    </td><td>Africa  </td><td>2007</td><td>72.301</td><td>33333216</td><td> 6223.3675</td></tr>\n",
       "\t<tr><td>Angola     </td><td>Africa  </td><td>2007</td><td>42.731</td><td>12420476</td><td> 4797.2313</td></tr>\n",
       "\t<tr><td>Argentina  </td><td>Americas</td><td>2007</td><td>75.320</td><td>40301927</td><td>12779.3796</td></tr>\n",
       "\t<tr><td>Australia  </td><td>Oceania </td><td>2007</td><td>81.235</td><td>20434176</td><td>34435.3674</td></tr>\n",
       "</tbody>\n",
       "</table>\n"
      ],
      "text/latex": [
       "A tibble: 6 x 6\n",
       "\\begin{tabular}{llllll}\n",
       " country & continent & year & lifeExp & pop & gdpPercap\\\\\n",
       " <fct> & <fct> & <int> & <dbl> & <int> & <dbl>\\\\\n",
       "\\hline\n",
       "\t Afghanistan & Asia     & 2007 & 43.828 & 31889923 &   974.5803\\\\\n",
       "\t Albania     & Europe   & 2007 & 76.423 &  3600523 &  5937.0295\\\\\n",
       "\t Algeria     & Africa   & 2007 & 72.301 & 33333216 &  6223.3675\\\\\n",
       "\t Angola      & Africa   & 2007 & 42.731 & 12420476 &  4797.2313\\\\\n",
       "\t Argentina   & Americas & 2007 & 75.320 & 40301927 & 12779.3796\\\\\n",
       "\t Australia   & Oceania  & 2007 & 81.235 & 20434176 & 34435.3674\\\\\n",
       "\\end{tabular}\n"
      ],
      "text/markdown": [
       "\n",
       "A tibble: 6 x 6\n",
       "\n",
       "| country &lt;fct&gt; | continent &lt;fct&gt; | year &lt;int&gt; | lifeExp &lt;dbl&gt; | pop &lt;int&gt; | gdpPercap &lt;dbl&gt; |\n",
       "|---|---|---|---|---|---|\n",
       "| Afghanistan | Asia     | 2007 | 43.828 | 31889923 |   974.5803 |\n",
       "| Albania     | Europe   | 2007 | 76.423 |  3600523 |  5937.0295 |\n",
       "| Algeria     | Africa   | 2007 | 72.301 | 33333216 |  6223.3675 |\n",
       "| Angola      | Africa   | 2007 | 42.731 | 12420476 |  4797.2313 |\n",
       "| Argentina   | Americas | 2007 | 75.320 | 40301927 | 12779.3796 |\n",
       "| Australia   | Oceania  | 2007 | 81.235 | 20434176 | 34435.3674 |\n",
       "\n"
      ],
      "text/plain": [
       "  country     continent year lifeExp pop      gdpPercap \n",
       "1 Afghanistan Asia      2007 43.828  31889923   974.5803\n",
       "2 Albania     Europe    2007 76.423   3600523  5937.0295\n",
       "3 Algeria     Africa    2007 72.301  33333216  6223.3675\n",
       "4 Angola      Africa    2007 42.731  12420476  4797.2313\n",
       "5 Argentina   Americas  2007 75.320  40301927 12779.3796\n",
       "6 Australia   Oceania   2007 81.235  20434176 34435.3674"
      ]
     },
     "metadata": {},
     "output_type": "display_data"
    }
   ],
   "source": [
    "tmp |> head()"
   ]
  },
  {
   "cell_type": "code",
   "execution_count": 63,
   "id": "017cb178-8c09-490c-ae3f-2e6e562408ee",
   "metadata": {},
   "outputs": [
    {
     "data": {
      "text/html": [
       "<table class=\"dataframe\">\n",
       "<caption>A tibble: 10 x 6</caption>\n",
       "<thead>\n",
       "\t<tr><th scope=col>country</th><th scope=col>continent</th><th scope=col>year</th><th scope=col>lifeExp</th><th scope=col>pop</th><th scope=col>gdpPercap</th></tr>\n",
       "\t<tr><th scope=col>&lt;fct&gt;</th><th scope=col>&lt;fct&gt;</th><th scope=col>&lt;int&gt;</th><th scope=col>&lt;dbl&gt;</th><th scope=col>&lt;int&gt;</th><th scope=col>&lt;dbl&gt;</th></tr>\n",
       "</thead>\n",
       "<tbody>\n",
       "\t<tr><td>Mexico       </td><td>Americas</td><td>2007</td><td>76.195</td><td> 108700891</td><td>11977.575</td></tr>\n",
       "\t<tr><td>Japan        </td><td>Asia    </td><td>2007</td><td>82.603</td><td> 127467972</td><td>31656.068</td></tr>\n",
       "\t<tr><td>Nigeria      </td><td>Africa  </td><td>2007</td><td>46.859</td><td> 135031164</td><td> 2013.977</td></tr>\n",
       "\t<tr><td>Bangladesh   </td><td>Asia    </td><td>2007</td><td>64.062</td><td> 150448339</td><td> 1391.254</td></tr>\n",
       "\t<tr><td>Pakistan     </td><td>Asia    </td><td>2007</td><td>65.483</td><td> 169270617</td><td> 2605.948</td></tr>\n",
       "\t<tr><td>Brazil       </td><td>Americas</td><td>2007</td><td>72.390</td><td> 190010647</td><td> 9065.801</td></tr>\n",
       "\t<tr><td>Indonesia    </td><td>Asia    </td><td>2007</td><td>70.650</td><td> 223547000</td><td> 3540.652</td></tr>\n",
       "\t<tr><td>United States</td><td>Americas</td><td>2007</td><td>78.242</td><td> 301139947</td><td>42951.653</td></tr>\n",
       "\t<tr><td>India        </td><td>Asia    </td><td>2007</td><td>64.698</td><td>1110396331</td><td> 2452.210</td></tr>\n",
       "\t<tr><td>China        </td><td>Asia    </td><td>2007</td><td>72.961</td><td>1318683096</td><td> 4959.115</td></tr>\n",
       "</tbody>\n",
       "</table>\n"
      ],
      "text/latex": [
       "A tibble: 10 x 6\n",
       "\\begin{tabular}{llllll}\n",
       " country & continent & year & lifeExp & pop & gdpPercap\\\\\n",
       " <fct> & <fct> & <int> & <dbl> & <int> & <dbl>\\\\\n",
       "\\hline\n",
       "\t Mexico        & Americas & 2007 & 76.195 &  108700891 & 11977.575\\\\\n",
       "\t Japan         & Asia     & 2007 & 82.603 &  127467972 & 31656.068\\\\\n",
       "\t Nigeria       & Africa   & 2007 & 46.859 &  135031164 &  2013.977\\\\\n",
       "\t Bangladesh    & Asia     & 2007 & 64.062 &  150448339 &  1391.254\\\\\n",
       "\t Pakistan      & Asia     & 2007 & 65.483 &  169270617 &  2605.948\\\\\n",
       "\t Brazil        & Americas & 2007 & 72.390 &  190010647 &  9065.801\\\\\n",
       "\t Indonesia     & Asia     & 2007 & 70.650 &  223547000 &  3540.652\\\\\n",
       "\t United States & Americas & 2007 & 78.242 &  301139947 & 42951.653\\\\\n",
       "\t India         & Asia     & 2007 & 64.698 & 1110396331 &  2452.210\\\\\n",
       "\t China         & Asia     & 2007 & 72.961 & 1318683096 &  4959.115\\\\\n",
       "\\end{tabular}\n"
      ],
      "text/markdown": [
       "\n",
       "A tibble: 10 x 6\n",
       "\n",
       "| country &lt;fct&gt; | continent &lt;fct&gt; | year &lt;int&gt; | lifeExp &lt;dbl&gt; | pop &lt;int&gt; | gdpPercap &lt;dbl&gt; |\n",
       "|---|---|---|---|---|---|\n",
       "| Mexico        | Americas | 2007 | 76.195 |  108700891 | 11977.575 |\n",
       "| Japan         | Asia     | 2007 | 82.603 |  127467972 | 31656.068 |\n",
       "| Nigeria       | Africa   | 2007 | 46.859 |  135031164 |  2013.977 |\n",
       "| Bangladesh    | Asia     | 2007 | 64.062 |  150448339 |  1391.254 |\n",
       "| Pakistan      | Asia     | 2007 | 65.483 |  169270617 |  2605.948 |\n",
       "| Brazil        | Americas | 2007 | 72.390 |  190010647 |  9065.801 |\n",
       "| Indonesia     | Asia     | 2007 | 70.650 |  223547000 |  3540.652 |\n",
       "| United States | Americas | 2007 | 78.242 |  301139947 | 42951.653 |\n",
       "| India         | Asia     | 2007 | 64.698 | 1110396331 |  2452.210 |\n",
       "| China         | Asia     | 2007 | 72.961 | 1318683096 |  4959.115 |\n",
       "\n"
      ],
      "text/plain": [
       "   country       continent year lifeExp pop        gdpPercap\n",
       "1  Mexico        Americas  2007 76.195   108700891 11977.575\n",
       "2  Japan         Asia      2007 82.603   127467972 31656.068\n",
       "3  Nigeria       Africa    2007 46.859   135031164  2013.977\n",
       "4  Bangladesh    Asia      2007 64.062   150448339  1391.254\n",
       "5  Pakistan      Asia      2007 65.483   169270617  2605.948\n",
       "6  Brazil        Americas  2007 72.390   190010647  9065.801\n",
       "7  Indonesia     Asia      2007 70.650   223547000  3540.652\n",
       "8  United States Americas  2007 78.242   301139947 42951.653\n",
       "9  India         Asia      2007 64.698  1110396331  2452.210\n",
       "10 China         Asia      2007 72.961  1318683096  4959.115"
      ]
     },
     "metadata": {},
     "output_type": "display_data"
    }
   ],
   "source": [
    "tmp |> arrange(pop)|> tail(10)"
   ]
  },
  {
   "cell_type": "code",
   "execution_count": 66,
   "id": "efa9ccb0-fbd2-4c27-92d6-6505a83d25f4",
   "metadata": {},
   "outputs": [
    {
     "data": {
      "text/html": [
       "<table class=\"dataframe\">\n",
       "<caption>A tibble: 10 x 6</caption>\n",
       "<thead>\n",
       "\t<tr><th scope=col>country</th><th scope=col>continent</th><th scope=col>year</th><th scope=col>lifeExp</th><th scope=col>pop</th><th scope=col>gdpPercap</th></tr>\n",
       "\t<tr><th scope=col>&lt;fct&gt;</th><th scope=col>&lt;fct&gt;</th><th scope=col>&lt;int&gt;</th><th scope=col>&lt;dbl&gt;</th><th scope=col>&lt;int&gt;</th><th scope=col>&lt;dbl&gt;</th></tr>\n",
       "</thead>\n",
       "<tbody>\n",
       "\t<tr><td>China        </td><td>Asia    </td><td>2007</td><td>72.961</td><td>1318683096</td><td> 4959.115</td></tr>\n",
       "\t<tr><td>India        </td><td>Asia    </td><td>2007</td><td>64.698</td><td>1110396331</td><td> 2452.210</td></tr>\n",
       "\t<tr><td>United States</td><td>Americas</td><td>2007</td><td>78.242</td><td> 301139947</td><td>42951.653</td></tr>\n",
       "\t<tr><td>Indonesia    </td><td>Asia    </td><td>2007</td><td>70.650</td><td> 223547000</td><td> 3540.652</td></tr>\n",
       "\t<tr><td>Brazil       </td><td>Americas</td><td>2007</td><td>72.390</td><td> 190010647</td><td> 9065.801</td></tr>\n",
       "\t<tr><td>Pakistan     </td><td>Asia    </td><td>2007</td><td>65.483</td><td> 169270617</td><td> 2605.948</td></tr>\n",
       "\t<tr><td>Bangladesh   </td><td>Asia    </td><td>2007</td><td>64.062</td><td> 150448339</td><td> 1391.254</td></tr>\n",
       "\t<tr><td>Nigeria      </td><td>Africa  </td><td>2007</td><td>46.859</td><td> 135031164</td><td> 2013.977</td></tr>\n",
       "\t<tr><td>Japan        </td><td>Asia    </td><td>2007</td><td>82.603</td><td> 127467972</td><td>31656.068</td></tr>\n",
       "\t<tr><td>Mexico       </td><td>Americas</td><td>2007</td><td>76.195</td><td> 108700891</td><td>11977.575</td></tr>\n",
       "</tbody>\n",
       "</table>\n"
      ],
      "text/latex": [
       "A tibble: 10 x 6\n",
       "\\begin{tabular}{llllll}\n",
       " country & continent & year & lifeExp & pop & gdpPercap\\\\\n",
       " <fct> & <fct> & <int> & <dbl> & <int> & <dbl>\\\\\n",
       "\\hline\n",
       "\t China         & Asia     & 2007 & 72.961 & 1318683096 &  4959.115\\\\\n",
       "\t India         & Asia     & 2007 & 64.698 & 1110396331 &  2452.210\\\\\n",
       "\t United States & Americas & 2007 & 78.242 &  301139947 & 42951.653\\\\\n",
       "\t Indonesia     & Asia     & 2007 & 70.650 &  223547000 &  3540.652\\\\\n",
       "\t Brazil        & Americas & 2007 & 72.390 &  190010647 &  9065.801\\\\\n",
       "\t Pakistan      & Asia     & 2007 & 65.483 &  169270617 &  2605.948\\\\\n",
       "\t Bangladesh    & Asia     & 2007 & 64.062 &  150448339 &  1391.254\\\\\n",
       "\t Nigeria       & Africa   & 2007 & 46.859 &  135031164 &  2013.977\\\\\n",
       "\t Japan         & Asia     & 2007 & 82.603 &  127467972 & 31656.068\\\\\n",
       "\t Mexico        & Americas & 2007 & 76.195 &  108700891 & 11977.575\\\\\n",
       "\\end{tabular}\n"
      ],
      "text/markdown": [
       "\n",
       "A tibble: 10 x 6\n",
       "\n",
       "| country &lt;fct&gt; | continent &lt;fct&gt; | year &lt;int&gt; | lifeExp &lt;dbl&gt; | pop &lt;int&gt; | gdpPercap &lt;dbl&gt; |\n",
       "|---|---|---|---|---|---|\n",
       "| China         | Asia     | 2007 | 72.961 | 1318683096 |  4959.115 |\n",
       "| India         | Asia     | 2007 | 64.698 | 1110396331 |  2452.210 |\n",
       "| United States | Americas | 2007 | 78.242 |  301139947 | 42951.653 |\n",
       "| Indonesia     | Asia     | 2007 | 70.650 |  223547000 |  3540.652 |\n",
       "| Brazil        | Americas | 2007 | 72.390 |  190010647 |  9065.801 |\n",
       "| Pakistan      | Asia     | 2007 | 65.483 |  169270617 |  2605.948 |\n",
       "| Bangladesh    | Asia     | 2007 | 64.062 |  150448339 |  1391.254 |\n",
       "| Nigeria       | Africa   | 2007 | 46.859 |  135031164 |  2013.977 |\n",
       "| Japan         | Asia     | 2007 | 82.603 |  127467972 | 31656.068 |\n",
       "| Mexico        | Americas | 2007 | 76.195 |  108700891 | 11977.575 |\n",
       "\n"
      ],
      "text/plain": [
       "   country       continent year lifeExp pop        gdpPercap\n",
       "1  China         Asia      2007 72.961  1318683096  4959.115\n",
       "2  India         Asia      2007 64.698  1110396331  2452.210\n",
       "3  United States Americas  2007 78.242   301139947 42951.653\n",
       "4  Indonesia     Asia      2007 70.650   223547000  3540.652\n",
       "5  Brazil        Americas  2007 72.390   190010647  9065.801\n",
       "6  Pakistan      Asia      2007 65.483   169270617  2605.948\n",
       "7  Bangladesh    Asia      2007 64.062   150448339  1391.254\n",
       "8  Nigeria       Africa    2007 46.859   135031164  2013.977\n",
       "9  Japan         Asia      2007 82.603   127467972 31656.068\n",
       "10 Mexico        Americas  2007 76.195   108700891 11977.575"
      ]
     },
     "metadata": {},
     "output_type": "display_data"
    }
   ],
   "source": [
    "tmp |> arrange(desc(pop))|> head(10)"
   ]
  },
  {
   "cell_type": "code",
   "execution_count": 71,
   "id": "ae0d4bef-c01c-417b-b756-c978cd29325a",
   "metadata": {},
   "outputs": [
    {
     "data": {
      "text/html": [
       "<table class=\"dataframe\">\n",
       "<caption>A tibble: 10 x 6</caption>\n",
       "<thead>\n",
       "\t<tr><th scope=col>country</th><th scope=col>continent</th><th scope=col>year</th><th scope=col>lifeExp</th><th scope=col>pop</th><th scope=col>gdpPercap</th></tr>\n",
       "\t<tr><th scope=col>&lt;fct&gt;</th><th scope=col>&lt;fct&gt;</th><th scope=col>&lt;int&gt;</th><th scope=col>&lt;dbl&gt;</th><th scope=col>&lt;int&gt;</th><th scope=col>&lt;dbl&gt;</th></tr>\n",
       "</thead>\n",
       "<tbody>\n",
       "\t<tr><td>Serbia         </td><td>Europe </td><td>2007</td><td>74.002</td><td>10150265</td><td> 9786.535</td></tr>\n",
       "\t<tr><td>Slovak Republic</td><td>Europe </td><td>2007</td><td>74.663</td><td> 5447502</td><td>18678.314</td></tr>\n",
       "\t<tr><td>Slovenia       </td><td>Europe </td><td>2007</td><td>77.926</td><td> 2009245</td><td>25768.258</td></tr>\n",
       "\t<tr><td>Spain          </td><td>Europe </td><td>2007</td><td>80.941</td><td>40448191</td><td>28821.064</td></tr>\n",
       "\t<tr><td>Sweden         </td><td>Europe </td><td>2007</td><td>80.884</td><td> 9031088</td><td>33859.748</td></tr>\n",
       "\t<tr><td>Switzerland    </td><td>Europe </td><td>2007</td><td>81.701</td><td> 7554661</td><td>37506.419</td></tr>\n",
       "\t<tr><td>Turkey         </td><td>Europe </td><td>2007</td><td>71.777</td><td>71158647</td><td> 8458.276</td></tr>\n",
       "\t<tr><td>United Kingdom </td><td>Europe </td><td>2007</td><td>79.425</td><td>60776238</td><td>33203.261</td></tr>\n",
       "\t<tr><td>Australia      </td><td>Oceania</td><td>2007</td><td>81.235</td><td>20434176</td><td>34435.367</td></tr>\n",
       "\t<tr><td>New Zealand    </td><td>Oceania</td><td>2007</td><td>80.204</td><td> 4115771</td><td>25185.009</td></tr>\n",
       "</tbody>\n",
       "</table>\n"
      ],
      "text/latex": [
       "A tibble: 10 x 6\n",
       "\\begin{tabular}{llllll}\n",
       " country & continent & year & lifeExp & pop & gdpPercap\\\\\n",
       " <fct> & <fct> & <int> & <dbl> & <int> & <dbl>\\\\\n",
       "\\hline\n",
       "\t Serbia          & Europe  & 2007 & 74.002 & 10150265 &  9786.535\\\\\n",
       "\t Slovak Republic & Europe  & 2007 & 74.663 &  5447502 & 18678.314\\\\\n",
       "\t Slovenia        & Europe  & 2007 & 77.926 &  2009245 & 25768.258\\\\\n",
       "\t Spain           & Europe  & 2007 & 80.941 & 40448191 & 28821.064\\\\\n",
       "\t Sweden          & Europe  & 2007 & 80.884 &  9031088 & 33859.748\\\\\n",
       "\t Switzerland     & Europe  & 2007 & 81.701 &  7554661 & 37506.419\\\\\n",
       "\t Turkey          & Europe  & 2007 & 71.777 & 71158647 &  8458.276\\\\\n",
       "\t United Kingdom  & Europe  & 2007 & 79.425 & 60776238 & 33203.261\\\\\n",
       "\t Australia       & Oceania & 2007 & 81.235 & 20434176 & 34435.367\\\\\n",
       "\t New Zealand     & Oceania & 2007 & 80.204 &  4115771 & 25185.009\\\\\n",
       "\\end{tabular}\n"
      ],
      "text/markdown": [
       "\n",
       "A tibble: 10 x 6\n",
       "\n",
       "| country &lt;fct&gt; | continent &lt;fct&gt; | year &lt;int&gt; | lifeExp &lt;dbl&gt; | pop &lt;int&gt; | gdpPercap &lt;dbl&gt; |\n",
       "|---|---|---|---|---|---|\n",
       "| Serbia          | Europe  | 2007 | 74.002 | 10150265 |  9786.535 |\n",
       "| Slovak Republic | Europe  | 2007 | 74.663 |  5447502 | 18678.314 |\n",
       "| Slovenia        | Europe  | 2007 | 77.926 |  2009245 | 25768.258 |\n",
       "| Spain           | Europe  | 2007 | 80.941 | 40448191 | 28821.064 |\n",
       "| Sweden          | Europe  | 2007 | 80.884 |  9031088 | 33859.748 |\n",
       "| Switzerland     | Europe  | 2007 | 81.701 |  7554661 | 37506.419 |\n",
       "| Turkey          | Europe  | 2007 | 71.777 | 71158647 |  8458.276 |\n",
       "| United Kingdom  | Europe  | 2007 | 79.425 | 60776238 | 33203.261 |\n",
       "| Australia       | Oceania | 2007 | 81.235 | 20434176 | 34435.367 |\n",
       "| New Zealand     | Oceania | 2007 | 80.204 |  4115771 | 25185.009 |\n",
       "\n"
      ],
      "text/plain": [
       "   country         continent year lifeExp pop      gdpPercap\n",
       "1  Serbia          Europe    2007 74.002  10150265  9786.535\n",
       "2  Slovak Republic Europe    2007 74.663   5447502 18678.314\n",
       "3  Slovenia        Europe    2007 77.926   2009245 25768.258\n",
       "4  Spain           Europe    2007 80.941  40448191 28821.064\n",
       "5  Sweden          Europe    2007 80.884   9031088 33859.748\n",
       "6  Switzerland     Europe    2007 81.701   7554661 37506.419\n",
       "7  Turkey          Europe    2007 71.777  71158647  8458.276\n",
       "8  United Kingdom  Europe    2007 79.425  60776238 33203.261\n",
       "9  Australia       Oceania   2007 81.235  20434176 34435.367\n",
       "10 New Zealand     Oceania   2007 80.204   4115771 25185.009"
      ]
     },
     "metadata": {},
     "output_type": "display_data"
    }
   ],
   "source": [
    "tmp |> arrange(continent, country)|> tail(10)"
   ]
  },
  {
   "cell_type": "markdown",
   "id": "114f68ac-8e41-483c-a432-88801677a1ee",
   "metadata": {},
   "source": [
    "## `mutate`"
   ]
  },
  {
   "cell_type": "code",
   "execution_count": 84,
   "id": "1ce8ffbb-6e1f-48e0-b1b7-bf16c28d2f36",
   "metadata": {},
   "outputs": [],
   "source": [
    "data_2007 <- data |>\n",
    "    filter(year == 2007)"
   ]
  },
  {
   "cell_type": "code",
   "execution_count": 85,
   "id": "51a86203-1673-4521-b5dd-297ffdae79e1",
   "metadata": {},
   "outputs": [],
   "source": [
    "data_2007 <- data_2007 |>\n",
    "    mutate(gdpTotal = pop * gdpPercap)\n"
   ]
  },
  {
   "cell_type": "code",
   "execution_count": 76,
   "id": "50e97221-8a99-49db-8fb8-b5d9f8d82e89",
   "metadata": {},
   "outputs": [
    {
     "data": {
      "text/html": [
       "<table class=\"dataframe\">\n",
       "<caption>A tibble: 6 x 7</caption>\n",
       "<thead>\n",
       "\t<tr><th scope=col>country</th><th scope=col>continent</th><th scope=col>year</th><th scope=col>lifeExp</th><th scope=col>pop</th><th scope=col>gdpPercap</th><th scope=col>gdpTotal</th></tr>\n",
       "\t<tr><th scope=col>&lt;fct&gt;</th><th scope=col>&lt;fct&gt;</th><th scope=col>&lt;int&gt;</th><th scope=col>&lt;dbl&gt;</th><th scope=col>&lt;int&gt;</th><th scope=col>&lt;dbl&gt;</th><th scope=col>&lt;dbl&gt;</th></tr>\n",
       "</thead>\n",
       "<tbody>\n",
       "\t<tr><td>Afghanistan</td><td>Asia    </td><td>2007</td><td>43.828</td><td>31889923</td><td>  974.5803</td><td> 31079291949</td></tr>\n",
       "\t<tr><td>Albania    </td><td>Europe  </td><td>2007</td><td>76.423</td><td> 3600523</td><td> 5937.0295</td><td> 21376411360</td></tr>\n",
       "\t<tr><td>Algeria    </td><td>Africa  </td><td>2007</td><td>72.301</td><td>33333216</td><td> 6223.3675</td><td>207444851958</td></tr>\n",
       "\t<tr><td>Angola     </td><td>Africa  </td><td>2007</td><td>42.731</td><td>12420476</td><td> 4797.2313</td><td> 59583895818</td></tr>\n",
       "\t<tr><td>Argentina  </td><td>Americas</td><td>2007</td><td>75.320</td><td>40301927</td><td>12779.3796</td><td>515033625357</td></tr>\n",
       "\t<tr><td>Australia  </td><td>Oceania </td><td>2007</td><td>81.235</td><td>20434176</td><td>34435.3674</td><td>703658358894</td></tr>\n",
       "</tbody>\n",
       "</table>\n"
      ],
      "text/latex": [
       "A tibble: 6 x 7\n",
       "\\begin{tabular}{lllllll}\n",
       " country & continent & year & lifeExp & pop & gdpPercap & gdpTotal\\\\\n",
       " <fct> & <fct> & <int> & <dbl> & <int> & <dbl> & <dbl>\\\\\n",
       "\\hline\n",
       "\t Afghanistan & Asia     & 2007 & 43.828 & 31889923 &   974.5803 &  31079291949\\\\\n",
       "\t Albania     & Europe   & 2007 & 76.423 &  3600523 &  5937.0295 &  21376411360\\\\\n",
       "\t Algeria     & Africa   & 2007 & 72.301 & 33333216 &  6223.3675 & 207444851958\\\\\n",
       "\t Angola      & Africa   & 2007 & 42.731 & 12420476 &  4797.2313 &  59583895818\\\\\n",
       "\t Argentina   & Americas & 2007 & 75.320 & 40301927 & 12779.3796 & 515033625357\\\\\n",
       "\t Australia   & Oceania  & 2007 & 81.235 & 20434176 & 34435.3674 & 703658358894\\\\\n",
       "\\end{tabular}\n"
      ],
      "text/markdown": [
       "\n",
       "A tibble: 6 x 7\n",
       "\n",
       "| country &lt;fct&gt; | continent &lt;fct&gt; | year &lt;int&gt; | lifeExp &lt;dbl&gt; | pop &lt;int&gt; | gdpPercap &lt;dbl&gt; | gdpTotal &lt;dbl&gt; |\n",
       "|---|---|---|---|---|---|---|\n",
       "| Afghanistan | Asia     | 2007 | 43.828 | 31889923 |   974.5803 |  31079291949 |\n",
       "| Albania     | Europe   | 2007 | 76.423 |  3600523 |  5937.0295 |  21376411360 |\n",
       "| Algeria     | Africa   | 2007 | 72.301 | 33333216 |  6223.3675 | 207444851958 |\n",
       "| Angola      | Africa   | 2007 | 42.731 | 12420476 |  4797.2313 |  59583895818 |\n",
       "| Argentina   | Americas | 2007 | 75.320 | 40301927 | 12779.3796 | 515033625357 |\n",
       "| Australia   | Oceania  | 2007 | 81.235 | 20434176 | 34435.3674 | 703658358894 |\n",
       "\n"
      ],
      "text/plain": [
       "  country     continent year lifeExp pop      gdpPercap  gdpTotal    \n",
       "1 Afghanistan Asia      2007 43.828  31889923   974.5803  31079291949\n",
       "2 Albania     Europe    2007 76.423   3600523  5937.0295  21376411360\n",
       "3 Algeria     Africa    2007 72.301  33333216  6223.3675 207444851958\n",
       "4 Angola      Africa    2007 42.731  12420476  4797.2313  59583895818\n",
       "5 Argentina   Americas  2007 75.320  40301927 12779.3796 515033625357\n",
       "6 Australia   Oceania   2007 81.235  20434176 34435.3674 703658358894"
      ]
     },
     "metadata": {},
     "output_type": "display_data"
    }
   ],
   "source": [
    "data_2007 |> head()"
   ]
  },
  {
   "cell_type": "code",
   "execution_count": 86,
   "id": "4a77d7ed-e19d-4951-9043-19a3a651e560",
   "metadata": {},
   "outputs": [
    {
     "data": {
      "text/html": [
       "<table class=\"dataframe\">\n",
       "<caption>A tibble: 6 x 7</caption>\n",
       "<thead>\n",
       "\t<tr><th scope=col>country</th><th scope=col>continent</th><th scope=col>year</th><th scope=col>lifeExp</th><th scope=col>pop</th><th scope=col>gdpPercap</th><th scope=col>gdpTotal</th></tr>\n",
       "\t<tr><th scope=col>&lt;chr&gt;</th><th scope=col>&lt;fct&gt;</th><th scope=col>&lt;int&gt;</th><th scope=col>&lt;dbl&gt;</th><th scope=col>&lt;int&gt;</th><th scope=col>&lt;dbl&gt;</th><th scope=col>&lt;dbl&gt;</th></tr>\n",
       "</thead>\n",
       "<tbody>\n",
       "\t<tr><td>AFGHANISTAN</td><td>Asia    </td><td>2007</td><td>44</td><td>31889923</td><td>  974.5803</td><td> 31079291949</td></tr>\n",
       "\t<tr><td>ALBANIA    </td><td>Europe  </td><td>2007</td><td>76</td><td> 3600523</td><td> 5937.0295</td><td> 21376411360</td></tr>\n",
       "\t<tr><td>ALGERIA    </td><td>Africa  </td><td>2007</td><td>72</td><td>33333216</td><td> 6223.3675</td><td>207444851958</td></tr>\n",
       "\t<tr><td>ANGOLA     </td><td>Africa  </td><td>2007</td><td>43</td><td>12420476</td><td> 4797.2313</td><td> 59583895818</td></tr>\n",
       "\t<tr><td>ARGENTINA  </td><td>Americas</td><td>2007</td><td>75</td><td>40301927</td><td>12779.3796</td><td>515033625357</td></tr>\n",
       "\t<tr><td>AUSTRALIA  </td><td>Oceania </td><td>2007</td><td>81</td><td>20434176</td><td>34435.3674</td><td>703658358894</td></tr>\n",
       "</tbody>\n",
       "</table>\n"
      ],
      "text/latex": [
       "A tibble: 6 x 7\n",
       "\\begin{tabular}{lllllll}\n",
       " country & continent & year & lifeExp & pop & gdpPercap & gdpTotal\\\\\n",
       " <chr> & <fct> & <int> & <dbl> & <int> & <dbl> & <dbl>\\\\\n",
       "\\hline\n",
       "\t AFGHANISTAN & Asia     & 2007 & 44 & 31889923 &   974.5803 &  31079291949\\\\\n",
       "\t ALBANIA     & Europe   & 2007 & 76 &  3600523 &  5937.0295 &  21376411360\\\\\n",
       "\t ALGERIA     & Africa   & 2007 & 72 & 33333216 &  6223.3675 & 207444851958\\\\\n",
       "\t ANGOLA      & Africa   & 2007 & 43 & 12420476 &  4797.2313 &  59583895818\\\\\n",
       "\t ARGENTINA   & Americas & 2007 & 75 & 40301927 & 12779.3796 & 515033625357\\\\\n",
       "\t AUSTRALIA   & Oceania  & 2007 & 81 & 20434176 & 34435.3674 & 703658358894\\\\\n",
       "\\end{tabular}\n"
      ],
      "text/markdown": [
       "\n",
       "A tibble: 6 x 7\n",
       "\n",
       "| country &lt;chr&gt; | continent &lt;fct&gt; | year &lt;int&gt; | lifeExp &lt;dbl&gt; | pop &lt;int&gt; | gdpPercap &lt;dbl&gt; | gdpTotal &lt;dbl&gt; |\n",
       "|---|---|---|---|---|---|---|\n",
       "| AFGHANISTAN | Asia     | 2007 | 44 | 31889923 |   974.5803 |  31079291949 |\n",
       "| ALBANIA     | Europe   | 2007 | 76 |  3600523 |  5937.0295 |  21376411360 |\n",
       "| ALGERIA     | Africa   | 2007 | 72 | 33333216 |  6223.3675 | 207444851958 |\n",
       "| ANGOLA      | Africa   | 2007 | 43 | 12420476 |  4797.2313 |  59583895818 |\n",
       "| ARGENTINA   | Americas | 2007 | 75 | 40301927 | 12779.3796 | 515033625357 |\n",
       "| AUSTRALIA   | Oceania  | 2007 | 81 | 20434176 | 34435.3674 | 703658358894 |\n",
       "\n"
      ],
      "text/plain": [
       "  country     continent year lifeExp pop      gdpPercap  gdpTotal    \n",
       "1 AFGHANISTAN Asia      2007 44      31889923   974.5803  31079291949\n",
       "2 ALBANIA     Europe    2007 76       3600523  5937.0295  21376411360\n",
       "3 ALGERIA     Africa    2007 72      33333216  6223.3675 207444851958\n",
       "4 ANGOLA      Africa    2007 43      12420476  4797.2313  59583895818\n",
       "5 ARGENTINA   Americas  2007 75      40301927 12779.3796 515033625357\n",
       "6 AUSTRALIA   Oceania   2007 81      20434176 34435.3674 703658358894"
      ]
     },
     "metadata": {},
     "output_type": "display_data"
    }
   ],
   "source": [
    "data_2007 <- data_2007 |>\n",
    "    mutate(gdpTotal = pop * gdpPercap,\n",
    "          country = toupper(country),\n",
    "          lifeExp = round(lifeExp))\n",
    "data_2007 |> head()"
   ]
  },
  {
   "cell_type": "markdown",
   "id": "bd810eb8-839c-4f1e-9933-d3d9abc1e98f",
   "metadata": {},
   "source": [
    "`Europe` -> `EU`"
   ]
  },
  {
   "cell_type": "code",
   "execution_count": 87,
   "id": "311ecdae-e27b-4725-903a-3c644ade3615",
   "metadata": {},
   "outputs": [],
   "source": [
    "data_2007 <- data_2007 |>\n",
    "    mutate(\n",
    "        continent = as.character(continent),\n",
    "        continent = ifelse(continent == \"Europe\", \"EU\", continent),\n",
    "        continent = as.factor(continent))"
   ]
  },
  {
   "cell_type": "code",
   "execution_count": 89,
   "id": "5d332bd1-7e3c-455f-b101-58180fd83f60",
   "metadata": {},
   "outputs": [
    {
     "data": {
      "text/html": [
       "<table class=\"dataframe\">\n",
       "<caption>A tibble: 6 x 7</caption>\n",
       "<thead>\n",
       "\t<tr><th scope=col>country</th><th scope=col>continent</th><th scope=col>year</th><th scope=col>lifeExp</th><th scope=col>pop</th><th scope=col>gdpPercap</th><th scope=col>gdpTotal</th></tr>\n",
       "\t<tr><th scope=col>&lt;chr&gt;</th><th scope=col>&lt;fct&gt;</th><th scope=col>&lt;int&gt;</th><th scope=col>&lt;dbl&gt;</th><th scope=col>&lt;int&gt;</th><th scope=col>&lt;dbl&gt;</th><th scope=col>&lt;dbl&gt;</th></tr>\n",
       "</thead>\n",
       "<tbody>\n",
       "\t<tr><td>AFGHANISTAN</td><td>Asia    </td><td>2007</td><td>44</td><td>31889923</td><td>  974.5803</td><td> 31079291949</td></tr>\n",
       "\t<tr><td>ALBANIA    </td><td>EU      </td><td>2007</td><td>76</td><td> 3600523</td><td> 5937.0295</td><td> 21376411360</td></tr>\n",
       "\t<tr><td>ALGERIA    </td><td>Africa  </td><td>2007</td><td>72</td><td>33333216</td><td> 6223.3675</td><td>207444851958</td></tr>\n",
       "\t<tr><td>ANGOLA     </td><td>Africa  </td><td>2007</td><td>43</td><td>12420476</td><td> 4797.2313</td><td> 59583895818</td></tr>\n",
       "\t<tr><td>ARGENTINA  </td><td>Americas</td><td>2007</td><td>75</td><td>40301927</td><td>12779.3796</td><td>515033625357</td></tr>\n",
       "\t<tr><td>AUSTRALIA  </td><td>Oceania </td><td>2007</td><td>81</td><td>20434176</td><td>34435.3674</td><td>703658358894</td></tr>\n",
       "</tbody>\n",
       "</table>\n"
      ],
      "text/latex": [
       "A tibble: 6 x 7\n",
       "\\begin{tabular}{lllllll}\n",
       " country & continent & year & lifeExp & pop & gdpPercap & gdpTotal\\\\\n",
       " <chr> & <fct> & <int> & <dbl> & <int> & <dbl> & <dbl>\\\\\n",
       "\\hline\n",
       "\t AFGHANISTAN & Asia     & 2007 & 44 & 31889923 &   974.5803 &  31079291949\\\\\n",
       "\t ALBANIA     & EU       & 2007 & 76 &  3600523 &  5937.0295 &  21376411360\\\\\n",
       "\t ALGERIA     & Africa   & 2007 & 72 & 33333216 &  6223.3675 & 207444851958\\\\\n",
       "\t ANGOLA      & Africa   & 2007 & 43 & 12420476 &  4797.2313 &  59583895818\\\\\n",
       "\t ARGENTINA   & Americas & 2007 & 75 & 40301927 & 12779.3796 & 515033625357\\\\\n",
       "\t AUSTRALIA   & Oceania  & 2007 & 81 & 20434176 & 34435.3674 & 703658358894\\\\\n",
       "\\end{tabular}\n"
      ],
      "text/markdown": [
       "\n",
       "A tibble: 6 x 7\n",
       "\n",
       "| country &lt;chr&gt; | continent &lt;fct&gt; | year &lt;int&gt; | lifeExp &lt;dbl&gt; | pop &lt;int&gt; | gdpPercap &lt;dbl&gt; | gdpTotal &lt;dbl&gt; |\n",
       "|---|---|---|---|---|---|---|\n",
       "| AFGHANISTAN | Asia     | 2007 | 44 | 31889923 |   974.5803 |  31079291949 |\n",
       "| ALBANIA     | EU       | 2007 | 76 |  3600523 |  5937.0295 |  21376411360 |\n",
       "| ALGERIA     | Africa   | 2007 | 72 | 33333216 |  6223.3675 | 207444851958 |\n",
       "| ANGOLA      | Africa   | 2007 | 43 | 12420476 |  4797.2313 |  59583895818 |\n",
       "| ARGENTINA   | Americas | 2007 | 75 | 40301927 | 12779.3796 | 515033625357 |\n",
       "| AUSTRALIA   | Oceania  | 2007 | 81 | 20434176 | 34435.3674 | 703658358894 |\n",
       "\n"
      ],
      "text/plain": [
       "  country     continent year lifeExp pop      gdpPercap  gdpTotal    \n",
       "1 AFGHANISTAN Asia      2007 44      31889923   974.5803  31079291949\n",
       "2 ALBANIA     EU        2007 76       3600523  5937.0295  21376411360\n",
       "3 ALGERIA     Africa    2007 72      33333216  6223.3675 207444851958\n",
       "4 ANGOLA      Africa    2007 43      12420476  4797.2313  59583895818\n",
       "5 ARGENTINA   Americas  2007 75      40301927 12779.3796 515033625357\n",
       "6 AUSTRALIA   Oceania   2007 81      20434176 34435.3674 703658358894"
      ]
     },
     "metadata": {},
     "output_type": "display_data"
    }
   ],
   "source": [
    "data_2007 |> head()"
   ]
  },
  {
   "cell_type": "code",
   "execution_count": 93,
   "id": "29cd6c58-a16c-44bd-981b-abbb7778d551",
   "metadata": {},
   "outputs": [
    {
     "data": {
      "text/html": [
       "<table class=\"dataframe\">\n",
       "<caption>A tibble: 6 x 1</caption>\n",
       "<thead>\n",
       "\t<tr><th scope=col>gdpTotal</th></tr>\n",
       "\t<tr><th scope=col>&lt;dbl&gt;</th></tr>\n",
       "</thead>\n",
       "<tbody>\n",
       "\t<tr><td> 31079291949</td></tr>\n",
       "\t<tr><td> 21376411360</td></tr>\n",
       "\t<tr><td>207444851958</td></tr>\n",
       "\t<tr><td> 59583895818</td></tr>\n",
       "\t<tr><td>515033625357</td></tr>\n",
       "\t<tr><td>703658358894</td></tr>\n",
       "</tbody>\n",
       "</table>\n"
      ],
      "text/latex": [
       "A tibble: 6 x 1\n",
       "\\begin{tabular}{l}\n",
       " gdpTotal\\\\\n",
       " <dbl>\\\\\n",
       "\\hline\n",
       "\t  31079291949\\\\\n",
       "\t  21376411360\\\\\n",
       "\t 207444851958\\\\\n",
       "\t  59583895818\\\\\n",
       "\t 515033625357\\\\\n",
       "\t 703658358894\\\\\n",
       "\\end{tabular}\n"
      ],
      "text/markdown": [
       "\n",
       "A tibble: 6 x 1\n",
       "\n",
       "| gdpTotal &lt;dbl&gt; |\n",
       "|---|\n",
       "|  31079291949 |\n",
       "|  21376411360 |\n",
       "| 207444851958 |\n",
       "|  59583895818 |\n",
       "| 515033625357 |\n",
       "| 703658358894 |\n",
       "\n"
      ],
      "text/plain": [
       "  gdpTotal    \n",
       "1  31079291949\n",
       "2  21376411360\n",
       "3 207444851958\n",
       "4  59583895818\n",
       "5 515033625357\n",
       "6 703658358894"
      ]
     },
     "metadata": {},
     "output_type": "display_data"
    }
   ],
   "source": [
    "data_2007 |>\n",
    "    transmute(gdpTotal = pop * gdpPercap) |>\n",
    "    head()"
   ]
  },
  {
   "cell_type": "markdown",
   "id": "dfed254e-feea-4d83-8216-ea6a3d6ad459",
   "metadata": {},
   "source": [
    "## `rename`"
   ]
  },
  {
   "cell_type": "code",
   "execution_count": 102,
   "id": "10e06de8-1ded-4316-8a7b-c2f086f738bd",
   "metadata": {},
   "outputs": [
    {
     "data": {
      "text/html": [
       "<table class=\"dataframe\">\n",
       "<caption>A tibble: 6 x 6</caption>\n",
       "<thead>\n",
       "\t<tr><th scope=col>country</th><th scope=col>continent</th><th scope=col>year</th><th scope=col>lifeExp</th><th scope=col>pop</th><th scope=col>gdpPercap</th></tr>\n",
       "\t<tr><th scope=col>&lt;fct&gt;</th><th scope=col>&lt;fct&gt;</th><th scope=col>&lt;int&gt;</th><th scope=col>&lt;dbl&gt;</th><th scope=col>&lt;int&gt;</th><th scope=col>&lt;dbl&gt;</th></tr>\n",
       "</thead>\n",
       "<tbody>\n",
       "\t<tr><td>Afghanistan</td><td>Asia</td><td>1952</td><td>28.801</td><td> 8425333</td><td>779.4453</td></tr>\n",
       "\t<tr><td>Afghanistan</td><td>Asia</td><td>1957</td><td>30.332</td><td> 9240934</td><td>820.8530</td></tr>\n",
       "\t<tr><td>Afghanistan</td><td>Asia</td><td>1962</td><td>31.997</td><td>10267083</td><td>853.1007</td></tr>\n",
       "\t<tr><td>Afghanistan</td><td>Asia</td><td>1967</td><td>34.020</td><td>11537966</td><td>836.1971</td></tr>\n",
       "\t<tr><td>Afghanistan</td><td>Asia</td><td>1972</td><td>36.088</td><td>13079460</td><td>739.9811</td></tr>\n",
       "\t<tr><td>Afghanistan</td><td>Asia</td><td>1977</td><td>38.438</td><td>14880372</td><td>786.1134</td></tr>\n",
       "</tbody>\n",
       "</table>\n"
      ],
      "text/latex": [
       "A tibble: 6 x 6\n",
       "\\begin{tabular}{llllll}\n",
       " country & continent & year & lifeExp & pop & gdpPercap\\\\\n",
       " <fct> & <fct> & <int> & <dbl> & <int> & <dbl>\\\\\n",
       "\\hline\n",
       "\t Afghanistan & Asia & 1952 & 28.801 &  8425333 & 779.4453\\\\\n",
       "\t Afghanistan & Asia & 1957 & 30.332 &  9240934 & 820.8530\\\\\n",
       "\t Afghanistan & Asia & 1962 & 31.997 & 10267083 & 853.1007\\\\\n",
       "\t Afghanistan & Asia & 1967 & 34.020 & 11537966 & 836.1971\\\\\n",
       "\t Afghanistan & Asia & 1972 & 36.088 & 13079460 & 739.9811\\\\\n",
       "\t Afghanistan & Asia & 1977 & 38.438 & 14880372 & 786.1134\\\\\n",
       "\\end{tabular}\n"
      ],
      "text/markdown": [
       "\n",
       "A tibble: 6 x 6\n",
       "\n",
       "| country &lt;fct&gt; | continent &lt;fct&gt; | year &lt;int&gt; | lifeExp &lt;dbl&gt; | pop &lt;int&gt; | gdpPercap &lt;dbl&gt; |\n",
       "|---|---|---|---|---|---|\n",
       "| Afghanistan | Asia | 1952 | 28.801 |  8425333 | 779.4453 |\n",
       "| Afghanistan | Asia | 1957 | 30.332 |  9240934 | 820.8530 |\n",
       "| Afghanistan | Asia | 1962 | 31.997 | 10267083 | 853.1007 |\n",
       "| Afghanistan | Asia | 1967 | 34.020 | 11537966 | 836.1971 |\n",
       "| Afghanistan | Asia | 1972 | 36.088 | 13079460 | 739.9811 |\n",
       "| Afghanistan | Asia | 1977 | 38.438 | 14880372 | 786.1134 |\n",
       "\n"
      ],
      "text/plain": [
       "  country     continent year lifeExp pop      gdpPercap\n",
       "1 Afghanistan Asia      1952 28.801   8425333 779.4453 \n",
       "2 Afghanistan Asia      1957 30.332   9240934 820.8530 \n",
       "3 Afghanistan Asia      1962 31.997  10267083 853.1007 \n",
       "4 Afghanistan Asia      1967 34.020  11537966 836.1971 \n",
       "5 Afghanistan Asia      1972 36.088  13079460 739.9811 \n",
       "6 Afghanistan Asia      1977 38.438  14880372 786.1134 "
      ]
     },
     "metadata": {},
     "output_type": "display_data"
    }
   ],
   "source": [
    "data <- gapminder\n",
    "data |> head()"
   ]
  },
  {
   "cell_type": "code",
   "execution_count": 103,
   "id": "8ee93a0b-624d-4ef1-8202-f1e922fead1b",
   "metadata": {},
   "outputs": [],
   "source": [
    "data <- data |>\n",
    "    rename(population = pop)"
   ]
  },
  {
   "cell_type": "code",
   "execution_count": 104,
   "id": "71f8e491-3ce0-4632-b343-007a6bbffc1d",
   "metadata": {},
   "outputs": [
    {
     "data": {
      "text/html": [
       "<table class=\"dataframe\">\n",
       "<caption>A tibble: 6 x 6</caption>\n",
       "<thead>\n",
       "\t<tr><th scope=col>country</th><th scope=col>continent</th><th scope=col>year</th><th scope=col>lifeExp</th><th scope=col>population</th><th scope=col>gdpPercap</th></tr>\n",
       "\t<tr><th scope=col>&lt;fct&gt;</th><th scope=col>&lt;fct&gt;</th><th scope=col>&lt;int&gt;</th><th scope=col>&lt;dbl&gt;</th><th scope=col>&lt;int&gt;</th><th scope=col>&lt;dbl&gt;</th></tr>\n",
       "</thead>\n",
       "<tbody>\n",
       "\t<tr><td>Afghanistan</td><td>Asia</td><td>1952</td><td>28.801</td><td> 8425333</td><td>779.4453</td></tr>\n",
       "\t<tr><td>Afghanistan</td><td>Asia</td><td>1957</td><td>30.332</td><td> 9240934</td><td>820.8530</td></tr>\n",
       "\t<tr><td>Afghanistan</td><td>Asia</td><td>1962</td><td>31.997</td><td>10267083</td><td>853.1007</td></tr>\n",
       "\t<tr><td>Afghanistan</td><td>Asia</td><td>1967</td><td>34.020</td><td>11537966</td><td>836.1971</td></tr>\n",
       "\t<tr><td>Afghanistan</td><td>Asia</td><td>1972</td><td>36.088</td><td>13079460</td><td>739.9811</td></tr>\n",
       "\t<tr><td>Afghanistan</td><td>Asia</td><td>1977</td><td>38.438</td><td>14880372</td><td>786.1134</td></tr>\n",
       "</tbody>\n",
       "</table>\n"
      ],
      "text/latex": [
       "A tibble: 6 x 6\n",
       "\\begin{tabular}{llllll}\n",
       " country & continent & year & lifeExp & population & gdpPercap\\\\\n",
       " <fct> & <fct> & <int> & <dbl> & <int> & <dbl>\\\\\n",
       "\\hline\n",
       "\t Afghanistan & Asia & 1952 & 28.801 &  8425333 & 779.4453\\\\\n",
       "\t Afghanistan & Asia & 1957 & 30.332 &  9240934 & 820.8530\\\\\n",
       "\t Afghanistan & Asia & 1962 & 31.997 & 10267083 & 853.1007\\\\\n",
       "\t Afghanistan & Asia & 1967 & 34.020 & 11537966 & 836.1971\\\\\n",
       "\t Afghanistan & Asia & 1972 & 36.088 & 13079460 & 739.9811\\\\\n",
       "\t Afghanistan & Asia & 1977 & 38.438 & 14880372 & 786.1134\\\\\n",
       "\\end{tabular}\n"
      ],
      "text/markdown": [
       "\n",
       "A tibble: 6 x 6\n",
       "\n",
       "| country &lt;fct&gt; | continent &lt;fct&gt; | year &lt;int&gt; | lifeExp &lt;dbl&gt; | population &lt;int&gt; | gdpPercap &lt;dbl&gt; |\n",
       "|---|---|---|---|---|---|\n",
       "| Afghanistan | Asia | 1952 | 28.801 |  8425333 | 779.4453 |\n",
       "| Afghanistan | Asia | 1957 | 30.332 |  9240934 | 820.8530 |\n",
       "| Afghanistan | Asia | 1962 | 31.997 | 10267083 | 853.1007 |\n",
       "| Afghanistan | Asia | 1967 | 34.020 | 11537966 | 836.1971 |\n",
       "| Afghanistan | Asia | 1972 | 36.088 | 13079460 | 739.9811 |\n",
       "| Afghanistan | Asia | 1977 | 38.438 | 14880372 | 786.1134 |\n",
       "\n"
      ],
      "text/plain": [
       "  country     continent year lifeExp population gdpPercap\n",
       "1 Afghanistan Asia      1952 28.801   8425333   779.4453 \n",
       "2 Afghanistan Asia      1957 30.332   9240934   820.8530 \n",
       "3 Afghanistan Asia      1962 31.997  10267083   853.1007 \n",
       "4 Afghanistan Asia      1967 34.020  11537966   836.1971 \n",
       "5 Afghanistan Asia      1972 36.088  13079460   739.9811 \n",
       "6 Afghanistan Asia      1977 38.438  14880372   786.1134 "
      ]
     },
     "metadata": {},
     "output_type": "display_data"
    }
   ],
   "source": [
    "data |> head()"
   ]
  },
  {
   "cell_type": "code",
   "execution_count": 105,
   "id": "34f8ab2f-0940-4141-a70c-11cd6fd24661",
   "metadata": {},
   "outputs": [],
   "source": [
    "# rename_if"
   ]
  },
  {
   "cell_type": "code",
   "execution_count": 107,
   "id": "d25b0031-b893-448f-8b38-d6693b22bc81",
   "metadata": {},
   "outputs": [],
   "source": [
    "# rename_at"
   ]
  },
  {
   "cell_type": "markdown",
   "id": "bce5aade-b5c8-43d1-88b1-e4ff1db4d9c5",
   "metadata": {},
   "source": [
    "## `group_by` + `summarise`"
   ]
  },
  {
   "cell_type": "code",
   "execution_count": 109,
   "id": "54a11451-13d3-4a53-9782-71e641dd143e",
   "metadata": {},
   "outputs": [
    {
     "data": {
      "text/html": [
       "<table class=\"dataframe\">\n",
       "<caption>A tibble: 5 x 3</caption>\n",
       "<thead>\n",
       "\t<tr><th scope=col>continent</th><th scope=col>lifeExp2007</th><th scope=col>countriesCount</th></tr>\n",
       "\t<tr><th scope=col>&lt;fct&gt;</th><th scope=col>&lt;dbl&gt;</th><th scope=col>&lt;int&gt;</th></tr>\n",
       "</thead>\n",
       "<tbody>\n",
       "\t<tr><td>Africa  </td><td>54.80604</td><td>52</td></tr>\n",
       "\t<tr><td>Americas</td><td>73.60812</td><td>25</td></tr>\n",
       "\t<tr><td>Asia    </td><td>70.72848</td><td>33</td></tr>\n",
       "\t<tr><td>Europe  </td><td>77.64860</td><td>30</td></tr>\n",
       "\t<tr><td>Oceania </td><td>80.71950</td><td> 2</td></tr>\n",
       "</tbody>\n",
       "</table>\n"
      ],
      "text/latex": [
       "A tibble: 5 x 3\n",
       "\\begin{tabular}{lll}\n",
       " continent & lifeExp2007 & countriesCount\\\\\n",
       " <fct> & <dbl> & <int>\\\\\n",
       "\\hline\n",
       "\t Africa   & 54.80604 & 52\\\\\n",
       "\t Americas & 73.60812 & 25\\\\\n",
       "\t Asia     & 70.72848 & 33\\\\\n",
       "\t Europe   & 77.64860 & 30\\\\\n",
       "\t Oceania  & 80.71950 &  2\\\\\n",
       "\\end{tabular}\n"
      ],
      "text/markdown": [
       "\n",
       "A tibble: 5 x 3\n",
       "\n",
       "| continent &lt;fct&gt; | lifeExp2007 &lt;dbl&gt; | countriesCount &lt;int&gt; |\n",
       "|---|---|---|\n",
       "| Africa   | 54.80604 | 52 |\n",
       "| Americas | 73.60812 | 25 |\n",
       "| Asia     | 70.72848 | 33 |\n",
       "| Europe   | 77.64860 | 30 |\n",
       "| Oceania  | 80.71950 |  2 |\n",
       "\n"
      ],
      "text/plain": [
       "  continent lifeExp2007 countriesCount\n",
       "1 Africa    54.80604    52            \n",
       "2 Americas  73.60812    25            \n",
       "3 Asia      70.72848    33            \n",
       "4 Europe    77.64860    30            \n",
       "5 Oceania   80.71950     2            "
      ]
     },
     "metadata": {},
     "output_type": "display_data"
    }
   ],
   "source": [
    "data |> \n",
    "    filter(year == 2007) |>\n",
    "    group_by(continent) |>\n",
    "    summarise(\n",
    "        lifeExp2007 = mean(lifeExp),\n",
    "        countriesCount = n()\n",
    "    )"
   ]
  },
  {
   "cell_type": "code",
   "execution_count": 112,
   "id": "55d9ef9c-6d53-4984-9f72-ebfe032587a1",
   "metadata": {},
   "outputs": [
    {
     "name": "stderr",
     "output_type": "stream",
     "text": [
      "\u001b[1m\u001b[22m`summarise()` has grouped output by 'continent'. You can override using the\n",
      "`.groups` argument.\n"
     ]
    },
    {
     "data": {
      "text/html": [
       "<table class=\"dataframe\">\n",
       "<caption>A grouped_df: 10 x 5</caption>\n",
       "<thead>\n",
       "\t<tr><th scope=col>continent</th><th scope=col>year</th><th scope=col>lifeExp2007</th><th scope=col>countriesCount</th><th scope=col>population</th></tr>\n",
       "\t<tr><th scope=col>&lt;fct&gt;</th><th scope=col>&lt;int&gt;</th><th scope=col>&lt;dbl&gt;</th><th scope=col>&lt;int&gt;</th><th scope=col>&lt;dbl&gt;</th></tr>\n",
       "</thead>\n",
       "<tbody>\n",
       "\t<tr><td>Africa  </td><td>2002</td><td>53.32523</td><td>52</td><td> 833723916</td></tr>\n",
       "\t<tr><td>Africa  </td><td>2007</td><td>54.80604</td><td>52</td><td> 929539692</td></tr>\n",
       "\t<tr><td>Americas</td><td>2002</td><td>72.42204</td><td>25</td><td> 849772762</td></tr>\n",
       "\t<tr><td>Americas</td><td>2007</td><td>73.60812</td><td>25</td><td> 898871184</td></tr>\n",
       "\t<tr><td>Asia    </td><td>2002</td><td>69.23388</td><td>33</td><td>3601802203</td></tr>\n",
       "\t<tr><td>Asia    </td><td>2007</td><td>70.72848</td><td>33</td><td>3811953827</td></tr>\n",
       "\t<tr><td>Europe  </td><td>2002</td><td>76.70060</td><td>30</td><td> 578223869</td></tr>\n",
       "\t<tr><td>Europe  </td><td>2007</td><td>77.64860</td><td>30</td><td> 586098529</td></tr>\n",
       "\t<tr><td>Oceania </td><td>2002</td><td>79.74000</td><td> 2</td><td>  23454829</td></tr>\n",
       "\t<tr><td>Oceania </td><td>2007</td><td>80.71950</td><td> 2</td><td>  24549947</td></tr>\n",
       "</tbody>\n",
       "</table>\n"
      ],
      "text/latex": [
       "A grouped\\_df: 10 x 5\n",
       "\\begin{tabular}{lllll}\n",
       " continent & year & lifeExp2007 & countriesCount & population\\\\\n",
       " <fct> & <int> & <dbl> & <int> & <dbl>\\\\\n",
       "\\hline\n",
       "\t Africa   & 2002 & 53.32523 & 52 &  833723916\\\\\n",
       "\t Africa   & 2007 & 54.80604 & 52 &  929539692\\\\\n",
       "\t Americas & 2002 & 72.42204 & 25 &  849772762\\\\\n",
       "\t Americas & 2007 & 73.60812 & 25 &  898871184\\\\\n",
       "\t Asia     & 2002 & 69.23388 & 33 & 3601802203\\\\\n",
       "\t Asia     & 2007 & 70.72848 & 33 & 3811953827\\\\\n",
       "\t Europe   & 2002 & 76.70060 & 30 &  578223869\\\\\n",
       "\t Europe   & 2007 & 77.64860 & 30 &  586098529\\\\\n",
       "\t Oceania  & 2002 & 79.74000 &  2 &   23454829\\\\\n",
       "\t Oceania  & 2007 & 80.71950 &  2 &   24549947\\\\\n",
       "\\end{tabular}\n"
      ],
      "text/markdown": [
       "\n",
       "A grouped_df: 10 x 5\n",
       "\n",
       "| continent &lt;fct&gt; | year &lt;int&gt; | lifeExp2007 &lt;dbl&gt; | countriesCount &lt;int&gt; | population &lt;dbl&gt; |\n",
       "|---|---|---|---|---|\n",
       "| Africa   | 2002 | 53.32523 | 52 |  833723916 |\n",
       "| Africa   | 2007 | 54.80604 | 52 |  929539692 |\n",
       "| Americas | 2002 | 72.42204 | 25 |  849772762 |\n",
       "| Americas | 2007 | 73.60812 | 25 |  898871184 |\n",
       "| Asia     | 2002 | 69.23388 | 33 | 3601802203 |\n",
       "| Asia     | 2007 | 70.72848 | 33 | 3811953827 |\n",
       "| Europe   | 2002 | 76.70060 | 30 |  578223869 |\n",
       "| Europe   | 2007 | 77.64860 | 30 |  586098529 |\n",
       "| Oceania  | 2002 | 79.74000 |  2 |   23454829 |\n",
       "| Oceania  | 2007 | 80.71950 |  2 |   24549947 |\n",
       "\n"
      ],
      "text/plain": [
       "   continent year lifeExp2007 countriesCount population\n",
       "1  Africa    2002 53.32523    52              833723916\n",
       "2  Africa    2007 54.80604    52              929539692\n",
       "3  Americas  2002 72.42204    25              849772762\n",
       "4  Americas  2007 73.60812    25              898871184\n",
       "5  Asia      2002 69.23388    33             3601802203\n",
       "6  Asia      2007 70.72848    33             3811953827\n",
       "7  Europe    2002 76.70060    30              578223869\n",
       "8  Europe    2007 77.64860    30              586098529\n",
       "9  Oceania   2002 79.74000     2               23454829\n",
       "10 Oceania   2007 80.71950     2               24549947"
      ]
     },
     "metadata": {},
     "output_type": "display_data"
    }
   ],
   "source": [
    "data |> \n",
    "    filter(year > 2000) |>\n",
    "    group_by(continent, year) |>\n",
    "    summarise(\n",
    "        lifeExp2007 = mean(lifeExp),\n",
    "        countriesCount = n(),\n",
    "        population = sum(population)\n",
    "    )"
   ]
  },
  {
   "cell_type": "markdown",
   "id": "58b85f2e-aee1-4ebe-9e2b-58180fd6def7",
   "metadata": {},
   "source": [
    "## `bind_`"
   ]
  },
  {
   "cell_type": "code",
   "execution_count": 117,
   "id": "a025c2f9-f1a8-464d-bc62-3b34a1f17c5a",
   "metadata": {},
   "outputs": [
    {
     "data": {
      "text/html": [
       "<table class=\"dataframe\">\n",
       "<caption>A tibble: 5 x 3</caption>\n",
       "<thead>\n",
       "\t<tr><th scope=col>continent</th><th scope=col>lifeExp</th><th scope=col>countriesCount</th></tr>\n",
       "\t<tr><th scope=col>&lt;fct&gt;</th><th scope=col>&lt;dbl&gt;</th><th scope=col>&lt;int&gt;</th></tr>\n",
       "</thead>\n",
       "<tbody>\n",
       "\t<tr><td>Africa  </td><td>54.80604</td><td>52</td></tr>\n",
       "\t<tr><td>Americas</td><td>73.60812</td><td>25</td></tr>\n",
       "\t<tr><td>Asia    </td><td>70.72848</td><td>33</td></tr>\n",
       "\t<tr><td>Europe  </td><td>77.64860</td><td>30</td></tr>\n",
       "\t<tr><td>Oceania </td><td>80.71950</td><td> 2</td></tr>\n",
       "</tbody>\n",
       "</table>\n"
      ],
      "text/latex": [
       "A tibble: 5 x 3\n",
       "\\begin{tabular}{lll}\n",
       " continent & lifeExp & countriesCount\\\\\n",
       " <fct> & <dbl> & <int>\\\\\n",
       "\\hline\n",
       "\t Africa   & 54.80604 & 52\\\\\n",
       "\t Americas & 73.60812 & 25\\\\\n",
       "\t Asia     & 70.72848 & 33\\\\\n",
       "\t Europe   & 77.64860 & 30\\\\\n",
       "\t Oceania  & 80.71950 &  2\\\\\n",
       "\\end{tabular}\n"
      ],
      "text/markdown": [
       "\n",
       "A tibble: 5 x 3\n",
       "\n",
       "| continent &lt;fct&gt; | lifeExp &lt;dbl&gt; | countriesCount &lt;int&gt; |\n",
       "|---|---|---|\n",
       "| Africa   | 54.80604 | 52 |\n",
       "| Americas | 73.60812 | 25 |\n",
       "| Asia     | 70.72848 | 33 |\n",
       "| Europe   | 77.64860 | 30 |\n",
       "| Oceania  | 80.71950 |  2 |\n",
       "\n"
      ],
      "text/plain": [
       "  continent lifeExp  countriesCount\n",
       "1 Africa    54.80604 52            \n",
       "2 Americas  73.60812 25            \n",
       "3 Asia      70.72848 33            \n",
       "4 Europe    77.64860 30            \n",
       "5 Oceania   80.71950  2            "
      ]
     },
     "metadata": {},
     "output_type": "display_data"
    }
   ],
   "source": [
    "data07 <- data |> \n",
    "    filter(year == 2007) |>\n",
    "    group_by(continent) |>\n",
    "    summarise(\n",
    "        lifeExp = mean(lifeExp),\n",
    "        countriesCount = n()\n",
    "    )\n",
    "data07 |> head()"
   ]
  },
  {
   "cell_type": "code",
   "execution_count": 119,
   "id": "a94e1c24-5e5d-43a6-b8a6-c884e75941f2",
   "metadata": {},
   "outputs": [
    {
     "data": {
      "text/html": [
       "<table class=\"dataframe\">\n",
       "<caption>A tibble: 5 x 3</caption>\n",
       "<thead>\n",
       "\t<tr><th scope=col>continent</th><th scope=col>lifeExp</th><th scope=col>countriesCount</th></tr>\n",
       "\t<tr><th scope=col>&lt;fct&gt;</th><th scope=col>&lt;dbl&gt;</th><th scope=col>&lt;int&gt;</th></tr>\n",
       "</thead>\n",
       "<tbody>\n",
       "\t<tr><td>Africa  </td><td>53.32523</td><td>52</td></tr>\n",
       "\t<tr><td>Americas</td><td>72.42204</td><td>25</td></tr>\n",
       "\t<tr><td>Asia    </td><td>69.23388</td><td>33</td></tr>\n",
       "\t<tr><td>Europe  </td><td>76.70060</td><td>30</td></tr>\n",
       "\t<tr><td>Oceania </td><td>79.74000</td><td> 2</td></tr>\n",
       "</tbody>\n",
       "</table>\n"
      ],
      "text/latex": [
       "A tibble: 5 x 3\n",
       "\\begin{tabular}{lll}\n",
       " continent & lifeExp & countriesCount\\\\\n",
       " <fct> & <dbl> & <int>\\\\\n",
       "\\hline\n",
       "\t Africa   & 53.32523 & 52\\\\\n",
       "\t Americas & 72.42204 & 25\\\\\n",
       "\t Asia     & 69.23388 & 33\\\\\n",
       "\t Europe   & 76.70060 & 30\\\\\n",
       "\t Oceania  & 79.74000 &  2\\\\\n",
       "\\end{tabular}\n"
      ],
      "text/markdown": [
       "\n",
       "A tibble: 5 x 3\n",
       "\n",
       "| continent &lt;fct&gt; | lifeExp &lt;dbl&gt; | countriesCount &lt;int&gt; |\n",
       "|---|---|---|\n",
       "| Africa   | 53.32523 | 52 |\n",
       "| Americas | 72.42204 | 25 |\n",
       "| Asia     | 69.23388 | 33 |\n",
       "| Europe   | 76.70060 | 30 |\n",
       "| Oceania  | 79.74000 |  2 |\n",
       "\n"
      ],
      "text/plain": [
       "  continent lifeExp  countriesCount\n",
       "1 Africa    53.32523 52            \n",
       "2 Americas  72.42204 25            \n",
       "3 Asia      69.23388 33            \n",
       "4 Europe    76.70060 30            \n",
       "5 Oceania   79.74000  2            "
      ]
     },
     "metadata": {},
     "output_type": "display_data"
    }
   ],
   "source": [
    "data02 <- data |> \n",
    "    filter(year == 2002) |>\n",
    "    group_by(continent) |>\n",
    "    summarise(\n",
    "        lifeExp = mean(lifeExp),\n",
    "        countriesCount = n()\n",
    "    )\n",
    "data02 |> head()"
   ]
  },
  {
   "cell_type": "code",
   "execution_count": 124,
   "id": "1f4723ac-ef7e-48ff-a31b-a9af833cdff6",
   "metadata": {},
   "outputs": [
    {
     "data": {
      "text/html": [
       "<table class=\"dataframe\">\n",
       "<caption>A tibble: 10 x 3</caption>\n",
       "<thead>\n",
       "\t<tr><th scope=col>continent</th><th scope=col>lifeExp</th><th scope=col>countriesCount</th></tr>\n",
       "\t<tr><th scope=col>&lt;fct&gt;</th><th scope=col>&lt;dbl&gt;</th><th scope=col>&lt;int&gt;</th></tr>\n",
       "</thead>\n",
       "<tbody>\n",
       "\t<tr><td>Africa  </td><td>53.32523</td><td>52</td></tr>\n",
       "\t<tr><td>Americas</td><td>72.42204</td><td>25</td></tr>\n",
       "\t<tr><td>Asia    </td><td>69.23388</td><td>33</td></tr>\n",
       "\t<tr><td>Europe  </td><td>76.70060</td><td>30</td></tr>\n",
       "\t<tr><td>Oceania </td><td>79.74000</td><td> 2</td></tr>\n",
       "\t<tr><td>Africa  </td><td>54.80604</td><td>52</td></tr>\n",
       "\t<tr><td>Americas</td><td>73.60812</td><td>25</td></tr>\n",
       "\t<tr><td>Asia    </td><td>70.72848</td><td>33</td></tr>\n",
       "\t<tr><td>Europe  </td><td>77.64860</td><td>30</td></tr>\n",
       "\t<tr><td>Oceania </td><td>80.71950</td><td> 2</td></tr>\n",
       "</tbody>\n",
       "</table>\n"
      ],
      "text/latex": [
       "A tibble: 10 x 3\n",
       "\\begin{tabular}{lll}\n",
       " continent & lifeExp & countriesCount\\\\\n",
       " <fct> & <dbl> & <int>\\\\\n",
       "\\hline\n",
       "\t Africa   & 53.32523 & 52\\\\\n",
       "\t Americas & 72.42204 & 25\\\\\n",
       "\t Asia     & 69.23388 & 33\\\\\n",
       "\t Europe   & 76.70060 & 30\\\\\n",
       "\t Oceania  & 79.74000 &  2\\\\\n",
       "\t Africa   & 54.80604 & 52\\\\\n",
       "\t Americas & 73.60812 & 25\\\\\n",
       "\t Asia     & 70.72848 & 33\\\\\n",
       "\t Europe   & 77.64860 & 30\\\\\n",
       "\t Oceania  & 80.71950 &  2\\\\\n",
       "\\end{tabular}\n"
      ],
      "text/markdown": [
       "\n",
       "A tibble: 10 x 3\n",
       "\n",
       "| continent &lt;fct&gt; | lifeExp &lt;dbl&gt; | countriesCount &lt;int&gt; |\n",
       "|---|---|---|\n",
       "| Africa   | 53.32523 | 52 |\n",
       "| Americas | 72.42204 | 25 |\n",
       "| Asia     | 69.23388 | 33 |\n",
       "| Europe   | 76.70060 | 30 |\n",
       "| Oceania  | 79.74000 |  2 |\n",
       "| Africa   | 54.80604 | 52 |\n",
       "| Americas | 73.60812 | 25 |\n",
       "| Asia     | 70.72848 | 33 |\n",
       "| Europe   | 77.64860 | 30 |\n",
       "| Oceania  | 80.71950 |  2 |\n",
       "\n"
      ],
      "text/plain": [
       "   continent lifeExp  countriesCount\n",
       "1  Africa    53.32523 52            \n",
       "2  Americas  72.42204 25            \n",
       "3  Asia      69.23388 33            \n",
       "4  Europe    76.70060 30            \n",
       "5  Oceania   79.74000  2            \n",
       "6  Africa    54.80604 52            \n",
       "7  Americas  73.60812 25            \n",
       "8  Asia      70.72848 33            \n",
       "9  Europe    77.64860 30            \n",
       "10 Oceania   80.71950  2            "
      ]
     },
     "metadata": {},
     "output_type": "display_data"
    }
   ],
   "source": [
    "data_all <- data02 |> bind_rows(data07)\n",
    "data_all |> head(10)"
   ]
  },
  {
   "cell_type": "code",
   "execution_count": 125,
   "id": "087ddf07-5a85-44a4-b725-e95097645f87",
   "metadata": {},
   "outputs": [
    {
     "data": {
      "text/html": [
       "<table class=\"dataframe\">\n",
       "<caption>A tibble: 5 x 3</caption>\n",
       "<thead>\n",
       "\t<tr><th scope=col>continent</th><th scope=col>lifeExp</th><th scope=col>countriesCount</th></tr>\n",
       "\t<tr><th scope=col>&lt;fct&gt;</th><th scope=col>&lt;dbl&gt;</th><th scope=col>&lt;int&gt;</th></tr>\n",
       "</thead>\n",
       "<tbody>\n",
       "\t<tr><td>Africa  </td><td>54.80604</td><td>52</td></tr>\n",
       "\t<tr><td>Americas</td><td>73.60812</td><td>25</td></tr>\n",
       "\t<tr><td>Asia    </td><td>70.72848</td><td>33</td></tr>\n",
       "\t<tr><td>Europe  </td><td>77.64860</td><td>30</td></tr>\n",
       "\t<tr><td>Oceania </td><td>80.71950</td><td> 2</td></tr>\n",
       "</tbody>\n",
       "</table>\n"
      ],
      "text/latex": [
       "A tibble: 5 x 3\n",
       "\\begin{tabular}{lll}\n",
       " continent & lifeExp & countriesCount\\\\\n",
       " <fct> & <dbl> & <int>\\\\\n",
       "\\hline\n",
       "\t Africa   & 54.80604 & 52\\\\\n",
       "\t Americas & 73.60812 & 25\\\\\n",
       "\t Asia     & 70.72848 & 33\\\\\n",
       "\t Europe   & 77.64860 & 30\\\\\n",
       "\t Oceania  & 80.71950 &  2\\\\\n",
       "\\end{tabular}\n"
      ],
      "text/markdown": [
       "\n",
       "A tibble: 5 x 3\n",
       "\n",
       "| continent &lt;fct&gt; | lifeExp &lt;dbl&gt; | countriesCount &lt;int&gt; |\n",
       "|---|---|---|\n",
       "| Africa   | 54.80604 | 52 |\n",
       "| Americas | 73.60812 | 25 |\n",
       "| Asia     | 70.72848 | 33 |\n",
       "| Europe   | 77.64860 | 30 |\n",
       "| Oceania  | 80.71950 |  2 |\n",
       "\n"
      ],
      "text/plain": [
       "  continent lifeExp  countriesCount\n",
       "1 Africa    54.80604 52            \n",
       "2 Americas  73.60812 25            \n",
       "3 Asia      70.72848 33            \n",
       "4 Europe    77.64860 30            \n",
       "5 Oceania   80.71950  2            "
      ]
     },
     "metadata": {},
     "output_type": "display_data"
    }
   ],
   "source": [
    "data07 <- data |> \n",
    "    filter(year == 2007) |>\n",
    "    group_by(continent) |>\n",
    "    summarise(\n",
    "        lifeExp = mean(lifeExp),\n",
    "        countriesCount = n()\n",
    "    )\n",
    "data07 |> head()"
   ]
  },
  {
   "cell_type": "code",
   "execution_count": 127,
   "id": "fc1144e2-80ba-4ee0-816d-b1f493668f78",
   "metadata": {},
   "outputs": [
    {
     "data": {
      "text/html": [
       "<table class=\"dataframe\">\n",
       "<caption>A tibble: 5 x 2</caption>\n",
       "<thead>\n",
       "\t<tr><th scope=col>continent</th><th scope=col>populatiom</th></tr>\n",
       "\t<tr><th scope=col>&lt;fct&gt;</th><th scope=col>&lt;dbl&gt;</th></tr>\n",
       "</thead>\n",
       "<tbody>\n",
       "\t<tr><td>Africa  </td><td> 929539692</td></tr>\n",
       "\t<tr><td>Americas</td><td> 898871184</td></tr>\n",
       "\t<tr><td>Asia    </td><td>3811953827</td></tr>\n",
       "\t<tr><td>Europe  </td><td> 586098529</td></tr>\n",
       "\t<tr><td>Oceania </td><td>  24549947</td></tr>\n",
       "</tbody>\n",
       "</table>\n"
      ],
      "text/latex": [
       "A tibble: 5 x 2\n",
       "\\begin{tabular}{ll}\n",
       " continent & populatiom\\\\\n",
       " <fct> & <dbl>\\\\\n",
       "\\hline\n",
       "\t Africa   &  929539692\\\\\n",
       "\t Americas &  898871184\\\\\n",
       "\t Asia     & 3811953827\\\\\n",
       "\t Europe   &  586098529\\\\\n",
       "\t Oceania  &   24549947\\\\\n",
       "\\end{tabular}\n"
      ],
      "text/markdown": [
       "\n",
       "A tibble: 5 x 2\n",
       "\n",
       "| continent &lt;fct&gt; | populatiom &lt;dbl&gt; |\n",
       "|---|---|\n",
       "| Africa   |  929539692 |\n",
       "| Americas |  898871184 |\n",
       "| Asia     | 3811953827 |\n",
       "| Europe   |  586098529 |\n",
       "| Oceania  |   24549947 |\n",
       "\n"
      ],
      "text/plain": [
       "  continent populatiom\n",
       "1 Africa     929539692\n",
       "2 Americas   898871184\n",
       "3 Asia      3811953827\n",
       "4 Europe     586098529\n",
       "5 Oceania     24549947"
      ]
     },
     "metadata": {},
     "output_type": "display_data"
    }
   ],
   "source": [
    "data07_pop <- data |> \n",
    "    filter(year == 2007) |>\n",
    "    group_by(continent) |>\n",
    "    summarise(\n",
    "        populatiom = sum(population)\n",
    "    )\n",
    "data07_pop |> head()"
   ]
  },
  {
   "cell_type": "code",
   "execution_count": 130,
   "id": "5ed549ea-6b92-45c2-99a2-ad1613ebd9b5",
   "metadata": {},
   "outputs": [
    {
     "name": "stderr",
     "output_type": "stream",
     "text": [
      "\u001b[1m\u001b[22mNew names:\n",
      "\u001b[36m*\u001b[39m `continent` -> `continent...1`\n",
      "\u001b[36m*\u001b[39m `continent` -> `continent...4`\n"
     ]
    },
    {
     "data": {
      "text/html": [
       "<table class=\"dataframe\">\n",
       "<caption>A tibble: 5 x 4</caption>\n",
       "<thead>\n",
       "\t<tr><th scope=col>continent</th><th scope=col>lifeExp</th><th scope=col>countriesCount</th><th scope=col>populatiom</th></tr>\n",
       "\t<tr><th scope=col>&lt;fct&gt;</th><th scope=col>&lt;dbl&gt;</th><th scope=col>&lt;int&gt;</th><th scope=col>&lt;dbl&gt;</th></tr>\n",
       "</thead>\n",
       "<tbody>\n",
       "\t<tr><td>Africa  </td><td>54.80604</td><td>52</td><td> 929539692</td></tr>\n",
       "\t<tr><td>Americas</td><td>73.60812</td><td>25</td><td> 898871184</td></tr>\n",
       "\t<tr><td>Asia    </td><td>70.72848</td><td>33</td><td>3811953827</td></tr>\n",
       "\t<tr><td>Europe  </td><td>77.64860</td><td>30</td><td> 586098529</td></tr>\n",
       "\t<tr><td>Oceania </td><td>80.71950</td><td> 2</td><td>  24549947</td></tr>\n",
       "</tbody>\n",
       "</table>\n"
      ],
      "text/latex": [
       "A tibble: 5 x 4\n",
       "\\begin{tabular}{llll}\n",
       " continent & lifeExp & countriesCount & populatiom\\\\\n",
       " <fct> & <dbl> & <int> & <dbl>\\\\\n",
       "\\hline\n",
       "\t Africa   & 54.80604 & 52 &  929539692\\\\\n",
       "\t Americas & 73.60812 & 25 &  898871184\\\\\n",
       "\t Asia     & 70.72848 & 33 & 3811953827\\\\\n",
       "\t Europe   & 77.64860 & 30 &  586098529\\\\\n",
       "\t Oceania  & 80.71950 &  2 &   24549947\\\\\n",
       "\\end{tabular}\n"
      ],
      "text/markdown": [
       "\n",
       "A tibble: 5 x 4\n",
       "\n",
       "| continent &lt;fct&gt; | lifeExp &lt;dbl&gt; | countriesCount &lt;int&gt; | populatiom &lt;dbl&gt; |\n",
       "|---|---|---|---|\n",
       "| Africa   | 54.80604 | 52 |  929539692 |\n",
       "| Americas | 73.60812 | 25 |  898871184 |\n",
       "| Asia     | 70.72848 | 33 | 3811953827 |\n",
       "| Europe   | 77.64860 | 30 |  586098529 |\n",
       "| Oceania  | 80.71950 |  2 |   24549947 |\n",
       "\n"
      ],
      "text/plain": [
       "  continent lifeExp  countriesCount populatiom\n",
       "1 Africa    54.80604 52              929539692\n",
       "2 Americas  73.60812 25              898871184\n",
       "3 Asia      70.72848 33             3811953827\n",
       "4 Europe    77.64860 30              586098529\n",
       "5 Oceania   80.71950  2               24549947"
      ]
     },
     "metadata": {},
     "output_type": "display_data"
    }
   ],
   "source": [
    "data_all <- data07 |> \n",
    "    bind_cols(data07_pop) |>\n",
    "    select(-4) |>\n",
    "    rename(continent = `continent...1`)\n",
    "data_all |> head()"
   ]
  },
  {
   "cell_type": "code",
   "execution_count": 134,
   "id": "2620e978-e8bb-4340-b9c9-637be40c1131",
   "metadata": {},
   "outputs": [
    {
     "data": {
      "text/html": [
       "<table class=\"dataframe\">\n",
       "<caption>A tibble: 5 x 2</caption>\n",
       "<thead>\n",
       "\t<tr><th scope=col>continent</th><th scope=col>populatiom</th></tr>\n",
       "\t<tr><th scope=col>&lt;fct&gt;</th><th scope=col>&lt;dbl&gt;</th></tr>\n",
       "</thead>\n",
       "<tbody>\n",
       "\t<tr><td>Oceania </td><td>  24549947</td></tr>\n",
       "\t<tr><td>Europe  </td><td> 586098529</td></tr>\n",
       "\t<tr><td>Americas</td><td> 898871184</td></tr>\n",
       "\t<tr><td>Africa  </td><td> 929539692</td></tr>\n",
       "\t<tr><td>Asia    </td><td>3811953827</td></tr>\n",
       "</tbody>\n",
       "</table>\n"
      ],
      "text/latex": [
       "A tibble: 5 x 2\n",
       "\\begin{tabular}{ll}\n",
       " continent & populatiom\\\\\n",
       " <fct> & <dbl>\\\\\n",
       "\\hline\n",
       "\t Oceania  &   24549947\\\\\n",
       "\t Europe   &  586098529\\\\\n",
       "\t Americas &  898871184\\\\\n",
       "\t Africa   &  929539692\\\\\n",
       "\t Asia     & 3811953827\\\\\n",
       "\\end{tabular}\n"
      ],
      "text/markdown": [
       "\n",
       "A tibble: 5 x 2\n",
       "\n",
       "| continent &lt;fct&gt; | populatiom &lt;dbl&gt; |\n",
       "|---|---|\n",
       "| Oceania  |   24549947 |\n",
       "| Europe   |  586098529 |\n",
       "| Americas |  898871184 |\n",
       "| Africa   |  929539692 |\n",
       "| Asia     | 3811953827 |\n",
       "\n"
      ],
      "text/plain": [
       "  continent populatiom\n",
       "1 Oceania     24549947\n",
       "2 Europe     586098529\n",
       "3 Americas   898871184\n",
       "4 Africa     929539692\n",
       "5 Asia      3811953827"
      ]
     },
     "metadata": {},
     "output_type": "display_data"
    }
   ],
   "source": [
    "data07_pop <- data07_pop |> arrange(populatiom)\n",
    "data07_pop |> head()"
   ]
  },
  {
   "cell_type": "code",
   "execution_count": null,
   "id": "0082188f-c44d-4951-a8a7-81aa33ce9630",
   "metadata": {},
   "outputs": [],
   "source": []
  },
  {
   "cell_type": "code",
   "execution_count": 136,
   "id": "f9e24819-9280-4da7-b086-9c41676c2f8f",
   "metadata": {},
   "outputs": [
    {
     "name": "stderr",
     "output_type": "stream",
     "text": [
      "\u001b[1m\u001b[22mNew names:\n",
      "\u001b[36m*\u001b[39m `continent` -> `continent...1`\n",
      "\u001b[36m*\u001b[39m `continent` -> `continent...4`\n"
     ]
    },
    {
     "data": {
      "text/html": [
       "<table class=\"dataframe\">\n",
       "<caption>A tibble: 5 x 5</caption>\n",
       "<thead>\n",
       "\t<tr><th scope=col>continent...1</th><th scope=col>lifeExp</th><th scope=col>countriesCount</th><th scope=col>continent...4</th><th scope=col>populatiom</th></tr>\n",
       "\t<tr><th scope=col>&lt;fct&gt;</th><th scope=col>&lt;dbl&gt;</th><th scope=col>&lt;int&gt;</th><th scope=col>&lt;fct&gt;</th><th scope=col>&lt;dbl&gt;</th></tr>\n",
       "</thead>\n",
       "<tbody>\n",
       "\t<tr><td>Africa  </td><td>54.80604</td><td>52</td><td>Oceania </td><td>  24549947</td></tr>\n",
       "\t<tr><td>Americas</td><td>73.60812</td><td>25</td><td>Europe  </td><td> 586098529</td></tr>\n",
       "\t<tr><td>Asia    </td><td>70.72848</td><td>33</td><td>Americas</td><td> 898871184</td></tr>\n",
       "\t<tr><td>Europe  </td><td>77.64860</td><td>30</td><td>Africa  </td><td> 929539692</td></tr>\n",
       "\t<tr><td>Oceania </td><td>80.71950</td><td> 2</td><td>Asia    </td><td>3811953827</td></tr>\n",
       "</tbody>\n",
       "</table>\n"
      ],
      "text/latex": [
       "A tibble: 5 x 5\n",
       "\\begin{tabular}{lllll}\n",
       " continent...1 & lifeExp & countriesCount & continent...4 & populatiom\\\\\n",
       " <fct> & <dbl> & <int> & <fct> & <dbl>\\\\\n",
       "\\hline\n",
       "\t Africa   & 54.80604 & 52 & Oceania  &   24549947\\\\\n",
       "\t Americas & 73.60812 & 25 & Europe   &  586098529\\\\\n",
       "\t Asia     & 70.72848 & 33 & Americas &  898871184\\\\\n",
       "\t Europe   & 77.64860 & 30 & Africa   &  929539692\\\\\n",
       "\t Oceania  & 80.71950 &  2 & Asia     & 3811953827\\\\\n",
       "\\end{tabular}\n"
      ],
      "text/markdown": [
       "\n",
       "A tibble: 5 x 5\n",
       "\n",
       "| continent...1 &lt;fct&gt; | lifeExp &lt;dbl&gt; | countriesCount &lt;int&gt; | continent...4 &lt;fct&gt; | populatiom &lt;dbl&gt; |\n",
       "|---|---|---|---|---|\n",
       "| Africa   | 54.80604 | 52 | Oceania  |   24549947 |\n",
       "| Americas | 73.60812 | 25 | Europe   |  586098529 |\n",
       "| Asia     | 70.72848 | 33 | Americas |  898871184 |\n",
       "| Europe   | 77.64860 | 30 | Africa   |  929539692 |\n",
       "| Oceania  | 80.71950 |  2 | Asia     | 3811953827 |\n",
       "\n"
      ],
      "text/plain": [
       "  continent...1 lifeExp  countriesCount continent...4 populatiom\n",
       "1 Africa        54.80604 52             Oceania         24549947\n",
       "2 Americas      73.60812 25             Europe         586098529\n",
       "3 Asia          70.72848 33             Americas       898871184\n",
       "4 Europe        77.64860 30             Africa         929539692\n",
       "5 Oceania       80.71950  2             Asia          3811953827"
      ]
     },
     "metadata": {},
     "output_type": "display_data"
    }
   ],
   "source": [
    "data_all <- data07 |> \n",
    "    bind_cols(data07_pop) \n",
    "data_all |> head()"
   ]
  },
  {
   "cell_type": "markdown",
   "id": "773695a6-d5a8-47f4-8b47-c0609c997de0",
   "metadata": {},
   "source": [
    "## `join`"
   ]
  },
  {
   "cell_type": "code",
   "execution_count": 137,
   "id": "94bdef41-53da-4c6d-9ab3-0cba60dc5464",
   "metadata": {},
   "outputs": [
    {
     "data": {
      "text/html": [
       "<table class=\"dataframe\">\n",
       "<caption>A tibble: 5 x 3</caption>\n",
       "<thead>\n",
       "\t<tr><th scope=col>continent</th><th scope=col>lifeExp</th><th scope=col>countriesCount</th></tr>\n",
       "\t<tr><th scope=col>&lt;fct&gt;</th><th scope=col>&lt;dbl&gt;</th><th scope=col>&lt;int&gt;</th></tr>\n",
       "</thead>\n",
       "<tbody>\n",
       "\t<tr><td>Africa  </td><td>54.80604</td><td>52</td></tr>\n",
       "\t<tr><td>Americas</td><td>73.60812</td><td>25</td></tr>\n",
       "\t<tr><td>Asia    </td><td>70.72848</td><td>33</td></tr>\n",
       "\t<tr><td>Europe  </td><td>77.64860</td><td>30</td></tr>\n",
       "\t<tr><td>Oceania </td><td>80.71950</td><td> 2</td></tr>\n",
       "</tbody>\n",
       "</table>\n"
      ],
      "text/latex": [
       "A tibble: 5 x 3\n",
       "\\begin{tabular}{lll}\n",
       " continent & lifeExp & countriesCount\\\\\n",
       " <fct> & <dbl> & <int>\\\\\n",
       "\\hline\n",
       "\t Africa   & 54.80604 & 52\\\\\n",
       "\t Americas & 73.60812 & 25\\\\\n",
       "\t Asia     & 70.72848 & 33\\\\\n",
       "\t Europe   & 77.64860 & 30\\\\\n",
       "\t Oceania  & 80.71950 &  2\\\\\n",
       "\\end{tabular}\n"
      ],
      "text/markdown": [
       "\n",
       "A tibble: 5 x 3\n",
       "\n",
       "| continent &lt;fct&gt; | lifeExp &lt;dbl&gt; | countriesCount &lt;int&gt; |\n",
       "|---|---|---|\n",
       "| Africa   | 54.80604 | 52 |\n",
       "| Americas | 73.60812 | 25 |\n",
       "| Asia     | 70.72848 | 33 |\n",
       "| Europe   | 77.64860 | 30 |\n",
       "| Oceania  | 80.71950 |  2 |\n",
       "\n"
      ],
      "text/plain": [
       "  continent lifeExp  countriesCount\n",
       "1 Africa    54.80604 52            \n",
       "2 Americas  73.60812 25            \n",
       "3 Asia      70.72848 33            \n",
       "4 Europe    77.64860 30            \n",
       "5 Oceania   80.71950  2            "
      ]
     },
     "metadata": {},
     "output_type": "display_data"
    }
   ],
   "source": [
    "data07 <- data |> \n",
    "    filter(year == 2007) |>\n",
    "    group_by(continent) |>\n",
    "    summarise(\n",
    "        lifeExp = mean(lifeExp),\n",
    "        countriesCount = n()\n",
    "    )\n",
    "data07 |> head()"
   ]
  },
  {
   "cell_type": "code",
   "execution_count": 139,
   "id": "b299cbbc-b51b-4c0b-9eaf-8ae1018654c5",
   "metadata": {},
   "outputs": [
    {
     "data": {
      "text/html": [
       "<table class=\"dataframe\">\n",
       "<caption>A tibble: 5 x 2</caption>\n",
       "<thead>\n",
       "\t<tr><th scope=col>continent</th><th scope=col>populatiom</th></tr>\n",
       "\t<tr><th scope=col>&lt;fct&gt;</th><th scope=col>&lt;dbl&gt;</th></tr>\n",
       "</thead>\n",
       "<tbody>\n",
       "\t<tr><td>Oceania </td><td>  24549947</td></tr>\n",
       "\t<tr><td>Europe  </td><td> 586098529</td></tr>\n",
       "\t<tr><td>Americas</td><td> 898871184</td></tr>\n",
       "\t<tr><td>Africa  </td><td> 929539692</td></tr>\n",
       "\t<tr><td>Asia    </td><td>3811953827</td></tr>\n",
       "</tbody>\n",
       "</table>\n"
      ],
      "text/latex": [
       "A tibble: 5 x 2\n",
       "\\begin{tabular}{ll}\n",
       " continent & populatiom\\\\\n",
       " <fct> & <dbl>\\\\\n",
       "\\hline\n",
       "\t Oceania  &   24549947\\\\\n",
       "\t Europe   &  586098529\\\\\n",
       "\t Americas &  898871184\\\\\n",
       "\t Africa   &  929539692\\\\\n",
       "\t Asia     & 3811953827\\\\\n",
       "\\end{tabular}\n"
      ],
      "text/markdown": [
       "\n",
       "A tibble: 5 x 2\n",
       "\n",
       "| continent &lt;fct&gt; | populatiom &lt;dbl&gt; |\n",
       "|---|---|\n",
       "| Oceania  |   24549947 |\n",
       "| Europe   |  586098529 |\n",
       "| Americas |  898871184 |\n",
       "| Africa   |  929539692 |\n",
       "| Asia     | 3811953827 |\n",
       "\n"
      ],
      "text/plain": [
       "  continent populatiom\n",
       "1 Oceania     24549947\n",
       "2 Europe     586098529\n",
       "3 Americas   898871184\n",
       "4 Africa     929539692\n",
       "5 Asia      3811953827"
      ]
     },
     "metadata": {},
     "output_type": "display_data"
    }
   ],
   "source": [
    "data07_pop <- data07_pop |> arrange(populatiom)\n",
    "data07_pop |> head()"
   ]
  },
  {
   "cell_type": "code",
   "execution_count": 141,
   "id": "921ed32d-fec4-436b-afb9-1772b54b940a",
   "metadata": {},
   "outputs": [
    {
     "data": {
      "text/html": [
       "<table class=\"dataframe\">\n",
       "<caption>A tibble: 5 x 4</caption>\n",
       "<thead>\n",
       "\t<tr><th scope=col>continent</th><th scope=col>lifeExp</th><th scope=col>countriesCount</th><th scope=col>populatiom</th></tr>\n",
       "\t<tr><th scope=col>&lt;fct&gt;</th><th scope=col>&lt;dbl&gt;</th><th scope=col>&lt;int&gt;</th><th scope=col>&lt;dbl&gt;</th></tr>\n",
       "</thead>\n",
       "<tbody>\n",
       "\t<tr><td>Africa  </td><td>54.80604</td><td>52</td><td> 929539692</td></tr>\n",
       "\t<tr><td>Americas</td><td>73.60812</td><td>25</td><td> 898871184</td></tr>\n",
       "\t<tr><td>Asia    </td><td>70.72848</td><td>33</td><td>3811953827</td></tr>\n",
       "\t<tr><td>Europe  </td><td>77.64860</td><td>30</td><td> 586098529</td></tr>\n",
       "\t<tr><td>Oceania </td><td>80.71950</td><td> 2</td><td>  24549947</td></tr>\n",
       "</tbody>\n",
       "</table>\n"
      ],
      "text/latex": [
       "A tibble: 5 x 4\n",
       "\\begin{tabular}{llll}\n",
       " continent & lifeExp & countriesCount & populatiom\\\\\n",
       " <fct> & <dbl> & <int> & <dbl>\\\\\n",
       "\\hline\n",
       "\t Africa   & 54.80604 & 52 &  929539692\\\\\n",
       "\t Americas & 73.60812 & 25 &  898871184\\\\\n",
       "\t Asia     & 70.72848 & 33 & 3811953827\\\\\n",
       "\t Europe   & 77.64860 & 30 &  586098529\\\\\n",
       "\t Oceania  & 80.71950 &  2 &   24549947\\\\\n",
       "\\end{tabular}\n"
      ],
      "text/markdown": [
       "\n",
       "A tibble: 5 x 4\n",
       "\n",
       "| continent &lt;fct&gt; | lifeExp &lt;dbl&gt; | countriesCount &lt;int&gt; | populatiom &lt;dbl&gt; |\n",
       "|---|---|---|---|\n",
       "| Africa   | 54.80604 | 52 |  929539692 |\n",
       "| Americas | 73.60812 | 25 |  898871184 |\n",
       "| Asia     | 70.72848 | 33 | 3811953827 |\n",
       "| Europe   | 77.64860 | 30 |  586098529 |\n",
       "| Oceania  | 80.71950 |  2 |   24549947 |\n",
       "\n"
      ],
      "text/plain": [
       "  continent lifeExp  countriesCount populatiom\n",
       "1 Africa    54.80604 52              929539692\n",
       "2 Americas  73.60812 25              898871184\n",
       "3 Asia      70.72848 33             3811953827\n",
       "4 Europe    77.64860 30              586098529\n",
       "5 Oceania   80.71950  2               24549947"
      ]
     },
     "metadata": {},
     "output_type": "display_data"
    }
   ],
   "source": [
    "data_all <- data07 |>\n",
    "    left_join(data07_pop, by = \"continent\")\n",
    "data_all"
   ]
  },
  {
   "cell_type": "code",
   "execution_count": 143,
   "id": "54a7c92e-7675-43e0-b62a-7a75648e6aae",
   "metadata": {},
   "outputs": [
    {
     "data": {
      "text/html": [
       "<table class=\"dataframe\">\n",
       "<caption>A data.frame: 5 x 2</caption>\n",
       "<thead>\n",
       "\t<tr><th scope=col>Letter</th><th scope=col>Value</th></tr>\n",
       "\t<tr><th scope=col>&lt;chr&gt;</th><th scope=col>&lt;int&gt;</th></tr>\n",
       "</thead>\n",
       "<tbody>\n",
       "\t<tr><td>A</td><td>1</td></tr>\n",
       "\t<tr><td>B</td><td>2</td></tr>\n",
       "\t<tr><td>C</td><td>3</td></tr>\n",
       "\t<tr><td>D</td><td>4</td></tr>\n",
       "\t<tr><td>E</td><td>5</td></tr>\n",
       "</tbody>\n",
       "</table>\n"
      ],
      "text/latex": [
       "A data.frame: 5 x 2\n",
       "\\begin{tabular}{ll}\n",
       " Letter & Value\\\\\n",
       " <chr> & <int>\\\\\n",
       "\\hline\n",
       "\t A & 1\\\\\n",
       "\t B & 2\\\\\n",
       "\t C & 3\\\\\n",
       "\t D & 4\\\\\n",
       "\t E & 5\\\\\n",
       "\\end{tabular}\n"
      ],
      "text/markdown": [
       "\n",
       "A data.frame: 5 x 2\n",
       "\n",
       "| Letter &lt;chr&gt; | Value &lt;int&gt; |\n",
       "|---|---|\n",
       "| A | 1 |\n",
       "| B | 2 |\n",
       "| C | 3 |\n",
       "| D | 4 |\n",
       "| E | 5 |\n",
       "\n"
      ],
      "text/plain": [
       "  Letter Value\n",
       "1 A      1    \n",
       "2 B      2    \n",
       "3 C      3    \n",
       "4 D      4    \n",
       "5 E      5    "
      ]
     },
     "metadata": {},
     "output_type": "display_data"
    },
    {
     "data": {
      "text/html": [
       "<table class=\"dataframe\">\n",
       "<caption>A data.frame: 5 x 2</caption>\n",
       "<thead>\n",
       "\t<tr><th scope=col>Letter</th><th scope=col>Value</th></tr>\n",
       "\t<tr><th scope=col>&lt;chr&gt;</th><th scope=col>&lt;dbl&gt;</th></tr>\n",
       "</thead>\n",
       "<tbody>\n",
       "\t<tr><td>A</td><td>12</td></tr>\n",
       "\t<tr><td>B</td><td> 7</td></tr>\n",
       "\t<tr><td>C</td><td> 4</td></tr>\n",
       "\t<tr><td>D</td><td> 1</td></tr>\n",
       "\t<tr><td>F</td><td> 5</td></tr>\n",
       "</tbody>\n",
       "</table>\n"
      ],
      "text/latex": [
       "A data.frame: 5 x 2\n",
       "\\begin{tabular}{ll}\n",
       " Letter & Value\\\\\n",
       " <chr> & <dbl>\\\\\n",
       "\\hline\n",
       "\t A & 12\\\\\n",
       "\t B &  7\\\\\n",
       "\t C &  4\\\\\n",
       "\t D &  1\\\\\n",
       "\t F &  5\\\\\n",
       "\\end{tabular}\n"
      ],
      "text/markdown": [
       "\n",
       "A data.frame: 5 x 2\n",
       "\n",
       "| Letter &lt;chr&gt; | Value &lt;dbl&gt; |\n",
       "|---|---|\n",
       "| A | 12 |\n",
       "| B |  7 |\n",
       "| C |  4 |\n",
       "| D |  1 |\n",
       "| F |  5 |\n",
       "\n"
      ],
      "text/plain": [
       "  Letter Value\n",
       "1 A      12   \n",
       "2 B       7   \n",
       "3 C       4   \n",
       "4 D       1   \n",
       "5 F       5   "
      ]
     },
     "metadata": {},
     "output_type": "display_data"
    }
   ],
   "source": [
    "first_df <- data.frame(Letter = c(\"A\", \"B\", \"C\", \"D\", \"E\"),\n",
    "                      Value = c(1:5))\n",
    "\n",
    "second_df <- data.frame(Letter = c(\"A\", \"B\", \"C\", \"D\", \"F\"),\n",
    "                      Value = c(12, 7, 4, 1, 5))\n",
    "first_df\n",
    "second_df "
   ]
  },
  {
   "cell_type": "code",
   "execution_count": 145,
   "id": "9ae6c374-b634-45b2-b9f7-5d649e10ae16",
   "metadata": {},
   "outputs": [
    {
     "data": {
      "text/html": [
       "<table class=\"dataframe\">\n",
       "<caption>A data.frame: 5 x 3</caption>\n",
       "<thead>\n",
       "\t<tr><th scope=col>Letter</th><th scope=col>Value.x</th><th scope=col>Value.y</th></tr>\n",
       "\t<tr><th scope=col>&lt;chr&gt;</th><th scope=col>&lt;int&gt;</th><th scope=col>&lt;dbl&gt;</th></tr>\n",
       "</thead>\n",
       "<tbody>\n",
       "\t<tr><td>A</td><td>1</td><td>12</td></tr>\n",
       "\t<tr><td>B</td><td>2</td><td> 7</td></tr>\n",
       "\t<tr><td>C</td><td>3</td><td> 4</td></tr>\n",
       "\t<tr><td>D</td><td>4</td><td> 1</td></tr>\n",
       "\t<tr><td>E</td><td>5</td><td>NA</td></tr>\n",
       "</tbody>\n",
       "</table>\n"
      ],
      "text/latex": [
       "A data.frame: 5 x 3\n",
       "\\begin{tabular}{lll}\n",
       " Letter & Value.x & Value.y\\\\\n",
       " <chr> & <int> & <dbl>\\\\\n",
       "\\hline\n",
       "\t A & 1 & 12\\\\\n",
       "\t B & 2 &  7\\\\\n",
       "\t C & 3 &  4\\\\\n",
       "\t D & 4 &  1\\\\\n",
       "\t E & 5 & NA\\\\\n",
       "\\end{tabular}\n"
      ],
      "text/markdown": [
       "\n",
       "A data.frame: 5 x 3\n",
       "\n",
       "| Letter &lt;chr&gt; | Value.x &lt;int&gt; | Value.y &lt;dbl&gt; |\n",
       "|---|---|---|\n",
       "| A | 1 | 12 |\n",
       "| B | 2 |  7 |\n",
       "| C | 3 |  4 |\n",
       "| D | 4 |  1 |\n",
       "| E | 5 | NA |\n",
       "\n"
      ],
      "text/plain": [
       "  Letter Value.x Value.y\n",
       "1 A      1       12     \n",
       "2 B      2        7     \n",
       "3 C      3        4     \n",
       "4 D      4        1     \n",
       "5 E      5       NA     "
      ]
     },
     "metadata": {},
     "output_type": "display_data"
    }
   ],
   "source": [
    "first_df |> left_join(second_df, by = \"Letter\")"
   ]
  },
  {
   "cell_type": "code",
   "execution_count": 147,
   "id": "0ba6fad7-e8c3-424a-9780-d6d0480c9de5",
   "metadata": {},
   "outputs": [
    {
     "data": {
      "text/html": [
       "<table class=\"dataframe\">\n",
       "<caption>A data.frame: 5 x 3</caption>\n",
       "<thead>\n",
       "\t<tr><th scope=col>Letter</th><th scope=col>Value.x</th><th scope=col>Value.y</th></tr>\n",
       "\t<tr><th scope=col>&lt;chr&gt;</th><th scope=col>&lt;int&gt;</th><th scope=col>&lt;dbl&gt;</th></tr>\n",
       "</thead>\n",
       "<tbody>\n",
       "\t<tr><td>A</td><td> 1</td><td>12</td></tr>\n",
       "\t<tr><td>B</td><td> 2</td><td> 7</td></tr>\n",
       "\t<tr><td>C</td><td> 3</td><td> 4</td></tr>\n",
       "\t<tr><td>D</td><td> 4</td><td> 1</td></tr>\n",
       "\t<tr><td>F</td><td>NA</td><td> 5</td></tr>\n",
       "</tbody>\n",
       "</table>\n"
      ],
      "text/latex": [
       "A data.frame: 5 x 3\n",
       "\\begin{tabular}{lll}\n",
       " Letter & Value.x & Value.y\\\\\n",
       " <chr> & <int> & <dbl>\\\\\n",
       "\\hline\n",
       "\t A &  1 & 12\\\\\n",
       "\t B &  2 &  7\\\\\n",
       "\t C &  3 &  4\\\\\n",
       "\t D &  4 &  1\\\\\n",
       "\t F & NA &  5\\\\\n",
       "\\end{tabular}\n"
      ],
      "text/markdown": [
       "\n",
       "A data.frame: 5 x 3\n",
       "\n",
       "| Letter &lt;chr&gt; | Value.x &lt;int&gt; | Value.y &lt;dbl&gt; |\n",
       "|---|---|---|\n",
       "| A |  1 | 12 |\n",
       "| B |  2 |  7 |\n",
       "| C |  3 |  4 |\n",
       "| D |  4 |  1 |\n",
       "| F | NA |  5 |\n",
       "\n"
      ],
      "text/plain": [
       "  Letter Value.x Value.y\n",
       "1 A       1      12     \n",
       "2 B       2       7     \n",
       "3 C       3       4     \n",
       "4 D       4       1     \n",
       "5 F      NA       5     "
      ]
     },
     "metadata": {},
     "output_type": "display_data"
    }
   ],
   "source": [
    "first_df |> right_join(second_df, by = \"Letter\")"
   ]
  },
  {
   "cell_type": "code",
   "execution_count": 149,
   "id": "0ef884ec-eedc-4136-82da-f7dff7be17f4",
   "metadata": {},
   "outputs": [
    {
     "data": {
      "text/html": [
       "<table class=\"dataframe\">\n",
       "<caption>A data.frame: 4 x 3</caption>\n",
       "<thead>\n",
       "\t<tr><th scope=col>Letter</th><th scope=col>Value.x</th><th scope=col>Value.y</th></tr>\n",
       "\t<tr><th scope=col>&lt;chr&gt;</th><th scope=col>&lt;int&gt;</th><th scope=col>&lt;dbl&gt;</th></tr>\n",
       "</thead>\n",
       "<tbody>\n",
       "\t<tr><td>A</td><td>1</td><td>12</td></tr>\n",
       "\t<tr><td>B</td><td>2</td><td> 7</td></tr>\n",
       "\t<tr><td>C</td><td>3</td><td> 4</td></tr>\n",
       "\t<tr><td>D</td><td>4</td><td> 1</td></tr>\n",
       "</tbody>\n",
       "</table>\n"
      ],
      "text/latex": [
       "A data.frame: 4 x 3\n",
       "\\begin{tabular}{lll}\n",
       " Letter & Value.x & Value.y\\\\\n",
       " <chr> & <int> & <dbl>\\\\\n",
       "\\hline\n",
       "\t A & 1 & 12\\\\\n",
       "\t B & 2 &  7\\\\\n",
       "\t C & 3 &  4\\\\\n",
       "\t D & 4 &  1\\\\\n",
       "\\end{tabular}\n"
      ],
      "text/markdown": [
       "\n",
       "A data.frame: 4 x 3\n",
       "\n",
       "| Letter &lt;chr&gt; | Value.x &lt;int&gt; | Value.y &lt;dbl&gt; |\n",
       "|---|---|---|\n",
       "| A | 1 | 12 |\n",
       "| B | 2 |  7 |\n",
       "| C | 3 |  4 |\n",
       "| D | 4 |  1 |\n",
       "\n"
      ],
      "text/plain": [
       "  Letter Value.x Value.y\n",
       "1 A      1       12     \n",
       "2 B      2        7     \n",
       "3 C      3        4     \n",
       "4 D      4        1     "
      ]
     },
     "metadata": {},
     "output_type": "display_data"
    }
   ],
   "source": [
    "first_df |> inner_join(second_df, by = \"Letter\")"
   ]
  },
  {
   "cell_type": "code",
   "execution_count": 151,
   "id": "34074aed-e4e3-484e-9214-235d92229aa7",
   "metadata": {},
   "outputs": [
    {
     "data": {
      "text/html": [
       "<table class=\"dataframe\">\n",
       "<caption>A data.frame: 6 x 3</caption>\n",
       "<thead>\n",
       "\t<tr><th scope=col>Letter</th><th scope=col>Value.x</th><th scope=col>Value.y</th></tr>\n",
       "\t<tr><th scope=col>&lt;chr&gt;</th><th scope=col>&lt;int&gt;</th><th scope=col>&lt;dbl&gt;</th></tr>\n",
       "</thead>\n",
       "<tbody>\n",
       "\t<tr><td>A</td><td> 1</td><td>12</td></tr>\n",
       "\t<tr><td>B</td><td> 2</td><td> 7</td></tr>\n",
       "\t<tr><td>C</td><td> 3</td><td> 4</td></tr>\n",
       "\t<tr><td>D</td><td> 4</td><td> 1</td></tr>\n",
       "\t<tr><td>E</td><td> 5</td><td>NA</td></tr>\n",
       "\t<tr><td>F</td><td>NA</td><td> 5</td></tr>\n",
       "</tbody>\n",
       "</table>\n"
      ],
      "text/latex": [
       "A data.frame: 6 x 3\n",
       "\\begin{tabular}{lll}\n",
       " Letter & Value.x & Value.y\\\\\n",
       " <chr> & <int> & <dbl>\\\\\n",
       "\\hline\n",
       "\t A &  1 & 12\\\\\n",
       "\t B &  2 &  7\\\\\n",
       "\t C &  3 &  4\\\\\n",
       "\t D &  4 &  1\\\\\n",
       "\t E &  5 & NA\\\\\n",
       "\t F & NA &  5\\\\\n",
       "\\end{tabular}\n"
      ],
      "text/markdown": [
       "\n",
       "A data.frame: 6 x 3\n",
       "\n",
       "| Letter &lt;chr&gt; | Value.x &lt;int&gt; | Value.y &lt;dbl&gt; |\n",
       "|---|---|---|\n",
       "| A |  1 | 12 |\n",
       "| B |  2 |  7 |\n",
       "| C |  3 |  4 |\n",
       "| D |  4 |  1 |\n",
       "| E |  5 | NA |\n",
       "| F | NA |  5 |\n",
       "\n"
      ],
      "text/plain": [
       "  Letter Value.x Value.y\n",
       "1 A       1      12     \n",
       "2 B       2       7     \n",
       "3 C       3       4     \n",
       "4 D       4       1     \n",
       "5 E       5      NA     \n",
       "6 F      NA       5     "
      ]
     },
     "metadata": {},
     "output_type": "display_data"
    }
   ],
   "source": [
    "first_df |> full_join(second_df, by = \"Letter\")"
   ]
  },
  {
   "cell_type": "code",
   "execution_count": 155,
   "id": "0d0b7d37-50b9-4df7-a3d5-3c7d05a40d19",
   "metadata": {},
   "outputs": [
    {
     "data": {
      "text/html": [
       "<table class=\"dataframe\">\n",
       "<caption>A data.frame: 5 x 5</caption>\n",
       "<thead>\n",
       "\t<tr><th scope=col>Name</th><th scope=col>q1_2021</th><th scope=col>q2_2021</th><th scope=col>q3_2021</th><th scope=col>q4_2021</th></tr>\n",
       "\t<tr><th scope=col>&lt;chr&gt;</th><th scope=col>&lt;dbl&gt;</th><th scope=col>&lt;dbl&gt;</th><th scope=col>&lt;dbl&gt;</th><th scope=col>&lt;dbl&gt;</th></tr>\n",
       "</thead>\n",
       "<tbody>\n",
       "\t<tr><td>Nick</td><td>12442</td><td>13442</td><td>15482</td><td>14511</td></tr>\n",
       "\t<tr><td>Jake</td><td>22131</td><td>22871</td><td>22031</td><td>20031</td></tr>\n",
       "\t<tr><td>Anna</td><td>21343</td><td>20343</td><td>22456</td><td>21741</td></tr>\n",
       "\t<tr><td>Jane</td><td>22111</td><td>22222</td><td>22444</td><td>22333</td></tr>\n",
       "\t<tr><td>Dina</td><td>14123</td><td>14456</td><td>14533</td><td>14511</td></tr>\n",
       "</tbody>\n",
       "</table>\n"
      ],
      "text/latex": [
       "A data.frame: 5 x 5\n",
       "\\begin{tabular}{lllll}\n",
       " Name & q1\\_2021 & q2\\_2021 & q3\\_2021 & q4\\_2021\\\\\n",
       " <chr> & <dbl> & <dbl> & <dbl> & <dbl>\\\\\n",
       "\\hline\n",
       "\t Nick & 12442 & 13442 & 15482 & 14511\\\\\n",
       "\t Jake & 22131 & 22871 & 22031 & 20031\\\\\n",
       "\t Anna & 21343 & 20343 & 22456 & 21741\\\\\n",
       "\t Jane & 22111 & 22222 & 22444 & 22333\\\\\n",
       "\t Dina & 14123 & 14456 & 14533 & 14511\\\\\n",
       "\\end{tabular}\n"
      ],
      "text/markdown": [
       "\n",
       "A data.frame: 5 x 5\n",
       "\n",
       "| Name &lt;chr&gt; | q1_2021 &lt;dbl&gt; | q2_2021 &lt;dbl&gt; | q3_2021 &lt;dbl&gt; | q4_2021 &lt;dbl&gt; |\n",
       "|---|---|---|---|---|\n",
       "| Nick | 12442 | 13442 | 15482 | 14511 |\n",
       "| Jake | 22131 | 22871 | 22031 | 20031 |\n",
       "| Anna | 21343 | 20343 | 22456 | 21741 |\n",
       "| Jane | 22111 | 22222 | 22444 | 22333 |\n",
       "| Dina | 14123 | 14456 | 14533 | 14511 |\n",
       "\n"
      ],
      "text/plain": [
       "  Name q1_2021 q2_2021 q3_2021 q4_2021\n",
       "1 Nick 12442   13442   15482   14511  \n",
       "2 Jake 22131   22871   22031   20031  \n",
       "3 Anna 21343   20343   22456   21741  \n",
       "4 Jane 22111   22222   22444   22333  \n",
       "5 Dina 14123   14456   14533   14511  "
      ]
     },
     "metadata": {},
     "output_type": "display_data"
    }
   ],
   "source": [
    "not_good_data <- data.frame(Name = c(\"Nick\", \"Jake\", \"Anna\", \"Jane\", \"Dina\"),\n",
    "                           q1_2021 = c(12442, 22131, 21343, 22111, 14123),\n",
    "                           q2_2021 = c(13442, 22871, 20343, 22222, 14456),\n",
    "                           q3_2021 = c(15482, 22031, 22456, 22444, 14533),\n",
    "                           q4_2021 = c(14511, 20031, 21741, 22333, 14511))\n",
    "not_good_data"
   ]
  },
  {
   "cell_type": "code",
   "execution_count": 156,
   "id": "e14cffea-6f53-4965-8d0a-857f70e5b3f0",
   "metadata": {},
   "outputs": [],
   "source": [
    "library(tidyr)"
   ]
  },
  {
   "cell_type": "code",
   "execution_count": 158,
   "id": "8ea37d76-0f5a-42fe-a58f-5cc99cea70de",
   "metadata": {},
   "outputs": [
    {
     "data": {
      "text/html": [
       "<table class=\"dataframe\">\n",
       "<caption>A data.frame: 20 x 3</caption>\n",
       "<thead>\n",
       "\t<tr><th scope=col>Name</th><th scope=col>quater</th><th scope=col>salary</th></tr>\n",
       "\t<tr><th scope=col>&lt;chr&gt;</th><th scope=col>&lt;chr&gt;</th><th scope=col>&lt;dbl&gt;</th></tr>\n",
       "</thead>\n",
       "<tbody>\n",
       "\t<tr><td>Nick</td><td>q1_2021</td><td>12442</td></tr>\n",
       "\t<tr><td>Jake</td><td>q1_2021</td><td>22131</td></tr>\n",
       "\t<tr><td>Anna</td><td>q1_2021</td><td>21343</td></tr>\n",
       "\t<tr><td>Jane</td><td>q1_2021</td><td>22111</td></tr>\n",
       "\t<tr><td>Dina</td><td>q1_2021</td><td>14123</td></tr>\n",
       "\t<tr><td>Nick</td><td>q2_2021</td><td>13442</td></tr>\n",
       "\t<tr><td>Jake</td><td>q2_2021</td><td>22871</td></tr>\n",
       "\t<tr><td>Anna</td><td>q2_2021</td><td>20343</td></tr>\n",
       "\t<tr><td>Jane</td><td>q2_2021</td><td>22222</td></tr>\n",
       "\t<tr><td>Dina</td><td>q2_2021</td><td>14456</td></tr>\n",
       "\t<tr><td>Nick</td><td>q3_2021</td><td>15482</td></tr>\n",
       "\t<tr><td>Jake</td><td>q3_2021</td><td>22031</td></tr>\n",
       "\t<tr><td>Anna</td><td>q3_2021</td><td>22456</td></tr>\n",
       "\t<tr><td>Jane</td><td>q3_2021</td><td>22444</td></tr>\n",
       "\t<tr><td>Dina</td><td>q3_2021</td><td>14533</td></tr>\n",
       "\t<tr><td>Nick</td><td>q4_2021</td><td>14511</td></tr>\n",
       "\t<tr><td>Jake</td><td>q4_2021</td><td>20031</td></tr>\n",
       "\t<tr><td>Anna</td><td>q4_2021</td><td>21741</td></tr>\n",
       "\t<tr><td>Jane</td><td>q4_2021</td><td>22333</td></tr>\n",
       "\t<tr><td>Dina</td><td>q4_2021</td><td>14511</td></tr>\n",
       "</tbody>\n",
       "</table>\n"
      ],
      "text/latex": [
       "A data.frame: 20 x 3\n",
       "\\begin{tabular}{lll}\n",
       " Name & quater & salary\\\\\n",
       " <chr> & <chr> & <dbl>\\\\\n",
       "\\hline\n",
       "\t Nick & q1\\_2021 & 12442\\\\\n",
       "\t Jake & q1\\_2021 & 22131\\\\\n",
       "\t Anna & q1\\_2021 & 21343\\\\\n",
       "\t Jane & q1\\_2021 & 22111\\\\\n",
       "\t Dina & q1\\_2021 & 14123\\\\\n",
       "\t Nick & q2\\_2021 & 13442\\\\\n",
       "\t Jake & q2\\_2021 & 22871\\\\\n",
       "\t Anna & q2\\_2021 & 20343\\\\\n",
       "\t Jane & q2\\_2021 & 22222\\\\\n",
       "\t Dina & q2\\_2021 & 14456\\\\\n",
       "\t Nick & q3\\_2021 & 15482\\\\\n",
       "\t Jake & q3\\_2021 & 22031\\\\\n",
       "\t Anna & q3\\_2021 & 22456\\\\\n",
       "\t Jane & q3\\_2021 & 22444\\\\\n",
       "\t Dina & q3\\_2021 & 14533\\\\\n",
       "\t Nick & q4\\_2021 & 14511\\\\\n",
       "\t Jake & q4\\_2021 & 20031\\\\\n",
       "\t Anna & q4\\_2021 & 21741\\\\\n",
       "\t Jane & q4\\_2021 & 22333\\\\\n",
       "\t Dina & q4\\_2021 & 14511\\\\\n",
       "\\end{tabular}\n"
      ],
      "text/markdown": [
       "\n",
       "A data.frame: 20 x 3\n",
       "\n",
       "| Name &lt;chr&gt; | quater &lt;chr&gt; | salary &lt;dbl&gt; |\n",
       "|---|---|---|\n",
       "| Nick | q1_2021 | 12442 |\n",
       "| Jake | q1_2021 | 22131 |\n",
       "| Anna | q1_2021 | 21343 |\n",
       "| Jane | q1_2021 | 22111 |\n",
       "| Dina | q1_2021 | 14123 |\n",
       "| Nick | q2_2021 | 13442 |\n",
       "| Jake | q2_2021 | 22871 |\n",
       "| Anna | q2_2021 | 20343 |\n",
       "| Jane | q2_2021 | 22222 |\n",
       "| Dina | q2_2021 | 14456 |\n",
       "| Nick | q3_2021 | 15482 |\n",
       "| Jake | q3_2021 | 22031 |\n",
       "| Anna | q3_2021 | 22456 |\n",
       "| Jane | q3_2021 | 22444 |\n",
       "| Dina | q3_2021 | 14533 |\n",
       "| Nick | q4_2021 | 14511 |\n",
       "| Jake | q4_2021 | 20031 |\n",
       "| Anna | q4_2021 | 21741 |\n",
       "| Jane | q4_2021 | 22333 |\n",
       "| Dina | q4_2021 | 14511 |\n",
       "\n"
      ],
      "text/plain": [
       "   Name quater  salary\n",
       "1  Nick q1_2021 12442 \n",
       "2  Jake q1_2021 22131 \n",
       "3  Anna q1_2021 21343 \n",
       "4  Jane q1_2021 22111 \n",
       "5  Dina q1_2021 14123 \n",
       "6  Nick q2_2021 13442 \n",
       "7  Jake q2_2021 22871 \n",
       "8  Anna q2_2021 20343 \n",
       "9  Jane q2_2021 22222 \n",
       "10 Dina q2_2021 14456 \n",
       "11 Nick q3_2021 15482 \n",
       "12 Jake q3_2021 22031 \n",
       "13 Anna q3_2021 22456 \n",
       "14 Jane q3_2021 22444 \n",
       "15 Dina q3_2021 14533 \n",
       "16 Nick q4_2021 14511 \n",
       "17 Jake q4_2021 20031 \n",
       "18 Anna q4_2021 21741 \n",
       "19 Jane q4_2021 22333 \n",
       "20 Dina q4_2021 14511 "
      ]
     },
     "metadata": {},
     "output_type": "display_data"
    }
   ],
   "source": [
    "better_data <- not_good_data |>\n",
    "    gather(quater, salary, 2:5)\n",
    "better_data"
   ]
  },
  {
   "cell_type": "code",
   "execution_count": 161,
   "id": "4a7520c9-4057-432c-a058-d14b94b3fdc1",
   "metadata": {},
   "outputs": [
    {
     "data": {
      "text/html": [
       "<table class=\"dataframe\">\n",
       "<caption>A data.frame: 6 x 3</caption>\n",
       "<thead>\n",
       "\t<tr><th></th><th scope=col>Name</th><th scope=col>quater</th><th scope=col>salary</th></tr>\n",
       "\t<tr><th></th><th scope=col>&lt;chr&gt;</th><th scope=col>&lt;chr&gt;</th><th scope=col>&lt;dbl&gt;</th></tr>\n",
       "</thead>\n",
       "<tbody>\n",
       "\t<tr><th scope=row>1</th><td>Nick</td><td>q1_2021</td><td>12442</td></tr>\n",
       "\t<tr><th scope=row>2</th><td>Jake</td><td>q1_2021</td><td>22131</td></tr>\n",
       "\t<tr><th scope=row>3</th><td>Anna</td><td>q1_2021</td><td>21343</td></tr>\n",
       "\t<tr><th scope=row>4</th><td>Jane</td><td>q1_2021</td><td>22111</td></tr>\n",
       "\t<tr><th scope=row>5</th><td>Dina</td><td>q1_2021</td><td>14123</td></tr>\n",
       "\t<tr><th scope=row>6</th><td>Nick</td><td>q2_2021</td><td>13442</td></tr>\n",
       "</tbody>\n",
       "</table>\n"
      ],
      "text/latex": [
       "A data.frame: 6 x 3\n",
       "\\begin{tabular}{r|lll}\n",
       "  & Name & quater & salary\\\\\n",
       "  & <chr> & <chr> & <dbl>\\\\\n",
       "\\hline\n",
       "\t1 & Nick & q1\\_2021 & 12442\\\\\n",
       "\t2 & Jake & q1\\_2021 & 22131\\\\\n",
       "\t3 & Anna & q1\\_2021 & 21343\\\\\n",
       "\t4 & Jane & q1\\_2021 & 22111\\\\\n",
       "\t5 & Dina & q1\\_2021 & 14123\\\\\n",
       "\t6 & Nick & q2\\_2021 & 13442\\\\\n",
       "\\end{tabular}\n"
      ],
      "text/markdown": [
       "\n",
       "A data.frame: 6 x 3\n",
       "\n",
       "| <!--/--> | Name &lt;chr&gt; | quater &lt;chr&gt; | salary &lt;dbl&gt; |\n",
       "|---|---|---|---|\n",
       "| 1 | Nick | q1_2021 | 12442 |\n",
       "| 2 | Jake | q1_2021 | 22131 |\n",
       "| 3 | Anna | q1_2021 | 21343 |\n",
       "| 4 | Jane | q1_2021 | 22111 |\n",
       "| 5 | Dina | q1_2021 | 14123 |\n",
       "| 6 | Nick | q2_2021 | 13442 |\n",
       "\n"
      ],
      "text/plain": [
       "  Name quater  salary\n",
       "1 Nick q1_2021 12442 \n",
       "2 Jake q1_2021 22131 \n",
       "3 Anna q1_2021 21343 \n",
       "4 Jane q1_2021 22111 \n",
       "5 Dina q1_2021 14123 \n",
       "6 Nick q2_2021 13442 "
      ]
     },
     "metadata": {},
     "output_type": "display_data"
    }
   ],
   "source": [
    "better_data <- not_good_data |>\n",
    "    gather(quater, salary, q1_2021:q4_2021)\n",
    "better_data |> head()"
   ]
  },
  {
   "cell_type": "code",
   "execution_count": 164,
   "id": "fa52f81a-84da-4a7c-a30d-657c1c7f6479",
   "metadata": {},
   "outputs": [
    {
     "data": {
      "text/html": [
       "<table class=\"dataframe\">\n",
       "<caption>A data.frame: 20 x 4</caption>\n",
       "<thead>\n",
       "\t<tr><th scope=col>Name</th><th scope=col>quater</th><th scope=col>year</th><th scope=col>salary</th></tr>\n",
       "\t<tr><th scope=col>&lt;chr&gt;</th><th scope=col>&lt;dbl&gt;</th><th scope=col>&lt;dbl&gt;</th><th scope=col>&lt;dbl&gt;</th></tr>\n",
       "</thead>\n",
       "<tbody>\n",
       "\t<tr><td>Nick</td><td>1</td><td>2021</td><td>12442</td></tr>\n",
       "\t<tr><td>Jake</td><td>1</td><td>2021</td><td>22131</td></tr>\n",
       "\t<tr><td>Anna</td><td>1</td><td>2021</td><td>21343</td></tr>\n",
       "\t<tr><td>Jane</td><td>1</td><td>2021</td><td>22111</td></tr>\n",
       "\t<tr><td>Dina</td><td>1</td><td>2021</td><td>14123</td></tr>\n",
       "\t<tr><td>Nick</td><td>2</td><td>2021</td><td>13442</td></tr>\n",
       "\t<tr><td>Jake</td><td>2</td><td>2021</td><td>22871</td></tr>\n",
       "\t<tr><td>Anna</td><td>2</td><td>2021</td><td>20343</td></tr>\n",
       "\t<tr><td>Jane</td><td>2</td><td>2021</td><td>22222</td></tr>\n",
       "\t<tr><td>Dina</td><td>2</td><td>2021</td><td>14456</td></tr>\n",
       "\t<tr><td>Nick</td><td>3</td><td>2021</td><td>15482</td></tr>\n",
       "\t<tr><td>Jake</td><td>3</td><td>2021</td><td>22031</td></tr>\n",
       "\t<tr><td>Anna</td><td>3</td><td>2021</td><td>22456</td></tr>\n",
       "\t<tr><td>Jane</td><td>3</td><td>2021</td><td>22444</td></tr>\n",
       "\t<tr><td>Dina</td><td>3</td><td>2021</td><td>14533</td></tr>\n",
       "\t<tr><td>Nick</td><td>4</td><td>2021</td><td>14511</td></tr>\n",
       "\t<tr><td>Jake</td><td>4</td><td>2021</td><td>20031</td></tr>\n",
       "\t<tr><td>Anna</td><td>4</td><td>2021</td><td>21741</td></tr>\n",
       "\t<tr><td>Jane</td><td>4</td><td>2021</td><td>22333</td></tr>\n",
       "\t<tr><td>Dina</td><td>4</td><td>2021</td><td>14511</td></tr>\n",
       "</tbody>\n",
       "</table>\n"
      ],
      "text/latex": [
       "A data.frame: 20 x 4\n",
       "\\begin{tabular}{llll}\n",
       " Name & quater & year & salary\\\\\n",
       " <chr> & <dbl> & <dbl> & <dbl>\\\\\n",
       "\\hline\n",
       "\t Nick & 1 & 2021 & 12442\\\\\n",
       "\t Jake & 1 & 2021 & 22131\\\\\n",
       "\t Anna & 1 & 2021 & 21343\\\\\n",
       "\t Jane & 1 & 2021 & 22111\\\\\n",
       "\t Dina & 1 & 2021 & 14123\\\\\n",
       "\t Nick & 2 & 2021 & 13442\\\\\n",
       "\t Jake & 2 & 2021 & 22871\\\\\n",
       "\t Anna & 2 & 2021 & 20343\\\\\n",
       "\t Jane & 2 & 2021 & 22222\\\\\n",
       "\t Dina & 2 & 2021 & 14456\\\\\n",
       "\t Nick & 3 & 2021 & 15482\\\\\n",
       "\t Jake & 3 & 2021 & 22031\\\\\n",
       "\t Anna & 3 & 2021 & 22456\\\\\n",
       "\t Jane & 3 & 2021 & 22444\\\\\n",
       "\t Dina & 3 & 2021 & 14533\\\\\n",
       "\t Nick & 4 & 2021 & 14511\\\\\n",
       "\t Jake & 4 & 2021 & 20031\\\\\n",
       "\t Anna & 4 & 2021 & 21741\\\\\n",
       "\t Jane & 4 & 2021 & 22333\\\\\n",
       "\t Dina & 4 & 2021 & 14511\\\\\n",
       "\\end{tabular}\n"
      ],
      "text/markdown": [
       "\n",
       "A data.frame: 20 x 4\n",
       "\n",
       "| Name &lt;chr&gt; | quater &lt;dbl&gt; | year &lt;dbl&gt; | salary &lt;dbl&gt; |\n",
       "|---|---|---|---|\n",
       "| Nick | 1 | 2021 | 12442 |\n",
       "| Jake | 1 | 2021 | 22131 |\n",
       "| Anna | 1 | 2021 | 21343 |\n",
       "| Jane | 1 | 2021 | 22111 |\n",
       "| Dina | 1 | 2021 | 14123 |\n",
       "| Nick | 2 | 2021 | 13442 |\n",
       "| Jake | 2 | 2021 | 22871 |\n",
       "| Anna | 2 | 2021 | 20343 |\n",
       "| Jane | 2 | 2021 | 22222 |\n",
       "| Dina | 2 | 2021 | 14456 |\n",
       "| Nick | 3 | 2021 | 15482 |\n",
       "| Jake | 3 | 2021 | 22031 |\n",
       "| Anna | 3 | 2021 | 22456 |\n",
       "| Jane | 3 | 2021 | 22444 |\n",
       "| Dina | 3 | 2021 | 14533 |\n",
       "| Nick | 4 | 2021 | 14511 |\n",
       "| Jake | 4 | 2021 | 20031 |\n",
       "| Anna | 4 | 2021 | 21741 |\n",
       "| Jane | 4 | 2021 | 22333 |\n",
       "| Dina | 4 | 2021 | 14511 |\n",
       "\n"
      ],
      "text/plain": [
       "   Name quater year salary\n",
       "1  Nick 1      2021 12442 \n",
       "2  Jake 1      2021 22131 \n",
       "3  Anna 1      2021 21343 \n",
       "4  Jane 1      2021 22111 \n",
       "5  Dina 1      2021 14123 \n",
       "6  Nick 2      2021 13442 \n",
       "7  Jake 2      2021 22871 \n",
       "8  Anna 2      2021 20343 \n",
       "9  Jane 2      2021 22222 \n",
       "10 Dina 2      2021 14456 \n",
       "11 Nick 3      2021 15482 \n",
       "12 Jake 3      2021 22031 \n",
       "13 Anna 3      2021 22456 \n",
       "14 Jane 3      2021 22444 \n",
       "15 Dina 3      2021 14533 \n",
       "16 Nick 4      2021 14511 \n",
       "17 Jake 4      2021 20031 \n",
       "18 Anna 4      2021 21741 \n",
       "19 Jane 4      2021 22333 \n",
       "20 Dina 4      2021 14511 "
      ]
     },
     "metadata": {},
     "output_type": "display_data"
    }
   ],
   "source": [
    "best_data <- better_data |>\n",
    "    separate(quater, c(\"quater\", \"year\"), sep = \"_\") |>\n",
    "    mutate(year = as.numeric(year),\n",
    "          quater = substr(better_data$quater,2,2),\n",
    "          quater = as.numeric(quater))\n",
    "best_data"
   ]
  },
  {
   "cell_type": "code",
   "execution_count": 166,
   "id": "130d08e8-078c-46c7-aea2-c4c9bf3b3eaa",
   "metadata": {},
   "outputs": [
    {
     "data": {
      "text/html": [
       "<table class=\"dataframe\">\n",
       "<caption>A data.frame: 4 x 4</caption>\n",
       "<thead>\n",
       "\t<tr><th scope=col>Name</th><th scope=col>quater</th><th scope=col>year</th><th scope=col>salary</th></tr>\n",
       "\t<tr><th scope=col>&lt;chr&gt;</th><th scope=col>&lt;dbl&gt;</th><th scope=col>&lt;dbl&gt;</th><th scope=col>&lt;dbl&gt;</th></tr>\n",
       "</thead>\n",
       "<tbody>\n",
       "\t<tr><td>Jane</td><td>1</td><td>2021</td><td>22111</td></tr>\n",
       "\t<tr><td>Jane</td><td>2</td><td>2021</td><td>22222</td></tr>\n",
       "\t<tr><td>Jane</td><td>3</td><td>2021</td><td>22444</td></tr>\n",
       "\t<tr><td>Jane</td><td>4</td><td>2021</td><td>22333</td></tr>\n",
       "</tbody>\n",
       "</table>\n"
      ],
      "text/latex": [
       "A data.frame: 4 x 4\n",
       "\\begin{tabular}{llll}\n",
       " Name & quater & year & salary\\\\\n",
       " <chr> & <dbl> & <dbl> & <dbl>\\\\\n",
       "\\hline\n",
       "\t Jane & 1 & 2021 & 22111\\\\\n",
       "\t Jane & 2 & 2021 & 22222\\\\\n",
       "\t Jane & 3 & 2021 & 22444\\\\\n",
       "\t Jane & 4 & 2021 & 22333\\\\\n",
       "\\end{tabular}\n"
      ],
      "text/markdown": [
       "\n",
       "A data.frame: 4 x 4\n",
       "\n",
       "| Name &lt;chr&gt; | quater &lt;dbl&gt; | year &lt;dbl&gt; | salary &lt;dbl&gt; |\n",
       "|---|---|---|---|\n",
       "| Jane | 1 | 2021 | 22111 |\n",
       "| Jane | 2 | 2021 | 22222 |\n",
       "| Jane | 3 | 2021 | 22444 |\n",
       "| Jane | 4 | 2021 | 22333 |\n",
       "\n"
      ],
      "text/plain": [
       "  Name quater year salary\n",
       "1 Jane 1      2021 22111 \n",
       "2 Jane 2      2021 22222 \n",
       "3 Jane 3      2021 22444 \n",
       "4 Jane 4      2021 22333 "
      ]
     },
     "metadata": {},
     "output_type": "display_data"
    }
   ],
   "source": [
    "best_data |> filter(Name == \"Jane\")"
   ]
  },
  {
   "cell_type": "code",
   "execution_count": 169,
   "id": "feb9d187-1ff4-47e0-8d98-bc629c314090",
   "metadata": {},
   "outputs": [
    {
     "data": {
      "text/html": [
       "<table class=\"dataframe\">\n",
       "<caption>A data.frame: 20 x 5</caption>\n",
       "<thead>\n",
       "\t<tr><th scope=col>Name</th><th scope=col>Qt_Y</th><th scope=col>quater</th><th scope=col>year</th><th scope=col>salary</th></tr>\n",
       "\t<tr><th scope=col>&lt;chr&gt;</th><th scope=col>&lt;chr&gt;</th><th scope=col>&lt;dbl&gt;</th><th scope=col>&lt;dbl&gt;</th><th scope=col>&lt;dbl&gt;</th></tr>\n",
       "</thead>\n",
       "<tbody>\n",
       "\t<tr><td>Nick</td><td>1#2021</td><td>1</td><td>2021</td><td>12442</td></tr>\n",
       "\t<tr><td>Jake</td><td>1#2021</td><td>1</td><td>2021</td><td>22131</td></tr>\n",
       "\t<tr><td>Anna</td><td>1#2021</td><td>1</td><td>2021</td><td>21343</td></tr>\n",
       "\t<tr><td>Jane</td><td>1#2021</td><td>1</td><td>2021</td><td>22111</td></tr>\n",
       "\t<tr><td>Dina</td><td>1#2021</td><td>1</td><td>2021</td><td>14123</td></tr>\n",
       "\t<tr><td>Nick</td><td>2#2021</td><td>2</td><td>2021</td><td>13442</td></tr>\n",
       "\t<tr><td>Jake</td><td>2#2021</td><td>2</td><td>2021</td><td>22871</td></tr>\n",
       "\t<tr><td>Anna</td><td>2#2021</td><td>2</td><td>2021</td><td>20343</td></tr>\n",
       "\t<tr><td>Jane</td><td>2#2021</td><td>2</td><td>2021</td><td>22222</td></tr>\n",
       "\t<tr><td>Dina</td><td>2#2021</td><td>2</td><td>2021</td><td>14456</td></tr>\n",
       "\t<tr><td>Nick</td><td>3#2021</td><td>3</td><td>2021</td><td>15482</td></tr>\n",
       "\t<tr><td>Jake</td><td>3#2021</td><td>3</td><td>2021</td><td>22031</td></tr>\n",
       "\t<tr><td>Anna</td><td>3#2021</td><td>3</td><td>2021</td><td>22456</td></tr>\n",
       "\t<tr><td>Jane</td><td>3#2021</td><td>3</td><td>2021</td><td>22444</td></tr>\n",
       "\t<tr><td>Dina</td><td>3#2021</td><td>3</td><td>2021</td><td>14533</td></tr>\n",
       "\t<tr><td>Nick</td><td>4#2021</td><td>4</td><td>2021</td><td>14511</td></tr>\n",
       "\t<tr><td>Jake</td><td>4#2021</td><td>4</td><td>2021</td><td>20031</td></tr>\n",
       "\t<tr><td>Anna</td><td>4#2021</td><td>4</td><td>2021</td><td>21741</td></tr>\n",
       "\t<tr><td>Jane</td><td>4#2021</td><td>4</td><td>2021</td><td>22333</td></tr>\n",
       "\t<tr><td>Dina</td><td>4#2021</td><td>4</td><td>2021</td><td>14511</td></tr>\n",
       "</tbody>\n",
       "</table>\n"
      ],
      "text/latex": [
       "A data.frame: 20 x 5\n",
       "\\begin{tabular}{lllll}\n",
       " Name & Qt\\_Y & quater & year & salary\\\\\n",
       " <chr> & <chr> & <dbl> & <dbl> & <dbl>\\\\\n",
       "\\hline\n",
       "\t Nick & 1\\#2021 & 1 & 2021 & 12442\\\\\n",
       "\t Jake & 1\\#2021 & 1 & 2021 & 22131\\\\\n",
       "\t Anna & 1\\#2021 & 1 & 2021 & 21343\\\\\n",
       "\t Jane & 1\\#2021 & 1 & 2021 & 22111\\\\\n",
       "\t Dina & 1\\#2021 & 1 & 2021 & 14123\\\\\n",
       "\t Nick & 2\\#2021 & 2 & 2021 & 13442\\\\\n",
       "\t Jake & 2\\#2021 & 2 & 2021 & 22871\\\\\n",
       "\t Anna & 2\\#2021 & 2 & 2021 & 20343\\\\\n",
       "\t Jane & 2\\#2021 & 2 & 2021 & 22222\\\\\n",
       "\t Dina & 2\\#2021 & 2 & 2021 & 14456\\\\\n",
       "\t Nick & 3\\#2021 & 3 & 2021 & 15482\\\\\n",
       "\t Jake & 3\\#2021 & 3 & 2021 & 22031\\\\\n",
       "\t Anna & 3\\#2021 & 3 & 2021 & 22456\\\\\n",
       "\t Jane & 3\\#2021 & 3 & 2021 & 22444\\\\\n",
       "\t Dina & 3\\#2021 & 3 & 2021 & 14533\\\\\n",
       "\t Nick & 4\\#2021 & 4 & 2021 & 14511\\\\\n",
       "\t Jake & 4\\#2021 & 4 & 2021 & 20031\\\\\n",
       "\t Anna & 4\\#2021 & 4 & 2021 & 21741\\\\\n",
       "\t Jane & 4\\#2021 & 4 & 2021 & 22333\\\\\n",
       "\t Dina & 4\\#2021 & 4 & 2021 & 14511\\\\\n",
       "\\end{tabular}\n"
      ],
      "text/markdown": [
       "\n",
       "A data.frame: 20 x 5\n",
       "\n",
       "| Name &lt;chr&gt; | Qt_Y &lt;chr&gt; | quater &lt;dbl&gt; | year &lt;dbl&gt; | salary &lt;dbl&gt; |\n",
       "|---|---|---|---|---|\n",
       "| Nick | 1#2021 | 1 | 2021 | 12442 |\n",
       "| Jake | 1#2021 | 1 | 2021 | 22131 |\n",
       "| Anna | 1#2021 | 1 | 2021 | 21343 |\n",
       "| Jane | 1#2021 | 1 | 2021 | 22111 |\n",
       "| Dina | 1#2021 | 1 | 2021 | 14123 |\n",
       "| Nick | 2#2021 | 2 | 2021 | 13442 |\n",
       "| Jake | 2#2021 | 2 | 2021 | 22871 |\n",
       "| Anna | 2#2021 | 2 | 2021 | 20343 |\n",
       "| Jane | 2#2021 | 2 | 2021 | 22222 |\n",
       "| Dina | 2#2021 | 2 | 2021 | 14456 |\n",
       "| Nick | 3#2021 | 3 | 2021 | 15482 |\n",
       "| Jake | 3#2021 | 3 | 2021 | 22031 |\n",
       "| Anna | 3#2021 | 3 | 2021 | 22456 |\n",
       "| Jane | 3#2021 | 3 | 2021 | 22444 |\n",
       "| Dina | 3#2021 | 3 | 2021 | 14533 |\n",
       "| Nick | 4#2021 | 4 | 2021 | 14511 |\n",
       "| Jake | 4#2021 | 4 | 2021 | 20031 |\n",
       "| Anna | 4#2021 | 4 | 2021 | 21741 |\n",
       "| Jane | 4#2021 | 4 | 2021 | 22333 |\n",
       "| Dina | 4#2021 | 4 | 2021 | 14511 |\n",
       "\n"
      ],
      "text/plain": [
       "   Name Qt_Y   quater year salary\n",
       "1  Nick 1#2021 1      2021 12442 \n",
       "2  Jake 1#2021 1      2021 22131 \n",
       "3  Anna 1#2021 1      2021 21343 \n",
       "4  Jane 1#2021 1      2021 22111 \n",
       "5  Dina 1#2021 1      2021 14123 \n",
       "6  Nick 2#2021 2      2021 13442 \n",
       "7  Jake 2#2021 2      2021 22871 \n",
       "8  Anna 2#2021 2      2021 20343 \n",
       "9  Jane 2#2021 2      2021 22222 \n",
       "10 Dina 2#2021 2      2021 14456 \n",
       "11 Nick 3#2021 3      2021 15482 \n",
       "12 Jake 3#2021 3      2021 22031 \n",
       "13 Anna 3#2021 3      2021 22456 \n",
       "14 Jane 3#2021 3      2021 22444 \n",
       "15 Dina 3#2021 3      2021 14533 \n",
       "16 Nick 4#2021 4      2021 14511 \n",
       "17 Jake 4#2021 4      2021 20031 \n",
       "18 Anna 4#2021 4      2021 21741 \n",
       "19 Jane 4#2021 4      2021 22333 \n",
       "20 Dina 4#2021 4      2021 14511 "
      ]
     },
     "metadata": {},
     "output_type": "display_data"
    }
   ],
   "source": [
    "united_data <- best_data |>\n",
    "    unite(Qt_Y, quater, year, sep = \"#\", remove = F)\n",
    "united_data"
   ]
  },
  {
   "cell_type": "code",
   "execution_count": 171,
   "id": "48365dbf-8b18-4db6-a9c1-6131da8af157",
   "metadata": {},
   "outputs": [
    {
     "data": {
      "text/html": [
       "<table class=\"dataframe\">\n",
       "<caption>A data.frame: 5 x 5</caption>\n",
       "<thead>\n",
       "\t<tr><th scope=col>Name</th><th scope=col>q1_2021</th><th scope=col>q2_2021</th><th scope=col>q3_2021</th><th scope=col>q4_2021</th></tr>\n",
       "\t<tr><th scope=col>&lt;chr&gt;</th><th scope=col>&lt;dbl&gt;</th><th scope=col>&lt;dbl&gt;</th><th scope=col>&lt;dbl&gt;</th><th scope=col>&lt;dbl&gt;</th></tr>\n",
       "</thead>\n",
       "<tbody>\n",
       "\t<tr><td>Anna</td><td>21343</td><td>20343</td><td>22456</td><td>21741</td></tr>\n",
       "\t<tr><td>Dina</td><td>14123</td><td>14456</td><td>14533</td><td>14511</td></tr>\n",
       "\t<tr><td>Jake</td><td>22131</td><td>22871</td><td>22031</td><td>20031</td></tr>\n",
       "\t<tr><td>Jane</td><td>22111</td><td>22222</td><td>22444</td><td>22333</td></tr>\n",
       "\t<tr><td>Nick</td><td>12442</td><td>13442</td><td>15482</td><td>14511</td></tr>\n",
       "</tbody>\n",
       "</table>\n"
      ],
      "text/latex": [
       "A data.frame: 5 x 5\n",
       "\\begin{tabular}{lllll}\n",
       " Name & q1\\_2021 & q2\\_2021 & q3\\_2021 & q4\\_2021\\\\\n",
       " <chr> & <dbl> & <dbl> & <dbl> & <dbl>\\\\\n",
       "\\hline\n",
       "\t Anna & 21343 & 20343 & 22456 & 21741\\\\\n",
       "\t Dina & 14123 & 14456 & 14533 & 14511\\\\\n",
       "\t Jake & 22131 & 22871 & 22031 & 20031\\\\\n",
       "\t Jane & 22111 & 22222 & 22444 & 22333\\\\\n",
       "\t Nick & 12442 & 13442 & 15482 & 14511\\\\\n",
       "\\end{tabular}\n"
      ],
      "text/markdown": [
       "\n",
       "A data.frame: 5 x 5\n",
       "\n",
       "| Name &lt;chr&gt; | q1_2021 &lt;dbl&gt; | q2_2021 &lt;dbl&gt; | q3_2021 &lt;dbl&gt; | q4_2021 &lt;dbl&gt; |\n",
       "|---|---|---|---|---|\n",
       "| Anna | 21343 | 20343 | 22456 | 21741 |\n",
       "| Dina | 14123 | 14456 | 14533 | 14511 |\n",
       "| Jake | 22131 | 22871 | 22031 | 20031 |\n",
       "| Jane | 22111 | 22222 | 22444 | 22333 |\n",
       "| Nick | 12442 | 13442 | 15482 | 14511 |\n",
       "\n"
      ],
      "text/plain": [
       "  Name q1_2021 q2_2021 q3_2021 q4_2021\n",
       "1 Anna 21343   20343   22456   21741  \n",
       "2 Dina 14123   14456   14533   14511  \n",
       "3 Jake 22131   22871   22031   20031  \n",
       "4 Jane 22111   22222   22444   22333  \n",
       "5 Nick 12442   13442   15482   14511  "
      ]
     },
     "metadata": {},
     "output_type": "display_data"
    }
   ],
   "source": [
    "final_data <- better_data |>\n",
    "    spread(quater, salary)\n",
    "final_data"
   ]
  },
  {
   "cell_type": "code",
   "execution_count": 172,
   "id": "3ebff658-c88c-4d95-86a3-7a8ddc928c8b",
   "metadata": {},
   "outputs": [
    {
     "data": {
      "text/html": [
       "<table class=\"dataframe\">\n",
       "<caption>A tibble: 6 x 13</caption>\n",
       "<thead>\n",
       "\t<tr><th scope=col>country</th><th scope=col>1952</th><th scope=col>1957</th><th scope=col>1962</th><th scope=col>1967</th><th scope=col>1972</th><th scope=col>1977</th><th scope=col>1982</th><th scope=col>1987</th><th scope=col>1992</th><th scope=col>1997</th><th scope=col>2002</th><th scope=col>2007</th></tr>\n",
       "\t<tr><th scope=col>&lt;fct&gt;</th><th scope=col>&lt;dbl&gt;</th><th scope=col>&lt;dbl&gt;</th><th scope=col>&lt;dbl&gt;</th><th scope=col>&lt;dbl&gt;</th><th scope=col>&lt;dbl&gt;</th><th scope=col>&lt;dbl&gt;</th><th scope=col>&lt;dbl&gt;</th><th scope=col>&lt;dbl&gt;</th><th scope=col>&lt;dbl&gt;</th><th scope=col>&lt;dbl&gt;</th><th scope=col>&lt;dbl&gt;</th><th scope=col>&lt;dbl&gt;</th></tr>\n",
       "</thead>\n",
       "<tbody>\n",
       "\t<tr><td>Afghanistan</td><td>28.801</td><td>30.332</td><td>31.997</td><td>34.020</td><td>36.088</td><td>38.438</td><td>39.854</td><td>40.822</td><td>41.674</td><td>41.763</td><td>42.129</td><td>43.828</td></tr>\n",
       "\t<tr><td>Albania    </td><td>55.230</td><td>59.280</td><td>64.820</td><td>66.220</td><td>67.690</td><td>68.930</td><td>70.420</td><td>72.000</td><td>71.581</td><td>72.950</td><td>75.651</td><td>76.423</td></tr>\n",
       "\t<tr><td>Algeria    </td><td>43.077</td><td>45.685</td><td>48.303</td><td>51.407</td><td>54.518</td><td>58.014</td><td>61.368</td><td>65.799</td><td>67.744</td><td>69.152</td><td>70.994</td><td>72.301</td></tr>\n",
       "\t<tr><td>Angola     </td><td>30.015</td><td>31.999</td><td>34.000</td><td>35.985</td><td>37.928</td><td>39.483</td><td>39.942</td><td>39.906</td><td>40.647</td><td>40.963</td><td>41.003</td><td>42.731</td></tr>\n",
       "\t<tr><td>Argentina  </td><td>62.485</td><td>64.399</td><td>65.142</td><td>65.634</td><td>67.065</td><td>68.481</td><td>69.942</td><td>70.774</td><td>71.868</td><td>73.275</td><td>74.340</td><td>75.320</td></tr>\n",
       "\t<tr><td>Australia  </td><td>69.120</td><td>70.330</td><td>70.930</td><td>71.100</td><td>71.930</td><td>73.490</td><td>74.740</td><td>76.320</td><td>77.560</td><td>78.830</td><td>80.370</td><td>81.235</td></tr>\n",
       "</tbody>\n",
       "</table>\n"
      ],
      "text/latex": [
       "A tibble: 6 x 13\n",
       "\\begin{tabular}{lllllllllllll}\n",
       " country & 1952 & 1957 & 1962 & 1967 & 1972 & 1977 & 1982 & 1987 & 1992 & 1997 & 2002 & 2007\\\\\n",
       " <fct> & <dbl> & <dbl> & <dbl> & <dbl> & <dbl> & <dbl> & <dbl> & <dbl> & <dbl> & <dbl> & <dbl> & <dbl>\\\\\n",
       "\\hline\n",
       "\t Afghanistan & 28.801 & 30.332 & 31.997 & 34.020 & 36.088 & 38.438 & 39.854 & 40.822 & 41.674 & 41.763 & 42.129 & 43.828\\\\\n",
       "\t Albania     & 55.230 & 59.280 & 64.820 & 66.220 & 67.690 & 68.930 & 70.420 & 72.000 & 71.581 & 72.950 & 75.651 & 76.423\\\\\n",
       "\t Algeria     & 43.077 & 45.685 & 48.303 & 51.407 & 54.518 & 58.014 & 61.368 & 65.799 & 67.744 & 69.152 & 70.994 & 72.301\\\\\n",
       "\t Angola      & 30.015 & 31.999 & 34.000 & 35.985 & 37.928 & 39.483 & 39.942 & 39.906 & 40.647 & 40.963 & 41.003 & 42.731\\\\\n",
       "\t Argentina   & 62.485 & 64.399 & 65.142 & 65.634 & 67.065 & 68.481 & 69.942 & 70.774 & 71.868 & 73.275 & 74.340 & 75.320\\\\\n",
       "\t Australia   & 69.120 & 70.330 & 70.930 & 71.100 & 71.930 & 73.490 & 74.740 & 76.320 & 77.560 & 78.830 & 80.370 & 81.235\\\\\n",
       "\\end{tabular}\n"
      ],
      "text/markdown": [
       "\n",
       "A tibble: 6 x 13\n",
       "\n",
       "| country &lt;fct&gt; | 1952 &lt;dbl&gt; | 1957 &lt;dbl&gt; | 1962 &lt;dbl&gt; | 1967 &lt;dbl&gt; | 1972 &lt;dbl&gt; | 1977 &lt;dbl&gt; | 1982 &lt;dbl&gt; | 1987 &lt;dbl&gt; | 1992 &lt;dbl&gt; | 1997 &lt;dbl&gt; | 2002 &lt;dbl&gt; | 2007 &lt;dbl&gt; |\n",
       "|---|---|---|---|---|---|---|---|---|---|---|---|---|\n",
       "| Afghanistan | 28.801 | 30.332 | 31.997 | 34.020 | 36.088 | 38.438 | 39.854 | 40.822 | 41.674 | 41.763 | 42.129 | 43.828 |\n",
       "| Albania     | 55.230 | 59.280 | 64.820 | 66.220 | 67.690 | 68.930 | 70.420 | 72.000 | 71.581 | 72.950 | 75.651 | 76.423 |\n",
       "| Algeria     | 43.077 | 45.685 | 48.303 | 51.407 | 54.518 | 58.014 | 61.368 | 65.799 | 67.744 | 69.152 | 70.994 | 72.301 |\n",
       "| Angola      | 30.015 | 31.999 | 34.000 | 35.985 | 37.928 | 39.483 | 39.942 | 39.906 | 40.647 | 40.963 | 41.003 | 42.731 |\n",
       "| Argentina   | 62.485 | 64.399 | 65.142 | 65.634 | 67.065 | 68.481 | 69.942 | 70.774 | 71.868 | 73.275 | 74.340 | 75.320 |\n",
       "| Australia   | 69.120 | 70.330 | 70.930 | 71.100 | 71.930 | 73.490 | 74.740 | 76.320 | 77.560 | 78.830 | 80.370 | 81.235 |\n",
       "\n"
      ],
      "text/plain": [
       "  country     1952   1957   1962   1967   1972   1977   1982   1987   1992  \n",
       "1 Afghanistan 28.801 30.332 31.997 34.020 36.088 38.438 39.854 40.822 41.674\n",
       "2 Albania     55.230 59.280 64.820 66.220 67.690 68.930 70.420 72.000 71.581\n",
       "3 Algeria     43.077 45.685 48.303 51.407 54.518 58.014 61.368 65.799 67.744\n",
       "4 Angola      30.015 31.999 34.000 35.985 37.928 39.483 39.942 39.906 40.647\n",
       "5 Argentina   62.485 64.399 65.142 65.634 67.065 68.481 69.942 70.774 71.868\n",
       "6 Australia   69.120 70.330 70.930 71.100 71.930 73.490 74.740 76.320 77.560\n",
       "  1997   2002   2007  \n",
       "1 41.763 42.129 43.828\n",
       "2 72.950 75.651 76.423\n",
       "3 69.152 70.994 72.301\n",
       "4 40.963 41.003 42.731\n",
       "5 73.275 74.340 75.320\n",
       "6 78.830 80.370 81.235"
      ]
     },
     "metadata": {},
     "output_type": "display_data"
    }
   ],
   "source": [
    "gapminder |>\n",
    "    select(country, lifeExp, year) |>\n",
    "    spread(year, lifeExp) |>\n",
    "    head()"
   ]
  }
 ],
 "metadata": {
  "kernelspec": {
   "display_name": "R",
   "language": "R",
   "name": "ir"
  },
  "language_info": {
   "codemirror_mode": "r",
   "file_extension": ".r",
   "mimetype": "text/x-r-source",
   "name": "R",
   "pygments_lexer": "r",
   "version": "4.1.3"
  }
 },
 "nbformat": 4,
 "nbformat_minor": 5
}
