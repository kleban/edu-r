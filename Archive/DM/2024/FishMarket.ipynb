{
 "cells": [
  {
   "cell_type": "markdown",
   "id": "ef8b07a7-efd1-4039-bfb6-462d7cf31326",
   "metadata": {},
   "source": [
    "# Дослідження ринку рибок!"
   ]
  },
  {
   "cell_type": "markdown",
   "id": "4aff6af6-8b38-42a7-ad3b-790a41479941",
   "metadata": {},
   "source": [
    "## 1. Зчитування даних"
   ]
  },
  {
   "cell_type": "code",
   "execution_count": 5,
   "id": "67897347-ed94-47cc-9acd-8ad2d0c1d957",
   "metadata": {},
   "outputs": [
    {
     "data": {
      "text/html": [
       "'d:/Fldr/Repos/edu-r/DM'"
      ],
      "text/latex": [
       "'d:/Fldr/Repos/edu-r/DM'"
      ],
      "text/markdown": [
       "'d:/Fldr/Repos/edu-r/DM'"
      ],
      "text/plain": [
       "[1] \"d:/Fldr/Repos/edu-r/DM\""
      ]
     },
     "metadata": {},
     "output_type": "display_data"
    }
   ],
   "source": [
    "getwd()"
   ]
  },
  {
   "cell_type": "code",
   "execution_count": 3,
   "id": "01a36259-df1b-4698-8df8-9a82fb8e67fe",
   "metadata": {},
   "outputs": [],
   "source": [
    "data <- read.csv(\"c:/Users/User/data/Fish.csv\")"
   ]
  },
  {
   "cell_type": "code",
   "execution_count": 9,
   "id": "1d34f306-c20d-4e11-a826-b8c962979673",
   "metadata": {},
   "outputs": [
    {
     "data": {
      "text/html": [
       "<table class=\"dataframe\">\n",
       "<caption>A data.frame: 6 x 7</caption>\n",
       "<thead>\n",
       "\t<tr><th></th><th scope=col>Species</th><th scope=col>Weight</th><th scope=col>Length1</th><th scope=col>Length2</th><th scope=col>Length3</th><th scope=col>Height</th><th scope=col>Width</th></tr>\n",
       "\t<tr><th></th><th scope=col>&lt;chr&gt;</th><th scope=col>&lt;dbl&gt;</th><th scope=col>&lt;dbl&gt;</th><th scope=col>&lt;dbl&gt;</th><th scope=col>&lt;dbl&gt;</th><th scope=col>&lt;dbl&gt;</th><th scope=col>&lt;dbl&gt;</th></tr>\n",
       "</thead>\n",
       "<tbody>\n",
       "\t<tr><th scope=row>1</th><td>Bream</td><td>242</td><td>23.2</td><td>25.4</td><td>30.0</td><td>11.5200</td><td>4.0200</td></tr>\n",
       "\t<tr><th scope=row>2</th><td>Bream</td><td>290</td><td>24.0</td><td>26.3</td><td>31.2</td><td>12.4800</td><td>4.3056</td></tr>\n",
       "\t<tr><th scope=row>3</th><td>Bream</td><td>340</td><td>23.9</td><td>26.5</td><td>31.1</td><td>12.3778</td><td>4.6961</td></tr>\n",
       "\t<tr><th scope=row>4</th><td>Bream</td><td>363</td><td>26.3</td><td>29.0</td><td>33.5</td><td>12.7300</td><td>4.4555</td></tr>\n",
       "\t<tr><th scope=row>5</th><td>Bream</td><td>430</td><td>26.5</td><td>29.0</td><td>34.0</td><td>12.4440</td><td>5.1340</td></tr>\n",
       "\t<tr><th scope=row>6</th><td>Bream</td><td>450</td><td>26.8</td><td>29.7</td><td>34.7</td><td>13.6024</td><td>4.9274</td></tr>\n",
       "</tbody>\n",
       "</table>\n"
      ],
      "text/latex": [
       "A data.frame: 6 x 7\n",
       "\\begin{tabular}{r|lllllll}\n",
       "  & Species & Weight & Length1 & Length2 & Length3 & Height & Width\\\\\n",
       "  & <chr> & <dbl> & <dbl> & <dbl> & <dbl> & <dbl> & <dbl>\\\\\n",
       "\\hline\n",
       "\t1 & Bream & 242 & 23.2 & 25.4 & 30.0 & 11.5200 & 4.0200\\\\\n",
       "\t2 & Bream & 290 & 24.0 & 26.3 & 31.2 & 12.4800 & 4.3056\\\\\n",
       "\t3 & Bream & 340 & 23.9 & 26.5 & 31.1 & 12.3778 & 4.6961\\\\\n",
       "\t4 & Bream & 363 & 26.3 & 29.0 & 33.5 & 12.7300 & 4.4555\\\\\n",
       "\t5 & Bream & 430 & 26.5 & 29.0 & 34.0 & 12.4440 & 5.1340\\\\\n",
       "\t6 & Bream & 450 & 26.8 & 29.7 & 34.7 & 13.6024 & 4.9274\\\\\n",
       "\\end{tabular}\n"
      ],
      "text/markdown": [
       "\n",
       "A data.frame: 6 x 7\n",
       "\n",
       "| <!--/--> | Species &lt;chr&gt; | Weight &lt;dbl&gt; | Length1 &lt;dbl&gt; | Length2 &lt;dbl&gt; | Length3 &lt;dbl&gt; | Height &lt;dbl&gt; | Width &lt;dbl&gt; |\n",
       "|---|---|---|---|---|---|---|---|\n",
       "| 1 | Bream | 242 | 23.2 | 25.4 | 30.0 | 11.5200 | 4.0200 |\n",
       "| 2 | Bream | 290 | 24.0 | 26.3 | 31.2 | 12.4800 | 4.3056 |\n",
       "| 3 | Bream | 340 | 23.9 | 26.5 | 31.1 | 12.3778 | 4.6961 |\n",
       "| 4 | Bream | 363 | 26.3 | 29.0 | 33.5 | 12.7300 | 4.4555 |\n",
       "| 5 | Bream | 430 | 26.5 | 29.0 | 34.0 | 12.4440 | 5.1340 |\n",
       "| 6 | Bream | 450 | 26.8 | 29.7 | 34.7 | 13.6024 | 4.9274 |\n",
       "\n"
      ],
      "text/plain": [
       "  Species Weight Length1 Length2 Length3 Height  Width \n",
       "1 Bream   242    23.2    25.4    30.0    11.5200 4.0200\n",
       "2 Bream   290    24.0    26.3    31.2    12.4800 4.3056\n",
       "3 Bream   340    23.9    26.5    31.1    12.3778 4.6961\n",
       "4 Bream   363    26.3    29.0    33.5    12.7300 4.4555\n",
       "5 Bream   430    26.5    29.0    34.0    12.4440 5.1340\n",
       "6 Bream   450    26.8    29.7    34.7    13.6024 4.9274"
      ]
     },
     "metadata": {},
     "output_type": "display_data"
    }
   ],
   "source": [
    "head(data)"
   ]
  },
  {
   "cell_type": "markdown",
   "id": "8a51bf13-33a2-4cfe-9ce3-ccaca3831f6a",
   "metadata": {},
   "source": [
    "1. Знайти найтяжчу рибу"
   ]
  },
  {
   "cell_type": "code",
   "execution_count": 18,
   "id": "72e816e7-347e-41df-981d-310d17b90564",
   "metadata": {},
   "outputs": [
    {
     "data": {
      "text/html": [
       "<table class=\"dataframe\">\n",
       "<caption>A data.frame: 1 x 7</caption>\n",
       "<thead>\n",
       "\t<tr><th></th><th scope=col>Species</th><th scope=col>Weight</th><th scope=col>Length1</th><th scope=col>Length2</th><th scope=col>Length3</th><th scope=col>Height</th><th scope=col>Width</th></tr>\n",
       "\t<tr><th></th><th scope=col>&lt;chr&gt;</th><th scope=col>&lt;dbl&gt;</th><th scope=col>&lt;dbl&gt;</th><th scope=col>&lt;dbl&gt;</th><th scope=col>&lt;dbl&gt;</th><th scope=col>&lt;dbl&gt;</th><th scope=col>&lt;dbl&gt;</th></tr>\n",
       "</thead>\n",
       "<tbody>\n",
       "\t<tr><th scope=row>145</th><td>Pike</td><td>1650</td><td>59</td><td>63.4</td><td>68</td><td>10.812</td><td>7.48</td></tr>\n",
       "</tbody>\n",
       "</table>\n"
      ],
      "text/latex": [
       "A data.frame: 1 x 7\n",
       "\\begin{tabular}{r|lllllll}\n",
       "  & Species & Weight & Length1 & Length2 & Length3 & Height & Width\\\\\n",
       "  & <chr> & <dbl> & <dbl> & <dbl> & <dbl> & <dbl> & <dbl>\\\\\n",
       "\\hline\n",
       "\t145 & Pike & 1650 & 59 & 63.4 & 68 & 10.812 & 7.48\\\\\n",
       "\\end{tabular}\n"
      ],
      "text/markdown": [
       "\n",
       "A data.frame: 1 x 7\n",
       "\n",
       "| <!--/--> | Species &lt;chr&gt; | Weight &lt;dbl&gt; | Length1 &lt;dbl&gt; | Length2 &lt;dbl&gt; | Length3 &lt;dbl&gt; | Height &lt;dbl&gt; | Width &lt;dbl&gt; |\n",
       "|---|---|---|---|---|---|---|---|\n",
       "| 145 | Pike | 1650 | 59 | 63.4 | 68 | 10.812 | 7.48 |\n",
       "\n"
      ],
      "text/plain": [
       "    Species Weight Length1 Length2 Length3 Height Width\n",
       "145 Pike    1650   59      63.4    68      10.812 7.48 "
      ]
     },
     "metadata": {},
     "output_type": "display_data"
    }
   ],
   "source": [
    "max_weight <- max(data$Weight)\n",
    "data[data$Weight == max_weight,]"
   ]
  },
  {
   "cell_type": "markdown",
   "id": "6015d1fe-cbfd-4e07-981d-d08c1bd0080f",
   "metadata": {},
   "source": [
    "![Pike](https://assets.wired2fish.com/uploads/2023/06/big-nothern-pike.webp)"
   ]
  },
  {
   "cell_type": "markdown",
   "id": "6cb163fa-8878-4015-b1ec-f5c83c97cb3a",
   "metadata": {},
   "source": [
    "2. Знайти найлегшу рибу, вага якої не == 0"
   ]
  },
  {
   "cell_type": "code",
   "execution_count": 19,
   "id": "8b1ba122-e273-48a1-98ca-f083b302f2a0",
   "metadata": {},
   "outputs": [
    {
     "data": {
      "text/html": [
       "<table class=\"dataframe\">\n",
       "<caption>A data.frame: 1 x 7</caption>\n",
       "<thead>\n",
       "\t<tr><th></th><th scope=col>Species</th><th scope=col>Weight</th><th scope=col>Length1</th><th scope=col>Length2</th><th scope=col>Length3</th><th scope=col>Height</th><th scope=col>Width</th></tr>\n",
       "\t<tr><th></th><th scope=col>&lt;chr&gt;</th><th scope=col>&lt;dbl&gt;</th><th scope=col>&lt;dbl&gt;</th><th scope=col>&lt;dbl&gt;</th><th scope=col>&lt;dbl&gt;</th><th scope=col>&lt;dbl&gt;</th><th scope=col>&lt;dbl&gt;</th></tr>\n",
       "</thead>\n",
       "<tbody>\n",
       "\t<tr><th scope=row>73</th><td>Perch</td><td>5.9</td><td>7.5</td><td>8.4</td><td>8.8</td><td>2.112</td><td>1.408</td></tr>\n",
       "</tbody>\n",
       "</table>\n"
      ],
      "text/latex": [
       "A data.frame: 1 x 7\n",
       "\\begin{tabular}{r|lllllll}\n",
       "  & Species & Weight & Length1 & Length2 & Length3 & Height & Width\\\\\n",
       "  & <chr> & <dbl> & <dbl> & <dbl> & <dbl> & <dbl> & <dbl>\\\\\n",
       "\\hline\n",
       "\t73 & Perch & 5.9 & 7.5 & 8.4 & 8.8 & 2.112 & 1.408\\\\\n",
       "\\end{tabular}\n"
      ],
      "text/markdown": [
       "\n",
       "A data.frame: 1 x 7\n",
       "\n",
       "| <!--/--> | Species &lt;chr&gt; | Weight &lt;dbl&gt; | Length1 &lt;dbl&gt; | Length2 &lt;dbl&gt; | Length3 &lt;dbl&gt; | Height &lt;dbl&gt; | Width &lt;dbl&gt; |\n",
       "|---|---|---|---|---|---|---|---|\n",
       "| 73 | Perch | 5.9 | 7.5 | 8.4 | 8.8 | 2.112 | 1.408 |\n",
       "\n"
      ],
      "text/plain": [
       "   Species Weight Length1 Length2 Length3 Height Width\n",
       "73 Perch   5.9    7.5     8.4     8.8     2.112  1.408"
      ]
     },
     "metadata": {},
     "output_type": "display_data"
    }
   ],
   "source": [
    "data_no_0 <- data[data$Weight > 0,]\n",
    "min_weight <- min(data_no_0$Weight)\n",
    "data[data$Weight == min_weight,]"
   ]
  },
  {
   "cell_type": "markdown",
   "id": "7402df2f-21ad-4f30-863c-433535127953",
   "metadata": {},
   "source": [
    "![Pike](https://fishingbooker-prod-blog-backup.s3.amazonaws.com/blog/media/2023/12/22200048/1-2.jpeg)"
   ]
  },
  {
   "cell_type": "markdown",
   "id": "c72c9418-745b-4f56-94c6-7ad1b60b37cc",
   "metadata": {},
   "source": [
    "3. Знайти найдовшу рибу"
   ]
  },
  {
   "cell_type": "code",
   "execution_count": 16,
   "id": "64a7bcb1-4e59-49ca-ba57-ef10336efdc2",
   "metadata": {},
   "outputs": [
    {
     "data": {
      "text/html": [
       "<table class=\"dataframe\">\n",
       "<caption>A data.frame: 1 x 7</caption>\n",
       "<thead>\n",
       "\t<tr><th></th><th scope=col>Species</th><th scope=col>Weight</th><th scope=col>Length1</th><th scope=col>Length2</th><th scope=col>Length3</th><th scope=col>Height</th><th scope=col>Width</th></tr>\n",
       "\t<tr><th></th><th scope=col>&lt;chr&gt;</th><th scope=col>&lt;dbl&gt;</th><th scope=col>&lt;dbl&gt;</th><th scope=col>&lt;dbl&gt;</th><th scope=col>&lt;dbl&gt;</th><th scope=col>&lt;dbl&gt;</th><th scope=col>&lt;dbl&gt;</th></tr>\n",
       "</thead>\n",
       "<tbody>\n",
       "\t<tr><th scope=row>127</th><td>Perch</td><td>1000</td><td>40.2</td><td>43.5</td><td>46</td><td>12.604</td><td>8.142</td></tr>\n",
       "</tbody>\n",
       "</table>\n"
      ],
      "text/latex": [
       "A data.frame: 1 x 7\n",
       "\\begin{tabular}{r|lllllll}\n",
       "  & Species & Weight & Length1 & Length2 & Length3 & Height & Width\\\\\n",
       "  & <chr> & <dbl> & <dbl> & <dbl> & <dbl> & <dbl> & <dbl>\\\\\n",
       "\\hline\n",
       "\t127 & Perch & 1000 & 40.2 & 43.5 & 46 & 12.604 & 8.142\\\\\n",
       "\\end{tabular}\n"
      ],
      "text/markdown": [
       "\n",
       "A data.frame: 1 x 7\n",
       "\n",
       "| <!--/--> | Species &lt;chr&gt; | Weight &lt;dbl&gt; | Length1 &lt;dbl&gt; | Length2 &lt;dbl&gt; | Length3 &lt;dbl&gt; | Height &lt;dbl&gt; | Width &lt;dbl&gt; |\n",
       "|---|---|---|---|---|---|---|---|\n",
       "| 127 | Perch | 1000 | 40.2 | 43.5 | 46 | 12.604 | 8.142 |\n",
       "\n"
      ],
      "text/plain": [
       "    Species Weight Length1 Length2 Length3 Height Width\n",
       "127 Perch   1000   40.2    43.5    46      12.604 8.142"
      ]
     },
     "metadata": {},
     "output_type": "display_data"
    }
   ],
   "source": [
    "max_width<- max(data$Width)\n",
    "data[data$Width == max_width,]"
   ]
  },
  {
   "cell_type": "markdown",
   "id": "a26bd623-be2d-48bd-b1db-98c17c16353d",
   "metadata": {},
   "source": [
    "4. Знайти рибу з найбільшою площею тіла :) "
   ]
  },
  {
   "cell_type": "code",
   "execution_count": 17,
   "id": "c2524e2b-d113-42b9-b681-885d2e00f724",
   "metadata": {},
   "outputs": [
    {
     "data": {
      "text/html": [
       "<table class=\"dataframe\">\n",
       "<caption>A data.frame: 1 x 7</caption>\n",
       "<thead>\n",
       "\t<tr><th></th><th scope=col>Species</th><th scope=col>Weight</th><th scope=col>Length1</th><th scope=col>Length2</th><th scope=col>Length3</th><th scope=col>Height</th><th scope=col>Width</th></tr>\n",
       "\t<tr><th></th><th scope=col>&lt;chr&gt;</th><th scope=col>&lt;dbl&gt;</th><th scope=col>&lt;dbl&gt;</th><th scope=col>&lt;dbl&gt;</th><th scope=col>&lt;dbl&gt;</th><th scope=col>&lt;dbl&gt;</th><th scope=col>&lt;dbl&gt;</th></tr>\n",
       "</thead>\n",
       "<tbody>\n",
       "\t<tr><th scope=row>33</th><td>Bream</td><td>925</td><td>36.2</td><td>39.5</td><td>45.3</td><td>18.7542</td><td>6.7497</td></tr>\n",
       "</tbody>\n",
       "</table>\n"
      ],
      "text/latex": [
       "A data.frame: 1 x 7\n",
       "\\begin{tabular}{r|lllllll}\n",
       "  & Species & Weight & Length1 & Length2 & Length3 & Height & Width\\\\\n",
       "  & <chr> & <dbl> & <dbl> & <dbl> & <dbl> & <dbl> & <dbl>\\\\\n",
       "\\hline\n",
       "\t33 & Bream & 925 & 36.2 & 39.5 & 45.3 & 18.7542 & 6.7497\\\\\n",
       "\\end{tabular}\n"
      ],
      "text/markdown": [
       "\n",
       "A data.frame: 1 x 7\n",
       "\n",
       "| <!--/--> | Species &lt;chr&gt; | Weight &lt;dbl&gt; | Length1 &lt;dbl&gt; | Length2 &lt;dbl&gt; | Length3 &lt;dbl&gt; | Height &lt;dbl&gt; | Width &lt;dbl&gt; |\n",
       "|---|---|---|---|---|---|---|---|\n",
       "| 33 | Bream | 925 | 36.2 | 39.5 | 45.3 | 18.7542 | 6.7497 |\n",
       "\n"
      ],
      "text/plain": [
       "   Species Weight Length1 Length2 Length3 Height  Width \n",
       "33 Bream   925    36.2    39.5    45.3    18.7542 6.7497"
      ]
     },
     "metadata": {},
     "output_type": "display_data"
    }
   ],
   "source": [
    "max_s <- max(data$Width*data$Height)\n",
    "data[data$Width*data$Height == max_s,]"
   ]
  },
  {
   "cell_type": "markdown",
   "id": "3a3b1a6c-d475-44d8-9499-deace9d165e7",
   "metadata": {},
   "source": [
    "5. Знайти зображення цих риб і вставити у ноутбук."
   ]
  },
  {
   "cell_type": "markdown",
   "id": "3240478c-2f50-4288-a50a-d3ee96ba7523",
   "metadata": {},
   "source": []
  }
 ],
 "metadata": {
  "kernelspec": {
   "display_name": "R",
   "language": "R",
   "name": "ir"
  },
  "language_info": {
   "codemirror_mode": "r",
   "file_extension": ".r",
   "mimetype": "text/x-r-source",
   "name": "R",
   "pygments_lexer": "r",
   "version": "4.1.3"
  }
 },
 "nbformat": 4,
 "nbformat_minor": 5
}
