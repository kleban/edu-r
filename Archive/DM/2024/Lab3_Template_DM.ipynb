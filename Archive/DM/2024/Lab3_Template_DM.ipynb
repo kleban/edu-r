{
 "cells": [
  {
   "cell_type": "markdown",
   "id": "d695257e-c7dd-44a9-af12-cef60b7d7e12",
   "metadata": {},
   "source": [
    "# Лабораторна робота №3 \"Основи математичного моделювання\""
   ]
  },
  {
   "cell_type": "markdown",
   "id": "8769faee-414c-495a-8d70-3cf524d455a8",
   "metadata": {},
   "source": [
    "з курсу \"DATA-аналіз у маркетингу\", для студентів 2 курсу спеціальності 072 DATA-маркетинг"
   ]
  },
  {
   "cell_type": "markdown",
   "id": "48124904-af1b-433e-b681-b714f5fbd412",
   "metadata": {},
   "source": [
    "---"
   ]
  },
  {
   "cell_type": "markdown",
   "id": "08fbacc2-7c6a-40a6-9375-a8c053f5920f",
   "metadata": {},
   "source": [
    "<div class=\"alert alert-info\">Під час виконання завдання студент/ка зобовязується дотримуватися <a href=\"https://www.oa.edu.ua/publik_information/CODEX.pdf\">Кодексу академічної доброчесності Національного університету. «Острозька академія»</a></div>"
   ]
  },
  {
   "cell_type": "markdown",
   "id": "f951c973-c23e-42f7-bff7-cc46e844d94c",
   "metadata": {},
   "source": [
    "Увага інформація про варіанти завдань розміщена у\n",
    "\n",
    "`Moodle` > \n",
    "`Курс \"Data-аналіз у маркетингу\"` > \n",
    "`3.3. Навчання з учителем: моделі бінарної класифікації та їх метрики` > \n",
    "`Лабораторна робота №3 \"Основи математичного моделювання\" (2024)`"
   ]
  },
  {
   "cell_type": "markdown",
   "id": "3f31824f-9dc9-42e1-b087-74a300eb9e80",
   "metadata": {},
   "source": [
    "📣 Здавати потрібно архів з файлом ноутбука та набором даних, який використаний для завдання 3 у `.zip`-архіві (`Прізвище_Імя_Lab3.zip`). Ноутбук перейменувати на `Прізвище_Імя_Lab3_DM.ipynb`. ПІ студента краще написати латинськими літерами (транскрипція), адже окремі архіватори можуть погано працювати з іменуванням кирилицею."
   ]
  },
  {
   "cell_type": "markdown",
   "id": "c503196a-47c0-4d7b-b0f6-f125296eef9d",
   "metadata": {},
   "source": [
    "---"
   ]
  },
  {
   "cell_type": "markdown",
   "id": "ae299fca-9878-4aba-935a-d4dc93ec8e84",
   "metadata": {},
   "source": [
    "## Варіанти завдань"
   ]
  },
  {
   "cell_type": "markdown",
   "id": "8ceb4217-8f24-4ddf-8659-3e0136cc18fd",
   "metadata": {},
   "source": [
    "| № варіанту | Посилання на набір даних |\n",
    "| --- | ----------- |\n",
    "|1|[Superstore Marketing Campaign ](https://www.kaggle.com/datasets/ahsan81/superstore-marketing-campaign-dataset)|\n",
    "|2|[Walmart Sales](https://www.kaggle.com/datasets/mikhail1681/walmart-sales)|\n",
    "|3|[Student Behaviour](https://www.kaggle.com/datasets/nitishjolly/student-behaviour)|\n",
    "|4|[Marketing Campaign](https://www.kaggle.com/datasets/rodsaldanha/arketing-campaign)|\n",
    "|5|[Rural Credit Dataset](https://www.kaggle.com/datasets/ikjotsingh221/rural-credit-dataset-cleaned)|\n",
    "|6|[Taxi Trip](https://www.kaggle.com/datasets/anandshaw2001/taxi-dataset)|\n",
    "|7|[Customer Churn](https://www.kaggle.com/datasets/anandshaw2001/customer-churn-dataset)|\n",
    "|8|[Shopping Mall Custome](https://www.kaggle.com/datasets/zubairmustafa/shopping-mall-customer-segmentation-data)|\n",
    "|9|[Abalone](https://www.kaggle.com/datasets/alicenkbaytop/abalone-dataset)|\n",
    "|10|[Loan](https://www.kaggle.com/datasets/saramah/loan-data)|\n",
    "|11|[Career](https://www.kaggle.com/datasets/utkarshshrivastav07/career-prediction-dataset)|\n",
    "|12|[Essay](https://www.kaggle.com/datasets/fatihfurkankurt/essay-examination-data-set)|\n",
    "|13|[WildFires](https://www.kaggle.com/datasets/imtkaggleteam/wildfires)|\n",
    "|14|[Marketing](https://www.kaggle.com/datasets/harrimansaragih/dummy-advertising-and-sales-data)|\n",
    "|15|[Top Grossing Movies](https://www.kaggle.com/datasets/akankshaaa013/top-grossing-movies-dataset)|\n",
    "|16|[Video Games](https://www.kaggle.com/datasets/gregorut/videogamesales)|\n"
   ]
  },
  {
   "cell_type": "markdown",
   "id": "bc0cd3a8-e603-45d3-9ba6-20986224d81c",
   "metadata": {},
   "source": [
    "> Увага! Якщо Ваш набір даних не довзоляє пробудувтаи хороші моделі Ви можете його замінити."
   ]
  },
  {
   "cell_type": "markdown",
   "id": "1479097b-0f42-44fa-b86f-3153bbc74f36",
   "metadata": {},
   "source": [
    "## 1. Теоретична частина"
   ]
  },
  {
   "cell_type": "markdown",
   "id": "0de0cc3b-a3e7-4944-9288-5ff60342fbb3",
   "metadata": {},
   "source": [
    "### 1.1. Опис набору даних, визначення цільової змінної та її характеристик."
   ]
  },
  {
   "cell_type": "markdown",
   "id": "3a355fdd-fd4a-45f3-8585-bb31ff38eb56",
   "metadata": {},
   "source": [
    "### 1.2. Опис метрик, щоб використані для оцінки моделей"
   ]
  },
  {
   "cell_type": "markdown",
   "id": "71a2c701-110c-4b2e-aeea-6e0354cebdc6",
   "metadata": {},
   "source": [
    "Якщо Ви працюєте з регресією, то Вашими метриками будуть, наприклад, `R^2`, `MSE`, `RMSE`, `MAPE` та інші. Якщо це класифікація, то `Confusion Matrix`, `Accuracy`, `Specification`, `F1 Scode` та інші."
   ]
  },
  {
   "cell_type": "markdown",
   "id": "7ec2a88e-008b-44a3-9dde-603f247c538f",
   "metadata": {},
   "source": [
    "### 1.3. Опис використаних моделей"
   ]
  },
  {
   "cell_type": "markdown",
   "id": "39aace6d-8b8c-43ec-bdc2-05ba6fb59fe9",
   "metadata": {},
   "source": [
    "Опишіть принципи роботи алгоритмів побудови моделей, що використані у дослідженні.\n",
    "\n",
    "- https://www.analyticsvidhya.com/blog/2021/10/everything-you-need-to-know-about-linear-regression/\n",
    "\n",
    "- https://www.spiceworks.com/tech/artificial-intelligence/articles/what-is-logistic-regression/"
   ]
  },
  {
   "cell_type": "markdown",
   "id": "aa61e520-72b5-4197-9169-d2b60f67bb5c",
   "metadata": {},
   "source": [
    "## 2. Практична частина"
   ]
  },
  {
   "cell_type": "markdown",
   "id": "148a32ba-52a3-4669-b0c6-818133fd654c",
   "metadata": {},
   "source": [
    "### 2.0. Поділ на тестову та тренувальну вибірки"
   ]
  },
  {
   "cell_type": "markdown",
   "id": "9890043e-08c6-416d-8df2-f96d2913a0a2",
   "metadata": {},
   "source": [
    "https://github.com/kleban/r-course-eng/blob/cf888f60e5744bf65cf33be0d0e33c911225841b/033_ETL.%20Train%20Test%20Validation.ipynb"
   ]
  },
  {
   "cell_type": "markdown",
   "id": "f308736a-ccf0-46af-903e-a1525ee143aa",
   "metadata": {},
   "source": [
    "### 2.1. Побудова base line моделі"
   ]
  },
  {
   "cell_type": "markdown",
   "id": "7b0cba42-265d-4707-8816-d9e70243bac4",
   "metadata": {},
   "source": [
    "Це буде найпростіша, можливо лінійна модель, відносно якої будуть здійснені усі наступні порівняння щодо точності. Ви можете побудувати модель `y = a0 + a1*x`, дe `y` - цільова змінна, а `x` - один з параметрів, наприклад, з найвищою кореляцією з цільовою.\n",
    "\n",
    "https://kleban.github.io/ml-r/"
   ]
  },
  {
   "cell_type": "markdown",
   "id": "390e5402-e3a0-4a5b-a9fe-5fee66c67322",
   "metadata": {},
   "source": [
    "### 2.2. Покращення моделі та вибір оптимального набору парметрів."
   ]
  },
  {
   "cell_type": "markdown",
   "id": "9ba7c050-828b-47e1-aaae-6b246c7f55c5",
   "metadata": {},
   "source": [
    "Скористайтеся одним зі способів вибору параметрів моделі або, наприклад, визначте набір найважливіших показників."
   ]
  },
  {
   "cell_type": "markdown",
   "id": "aa0b4f32-8513-4a8d-808d-99d82ce7aef7",
   "metadata": {},
   "source": [
    "### 2.3. Дослідження як способи заміни пропусків впливають на якість моделі"
   ]
  },
  {
   "cell_type": "markdown",
   "id": "32239a03-3bd1-47d7-b9fc-12e7e6e5eb0d",
   "metadata": {},
   "source": [
    "https://kleban.github.io/data-r/43-r-missing-data.html"
   ]
  },
  {
   "cell_type": "markdown",
   "id": "8614bbb8-0e5d-432f-a1f0-da4e72fd0750",
   "metadata": {},
   "source": [
    "### 2.4. Дослідження як способи трансформації впливають на якість моделі"
   ]
  },
  {
   "cell_type": "markdown",
   "id": "4ad48106-d7aa-4b8e-8c69-9916af88f770",
   "metadata": {},
   "source": [
    "Спробувати трансформувати окремі змінні і зробити висновки про їх вплив на точніть. Способи трансформації взяти з лабораторної роботи №2, приміти для змінних, що відібрані у модель як важливі."
   ]
  },
  {
   "cell_type": "markdown",
   "id": "f65c2e2d-1bb2-4174-b0e6-c1baacc2b98c",
   "metadata": {},
   "source": [
    "### 2.5. Дослідження як робота з викидами впливає на якість моделі\n",
    "\n",
    "https://kleban.github.io/data-r/44-r-outliers.html"
   ]
  },
  {
   "cell_type": "markdown",
   "id": "f5f7425a-32eb-4cec-bbdb-c8e6054d3c1c",
   "metadata": {},
   "source": [
    "### 2.6. Дослідження як конструювання ознак впливає на якість моделі.\n",
    "\n",
    "https://github.com/kleban/r-course-eng/blob/main/%5B033%20UA%5D%20%D0%9F%D1%96%D0%B4%D0%B3%D0%BE%D1%82%D0%BE%D0%B2%D0%BA%D0%B0%20%D1%82%D0%B0%20%D0%BE%D1%87%D0%B8%D1%81%D1%82%D0%BA%D0%B0%20%D0%B4%D0%B0%D0%BD%D0%B8%D1%85%20%D1%83%20R.ipynb"
   ]
  },
  {
   "cell_type": "markdown",
   "id": "9a9307c2-2902-4101-8d37-b3fd2384074a",
   "metadata": {},
   "source": [
    "### 2.7. Побудова моделі з урахуванням висновків щодо заміни заміни пропусків, трансформацій та обробки викидів."
   ]
  },
  {
   "cell_type": "markdown",
   "id": "17c54caa-dc57-41eb-bc48-734f631096fc",
   "metadata": {},
   "source": [
    "Побудуйте модель з урахування висновків попередніх параграфів -  на основі очищених, трансформованих та сконструйованих показників, якщо вони показали позитивний вплив на точність моделі на тестовій вибірці."
   ]
  },
  {
   "cell_type": "markdown",
   "id": "f0e470d2-c358-4add-a08d-1bdf1745d243",
   "metadata": {},
   "source": [
    "## Висновки"
   ]
  },
  {
   "cell_type": "markdown",
   "id": "882ad79f-5f13-47a1-9e70-4244d5dfece6",
   "metadata": {},
   "source": [
    "Опишіть висновки, що стосуються отриманих Вами результатів, а не якісь абстракні речі, що порекомендував `ChatGPT`. Напишіть також чого навчилися під час виконання роботи та які навики удосконалили."
   ]
  },
  {
   "cell_type": "markdown",
   "id": "88a99ad4-880c-420a-af18-714e49d051b9",
   "metadata": {},
   "source": [
    "---"
   ]
  },
  {
   "cell_type": "markdown",
   "id": "b0cba05a-d9fb-4da6-a9dd-1121e4ac5935",
   "metadata": {},
   "source": [
    "&copy; 2024 Юрій Клебан"
   ]
  }
 ],
 "metadata": {
  "kernelspec": {
   "display_name": "R",
   "language": "R",
   "name": "ir"
  },
  "language_info": {
   "codemirror_mode": "r",
   "file_extension": ".r",
   "mimetype": "text/x-r-source",
   "name": "R",
   "pygments_lexer": "r",
   "version": "4.1.3"
  }
 },
 "nbformat": 4,
 "nbformat_minor": 5
}
