{
 "cells": [
  {
   "cell_type": "markdown",
   "id": "b42a8288-6b0a-479c-b11e-ca71c44a4591",
   "metadata": {},
   "source": [
    "# Основи роботи з Jupyter Notebook"
   ]
  },
  {
   "cell_type": "markdown",
   "id": "20507ddf-8e73-4e09-98fa-f16549b755f9",
   "metadata": {},
   "source": [
    "---"
   ]
  },
  {
   "cell_type": "markdown",
   "id": "71288696-3f68-4bdb-b382-480e885114ff",
   "metadata": {},
   "source": [
    "## 01. Заголовки"
   ]
  },
  {
   "cell_type": "markdown",
   "id": "88cf52b6-b3bc-4480-9571-29bc52643e98",
   "metadata": {},
   "source": [
    "# Header 1\n",
    "## Header 2\n",
    "### Header 3\n",
    "#### Header 4\n",
    "##### Header 5\n",
    "###### Header 6"
   ]
  },
  {
   "cell_type": "markdown",
   "id": "11251ca5-0445-4076-9fec-3411d680c6a8",
   "metadata": {},
   "source": [
    "## 02. Тексти"
   ]
  },
  {
   "cell_type": "markdown",
   "id": "3103fa28-3685-4ea4-ae9b-ab228e0ece62",
   "metadata": {},
   "source": [
    "У межах виконання проєкту _«WARN. Академічна протидія гібридним загрозам» Лабораторія досліджень гібридних загроз національній безпеці (ННІМВНБ) запрошує до участі у Всеукраїнській студентській науково-практичній конференції з міжнародною участю «Гібридні війни сучасності: стійкість та протидія гібридним загрозам»_."
   ]
  },
  {
   "cell_type": "markdown",
   "id": "621757e2-bf7e-4546-bc6b-f023ab0f367d",
   "metadata": {},
   "source": [
    "Конференція відбудеться `28 березня 2024` року в онлайн-форматі на базі платформи **ZOOM**. Початок роботи – 12.00."
   ]
  },
  {
   "cell_type": "markdown",
   "id": "3a1ac80a-16ba-4afb-9776-3d9ddcc89c5a",
   "metadata": {},
   "source": [
    "## 03. Формули"
   ]
  },
  {
   "cell_type": "markdown",
   "id": "87cb3745-2311-4d55-b867-77f858f3b323",
   "metadata": {},
   "source": [
    "$y = (x^2 + cos(x) + sqrt(x))$"
   ]
  },
  {
   "cell_type": "code",
   "execution_count": null,
   "id": "352cf051-2a5a-4c73-92cc-86e539941afc",
   "metadata": {},
   "outputs": [],
   "source": []
  },
  {
   "cell_type": "code",
   "execution_count": null,
   "id": "d84221a5-1956-471f-aac3-cbc0a7cb0e65",
   "metadata": {},
   "outputs": [],
   "source": []
  }
 ],
 "metadata": {
  "kernelspec": {
   "display_name": "R",
   "language": "R",
   "name": "ir"
  },
  "language_info": {
   "codemirror_mode": "r",
   "file_extension": ".r",
   "mimetype": "text/x-r-source",
   "name": "R",
   "pygments_lexer": "r",
   "version": "4.1.3"
  }
 },
 "nbformat": 4,
 "nbformat_minor": 5
}
