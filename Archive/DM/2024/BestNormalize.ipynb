{
 "cells": [
  {
   "cell_type": "markdown",
   "id": "a8145e04-2f7b-4202-a736-fa4fe130edee",
   "metadata": {},
   "source": [
    "# Best Normalize Install"
   ]
  },
  {
   "cell_type": "code",
   "execution_count": 1,
   "id": "0c8698f6-ea30-47f6-a91f-3a9abebbd88d",
   "metadata": {},
   "outputs": [
    {
     "name": "stderr",
     "output_type": "stream",
     "text": [
      "also installing the dependencies 'RcppParallel', 'lamW', 'rngtools', 'LambertW', 'nortest', 'doParallel', 'doRNG', 'butcher'\n",
      "\n",
      "\n"
     ]
    },
    {
     "name": "stdout",
     "output_type": "stream",
     "text": [
      "\n",
      "  There are binary versions available but the source versions are later:\n",
      "               binary  source needs_compilation\n",
      "lamW            2.1.2   2.2.3              TRUE\n",
      "LambertW      0.6.7-1 0.6.9-1              TRUE\n",
      "butcher         0.3.2   0.3.4             FALSE\n",
      "bestNormalize   1.9.0   1.9.1             FALSE\n",
      "\n",
      "  Binaries will be installed\n",
      "package 'RcppParallel' successfully unpacked and MD5 sums checked\n",
      "package 'lamW' successfully unpacked and MD5 sums checked\n",
      "package 'rngtools' successfully unpacked and MD5 sums checked\n",
      "package 'LambertW' successfully unpacked and MD5 sums checked\n",
      "package 'nortest' successfully unpacked and MD5 sums checked\n",
      "package 'doParallel' successfully unpacked and MD5 sums checked\n",
      "package 'doRNG' successfully unpacked and MD5 sums checked\n",
      "\n",
      "The downloaded binary packages are in\n",
      "\tG:\\Temp\\RtmpyExOg9\\downloaded_packages\n"
     ]
    },
    {
     "name": "stderr",
     "output_type": "stream",
     "text": [
      "installing the source packages 'butcher', 'bestNormalize'\n",
      "\n",
      "\n"
     ]
    }
   ],
   "source": [
    "# install.packages(\"bestNormalize\")"
   ]
  },
  {
   "cell_type": "code",
   "execution_count": 3,
   "id": "8e8510b6-f2b5-4bf2-8899-c39de2706e51",
   "metadata": {},
   "outputs": [],
   "source": [
    "library(bestNormalize)"
   ]
  },
  {
   "cell_type": "code",
   "execution_count": 4,
   "id": "887cf519-9547-4d0c-a698-0552b6f74ee7",
   "metadata": {},
   "outputs": [],
   "source": [
    "x <- rgamma(250, 1, 1)"
   ]
  },
  {
   "cell_type": "code",
   "execution_count": 6,
   "id": "11d6e2f7-49a6-43fe-b3f8-754f785b1e21",
   "metadata": {},
   "outputs": [],
   "source": [
    "BNobject<-bestNormalize(x)"
   ]
  },
  {
   "cell_type": "code",
   "execution_count": 7,
   "id": "73a43f90-3adb-4d9f-bf02-ea75ad96e543",
   "metadata": {},
   "outputs": [
    {
     "data": {
      "image/png": "[encoded data removed]",
      "text/plain": [
       "plot without title"
      ]
     },
     "metadata": {
      "image/png": {
       "height": 420,
       "width": 420
      }
     },
     "output_type": "display_data"
    }
   ],
   "source": [
    "plot(BNobject,leg_loc=\"topleft\")"
   ]
  },
  {
   "cell_type": "code",
   "execution_count": 8,
   "id": "857baa79-6ffb-4376-a3f4-230bcf62399e",
   "metadata": {
    "scrolled": true
   },
   "outputs": [
    {
     "data": {
      "text/plain": [
       "R version 4.1.3 (2022-03-10)\n",
       "Platform: x86_64-w64-mingw32/x64 (64-bit)\n",
       "Running under: Windows 10 x64 (build 22631)\n",
       "\n",
       "Matrix products: default\n",
       "\n",
       "locale:\n",
       "[1] LC_COLLATE=Ukrainian_Ukraine.1251  LC_CTYPE=Ukrainian_Ukraine.1251   \n",
       "[3] LC_MONETARY=Ukrainian_Ukraine.1251 LC_NUMERIC=C                      \n",
       "[5] LC_TIME=Ukrainian_Ukraine.1251    \n",
       "system code page: 1252\n",
       "\n",
       "attached base packages:\n",
       "[1] stats     graphics  grDevices utils     datasets  methods   base     \n",
       "\n",
       "other attached packages:\n",
       "[1] bestNormalize_1.9.1\n",
       "\n",
       "loaded via a namespace (and not attached):\n",
       " [1] pbdZMQ_0.3-11       nortest_1.0-4       tidyselect_1.2.0   \n",
       " [4] repr_1.1.6          purrr_1.0.2         listenv_0.9.0      \n",
       " [7] splines_4.1.3       lattice_0.22-5      vctrs_0.6.5        \n",
       "[10] generics_0.1.3      htmltools_0.5.5     base64enc_0.1-3    \n",
       "[13] utf8_1.2.4          survival_3.5-8      prodlim_2023.08.28 \n",
       "[16] rlang_1.1.3         pillar_1.9.0        glue_1.7.0         \n",
       "[19] rngtools_1.5.2      doRNG_1.8.6         uuid_1.2-0         \n",
       "[22] foreach_1.5.2       lifecycle_1.0.3     lava_1.7.2.1       \n",
       "[25] timeDate_4022.108   future_1.32.0       recipes_1.0.6      \n",
       "[28] codetools_0.2-19    evaluate_0.21       fastmap_1.1.1      \n",
       "[31] doParallel_1.0.17   parallel_4.1.3      class_7.3-22       \n",
       "[34] fansi_1.0.6         Rcpp_1.0.12         IRdisplay_1.1      \n",
       "[37] IRkernel_1.3.2      ipred_0.9-14        jsonlite_1.8.8     \n",
       "[40] parallelly_1.37.1   digest_0.6.35       dplyr_1.1.4        \n",
       "[43] grid_4.1.3          hardhat_1.3.0       cli_3.6.2          \n",
       "[46] tools_4.1.3         magrittr_2.0.3      tibble_3.2.1       \n",
       "[49] crayon_1.5.2        future.apply_1.11.0 pkgconfig_2.0.3    \n",
       "[52] MASS_7.3-58.3       Matrix_1.6-5        data.table_1.15.2  \n",
       "[55] timechange_0.3.0    lubridate_1.9.3     gower_1.0.1        \n",
       "[58] butcher_0.3.4       iterators_1.0.14    R6_2.5.1           \n",
       "[61] globals_0.16.2      rpart_4.1.23        nnet_7.3-19        \n",
       "[64] compiler_4.1.3     "
      ]
     },
     "metadata": {},
     "output_type": "display_data"
    }
   ],
   "source": [
    "sessionInfo()"
   ]
  }
 ],
 "metadata": {
  "kernelspec": {
   "display_name": "R",
   "language": "R",
   "name": "ir"
  },
  "language_info": {
   "codemirror_mode": "r",
   "file_extension": ".r",
   "mimetype": "text/x-r-source",
   "name": "R",
   "pygments_lexer": "r",
   "version": "4.1.3"
  }
 },
 "nbformat": 4,
 "nbformat_minor": 5
}
