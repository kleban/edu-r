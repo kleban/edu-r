{
 "cells": [
  {
   "cell_type": "markdown",
   "id": "c38828ae-e49a-4b8d-b562-be6ec0c6dd8d",
   "metadata": {},
   "source": [
    "# Основи маніпулювання даними з `dplyr`"
   ]
  },
  {
   "cell_type": "markdown",
   "id": "7f8e2c75-37bc-4ae2-a0cc-45651e2912a2",
   "metadata": {},
   "source": [
    "## 1. Інсталяція та огляд пакету `dplyr`"
   ]
  },
  {
   "cell_type": "code",
   "execution_count": 2,
   "id": "22b4365a-ab4b-4bc2-96df-74f525e5bacc",
   "metadata": {},
   "outputs": [],
   "source": [
    "# install.packages(\"dplyr\")"
   ]
  },
  {
   "cell_type": "code",
   "execution_count": 2,
   "id": "887cbab7-870d-4430-9771-bf36c3f7df42",
   "metadata": {},
   "outputs": [],
   "source": [
    "library(dplyr)"
   ]
  },
  {
   "cell_type": "markdown",
   "id": "781fa526-e749-4186-b3ae-29e669236897",
   "metadata": {},
   "source": [
    "## Завантаження набору даних"
   ]
  },
  {
   "cell_type": "code",
   "execution_count": 7,
   "id": "c8742dd2-b84d-4e87-901a-05243f929106",
   "metadata": {},
   "outputs": [],
   "source": [
    "# install.packages(\"gapminder\")"
   ]
  },
  {
   "cell_type": "code",
   "execution_count": 3,
   "id": "669c611c-bbe5-4701-8660-af40e59fcdc7",
   "metadata": {},
   "outputs": [],
   "source": [
    "library(gapminder)"
   ]
  },
  {
   "cell_type": "code",
   "execution_count": 4,
   "id": "f12e1c86-8728-44dd-a81a-c78afbb035f1",
   "metadata": {},
   "outputs": [
    {
     "data": {
      "text/html": [
       "<table class=\"dataframe\">\n",
       "<caption>A tibble: 6 x 6</caption>\n",
       "<thead>\n",
       "\t<tr><th scope=col>country</th><th scope=col>continent</th><th scope=col>year</th><th scope=col>lifeExp</th><th scope=col>pop</th><th scope=col>gdpPercap</th></tr>\n",
       "\t<tr><th scope=col>&lt;fct&gt;</th><th scope=col>&lt;fct&gt;</th><th scope=col>&lt;int&gt;</th><th scope=col>&lt;dbl&gt;</th><th scope=col>&lt;int&gt;</th><th scope=col>&lt;dbl&gt;</th></tr>\n",
       "</thead>\n",
       "<tbody>\n",
       "\t<tr><td>Afghanistan</td><td>Asia</td><td>1952</td><td>28.801</td><td> 8425333</td><td>779.4453</td></tr>\n",
       "\t<tr><td>Afghanistan</td><td>Asia</td><td>1957</td><td>30.332</td><td> 9240934</td><td>820.8530</td></tr>\n",
       "\t<tr><td>Afghanistan</td><td>Asia</td><td>1962</td><td>31.997</td><td>10267083</td><td>853.1007</td></tr>\n",
       "\t<tr><td>Afghanistan</td><td>Asia</td><td>1967</td><td>34.020</td><td>11537966</td><td>836.1971</td></tr>\n",
       "\t<tr><td>Afghanistan</td><td>Asia</td><td>1972</td><td>36.088</td><td>13079460</td><td>739.9811</td></tr>\n",
       "\t<tr><td>Afghanistan</td><td>Asia</td><td>1977</td><td>38.438</td><td>14880372</td><td>786.1134</td></tr>\n",
       "</tbody>\n",
       "</table>\n"
      ],
      "text/latex": [
       "A tibble: 6 x 6\n",
       "\\begin{tabular}{llllll}\n",
       " country & continent & year & lifeExp & pop & gdpPercap\\\\\n",
       " <fct> & <fct> & <int> & <dbl> & <int> & <dbl>\\\\\n",
       "\\hline\n",
       "\t Afghanistan & Asia & 1952 & 28.801 &  8425333 & 779.4453\\\\\n",
       "\t Afghanistan & Asia & 1957 & 30.332 &  9240934 & 820.8530\\\\\n",
       "\t Afghanistan & Asia & 1962 & 31.997 & 10267083 & 853.1007\\\\\n",
       "\t Afghanistan & Asia & 1967 & 34.020 & 11537966 & 836.1971\\\\\n",
       "\t Afghanistan & Asia & 1972 & 36.088 & 13079460 & 739.9811\\\\\n",
       "\t Afghanistan & Asia & 1977 & 38.438 & 14880372 & 786.1134\\\\\n",
       "\\end{tabular}\n"
      ],
      "text/markdown": [
       "\n",
       "A tibble: 6 x 6\n",
       "\n",
       "| country &lt;fct&gt; | continent &lt;fct&gt; | year &lt;int&gt; | lifeExp &lt;dbl&gt; | pop &lt;int&gt; | gdpPercap &lt;dbl&gt; |\n",
       "|---|---|---|---|---|---|\n",
       "| Afghanistan | Asia | 1952 | 28.801 |  8425333 | 779.4453 |\n",
       "| Afghanistan | Asia | 1957 | 30.332 |  9240934 | 820.8530 |\n",
       "| Afghanistan | Asia | 1962 | 31.997 | 10267083 | 853.1007 |\n",
       "| Afghanistan | Asia | 1967 | 34.020 | 11537966 | 836.1971 |\n",
       "| Afghanistan | Asia | 1972 | 36.088 | 13079460 | 739.9811 |\n",
       "| Afghanistan | Asia | 1977 | 38.438 | 14880372 | 786.1134 |\n",
       "\n"
      ],
      "text/plain": [
       "  country     continent year lifeExp pop      gdpPercap\n",
       "1 Afghanistan Asia      1952 28.801   8425333 779.4453 \n",
       "2 Afghanistan Asia      1957 30.332   9240934 820.8530 \n",
       "3 Afghanistan Asia      1962 31.997  10267083 853.1007 \n",
       "4 Afghanistan Asia      1967 34.020  11537966 836.1971 \n",
       "5 Afghanistan Asia      1972 36.088  13079460 739.9811 \n",
       "6 Afghanistan Asia      1977 38.438  14880372 786.1134 "
      ]
     },
     "metadata": {},
     "output_type": "display_data"
    }
   ],
   "source": [
    "head(gapminder)"
   ]
  },
  {
   "cell_type": "code",
   "execution_count": 13,
   "id": "26d9bfaf-c646-45bb-8628-c343cc87f417",
   "metadata": {},
   "outputs": [
    {
     "data": {
      "text/html": [
       "\n",
       "<table width=\"100%\" summary=\"page for gapminder {gapminder}\"><tr><td>gapminder {gapminder}</td><td style=\"text-align: right;\">R Documentation</td></tr></table>\n",
       "\n",
       "<h2>Gapminder data</h2>\n",
       "\n",
       "<h3>Description</h3>\n",
       "\n",
       "<p>Excerpt of the Gapminder data on life expectancy, GDP per capita, and\n",
       "population by country.\n",
       "</p>\n",
       "\n",
       "\n",
       "<h3>Usage</h3>\n",
       "\n",
       "<pre>\n",
       "gapminder\n",
       "</pre>\n",
       "\n",
       "\n",
       "<h3>Format</h3>\n",
       "\n",
       "<p>The main data frame <code>gapminder</code> has 1704 rows and 6 variables:\n",
       "</p>\n",
       "\n",
       "<dl>\n",
       "<dt>country</dt><dd><p>factor with 142 levels</p>\n",
       "</dd>\n",
       "<dt>continent</dt><dd><p>factor with 5 levels</p>\n",
       "</dd>\n",
       "<dt>year</dt><dd><p>ranges from 1952 to 2007 in increments of 5 years</p>\n",
       "</dd>\n",
       "<dt>lifeExp</dt><dd><p>life expectancy at birth, in years</p>\n",
       "</dd>\n",
       "<dt>pop</dt><dd><p>population</p>\n",
       "</dd>\n",
       "<dt>gdpPercap</dt><dd><p>GDP per capita (US$, inflation-adjusted)</p>\n",
       "</dd>\n",
       "</dl>\n",
       "\n",
       "<p>The supplemental data frame <code>gapminder_unfiltered</code> was not\n",
       "filtered on <code>year</code> or for complete data and has 3313 rows.\n",
       "</p>\n",
       "\n",
       "\n",
       "<h3>Source</h3>\n",
       "\n",
       "<p><a href=\"https://www.gapminder.org/data/\">https://www.gapminder.org/data/</a>\n",
       "</p>\n",
       "\n",
       "\n",
       "<h3>See Also</h3>\n",
       "\n",
       "<p><code>country_colors</code> for a nice color scheme for the countries\n",
       "</p>\n",
       "\n",
       "\n",
       "<h3>Examples</h3>\n",
       "\n",
       "<pre>\n",
       "str(gapminder)\n",
       "head(gapminder)\n",
       "summary(gapminder)\n",
       "table(gapminder$continent)\n",
       "aggregate(lifeExp ~ continent, gapminder, median)\n",
       "plot(lifeExp ~ year, gapminder, subset = country == \"Cambodia\", type = \"b\")\n",
       "plot(lifeExp ~ gdpPercap, gapminder, subset = year == 2007, log = \"x\")\n",
       "\n",
       "if (require(\"dplyr\")) {\n",
       "  gapminder %&gt;%\n",
       "    filter(year == 2007) %&gt;%\n",
       "    group_by(continent) %&gt;%\n",
       "    summarise(lifeExp = median(lifeExp))\n",
       "\n",
       "  # how many unique countries does the data contain, by continent?\n",
       "  gapminder %&gt;%\n",
       "    group_by(continent) %&gt;%\n",
       "    summarize(n_obs = n(), n_countries = n_distinct(country))\n",
       "\n",
       "  # by continent, which country experienced the sharpest 5-year drop in\n",
       "  # life expectancy and what was the drop?\n",
       "  gapminder %&gt;%\n",
       "    group_by(continent, country) %&gt;%\n",
       "    select(country, year, continent, lifeExp) %&gt;%\n",
       "    mutate(le_delta = lifeExp - lag(lifeExp)) %&gt;%\n",
       "    summarize(worst_le_delta = min(le_delta, na.rm = TRUE)) %&gt;%\n",
       "    filter(min_rank(worst_le_delta) &lt; 2) %&gt;%\n",
       "    arrange(worst_le_delta)\n",
       "}\n",
       "\n",
       "</pre>\n",
       "\n",
       "<hr /><div style=\"text-align: center;\">[Package <em>gapminder</em> version 1.0.0 ]</div>"
      ],
      "text/latex": [
       "\\inputencoding{utf8}\n",
       "\\HeaderA{gapminder}{Gapminder data}{gapminder}\n",
       "\\keyword{datasets}{gapminder}\n",
       "%\n",
       "\\begin{Description}\\relax\n",
       "Excerpt of the Gapminder data on life expectancy, GDP per capita, and\n",
       "population by country.\n",
       "\\end{Description}\n",
       "%\n",
       "\\begin{Usage}\n",
       "\\begin{verbatim}\n",
       "gapminder\n",
       "\\end{verbatim}\n",
       "\\end{Usage}\n",
       "%\n",
       "\\begin{Format}\n",
       "The main data frame \\code{gapminder} has 1704 rows and 6 variables:\n",
       "\\begin{description}\n",
       "\n",
       "\\item[country] factor with 142 levels\n",
       "\\item[continent] factor with 5 levels\n",
       "\\item[year] ranges from 1952 to 2007 in increments of 5 years\n",
       "\\item[lifeExp] life expectancy at birth, in years\n",
       "\\item[pop] population\n",
       "\\item[gdpPercap] GDP per capita (US\\$, inflation-adjusted)\n",
       "\n",
       "\\end{description}\n",
       "\n",
       "\n",
       "The supplemental data frame \\code{\\LinkA{gapminder\\_unfiltered}{gapminder.Rul.unfiltered}} was not\n",
       "filtered on \\code{year} or for complete data and has 3313 rows.\n",
       "\\end{Format}\n",
       "%\n",
       "\\begin{Source}\\relax\n",
       "\\url{https://www.gapminder.org/data/}\n",
       "\\end{Source}\n",
       "%\n",
       "\\begin{SeeAlso}\\relax\n",
       "\\code{\\LinkA{country\\_colors}{country.Rul.colors}} for a nice color scheme for the countries\n",
       "\\end{SeeAlso}\n",
       "%\n",
       "\\begin{Examples}\n",
       "\\begin{ExampleCode}\n",
       "str(gapminder)\n",
       "head(gapminder)\n",
       "summary(gapminder)\n",
       "table(gapminder$continent)\n",
       "aggregate(lifeExp ~ continent, gapminder, median)\n",
       "plot(lifeExp ~ year, gapminder, subset = country == \"Cambodia\", type = \"b\")\n",
       "plot(lifeExp ~ gdpPercap, gapminder, subset = year == 2007, log = \"x\")\n",
       "\n",
       "if (require(\"dplyr\")) {\n",
       "  gapminder %>%\n",
       "    filter(year == 2007) %>%\n",
       "    group_by(continent) %>%\n",
       "    summarise(lifeExp = median(lifeExp))\n",
       "\n",
       "  # how many unique countries does the data contain, by continent?\n",
       "  gapminder %>%\n",
       "    group_by(continent) %>%\n",
       "    summarize(n_obs = n(), n_countries = n_distinct(country))\n",
       "\n",
       "  # by continent, which country experienced the sharpest 5-year drop in\n",
       "  # life expectancy and what was the drop?\n",
       "  gapminder %>%\n",
       "    group_by(continent, country) %>%\n",
       "    select(country, year, continent, lifeExp) %>%\n",
       "    mutate(le_delta = lifeExp - lag(lifeExp)) %>%\n",
       "    summarize(worst_le_delta = min(le_delta, na.rm = TRUE)) %>%\n",
       "    filter(min_rank(worst_le_delta) < 2) %>%\n",
       "    arrange(worst_le_delta)\n",
       "}\n",
       "\n",
       "\\end{ExampleCode}\n",
       "\\end{Examples}"
      ],
      "text/plain": [
       "gapminder              package:gapminder               R Documentation\n",
       "\n",
       "_\bG_\ba_\bp_\bm_\bi_\bn_\bd_\be_\br _\bd_\ba_\bt_\ba\n",
       "\n",
       "_\bD_\be_\bs_\bc_\br_\bi_\bp_\bt_\bi_\bo_\bn:\n",
       "\n",
       "     Excerpt of the Gapminder data on life expectancy, GDP per capita,\n",
       "     and population by country.\n",
       "\n",
       "_\bU_\bs_\ba_\bg_\be:\n",
       "\n",
       "     gapminder\n",
       "     \n",
       "_\bF_\bo_\br_\bm_\ba_\bt:\n",
       "\n",
       "     The main data frame 'gapminder' has 1704 rows and 6 variables:\n",
       "\n",
       "     country factor with 142 levels\n",
       "\n",
       "     continent factor with 5 levels\n",
       "\n",
       "     year ranges from 1952 to 2007 in increments of 5 years\n",
       "\n",
       "     lifeExp life expectancy at birth, in years\n",
       "\n",
       "     pop population\n",
       "\n",
       "     gdpPercap GDP per capita (US$, inflation-adjusted)\n",
       "\n",
       "     The supplemental data frame 'gapminder_unfiltered' was not\n",
       "     filtered on 'year' or for complete data and has 3313 rows.\n",
       "\n",
       "_\bS_\bo_\bu_\br_\bc_\be:\n",
       "\n",
       "     <URL: https://www.gapminder.org/data/>\n",
       "\n",
       "_\bS_\be_\be _\bA_\bl_\bs_\bo:\n",
       "\n",
       "     'country_colors' for a nice color scheme for the countries\n",
       "\n",
       "_\bE_\bx_\ba_\bm_\bp_\bl_\be_\bs:\n",
       "\n",
       "     str(gapminder)\n",
       "     head(gapminder)\n",
       "     summary(gapminder)\n",
       "     table(gapminder$continent)\n",
       "     aggregate(lifeExp ~ continent, gapminder, median)\n",
       "     plot(lifeExp ~ year, gapminder, subset = country == \"Cambodia\", type = \"b\")\n",
       "     plot(lifeExp ~ gdpPercap, gapminder, subset = year == 2007, log = \"x\")\n",
       "     \n",
       "     if (require(\"dplyr\")) {\n",
       "       gapminder %>%\n",
       "         filter(year == 2007) %>%\n",
       "         group_by(continent) %>%\n",
       "         summarise(lifeExp = median(lifeExp))\n",
       "     \n",
       "       # how many unique countries does the data contain, by continent?\n",
       "       gapminder %>%\n",
       "         group_by(continent) %>%\n",
       "         summarize(n_obs = n(), n_countries = n_distinct(country))\n",
       "     \n",
       "       # by continent, which country experienced the sharpest 5-year drop in\n",
       "       # life expectancy and what was the drop?\n",
       "       gapminder %>%\n",
       "         group_by(continent, country) %>%\n",
       "         select(country, year, continent, lifeExp) %>%\n",
       "         mutate(le_delta = lifeExp - lag(lifeExp)) %>%\n",
       "         summarize(worst_le_delta = min(le_delta, na.rm = TRUE)) %>%\n",
       "         filter(min_rank(worst_le_delta) < 2) %>%\n",
       "         arrange(worst_le_delta)\n",
       "     }\n",
       "     "
      ]
     },
     "metadata": {},
     "output_type": "display_data"
    }
   ],
   "source": [
    "?gapminder"
   ]
  },
  {
   "cell_type": "code",
   "execution_count": 5,
   "id": "e5331213-92be-4dd7-9619-e3030af0705b",
   "metadata": {},
   "outputs": [
    {
     "name": "stdout",
     "output_type": "stream",
     "text": [
      "tibble [1,704 x 6] (S3: tbl_df/tbl/data.frame)\n",
      " $ country  : Factor w/ 142 levels \"Afghanistan\",..: 1 1 1 1 1 1 1 1 1 1 ...\n",
      " $ continent: Factor w/ 5 levels \"Africa\",\"Americas\",..: 3 3 3 3 3 3 3 3 3 3 ...\n",
      " $ year     : int [1:1704] 1952 1957 1962 1967 1972 1977 1982 1987 1992 1997 ...\n",
      " $ lifeExp  : num [1:1704] 28.8 30.3 32 34 36.1 ...\n",
      " $ pop      : int [1:1704] 8425333 9240934 10267083 11537966 13079460 14880372 12881816 13867957 16317921 22227415 ...\n",
      " $ gdpPercap: num [1:1704] 779 821 853 836 740 ...\n"
     ]
    }
   ],
   "source": [
    "str(gapminder)"
   ]
  },
  {
   "cell_type": "code",
   "execution_count": 6,
   "id": "501f1c19-f73b-4fb8-9e1d-8d6a2890662b",
   "metadata": {},
   "outputs": [
    {
     "name": "stdout",
     "output_type": "stream",
     "text": [
      "Rows: 1,704\n",
      "Columns: 6\n",
      "$ country   \u001b[3m\u001b[90m<fct>\u001b[39m\u001b[23m \"Afghanistan\", \"Afghanistan\", \"Afghanistan\", \"Afghanistan\", ~\n",
      "$ continent \u001b[3m\u001b[90m<fct>\u001b[39m\u001b[23m Asia, Asia, Asia, Asia, Asia, Asia, Asia, Asia, Asia, Asia, ~\n",
      "$ year      \u001b[3m\u001b[90m<int>\u001b[39m\u001b[23m 1952, 1957, 1962, 1967, 1972, 1977, 1982, 1987, 1992, 1997, ~\n",
      "$ lifeExp   \u001b[3m\u001b[90m<dbl>\u001b[39m\u001b[23m 28.801, 30.332, 31.997, 34.020, 36.088, 38.438, 39.854, 40.8~\n",
      "$ pop       \u001b[3m\u001b[90m<int>\u001b[39m\u001b[23m 8425333, 9240934, 10267083, 11537966, 13079460, 14880372, 12~\n",
      "$ gdpPercap \u001b[3m\u001b[90m<dbl>\u001b[39m\u001b[23m 779.4453, 820.8530, 853.1007, 836.1971, 739.9811, 786.1134, ~\n"
     ]
    }
   ],
   "source": [
    "glimpse(gapminder)"
   ]
  },
  {
   "cell_type": "code",
   "execution_count": 7,
   "id": "e3b1907a-9660-407c-b5e6-2c01db0ac4bc",
   "metadata": {},
   "outputs": [
    {
     "data": {
      "text/plain": [
       "        country        continent        year         lifeExp     \n",
       " Afghanistan:  12   Africa  :624   Min.   :1952   Min.   :23.60  \n",
       " Albania    :  12   Americas:300   1st Qu.:1966   1st Qu.:48.20  \n",
       " Algeria    :  12   Asia    :396   Median :1980   Median :60.71  \n",
       " Angola     :  12   Europe  :360   Mean   :1980   Mean   :59.47  \n",
       " Argentina  :  12   Oceania : 24   3rd Qu.:1993   3rd Qu.:70.85  \n",
       " Australia  :  12                  Max.   :2007   Max.   :82.60  \n",
       " (Other)    :1632                                                \n",
       "      pop              gdpPercap       \n",
       " Min.   :6.001e+04   Min.   :   241.2  \n",
       " 1st Qu.:2.794e+06   1st Qu.:  1202.1  \n",
       " Median :7.024e+06   Median :  3531.8  \n",
       " Mean   :2.960e+07   Mean   :  7215.3  \n",
       " 3rd Qu.:1.959e+07   3rd Qu.:  9325.5  \n",
       " Max.   :1.319e+09   Max.   :113523.1  \n",
       "                                       "
      ]
     },
     "metadata": {},
     "output_type": "display_data"
    }
   ],
   "source": [
    "summary(gapminder)"
   ]
  },
  {
   "cell_type": "markdown",
   "id": "417e2d8c-9fb1-408f-924f-e6163b217b8e",
   "metadata": {},
   "source": [
    "## 3. `filter()`"
   ]
  },
  {
   "cell_type": "code",
   "execution_count": 8,
   "id": "7f2d1479-79a1-4cdc-b3ab-1f090ae78adb",
   "metadata": {},
   "outputs": [
    {
     "data": {
      "text/html": [
       "<table class=\"dataframe\">\n",
       "<caption>A tibble: 12 x 6</caption>\n",
       "<thead>\n",
       "\t<tr><th scope=col>country</th><th scope=col>continent</th><th scope=col>year</th><th scope=col>lifeExp</th><th scope=col>pop</th><th scope=col>gdpPercap</th></tr>\n",
       "\t<tr><th scope=col>&lt;fct&gt;</th><th scope=col>&lt;fct&gt;</th><th scope=col>&lt;int&gt;</th><th scope=col>&lt;dbl&gt;</th><th scope=col>&lt;int&gt;</th><th scope=col>&lt;dbl&gt;</th></tr>\n",
       "</thead>\n",
       "<tbody>\n",
       "\t<tr><td>Canada</td><td>Americas</td><td>1952</td><td>68.750</td><td>14785584</td><td>11367.16</td></tr>\n",
       "\t<tr><td>Canada</td><td>Americas</td><td>1957</td><td>69.960</td><td>17010154</td><td>12489.95</td></tr>\n",
       "\t<tr><td>Canada</td><td>Americas</td><td>1962</td><td>71.300</td><td>18985849</td><td>13462.49</td></tr>\n",
       "\t<tr><td>Canada</td><td>Americas</td><td>1967</td><td>72.130</td><td>20819767</td><td>16076.59</td></tr>\n",
       "\t<tr><td>Canada</td><td>Americas</td><td>1972</td><td>72.880</td><td>22284500</td><td>18970.57</td></tr>\n",
       "\t<tr><td>Canada</td><td>Americas</td><td>1977</td><td>74.210</td><td>23796400</td><td>22090.88</td></tr>\n",
       "\t<tr><td>Canada</td><td>Americas</td><td>1982</td><td>75.760</td><td>25201900</td><td>22898.79</td></tr>\n",
       "\t<tr><td>Canada</td><td>Americas</td><td>1987</td><td>76.860</td><td>26549700</td><td>26626.52</td></tr>\n",
       "\t<tr><td>Canada</td><td>Americas</td><td>1992</td><td>77.950</td><td>28523502</td><td>26342.88</td></tr>\n",
       "\t<tr><td>Canada</td><td>Americas</td><td>1997</td><td>78.610</td><td>30305843</td><td>28954.93</td></tr>\n",
       "\t<tr><td>Canada</td><td>Americas</td><td>2002</td><td>79.770</td><td>31902268</td><td>33328.97</td></tr>\n",
       "\t<tr><td>Canada</td><td>Americas</td><td>2007</td><td>80.653</td><td>33390141</td><td>36319.24</td></tr>\n",
       "</tbody>\n",
       "</table>\n"
      ],
      "text/latex": [
       "A tibble: 12 x 6\n",
       "\\begin{tabular}{llllll}\n",
       " country & continent & year & lifeExp & pop & gdpPercap\\\\\n",
       " <fct> & <fct> & <int> & <dbl> & <int> & <dbl>\\\\\n",
       "\\hline\n",
       "\t Canada & Americas & 1952 & 68.750 & 14785584 & 11367.16\\\\\n",
       "\t Canada & Americas & 1957 & 69.960 & 17010154 & 12489.95\\\\\n",
       "\t Canada & Americas & 1962 & 71.300 & 18985849 & 13462.49\\\\\n",
       "\t Canada & Americas & 1967 & 72.130 & 20819767 & 16076.59\\\\\n",
       "\t Canada & Americas & 1972 & 72.880 & 22284500 & 18970.57\\\\\n",
       "\t Canada & Americas & 1977 & 74.210 & 23796400 & 22090.88\\\\\n",
       "\t Canada & Americas & 1982 & 75.760 & 25201900 & 22898.79\\\\\n",
       "\t Canada & Americas & 1987 & 76.860 & 26549700 & 26626.52\\\\\n",
       "\t Canada & Americas & 1992 & 77.950 & 28523502 & 26342.88\\\\\n",
       "\t Canada & Americas & 1997 & 78.610 & 30305843 & 28954.93\\\\\n",
       "\t Canada & Americas & 2002 & 79.770 & 31902268 & 33328.97\\\\\n",
       "\t Canada & Americas & 2007 & 80.653 & 33390141 & 36319.24\\\\\n",
       "\\end{tabular}\n"
      ],
      "text/markdown": [
       "\n",
       "A tibble: 12 x 6\n",
       "\n",
       "| country &lt;fct&gt; | continent &lt;fct&gt; | year &lt;int&gt; | lifeExp &lt;dbl&gt; | pop &lt;int&gt; | gdpPercap &lt;dbl&gt; |\n",
       "|---|---|---|---|---|---|\n",
       "| Canada | Americas | 1952 | 68.750 | 14785584 | 11367.16 |\n",
       "| Canada | Americas | 1957 | 69.960 | 17010154 | 12489.95 |\n",
       "| Canada | Americas | 1962 | 71.300 | 18985849 | 13462.49 |\n",
       "| Canada | Americas | 1967 | 72.130 | 20819767 | 16076.59 |\n",
       "| Canada | Americas | 1972 | 72.880 | 22284500 | 18970.57 |\n",
       "| Canada | Americas | 1977 | 74.210 | 23796400 | 22090.88 |\n",
       "| Canada | Americas | 1982 | 75.760 | 25201900 | 22898.79 |\n",
       "| Canada | Americas | 1987 | 76.860 | 26549700 | 26626.52 |\n",
       "| Canada | Americas | 1992 | 77.950 | 28523502 | 26342.88 |\n",
       "| Canada | Americas | 1997 | 78.610 | 30305843 | 28954.93 |\n",
       "| Canada | Americas | 2002 | 79.770 | 31902268 | 33328.97 |\n",
       "| Canada | Americas | 2007 | 80.653 | 33390141 | 36319.24 |\n",
       "\n"
      ],
      "text/plain": [
       "   country continent year lifeExp pop      gdpPercap\n",
       "1  Canada  Americas  1952 68.750  14785584 11367.16 \n",
       "2  Canada  Americas  1957 69.960  17010154 12489.95 \n",
       "3  Canada  Americas  1962 71.300  18985849 13462.49 \n",
       "4  Canada  Americas  1967 72.130  20819767 16076.59 \n",
       "5  Canada  Americas  1972 72.880  22284500 18970.57 \n",
       "6  Canada  Americas  1977 74.210  23796400 22090.88 \n",
       "7  Canada  Americas  1982 75.760  25201900 22898.79 \n",
       "8  Canada  Americas  1987 76.860  26549700 26626.52 \n",
       "9  Canada  Americas  1992 77.950  28523502 26342.88 \n",
       "10 Canada  Americas  1997 78.610  30305843 28954.93 \n",
       "11 Canada  Americas  2002 79.770  31902268 33328.97 \n",
       "12 Canada  Americas  2007 80.653  33390141 36319.24 "
      ]
     },
     "metadata": {},
     "output_type": "display_data"
    }
   ],
   "source": [
    "canada <- filter(gapminder, country == \"Canada\")\n",
    "canada"
   ]
  },
  {
   "cell_type": "code",
   "execution_count": 9,
   "id": "53f493be-9130-4c7a-9321-9e06e3305382",
   "metadata": {},
   "outputs": [
    {
     "data": {
      "text/html": [
       "<table class=\"dataframe\">\n",
       "<caption>A tibble: 6 x 6</caption>\n",
       "<thead>\n",
       "\t<tr><th scope=col>country</th><th scope=col>continent</th><th scope=col>year</th><th scope=col>lifeExp</th><th scope=col>pop</th><th scope=col>gdpPercap</th></tr>\n",
       "\t<tr><th scope=col>&lt;fct&gt;</th><th scope=col>&lt;fct&gt;</th><th scope=col>&lt;int&gt;</th><th scope=col>&lt;dbl&gt;</th><th scope=col>&lt;int&gt;</th><th scope=col>&lt;dbl&gt;</th></tr>\n",
       "</thead>\n",
       "<tbody>\n",
       "\t<tr><td>Afghanistan </td><td>Asia  </td><td>1952</td><td>28.801</td><td>8425333</td><td> 779.4453</td></tr>\n",
       "\t<tr><td>Afghanistan </td><td>Asia  </td><td>1957</td><td>30.332</td><td>9240934</td><td> 820.8530</td></tr>\n",
       "\t<tr><td>Angola      </td><td>Africa</td><td>1952</td><td>30.015</td><td>4232095</td><td>3520.6103</td></tr>\n",
       "\t<tr><td>Gambia      </td><td>Africa</td><td>1952</td><td>30.000</td><td> 284320</td><td> 485.2307</td></tr>\n",
       "\t<tr><td>Rwanda      </td><td>Africa</td><td>1992</td><td>23.599</td><td>7290203</td><td> 737.0686</td></tr>\n",
       "\t<tr><td>Sierra Leone</td><td>Africa</td><td>1952</td><td>30.331</td><td>2143249</td><td> 879.7877</td></tr>\n",
       "</tbody>\n",
       "</table>\n"
      ],
      "text/latex": [
       "A tibble: 6 x 6\n",
       "\\begin{tabular}{llllll}\n",
       " country & continent & year & lifeExp & pop & gdpPercap\\\\\n",
       " <fct> & <fct> & <int> & <dbl> & <int> & <dbl>\\\\\n",
       "\\hline\n",
       "\t Afghanistan  & Asia   & 1952 & 28.801 & 8425333 &  779.4453\\\\\n",
       "\t Afghanistan  & Asia   & 1957 & 30.332 & 9240934 &  820.8530\\\\\n",
       "\t Angola       & Africa & 1952 & 30.015 & 4232095 & 3520.6103\\\\\n",
       "\t Gambia       & Africa & 1952 & 30.000 &  284320 &  485.2307\\\\\n",
       "\t Rwanda       & Africa & 1992 & 23.599 & 7290203 &  737.0686\\\\\n",
       "\t Sierra Leone & Africa & 1952 & 30.331 & 2143249 &  879.7877\\\\\n",
       "\\end{tabular}\n"
      ],
      "text/markdown": [
       "\n",
       "A tibble: 6 x 6\n",
       "\n",
       "| country &lt;fct&gt; | continent &lt;fct&gt; | year &lt;int&gt; | lifeExp &lt;dbl&gt; | pop &lt;int&gt; | gdpPercap &lt;dbl&gt; |\n",
       "|---|---|---|---|---|---|\n",
       "| Afghanistan  | Asia   | 1952 | 28.801 | 8425333 |  779.4453 |\n",
       "| Afghanistan  | Asia   | 1957 | 30.332 | 9240934 |  820.8530 |\n",
       "| Angola       | Africa | 1952 | 30.015 | 4232095 | 3520.6103 |\n",
       "| Gambia       | Africa | 1952 | 30.000 |  284320 |  485.2307 |\n",
       "| Rwanda       | Africa | 1992 | 23.599 | 7290203 |  737.0686 |\n",
       "| Sierra Leone | Africa | 1952 | 30.331 | 2143249 |  879.7877 |\n",
       "\n"
      ],
      "text/plain": [
       "  country      continent year lifeExp pop     gdpPercap\n",
       "1 Afghanistan  Asia      1952 28.801  8425333  779.4453\n",
       "2 Afghanistan  Asia      1957 30.332  9240934  820.8530\n",
       "3 Angola       Africa    1952 30.015  4232095 3520.6103\n",
       "4 Gambia       Africa    1952 30.000   284320  485.2307\n",
       "5 Rwanda       Africa    1992 23.599  7290203  737.0686\n",
       "6 Sierra Leone Africa    1952 30.331  2143249  879.7877"
      ]
     },
     "metadata": {},
     "output_type": "display_data"
    }
   ],
   "source": [
    "filter(gapminder, lifeExp < 31)"
   ]
  },
  {
   "cell_type": "code",
   "execution_count": 10,
   "id": "6113406f-846f-41ce-9d22-89ca6627dd46",
   "metadata": {},
   "outputs": [
    {
     "data": {
      "text/html": [
       "<table class=\"dataframe\">\n",
       "<caption>A tibble: 4 x 6</caption>\n",
       "<thead>\n",
       "\t<tr><th scope=col>country</th><th scope=col>continent</th><th scope=col>year</th><th scope=col>lifeExp</th><th scope=col>pop</th><th scope=col>gdpPercap</th></tr>\n",
       "\t<tr><th scope=col>&lt;fct&gt;</th><th scope=col>&lt;fct&gt;</th><th scope=col>&lt;int&gt;</th><th scope=col>&lt;dbl&gt;</th><th scope=col>&lt;int&gt;</th><th scope=col>&lt;dbl&gt;</th></tr>\n",
       "</thead>\n",
       "<tbody>\n",
       "\t<tr><td>Canada</td><td>Americas</td><td>1992</td><td>77.950</td><td>28523502</td><td>26342.88</td></tr>\n",
       "\t<tr><td>Canada</td><td>Americas</td><td>1997</td><td>78.610</td><td>30305843</td><td>28954.93</td></tr>\n",
       "\t<tr><td>Canada</td><td>Americas</td><td>2002</td><td>79.770</td><td>31902268</td><td>33328.97</td></tr>\n",
       "\t<tr><td>Canada</td><td>Americas</td><td>2007</td><td>80.653</td><td>33390141</td><td>36319.24</td></tr>\n",
       "</tbody>\n",
       "</table>\n"
      ],
      "text/latex": [
       "A tibble: 4 x 6\n",
       "\\begin{tabular}{llllll}\n",
       " country & continent & year & lifeExp & pop & gdpPercap\\\\\n",
       " <fct> & <fct> & <int> & <dbl> & <int> & <dbl>\\\\\n",
       "\\hline\n",
       "\t Canada & Americas & 1992 & 77.950 & 28523502 & 26342.88\\\\\n",
       "\t Canada & Americas & 1997 & 78.610 & 30305843 & 28954.93\\\\\n",
       "\t Canada & Americas & 2002 & 79.770 & 31902268 & 33328.97\\\\\n",
       "\t Canada & Americas & 2007 & 80.653 & 33390141 & 36319.24\\\\\n",
       "\\end{tabular}\n"
      ],
      "text/markdown": [
       "\n",
       "A tibble: 4 x 6\n",
       "\n",
       "| country &lt;fct&gt; | continent &lt;fct&gt; | year &lt;int&gt; | lifeExp &lt;dbl&gt; | pop &lt;int&gt; | gdpPercap &lt;dbl&gt; |\n",
       "|---|---|---|---|---|---|\n",
       "| Canada | Americas | 1992 | 77.950 | 28523502 | 26342.88 |\n",
       "| Canada | Americas | 1997 | 78.610 | 30305843 | 28954.93 |\n",
       "| Canada | Americas | 2002 | 79.770 | 31902268 | 33328.97 |\n",
       "| Canada | Americas | 2007 | 80.653 | 33390141 | 36319.24 |\n",
       "\n"
      ],
      "text/plain": [
       "  country continent year lifeExp pop      gdpPercap\n",
       "1 Canada  Americas  1992 77.950  28523502 26342.88 \n",
       "2 Canada  Americas  1997 78.610  30305843 28954.93 \n",
       "3 Canada  Americas  2002 79.770  31902268 33328.97 \n",
       "4 Canada  Americas  2007 80.653  33390141 36319.24 "
      ]
     },
     "metadata": {},
     "output_type": "display_data"
    }
   ],
   "source": [
    "filter(gapminder, country == \"Canada\", year > 1990)"
   ]
  },
  {
   "cell_type": "code",
   "execution_count": 29,
   "id": "18bfcfc3-1db4-45d0-a722-c401d7bb88b2",
   "metadata": {},
   "outputs": [
    {
     "data": {
      "text/html": [
       "<table class=\"dataframe\">\n",
       "<caption>A tibble: 3 x 6</caption>\n",
       "<thead>\n",
       "\t<tr><th scope=col>country</th><th scope=col>continent</th><th scope=col>year</th><th scope=col>lifeExp</th><th scope=col>pop</th><th scope=col>gdpPercap</th></tr>\n",
       "\t<tr><th scope=col>&lt;fct&gt;</th><th scope=col>&lt;fct&gt;</th><th scope=col>&lt;int&gt;</th><th scope=col>&lt;dbl&gt;</th><th scope=col>&lt;int&gt;</th><th scope=col>&lt;dbl&gt;</th></tr>\n",
       "</thead>\n",
       "<tbody>\n",
       "\t<tr><td>Austria</td><td>Europe</td><td>2002</td><td>78.980</td><td> 8148312</td><td>32417.61</td></tr>\n",
       "\t<tr><td>Austria</td><td>Europe</td><td>2007</td><td>79.829</td><td> 8199783</td><td>36126.49</td></tr>\n",
       "\t<tr><td>Belgium</td><td>Europe</td><td>2007</td><td>79.441</td><td>10392226</td><td>33692.61</td></tr>\n",
       "</tbody>\n",
       "</table>\n"
      ],
      "text/latex": [
       "A tibble: 3 x 6\n",
       "\\begin{tabular}{llllll}\n",
       " country & continent & year & lifeExp & pop & gdpPercap\\\\\n",
       " <fct> & <fct> & <int> & <dbl> & <int> & <dbl>\\\\\n",
       "\\hline\n",
       "\t Austria & Europe & 2002 & 78.980 &  8148312 & 32417.61\\\\\n",
       "\t Austria & Europe & 2007 & 79.829 &  8199783 & 36126.49\\\\\n",
       "\t Belgium & Europe & 2007 & 79.441 & 10392226 & 33692.61\\\\\n",
       "\\end{tabular}\n"
      ],
      "text/markdown": [
       "\n",
       "A tibble: 3 x 6\n",
       "\n",
       "| country &lt;fct&gt; | continent &lt;fct&gt; | year &lt;int&gt; | lifeExp &lt;dbl&gt; | pop &lt;int&gt; | gdpPercap &lt;dbl&gt; |\n",
       "|---|---|---|---|---|---|\n",
       "| Austria | Europe | 2002 | 78.980 |  8148312 | 32417.61 |\n",
       "| Austria | Europe | 2007 | 79.829 |  8199783 | 36126.49 |\n",
       "| Belgium | Europe | 2007 | 79.441 | 10392226 | 33692.61 |\n",
       "\n"
      ],
      "text/plain": [
       "  country continent year lifeExp pop      gdpPercap\n",
       "1 Austria Europe    2002 78.980   8148312 32417.61 \n",
       "2 Austria Europe    2007 79.829   8199783 36126.49 \n",
       "3 Belgium Europe    2007 79.441  10392226 33692.61 "
      ]
     },
     "metadata": {},
     "output_type": "display_data"
    }
   ],
   "source": [
    "filter(gapminder, country %in% c(\"Austria\", \"Belgium\"), year > 2000, gdpPercap > 31000)"
   ]
  },
  {
   "cell_type": "markdown",
   "id": "8fb34e08-b48e-4b68-8ab5-6c017950ee1c",
   "metadata": {},
   "source": [
    "## 4. Оператор `pipe`"
   ]
  },
  {
   "cell_type": "markdown",
   "id": "7b457b74-feb2-497b-8fdd-9693482600e3",
   "metadata": {},
   "source": [
    "**`%>%`** #magritr"
   ]
  },
  {
   "cell_type": "markdown",
   "id": "456bd023-c47d-4bd9-862d-04be2f237e85",
   "metadata": {},
   "source": [
    "**`|>`** R 4.1"
   ]
  },
  {
   "cell_type": "code",
   "execution_count": 11,
   "id": "a7e2d551-3121-4dce-8d9e-f372d2a73a46",
   "metadata": {},
   "outputs": [
    {
     "data": {
      "text/html": [
       "<table class=\"dataframe\">\n",
       "<caption>A tibble: 12 x 6</caption>\n",
       "<thead>\n",
       "\t<tr><th scope=col>country</th><th scope=col>continent</th><th scope=col>year</th><th scope=col>lifeExp</th><th scope=col>pop</th><th scope=col>gdpPercap</th></tr>\n",
       "\t<tr><th scope=col>&lt;fct&gt;</th><th scope=col>&lt;fct&gt;</th><th scope=col>&lt;int&gt;</th><th scope=col>&lt;dbl&gt;</th><th scope=col>&lt;int&gt;</th><th scope=col>&lt;dbl&gt;</th></tr>\n",
       "</thead>\n",
       "<tbody>\n",
       "\t<tr><td>Canada</td><td>Americas</td><td>1952</td><td>68.750</td><td>14785584</td><td>11367.16</td></tr>\n",
       "\t<tr><td>Canada</td><td>Americas</td><td>1957</td><td>69.960</td><td>17010154</td><td>12489.95</td></tr>\n",
       "\t<tr><td>Canada</td><td>Americas</td><td>1962</td><td>71.300</td><td>18985849</td><td>13462.49</td></tr>\n",
       "\t<tr><td>Canada</td><td>Americas</td><td>1967</td><td>72.130</td><td>20819767</td><td>16076.59</td></tr>\n",
       "\t<tr><td>Canada</td><td>Americas</td><td>1972</td><td>72.880</td><td>22284500</td><td>18970.57</td></tr>\n",
       "\t<tr><td>Canada</td><td>Americas</td><td>1977</td><td>74.210</td><td>23796400</td><td>22090.88</td></tr>\n",
       "\t<tr><td>Canada</td><td>Americas</td><td>1982</td><td>75.760</td><td>25201900</td><td>22898.79</td></tr>\n",
       "\t<tr><td>Canada</td><td>Americas</td><td>1987</td><td>76.860</td><td>26549700</td><td>26626.52</td></tr>\n",
       "\t<tr><td>Canada</td><td>Americas</td><td>1992</td><td>77.950</td><td>28523502</td><td>26342.88</td></tr>\n",
       "\t<tr><td>Canada</td><td>Americas</td><td>1997</td><td>78.610</td><td>30305843</td><td>28954.93</td></tr>\n",
       "\t<tr><td>Canada</td><td>Americas</td><td>2002</td><td>79.770</td><td>31902268</td><td>33328.97</td></tr>\n",
       "\t<tr><td>Canada</td><td>Americas</td><td>2007</td><td>80.653</td><td>33390141</td><td>36319.24</td></tr>\n",
       "</tbody>\n",
       "</table>\n"
      ],
      "text/latex": [
       "A tibble: 12 x 6\n",
       "\\begin{tabular}{llllll}\n",
       " country & continent & year & lifeExp & pop & gdpPercap\\\\\n",
       " <fct> & <fct> & <int> & <dbl> & <int> & <dbl>\\\\\n",
       "\\hline\n",
       "\t Canada & Americas & 1952 & 68.750 & 14785584 & 11367.16\\\\\n",
       "\t Canada & Americas & 1957 & 69.960 & 17010154 & 12489.95\\\\\n",
       "\t Canada & Americas & 1962 & 71.300 & 18985849 & 13462.49\\\\\n",
       "\t Canada & Americas & 1967 & 72.130 & 20819767 & 16076.59\\\\\n",
       "\t Canada & Americas & 1972 & 72.880 & 22284500 & 18970.57\\\\\n",
       "\t Canada & Americas & 1977 & 74.210 & 23796400 & 22090.88\\\\\n",
       "\t Canada & Americas & 1982 & 75.760 & 25201900 & 22898.79\\\\\n",
       "\t Canada & Americas & 1987 & 76.860 & 26549700 & 26626.52\\\\\n",
       "\t Canada & Americas & 1992 & 77.950 & 28523502 & 26342.88\\\\\n",
       "\t Canada & Americas & 1997 & 78.610 & 30305843 & 28954.93\\\\\n",
       "\t Canada & Americas & 2002 & 79.770 & 31902268 & 33328.97\\\\\n",
       "\t Canada & Americas & 2007 & 80.653 & 33390141 & 36319.24\\\\\n",
       "\\end{tabular}\n"
      ],
      "text/markdown": [
       "\n",
       "A tibble: 12 x 6\n",
       "\n",
       "| country &lt;fct&gt; | continent &lt;fct&gt; | year &lt;int&gt; | lifeExp &lt;dbl&gt; | pop &lt;int&gt; | gdpPercap &lt;dbl&gt; |\n",
       "|---|---|---|---|---|---|\n",
       "| Canada | Americas | 1952 | 68.750 | 14785584 | 11367.16 |\n",
       "| Canada | Americas | 1957 | 69.960 | 17010154 | 12489.95 |\n",
       "| Canada | Americas | 1962 | 71.300 | 18985849 | 13462.49 |\n",
       "| Canada | Americas | 1967 | 72.130 | 20819767 | 16076.59 |\n",
       "| Canada | Americas | 1972 | 72.880 | 22284500 | 18970.57 |\n",
       "| Canada | Americas | 1977 | 74.210 | 23796400 | 22090.88 |\n",
       "| Canada | Americas | 1982 | 75.760 | 25201900 | 22898.79 |\n",
       "| Canada | Americas | 1987 | 76.860 | 26549700 | 26626.52 |\n",
       "| Canada | Americas | 1992 | 77.950 | 28523502 | 26342.88 |\n",
       "| Canada | Americas | 1997 | 78.610 | 30305843 | 28954.93 |\n",
       "| Canada | Americas | 2002 | 79.770 | 31902268 | 33328.97 |\n",
       "| Canada | Americas | 2007 | 80.653 | 33390141 | 36319.24 |\n",
       "\n"
      ],
      "text/plain": [
       "   country continent year lifeExp pop      gdpPercap\n",
       "1  Canada  Americas  1952 68.750  14785584 11367.16 \n",
       "2  Canada  Americas  1957 69.960  17010154 12489.95 \n",
       "3  Canada  Americas  1962 71.300  18985849 13462.49 \n",
       "4  Canada  Americas  1967 72.130  20819767 16076.59 \n",
       "5  Canada  Americas  1972 72.880  22284500 18970.57 \n",
       "6  Canada  Americas  1977 74.210  23796400 22090.88 \n",
       "7  Canada  Americas  1982 75.760  25201900 22898.79 \n",
       "8  Canada  Americas  1987 76.860  26549700 26626.52 \n",
       "9  Canada  Americas  1992 77.950  28523502 26342.88 \n",
       "10 Canada  Americas  1997 78.610  30305843 28954.93 \n",
       "11 Canada  Americas  2002 79.770  31902268 33328.97 \n",
       "12 Canada  Americas  2007 80.653  33390141 36319.24 "
      ]
     },
     "metadata": {},
     "output_type": "display_data"
    }
   ],
   "source": [
    "canada <- gapminder |> \n",
    "    filter(country == \"Canada\")    \n",
    "canada"
   ]
  },
  {
   "cell_type": "code",
   "execution_count": 35,
   "id": "f8a6bff8-adc6-48f0-a2bb-23b145a24137",
   "metadata": {},
   "outputs": [
    {
     "data": {
      "text/html": [
       "<table class=\"dataframe\">\n",
       "<caption>A data.frame: 6 x 3</caption>\n",
       "<thead>\n",
       "\t<tr><th scope=col>Gender</th><th scope=col>Age</th><th scope=col>IsActiveClient</th></tr>\n",
       "\t<tr><th scope=col>&lt;chr&gt;</th><th scope=col>&lt;int&gt;</th><th scope=col>&lt;lgl&gt;</th></tr>\n",
       "</thead>\n",
       "<tbody>\n",
       "\t<tr><td>M</td><td>24</td><td> TRUE</td></tr>\n",
       "\t<tr><td>M</td><td>23</td><td>FALSE</td></tr>\n",
       "\t<tr><td>F</td><td>15</td><td>FALSE</td></tr>\n",
       "\t<tr><td>F</td><td>37</td><td>FALSE</td></tr>\n",
       "\t<tr><td>M</td><td>12</td><td> TRUE</td></tr>\n",
       "\t<tr><td>F</td><td>34</td><td> TRUE</td></tr>\n",
       "</tbody>\n",
       "</table>\n"
      ],
      "text/latex": [
       "A data.frame: 6 x 3\n",
       "\\begin{tabular}{lll}\n",
       " Gender & Age & IsActiveClient\\\\\n",
       " <chr> & <int> & <lgl>\\\\\n",
       "\\hline\n",
       "\t M & 24 &  TRUE\\\\\n",
       "\t M & 23 & FALSE\\\\\n",
       "\t F & 15 & FALSE\\\\\n",
       "\t F & 37 & FALSE\\\\\n",
       "\t M & 12 &  TRUE\\\\\n",
       "\t F & 34 &  TRUE\\\\\n",
       "\\end{tabular}\n"
      ],
      "text/markdown": [
       "\n",
       "A data.frame: 6 x 3\n",
       "\n",
       "| Gender &lt;chr&gt; | Age &lt;int&gt; | IsActiveClient &lt;lgl&gt; |\n",
       "|---|---|---|\n",
       "| M | 24 |  TRUE |\n",
       "| M | 23 | FALSE |\n",
       "| F | 15 | FALSE |\n",
       "| F | 37 | FALSE |\n",
       "| M | 12 |  TRUE |\n",
       "| F | 34 |  TRUE |\n",
       "\n"
      ],
      "text/plain": [
       "  Gender Age IsActiveClient\n",
       "1 M      24   TRUE         \n",
       "2 M      23  FALSE         \n",
       "3 F      15  FALSE         \n",
       "4 F      37  FALSE         \n",
       "5 M      12   TRUE         \n",
       "6 F      34   TRUE         "
      ]
     },
     "metadata": {},
     "output_type": "display_data"
    }
   ],
   "source": [
    "set.seed(2025)\n",
    "\n",
    "data <- data.frame(\n",
    "    Gender = c(\"M\", \"M\", \"F\", \"F\", \"M\", \"F\"),\n",
    "    Age = sample(12:40, size = 6),\n",
    "    IsActiveClient = c(T,F,F,F,T,T))\n",
    "data"
   ]
  },
  {
   "cell_type": "code",
   "execution_count": 37,
   "id": "bdca1807-8c5f-44a1-946d-6394ecbac520",
   "metadata": {},
   "outputs": [
    {
     "data": {
      "text/html": [
       "<table class=\"dataframe\">\n",
       "<caption>A data.frame: 6 x 2</caption>\n",
       "<thead>\n",
       "\t<tr><th scope=col>Gender</th><th scope=col>Age</th></tr>\n",
       "\t<tr><th scope=col>&lt;chr&gt;</th><th scope=col>&lt;int&gt;</th></tr>\n",
       "</thead>\n",
       "<tbody>\n",
       "\t<tr><td>M</td><td>24</td></tr>\n",
       "\t<tr><td>M</td><td>23</td></tr>\n",
       "\t<tr><td>F</td><td>15</td></tr>\n",
       "\t<tr><td>F</td><td>37</td></tr>\n",
       "\t<tr><td>M</td><td>12</td></tr>\n",
       "\t<tr><td>F</td><td>34</td></tr>\n",
       "</tbody>\n",
       "</table>\n"
      ],
      "text/latex": [
       "A data.frame: 6 x 2\n",
       "\\begin{tabular}{ll}\n",
       " Gender & Age\\\\\n",
       " <chr> & <int>\\\\\n",
       "\\hline\n",
       "\t M & 24\\\\\n",
       "\t M & 23\\\\\n",
       "\t F & 15\\\\\n",
       "\t F & 37\\\\\n",
       "\t M & 12\\\\\n",
       "\t F & 34\\\\\n",
       "\\end{tabular}\n"
      ],
      "text/markdown": [
       "\n",
       "A data.frame: 6 x 2\n",
       "\n",
       "| Gender &lt;chr&gt; | Age &lt;int&gt; |\n",
       "|---|---|\n",
       "| M | 24 |\n",
       "| M | 23 |\n",
       "| F | 15 |\n",
       "| F | 37 |\n",
       "| M | 12 |\n",
       "| F | 34 |\n",
       "\n"
      ],
      "text/plain": [
       "  Gender Age\n",
       "1 M      24 \n",
       "2 M      23 \n",
       "3 F      15 \n",
       "4 F      37 \n",
       "5 M      12 \n",
       "6 F      34 "
      ]
     },
     "metadata": {},
     "output_type": "display_data"
    }
   ],
   "source": [
    "data |> select(Gender, Age)"
   ]
  },
  {
   "cell_type": "code",
   "execution_count": 39,
   "id": "ce7eb8cf-b258-4d3d-bfd1-71628f09cdf0",
   "metadata": {},
   "outputs": [
    {
     "data": {
      "text/html": [
       "<table class=\"dataframe\">\n",
       "<caption>A data.frame: 4 x 2</caption>\n",
       "<thead>\n",
       "\t<tr><th scope=col>Gender</th><th scope=col>Age</th></tr>\n",
       "\t<tr><th scope=col>&lt;chr&gt;</th><th scope=col>&lt;int&gt;</th></tr>\n",
       "</thead>\n",
       "<tbody>\n",
       "\t<tr><td>M</td><td>24</td></tr>\n",
       "\t<tr><td>M</td><td>23</td></tr>\n",
       "\t<tr><td>F</td><td>37</td></tr>\n",
       "\t<tr><td>F</td><td>34</td></tr>\n",
       "</tbody>\n",
       "</table>\n"
      ],
      "text/latex": [
       "A data.frame: 4 x 2\n",
       "\\begin{tabular}{ll}\n",
       " Gender & Age\\\\\n",
       " <chr> & <int>\\\\\n",
       "\\hline\n",
       "\t M & 24\\\\\n",
       "\t M & 23\\\\\n",
       "\t F & 37\\\\\n",
       "\t F & 34\\\\\n",
       "\\end{tabular}\n"
      ],
      "text/markdown": [
       "\n",
       "A data.frame: 4 x 2\n",
       "\n",
       "| Gender &lt;chr&gt; | Age &lt;int&gt; |\n",
       "|---|---|\n",
       "| M | 24 |\n",
       "| M | 23 |\n",
       "| F | 37 |\n",
       "| F | 34 |\n",
       "\n"
      ],
      "text/plain": [
       "  Gender Age\n",
       "1 M      24 \n",
       "2 M      23 \n",
       "3 F      37 \n",
       "4 F      34 "
      ]
     },
     "metadata": {},
     "output_type": "display_data"
    }
   ],
   "source": [
    "data |>\n",
    "    select(Gender, Age) |>\n",
    "    filter(Age > 18) "
   ]
  },
  {
   "cell_type": "code",
   "execution_count": 41,
   "id": "b3718883-5e72-4351-af66-4926babffbfe",
   "metadata": {},
   "outputs": [
    {
     "data": {
      "text/html": [
       "<table class=\"dataframe\">\n",
       "<caption>A tibble: 2 x 2</caption>\n",
       "<thead>\n",
       "\t<tr><th scope=col>Gender</th><th scope=col>MeanAge</th></tr>\n",
       "\t<tr><th scope=col>&lt;chr&gt;</th><th scope=col>&lt;dbl&gt;</th></tr>\n",
       "</thead>\n",
       "<tbody>\n",
       "\t<tr><td>F</td><td>35.5</td></tr>\n",
       "\t<tr><td>M</td><td>23.5</td></tr>\n",
       "</tbody>\n",
       "</table>\n"
      ],
      "text/latex": [
       "A tibble: 2 x 2\n",
       "\\begin{tabular}{ll}\n",
       " Gender & MeanAge\\\\\n",
       " <chr> & <dbl>\\\\\n",
       "\\hline\n",
       "\t F & 35.5\\\\\n",
       "\t M & 23.5\\\\\n",
       "\\end{tabular}\n"
      ],
      "text/markdown": [
       "\n",
       "A tibble: 2 x 2\n",
       "\n",
       "| Gender &lt;chr&gt; | MeanAge &lt;dbl&gt; |\n",
       "|---|---|\n",
       "| F | 35.5 |\n",
       "| M | 23.5 |\n",
       "\n"
      ],
      "text/plain": [
       "  Gender MeanAge\n",
       "1 F      35.5   \n",
       "2 M      23.5   "
      ]
     },
     "metadata": {},
     "output_type": "display_data"
    }
   ],
   "source": [
    "data |>\n",
    "    select(Gender, Age) |>\n",
    "    filter(Age > 18) |>\n",
    "    group_by(Gender) |>\n",
    "    summarise(MeanAge = mean(Age))"
   ]
  },
  {
   "cell_type": "code",
   "execution_count": 43,
   "id": "ebd24363-7b20-4d87-8642-4f1ab55231ac",
   "metadata": {},
   "outputs": [
    {
     "data": {
      "text/html": [
       "<table class=\"dataframe\">\n",
       "<caption>A tibble: 6 x 6</caption>\n",
       "<thead>\n",
       "\t<tr><th scope=col>country</th><th scope=col>continent</th><th scope=col>year</th><th scope=col>lifeExp</th><th scope=col>pop</th><th scope=col>gdpPercap</th></tr>\n",
       "\t<tr><th scope=col>&lt;fct&gt;</th><th scope=col>&lt;fct&gt;</th><th scope=col>&lt;int&gt;</th><th scope=col>&lt;dbl&gt;</th><th scope=col>&lt;int&gt;</th><th scope=col>&lt;dbl&gt;</th></tr>\n",
       "</thead>\n",
       "<tbody>\n",
       "\t<tr><td>Afghanistan</td><td>Asia</td><td>1952</td><td>28.801</td><td> 8425333</td><td>779.4453</td></tr>\n",
       "\t<tr><td>Afghanistan</td><td>Asia</td><td>1957</td><td>30.332</td><td> 9240934</td><td>820.8530</td></tr>\n",
       "\t<tr><td>Afghanistan</td><td>Asia</td><td>1962</td><td>31.997</td><td>10267083</td><td>853.1007</td></tr>\n",
       "\t<tr><td>Afghanistan</td><td>Asia</td><td>1967</td><td>34.020</td><td>11537966</td><td>836.1971</td></tr>\n",
       "\t<tr><td>Afghanistan</td><td>Asia</td><td>1972</td><td>36.088</td><td>13079460</td><td>739.9811</td></tr>\n",
       "\t<tr><td>Afghanistan</td><td>Asia</td><td>1977</td><td>38.438</td><td>14880372</td><td>786.1134</td></tr>\n",
       "</tbody>\n",
       "</table>\n"
      ],
      "text/latex": [
       "A tibble: 6 x 6\n",
       "\\begin{tabular}{llllll}\n",
       " country & continent & year & lifeExp & pop & gdpPercap\\\\\n",
       " <fct> & <fct> & <int> & <dbl> & <int> & <dbl>\\\\\n",
       "\\hline\n",
       "\t Afghanistan & Asia & 1952 & 28.801 &  8425333 & 779.4453\\\\\n",
       "\t Afghanistan & Asia & 1957 & 30.332 &  9240934 & 820.8530\\\\\n",
       "\t Afghanistan & Asia & 1962 & 31.997 & 10267083 & 853.1007\\\\\n",
       "\t Afghanistan & Asia & 1967 & 34.020 & 11537966 & 836.1971\\\\\n",
       "\t Afghanistan & Asia & 1972 & 36.088 & 13079460 & 739.9811\\\\\n",
       "\t Afghanistan & Asia & 1977 & 38.438 & 14880372 & 786.1134\\\\\n",
       "\\end{tabular}\n"
      ],
      "text/markdown": [
       "\n",
       "A tibble: 6 x 6\n",
       "\n",
       "| country &lt;fct&gt; | continent &lt;fct&gt; | year &lt;int&gt; | lifeExp &lt;dbl&gt; | pop &lt;int&gt; | gdpPercap &lt;dbl&gt; |\n",
       "|---|---|---|---|---|---|\n",
       "| Afghanistan | Asia | 1952 | 28.801 |  8425333 | 779.4453 |\n",
       "| Afghanistan | Asia | 1957 | 30.332 |  9240934 | 820.8530 |\n",
       "| Afghanistan | Asia | 1962 | 31.997 | 10267083 | 853.1007 |\n",
       "| Afghanistan | Asia | 1967 | 34.020 | 11537966 | 836.1971 |\n",
       "| Afghanistan | Asia | 1972 | 36.088 | 13079460 | 739.9811 |\n",
       "| Afghanistan | Asia | 1977 | 38.438 | 14880372 | 786.1134 |\n",
       "\n"
      ],
      "text/plain": [
       "  country     continent year lifeExp pop      gdpPercap\n",
       "1 Afghanistan Asia      1952 28.801   8425333 779.4453 \n",
       "2 Afghanistan Asia      1957 30.332   9240934 820.8530 \n",
       "3 Afghanistan Asia      1962 31.997  10267083 853.1007 \n",
       "4 Afghanistan Asia      1967 34.020  11537966 836.1971 \n",
       "5 Afghanistan Asia      1972 36.088  13079460 739.9811 \n",
       "6 Afghanistan Asia      1977 38.438  14880372 786.1134 "
      ]
     },
     "metadata": {},
     "output_type": "display_data"
    }
   ],
   "source": [
    "head(gapminder)"
   ]
  },
  {
   "cell_type": "code",
   "execution_count": 46,
   "id": "630dd98d-0ba7-4455-90c6-d13c7fb9c734",
   "metadata": {},
   "outputs": [
    {
     "data": {
      "text/html": [
       "<table class=\"dataframe\">\n",
       "<caption>A tibble: 3 x 6</caption>\n",
       "<thead>\n",
       "\t<tr><th scope=col>country</th><th scope=col>continent</th><th scope=col>year</th><th scope=col>lifeExp</th><th scope=col>pop</th><th scope=col>gdpPercap</th></tr>\n",
       "\t<tr><th scope=col>&lt;fct&gt;</th><th scope=col>&lt;fct&gt;</th><th scope=col>&lt;int&gt;</th><th scope=col>&lt;dbl&gt;</th><th scope=col>&lt;int&gt;</th><th scope=col>&lt;dbl&gt;</th></tr>\n",
       "</thead>\n",
       "<tbody>\n",
       "\t<tr><td>Afghanistan</td><td>Asia</td><td>1952</td><td>28.801</td><td> 8425333</td><td>779.4453</td></tr>\n",
       "\t<tr><td>Afghanistan</td><td>Asia</td><td>1957</td><td>30.332</td><td> 9240934</td><td>820.8530</td></tr>\n",
       "\t<tr><td>Afghanistan</td><td>Asia</td><td>1962</td><td>31.997</td><td>10267083</td><td>853.1007</td></tr>\n",
       "</tbody>\n",
       "</table>\n"
      ],
      "text/latex": [
       "A tibble: 3 x 6\n",
       "\\begin{tabular}{llllll}\n",
       " country & continent & year & lifeExp & pop & gdpPercap\\\\\n",
       " <fct> & <fct> & <int> & <dbl> & <int> & <dbl>\\\\\n",
       "\\hline\n",
       "\t Afghanistan & Asia & 1952 & 28.801 &  8425333 & 779.4453\\\\\n",
       "\t Afghanistan & Asia & 1957 & 30.332 &  9240934 & 820.8530\\\\\n",
       "\t Afghanistan & Asia & 1962 & 31.997 & 10267083 & 853.1007\\\\\n",
       "\\end{tabular}\n"
      ],
      "text/markdown": [
       "\n",
       "A tibble: 3 x 6\n",
       "\n",
       "| country &lt;fct&gt; | continent &lt;fct&gt; | year &lt;int&gt; | lifeExp &lt;dbl&gt; | pop &lt;int&gt; | gdpPercap &lt;dbl&gt; |\n",
       "|---|---|---|---|---|---|\n",
       "| Afghanistan | Asia | 1952 | 28.801 |  8425333 | 779.4453 |\n",
       "| Afghanistan | Asia | 1957 | 30.332 |  9240934 | 820.8530 |\n",
       "| Afghanistan | Asia | 1962 | 31.997 | 10267083 | 853.1007 |\n",
       "\n"
      ],
      "text/plain": [
       "  country     continent year lifeExp pop      gdpPercap\n",
       "1 Afghanistan Asia      1952 28.801   8425333 779.4453 \n",
       "2 Afghanistan Asia      1957 30.332   9240934 820.8530 \n",
       "3 Afghanistan Asia      1962 31.997  10267083 853.1007 "
      ]
     },
     "metadata": {},
     "output_type": "display_data"
    }
   ],
   "source": [
    "gapminder |> head(3)"
   ]
  },
  {
   "cell_type": "markdown",
   "id": "09b62365-3eb4-42b0-8fe0-44946df4d67e",
   "metadata": {},
   "source": [
    "## 5. `select`"
   ]
  },
  {
   "cell_type": "code",
   "execution_count": 50,
   "id": "43b20f5e-2faf-48b9-841e-e55c85b8aa9e",
   "metadata": {},
   "outputs": [
    {
     "data": {
      "text/html": [
       "<table class=\"dataframe\">\n",
       "<caption>A tibble: 6 x 3</caption>\n",
       "<thead>\n",
       "\t<tr><th scope=col>year</th><th scope=col>country</th><th scope=col>pop</th></tr>\n",
       "\t<tr><th scope=col>&lt;int&gt;</th><th scope=col>&lt;fct&gt;</th><th scope=col>&lt;int&gt;</th></tr>\n",
       "</thead>\n",
       "<tbody>\n",
       "\t<tr><td>1952</td><td>Canada</td><td>14785584</td></tr>\n",
       "\t<tr><td>1957</td><td>Canada</td><td>17010154</td></tr>\n",
       "\t<tr><td>1962</td><td>Canada</td><td>18985849</td></tr>\n",
       "\t<tr><td>1967</td><td>Canada</td><td>20819767</td></tr>\n",
       "\t<tr><td>1972</td><td>Canada</td><td>22284500</td></tr>\n",
       "\t<tr><td>1977</td><td>Canada</td><td>23796400</td></tr>\n",
       "</tbody>\n",
       "</table>\n"
      ],
      "text/latex": [
       "A tibble: 6 x 3\n",
       "\\begin{tabular}{lll}\n",
       " year & country & pop\\\\\n",
       " <int> & <fct> & <int>\\\\\n",
       "\\hline\n",
       "\t 1952 & Canada & 14785584\\\\\n",
       "\t 1957 & Canada & 17010154\\\\\n",
       "\t 1962 & Canada & 18985849\\\\\n",
       "\t 1967 & Canada & 20819767\\\\\n",
       "\t 1972 & Canada & 22284500\\\\\n",
       "\t 1977 & Canada & 23796400\\\\\n",
       "\\end{tabular}\n"
      ],
      "text/markdown": [
       "\n",
       "A tibble: 6 x 3\n",
       "\n",
       "| year &lt;int&gt; | country &lt;fct&gt; | pop &lt;int&gt; |\n",
       "|---|---|---|\n",
       "| 1952 | Canada | 14785584 |\n",
       "| 1957 | Canada | 17010154 |\n",
       "| 1962 | Canada | 18985849 |\n",
       "| 1967 | Canada | 20819767 |\n",
       "| 1972 | Canada | 22284500 |\n",
       "| 1977 | Canada | 23796400 |\n",
       "\n"
      ],
      "text/plain": [
       "  year country pop     \n",
       "1 1952 Canada  14785584\n",
       "2 1957 Canada  17010154\n",
       "3 1962 Canada  18985849\n",
       "4 1967 Canada  20819767\n",
       "5 1972 Canada  22284500\n",
       "6 1977 Canada  23796400"
      ]
     },
     "metadata": {},
     "output_type": "display_data"
    }
   ],
   "source": [
    "gapminder |> \n",
    "    filter(country == \"Canada\") |>\n",
    "    select(year, country, pop) |>\n",
    "    head()"
   ]
  },
  {
   "cell_type": "code",
   "execution_count": 53,
   "id": "656d3fe5-a8f0-4046-8265-3021db2dbdf0",
   "metadata": {},
   "outputs": [
    {
     "data": {
      "text/html": [
       "<table class=\"dataframe\">\n",
       "<caption>A tibble: 6 x 3</caption>\n",
       "<thead>\n",
       "\t<tr><th scope=col>lifeExp</th><th scope=col>pop</th><th scope=col>gdpPercap</th></tr>\n",
       "\t<tr><th scope=col>&lt;dbl&gt;</th><th scope=col>&lt;int&gt;</th><th scope=col>&lt;dbl&gt;</th></tr>\n",
       "</thead>\n",
       "<tbody>\n",
       "\t<tr><td>68.75</td><td>14785584</td><td>11367.16</td></tr>\n",
       "\t<tr><td>69.96</td><td>17010154</td><td>12489.95</td></tr>\n",
       "\t<tr><td>71.30</td><td>18985849</td><td>13462.49</td></tr>\n",
       "\t<tr><td>72.13</td><td>20819767</td><td>16076.59</td></tr>\n",
       "\t<tr><td>72.88</td><td>22284500</td><td>18970.57</td></tr>\n",
       "\t<tr><td>74.21</td><td>23796400</td><td>22090.88</td></tr>\n",
       "</tbody>\n",
       "</table>\n"
      ],
      "text/latex": [
       "A tibble: 6 x 3\n",
       "\\begin{tabular}{lll}\n",
       " lifeExp & pop & gdpPercap\\\\\n",
       " <dbl> & <int> & <dbl>\\\\\n",
       "\\hline\n",
       "\t 68.75 & 14785584 & 11367.16\\\\\n",
       "\t 69.96 & 17010154 & 12489.95\\\\\n",
       "\t 71.30 & 18985849 & 13462.49\\\\\n",
       "\t 72.13 & 20819767 & 16076.59\\\\\n",
       "\t 72.88 & 22284500 & 18970.57\\\\\n",
       "\t 74.21 & 23796400 & 22090.88\\\\\n",
       "\\end{tabular}\n"
      ],
      "text/markdown": [
       "\n",
       "A tibble: 6 x 3\n",
       "\n",
       "| lifeExp &lt;dbl&gt; | pop &lt;int&gt; | gdpPercap &lt;dbl&gt; |\n",
       "|---|---|---|\n",
       "| 68.75 | 14785584 | 11367.16 |\n",
       "| 69.96 | 17010154 | 12489.95 |\n",
       "| 71.30 | 18985849 | 13462.49 |\n",
       "| 72.13 | 20819767 | 16076.59 |\n",
       "| 72.88 | 22284500 | 18970.57 |\n",
       "| 74.21 | 23796400 | 22090.88 |\n",
       "\n"
      ],
      "text/plain": [
       "  lifeExp pop      gdpPercap\n",
       "1 68.75   14785584 11367.16 \n",
       "2 69.96   17010154 12489.95 \n",
       "3 71.30   18985849 13462.49 \n",
       "4 72.13   20819767 16076.59 \n",
       "5 72.88   22284500 18970.57 \n",
       "6 74.21   23796400 22090.88 "
      ]
     },
     "metadata": {},
     "output_type": "display_data"
    }
   ],
   "source": [
    "gapminder |> \n",
    "    filter(country == \"Canada\") |>\n",
    "    select(-year, -country, -continent) |>\n",
    "    head()"
   ]
  },
  {
   "cell_type": "code",
   "execution_count": 58,
   "id": "89a34b42-9d4d-4e08-b26a-be53f0d2ae92",
   "metadata": {},
   "outputs": [
    {
     "data": {
      "text/html": [
       "<table class=\"dataframe\">\n",
       "<caption>A tibble: 5 x 2</caption>\n",
       "<thead>\n",
       "\t<tr><th scope=col>country</th><th scope=col>continent</th></tr>\n",
       "\t<tr><th scope=col>&lt;fct&gt;</th><th scope=col>&lt;fct&gt;</th></tr>\n",
       "</thead>\n",
       "<tbody>\n",
       "\t<tr><td>Afghanistan</td><td>Asia    </td></tr>\n",
       "\t<tr><td>Albania    </td><td>Europe  </td></tr>\n",
       "\t<tr><td>Algeria    </td><td>Africa  </td></tr>\n",
       "\t<tr><td>Angola     </td><td>Africa  </td></tr>\n",
       "\t<tr><td>Argentina  </td><td>Americas</td></tr>\n",
       "</tbody>\n",
       "</table>\n"
      ],
      "text/latex": [
       "A tibble: 5 x 2\n",
       "\\begin{tabular}{ll}\n",
       " country & continent\\\\\n",
       " <fct> & <fct>\\\\\n",
       "\\hline\n",
       "\t Afghanistan & Asia    \\\\\n",
       "\t Albania     & Europe  \\\\\n",
       "\t Algeria     & Africa  \\\\\n",
       "\t Angola      & Africa  \\\\\n",
       "\t Argentina   & Americas\\\\\n",
       "\\end{tabular}\n"
      ],
      "text/markdown": [
       "\n",
       "A tibble: 5 x 2\n",
       "\n",
       "| country &lt;fct&gt; | continent &lt;fct&gt; |\n",
       "|---|---|\n",
       "| Afghanistan | Asia     |\n",
       "| Albania     | Europe   |\n",
       "| Algeria     | Africa   |\n",
       "| Angola      | Africa   |\n",
       "| Argentina   | Americas |\n",
       "\n"
      ],
      "text/plain": [
       "  country     continent\n",
       "1 Afghanistan Asia     \n",
       "2 Albania     Europe   \n",
       "3 Algeria     Africa   \n",
       "4 Angola      Africa   \n",
       "5 Argentina   Americas "
      ]
     },
     "metadata": {},
     "output_type": "display_data"
    }
   ],
   "source": [
    "gapminder |>\n",
    "    select(!where(is.numeric)) |>\n",
    "    distinct() |>\n",
    "    slice(1:5)"
   ]
  },
  {
   "cell_type": "markdown",
   "id": "d087ac1d-ad5f-46ea-892c-611ea951e5d1",
   "metadata": {},
   "source": [
    "## 6. Random sampling"
   ]
  },
  {
   "cell_type": "code",
   "execution_count": 63,
   "id": "87580b4f-62d1-49c1-b278-81f72fc8ce77",
   "metadata": {},
   "outputs": [
    {
     "data": {
      "text/html": [
       "<table class=\"dataframe\">\n",
       "<caption>A tibble: 5 x 6</caption>\n",
       "<thead>\n",
       "\t<tr><th scope=col>country</th><th scope=col>continent</th><th scope=col>year</th><th scope=col>lifeExp</th><th scope=col>pop</th><th scope=col>gdpPercap</th></tr>\n",
       "\t<tr><th scope=col>&lt;fct&gt;</th><th scope=col>&lt;fct&gt;</th><th scope=col>&lt;int&gt;</th><th scope=col>&lt;dbl&gt;</th><th scope=col>&lt;int&gt;</th><th scope=col>&lt;dbl&gt;</th></tr>\n",
       "</thead>\n",
       "<tbody>\n",
       "\t<tr><td>Equatorial Guinea</td><td>Africa</td><td>2002</td><td>49.348</td><td>  495627</td><td> 7703.4959</td></tr>\n",
       "\t<tr><td>Yemen, Rep.      </td><td>Asia  </td><td>1972</td><td>39.848</td><td> 7407075</td><td> 1265.0470</td></tr>\n",
       "\t<tr><td>Sierra Leone     </td><td>Africa</td><td>1997</td><td>39.897</td><td> 4578212</td><td>  574.6482</td></tr>\n",
       "\t<tr><td>Cote d'Ivoire    </td><td>Africa</td><td>1987</td><td>54.655</td><td>10761098</td><td> 2156.9561</td></tr>\n",
       "\t<tr><td>Switzerland      </td><td>Europe</td><td>1987</td><td>77.410</td><td> 6649942</td><td>30281.7046</td></tr>\n",
       "</tbody>\n",
       "</table>\n"
      ],
      "text/latex": [
       "A tibble: 5 x 6\n",
       "\\begin{tabular}{llllll}\n",
       " country & continent & year & lifeExp & pop & gdpPercap\\\\\n",
       " <fct> & <fct> & <int> & <dbl> & <int> & <dbl>\\\\\n",
       "\\hline\n",
       "\t Equatorial Guinea & Africa & 2002 & 49.348 &   495627 &  7703.4959\\\\\n",
       "\t Yemen, Rep.       & Asia   & 1972 & 39.848 &  7407075 &  1265.0470\\\\\n",
       "\t Sierra Leone      & Africa & 1997 & 39.897 &  4578212 &   574.6482\\\\\n",
       "\t Cote d'Ivoire     & Africa & 1987 & 54.655 & 10761098 &  2156.9561\\\\\n",
       "\t Switzerland       & Europe & 1987 & 77.410 &  6649942 & 30281.7046\\\\\n",
       "\\end{tabular}\n"
      ],
      "text/markdown": [
       "\n",
       "A tibble: 5 x 6\n",
       "\n",
       "| country &lt;fct&gt; | continent &lt;fct&gt; | year &lt;int&gt; | lifeExp &lt;dbl&gt; | pop &lt;int&gt; | gdpPercap &lt;dbl&gt; |\n",
       "|---|---|---|---|---|---|\n",
       "| Equatorial Guinea | Africa | 2002 | 49.348 |   495627 |  7703.4959 |\n",
       "| Yemen, Rep.       | Asia   | 1972 | 39.848 |  7407075 |  1265.0470 |\n",
       "| Sierra Leone      | Africa | 1997 | 39.897 |  4578212 |   574.6482 |\n",
       "| Cote d'Ivoire     | Africa | 1987 | 54.655 | 10761098 |  2156.9561 |\n",
       "| Switzerland       | Europe | 1987 | 77.410 |  6649942 | 30281.7046 |\n",
       "\n"
      ],
      "text/plain": [
       "  country           continent year lifeExp pop      gdpPercap \n",
       "1 Equatorial Guinea Africa    2002 49.348    495627  7703.4959\n",
       "2 Yemen, Rep.       Asia      1972 39.848   7407075  1265.0470\n",
       "3 Sierra Leone      Africa    1997 39.897   4578212   574.6482\n",
       "4 Cote d'Ivoire     Africa    1987 54.655  10761098  2156.9561\n",
       "5 Switzerland       Europe    1987 77.410   6649942 30281.7046"
      ]
     },
     "metadata": {},
     "output_type": "display_data"
    }
   ],
   "source": [
    "set.seed(10)\n",
    "gapminder |> sample_n(5)"
   ]
  },
  {
   "cell_type": "code",
   "execution_count": 65,
   "id": "6ae17260-5195-4315-8539-df4965c9e486",
   "metadata": {},
   "outputs": [
    {
     "data": {
      "text/html": [
       "<table class=\"dataframe\">\n",
       "<caption>A tibble: 17 x 6</caption>\n",
       "<thead>\n",
       "\t<tr><th scope=col>country</th><th scope=col>continent</th><th scope=col>year</th><th scope=col>lifeExp</th><th scope=col>pop</th><th scope=col>gdpPercap</th></tr>\n",
       "\t<tr><th scope=col>&lt;fct&gt;</th><th scope=col>&lt;fct&gt;</th><th scope=col>&lt;int&gt;</th><th scope=col>&lt;dbl&gt;</th><th scope=col>&lt;int&gt;</th><th scope=col>&lt;dbl&gt;</th></tr>\n",
       "</thead>\n",
       "<tbody>\n",
       "\t<tr><td>Equatorial Guinea </td><td>Africa  </td><td>2002</td><td>49.348</td><td>  495627</td><td> 7703.4959</td></tr>\n",
       "\t<tr><td>Yemen, Rep.       </td><td>Asia    </td><td>1972</td><td>39.848</td><td> 7407075</td><td> 1265.0470</td></tr>\n",
       "\t<tr><td>Sierra Leone      </td><td>Africa  </td><td>1997</td><td>39.897</td><td> 4578212</td><td>  574.6482</td></tr>\n",
       "\t<tr><td>Cote d'Ivoire     </td><td>Africa  </td><td>1987</td><td>54.655</td><td>10761098</td><td> 2156.9561</td></tr>\n",
       "\t<tr><td>Switzerland       </td><td>Europe  </td><td>1987</td><td>77.410</td><td> 6649942</td><td>30281.7046</td></tr>\n",
       "\t<tr><td>Dominican Republic</td><td>Americas</td><td>1982</td><td>63.727</td><td> 5968349</td><td> 2861.0924</td></tr>\n",
       "\t<tr><td>United Kingdom    </td><td>Europe  </td><td>2007</td><td>79.425</td><td>60776238</td><td>33203.2613</td></tr>\n",
       "\t<tr><td>Swaziland         </td><td>Africa  </td><td>1997</td><td>54.289</td><td> 1054486</td><td> 3876.7685</td></tr>\n",
       "\t<tr><td>Sudan             </td><td>Africa  </td><td>1982</td><td>50.338</td><td>20367053</td><td> 1895.5441</td></tr>\n",
       "\t<tr><td>Thailand          </td><td>Asia    </td><td>2002</td><td>68.564</td><td>62806748</td><td> 5913.1875</td></tr>\n",
       "\t<tr><td>Congo, Rep.       </td><td>Africa  </td><td>1987</td><td>57.470</td><td> 2064095</td><td> 4201.1949</td></tr>\n",
       "\t<tr><td>Rwanda            </td><td>Africa  </td><td>2002</td><td>43.413</td><td> 7852401</td><td>  785.6538</td></tr>\n",
       "\t<tr><td>Bolivia           </td><td>Americas</td><td>2002</td><td>63.883</td><td> 8445134</td><td> 3413.2627</td></tr>\n",
       "\t<tr><td>Malaysia          </td><td>Asia    </td><td>1957</td><td>52.102</td><td> 7739235</td><td> 1810.0670</td></tr>\n",
       "\t<tr><td>Switzerland       </td><td>Europe  </td><td>1962</td><td>71.320</td><td> 5666000</td><td>20431.0927</td></tr>\n",
       "\t<tr><td>Zimbabwe          </td><td>Africa  </td><td>1997</td><td>46.809</td><td>11404948</td><td>  792.4500</td></tr>\n",
       "\t<tr><td>Malawi            </td><td>Africa  </td><td>1977</td><td>43.767</td><td> 5637246</td><td>  663.2237</td></tr>\n",
       "</tbody>\n",
       "</table>\n"
      ],
      "text/latex": [
       "A tibble: 17 x 6\n",
       "\\begin{tabular}{llllll}\n",
       " country & continent & year & lifeExp & pop & gdpPercap\\\\\n",
       " <fct> & <fct> & <int> & <dbl> & <int> & <dbl>\\\\\n",
       "\\hline\n",
       "\t Equatorial Guinea  & Africa   & 2002 & 49.348 &   495627 &  7703.4959\\\\\n",
       "\t Yemen, Rep.        & Asia     & 1972 & 39.848 &  7407075 &  1265.0470\\\\\n",
       "\t Sierra Leone       & Africa   & 1997 & 39.897 &  4578212 &   574.6482\\\\\n",
       "\t Cote d'Ivoire      & Africa   & 1987 & 54.655 & 10761098 &  2156.9561\\\\\n",
       "\t Switzerland        & Europe   & 1987 & 77.410 &  6649942 & 30281.7046\\\\\n",
       "\t Dominican Republic & Americas & 1982 & 63.727 &  5968349 &  2861.0924\\\\\n",
       "\t United Kingdom     & Europe   & 2007 & 79.425 & 60776238 & 33203.2613\\\\\n",
       "\t Swaziland          & Africa   & 1997 & 54.289 &  1054486 &  3876.7685\\\\\n",
       "\t Sudan              & Africa   & 1982 & 50.338 & 20367053 &  1895.5441\\\\\n",
       "\t Thailand           & Asia     & 2002 & 68.564 & 62806748 &  5913.1875\\\\\n",
       "\t Congo, Rep.        & Africa   & 1987 & 57.470 &  2064095 &  4201.1949\\\\\n",
       "\t Rwanda             & Africa   & 2002 & 43.413 &  7852401 &   785.6538\\\\\n",
       "\t Bolivia            & Americas & 2002 & 63.883 &  8445134 &  3413.2627\\\\\n",
       "\t Malaysia           & Asia     & 1957 & 52.102 &  7739235 &  1810.0670\\\\\n",
       "\t Switzerland        & Europe   & 1962 & 71.320 &  5666000 & 20431.0927\\\\\n",
       "\t Zimbabwe           & Africa   & 1997 & 46.809 & 11404948 &   792.4500\\\\\n",
       "\t Malawi             & Africa   & 1977 & 43.767 &  5637246 &   663.2237\\\\\n",
       "\\end{tabular}\n"
      ],
      "text/markdown": [
       "\n",
       "A tibble: 17 x 6\n",
       "\n",
       "| country &lt;fct&gt; | continent &lt;fct&gt; | year &lt;int&gt; | lifeExp &lt;dbl&gt; | pop &lt;int&gt; | gdpPercap &lt;dbl&gt; |\n",
       "|---|---|---|---|---|---|\n",
       "| Equatorial Guinea  | Africa   | 2002 | 49.348 |   495627 |  7703.4959 |\n",
       "| Yemen, Rep.        | Asia     | 1972 | 39.848 |  7407075 |  1265.0470 |\n",
       "| Sierra Leone       | Africa   | 1997 | 39.897 |  4578212 |   574.6482 |\n",
       "| Cote d'Ivoire      | Africa   | 1987 | 54.655 | 10761098 |  2156.9561 |\n",
       "| Switzerland        | Europe   | 1987 | 77.410 |  6649942 | 30281.7046 |\n",
       "| Dominican Republic | Americas | 1982 | 63.727 |  5968349 |  2861.0924 |\n",
       "| United Kingdom     | Europe   | 2007 | 79.425 | 60776238 | 33203.2613 |\n",
       "| Swaziland          | Africa   | 1997 | 54.289 |  1054486 |  3876.7685 |\n",
       "| Sudan              | Africa   | 1982 | 50.338 | 20367053 |  1895.5441 |\n",
       "| Thailand           | Asia     | 2002 | 68.564 | 62806748 |  5913.1875 |\n",
       "| Congo, Rep.        | Africa   | 1987 | 57.470 |  2064095 |  4201.1949 |\n",
       "| Rwanda             | Africa   | 2002 | 43.413 |  7852401 |   785.6538 |\n",
       "| Bolivia            | Americas | 2002 | 63.883 |  8445134 |  3413.2627 |\n",
       "| Malaysia           | Asia     | 1957 | 52.102 |  7739235 |  1810.0670 |\n",
       "| Switzerland        | Europe   | 1962 | 71.320 |  5666000 | 20431.0927 |\n",
       "| Zimbabwe           | Africa   | 1997 | 46.809 | 11404948 |   792.4500 |\n",
       "| Malawi             | Africa   | 1977 | 43.767 |  5637246 |   663.2237 |\n",
       "\n"
      ],
      "text/plain": [
       "   country            continent year lifeExp pop      gdpPercap \n",
       "1  Equatorial Guinea  Africa    2002 49.348    495627  7703.4959\n",
       "2  Yemen, Rep.        Asia      1972 39.848   7407075  1265.0470\n",
       "3  Sierra Leone       Africa    1997 39.897   4578212   574.6482\n",
       "4  Cote d'Ivoire      Africa    1987 54.655  10761098  2156.9561\n",
       "5  Switzerland        Europe    1987 77.410   6649942 30281.7046\n",
       "6  Dominican Republic Americas  1982 63.727   5968349  2861.0924\n",
       "7  United Kingdom     Europe    2007 79.425  60776238 33203.2613\n",
       "8  Swaziland          Africa    1997 54.289   1054486  3876.7685\n",
       "9  Sudan              Africa    1982 50.338  20367053  1895.5441\n",
       "10 Thailand           Asia      2002 68.564  62806748  5913.1875\n",
       "11 Congo, Rep.        Africa    1987 57.470   2064095  4201.1949\n",
       "12 Rwanda             Africa    2002 43.413   7852401   785.6538\n",
       "13 Bolivia            Americas  2002 63.883   8445134  3413.2627\n",
       "14 Malaysia           Asia      1957 52.102   7739235  1810.0670\n",
       "15 Switzerland        Europe    1962 71.320   5666000 20431.0927\n",
       "16 Zimbabwe           Africa    1997 46.809  11404948   792.4500\n",
       "17 Malawi             Africa    1977 43.767   5637246   663.2237"
      ]
     },
     "metadata": {},
     "output_type": "display_data"
    }
   ],
   "source": [
    "set.seed(10)\n",
    "gapminder |> sample_frac(0.01)"
   ]
  },
  {
   "cell_type": "markdown",
   "id": "e0c62137-7801-4af1-8f4f-32c193053e35",
   "metadata": {},
   "source": [
    "## 7. `slice_`"
   ]
  },
  {
   "cell_type": "code",
   "execution_count": 71,
   "id": "d1b6c99e-2220-46f9-a127-2672343f1e59",
   "metadata": {},
   "outputs": [
    {
     "data": {
      "text/html": [
       "<table class=\"dataframe\">\n",
       "<caption>A tibble: 6 x 6</caption>\n",
       "<thead>\n",
       "\t<tr><th scope=col>country</th><th scope=col>continent</th><th scope=col>year</th><th scope=col>lifeExp</th><th scope=col>pop</th><th scope=col>gdpPercap</th></tr>\n",
       "\t<tr><th scope=col>&lt;fct&gt;</th><th scope=col>&lt;fct&gt;</th><th scope=col>&lt;int&gt;</th><th scope=col>&lt;dbl&gt;</th><th scope=col>&lt;int&gt;</th><th scope=col>&lt;dbl&gt;</th></tr>\n",
       "</thead>\n",
       "<tbody>\n",
       "\t<tr><td>Afghanistan</td><td>Asia</td><td>1952</td><td>28.801</td><td> 8425333</td><td>779.4453</td></tr>\n",
       "\t<tr><td>Afghanistan</td><td>Asia</td><td>1957</td><td>30.332</td><td> 9240934</td><td>820.8530</td></tr>\n",
       "\t<tr><td>Afghanistan</td><td>Asia</td><td>1962</td><td>31.997</td><td>10267083</td><td>853.1007</td></tr>\n",
       "\t<tr><td>Afghanistan</td><td>Asia</td><td>1967</td><td>34.020</td><td>11537966</td><td>836.1971</td></tr>\n",
       "\t<tr><td>Afghanistan</td><td>Asia</td><td>1972</td><td>36.088</td><td>13079460</td><td>739.9811</td></tr>\n",
       "\t<tr><td>Afghanistan</td><td>Asia</td><td>1977</td><td>38.438</td><td>14880372</td><td>786.1134</td></tr>\n",
       "</tbody>\n",
       "</table>\n"
      ],
      "text/latex": [
       "A tibble: 6 x 6\n",
       "\\begin{tabular}{llllll}\n",
       " country & continent & year & lifeExp & pop & gdpPercap\\\\\n",
       " <fct> & <fct> & <int> & <dbl> & <int> & <dbl>\\\\\n",
       "\\hline\n",
       "\t Afghanistan & Asia & 1952 & 28.801 &  8425333 & 779.4453\\\\\n",
       "\t Afghanistan & Asia & 1957 & 30.332 &  9240934 & 820.8530\\\\\n",
       "\t Afghanistan & Asia & 1962 & 31.997 & 10267083 & 853.1007\\\\\n",
       "\t Afghanistan & Asia & 1967 & 34.020 & 11537966 & 836.1971\\\\\n",
       "\t Afghanistan & Asia & 1972 & 36.088 & 13079460 & 739.9811\\\\\n",
       "\t Afghanistan & Asia & 1977 & 38.438 & 14880372 & 786.1134\\\\\n",
       "\\end{tabular}\n"
      ],
      "text/markdown": [
       "\n",
       "A tibble: 6 x 6\n",
       "\n",
       "| country &lt;fct&gt; | continent &lt;fct&gt; | year &lt;int&gt; | lifeExp &lt;dbl&gt; | pop &lt;int&gt; | gdpPercap &lt;dbl&gt; |\n",
       "|---|---|---|---|---|---|\n",
       "| Afghanistan | Asia | 1952 | 28.801 |  8425333 | 779.4453 |\n",
       "| Afghanistan | Asia | 1957 | 30.332 |  9240934 | 820.8530 |\n",
       "| Afghanistan | Asia | 1962 | 31.997 | 10267083 | 853.1007 |\n",
       "| Afghanistan | Asia | 1967 | 34.020 | 11537966 | 836.1971 |\n",
       "| Afghanistan | Asia | 1972 | 36.088 | 13079460 | 739.9811 |\n",
       "| Afghanistan | Asia | 1977 | 38.438 | 14880372 | 786.1134 |\n",
       "\n"
      ],
      "text/plain": [
       "  country     continent year lifeExp pop      gdpPercap\n",
       "1 Afghanistan Asia      1952 28.801   8425333 779.4453 \n",
       "2 Afghanistan Asia      1957 30.332   9240934 820.8530 \n",
       "3 Afghanistan Asia      1962 31.997  10267083 853.1007 \n",
       "4 Afghanistan Asia      1967 34.020  11537966 836.1971 \n",
       "5 Afghanistan Asia      1972 36.088  13079460 739.9811 \n",
       "6 Afghanistan Asia      1977 38.438  14880372 786.1134 "
      ]
     },
     "metadata": {},
     "output_type": "display_data"
    }
   ],
   "source": [
    "gapminder |> slice_head(n = 6)"
   ]
  },
  {
   "cell_type": "code",
   "execution_count": 73,
   "id": "7670db21-9df8-49ff-af9e-de664ebb188d",
   "metadata": {},
   "outputs": [
    {
     "data": {
      "text/html": [
       "<table class=\"dataframe\">\n",
       "<caption>A tibble: 6 x 6</caption>\n",
       "<thead>\n",
       "\t<tr><th scope=col>country</th><th scope=col>continent</th><th scope=col>year</th><th scope=col>lifeExp</th><th scope=col>pop</th><th scope=col>gdpPercap</th></tr>\n",
       "\t<tr><th scope=col>&lt;fct&gt;</th><th scope=col>&lt;fct&gt;</th><th scope=col>&lt;int&gt;</th><th scope=col>&lt;dbl&gt;</th><th scope=col>&lt;int&gt;</th><th scope=col>&lt;dbl&gt;</th></tr>\n",
       "</thead>\n",
       "<tbody>\n",
       "\t<tr><td>Zimbabwe</td><td>Africa</td><td>1982</td><td>60.363</td><td> 7636524</td><td>788.8550</td></tr>\n",
       "\t<tr><td>Zimbabwe</td><td>Africa</td><td>1987</td><td>62.351</td><td> 9216418</td><td>706.1573</td></tr>\n",
       "\t<tr><td>Zimbabwe</td><td>Africa</td><td>1992</td><td>60.377</td><td>10704340</td><td>693.4208</td></tr>\n",
       "\t<tr><td>Zimbabwe</td><td>Africa</td><td>1997</td><td>46.809</td><td>11404948</td><td>792.4500</td></tr>\n",
       "\t<tr><td>Zimbabwe</td><td>Africa</td><td>2002</td><td>39.989</td><td>11926563</td><td>672.0386</td></tr>\n",
       "\t<tr><td>Zimbabwe</td><td>Africa</td><td>2007</td><td>43.487</td><td>12311143</td><td>469.7093</td></tr>\n",
       "</tbody>\n",
       "</table>\n"
      ],
      "text/latex": [
       "A tibble: 6 x 6\n",
       "\\begin{tabular}{llllll}\n",
       " country & continent & year & lifeExp & pop & gdpPercap\\\\\n",
       " <fct> & <fct> & <int> & <dbl> & <int> & <dbl>\\\\\n",
       "\\hline\n",
       "\t Zimbabwe & Africa & 1982 & 60.363 &  7636524 & 788.8550\\\\\n",
       "\t Zimbabwe & Africa & 1987 & 62.351 &  9216418 & 706.1573\\\\\n",
       "\t Zimbabwe & Africa & 1992 & 60.377 & 10704340 & 693.4208\\\\\n",
       "\t Zimbabwe & Africa & 1997 & 46.809 & 11404948 & 792.4500\\\\\n",
       "\t Zimbabwe & Africa & 2002 & 39.989 & 11926563 & 672.0386\\\\\n",
       "\t Zimbabwe & Africa & 2007 & 43.487 & 12311143 & 469.7093\\\\\n",
       "\\end{tabular}\n"
      ],
      "text/markdown": [
       "\n",
       "A tibble: 6 x 6\n",
       "\n",
       "| country &lt;fct&gt; | continent &lt;fct&gt; | year &lt;int&gt; | lifeExp &lt;dbl&gt; | pop &lt;int&gt; | gdpPercap &lt;dbl&gt; |\n",
       "|---|---|---|---|---|---|\n",
       "| Zimbabwe | Africa | 1982 | 60.363 |  7636524 | 788.8550 |\n",
       "| Zimbabwe | Africa | 1987 | 62.351 |  9216418 | 706.1573 |\n",
       "| Zimbabwe | Africa | 1992 | 60.377 | 10704340 | 693.4208 |\n",
       "| Zimbabwe | Africa | 1997 | 46.809 | 11404948 | 792.4500 |\n",
       "| Zimbabwe | Africa | 2002 | 39.989 | 11926563 | 672.0386 |\n",
       "| Zimbabwe | Africa | 2007 | 43.487 | 12311143 | 469.7093 |\n",
       "\n"
      ],
      "text/plain": [
       "  country  continent year lifeExp pop      gdpPercap\n",
       "1 Zimbabwe Africa    1982 60.363   7636524 788.8550 \n",
       "2 Zimbabwe Africa    1987 62.351   9216418 706.1573 \n",
       "3 Zimbabwe Africa    1992 60.377  10704340 693.4208 \n",
       "4 Zimbabwe Africa    1997 46.809  11404948 792.4500 \n",
       "5 Zimbabwe Africa    2002 39.989  11926563 672.0386 \n",
       "6 Zimbabwe Africa    2007 43.487  12311143 469.7093 "
      ]
     },
     "metadata": {},
     "output_type": "display_data"
    }
   ],
   "source": [
    "gapminder |> slice_tail(n = 6)"
   ]
  },
  {
   "cell_type": "code",
   "execution_count": 76,
   "id": "e0a2b47e-1d8a-4700-8013-2c4c463ae374",
   "metadata": {},
   "outputs": [
    {
     "data": {
      "text/html": [
       "<table class=\"dataframe\">\n",
       "<caption>A tibble: 6 x 6</caption>\n",
       "<thead>\n",
       "\t<tr><th scope=col>country</th><th scope=col>continent</th><th scope=col>year</th><th scope=col>lifeExp</th><th scope=col>pop</th><th scope=col>gdpPercap</th></tr>\n",
       "\t<tr><th scope=col>&lt;fct&gt;</th><th scope=col>&lt;fct&gt;</th><th scope=col>&lt;int&gt;</th><th scope=col>&lt;dbl&gt;</th><th scope=col>&lt;int&gt;</th><th scope=col>&lt;dbl&gt;</th></tr>\n",
       "</thead>\n",
       "<tbody>\n",
       "\t<tr><td>Afghanistan</td><td>Asia</td><td>1977</td><td>38.438</td><td>14880372</td><td>786.1134</td></tr>\n",
       "\t<tr><td>Afghanistan</td><td>Asia</td><td>1987</td><td>40.822</td><td>13867957</td><td>852.3959</td></tr>\n",
       "\t<tr><td>Afghanistan</td><td>Asia</td><td>1992</td><td>41.674</td><td>16317921</td><td>649.3414</td></tr>\n",
       "\t<tr><td>Afghanistan</td><td>Asia</td><td>1997</td><td>41.763</td><td>22227415</td><td>635.3414</td></tr>\n",
       "\t<tr><td>Afghanistan</td><td>Asia</td><td>2002</td><td>42.129</td><td>25268405</td><td>726.7341</td></tr>\n",
       "\t<tr><td>Afghanistan</td><td>Asia</td><td>2007</td><td>43.828</td><td>31889923</td><td>974.5803</td></tr>\n",
       "</tbody>\n",
       "</table>\n"
      ],
      "text/latex": [
       "A tibble: 6 x 6\n",
       "\\begin{tabular}{llllll}\n",
       " country & continent & year & lifeExp & pop & gdpPercap\\\\\n",
       " <fct> & <fct> & <int> & <dbl> & <int> & <dbl>\\\\\n",
       "\\hline\n",
       "\t Afghanistan & Asia & 1977 & 38.438 & 14880372 & 786.1134\\\\\n",
       "\t Afghanistan & Asia & 1987 & 40.822 & 13867957 & 852.3959\\\\\n",
       "\t Afghanistan & Asia & 1992 & 41.674 & 16317921 & 649.3414\\\\\n",
       "\t Afghanistan & Asia & 1997 & 41.763 & 22227415 & 635.3414\\\\\n",
       "\t Afghanistan & Asia & 2002 & 42.129 & 25268405 & 726.7341\\\\\n",
       "\t Afghanistan & Asia & 2007 & 43.828 & 31889923 & 974.5803\\\\\n",
       "\\end{tabular}\n"
      ],
      "text/markdown": [
       "\n",
       "A tibble: 6 x 6\n",
       "\n",
       "| country &lt;fct&gt; | continent &lt;fct&gt; | year &lt;int&gt; | lifeExp &lt;dbl&gt; | pop &lt;int&gt; | gdpPercap &lt;dbl&gt; |\n",
       "|---|---|---|---|---|---|\n",
       "| Afghanistan | Asia | 1977 | 38.438 | 14880372 | 786.1134 |\n",
       "| Afghanistan | Asia | 1987 | 40.822 | 13867957 | 852.3959 |\n",
       "| Afghanistan | Asia | 1992 | 41.674 | 16317921 | 649.3414 |\n",
       "| Afghanistan | Asia | 1997 | 41.763 | 22227415 | 635.3414 |\n",
       "| Afghanistan | Asia | 2002 | 42.129 | 25268405 | 726.7341 |\n",
       "| Afghanistan | Asia | 2007 | 43.828 | 31889923 | 974.5803 |\n",
       "\n"
      ],
      "text/plain": [
       "  country     continent year lifeExp pop      gdpPercap\n",
       "1 Afghanistan Asia      1977 38.438  14880372 786.1134 \n",
       "2 Afghanistan Asia      1987 40.822  13867957 852.3959 \n",
       "3 Afghanistan Asia      1992 41.674  16317921 649.3414 \n",
       "4 Afghanistan Asia      1997 41.763  22227415 635.3414 \n",
       "5 Afghanistan Asia      2002 42.129  25268405 726.7341 \n",
       "6 Afghanistan Asia      2007 43.828  31889923 974.5803 "
      ]
     },
     "metadata": {},
     "output_type": "display_data"
    }
   ],
   "source": [
    "gapminder |>\n",
    "    slice(-c(1:5, 7)) |>\n",
    "    slice_head(n = 6)"
   ]
  },
  {
   "cell_type": "code",
   "execution_count": 78,
   "id": "a0e40d51-9c31-4a32-bfad-eb830a219220",
   "metadata": {},
   "outputs": [
    {
     "data": {
      "text/html": [
       "<table class=\"dataframe\">\n",
       "<caption>A tibble: 5 x 6</caption>\n",
       "<thead>\n",
       "\t<tr><th scope=col>country</th><th scope=col>continent</th><th scope=col>year</th><th scope=col>lifeExp</th><th scope=col>pop</th><th scope=col>gdpPercap</th></tr>\n",
       "\t<tr><th scope=col>&lt;fct&gt;</th><th scope=col>&lt;fct&gt;</th><th scope=col>&lt;int&gt;</th><th scope=col>&lt;dbl&gt;</th><th scope=col>&lt;int&gt;</th><th scope=col>&lt;dbl&gt;</th></tr>\n",
       "</thead>\n",
       "<tbody>\n",
       "\t<tr><td>Italy      </td><td>Europe  </td><td>1982</td><td>74.980</td><td>56535636</td><td>16537.483</td></tr>\n",
       "\t<tr><td>Puerto Rico</td><td>Americas</td><td>1982</td><td>73.750</td><td> 3279001</td><td>10330.989</td></tr>\n",
       "\t<tr><td>Zambia     </td><td>Africa  </td><td>2002</td><td>39.193</td><td>10595811</td><td> 1071.614</td></tr>\n",
       "\t<tr><td>Singapore  </td><td>Asia    </td><td>1997</td><td>77.158</td><td> 3802309</td><td>33519.477</td></tr>\n",
       "\t<tr><td>Singapore  </td><td>Asia    </td><td>1977</td><td>70.795</td><td> 2325300</td><td>11210.089</td></tr>\n",
       "</tbody>\n",
       "</table>\n"
      ],
      "text/latex": [
       "A tibble: 5 x 6\n",
       "\\begin{tabular}{llllll}\n",
       " country & continent & year & lifeExp & pop & gdpPercap\\\\\n",
       " <fct> & <fct> & <int> & <dbl> & <int> & <dbl>\\\\\n",
       "\\hline\n",
       "\t Italy       & Europe   & 1982 & 74.980 & 56535636 & 16537.483\\\\\n",
       "\t Puerto Rico & Americas & 1982 & 73.750 &  3279001 & 10330.989\\\\\n",
       "\t Zambia      & Africa   & 2002 & 39.193 & 10595811 &  1071.614\\\\\n",
       "\t Singapore   & Asia     & 1997 & 77.158 &  3802309 & 33519.477\\\\\n",
       "\t Singapore   & Asia     & 1977 & 70.795 &  2325300 & 11210.089\\\\\n",
       "\\end{tabular}\n"
      ],
      "text/markdown": [
       "\n",
       "A tibble: 5 x 6\n",
       "\n",
       "| country &lt;fct&gt; | continent &lt;fct&gt; | year &lt;int&gt; | lifeExp &lt;dbl&gt; | pop &lt;int&gt; | gdpPercap &lt;dbl&gt; |\n",
       "|---|---|---|---|---|---|\n",
       "| Italy       | Europe   | 1982 | 74.980 | 56535636 | 16537.483 |\n",
       "| Puerto Rico | Americas | 1982 | 73.750 |  3279001 | 10330.989 |\n",
       "| Zambia      | Africa   | 2002 | 39.193 | 10595811 |  1071.614 |\n",
       "| Singapore   | Asia     | 1997 | 77.158 |  3802309 | 33519.477 |\n",
       "| Singapore   | Asia     | 1977 | 70.795 |  2325300 | 11210.089 |\n",
       "\n"
      ],
      "text/plain": [
       "  country     continent year lifeExp pop      gdpPercap\n",
       "1 Italy       Europe    1982 74.980  56535636 16537.483\n",
       "2 Puerto Rico Americas  1982 73.750   3279001 10330.989\n",
       "3 Zambia      Africa    2002 39.193  10595811  1071.614\n",
       "4 Singapore   Asia      1997 77.158   3802309 33519.477\n",
       "5 Singapore   Asia      1977 70.795   2325300 11210.089"
      ]
     },
     "metadata": {},
     "output_type": "display_data"
    }
   ],
   "source": [
    "gapminder |>\n",
    "    slice_sample(n = 5)"
   ]
  },
  {
   "cell_type": "code",
   "execution_count": 80,
   "id": "71a73d81-7670-41aa-96a1-d100cffc36fa",
   "metadata": {},
   "outputs": [
    {
     "data": {
      "text/html": [
       "<table class=\"dataframe\">\n",
       "<caption>A tibble: 5 x 6</caption>\n",
       "<thead>\n",
       "\t<tr><th scope=col>country</th><th scope=col>continent</th><th scope=col>year</th><th scope=col>lifeExp</th><th scope=col>pop</th><th scope=col>gdpPercap</th></tr>\n",
       "\t<tr><th scope=col>&lt;fct&gt;</th><th scope=col>&lt;fct&gt;</th><th scope=col>&lt;int&gt;</th><th scope=col>&lt;dbl&gt;</th><th scope=col>&lt;int&gt;</th><th scope=col>&lt;dbl&gt;</th></tr>\n",
       "</thead>\n",
       "<tbody>\n",
       "\t<tr><td>Rwanda      </td><td>Africa</td><td>1992</td><td>23.599</td><td>7290203</td><td> 737.0686</td></tr>\n",
       "\t<tr><td>Afghanistan </td><td>Asia  </td><td>1952</td><td>28.801</td><td>8425333</td><td> 779.4453</td></tr>\n",
       "\t<tr><td>Gambia      </td><td>Africa</td><td>1952</td><td>30.000</td><td> 284320</td><td> 485.2307</td></tr>\n",
       "\t<tr><td>Angola      </td><td>Africa</td><td>1952</td><td>30.015</td><td>4232095</td><td>3520.6103</td></tr>\n",
       "\t<tr><td>Sierra Leone</td><td>Africa</td><td>1952</td><td>30.331</td><td>2143249</td><td> 879.7877</td></tr>\n",
       "</tbody>\n",
       "</table>\n"
      ],
      "text/latex": [
       "A tibble: 5 x 6\n",
       "\\begin{tabular}{llllll}\n",
       " country & continent & year & lifeExp & pop & gdpPercap\\\\\n",
       " <fct> & <fct> & <int> & <dbl> & <int> & <dbl>\\\\\n",
       "\\hline\n",
       "\t Rwanda       & Africa & 1992 & 23.599 & 7290203 &  737.0686\\\\\n",
       "\t Afghanistan  & Asia   & 1952 & 28.801 & 8425333 &  779.4453\\\\\n",
       "\t Gambia       & Africa & 1952 & 30.000 &  284320 &  485.2307\\\\\n",
       "\t Angola       & Africa & 1952 & 30.015 & 4232095 & 3520.6103\\\\\n",
       "\t Sierra Leone & Africa & 1952 & 30.331 & 2143249 &  879.7877\\\\\n",
       "\\end{tabular}\n"
      ],
      "text/markdown": [
       "\n",
       "A tibble: 5 x 6\n",
       "\n",
       "| country &lt;fct&gt; | continent &lt;fct&gt; | year &lt;int&gt; | lifeExp &lt;dbl&gt; | pop &lt;int&gt; | gdpPercap &lt;dbl&gt; |\n",
       "|---|---|---|---|---|---|\n",
       "| Rwanda       | Africa | 1992 | 23.599 | 7290203 |  737.0686 |\n",
       "| Afghanistan  | Asia   | 1952 | 28.801 | 8425333 |  779.4453 |\n",
       "| Gambia       | Africa | 1952 | 30.000 |  284320 |  485.2307 |\n",
       "| Angola       | Africa | 1952 | 30.015 | 4232095 | 3520.6103 |\n",
       "| Sierra Leone | Africa | 1952 | 30.331 | 2143249 |  879.7877 |\n",
       "\n"
      ],
      "text/plain": [
       "  country      continent year lifeExp pop     gdpPercap\n",
       "1 Rwanda       Africa    1992 23.599  7290203  737.0686\n",
       "2 Afghanistan  Asia      1952 28.801  8425333  779.4453\n",
       "3 Gambia       Africa    1952 30.000   284320  485.2307\n",
       "4 Angola       Africa    1952 30.015  4232095 3520.6103\n",
       "5 Sierra Leone Africa    1952 30.331  2143249  879.7877"
      ]
     },
     "metadata": {},
     "output_type": "display_data"
    }
   ],
   "source": [
    "gapminder |>\n",
    "    slice_min(lifeExp, n = 5)"
   ]
  },
  {
   "cell_type": "code",
   "execution_count": 82,
   "id": "0e57eb7d-a05e-42d6-a12e-eb38710890be",
   "metadata": {},
   "outputs": [
    {
     "data": {
      "text/html": [
       "<table class=\"dataframe\">\n",
       "<caption>A tibble: 5 x 6</caption>\n",
       "<thead>\n",
       "\t<tr><th scope=col>country</th><th scope=col>continent</th><th scope=col>year</th><th scope=col>lifeExp</th><th scope=col>pop</th><th scope=col>gdpPercap</th></tr>\n",
       "\t<tr><th scope=col>&lt;fct&gt;</th><th scope=col>&lt;fct&gt;</th><th scope=col>&lt;int&gt;</th><th scope=col>&lt;dbl&gt;</th><th scope=col>&lt;int&gt;</th><th scope=col>&lt;dbl&gt;</th></tr>\n",
       "</thead>\n",
       "<tbody>\n",
       "\t<tr><td>Japan           </td><td>Asia  </td><td>2007</td><td>82.603</td><td>127467972</td><td>31656.07</td></tr>\n",
       "\t<tr><td>Hong Kong, China</td><td>Asia  </td><td>2007</td><td>82.208</td><td>  6980412</td><td>39724.98</td></tr>\n",
       "\t<tr><td>Japan           </td><td>Asia  </td><td>2002</td><td>82.000</td><td>127065841</td><td>28604.59</td></tr>\n",
       "\t<tr><td>Iceland         </td><td>Europe</td><td>2007</td><td>81.757</td><td>   301931</td><td>36180.79</td></tr>\n",
       "\t<tr><td>Switzerland     </td><td>Europe</td><td>2007</td><td>81.701</td><td>  7554661</td><td>37506.42</td></tr>\n",
       "</tbody>\n",
       "</table>\n"
      ],
      "text/latex": [
       "A tibble: 5 x 6\n",
       "\\begin{tabular}{llllll}\n",
       " country & continent & year & lifeExp & pop & gdpPercap\\\\\n",
       " <fct> & <fct> & <int> & <dbl> & <int> & <dbl>\\\\\n",
       "\\hline\n",
       "\t Japan            & Asia   & 2007 & 82.603 & 127467972 & 31656.07\\\\\n",
       "\t Hong Kong, China & Asia   & 2007 & 82.208 &   6980412 & 39724.98\\\\\n",
       "\t Japan            & Asia   & 2002 & 82.000 & 127065841 & 28604.59\\\\\n",
       "\t Iceland          & Europe & 2007 & 81.757 &    301931 & 36180.79\\\\\n",
       "\t Switzerland      & Europe & 2007 & 81.701 &   7554661 & 37506.42\\\\\n",
       "\\end{tabular}\n"
      ],
      "text/markdown": [
       "\n",
       "A tibble: 5 x 6\n",
       "\n",
       "| country &lt;fct&gt; | continent &lt;fct&gt; | year &lt;int&gt; | lifeExp &lt;dbl&gt; | pop &lt;int&gt; | gdpPercap &lt;dbl&gt; |\n",
       "|---|---|---|---|---|---|\n",
       "| Japan            | Asia   | 2007 | 82.603 | 127467972 | 31656.07 |\n",
       "| Hong Kong, China | Asia   | 2007 | 82.208 |   6980412 | 39724.98 |\n",
       "| Japan            | Asia   | 2002 | 82.000 | 127065841 | 28604.59 |\n",
       "| Iceland          | Europe | 2007 | 81.757 |    301931 | 36180.79 |\n",
       "| Switzerland      | Europe | 2007 | 81.701 |   7554661 | 37506.42 |\n",
       "\n"
      ],
      "text/plain": [
       "  country          continent year lifeExp pop       gdpPercap\n",
       "1 Japan            Asia      2007 82.603  127467972 31656.07 \n",
       "2 Hong Kong, China Asia      2007 82.208    6980412 39724.98 \n",
       "3 Japan            Asia      2002 82.000  127065841 28604.59 \n",
       "4 Iceland          Europe    2007 81.757     301931 36180.79 \n",
       "5 Switzerland      Europe    2007 81.701    7554661 37506.42 "
      ]
     },
     "metadata": {},
     "output_type": "display_data"
    }
   ],
   "source": [
    "gapminder |>\n",
    "    slice_max(lifeExp, n = 5)"
   ]
  },
  {
   "cell_type": "markdown",
   "id": "f82b06a7-00a7-4da8-9bac-d7f2a5283c79",
   "metadata": {},
   "source": [
    "## 7. `arrange`"
   ]
  },
  {
   "cell_type": "code",
   "execution_count": 84,
   "id": "6198f126-dea2-4080-92f3-ee289f03d12a",
   "metadata": {},
   "outputs": [
    {
     "data": {
      "text/html": [
       "<table class=\"dataframe\">\n",
       "<caption>A tibble: 10 x 6</caption>\n",
       "<thead>\n",
       "\t<tr><th scope=col>country</th><th scope=col>continent</th><th scope=col>year</th><th scope=col>lifeExp</th><th scope=col>pop</th><th scope=col>gdpPercap</th></tr>\n",
       "\t<tr><th scope=col>&lt;fct&gt;</th><th scope=col>&lt;fct&gt;</th><th scope=col>&lt;int&gt;</th><th scope=col>&lt;dbl&gt;</th><th scope=col>&lt;int&gt;</th><th scope=col>&lt;dbl&gt;</th></tr>\n",
       "</thead>\n",
       "<tbody>\n",
       "\t<tr><td>Australia       </td><td>Oceania </td><td>2007</td><td>81.235</td><td> 20434176</td><td>34435.37</td></tr>\n",
       "\t<tr><td>Canada          </td><td>Americas</td><td>2007</td><td>80.653</td><td> 33390141</td><td>36319.24</td></tr>\n",
       "\t<tr><td>France          </td><td>Europe  </td><td>2007</td><td>80.657</td><td> 61083916</td><td>30470.02</td></tr>\n",
       "\t<tr><td>Hong Kong, China</td><td>Asia    </td><td>2007</td><td>82.208</td><td>  6980412</td><td>39724.98</td></tr>\n",
       "\t<tr><td>Iceland         </td><td>Europe  </td><td>2007</td><td>81.757</td><td>   301931</td><td>36180.79</td></tr>\n",
       "\t<tr><td>Israel          </td><td>Asia    </td><td>2007</td><td>80.745</td><td>  6426679</td><td>25523.28</td></tr>\n",
       "\t<tr><td>Japan           </td><td>Asia    </td><td>2007</td><td>82.603</td><td>127467972</td><td>31656.07</td></tr>\n",
       "\t<tr><td>Spain           </td><td>Europe  </td><td>2007</td><td>80.941</td><td> 40448191</td><td>28821.06</td></tr>\n",
       "\t<tr><td>Sweden          </td><td>Europe  </td><td>2007</td><td>80.884</td><td>  9031088</td><td>33859.75</td></tr>\n",
       "\t<tr><td>Switzerland     </td><td>Europe  </td><td>2007</td><td>81.701</td><td>  7554661</td><td>37506.42</td></tr>\n",
       "</tbody>\n",
       "</table>\n"
      ],
      "text/latex": [
       "A tibble: 10 x 6\n",
       "\\begin{tabular}{llllll}\n",
       " country & continent & year & lifeExp & pop & gdpPercap\\\\\n",
       " <fct> & <fct> & <int> & <dbl> & <int> & <dbl>\\\\\n",
       "\\hline\n",
       "\t Australia        & Oceania  & 2007 & 81.235 &  20434176 & 34435.37\\\\\n",
       "\t Canada           & Americas & 2007 & 80.653 &  33390141 & 36319.24\\\\\n",
       "\t France           & Europe   & 2007 & 80.657 &  61083916 & 30470.02\\\\\n",
       "\t Hong Kong, China & Asia     & 2007 & 82.208 &   6980412 & 39724.98\\\\\n",
       "\t Iceland          & Europe   & 2007 & 81.757 &    301931 & 36180.79\\\\\n",
       "\t Israel           & Asia     & 2007 & 80.745 &   6426679 & 25523.28\\\\\n",
       "\t Japan            & Asia     & 2007 & 82.603 & 127467972 & 31656.07\\\\\n",
       "\t Spain            & Europe   & 2007 & 80.941 &  40448191 & 28821.06\\\\\n",
       "\t Sweden           & Europe   & 2007 & 80.884 &   9031088 & 33859.75\\\\\n",
       "\t Switzerland      & Europe   & 2007 & 81.701 &   7554661 & 37506.42\\\\\n",
       "\\end{tabular}\n"
      ],
      "text/markdown": [
       "\n",
       "A tibble: 10 x 6\n",
       "\n",
       "| country &lt;fct&gt; | continent &lt;fct&gt; | year &lt;int&gt; | lifeExp &lt;dbl&gt; | pop &lt;int&gt; | gdpPercap &lt;dbl&gt; |\n",
       "|---|---|---|---|---|---|\n",
       "| Australia        | Oceania  | 2007 | 81.235 |  20434176 | 34435.37 |\n",
       "| Canada           | Americas | 2007 | 80.653 |  33390141 | 36319.24 |\n",
       "| France           | Europe   | 2007 | 80.657 |  61083916 | 30470.02 |\n",
       "| Hong Kong, China | Asia     | 2007 | 82.208 |   6980412 | 39724.98 |\n",
       "| Iceland          | Europe   | 2007 | 81.757 |    301931 | 36180.79 |\n",
       "| Israel           | Asia     | 2007 | 80.745 |   6426679 | 25523.28 |\n",
       "| Japan            | Asia     | 2007 | 82.603 | 127467972 | 31656.07 |\n",
       "| Spain            | Europe   | 2007 | 80.941 |  40448191 | 28821.06 |\n",
       "| Sweden           | Europe   | 2007 | 80.884 |   9031088 | 33859.75 |\n",
       "| Switzerland      | Europe   | 2007 | 81.701 |   7554661 | 37506.42 |\n",
       "\n"
      ],
      "text/plain": [
       "   country          continent year lifeExp pop       gdpPercap\n",
       "1  Australia        Oceania   2007 81.235   20434176 34435.37 \n",
       "2  Canada           Americas  2007 80.653   33390141 36319.24 \n",
       "3  France           Europe    2007 80.657   61083916 30470.02 \n",
       "4  Hong Kong, China Asia      2007 82.208    6980412 39724.98 \n",
       "5  Iceland          Europe    2007 81.757     301931 36180.79 \n",
       "6  Israel           Asia      2007 80.745    6426679 25523.28 \n",
       "7  Japan            Asia      2007 82.603  127467972 31656.07 \n",
       "8  Spain            Europe    2007 80.941   40448191 28821.06 \n",
       "9  Sweden           Europe    2007 80.884    9031088 33859.75 \n",
       "10 Switzerland      Europe    2007 81.701    7554661 37506.42 "
      ]
     },
     "metadata": {},
     "output_type": "display_data"
    }
   ],
   "source": [
    "gapminder |>\n",
    "    filter(year == 2007) |>\n",
    "    top_n(10, lifeExp)"
   ]
  },
  {
   "cell_type": "code",
   "execution_count": 88,
   "id": "29f5c19a-e587-4fc3-bf30-841e42336598",
   "metadata": {},
   "outputs": [
    {
     "data": {
      "text/html": [
       "<table class=\"dataframe\">\n",
       "<caption>A tibble: 10 x 6</caption>\n",
       "<thead>\n",
       "\t<tr><th scope=col>country</th><th scope=col>continent</th><th scope=col>year</th><th scope=col>lifeExp</th><th scope=col>pop</th><th scope=col>gdpPercap</th></tr>\n",
       "\t<tr><th scope=col>&lt;fct&gt;</th><th scope=col>&lt;fct&gt;</th><th scope=col>&lt;int&gt;</th><th scope=col>&lt;dbl&gt;</th><th scope=col>&lt;int&gt;</th><th scope=col>&lt;dbl&gt;</th></tr>\n",
       "</thead>\n",
       "<tbody>\n",
       "\t<tr><td>China        </td><td>Asia    </td><td>2007</td><td>72.961</td><td>1318683096</td><td> 4959.115</td></tr>\n",
       "\t<tr><td>India        </td><td>Asia    </td><td>2007</td><td>64.698</td><td>1110396331</td><td> 2452.210</td></tr>\n",
       "\t<tr><td>United States</td><td>Americas</td><td>2007</td><td>78.242</td><td> 301139947</td><td>42951.653</td></tr>\n",
       "\t<tr><td>Indonesia    </td><td>Asia    </td><td>2007</td><td>70.650</td><td> 223547000</td><td> 3540.652</td></tr>\n",
       "\t<tr><td>Brazil       </td><td>Americas</td><td>2007</td><td>72.390</td><td> 190010647</td><td> 9065.801</td></tr>\n",
       "\t<tr><td>Pakistan     </td><td>Asia    </td><td>2007</td><td>65.483</td><td> 169270617</td><td> 2605.948</td></tr>\n",
       "\t<tr><td>Bangladesh   </td><td>Asia    </td><td>2007</td><td>64.062</td><td> 150448339</td><td> 1391.254</td></tr>\n",
       "\t<tr><td>Nigeria      </td><td>Africa  </td><td>2007</td><td>46.859</td><td> 135031164</td><td> 2013.977</td></tr>\n",
       "\t<tr><td>Japan        </td><td>Asia    </td><td>2007</td><td>82.603</td><td> 127467972</td><td>31656.068</td></tr>\n",
       "\t<tr><td>Mexico       </td><td>Americas</td><td>2007</td><td>76.195</td><td> 108700891</td><td>11977.575</td></tr>\n",
       "</tbody>\n",
       "</table>\n"
      ],
      "text/latex": [
       "A tibble: 10 x 6\n",
       "\\begin{tabular}{llllll}\n",
       " country & continent & year & lifeExp & pop & gdpPercap\\\\\n",
       " <fct> & <fct> & <int> & <dbl> & <int> & <dbl>\\\\\n",
       "\\hline\n",
       "\t China         & Asia     & 2007 & 72.961 & 1318683096 &  4959.115\\\\\n",
       "\t India         & Asia     & 2007 & 64.698 & 1110396331 &  2452.210\\\\\n",
       "\t United States & Americas & 2007 & 78.242 &  301139947 & 42951.653\\\\\n",
       "\t Indonesia     & Asia     & 2007 & 70.650 &  223547000 &  3540.652\\\\\n",
       "\t Brazil        & Americas & 2007 & 72.390 &  190010647 &  9065.801\\\\\n",
       "\t Pakistan      & Asia     & 2007 & 65.483 &  169270617 &  2605.948\\\\\n",
       "\t Bangladesh    & Asia     & 2007 & 64.062 &  150448339 &  1391.254\\\\\n",
       "\t Nigeria       & Africa   & 2007 & 46.859 &  135031164 &  2013.977\\\\\n",
       "\t Japan         & Asia     & 2007 & 82.603 &  127467972 & 31656.068\\\\\n",
       "\t Mexico        & Americas & 2007 & 76.195 &  108700891 & 11977.575\\\\\n",
       "\\end{tabular}\n"
      ],
      "text/markdown": [
       "\n",
       "A tibble: 10 x 6\n",
       "\n",
       "| country &lt;fct&gt; | continent &lt;fct&gt; | year &lt;int&gt; | lifeExp &lt;dbl&gt; | pop &lt;int&gt; | gdpPercap &lt;dbl&gt; |\n",
       "|---|---|---|---|---|---|\n",
       "| China         | Asia     | 2007 | 72.961 | 1318683096 |  4959.115 |\n",
       "| India         | Asia     | 2007 | 64.698 | 1110396331 |  2452.210 |\n",
       "| United States | Americas | 2007 | 78.242 |  301139947 | 42951.653 |\n",
       "| Indonesia     | Asia     | 2007 | 70.650 |  223547000 |  3540.652 |\n",
       "| Brazil        | Americas | 2007 | 72.390 |  190010647 |  9065.801 |\n",
       "| Pakistan      | Asia     | 2007 | 65.483 |  169270617 |  2605.948 |\n",
       "| Bangladesh    | Asia     | 2007 | 64.062 |  150448339 |  1391.254 |\n",
       "| Nigeria       | Africa   | 2007 | 46.859 |  135031164 |  2013.977 |\n",
       "| Japan         | Asia     | 2007 | 82.603 |  127467972 | 31656.068 |\n",
       "| Mexico        | Americas | 2007 | 76.195 |  108700891 | 11977.575 |\n",
       "\n"
      ],
      "text/plain": [
       "   country       continent year lifeExp pop        gdpPercap\n",
       "1  China         Asia      2007 72.961  1318683096  4959.115\n",
       "2  India         Asia      2007 64.698  1110396331  2452.210\n",
       "3  United States Americas  2007 78.242   301139947 42951.653\n",
       "4  Indonesia     Asia      2007 70.650   223547000  3540.652\n",
       "5  Brazil        Americas  2007 72.390   190010647  9065.801\n",
       "6  Pakistan      Asia      2007 65.483   169270617  2605.948\n",
       "7  Bangladesh    Asia      2007 64.062   150448339  1391.254\n",
       "8  Nigeria       Africa    2007 46.859   135031164  2013.977\n",
       "9  Japan         Asia      2007 82.603   127467972 31656.068\n",
       "10 Mexico        Americas  2007 76.195   108700891 11977.575"
      ]
     },
     "metadata": {},
     "output_type": "display_data"
    }
   ],
   "source": [
    "gapminder |>\n",
    "    filter(year == 2007) |>\n",
    "    arrange(desc(pop)) |>\n",
    "    top_n(10, pop)"
   ]
  },
  {
   "cell_type": "markdown",
   "id": "94025bcb-d9d0-4df7-99fc-d0922f2a6a5c",
   "metadata": {},
   "source": [
    "## 8. `mutate`"
   ]
  },
  {
   "cell_type": "code",
   "execution_count": 102,
   "id": "54241f38-6351-4f70-88f5-01a82163ccae",
   "metadata": {},
   "outputs": [],
   "source": [
    "data <- gapminder |>\n",
    "    filter(year == 2007) |>\n",
    "    arrange(pop) "
   ]
  },
  {
   "cell_type": "code",
   "execution_count": 103,
   "id": "12883a94-464b-4fd2-b898-da0f4b61a065",
   "metadata": {},
   "outputs": [
    {
     "data": {
      "text/html": [
       "<table class=\"dataframe\">\n",
       "<caption>A tibble: 6 x 6</caption>\n",
       "<thead>\n",
       "\t<tr><th scope=col>country</th><th scope=col>continent</th><th scope=col>year</th><th scope=col>lifeExp</th><th scope=col>pop</th><th scope=col>gdpPercap</th></tr>\n",
       "\t<tr><th scope=col>&lt;fct&gt;</th><th scope=col>&lt;fct&gt;</th><th scope=col>&lt;int&gt;</th><th scope=col>&lt;dbl&gt;</th><th scope=col>&lt;int&gt;</th><th scope=col>&lt;dbl&gt;</th></tr>\n",
       "</thead>\n",
       "<tbody>\n",
       "\t<tr><td>Sao Tome and Principe</td><td>Africa</td><td>2007</td><td>65.528</td><td>199579</td><td> 1598.435</td></tr>\n",
       "\t<tr><td>Iceland              </td><td>Europe</td><td>2007</td><td>81.757</td><td>301931</td><td>36180.789</td></tr>\n",
       "\t<tr><td>Djibouti             </td><td>Africa</td><td>2007</td><td>54.791</td><td>496374</td><td> 2082.482</td></tr>\n",
       "\t<tr><td>Equatorial Guinea    </td><td>Africa</td><td>2007</td><td>51.579</td><td>551201</td><td>12154.090</td></tr>\n",
       "\t<tr><td>Montenegro           </td><td>Europe</td><td>2007</td><td>74.543</td><td>684736</td><td> 9253.896</td></tr>\n",
       "\t<tr><td>Bahrain              </td><td>Asia  </td><td>2007</td><td>75.635</td><td>708573</td><td>29796.048</td></tr>\n",
       "</tbody>\n",
       "</table>\n"
      ],
      "text/latex": [
       "A tibble: 6 x 6\n",
       "\\begin{tabular}{llllll}\n",
       " country & continent & year & lifeExp & pop & gdpPercap\\\\\n",
       " <fct> & <fct> & <int> & <dbl> & <int> & <dbl>\\\\\n",
       "\\hline\n",
       "\t Sao Tome and Principe & Africa & 2007 & 65.528 & 199579 &  1598.435\\\\\n",
       "\t Iceland               & Europe & 2007 & 81.757 & 301931 & 36180.789\\\\\n",
       "\t Djibouti              & Africa & 2007 & 54.791 & 496374 &  2082.482\\\\\n",
       "\t Equatorial Guinea     & Africa & 2007 & 51.579 & 551201 & 12154.090\\\\\n",
       "\t Montenegro            & Europe & 2007 & 74.543 & 684736 &  9253.896\\\\\n",
       "\t Bahrain               & Asia   & 2007 & 75.635 & 708573 & 29796.048\\\\\n",
       "\\end{tabular}\n"
      ],
      "text/markdown": [
       "\n",
       "A tibble: 6 x 6\n",
       "\n",
       "| country &lt;fct&gt; | continent &lt;fct&gt; | year &lt;int&gt; | lifeExp &lt;dbl&gt; | pop &lt;int&gt; | gdpPercap &lt;dbl&gt; |\n",
       "|---|---|---|---|---|---|\n",
       "| Sao Tome and Principe | Africa | 2007 | 65.528 | 199579 |  1598.435 |\n",
       "| Iceland               | Europe | 2007 | 81.757 | 301931 | 36180.789 |\n",
       "| Djibouti              | Africa | 2007 | 54.791 | 496374 |  2082.482 |\n",
       "| Equatorial Guinea     | Africa | 2007 | 51.579 | 551201 | 12154.090 |\n",
       "| Montenegro            | Europe | 2007 | 74.543 | 684736 |  9253.896 |\n",
       "| Bahrain               | Asia   | 2007 | 75.635 | 708573 | 29796.048 |\n",
       "\n"
      ],
      "text/plain": [
       "  country               continent year lifeExp pop    gdpPercap\n",
       "1 Sao Tome and Principe Africa    2007 65.528  199579  1598.435\n",
       "2 Iceland               Europe    2007 81.757  301931 36180.789\n",
       "3 Djibouti              Africa    2007 54.791  496374  2082.482\n",
       "4 Equatorial Guinea     Africa    2007 51.579  551201 12154.090\n",
       "5 Montenegro            Europe    2007 74.543  684736  9253.896\n",
       "6 Bahrain               Asia      2007 75.635  708573 29796.048"
      ]
     },
     "metadata": {},
     "output_type": "display_data"
    }
   ],
   "source": [
    "data |> head()"
   ]
  },
  {
   "cell_type": "code",
   "execution_count": 104,
   "id": "39db39c3-a608-433f-8762-393b9c7c9058",
   "metadata": {},
   "outputs": [],
   "source": [
    "data <- data |>\n",
    "    mutate(gdpTotal = pop * gdpPercap) "
   ]
  },
  {
   "cell_type": "code",
   "execution_count": 95,
   "id": "9cade8fa-6141-4a72-9249-e140762448eb",
   "metadata": {},
   "outputs": [
    {
     "data": {
      "text/html": [
       "<table class=\"dataframe\">\n",
       "<caption>A tibble: 6 x 7</caption>\n",
       "<thead>\n",
       "\t<tr><th scope=col>country</th><th scope=col>continent</th><th scope=col>year</th><th scope=col>lifeExp</th><th scope=col>pop</th><th scope=col>gdpPercap</th><th scope=col>gdpTotal</th></tr>\n",
       "\t<tr><th scope=col>&lt;fct&gt;</th><th scope=col>&lt;fct&gt;</th><th scope=col>&lt;int&gt;</th><th scope=col>&lt;dbl&gt;</th><th scope=col>&lt;int&gt;</th><th scope=col>&lt;dbl&gt;</th><th scope=col>&lt;dbl&gt;</th></tr>\n",
       "</thead>\n",
       "<tbody>\n",
       "\t<tr><td>China        </td><td>Asia    </td><td>2007</td><td>72.961</td><td>1318683096</td><td> 4959.115</td><td>6.539501e+12</td></tr>\n",
       "\t<tr><td>India        </td><td>Asia    </td><td>2007</td><td>64.698</td><td>1110396331</td><td> 2452.210</td><td>2.722925e+12</td></tr>\n",
       "\t<tr><td>United States</td><td>Americas</td><td>2007</td><td>78.242</td><td> 301139947</td><td>42951.653</td><td>1.293446e+13</td></tr>\n",
       "\t<tr><td>Indonesia    </td><td>Asia    </td><td>2007</td><td>70.650</td><td> 223547000</td><td> 3540.652</td><td>7.915020e+11</td></tr>\n",
       "\t<tr><td>Brazil       </td><td>Americas</td><td>2007</td><td>72.390</td><td> 190010647</td><td> 9065.801</td><td>1.722599e+12</td></tr>\n",
       "\t<tr><td>Pakistan     </td><td>Asia    </td><td>2007</td><td>65.483</td><td> 169270617</td><td> 2605.948</td><td>4.411104e+11</td></tr>\n",
       "</tbody>\n",
       "</table>\n"
      ],
      "text/latex": [
       "A tibble: 6 x 7\n",
       "\\begin{tabular}{lllllll}\n",
       " country & continent & year & lifeExp & pop & gdpPercap & gdpTotal\\\\\n",
       " <fct> & <fct> & <int> & <dbl> & <int> & <dbl> & <dbl>\\\\\n",
       "\\hline\n",
       "\t China         & Asia     & 2007 & 72.961 & 1318683096 &  4959.115 & 6.539501e+12\\\\\n",
       "\t India         & Asia     & 2007 & 64.698 & 1110396331 &  2452.210 & 2.722925e+12\\\\\n",
       "\t United States & Americas & 2007 & 78.242 &  301139947 & 42951.653 & 1.293446e+13\\\\\n",
       "\t Indonesia     & Asia     & 2007 & 70.650 &  223547000 &  3540.652 & 7.915020e+11\\\\\n",
       "\t Brazil        & Americas & 2007 & 72.390 &  190010647 &  9065.801 & 1.722599e+12\\\\\n",
       "\t Pakistan      & Asia     & 2007 & 65.483 &  169270617 &  2605.948 & 4.411104e+11\\\\\n",
       "\\end{tabular}\n"
      ],
      "text/markdown": [
       "\n",
       "A tibble: 6 x 7\n",
       "\n",
       "| country &lt;fct&gt; | continent &lt;fct&gt; | year &lt;int&gt; | lifeExp &lt;dbl&gt; | pop &lt;int&gt; | gdpPercap &lt;dbl&gt; | gdpTotal &lt;dbl&gt; |\n",
       "|---|---|---|---|---|---|---|\n",
       "| China         | Asia     | 2007 | 72.961 | 1318683096 |  4959.115 | 6.539501e+12 |\n",
       "| India         | Asia     | 2007 | 64.698 | 1110396331 |  2452.210 | 2.722925e+12 |\n",
       "| United States | Americas | 2007 | 78.242 |  301139947 | 42951.653 | 1.293446e+13 |\n",
       "| Indonesia     | Asia     | 2007 | 70.650 |  223547000 |  3540.652 | 7.915020e+11 |\n",
       "| Brazil        | Americas | 2007 | 72.390 |  190010647 |  9065.801 | 1.722599e+12 |\n",
       "| Pakistan      | Asia     | 2007 | 65.483 |  169270617 |  2605.948 | 4.411104e+11 |\n",
       "\n"
      ],
      "text/plain": [
       "  country       continent year lifeExp pop        gdpPercap gdpTotal    \n",
       "1 China         Asia      2007 72.961  1318683096  4959.115 6.539501e+12\n",
       "2 India         Asia      2007 64.698  1110396331  2452.210 2.722925e+12\n",
       "3 United States Americas  2007 78.242   301139947 42951.653 1.293446e+13\n",
       "4 Indonesia     Asia      2007 70.650   223547000  3540.652 7.915020e+11\n",
       "5 Brazil        Americas  2007 72.390   190010647  9065.801 1.722599e+12\n",
       "6 Pakistan      Asia      2007 65.483   169270617  2605.948 4.411104e+11"
      ]
     },
     "metadata": {},
     "output_type": "display_data"
    }
   ],
   "source": [
    "data |> head()"
   ]
  },
  {
   "cell_type": "code",
   "execution_count": 105,
   "id": "78c3cf8b-076c-45af-a5ff-1e2897588378",
   "metadata": {},
   "outputs": [
    {
     "data": {
      "text/html": [
       "<table class=\"dataframe\">\n",
       "<caption>A tibble: 6 x 1</caption>\n",
       "<thead>\n",
       "\t<tr><th scope=col>gdpTotal</th></tr>\n",
       "\t<tr><th scope=col>&lt;dbl&gt;</th></tr>\n",
       "</thead>\n",
       "<tbody>\n",
       "\t<tr><td>  319014077</td></tr>\n",
       "\t<tr><td>10924101861</td></tr>\n",
       "\t<tr><td> 1033689705</td></tr>\n",
       "\t<tr><td> 6699346424</td></tr>\n",
       "\t<tr><td> 6336475807</td></tr>\n",
       "\t<tr><td>21112675360</td></tr>\n",
       "</tbody>\n",
       "</table>\n"
      ],
      "text/latex": [
       "A tibble: 6 x 1\n",
       "\\begin{tabular}{l}\n",
       " gdpTotal\\\\\n",
       " <dbl>\\\\\n",
       "\\hline\n",
       "\t   319014077\\\\\n",
       "\t 10924101861\\\\\n",
       "\t  1033689705\\\\\n",
       "\t  6699346424\\\\\n",
       "\t  6336475807\\\\\n",
       "\t 21112675360\\\\\n",
       "\\end{tabular}\n"
      ],
      "text/markdown": [
       "\n",
       "A tibble: 6 x 1\n",
       "\n",
       "| gdpTotal &lt;dbl&gt; |\n",
       "|---|\n",
       "|   319014077 |\n",
       "| 10924101861 |\n",
       "|  1033689705 |\n",
       "|  6699346424 |\n",
       "|  6336475807 |\n",
       "| 21112675360 |\n",
       "\n"
      ],
      "text/plain": [
       "  gdpTotal   \n",
       "1   319014077\n",
       "2 10924101861\n",
       "3  1033689705\n",
       "4  6699346424\n",
       "5  6336475807\n",
       "6 21112675360"
      ]
     },
     "metadata": {},
     "output_type": "display_data"
    }
   ],
   "source": [
    "data |> transmute(gdpTotal = pop * gdpPercap) |> head()"
   ]
  },
  {
   "cell_type": "code",
   "execution_count": 106,
   "id": "e18eb9e3-e5e1-413b-b4b9-d932fb272cf2",
   "metadata": {},
   "outputs": [],
   "source": [
    "data <- data |>\n",
    "    mutate(gdpTotal = pop * gdpPercap,\n",
    "           country = toupper(country),\n",
    "           lifeExp = round(lifeExp))"
   ]
  },
  {
   "cell_type": "code",
   "execution_count": 108,
   "id": "3d49e3e0-7b63-4074-a427-e98600a53b1e",
   "metadata": {},
   "outputs": [
    {
     "data": {
      "text/html": [
       "<table class=\"dataframe\">\n",
       "<caption>A tibble: 6 x 7</caption>\n",
       "<thead>\n",
       "\t<tr><th scope=col>country</th><th scope=col>continent</th><th scope=col>year</th><th scope=col>lifeExp</th><th scope=col>pop</th><th scope=col>gdpPercap</th><th scope=col>gdpTotal</th></tr>\n",
       "\t<tr><th scope=col>&lt;chr&gt;</th><th scope=col>&lt;fct&gt;</th><th scope=col>&lt;int&gt;</th><th scope=col>&lt;dbl&gt;</th><th scope=col>&lt;int&gt;</th><th scope=col>&lt;dbl&gt;</th><th scope=col>&lt;dbl&gt;</th></tr>\n",
       "</thead>\n",
       "<tbody>\n",
       "\t<tr><td>SAO TOME AND PRINCIPE</td><td>Africa</td><td>2007</td><td>66</td><td>199579</td><td> 1598.435</td><td>  319014077</td></tr>\n",
       "\t<tr><td>ICELAND              </td><td>Europe</td><td>2007</td><td>82</td><td>301931</td><td>36180.789</td><td>10924101861</td></tr>\n",
       "\t<tr><td>DJIBOUTI             </td><td>Africa</td><td>2007</td><td>55</td><td>496374</td><td> 2082.482</td><td> 1033689705</td></tr>\n",
       "\t<tr><td>EQUATORIAL GUINEA    </td><td>Africa</td><td>2007</td><td>52</td><td>551201</td><td>12154.090</td><td> 6699346424</td></tr>\n",
       "\t<tr><td>MONTENEGRO           </td><td>Europe</td><td>2007</td><td>75</td><td>684736</td><td> 9253.896</td><td> 6336475807</td></tr>\n",
       "\t<tr><td>BAHRAIN              </td><td>Asia  </td><td>2007</td><td>76</td><td>708573</td><td>29796.048</td><td>21112675360</td></tr>\n",
       "</tbody>\n",
       "</table>\n"
      ],
      "text/latex": [
       "A tibble: 6 x 7\n",
       "\\begin{tabular}{lllllll}\n",
       " country & continent & year & lifeExp & pop & gdpPercap & gdpTotal\\\\\n",
       " <chr> & <fct> & <int> & <dbl> & <int> & <dbl> & <dbl>\\\\\n",
       "\\hline\n",
       "\t SAO TOME AND PRINCIPE & Africa & 2007 & 66 & 199579 &  1598.435 &   319014077\\\\\n",
       "\t ICELAND               & Europe & 2007 & 82 & 301931 & 36180.789 & 10924101861\\\\\n",
       "\t DJIBOUTI              & Africa & 2007 & 55 & 496374 &  2082.482 &  1033689705\\\\\n",
       "\t EQUATORIAL GUINEA     & Africa & 2007 & 52 & 551201 & 12154.090 &  6699346424\\\\\n",
       "\t MONTENEGRO            & Europe & 2007 & 75 & 684736 &  9253.896 &  6336475807\\\\\n",
       "\t BAHRAIN               & Asia   & 2007 & 76 & 708573 & 29796.048 & 21112675360\\\\\n",
       "\\end{tabular}\n"
      ],
      "text/markdown": [
       "\n",
       "A tibble: 6 x 7\n",
       "\n",
       "| country &lt;chr&gt; | continent &lt;fct&gt; | year &lt;int&gt; | lifeExp &lt;dbl&gt; | pop &lt;int&gt; | gdpPercap &lt;dbl&gt; | gdpTotal &lt;dbl&gt; |\n",
       "|---|---|---|---|---|---|---|\n",
       "| SAO TOME AND PRINCIPE | Africa | 2007 | 66 | 199579 |  1598.435 |   319014077 |\n",
       "| ICELAND               | Europe | 2007 | 82 | 301931 | 36180.789 | 10924101861 |\n",
       "| DJIBOUTI              | Africa | 2007 | 55 | 496374 |  2082.482 |  1033689705 |\n",
       "| EQUATORIAL GUINEA     | Africa | 2007 | 52 | 551201 | 12154.090 |  6699346424 |\n",
       "| MONTENEGRO            | Europe | 2007 | 75 | 684736 |  9253.896 |  6336475807 |\n",
       "| BAHRAIN               | Asia   | 2007 | 76 | 708573 | 29796.048 | 21112675360 |\n",
       "\n"
      ],
      "text/plain": [
       "  country               continent year lifeExp pop    gdpPercap gdpTotal   \n",
       "1 SAO TOME AND PRINCIPE Africa    2007 66      199579  1598.435   319014077\n",
       "2 ICELAND               Europe    2007 82      301931 36180.789 10924101861\n",
       "3 DJIBOUTI              Africa    2007 55      496374  2082.482  1033689705\n",
       "4 EQUATORIAL GUINEA     Africa    2007 52      551201 12154.090  6699346424\n",
       "5 MONTENEGRO            Europe    2007 75      684736  9253.896  6336475807\n",
       "6 BAHRAIN               Asia      2007 76      708573 29796.048 21112675360"
      ]
     },
     "metadata": {},
     "output_type": "display_data"
    }
   ],
   "source": [
    "data |> head()"
   ]
  },
  {
   "cell_type": "markdown",
   "id": "2861efea-b71f-4a5e-a4e1-d936f8b91f90",
   "metadata": {},
   "source": [
    "`Europe` -> `EU`"
   ]
  },
  {
   "cell_type": "code",
   "execution_count": 110,
   "id": "4fddb1ff-6310-45ea-a8e9-4feadb82a24a",
   "metadata": {},
   "outputs": [],
   "source": [
    "data <- data |>\n",
    "    mutate(continent = as.character(continent),\n",
    "          continent = ifelse(continent == \"Europe\", \"EU\", continent))"
   ]
  },
  {
   "cell_type": "code",
   "execution_count": 111,
   "id": "803352e9-99f3-4043-b6cf-c6db0ef1e76d",
   "metadata": {},
   "outputs": [
    {
     "data": {
      "text/html": [
       "<table class=\"dataframe\">\n",
       "<caption>A tibble: 6 x 7</caption>\n",
       "<thead>\n",
       "\t<tr><th scope=col>country</th><th scope=col>continent</th><th scope=col>year</th><th scope=col>lifeExp</th><th scope=col>pop</th><th scope=col>gdpPercap</th><th scope=col>gdpTotal</th></tr>\n",
       "\t<tr><th scope=col>&lt;chr&gt;</th><th scope=col>&lt;chr&gt;</th><th scope=col>&lt;int&gt;</th><th scope=col>&lt;dbl&gt;</th><th scope=col>&lt;int&gt;</th><th scope=col>&lt;dbl&gt;</th><th scope=col>&lt;dbl&gt;</th></tr>\n",
       "</thead>\n",
       "<tbody>\n",
       "\t<tr><td>SAO TOME AND PRINCIPE</td><td>Africa</td><td>2007</td><td>66</td><td>199579</td><td> 1598.435</td><td>  319014077</td></tr>\n",
       "\t<tr><td>ICELAND              </td><td>EU    </td><td>2007</td><td>82</td><td>301931</td><td>36180.789</td><td>10924101861</td></tr>\n",
       "\t<tr><td>DJIBOUTI             </td><td>Africa</td><td>2007</td><td>55</td><td>496374</td><td> 2082.482</td><td> 1033689705</td></tr>\n",
       "\t<tr><td>EQUATORIAL GUINEA    </td><td>Africa</td><td>2007</td><td>52</td><td>551201</td><td>12154.090</td><td> 6699346424</td></tr>\n",
       "\t<tr><td>MONTENEGRO           </td><td>EU    </td><td>2007</td><td>75</td><td>684736</td><td> 9253.896</td><td> 6336475807</td></tr>\n",
       "\t<tr><td>BAHRAIN              </td><td>Asia  </td><td>2007</td><td>76</td><td>708573</td><td>29796.048</td><td>21112675360</td></tr>\n",
       "</tbody>\n",
       "</table>\n"
      ],
      "text/latex": [
       "A tibble: 6 x 7\n",
       "\\begin{tabular}{lllllll}\n",
       " country & continent & year & lifeExp & pop & gdpPercap & gdpTotal\\\\\n",
       " <chr> & <chr> & <int> & <dbl> & <int> & <dbl> & <dbl>\\\\\n",
       "\\hline\n",
       "\t SAO TOME AND PRINCIPE & Africa & 2007 & 66 & 199579 &  1598.435 &   319014077\\\\\n",
       "\t ICELAND               & EU     & 2007 & 82 & 301931 & 36180.789 & 10924101861\\\\\n",
       "\t DJIBOUTI              & Africa & 2007 & 55 & 496374 &  2082.482 &  1033689705\\\\\n",
       "\t EQUATORIAL GUINEA     & Africa & 2007 & 52 & 551201 & 12154.090 &  6699346424\\\\\n",
       "\t MONTENEGRO            & EU     & 2007 & 75 & 684736 &  9253.896 &  6336475807\\\\\n",
       "\t BAHRAIN               & Asia   & 2007 & 76 & 708573 & 29796.048 & 21112675360\\\\\n",
       "\\end{tabular}\n"
      ],
      "text/markdown": [
       "\n",
       "A tibble: 6 x 7\n",
       "\n",
       "| country &lt;chr&gt; | continent &lt;chr&gt; | year &lt;int&gt; | lifeExp &lt;dbl&gt; | pop &lt;int&gt; | gdpPercap &lt;dbl&gt; | gdpTotal &lt;dbl&gt; |\n",
       "|---|---|---|---|---|---|---|\n",
       "| SAO TOME AND PRINCIPE | Africa | 2007 | 66 | 199579 |  1598.435 |   319014077 |\n",
       "| ICELAND               | EU     | 2007 | 82 | 301931 | 36180.789 | 10924101861 |\n",
       "| DJIBOUTI              | Africa | 2007 | 55 | 496374 |  2082.482 |  1033689705 |\n",
       "| EQUATORIAL GUINEA     | Africa | 2007 | 52 | 551201 | 12154.090 |  6699346424 |\n",
       "| MONTENEGRO            | EU     | 2007 | 75 | 684736 |  9253.896 |  6336475807 |\n",
       "| BAHRAIN               | Asia   | 2007 | 76 | 708573 | 29796.048 | 21112675360 |\n",
       "\n"
      ],
      "text/plain": [
       "  country               continent year lifeExp pop    gdpPercap gdpTotal   \n",
       "1 SAO TOME AND PRINCIPE Africa    2007 66      199579  1598.435   319014077\n",
       "2 ICELAND               EU        2007 82      301931 36180.789 10924101861\n",
       "3 DJIBOUTI              Africa    2007 55      496374  2082.482  1033689705\n",
       "4 EQUATORIAL GUINEA     Africa    2007 52      551201 12154.090  6699346424\n",
       "5 MONTENEGRO            EU        2007 75      684736  9253.896  6336475807\n",
       "6 BAHRAIN               Asia      2007 76      708573 29796.048 21112675360"
      ]
     },
     "metadata": {},
     "output_type": "display_data"
    }
   ],
   "source": [
    "data |> head()"
   ]
  },
  {
   "cell_type": "markdown",
   "id": "86b4cdff-10c9-4e9b-befc-8e7846946fe9",
   "metadata": {},
   "source": [
    "## 9. `rename`"
   ]
  },
  {
   "cell_type": "code",
   "execution_count": 112,
   "id": "fe305a21-8193-4058-bff0-14d1ba31cbc6",
   "metadata": {},
   "outputs": [],
   "source": [
    "data <- data |>\n",
    "    rename(population = pop)\n",
    "\n",
    "#rename_if\n",
    "#rename_at"
   ]
  },
  {
   "cell_type": "code",
   "execution_count": 113,
   "id": "e7c38cb0-b537-4a1b-9c89-6702f87108fc",
   "metadata": {},
   "outputs": [
    {
     "data": {
      "text/html": [
       "<table class=\"dataframe\">\n",
       "<caption>A tibble: 6 x 7</caption>\n",
       "<thead>\n",
       "\t<tr><th scope=col>country</th><th scope=col>continent</th><th scope=col>year</th><th scope=col>lifeExp</th><th scope=col>population</th><th scope=col>gdpPercap</th><th scope=col>gdpTotal</th></tr>\n",
       "\t<tr><th scope=col>&lt;chr&gt;</th><th scope=col>&lt;chr&gt;</th><th scope=col>&lt;int&gt;</th><th scope=col>&lt;dbl&gt;</th><th scope=col>&lt;int&gt;</th><th scope=col>&lt;dbl&gt;</th><th scope=col>&lt;dbl&gt;</th></tr>\n",
       "</thead>\n",
       "<tbody>\n",
       "\t<tr><td>SAO TOME AND PRINCIPE</td><td>Africa</td><td>2007</td><td>66</td><td>199579</td><td> 1598.435</td><td>  319014077</td></tr>\n",
       "\t<tr><td>ICELAND              </td><td>EU    </td><td>2007</td><td>82</td><td>301931</td><td>36180.789</td><td>10924101861</td></tr>\n",
       "\t<tr><td>DJIBOUTI             </td><td>Africa</td><td>2007</td><td>55</td><td>496374</td><td> 2082.482</td><td> 1033689705</td></tr>\n",
       "\t<tr><td>EQUATORIAL GUINEA    </td><td>Africa</td><td>2007</td><td>52</td><td>551201</td><td>12154.090</td><td> 6699346424</td></tr>\n",
       "\t<tr><td>MONTENEGRO           </td><td>EU    </td><td>2007</td><td>75</td><td>684736</td><td> 9253.896</td><td> 6336475807</td></tr>\n",
       "\t<tr><td>BAHRAIN              </td><td>Asia  </td><td>2007</td><td>76</td><td>708573</td><td>29796.048</td><td>21112675360</td></tr>\n",
       "</tbody>\n",
       "</table>\n"
      ],
      "text/latex": [
       "A tibble: 6 x 7\n",
       "\\begin{tabular}{lllllll}\n",
       " country & continent & year & lifeExp & population & gdpPercap & gdpTotal\\\\\n",
       " <chr> & <chr> & <int> & <dbl> & <int> & <dbl> & <dbl>\\\\\n",
       "\\hline\n",
       "\t SAO TOME AND PRINCIPE & Africa & 2007 & 66 & 199579 &  1598.435 &   319014077\\\\\n",
       "\t ICELAND               & EU     & 2007 & 82 & 301931 & 36180.789 & 10924101861\\\\\n",
       "\t DJIBOUTI              & Africa & 2007 & 55 & 496374 &  2082.482 &  1033689705\\\\\n",
       "\t EQUATORIAL GUINEA     & Africa & 2007 & 52 & 551201 & 12154.090 &  6699346424\\\\\n",
       "\t MONTENEGRO            & EU     & 2007 & 75 & 684736 &  9253.896 &  6336475807\\\\\n",
       "\t BAHRAIN               & Asia   & 2007 & 76 & 708573 & 29796.048 & 21112675360\\\\\n",
       "\\end{tabular}\n"
      ],
      "text/markdown": [
       "\n",
       "A tibble: 6 x 7\n",
       "\n",
       "| country &lt;chr&gt; | continent &lt;chr&gt; | year &lt;int&gt; | lifeExp &lt;dbl&gt; | population &lt;int&gt; | gdpPercap &lt;dbl&gt; | gdpTotal &lt;dbl&gt; |\n",
       "|---|---|---|---|---|---|---|\n",
       "| SAO TOME AND PRINCIPE | Africa | 2007 | 66 | 199579 |  1598.435 |   319014077 |\n",
       "| ICELAND               | EU     | 2007 | 82 | 301931 | 36180.789 | 10924101861 |\n",
       "| DJIBOUTI              | Africa | 2007 | 55 | 496374 |  2082.482 |  1033689705 |\n",
       "| EQUATORIAL GUINEA     | Africa | 2007 | 52 | 551201 | 12154.090 |  6699346424 |\n",
       "| MONTENEGRO            | EU     | 2007 | 75 | 684736 |  9253.896 |  6336475807 |\n",
       "| BAHRAIN               | Asia   | 2007 | 76 | 708573 | 29796.048 | 21112675360 |\n",
       "\n"
      ],
      "text/plain": [
       "  country               continent year lifeExp population gdpPercap gdpTotal   \n",
       "1 SAO TOME AND PRINCIPE Africa    2007 66      199579      1598.435   319014077\n",
       "2 ICELAND               EU        2007 82      301931     36180.789 10924101861\n",
       "3 DJIBOUTI              Africa    2007 55      496374      2082.482  1033689705\n",
       "4 EQUATORIAL GUINEA     Africa    2007 52      551201     12154.090  6699346424\n",
       "5 MONTENEGRO            EU        2007 75      684736      9253.896  6336475807\n",
       "6 BAHRAIN               Asia      2007 76      708573     29796.048 21112675360"
      ]
     },
     "metadata": {},
     "output_type": "display_data"
    }
   ],
   "source": [
    "data |> head()"
   ]
  },
  {
   "cell_type": "markdown",
   "id": "4e06e8e0-6857-448a-894f-93be7e0c4147",
   "metadata": {},
   "source": [
    "## 10. `group_by` + `summarise`"
   ]
  },
  {
   "cell_type": "code",
   "execution_count": 115,
   "id": "2666e352-797e-462d-9118-f7697c6b58ee",
   "metadata": {},
   "outputs": [],
   "source": [
    "data <- gapminder |>\n",
    "    filter(year == 2007) |>\n",
    "    group_by(continent) |>\n",
    "    summarise(\n",
    "        lifeExp2007 = mean(lifeExp),\n",
    "        countriesCount = n()\n",
    "    )"
   ]
  },
  {
   "cell_type": "code",
   "execution_count": 116,
   "id": "9ecf5b47-1ddd-4b36-8472-59e4d27f6746",
   "metadata": {},
   "outputs": [
    {
     "data": {
      "text/html": [
       "<table class=\"dataframe\">\n",
       "<caption>A tibble: 5 x 3</caption>\n",
       "<thead>\n",
       "\t<tr><th scope=col>continent</th><th scope=col>lifeExp2007</th><th scope=col>countriesCount</th></tr>\n",
       "\t<tr><th scope=col>&lt;fct&gt;</th><th scope=col>&lt;dbl&gt;</th><th scope=col>&lt;int&gt;</th></tr>\n",
       "</thead>\n",
       "<tbody>\n",
       "\t<tr><td>Africa  </td><td>54.80604</td><td>52</td></tr>\n",
       "\t<tr><td>Americas</td><td>73.60812</td><td>25</td></tr>\n",
       "\t<tr><td>Asia    </td><td>70.72848</td><td>33</td></tr>\n",
       "\t<tr><td>Europe  </td><td>77.64860</td><td>30</td></tr>\n",
       "\t<tr><td>Oceania </td><td>80.71950</td><td> 2</td></tr>\n",
       "</tbody>\n",
       "</table>\n"
      ],
      "text/latex": [
       "A tibble: 5 x 3\n",
       "\\begin{tabular}{lll}\n",
       " continent & lifeExp2007 & countriesCount\\\\\n",
       " <fct> & <dbl> & <int>\\\\\n",
       "\\hline\n",
       "\t Africa   & 54.80604 & 52\\\\\n",
       "\t Americas & 73.60812 & 25\\\\\n",
       "\t Asia     & 70.72848 & 33\\\\\n",
       "\t Europe   & 77.64860 & 30\\\\\n",
       "\t Oceania  & 80.71950 &  2\\\\\n",
       "\\end{tabular}\n"
      ],
      "text/markdown": [
       "\n",
       "A tibble: 5 x 3\n",
       "\n",
       "| continent &lt;fct&gt; | lifeExp2007 &lt;dbl&gt; | countriesCount &lt;int&gt; |\n",
       "|---|---|---|\n",
       "| Africa   | 54.80604 | 52 |\n",
       "| Americas | 73.60812 | 25 |\n",
       "| Asia     | 70.72848 | 33 |\n",
       "| Europe   | 77.64860 | 30 |\n",
       "| Oceania  | 80.71950 |  2 |\n",
       "\n"
      ],
      "text/plain": [
       "  continent lifeExp2007 countriesCount\n",
       "1 Africa    54.80604    52            \n",
       "2 Americas  73.60812    25            \n",
       "3 Asia      70.72848    33            \n",
       "4 Europe    77.64860    30            \n",
       "5 Oceania   80.71950     2            "
      ]
     },
     "metadata": {},
     "output_type": "display_data"
    }
   ],
   "source": [
    "data |> head()"
   ]
  },
  {
   "cell_type": "code",
   "execution_count": 117,
   "id": "e6248fcc-7e79-420c-a5ad-18840bd355d9",
   "metadata": {},
   "outputs": [],
   "source": [
    "data <- gapminder |>\n",
    "    filter(year == 2007) |>\n",
    "    group_by(continent) |>\n",
    "    summarise(\n",
    "        pop = sum(pop)\n",
    "    )"
   ]
  },
  {
   "cell_type": "code",
   "execution_count": 121,
   "id": "b347cede-8dd8-47c2-b10e-aff842c0d80c",
   "metadata": {},
   "outputs": [
    {
     "data": {
      "text/html": [
       "<table class=\"dataframe\">\n",
       "<caption>A tibble: 5 x 2</caption>\n",
       "<thead>\n",
       "\t<tr><th scope=col>continent</th><th scope=col>pop</th></tr>\n",
       "\t<tr><th scope=col>&lt;fct&gt;</th><th scope=col>&lt;dbl&gt;</th></tr>\n",
       "</thead>\n",
       "<tbody>\n",
       "\t<tr><td>Africa  </td><td> 929539692</td></tr>\n",
       "\t<tr><td>Americas</td><td> 898871184</td></tr>\n",
       "\t<tr><td>Asia    </td><td>3811953827</td></tr>\n",
       "\t<tr><td>Europe  </td><td> 586098529</td></tr>\n",
       "\t<tr><td>Oceania </td><td>  24549947</td></tr>\n",
       "</tbody>\n",
       "</table>\n"
      ],
      "text/latex": [
       "A tibble: 5 x 2\n",
       "\\begin{tabular}{ll}\n",
       " continent & pop\\\\\n",
       " <fct> & <dbl>\\\\\n",
       "\\hline\n",
       "\t Africa   &  929539692\\\\\n",
       "\t Americas &  898871184\\\\\n",
       "\t Asia     & 3811953827\\\\\n",
       "\t Europe   &  586098529\\\\\n",
       "\t Oceania  &   24549947\\\\\n",
       "\\end{tabular}\n"
      ],
      "text/markdown": [
       "\n",
       "A tibble: 5 x 2\n",
       "\n",
       "| continent &lt;fct&gt; | pop &lt;dbl&gt; |\n",
       "|---|---|\n",
       "| Africa   |  929539692 |\n",
       "| Americas |  898871184 |\n",
       "| Asia     | 3811953827 |\n",
       "| Europe   |  586098529 |\n",
       "| Oceania  |   24549947 |\n",
       "\n"
      ],
      "text/plain": [
       "  continent pop       \n",
       "1 Africa     929539692\n",
       "2 Americas   898871184\n",
       "3 Asia      3811953827\n",
       "4 Europe     586098529\n",
       "5 Oceania     24549947"
      ]
     },
     "metadata": {},
     "output_type": "display_data"
    }
   ],
   "source": [
    "data"
   ]
  },
  {
   "cell_type": "code",
   "execution_count": 122,
   "id": "1a338d9c-df51-4724-a151-7b19ddfbf6b0",
   "metadata": {},
   "outputs": [
    {
     "data": {
      "text/html": [
       "6251013179"
      ],
      "text/latex": [
       "6251013179"
      ],
      "text/markdown": [
       "6251013179"
      ],
      "text/plain": [
       "[1] 6251013179"
      ]
     },
     "metadata": {},
     "output_type": "display_data"
    }
   ],
   "source": [
    "sum(data$pop)"
   ]
  },
  {
   "cell_type": "code",
   "execution_count": 123,
   "id": "c2e2231b-0c3d-4ce6-bfd4-d961c4f501f7",
   "metadata": {},
   "outputs": [],
   "source": [
    "data <- data |>\n",
    "    mutate(pop_perc = round(100*pop/sum(data$pop), 2))\n",
    "    "
   ]
  },
  {
   "cell_type": "code",
   "execution_count": 125,
   "id": "84629b53-9e89-4a41-a386-29b4388a581f",
   "metadata": {},
   "outputs": [
    {
     "data": {
      "text/html": [
       "<table class=\"dataframe\">\n",
       "<caption>A tibble: 5 x 3</caption>\n",
       "<thead>\n",
       "\t<tr><th scope=col>continent</th><th scope=col>pop</th><th scope=col>pop_perc</th></tr>\n",
       "\t<tr><th scope=col>&lt;fct&gt;</th><th scope=col>&lt;dbl&gt;</th><th scope=col>&lt;dbl&gt;</th></tr>\n",
       "</thead>\n",
       "<tbody>\n",
       "\t<tr><td>Africa  </td><td> 929539692</td><td>14.87</td></tr>\n",
       "\t<tr><td>Americas</td><td> 898871184</td><td>14.38</td></tr>\n",
       "\t<tr><td>Asia    </td><td>3811953827</td><td>60.98</td></tr>\n",
       "\t<tr><td>Europe  </td><td> 586098529</td><td> 9.38</td></tr>\n",
       "\t<tr><td>Oceania </td><td>  24549947</td><td> 0.39</td></tr>\n",
       "</tbody>\n",
       "</table>\n"
      ],
      "text/latex": [
       "A tibble: 5 x 3\n",
       "\\begin{tabular}{lll}\n",
       " continent & pop & pop\\_perc\\\\\n",
       " <fct> & <dbl> & <dbl>\\\\\n",
       "\\hline\n",
       "\t Africa   &  929539692 & 14.87\\\\\n",
       "\t Americas &  898871184 & 14.38\\\\\n",
       "\t Asia     & 3811953827 & 60.98\\\\\n",
       "\t Europe   &  586098529 &  9.38\\\\\n",
       "\t Oceania  &   24549947 &  0.39\\\\\n",
       "\\end{tabular}\n"
      ],
      "text/markdown": [
       "\n",
       "A tibble: 5 x 3\n",
       "\n",
       "| continent &lt;fct&gt; | pop &lt;dbl&gt; | pop_perc &lt;dbl&gt; |\n",
       "|---|---|---|\n",
       "| Africa   |  929539692 | 14.87 |\n",
       "| Americas |  898871184 | 14.38 |\n",
       "| Asia     | 3811953827 | 60.98 |\n",
       "| Europe   |  586098529 |  9.38 |\n",
       "| Oceania  |   24549947 |  0.39 |\n",
       "\n"
      ],
      "text/plain": [
       "  continent pop        pop_perc\n",
       "1 Africa     929539692 14.87   \n",
       "2 Americas   898871184 14.38   \n",
       "3 Asia      3811953827 60.98   \n",
       "4 Europe     586098529  9.38   \n",
       "5 Oceania     24549947  0.39   "
      ]
     },
     "metadata": {},
     "output_type": "display_data"
    }
   ],
   "source": [
    "data"
   ]
  },
  {
   "cell_type": "code",
   "execution_count": 128,
   "id": "95405ec8-2eee-449b-a36a-477a62edeae8",
   "metadata": {},
   "outputs": [
    {
     "data": {
      "text/html": [
       "100"
      ],
      "text/latex": [
       "100"
      ],
      "text/markdown": [
       "100"
      ],
      "text/plain": [
       "[1] 100"
      ]
     },
     "metadata": {},
     "output_type": "display_data"
    }
   ],
   "source": [
    "sum(data$pop_perc)"
   ]
  },
  {
   "cell_type": "markdown",
   "id": "5413dafc-1198-439f-b635-ea3ab2fa1845",
   "metadata": {},
   "source": [
    "## 11. `bind_`"
   ]
  },
  {
   "cell_type": "code",
   "execution_count": 12,
   "id": "da347626-09cc-48d9-99d0-fa921e38acf4",
   "metadata": {},
   "outputs": [
    {
     "data": {
      "text/html": [
       "<table class=\"dataframe\">\n",
       "<caption>A tibble: 5 x 3</caption>\n",
       "<thead>\n",
       "\t<tr><th scope=col>continent</th><th scope=col>lifeExp2007</th><th scope=col>countriesCount</th></tr>\n",
       "\t<tr><th scope=col>&lt;fct&gt;</th><th scope=col>&lt;dbl&gt;</th><th scope=col>&lt;int&gt;</th></tr>\n",
       "</thead>\n",
       "<tbody>\n",
       "\t<tr><td>Africa  </td><td>54.80604</td><td>52</td></tr>\n",
       "\t<tr><td>Americas</td><td>73.60812</td><td>25</td></tr>\n",
       "\t<tr><td>Asia    </td><td>70.72848</td><td>33</td></tr>\n",
       "\t<tr><td>Europe  </td><td>77.64860</td><td>30</td></tr>\n",
       "\t<tr><td>Oceania </td><td>80.71950</td><td> 2</td></tr>\n",
       "</tbody>\n",
       "</table>\n"
      ],
      "text/latex": [
       "A tibble: 5 x 3\n",
       "\\begin{tabular}{lll}\n",
       " continent & lifeExp2007 & countriesCount\\\\\n",
       " <fct> & <dbl> & <int>\\\\\n",
       "\\hline\n",
       "\t Africa   & 54.80604 & 52\\\\\n",
       "\t Americas & 73.60812 & 25\\\\\n",
       "\t Asia     & 70.72848 & 33\\\\\n",
       "\t Europe   & 77.64860 & 30\\\\\n",
       "\t Oceania  & 80.71950 &  2\\\\\n",
       "\\end{tabular}\n"
      ],
      "text/markdown": [
       "\n",
       "A tibble: 5 x 3\n",
       "\n",
       "| continent &lt;fct&gt; | lifeExp2007 &lt;dbl&gt; | countriesCount &lt;int&gt; |\n",
       "|---|---|---|\n",
       "| Africa   | 54.80604 | 52 |\n",
       "| Americas | 73.60812 | 25 |\n",
       "| Asia     | 70.72848 | 33 |\n",
       "| Europe   | 77.64860 | 30 |\n",
       "| Oceania  | 80.71950 |  2 |\n",
       "\n"
      ],
      "text/plain": [
       "  continent lifeExp2007 countriesCount\n",
       "1 Africa    54.80604    52            \n",
       "2 Americas  73.60812    25            \n",
       "3 Asia      70.72848    33            \n",
       "4 Europe    77.64860    30            \n",
       "5 Oceania   80.71950     2            "
      ]
     },
     "metadata": {},
     "output_type": "display_data"
    }
   ],
   "source": [
    "data1 <- gapminder |>\n",
    "    filter(year == 2007) |>\n",
    "    group_by(continent) |>\n",
    "    summarise(\n",
    "        lifeExp2007 = mean(lifeExp),\n",
    "        countriesCount = n()\n",
    "    )\n",
    "data1"
   ]
  },
  {
   "cell_type": "code",
   "execution_count": 14,
   "id": "19989556-dabb-42f6-87f5-6a754c56b715",
   "metadata": {},
   "outputs": [
    {
     "data": {
      "text/html": [
       "<table class=\"dataframe\">\n",
       "<caption>A tibble: 5 x 3</caption>\n",
       "<thead>\n",
       "\t<tr><th scope=col>continent</th><th scope=col>pop</th><th scope=col>pop_perc</th></tr>\n",
       "\t<tr><th scope=col>&lt;fct&gt;</th><th scope=col>&lt;dbl&gt;</th><th scope=col>&lt;dbl&gt;</th></tr>\n",
       "</thead>\n",
       "<tbody>\n",
       "\t<tr><td>Oceania </td><td>  24549947</td><td> 0.39</td></tr>\n",
       "\t<tr><td>Europe  </td><td> 586098529</td><td> 9.38</td></tr>\n",
       "\t<tr><td>Americas</td><td> 898871184</td><td>14.38</td></tr>\n",
       "\t<tr><td>Africa  </td><td> 929539692</td><td>14.87</td></tr>\n",
       "\t<tr><td>Asia    </td><td>3811953827</td><td>60.98</td></tr>\n",
       "</tbody>\n",
       "</table>\n"
      ],
      "text/latex": [
       "A tibble: 5 x 3\n",
       "\\begin{tabular}{lll}\n",
       " continent & pop & pop\\_perc\\\\\n",
       " <fct> & <dbl> & <dbl>\\\\\n",
       "\\hline\n",
       "\t Oceania  &   24549947 &  0.39\\\\\n",
       "\t Europe   &  586098529 &  9.38\\\\\n",
       "\t Americas &  898871184 & 14.38\\\\\n",
       "\t Africa   &  929539692 & 14.87\\\\\n",
       "\t Asia     & 3811953827 & 60.98\\\\\n",
       "\\end{tabular}\n"
      ],
      "text/markdown": [
       "\n",
       "A tibble: 5 x 3\n",
       "\n",
       "| continent &lt;fct&gt; | pop &lt;dbl&gt; | pop_perc &lt;dbl&gt; |\n",
       "|---|---|---|\n",
       "| Oceania  |   24549947 |  0.39 |\n",
       "| Europe   |  586098529 |  9.38 |\n",
       "| Americas |  898871184 | 14.38 |\n",
       "| Africa   |  929539692 | 14.87 |\n",
       "| Asia     | 3811953827 | 60.98 |\n",
       "\n"
      ],
      "text/plain": [
       "  continent pop        pop_perc\n",
       "1 Oceania     24549947  0.39   \n",
       "2 Europe     586098529  9.38   \n",
       "3 Americas   898871184 14.38   \n",
       "4 Africa     929539692 14.87   \n",
       "5 Asia      3811953827 60.98   "
      ]
     },
     "metadata": {},
     "output_type": "display_data"
    }
   ],
   "source": [
    "data2 <- gapminder |>\n",
    "    filter(year == 2007) |>\n",
    "    group_by(continent) |>\n",
    "    summarise(\n",
    "        pop = sum(pop)\n",
    "    ) \n",
    "data2 <- data2 |>\n",
    "    mutate(pop_perc = round(100*pop/sum(data2$pop), 2)) |>\n",
    "    arrange(pop)\n",
    "data2"
   ]
  },
  {
   "cell_type": "code",
   "execution_count": 15,
   "id": "950daabf-192f-4c3c-91bd-69038da9929b",
   "metadata": {
    "scrolled": true
   },
   "outputs": [
    {
     "name": "stderr",
     "output_type": "stream",
     "text": [
      "\u001b[1m\u001b[22mNew names:\n",
      "\u001b[36m*\u001b[39m `continent` -> `continent...1`\n",
      "\u001b[36m*\u001b[39m `continent` -> `continent...4`\n"
     ]
    },
    {
     "data": {
      "text/html": [
       "<table class=\"dataframe\">\n",
       "<caption>A tibble: 5 x 6</caption>\n",
       "<thead>\n",
       "\t<tr><th scope=col>continent...1</th><th scope=col>lifeExp2007</th><th scope=col>countriesCount</th><th scope=col>continent...4</th><th scope=col>pop</th><th scope=col>pop_perc</th></tr>\n",
       "\t<tr><th scope=col>&lt;fct&gt;</th><th scope=col>&lt;dbl&gt;</th><th scope=col>&lt;int&gt;</th><th scope=col>&lt;fct&gt;</th><th scope=col>&lt;dbl&gt;</th><th scope=col>&lt;dbl&gt;</th></tr>\n",
       "</thead>\n",
       "<tbody>\n",
       "\t<tr><td>Africa  </td><td>54.80604</td><td>52</td><td>Oceania </td><td>  24549947</td><td> 0.39</td></tr>\n",
       "\t<tr><td>Americas</td><td>73.60812</td><td>25</td><td>Europe  </td><td> 586098529</td><td> 9.38</td></tr>\n",
       "\t<tr><td>Asia    </td><td>70.72848</td><td>33</td><td>Americas</td><td> 898871184</td><td>14.38</td></tr>\n",
       "\t<tr><td>Europe  </td><td>77.64860</td><td>30</td><td>Africa  </td><td> 929539692</td><td>14.87</td></tr>\n",
       "\t<tr><td>Oceania </td><td>80.71950</td><td> 2</td><td>Asia    </td><td>3811953827</td><td>60.98</td></tr>\n",
       "</tbody>\n",
       "</table>\n"
      ],
      "text/latex": [
       "A tibble: 5 x 6\n",
       "\\begin{tabular}{llllll}\n",
       " continent...1 & lifeExp2007 & countriesCount & continent...4 & pop & pop\\_perc\\\\\n",
       " <fct> & <dbl> & <int> & <fct> & <dbl> & <dbl>\\\\\n",
       "\\hline\n",
       "\t Africa   & 54.80604 & 52 & Oceania  &   24549947 &  0.39\\\\\n",
       "\t Americas & 73.60812 & 25 & Europe   &  586098529 &  9.38\\\\\n",
       "\t Asia     & 70.72848 & 33 & Americas &  898871184 & 14.38\\\\\n",
       "\t Europe   & 77.64860 & 30 & Africa   &  929539692 & 14.87\\\\\n",
       "\t Oceania  & 80.71950 &  2 & Asia     & 3811953827 & 60.98\\\\\n",
       "\\end{tabular}\n"
      ],
      "text/markdown": [
       "\n",
       "A tibble: 5 x 6\n",
       "\n",
       "| continent...1 &lt;fct&gt; | lifeExp2007 &lt;dbl&gt; | countriesCount &lt;int&gt; | continent...4 &lt;fct&gt; | pop &lt;dbl&gt; | pop_perc &lt;dbl&gt; |\n",
       "|---|---|---|---|---|---|\n",
       "| Africa   | 54.80604 | 52 | Oceania  |   24549947 |  0.39 |\n",
       "| Americas | 73.60812 | 25 | Europe   |  586098529 |  9.38 |\n",
       "| Asia     | 70.72848 | 33 | Americas |  898871184 | 14.38 |\n",
       "| Europe   | 77.64860 | 30 | Africa   |  929539692 | 14.87 |\n",
       "| Oceania  | 80.71950 |  2 | Asia     | 3811953827 | 60.98 |\n",
       "\n"
      ],
      "text/plain": [
       "  continent...1 lifeExp2007 countriesCount continent...4 pop        pop_perc\n",
       "1 Africa        54.80604    52             Oceania         24549947  0.39   \n",
       "2 Americas      73.60812    25             Europe         586098529  9.38   \n",
       "3 Asia          70.72848    33             Americas       898871184 14.38   \n",
       "4 Europe        77.64860    30             Africa         929539692 14.87   \n",
       "5 Oceania       80.71950     2             Asia          3811953827 60.98   "
      ]
     },
     "metadata": {},
     "output_type": "display_data"
    }
   ],
   "source": [
    "data_all <- data1 |> \n",
    "    bind_cols(data2) #|>\n",
    "    #select(-4) |>\n",
    "    #rename(continent = `continent...1`)\n",
    "data_all"
   ]
  },
  {
   "cell_type": "code",
   "execution_count": 137,
   "id": "1c1f5371-61db-4404-a31f-fbc9681905d6",
   "metadata": {},
   "outputs": [
    {
     "data": {
      "text/html": [
       "<table class=\"dataframe\">\n",
       "<caption>A tibble: 5 x 3</caption>\n",
       "<thead>\n",
       "\t<tr><th scope=col>continent</th><th scope=col>lifeExp2007</th><th scope=col>countriesCount</th></tr>\n",
       "\t<tr><th scope=col>&lt;fct&gt;</th><th scope=col>&lt;dbl&gt;</th><th scope=col>&lt;int&gt;</th></tr>\n",
       "</thead>\n",
       "<tbody>\n",
       "\t<tr><td>Africa  </td><td>53.32523</td><td>52</td></tr>\n",
       "\t<tr><td>Americas</td><td>72.42204</td><td>25</td></tr>\n",
       "\t<tr><td>Asia    </td><td>69.23388</td><td>33</td></tr>\n",
       "\t<tr><td>Europe  </td><td>76.70060</td><td>30</td></tr>\n",
       "\t<tr><td>Oceania </td><td>79.74000</td><td> 2</td></tr>\n",
       "</tbody>\n",
       "</table>\n"
      ],
      "text/latex": [
       "A tibble: 5 x 3\n",
       "\\begin{tabular}{lll}\n",
       " continent & lifeExp2007 & countriesCount\\\\\n",
       " <fct> & <dbl> & <int>\\\\\n",
       "\\hline\n",
       "\t Africa   & 53.32523 & 52\\\\\n",
       "\t Americas & 72.42204 & 25\\\\\n",
       "\t Asia     & 69.23388 & 33\\\\\n",
       "\t Europe   & 76.70060 & 30\\\\\n",
       "\t Oceania  & 79.74000 &  2\\\\\n",
       "\\end{tabular}\n"
      ],
      "text/markdown": [
       "\n",
       "A tibble: 5 x 3\n",
       "\n",
       "| continent &lt;fct&gt; | lifeExp2007 &lt;dbl&gt; | countriesCount &lt;int&gt; |\n",
       "|---|---|---|\n",
       "| Africa   | 53.32523 | 52 |\n",
       "| Americas | 72.42204 | 25 |\n",
       "| Asia     | 69.23388 | 33 |\n",
       "| Europe   | 76.70060 | 30 |\n",
       "| Oceania  | 79.74000 |  2 |\n",
       "\n"
      ],
      "text/plain": [
       "  continent lifeExp2007 countriesCount\n",
       "1 Africa    53.32523    52            \n",
       "2 Americas  72.42204    25            \n",
       "3 Asia      69.23388    33            \n",
       "4 Europe    76.70060    30            \n",
       "5 Oceania   79.74000     2            "
      ]
     },
     "metadata": {},
     "output_type": "display_data"
    }
   ],
   "source": [
    "data1_2002 <- gapminder |>\n",
    "    filter(year == 2002) |>\n",
    "    group_by(continent) |>\n",
    "    summarise(\n",
    "        lifeExp2007 = mean(lifeExp),\n",
    "        countriesCount = n()\n",
    "    )\n",
    "data1_2002"
   ]
  },
  {
   "cell_type": "code",
   "execution_count": 139,
   "id": "e032eacc-a424-42c6-8840-3f019638df1b",
   "metadata": {},
   "outputs": [],
   "source": [
    "data <- data1 |> bind_rows(data1_2002)"
   ]
  },
  {
   "cell_type": "markdown",
   "id": "2d159683-810f-48b4-b3b1-bcd2c5b60a91",
   "metadata": {},
   "source": [
    "## `JOIN`"
   ]
  },
  {
   "cell_type": "code",
   "execution_count": 19,
   "id": "d8f90bb1-0570-4725-85b8-da2da855029f",
   "metadata": {},
   "outputs": [
    {
     "data": {
      "text/html": [
       "<table class=\"dataframe\">\n",
       "<caption>A tibble: 5 x 3</caption>\n",
       "<thead>\n",
       "\t<tr><th scope=col>continent</th><th scope=col>lifeExp2007</th><th scope=col>countriesCount</th></tr>\n",
       "\t<tr><th scope=col>&lt;fct&gt;</th><th scope=col>&lt;dbl&gt;</th><th scope=col>&lt;int&gt;</th></tr>\n",
       "</thead>\n",
       "<tbody>\n",
       "\t<tr><td>Africa  </td><td>53.32523</td><td>52</td></tr>\n",
       "\t<tr><td>Americas</td><td>72.42204</td><td>25</td></tr>\n",
       "\t<tr><td>Asia    </td><td>69.23388</td><td>33</td></tr>\n",
       "\t<tr><td>Europe  </td><td>76.70060</td><td>30</td></tr>\n",
       "\t<tr><td>Oceania </td><td>79.74000</td><td> 2</td></tr>\n",
       "</tbody>\n",
       "</table>\n"
      ],
      "text/latex": [
       "A tibble: 5 x 3\n",
       "\\begin{tabular}{lll}\n",
       " continent & lifeExp2007 & countriesCount\\\\\n",
       " <fct> & <dbl> & <int>\\\\\n",
       "\\hline\n",
       "\t Africa   & 53.32523 & 52\\\\\n",
       "\t Americas & 72.42204 & 25\\\\\n",
       "\t Asia     & 69.23388 & 33\\\\\n",
       "\t Europe   & 76.70060 & 30\\\\\n",
       "\t Oceania  & 79.74000 &  2\\\\\n",
       "\\end{tabular}\n"
      ],
      "text/markdown": [
       "\n",
       "A tibble: 5 x 3\n",
       "\n",
       "| continent &lt;fct&gt; | lifeExp2007 &lt;dbl&gt; | countriesCount &lt;int&gt; |\n",
       "|---|---|---|\n",
       "| Africa   | 53.32523 | 52 |\n",
       "| Americas | 72.42204 | 25 |\n",
       "| Asia     | 69.23388 | 33 |\n",
       "| Europe   | 76.70060 | 30 |\n",
       "| Oceania  | 79.74000 |  2 |\n",
       "\n"
      ],
      "text/plain": [
       "  continent lifeExp2007 countriesCount\n",
       "1 Africa    53.32523    52            \n",
       "2 Americas  72.42204    25            \n",
       "3 Asia      69.23388    33            \n",
       "4 Europe    76.70060    30            \n",
       "5 Oceania   79.74000     2            "
      ]
     },
     "metadata": {},
     "output_type": "display_data"
    }
   ],
   "source": [
    "data1 <- gapminder |>\n",
    "    filter(year == 2007) |>\n",
    "    group_by(continent) |>\n",
    "    summarise(\n",
    "        lifeExp2007 = mean(lifeExp),\n",
    "        countriesCount = n()\n",
    "    )\n",
    "data1"
   ]
  },
  {
   "cell_type": "code",
   "execution_count": 21,
   "id": "c1c658f6-f7cf-4126-928f-9bc47edb4781",
   "metadata": {},
   "outputs": [
    {
     "data": {
      "text/html": [
       "<table class=\"dataframe\">\n",
       "<caption>A tibble: 5 x 2</caption>\n",
       "<thead>\n",
       "\t<tr><th scope=col>continent</th><th scope=col>totalPop</th></tr>\n",
       "\t<tr><th scope=col>&lt;fct&gt;</th><th scope=col>&lt;dbl&gt;</th></tr>\n",
       "</thead>\n",
       "<tbody>\n",
       "\t<tr><td>Oceania </td><td>  24549947</td></tr>\n",
       "\t<tr><td>Europe  </td><td> 586098529</td></tr>\n",
       "\t<tr><td>Americas</td><td> 898871184</td></tr>\n",
       "\t<tr><td>Africa  </td><td> 929539692</td></tr>\n",
       "\t<tr><td>Asia    </td><td>3811953827</td></tr>\n",
       "</tbody>\n",
       "</table>\n"
      ],
      "text/latex": [
       "A tibble: 5 x 2\n",
       "\\begin{tabular}{ll}\n",
       " continent & totalPop\\\\\n",
       " <fct> & <dbl>\\\\\n",
       "\\hline\n",
       "\t Oceania  &   24549947\\\\\n",
       "\t Europe   &  586098529\\\\\n",
       "\t Americas &  898871184\\\\\n",
       "\t Africa   &  929539692\\\\\n",
       "\t Asia     & 3811953827\\\\\n",
       "\\end{tabular}\n"
      ],
      "text/markdown": [
       "\n",
       "A tibble: 5 x 2\n",
       "\n",
       "| continent &lt;fct&gt; | totalPop &lt;dbl&gt; |\n",
       "|---|---|\n",
       "| Oceania  |   24549947 |\n",
       "| Europe   |  586098529 |\n",
       "| Americas |  898871184 |\n",
       "| Africa   |  929539692 |\n",
       "| Asia     | 3811953827 |\n",
       "\n"
      ],
      "text/plain": [
       "  continent totalPop  \n",
       "1 Oceania     24549947\n",
       "2 Europe     586098529\n",
       "3 Americas   898871184\n",
       "4 Africa     929539692\n",
       "5 Asia      3811953827"
      ]
     },
     "metadata": {},
     "output_type": "display_data"
    }
   ],
   "source": [
    "data2 <- gapminder |>\n",
    "    filter(year == 2007) |>\n",
    "    group_by(continent) |>\n",
    "    summarise(\n",
    "        totalPop = sum(pop)\n",
    "    ) |>\n",
    "    arrange(totalPop)\n",
    "data2"
   ]
  },
  {
   "cell_type": "code",
   "execution_count": 23,
   "id": "16f3279a-ce67-41bd-b6eb-e89a9478c9d5",
   "metadata": {},
   "outputs": [
    {
     "data": {
      "text/html": [
       "<table class=\"dataframe\">\n",
       "<caption>A tibble: 5 x 4</caption>\n",
       "<thead>\n",
       "\t<tr><th scope=col>continent</th><th scope=col>lifeExp2007</th><th scope=col>countriesCount</th><th scope=col>totalPop</th></tr>\n",
       "\t<tr><th scope=col>&lt;fct&gt;</th><th scope=col>&lt;dbl&gt;</th><th scope=col>&lt;int&gt;</th><th scope=col>&lt;dbl&gt;</th></tr>\n",
       "</thead>\n",
       "<tbody>\n",
       "\t<tr><td>Africa  </td><td>54.80604</td><td>52</td><td> 929539692</td></tr>\n",
       "\t<tr><td>Americas</td><td>73.60812</td><td>25</td><td> 898871184</td></tr>\n",
       "\t<tr><td>Asia    </td><td>70.72848</td><td>33</td><td>3811953827</td></tr>\n",
       "\t<tr><td>Europe  </td><td>77.64860</td><td>30</td><td> 586098529</td></tr>\n",
       "\t<tr><td>Oceania </td><td>80.71950</td><td> 2</td><td>  24549947</td></tr>\n",
       "</tbody>\n",
       "</table>\n"
      ],
      "text/latex": [
       "A tibble: 5 x 4\n",
       "\\begin{tabular}{llll}\n",
       " continent & lifeExp2007 & countriesCount & totalPop\\\\\n",
       " <fct> & <dbl> & <int> & <dbl>\\\\\n",
       "\\hline\n",
       "\t Africa   & 54.80604 & 52 &  929539692\\\\\n",
       "\t Americas & 73.60812 & 25 &  898871184\\\\\n",
       "\t Asia     & 70.72848 & 33 & 3811953827\\\\\n",
       "\t Europe   & 77.64860 & 30 &  586098529\\\\\n",
       "\t Oceania  & 80.71950 &  2 &   24549947\\\\\n",
       "\\end{tabular}\n"
      ],
      "text/markdown": [
       "\n",
       "A tibble: 5 x 4\n",
       "\n",
       "| continent &lt;fct&gt; | lifeExp2007 &lt;dbl&gt; | countriesCount &lt;int&gt; | totalPop &lt;dbl&gt; |\n",
       "|---|---|---|---|\n",
       "| Africa   | 54.80604 | 52 |  929539692 |\n",
       "| Americas | 73.60812 | 25 |  898871184 |\n",
       "| Asia     | 70.72848 | 33 | 3811953827 |\n",
       "| Europe   | 77.64860 | 30 |  586098529 |\n",
       "| Oceania  | 80.71950 |  2 |   24549947 |\n",
       "\n"
      ],
      "text/plain": [
       "  continent lifeExp2007 countriesCount totalPop  \n",
       "1 Africa    54.80604    52              929539692\n",
       "2 Americas  73.60812    25              898871184\n",
       "3 Asia      70.72848    33             3811953827\n",
       "4 Europe    77.64860    30              586098529\n",
       "5 Oceania   80.71950     2               24549947"
      ]
     },
     "metadata": {},
     "output_type": "display_data"
    }
   ],
   "source": [
    "all_data <- data1 |>\n",
    "    left_join(data2, by = \"continent\")\n",
    "all_data"
   ]
  },
  {
   "cell_type": "code",
   "execution_count": 26,
   "id": "2a44ce29-599e-4158-b908-f02ee566e6e4",
   "metadata": {},
   "outputs": [
    {
     "data": {
      "text/html": [
       "<table class=\"dataframe\">\n",
       "<caption>A data.frame: 5 x 2</caption>\n",
       "<thead>\n",
       "\t<tr><th scope=col>Letter</th><th scope=col>Value</th></tr>\n",
       "\t<tr><th scope=col>&lt;chr&gt;</th><th scope=col>&lt;int&gt;</th></tr>\n",
       "</thead>\n",
       "<tbody>\n",
       "\t<tr><td>A</td><td>1</td></tr>\n",
       "\t<tr><td>B</td><td>2</td></tr>\n",
       "\t<tr><td>C</td><td>3</td></tr>\n",
       "\t<tr><td>D</td><td>4</td></tr>\n",
       "\t<tr><td>E</td><td>5</td></tr>\n",
       "</tbody>\n",
       "</table>\n"
      ],
      "text/latex": [
       "A data.frame: 5 x 2\n",
       "\\begin{tabular}{ll}\n",
       " Letter & Value\\\\\n",
       " <chr> & <int>\\\\\n",
       "\\hline\n",
       "\t A & 1\\\\\n",
       "\t B & 2\\\\\n",
       "\t C & 3\\\\\n",
       "\t D & 4\\\\\n",
       "\t E & 5\\\\\n",
       "\\end{tabular}\n"
      ],
      "text/markdown": [
       "\n",
       "A data.frame: 5 x 2\n",
       "\n",
       "| Letter &lt;chr&gt; | Value &lt;int&gt; |\n",
       "|---|---|\n",
       "| A | 1 |\n",
       "| B | 2 |\n",
       "| C | 3 |\n",
       "| D | 4 |\n",
       "| E | 5 |\n",
       "\n"
      ],
      "text/plain": [
       "  Letter Value\n",
       "1 A      1    \n",
       "2 B      2    \n",
       "3 C      3    \n",
       "4 D      4    \n",
       "5 E      5    "
      ]
     },
     "metadata": {},
     "output_type": "display_data"
    },
    {
     "data": {
      "text/html": [
       "<table class=\"dataframe\">\n",
       "<caption>A data.frame: 5 x 2</caption>\n",
       "<thead>\n",
       "\t<tr><th scope=col>Letter</th><th scope=col>Value</th></tr>\n",
       "\t<tr><th scope=col>&lt;chr&gt;</th><th scope=col>&lt;dbl&gt;</th></tr>\n",
       "</thead>\n",
       "<tbody>\n",
       "\t<tr><td>A</td><td>12</td></tr>\n",
       "\t<tr><td>B</td><td> 7</td></tr>\n",
       "\t<tr><td>C</td><td> 4</td></tr>\n",
       "\t<tr><td>D</td><td> 1</td></tr>\n",
       "\t<tr><td>F</td><td> 5</td></tr>\n",
       "</tbody>\n",
       "</table>\n"
      ],
      "text/latex": [
       "A data.frame: 5 x 2\n",
       "\\begin{tabular}{ll}\n",
       " Letter & Value\\\\\n",
       " <chr> & <dbl>\\\\\n",
       "\\hline\n",
       "\t A & 12\\\\\n",
       "\t B &  7\\\\\n",
       "\t C &  4\\\\\n",
       "\t D &  1\\\\\n",
       "\t F &  5\\\\\n",
       "\\end{tabular}\n"
      ],
      "text/markdown": [
       "\n",
       "A data.frame: 5 x 2\n",
       "\n",
       "| Letter &lt;chr&gt; | Value &lt;dbl&gt; |\n",
       "|---|---|\n",
       "| A | 12 |\n",
       "| B |  7 |\n",
       "| C |  4 |\n",
       "| D |  1 |\n",
       "| F |  5 |\n",
       "\n"
      ],
      "text/plain": [
       "  Letter Value\n",
       "1 A      12   \n",
       "2 B       7   \n",
       "3 C       4   \n",
       "4 D       1   \n",
       "5 F       5   "
      ]
     },
     "metadata": {},
     "output_type": "display_data"
    }
   ],
   "source": [
    "df_1 <- data.frame(Letter = c(\"A\", \"B\", \"C\", \"D\", \"E\"),\n",
    "                      Value = c(1:5))\n",
    "\n",
    "df_2 <- data.frame(Letter = c(\"A\", \"B\", \"C\", \"D\", \"F\"),\n",
    "                      Value = c(12, 7, 4, 1, 5))\n",
    "df_1\n",
    "df_2"
   ]
  },
  {
   "cell_type": "code",
   "execution_count": 28,
   "id": "39758257-0a01-4f5e-801b-92b6826e913e",
   "metadata": {},
   "outputs": [
    {
     "data": {
      "text/html": [
       "<table class=\"dataframe\">\n",
       "<caption>A data.frame: 5 x 3</caption>\n",
       "<thead>\n",
       "\t<tr><th scope=col>Letter</th><th scope=col>Value.x</th><th scope=col>Value.y</th></tr>\n",
       "\t<tr><th scope=col>&lt;chr&gt;</th><th scope=col>&lt;int&gt;</th><th scope=col>&lt;dbl&gt;</th></tr>\n",
       "</thead>\n",
       "<tbody>\n",
       "\t<tr><td>A</td><td>1</td><td>12</td></tr>\n",
       "\t<tr><td>B</td><td>2</td><td> 7</td></tr>\n",
       "\t<tr><td>C</td><td>3</td><td> 4</td></tr>\n",
       "\t<tr><td>D</td><td>4</td><td> 1</td></tr>\n",
       "\t<tr><td>E</td><td>5</td><td>NA</td></tr>\n",
       "</tbody>\n",
       "</table>\n"
      ],
      "text/latex": [
       "A data.frame: 5 x 3\n",
       "\\begin{tabular}{lll}\n",
       " Letter & Value.x & Value.y\\\\\n",
       " <chr> & <int> & <dbl>\\\\\n",
       "\\hline\n",
       "\t A & 1 & 12\\\\\n",
       "\t B & 2 &  7\\\\\n",
       "\t C & 3 &  4\\\\\n",
       "\t D & 4 &  1\\\\\n",
       "\t E & 5 & NA\\\\\n",
       "\\end{tabular}\n"
      ],
      "text/markdown": [
       "\n",
       "A data.frame: 5 x 3\n",
       "\n",
       "| Letter &lt;chr&gt; | Value.x &lt;int&gt; | Value.y &lt;dbl&gt; |\n",
       "|---|---|---|\n",
       "| A | 1 | 12 |\n",
       "| B | 2 |  7 |\n",
       "| C | 3 |  4 |\n",
       "| D | 4 |  1 |\n",
       "| E | 5 | NA |\n",
       "\n"
      ],
      "text/plain": [
       "  Letter Value.x Value.y\n",
       "1 A      1       12     \n",
       "2 B      2        7     \n",
       "3 C      3        4     \n",
       "4 D      4        1     \n",
       "5 E      5       NA     "
      ]
     },
     "metadata": {},
     "output_type": "display_data"
    }
   ],
   "source": [
    "df_1 |>\n",
    "    left_join(df_2, by = \"Letter\")"
   ]
  },
  {
   "cell_type": "code",
   "execution_count": 30,
   "id": "bf524ffd-be3e-4905-9a27-2a4e79f55449",
   "metadata": {},
   "outputs": [
    {
     "data": {
      "text/html": [
       "<table class=\"dataframe\">\n",
       "<caption>A data.frame: 5 x 3</caption>\n",
       "<thead>\n",
       "\t<tr><th scope=col>Letter</th><th scope=col>Value.x</th><th scope=col>Value.y</th></tr>\n",
       "\t<tr><th scope=col>&lt;chr&gt;</th><th scope=col>&lt;int&gt;</th><th scope=col>&lt;dbl&gt;</th></tr>\n",
       "</thead>\n",
       "<tbody>\n",
       "\t<tr><td>A</td><td> 1</td><td>12</td></tr>\n",
       "\t<tr><td>B</td><td> 2</td><td> 7</td></tr>\n",
       "\t<tr><td>C</td><td> 3</td><td> 4</td></tr>\n",
       "\t<tr><td>D</td><td> 4</td><td> 1</td></tr>\n",
       "\t<tr><td>F</td><td>NA</td><td> 5</td></tr>\n",
       "</tbody>\n",
       "</table>\n"
      ],
      "text/latex": [
       "A data.frame: 5 x 3\n",
       "\\begin{tabular}{lll}\n",
       " Letter & Value.x & Value.y\\\\\n",
       " <chr> & <int> & <dbl>\\\\\n",
       "\\hline\n",
       "\t A &  1 & 12\\\\\n",
       "\t B &  2 &  7\\\\\n",
       "\t C &  3 &  4\\\\\n",
       "\t D &  4 &  1\\\\\n",
       "\t F & NA &  5\\\\\n",
       "\\end{tabular}\n"
      ],
      "text/markdown": [
       "\n",
       "A data.frame: 5 x 3\n",
       "\n",
       "| Letter &lt;chr&gt; | Value.x &lt;int&gt; | Value.y &lt;dbl&gt; |\n",
       "|---|---|---|\n",
       "| A |  1 | 12 |\n",
       "| B |  2 |  7 |\n",
       "| C |  3 |  4 |\n",
       "| D |  4 |  1 |\n",
       "| F | NA |  5 |\n",
       "\n"
      ],
      "text/plain": [
       "  Letter Value.x Value.y\n",
       "1 A       1      12     \n",
       "2 B       2       7     \n",
       "3 C       3       4     \n",
       "4 D       4       1     \n",
       "5 F      NA       5     "
      ]
     },
     "metadata": {},
     "output_type": "display_data"
    }
   ],
   "source": [
    "df_1 |>\n",
    "    right_join(df_2, by = \"Letter\")"
   ]
  },
  {
   "cell_type": "code",
   "execution_count": 32,
   "id": "ee3dd2b9-d4c7-476a-b7bf-0ac810309fbc",
   "metadata": {},
   "outputs": [
    {
     "data": {
      "text/html": [
       "<table class=\"dataframe\">\n",
       "<caption>A data.frame: 4 x 3</caption>\n",
       "<thead>\n",
       "\t<tr><th scope=col>Letter</th><th scope=col>Value.x</th><th scope=col>Value.y</th></tr>\n",
       "\t<tr><th scope=col>&lt;chr&gt;</th><th scope=col>&lt;int&gt;</th><th scope=col>&lt;dbl&gt;</th></tr>\n",
       "</thead>\n",
       "<tbody>\n",
       "\t<tr><td>A</td><td>1</td><td>12</td></tr>\n",
       "\t<tr><td>B</td><td>2</td><td> 7</td></tr>\n",
       "\t<tr><td>C</td><td>3</td><td> 4</td></tr>\n",
       "\t<tr><td>D</td><td>4</td><td> 1</td></tr>\n",
       "</tbody>\n",
       "</table>\n"
      ],
      "text/latex": [
       "A data.frame: 4 x 3\n",
       "\\begin{tabular}{lll}\n",
       " Letter & Value.x & Value.y\\\\\n",
       " <chr> & <int> & <dbl>\\\\\n",
       "\\hline\n",
       "\t A & 1 & 12\\\\\n",
       "\t B & 2 &  7\\\\\n",
       "\t C & 3 &  4\\\\\n",
       "\t D & 4 &  1\\\\\n",
       "\\end{tabular}\n"
      ],
      "text/markdown": [
       "\n",
       "A data.frame: 4 x 3\n",
       "\n",
       "| Letter &lt;chr&gt; | Value.x &lt;int&gt; | Value.y &lt;dbl&gt; |\n",
       "|---|---|---|\n",
       "| A | 1 | 12 |\n",
       "| B | 2 |  7 |\n",
       "| C | 3 |  4 |\n",
       "| D | 4 |  1 |\n",
       "\n"
      ],
      "text/plain": [
       "  Letter Value.x Value.y\n",
       "1 A      1       12     \n",
       "2 B      2        7     \n",
       "3 C      3        4     \n",
       "4 D      4        1     "
      ]
     },
     "metadata": {},
     "output_type": "display_data"
    }
   ],
   "source": [
    "df_1 |>\n",
    "    inner_join(df_2, by = \"Letter\")"
   ]
  },
  {
   "cell_type": "code",
   "execution_count": 34,
   "id": "40913130-607f-43e5-89de-a0b95f64a299",
   "metadata": {},
   "outputs": [
    {
     "data": {
      "text/html": [
       "<table class=\"dataframe\">\n",
       "<caption>A data.frame: 6 x 3</caption>\n",
       "<thead>\n",
       "\t<tr><th scope=col>Letter</th><th scope=col>Value.x</th><th scope=col>Value.y</th></tr>\n",
       "\t<tr><th scope=col>&lt;chr&gt;</th><th scope=col>&lt;int&gt;</th><th scope=col>&lt;dbl&gt;</th></tr>\n",
       "</thead>\n",
       "<tbody>\n",
       "\t<tr><td>A</td><td> 1</td><td>12</td></tr>\n",
       "\t<tr><td>B</td><td> 2</td><td> 7</td></tr>\n",
       "\t<tr><td>C</td><td> 3</td><td> 4</td></tr>\n",
       "\t<tr><td>D</td><td> 4</td><td> 1</td></tr>\n",
       "\t<tr><td>E</td><td> 5</td><td>NA</td></tr>\n",
       "\t<tr><td>F</td><td>NA</td><td> 5</td></tr>\n",
       "</tbody>\n",
       "</table>\n"
      ],
      "text/latex": [
       "A data.frame: 6 x 3\n",
       "\\begin{tabular}{lll}\n",
       " Letter & Value.x & Value.y\\\\\n",
       " <chr> & <int> & <dbl>\\\\\n",
       "\\hline\n",
       "\t A &  1 & 12\\\\\n",
       "\t B &  2 &  7\\\\\n",
       "\t C &  3 &  4\\\\\n",
       "\t D &  4 &  1\\\\\n",
       "\t E &  5 & NA\\\\\n",
       "\t F & NA &  5\\\\\n",
       "\\end{tabular}\n"
      ],
      "text/markdown": [
       "\n",
       "A data.frame: 6 x 3\n",
       "\n",
       "| Letter &lt;chr&gt; | Value.x &lt;int&gt; | Value.y &lt;dbl&gt; |\n",
       "|---|---|---|\n",
       "| A |  1 | 12 |\n",
       "| B |  2 |  7 |\n",
       "| C |  3 |  4 |\n",
       "| D |  4 |  1 |\n",
       "| E |  5 | NA |\n",
       "| F | NA |  5 |\n",
       "\n"
      ],
      "text/plain": [
       "  Letter Value.x Value.y\n",
       "1 A       1      12     \n",
       "2 B       2       7     \n",
       "3 C       3       4     \n",
       "4 D       4       1     \n",
       "5 E       5      NA     \n",
       "6 F      NA       5     "
      ]
     },
     "metadata": {},
     "output_type": "display_data"
    }
   ],
   "source": [
    "df_1 |>\n",
    "    full_join(df_2, by = \"Letter\")"
   ]
  },
  {
   "cell_type": "markdown",
   "id": "72cb919c-6ff1-475b-92fd-c248a7da2d8d",
   "metadata": {},
   "source": []
  },
  {
   "cell_type": "code",
   "execution_count": 38,
   "id": "a7d03676-663f-44a7-a20e-6c3bfed730ac",
   "metadata": {},
   "outputs": [],
   "source": [
    "#install.packages(\"randomNames\")\n",
    "library(randomNames)"
   ]
  },
  {
   "cell_type": "code",
   "execution_count": 41,
   "id": "fe5967e7-657b-4238-9285-bc05d0eb9f3f",
   "metadata": {},
   "outputs": [
    {
     "data": {
      "text/html": [
       "<style>\n",
       ".list-inline {list-style: none; margin:0; padding: 0}\n",
       ".list-inline>li {display: inline-block}\n",
       ".list-inline>li:not(:last-child)::after {content: \"\\00b7\"; padding: 0 .5ex}\n",
       "</style>\n",
       "<ol class=list-inline><li>'Xiong, Carly'</li><li>'el-Mahmoud, Humaina'</li><li>'Ortega-Aragon, John'</li><li>'Gipson, Celina'</li></ol>\n"
      ],
      "text/latex": [
       "\\begin{enumerate*}\n",
       "\\item 'Xiong, Carly'\n",
       "\\item 'el-Mahmoud, Humaina'\n",
       "\\item 'Ortega-Aragon, John'\n",
       "\\item 'Gipson, Celina'\n",
       "\\end{enumerate*}\n"
      ],
      "text/markdown": [
       "1. 'Xiong, Carly'\n",
       "2. 'el-Mahmoud, Humaina'\n",
       "3. 'Ortega-Aragon, John'\n",
       "4. 'Gipson, Celina'\n",
       "\n",
       "\n"
      ],
      "text/plain": [
       "[1] \"Xiong, Carly\"        \"el-Mahmoud, Humaina\" \"Ortega-Aragon, John\"\n",
       "[4] \"Gipson, Celina\"     "
      ]
     },
     "metadata": {},
     "output_type": "display_data"
    }
   ],
   "source": [
    "randomNames(4)"
   ]
  },
  {
   "cell_type": "code",
   "execution_count": 46,
   "id": "a8c544bc-8007-4e16-ade9-62024322efa2",
   "metadata": {},
   "outputs": [
    {
     "data": {
      "text/html": [
       "<table class=\"dataframe\">\n",
       "<caption>A data.frame: 5 x 5</caption>\n",
       "<thead>\n",
       "\t<tr><th scope=col>Name</th><th scope=col>q1_2023</th><th scope=col>q2_2023</th><th scope=col>q3_2023</th><th scope=col>q4_2023</th></tr>\n",
       "\t<tr><th scope=col>&lt;chr&gt;</th><th scope=col>&lt;int&gt;</th><th scope=col>&lt;int&gt;</th><th scope=col>&lt;int&gt;</th><th scope=col>&lt;int&gt;</th></tr>\n",
       "</thead>\n",
       "<tbody>\n",
       "\t<tr><td>Le, I'Kaika              </td><td>3592</td><td>2203</td><td>9822</td><td>3232</td></tr>\n",
       "\t<tr><td>Miller, Tyrell           </td><td>4384</td><td>7200</td><td>9556</td><td>8372</td></tr>\n",
       "\t<tr><td>Alvarez-Gonzalez, Miranda</td><td>1065</td><td>5219</td><td>6078</td><td>2552</td></tr>\n",
       "\t<tr><td>Johnson, Cynthia         </td><td>9025</td><td>4335</td><td>9979</td><td>5355</td></tr>\n",
       "\t<tr><td>Hessler, Lane            </td><td>7121</td><td>1474</td><td>1908</td><td>3562</td></tr>\n",
       "</tbody>\n",
       "</table>\n"
      ],
      "text/latex": [
       "A data.frame: 5 x 5\n",
       "\\begin{tabular}{lllll}\n",
       " Name & q1\\_2023 & q2\\_2023 & q3\\_2023 & q4\\_2023\\\\\n",
       " <chr> & <int> & <int> & <int> & <int>\\\\\n",
       "\\hline\n",
       "\t Le, I'Kaika               & 3592 & 2203 & 9822 & 3232\\\\\n",
       "\t Miller, Tyrell            & 4384 & 7200 & 9556 & 8372\\\\\n",
       "\t Alvarez-Gonzalez, Miranda & 1065 & 5219 & 6078 & 2552\\\\\n",
       "\t Johnson, Cynthia          & 9025 & 4335 & 9979 & 5355\\\\\n",
       "\t Hessler, Lane             & 7121 & 1474 & 1908 & 3562\\\\\n",
       "\\end{tabular}\n"
      ],
      "text/markdown": [
       "\n",
       "A data.frame: 5 x 5\n",
       "\n",
       "| Name &lt;chr&gt; | q1_2023 &lt;int&gt; | q2_2023 &lt;int&gt; | q3_2023 &lt;int&gt; | q4_2023 &lt;int&gt; |\n",
       "|---|---|---|---|---|\n",
       "| Le, I'Kaika               | 3592 | 2203 | 9822 | 3232 |\n",
       "| Miller, Tyrell            | 4384 | 7200 | 9556 | 8372 |\n",
       "| Alvarez-Gonzalez, Miranda | 1065 | 5219 | 6078 | 2552 |\n",
       "| Johnson, Cynthia          | 9025 | 4335 | 9979 | 5355 |\n",
       "| Hessler, Lane             | 7121 | 1474 | 1908 | 3562 |\n",
       "\n"
      ],
      "text/plain": [
       "  Name                      q1_2023 q2_2023 q3_2023 q4_2023\n",
       "1 Le, I'Kaika               3592    2203    9822    3232   \n",
       "2 Miller, Tyrell            4384    7200    9556    8372   \n",
       "3 Alvarez-Gonzalez, Miranda 1065    5219    6078    2552   \n",
       "4 Johnson, Cynthia          9025    4335    9979    5355   \n",
       "5 Hessler, Lane             7121    1474    1908    3562   "
      ]
     },
     "metadata": {},
     "output_type": "display_data"
    }
   ],
   "source": [
    "not_good_data <- data.frame(\n",
    "    Name = randomNames(5),\n",
    "    q1_2023 = sample(1000:10000, size = 5),\n",
    "    q2_2023 = sample(1000:10000, size = 5),\n",
    "    q3_2023 = sample(1000:10000, size = 5),\n",
    "    q4_2023 = sample(1000:10000, size = 5)\n",
    ")\n",
    "\n",
    "not_good_data"
   ]
  },
  {
   "cell_type": "code",
   "execution_count": 47,
   "id": "8a7762f6-9487-4b11-94fc-3bb66b1562df",
   "metadata": {},
   "outputs": [],
   "source": [
    "library(tidyr)"
   ]
  },
  {
   "cell_type": "code",
   "execution_count": 54,
   "id": "c27c142a-afaf-481f-93bf-ae2c773b62cd",
   "metadata": {},
   "outputs": [
    {
     "data": {
      "text/html": [
       "<table class=\"dataframe\">\n",
       "<caption>A data.frame: 20 x 3</caption>\n",
       "<thead>\n",
       "\t<tr><th scope=col>Name</th><th scope=col>quater</th><th scope=col>salary</th></tr>\n",
       "\t<tr><th scope=col>&lt;chr&gt;</th><th scope=col>&lt;chr&gt;</th><th scope=col>&lt;int&gt;</th></tr>\n",
       "</thead>\n",
       "<tbody>\n",
       "\t<tr><td>Le, I'Kaika              </td><td>q1_2023</td><td>3592</td></tr>\n",
       "\t<tr><td>Miller, Tyrell           </td><td>q1_2023</td><td>4384</td></tr>\n",
       "\t<tr><td>Alvarez-Gonzalez, Miranda</td><td>q1_2023</td><td>1065</td></tr>\n",
       "\t<tr><td>Johnson, Cynthia         </td><td>q1_2023</td><td>9025</td></tr>\n",
       "\t<tr><td>Hessler, Lane            </td><td>q1_2023</td><td>7121</td></tr>\n",
       "\t<tr><td>Le, I'Kaika              </td><td>q2_2023</td><td>2203</td></tr>\n",
       "\t<tr><td>Miller, Tyrell           </td><td>q2_2023</td><td>7200</td></tr>\n",
       "\t<tr><td>Alvarez-Gonzalez, Miranda</td><td>q2_2023</td><td>5219</td></tr>\n",
       "\t<tr><td>Johnson, Cynthia         </td><td>q2_2023</td><td>4335</td></tr>\n",
       "\t<tr><td>Hessler, Lane            </td><td>q2_2023</td><td>1474</td></tr>\n",
       "\t<tr><td>Le, I'Kaika              </td><td>q3_2023</td><td>9822</td></tr>\n",
       "\t<tr><td>Miller, Tyrell           </td><td>q3_2023</td><td>9556</td></tr>\n",
       "\t<tr><td>Alvarez-Gonzalez, Miranda</td><td>q3_2023</td><td>6078</td></tr>\n",
       "\t<tr><td>Johnson, Cynthia         </td><td>q3_2023</td><td>9979</td></tr>\n",
       "\t<tr><td>Hessler, Lane            </td><td>q3_2023</td><td>1908</td></tr>\n",
       "\t<tr><td>Le, I'Kaika              </td><td>q4_2023</td><td>3232</td></tr>\n",
       "\t<tr><td>Miller, Tyrell           </td><td>q4_2023</td><td>8372</td></tr>\n",
       "\t<tr><td>Alvarez-Gonzalez, Miranda</td><td>q4_2023</td><td>2552</td></tr>\n",
       "\t<tr><td>Johnson, Cynthia         </td><td>q4_2023</td><td>5355</td></tr>\n",
       "\t<tr><td>Hessler, Lane            </td><td>q4_2023</td><td>3562</td></tr>\n",
       "</tbody>\n",
       "</table>\n"
      ],
      "text/latex": [
       "A data.frame: 20 x 3\n",
       "\\begin{tabular}{lll}\n",
       " Name & quater & salary\\\\\n",
       " <chr> & <chr> & <int>\\\\\n",
       "\\hline\n",
       "\t Le, I'Kaika               & q1\\_2023 & 3592\\\\\n",
       "\t Miller, Tyrell            & q1\\_2023 & 4384\\\\\n",
       "\t Alvarez-Gonzalez, Miranda & q1\\_2023 & 1065\\\\\n",
       "\t Johnson, Cynthia          & q1\\_2023 & 9025\\\\\n",
       "\t Hessler, Lane             & q1\\_2023 & 7121\\\\\n",
       "\t Le, I'Kaika               & q2\\_2023 & 2203\\\\\n",
       "\t Miller, Tyrell            & q2\\_2023 & 7200\\\\\n",
       "\t Alvarez-Gonzalez, Miranda & q2\\_2023 & 5219\\\\\n",
       "\t Johnson, Cynthia          & q2\\_2023 & 4335\\\\\n",
       "\t Hessler, Lane             & q2\\_2023 & 1474\\\\\n",
       "\t Le, I'Kaika               & q3\\_2023 & 9822\\\\\n",
       "\t Miller, Tyrell            & q3\\_2023 & 9556\\\\\n",
       "\t Alvarez-Gonzalez, Miranda & q3\\_2023 & 6078\\\\\n",
       "\t Johnson, Cynthia          & q3\\_2023 & 9979\\\\\n",
       "\t Hessler, Lane             & q3\\_2023 & 1908\\\\\n",
       "\t Le, I'Kaika               & q4\\_2023 & 3232\\\\\n",
       "\t Miller, Tyrell            & q4\\_2023 & 8372\\\\\n",
       "\t Alvarez-Gonzalez, Miranda & q4\\_2023 & 2552\\\\\n",
       "\t Johnson, Cynthia          & q4\\_2023 & 5355\\\\\n",
       "\t Hessler, Lane             & q4\\_2023 & 3562\\\\\n",
       "\\end{tabular}\n"
      ],
      "text/markdown": [
       "\n",
       "A data.frame: 20 x 3\n",
       "\n",
       "| Name &lt;chr&gt; | quater &lt;chr&gt; | salary &lt;int&gt; |\n",
       "|---|---|---|\n",
       "| Le, I'Kaika               | q1_2023 | 3592 |\n",
       "| Miller, Tyrell            | q1_2023 | 4384 |\n",
       "| Alvarez-Gonzalez, Miranda | q1_2023 | 1065 |\n",
       "| Johnson, Cynthia          | q1_2023 | 9025 |\n",
       "| Hessler, Lane             | q1_2023 | 7121 |\n",
       "| Le, I'Kaika               | q2_2023 | 2203 |\n",
       "| Miller, Tyrell            | q2_2023 | 7200 |\n",
       "| Alvarez-Gonzalez, Miranda | q2_2023 | 5219 |\n",
       "| Johnson, Cynthia          | q2_2023 | 4335 |\n",
       "| Hessler, Lane             | q2_2023 | 1474 |\n",
       "| Le, I'Kaika               | q3_2023 | 9822 |\n",
       "| Miller, Tyrell            | q3_2023 | 9556 |\n",
       "| Alvarez-Gonzalez, Miranda | q3_2023 | 6078 |\n",
       "| Johnson, Cynthia          | q3_2023 | 9979 |\n",
       "| Hessler, Lane             | q3_2023 | 1908 |\n",
       "| Le, I'Kaika               | q4_2023 | 3232 |\n",
       "| Miller, Tyrell            | q4_2023 | 8372 |\n",
       "| Alvarez-Gonzalez, Miranda | q4_2023 | 2552 |\n",
       "| Johnson, Cynthia          | q4_2023 | 5355 |\n",
       "| Hessler, Lane             | q4_2023 | 3562 |\n",
       "\n"
      ],
      "text/plain": [
       "   Name                      quater  salary\n",
       "1  Le, I'Kaika               q1_2023 3592  \n",
       "2  Miller, Tyrell            q1_2023 4384  \n",
       "3  Alvarez-Gonzalez, Miranda q1_2023 1065  \n",
       "4  Johnson, Cynthia          q1_2023 9025  \n",
       "5  Hessler, Lane             q1_2023 7121  \n",
       "6  Le, I'Kaika               q2_2023 2203  \n",
       "7  Miller, Tyrell            q2_2023 7200  \n",
       "8  Alvarez-Gonzalez, Miranda q2_2023 5219  \n",
       "9  Johnson, Cynthia          q2_2023 4335  \n",
       "10 Hessler, Lane             q2_2023 1474  \n",
       "11 Le, I'Kaika               q3_2023 9822  \n",
       "12 Miller, Tyrell            q3_2023 9556  \n",
       "13 Alvarez-Gonzalez, Miranda q3_2023 6078  \n",
       "14 Johnson, Cynthia          q3_2023 9979  \n",
       "15 Hessler, Lane             q3_2023 1908  \n",
       "16 Le, I'Kaika               q4_2023 3232  \n",
       "17 Miller, Tyrell            q4_2023 8372  \n",
       "18 Alvarez-Gonzalez, Miranda q4_2023 2552  \n",
       "19 Johnson, Cynthia          q4_2023 5355  \n",
       "20 Hessler, Lane             q4_2023 3562  "
      ]
     },
     "metadata": {},
     "output_type": "display_data"
    }
   ],
   "source": [
    "better_data <- not_good_data |>\n",
    "    gather(quater, salary, 2:5)\n",
    "better_data"
   ]
  },
  {
   "cell_type": "code",
   "execution_count": 65,
   "id": "35832a3b-7492-484e-92f8-6a88a0f43d1e",
   "metadata": {},
   "outputs": [
    {
     "data": {
      "text/html": [
       "<table class=\"dataframe\">\n",
       "<caption>A data.frame: 20 x 4</caption>\n",
       "<thead>\n",
       "\t<tr><th scope=col>Name</th><th scope=col>quater</th><th scope=col>year</th><th scope=col>salary</th></tr>\n",
       "\t<tr><th scope=col>&lt;chr&gt;</th><th scope=col>&lt;dbl&gt;</th><th scope=col>&lt;dbl&gt;</th><th scope=col>&lt;int&gt;</th></tr>\n",
       "</thead>\n",
       "<tbody>\n",
       "\t<tr><td>Le, I'Kaika              </td><td>1</td><td>2023</td><td>3592</td></tr>\n",
       "\t<tr><td>Miller, Tyrell           </td><td>1</td><td>2023</td><td>4384</td></tr>\n",
       "\t<tr><td>Alvarez-Gonzalez, Miranda</td><td>1</td><td>2023</td><td>1065</td></tr>\n",
       "\t<tr><td>Johnson, Cynthia         </td><td>1</td><td>2023</td><td>9025</td></tr>\n",
       "\t<tr><td>Hessler, Lane            </td><td>1</td><td>2023</td><td>7121</td></tr>\n",
       "\t<tr><td>Le, I'Kaika              </td><td>2</td><td>2023</td><td>2203</td></tr>\n",
       "\t<tr><td>Miller, Tyrell           </td><td>2</td><td>2023</td><td>7200</td></tr>\n",
       "\t<tr><td>Alvarez-Gonzalez, Miranda</td><td>2</td><td>2023</td><td>5219</td></tr>\n",
       "\t<tr><td>Johnson, Cynthia         </td><td>2</td><td>2023</td><td>4335</td></tr>\n",
       "\t<tr><td>Hessler, Lane            </td><td>2</td><td>2023</td><td>1474</td></tr>\n",
       "\t<tr><td>Le, I'Kaika              </td><td>3</td><td>2023</td><td>9822</td></tr>\n",
       "\t<tr><td>Miller, Tyrell           </td><td>3</td><td>2023</td><td>9556</td></tr>\n",
       "\t<tr><td>Alvarez-Gonzalez, Miranda</td><td>3</td><td>2023</td><td>6078</td></tr>\n",
       "\t<tr><td>Johnson, Cynthia         </td><td>3</td><td>2023</td><td>9979</td></tr>\n",
       "\t<tr><td>Hessler, Lane            </td><td>3</td><td>2023</td><td>1908</td></tr>\n",
       "\t<tr><td>Le, I'Kaika              </td><td>4</td><td>2023</td><td>3232</td></tr>\n",
       "\t<tr><td>Miller, Tyrell           </td><td>4</td><td>2023</td><td>8372</td></tr>\n",
       "\t<tr><td>Alvarez-Gonzalez, Miranda</td><td>4</td><td>2023</td><td>2552</td></tr>\n",
       "\t<tr><td>Johnson, Cynthia         </td><td>4</td><td>2023</td><td>5355</td></tr>\n",
       "\t<tr><td>Hessler, Lane            </td><td>4</td><td>2023</td><td>3562</td></tr>\n",
       "</tbody>\n",
       "</table>\n"
      ],
      "text/latex": [
       "A data.frame: 20 x 4\n",
       "\\begin{tabular}{llll}\n",
       " Name & quater & year & salary\\\\\n",
       " <chr> & <dbl> & <dbl> & <int>\\\\\n",
       "\\hline\n",
       "\t Le, I'Kaika               & 1 & 2023 & 3592\\\\\n",
       "\t Miller, Tyrell            & 1 & 2023 & 4384\\\\\n",
       "\t Alvarez-Gonzalez, Miranda & 1 & 2023 & 1065\\\\\n",
       "\t Johnson, Cynthia          & 1 & 2023 & 9025\\\\\n",
       "\t Hessler, Lane             & 1 & 2023 & 7121\\\\\n",
       "\t Le, I'Kaika               & 2 & 2023 & 2203\\\\\n",
       "\t Miller, Tyrell            & 2 & 2023 & 7200\\\\\n",
       "\t Alvarez-Gonzalez, Miranda & 2 & 2023 & 5219\\\\\n",
       "\t Johnson, Cynthia          & 2 & 2023 & 4335\\\\\n",
       "\t Hessler, Lane             & 2 & 2023 & 1474\\\\\n",
       "\t Le, I'Kaika               & 3 & 2023 & 9822\\\\\n",
       "\t Miller, Tyrell            & 3 & 2023 & 9556\\\\\n",
       "\t Alvarez-Gonzalez, Miranda & 3 & 2023 & 6078\\\\\n",
       "\t Johnson, Cynthia          & 3 & 2023 & 9979\\\\\n",
       "\t Hessler, Lane             & 3 & 2023 & 1908\\\\\n",
       "\t Le, I'Kaika               & 4 & 2023 & 3232\\\\\n",
       "\t Miller, Tyrell            & 4 & 2023 & 8372\\\\\n",
       "\t Alvarez-Gonzalez, Miranda & 4 & 2023 & 2552\\\\\n",
       "\t Johnson, Cynthia          & 4 & 2023 & 5355\\\\\n",
       "\t Hessler, Lane             & 4 & 2023 & 3562\\\\\n",
       "\\end{tabular}\n"
      ],
      "text/markdown": [
       "\n",
       "A data.frame: 20 x 4\n",
       "\n",
       "| Name &lt;chr&gt; | quater &lt;dbl&gt; | year &lt;dbl&gt; | salary &lt;int&gt; |\n",
       "|---|---|---|---|\n",
       "| Le, I'Kaika               | 1 | 2023 | 3592 |\n",
       "| Miller, Tyrell            | 1 | 2023 | 4384 |\n",
       "| Alvarez-Gonzalez, Miranda | 1 | 2023 | 1065 |\n",
       "| Johnson, Cynthia          | 1 | 2023 | 9025 |\n",
       "| Hessler, Lane             | 1 | 2023 | 7121 |\n",
       "| Le, I'Kaika               | 2 | 2023 | 2203 |\n",
       "| Miller, Tyrell            | 2 | 2023 | 7200 |\n",
       "| Alvarez-Gonzalez, Miranda | 2 | 2023 | 5219 |\n",
       "| Johnson, Cynthia          | 2 | 2023 | 4335 |\n",
       "| Hessler, Lane             | 2 | 2023 | 1474 |\n",
       "| Le, I'Kaika               | 3 | 2023 | 9822 |\n",
       "| Miller, Tyrell            | 3 | 2023 | 9556 |\n",
       "| Alvarez-Gonzalez, Miranda | 3 | 2023 | 6078 |\n",
       "| Johnson, Cynthia          | 3 | 2023 | 9979 |\n",
       "| Hessler, Lane             | 3 | 2023 | 1908 |\n",
       "| Le, I'Kaika               | 4 | 2023 | 3232 |\n",
       "| Miller, Tyrell            | 4 | 2023 | 8372 |\n",
       "| Alvarez-Gonzalez, Miranda | 4 | 2023 | 2552 |\n",
       "| Johnson, Cynthia          | 4 | 2023 | 5355 |\n",
       "| Hessler, Lane             | 4 | 2023 | 3562 |\n",
       "\n"
      ],
      "text/plain": [
       "   Name                      quater year salary\n",
       "1  Le, I'Kaika               1      2023 3592  \n",
       "2  Miller, Tyrell            1      2023 4384  \n",
       "3  Alvarez-Gonzalez, Miranda 1      2023 1065  \n",
       "4  Johnson, Cynthia          1      2023 9025  \n",
       "5  Hessler, Lane             1      2023 7121  \n",
       "6  Le, I'Kaika               2      2023 2203  \n",
       "7  Miller, Tyrell            2      2023 7200  \n",
       "8  Alvarez-Gonzalez, Miranda 2      2023 5219  \n",
       "9  Johnson, Cynthia          2      2023 4335  \n",
       "10 Hessler, Lane             2      2023 1474  \n",
       "11 Le, I'Kaika               3      2023 9822  \n",
       "12 Miller, Tyrell            3      2023 9556  \n",
       "13 Alvarez-Gonzalez, Miranda 3      2023 6078  \n",
       "14 Johnson, Cynthia          3      2023 9979  \n",
       "15 Hessler, Lane             3      2023 1908  \n",
       "16 Le, I'Kaika               4      2023 3232  \n",
       "17 Miller, Tyrell            4      2023 8372  \n",
       "18 Alvarez-Gonzalez, Miranda 4      2023 2552  \n",
       "19 Johnson, Cynthia          4      2023 5355  \n",
       "20 Hessler, Lane             4      2023 3562  "
      ]
     },
     "metadata": {},
     "output_type": "display_data"
    }
   ],
   "source": [
    "best_data <- better_data |>\n",
    "    separate(quater, c(\"quater\", \"year\"), sep=\"_\") |>\n",
    "    mutate(\n",
    "        year = as.numeric(year),\n",
    "        quater = substr(quater, 2, 2),\n",
    "        quater = as.numeric(quater))\n",
    "\n",
    "best_data\n"
   ]
  },
  {
   "cell_type": "code",
   "execution_count": 69,
   "id": "1fdec151-bd91-4f59-8855-5246e889c43b",
   "metadata": {},
   "outputs": [
    {
     "data": {
      "text/html": [
       "<table class=\"dataframe\">\n",
       "<caption>A data.frame: 20 x 3</caption>\n",
       "<thead>\n",
       "\t<tr><th scope=col>Name</th><th scope=col>QtYear</th><th scope=col>salary</th></tr>\n",
       "\t<tr><th scope=col>&lt;chr&gt;</th><th scope=col>&lt;chr&gt;</th><th scope=col>&lt;int&gt;</th></tr>\n",
       "</thead>\n",
       "<tbody>\n",
       "\t<tr><td>Le, I'Kaika              </td><td>q1_2023</td><td>3592</td></tr>\n",
       "\t<tr><td>Miller, Tyrell           </td><td>q1_2023</td><td>4384</td></tr>\n",
       "\t<tr><td>Alvarez-Gonzalez, Miranda</td><td>q1_2023</td><td>1065</td></tr>\n",
       "\t<tr><td>Johnson, Cynthia         </td><td>q1_2023</td><td>9025</td></tr>\n",
       "\t<tr><td>Hessler, Lane            </td><td>q1_2023</td><td>7121</td></tr>\n",
       "\t<tr><td>Le, I'Kaika              </td><td>q2_2023</td><td>2203</td></tr>\n",
       "\t<tr><td>Miller, Tyrell           </td><td>q2_2023</td><td>7200</td></tr>\n",
       "\t<tr><td>Alvarez-Gonzalez, Miranda</td><td>q2_2023</td><td>5219</td></tr>\n",
       "\t<tr><td>Johnson, Cynthia         </td><td>q2_2023</td><td>4335</td></tr>\n",
       "\t<tr><td>Hessler, Lane            </td><td>q2_2023</td><td>1474</td></tr>\n",
       "\t<tr><td>Le, I'Kaika              </td><td>q3_2023</td><td>9822</td></tr>\n",
       "\t<tr><td>Miller, Tyrell           </td><td>q3_2023</td><td>9556</td></tr>\n",
       "\t<tr><td>Alvarez-Gonzalez, Miranda</td><td>q3_2023</td><td>6078</td></tr>\n",
       "\t<tr><td>Johnson, Cynthia         </td><td>q3_2023</td><td>9979</td></tr>\n",
       "\t<tr><td>Hessler, Lane            </td><td>q3_2023</td><td>1908</td></tr>\n",
       "\t<tr><td>Le, I'Kaika              </td><td>q4_2023</td><td>3232</td></tr>\n",
       "\t<tr><td>Miller, Tyrell           </td><td>q4_2023</td><td>8372</td></tr>\n",
       "\t<tr><td>Alvarez-Gonzalez, Miranda</td><td>q4_2023</td><td>2552</td></tr>\n",
       "\t<tr><td>Johnson, Cynthia         </td><td>q4_2023</td><td>5355</td></tr>\n",
       "\t<tr><td>Hessler, Lane            </td><td>q4_2023</td><td>3562</td></tr>\n",
       "</tbody>\n",
       "</table>\n"
      ],
      "text/latex": [
       "A data.frame: 20 x 3\n",
       "\\begin{tabular}{lll}\n",
       " Name & QtYear & salary\\\\\n",
       " <chr> & <chr> & <int>\\\\\n",
       "\\hline\n",
       "\t Le, I'Kaika               & q1\\_2023 & 3592\\\\\n",
       "\t Miller, Tyrell            & q1\\_2023 & 4384\\\\\n",
       "\t Alvarez-Gonzalez, Miranda & q1\\_2023 & 1065\\\\\n",
       "\t Johnson, Cynthia          & q1\\_2023 & 9025\\\\\n",
       "\t Hessler, Lane             & q1\\_2023 & 7121\\\\\n",
       "\t Le, I'Kaika               & q2\\_2023 & 2203\\\\\n",
       "\t Miller, Tyrell            & q2\\_2023 & 7200\\\\\n",
       "\t Alvarez-Gonzalez, Miranda & q2\\_2023 & 5219\\\\\n",
       "\t Johnson, Cynthia          & q2\\_2023 & 4335\\\\\n",
       "\t Hessler, Lane             & q2\\_2023 & 1474\\\\\n",
       "\t Le, I'Kaika               & q3\\_2023 & 9822\\\\\n",
       "\t Miller, Tyrell            & q3\\_2023 & 9556\\\\\n",
       "\t Alvarez-Gonzalez, Miranda & q3\\_2023 & 6078\\\\\n",
       "\t Johnson, Cynthia          & q3\\_2023 & 9979\\\\\n",
       "\t Hessler, Lane             & q3\\_2023 & 1908\\\\\n",
       "\t Le, I'Kaika               & q4\\_2023 & 3232\\\\\n",
       "\t Miller, Tyrell            & q4\\_2023 & 8372\\\\\n",
       "\t Alvarez-Gonzalez, Miranda & q4\\_2023 & 2552\\\\\n",
       "\t Johnson, Cynthia          & q4\\_2023 & 5355\\\\\n",
       "\t Hessler, Lane             & q4\\_2023 & 3562\\\\\n",
       "\\end{tabular}\n"
      ],
      "text/markdown": [
       "\n",
       "A data.frame: 20 x 3\n",
       "\n",
       "| Name &lt;chr&gt; | QtYear &lt;chr&gt; | salary &lt;int&gt; |\n",
       "|---|---|---|\n",
       "| Le, I'Kaika               | q1_2023 | 3592 |\n",
       "| Miller, Tyrell            | q1_2023 | 4384 |\n",
       "| Alvarez-Gonzalez, Miranda | q1_2023 | 1065 |\n",
       "| Johnson, Cynthia          | q1_2023 | 9025 |\n",
       "| Hessler, Lane             | q1_2023 | 7121 |\n",
       "| Le, I'Kaika               | q2_2023 | 2203 |\n",
       "| Miller, Tyrell            | q2_2023 | 7200 |\n",
       "| Alvarez-Gonzalez, Miranda | q2_2023 | 5219 |\n",
       "| Johnson, Cynthia          | q2_2023 | 4335 |\n",
       "| Hessler, Lane             | q2_2023 | 1474 |\n",
       "| Le, I'Kaika               | q3_2023 | 9822 |\n",
       "| Miller, Tyrell            | q3_2023 | 9556 |\n",
       "| Alvarez-Gonzalez, Miranda | q3_2023 | 6078 |\n",
       "| Johnson, Cynthia          | q3_2023 | 9979 |\n",
       "| Hessler, Lane             | q3_2023 | 1908 |\n",
       "| Le, I'Kaika               | q4_2023 | 3232 |\n",
       "| Miller, Tyrell            | q4_2023 | 8372 |\n",
       "| Alvarez-Gonzalez, Miranda | q4_2023 | 2552 |\n",
       "| Johnson, Cynthia          | q4_2023 | 5355 |\n",
       "| Hessler, Lane             | q4_2023 | 3562 |\n",
       "\n"
      ],
      "text/plain": [
       "   Name                      QtYear  salary\n",
       "1  Le, I'Kaika               q1_2023 3592  \n",
       "2  Miller, Tyrell            q1_2023 4384  \n",
       "3  Alvarez-Gonzalez, Miranda q1_2023 1065  \n",
       "4  Johnson, Cynthia          q1_2023 9025  \n",
       "5  Hessler, Lane             q1_2023 7121  \n",
       "6  Le, I'Kaika               q2_2023 2203  \n",
       "7  Miller, Tyrell            q2_2023 7200  \n",
       "8  Alvarez-Gonzalez, Miranda q2_2023 5219  \n",
       "9  Johnson, Cynthia          q2_2023 4335  \n",
       "10 Hessler, Lane             q2_2023 1474  \n",
       "11 Le, I'Kaika               q3_2023 9822  \n",
       "12 Miller, Tyrell            q3_2023 9556  \n",
       "13 Alvarez-Gonzalez, Miranda q3_2023 6078  \n",
       "14 Johnson, Cynthia          q3_2023 9979  \n",
       "15 Hessler, Lane             q3_2023 1908  \n",
       "16 Le, I'Kaika               q4_2023 3232  \n",
       "17 Miller, Tyrell            q4_2023 8372  \n",
       "18 Alvarez-Gonzalez, Miranda q4_2023 2552  \n",
       "19 Johnson, Cynthia          q4_2023 5355  \n",
       "20 Hessler, Lane             q4_2023 3562  "
      ]
     },
     "metadata": {},
     "output_type": "display_data"
    }
   ],
   "source": [
    "united_data <- best_data |>\n",
    "    unite(QtYear, quater, year, sep = \"_\") |>\n",
    "    mutate(QtYear = paste0(\"q\", QtYear))\n",
    "united_data"
   ]
  },
  {
   "cell_type": "code",
   "execution_count": 71,
   "id": "87ca2e1d-032d-4768-8cf4-56bdd15505dd",
   "metadata": {},
   "outputs": [
    {
     "data": {
      "text/html": [
       "<table class=\"dataframe\">\n",
       "<caption>A data.frame: 5 x 5</caption>\n",
       "<thead>\n",
       "\t<tr><th scope=col>Name</th><th scope=col>q1_2023</th><th scope=col>q2_2023</th><th scope=col>q3_2023</th><th scope=col>q4_2023</th></tr>\n",
       "\t<tr><th scope=col>&lt;chr&gt;</th><th scope=col>&lt;int&gt;</th><th scope=col>&lt;int&gt;</th><th scope=col>&lt;int&gt;</th><th scope=col>&lt;int&gt;</th></tr>\n",
       "</thead>\n",
       "<tbody>\n",
       "\t<tr><td>Alvarez-Gonzalez, Miranda</td><td>1065</td><td>5219</td><td>6078</td><td>2552</td></tr>\n",
       "\t<tr><td>Hessler, Lane            </td><td>7121</td><td>1474</td><td>1908</td><td>3562</td></tr>\n",
       "\t<tr><td>Johnson, Cynthia         </td><td>9025</td><td>4335</td><td>9979</td><td>5355</td></tr>\n",
       "\t<tr><td>Le, I'Kaika              </td><td>3592</td><td>2203</td><td>9822</td><td>3232</td></tr>\n",
       "\t<tr><td>Miller, Tyrell           </td><td>4384</td><td>7200</td><td>9556</td><td>8372</td></tr>\n",
       "</tbody>\n",
       "</table>\n"
      ],
      "text/latex": [
       "A data.frame: 5 x 5\n",
       "\\begin{tabular}{lllll}\n",
       " Name & q1\\_2023 & q2\\_2023 & q3\\_2023 & q4\\_2023\\\\\n",
       " <chr> & <int> & <int> & <int> & <int>\\\\\n",
       "\\hline\n",
       "\t Alvarez-Gonzalez, Miranda & 1065 & 5219 & 6078 & 2552\\\\\n",
       "\t Hessler, Lane             & 7121 & 1474 & 1908 & 3562\\\\\n",
       "\t Johnson, Cynthia          & 9025 & 4335 & 9979 & 5355\\\\\n",
       "\t Le, I'Kaika               & 3592 & 2203 & 9822 & 3232\\\\\n",
       "\t Miller, Tyrell            & 4384 & 7200 & 9556 & 8372\\\\\n",
       "\\end{tabular}\n"
      ],
      "text/markdown": [
       "\n",
       "A data.frame: 5 x 5\n",
       "\n",
       "| Name &lt;chr&gt; | q1_2023 &lt;int&gt; | q2_2023 &lt;int&gt; | q3_2023 &lt;int&gt; | q4_2023 &lt;int&gt; |\n",
       "|---|---|---|---|---|\n",
       "| Alvarez-Gonzalez, Miranda | 1065 | 5219 | 6078 | 2552 |\n",
       "| Hessler, Lane             | 7121 | 1474 | 1908 | 3562 |\n",
       "| Johnson, Cynthia          | 9025 | 4335 | 9979 | 5355 |\n",
       "| Le, I'Kaika               | 3592 | 2203 | 9822 | 3232 |\n",
       "| Miller, Tyrell            | 4384 | 7200 | 9556 | 8372 |\n",
       "\n"
      ],
      "text/plain": [
       "  Name                      q1_2023 q2_2023 q3_2023 q4_2023\n",
       "1 Alvarez-Gonzalez, Miranda 1065    5219    6078    2552   \n",
       "2 Hessler, Lane             7121    1474    1908    3562   \n",
       "3 Johnson, Cynthia          9025    4335    9979    5355   \n",
       "4 Le, I'Kaika               3592    2203    9822    3232   \n",
       "5 Miller, Tyrell            4384    7200    9556    8372   "
      ]
     },
     "metadata": {},
     "output_type": "display_data"
    }
   ],
   "source": [
    "final_data <- united_data |>\n",
    "    spread(QtYear, salary)\n",
    "final_data"
   ]
  },
  {
   "cell_type": "code",
   "execution_count": null,
   "id": "250a7253-79b9-42a9-893f-9e2cd963868b",
   "metadata": {},
   "outputs": [],
   "source": []
  }
 ],
 "metadata": {
  "kernelspec": {
   "display_name": "R",
   "language": "R",
   "name": "ir"
  },
  "language_info": {
   "codemirror_mode": "r",
   "file_extension": ".r",
   "mimetype": "text/x-r-source",
   "name": "R",
   "pygments_lexer": "r",
   "version": "4.1.3"
  }
 },
 "nbformat": 4,
 "nbformat_minor": 5
}
