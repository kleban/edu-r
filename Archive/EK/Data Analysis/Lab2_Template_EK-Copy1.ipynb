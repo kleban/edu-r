{
 "cells": [
  {
   "cell_type": "markdown",
   "id": "d695257e-c7dd-44a9-af12-cef60b7d7e12",
   "metadata": {},
   "source": [
    "# Лабораторна робота №2 \"Exploratory Data Analysis in R\""
   ]
  },
  {
   "cell_type": "markdown",
   "id": "8769faee-414c-495a-8d70-3cf524d455a8",
   "metadata": {},
   "source": [
    "з курсу \"DATA-аналіз у маркетингу\", для студентів 2 курсу спеціальності 051 Економічна кібернетика"
   ]
  },
  {
   "cell_type": "markdown",
   "id": "48124904-af1b-433e-b681-b714f5fbd412",
   "metadata": {},
   "source": [
    "---"
   ]
  },
  {
   "cell_type": "markdown",
   "id": "08fbacc2-7c6a-40a6-9375-a8c053f5920f",
   "metadata": {},
   "source": [
    "<div class=\"alert alert-info\">Під час виконання завдання студент/ка зобовязується дотримуватися <a href=\"https://www.oa.edu.ua/publik_information/CODEX.pdf\">Кодексу академічної доброчесності Національного університету. «Острозька академія»</a></div>"
   ]
  },
  {
   "cell_type": "markdown",
   "id": "f951c973-c23e-42f7-bff7-cc46e844d94c",
   "metadata": {},
   "source": [
    "Увага інформація про варіанти завдань розміщена у\n",
    "\n",
    "`Moodle` > \n",
    "`Курс \"Аналіз даних у R\"` > \n",
    "`6. Data visualization with ggplot2 and plotly` > \n",
    "`Лабораторна робота №2 \"Оглядовий аналіз та візуалізація даних у R\" (2024)`"
   ]
  },
  {
   "cell_type": "markdown",
   "id": "3f31824f-9dc9-42e1-b087-74a300eb9e80",
   "metadata": {},
   "source": [
    "📣 Здавати потрібно архів з файлом ноутбука та набором даних, який використаний для завдання 3 у `.zip`-архіві (`Прізвище_Імя_Lab2.zip`). Ноутбук перейменувати на `Прізвище_Імя_Lab2_EK.ipynb`. ПІ студента краще написати латинськими літерами (транскрипція), адже окремі архіватори можуть погано працювати з іменуванням кирилицею."
   ]
  },
  {
   "cell_type": "markdown",
   "id": "c503196a-47c0-4d7b-b0f6-f125296eef9d",
   "metadata": {},
   "source": [
    "---"
   ]
  },
  {
   "cell_type": "markdown",
   "id": "ae299fca-9878-4aba-935a-d4dc93ec8e84",
   "metadata": {},
   "source": [
    "## Варіанти завдань"
   ]
  },
  {
   "cell_type": "markdown",
   "id": "8ceb4217-8f24-4ddf-8659-3e0136cc18fd",
   "metadata": {},
   "source": [
    "| № варіанту | Посилання на набір даних |\n",
    "| --- | ----------- |\n",
    "|1|[Superstore Marketing Campaign ](https://www.kaggle.com/datasets/ahsan81/superstore-marketing-campaign-dataset)|\n",
    "|2|[Walmart Sales](https://www.kaggle.com/datasets/mikhail1681/walmart-sales)|\n",
    "|3|[Student Behaviour](https://www.kaggle.com/datasets/nitishjolly/student-behaviour)|\n",
    "|4|[Marketing Campaign](https://www.kaggle.com/datasets/rodsaldanha/arketing-campaign)|\n",
    "|5|[Rural Credit Dataset](https://www.kaggle.com/datasets/ikjotsingh221/rural-credit-dataset-cleaned)|\n",
    "|6|[Taxi Trip](https://www.kaggle.com/datasets/anandshaw2001/taxi-dataset)|\n",
    "|7|[Customer Churn](https://www.kaggle.com/datasets/anandshaw2001/customer-churn-dataset)|\n",
    "|8|[Shopping Mall Custome](https://www.kaggle.com/datasets/zubairmustafa/shopping-mall-customer-segmentation-data)|\n",
    "|9|[Abalone](https://www.kaggle.com/datasets/alicenkbaytop/abalone-dataset)|\n",
    "|10|[Loan](https://www.kaggle.com/datasets/saramah/loan-data)|\n",
    "|11|[Career](https://www.kaggle.com/datasets/utkarshshrivastav07/career-prediction-dataset)|\n",
    "|12|[Essay](https://www.kaggle.com/datasets/fatihfurkankurt/essay-examination-data-set)|\n",
    "|13|[WildFires](https://www.kaggle.com/datasets/imtkaggleteam/wildfires)|\n",
    "|14|[Marketing](https://www.kaggle.com/datasets/harrimansaragih/dummy-advertising-and-sales-data)|\n",
    "|15|[Top Grossing Movies](https://www.kaggle.com/datasets/akankshaaa013/top-grossing-movies-dataset)|\n",
    "|16|[Video Games](https://www.kaggle.com/datasets/gregorut/videogamesales)|\n"
   ]
  },
  {
   "cell_type": "markdown",
   "id": "bc0cd3a8-e603-45d3-9ba6-20986224d81c",
   "metadata": {},
   "source": [
    "> Перед виконанням завдання визначіть, яка змінна є залежною, адже Вам потрібно буде побудувати модель для її прогнозування або аналізу у Лабораторній роботі №3. Якщо Вам це не вдається - звернітсья до викладача за допомогою."
   ]
  },
  {
   "cell_type": "markdown",
   "id": "1479097b-0f42-44fa-b86f-3153bbc74f36",
   "metadata": {},
   "source": [
    "## Завдання"
   ]
  },
  {
   "cell_type": "markdown",
   "id": "ebd8236a-3f1d-4fbd-98f0-c1b5b68af3ce",
   "metadata": {},
   "source": [
    "Під час виконання лабораторноїроботи №2 потрібно здійснити оглядовий аналіз даних та на його основі зробити висновки щодо розподілу даних, їх якості, а також запропонувати трансформації даних, способи їх очистки та збагачення."
   ]
  },
  {
   "cell_type": "markdown",
   "id": "97837288-257b-480c-8775-bd6171d50090",
   "metadata": {},
   "source": [
    "### Описова статистика"
   ]
  },
  {
   "cell_type": "markdown",
   "id": "c64b312f-c9ad-4202-a565-d5183865ad08",
   "metadata": {},
   "source": [
    "Здійсніть описову статистику даних. Зробіть висновки про форму розподілу даних, наявність асиметрії."
   ]
  },
  {
   "cell_type": "markdown",
   "id": "eafe7305-145d-43fc-ab28-63b28492304e",
   "metadata": {},
   "source": [
    "### Візуалізація даних"
   ]
  },
  {
   "cell_type": "markdown",
   "id": "8a4104e6-1530-44ee-9a1c-0a3e1f5d1a13",
   "metadata": {},
   "source": [
    "Оберіть правильний графік для параметрів набору даних (мінімум 6 показників), обгрунтуйте чому саме такий. Проаналізуйте злежності візуально та напишіть висновки щодо побаченого."
   ]
  },
  {
   "cell_type": "markdown",
   "id": "e778b33e-3933-42da-8a09-9652d10291bb",
   "metadata": {},
   "source": [
    "_Рекомендую використовувати ряд сервісів з прикладом графіків_\n",
    "\n",
    "- https://r-graph-gallery.com/\n",
    "- https://r-charts.com/ggplot2/"
   ]
  },
  {
   "cell_type": "markdown",
   "id": "f54f9c7e-df9d-4de4-8fde-a51d1b3a6664",
   "metadata": {},
   "source": [
    "### Викиди та аномалії у даних"
   ]
  },
  {
   "cell_type": "markdown",
   "id": "291a51e9-8188-4419-86b5-41fcbb4e280d",
   "metadata": {},
   "source": [
    "Перевірте за допомогою Boxplot наявність викидів у даних (2 числових показники). Здійсніть заміну викидів у даних. Опишіть як змінилася варіація у показниках, після заміни. \n",
    "\n",
    "> Якщо показники з викидами відсутні - зробіть штучну заміну значень, щоб вони з'язилися."
   ]
  },
  {
   "cell_type": "markdown",
   "id": "747cda0a-fb7e-46b6-9e79-d661f3efbae4",
   "metadata": {},
   "source": [
    "### Очистка даних"
   ]
  },
  {
   "cell_type": "markdown",
   "id": "527c2e96-796d-497e-8586-b51d92e987a8",
   "metadata": {},
   "source": [
    "Для кожного зі стовпців (або для 6-ти обраних різних типів даних) запропонуйте якийм чином варто здійснити заміну пропусків у випадку їх появи. Напишіть код, що дозволяє здійснити ці заміни. "
   ]
  },
  {
   "cell_type": "markdown",
   "id": "305adb60-678a-4172-93d4-fb2f27c2fa98",
   "metadata": {},
   "source": [
    "### Трансформація даних"
   ]
  },
  {
   "cell_type": "markdown",
   "id": "f3f4754e-cc84-4674-9b67-a67cfe52308c",
   "metadata": {},
   "source": [
    "На основі описовї статистики та візуального аналізу визначте 1 показник, що має, на вашу думку, \"найгірший\" розподіл даних."
   ]
  },
  {
   "cell_type": "markdown",
   "id": "044f67c9-64c0-4757-8d09-1b5126f9740c",
   "metadata": {},
   "source": [
    "За допомогою пакету bestNormalize та стандартних функцій та операторів як `log()`, `sqrt()`, `^` оберіть найкращий спосіб, продемоструйте це візуально у формі графіка (гістограма та боксплот) та за допомогою \"цифр\"."
   ]
  },
  {
   "cell_type": "markdown",
   "id": "cc80bcb5-4f5f-4681-ac65-07443a92b4b4",
   "metadata": {},
   "source": [
    "_Рекомендовано почитати_"
   ]
  },
  {
   "cell_type": "markdown",
   "id": "29d89554-e1db-4aac-80bd-c2c4af1e7104",
   "metadata": {},
   "source": [
    "https://cran.r-project.org/web/packages/bestNormalize/vignettes/bestNormalize.html"
   ]
  },
  {
   "cell_type": "markdown",
   "id": "0f66d38a-2c18-42bd-92c3-baad110f3b41",
   "metadata": {},
   "source": [
    "### Конструювання ознак"
   ]
  },
  {
   "cell_type": "markdown",
   "id": "fa873210-25f7-40bc-bb8c-f8397cc6444c",
   "metadata": {},
   "source": [
    "Запропонуйте 5 сконструйованих ознак для набору даних, що на вашу думку можуть покращити процес аналізу даних та моделювання у майбутньому.\n",
    "\n",
    "P.S. У лабораторній роботі №3 ці змінні будуть використані."
   ]
  },
  {
   "cell_type": "markdown",
   "id": "88a99ad4-880c-420a-af18-714e49d051b9",
   "metadata": {},
   "source": [
    "---"
   ]
  },
  {
   "cell_type": "markdown",
   "id": "b0cba05a-d9fb-4da6-a9dd-1121e4ac5935",
   "metadata": {},
   "source": [
    "&copy; 2024 Юрій Клебан"
   ]
  }
 ],
 "metadata": {
  "kernelspec": {
   "display_name": "R",
   "language": "R",
   "name": "ir"
  },
  "language_info": {
   "codemirror_mode": "r",
   "file_extension": ".r",
   "mimetype": "text/x-r-source",
   "name": "R",
   "pygments_lexer": "r",
   "version": "4.1.3"
  }
 },
 "nbformat": 4,
 "nbformat_minor": 5
}
