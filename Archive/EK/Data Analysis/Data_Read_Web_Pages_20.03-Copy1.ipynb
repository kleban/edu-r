{
 "cells": [
  {
   "cell_type": "markdown",
   "id": "bcf97746-2377-4f71-b861-e67e7a3a1c09",
   "metadata": {},
   "source": [
    "# Читання даних з веб-сторінок"
   ]
  },
  {
   "cell_type": "code",
   "execution_count": 3,
   "id": "dd748cfd-9d54-497c-b8f3-7729cfea604f",
   "metadata": {},
   "outputs": [],
   "source": [
    "# install.packages(\"rvest\")"
   ]
  },
  {
   "cell_type": "code",
   "execution_count": 5,
   "id": "9b2c9f74-0725-454a-b3a8-7699a4cd2265",
   "metadata": {},
   "outputs": [],
   "source": [
    "library(rvest)"
   ]
  },
  {
   "cell_type": "code",
   "execution_count": 25,
   "id": "4daa9b1a-5b6f-4cac-b5ba-429e580f4d6c",
   "metadata": {},
   "outputs": [
    {
     "data": {
      "text/html": [
       "'https://en.wikipedia.org/wiki/List_of_banks_in_Europe'"
      ],
      "text/latex": [
       "'https://en.wikipedia.org/wiki/List\\_of\\_banks\\_in\\_Europe'"
      ],
      "text/markdown": [
       "'https://en.wikipedia.org/wiki/List_of_banks_in_Europe'"
      ],
      "text/plain": [
       "[1] \"https://en.wikipedia.org/wiki/List_of_banks_in_Europe\""
      ]
     },
     "metadata": {},
     "output_type": "display_data"
    }
   ],
   "source": [
    "url <- \"https://en.wikipedia.org/wiki/List_of_banks_in_Europe\"\n",
    "url"
   ]
  },
  {
   "cell_type": "code",
   "execution_count": 26,
   "id": "aee1fc0a-c1f8-4234-8631-a0e23c7c2dfd",
   "metadata": {},
   "outputs": [
    {
     "data": {
      "text/plain": [
       "{html_document}\n",
       "<html class=\"client-nojs vector-feature-language-in-header-enabled vector-feature-language-in-main-page-header-disabled vector-feature-sticky-header-disabled vector-feature-page-tools-pinned-disabled vector-feature-toc-pinned-clientpref-1 vector-feature-main-menu-pinned-disabled vector-feature-limited-width-clientpref-1 vector-feature-limited-width-content-enabled vector-feature-custom-font-size-clientpref-0 vector-feature-client-preferences-disabled vector-feature-client-prefs-pinned-disabled vector-feature-night-mode-disabled skin-night-mode-clientpref-0 vector-toc-available\" lang=\"en\" dir=\"ltr\">\n",
       "[1] <head>\\n<meta http-equiv=\"Content-Type\" content=\"text/html; charset=UTF-8 ...\n",
       "[2] <body class=\"skin-vector skin-vector-search-vue mediawiki ltr sitedir-ltr ..."
      ]
     },
     "metadata": {},
     "output_type": "display_data"
    }
   ],
   "source": [
    "page <- read_html(url)\n",
    "page"
   ]
  },
  {
   "cell_type": "code",
   "execution_count": 27,
   "id": "20612118-4274-40e3-8a9f-ee14c2ad2b1d",
   "metadata": {},
   "outputs": [
    {
     "data": {
      "text/plain": [
       "{xml_nodeset (1)}\n",
       "[1] <table class=\"wikitable sortable\"><tbody>\\n<tr style=\"background: #ececec ..."
      ]
     },
     "metadata": {},
     "output_type": "display_data"
    }
   ],
   "source": [
    "tables <- html_nodes(page, \"table\")\n",
    "tables"
   ]
  },
  {
   "cell_type": "code",
   "execution_count": 28,
   "id": "53b08b86-d841-4fd6-98fc-269e4c8aaad4",
   "metadata": {},
   "outputs": [
    {
     "data": {
      "text/html": [
       "<table class=\"dataframe\">\n",
       "<caption>A data.frame: 20 x 4</caption>\n",
       "<thead>\n",
       "\t<tr><th scope=col>Rank</th><th scope=col>Bank</th><th scope=col>Total.assets..billions.of.US.dollars.</th><th scope=col>Headquarter.city</th></tr>\n",
       "\t<tr><th scope=col>&lt;int&gt;</th><th scope=col>&lt;chr&gt;</th><th scope=col>&lt;chr&gt;</th><th scope=col>&lt;chr&gt;</th></tr>\n",
       "</thead>\n",
       "<tbody>\n",
       "\t<tr><td> 1</td><td>HSBC                           </td><td>2,864.59</td><td>London                                 </td></tr>\n",
       "\t<tr><td> 2</td><td>BNP Paribas                    </td><td>2,849.61</td><td>Paris                                  </td></tr>\n",
       "\t<tr><td> 3</td><td>Credit Agricole                </td><td>2,542.61</td><td>Paris                                  </td></tr>\n",
       "\t<tr><td> 4</td><td>Banco Santander                </td><td>1,853.86</td><td>Santander (legal); Madrid (operations) </td></tr>\n",
       "\t<tr><td> 5</td><td>Barclays                       </td><td>1,823.84</td><td>London                                 </td></tr>\n",
       "\t<tr><td> 6</td><td>UBS                            </td><td>1,679.36</td><td>Zurich                                 </td></tr>\n",
       "\t<tr><td> 7</td><td>Groupe BPCE                    </td><td>1,636.65</td><td>Paris                                  </td></tr>\n",
       "\t<tr><td> 8</td><td>Societe Generale               </td><td>1,588.99</td><td>Paris                                  </td></tr>\n",
       "\t<tr><td> 9</td><td>Deutsche Bank                  </td><td>1,428.65</td><td>Frankfurt                              </td></tr>\n",
       "\t<tr><td>10</td><td>Credit Mutuel Group            </td><td>1,180.22</td><td>Strasbourg                             </td></tr>\n",
       "\t<tr><td>11</td><td>Lloyds Banking Group           </td><td>1,057.69</td><td>Edinburgh (legal);  London (operations)</td></tr>\n",
       "\t<tr><td>12</td><td>Intesa Sanpaolo                </td><td>1,042.73</td><td>Turin                                  </td></tr>\n",
       "\t<tr><td>13</td><td>ING Group                      </td><td>1,034.32</td><td>Amsterdam                              </td></tr>\n",
       "\t<tr><td>14</td><td>UniCredit                      </td><td>916.72  </td><td>Milan                                  </td></tr>\n",
       "\t<tr><td>15</td><td>NatWest Group                  </td><td>867.59  </td><td>Edinburgh                              </td></tr>\n",
       "\t<tr><td>16</td><td>Standard Chartered             </td><td>819.92  </td><td>London (legal); Shanghai (operations)  </td></tr>\n",
       "\t<tr><td>17</td><td>La Banque Postale              </td><td>796.88  </td><td>Paris                                  </td></tr>\n",
       "\t<tr><td>18</td><td>Banco Bilbao Vizcaya Argentaria</td><td>762.15  </td><td>Bilbao (legal);  Madrid (operations)   </td></tr>\n",
       "\t<tr><td>19</td><td>Rabobank                       </td><td>671.70  </td><td>Utrecht                                </td></tr>\n",
       "\t<tr><td>20</td><td>DZ Bank                        </td><td>670.13  </td><td>Frankfurt                              </td></tr>\n",
       "</tbody>\n",
       "</table>\n"
      ],
      "text/latex": [
       "A data.frame: 20 x 4\n",
       "\\begin{tabular}{llll}\n",
       " Rank & Bank & Total.assets..billions.of.US.dollars. & Headquarter.city\\\\\n",
       " <int> & <chr> & <chr> & <chr>\\\\\n",
       "\\hline\n",
       "\t  1 & HSBC                            & 2,864.59 & London                                 \\\\\n",
       "\t  2 & BNP Paribas                     & 2,849.61 & Paris                                  \\\\\n",
       "\t  3 & Credit Agricole                 & 2,542.61 & Paris                                  \\\\\n",
       "\t  4 & Banco Santander                 & 1,853.86 & Santander (legal); Madrid (operations) \\\\\n",
       "\t  5 & Barclays                        & 1,823.84 & London                                 \\\\\n",
       "\t  6 & UBS                             & 1,679.36 & Zurich                                 \\\\\n",
       "\t  7 & Groupe BPCE                     & 1,636.65 & Paris                                  \\\\\n",
       "\t  8 & Societe Generale                & 1,588.99 & Paris                                  \\\\\n",
       "\t  9 & Deutsche Bank                   & 1,428.65 & Frankfurt                              \\\\\n",
       "\t 10 & Credit Mutuel Group             & 1,180.22 & Strasbourg                             \\\\\n",
       "\t 11 & Lloyds Banking Group            & 1,057.69 & Edinburgh (legal);  London (operations)\\\\\n",
       "\t 12 & Intesa Sanpaolo                 & 1,042.73 & Turin                                  \\\\\n",
       "\t 13 & ING Group                       & 1,034.32 & Amsterdam                              \\\\\n",
       "\t 14 & UniCredit                       & 916.72   & Milan                                  \\\\\n",
       "\t 15 & NatWest Group                   & 867.59   & Edinburgh                              \\\\\n",
       "\t 16 & Standard Chartered              & 819.92   & London (legal); Shanghai (operations)  \\\\\n",
       "\t 17 & La Banque Postale               & 796.88   & Paris                                  \\\\\n",
       "\t 18 & Banco Bilbao Vizcaya Argentaria & 762.15   & Bilbao (legal);  Madrid (operations)   \\\\\n",
       "\t 19 & Rabobank                        & 671.70   & Utrecht                                \\\\\n",
       "\t 20 & DZ Bank                         & 670.13   & Frankfurt                              \\\\\n",
       "\\end{tabular}\n"
      ],
      "text/markdown": [
       "\n",
       "A data.frame: 20 x 4\n",
       "\n",
       "| Rank &lt;int&gt; | Bank &lt;chr&gt; | Total.assets..billions.of.US.dollars. &lt;chr&gt; | Headquarter.city &lt;chr&gt; |\n",
       "|---|---|---|---|\n",
       "|  1 | HSBC                            | 2,864.59 | London                                  |\n",
       "|  2 | BNP Paribas                     | 2,849.61 | Paris                                   |\n",
       "|  3 | Credit Agricole                 | 2,542.61 | Paris                                   |\n",
       "|  4 | Banco Santander                 | 1,853.86 | Santander (legal); Madrid (operations)  |\n",
       "|  5 | Barclays                        | 1,823.84 | London                                  |\n",
       "|  6 | UBS                             | 1,679.36 | Zurich                                  |\n",
       "|  7 | Groupe BPCE                     | 1,636.65 | Paris                                   |\n",
       "|  8 | Societe Generale                | 1,588.99 | Paris                                   |\n",
       "|  9 | Deutsche Bank                   | 1,428.65 | Frankfurt                               |\n",
       "| 10 | Credit Mutuel Group             | 1,180.22 | Strasbourg                              |\n",
       "| 11 | Lloyds Banking Group            | 1,057.69 | Edinburgh (legal);  London (operations) |\n",
       "| 12 | Intesa Sanpaolo                 | 1,042.73 | Turin                                   |\n",
       "| 13 | ING Group                       | 1,034.32 | Amsterdam                               |\n",
       "| 14 | UniCredit                       | 916.72   | Milan                                   |\n",
       "| 15 | NatWest Group                   | 867.59   | Edinburgh                               |\n",
       "| 16 | Standard Chartered              | 819.92   | London (legal); Shanghai (operations)   |\n",
       "| 17 | La Banque Postale               | 796.88   | Paris                                   |\n",
       "| 18 | Banco Bilbao Vizcaya Argentaria | 762.15   | Bilbao (legal);  Madrid (operations)    |\n",
       "| 19 | Rabobank                        | 671.70   | Utrecht                                 |\n",
       "| 20 | DZ Bank                         | 670.13   | Frankfurt                               |\n",
       "\n"
      ],
      "text/plain": [
       "   Rank Bank                            Total.assets..billions.of.US.dollars.\n",
       "1   1   HSBC                            2,864.59                             \n",
       "2   2   BNP Paribas                     2,849.61                             \n",
       "3   3   Credit Agricole                 2,542.61                             \n",
       "4   4   Banco Santander                 1,853.86                             \n",
       "5   5   Barclays                        1,823.84                             \n",
       "6   6   UBS                             1,679.36                             \n",
       "7   7   Groupe BPCE                     1,636.65                             \n",
       "8   8   Societe Generale                1,588.99                             \n",
       "9   9   Deutsche Bank                   1,428.65                             \n",
       "10 10   Credit Mutuel Group             1,180.22                             \n",
       "11 11   Lloyds Banking Group            1,057.69                             \n",
       "12 12   Intesa Sanpaolo                 1,042.73                             \n",
       "13 13   ING Group                       1,034.32                             \n",
       "14 14   UniCredit                       916.72                               \n",
       "15 15   NatWest Group                   867.59                               \n",
       "16 16   Standard Chartered              819.92                               \n",
       "17 17   La Banque Postale               796.88                               \n",
       "18 18   Banco Bilbao Vizcaya Argentaria 762.15                               \n",
       "19 19   Rabobank                        671.70                               \n",
       "20 20   DZ Bank                         670.13                               \n",
       "   Headquarter.city                       \n",
       "1  London                                 \n",
       "2  Paris                                  \n",
       "3  Paris                                  \n",
       "4  Santander (legal); Madrid (operations) \n",
       "5  London                                 \n",
       "6  Zurich                                 \n",
       "7  Paris                                  \n",
       "8  Paris                                  \n",
       "9  Frankfurt                              \n",
       "10 Strasbourg                             \n",
       "11 Edinburgh (legal);  London (operations)\n",
       "12 Turin                                  \n",
       "13 Amsterdam                              \n",
       "14 Milan                                  \n",
       "15 Edinburgh                              \n",
       "16 London (legal); Shanghai (operations)  \n",
       "17 Paris                                  \n",
       "18 Bilbao (legal);  Madrid (operations)   \n",
       "19 Utrecht                                \n",
       "20 Frankfurt                              "
      ]
     },
     "metadata": {},
     "output_type": "display_data"
    }
   ],
   "source": [
    "table1 <- as.data.frame(html_table(tables[1]), fill = T)\n",
    "table1"
   ]
  },
  {
   "cell_type": "code",
   "execution_count": 29,
   "id": "ce2c76a1-06e6-4f7a-91df-43a9322f6e71",
   "metadata": {},
   "outputs": [],
   "source": [
    "colnames(table1) <- c(\"Rank\", \"Name\", \"TotalAssets\", \"Headquarter\")"
   ]
  },
  {
   "cell_type": "code",
   "execution_count": 31,
   "id": "dcea5980-348e-4733-9078-f585034e9275",
   "metadata": {},
   "outputs": [
    {
     "data": {
      "text/html": [
       "<style>\n",
       ".list-inline {list-style: none; margin:0; padding: 0}\n",
       ".list-inline>li {display: inline-block}\n",
       ".list-inline>li:not(:last-child)::after {content: \"\\00b7\"; padding: 0 .5ex}\n",
       "</style>\n",
       "<ol class=list-inline><li>'HSBC'</li><li>'BNP Paribas'</li><li>'Crédit Agricole'</li><li>'Banco Santander'</li><li>'Barclays'</li><li>'UBS'</li><li>'Groupe BPCE'</li><li>'Société Générale'</li><li>'Deutsche Bank'</li><li>'Crédit Mutuel Group'</li><li>'Lloyds Banking Group'</li><li>'Intesa Sanpaolo'</li><li>'ING Group'</li><li>'UniCredit'</li><li>'NatWest Group'</li><li>'Standard Chartered'</li><li>'La Banque Postale'</li><li>'Banco Bilbao Vizcaya Argentaria'</li><li>'Rabobank'</li><li>'DZ Bank'</li></ol>\n"
      ],
      "text/latex": [
       "\\begin{enumerate*}\n",
       "\\item 'HSBC'\n",
       "\\item 'BNP Paribas'\n",
       "\\item 'Crédit Agricole'\n",
       "\\item 'Banco Santander'\n",
       "\\item 'Barclays'\n",
       "\\item 'UBS'\n",
       "\\item 'Groupe BPCE'\n",
       "\\item 'Société Générale'\n",
       "\\item 'Deutsche Bank'\n",
       "\\item 'Crédit Mutuel Group'\n",
       "\\item 'Lloyds Banking Group'\n",
       "\\item 'Intesa Sanpaolo'\n",
       "\\item 'ING Group'\n",
       "\\item 'UniCredit'\n",
       "\\item 'NatWest Group'\n",
       "\\item 'Standard Chartered'\n",
       "\\item 'La Banque Postale'\n",
       "\\item 'Banco Bilbao Vizcaya Argentaria'\n",
       "\\item 'Rabobank'\n",
       "\\item 'DZ Bank'\n",
       "\\end{enumerate*}\n"
      ],
      "text/markdown": [
       "1. 'HSBC'\n",
       "2. 'BNP Paribas'\n",
       "3. 'Crédit Agricole'\n",
       "4. 'Banco Santander'\n",
       "5. 'Barclays'\n",
       "6. 'UBS'\n",
       "7. 'Groupe BPCE'\n",
       "8. 'Société Générale'\n",
       "9. 'Deutsche Bank'\n",
       "10. 'Crédit Mutuel Group'\n",
       "11. 'Lloyds Banking Group'\n",
       "12. 'Intesa Sanpaolo'\n",
       "13. 'ING Group'\n",
       "14. 'UniCredit'\n",
       "15. 'NatWest Group'\n",
       "16. 'Standard Chartered'\n",
       "17. 'La Banque Postale'\n",
       "18. 'Banco Bilbao Vizcaya Argentaria'\n",
       "19. 'Rabobank'\n",
       "20. 'DZ Bank'\n",
       "\n",
       "\n"
      ],
      "text/plain": [
       " [1] \"HSBC\"                            \"BNP Paribas\"                    \n",
       " [3] \"Credit Agricole\"                 \"Banco Santander\"                \n",
       " [5] \"Barclays\"                        \"UBS\"                            \n",
       " [7] \"Groupe BPCE\"                     \"Societe Generale\"               \n",
       " [9] \"Deutsche Bank\"                   \"Credit Mutuel Group\"            \n",
       "[11] \"Lloyds Banking Group\"            \"Intesa Sanpaolo\"                \n",
       "[13] \"ING Group\"                       \"UniCredit\"                      \n",
       "[15] \"NatWest Group\"                   \"Standard Chartered\"             \n",
       "[17] \"La Banque Postale\"               \"Banco Bilbao Vizcaya Argentaria\"\n",
       "[19] \"Rabobank\"                        \"DZ Bank\"                        "
      ]
     },
     "metadata": {},
     "output_type": "display_data"
    }
   ],
   "source": [
    "table1$Name"
   ]
  },
  {
   "cell_type": "code",
   "execution_count": 33,
   "id": "1ebafa73-c072-4d88-b6c4-18337dd1c248",
   "metadata": {},
   "outputs": [],
   "source": [
    "library(stringr)"
   ]
  },
  {
   "cell_type": "code",
   "execution_count": 36,
   "id": "e0e13ad8-b633-4dd4-ae3e-78751cc5d822",
   "metadata": {},
   "outputs": [],
   "source": [
    "table1$TotalAssets <- as.numeric(gsub(\",\",\"\" , table1$TotalAssets))"
   ]
  },
  {
   "cell_type": "code",
   "execution_count": 37,
   "id": "244d4ff5-86ca-4e0d-b6a5-2bbb3e88da5f",
   "metadata": {},
   "outputs": [
    {
     "data": {
      "text/html": [
       "1404.4105"
      ],
      "text/latex": [
       "1404.4105"
      ],
      "text/markdown": [
       "1404.4105"
      ],
      "text/plain": [
       "[1] 1404.41"
      ]
     },
     "metadata": {},
     "output_type": "display_data"
    }
   ],
   "source": [
    "mean(table1$TotalAssets)"
   ]
  },
  {
   "cell_type": "code",
   "execution_count": 24,
   "id": "57f78e27-4beb-47cb-822e-a0c6a3b16d97",
   "metadata": {},
   "outputs": [
    {
     "data": {
      "text/html": [
       "<table class=\"dataframe\">\n",
       "<caption>A data.frame: 6 x 3</caption>\n",
       "<thead>\n",
       "\t<tr><th></th><th scope=col>Rank</th><th scope=col>Bank.name</th><th scope=col>Total.assets.2022..US..billion.</th></tr>\n",
       "\t<tr><th></th><th scope=col>&lt;int&gt;</th><th scope=col>&lt;chr&gt;</th><th scope=col>&lt;chr&gt;</th></tr>\n",
       "</thead>\n",
       "<tbody>\n",
       "\t<tr><th scope=row>1</th><td>1</td><td>Industrial and Commercial Bank of China Limited</td><td>5,742.86</td></tr>\n",
       "\t<tr><th scope=row>2</th><td>2</td><td>China Construction Bank                        </td><td>5,016.81</td></tr>\n",
       "\t<tr><th scope=row>3</th><td>3</td><td>Agricultural Bank of China                     </td><td>4,919.03</td></tr>\n",
       "\t<tr><th scope=row>4</th><td>4</td><td>Bank of China                                  </td><td>4,192.12</td></tr>\n",
       "\t<tr><th scope=row>5</th><td>5</td><td>JPMorgan Chase                                 </td><td>3,736.62</td></tr>\n",
       "\t<tr><th scope=row>6</th><td>6</td><td>Bank of America                                </td><td>3,100.02</td></tr>\n",
       "</tbody>\n",
       "</table>\n"
      ],
      "text/latex": [
       "A data.frame: 6 x 3\n",
       "\\begin{tabular}{r|lll}\n",
       "  & Rank & Bank.name & Total.assets.2022..US..billion.\\\\\n",
       "  & <int> & <chr> & <chr>\\\\\n",
       "\\hline\n",
       "\t1 & 1 & Industrial and Commercial Bank of China Limited & 5,742.86\\\\\n",
       "\t2 & 2 & China Construction Bank                         & 5,016.81\\\\\n",
       "\t3 & 3 & Agricultural Bank of China                      & 4,919.03\\\\\n",
       "\t4 & 4 & Bank of China                                   & 4,192.12\\\\\n",
       "\t5 & 5 & JPMorgan Chase                                  & 3,736.62\\\\\n",
       "\t6 & 6 & Bank of America                                 & 3,100.02\\\\\n",
       "\\end{tabular}\n"
      ],
      "text/markdown": [
       "\n",
       "A data.frame: 6 x 3\n",
       "\n",
       "| <!--/--> | Rank &lt;int&gt; | Bank.name &lt;chr&gt; | Total.assets.2022..US..billion. &lt;chr&gt; |\n",
       "|---|---|---|---|\n",
       "| 1 | 1 | Industrial and Commercial Bank of China Limited | 5,742.86 |\n",
       "| 2 | 2 | China Construction Bank                         | 5,016.81 |\n",
       "| 3 | 3 | Agricultural Bank of China                      | 4,919.03 |\n",
       "| 4 | 4 | Bank of China                                   | 4,192.12 |\n",
       "| 5 | 5 | JPMorgan Chase                                  | 3,736.62 |\n",
       "| 6 | 6 | Bank of America                                 | 3,100.02 |\n",
       "\n"
      ],
      "text/plain": [
       "  Rank Bank.name                                      \n",
       "1 1    Industrial and Commercial Bank of China Limited\n",
       "2 2    China Construction Bank                        \n",
       "3 3    Agricultural Bank of China                     \n",
       "4 4    Bank of China                                  \n",
       "5 5    JPMorgan Chase                                 \n",
       "6 6    Bank of America                                \n",
       "  Total.assets.2022..US..billion.\n",
       "1 5,742.86                       \n",
       "2 5,016.81                       \n",
       "3 4,919.03                       \n",
       "4 4,192.12                       \n",
       "5 3,736.62                       \n",
       "6 3,100.02                       "
      ]
     },
     "metadata": {},
     "output_type": "display_data"
    }
   ],
   "source": [
    "table2 <- as.data.frame(html_table(tables[2]), fill = T)\n",
    "table2 |> head()"
   ]
  }
 ],
 "metadata": {
  "kernelspec": {
   "display_name": "R",
   "language": "R",
   "name": "ir"
  },
  "language_info": {
   "codemirror_mode": "r",
   "file_extension": ".r",
   "mimetype": "text/x-r-source",
   "name": "R",
   "pygments_lexer": "r",
   "version": "4.1.3"
  }
 },
 "nbformat": 4,
 "nbformat_minor": 5
}
