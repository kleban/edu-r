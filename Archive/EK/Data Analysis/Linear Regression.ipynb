{
 "cells": [
  {
   "cell_type": "markdown",
   "id": "787287d2-2007-40b4-997f-0cf7b03f6548",
   "metadata": {},
   "source": [
    "# Linear Regression"
   ]
  },
  {
   "cell_type": "markdown",
   "id": "b2d8babd-35c6-4852-b78c-59de34a3a1f5",
   "metadata": {},
   "source": [
    "## 1. Load data"
   ]
  },
  {
   "cell_type": "code",
   "execution_count": 3,
   "id": "ed7e8485-3f38-4b3e-8eb1-885a8739abca",
   "metadata": {},
   "outputs": [],
   "source": [
    "# install.packages(\"carData\")"
   ]
  },
  {
   "cell_type": "code",
   "execution_count": 5,
   "id": "940b7a3b-966b-466c-a44d-3cb6976dcbd9",
   "metadata": {},
   "outputs": [],
   "source": [
    "library(carData)"
   ]
  },
  {
   "cell_type": "code",
   "execution_count": 7,
   "id": "f20c9451-a82e-4b35-b573-4e6dac58baa1",
   "metadata": {},
   "outputs": [
    {
     "data": {
      "text/html": [
       "\n",
       "<table width=\"100%\" summary=\"page for Prestige {carData}\"><tr><td>Prestige {carData}</td><td style=\"text-align: right;\">R Documentation</td></tr></table>\n",
       "\n",
       "<h2>Prestige of Canadian Occupations</h2>\n",
       "\n",
       "<h3>Description</h3>\n",
       "\n",
       "<p>The <code>Prestige</code> data frame has 102 rows and 6 columns.\n",
       "The observations are occupations.\n",
       "</p>\n",
       "\n",
       "\n",
       "<h3>Usage</h3>\n",
       "\n",
       "<pre>\n",
       "Prestige\n",
       "</pre>\n",
       "\n",
       "\n",
       "<h3>Format</h3>\n",
       "\n",
       "<p>This data frame contains the following columns:\n",
       "</p>\n",
       "\n",
       "<dl>\n",
       "<dt>education</dt><dd>\n",
       "<p>Average education of occupational incumbents, years, in 1971. \n",
       "</p>\n",
       "</dd>\n",
       "<dt>income</dt><dd>\n",
       "<p>Average income of incumbents, dollars, in 1971.\n",
       "</p>\n",
       "</dd>\n",
       "<dt>women</dt><dd>\n",
       "<p>Percentage of incumbents who are women.\n",
       "</p>\n",
       "</dd>\n",
       "<dt>prestige</dt><dd>\n",
       "<p>Pineo-Porter prestige score for occupation, from a social survey\n",
       "conducted in the mid-1960s.\n",
       "</p>\n",
       "</dd>\n",
       "<dt>census</dt><dd>\n",
       "<p>Canadian Census occupational code.\n",
       "</p>\n",
       "</dd>\n",
       "<dt>type</dt><dd>\n",
       "<p>Type of occupation.\n",
       "A factor with levels (note: out of order):\n",
       "<code>bc</code>, Blue Collar;\n",
       "<code>prof</code>, Professional, Managerial, and Technical;\n",
       "<code>wc</code>, White Collar. \n",
       "</p>\n",
       "</dd>\n",
       "</dl>\n",
       "\n",
       "\n",
       "\n",
       "<h3>Source</h3>\n",
       "\n",
       "<p>Canada (1971)\n",
       "<em>Census of Canada</em>. Vol. 3, Part 6. Statistics Canada [pp. 19-1&ndash;19-21].\n",
       "</p>\n",
       "<p>Personal communication from B. Blishen, W. Carroll, and\n",
       "C. Moore, Departments of Sociology, York University and\n",
       "University of Victoria.\n",
       "</p>\n",
       "\n",
       "\n",
       "<h3>References</h3>\n",
       "\n",
       "<p>Fox, J. (2016)\n",
       "<em>Applied Regression Analysis and Generalized Linear Models</em>,\n",
       "Third Edition. Sage.  \n",
       "</p>\n",
       "<p>Fox, J. and Weisberg, S. (2019) \n",
       "<em>An R Companion to Applied Regression</em>, Third Edition, Sage.\n",
       "</p>\n",
       "\n",
       "<hr /><div style=\"text-align: center;\">[Package <em>carData</em> version 3.0-5 ]</div>"
      ],
      "text/latex": [
       "\\inputencoding{utf8}\n",
       "\\HeaderA{Prestige}{Prestige of Canadian Occupations}{Prestige}\n",
       "\\keyword{datasets}{Prestige}\n",
       "%\n",
       "\\begin{Description}\\relax\n",
       "The \\code{Prestige} data frame has 102 rows and 6 columns.\n",
       "The observations are occupations.\n",
       "\\end{Description}\n",
       "%\n",
       "\\begin{Usage}\n",
       "\\begin{verbatim}\n",
       "Prestige\n",
       "\\end{verbatim}\n",
       "\\end{Usage}\n",
       "%\n",
       "\\begin{Format}\n",
       "This data frame contains the following columns:\n",
       "\\begin{description}\n",
       "\n",
       "\\item[education] \n",
       "Average education of occupational incumbents, years, in 1971. \n",
       "\n",
       "\\item[income] \n",
       "Average income of incumbents, dollars, in 1971.\n",
       "\n",
       "\\item[women] \n",
       "Percentage of incumbents who are women.\n",
       "\n",
       "\\item[prestige] \n",
       "Pineo-Porter prestige score for occupation, from a social survey\n",
       "conducted in the mid-1960s.\n",
       "\n",
       "\\item[census] \n",
       "Canadian Census occupational code.\n",
       "\n",
       "\\item[type] \n",
       "Type of occupation.\n",
       "A factor with levels (note: out of order):\n",
       "\\code{bc}, Blue Collar;\n",
       "\\code{prof}, Professional, Managerial, and Technical;\n",
       "\\code{wc}, White Collar. \n",
       "\n",
       "\n",
       "\\end{description}\n",
       "\n",
       "\n",
       "\\end{Format}\n",
       "%\n",
       "\\begin{Source}\\relax\n",
       "Canada (1971)\n",
       "\\emph{Census of Canada}. Vol. 3, Part 6. Statistics Canada [pp. 19-1--19-21].\n",
       "\n",
       "Personal communication from B. Blishen, W. Carroll, and\n",
       "C. Moore, Departments of Sociology, York University and\n",
       "University of Victoria.\n",
       "\\end{Source}\n",
       "%\n",
       "\\begin{References}\\relax\n",
       "Fox, J. (2016)\n",
       "\\emph{Applied Regression Analysis and Generalized Linear Models},\n",
       "Third Edition. Sage.  \n",
       "\n",
       "Fox, J. and Weisberg, S. (2019) \n",
       "\\emph{An R Companion to Applied Regression}, Third Edition, Sage.\n",
       "\\end{References}"
      ],
      "text/plain": [
       "Prestige                package:carData                R Documentation\n",
       "\n",
       "_\bP_\br_\be_\bs_\bt_\bi_\bg_\be _\bo_\bf _\bC_\ba_\bn_\ba_\bd_\bi_\ba_\bn _\bO_\bc_\bc_\bu_\bp_\ba_\bt_\bi_\bo_\bn_\bs\n",
       "\n",
       "_\bD_\be_\bs_\bc_\br_\bi_\bp_\bt_\bi_\bo_\bn:\n",
       "\n",
       "     The 'Prestige' data frame has 102 rows and 6 columns. The\n",
       "     observations are occupations.\n",
       "\n",
       "_\bU_\bs_\ba_\bg_\be:\n",
       "\n",
       "     Prestige\n",
       "     \n",
       "_\bF_\bo_\br_\bm_\ba_\bt:\n",
       "\n",
       "     This data frame contains the following columns:\n",
       "\n",
       "     education Average education of occupational incumbents, years, in\n",
       "          1971.\n",
       "\n",
       "     income Average income of incumbents, dollars, in 1971.\n",
       "\n",
       "     women Percentage of incumbents who are women.\n",
       "\n",
       "     prestige Pineo-Porter prestige score for occupation, from a social\n",
       "          survey conducted in the mid-1960s.\n",
       "\n",
       "     census Canadian Census occupational code.\n",
       "\n",
       "     type Type of occupation.  A factor with levels (note: out of\n",
       "          order): 'bc', Blue Collar; 'prof', Professional, Managerial,\n",
       "          and Technical; 'wc', White Collar.\n",
       "\n",
       "_\bS_\bo_\bu_\br_\bc_\be:\n",
       "\n",
       "     Canada (1971) _Census of Canada_. Vol. 3, Part 6. Statistics\n",
       "     Canada [pp. 19-1-19-21].\n",
       "\n",
       "     Personal communication from B. Blishen, W. Carroll, and C. Moore,\n",
       "     Departments of Sociology, York University and University of\n",
       "     Victoria.\n",
       "\n",
       "_\bR_\be_\bf_\be_\br_\be_\bn_\bc_\be_\bs:\n",
       "\n",
       "     Fox, J. (2016) _Applied Regression Analysis and Generalized Linear\n",
       "     Models_, Third Edition. Sage.\n",
       "\n",
       "     Fox, J. and Weisberg, S. (2019) _An R Companion to Applied\n",
       "     Regression_, Third Edition, Sage.\n"
      ]
     },
     "metadata": {},
     "output_type": "display_data"
    }
   ],
   "source": [
    "?Prestige"
   ]
  },
  {
   "cell_type": "code",
   "execution_count": 9,
   "id": "6db67a7c-68ee-4f64-a6ba-e9c376bf320e",
   "metadata": {},
   "outputs": [
    {
     "data": {
      "text/html": [
       "<table class=\"dataframe\">\n",
       "<caption>A data.frame: 6 x 6</caption>\n",
       "<thead>\n",
       "\t<tr><th></th><th scope=col>education</th><th scope=col>income</th><th scope=col>women</th><th scope=col>prestige</th><th scope=col>census</th><th scope=col>type</th></tr>\n",
       "\t<tr><th></th><th scope=col>&lt;dbl&gt;</th><th scope=col>&lt;int&gt;</th><th scope=col>&lt;dbl&gt;</th><th scope=col>&lt;dbl&gt;</th><th scope=col>&lt;int&gt;</th><th scope=col>&lt;fct&gt;</th></tr>\n",
       "</thead>\n",
       "<tbody>\n",
       "\t<tr><th scope=row>gov.administrators</th><td>13.11</td><td>12351</td><td>11.16</td><td>68.8</td><td>1113</td><td>prof</td></tr>\n",
       "\t<tr><th scope=row>general.managers</th><td>12.26</td><td>25879</td><td> 4.02</td><td>69.1</td><td>1130</td><td>prof</td></tr>\n",
       "\t<tr><th scope=row>accountants</th><td>12.77</td><td> 9271</td><td>15.70</td><td>63.4</td><td>1171</td><td>prof</td></tr>\n",
       "\t<tr><th scope=row>purchasing.officers</th><td>11.42</td><td> 8865</td><td> 9.11</td><td>56.8</td><td>1175</td><td>prof</td></tr>\n",
       "\t<tr><th scope=row>chemists</th><td>14.62</td><td> 8403</td><td>11.68</td><td>73.5</td><td>2111</td><td>prof</td></tr>\n",
       "\t<tr><th scope=row>physicists</th><td>15.64</td><td>11030</td><td> 5.13</td><td>77.6</td><td>2113</td><td>prof</td></tr>\n",
       "</tbody>\n",
       "</table>\n"
      ],
      "text/latex": [
       "A data.frame: 6 x 6\n",
       "\\begin{tabular}{r|llllll}\n",
       "  & education & income & women & prestige & census & type\\\\\n",
       "  & <dbl> & <int> & <dbl> & <dbl> & <int> & <fct>\\\\\n",
       "\\hline\n",
       "\tgov.administrators & 13.11 & 12351 & 11.16 & 68.8 & 1113 & prof\\\\\n",
       "\tgeneral.managers & 12.26 & 25879 &  4.02 & 69.1 & 1130 & prof\\\\\n",
       "\taccountants & 12.77 &  9271 & 15.70 & 63.4 & 1171 & prof\\\\\n",
       "\tpurchasing.officers & 11.42 &  8865 &  9.11 & 56.8 & 1175 & prof\\\\\n",
       "\tchemists & 14.62 &  8403 & 11.68 & 73.5 & 2111 & prof\\\\\n",
       "\tphysicists & 15.64 & 11030 &  5.13 & 77.6 & 2113 & prof\\\\\n",
       "\\end{tabular}\n"
      ],
      "text/markdown": [
       "\n",
       "A data.frame: 6 x 6\n",
       "\n",
       "| <!--/--> | education &lt;dbl&gt; | income &lt;int&gt; | women &lt;dbl&gt; | prestige &lt;dbl&gt; | census &lt;int&gt; | type &lt;fct&gt; |\n",
       "|---|---|---|---|---|---|---|\n",
       "| gov.administrators | 13.11 | 12351 | 11.16 | 68.8 | 1113 | prof |\n",
       "| general.managers | 12.26 | 25879 |  4.02 | 69.1 | 1130 | prof |\n",
       "| accountants | 12.77 |  9271 | 15.70 | 63.4 | 1171 | prof |\n",
       "| purchasing.officers | 11.42 |  8865 |  9.11 | 56.8 | 1175 | prof |\n",
       "| chemists | 14.62 |  8403 | 11.68 | 73.5 | 2111 | prof |\n",
       "| physicists | 15.64 | 11030 |  5.13 | 77.6 | 2113 | prof |\n",
       "\n"
      ],
      "text/plain": [
       "                    education income women prestige census type\n",
       "gov.administrators  13.11     12351  11.16 68.8     1113   prof\n",
       "general.managers    12.26     25879   4.02 69.1     1130   prof\n",
       "accountants         12.77      9271  15.70 63.4     1171   prof\n",
       "purchasing.officers 11.42      8865   9.11 56.8     1175   prof\n",
       "chemists            14.62      8403  11.68 73.5     2111   prof\n",
       "physicists          15.64     11030   5.13 77.6     2113   prof"
      ]
     },
     "metadata": {},
     "output_type": "display_data"
    }
   ],
   "source": [
    "data <- Prestige\n",
    "head(data)"
   ]
  },
  {
   "cell_type": "code",
   "execution_count": 11,
   "id": "7927b2cf-1097-4baf-98e2-f203754ade0a",
   "metadata": {},
   "outputs": [
    {
     "name": "stdout",
     "output_type": "stream",
     "text": [
      "'data.frame':\t102 obs. of  6 variables:\n",
      " $ education: num  13.1 12.3 12.8 11.4 14.6 ...\n",
      " $ income   : int  12351 25879 9271 8865 8403 11030 8258 14163 11377 11023 ...\n",
      " $ women    : num  11.16 4.02 15.7 9.11 11.68 ...\n",
      " $ prestige : num  68.8 69.1 63.4 56.8 73.5 77.6 72.6 78.1 73.1 68.8 ...\n",
      " $ census   : int  1113 1130 1171 1175 2111 2113 2133 2141 2143 2153 ...\n",
      " $ type     : Factor w/ 3 levels \"bc\",\"prof\",\"wc\": 2 2 2 2 2 2 2 2 2 2 ...\n"
     ]
    }
   ],
   "source": [
    "str(data)"
   ]
  },
  {
   "cell_type": "code",
   "execution_count": 13,
   "id": "516b755a-5353-426b-9be5-08e0ef20fc29",
   "metadata": {},
   "outputs": [],
   "source": [
    "library(dplyr)"
   ]
  },
  {
   "cell_type": "code",
   "execution_count": 15,
   "id": "2ea79fa8-2d99-443a-b5bc-b4ab1afa30aa",
   "metadata": {},
   "outputs": [
    {
     "data": {
      "text/html": [
       "<table class=\"dataframe\">\n",
       "<caption>A matrix: 5 x 5 of type dbl</caption>\n",
       "<thead>\n",
       "\t<tr><th></th><th scope=col>education</th><th scope=col>income</th><th scope=col>women</th><th scope=col>prestige</th><th scope=col>census</th></tr>\n",
       "</thead>\n",
       "<tbody>\n",
       "\t<tr><th scope=row>education</th><td> 1.00000000</td><td> 0.5775802</td><td> 0.06185286</td><td> 0.8501769</td><td>-0.8230882</td></tr>\n",
       "\t<tr><th scope=row>income</th><td> 0.57758023</td><td> 1.0000000</td><td>-0.44105927</td><td> 0.7149057</td><td>-0.3610023</td></tr>\n",
       "\t<tr><th scope=row>women</th><td> 0.06185286</td><td>-0.4410593</td><td> 1.00000000</td><td>-0.1183342</td><td>-0.2270028</td></tr>\n",
       "\t<tr><th scope=row>prestige</th><td> 0.85017689</td><td> 0.7149057</td><td>-0.11833419</td><td> 1.0000000</td><td>-0.6345103</td></tr>\n",
       "\t<tr><th scope=row>census</th><td>-0.82308821</td><td>-0.3610023</td><td>-0.22700277</td><td>-0.6345103</td><td> 1.0000000</td></tr>\n",
       "</tbody>\n",
       "</table>\n"
      ],
      "text/latex": [
       "A matrix: 5 x 5 of type dbl\n",
       "\\begin{tabular}{r|lllll}\n",
       "  & education & income & women & prestige & census\\\\\n",
       "\\hline\n",
       "\teducation &  1.00000000 &  0.5775802 &  0.06185286 &  0.8501769 & -0.8230882\\\\\n",
       "\tincome &  0.57758023 &  1.0000000 & -0.44105927 &  0.7149057 & -0.3610023\\\\\n",
       "\twomen &  0.06185286 & -0.4410593 &  1.00000000 & -0.1183342 & -0.2270028\\\\\n",
       "\tprestige &  0.85017689 &  0.7149057 & -0.11833419 &  1.0000000 & -0.6345103\\\\\n",
       "\tcensus & -0.82308821 & -0.3610023 & -0.22700277 & -0.6345103 &  1.0000000\\\\\n",
       "\\end{tabular}\n"
      ],
      "text/markdown": [
       "\n",
       "A matrix: 5 x 5 of type dbl\n",
       "\n",
       "| <!--/--> | education | income | women | prestige | census |\n",
       "|---|---|---|---|---|---|\n",
       "| education |  1.00000000 |  0.5775802 |  0.06185286 |  0.8501769 | -0.8230882 |\n",
       "| income |  0.57758023 |  1.0000000 | -0.44105927 |  0.7149057 | -0.3610023 |\n",
       "| women |  0.06185286 | -0.4410593 |  1.00000000 | -0.1183342 | -0.2270028 |\n",
       "| prestige |  0.85017689 |  0.7149057 | -0.11833419 |  1.0000000 | -0.6345103 |\n",
       "| census | -0.82308821 | -0.3610023 | -0.22700277 | -0.6345103 |  1.0000000 |\n",
       "\n"
      ],
      "text/plain": [
       "          education   income     women       prestige   census    \n",
       "education  1.00000000  0.5775802  0.06185286  0.8501769 -0.8230882\n",
       "income     0.57758023  1.0000000 -0.44105927  0.7149057 -0.3610023\n",
       "women      0.06185286 -0.4410593  1.00000000 -0.1183342 -0.2270028\n",
       "prestige   0.85017689  0.7149057 -0.11833419  1.0000000 -0.6345103\n",
       "census    -0.82308821 -0.3610023 -0.22700277 -0.6345103  1.0000000"
      ]
     },
     "metadata": {},
     "output_type": "display_data"
    }
   ],
   "source": [
    "data |> select(-type) |> cor()"
   ]
  },
  {
   "cell_type": "markdown",
   "id": "bee4faf6-385f-4fd3-a3db-9efd388b02e9",
   "metadata": {},
   "source": [
    "## 2.  Check missing data"
   ]
  },
  {
   "cell_type": "code",
   "execution_count": 17,
   "id": "fd1bb2b2-26a5-4499-bdff-23c91262afe0",
   "metadata": {},
   "outputs": [
    {
     "data": {
      "text/html": [
       "TRUE"
      ],
      "text/latex": [
       "TRUE"
      ],
      "text/markdown": [
       "TRUE"
      ],
      "text/plain": [
       "[1] TRUE"
      ]
     },
     "metadata": {},
     "output_type": "display_data"
    }
   ],
   "source": [
    "anyNA(data)"
   ]
  },
  {
   "cell_type": "code",
   "execution_count": 19,
   "id": "06bdc837-f7ba-4f05-a54f-6dae99dda907",
   "metadata": {},
   "outputs": [],
   "source": [
    "library(mice)"
   ]
  },
  {
   "cell_type": "code",
   "execution_count": 21,
   "id": "33f1912d-c6a5-425a-9c66-bf036ad22dd3",
   "metadata": {},
   "outputs": [
    {
     "data": {
      "text/html": [
       "<table class=\"dataframe\">\n",
       "<caption>A matrix: 3 x 7 of type dbl</caption>\n",
       "<thead>\n",
       "\t<tr><th></th><th scope=col>education</th><th scope=col>income</th><th scope=col>women</th><th scope=col>prestige</th><th scope=col>census</th><th scope=col>type</th><th scope=col></th></tr>\n",
       "</thead>\n",
       "<tbody>\n",
       "\t<tr><th scope=row>98</th><td>1</td><td>1</td><td>1</td><td>1</td><td>1</td><td>1</td><td>0</td></tr>\n",
       "\t<tr><th scope=row>4</th><td>1</td><td>1</td><td>1</td><td>1</td><td>1</td><td>0</td><td>1</td></tr>\n",
       "\t<tr><th scope=row></th><td>0</td><td>0</td><td>0</td><td>0</td><td>0</td><td>4</td><td>4</td></tr>\n",
       "</tbody>\n",
       "</table>\n"
      ],
      "text/latex": [
       "A matrix: 3 x 7 of type dbl\n",
       "\\begin{tabular}{r|lllllll}\n",
       "  & education & income & women & prestige & census & type & \\\\\n",
       "\\hline\n",
       "\t98 & 1 & 1 & 1 & 1 & 1 & 1 & 0\\\\\n",
       "\t4 & 1 & 1 & 1 & 1 & 1 & 0 & 1\\\\\n",
       "\t & 0 & 0 & 0 & 0 & 0 & 4 & 4\\\\\n",
       "\\end{tabular}\n"
      ],
      "text/markdown": [
       "\n",
       "A matrix: 3 x 7 of type dbl\n",
       "\n",
       "| <!--/--> | education | income | women | prestige | census | type | <!----> |\n",
       "|---|---|---|---|---|---|---|---|\n",
       "| 98 | 1 | 1 | 1 | 1 | 1 | 1 | 0 |\n",
       "| 4 | 1 | 1 | 1 | 1 | 1 | 0 | 1 |\n",
       "| <!----> | 0 | 0 | 0 | 0 | 0 | 4 | 4 |\n",
       "\n"
      ],
      "text/plain": [
       "   education income women prestige census type  \n",
       "98 1         1      1     1        1      1    0\n",
       "4  1         1      1     1        1      0    1\n",
       "   0         0      0     0        0      4    4"
      ]
     },
     "metadata": {},
     "output_type": "display_data"
    },
    {
     "data": {
      "image/png": "[encoded data removed]",
      "text/plain": [
       "plot without title"
      ]
     },
     "metadata": {
      "image/png": {
       "height": 420,
       "width": 420
      }
     },
     "output_type": "display_data"
    }
   ],
   "source": [
    "md.pattern(data)"
   ]
  },
  {
   "cell_type": "code",
   "execution_count": 22,
   "id": "f5f84f21-58a5-4cd7-8bac-2b9d563fc2a1",
   "metadata": {},
   "outputs": [
    {
     "data": {
      "text/plain": [
       "\n",
       "  bc prof   wc \n",
       "  44   31   23 "
      ]
     },
     "metadata": {},
     "output_type": "display_data"
    }
   ],
   "source": [
    "table(data$type)"
   ]
  },
  {
   "cell_type": "code",
   "execution_count": 28,
   "id": "6880d8d2-93e4-452c-98ae-6b1dba21430d",
   "metadata": {},
   "outputs": [
    {
     "data": {
      "text/plain": [
       "\n",
       "  bc prof   wc \n",
       "  48   31   23 "
      ]
     },
     "metadata": {},
     "output_type": "display_data"
    }
   ],
   "source": [
    "data <- data |>\n",
    "    mutate(\n",
    "        type = as.character(type),\n",
    "        type = ifelse(is.na(type), \"bc\", type))\n",
    "table(data$type)"
   ]
  },
  {
   "cell_type": "code",
   "execution_count": 30,
   "id": "0acfda8f-acf7-4dd6-bbe6-231c000cd14b",
   "metadata": {},
   "outputs": [
    {
     "data": {
      "text/html": [
       "FALSE"
      ],
      "text/latex": [
       "FALSE"
      ],
      "text/markdown": [
       "FALSE"
      ],
      "text/plain": [
       "[1] FALSE"
      ]
     },
     "metadata": {},
     "output_type": "display_data"
    }
   ],
   "source": [
    "anyNA(data)"
   ]
  },
  {
   "cell_type": "markdown",
   "id": "6c7893e2-8cad-4a32-b7b6-0d09cc28a80a",
   "metadata": {},
   "source": [
    "## 3. EDA"
   ]
  },
  {
   "cell_type": "code",
   "execution_count": 32,
   "id": "1a718e4f-b434-4ea9-815b-d0d4a69ecd60",
   "metadata": {},
   "outputs": [],
   "source": [
    "library(ggplot2)"
   ]
  },
  {
   "cell_type": "code",
   "execution_count": 36,
   "id": "b028b33a-7d08-4b94-a7fd-6dcf749e1a2a",
   "metadata": {},
   "outputs": [
    {
     "data": {
      "image/png": "[encoded data removed]",
      "text/plain": [
       "plot without title"
      ]
     },
     "metadata": {
      "image/png": {
       "height": 420,
       "width": 420
      }
     },
     "output_type": "display_data"
    }
   ],
   "source": [
    "ggplot(data, aes(prestige)) +\n",
    "    geom_histogram(bins = 25, alpha = 0.5, fill=\"blue\", color=\"black\") +\n",
    "    theme_bw()"
   ]
  },
  {
   "cell_type": "code",
   "execution_count": 38,
   "id": "85f4eb68-f7fa-470c-b7d3-85519be002ff",
   "metadata": {},
   "outputs": [
    {
     "data": {
      "image/png": "[encoded data removed]",
      "text/plain": [
       "plot without title"
      ]
     },
     "metadata": {
      "image/png": {
       "height": 420,
       "width": 420
      }
     },
     "output_type": "display_data"
    }
   ],
   "source": [
    "ggplot(data, aes(income)) +\n",
    "    geom_histogram(bins = 25, alpha = 0.5, fill=\"blue\", color=\"black\") +\n",
    "    theme_bw()"
   ]
  },
  {
   "cell_type": "code",
   "execution_count": 40,
   "id": "ed97a78b-3057-4a2f-a365-232046cce56a",
   "metadata": {},
   "outputs": [
    {
     "data": {
      "image/png": "[encoded data removed]",
      "text/plain": [
       "plot without title"
      ]
     },
     "metadata": {
      "image/png": {
       "height": 420,
       "width": 420
      }
     },
     "output_type": "display_data"
    }
   ],
   "source": [
    "ggplot(data, aes(women)) +\n",
    "    geom_histogram(bins = 25, alpha = 0.5, fill=\"blue\", color=\"black\") +\n",
    "    theme_bw()"
   ]
  },
  {
   "cell_type": "markdown",
   "id": "2ba39dc6-8aed-45a6-9c71-e420adb13357",
   "metadata": {},
   "source": [
    "## 4. Data Preprocessing"
   ]
  },
  {
   "cell_type": "markdown",
   "id": "c0345400-981b-48c4-844a-5ab869e04749",
   "metadata": {},
   "source": [
    "## 5. Train/test split"
   ]
  },
  {
   "cell_type": "code",
   "execution_count": 77,
   "id": "1077469c-59a5-4d6d-81b7-c693ec34bd82",
   "metadata": {},
   "outputs": [
    {
     "data": {
      "text/html": [
       "71"
      ],
      "text/latex": [
       "71"
      ],
      "text/markdown": [
       "71"
      ],
      "text/plain": [
       "[1] 71"
      ]
     },
     "metadata": {},
     "output_type": "display_data"
    }
   ],
   "source": [
    "set.seed(2024)\n",
    "\n",
    "train_size <- round(0.7*nrow(data))\n",
    "train_index <- sample(nrow(data), size = train_size)\n",
    "length(train_index)"
   ]
  },
  {
   "cell_type": "code",
   "execution_count": 69,
   "id": "f37399db-998f-45d1-a93b-f1fcccd47756",
   "metadata": {},
   "outputs": [
    {
     "data": {
      "text/html": [
       "<style>\n",
       ".list-inline {list-style: none; margin:0; padding: 0}\n",
       ".list-inline>li {display: inline-block}\n",
       ".list-inline>li:not(:last-child)::after {content: \"\\00b7\"; padding: 0 .5ex}\n",
       "</style>\n",
       "<ol class=list-inline><li>66</li><li>37</li><li>45</li><li>60</li><li>17</li><li>32</li><li>29</li><li>11</li><li>16</li><li>96</li><li>62</li><li>14</li><li>34</li><li>26</li><li>44</li><li>50</li><li>89</li><li>97</li><li>1</li><li>75</li><li>35</li><li>81</li><li>28</li><li>48</li><li>43</li><li>58</li><li>20</li><li>55</li><li>99</li><li>4</li><li>7</li><li>52</li><li>57</li><li>67</li><li>25</li><li>90</li><li>70</li><li>49</li><li>54</li><li>86</li><li>65</li><li>3</li><li>68</li><li>84</li><li>6</li><li>76</li><li>9</li><li>15</li><li>13</li><li>94</li><li>78</li><li>69</li><li>92</li><li>88</li><li>5</li><li>53</li><li>77</li><li>61</li><li>74</li><li>33</li><li>95</li><li>19</li><li>30</li><li>87</li><li>56</li><li>100</li><li>93</li><li>102</li><li>91</li><li>47</li><li>73</li></ol>\n"
      ],
      "text/latex": [
       "\\begin{enumerate*}\n",
       "\\item 66\n",
       "\\item 37\n",
       "\\item 45\n",
       "\\item 60\n",
       "\\item 17\n",
       "\\item 32\n",
       "\\item 29\n",
       "\\item 11\n",
       "\\item 16\n",
       "\\item 96\n",
       "\\item 62\n",
       "\\item 14\n",
       "\\item 34\n",
       "\\item 26\n",
       "\\item 44\n",
       "\\item 50\n",
       "\\item 89\n",
       "\\item 97\n",
       "\\item 1\n",
       "\\item 75\n",
       "\\item 35\n",
       "\\item 81\n",
       "\\item 28\n",
       "\\item 48\n",
       "\\item 43\n",
       "\\item 58\n",
       "\\item 20\n",
       "\\item 55\n",
       "\\item 99\n",
       "\\item 4\n",
       "\\item 7\n",
       "\\item 52\n",
       "\\item 57\n",
       "\\item 67\n",
       "\\item 25\n",
       "\\item 90\n",
       "\\item 70\n",
       "\\item 49\n",
       "\\item 54\n",
       "\\item 86\n",
       "\\item 65\n",
       "\\item 3\n",
       "\\item 68\n",
       "\\item 84\n",
       "\\item 6\n",
       "\\item 76\n",
       "\\item 9\n",
       "\\item 15\n",
       "\\item 13\n",
       "\\item 94\n",
       "\\item 78\n",
       "\\item 69\n",
       "\\item 92\n",
       "\\item 88\n",
       "\\item 5\n",
       "\\item 53\n",
       "\\item 77\n",
       "\\item 61\n",
       "\\item 74\n",
       "\\item 33\n",
       "\\item 95\n",
       "\\item 19\n",
       "\\item 30\n",
       "\\item 87\n",
       "\\item 56\n",
       "\\item 100\n",
       "\\item 93\n",
       "\\item 102\n",
       "\\item 91\n",
       "\\item 47\n",
       "\\item 73\n",
       "\\end{enumerate*}\n"
      ],
      "text/markdown": [
       "1. 66\n",
       "2. 37\n",
       "3. 45\n",
       "4. 60\n",
       "5. 17\n",
       "6. 32\n",
       "7. 29\n",
       "8. 11\n",
       "9. 16\n",
       "10. 96\n",
       "11. 62\n",
       "12. 14\n",
       "13. 34\n",
       "14. 26\n",
       "15. 44\n",
       "16. 50\n",
       "17. 89\n",
       "18. 97\n",
       "19. 1\n",
       "20. 75\n",
       "21. 35\n",
       "22. 81\n",
       "23. 28\n",
       "24. 48\n",
       "25. 43\n",
       "26. 58\n",
       "27. 20\n",
       "28. 55\n",
       "29. 99\n",
       "30. 4\n",
       "31. 7\n",
       "32. 52\n",
       "33. 57\n",
       "34. 67\n",
       "35. 25\n",
       "36. 90\n",
       "37. 70\n",
       "38. 49\n",
       "39. 54\n",
       "40. 86\n",
       "41. 65\n",
       "42. 3\n",
       "43. 68\n",
       "44. 84\n",
       "45. 6\n",
       "46. 76\n",
       "47. 9\n",
       "48. 15\n",
       "49. 13\n",
       "50. 94\n",
       "51. 78\n",
       "52. 69\n",
       "53. 92\n",
       "54. 88\n",
       "55. 5\n",
       "56. 53\n",
       "57. 77\n",
       "58. 61\n",
       "59. 74\n",
       "60. 33\n",
       "61. 95\n",
       "62. 19\n",
       "63. 30\n",
       "64. 87\n",
       "65. 56\n",
       "66. 100\n",
       "67. 93\n",
       "68. 102\n",
       "69. 91\n",
       "70. 47\n",
       "71. 73\n",
       "\n",
       "\n"
      ],
      "text/plain": [
       " [1]  66  37  45  60  17  32  29  11  16  96  62  14  34  26  44  50  89  97   1\n",
       "[20]  75  35  81  28  48  43  58  20  55  99   4   7  52  57  67  25  90  70  49\n",
       "[39]  54  86  65   3  68  84   6  76   9  15  13  94  78  69  92  88   5  53  77\n",
       "[58]  61  74  33  95  19  30  87  56 100  93 102  91  47  73"
      ]
     },
     "metadata": {},
     "output_type": "display_data"
    }
   ],
   "source": [
    "train_index"
   ]
  },
  {
   "cell_type": "code",
   "execution_count": 78,
   "id": "f036c1b5-6d85-47e1-9b57-b8c85390bb2f",
   "metadata": {},
   "outputs": [],
   "source": [
    "#data <- data |> select(-census)\n",
    "train <- data[train_index,]\n",
    "test <- data[-train_index,]"
   ]
  },
  {
   "cell_type": "code",
   "execution_count": 79,
   "id": "0297a4f7-2b8c-4a35-a8b7-40930ee1bee3",
   "metadata": {},
   "outputs": [
    {
     "data": {
      "text/html": [
       "<table class=\"dataframe\">\n",
       "<caption>A data.frame: 6 x 5</caption>\n",
       "<thead>\n",
       "\t<tr><th></th><th scope=col>education</th><th scope=col>income</th><th scope=col>women</th><th scope=col>prestige</th><th scope=col>type</th></tr>\n",
       "\t<tr><th></th><th scope=col>&lt;dbl&gt;</th><th scope=col>&lt;int&gt;</th><th scope=col>&lt;dbl&gt;</th><th scope=col>&lt;dbl&gt;</th><th scope=col>&lt;chr&gt;</th></tr>\n",
       "</thead>\n",
       "<tbody>\n",
       "\t<tr><th scope=row>elevator.operators</th><td> 7.58</td><td> 3582</td><td>30.08</td><td>20.1</td><td>bc  </td></tr>\n",
       "\t<tr><th scope=row>bookkeepers</th><td>11.32</td><td> 4348</td><td>68.24</td><td>49.4</td><td>wc  </td></tr>\n",
       "\t<tr><th scope=row>telephone.operators</th><td>10.51</td><td> 3161</td><td>96.14</td><td>38.1</td><td>wc  </td></tr>\n",
       "\t<tr><th scope=row>cooks</th><td> 7.74</td><td> 3116</td><td>52.00</td><td>29.7</td><td>bc  </td></tr>\n",
       "\t<tr><th scope=row>lawyers</th><td>15.77</td><td>19263</td><td> 5.13</td><td>82.3</td><td>prof</td></tr>\n",
       "\t<tr><th scope=row>commercial.artists</th><td>11.09</td><td> 6197</td><td>21.03</td><td>57.2</td><td>prof</td></tr>\n",
       "</tbody>\n",
       "</table>\n"
      ],
      "text/latex": [
       "A data.frame: 6 x 5\n",
       "\\begin{tabular}{r|lllll}\n",
       "  & education & income & women & prestige & type\\\\\n",
       "  & <dbl> & <int> & <dbl> & <dbl> & <chr>\\\\\n",
       "\\hline\n",
       "\televator.operators &  7.58 &  3582 & 30.08 & 20.1 & bc  \\\\\n",
       "\tbookkeepers & 11.32 &  4348 & 68.24 & 49.4 & wc  \\\\\n",
       "\ttelephone.operators & 10.51 &  3161 & 96.14 & 38.1 & wc  \\\\\n",
       "\tcooks &  7.74 &  3116 & 52.00 & 29.7 & bc  \\\\\n",
       "\tlawyers & 15.77 & 19263 &  5.13 & 82.3 & prof\\\\\n",
       "\tcommercial.artists & 11.09 &  6197 & 21.03 & 57.2 & prof\\\\\n",
       "\\end{tabular}\n"
      ],
      "text/markdown": [
       "\n",
       "A data.frame: 6 x 5\n",
       "\n",
       "| <!--/--> | education &lt;dbl&gt; | income &lt;int&gt; | women &lt;dbl&gt; | prestige &lt;dbl&gt; | type &lt;chr&gt; |\n",
       "|---|---|---|---|---|---|\n",
       "| elevator.operators |  7.58 |  3582 | 30.08 | 20.1 | bc   |\n",
       "| bookkeepers | 11.32 |  4348 | 68.24 | 49.4 | wc   |\n",
       "| telephone.operators | 10.51 |  3161 | 96.14 | 38.1 | wc   |\n",
       "| cooks |  7.74 |  3116 | 52.00 | 29.7 | bc   |\n",
       "| lawyers | 15.77 | 19263 |  5.13 | 82.3 | prof |\n",
       "| commercial.artists | 11.09 |  6197 | 21.03 | 57.2 | prof |\n",
       "\n"
      ],
      "text/plain": [
       "                    education income women prestige type\n",
       "elevator.operators   7.58      3582  30.08 20.1     bc  \n",
       "bookkeepers         11.32      4348  68.24 49.4     wc  \n",
       "telephone.operators 10.51      3161  96.14 38.1     wc  \n",
       "cooks                7.74      3116  52.00 29.7     bc  \n",
       "lawyers             15.77     19263   5.13 82.3     prof\n",
       "commercial.artists  11.09      6197  21.03 57.2     prof"
      ]
     },
     "metadata": {},
     "output_type": "display_data"
    }
   ],
   "source": [
    "head(train)"
   ]
  },
  {
   "cell_type": "markdown",
   "id": "25837111-434f-44d4-855f-1b16cfd2b2ad",
   "metadata": {},
   "source": [
    "## 6. Model building"
   ]
  },
  {
   "cell_type": "markdown",
   "id": "63df0236-f1de-44dd-9241-f1e587ebbbee",
   "metadata": {},
   "source": [
    "$prestige = a_0 + a_1*income$"
   ]
  },
  {
   "cell_type": "code",
   "execution_count": 80,
   "id": "8850d267-6dc8-4b12-b10e-ba582757dbcf",
   "metadata": {},
   "outputs": [
    {
     "data": {
      "text/plain": [
       "\n",
       "Call:\n",
       "lm(formula = prestige ~ income, data = train)\n",
       "\n",
       "Residuals:\n",
       "    Min      1Q  Median      3Q     Max \n",
       "-17.877  -8.028  -2.094   6.279  33.998 \n",
       "\n",
       "Coefficients:\n",
       "             Estimate Std. Error t value Pr(>|t|)    \n",
       "(Intercept) 2.144e+01  2.876e+00   7.453 1.99e-10 ***\n",
       "income      3.706e-03  3.846e-04   9.636 2.10e-14 ***\n",
       "---\n",
       "Signif. codes:  0 '***' 0.001 '**' 0.01 '*' 0.05 '.' 0.1 ' ' 1\n",
       "\n",
       "Residual standard error: 11.15 on 69 degrees of freedom\n",
       "Multiple R-squared:  0.5737,\tAdjusted R-squared:  0.5675 \n",
       "F-statistic: 92.85 on 1 and 69 DF,  p-value: 2.103e-14\n"
      ]
     },
     "metadata": {},
     "output_type": "display_data"
    }
   ],
   "source": [
    "model1 <- lm(prestige ~ income, data = train)\n",
    "summary(model1)"
   ]
  },
  {
   "cell_type": "code",
   "execution_count": 81,
   "id": "bd3210a4-f0f6-483b-98c2-11af85d3088d",
   "metadata": {},
   "outputs": [],
   "source": [
    "library(broom)"
   ]
  },
  {
   "cell_type": "code",
   "execution_count": 82,
   "id": "ed386321-68a3-4f95-af53-9379b3d21c54",
   "metadata": {},
   "outputs": [
    {
     "data": {
      "text/html": [
       "<table class=\"dataframe\">\n",
       "<caption>A tibble: 2 x 5</caption>\n",
       "<thead>\n",
       "\t<tr><th scope=col>term</th><th scope=col>estimate</th><th scope=col>std.error</th><th scope=col>statistic</th><th scope=col>p.value</th></tr>\n",
       "\t<tr><th scope=col>&lt;chr&gt;</th><th scope=col>&lt;dbl&gt;</th><th scope=col>&lt;dbl&gt;</th><th scope=col>&lt;dbl&gt;</th><th scope=col>&lt;dbl&gt;</th></tr>\n",
       "</thead>\n",
       "<tbody>\n",
       "\t<tr><td>(Intercept)</td><td>21.437327015</td><td>2.8762371409</td><td>7.453254</td><td>1.994272e-10</td></tr>\n",
       "\t<tr><td>income     </td><td> 0.003705569</td><td>0.0003845563</td><td>9.635960</td><td>2.103369e-14</td></tr>\n",
       "</tbody>\n",
       "</table>\n"
      ],
      "text/latex": [
       "A tibble: 2 x 5\n",
       "\\begin{tabular}{lllll}\n",
       " term & estimate & std.error & statistic & p.value\\\\\n",
       " <chr> & <dbl> & <dbl> & <dbl> & <dbl>\\\\\n",
       "\\hline\n",
       "\t (Intercept) & 21.437327015 & 2.8762371409 & 7.453254 & 1.994272e-10\\\\\n",
       "\t income      &  0.003705569 & 0.0003845563 & 9.635960 & 2.103369e-14\\\\\n",
       "\\end{tabular}\n"
      ],
      "text/markdown": [
       "\n",
       "A tibble: 2 x 5\n",
       "\n",
       "| term &lt;chr&gt; | estimate &lt;dbl&gt; | std.error &lt;dbl&gt; | statistic &lt;dbl&gt; | p.value &lt;dbl&gt; |\n",
       "|---|---|---|---|---|\n",
       "| (Intercept) | 21.437327015 | 2.8762371409 | 7.453254 | 1.994272e-10 |\n",
       "| income      |  0.003705569 | 0.0003845563 | 9.635960 | 2.103369e-14 |\n",
       "\n"
      ],
      "text/plain": [
       "  term        estimate     std.error    statistic p.value     \n",
       "1 (Intercept) 21.437327015 2.8762371409 7.453254  1.994272e-10\n",
       "2 income       0.003705569 0.0003845563 9.635960  2.103369e-14"
      ]
     },
     "metadata": {},
     "output_type": "display_data"
    }
   ],
   "source": [
    "tidy(model1)"
   ]
  },
  {
   "cell_type": "markdown",
   "id": "468461c2-0152-43d2-b38d-4d986591abb2",
   "metadata": {},
   "source": [
    "$prestige = 27.7175 + 0.0027*income$"
   ]
  },
  {
   "cell_type": "code",
   "execution_count": 83,
   "id": "1742757f-3e29-4903-bffb-e7eea914e9c6",
   "metadata": {},
   "outputs": [
    {
     "data": {
      "text/plain": [
       "\n",
       "Call:\n",
       "lm(formula = prestige ~ income + education, data = train)\n",
       "\n",
       "Residuals:\n",
       "     Min       1Q   Median       3Q      Max \n",
       "-17.7525  -4.5878   0.4582   4.7086  17.3600 \n",
       "\n",
       "Coefficients:\n",
       "              Estimate Std. Error t value Pr(>|t|)    \n",
       "(Intercept) -5.6264724  3.7225239  -1.511    0.135    \n",
       "income       0.0017458  0.0003512   4.972 4.76e-06 ***\n",
       "education    3.8021103  0.4408681   8.624 1.61e-12 ***\n",
       "---\n",
       "Signif. codes:  0 '***' 0.001 '**' 0.01 '*' 0.05 '.' 0.1 ' ' 1\n",
       "\n",
       "Residual standard error: 7.762 on 68 degrees of freedom\n",
       "Multiple R-squared:  0.7964,\tAdjusted R-squared:  0.7904 \n",
       "F-statistic:   133 on 2 and 68 DF,  p-value: < 2.2e-16\n"
      ]
     },
     "metadata": {},
     "output_type": "display_data"
    }
   ],
   "source": [
    "model2 <- lm(prestige ~ income + education, data = train)\n",
    "summary(model2)"
   ]
  },
  {
   "cell_type": "code",
   "execution_count": 85,
   "id": "20491e88-c0e2-4a87-bc07-813ed69eb11b",
   "metadata": {},
   "outputs": [
    {
     "data": {
      "text/plain": [
       "\n",
       "Call:\n",
       "lm(formula = prestige ~ income + log(education), data = train)\n",
       "\n",
       "Residuals:\n",
       "     Min       1Q   Median       3Q      Max \n",
       "-18.0756  -5.3409   0.2461   4.6585  18.9241 \n",
       "\n",
       "Coefficients:\n",
       "                 Estimate Std. Error t value Pr(>|t|)    \n",
       "(Intercept)    -5.470e+01  9.643e+00  -5.673 3.14e-07 ***\n",
       "income          1.919e-03  3.541e-04   5.419 8.53e-07 ***\n",
       "log(education)  3.791e+01  4.689e+00   8.084 1.54e-11 ***\n",
       "---\n",
       "Signif. codes:  0 '***' 0.001 '**' 0.01 '*' 0.05 '.' 0.1 ' ' 1\n",
       "\n",
       "Residual standard error: 8.021 on 68 degrees of freedom\n",
       "Multiple R-squared:  0.7826,\tAdjusted R-squared:  0.7762 \n",
       "F-statistic: 122.4 on 2 and 68 DF,  p-value: < 2.2e-16\n"
      ]
     },
     "metadata": {},
     "output_type": "display_data"
    }
   ],
   "source": [
    "model3 <- lm(prestige ~ income + log(education), data = train)\n",
    "summary(model3)"
   ]
  },
  {
   "cell_type": "code",
   "execution_count": 97,
   "id": "d545a868-8dcc-438a-b51d-e40f73754e8b",
   "metadata": {},
   "outputs": [
    {
     "data": {
      "text/plain": [
       "\n",
       "Call:\n",
       "lm(formula = prestige ~ log(income) + log(education), data = train)\n",
       "\n",
       "Residuals:\n",
       "    Min      1Q  Median      3Q     Max \n",
       "-15.633  -5.746   0.257   4.155  19.322 \n",
       "\n",
       "Coefficients:\n",
       "               Estimate Std. Error t value Pr(>|t|)    \n",
       "(Intercept)    -160.578     13.909 -11.545  < 2e-16 ***\n",
       "log(income)      13.915      1.963   7.089 9.82e-10 ***\n",
       "log(education)   37.051      4.076   9.091 2.31e-13 ***\n",
       "---\n",
       "Signif. codes:  0 '***' 0.001 '**' 0.01 '*' 0.05 '.' 0.1 ' ' 1\n",
       "\n",
       "Residual standard error: 7.278 on 68 degrees of freedom\n",
       "Multiple R-squared:  0.821,\tAdjusted R-squared:  0.8157 \n",
       "F-statistic: 155.9 on 2 and 68 DF,  p-value: < 2.2e-16\n"
      ]
     },
     "metadata": {},
     "output_type": "display_data"
    }
   ],
   "source": [
    "model3 <- lm(prestige ~ log(income) + log(education), data = train)\n",
    "summary(model3)"
   ]
  },
  {
   "cell_type": "code",
   "execution_count": 91,
   "id": "93c91508-ec8f-43d6-a9c5-df6ab7ba04b6",
   "metadata": {},
   "outputs": [
    {
     "data": {
      "text/plain": [
       "\n",
       "Call:\n",
       "lm(formula = prestige ~ log(income) + education, data = train)\n",
       "\n",
       "Residuals:\n",
       "     Min       1Q   Median       3Q      Max \n",
       "-14.6057  -4.8349   0.2008   4.3059  17.8286 \n",
       "\n",
       "Coefficients:\n",
       "             Estimate Std. Error t value Pr(>|t|)    \n",
       "(Intercept) -106.6386    14.4776  -7.366 3.10e-10 ***\n",
       "log(income)   13.1314     1.8964   6.925 1.94e-09 ***\n",
       "education      3.6879     0.3733   9.880 8.92e-15 ***\n",
       "---\n",
       "Signif. codes:  0 '***' 0.001 '**' 0.01 '*' 0.05 '.' 0.1 ' ' 1\n",
       "\n",
       "Residual standard error: 6.941 on 68 degrees of freedom\n",
       "Multiple R-squared:  0.8372,\tAdjusted R-squared:  0.8324 \n",
       "F-statistic: 174.8 on 2 and 68 DF,  p-value: < 2.2e-16\n"
      ]
     },
     "metadata": {},
     "output_type": "display_data"
    }
   ],
   "source": [
    "model4 <- lm(prestige ~ log(income) + education, data = train)\n",
    "summary(model4)"
   ]
  },
  {
   "cell_type": "code",
   "execution_count": 93,
   "id": "77670845-075b-4a10-8fa7-f6800cc070a6",
   "metadata": {},
   "outputs": [],
   "source": [
    "library(modelr)"
   ]
  },
  {
   "cell_type": "code",
   "execution_count": 101,
   "id": "4f630507-9dfe-411f-8905-8a2e5942cc5a",
   "metadata": {},
   "outputs": [
    {
     "data": {
      "text/html": [
       "<table class=\"dataframe\">\n",
       "<caption>A data.frame: 1 x 3</caption>\n",
       "<thead>\n",
       "\t<tr><th scope=col>Name</th><th scope=col>R2_TR</th><th scope=col>R2_TE</th></tr>\n",
       "\t<tr><th scope=col>&lt;chr&gt;</th><th scope=col>&lt;dbl&gt;</th><th scope=col>&lt;dbl&gt;</th></tr>\n",
       "</thead>\n",
       "<tbody>\n",
       "\t<tr><td>Income</td><td>0.5736839</td><td>0.2501919</td></tr>\n",
       "</tbody>\n",
       "</table>\n"
      ],
      "text/latex": [
       "A data.frame: 1 x 3\n",
       "\\begin{tabular}{lll}\n",
       " Name & R2\\_TR & R2\\_TE\\\\\n",
       " <chr> & <dbl> & <dbl>\\\\\n",
       "\\hline\n",
       "\t Income & 0.5736839 & 0.2501919\\\\\n",
       "\\end{tabular}\n"
      ],
      "text/markdown": [
       "\n",
       "A data.frame: 1 x 3\n",
       "\n",
       "| Name &lt;chr&gt; | R2_TR &lt;dbl&gt; | R2_TE &lt;dbl&gt; |\n",
       "|---|---|---|\n",
       "| Income | 0.5736839 | 0.2501919 |\n",
       "\n"
      ],
      "text/plain": [
       "  Name   R2_TR     R2_TE    \n",
       "1 Income 0.5736839 0.2501919"
      ]
     },
     "metadata": {},
     "output_type": "display_data"
    }
   ],
   "source": [
    "rdf <- data.frame(Name = \"Income\",\n",
    "                 R2_TR = rsquare(model1, train),\n",
    "                 R2_TE = rsquare(model1, test))\n",
    "rdf"
   ]
  },
  {
   "cell_type": "code",
   "execution_count": 102,
   "id": "aab04309-f2b6-4f9a-ae8f-465b83de80b4",
   "metadata": {},
   "outputs": [
    {
     "data": {
      "text/html": [
       "<table class=\"dataframe\">\n",
       "<caption>A data.frame: 4 x 3</caption>\n",
       "<thead>\n",
       "\t<tr><th scope=col>Name</th><th scope=col>R2_TR</th><th scope=col>R2_TE</th></tr>\n",
       "\t<tr><th scope=col>&lt;chr&gt;</th><th scope=col>&lt;dbl&gt;</th><th scope=col>&lt;dbl&gt;</th></tr>\n",
       "</thead>\n",
       "<tbody>\n",
       "\t<tr><td>Income                </td><td>0.5736839</td><td>0.2501919</td></tr>\n",
       "\t<tr><td>Income + Education    </td><td>0.7963876</td><td>0.7810138</td></tr>\n",
       "\t<tr><td>Income + L_Education  </td><td>0.8210033</td><td>0.7886101</td></tr>\n",
       "\t<tr><td>L_Income + L_Education</td><td>0.8371824</td><td>0.8075536</td></tr>\n",
       "</tbody>\n",
       "</table>\n"
      ],
      "text/latex": [
       "A data.frame: 4 x 3\n",
       "\\begin{tabular}{lll}\n",
       " Name & R2\\_TR & R2\\_TE\\\\\n",
       " <chr> & <dbl> & <dbl>\\\\\n",
       "\\hline\n",
       "\t Income                 & 0.5736839 & 0.2501919\\\\\n",
       "\t Income + Education     & 0.7963876 & 0.7810138\\\\\n",
       "\t Income + L\\_Education   & 0.8210033 & 0.7886101\\\\\n",
       "\t L\\_Income + L\\_Education & 0.8371824 & 0.8075536\\\\\n",
       "\\end{tabular}\n"
      ],
      "text/markdown": [
       "\n",
       "A data.frame: 4 x 3\n",
       "\n",
       "| Name &lt;chr&gt; | R2_TR &lt;dbl&gt; | R2_TE &lt;dbl&gt; |\n",
       "|---|---|---|\n",
       "| Income                 | 0.5736839 | 0.2501919 |\n",
       "| Income + Education     | 0.7963876 | 0.7810138 |\n",
       "| Income + L_Education   | 0.8210033 | 0.7886101 |\n",
       "| L_Income + L_Education | 0.8371824 | 0.8075536 |\n",
       "\n"
      ],
      "text/plain": [
       "  Name                   R2_TR     R2_TE    \n",
       "1 Income                 0.5736839 0.2501919\n",
       "2 Income + Education     0.7963876 0.7810138\n",
       "3 Income + L_Education   0.8210033 0.7886101\n",
       "4 L_Income + L_Education 0.8371824 0.8075536"
      ]
     },
     "metadata": {},
     "output_type": "display_data"
    }
   ],
   "source": [
    "rdf <- rdf |> bind_rows(data.frame(Name = \"Income + Education\",\n",
    "                 R2_TR = rsquare(model2, train),\n",
    "                 R2_TE = rsquare(model2, test))) |>\n",
    "bind_rows(data.frame(Name = \"Income + L_Education\",\n",
    "                 R2_TR = rsquare(model3, train),\n",
    "                 R2_TE = rsquare(model3, test))) |>\n",
    "bind_rows(data.frame(Name = \"L_Income + L_Education\",\n",
    "                 R2_TR = rsquare(model4, train),\n",
    "                 R2_TE = rsquare(model4, test)))\n",
    "rdf"
   ]
  },
  {
   "cell_type": "code",
   "execution_count": 106,
   "id": "f63e1534-4de7-4dbd-8387-428d322734a7",
   "metadata": {},
   "outputs": [],
   "source": [
    "# install.packages(\"car\")"
   ]
  },
  {
   "cell_type": "code",
   "execution_count": 109,
   "id": "ebdf15e8-4845-43d5-a9c8-98911743cf22",
   "metadata": {},
   "outputs": [],
   "source": [
    "library(car)"
   ]
  },
  {
   "cell_type": "code",
   "execution_count": 112,
   "id": "b2d1dd7a-3a3e-40b9-b084-f6f2f1fd5826",
   "metadata": {},
   "outputs": [
    {
     "data": {
      "text/html": [
       "<style>\n",
       ".dl-inline {width: auto; margin:0; padding: 0}\n",
       ".dl-inline>dt, .dl-inline>dd {float: none; width: auto; display: inline-block}\n",
       ".dl-inline>dt::after {content: \":\\0020\"; padding-right: .5ex}\n",
       ".dl-inline>dt:not(:first-of-type) {padding-left: .5ex}\n",
       "</style><dl class=dl-inline><dt>income</dt><dd>1.72050342610155</dd><dt>education</dt><dd>1.72050342610155</dd></dl>\n"
      ],
      "text/latex": [
       "\\begin{description*}\n",
       "\\item[income] 1.72050342610155\n",
       "\\item[education] 1.72050342610155\n",
       "\\end{description*}\n"
      ],
      "text/markdown": [
       "income\n",
       ":   1.72050342610155education\n",
       ":   1.72050342610155\n",
       "\n"
      ],
      "text/plain": [
       "   income education \n",
       " 1.720503  1.720503 "
      ]
     },
     "metadata": {},
     "output_type": "display_data"
    }
   ],
   "source": [
    "vif(model2)"
   ]
  },
  {
   "cell_type": "code",
   "execution_count": 114,
   "id": "f1773c24-5461-45d3-b2f2-14e57ed940f8",
   "metadata": {},
   "outputs": [
    {
     "data": {
      "text/html": [
       "<style>\n",
       ".dl-inline {width: auto; margin:0; padding: 0}\n",
       ".dl-inline>dt, .dl-inline>dd {float: none; width: auto; display: inline-block}\n",
       ".dl-inline>dt::after {content: \":\\0020\"; padding-right: .5ex}\n",
       ".dl-inline>dt:not(:first-of-type) {padding-left: .5ex}\n",
       "</style><dl class=dl-inline><dt>log(income)</dt><dd>1.50329911213794</dd><dt>log(education)</dt><dd>1.50329911213794</dd></dl>\n"
      ],
      "text/latex": [
       "\\begin{description*}\n",
       "\\item[log(income)] 1.50329911213794\n",
       "\\item[log(education)] 1.50329911213794\n",
       "\\end{description*}\n"
      ],
      "text/markdown": [
       "log(income)\n",
       ":   1.50329911213794log(education)\n",
       ":   1.50329911213794\n",
       "\n"
      ],
      "text/plain": [
       "   log(income) log(education) \n",
       "      1.503299       1.503299 "
      ]
     },
     "metadata": {},
     "output_type": "display_data"
    }
   ],
   "source": [
    "vif(model3)"
   ]
  },
  {
   "cell_type": "code",
   "execution_count": 116,
   "id": "f2be006e-d240-4497-9187-13643a8acde8",
   "metadata": {},
   "outputs": [
    {
     "data": {
      "text/html": [
       "<style>\n",
       ".dl-inline {width: auto; margin:0; padding: 0}\n",
       ".dl-inline>dt, .dl-inline>dd {float: none; width: auto; display: inline-block}\n",
       ".dl-inline>dt::after {content: \":\\0020\"; padding-right: .5ex}\n",
       ".dl-inline>dt:not(:first-of-type) {padding-left: .5ex}\n",
       "</style><dl class=dl-inline><dt>log(income)</dt><dd>1.5422965465419</dd><dt>education</dt><dd>1.5422965465419</dd></dl>\n"
      ],
      "text/latex": [
       "\\begin{description*}\n",
       "\\item[log(income)] 1.5422965465419\n",
       "\\item[education] 1.5422965465419\n",
       "\\end{description*}\n"
      ],
      "text/markdown": [
       "log(income)\n",
       ":   1.5422965465419education\n",
       ":   1.5422965465419\n",
       "\n"
      ],
      "text/plain": [
       "log(income)   education \n",
       "   1.542297    1.542297 "
      ]
     },
     "metadata": {},
     "output_type": "display_data"
    }
   ],
   "source": [
    "vif(model4)"
   ]
  },
  {
   "cell_type": "code",
   "execution_count": 124,
   "id": "a28aa1c5-02cd-4332-941c-9fcc3d645c00",
   "metadata": {},
   "outputs": [
    {
     "data": {
      "text/plain": [
       "\n",
       "Call:\n",
       "lm(formula = prestige ~ log(income) + education + sqrt(income) + \n",
       "    education * income, data = train)\n",
       "\n",
       "Residuals:\n",
       "     Min       1Q   Median       3Q      Max \n",
       "-15.4779  -4.9309   0.3404   4.4836  18.5550 \n",
       "\n",
       "Coefficients:\n",
       "                   Estimate Std. Error t value Pr(>|t|)    \n",
       "(Intercept)      -2.186e+02  1.678e+02  -1.303  0.19727    \n",
       "log(income)       3.164e+01  3.016e+01   1.049  0.29807    \n",
       "education         4.581e+00  1.178e+00   3.889  0.00024 ***\n",
       "sqrt(income)     -9.805e-01  1.819e+00  -0.539  0.59180    \n",
       "income            4.199e-03  7.927e-03   0.530  0.59811    \n",
       "education:income -1.096e-04  1.664e-04  -0.659  0.51234    \n",
       "---\n",
       "Signif. codes:  0 '***' 0.001 '**' 0.01 '*' 0.05 '.' 0.1 ' ' 1\n",
       "\n",
       "Residual standard error: 7.001 on 65 degrees of freedom\n",
       "Multiple R-squared:  0.8417,\tAdjusted R-squared:  0.8295 \n",
       "F-statistic: 69.12 on 5 and 65 DF,  p-value: < 2.2e-16\n"
      ]
     },
     "metadata": {},
     "output_type": "display_data"
    },
    {
     "name": "stderr",
     "output_type": "stream",
     "text": [
      "there are higher-order terms (interactions) in this model\n",
      "consider setting type = 'predictor'; see ?vif\n",
      "\n"
     ]
    },
    {
     "data": {
      "text/html": [
       "<style>\n",
       ".dl-inline {width: auto; margin:0; padding: 0}\n",
       ".dl-inline>dt, .dl-inline>dd {float: none; width: auto; display: inline-block}\n",
       ".dl-inline>dt::after {content: \":\\0020\"; padding-right: .5ex}\n",
       ".dl-inline>dt:not(:first-of-type) {padding-left: .5ex}\n",
       "</style><dl class=dl-inline><dt>log(income)</dt><dd>383.602618740235</dd><dt>education</dt><dd>15.1023315427827</dd><dt>sqrt(income)</dt><dd>1987.65220823975</dd><dt>income</dt><dd>1077.99193309021</dd><dt>education:income</dt><dd>130.941427525609</dd></dl>\n"
      ],
      "text/latex": [
       "\\begin{description*}\n",
       "\\item[log(income)] 383.602618740235\n",
       "\\item[education] 15.1023315427827\n",
       "\\item[sqrt(income)] 1987.65220823975\n",
       "\\item[income] 1077.99193309021\n",
       "\\item[education:income] 130.941427525609\n",
       "\\end{description*}\n"
      ],
      "text/markdown": [
       "log(income)\n",
       ":   383.602618740235education\n",
       ":   15.1023315427827sqrt(income)\n",
       ":   1987.65220823975income\n",
       ":   1077.99193309021education:income\n",
       ":   130.941427525609\n",
       "\n"
      ],
      "text/plain": [
       "     log(income)        education     sqrt(income)           income \n",
       "       383.60262         15.10233       1987.65221       1077.99193 \n",
       "education:income \n",
       "       130.94143 "
      ]
     },
     "metadata": {},
     "output_type": "display_data"
    }
   ],
   "source": [
    "model5 <- lm(prestige ~ log(income) + education + sqrt(income) + education*income, data = train)\n",
    "summary(model5)\n",
    "vif(model5)"
   ]
  },
  {
   "cell_type": "code",
   "execution_count": 120,
   "id": "50d186ab-6424-4cb5-823e-d9ada604973a",
   "metadata": {},
   "outputs": [
    {
     "data": {
      "text/html": [
       "0.783955959586366"
      ],
      "text/latex": [
       "0.783955959586366"
      ],
      "text/markdown": [
       "0.783955959586366"
      ],
      "text/plain": [
       "[1] 0.783956"
      ]
     },
     "metadata": {},
     "output_type": "display_data"
    }
   ],
   "source": [
    "rsquare(model5, test)"
   ]
  },
  {
   "cell_type": "code",
   "execution_count": 122,
   "id": "af70e6db-c544-4185-b798-1b00242c0226",
   "metadata": {},
   "outputs": [
    {
     "name": "stderr",
     "output_type": "stream",
     "text": [
      "there are higher-order terms (interactions) in this model\n",
      "consider setting type = 'predictor'; see ?vif\n",
      "\n"
     ]
    },
    {
     "data": {
      "text/html": [
       "<style>\n",
       ".dl-inline {width: auto; margin:0; padding: 0}\n",
       ".dl-inline>dt, .dl-inline>dd {float: none; width: auto; display: inline-block}\n",
       ".dl-inline>dt::after {content: \":\\0020\"; padding-right: .5ex}\n",
       ".dl-inline>dt:not(:first-of-type) {padding-left: .5ex}\n",
       "</style><dl class=dl-inline><dt>log(income)</dt><dd>14.2964552211457</dd><dt>education</dt><dd>8.68745417175416</dd><dt>income</dt><dd>93.5616380768087</dd><dt>education:income</dt><dd>77.9124591913377</dd></dl>\n"
      ],
      "text/latex": [
       "\\begin{description*}\n",
       "\\item[log(income)] 14.2964552211457\n",
       "\\item[education] 8.68745417175416\n",
       "\\item[income] 93.5616380768087\n",
       "\\item[education:income] 77.9124591913377\n",
       "\\end{description*}\n"
      ],
      "text/markdown": [
       "log(income)\n",
       ":   14.2964552211457education\n",
       ":   8.68745417175416income\n",
       ":   93.5616380768087education:income\n",
       ":   77.9124591913377\n",
       "\n"
      ],
      "text/plain": [
       "     log(income)        education           income education:income \n",
       "       14.296455         8.687454        93.561638        77.912459 "
      ]
     },
     "metadata": {},
     "output_type": "display_data"
    }
   ],
   "source": [
    "vif(model5)"
   ]
  },
  {
   "cell_type": "code",
   "execution_count": 126,
   "id": "ef7193d3-039c-48d9-8b9c-c80bfcef842e",
   "metadata": {},
   "outputs": [
    {
     "data": {
      "text/plain": [
       "\n",
       "Call:\n",
       "lm(formula = prestige ~ log(income) + education + sqrt(income), \n",
       "    data = train)\n",
       "\n",
       "Residuals:\n",
       "     Min       1Q   Median       3Q      Max \n",
       "-15.3615  -4.6652   0.5413   4.3811  17.8757 \n",
       "\n",
       "Coefficients:\n",
       "              Estimate Std. Error t value Pr(>|t|)    \n",
       "(Intercept)  -165.0028    50.5326  -3.265  0.00172 ** \n",
       "log(income)    21.9640     7.5688   2.902  0.00502 ** \n",
       "education       3.8539     0.3967   9.715 2.04e-14 ***\n",
       "sqrt(income)   -0.2527     0.2097  -1.205  0.23238    \n",
       "---\n",
       "Signif. codes:  0 '***' 0.001 '**' 0.01 '*' 0.05 '.' 0.1 ' ' 1\n",
       "\n",
       "Residual standard error: 6.918 on 67 degrees of freedom\n",
       "Multiple R-squared:  0.8406,\tAdjusted R-squared:  0.8335 \n",
       "F-statistic: 117.8 on 3 and 67 DF,  p-value: < 2.2e-16\n"
      ]
     },
     "metadata": {},
     "output_type": "display_data"
    },
    {
     "data": {
      "text/html": [
       "<style>\n",
       ".dl-inline {width: auto; margin:0; padding: 0}\n",
       ".dl-inline>dt, .dl-inline>dd {float: none; width: auto; display: inline-block}\n",
       ".dl-inline>dt::after {content: \":\\0020\"; padding-right: .5ex}\n",
       ".dl-inline>dt:not(:first-of-type) {padding-left: .5ex}\n",
       "</style><dl class=dl-inline><dt>log(income)</dt><dd>24.7320804206755</dd><dt>education</dt><dd>1.7536214170251</dd><dt>sqrt(income)</dt><dd>27.0264642967438</dd></dl>\n"
      ],
      "text/latex": [
       "\\begin{description*}\n",
       "\\item[log(income)] 24.7320804206755\n",
       "\\item[education] 1.7536214170251\n",
       "\\item[sqrt(income)] 27.0264642967438\n",
       "\\end{description*}\n"
      ],
      "text/markdown": [
       "log(income)\n",
       ":   24.7320804206755education\n",
       ":   1.7536214170251sqrt(income)\n",
       ":   27.0264642967438\n",
       "\n"
      ],
      "text/plain": [
       " log(income)    education sqrt(income) \n",
       "   24.732080     1.753621    27.026464 "
      ]
     },
     "metadata": {},
     "output_type": "display_data"
    }
   ],
   "source": [
    "model5 <- lm(prestige ~ log(income) + education + sqrt(income), data = train)\n",
    "summary(model5)\n",
    "vif(model5)"
   ]
  },
  {
   "cell_type": "code",
   "execution_count": 128,
   "id": "5109ddf0-c924-4b28-be21-054b6c2e0163",
   "metadata": {},
   "outputs": [
    {
     "data": {
      "text/plain": [
       "\n",
       "Call:\n",
       "lm(formula = prestige ~ education + sqrt(income), data = train)\n",
       "\n",
       "Residuals:\n",
       "     Min       1Q   Median       3Q      Max \n",
       "-13.6390  -4.6028   0.3958   4.6840  17.7187 \n",
       "\n",
       "Coefficients:\n",
       "              Estimate Std. Error t value Pr(>|t|)    \n",
       "(Intercept)  -18.73390    3.78942  -4.944 5.29e-06 ***\n",
       "education      3.62676    0.40957   8.855 6.17e-13 ***\n",
       "sqrt(income)   0.33646    0.05514   6.102 5.63e-08 ***\n",
       "---\n",
       "Signif. codes:  0 '***' 0.001 '**' 0.01 '*' 0.05 '.' 0.1 ' ' 1\n",
       "\n",
       "Residual standard error: 7.286 on 68 degrees of freedom\n",
       "Multiple R-squared:  0.8206,\tAdjusted R-squared:  0.8153 \n",
       "F-statistic: 155.5 on 2 and 68 DF,  p-value: < 2.2e-16\n"
      ]
     },
     "metadata": {},
     "output_type": "display_data"
    },
    {
     "data": {
      "text/html": [
       "<style>\n",
       ".dl-inline {width: auto; margin:0; padding: 0}\n",
       ".dl-inline>dt, .dl-inline>dd {float: none; width: auto; display: inline-block}\n",
       ".dl-inline>dt::after {content: \":\\0020\"; padding-right: .5ex}\n",
       ".dl-inline>dt:not(:first-of-type) {padding-left: .5ex}\n",
       "</style><dl class=dl-inline><dt>education</dt><dd>1.68537469719935</dd><dt>sqrt(income)</dt><dd>1.68537469719935</dd></dl>\n"
      ],
      "text/latex": [
       "\\begin{description*}\n",
       "\\item[education] 1.68537469719935\n",
       "\\item[sqrt(income)] 1.68537469719935\n",
       "\\end{description*}\n"
      ],
      "text/markdown": [
       "education\n",
       ":   1.68537469719935sqrt(income)\n",
       ":   1.68537469719935\n",
       "\n"
      ],
      "text/plain": [
       "   education sqrt(income) \n",
       "    1.685375     1.685375 "
      ]
     },
     "metadata": {},
     "output_type": "display_data"
    }
   ],
   "source": [
    "model5 <- lm(prestige ~ education + sqrt(income), data = train)\n",
    "summary(model5)\n",
    "vif(model5)"
   ]
  },
  {
   "cell_type": "code",
   "execution_count": 130,
   "id": "81f09d8e-63a9-409a-be8b-2a58a7bb9118",
   "metadata": {},
   "outputs": [
    {
     "data": {
      "text/plain": [
       "\n",
       "Call:\n",
       "lm(formula = prestige ~ log(income) + education + type, data = train)\n",
       "\n",
       "Residuals:\n",
       "     Min       1Q   Median       3Q      Max \n",
       "-13.0985  -3.6555   0.7718   4.4442  15.7991 \n",
       "\n",
       "Coefficients:\n",
       "            Estimate Std. Error t value Pr(>|t|)    \n",
       "(Intercept) -90.2087    14.8241  -6.085 6.59e-08 ***\n",
       "log(income)  12.4132     1.8337   6.770 4.15e-09 ***\n",
       "education     2.4436     0.6775   3.607 0.000597 ***\n",
       "typeprof      9.6341     4.0854   2.358 0.021337 *  \n",
       "typewc        0.3103     2.6660   0.116 0.907688    \n",
       "---\n",
       "Signif. codes:  0 '***' 0.001 '**' 0.01 '*' 0.05 '.' 0.1 ' ' 1\n",
       "\n",
       "Residual standard error: 6.6 on 66 degrees of freedom\n",
       "Multiple R-squared:  0.8571,\tAdjusted R-squared:  0.8485 \n",
       "F-statistic: 98.98 on 4 and 66 DF,  p-value: < 2.2e-16\n"
      ]
     },
     "metadata": {},
     "output_type": "display_data"
    }
   ],
   "source": [
    "model5 <- lm(prestige ~ log(income) + education + type, data = train)\n",
    "summary(model5)"
   ]
  },
  {
   "cell_type": "code",
   "execution_count": 131,
   "id": "920ae65a-2309-41d4-b7d5-c511af9c1ebc",
   "metadata": {},
   "outputs": [
    {
     "data": {
      "text/html": [
       "<table class=\"dataframe\">\n",
       "<caption>A data.frame: 5 x 3</caption>\n",
       "<thead>\n",
       "\t<tr><th scope=col>Name</th><th scope=col>R2_TR</th><th scope=col>R2_TE</th></tr>\n",
       "\t<tr><th scope=col>&lt;chr&gt;</th><th scope=col>&lt;dbl&gt;</th><th scope=col>&lt;dbl&gt;</th></tr>\n",
       "</thead>\n",
       "<tbody>\n",
       "\t<tr><td>Income                       </td><td>0.5736839</td><td>0.2501919</td></tr>\n",
       "\t<tr><td>Income + Education           </td><td>0.7963876</td><td>0.7810138</td></tr>\n",
       "\t<tr><td>Income + L_Education         </td><td>0.8210033</td><td>0.7886101</td></tr>\n",
       "\t<tr><td>L_Income + L_Education       </td><td>0.8371824</td><td>0.8075536</td></tr>\n",
       "\t<tr><td>L_Income + L_Education + Type</td><td>0.8571179</td><td>0.8167272</td></tr>\n",
       "</tbody>\n",
       "</table>\n"
      ],
      "text/latex": [
       "A data.frame: 5 x 3\n",
       "\\begin{tabular}{lll}\n",
       " Name & R2\\_TR & R2\\_TE\\\\\n",
       " <chr> & <dbl> & <dbl>\\\\\n",
       "\\hline\n",
       "\t Income                        & 0.5736839 & 0.2501919\\\\\n",
       "\t Income + Education            & 0.7963876 & 0.7810138\\\\\n",
       "\t Income + L\\_Education          & 0.8210033 & 0.7886101\\\\\n",
       "\t L\\_Income + L\\_Education        & 0.8371824 & 0.8075536\\\\\n",
       "\t L\\_Income + L\\_Education + Type & 0.8571179 & 0.8167272\\\\\n",
       "\\end{tabular}\n"
      ],
      "text/markdown": [
       "\n",
       "A data.frame: 5 x 3\n",
       "\n",
       "| Name &lt;chr&gt; | R2_TR &lt;dbl&gt; | R2_TE &lt;dbl&gt; |\n",
       "|---|---|---|\n",
       "| Income                        | 0.5736839 | 0.2501919 |\n",
       "| Income + Education            | 0.7963876 | 0.7810138 |\n",
       "| Income + L_Education          | 0.8210033 | 0.7886101 |\n",
       "| L_Income + L_Education        | 0.8371824 | 0.8075536 |\n",
       "| L_Income + L_Education + Type | 0.8571179 | 0.8167272 |\n",
       "\n"
      ],
      "text/plain": [
       "  Name                          R2_TR     R2_TE    \n",
       "1 Income                        0.5736839 0.2501919\n",
       "2 Income + Education            0.7963876 0.7810138\n",
       "3 Income + L_Education          0.8210033 0.7886101\n",
       "4 L_Income + L_Education        0.8371824 0.8075536\n",
       "5 L_Income + L_Education + Type 0.8571179 0.8167272"
      ]
     },
     "metadata": {},
     "output_type": "display_data"
    }
   ],
   "source": [
    "rdf <- rdf |> bind_rows(data.frame(Name = \"L_Income + L_Education + Type\",\n",
    "                 R2_TR = rsquare(model5, train),\n",
    "                 R2_TE = rsquare(model5, test)))\n",
    "rdf"
   ]
  },
  {
   "cell_type": "code",
   "execution_count": 132,
   "id": "b30c44aa-5875-4627-bc3c-897846eae46c",
   "metadata": {},
   "outputs": [
    {
     "data": {
      "text/plain": [
       "\n",
       "Call:\n",
       "lm(formula = prestige ~ log(income) + education + type + women, \n",
       "    data = train)\n",
       "\n",
       "Residuals:\n",
       "     Min       1Q   Median       3Q      Max \n",
       "-12.7812  -3.3768   0.4504   4.2578  16.6904 \n",
       "\n",
       "Coefficients:\n",
       "              Estimate Std. Error t value Pr(>|t|)    \n",
       "(Intercept) -102.26340   18.00867  -5.679 3.43e-07 ***\n",
       "log(income)   13.77908    2.16833   6.355 2.35e-08 ***\n",
       "education      2.41527    0.67604   3.573 0.000672 ***\n",
       "typeprof       8.70872    4.14969   2.099 0.039738 *  \n",
       "typewc        -0.98405    2.87879  -0.342 0.733585    \n",
       "women          0.04344    0.03706   1.172 0.245477    \n",
       "---\n",
       "Signif. codes:  0 '***' 0.001 '**' 0.01 '*' 0.05 '.' 0.1 ' ' 1\n",
       "\n",
       "Residual standard error: 6.582 on 65 degrees of freedom\n",
       "Multiple R-squared:  0.8601,\tAdjusted R-squared:  0.8493 \n",
       "F-statistic: 79.91 on 5 and 65 DF,  p-value: < 2.2e-16\n"
      ]
     },
     "metadata": {},
     "output_type": "display_data"
    }
   ],
   "source": [
    "model6 <- lm(prestige ~ log(income) + education + type + women, data = train)\n",
    "summary(model6)"
   ]
  },
  {
   "cell_type": "code",
   "execution_count": 133,
   "id": "f1ff9fe1-7041-441d-953c-728f54493df0",
   "metadata": {},
   "outputs": [
    {
     "data": {
      "text/html": [
       "<table class=\"dataframe\">\n",
       "<caption>A data.frame: 6 x 3</caption>\n",
       "<thead>\n",
       "\t<tr><th scope=col>Name</th><th scope=col>R2_TR</th><th scope=col>R2_TE</th></tr>\n",
       "\t<tr><th scope=col>&lt;chr&gt;</th><th scope=col>&lt;dbl&gt;</th><th scope=col>&lt;dbl&gt;</th></tr>\n",
       "</thead>\n",
       "<tbody>\n",
       "\t<tr><td>Income                               </td><td>0.5736839</td><td>0.2501919</td></tr>\n",
       "\t<tr><td>Income + Education                   </td><td>0.7963876</td><td>0.7810138</td></tr>\n",
       "\t<tr><td>Income + L_Education                 </td><td>0.8210033</td><td>0.7886101</td></tr>\n",
       "\t<tr><td>L_Income + L_Education               </td><td>0.8371824</td><td>0.8075536</td></tr>\n",
       "\t<tr><td>L_Income + L_Education + Type        </td><td>0.8571179</td><td>0.8167272</td></tr>\n",
       "\t<tr><td>L_Income + L_Education + Type + Women</td><td>0.8600748</td><td>0.8346741</td></tr>\n",
       "</tbody>\n",
       "</table>\n"
      ],
      "text/latex": [
       "A data.frame: 6 x 3\n",
       "\\begin{tabular}{lll}\n",
       " Name & R2\\_TR & R2\\_TE\\\\\n",
       " <chr> & <dbl> & <dbl>\\\\\n",
       "\\hline\n",
       "\t Income                                & 0.5736839 & 0.2501919\\\\\n",
       "\t Income + Education                    & 0.7963876 & 0.7810138\\\\\n",
       "\t Income + L\\_Education                  & 0.8210033 & 0.7886101\\\\\n",
       "\t L\\_Income + L\\_Education                & 0.8371824 & 0.8075536\\\\\n",
       "\t L\\_Income + L\\_Education + Type         & 0.8571179 & 0.8167272\\\\\n",
       "\t L\\_Income + L\\_Education + Type + Women & 0.8600748 & 0.8346741\\\\\n",
       "\\end{tabular}\n"
      ],
      "text/markdown": [
       "\n",
       "A data.frame: 6 x 3\n",
       "\n",
       "| Name &lt;chr&gt; | R2_TR &lt;dbl&gt; | R2_TE &lt;dbl&gt; |\n",
       "|---|---|---|\n",
       "| Income                                | 0.5736839 | 0.2501919 |\n",
       "| Income + Education                    | 0.7963876 | 0.7810138 |\n",
       "| Income + L_Education                  | 0.8210033 | 0.7886101 |\n",
       "| L_Income + L_Education                | 0.8371824 | 0.8075536 |\n",
       "| L_Income + L_Education + Type         | 0.8571179 | 0.8167272 |\n",
       "| L_Income + L_Education + Type + Women | 0.8600748 | 0.8346741 |\n",
       "\n"
      ],
      "text/plain": [
       "  Name                                  R2_TR     R2_TE    \n",
       "1 Income                                0.5736839 0.2501919\n",
       "2 Income + Education                    0.7963876 0.7810138\n",
       "3 Income + L_Education                  0.8210033 0.7886101\n",
       "4 L_Income + L_Education                0.8371824 0.8075536\n",
       "5 L_Income + L_Education + Type         0.8571179 0.8167272\n",
       "6 L_Income + L_Education + Type + Women 0.8600748 0.8346741"
      ]
     },
     "metadata": {},
     "output_type": "display_data"
    }
   ],
   "source": [
    "rdf <- rdf |> bind_rows(data.frame(Name = \"L_Income + L_Education + Type + Women\",\n",
    "                 R2_TR = rsquare(model6, train),\n",
    "                 R2_TE = rsquare(model6, test)))\n",
    "rdf"
   ]
  },
  {
   "cell_type": "markdown",
   "id": "70eeab33-a47f-4744-89b0-6ce0c317025d",
   "metadata": {},
   "source": [
    "## 7. Feature selection"
   ]
  },
  {
   "cell_type": "markdown",
   "id": "c845565b-7e59-4166-bcd6-5887d4434a1a",
   "metadata": {},
   "source": [
    "### 7.1. Regression subsets"
   ]
  },
  {
   "cell_type": "code",
   "execution_count": 136,
   "id": "2ed629bb-fc53-4553-a1e7-7f7cc2f0a150",
   "metadata": {},
   "outputs": [],
   "source": [
    "# install.packages(\"leaps\")"
   ]
  },
  {
   "cell_type": "code",
   "execution_count": 138,
   "id": "33aaa56b-f207-4169-aa6d-a21b428816fb",
   "metadata": {},
   "outputs": [],
   "source": [
    "library(leaps)"
   ]
  },
  {
   "cell_type": "code",
   "execution_count": 150,
   "id": "b36138b9-731f-4265-aa4e-1ec9742993c8",
   "metadata": {},
   "outputs": [],
   "source": [
    "best_model <- regsubsets(prestige ~ log(income) + education + type + sqrt(women), data = train)"
   ]
  },
  {
   "cell_type": "code",
   "execution_count": 152,
   "id": "0c600f2d-d6f4-4f5a-8465-79bf0cb1277d",
   "metadata": {},
   "outputs": [
    {
     "data": {
      "image/png": "[encoded data removed]",
      "text/plain": [
       "plot without title"
      ]
     },
     "metadata": {
      "image/png": {
       "height": 420,
       "width": 420
      }
     },
     "output_type": "display_data"
    }
   ],
   "source": [
    "plot(best_model, scale = \"adjr2\")"
   ]
  },
  {
   "cell_type": "code",
   "execution_count": 154,
   "id": "c3a36a6a-ebfc-4216-9e6a-f31cd976b39e",
   "metadata": {},
   "outputs": [
    {
     "data": {
      "text/html": [
       "<table class=\"dataframe\">\n",
       "<caption>A data.frame: 6 x 1</caption>\n",
       "<thead>\n",
       "\t<tr><th></th><th scope=col>model_info</th></tr>\n",
       "\t<tr><th></th><th scope=col>&lt;lgl&gt;</th></tr>\n",
       "</thead>\n",
       "<tbody>\n",
       "\t<tr><th scope=row>(Intercept)</th><td> TRUE</td></tr>\n",
       "\t<tr><th scope=row>log(income)</th><td> TRUE</td></tr>\n",
       "\t<tr><th scope=row>education</th><td> TRUE</td></tr>\n",
       "\t<tr><th scope=row>typeprof</th><td> TRUE</td></tr>\n",
       "\t<tr><th scope=row>typewc</th><td>FALSE</td></tr>\n",
       "\t<tr><th scope=row>sqrt(women)</th><td>FALSE</td></tr>\n",
       "</tbody>\n",
       "</table>\n"
      ],
      "text/latex": [
       "A data.frame: 6 x 1\n",
       "\\begin{tabular}{r|l}\n",
       "  & model\\_info\\\\\n",
       "  & <lgl>\\\\\n",
       "\\hline\n",
       "\t(Intercept) &  TRUE\\\\\n",
       "\tlog(income) &  TRUE\\\\\n",
       "\teducation &  TRUE\\\\\n",
       "\ttypeprof &  TRUE\\\\\n",
       "\ttypewc & FALSE\\\\\n",
       "\tsqrt(women) & FALSE\\\\\n",
       "\\end{tabular}\n"
      ],
      "text/markdown": [
       "\n",
       "A data.frame: 6 x 1\n",
       "\n",
       "| <!--/--> | model_info &lt;lgl&gt; |\n",
       "|---|---|\n",
       "| (Intercept) |  TRUE |\n",
       "| log(income) |  TRUE |\n",
       "| education |  TRUE |\n",
       "| typeprof |  TRUE |\n",
       "| typewc | FALSE |\n",
       "| sqrt(women) | FALSE |\n",
       "\n"
      ],
      "text/plain": [
       "            model_info\n",
       "(Intercept)  TRUE     \n",
       "log(income)  TRUE     \n",
       "education    TRUE     \n",
       "typeprof     TRUE     \n",
       "typewc      FALSE     \n",
       "sqrt(women) FALSE     "
      ]
     },
     "metadata": {},
     "output_type": "display_data"
    }
   ],
   "source": [
    "results <- summary(best_model)\n",
    "model_index <- which.max(results$adjr2)\n",
    "model_info <- results$which[model_index,]\n",
    "as.data.frame(model_info)"
   ]
  },
  {
   "cell_type": "markdown",
   "id": "a6418a88-026b-48b4-8ea0-a025dc7fbb7c",
   "metadata": {},
   "source": [
    "### 7.2 Stepwise"
   ]
  }
 ],
 "metadata": {
  "kernelspec": {
   "display_name": "R",
   "language": "R",
   "name": "ir"
  },
  "language_info": {
   "codemirror_mode": "r",
   "file_extension": ".r",
   "mimetype": "text/x-r-source",
   "name": "R",
   "pygments_lexer": "r",
   "version": "4.1.3"
  }
 },
 "nbformat": 4,
 "nbformat_minor": 5
}
