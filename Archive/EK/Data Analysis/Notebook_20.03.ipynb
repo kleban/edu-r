{
 "cells": [
  {
   "cell_type": "markdown",
   "id": "1ccb88c2-c9f8-4bfc-8da5-db9dfbda7af5",
   "metadata": {},
   "source": [
    "# Основи роботи з Jupyter Notebook"
   ]
  },
  {
   "cell_type": "markdown",
   "id": "43297d90-352c-44c1-b3e7-47c052ac8001",
   "metadata": {},
   "source": [
    "---"
   ]
  },
  {
   "cell_type": "markdown",
   "id": "8ee134e4-f474-4f0a-83e7-d408509464d7",
   "metadata": {},
   "source": [
    "**Мета** заняття: _вивчити_ основи роботи з `Jupyter Notebook`-ами."
   ]
  },
  {
   "cell_type": "markdown",
   "id": "dfa1b92d-686f-4528-8a74-2ead4e5d78f1",
   "metadata": {},
   "source": [
    "Приклад формули: $y = x^2 + cos(x+3)^2$"
   ]
  },
  {
   "cell_type": "markdown",
   "id": "3072de80-1564-4730-b16b-0953ed051de0",
   "metadata": {},
   "source": [
    "## Приклад роботи з кодом"
   ]
  },
  {
   "cell_type": "code",
   "execution_count": 2,
   "id": "b64a589e-30a5-4557-b9a7-3e1b50735509",
   "metadata": {},
   "outputs": [
    {
     "data": {
      "text/html": [
       "<style>\n",
       ".list-inline {list-style: none; margin:0; padding: 0}\n",
       ".list-inline>li {display: inline-block}\n",
       ".list-inline>li:not(:last-child)::after {content: \"\\00b7\"; padding: 0 .5ex}\n",
       "</style>\n",
       "<ol class=list-inline><li>90</li><li>55</li><li>94</li><li>96</li><li>25</li><li>35</li><li>58</li><li>70</li><li>72</li><li>33</li><li>82</li><li>60</li><li>45</li><li>97</li><li>73</li><li>18</li><li>10</li><li>61</li><li>42</li><li>22</li><li>98</li><li>64</li><li>36</li><li>83</li><li>75</li><li>52</li><li>39</li><li>88</li><li>41</li><li>51</li><li>59</li><li>54</li><li>81</li><li>24</li><li>21</li><li>84</li><li>74</li><li>71</li><li>19</li><li>62</li><li>37</li><li>57</li><li>34</li><li>49</li><li>23</li><li>13</li><li>27</li><li>48</li><li>91</li><li>100</li></ol>\n"
      ],
      "text/latex": [
       "\\begin{enumerate*}\n",
       "\\item 90\n",
       "\\item 55\n",
       "\\item 94\n",
       "\\item 96\n",
       "\\item 25\n",
       "\\item 35\n",
       "\\item 58\n",
       "\\item 70\n",
       "\\item 72\n",
       "\\item 33\n",
       "\\item 82\n",
       "\\item 60\n",
       "\\item 45\n",
       "\\item 97\n",
       "\\item 73\n",
       "\\item 18\n",
       "\\item 10\n",
       "\\item 61\n",
       "\\item 42\n",
       "\\item 22\n",
       "\\item 98\n",
       "\\item 64\n",
       "\\item 36\n",
       "\\item 83\n",
       "\\item 75\n",
       "\\item 52\n",
       "\\item 39\n",
       "\\item 88\n",
       "\\item 41\n",
       "\\item 51\n",
       "\\item 59\n",
       "\\item 54\n",
       "\\item 81\n",
       "\\item 24\n",
       "\\item 21\n",
       "\\item 84\n",
       "\\item 74\n",
       "\\item 71\n",
       "\\item 19\n",
       "\\item 62\n",
       "\\item 37\n",
       "\\item 57\n",
       "\\item 34\n",
       "\\item 49\n",
       "\\item 23\n",
       "\\item 13\n",
       "\\item 27\n",
       "\\item 48\n",
       "\\item 91\n",
       "\\item 100\n",
       "\\end{enumerate*}\n"
      ],
      "text/markdown": [
       "1. 90\n",
       "2. 55\n",
       "3. 94\n",
       "4. 96\n",
       "5. 25\n",
       "6. 35\n",
       "7. 58\n",
       "8. 70\n",
       "9. 72\n",
       "10. 33\n",
       "11. 82\n",
       "12. 60\n",
       "13. 45\n",
       "14. 97\n",
       "15. 73\n",
       "16. 18\n",
       "17. 10\n",
       "18. 61\n",
       "19. 42\n",
       "20. 22\n",
       "21. 98\n",
       "22. 64\n",
       "23. 36\n",
       "24. 83\n",
       "25. 75\n",
       "26. 52\n",
       "27. 39\n",
       "28. 88\n",
       "29. 41\n",
       "30. 51\n",
       "31. 59\n",
       "32. 54\n",
       "33. 81\n",
       "34. 24\n",
       "35. 21\n",
       "36. 84\n",
       "37. 74\n",
       "38. 71\n",
       "39. 19\n",
       "40. 62\n",
       "41. 37\n",
       "42. 57\n",
       "43. 34\n",
       "44. 49\n",
       "45. 23\n",
       "46. 13\n",
       "47. 27\n",
       "48. 48\n",
       "49. 91\n",
       "50. 100\n",
       "\n",
       "\n"
      ],
      "text/plain": [
       " [1]  90  55  94  96  25  35  58  70  72  33  82  60  45  97  73  18  10  61  42\n",
       "[20]  22  98  64  36  83  75  52  39  88  41  51  59  54  81  24  21  84  74  71\n",
       "[39]  19  62  37  57  34  49  23  13  27  48  91 100"
      ]
     },
     "metadata": {},
     "output_type": "display_data"
    }
   ],
   "source": [
    "x <- sample(10:100, size = 50)\n",
    "x"
   ]
  },
  {
   "cell_type": "code",
   "execution_count": 3,
   "id": "d1d2b3df-8d09-4229-8df2-2a743ad4c391",
   "metadata": {},
   "outputs": [
    {
     "data": {
      "image/png": "[encoded data removed]",
      "text/plain": [
       "plot without title"
      ]
     },
     "metadata": {
      "image/png": {
       "height": 420,
       "width": 420
      }
     },
     "output_type": "display_data"
    }
   ],
   "source": [
    "plot(x)"
   ]
  },
  {
   "cell_type": "code",
   "execution_count": 4,
   "id": "2cab27b7-e9dd-4234-9dc8-50f5be17bcfe",
   "metadata": {},
   "outputs": [],
   "source": [
    "my_function <- function() {\n",
    "    return(5)\n",
    "}"
   ]
  },
  {
   "cell_type": "code",
   "execution_count": 5,
   "id": "1553a5d2-35dc-4d95-afd5-3ed9f29dee7a",
   "metadata": {},
   "outputs": [
    {
     "data": {
      "text/html": [
       "5"
      ],
      "text/latex": [
       "5"
      ],
      "text/markdown": [
       "5"
      ],
      "text/plain": [
       "[1] 5"
      ]
     },
     "metadata": {},
     "output_type": "display_data"
    }
   ],
   "source": [
    "my_function()"
   ]
  }
 ],
 "metadata": {
  "kernelspec": {
   "display_name": "R",
   "language": "R",
   "name": "ir"
  },
  "language_info": {
   "codemirror_mode": "r",
   "file_extension": ".r",
   "mimetype": "text/x-r-source",
   "name": "R",
   "pygments_lexer": "r",
   "version": "4.1.3"
  }
 },
 "nbformat": 4,
 "nbformat_minor": 5
}
