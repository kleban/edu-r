{
 "cells": [
  {
   "cell_type": "markdown",
   "id": "b9d00489-9d3e-4bae-b564-fc061503a4c3",
   "metadata": {},
   "source": [
    "# Data Scaling"
   ]
  },
  {
   "cell_type": "code",
   "execution_count": 2,
   "id": "dec8b32a-26d1-424e-a2a7-cfd25b8d96fa",
   "metadata": {},
   "outputs": [
    {
     "data": {
      "text/html": [
       "'H:/Education/edu-r/EK/Data Analysis'"
      ],
      "text/latex": [
       "'H:/Education/edu-r/EK/Data Analysis'"
      ],
      "text/markdown": [
       "'H:/Education/edu-r/EK/Data Analysis'"
      ],
      "text/plain": [
       "[1] \"H:/Education/edu-r/EK/Data Analysis\""
      ]
     },
     "metadata": {},
     "output_type": "display_data"
    }
   ],
   "source": [
    "getwd()"
   ]
  },
  {
   "cell_type": "code",
   "execution_count": 4,
   "id": "a16ce9b1-d717-40be-b15d-78c48ffc26fa",
   "metadata": {},
   "outputs": [],
   "source": [
    "data <- read.csv(\"../../DM/data/WA_Fn-UseC_-Telco-Customer-Churn.csv\")"
   ]
  },
  {
   "cell_type": "code",
   "execution_count": 6,
   "id": "5b8cf4bc-5d93-4205-adb5-75ac212b3f7c",
   "metadata": {},
   "outputs": [
    {
     "data": {
      "text/html": [
       "<table class=\"dataframe\">\n",
       "<caption>A data.frame: 6 x 21</caption>\n",
       "<thead>\n",
       "\t<tr><th></th><th scope=col>customerID</th><th scope=col>gender</th><th scope=col>SeniorCitizen</th><th scope=col>Partner</th><th scope=col>Dependents</th><th scope=col>tenure</th><th scope=col>PhoneService</th><th scope=col>MultipleLines</th><th scope=col>InternetService</th><th scope=col>OnlineSecurity</th><th scope=col>...</th><th scope=col>DeviceProtection</th><th scope=col>TechSupport</th><th scope=col>StreamingTV</th><th scope=col>StreamingMovies</th><th scope=col>Contract</th><th scope=col>PaperlessBilling</th><th scope=col>PaymentMethod</th><th scope=col>MonthlyCharges</th><th scope=col>TotalCharges</th><th scope=col>Churn</th></tr>\n",
       "\t<tr><th></th><th scope=col>&lt;chr&gt;</th><th scope=col>&lt;chr&gt;</th><th scope=col>&lt;int&gt;</th><th scope=col>&lt;chr&gt;</th><th scope=col>&lt;chr&gt;</th><th scope=col>&lt;int&gt;</th><th scope=col>&lt;chr&gt;</th><th scope=col>&lt;chr&gt;</th><th scope=col>&lt;chr&gt;</th><th scope=col>&lt;chr&gt;</th><th scope=col>...</th><th scope=col>&lt;chr&gt;</th><th scope=col>&lt;chr&gt;</th><th scope=col>&lt;chr&gt;</th><th scope=col>&lt;chr&gt;</th><th scope=col>&lt;chr&gt;</th><th scope=col>&lt;chr&gt;</th><th scope=col>&lt;chr&gt;</th><th scope=col>&lt;dbl&gt;</th><th scope=col>&lt;dbl&gt;</th><th scope=col>&lt;chr&gt;</th></tr>\n",
       "</thead>\n",
       "<tbody>\n",
       "\t<tr><th scope=row>1</th><td>7590-VHVEG</td><td>Female</td><td>0</td><td>Yes</td><td>No</td><td> 1</td><td>No </td><td>No phone service</td><td>DSL        </td><td>No </td><td>...</td><td>No </td><td>No </td><td>No </td><td>No </td><td>Month-to-month</td><td>Yes</td><td>Electronic check         </td><td>29.85</td><td>  29.85</td><td>No </td></tr>\n",
       "\t<tr><th scope=row>2</th><td>5575-GNVDE</td><td>Male  </td><td>0</td><td>No </td><td>No</td><td>34</td><td>Yes</td><td>No              </td><td>DSL        </td><td>Yes</td><td>...</td><td>Yes</td><td>No </td><td>No </td><td>No </td><td>One year      </td><td>No </td><td>Mailed check             </td><td>56.95</td><td>1889.50</td><td>No </td></tr>\n",
       "\t<tr><th scope=row>3</th><td>3668-QPYBK</td><td>Male  </td><td>0</td><td>No </td><td>No</td><td> 2</td><td>Yes</td><td>No              </td><td>DSL        </td><td>Yes</td><td>...</td><td>No </td><td>No </td><td>No </td><td>No </td><td>Month-to-month</td><td>Yes</td><td>Mailed check             </td><td>53.85</td><td> 108.15</td><td>Yes</td></tr>\n",
       "\t<tr><th scope=row>4</th><td>7795-CFOCW</td><td>Male  </td><td>0</td><td>No </td><td>No</td><td>45</td><td>No </td><td>No phone service</td><td>DSL        </td><td>Yes</td><td>...</td><td>Yes</td><td>Yes</td><td>No </td><td>No </td><td>One year      </td><td>No </td><td>Bank transfer (automatic)</td><td>42.30</td><td>1840.75</td><td>No </td></tr>\n",
       "\t<tr><th scope=row>5</th><td>9237-HQITU</td><td>Female</td><td>0</td><td>No </td><td>No</td><td> 2</td><td>Yes</td><td>No              </td><td>Fiber optic</td><td>No </td><td>...</td><td>No </td><td>No </td><td>No </td><td>No </td><td>Month-to-month</td><td>Yes</td><td>Electronic check         </td><td>70.70</td><td> 151.65</td><td>Yes</td></tr>\n",
       "\t<tr><th scope=row>6</th><td>9305-CDSKC</td><td>Female</td><td>0</td><td>No </td><td>No</td><td> 8</td><td>Yes</td><td>Yes             </td><td>Fiber optic</td><td>No </td><td>...</td><td>Yes</td><td>No </td><td>Yes</td><td>Yes</td><td>Month-to-month</td><td>Yes</td><td>Electronic check         </td><td>99.65</td><td> 820.50</td><td>Yes</td></tr>\n",
       "</tbody>\n",
       "</table>\n"
      ],
      "text/latex": [
       "A data.frame: 6 x 21\n",
       "\\begin{tabular}{r|lllllllllllllllllllll}\n",
       "  & customerID & gender & SeniorCitizen & Partner & Dependents & tenure & PhoneService & MultipleLines & InternetService & OnlineSecurity & ... & DeviceProtection & TechSupport & StreamingTV & StreamingMovies & Contract & PaperlessBilling & PaymentMethod & MonthlyCharges & TotalCharges & Churn\\\\\n",
       "  & <chr> & <chr> & <int> & <chr> & <chr> & <int> & <chr> & <chr> & <chr> & <chr> & ... & <chr> & <chr> & <chr> & <chr> & <chr> & <chr> & <chr> & <dbl> & <dbl> & <chr>\\\\\n",
       "\\hline\n",
       "\t1 & 7590-VHVEG & Female & 0 & Yes & No &  1 & No  & No phone service & DSL         & No  & ... & No  & No  & No  & No  & Month-to-month & Yes & Electronic check          & 29.85 &   29.85 & No \\\\\n",
       "\t2 & 5575-GNVDE & Male   & 0 & No  & No & 34 & Yes & No               & DSL         & Yes & ... & Yes & No  & No  & No  & One year       & No  & Mailed check              & 56.95 & 1889.50 & No \\\\\n",
       "\t3 & 3668-QPYBK & Male   & 0 & No  & No &  2 & Yes & No               & DSL         & Yes & ... & No  & No  & No  & No  & Month-to-month & Yes & Mailed check              & 53.85 &  108.15 & Yes\\\\\n",
       "\t4 & 7795-CFOCW & Male   & 0 & No  & No & 45 & No  & No phone service & DSL         & Yes & ... & Yes & Yes & No  & No  & One year       & No  & Bank transfer (automatic) & 42.30 & 1840.75 & No \\\\\n",
       "\t5 & 9237-HQITU & Female & 0 & No  & No &  2 & Yes & No               & Fiber optic & No  & ... & No  & No  & No  & No  & Month-to-month & Yes & Electronic check          & 70.70 &  151.65 & Yes\\\\\n",
       "\t6 & 9305-CDSKC & Female & 0 & No  & No &  8 & Yes & Yes              & Fiber optic & No  & ... & Yes & No  & Yes & Yes & Month-to-month & Yes & Electronic check          & 99.65 &  820.50 & Yes\\\\\n",
       "\\end{tabular}\n"
      ],
      "text/markdown": [
       "\n",
       "A data.frame: 6 x 21\n",
       "\n",
       "| <!--/--> | customerID &lt;chr&gt; | gender &lt;chr&gt; | SeniorCitizen &lt;int&gt; | Partner &lt;chr&gt; | Dependents &lt;chr&gt; | tenure &lt;int&gt; | PhoneService &lt;chr&gt; | MultipleLines &lt;chr&gt; | InternetService &lt;chr&gt; | OnlineSecurity &lt;chr&gt; | ... ... | DeviceProtection &lt;chr&gt; | TechSupport &lt;chr&gt; | StreamingTV &lt;chr&gt; | StreamingMovies &lt;chr&gt; | Contract &lt;chr&gt; | PaperlessBilling &lt;chr&gt; | PaymentMethod &lt;chr&gt; | MonthlyCharges &lt;dbl&gt; | TotalCharges &lt;dbl&gt; | Churn &lt;chr&gt; |\n",
       "|---|---|---|---|---|---|---|---|---|---|---|---|---|---|---|---|---|---|---|---|---|---|\n",
       "| 1 | 7590-VHVEG | Female | 0 | Yes | No |  1 | No  | No phone service | DSL         | No  | ... | No  | No  | No  | No  | Month-to-month | Yes | Electronic check          | 29.85 |   29.85 | No  |\n",
       "| 2 | 5575-GNVDE | Male   | 0 | No  | No | 34 | Yes | No               | DSL         | Yes | ... | Yes | No  | No  | No  | One year       | No  | Mailed check              | 56.95 | 1889.50 | No  |\n",
       "| 3 | 3668-QPYBK | Male   | 0 | No  | No |  2 | Yes | No               | DSL         | Yes | ... | No  | No  | No  | No  | Month-to-month | Yes | Mailed check              | 53.85 |  108.15 | Yes |\n",
       "| 4 | 7795-CFOCW | Male   | 0 | No  | No | 45 | No  | No phone service | DSL         | Yes | ... | Yes | Yes | No  | No  | One year       | No  | Bank transfer (automatic) | 42.30 | 1840.75 | No  |\n",
       "| 5 | 9237-HQITU | Female | 0 | No  | No |  2 | Yes | No               | Fiber optic | No  | ... | No  | No  | No  | No  | Month-to-month | Yes | Electronic check          | 70.70 |  151.65 | Yes |\n",
       "| 6 | 9305-CDSKC | Female | 0 | No  | No |  8 | Yes | Yes              | Fiber optic | No  | ... | Yes | No  | Yes | Yes | Month-to-month | Yes | Electronic check          | 99.65 |  820.50 | Yes |\n",
       "\n"
      ],
      "text/plain": [
       "  customerID gender SeniorCitizen Partner Dependents tenure PhoneService\n",
       "1 7590-VHVEG Female 0             Yes     No          1     No          \n",
       "2 5575-GNVDE Male   0             No      No         34     Yes         \n",
       "3 3668-QPYBK Male   0             No      No          2     Yes         \n",
       "4 7795-CFOCW Male   0             No      No         45     No          \n",
       "5 9237-HQITU Female 0             No      No          2     Yes         \n",
       "6 9305-CDSKC Female 0             No      No          8     Yes         \n",
       "  MultipleLines    InternetService OnlineSecurity ... DeviceProtection\n",
       "1 No phone service DSL             No             ... No              \n",
       "2 No               DSL             Yes            ... Yes             \n",
       "3 No               DSL             Yes            ... No              \n",
       "4 No phone service DSL             Yes            ... Yes             \n",
       "5 No               Fiber optic     No             ... No              \n",
       "6 Yes              Fiber optic     No             ... Yes             \n",
       "  TechSupport StreamingTV StreamingMovies Contract       PaperlessBilling\n",
       "1 No          No          No              Month-to-month Yes             \n",
       "2 No          No          No              One year       No              \n",
       "3 No          No          No              Month-to-month Yes             \n",
       "4 Yes         No          No              One year       No              \n",
       "5 No          No          No              Month-to-month Yes             \n",
       "6 No          Yes         Yes             Month-to-month Yes             \n",
       "  PaymentMethod             MonthlyCharges TotalCharges Churn\n",
       "1 Electronic check          29.85            29.85      No   \n",
       "2 Mailed check              56.95          1889.50      No   \n",
       "3 Mailed check              53.85           108.15      Yes  \n",
       "4 Bank transfer (automatic) 42.30          1840.75      No   \n",
       "5 Electronic check          70.70           151.65      Yes  \n",
       "6 Electronic check          99.65           820.50      Yes  "
      ]
     },
     "metadata": {},
     "output_type": "display_data"
    }
   ],
   "source": [
    "head(data)"
   ]
  },
  {
   "cell_type": "code",
   "execution_count": 7,
   "id": "495f5adb-88c9-443d-9121-f2ea8b0cb76d",
   "metadata": {},
   "outputs": [
    {
     "name": "stdout",
     "output_type": "stream",
     "text": [
      "'data.frame':\t7043 obs. of  21 variables:\n",
      " $ customerID      : chr  \"7590-VHVEG\" \"5575-GNVDE\" \"3668-QPYBK\" \"7795-CFOCW\" ...\n",
      " $ gender          : chr  \"Female\" \"Male\" \"Male\" \"Male\" ...\n",
      " $ SeniorCitizen   : int  0 0 0 0 0 0 0 0 0 0 ...\n",
      " $ Partner         : chr  \"Yes\" \"No\" \"No\" \"No\" ...\n",
      " $ Dependents      : chr  \"No\" \"No\" \"No\" \"No\" ...\n",
      " $ tenure          : int  1 34 2 45 2 8 22 10 28 62 ...\n",
      " $ PhoneService    : chr  \"No\" \"Yes\" \"Yes\" \"No\" ...\n",
      " $ MultipleLines   : chr  \"No phone service\" \"No\" \"No\" \"No phone service\" ...\n",
      " $ InternetService : chr  \"DSL\" \"DSL\" \"DSL\" \"DSL\" ...\n",
      " $ OnlineSecurity  : chr  \"No\" \"Yes\" \"Yes\" \"Yes\" ...\n",
      " $ OnlineBackup    : chr  \"Yes\" \"No\" \"Yes\" \"No\" ...\n",
      " $ DeviceProtection: chr  \"No\" \"Yes\" \"No\" \"Yes\" ...\n",
      " $ TechSupport     : chr  \"No\" \"No\" \"No\" \"Yes\" ...\n",
      " $ StreamingTV     : chr  \"No\" \"No\" \"No\" \"No\" ...\n",
      " $ StreamingMovies : chr  \"No\" \"No\" \"No\" \"No\" ...\n",
      " $ Contract        : chr  \"Month-to-month\" \"One year\" \"Month-to-month\" \"One year\" ...\n",
      " $ PaperlessBilling: chr  \"Yes\" \"No\" \"Yes\" \"No\" ...\n",
      " $ PaymentMethod   : chr  \"Electronic check\" \"Mailed check\" \"Mailed check\" \"Bank transfer (automatic)\" ...\n",
      " $ MonthlyCharges  : num  29.9 57 53.9 42.3 70.7 ...\n",
      " $ TotalCharges    : num  29.9 1889.5 108.2 1840.8 151.7 ...\n",
      " $ Churn           : chr  \"No\" \"No\" \"Yes\" \"No\" ...\n"
     ]
    }
   ],
   "source": [
    "str(data)"
   ]
  },
  {
   "cell_type": "code",
   "execution_count": 9,
   "id": "dc55bb54-32f2-4c9d-93a2-3cece2b37b7c",
   "metadata": {},
   "outputs": [
    {
     "data": {
      "text/plain": [
       "  customerID           gender          SeniorCitizen      Partner         \n",
       " Length:7043        Length:7043        Min.   :0.0000   Length:7043       \n",
       " Class :character   Class :character   1st Qu.:0.0000   Class :character  \n",
       " Mode  :character   Mode  :character   Median :0.0000   Mode  :character  \n",
       "                                       Mean   :0.1621                     \n",
       "                                       3rd Qu.:0.0000                     \n",
       "                                       Max.   :1.0000                     \n",
       "                                                                          \n",
       "  Dependents            tenure      PhoneService       MultipleLines     \n",
       " Length:7043        Min.   : 0.00   Length:7043        Length:7043       \n",
       " Class :character   1st Qu.: 9.00   Class :character   Class :character  \n",
       " Mode  :character   Median :29.00   Mode  :character   Mode  :character  \n",
       "                    Mean   :32.37                                        \n",
       "                    3rd Qu.:55.00                                        \n",
       "                    Max.   :72.00                                        \n",
       "                                                                         \n",
       " InternetService    OnlineSecurity     OnlineBackup       DeviceProtection  \n",
       " Length:7043        Length:7043        Length:7043        Length:7043       \n",
       " Class :character   Class :character   Class :character   Class :character  \n",
       " Mode  :character   Mode  :character   Mode  :character   Mode  :character  \n",
       "                                                                            \n",
       "                                                                            \n",
       "                                                                            \n",
       "                                                                            \n",
       " TechSupport        StreamingTV        StreamingMovies      Contract        \n",
       " Length:7043        Length:7043        Length:7043        Length:7043       \n",
       " Class :character   Class :character   Class :character   Class :character  \n",
       " Mode  :character   Mode  :character   Mode  :character   Mode  :character  \n",
       "                                                                            \n",
       "                                                                            \n",
       "                                                                            \n",
       "                                                                            \n",
       " PaperlessBilling   PaymentMethod      MonthlyCharges    TotalCharges   \n",
       " Length:7043        Length:7043        Min.   : 18.25   Min.   :  18.8  \n",
       " Class :character   Class :character   1st Qu.: 35.50   1st Qu.: 401.4  \n",
       " Mode  :character   Mode  :character   Median : 70.35   Median :1397.5  \n",
       "                                       Mean   : 64.76   Mean   :2283.3  \n",
       "                                       3rd Qu.: 89.85   3rd Qu.:3794.7  \n",
       "                                       Max.   :118.75   Max.   :8684.8  \n",
       "                                                        NA's   :11      \n",
       "    Churn          \n",
       " Length:7043       \n",
       " Class :character  \n",
       " Mode  :character  \n",
       "                   \n",
       "                   \n",
       "                   \n",
       "                   "
      ]
     },
     "metadata": {},
     "output_type": "display_data"
    }
   ],
   "source": [
    "summary(data)"
   ]
  },
  {
   "cell_type": "code",
   "execution_count": 11,
   "id": "1bb68615-08f6-4fe4-9eaf-b08dd63b82e6",
   "metadata": {},
   "outputs": [],
   "source": [
    "library(ggplot2)"
   ]
  },
  {
   "cell_type": "code",
   "execution_count": 13,
   "id": "1cdd4463-9bad-45e6-911f-0017ac33265e",
   "metadata": {},
   "outputs": [
    {
     "name": "stderr",
     "output_type": "stream",
     "text": [
      "Warning message:\n",
      "\"\u001b[1m\u001b[22mRemoved 11 rows containing non-finite values (`stat_bin()`).\"\n"
     ]
    },
    {
     "data": {
      "image/png": "[encoded data removed]",
      "text/plain": [
       "plot without title"
      ]
     },
     "metadata": {
      "image/png": {
       "height": 420,
       "width": 420
      }
     },
     "output_type": "display_data"
    }
   ],
   "source": [
    "ggplot(data = data, aes(x = TotalCharges)) +\n",
    "    geom_histogram(bins = 30)"
   ]
  },
  {
   "cell_type": "code",
   "execution_count": 25,
   "id": "c4e05c91-7a4e-4cd5-94ee-bb897810fa40",
   "metadata": {},
   "outputs": [],
   "source": [
    "library(dplyr)\n",
    "data <- data |>\n",
    "    mutate(TotalCharges = ifelse(is.na(TotalCharges), 0, TotalCharges))"
   ]
  },
  {
   "cell_type": "code",
   "execution_count": 26,
   "id": "994699f0-9993-49f3-9af9-5c57ff74d914",
   "metadata": {},
   "outputs": [
    {
     "data": {
      "text/plain": [
       "   Min. 1st Qu.  Median    Mean 3rd Qu.    Max. \n",
       "    0.0   398.6  1394.5  2279.7  3786.6  8684.8 "
      ]
     },
     "metadata": {},
     "output_type": "display_data"
    }
   ],
   "source": [
    "summary(data$TotalCharges)"
   ]
  },
  {
   "cell_type": "code",
   "execution_count": 28,
   "id": "7d9b58af-cc59-4c85-a2cd-7910abe209bb",
   "metadata": {},
   "outputs": [
    {
     "data": {
      "image/png": "[encoded data removed]",
      "text/plain": [
       "plot without title"
      ]
     },
     "metadata": {
      "image/png": {
       "height": 420,
       "width": 420
      }
     },
     "output_type": "display_data"
    }
   ],
   "source": [
    "ggplot(data = data, aes(x = TotalCharges)) +\n",
    "    geom_histogram(bins = 30)"
   ]
  },
  {
   "cell_type": "code",
   "execution_count": 30,
   "id": "4c8d7355-5351-4e40-b98c-67a7b9c3f22c",
   "metadata": {},
   "outputs": [],
   "source": [
    "normalizeFunc <- function(x) {\n",
    "    return ((x - min(x))/(max(x) - min(x)))\n",
    "}"
   ]
  },
  {
   "cell_type": "code",
   "execution_count": 32,
   "id": "1da0c9a4-d8f3-4bb9-8d45-62f15c254479",
   "metadata": {},
   "outputs": [],
   "source": [
    "data <- data |>\n",
    "    mutate(TotalNorm = normalizeFunc(TotalCharges))"
   ]
  },
  {
   "cell_type": "code",
   "execution_count": 34,
   "id": "35e676ed-2fa1-4601-83a1-cf05b8581e08",
   "metadata": {},
   "outputs": [
    {
     "data": {
      "text/html": [
       "<table class=\"dataframe\">\n",
       "<caption>A data.frame: 6 x 2</caption>\n",
       "<thead>\n",
       "\t<tr><th></th><th scope=col>TotalCharges</th><th scope=col>TotalNorm</th></tr>\n",
       "\t<tr><th></th><th scope=col>&lt;dbl&gt;</th><th scope=col>&lt;dbl&gt;</th></tr>\n",
       "</thead>\n",
       "<tbody>\n",
       "\t<tr><th scope=row>1</th><td>  29.85</td><td>0.003437039</td></tr>\n",
       "\t<tr><th scope=row>2</th><td>1889.50</td><td>0.217564020</td></tr>\n",
       "\t<tr><th scope=row>3</th><td> 108.15</td><td>0.012452791</td></tr>\n",
       "\t<tr><th scope=row>4</th><td>1840.75</td><td>0.211950765</td></tr>\n",
       "\t<tr><th scope=row>5</th><td> 151.65</td><td>0.017461542</td></tr>\n",
       "\t<tr><th scope=row>6</th><td> 820.50</td><td>0.094475405</td></tr>\n",
       "</tbody>\n",
       "</table>\n"
      ],
      "text/latex": [
       "A data.frame: 6 x 2\n",
       "\\begin{tabular}{r|ll}\n",
       "  & TotalCharges & TotalNorm\\\\\n",
       "  & <dbl> & <dbl>\\\\\n",
       "\\hline\n",
       "\t1 &   29.85 & 0.003437039\\\\\n",
       "\t2 & 1889.50 & 0.217564020\\\\\n",
       "\t3 &  108.15 & 0.012452791\\\\\n",
       "\t4 & 1840.75 & 0.211950765\\\\\n",
       "\t5 &  151.65 & 0.017461542\\\\\n",
       "\t6 &  820.50 & 0.094475405\\\\\n",
       "\\end{tabular}\n"
      ],
      "text/markdown": [
       "\n",
       "A data.frame: 6 x 2\n",
       "\n",
       "| <!--/--> | TotalCharges &lt;dbl&gt; | TotalNorm &lt;dbl&gt; |\n",
       "|---|---|---|\n",
       "| 1 |   29.85 | 0.003437039 |\n",
       "| 2 | 1889.50 | 0.217564020 |\n",
       "| 3 |  108.15 | 0.012452791 |\n",
       "| 4 | 1840.75 | 0.211950765 |\n",
       "| 5 |  151.65 | 0.017461542 |\n",
       "| 6 |  820.50 | 0.094475405 |\n",
       "\n"
      ],
      "text/plain": [
       "  TotalCharges TotalNorm  \n",
       "1   29.85      0.003437039\n",
       "2 1889.50      0.217564020\n",
       "3  108.15      0.012452791\n",
       "4 1840.75      0.211950765\n",
       "5  151.65      0.017461542\n",
       "6  820.50      0.094475405"
      ]
     },
     "metadata": {},
     "output_type": "display_data"
    }
   ],
   "source": [
    "data |>\n",
    " select(TotalCharges, TotalNorm) |>\n",
    " head()"
   ]
  },
  {
   "cell_type": "code",
   "execution_count": 36,
   "id": "7d6d4f38-41b3-451c-8d0b-b039fae0bb88",
   "metadata": {},
   "outputs": [
    {
     "data": {
      "image/png": "[encoded data removed]",
      "text/plain": [
       "plot without title"
      ]
     },
     "metadata": {
      "image/png": {
       "height": 420,
       "width": 420
      }
     },
     "output_type": "display_data"
    }
   ],
   "source": [
    "plot(data$TotalNorm)"
   ]
  },
  {
   "cell_type": "code",
   "execution_count": 38,
   "id": "07c83890-210c-4b04-9ea1-ac197664021d",
   "metadata": {},
   "outputs": [
    {
     "data": {
      "image/png": "[encoded data removed]",
      "text/plain": [
       "plot without title"
      ]
     },
     "metadata": {
      "image/png": {
       "height": 420,
       "width": 420
      }
     },
     "output_type": "display_data"
    }
   ],
   "source": [
    "ggplot(data = data, aes(x = TotalNorm)) +\n",
    "    geom_histogram(bins = 50)"
   ]
  },
  {
   "cell_type": "code",
   "execution_count": 40,
   "id": "e7762ef4-06a4-44fb-8863-4be4d1651118",
   "metadata": {},
   "outputs": [],
   "source": [
    "standartize <- function(data) {    \n",
    "    sdev = sd(data, na.rm = TRUE)  \n",
    "    data <- (data - mean(data, na.rm = T)) / sdev\n",
    "    return (data)    \n",
    "}"
   ]
  },
  {
   "cell_type": "code",
   "execution_count": 45,
   "id": "1097c071-5ff2-49c7-9d36-37747b095050",
   "metadata": {},
   "outputs": [
    {
     "data": {
      "text/html": [
       "<table class=\"dataframe\">\n",
       "<caption>A data.frame: 6 x 3</caption>\n",
       "<thead>\n",
       "\t<tr><th></th><th scope=col>TotalCharges</th><th scope=col>TotalNorm</th><th scope=col>TotalStand</th></tr>\n",
       "\t<tr><th></th><th scope=col>&lt;dbl&gt;</th><th scope=col>&lt;dbl&gt;</th><th scope=col>&lt;dbl&gt;</th></tr>\n",
       "</thead>\n",
       "<tbody>\n",
       "\t<tr><th scope=row>7038</th><td>1419.40</td><td>0.16343497</td><td>-0.3795379</td></tr>\n",
       "\t<tr><th scope=row>7039</th><td>1990.50</td><td>0.22919353</td><td>-0.1275962</td></tr>\n",
       "\t<tr><th scope=row>7040</th><td>7362.90</td><td>0.84779154</td><td> 2.2424467</td></tr>\n",
       "\t<tr><th scope=row>7041</th><td> 346.45</td><td>0.03989153</td><td>-0.8528715</td></tr>\n",
       "\t<tr><th scope=row>7042</th><td> 306.60</td><td>0.03530306</td><td>-0.8704513</td></tr>\n",
       "\t<tr><th scope=row>7043</th><td>6844.50</td><td>0.78810105</td><td> 2.0137537</td></tr>\n",
       "</tbody>\n",
       "</table>\n"
      ],
      "text/latex": [
       "A data.frame: 6 x 3\n",
       "\\begin{tabular}{r|lll}\n",
       "  & TotalCharges & TotalNorm & TotalStand\\\\\n",
       "  & <dbl> & <dbl> & <dbl>\\\\\n",
       "\\hline\n",
       "\t7038 & 1419.40 & 0.16343497 & -0.3795379\\\\\n",
       "\t7039 & 1990.50 & 0.22919353 & -0.1275962\\\\\n",
       "\t7040 & 7362.90 & 0.84779154 &  2.2424467\\\\\n",
       "\t7041 &  346.45 & 0.03989153 & -0.8528715\\\\\n",
       "\t7042 &  306.60 & 0.03530306 & -0.8704513\\\\\n",
       "\t7043 & 6844.50 & 0.78810105 &  2.0137537\\\\\n",
       "\\end{tabular}\n"
      ],
      "text/markdown": [
       "\n",
       "A data.frame: 6 x 3\n",
       "\n",
       "| <!--/--> | TotalCharges &lt;dbl&gt; | TotalNorm &lt;dbl&gt; | TotalStand &lt;dbl&gt; |\n",
       "|---|---|---|---|\n",
       "| 7038 | 1419.40 | 0.16343497 | -0.3795379 |\n",
       "| 7039 | 1990.50 | 0.22919353 | -0.1275962 |\n",
       "| 7040 | 7362.90 | 0.84779154 |  2.2424467 |\n",
       "| 7041 |  346.45 | 0.03989153 | -0.8528715 |\n",
       "| 7042 |  306.60 | 0.03530306 | -0.8704513 |\n",
       "| 7043 | 6844.50 | 0.78810105 |  2.0137537 |\n",
       "\n"
      ],
      "text/plain": [
       "     TotalCharges TotalNorm  TotalStand\n",
       "7038 1419.40      0.16343497 -0.3795379\n",
       "7039 1990.50      0.22919353 -0.1275962\n",
       "7040 7362.90      0.84779154  2.2424467\n",
       "7041  346.45      0.03989153 -0.8528715\n",
       "7042  306.60      0.03530306 -0.8704513\n",
       "7043 6844.50      0.78810105  2.0137537"
      ]
     },
     "metadata": {},
     "output_type": "display_data"
    }
   ],
   "source": [
    "data <- data |>\n",
    "    mutate(TotalStand = standartize(TotalCharges))\n",
    "data |>\n",
    " select(TotalCharges, TotalNorm, TotalStand) |>\n",
    " tail()"
   ]
  },
  {
   "cell_type": "code",
   "execution_count": 46,
   "id": "158a8c9c-9752-496e-a4b8-20750e7f318b",
   "metadata": {},
   "outputs": [
    {
     "name": "stdout",
     "output_type": "stream",
     "text": [
      "package 'gridExtra' successfully unpacked and MD5 sums checked\n",
      "\n",
      "The downloaded binary packages are in\n",
      "\tG:\\Temp\\Rtmpu4oTJw\\downloaded_packages\n"
     ]
    }
   ],
   "source": [
    "#install.packages(\"gridExtra\")"
   ]
  },
  {
   "cell_type": "code",
   "execution_count": 49,
   "id": "361bf65a-fc0a-4903-b016-93f9c3ac330c",
   "metadata": {},
   "outputs": [],
   "source": [
    "library(gridExtra)"
   ]
  },
  {
   "cell_type": "code",
   "execution_count": 51,
   "id": "4c3c1db8-4459-49e1-a4a7-1d581099693d",
   "metadata": {},
   "outputs": [
    {
     "data": {
      "image/png": "[encoded data removed]",
      "text/plain": [
       "plot without title"
      ]
     },
     "metadata": {
      "image/png": {
       "height": 420,
       "width": 420
      }
     },
     "output_type": "display_data"
    }
   ],
   "source": [
    "p1 <- ggplot(data = data, aes(x = TotalCharges)) +\n",
    "        geom_histogram(bins = 15)\n",
    "p2 <- ggplot(data = data, aes(x = TotalNorm)) +\n",
    "        geom_histogram(bins = 15)\n",
    "p3 <- ggplot(data = data, aes(x = TotalStand)) +\n",
    "        geom_histogram(bins = 15)\n",
    "\n",
    "grid.arrange(p1, p2, p3, ncol = 3)"
   ]
  },
  {
   "cell_type": "code",
   "execution_count": 53,
   "id": "485bf917-9c5d-4189-a197-441065b278f4",
   "metadata": {},
   "outputs": [],
   "source": [
    "scaled_charges <- scale(data$TotalCharges,\n",
    "                        center = mean(data$TotalCharges),\n",
    "                        scale = sd(data$TotalCharges))"
   ]
  },
  {
   "cell_type": "code",
   "execution_count": 55,
   "id": "4f25ce1a-cd67-4718-bfc9-bb928009b3d4",
   "metadata": {},
   "outputs": [
    {
     "data": {
      "text/html": [
       "<style>\n",
       ".list-inline {list-style: none; margin:0; padding: 0}\n",
       ".list-inline>li {display: inline-block}\n",
       ".list-inline>li:not(:last-child)::after {content: \"\\00b7\"; padding: 0 .5ex}\n",
       "</style>\n",
       "<ol class=list-inline><li>-0.992540053211124</li><li>-0.172152486156964</li><li>-0.957997883178945</li><li>-0.193658626502669</li><li>-0.938807788716624</li><li>-0.643743543173552</li><li>-0.145727505506549</li><li>-0.872524761292169</li><li>0.338061393162525</li><li>0.5330062838039</li></ol>\n"
      ],
      "text/latex": [
       "\\begin{enumerate*}\n",
       "\\item -0.992540053211124\n",
       "\\item -0.172152486156964\n",
       "\\item -0.957997883178945\n",
       "\\item -0.193658626502669\n",
       "\\item -0.938807788716624\n",
       "\\item -0.643743543173552\n",
       "\\item -0.145727505506549\n",
       "\\item -0.872524761292169\n",
       "\\item 0.338061393162525\n",
       "\\item 0.5330062838039\n",
       "\\end{enumerate*}\n"
      ],
      "text/markdown": [
       "1. -0.992540053211124\n",
       "2. -0.172152486156964\n",
       "3. -0.957997883178945\n",
       "4. -0.193658626502669\n",
       "5. -0.938807788716624\n",
       "6. -0.643743543173552\n",
       "7. -0.145727505506549\n",
       "8. -0.872524761292169\n",
       "9. 0.338061393162525\n",
       "10. 0.5330062838039\n",
       "\n",
       "\n"
      ],
      "text/plain": [
       " [1] -0.9925401 -0.1721525 -0.9579979 -0.1936586 -0.9388078 -0.6437435\n",
       " [7] -0.1457275 -0.8725248  0.3380614  0.5330063"
      ]
     },
     "metadata": {},
     "output_type": "display_data"
    }
   ],
   "source": [
    "scaled_charges[1:10]"
   ]
  },
  {
   "cell_type": "code",
   "execution_count": 60,
   "id": "e4749a70-e3b7-4695-a942-f3d8d0503ff6",
   "metadata": {},
   "outputs": [
    {
     "name": "stderr",
     "output_type": "stream",
     "text": [
      "Warning message:\n",
      "\"\u001b[1m\u001b[22mRemoved 11 rows containing non-finite values (`stat_bin()`).\"\n",
      "Warning message:\n",
      "\"\u001b[1m\u001b[22mRemoved 11 rows containing non-finite values (`stat_bin()`).\"\n",
      "Warning message:\n",
      "\"\u001b[1m\u001b[22mRemoved 11 rows containing non-finite values (`stat_bin()`).\"\n"
     ]
    },
    {
     "data": {
      "image/png": "[encoded data removed]",
      "text/plain": [
       "plot without title"
      ]
     },
     "metadata": {
      "image/png": {
       "height": 420,
       "width": 420
      }
     },
     "output_type": "display_data"
    }
   ],
   "source": [
    "data_tmp <- data |>\n",
    "    mutate(TotalLog = log(TotalCharges),\n",
    "           TotalSqrt = sqrt(TotalCharges),\n",
    "           TotalExp = log(TotalCharges, 2),\n",
    "        TotalReverse = 1/TotalCharges)\n",
    "\n",
    "p1 <- ggplot(data = data_tmp, aes(x = TotalCharges)) +\n",
    "        geom_histogram(bins = 15)\n",
    "p2 <- ggplot(data =data_tmp, aes(x = TotalLog)) +\n",
    "        geom_histogram(bins = 15)\n",
    "p3 <- ggplot(data = data_tmp, aes(x = TotalSqrt)) +\n",
    "        geom_histogram(bins = 15)\n",
    "p4 <- ggplot(data = data_tmp, aes(x = TotalExp)) +\n",
    "        geom_histogram(bins = 15)\n",
    "p5 <- ggplot(data = data_tmp, aes(x = TotalReverse)) +\n",
    "        geom_histogram(bins = 15)\n",
    "\n",
    "grid.arrange(p1, p2, p3, p4, p5, ncol = 5)"
   ]
  },
  {
   "cell_type": "code",
   "execution_count": 62,
   "id": "d68f4dd2-2cc5-4805-b0fb-88501b0cf274",
   "metadata": {},
   "outputs": [
    {
     "data": {
      "text/html": [
       "<table class=\"dataframe\">\n",
       "<caption>A data.frame: 6 x 2</caption>\n",
       "<thead>\n",
       "\t<tr><th></th><th scope=col>MonthlyCharges</th><th scope=col>TotalCharges</th></tr>\n",
       "\t<tr><th></th><th scope=col>&lt;dbl&gt;</th><th scope=col>&lt;dbl&gt;</th></tr>\n",
       "</thead>\n",
       "<tbody>\n",
       "\t<tr><th scope=row>1</th><td>29.85</td><td>  29.85</td></tr>\n",
       "\t<tr><th scope=row>2</th><td>56.95</td><td>1889.50</td></tr>\n",
       "\t<tr><th scope=row>3</th><td>53.85</td><td> 108.15</td></tr>\n",
       "\t<tr><th scope=row>4</th><td>42.30</td><td>1840.75</td></tr>\n",
       "\t<tr><th scope=row>5</th><td>70.70</td><td> 151.65</td></tr>\n",
       "\t<tr><th scope=row>6</th><td>99.65</td><td> 820.50</td></tr>\n",
       "</tbody>\n",
       "</table>\n"
      ],
      "text/latex": [
       "A data.frame: 6 x 2\n",
       "\\begin{tabular}{r|ll}\n",
       "  & MonthlyCharges & TotalCharges\\\\\n",
       "  & <dbl> & <dbl>\\\\\n",
       "\\hline\n",
       "\t1 & 29.85 &   29.85\\\\\n",
       "\t2 & 56.95 & 1889.50\\\\\n",
       "\t3 & 53.85 &  108.15\\\\\n",
       "\t4 & 42.30 & 1840.75\\\\\n",
       "\t5 & 70.70 &  151.65\\\\\n",
       "\t6 & 99.65 &  820.50\\\\\n",
       "\\end{tabular}\n"
      ],
      "text/markdown": [
       "\n",
       "A data.frame: 6 x 2\n",
       "\n",
       "| <!--/--> | MonthlyCharges &lt;dbl&gt; | TotalCharges &lt;dbl&gt; |\n",
       "|---|---|---|\n",
       "| 1 | 29.85 |   29.85 |\n",
       "| 2 | 56.95 | 1889.50 |\n",
       "| 3 | 53.85 |  108.15 |\n",
       "| 4 | 42.30 | 1840.75 |\n",
       "| 5 | 70.70 |  151.65 |\n",
       "| 6 | 99.65 |  820.50 |\n",
       "\n"
      ],
      "text/plain": [
       "  MonthlyCharges TotalCharges\n",
       "1 29.85            29.85     \n",
       "2 56.95          1889.50     \n",
       "3 53.85           108.15     \n",
       "4 42.30          1840.75     \n",
       "5 70.70           151.65     \n",
       "6 99.65           820.50     "
      ]
     },
     "metadata": {},
     "output_type": "display_data"
    }
   ],
   "source": [
    "data |>\n",
    "    select(MonthlyCharges, TotalCharges) |>\n",
    "    head(6)"
   ]
  },
  {
   "cell_type": "code",
   "execution_count": 64,
   "id": "9d63f36e-5126-4a5a-b94f-09f6c5056700",
   "metadata": {},
   "outputs": [
    {
     "data": {
      "text/html": [
       "<table class=\"dataframe\">\n",
       "<caption>A data.frame: 6 x 3</caption>\n",
       "<thead>\n",
       "\t<tr><th></th><th scope=col>MonthlyCharges</th><th scope=col>TotalCharges</th><th scope=col>M2T</th></tr>\n",
       "\t<tr><th></th><th scope=col>&lt;dbl&gt;</th><th scope=col>&lt;dbl&gt;</th><th scope=col>&lt;dbl&gt;</th></tr>\n",
       "</thead>\n",
       "<tbody>\n",
       "\t<tr><th scope=row>1</th><td>29.85</td><td>  29.85</td><td>1.00</td></tr>\n",
       "\t<tr><th scope=row>2</th><td>56.95</td><td>1889.50</td><td>0.03</td></tr>\n",
       "\t<tr><th scope=row>3</th><td>53.85</td><td> 108.15</td><td>0.50</td></tr>\n",
       "\t<tr><th scope=row>4</th><td>42.30</td><td>1840.75</td><td>0.02</td></tr>\n",
       "\t<tr><th scope=row>5</th><td>70.70</td><td> 151.65</td><td>0.47</td></tr>\n",
       "\t<tr><th scope=row>6</th><td>99.65</td><td> 820.50</td><td>0.12</td></tr>\n",
       "</tbody>\n",
       "</table>\n"
      ],
      "text/latex": [
       "A data.frame: 6 x 3\n",
       "\\begin{tabular}{r|lll}\n",
       "  & MonthlyCharges & TotalCharges & M2T\\\\\n",
       "  & <dbl> & <dbl> & <dbl>\\\\\n",
       "\\hline\n",
       "\t1 & 29.85 &   29.85 & 1.00\\\\\n",
       "\t2 & 56.95 & 1889.50 & 0.03\\\\\n",
       "\t3 & 53.85 &  108.15 & 0.50\\\\\n",
       "\t4 & 42.30 & 1840.75 & 0.02\\\\\n",
       "\t5 & 70.70 &  151.65 & 0.47\\\\\n",
       "\t6 & 99.65 &  820.50 & 0.12\\\\\n",
       "\\end{tabular}\n"
      ],
      "text/markdown": [
       "\n",
       "A data.frame: 6 x 3\n",
       "\n",
       "| <!--/--> | MonthlyCharges &lt;dbl&gt; | TotalCharges &lt;dbl&gt; | M2T &lt;dbl&gt; |\n",
       "|---|---|---|---|\n",
       "| 1 | 29.85 |   29.85 | 1.00 |\n",
       "| 2 | 56.95 | 1889.50 | 0.03 |\n",
       "| 3 | 53.85 |  108.15 | 0.50 |\n",
       "| 4 | 42.30 | 1840.75 | 0.02 |\n",
       "| 5 | 70.70 |  151.65 | 0.47 |\n",
       "| 6 | 99.65 |  820.50 | 0.12 |\n",
       "\n"
      ],
      "text/plain": [
       "  MonthlyCharges TotalCharges M2T \n",
       "1 29.85            29.85      1.00\n",
       "2 56.95          1889.50      0.03\n",
       "3 53.85           108.15      0.50\n",
       "4 42.30          1840.75      0.02\n",
       "5 70.70           151.65      0.47\n",
       "6 99.65           820.50      0.12"
      ]
     },
     "metadata": {},
     "output_type": "display_data"
    }
   ],
   "source": [
    "data <- data |>\n",
    "    mutate(M2T = round(MonthlyCharges/TotalCharges, 2))\n",
    "data |>\n",
    "    select(MonthlyCharges, TotalCharges, M2T) |>\n",
    "    head(6)"
   ]
  },
  {
   "cell_type": "code",
   "execution_count": 65,
   "id": "17bab937-9d48-4df4-9c9b-6d5b8c91d020",
   "metadata": {},
   "outputs": [
    {
     "name": "stdout",
     "output_type": "stream",
     "text": [
      "'data.frame':\t7043 obs. of  25 variables:\n",
      " $ customerID                                                 : chr  \"7590-VHVEG\" \"5575-GNVDE\" \"3668-QPYBK\" \"7795-CFOCW\" ...\n",
      " $ gender                                                     : chr  \"Female\" \"Male\" \"Male\" \"Male\" ...\n",
      " $ SeniorCitizen                                              : int  0 0 0 0 0 0 0 0 0 0 ...\n",
      " $ Partner                                                    : chr  \"Yes\" \"No\" \"No\" \"No\" ...\n",
      " $ Dependents                                                 : chr  \"No\" \"No\" \"No\" \"No\" ...\n",
      " $ tenure                                                     : int  1 34 2 45 2 8 22 10 28 62 ...\n",
      " $ PhoneService                                               : chr  \"No\" \"Yes\" \"Yes\" \"No\" ...\n",
      " $ MultipleLines                                              : chr  \"No phone service\" \"No\" \"No\" \"No phone service\" ...\n",
      " $ InternetService                                            : Factor w/ 3 levels \"DSL\",\"Fiber optic\",..: 1 1 1 1 2 2 2 1 2 1 ...\n",
      " $ OnlineSecurity                                             : chr  \"No\" \"Yes\" \"Yes\" \"Yes\" ...\n",
      " $ OnlineBackup                                               : chr  \"Yes\" \"No\" \"Yes\" \"No\" ...\n",
      " $ DeviceProtection                                           : chr  \"No\" \"Yes\" \"No\" \"Yes\" ...\n",
      " $ TechSupport                                                : chr  \"No\" \"No\" \"No\" \"Yes\" ...\n",
      " $ StreamingTV                                                : chr  \"No\" \"No\" \"No\" \"No\" ...\n",
      " $ StreamingMovies                                            : chr  \"No\" \"No\" \"No\" \"No\" ...\n",
      " $ Contract                                                   : chr  \"Month-to-month\" \"One year\" \"Month-to-month\" \"One year\" ...\n",
      " $ PaperlessBilling                                           : chr  \"Yes\" \"No\" \"Yes\" \"No\" ...\n",
      " $ PaymentMethod                                              : chr  \"Electronic check\" \"Mailed check\" \"Mailed check\" \"Bank transfer (automatic)\" ...\n",
      " $ MonthlyCharges                                             : num  29.9 57 53.9 42.3 70.7 ...\n",
      " $ TotalCharges                                               : num  29.9 1889.5 108.2 1840.8 151.7 ...\n",
      " $ Churn                                                      : chr  \"No\" \"No\" \"Yes\" \"No\" ...\n",
      " $ TotalCharges - ifelse(is.na(TotalCharges), 0, TotalCharges): num  0 0 0 0 0 0 0 0 0 0 ...\n",
      " $ TotalNorm                                                  : num  0.00344 0.21756 0.01245 0.21195 0.01746 ...\n",
      " $ TotalStand                                                 : num  -0.993 -0.172 -0.958 -0.194 -0.939 ...\n",
      " $ M2T                                                        : num  1 0.03 0.5 0.02 0.47 0.12 0.05 0.1 0.03 0.02 ...\n"
     ]
    }
   ],
   "source": [
    "data <- data |>\n",
    "    mutate(InternetService = as.factor(InternetService))\n",
    "str(data)"
   ]
  },
  {
   "cell_type": "code",
   "execution_count": 67,
   "id": "6a1e1988-c7da-461a-83e6-f0880f887fef",
   "metadata": {},
   "outputs": [
    {
     "data": {
      "text/html": [
       "<table class=\"dataframe\">\n",
       "<caption>A data.frame: 6 x 4</caption>\n",
       "<thead>\n",
       "\t<tr><th></th><th scope=col>gender</th><th scope=col>InternetService</th><th scope=col>TotalCharges</th><th scope=col>Churn</th></tr>\n",
       "\t<tr><th></th><th scope=col>&lt;chr&gt;</th><th scope=col>&lt;fct&gt;</th><th scope=col>&lt;dbl&gt;</th><th scope=col>&lt;chr&gt;</th></tr>\n",
       "</thead>\n",
       "<tbody>\n",
       "\t<tr><th scope=row>1</th><td>Female</td><td>DSL        </td><td>  29.85</td><td>No </td></tr>\n",
       "\t<tr><th scope=row>2</th><td>Male  </td><td>DSL        </td><td>1889.50</td><td>No </td></tr>\n",
       "\t<tr><th scope=row>3</th><td>Male  </td><td>DSL        </td><td> 108.15</td><td>Yes</td></tr>\n",
       "\t<tr><th scope=row>4</th><td>Male  </td><td>DSL        </td><td>1840.75</td><td>No </td></tr>\n",
       "\t<tr><th scope=row>5</th><td>Female</td><td>Fiber optic</td><td> 151.65</td><td>Yes</td></tr>\n",
       "\t<tr><th scope=row>6</th><td>Female</td><td>Fiber optic</td><td> 820.50</td><td>Yes</td></tr>\n",
       "</tbody>\n",
       "</table>\n"
      ],
      "text/latex": [
       "A data.frame: 6 x 4\n",
       "\\begin{tabular}{r|llll}\n",
       "  & gender & InternetService & TotalCharges & Churn\\\\\n",
       "  & <chr> & <fct> & <dbl> & <chr>\\\\\n",
       "\\hline\n",
       "\t1 & Female & DSL         &   29.85 & No \\\\\n",
       "\t2 & Male   & DSL         & 1889.50 & No \\\\\n",
       "\t3 & Male   & DSL         &  108.15 & Yes\\\\\n",
       "\t4 & Male   & DSL         & 1840.75 & No \\\\\n",
       "\t5 & Female & Fiber optic &  151.65 & Yes\\\\\n",
       "\t6 & Female & Fiber optic &  820.50 & Yes\\\\\n",
       "\\end{tabular}\n"
      ],
      "text/markdown": [
       "\n",
       "A data.frame: 6 x 4\n",
       "\n",
       "| <!--/--> | gender &lt;chr&gt; | InternetService &lt;fct&gt; | TotalCharges &lt;dbl&gt; | Churn &lt;chr&gt; |\n",
       "|---|---|---|---|---|\n",
       "| 1 | Female | DSL         |   29.85 | No  |\n",
       "| 2 | Male   | DSL         | 1889.50 | No  |\n",
       "| 3 | Male   | DSL         |  108.15 | Yes |\n",
       "| 4 | Male   | DSL         | 1840.75 | No  |\n",
       "| 5 | Female | Fiber optic |  151.65 | Yes |\n",
       "| 6 | Female | Fiber optic |  820.50 | Yes |\n",
       "\n"
      ],
      "text/plain": [
       "  gender InternetService TotalCharges Churn\n",
       "1 Female DSL               29.85      No   \n",
       "2 Male   DSL             1889.50      No   \n",
       "3 Male   DSL              108.15      Yes  \n",
       "4 Male   DSL             1840.75      No   \n",
       "5 Female Fiber optic      151.65      Yes  \n",
       "6 Female Fiber optic      820.50      Yes  "
      ]
     },
     "metadata": {},
     "output_type": "display_data"
    }
   ],
   "source": [
    "data1 <- data |>\n",
    "    select(gender, InternetService, TotalCharges, Churn)\n",
    "data1 |> head()"
   ]
  },
  {
   "cell_type": "code",
   "execution_count": 69,
   "id": "3d381231-9044-4e01-964b-9fe7d30a8086",
   "metadata": {},
   "outputs": [
    {
     "data": {
      "text/html": [
       "<style>\n",
       ".list-inline {list-style: none; margin:0; padding: 0}\n",
       ".list-inline>li {display: inline-block}\n",
       ".list-inline>li:not(:last-child)::after {content: \"\\00b7\"; padding: 0 .5ex}\n",
       "</style>\n",
       "<ol class=list-inline><li>'Female'</li><li>'Male'</li></ol>\n"
      ],
      "text/latex": [
       "\\begin{enumerate*}\n",
       "\\item 'Female'\n",
       "\\item 'Male'\n",
       "\\end{enumerate*}\n"
      ],
      "text/markdown": [
       "1. 'Female'\n",
       "2. 'Male'\n",
       "\n",
       "\n"
      ],
      "text/plain": [
       "[1] \"Female\" \"Male\"  "
      ]
     },
     "metadata": {},
     "output_type": "display_data"
    }
   ],
   "source": [
    "unique(data$gender)"
   ]
  },
  {
   "cell_type": "code",
   "execution_count": 73,
   "id": "8ec1bf69-42d8-48a3-84e1-ab53b5ea0e52",
   "metadata": {},
   "outputs": [
    {
     "data": {
      "text/plain": [
       "\n",
       "Female   Male \n",
       "  3488   3555 "
      ]
     },
     "metadata": {},
     "output_type": "display_data"
    }
   ],
   "source": [
    "table(data$gender)"
   ]
  },
  {
   "cell_type": "code",
   "execution_count": 75,
   "id": "94dd455b-12e4-47e0-8c7c-b26d6d5fe523",
   "metadata": {},
   "outputs": [],
   "source": [
    "#install.packages(\"gmodels\")"
   ]
  },
  {
   "cell_type": "code",
   "execution_count": 78,
   "id": "8f18a4c1-e841-48d0-9b88-2c05c33b438b",
   "metadata": {},
   "outputs": [
    {
     "name": "stdout",
     "output_type": "stream",
     "text": [
      "\n",
      " \n",
      "   Cell Contents\n",
      "|-------------------------|\n",
      "|                       N |\n",
      "| Chi-square contribution |\n",
      "|           N / Row Total |\n",
      "|           N / Col Total |\n",
      "|         N / Table Total |\n",
      "|-------------------------|\n",
      "\n",
      " \n",
      "Total Observations in Table:  7043 \n",
      "\n",
      " \n",
      "             | data$Churn \n",
      " data$gender |        No |       Yes | Row Total | \n",
      "-------------|-----------|-----------|-----------|\n",
      "      Female |      2549 |       939 |      3488 | \n",
      "             |     0.070 |     0.194 |           | \n",
      "             |     0.731 |     0.269 |     0.495 | \n",
      "             |     0.493 |     0.502 |           | \n",
      "             |     0.362 |     0.133 |           | \n",
      "-------------|-----------|-----------|-----------|\n",
      "        Male |      2625 |       930 |      3555 | \n",
      "             |     0.069 |     0.190 |           | \n",
      "             |     0.738 |     0.262 |     0.505 | \n",
      "             |     0.507 |     0.498 |           | \n",
      "             |     0.373 |     0.132 |           | \n",
      "-------------|-----------|-----------|-----------|\n",
      "Column Total |      5174 |      1869 |      7043 | \n",
      "             |     0.735 |     0.265 |           | \n",
      "-------------|-----------|-----------|-----------|\n",
      "\n",
      " \n"
     ]
    }
   ],
   "source": [
    "library(gmodels)\n",
    "CrossTable(data$gender, data$Churn)"
   ]
  },
  {
   "cell_type": "code",
   "execution_count": 80,
   "id": "42189f89-559f-4a18-bb8e-6eecc606c7ab",
   "metadata": {},
   "outputs": [
    {
     "data": {
      "text/html": [
       "<table class=\"dataframe\">\n",
       "<caption>A data.frame: 6 x 4</caption>\n",
       "<thead>\n",
       "\t<tr><th></th><th scope=col>gender</th><th scope=col>InternetService</th><th scope=col>TotalCharges</th><th scope=col>Churn</th></tr>\n",
       "\t<tr><th></th><th scope=col>&lt;dbl&gt;</th><th scope=col>&lt;fct&gt;</th><th scope=col>&lt;dbl&gt;</th><th scope=col>&lt;dbl&gt;</th></tr>\n",
       "</thead>\n",
       "<tbody>\n",
       "\t<tr><th scope=row>1</th><td>0</td><td>DSL        </td><td>  29.85</td><td>1</td></tr>\n",
       "\t<tr><th scope=row>2</th><td>0</td><td>DSL        </td><td>1889.50</td><td>1</td></tr>\n",
       "\t<tr><th scope=row>3</th><td>0</td><td>DSL        </td><td> 108.15</td><td>1</td></tr>\n",
       "\t<tr><th scope=row>4</th><td>0</td><td>DSL        </td><td>1840.75</td><td>1</td></tr>\n",
       "\t<tr><th scope=row>5</th><td>0</td><td>Fiber optic</td><td> 151.65</td><td>1</td></tr>\n",
       "\t<tr><th scope=row>6</th><td>0</td><td>Fiber optic</td><td> 820.50</td><td>1</td></tr>\n",
       "</tbody>\n",
       "</table>\n"
      ],
      "text/latex": [
       "A data.frame: 6 x 4\n",
       "\\begin{tabular}{r|llll}\n",
       "  & gender & InternetService & TotalCharges & Churn\\\\\n",
       "  & <dbl> & <fct> & <dbl> & <dbl>\\\\\n",
       "\\hline\n",
       "\t1 & 0 & DSL         &   29.85 & 1\\\\\n",
       "\t2 & 0 & DSL         & 1889.50 & 1\\\\\n",
       "\t3 & 0 & DSL         &  108.15 & 1\\\\\n",
       "\t4 & 0 & DSL         & 1840.75 & 1\\\\\n",
       "\t5 & 0 & Fiber optic &  151.65 & 1\\\\\n",
       "\t6 & 0 & Fiber optic &  820.50 & 1\\\\\n",
       "\\end{tabular}\n"
      ],
      "text/markdown": [
       "\n",
       "A data.frame: 6 x 4\n",
       "\n",
       "| <!--/--> | gender &lt;dbl&gt; | InternetService &lt;fct&gt; | TotalCharges &lt;dbl&gt; | Churn &lt;dbl&gt; |\n",
       "|---|---|---|---|---|\n",
       "| 1 | 0 | DSL         |   29.85 | 1 |\n",
       "| 2 | 0 | DSL         | 1889.50 | 1 |\n",
       "| 3 | 0 | DSL         |  108.15 | 1 |\n",
       "| 4 | 0 | DSL         | 1840.75 | 1 |\n",
       "| 5 | 0 | Fiber optic |  151.65 | 1 |\n",
       "| 6 | 0 | Fiber optic |  820.50 | 1 |\n",
       "\n"
      ],
      "text/plain": [
       "  gender InternetService TotalCharges Churn\n",
       "1 0      DSL               29.85      1    \n",
       "2 0      DSL             1889.50      1    \n",
       "3 0      DSL              108.15      1    \n",
       "4 0      DSL             1840.75      1    \n",
       "5 0      Fiber optic      151.65      1    \n",
       "6 0      Fiber optic      820.50      1    "
      ]
     },
     "metadata": {},
     "output_type": "display_data"
    }
   ],
   "source": [
    "data1 <- data1 |>\n",
    "    mutate(gender = ifelse(gender == \"Male\", 1, 0),\n",
    "          Churn = ifelse(Churn == \"Yes\", 0, 1))\n",
    "data1 |> head()"
   ]
  },
  {
   "cell_type": "code",
   "execution_count": 82,
   "id": "b3c90a66-30bd-4948-8613-6c9faedd014d",
   "metadata": {},
   "outputs": [
    {
     "data": {
      "text/html": [
       "<style>\n",
       ".list-inline {list-style: none; margin:0; padding: 0}\n",
       ".list-inline>li {display: inline-block}\n",
       ".list-inline>li:not(:last-child)::after {content: \"\\00b7\"; padding: 0 .5ex}\n",
       "</style>\n",
       "<ol class=list-inline><li>DSL</li><li>Fiber optic</li><li>No</li></ol>\n",
       "\n",
       "<details>\n",
       "\t<summary style=display:list-item;cursor:pointer>\n",
       "\t\t<strong>Levels</strong>:\n",
       "\t</summary>\n",
       "\t<style>\n",
       "\t.list-inline {list-style: none; margin:0; padding: 0}\n",
       "\t.list-inline>li {display: inline-block}\n",
       "\t.list-inline>li:not(:last-child)::after {content: \"\\00b7\"; padding: 0 .5ex}\n",
       "\t</style>\n",
       "\t<ol class=list-inline><li>'DSL'</li><li>'Fiber optic'</li><li>'No'</li></ol>\n",
       "</details>"
      ],
      "text/latex": [
       "\\begin{enumerate*}\n",
       "\\item DSL\n",
       "\\item Fiber optic\n",
       "\\item No\n",
       "\\end{enumerate*}\n",
       "\n",
       "\\emph{Levels}: \\begin{enumerate*}\n",
       "\\item 'DSL'\n",
       "\\item 'Fiber optic'\n",
       "\\item 'No'\n",
       "\\end{enumerate*}\n"
      ],
      "text/markdown": [
       "1. DSL\n",
       "2. Fiber optic\n",
       "3. No\n",
       "\n",
       "\n",
       "\n",
       "**Levels**: 1. 'DSL'\n",
       "2. 'Fiber optic'\n",
       "3. 'No'\n",
       "\n",
       "\n"
      ],
      "text/plain": [
       "[1] DSL         Fiber optic No         \n",
       "Levels: DSL Fiber optic No"
      ]
     },
     "metadata": {},
     "output_type": "display_data"
    }
   ],
   "source": [
    "unique(data$InternetService)"
   ]
  },
  {
   "cell_type": "code",
   "execution_count": 84,
   "id": "dc399948-4eda-4713-b5d9-b85695b546f6",
   "metadata": {},
   "outputs": [
    {
     "name": "stdout",
     "output_type": "stream",
     "text": [
      "\n",
      " \n",
      "   Cell Contents\n",
      "|-------------------------|\n",
      "|                       N |\n",
      "|         N / Table Total |\n",
      "|-------------------------|\n",
      "\n",
      " \n",
      "Total Observations in Table:  7043 \n",
      "\n",
      " \n",
      "            |         DSL | Fiber optic |          No | \n",
      "            |-------------|-------------|-------------|\n",
      "            |        2421 |        3096 |        1526 | \n",
      "            |       0.344 |       0.440 |       0.217 | \n",
      "            |-------------|-------------|-------------|\n",
      "\n",
      "\n",
      "\n",
      " \n"
     ]
    }
   ],
   "source": [
    "CrossTable(data$InternetService)"
   ]
  },
  {
   "cell_type": "code",
   "execution_count": 87,
   "id": "73e28ddd-b120-49f9-a2f5-1323445bccec",
   "metadata": {},
   "outputs": [],
   "source": [
    "#install.packages(\"caret\")"
   ]
  },
  {
   "cell_type": "code",
   "execution_count": 89,
   "id": "db1a479e-1075-4754-aa7b-c0afd9740f2e",
   "metadata": {},
   "outputs": [],
   "source": [
    "library(caret)"
   ]
  },
  {
   "cell_type": "code",
   "execution_count": 91,
   "id": "da8acb1a-1f93-49da-924a-f39879c473f9",
   "metadata": {},
   "outputs": [],
   "source": [
    "dummy <- dummyVars(\"~ InternetService\", data = data1)"
   ]
  },
  {
   "cell_type": "code",
   "execution_count": 92,
   "id": "13fc6a72-a68d-4fb8-8984-59cd00b83a75",
   "metadata": {},
   "outputs": [
    {
     "data": {
      "text/html": [
       "<table class=\"dataframe\">\n",
       "<caption>A data.frame: 6 x 4</caption>\n",
       "<thead>\n",
       "\t<tr><th></th><th scope=col>gender</th><th scope=col>InternetService</th><th scope=col>TotalCharges</th><th scope=col>Churn</th></tr>\n",
       "\t<tr><th></th><th scope=col>&lt;dbl&gt;</th><th scope=col>&lt;fct&gt;</th><th scope=col>&lt;dbl&gt;</th><th scope=col>&lt;dbl&gt;</th></tr>\n",
       "</thead>\n",
       "<tbody>\n",
       "\t<tr><th scope=row>1</th><td>0</td><td>DSL        </td><td>  29.85</td><td>1</td></tr>\n",
       "\t<tr><th scope=row>2</th><td>0</td><td>DSL        </td><td>1889.50</td><td>1</td></tr>\n",
       "\t<tr><th scope=row>3</th><td>0</td><td>DSL        </td><td> 108.15</td><td>1</td></tr>\n",
       "\t<tr><th scope=row>4</th><td>0</td><td>DSL        </td><td>1840.75</td><td>1</td></tr>\n",
       "\t<tr><th scope=row>5</th><td>0</td><td>Fiber optic</td><td> 151.65</td><td>1</td></tr>\n",
       "\t<tr><th scope=row>6</th><td>0</td><td>Fiber optic</td><td> 820.50</td><td>1</td></tr>\n",
       "</tbody>\n",
       "</table>\n"
      ],
      "text/latex": [
       "A data.frame: 6 x 4\n",
       "\\begin{tabular}{r|llll}\n",
       "  & gender & InternetService & TotalCharges & Churn\\\\\n",
       "  & <dbl> & <fct> & <dbl> & <dbl>\\\\\n",
       "\\hline\n",
       "\t1 & 0 & DSL         &   29.85 & 1\\\\\n",
       "\t2 & 0 & DSL         & 1889.50 & 1\\\\\n",
       "\t3 & 0 & DSL         &  108.15 & 1\\\\\n",
       "\t4 & 0 & DSL         & 1840.75 & 1\\\\\n",
       "\t5 & 0 & Fiber optic &  151.65 & 1\\\\\n",
       "\t6 & 0 & Fiber optic &  820.50 & 1\\\\\n",
       "\\end{tabular}\n"
      ],
      "text/markdown": [
       "\n",
       "A data.frame: 6 x 4\n",
       "\n",
       "| <!--/--> | gender &lt;dbl&gt; | InternetService &lt;fct&gt; | TotalCharges &lt;dbl&gt; | Churn &lt;dbl&gt; |\n",
       "|---|---|---|---|---|\n",
       "| 1 | 0 | DSL         |   29.85 | 1 |\n",
       "| 2 | 0 | DSL         | 1889.50 | 1 |\n",
       "| 3 | 0 | DSL         |  108.15 | 1 |\n",
       "| 4 | 0 | DSL         | 1840.75 | 1 |\n",
       "| 5 | 0 | Fiber optic |  151.65 | 1 |\n",
       "| 6 | 0 | Fiber optic |  820.50 | 1 |\n",
       "\n"
      ],
      "text/plain": [
       "  gender InternetService TotalCharges Churn\n",
       "1 0      DSL               29.85      1    \n",
       "2 0      DSL             1889.50      1    \n",
       "3 0      DSL              108.15      1    \n",
       "4 0      DSL             1840.75      1    \n",
       "5 0      Fiber optic      151.65      1    \n",
       "6 0      Fiber optic      820.50      1    "
      ]
     },
     "metadata": {},
     "output_type": "display_data"
    }
   ],
   "source": [
    "data1 |> head()"
   ]
  },
  {
   "cell_type": "code",
   "execution_count": 94,
   "id": "6dade549-e8ef-4af7-a7e0-08c91aaec48e",
   "metadata": {},
   "outputs": [
    {
     "data": {
      "text/html": [
       "<table class=\"dataframe\">\n",
       "<caption>A matrix: 7043 x 3 of type dbl</caption>\n",
       "<thead>\n",
       "\t<tr><th></th><th scope=col>InternetService.DSL</th><th scope=col>InternetService.Fiber optic</th><th scope=col>InternetService.No</th></tr>\n",
       "</thead>\n",
       "<tbody>\n",
       "\t<tr><th scope=row>1</th><td>1</td><td>0</td><td>0</td></tr>\n",
       "\t<tr><th scope=row>2</th><td>1</td><td>0</td><td>0</td></tr>\n",
       "\t<tr><th scope=row>3</th><td>1</td><td>0</td><td>0</td></tr>\n",
       "\t<tr><th scope=row>4</th><td>1</td><td>0</td><td>0</td></tr>\n",
       "\t<tr><th scope=row>5</th><td>0</td><td>1</td><td>0</td></tr>\n",
       "\t<tr><th scope=row>6</th><td>0</td><td>1</td><td>0</td></tr>\n",
       "\t<tr><th scope=row>7</th><td>0</td><td>1</td><td>0</td></tr>\n",
       "\t<tr><th scope=row>8</th><td>1</td><td>0</td><td>0</td></tr>\n",
       "\t<tr><th scope=row>9</th><td>0</td><td>1</td><td>0</td></tr>\n",
       "\t<tr><th scope=row>10</th><td>1</td><td>0</td><td>0</td></tr>\n",
       "\t<tr><th scope=row>11</th><td>1</td><td>0</td><td>0</td></tr>\n",
       "\t<tr><th scope=row>12</th><td>0</td><td>0</td><td>1</td></tr>\n",
       "\t<tr><th scope=row>13</th><td>0</td><td>1</td><td>0</td></tr>\n",
       "\t<tr><th scope=row>14</th><td>0</td><td>1</td><td>0</td></tr>\n",
       "\t<tr><th scope=row>15</th><td>0</td><td>1</td><td>0</td></tr>\n",
       "\t<tr><th scope=row>16</th><td>0</td><td>1</td><td>0</td></tr>\n",
       "\t<tr><th scope=row>17</th><td>0</td><td>0</td><td>1</td></tr>\n",
       "\t<tr><th scope=row>18</th><td>0</td><td>1</td><td>0</td></tr>\n",
       "\t<tr><th scope=row>19</th><td>1</td><td>0</td><td>0</td></tr>\n",
       "\t<tr><th scope=row>20</th><td>0</td><td>1</td><td>0</td></tr>\n",
       "\t<tr><th scope=row>21</th><td>1</td><td>0</td><td>0</td></tr>\n",
       "\t<tr><th scope=row>22</th><td>0</td><td>0</td><td>1</td></tr>\n",
       "\t<tr><th scope=row>23</th><td>0</td><td>0</td><td>1</td></tr>\n",
       "\t<tr><th scope=row>24</th><td>1</td><td>0</td><td>0</td></tr>\n",
       "\t<tr><th scope=row>25</th><td>1</td><td>0</td><td>0</td></tr>\n",
       "\t<tr><th scope=row>26</th><td>1</td><td>0</td><td>0</td></tr>\n",
       "\t<tr><th scope=row>27</th><td>0</td><td>1</td><td>0</td></tr>\n",
       "\t<tr><th scope=row>28</th><td>1</td><td>0</td><td>0</td></tr>\n",
       "\t<tr><th scope=row>29</th><td>1</td><td>0</td><td>0</td></tr>\n",
       "\t<tr><th scope=row>30</th><td>1</td><td>0</td><td>0</td></tr>\n",
       "\t<tr><th scope=row>...</th><td>...</td><td>...</td><td>...</td></tr>\n",
       "\t<tr><th scope=row>7014</th><td>0</td><td>1</td><td>0</td></tr>\n",
       "\t<tr><th scope=row>7015</th><td>0</td><td>1</td><td>0</td></tr>\n",
       "\t<tr><th scope=row>7016</th><td>0</td><td>1</td><td>0</td></tr>\n",
       "\t<tr><th scope=row>7017</th><td>1</td><td>0</td><td>0</td></tr>\n",
       "\t<tr><th scope=row>7018</th><td>0</td><td>0</td><td>1</td></tr>\n",
       "\t<tr><th scope=row>7019</th><td>0</td><td>1</td><td>0</td></tr>\n",
       "\t<tr><th scope=row>7020</th><td>0</td><td>0</td><td>1</td></tr>\n",
       "\t<tr><th scope=row>7021</th><td>0</td><td>0</td><td>1</td></tr>\n",
       "\t<tr><th scope=row>7022</th><td>1</td><td>0</td><td>0</td></tr>\n",
       "\t<tr><th scope=row>7023</th><td>0</td><td>1</td><td>0</td></tr>\n",
       "\t<tr><th scope=row>7024</th><td>0</td><td>1</td><td>0</td></tr>\n",
       "\t<tr><th scope=row>7025</th><td>0</td><td>1</td><td>0</td></tr>\n",
       "\t<tr><th scope=row>7026</th><td>0</td><td>1</td><td>0</td></tr>\n",
       "\t<tr><th scope=row>7027</th><td>1</td><td>0</td><td>0</td></tr>\n",
       "\t<tr><th scope=row>7028</th><td>1</td><td>0</td><td>0</td></tr>\n",
       "\t<tr><th scope=row>7029</th><td>1</td><td>0</td><td>0</td></tr>\n",
       "\t<tr><th scope=row>7030</th><td>1</td><td>0</td><td>0</td></tr>\n",
       "\t<tr><th scope=row>7031</th><td>0</td><td>0</td><td>1</td></tr>\n",
       "\t<tr><th scope=row>7032</th><td>1</td><td>0</td><td>0</td></tr>\n",
       "\t<tr><th scope=row>7033</th><td>0</td><td>1</td><td>0</td></tr>\n",
       "\t<tr><th scope=row>7034</th><td>0</td><td>1</td><td>0</td></tr>\n",
       "\t<tr><th scope=row>7035</th><td>0</td><td>1</td><td>0</td></tr>\n",
       "\t<tr><th scope=row>7036</th><td>0</td><td>1</td><td>0</td></tr>\n",
       "\t<tr><th scope=row>7037</th><td>1</td><td>0</td><td>0</td></tr>\n",
       "\t<tr><th scope=row>7038</th><td>0</td><td>0</td><td>1</td></tr>\n",
       "\t<tr><th scope=row>7039</th><td>1</td><td>0</td><td>0</td></tr>\n",
       "\t<tr><th scope=row>7040</th><td>0</td><td>1</td><td>0</td></tr>\n",
       "\t<tr><th scope=row>7041</th><td>1</td><td>0</td><td>0</td></tr>\n",
       "\t<tr><th scope=row>7042</th><td>0</td><td>1</td><td>0</td></tr>\n",
       "\t<tr><th scope=row>7043</th><td>0</td><td>1</td><td>0</td></tr>\n",
       "</tbody>\n",
       "</table>\n"
      ],
      "text/latex": [
       "A matrix: 7043 x 3 of type dbl\n",
       "\\begin{tabular}{r|lll}\n",
       "  & InternetService.DSL & InternetService.Fiber optic & InternetService.No\\\\\n",
       "\\hline\n",
       "\t1 & 1 & 0 & 0\\\\\n",
       "\t2 & 1 & 0 & 0\\\\\n",
       "\t3 & 1 & 0 & 0\\\\\n",
       "\t4 & 1 & 0 & 0\\\\\n",
       "\t5 & 0 & 1 & 0\\\\\n",
       "\t6 & 0 & 1 & 0\\\\\n",
       "\t7 & 0 & 1 & 0\\\\\n",
       "\t8 & 1 & 0 & 0\\\\\n",
       "\t9 & 0 & 1 & 0\\\\\n",
       "\t10 & 1 & 0 & 0\\\\\n",
       "\t11 & 1 & 0 & 0\\\\\n",
       "\t12 & 0 & 0 & 1\\\\\n",
       "\t13 & 0 & 1 & 0\\\\\n",
       "\t14 & 0 & 1 & 0\\\\\n",
       "\t15 & 0 & 1 & 0\\\\\n",
       "\t16 & 0 & 1 & 0\\\\\n",
       "\t17 & 0 & 0 & 1\\\\\n",
       "\t18 & 0 & 1 & 0\\\\\n",
       "\t19 & 1 & 0 & 0\\\\\n",
       "\t20 & 0 & 1 & 0\\\\\n",
       "\t21 & 1 & 0 & 0\\\\\n",
       "\t22 & 0 & 0 & 1\\\\\n",
       "\t23 & 0 & 0 & 1\\\\\n",
       "\t24 & 1 & 0 & 0\\\\\n",
       "\t25 & 1 & 0 & 0\\\\\n",
       "\t26 & 1 & 0 & 0\\\\\n",
       "\t27 & 0 & 1 & 0\\\\\n",
       "\t28 & 1 & 0 & 0\\\\\n",
       "\t29 & 1 & 0 & 0\\\\\n",
       "\t30 & 1 & 0 & 0\\\\\n",
       "\t... & ... & ... & ...\\\\\n",
       "\t7014 & 0 & 1 & 0\\\\\n",
       "\t7015 & 0 & 1 & 0\\\\\n",
       "\t7016 & 0 & 1 & 0\\\\\n",
       "\t7017 & 1 & 0 & 0\\\\\n",
       "\t7018 & 0 & 0 & 1\\\\\n",
       "\t7019 & 0 & 1 & 0\\\\\n",
       "\t7020 & 0 & 0 & 1\\\\\n",
       "\t7021 & 0 & 0 & 1\\\\\n",
       "\t7022 & 1 & 0 & 0\\\\\n",
       "\t7023 & 0 & 1 & 0\\\\\n",
       "\t7024 & 0 & 1 & 0\\\\\n",
       "\t7025 & 0 & 1 & 0\\\\\n",
       "\t7026 & 0 & 1 & 0\\\\\n",
       "\t7027 & 1 & 0 & 0\\\\\n",
       "\t7028 & 1 & 0 & 0\\\\\n",
       "\t7029 & 1 & 0 & 0\\\\\n",
       "\t7030 & 1 & 0 & 0\\\\\n",
       "\t7031 & 0 & 0 & 1\\\\\n",
       "\t7032 & 1 & 0 & 0\\\\\n",
       "\t7033 & 0 & 1 & 0\\\\\n",
       "\t7034 & 0 & 1 & 0\\\\\n",
       "\t7035 & 0 & 1 & 0\\\\\n",
       "\t7036 & 0 & 1 & 0\\\\\n",
       "\t7037 & 1 & 0 & 0\\\\\n",
       "\t7038 & 0 & 0 & 1\\\\\n",
       "\t7039 & 1 & 0 & 0\\\\\n",
       "\t7040 & 0 & 1 & 0\\\\\n",
       "\t7041 & 1 & 0 & 0\\\\\n",
       "\t7042 & 0 & 1 & 0\\\\\n",
       "\t7043 & 0 & 1 & 0\\\\\n",
       "\\end{tabular}\n"
      ],
      "text/markdown": [
       "\n",
       "A matrix: 7043 x 3 of type dbl\n",
       "\n",
       "| <!--/--> | InternetService.DSL | InternetService.Fiber optic | InternetService.No |\n",
       "|---|---|---|---|\n",
       "| 1 | 1 | 0 | 0 |\n",
       "| 2 | 1 | 0 | 0 |\n",
       "| 3 | 1 | 0 | 0 |\n",
       "| 4 | 1 | 0 | 0 |\n",
       "| 5 | 0 | 1 | 0 |\n",
       "| 6 | 0 | 1 | 0 |\n",
       "| 7 | 0 | 1 | 0 |\n",
       "| 8 | 1 | 0 | 0 |\n",
       "| 9 | 0 | 1 | 0 |\n",
       "| 10 | 1 | 0 | 0 |\n",
       "| 11 | 1 | 0 | 0 |\n",
       "| 12 | 0 | 0 | 1 |\n",
       "| 13 | 0 | 1 | 0 |\n",
       "| 14 | 0 | 1 | 0 |\n",
       "| 15 | 0 | 1 | 0 |\n",
       "| 16 | 0 | 1 | 0 |\n",
       "| 17 | 0 | 0 | 1 |\n",
       "| 18 | 0 | 1 | 0 |\n",
       "| 19 | 1 | 0 | 0 |\n",
       "| 20 | 0 | 1 | 0 |\n",
       "| 21 | 1 | 0 | 0 |\n",
       "| 22 | 0 | 0 | 1 |\n",
       "| 23 | 0 | 0 | 1 |\n",
       "| 24 | 1 | 0 | 0 |\n",
       "| 25 | 1 | 0 | 0 |\n",
       "| 26 | 1 | 0 | 0 |\n",
       "| 27 | 0 | 1 | 0 |\n",
       "| 28 | 1 | 0 | 0 |\n",
       "| 29 | 1 | 0 | 0 |\n",
       "| 30 | 1 | 0 | 0 |\n",
       "| ... | ... | ... | ... |\n",
       "| 7014 | 0 | 1 | 0 |\n",
       "| 7015 | 0 | 1 | 0 |\n",
       "| 7016 | 0 | 1 | 0 |\n",
       "| 7017 | 1 | 0 | 0 |\n",
       "| 7018 | 0 | 0 | 1 |\n",
       "| 7019 | 0 | 1 | 0 |\n",
       "| 7020 | 0 | 0 | 1 |\n",
       "| 7021 | 0 | 0 | 1 |\n",
       "| 7022 | 1 | 0 | 0 |\n",
       "| 7023 | 0 | 1 | 0 |\n",
       "| 7024 | 0 | 1 | 0 |\n",
       "| 7025 | 0 | 1 | 0 |\n",
       "| 7026 | 0 | 1 | 0 |\n",
       "| 7027 | 1 | 0 | 0 |\n",
       "| 7028 | 1 | 0 | 0 |\n",
       "| 7029 | 1 | 0 | 0 |\n",
       "| 7030 | 1 | 0 | 0 |\n",
       "| 7031 | 0 | 0 | 1 |\n",
       "| 7032 | 1 | 0 | 0 |\n",
       "| 7033 | 0 | 1 | 0 |\n",
       "| 7034 | 0 | 1 | 0 |\n",
       "| 7035 | 0 | 1 | 0 |\n",
       "| 7036 | 0 | 1 | 0 |\n",
       "| 7037 | 1 | 0 | 0 |\n",
       "| 7038 | 0 | 0 | 1 |\n",
       "| 7039 | 1 | 0 | 0 |\n",
       "| 7040 | 0 | 1 | 0 |\n",
       "| 7041 | 1 | 0 | 0 |\n",
       "| 7042 | 0 | 1 | 0 |\n",
       "| 7043 | 0 | 1 | 0 |\n",
       "\n"
      ],
      "text/plain": [
       "     InternetService.DSL InternetService.Fiber optic InternetService.No\n",
       "1    1                   0                           0                 \n",
       "2    1                   0                           0                 \n",
       "3    1                   0                           0                 \n",
       "4    1                   0                           0                 \n",
       "5    0                   1                           0                 \n",
       "6    0                   1                           0                 \n",
       "7    0                   1                           0                 \n",
       "8    1                   0                           0                 \n",
       "9    0                   1                           0                 \n",
       "10   1                   0                           0                 \n",
       "11   1                   0                           0                 \n",
       "12   0                   0                           1                 \n",
       "13   0                   1                           0                 \n",
       "14   0                   1                           0                 \n",
       "15   0                   1                           0                 \n",
       "16   0                   1                           0                 \n",
       "17   0                   0                           1                 \n",
       "18   0                   1                           0                 \n",
       "19   1                   0                           0                 \n",
       "20   0                   1                           0                 \n",
       "21   1                   0                           0                 \n",
       "22   0                   0                           1                 \n",
       "23   0                   0                           1                 \n",
       "24   1                   0                           0                 \n",
       "25   1                   0                           0                 \n",
       "26   1                   0                           0                 \n",
       "27   0                   1                           0                 \n",
       "28   1                   0                           0                 \n",
       "29   1                   0                           0                 \n",
       "30   1                   0                           0                 \n",
       "...  ...                 ...                         ...               \n",
       "7014 0                   1                           0                 \n",
       "7015 0                   1                           0                 \n",
       "7016 0                   1                           0                 \n",
       "7017 1                   0                           0                 \n",
       "7018 0                   0                           1                 \n",
       "7019 0                   1                           0                 \n",
       "7020 0                   0                           1                 \n",
       "7021 0                   0                           1                 \n",
       "7022 1                   0                           0                 \n",
       "7023 0                   1                           0                 \n",
       "7024 0                   1                           0                 \n",
       "7025 0                   1                           0                 \n",
       "7026 0                   1                           0                 \n",
       "7027 1                   0                           0                 \n",
       "7028 1                   0                           0                 \n",
       "7029 1                   0                           0                 \n",
       "7030 1                   0                           0                 \n",
       "7031 0                   0                           1                 \n",
       "7032 1                   0                           0                 \n",
       "7033 0                   1                           0                 \n",
       "7034 0                   1                           0                 \n",
       "7035 0                   1                           0                 \n",
       "7036 0                   1                           0                 \n",
       "7037 1                   0                           0                 \n",
       "7038 0                   0                           1                 \n",
       "7039 1                   0                           0                 \n",
       "7040 0                   1                           0                 \n",
       "7041 1                   0                           0                 \n",
       "7042 0                   1                           0                 \n",
       "7043 0                   1                           0                 "
      ]
     },
     "metadata": {},
     "output_type": "display_data"
    }
   ],
   "source": [
    "predict(dummy, newdata = data1)"
   ]
  },
  {
   "cell_type": "code",
   "execution_count": 96,
   "id": "bf029e11-1378-453a-b41c-1aafebc13a21",
   "metadata": {},
   "outputs": [
    {
     "name": "stdout",
     "output_type": "stream",
     "text": [
      "'data.frame':\t7043 obs. of  25 variables:\n",
      " $ customerID                                                 : chr  \"7590-VHVEG\" \"5575-GNVDE\" \"3668-QPYBK\" \"7795-CFOCW\" ...\n",
      " $ gender                                                     : chr  \"Female\" \"Male\" \"Male\" \"Male\" ...\n",
      " $ SeniorCitizen                                              : int  0 0 0 0 0 0 0 0 0 0 ...\n",
      " $ Partner                                                    : chr  \"Yes\" \"No\" \"No\" \"No\" ...\n",
      " $ Dependents                                                 : chr  \"No\" \"No\" \"No\" \"No\" ...\n",
      " $ tenure                                                     : int  1 34 2 45 2 8 22 10 28 62 ...\n",
      " $ PhoneService                                               : chr  \"No\" \"Yes\" \"Yes\" \"No\" ...\n",
      " $ MultipleLines                                              : chr  \"No phone service\" \"No\" \"No\" \"No phone service\" ...\n",
      " $ InternetService                                            : Factor w/ 3 levels \"DSL\",\"Fiber optic\",..: 1 1 1 1 2 2 2 1 2 1 ...\n",
      " $ OnlineSecurity                                             : chr  \"No\" \"Yes\" \"Yes\" \"Yes\" ...\n",
      " $ OnlineBackup                                               : chr  \"Yes\" \"No\" \"Yes\" \"No\" ...\n",
      " $ DeviceProtection                                           : chr  \"No\" \"Yes\" \"No\" \"Yes\" ...\n",
      " $ TechSupport                                                : chr  \"No\" \"No\" \"No\" \"Yes\" ...\n",
      " $ StreamingTV                                                : chr  \"No\" \"No\" \"No\" \"No\" ...\n",
      " $ StreamingMovies                                            : chr  \"No\" \"No\" \"No\" \"No\" ...\n",
      " $ Contract                                                   : chr  \"Month-to-month\" \"One year\" \"Month-to-month\" \"One year\" ...\n",
      " $ PaperlessBilling                                           : chr  \"Yes\" \"No\" \"Yes\" \"No\" ...\n",
      " $ PaymentMethod                                              : chr  \"Electronic check\" \"Mailed check\" \"Mailed check\" \"Bank transfer (automatic)\" ...\n",
      " $ MonthlyCharges                                             : num  29.9 57 53.9 42.3 70.7 ...\n",
      " $ TotalCharges                                               : num  29.9 1889.5 108.2 1840.8 151.7 ...\n",
      " $ Churn                                                      : chr  \"No\" \"No\" \"Yes\" \"No\" ...\n",
      " $ TotalCharges - ifelse(is.na(TotalCharges), 0, TotalCharges): num  0 0 0 0 0 0 0 0 0 0 ...\n",
      " $ TotalNorm                                                  : num  0.00344 0.21756 0.01245 0.21195 0.01746 ...\n",
      " $ TotalStand                                                 : num  -0.993 -0.172 -0.958 -0.194 -0.939 ...\n",
      " $ M2T                                                        : num  1 0.03 0.5 0.02 0.47 0.12 0.05 0.1 0.03 0.02 ...\n"
     ]
    }
   ],
   "source": [
    "str(data)"
   ]
  },
  {
   "cell_type": "code",
   "execution_count": 98,
   "id": "d7f6b997-e63e-4c0a-aebd-5dfed99e25d5",
   "metadata": {},
   "outputs": [
    {
     "data": {
      "image/png": "[encoded data removed]",
      "text/plain": [
       "plot without title"
      ]
     },
     "metadata": {
      "image/png": {
       "height": 420,
       "width": 420
      }
     },
     "output_type": "display_data"
    }
   ],
   "source": [
    "bar <- ggplot(data, aes(x = gender, fill=gender)) +\n",
    "     geom_bar()\n",
    "bar"
   ]
  },
  {
   "cell_type": "code",
   "execution_count": 105,
   "id": "2e5041f5-8454-4a70-9128-0cd225afaf9c",
   "metadata": {},
   "outputs": [
    {
     "data": {
      "image/png": "[encoded data removed]",
      "text/plain": [
       "plot without title"
      ]
     },
     "metadata": {
      "image/png": {
       "height": 420,
       "width": 420
      }
     },
     "output_type": "display_data"
    }
   ],
   "source": [
    "ggplot(data, aes(TotalCharges, StreamingMovies)) + geom_boxplot()"
   ]
  },
  {
   "cell_type": "code",
   "execution_count": 106,
   "id": "079c4a71-e001-4924-b4ad-9f5d6d8d6273",
   "metadata": {},
   "outputs": [
    {
     "name": "stderr",
     "output_type": "stream",
     "text": [
      "also installing the dependencies 'checkmate', 'htmlTable', 'viridis', 'Formula'\n",
      "\n",
      "\n"
     ]
    },
    {
     "name": "stdout",
     "output_type": "stream",
     "text": [
      "\n",
      "  There are binary versions available but the source versions are later:\n",
      "          binary source needs_compilation\n",
      "checkmate  2.1.0  2.3.1              TRUE\n",
      "htmlTable  2.4.1  2.4.2             FALSE\n",
      "viridis    0.6.2  0.6.5             FALSE\n",
      "Hmisc      5.0-1  5.1-2              TRUE\n",
      "\n",
      "  Binaries will be installed\n",
      "package 'checkmate' successfully unpacked and MD5 sums checked\n",
      "package 'Formula' successfully unpacked and MD5 sums checked\n",
      "package 'Hmisc' successfully unpacked and MD5 sums checked\n",
      "\n",
      "The downloaded binary packages are in\n",
      "\tG:\\Temp\\Rtmpu4oTJw\\downloaded_packages\n"
     ]
    },
    {
     "name": "stderr",
     "output_type": "stream",
     "text": [
      "installing the source packages 'htmlTable', 'viridis'\n",
      "\n",
      "\n"
     ]
    }
   ],
   "source": [
    "#install.packages(\"Hmisc\")"
   ]
  },
  {
   "cell_type": "code",
   "execution_count": 108,
   "id": "80c2187b-a881-453c-a811-728f7aed3cdb",
   "metadata": {},
   "outputs": [],
   "source": [
    "library(Hmisc)"
   ]
  },
  {
   "cell_type": "code",
   "execution_count": 110,
   "id": "d035d608-057e-4928-82c7-a378fab9179d",
   "metadata": {},
   "outputs": [
    {
     "name": "stderr",
     "output_type": "stream",
     "text": [
      "Warning message in w * sort(x - mean(x)):\n",
      "\"longer object length is not a multiple of shorter object length\"\n"
     ]
    },
    {
     "data": {
      "text/plain": [
       "data \n",
       "\n",
       " 25  Variables      7043  Observations\n",
       "--------------------------------------------------------------------------------\n",
       "customerID \n",
       "       n  missing distinct \n",
       "    7043        0     7043 \n",
       "\n",
       "lowest : 0002-ORFBO 0003-MKNFE 0004-TLHLJ 0011-IGKFF 0013-EXCHZ\n",
       "highest: 9987-LUTYD 9992-RRAMN 9992-UJOEL 9993-LHIEB 9995-HOTOH\n",
       "--------------------------------------------------------------------------------\n",
       "gender \n",
       "       n  missing distinct \n",
       "    7043        0        2 \n",
       "                        \n",
       "Value      Female   Male\n",
       "Frequency    3488   3555\n",
       "Proportion  0.495  0.505\n",
       "--------------------------------------------------------------------------------\n",
       "SeniorCitizen \n",
       "       n  missing distinct     Info      Sum     Mean      Gmd \n",
       "    7043        0        2    0.408     1142   0.1621   0.2717 \n",
       "\n",
       "--------------------------------------------------------------------------------\n",
       "Partner \n",
       "       n  missing distinct \n",
       "    7043        0        2 \n",
       "                      \n",
       "Value         No   Yes\n",
       "Frequency   3641  3402\n",
       "Proportion 0.517 0.483\n",
       "--------------------------------------------------------------------------------\n",
       "Dependents \n",
       "       n  missing distinct \n",
       "    7043        0        2 \n",
       "                    \n",
       "Value        No  Yes\n",
       "Frequency  4933 2110\n",
       "Proportion  0.7  0.3\n",
       "--------------------------------------------------------------------------------\n",
       "tenure \n",
       "       n  missing distinct     Info     Mean      Gmd      .05      .10 \n",
       "    7043        0       73    0.999    32.37    28.08        1        2 \n",
       "     .25      .50      .75      .90      .95 \n",
       "       9       29       55       69       72 \n",
       "\n",
       "lowest :  0  1  2  3  4, highest: 68 69 70 71 72\n",
       "--------------------------------------------------------------------------------\n",
       "PhoneService \n",
       "       n  missing distinct \n",
       "    7043        0        2 \n",
       "                      \n",
       "Value         No   Yes\n",
       "Frequency    682  6361\n",
       "Proportion 0.097 0.903\n",
       "--------------------------------------------------------------------------------\n",
       "MultipleLines \n",
       "       n  missing distinct \n",
       "    7043        0        3 \n",
       "                                                             \n",
       "Value                    No No phone service              Yes\n",
       "Frequency              3390              682             2971\n",
       "Proportion            0.481            0.097            0.422\n",
       "--------------------------------------------------------------------------------\n",
       "InternetService \n",
       "       n  missing distinct \n",
       "    7043        0        3 \n",
       "                                              \n",
       "Value              DSL Fiber optic          No\n",
       "Frequency         2421        3096        1526\n",
       "Proportion       0.344       0.440       0.217\n",
       "--------------------------------------------------------------------------------\n",
       "OnlineSecurity \n",
       "       n  missing distinct \n",
       "    7043        0        3 \n",
       "                                                                      \n",
       "Value                       No No internet service                 Yes\n",
       "Frequency                 3498                1526                2019\n",
       "Proportion               0.497               0.217               0.287\n",
       "--------------------------------------------------------------------------------\n",
       "OnlineBackup \n",
       "       n  missing distinct \n",
       "    7043        0        3 \n",
       "                                                                      \n",
       "Value                       No No internet service                 Yes\n",
       "Frequency                 3088                1526                2429\n",
       "Proportion               0.438               0.217               0.345\n",
       "--------------------------------------------------------------------------------\n",
       "DeviceProtection \n",
       "       n  missing distinct \n",
       "    7043        0        3 \n",
       "                                                                      \n",
       "Value                       No No internet service                 Yes\n",
       "Frequency                 3095                1526                2422\n",
       "Proportion               0.439               0.217               0.344\n",
       "--------------------------------------------------------------------------------\n",
       "TechSupport \n",
       "       n  missing distinct \n",
       "    7043        0        3 \n",
       "                                                                      \n",
       "Value                       No No internet service                 Yes\n",
       "Frequency                 3473                1526                2044\n",
       "Proportion               0.493               0.217               0.290\n",
       "--------------------------------------------------------------------------------\n",
       "StreamingTV \n",
       "       n  missing distinct \n",
       "    7043        0        3 \n",
       "                                                                      \n",
       "Value                       No No internet service                 Yes\n",
       "Frequency                 2810                1526                2707\n",
       "Proportion               0.399               0.217               0.384\n",
       "--------------------------------------------------------------------------------\n",
       "StreamingMovies \n",
       "       n  missing distinct \n",
       "    7043        0        3 \n",
       "                                                                      \n",
       "Value                       No No internet service                 Yes\n",
       "Frequency                 2785                1526                2732\n",
       "Proportion               0.395               0.217               0.388\n",
       "--------------------------------------------------------------------------------\n",
       "Contract \n",
       "       n  missing distinct \n",
       "    7043        0        3 \n",
       "                                                       \n",
       "Value      Month-to-month       One year       Two year\n",
       "Frequency            3875           1473           1695\n",
       "Proportion          0.550          0.209          0.241\n",
       "--------------------------------------------------------------------------------\n",
       "PaperlessBilling \n",
       "       n  missing distinct \n",
       "    7043        0        2 \n",
       "                      \n",
       "Value         No   Yes\n",
       "Frequency   2872  4171\n",
       "Proportion 0.408 0.592\n",
       "--------------------------------------------------------------------------------\n",
       "PaymentMethod \n",
       "       n  missing distinct \n",
       "    7043        0        4 \n",
       "                                                              \n",
       "Value      Bank transfer (automatic)   Credit card (automatic)\n",
       "Frequency                       1544                      1522\n",
       "Proportion                     0.219                     0.216\n",
       "                                                              \n",
       "Value               Electronic check              Mailed check\n",
       "Frequency                       2365                      1612\n",
       "Proportion                     0.336                     0.229\n",
       "--------------------------------------------------------------------------------\n",
       "MonthlyCharges \n",
       "       n  missing distinct     Info     Mean      Gmd      .05      .10 \n",
       "    7043        0     1585        1    64.76    34.39    19.65    20.05 \n",
       "     .25      .50      .75      .90      .95 \n",
       "   35.50    70.35    89.85   102.60   107.40 \n",
       "\n",
       "lowest :  18.25  18.40  18.55  18.70  18.75, highest: 118.20 118.35 118.60 118.65 118.75\n",
       "--------------------------------------------------------------------------------\n",
       "TotalCharges \n",
       "       n  missing distinct     Info     Mean      Gmd      .05      .10 \n",
       "    7043        0     6531        1     2280     2449    48.60    83.47 \n",
       "     .25      .50      .75      .90      .95 \n",
       "  398.55  1394.55  3786.60  5973.69  6921.02 \n",
       "\n",
       "lowest :    0.00   18.80   18.85   18.90   19.00\n",
       "highest: 8564.75 8594.40 8670.10 8672.45 8684.80\n",
       "--------------------------------------------------------------------------------\n",
       "Churn \n",
       "       n  missing distinct \n",
       "    7043        0        2 \n",
       "                      \n",
       "Value         No   Yes\n",
       "Frequency   5174  1869\n",
       "Proportion 0.735 0.265\n",
       "--------------------------------------------------------------------------------\n",
       "TotalCharges - ifelse(is.na(TotalCharges), 0, TotalCharges) \n",
       "       n  missing distinct     Info     Mean      Gmd \n",
       "    7032       11        1        0        0        0 \n",
       "               \n",
       "Value         0\n",
       "Frequency  7032\n",
       "Proportion    1\n",
       "--------------------------------------------------------------------------------\n",
       "TotalNorm \n",
       "       n  missing distinct     Info     Mean      Gmd      .05      .10 \n",
       "    7043        0     6531        1   0.2625    0.282 0.005596 0.009611 \n",
       "     .25      .50      .75      .90      .95 \n",
       "0.045891 0.160574 0.436003 0.687833 0.796912 \n",
       "\n",
       "lowest : 0.000000000 0.002164702 0.002170459 0.002176216 0.002187730\n",
       "highest: 0.986176999 0.989591010 0.998307388 0.998577975 1.000000000\n",
       "--------------------------------------------------------------------------------\n",
       "TotalStand \n",
       "        n   missing  distinct      Info      Mean       Gmd       .05       .10 \n",
       "     7043         0      6531         1 -3.91e-17      1.08   -0.9843   -0.9689 \n",
       "      .25       .50       .75       .90       .95 \n",
       "  -0.8299   -0.3905    0.6648    1.6296    2.0475 \n",
       "\n",
       "lowest : -1.0057084 -0.9974148 -0.9973927 -0.9973707 -0.9973265\n",
       "highest:  2.7726447  2.7857249  2.8191200  2.8201567  2.8256050\n",
       "--------------------------------------------------------------------------------\n",
       "M2T \n",
       "       n  missing distinct     Info     Mean      Gmd      .05      .10 \n",
       "    7043        0       71    0.977      Inf      NaN     0.01     0.01 \n",
       "     .25      .50      .75      .90      .95 \n",
       "    0.02     0.03     0.11     0.53     1.00 \n",
       "\n",
       "lowest : 0.01 0.02 0.03 0.04 0.05, highest: 0.68 0.70 0.71 1.00  Inf\n",
       "--------------------------------------------------------------------------------"
      ]
     },
     "metadata": {},
     "output_type": "display_data"
    }
   ],
   "source": [
    "describe(data)"
   ]
  },
  {
   "cell_type": "code",
   "execution_count": 112,
   "id": "ee099d41-aeea-4760-b14f-1083a379b376",
   "metadata": {},
   "outputs": [
    {
     "name": "stdout",
     "output_type": "stream",
     "text": [
      "\n",
      "  There is a binary version available but the source version is later:\n",
      "      binary source needs_compilation\n",
      "psych  2.3.3  2.4.3             FALSE\n",
      "\n"
     ]
    },
    {
     "name": "stderr",
     "output_type": "stream",
     "text": [
      "installing the source package 'psych'\n",
      "\n",
      "\n"
     ]
    }
   ],
   "source": [
    "#install.packages(\"psych\")"
   ]
  },
  {
   "cell_type": "code",
   "execution_count": 114,
   "id": "e5ddf7ce-4bf0-4e9a-87fd-f14257e8df5f",
   "metadata": {},
   "outputs": [],
   "source": [
    "library(psych)"
   ]
  },
  {
   "cell_type": "code",
   "execution_count": 115,
   "id": "83268bbd-2f28-4a1c-a859-2cbf8734a67d",
   "metadata": {},
   "outputs": [
    {
     "data": {
      "text/html": [
       "<table class=\"dataframe\">\n",
       "<caption>A psych: 25 x 13</caption>\n",
       "<thead>\n",
       "\t<tr><th></th><th scope=col>vars</th><th scope=col>n</th><th scope=col>mean</th><th scope=col>sd</th><th scope=col>median</th><th scope=col>trimmed</th><th scope=col>mad</th><th scope=col>min</th><th scope=col>max</th><th scope=col>range</th><th scope=col>skew</th><th scope=col>kurtosis</th><th scope=col>se</th></tr>\n",
       "\t<tr><th></th><th scope=col>&lt;int&gt;</th><th scope=col>&lt;dbl&gt;</th><th scope=col>&lt;dbl&gt;</th><th scope=col>&lt;dbl&gt;</th><th scope=col>&lt;dbl&gt;</th><th scope=col>&lt;dbl&gt;</th><th scope=col>&lt;dbl&gt;</th><th scope=col>&lt;dbl&gt;</th><th scope=col>&lt;dbl&gt;</th><th scope=col>&lt;dbl&gt;</th><th scope=col>&lt;dbl&gt;</th><th scope=col>&lt;dbl&gt;</th><th scope=col>&lt;dbl&gt;</th></tr>\n",
       "</thead>\n",
       "<tbody>\n",
       "\t<tr><th scope=row>customerID*</th><td> 1</td><td>7043</td><td> 3.522000e+03</td><td>2033.2833054</td><td>3522.0000000</td><td>3522.00000000</td><td>2610.8586000</td><td> 1.000000</td><td>7043.000000</td><td>7042.000000</td><td> 0.00000000</td><td>-1.2005112</td><td>24.228082879</td></tr>\n",
       "\t<tr><th scope=row>gender*</th><td> 2</td><td>7043</td><td> 1.504756e+00</td><td>   0.5000129</td><td>   2.0000000</td><td>   1.50594499</td><td>   0.0000000</td><td> 1.000000</td><td>   2.000000</td><td>   1.000000</td><td>-0.01902279</td><td>-1.9999220</td><td> 0.005958025</td></tr>\n",
       "\t<tr><th scope=row>SeniorCitizen</th><td> 3</td><td>7043</td><td> 1.621468e-01</td><td>   0.3686116</td><td>   0.0000000</td><td>   0.07772848</td><td>   0.0000000</td><td> 0.000000</td><td>   1.000000</td><td>   1.000000</td><td> 1.83285177</td><td> 1.3595387</td><td> 0.004392281</td></tr>\n",
       "\t<tr><th scope=row>Partner*</th><td> 4</td><td>7043</td><td> 1.483033e+00</td><td>   0.4997475</td><td>   1.0000000</td><td>   1.47879326</td><td>   0.0000000</td><td> 1.000000</td><td>   2.000000</td><td>   1.000000</td><td> 0.06789345</td><td>-1.9956738</td><td> 0.005954863</td></tr>\n",
       "\t<tr><th scope=row>Dependents*</th><td> 5</td><td>7043</td><td> 1.299588e+00</td><td>   0.4581102</td><td>   1.0000000</td><td>   1.24951198</td><td>   0.0000000</td><td> 1.000000</td><td>   2.000000</td><td>   1.000000</td><td> 0.87482582</td><td>-1.2348551</td><td> 0.005458723</td></tr>\n",
       "\t<tr><th scope=row>tenure</th><td> 6</td><td>7043</td><td> 3.237115e+01</td><td>  24.5594810</td><td>  29.0000000</td><td>  31.42786158</td><td>  32.6172000</td><td> 0.000000</td><td>  72.000000</td><td>  72.000000</td><td> 0.23943773</td><td>-1.3876966</td><td> 0.292644483</td></tr>\n",
       "\t<tr><th scope=row>PhoneService*</th><td> 7</td><td>7043</td><td> 1.903166e+00</td><td>   0.2957522</td><td>   2.0000000</td><td>   2.00000000</td><td>   0.0000000</td><td> 1.000000</td><td>   2.000000</td><td>   1.000000</td><td>-2.72599140</td><td> 5.4318004</td><td> 0.003524108</td></tr>\n",
       "\t<tr><th scope=row>MultipleLines*</th><td> 8</td><td>7043</td><td> 1.940508e+00</td><td>   0.9485540</td><td>   2.0000000</td><td>   1.92564330</td><td>   1.4826000</td><td> 1.000000</td><td>   3.000000</td><td>   2.000000</td><td> 0.11866889</td><td>-1.8782148</td><td> 0.011302727</td></tr>\n",
       "\t<tr><th scope=row>InternetService*</th><td> 9</td><td>7043</td><td> 1.872923e+00</td><td>   0.7377963</td><td>   2.0000000</td><td>   1.84117125</td><td>   1.4826000</td><td> 1.000000</td><td>   3.000000</td><td>   2.000000</td><td> 0.20533596</td><td>-1.1460705</td><td> 0.008791392</td></tr>\n",
       "\t<tr><th scope=row>OnlineSecurity*</th><td>10</td><td>7043</td><td> 1.790004e+00</td><td>   0.8598475</td><td>   2.0000000</td><td>   1.73753327</td><td>   1.4826000</td><td> 1.000000</td><td>   3.000000</td><td>   2.000000</td><td> 0.41680747</td><td>-1.5211578</td><td> 0.010245723</td></tr>\n",
       "\t<tr><th scope=row>OnlineBackup*</th><td>11</td><td>7043</td><td> 1.906432e+00</td><td>   0.8801625</td><td>   2.0000000</td><td>   1.88305235</td><td>   1.4826000</td><td> 1.000000</td><td>   3.000000</td><td>   2.000000</td><td> 0.18285247</td><td>-1.6849210</td><td> 0.010487790</td></tr>\n",
       "\t<tr><th scope=row>DeviceProtection*</th><td>12</td><td>7043</td><td> 1.904444e+00</td><td>   0.8799489</td><td>   2.0000000</td><td>   1.88056788</td><td>   1.4826000</td><td> 1.000000</td><td>   3.000000</td><td>   2.000000</td><td> 0.18676763</td><td>-1.6832382</td><td> 0.010485245</td></tr>\n",
       "\t<tr><th scope=row>TechSupport*</th><td>13</td><td>7043</td><td> 1.797104e+00</td><td>   0.8615506</td><td>   2.0000000</td><td>   1.74640639</td><td>   1.4826000</td><td> 1.000000</td><td>   3.000000</td><td>   2.000000</td><td> 0.40219313</td><td>-1.5351795</td><td> 0.010266016</td></tr>\n",
       "\t<tr><th scope=row>StreamingTV*</th><td>14</td><td>7043</td><td> 1.985376e+00</td><td>   0.8850019</td><td>   2.0000000</td><td>   1.98172138</td><td>   1.4826000</td><td> 1.000000</td><td>   3.000000</td><td>   2.000000</td><td> 0.02847350</td><td>-1.7228219</td><td> 0.010545455</td></tr>\n",
       "\t<tr><th scope=row>StreamingMovies*</th><td>15</td><td>7043</td><td> 1.992475e+00</td><td>   0.8850907</td><td>   2.0000000</td><td>   1.99059450</td><td>   1.4826000</td><td> 1.000000</td><td>   3.000000</td><td>   2.000000</td><td> 0.01465041</td><td>-1.7235138</td><td> 0.010546514</td></tr>\n",
       "\t<tr><th scope=row>Contract*</th><td>16</td><td>7043</td><td> 1.690473e+00</td><td>   0.8337552</td><td>   1.0000000</td><td>   1.61313221</td><td>   0.0000000</td><td> 1.000000</td><td>   3.000000</td><td>   2.000000</td><td> 0.63069036</td><td>-1.2726490</td><td> 0.009934814</td></tr>\n",
       "\t<tr><th scope=row>PaperlessBilling*</th><td>17</td><td>7043</td><td> 1.592219e+00</td><td>   0.4914569</td><td>   2.0000000</td><td>   1.61526176</td><td>   0.0000000</td><td> 1.000000</td><td>   2.000000</td><td>   1.000000</td><td>-0.37523586</td><td>-1.8594620</td><td> 0.005856075</td></tr>\n",
       "\t<tr><th scope=row>PaymentMethod*</th><td>18</td><td>7043</td><td> 2.574329e+00</td><td>   1.0681040</td><td>   3.0000000</td><td>   2.59290151</td><td>   1.4826000</td><td> 1.000000</td><td>   4.000000</td><td>   3.000000</td><td>-0.17005696</td><td>-1.2122656</td><td> 0.012727254</td></tr>\n",
       "\t<tr><th scope=row>MonthlyCharges</th><td>19</td><td>7043</td><td> 6.476169e+01</td><td>  30.0900471</td><td>  70.3500000</td><td>  64.96565217</td><td>  35.6565300</td><td>18.250000</td><td> 118.750000</td><td> 100.500000</td><td>-0.22043051</td><td>-1.2577140</td><td> 0.358545291</td></tr>\n",
       "\t<tr><th scope=row>TotalCharges</th><td>20</td><td>7043</td><td> 2.279734e+03</td><td>2266.7944697</td><td>1394.5500000</td><td>1966.08227152</td><td>1813.3680600</td><td> 0.000000</td><td>8684.800000</td><td>8684.800000</td><td> 0.96282440</td><td>-0.2300561</td><td>27.010542080</td></tr>\n",
       "\t<tr><th scope=row>Churn*</th><td>21</td><td>7043</td><td> 1.265370e+00</td><td>   0.4415613</td><td>   1.0000000</td><td>   1.20674357</td><td>   0.0000000</td><td> 1.000000</td><td>   2.000000</td><td>   1.000000</td><td> 1.06257868</td><td>-0.8710502</td><td> 0.005261531</td></tr>\n",
       "\t<tr><th scope=row>TotalCharges - ifelse(is.na(TotalCharges), 0, TotalCharges)</th><td>22</td><td>7032</td><td> 0.000000e+00</td><td>   0.0000000</td><td>   0.0000000</td><td>   0.00000000</td><td>   0.0000000</td><td> 0.000000</td><td>   0.000000</td><td>   0.000000</td><td>        NaN</td><td>       NaN</td><td> 0.000000000</td></tr>\n",
       "\t<tr><th scope=row>TotalNorm</th><td>23</td><td>7043</td><td> 2.624970e-01</td><td>   0.2610071</td><td>   0.1605736</td><td>   0.22638199</td><td>   0.2087979</td><td> 0.000000</td><td>   1.000000</td><td>   1.000000</td><td> 0.96282440</td><td>-0.2300561</td><td> 0.003110094</td></tr>\n",
       "\t<tr><th scope=row>TotalStand</th><td>24</td><td>7043</td><td>-3.893054e-17</td><td>   1.0000000</td><td>  -0.3905005</td><td>  -0.13836809</td><td>   0.7999702</td><td>-1.005708</td><td>   2.825605</td><td>   3.831313</td><td> 0.96282440</td><td>-0.2300561</td><td> 0.011915744</td></tr>\n",
       "\t<tr><th scope=row>M2T</th><td>25</td><td>7043</td><td>          Inf</td><td>         NaN</td><td>   0.0300000</td><td>   0.07837977</td><td>   0.0296520</td><td> 0.010000</td><td>        Inf</td><td>        Inf</td><td>        NaN</td><td>       NaN</td><td>         NaN</td></tr>\n",
       "</tbody>\n",
       "</table>\n"
      ],
      "text/latex": [
       "A psych: 25 x 13\n",
       "\\begin{tabular}{r|lllllllllllll}\n",
       "  & vars & n & mean & sd & median & trimmed & mad & min & max & range & skew & kurtosis & se\\\\\n",
       "  & <int> & <dbl> & <dbl> & <dbl> & <dbl> & <dbl> & <dbl> & <dbl> & <dbl> & <dbl> & <dbl> & <dbl> & <dbl>\\\\\n",
       "\\hline\n",
       "\tcustomerID* &  1 & 7043 &  3.522000e+03 & 2033.2833054 & 3522.0000000 & 3522.00000000 & 2610.8586000 &  1.000000 & 7043.000000 & 7042.000000 &  0.00000000 & -1.2005112 & 24.228082879\\\\\n",
       "\tgender* &  2 & 7043 &  1.504756e+00 &    0.5000129 &    2.0000000 &    1.50594499 &    0.0000000 &  1.000000 &    2.000000 &    1.000000 & -0.01902279 & -1.9999220 &  0.005958025\\\\\n",
       "\tSeniorCitizen &  3 & 7043 &  1.621468e-01 &    0.3686116 &    0.0000000 &    0.07772848 &    0.0000000 &  0.000000 &    1.000000 &    1.000000 &  1.83285177 &  1.3595387 &  0.004392281\\\\\n",
       "\tPartner* &  4 & 7043 &  1.483033e+00 &    0.4997475 &    1.0000000 &    1.47879326 &    0.0000000 &  1.000000 &    2.000000 &    1.000000 &  0.06789345 & -1.9956738 &  0.005954863\\\\\n",
       "\tDependents* &  5 & 7043 &  1.299588e+00 &    0.4581102 &    1.0000000 &    1.24951198 &    0.0000000 &  1.000000 &    2.000000 &    1.000000 &  0.87482582 & -1.2348551 &  0.005458723\\\\\n",
       "\ttenure &  6 & 7043 &  3.237115e+01 &   24.5594810 &   29.0000000 &   31.42786158 &   32.6172000 &  0.000000 &   72.000000 &   72.000000 &  0.23943773 & -1.3876966 &  0.292644483\\\\\n",
       "\tPhoneService* &  7 & 7043 &  1.903166e+00 &    0.2957522 &    2.0000000 &    2.00000000 &    0.0000000 &  1.000000 &    2.000000 &    1.000000 & -2.72599140 &  5.4318004 &  0.003524108\\\\\n",
       "\tMultipleLines* &  8 & 7043 &  1.940508e+00 &    0.9485540 &    2.0000000 &    1.92564330 &    1.4826000 &  1.000000 &    3.000000 &    2.000000 &  0.11866889 & -1.8782148 &  0.011302727\\\\\n",
       "\tInternetService* &  9 & 7043 &  1.872923e+00 &    0.7377963 &    2.0000000 &    1.84117125 &    1.4826000 &  1.000000 &    3.000000 &    2.000000 &  0.20533596 & -1.1460705 &  0.008791392\\\\\n",
       "\tOnlineSecurity* & 10 & 7043 &  1.790004e+00 &    0.8598475 &    2.0000000 &    1.73753327 &    1.4826000 &  1.000000 &    3.000000 &    2.000000 &  0.41680747 & -1.5211578 &  0.010245723\\\\\n",
       "\tOnlineBackup* & 11 & 7043 &  1.906432e+00 &    0.8801625 &    2.0000000 &    1.88305235 &    1.4826000 &  1.000000 &    3.000000 &    2.000000 &  0.18285247 & -1.6849210 &  0.010487790\\\\\n",
       "\tDeviceProtection* & 12 & 7043 &  1.904444e+00 &    0.8799489 &    2.0000000 &    1.88056788 &    1.4826000 &  1.000000 &    3.000000 &    2.000000 &  0.18676763 & -1.6832382 &  0.010485245\\\\\n",
       "\tTechSupport* & 13 & 7043 &  1.797104e+00 &    0.8615506 &    2.0000000 &    1.74640639 &    1.4826000 &  1.000000 &    3.000000 &    2.000000 &  0.40219313 & -1.5351795 &  0.010266016\\\\\n",
       "\tStreamingTV* & 14 & 7043 &  1.985376e+00 &    0.8850019 &    2.0000000 &    1.98172138 &    1.4826000 &  1.000000 &    3.000000 &    2.000000 &  0.02847350 & -1.7228219 &  0.010545455\\\\\n",
       "\tStreamingMovies* & 15 & 7043 &  1.992475e+00 &    0.8850907 &    2.0000000 &    1.99059450 &    1.4826000 &  1.000000 &    3.000000 &    2.000000 &  0.01465041 & -1.7235138 &  0.010546514\\\\\n",
       "\tContract* & 16 & 7043 &  1.690473e+00 &    0.8337552 &    1.0000000 &    1.61313221 &    0.0000000 &  1.000000 &    3.000000 &    2.000000 &  0.63069036 & -1.2726490 &  0.009934814\\\\\n",
       "\tPaperlessBilling* & 17 & 7043 &  1.592219e+00 &    0.4914569 &    2.0000000 &    1.61526176 &    0.0000000 &  1.000000 &    2.000000 &    1.000000 & -0.37523586 & -1.8594620 &  0.005856075\\\\\n",
       "\tPaymentMethod* & 18 & 7043 &  2.574329e+00 &    1.0681040 &    3.0000000 &    2.59290151 &    1.4826000 &  1.000000 &    4.000000 &    3.000000 & -0.17005696 & -1.2122656 &  0.012727254\\\\\n",
       "\tMonthlyCharges & 19 & 7043 &  6.476169e+01 &   30.0900471 &   70.3500000 &   64.96565217 &   35.6565300 & 18.250000 &  118.750000 &  100.500000 & -0.22043051 & -1.2577140 &  0.358545291\\\\\n",
       "\tTotalCharges & 20 & 7043 &  2.279734e+03 & 2266.7944697 & 1394.5500000 & 1966.08227152 & 1813.3680600 &  0.000000 & 8684.800000 & 8684.800000 &  0.96282440 & -0.2300561 & 27.010542080\\\\\n",
       "\tChurn* & 21 & 7043 &  1.265370e+00 &    0.4415613 &    1.0000000 &    1.20674357 &    0.0000000 &  1.000000 &    2.000000 &    1.000000 &  1.06257868 & -0.8710502 &  0.005261531\\\\\n",
       "\tTotalCharges - ifelse(is.na(TotalCharges), 0, TotalCharges) & 22 & 7032 &  0.000000e+00 &    0.0000000 &    0.0000000 &    0.00000000 &    0.0000000 &  0.000000 &    0.000000 &    0.000000 &         NaN &        NaN &  0.000000000\\\\\n",
       "\tTotalNorm & 23 & 7043 &  2.624970e-01 &    0.2610071 &    0.1605736 &    0.22638199 &    0.2087979 &  0.000000 &    1.000000 &    1.000000 &  0.96282440 & -0.2300561 &  0.003110094\\\\\n",
       "\tTotalStand & 24 & 7043 & -3.893054e-17 &    1.0000000 &   -0.3905005 &   -0.13836809 &    0.7999702 & -1.005708 &    2.825605 &    3.831313 &  0.96282440 & -0.2300561 &  0.011915744\\\\\n",
       "\tM2T & 25 & 7043 &           Inf &          NaN &    0.0300000 &    0.07837977 &    0.0296520 &  0.010000 &         Inf &         Inf &         NaN &        NaN &          NaN\\\\\n",
       "\\end{tabular}\n"
      ],
      "text/markdown": [
       "\n",
       "A psych: 25 x 13\n",
       "\n",
       "| <!--/--> | vars &lt;int&gt; | n &lt;dbl&gt; | mean &lt;dbl&gt; | sd &lt;dbl&gt; | median &lt;dbl&gt; | trimmed &lt;dbl&gt; | mad &lt;dbl&gt; | min &lt;dbl&gt; | max &lt;dbl&gt; | range &lt;dbl&gt; | skew &lt;dbl&gt; | kurtosis &lt;dbl&gt; | se &lt;dbl&gt; |\n",
       "|---|---|---|---|---|---|---|---|---|---|---|---|---|---|\n",
       "| customerID* |  1 | 7043 |  3.522000e+03 | 2033.2833054 | 3522.0000000 | 3522.00000000 | 2610.8586000 |  1.000000 | 7043.000000 | 7042.000000 |  0.00000000 | -1.2005112 | 24.228082879 |\n",
       "| gender* |  2 | 7043 |  1.504756e+00 |    0.5000129 |    2.0000000 |    1.50594499 |    0.0000000 |  1.000000 |    2.000000 |    1.000000 | -0.01902279 | -1.9999220 |  0.005958025 |\n",
       "| SeniorCitizen |  3 | 7043 |  1.621468e-01 |    0.3686116 |    0.0000000 |    0.07772848 |    0.0000000 |  0.000000 |    1.000000 |    1.000000 |  1.83285177 |  1.3595387 |  0.004392281 |\n",
       "| Partner* |  4 | 7043 |  1.483033e+00 |    0.4997475 |    1.0000000 |    1.47879326 |    0.0000000 |  1.000000 |    2.000000 |    1.000000 |  0.06789345 | -1.9956738 |  0.005954863 |\n",
       "| Dependents* |  5 | 7043 |  1.299588e+00 |    0.4581102 |    1.0000000 |    1.24951198 |    0.0000000 |  1.000000 |    2.000000 |    1.000000 |  0.87482582 | -1.2348551 |  0.005458723 |\n",
       "| tenure |  6 | 7043 |  3.237115e+01 |   24.5594810 |   29.0000000 |   31.42786158 |   32.6172000 |  0.000000 |   72.000000 |   72.000000 |  0.23943773 | -1.3876966 |  0.292644483 |\n",
       "| PhoneService* |  7 | 7043 |  1.903166e+00 |    0.2957522 |    2.0000000 |    2.00000000 |    0.0000000 |  1.000000 |    2.000000 |    1.000000 | -2.72599140 |  5.4318004 |  0.003524108 |\n",
       "| MultipleLines* |  8 | 7043 |  1.940508e+00 |    0.9485540 |    2.0000000 |    1.92564330 |    1.4826000 |  1.000000 |    3.000000 |    2.000000 |  0.11866889 | -1.8782148 |  0.011302727 |\n",
       "| InternetService* |  9 | 7043 |  1.872923e+00 |    0.7377963 |    2.0000000 |    1.84117125 |    1.4826000 |  1.000000 |    3.000000 |    2.000000 |  0.20533596 | -1.1460705 |  0.008791392 |\n",
       "| OnlineSecurity* | 10 | 7043 |  1.790004e+00 |    0.8598475 |    2.0000000 |    1.73753327 |    1.4826000 |  1.000000 |    3.000000 |    2.000000 |  0.41680747 | -1.5211578 |  0.010245723 |\n",
       "| OnlineBackup* | 11 | 7043 |  1.906432e+00 |    0.8801625 |    2.0000000 |    1.88305235 |    1.4826000 |  1.000000 |    3.000000 |    2.000000 |  0.18285247 | -1.6849210 |  0.010487790 |\n",
       "| DeviceProtection* | 12 | 7043 |  1.904444e+00 |    0.8799489 |    2.0000000 |    1.88056788 |    1.4826000 |  1.000000 |    3.000000 |    2.000000 |  0.18676763 | -1.6832382 |  0.010485245 |\n",
       "| TechSupport* | 13 | 7043 |  1.797104e+00 |    0.8615506 |    2.0000000 |    1.74640639 |    1.4826000 |  1.000000 |    3.000000 |    2.000000 |  0.40219313 | -1.5351795 |  0.010266016 |\n",
       "| StreamingTV* | 14 | 7043 |  1.985376e+00 |    0.8850019 |    2.0000000 |    1.98172138 |    1.4826000 |  1.000000 |    3.000000 |    2.000000 |  0.02847350 | -1.7228219 |  0.010545455 |\n",
       "| StreamingMovies* | 15 | 7043 |  1.992475e+00 |    0.8850907 |    2.0000000 |    1.99059450 |    1.4826000 |  1.000000 |    3.000000 |    2.000000 |  0.01465041 | -1.7235138 |  0.010546514 |\n",
       "| Contract* | 16 | 7043 |  1.690473e+00 |    0.8337552 |    1.0000000 |    1.61313221 |    0.0000000 |  1.000000 |    3.000000 |    2.000000 |  0.63069036 | -1.2726490 |  0.009934814 |\n",
       "| PaperlessBilling* | 17 | 7043 |  1.592219e+00 |    0.4914569 |    2.0000000 |    1.61526176 |    0.0000000 |  1.000000 |    2.000000 |    1.000000 | -0.37523586 | -1.8594620 |  0.005856075 |\n",
       "| PaymentMethod* | 18 | 7043 |  2.574329e+00 |    1.0681040 |    3.0000000 |    2.59290151 |    1.4826000 |  1.000000 |    4.000000 |    3.000000 | -0.17005696 | -1.2122656 |  0.012727254 |\n",
       "| MonthlyCharges | 19 | 7043 |  6.476169e+01 |   30.0900471 |   70.3500000 |   64.96565217 |   35.6565300 | 18.250000 |  118.750000 |  100.500000 | -0.22043051 | -1.2577140 |  0.358545291 |\n",
       "| TotalCharges | 20 | 7043 |  2.279734e+03 | 2266.7944697 | 1394.5500000 | 1966.08227152 | 1813.3680600 |  0.000000 | 8684.800000 | 8684.800000 |  0.96282440 | -0.2300561 | 27.010542080 |\n",
       "| Churn* | 21 | 7043 |  1.265370e+00 |    0.4415613 |    1.0000000 |    1.20674357 |    0.0000000 |  1.000000 |    2.000000 |    1.000000 |  1.06257868 | -0.8710502 |  0.005261531 |\n",
       "| TotalCharges - ifelse(is.na(TotalCharges), 0, TotalCharges) | 22 | 7032 |  0.000000e+00 |    0.0000000 |    0.0000000 |    0.00000000 |    0.0000000 |  0.000000 |    0.000000 |    0.000000 |         NaN |        NaN |  0.000000000 |\n",
       "| TotalNorm | 23 | 7043 |  2.624970e-01 |    0.2610071 |    0.1605736 |    0.22638199 |    0.2087979 |  0.000000 |    1.000000 |    1.000000 |  0.96282440 | -0.2300561 |  0.003110094 |\n",
       "| TotalStand | 24 | 7043 | -3.893054e-17 |    1.0000000 |   -0.3905005 |   -0.13836809 |    0.7999702 | -1.005708 |    2.825605 |    3.831313 |  0.96282440 | -0.2300561 |  0.011915744 |\n",
       "| M2T | 25 | 7043 |           Inf |          NaN |    0.0300000 |    0.07837977 |    0.0296520 |  0.010000 |         Inf |         Inf |         NaN |        NaN |          NaN |\n",
       "\n"
      ],
      "text/plain": [
       "                                                            vars n   \n",
       "customerID*                                                  1   7043\n",
       "gender*                                                      2   7043\n",
       "SeniorCitizen                                                3   7043\n",
       "Partner*                                                     4   7043\n",
       "Dependents*                                                  5   7043\n",
       "tenure                                                       6   7043\n",
       "PhoneService*                                                7   7043\n",
       "MultipleLines*                                               8   7043\n",
       "InternetService*                                             9   7043\n",
       "OnlineSecurity*                                             10   7043\n",
       "OnlineBackup*                                               11   7043\n",
       "DeviceProtection*                                           12   7043\n",
       "TechSupport*                                                13   7043\n",
       "StreamingTV*                                                14   7043\n",
       "StreamingMovies*                                            15   7043\n",
       "Contract*                                                   16   7043\n",
       "PaperlessBilling*                                           17   7043\n",
       "PaymentMethod*                                              18   7043\n",
       "MonthlyCharges                                              19   7043\n",
       "TotalCharges                                                20   7043\n",
       "Churn*                                                      21   7043\n",
       "TotalCharges - ifelse(is.na(TotalCharges), 0, TotalCharges) 22   7032\n",
       "TotalNorm                                                   23   7043\n",
       "TotalStand                                                  24   7043\n",
       "M2T                                                         25   7043\n",
       "                                                            mean         \n",
       "customerID*                                                  3.522000e+03\n",
       "gender*                                                      1.504756e+00\n",
       "SeniorCitizen                                                1.621468e-01\n",
       "Partner*                                                     1.483033e+00\n",
       "Dependents*                                                  1.299588e+00\n",
       "tenure                                                       3.237115e+01\n",
       "PhoneService*                                                1.903166e+00\n",
       "MultipleLines*                                               1.940508e+00\n",
       "InternetService*                                             1.872923e+00\n",
       "OnlineSecurity*                                              1.790004e+00\n",
       "OnlineBackup*                                                1.906432e+00\n",
       "DeviceProtection*                                            1.904444e+00\n",
       "TechSupport*                                                 1.797104e+00\n",
       "StreamingTV*                                                 1.985376e+00\n",
       "StreamingMovies*                                             1.992475e+00\n",
       "Contract*                                                    1.690473e+00\n",
       "PaperlessBilling*                                            1.592219e+00\n",
       "PaymentMethod*                                               2.574329e+00\n",
       "MonthlyCharges                                               6.476169e+01\n",
       "TotalCharges                                                 2.279734e+03\n",
       "Churn*                                                       1.265370e+00\n",
       "TotalCharges - ifelse(is.na(TotalCharges), 0, TotalCharges)  0.000000e+00\n",
       "TotalNorm                                                    2.624970e-01\n",
       "TotalStand                                                  -3.893054e-17\n",
       "M2T                                                                   Inf\n",
       "                                                            sd          \n",
       "customerID*                                                 2033.2833054\n",
       "gender*                                                        0.5000129\n",
       "SeniorCitizen                                                  0.3686116\n",
       "Partner*                                                       0.4997475\n",
       "Dependents*                                                    0.4581102\n",
       "tenure                                                        24.5594810\n",
       "PhoneService*                                                  0.2957522\n",
       "MultipleLines*                                                 0.9485540\n",
       "InternetService*                                               0.7377963\n",
       "OnlineSecurity*                                                0.8598475\n",
       "OnlineBackup*                                                  0.8801625\n",
       "DeviceProtection*                                              0.8799489\n",
       "TechSupport*                                                   0.8615506\n",
       "StreamingTV*                                                   0.8850019\n",
       "StreamingMovies*                                               0.8850907\n",
       "Contract*                                                      0.8337552\n",
       "PaperlessBilling*                                              0.4914569\n",
       "PaymentMethod*                                                 1.0681040\n",
       "MonthlyCharges                                                30.0900471\n",
       "TotalCharges                                                2266.7944697\n",
       "Churn*                                                         0.4415613\n",
       "TotalCharges - ifelse(is.na(TotalCharges), 0, TotalCharges)    0.0000000\n",
       "TotalNorm                                                      0.2610071\n",
       "TotalStand                                                     1.0000000\n",
       "M2T                                                                  NaN\n",
       "                                                            median      \n",
       "customerID*                                                 3522.0000000\n",
       "gender*                                                        2.0000000\n",
       "SeniorCitizen                                                  0.0000000\n",
       "Partner*                                                       1.0000000\n",
       "Dependents*                                                    1.0000000\n",
       "tenure                                                        29.0000000\n",
       "PhoneService*                                                  2.0000000\n",
       "MultipleLines*                                                 2.0000000\n",
       "InternetService*                                               2.0000000\n",
       "OnlineSecurity*                                                2.0000000\n",
       "OnlineBackup*                                                  2.0000000\n",
       "DeviceProtection*                                              2.0000000\n",
       "TechSupport*                                                   2.0000000\n",
       "StreamingTV*                                                   2.0000000\n",
       "StreamingMovies*                                               2.0000000\n",
       "Contract*                                                      1.0000000\n",
       "PaperlessBilling*                                              2.0000000\n",
       "PaymentMethod*                                                 3.0000000\n",
       "MonthlyCharges                                                70.3500000\n",
       "TotalCharges                                                1394.5500000\n",
       "Churn*                                                         1.0000000\n",
       "TotalCharges - ifelse(is.na(TotalCharges), 0, TotalCharges)    0.0000000\n",
       "TotalNorm                                                      0.1605736\n",
       "TotalStand                                                    -0.3905005\n",
       "M2T                                                            0.0300000\n",
       "                                                            trimmed      \n",
       "customerID*                                                 3522.00000000\n",
       "gender*                                                        1.50594499\n",
       "SeniorCitizen                                                  0.07772848\n",
       "Partner*                                                       1.47879326\n",
       "Dependents*                                                    1.24951198\n",
       "tenure                                                        31.42786158\n",
       "PhoneService*                                                  2.00000000\n",
       "MultipleLines*                                                 1.92564330\n",
       "InternetService*                                               1.84117125\n",
       "OnlineSecurity*                                                1.73753327\n",
       "OnlineBackup*                                                  1.88305235\n",
       "DeviceProtection*                                              1.88056788\n",
       "TechSupport*                                                   1.74640639\n",
       "StreamingTV*                                                   1.98172138\n",
       "StreamingMovies*                                               1.99059450\n",
       "Contract*                                                      1.61313221\n",
       "PaperlessBilling*                                              1.61526176\n",
       "PaymentMethod*                                                 2.59290151\n",
       "MonthlyCharges                                                64.96565217\n",
       "TotalCharges                                                1966.08227152\n",
       "Churn*                                                         1.20674357\n",
       "TotalCharges - ifelse(is.na(TotalCharges), 0, TotalCharges)    0.00000000\n",
       "TotalNorm                                                      0.22638199\n",
       "TotalStand                                                    -0.13836809\n",
       "M2T                                                            0.07837977\n",
       "                                                            mad         \n",
       "customerID*                                                 2610.8586000\n",
       "gender*                                                        0.0000000\n",
       "SeniorCitizen                                                  0.0000000\n",
       "Partner*                                                       0.0000000\n",
       "Dependents*                                                    0.0000000\n",
       "tenure                                                        32.6172000\n",
       "PhoneService*                                                  0.0000000\n",
       "MultipleLines*                                                 1.4826000\n",
       "InternetService*                                               1.4826000\n",
       "OnlineSecurity*                                                1.4826000\n",
       "OnlineBackup*                                                  1.4826000\n",
       "DeviceProtection*                                              1.4826000\n",
       "TechSupport*                                                   1.4826000\n",
       "StreamingTV*                                                   1.4826000\n",
       "StreamingMovies*                                               1.4826000\n",
       "Contract*                                                      0.0000000\n",
       "PaperlessBilling*                                              0.0000000\n",
       "PaymentMethod*                                                 1.4826000\n",
       "MonthlyCharges                                                35.6565300\n",
       "TotalCharges                                                1813.3680600\n",
       "Churn*                                                         0.0000000\n",
       "TotalCharges - ifelse(is.na(TotalCharges), 0, TotalCharges)    0.0000000\n",
       "TotalNorm                                                      0.2087979\n",
       "TotalStand                                                     0.7999702\n",
       "M2T                                                            0.0296520\n",
       "                                                            min      \n",
       "customerID*                                                  1.000000\n",
       "gender*                                                      1.000000\n",
       "SeniorCitizen                                                0.000000\n",
       "Partner*                                                     1.000000\n",
       "Dependents*                                                  1.000000\n",
       "tenure                                                       0.000000\n",
       "PhoneService*                                                1.000000\n",
       "MultipleLines*                                               1.000000\n",
       "InternetService*                                             1.000000\n",
       "OnlineSecurity*                                              1.000000\n",
       "OnlineBackup*                                                1.000000\n",
       "DeviceProtection*                                            1.000000\n",
       "TechSupport*                                                 1.000000\n",
       "StreamingTV*                                                 1.000000\n",
       "StreamingMovies*                                             1.000000\n",
       "Contract*                                                    1.000000\n",
       "PaperlessBilling*                                            1.000000\n",
       "PaymentMethod*                                               1.000000\n",
       "MonthlyCharges                                              18.250000\n",
       "TotalCharges                                                 0.000000\n",
       "Churn*                                                       1.000000\n",
       "TotalCharges - ifelse(is.na(TotalCharges), 0, TotalCharges)  0.000000\n",
       "TotalNorm                                                    0.000000\n",
       "TotalStand                                                  -1.005708\n",
       "M2T                                                          0.010000\n",
       "                                                            max        \n",
       "customerID*                                                 7043.000000\n",
       "gender*                                                        2.000000\n",
       "SeniorCitizen                                                  1.000000\n",
       "Partner*                                                       2.000000\n",
       "Dependents*                                                    2.000000\n",
       "tenure                                                        72.000000\n",
       "PhoneService*                                                  2.000000\n",
       "MultipleLines*                                                 3.000000\n",
       "InternetService*                                               3.000000\n",
       "OnlineSecurity*                                                3.000000\n",
       "OnlineBackup*                                                  3.000000\n",
       "DeviceProtection*                                              3.000000\n",
       "TechSupport*                                                   3.000000\n",
       "StreamingTV*                                                   3.000000\n",
       "StreamingMovies*                                               3.000000\n",
       "Contract*                                                      3.000000\n",
       "PaperlessBilling*                                              2.000000\n",
       "PaymentMethod*                                                 4.000000\n",
       "MonthlyCharges                                               118.750000\n",
       "TotalCharges                                                8684.800000\n",
       "Churn*                                                         2.000000\n",
       "TotalCharges - ifelse(is.na(TotalCharges), 0, TotalCharges)    0.000000\n",
       "TotalNorm                                                      1.000000\n",
       "TotalStand                                                     2.825605\n",
       "M2T                                                                 Inf\n",
       "                                                            range      \n",
       "customerID*                                                 7042.000000\n",
       "gender*                                                        1.000000\n",
       "SeniorCitizen                                                  1.000000\n",
       "Partner*                                                       1.000000\n",
       "Dependents*                                                    1.000000\n",
       "tenure                                                        72.000000\n",
       "PhoneService*                                                  1.000000\n",
       "MultipleLines*                                                 2.000000\n",
       "InternetService*                                               2.000000\n",
       "OnlineSecurity*                                                2.000000\n",
       "OnlineBackup*                                                  2.000000\n",
       "DeviceProtection*                                              2.000000\n",
       "TechSupport*                                                   2.000000\n",
       "StreamingTV*                                                   2.000000\n",
       "StreamingMovies*                                               2.000000\n",
       "Contract*                                                      2.000000\n",
       "PaperlessBilling*                                              1.000000\n",
       "PaymentMethod*                                                 3.000000\n",
       "MonthlyCharges                                               100.500000\n",
       "TotalCharges                                                8684.800000\n",
       "Churn*                                                         1.000000\n",
       "TotalCharges - ifelse(is.na(TotalCharges), 0, TotalCharges)    0.000000\n",
       "TotalNorm                                                      1.000000\n",
       "TotalStand                                                     3.831313\n",
       "M2T                                                                 Inf\n",
       "                                                            skew       \n",
       "customerID*                                                  0.00000000\n",
       "gender*                                                     -0.01902279\n",
       "SeniorCitizen                                                1.83285177\n",
       "Partner*                                                     0.06789345\n",
       "Dependents*                                                  0.87482582\n",
       "tenure                                                       0.23943773\n",
       "PhoneService*                                               -2.72599140\n",
       "MultipleLines*                                               0.11866889\n",
       "InternetService*                                             0.20533596\n",
       "OnlineSecurity*                                              0.41680747\n",
       "OnlineBackup*                                                0.18285247\n",
       "DeviceProtection*                                            0.18676763\n",
       "TechSupport*                                                 0.40219313\n",
       "StreamingTV*                                                 0.02847350\n",
       "StreamingMovies*                                             0.01465041\n",
       "Contract*                                                    0.63069036\n",
       "PaperlessBilling*                                           -0.37523586\n",
       "PaymentMethod*                                              -0.17005696\n",
       "MonthlyCharges                                              -0.22043051\n",
       "TotalCharges                                                 0.96282440\n",
       "Churn*                                                       1.06257868\n",
       "TotalCharges - ifelse(is.na(TotalCharges), 0, TotalCharges)         NaN\n",
       "TotalNorm                                                    0.96282440\n",
       "TotalStand                                                   0.96282440\n",
       "M2T                                                                 NaN\n",
       "                                                            kurtosis  \n",
       "customerID*                                                 -1.2005112\n",
       "gender*                                                     -1.9999220\n",
       "SeniorCitizen                                                1.3595387\n",
       "Partner*                                                    -1.9956738\n",
       "Dependents*                                                 -1.2348551\n",
       "tenure                                                      -1.3876966\n",
       "PhoneService*                                                5.4318004\n",
       "MultipleLines*                                              -1.8782148\n",
       "InternetService*                                            -1.1460705\n",
       "OnlineSecurity*                                             -1.5211578\n",
       "OnlineBackup*                                               -1.6849210\n",
       "DeviceProtection*                                           -1.6832382\n",
       "TechSupport*                                                -1.5351795\n",
       "StreamingTV*                                                -1.7228219\n",
       "StreamingMovies*                                            -1.7235138\n",
       "Contract*                                                   -1.2726490\n",
       "PaperlessBilling*                                           -1.8594620\n",
       "PaymentMethod*                                              -1.2122656\n",
       "MonthlyCharges                                              -1.2577140\n",
       "TotalCharges                                                -0.2300561\n",
       "Churn*                                                      -0.8710502\n",
       "TotalCharges - ifelse(is.na(TotalCharges), 0, TotalCharges)        NaN\n",
       "TotalNorm                                                   -0.2300561\n",
       "TotalStand                                                  -0.2300561\n",
       "M2T                                                                NaN\n",
       "                                                            se          \n",
       "customerID*                                                 24.228082879\n",
       "gender*                                                      0.005958025\n",
       "SeniorCitizen                                                0.004392281\n",
       "Partner*                                                     0.005954863\n",
       "Dependents*                                                  0.005458723\n",
       "tenure                                                       0.292644483\n",
       "PhoneService*                                                0.003524108\n",
       "MultipleLines*                                               0.011302727\n",
       "InternetService*                                             0.008791392\n",
       "OnlineSecurity*                                              0.010245723\n",
       "OnlineBackup*                                                0.010487790\n",
       "DeviceProtection*                                            0.010485245\n",
       "TechSupport*                                                 0.010266016\n",
       "StreamingTV*                                                 0.010545455\n",
       "StreamingMovies*                                             0.010546514\n",
       "Contract*                                                    0.009934814\n",
       "PaperlessBilling*                                            0.005856075\n",
       "PaymentMethod*                                               0.012727254\n",
       "MonthlyCharges                                               0.358545291\n",
       "TotalCharges                                                27.010542080\n",
       "Churn*                                                       0.005261531\n",
       "TotalCharges - ifelse(is.na(TotalCharges), 0, TotalCharges)  0.000000000\n",
       "TotalNorm                                                    0.003110094\n",
       "TotalStand                                                   0.011915744\n",
       "M2T                                                                  NaN"
      ]
     },
     "metadata": {},
     "output_type": "display_data"
    }
   ],
   "source": [
    "describe(data)"
   ]
  }
 ],
 "metadata": {
  "kernelspec": {
   "display_name": "R",
   "language": "R",
   "name": "ir"
  },
  "language_info": {
   "codemirror_mode": "r",
   "file_extension": ".r",
   "mimetype": "text/x-r-source",
   "name": "R",
   "pygments_lexer": "r",
   "version": "4.1.3"
  }
 },
 "nbformat": 4,
 "nbformat_minor": 5
}
