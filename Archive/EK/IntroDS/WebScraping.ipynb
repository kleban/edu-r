{
 "cells": [
  {
   "cell_type": "markdown",
   "id": "a0c49c59-b4d4-487a-b49b-7a40090c36b0",
   "metadata": {},
   "source": [
    "# Читання даних з web на прикладі `clarity-project.info`"
   ]
  },
  {
   "cell_type": "code",
   "execution_count": 1,
   "id": "4a86c70d-8883-487c-9102-e726046e9910",
   "metadata": {},
   "outputs": [],
   "source": [
    "# install.packages(\"rvest\")"
   ]
  },
  {
   "cell_type": "code",
   "execution_count": 1,
   "id": "c7db3c98-4e4d-4a90-8e0d-cd2d72e92964",
   "metadata": {},
   "outputs": [],
   "source": [
    "library(rvest)"
   ]
  },
  {
   "cell_type": "code",
   "execution_count": 2,
   "id": "e8fd31e8-02e6-47e3-b0eb-876bc98a3de9",
   "metadata": {},
   "outputs": [],
   "source": [
    "url <- \"https://clarity-project.info/edr/31978272/finances?current_year=2023\""
   ]
  },
  {
   "cell_type": "code",
   "execution_count": 4,
   "id": "75874bd6-c652-46f5-be95-4282a800da90",
   "metadata": {},
   "outputs": [
    {
     "data": {
      "text/plain": [
       "{html_document}\n",
       "<html>\n",
       "[1] <head>\\n<meta http-equiv=\"Content-Type\" content=\"text/html; charset=UTF-8 ...\n",
       "[2] <body>\\n<div class=\"top-menu-wrap\">\\n<div class=\"logo-item-wrap\">\\n<a hre ..."
      ]
     },
     "metadata": {},
     "output_type": "display_data"
    }
   ],
   "source": [
    "page <- read_html(url)\n",
    "page"
   ]
  },
  {
   "cell_type": "code",
   "execution_count": 7,
   "id": "8d5df802-afb8-40a0-ae91-37c9b89b301a",
   "metadata": {},
   "outputs": [
    {
     "data": {
      "text/plain": [
       "{xml_nodeset (10)}\n",
       " [1] <table class=\"table table-relaxed table-md-slim table-bordered w-100 bor ...\n",
       " [2] <table class=\"table table-relaxed table-md-slim table-bordered table-hov ...\n",
       " [3] <table class=\"table table-relaxed table-md-slim table-bordered table-hov ...\n",
       " [4] <table class=\"table table-relaxed table-md-slim table-bordered table-hov ...\n",
       " [5] <table class=\"table table-relaxed table-md-slim table-bordered table-hov ...\n",
       " [6] <table class=\"table table-relaxed table-md-slim table-bordered table-hov ...\n",
       " [7] <table class=\"table table-relaxed table-md-slim table-bordered table-hov ...\n",
       " [8] <table class=\"table table-relaxed table-md-slim table-bordered table-hov ...\n",
       " [9] <table class=\"table table-relaxed table-md-slim table-bordered table-hov ...\n",
       "[10] <table class=\"table table-relaxed table-md-slim table-bordered table-hov ..."
      ]
     },
     "metadata": {},
     "output_type": "display_data"
    }
   ],
   "source": [
    "tables <- html_nodes(page, \"table\")\n",
    "tables"
   ]
  },
  {
   "cell_type": "code",
   "execution_count": 11,
   "id": "0c97e190-94a8-46fa-9386-3cf43b9e91f3",
   "metadata": {},
   "outputs": [
    {
     "data": {
      "text/html": [
       "<table class=\"dataframe\">\n",
       "<caption>A data.frame: 6 x 4</caption>\n",
       "<thead>\n",
       "\t<tr><th></th><th scope=col>Title</th><th scope=col>Code</th><th scope=col>Start</th><th scope=col>End</th></tr>\n",
       "\t<tr><th></th><th scope=col>&lt;chr&gt;</th><th scope=col>&lt;int&gt;</th><th scope=col>&lt;chr&gt;</th><th scope=col>&lt;chr&gt;</th></tr>\n",
       "</thead>\n",
       "<tbody>\n",
       "\t<tr><th scope=row>1</th><td>I. Необоротні активи Нематеріальні активи</td><td>1000</td><td>8 709.00  </td><td>4 180.00  </td></tr>\n",
       "\t<tr><th scope=row>2</th><td>первісна вартість                        </td><td>1001</td><td>58 677.00 </td><td>32 319.00 </td></tr>\n",
       "\t<tr><th scope=row>3</th><td>накопичена амортизація                   </td><td>1002</td><td>49 968.00 </td><td>28 139.00 </td></tr>\n",
       "\t<tr><th scope=row>4</th><td>Незавершені капітальні інвестиції        </td><td>1005</td><td>48 952.00 </td><td>27 112.00 </td></tr>\n",
       "\t<tr><th scope=row>5</th><td>Основні засоби                           </td><td>1010</td><td>293 532.00</td><td>363 894.00</td></tr>\n",
       "\t<tr><th scope=row>6</th><td>первісна вартість                        </td><td>1011</td><td>777 033.00</td><td>896 576.00</td></tr>\n",
       "</tbody>\n",
       "</table>\n"
      ],
      "text/latex": [
       "A data.frame: 6 x 4\n",
       "\\begin{tabular}{r|llll}\n",
       "  & Title & Code & Start & End\\\\\n",
       "  & <chr> & <int> & <chr> & <chr>\\\\\n",
       "\\hline\n",
       "\t1 & I. Необоротні активи Нематеріальні активи & 1000 & 8 709.00   & 4 180.00  \\\\\n",
       "\t2 & первісна вартість                         & 1001 & 58 677.00  & 32 319.00 \\\\\n",
       "\t3 & накопичена амортизація                    & 1002 & 49 968.00  & 28 139.00 \\\\\n",
       "\t4 & Незавершені капітальні інвестиції         & 1005 & 48 952.00  & 27 112.00 \\\\\n",
       "\t5 & Основні засоби                            & 1010 & 293 532.00 & 363 894.00\\\\\n",
       "\t6 & первісна вартість                         & 1011 & 777 033.00 & 896 576.00\\\\\n",
       "\\end{tabular}\n"
      ],
      "text/markdown": [
       "\n",
       "A data.frame: 6 x 4\n",
       "\n",
       "| <!--/--> | Title &lt;chr&gt; | Code &lt;int&gt; | Start &lt;chr&gt; | End &lt;chr&gt; |\n",
       "|---|---|---|---|---|\n",
       "| 1 | I. Необоротні активи Нематеріальні активи | 1000 | 8 709.00   | 4 180.00   |\n",
       "| 2 | первісна вартість                         | 1001 | 58 677.00  | 32 319.00  |\n",
       "| 3 | накопичена амортизація                    | 1002 | 49 968.00  | 28 139.00  |\n",
       "| 4 | Незавершені капітальні інвестиції         | 1005 | 48 952.00  | 27 112.00  |\n",
       "| 5 | Основні засоби                            | 1010 | 293 532.00 | 363 894.00 |\n",
       "| 6 | первісна вартість                         | 1011 | 777 033.00 | 896 576.00 |\n",
       "\n"
      ],
      "text/plain": [
       "  Title                                     Code Start      End       \n",
       "1 I. Необоротні активи Нематеріальні активи 1000 8 709.00   4 180.00  \n",
       "2 первісна вартість                         1001 58 677.00  32 319.00 \n",
       "3 накопичена амортизація                    1002 49 968.00  28 139.00 \n",
       "4 Незавершені капітальні інвестиції         1005 48 952.00  27 112.00 \n",
       "5 Основні засоби                            1010 293 532.00 363 894.00\n",
       "6 первісна вартість                         1011 777 033.00 896 576.00"
      ]
     },
     "metadata": {},
     "output_type": "display_data"
    }
   ],
   "source": [
    "data <- data.frame(html_table(tables[2]))\n",
    "colnames(data) <- c(\"Title\", \"Code\", \"Start\", \"End\")\n",
    "head(data)"
   ]
  },
  {
   "cell_type": "code",
   "execution_count": 13,
   "id": "f3368712-f981-4bb6-8440-f12e39dcca5c",
   "metadata": {},
   "outputs": [
    {
     "name": "stdout",
     "output_type": "stream",
     "text": [
      "'data.frame':\t51 obs. of  4 variables:\n",
      " $ Title: chr  \"I. Необоротні активи Нематеріальні активи\" \"первісна вартість\" \"накопичена амортизація\" \"Незавершені капітальні інвестиції\" ...\n",
      " $ Code : int  1000 1001 1002 1005 1010 1011 1012 1015 1016 1017 ...\n",
      " $ Start: chr  \"8 709.00\" \"58 677.00\" \"49 968.00\" \"48 952.00\" ...\n",
      " $ End  : chr  \"4 180.00\" \"32 319.00\" \"28 139.00\" \"27 112.00\" ...\n"
     ]
    }
   ],
   "source": [
    "str(data)"
   ]
  },
  {
   "cell_type": "code",
   "execution_count": 20,
   "id": "fc74e875-546b-4bc2-9c15-d204cedd471f",
   "metadata": {},
   "outputs": [
    {
     "data": {
      "text/html": [
       "<table class=\"dataframe\">\n",
       "<caption>A data.frame: 6 x 4</caption>\n",
       "<thead>\n",
       "\t<tr><th></th><th scope=col>Title</th><th scope=col>Code</th><th scope=col>Start</th><th scope=col>End</th></tr>\n",
       "\t<tr><th></th><th scope=col>&lt;chr&gt;</th><th scope=col>&lt;int&gt;</th><th scope=col>&lt;dbl&gt;</th><th scope=col>&lt;dbl&gt;</th></tr>\n",
       "</thead>\n",
       "<tbody>\n",
       "\t<tr><th scope=row>1</th><td>I. Необоротні активи Нематеріальні активи</td><td>1000</td><td>  8709</td><td>  4180</td></tr>\n",
       "\t<tr><th scope=row>2</th><td>первісна вартість                        </td><td>1001</td><td> 58677</td><td> 32319</td></tr>\n",
       "\t<tr><th scope=row>3</th><td>накопичена амортизація                   </td><td>1002</td><td> 49968</td><td> 28139</td></tr>\n",
       "\t<tr><th scope=row>4</th><td>Незавершені капітальні інвестиції        </td><td>1005</td><td> 48952</td><td> 27112</td></tr>\n",
       "\t<tr><th scope=row>5</th><td>Основні засоби                           </td><td>1010</td><td>293532</td><td>363894</td></tr>\n",
       "\t<tr><th scope=row>6</th><td>первісна вартість                        </td><td>1011</td><td>777033</td><td>896576</td></tr>\n",
       "</tbody>\n",
       "</table>\n"
      ],
      "text/latex": [
       "A data.frame: 6 x 4\n",
       "\\begin{tabular}{r|llll}\n",
       "  & Title & Code & Start & End\\\\\n",
       "  & <chr> & <int> & <dbl> & <dbl>\\\\\n",
       "\\hline\n",
       "\t1 & I. Необоротні активи Нематеріальні активи & 1000 &   8709 &   4180\\\\\n",
       "\t2 & первісна вартість                         & 1001 &  58677 &  32319\\\\\n",
       "\t3 & накопичена амортизація                    & 1002 &  49968 &  28139\\\\\n",
       "\t4 & Незавершені капітальні інвестиції         & 1005 &  48952 &  27112\\\\\n",
       "\t5 & Основні засоби                            & 1010 & 293532 & 363894\\\\\n",
       "\t6 & первісна вартість                         & 1011 & 777033 & 896576\\\\\n",
       "\\end{tabular}\n"
      ],
      "text/markdown": [
       "\n",
       "A data.frame: 6 x 4\n",
       "\n",
       "| <!--/--> | Title &lt;chr&gt; | Code &lt;int&gt; | Start &lt;dbl&gt; | End &lt;dbl&gt; |\n",
       "|---|---|---|---|---|\n",
       "| 1 | I. Необоротні активи Нематеріальні активи | 1000 |   8709 |   4180 |\n",
       "| 2 | первісна вартість                         | 1001 |  58677 |  32319 |\n",
       "| 3 | накопичена амортизація                    | 1002 |  49968 |  28139 |\n",
       "| 4 | Незавершені капітальні інвестиції         | 1005 |  48952 |  27112 |\n",
       "| 5 | Основні засоби                            | 1010 | 293532 | 363894 |\n",
       "| 6 | первісна вартість                         | 1011 | 777033 | 896576 |\n",
       "\n"
      ],
      "text/plain": [
       "  Title                                     Code Start  End   \n",
       "1 I. Необоротні активи Нематеріальні активи 1000   8709   4180\n",
       "2 первісна вартість                         1001  58677  32319\n",
       "3 накопичена амортизація                    1002  49968  28139\n",
       "4 Незавершені капітальні інвестиції         1005  48952  27112\n",
       "5 Основні засоби                            1010 293532 363894\n",
       "6 первісна вартість                         1011 777033 896576"
      ]
     },
     "metadata": {},
     "output_type": "display_data"
    }
   ],
   "source": [
    "library(stringr)\n",
    "\n",
    "data$Start <- as.numeric(str_replace_all(data$Start, \" \", \"\"))\n",
    "data$End <- as.numeric(str_replace_all(data$End, \" \", \"\"))\n",
    "\n",
    "head(data)"
   ]
  },
  {
   "cell_type": "code",
   "execution_count": 22,
   "id": "13d5d6cd-4db8-4cc1-bc36-70703d8cd57e",
   "metadata": {},
   "outputs": [],
   "source": [
    "library(openxlsx)"
   ]
  },
  {
   "cell_type": "code",
   "execution_count": 26,
   "id": "dc2edd50-8926-46df-8f04-806584a9c976",
   "metadata": {},
   "outputs": [
    {
     "name": "stderr",
     "output_type": "stream",
     "text": [
      "Warning message in file.create(to[okay]):\n",
      "\"cannot create file 'data/zvit.xlsx', reason 'Permission denied'\"\n"
     ]
    }
   ],
   "source": [
    "write.xlsx(data, file = \"data/zvit.xlsx\")"
   ]
  },
  {
   "cell_type": "markdown",
   "id": "0a61a0d4-4a3e-4fc3-962d-755f86e72cdd",
   "metadata": {},
   "source": [
    "## Створення функції"
   ]
  },
  {
   "cell_type": "code",
   "execution_count": 27,
   "id": "2134e6f9-5df0-4398-b575-28b225d62863",
   "metadata": {},
   "outputs": [],
   "source": [
    "library(rvest)\n",
    "library(stringr)\n",
    "\n",
    "# 31978272"
   ]
  },
  {
   "cell_type": "code",
   "execution_count": 31,
   "id": "6fd90bf9-f694-4792-96fa-e3f9a2642b0a",
   "metadata": {},
   "outputs": [],
   "source": [
    "read_balance <- function(company_id, year) {\n",
    "    url <- paste0(\"https://clarity-project.info/edr/\", company_id, \"/finances?current_year=\", year)\n",
    "    page <- read_html(url)\n",
    "    tables <- html_nodes(page, \"table\")\n",
    "    data <- data.frame(html_table(tables[2]))\n",
    "    colnames(data) <- c(\"Title\", \"Code\", \"Start\", \"End\")\n",
    "    data$Start <- as.numeric(str_replace_all(data$Start, \" \", \"\"))\n",
    "    data$End <- as.numeric(str_replace_all(data$End, \" \", \"\"))\n",
    "    return(data)\n",
    "}"
   ]
  },
  {
   "cell_type": "code",
   "execution_count": 33,
   "id": "60617d88-256c-4963-a964-3ff010f006ce",
   "metadata": {},
   "outputs": [
    {
     "data": {
      "text/html": [
       "<table class=\"dataframe\">\n",
       "<caption>A data.frame: 6 x 4</caption>\n",
       "<thead>\n",
       "\t<tr><th></th><th scope=col>Title</th><th scope=col>Code</th><th scope=col>Start</th><th scope=col>End</th></tr>\n",
       "\t<tr><th></th><th scope=col>&lt;chr&gt;</th><th scope=col>&lt;int&gt;</th><th scope=col>&lt;dbl&gt;</th><th scope=col>&lt;dbl&gt;</th></tr>\n",
       "</thead>\n",
       "<tbody>\n",
       "\t<tr><th scope=row>1</th><td>I. Необоротні активи Нематеріальні активи</td><td>1000</td><td>  8709</td><td>  4180</td></tr>\n",
       "\t<tr><th scope=row>2</th><td>первісна вартість                        </td><td>1001</td><td> 58677</td><td> 32319</td></tr>\n",
       "\t<tr><th scope=row>3</th><td>накопичена амортизація                   </td><td>1002</td><td> 49968</td><td> 28139</td></tr>\n",
       "\t<tr><th scope=row>4</th><td>Незавершені капітальні інвестиції        </td><td>1005</td><td> 48952</td><td> 27112</td></tr>\n",
       "\t<tr><th scope=row>5</th><td>Основні засоби                           </td><td>1010</td><td>293532</td><td>363894</td></tr>\n",
       "\t<tr><th scope=row>6</th><td>первісна вартість                        </td><td>1011</td><td>777033</td><td>896576</td></tr>\n",
       "</tbody>\n",
       "</table>\n"
      ],
      "text/latex": [
       "A data.frame: 6 x 4\n",
       "\\begin{tabular}{r|llll}\n",
       "  & Title & Code & Start & End\\\\\n",
       "  & <chr> & <int> & <dbl> & <dbl>\\\\\n",
       "\\hline\n",
       "\t1 & I. Необоротні активи Нематеріальні активи & 1000 &   8709 &   4180\\\\\n",
       "\t2 & первісна вартість                         & 1001 &  58677 &  32319\\\\\n",
       "\t3 & накопичена амортизація                    & 1002 &  49968 &  28139\\\\\n",
       "\t4 & Незавершені капітальні інвестиції         & 1005 &  48952 &  27112\\\\\n",
       "\t5 & Основні засоби                            & 1010 & 293532 & 363894\\\\\n",
       "\t6 & первісна вартість                         & 1011 & 777033 & 896576\\\\\n",
       "\\end{tabular}\n"
      ],
      "text/markdown": [
       "\n",
       "A data.frame: 6 x 4\n",
       "\n",
       "| <!--/--> | Title &lt;chr&gt; | Code &lt;int&gt; | Start &lt;dbl&gt; | End &lt;dbl&gt; |\n",
       "|---|---|---|---|---|\n",
       "| 1 | I. Необоротні активи Нематеріальні активи | 1000 |   8709 |   4180 |\n",
       "| 2 | первісна вартість                         | 1001 |  58677 |  32319 |\n",
       "| 3 | накопичена амортизація                    | 1002 |  49968 |  28139 |\n",
       "| 4 | Незавершені капітальні інвестиції         | 1005 |  48952 |  27112 |\n",
       "| 5 | Основні засоби                            | 1010 | 293532 | 363894 |\n",
       "| 6 | первісна вартість                         | 1011 | 777033 | 896576 |\n",
       "\n"
      ],
      "text/plain": [
       "  Title                                     Code Start  End   \n",
       "1 I. Необоротні активи Нематеріальні активи 1000   8709   4180\n",
       "2 первісна вартість                         1001  58677  32319\n",
       "3 накопичена амортизація                    1002  49968  28139\n",
       "4 Незавершені капітальні інвестиції         1005  48952  27112\n",
       "5 Основні засоби                            1010 293532 363894\n",
       "6 первісна вартість                         1011 777033 896576"
      ]
     },
     "metadata": {},
     "output_type": "display_data"
    }
   ],
   "source": [
    "data_2023 <- read_balance(31978272, 2023)\n",
    "head(data_2023)"
   ]
  },
  {
   "cell_type": "code",
   "execution_count": 42,
   "id": "66452060-3d30-4d60-bcd0-0a2fbc090f29",
   "metadata": {},
   "outputs": [
    {
     "data": {
      "text/html": [
       "<table class=\"dataframe\">\n",
       "<caption>A data.frame: 6 x 4</caption>\n",
       "<thead>\n",
       "\t<tr><th></th><th scope=col>Title</th><th scope=col>Code</th><th scope=col>Start</th><th scope=col>End</th></tr>\n",
       "\t<tr><th></th><th scope=col>&lt;chr&gt;</th><th scope=col>&lt;int&gt;</th><th scope=col>&lt;dbl&gt;</th><th scope=col>&lt;dbl&gt;</th></tr>\n",
       "</thead>\n",
       "<tbody>\n",
       "\t<tr><th scope=row>1</th><td>I. Необоротні активи Нематеріальні активи</td><td>1000</td><td>    35.6</td><td>    18.0</td></tr>\n",
       "\t<tr><th scope=row>2</th><td>первісна вартість                        </td><td>1001</td><td>   305.5</td><td>   317.2</td></tr>\n",
       "\t<tr><th scope=row>3</th><td>накопичена амортизація                   </td><td>1002</td><td>   269.9</td><td>   299.2</td></tr>\n",
       "\t<tr><th scope=row>4</th><td>Незавершені капітальні інвестиції        </td><td>1005</td><td>102894.2</td><td>102912.5</td></tr>\n",
       "\t<tr><th scope=row>5</th><td>Основні засоби:                          </td><td>1010</td><td>   262.1</td><td>     0.0</td></tr>\n",
       "\t<tr><th scope=row>6</th><td>первісна вартість                        </td><td>1011</td><td>  3928.3</td><td>  2990.2</td></tr>\n",
       "</tbody>\n",
       "</table>\n"
      ],
      "text/latex": [
       "A data.frame: 6 x 4\n",
       "\\begin{tabular}{r|llll}\n",
       "  & Title & Code & Start & End\\\\\n",
       "  & <chr> & <int> & <dbl> & <dbl>\\\\\n",
       "\\hline\n",
       "\t1 & I. Необоротні активи Нематеріальні активи & 1000 &     35.6 &     18.0\\\\\n",
       "\t2 & первісна вартість                         & 1001 &    305.5 &    317.2\\\\\n",
       "\t3 & накопичена амортизація                    & 1002 &    269.9 &    299.2\\\\\n",
       "\t4 & Незавершені капітальні інвестиції         & 1005 & 102894.2 & 102912.5\\\\\n",
       "\t5 & Основні засоби:                           & 1010 &    262.1 &      0.0\\\\\n",
       "\t6 & первісна вартість                         & 1011 &   3928.3 &   2990.2\\\\\n",
       "\\end{tabular}\n"
      ],
      "text/markdown": [
       "\n",
       "A data.frame: 6 x 4\n",
       "\n",
       "| <!--/--> | Title &lt;chr&gt; | Code &lt;int&gt; | Start &lt;dbl&gt; | End &lt;dbl&gt; |\n",
       "|---|---|---|---|---|\n",
       "| 1 | I. Необоротні активи Нематеріальні активи | 1000 |     35.6 |     18.0 |\n",
       "| 2 | первісна вартість                         | 1001 |    305.5 |    317.2 |\n",
       "| 3 | накопичена амортизація                    | 1002 |    269.9 |    299.2 |\n",
       "| 4 | Незавершені капітальні інвестиції         | 1005 | 102894.2 | 102912.5 |\n",
       "| 5 | Основні засоби:                           | 1010 |    262.1 |      0.0 |\n",
       "| 6 | первісна вартість                         | 1011 |   3928.3 |   2990.2 |\n",
       "\n"
      ],
      "text/plain": [
       "  Title                                     Code Start    End     \n",
       "1 I. Необоротні активи Нематеріальні активи 1000     35.6     18.0\n",
       "2 первісна вартість                         1001    305.5    317.2\n",
       "3 накопичена амортизація                    1002    269.9    299.2\n",
       "4 Незавершені капітальні інвестиції         1005 102894.2 102912.5\n",
       "5 Основні засоби:                           1010    262.1      0.0\n",
       "6 первісна вартість                         1011   3928.3   2990.2"
      ]
     },
     "metadata": {},
     "output_type": "display_data"
    }
   ],
   "source": [
    "data_2022 <- read_balance(43457691, 2023)\n",
    "head(data_2022)"
   ]
  },
  {
   "cell_type": "code",
   "execution_count": 112,
   "id": "5c22f309-10b4-49cb-a505-56701f0aeed9",
   "metadata": {},
   "outputs": [],
   "source": [
    "company_id <- 43457691\n",
    "years <- c(2020:2022)"
   ]
  },
  {
   "cell_type": "code",
   "execution_count": 108,
   "id": "71218930-f27d-435c-93eb-2ce8abd15933",
   "metadata": {},
   "outputs": [],
   "source": [
    "read_balance2 <- function(company_id, year = 2023) {\n",
    "    url <- paste0(\"https://clarity-project.info/edr/\", company_id, \"/finances?current_year=\", year)\n",
    "    page <- read_html(url)\n",
    "    tables <- html_nodes(page, \"table\")\n",
    "    data1 <- data.frame(html_table(tables[2]))\n",
    "    cnames <- c(\"Title\", \"Code\", paste0(\"Start\", as.character(year)), paste0(\"End\", as.character(year)))\n",
    "    colnames(data1) <- cnames\n",
    "    data1[, 3] <- as.numeric(str_replace_all(data1[, 3], \" \", \"\"))\n",
    "    data1[, 4] <- as.numeric(str_replace_all(data1[, 4], \" \", \"\"))\n",
    "    return(data1)\n",
    "}"
   ]
  },
  {
   "cell_type": "code",
   "execution_count": 113,
   "id": "48f10a26-9c0e-4a09-a2e5-9caa2a5485c3",
   "metadata": {},
   "outputs": [
    {
     "name": "stdout",
     "output_type": "stream",
     "text": [
      "[1] 2020\n",
      "[1] 2021\n",
      "[1] 2022\n"
     ]
    },
    {
     "data": {
      "text/html": [
       "<table class=\"dataframe\">\n",
       "<caption>A data.frame: 25 x 8</caption>\n",
       "<thead>\n",
       "\t<tr><th scope=col>Title</th><th scope=col>Code</th><th scope=col>Start2020</th><th scope=col>End2020</th><th scope=col>Start2021</th><th scope=col>End2021</th><th scope=col>Start2022</th><th scope=col>End2022</th></tr>\n",
       "\t<tr><th scope=col>&lt;chr&gt;</th><th scope=col>&lt;int&gt;</th><th scope=col>&lt;dbl&gt;</th><th scope=col>&lt;dbl&gt;</th><th scope=col>&lt;dbl&gt;</th><th scope=col>&lt;dbl&gt;</th><th scope=col>&lt;dbl&gt;</th><th scope=col>&lt;dbl&gt;</th></tr>\n",
       "</thead>\n",
       "<tbody>\n",
       "\t<tr><td>I. Необоротні активи Нематеріальні активи                       </td><td>1000</td><td>0</td><td>55455</td><td>  147.8</td><td>   128.0</td><td>  128.0</td><td>    35.6</td></tr>\n",
       "\t<tr><td>первісна вартість                                               </td><td>1001</td><td>0</td><td>56214</td><td>  196.7</td><td>   295.3</td><td>  295.3</td><td>   305.5</td></tr>\n",
       "\t<tr><td>накопичена амортизація                                          </td><td>1002</td><td>0</td><td>  759</td><td>   48.9</td><td>   167.3</td><td>  167.3</td><td>   269.9</td></tr>\n",
       "\t<tr><td>Незавершені капітальні інвестиції                               </td><td>1005</td><td>0</td><td>    0</td><td>57755.2</td><td> 94334.1</td><td>94334.1</td><td>102894.2</td></tr>\n",
       "\t<tr><td>Основні засоби:                                                 </td><td>1010</td><td>0</td><td>    0</td><td> 1428.3</td><td>  1720.3</td><td> 1720.3</td><td>   262.1</td></tr>\n",
       "\t<tr><td>первісна вартість                                               </td><td>1011</td><td>0</td><td>    0</td><td> 2131.9</td><td>  3921.0</td><td> 3921.0</td><td>  3928.3</td></tr>\n",
       "\t<tr><td>знос                                                            </td><td>1012</td><td>0</td><td>    0</td><td>  703.6</td><td>  2200.7</td><td> 2200.7</td><td>  3666.2</td></tr>\n",
       "\t<tr><td>Довгострокові біологічні активи                                 </td><td>1020</td><td>0</td><td>    0</td><td>    0.0</td><td>      NA</td><td>    0.0</td><td>      NA</td></tr>\n",
       "\t<tr><td>Довгострокові фінансові інвестиції                              </td><td>1030</td><td>0</td><td>    0</td><td>    0.0</td><td>      NA</td><td>    0.0</td><td>      NA</td></tr>\n",
       "\t<tr><td>Інші необоротні активи                                          </td><td>1090</td><td>0</td><td>    0</td><td>    0.0</td><td>      NA</td><td>    0.0</td><td>      NA</td></tr>\n",
       "\t<tr><td>Усього за розділом I                                            </td><td>1095</td><td>0</td><td>55455</td><td>59331.3</td><td> 96182.4</td><td>96182.4</td><td>103191.9</td></tr>\n",
       "\t<tr><td>II. Оборотні активи Запаси:                                     </td><td>1100</td><td>0</td><td>    0</td><td>   20.7</td><td>    54.6</td><td>   57.6</td><td>      NA</td></tr>\n",
       "\t<tr><td>у тому числі готова продукція                                   </td><td>1103</td><td>0</td><td>    0</td><td>    0.0</td><td>      NA</td><td>    0.0</td><td>      NA</td></tr>\n",
       "\t<tr><td>Поточні біологічні активи                                       </td><td>1110</td><td>0</td><td>    0</td><td>    0.0</td><td>      NA</td><td>    0.0</td><td>      NA</td></tr>\n",
       "\t<tr><td>Дебіторська заборгованість за товари, роботи, послуги           </td><td>1125</td><td>0</td><td> 4399</td><td> 1877.3</td><td>  6795.9</td><td> 1888.0</td><td>  5050.0</td></tr>\n",
       "\t<tr><td>Дебіторська заборгованість за розрахунками з бюджетом           </td><td>1135</td><td>0</td><td>    5</td><td>    0.0</td><td>   105.2</td><td>  105.2</td><td>   135.6</td></tr>\n",
       "\t<tr><td>у тому числі з податку на прибуток                              </td><td>1136</td><td>0</td><td>    0</td><td>    0.0</td><td>      NA</td><td>    0.0</td><td>      NA</td></tr>\n",
       "\t<tr><td>Інша поточна дебіторська заборгованість                         </td><td>1155</td><td>0</td><td>20812</td><td>15775.0</td><td> 11553.9</td><td>  116.7</td><td>    66.2</td></tr>\n",
       "\t<tr><td>Поточні фінансові інвестиції                                    </td><td>1160</td><td>0</td><td>    0</td><td>    0.0</td><td>      NA</td><td>    0.0</td><td>      NA</td></tr>\n",
       "\t<tr><td>Г роші та їх еквіваленти                                        </td><td>1165</td><td>0</td><td>  380</td><td>  380.6</td><td>  1265.5</td><td> 1265.5</td><td> 18751.2</td></tr>\n",
       "\t<tr><td>Витрати майбутніх періодів                                      </td><td>1170</td><td>0</td><td>    0</td><td>   78.9</td><td>     0.0</td><td>    0.0</td><td>      NA</td></tr>\n",
       "\t<tr><td>Інші оборотні активи                                            </td><td>1190</td><td>0</td><td>   87</td><td>    0.0</td><td>      NA</td><td>    0.0</td><td>      NA</td></tr>\n",
       "\t<tr><td>Усього за розділом II                                           </td><td>1195</td><td>0</td><td>25686</td><td>18132.5</td><td> 19775.1</td><td> 3433.0</td><td> 24003.0</td></tr>\n",
       "\t<tr><td>III. Необоротні активи, утримувані для продажу, та групи вибуття</td><td>1200</td><td>0</td><td>    0</td><td>    0.0</td><td>      NA</td><td>    0.0</td><td>      NA</td></tr>\n",
       "\t<tr><td>Баланс                                                          </td><td>1300</td><td>0</td><td>81141</td><td>77463.8</td><td>115957.5</td><td>99615.4</td><td>127194.9</td></tr>\n",
       "</tbody>\n",
       "</table>\n"
      ],
      "text/latex": [
       "A data.frame: 25 x 8\n",
       "\\begin{tabular}{llllllll}\n",
       " Title & Code & Start2020 & End2020 & Start2021 & End2021 & Start2022 & End2022\\\\\n",
       " <chr> & <int> & <dbl> & <dbl> & <dbl> & <dbl> & <dbl> & <dbl>\\\\\n",
       "\\hline\n",
       "\t I. Необоротні активи Нематеріальні активи                        & 1000 & 0 & 55455 &   147.8 &    128.0 &   128.0 &     35.6\\\\\n",
       "\t первісна вартість                                                & 1001 & 0 & 56214 &   196.7 &    295.3 &   295.3 &    305.5\\\\\n",
       "\t накопичена амортизація                                           & 1002 & 0 &   759 &    48.9 &    167.3 &   167.3 &    269.9\\\\\n",
       "\t Незавершені капітальні інвестиції                                & 1005 & 0 &     0 & 57755.2 &  94334.1 & 94334.1 & 102894.2\\\\\n",
       "\t Основні засоби:                                                  & 1010 & 0 &     0 &  1428.3 &   1720.3 &  1720.3 &    262.1\\\\\n",
       "\t первісна вартість                                                & 1011 & 0 &     0 &  2131.9 &   3921.0 &  3921.0 &   3928.3\\\\\n",
       "\t знос                                                             & 1012 & 0 &     0 &   703.6 &   2200.7 &  2200.7 &   3666.2\\\\\n",
       "\t Довгострокові біологічні активи                                  & 1020 & 0 &     0 &     0.0 &       NA &     0.0 &       NA\\\\\n",
       "\t Довгострокові фінансові інвестиції                               & 1030 & 0 &     0 &     0.0 &       NA &     0.0 &       NA\\\\\n",
       "\t Інші необоротні активи                                           & 1090 & 0 &     0 &     0.0 &       NA &     0.0 &       NA\\\\\n",
       "\t Усього за розділом I                                             & 1095 & 0 & 55455 & 59331.3 &  96182.4 & 96182.4 & 103191.9\\\\\n",
       "\t II. Оборотні активи Запаси:                                      & 1100 & 0 &     0 &    20.7 &     54.6 &    57.6 &       NA\\\\\n",
       "\t у тому числі готова продукція                                    & 1103 & 0 &     0 &     0.0 &       NA &     0.0 &       NA\\\\\n",
       "\t Поточні біологічні активи                                        & 1110 & 0 &     0 &     0.0 &       NA &     0.0 &       NA\\\\\n",
       "\t Дебіторська заборгованість за товари, роботи, послуги            & 1125 & 0 &  4399 &  1877.3 &   6795.9 &  1888.0 &   5050.0\\\\\n",
       "\t Дебіторська заборгованість за розрахунками з бюджетом            & 1135 & 0 &     5 &     0.0 &    105.2 &   105.2 &    135.6\\\\\n",
       "\t у тому числі з податку на прибуток                               & 1136 & 0 &     0 &     0.0 &       NA &     0.0 &       NA\\\\\n",
       "\t Інша поточна дебіторська заборгованість                          & 1155 & 0 & 20812 & 15775.0 &  11553.9 &   116.7 &     66.2\\\\\n",
       "\t Поточні фінансові інвестиції                                     & 1160 & 0 &     0 &     0.0 &       NA &     0.0 &       NA\\\\\n",
       "\t Г роші та їх еквіваленти                                         & 1165 & 0 &   380 &   380.6 &   1265.5 &  1265.5 &  18751.2\\\\\n",
       "\t Витрати майбутніх періодів                                       & 1170 & 0 &     0 &    78.9 &      0.0 &     0.0 &       NA\\\\\n",
       "\t Інші оборотні активи                                             & 1190 & 0 &    87 &     0.0 &       NA &     0.0 &       NA\\\\\n",
       "\t Усього за розділом II                                            & 1195 & 0 & 25686 & 18132.5 &  19775.1 &  3433.0 &  24003.0\\\\\n",
       "\t III. Необоротні активи, утримувані для продажу, та групи вибуття & 1200 & 0 &     0 &     0.0 &       NA &     0.0 &       NA\\\\\n",
       "\t Баланс                                                           & 1300 & 0 & 81141 & 77463.8 & 115957.5 & 99615.4 & 127194.9\\\\\n",
       "\\end{tabular}\n"
      ],
      "text/markdown": [
       "\n",
       "A data.frame: 25 x 8\n",
       "\n",
       "| Title &lt;chr&gt; | Code &lt;int&gt; | Start2020 &lt;dbl&gt; | End2020 &lt;dbl&gt; | Start2021 &lt;dbl&gt; | End2021 &lt;dbl&gt; | Start2022 &lt;dbl&gt; | End2022 &lt;dbl&gt; |\n",
       "|---|---|---|---|---|---|---|---|\n",
       "| I. Необоротні активи Нематеріальні активи                        | 1000 | 0 | 55455 |   147.8 |    128.0 |   128.0 |     35.6 |\n",
       "| первісна вартість                                                | 1001 | 0 | 56214 |   196.7 |    295.3 |   295.3 |    305.5 |\n",
       "| накопичена амортизація                                           | 1002 | 0 |   759 |    48.9 |    167.3 |   167.3 |    269.9 |\n",
       "| Незавершені капітальні інвестиції                                | 1005 | 0 |     0 | 57755.2 |  94334.1 | 94334.1 | 102894.2 |\n",
       "| Основні засоби:                                                  | 1010 | 0 |     0 |  1428.3 |   1720.3 |  1720.3 |    262.1 |\n",
       "| первісна вартість                                                | 1011 | 0 |     0 |  2131.9 |   3921.0 |  3921.0 |   3928.3 |\n",
       "| знос                                                             | 1012 | 0 |     0 |   703.6 |   2200.7 |  2200.7 |   3666.2 |\n",
       "| Довгострокові біологічні активи                                  | 1020 | 0 |     0 |     0.0 |       NA |     0.0 |       NA |\n",
       "| Довгострокові фінансові інвестиції                               | 1030 | 0 |     0 |     0.0 |       NA |     0.0 |       NA |\n",
       "| Інші необоротні активи                                           | 1090 | 0 |     0 |     0.0 |       NA |     0.0 |       NA |\n",
       "| Усього за розділом I                                             | 1095 | 0 | 55455 | 59331.3 |  96182.4 | 96182.4 | 103191.9 |\n",
       "| II. Оборотні активи Запаси:                                      | 1100 | 0 |     0 |    20.7 |     54.6 |    57.6 |       NA |\n",
       "| у тому числі готова продукція                                    | 1103 | 0 |     0 |     0.0 |       NA |     0.0 |       NA |\n",
       "| Поточні біологічні активи                                        | 1110 | 0 |     0 |     0.0 |       NA |     0.0 |       NA |\n",
       "| Дебіторська заборгованість за товари, роботи, послуги            | 1125 | 0 |  4399 |  1877.3 |   6795.9 |  1888.0 |   5050.0 |\n",
       "| Дебіторська заборгованість за розрахунками з бюджетом            | 1135 | 0 |     5 |     0.0 |    105.2 |   105.2 |    135.6 |\n",
       "| у тому числі з податку на прибуток                               | 1136 | 0 |     0 |     0.0 |       NA |     0.0 |       NA |\n",
       "| Інша поточна дебіторська заборгованість                          | 1155 | 0 | 20812 | 15775.0 |  11553.9 |   116.7 |     66.2 |\n",
       "| Поточні фінансові інвестиції                                     | 1160 | 0 |     0 |     0.0 |       NA |     0.0 |       NA |\n",
       "| Г роші та їх еквіваленти                                         | 1165 | 0 |   380 |   380.6 |   1265.5 |  1265.5 |  18751.2 |\n",
       "| Витрати майбутніх періодів                                       | 1170 | 0 |     0 |    78.9 |      0.0 |     0.0 |       NA |\n",
       "| Інші оборотні активи                                             | 1190 | 0 |    87 |     0.0 |       NA |     0.0 |       NA |\n",
       "| Усього за розділом II                                            | 1195 | 0 | 25686 | 18132.5 |  19775.1 |  3433.0 |  24003.0 |\n",
       "| III. Необоротні активи, утримувані для продажу, та групи вибуття | 1200 | 0 |     0 |     0.0 |       NA |     0.0 |       NA |\n",
       "| Баланс                                                           | 1300 | 0 | 81141 | 77463.8 | 115957.5 | 99615.4 | 127194.9 |\n",
       "\n"
      ],
      "text/plain": [
       "   Title                                                            Code\n",
       "1  I. Необоротні активи Нематеріальні активи                        1000\n",
       "2  первісна вартість                                                1001\n",
       "3  накопичена амортизація                                           1002\n",
       "4  Незавершені капітальні інвестиції                                1005\n",
       "5  Основні засоби:                                                  1010\n",
       "6  первісна вартість                                                1011\n",
       "7  знос                                                             1012\n",
       "8  Довгострокові біологічні активи                                  1020\n",
       "9  Довгострокові фінансові інвестиції                               1030\n",
       "10 Інші необоротні активи                                           1090\n",
       "11 Усього за розділом I                                             1095\n",
       "12 II. Оборотні активи Запаси:                                      1100\n",
       "13 у тому числі готова продукція                                    1103\n",
       "14 Поточні біологічні активи                                        1110\n",
       "15 Дебіторська заборгованість за товари, роботи, послуги            1125\n",
       "16 Дебіторська заборгованість за розрахунками з бюджетом            1135\n",
       "17 у тому числі з податку на прибуток                               1136\n",
       "18 Інша поточна дебіторська заборгованість                          1155\n",
       "19 Поточні фінансові інвестиції                                     1160\n",
       "20 Г роші та їх еквіваленти                                         1165\n",
       "21 Витрати майбутніх періодів                                       1170\n",
       "22 Інші оборотні активи                                             1190\n",
       "23 Усього за розділом II                                            1195\n",
       "24 III. Необоротні активи, утримувані для продажу, та групи вибуття 1200\n",
       "25 Баланс                                                           1300\n",
       "   Start2020 End2020 Start2021 End2021  Start2022 End2022 \n",
       "1  0         55455     147.8      128.0   128.0       35.6\n",
       "2  0         56214     196.7      295.3   295.3      305.5\n",
       "3  0           759      48.9      167.3   167.3      269.9\n",
       "4  0             0   57755.2    94334.1 94334.1   102894.2\n",
       "5  0             0    1428.3     1720.3  1720.3      262.1\n",
       "6  0             0    2131.9     3921.0  3921.0     3928.3\n",
       "7  0             0     703.6     2200.7  2200.7     3666.2\n",
       "8  0             0       0.0         NA     0.0         NA\n",
       "9  0             0       0.0         NA     0.0         NA\n",
       "10 0             0       0.0         NA     0.0         NA\n",
       "11 0         55455   59331.3    96182.4 96182.4   103191.9\n",
       "12 0             0      20.7       54.6    57.6         NA\n",
       "13 0             0       0.0         NA     0.0         NA\n",
       "14 0             0       0.0         NA     0.0         NA\n",
       "15 0          4399    1877.3     6795.9  1888.0     5050.0\n",
       "16 0             5       0.0      105.2   105.2      135.6\n",
       "17 0             0       0.0         NA     0.0         NA\n",
       "18 0         20812   15775.0    11553.9   116.7       66.2\n",
       "19 0             0       0.0         NA     0.0         NA\n",
       "20 0           380     380.6     1265.5  1265.5    18751.2\n",
       "21 0             0      78.9        0.0     0.0         NA\n",
       "22 0            87       0.0         NA     0.0         NA\n",
       "23 0         25686   18132.5    19775.1  3433.0    24003.0\n",
       "24 0             0       0.0         NA     0.0         NA\n",
       "25 0         81141   77463.8   115957.5 99615.4   127194.9"
      ]
     },
     "metadata": {},
     "output_type": "display_data"
    }
   ],
   "source": [
    "data <- NULL\n",
    "\n",
    "for(y in years) {\n",
    "    df <- read_balance2(company_id, y)\n",
    "    \n",
    "    if(is.null(data)) {        \n",
    "        data <- df\n",
    "    }\n",
    "    else {\n",
    "        data <- cbind(data, df[, 3:4])        \n",
    "     }\n",
    "\n",
    "    print(y)\n",
    "}\n",
    "\n",
    "data"
   ]
  }
 ],
 "metadata": {
  "kernelspec": {
   "display_name": "R",
   "language": "R",
   "name": "ir"
  },
  "language_info": {
   "codemirror_mode": "r",
   "file_extension": ".r",
   "mimetype": "text/x-r-source",
   "name": "R",
   "pygments_lexer": "r",
   "version": "4.1.3"
  }
 },
 "nbformat": 4,
 "nbformat_minor": 5
}
