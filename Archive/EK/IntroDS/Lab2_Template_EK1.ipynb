{
 "cells": [
  {
   "cell_type": "markdown",
   "id": "d695257e-c7dd-44a9-af12-cef60b7d7e12",
   "metadata": {},
   "source": [
    "# Лабораторна робота №2 \"Основи роботи з пакетами\""
   ]
  },
  {
   "cell_type": "markdown",
   "id": "8769faee-414c-495a-8d70-3cf524d455a8",
   "metadata": {},
   "source": [
    "з курсу \"Вступ до програмування для Data Science\", для студентів 1 курсу спеціальності 051 Економічна кібернетика"
   ]
  },
  {
   "cell_type": "markdown",
   "id": "48124904-af1b-433e-b681-b714f5fbd412",
   "metadata": {},
   "source": [
    "---"
   ]
  },
  {
   "cell_type": "markdown",
   "id": "08fbacc2-7c6a-40a6-9375-a8c053f5920f",
   "metadata": {},
   "source": [
    "<div class=\"alert alert-info\">Під час виконання завдання студент/ка зобовязується дотримуватися <a href=\"https://www.oa.edu.ua/publik_information/CODEX.pdf\">Кодексу академічної доброчесності Національного університету. «Острозька академія»</a></div>"
   ]
  },
  {
   "cell_type": "markdown",
   "id": "f951c973-c23e-42f7-bff7-cc46e844d94c",
   "metadata": {},
   "source": [
    "Увага інформація про варіанти завдань розміщена у\n",
    "\n",
    "`Moodle` > \n",
    "`Курс \"Основи програмування для Data Science\"` > \n",
    "`Лабораторні роботи` > \n",
    "`Лабораторна робота №2 \"Основи роботи з пакетами\" (ЕК1, 2024)`"
   ]
  },
  {
   "cell_type": "markdown",
   "id": "3f31824f-9dc9-42e1-b087-74a300eb9e80",
   "metadata": {},
   "source": [
    "📣 Здавати потрібно архів з файлом ноутбука та набором даних, який використаний для завдання 3 у `.zip`-архіві (`Прізвище_Імя_Lab1.zip`). Ноутбук перейменувати на `Прізвище_Імя_Lab1_EK2.ipynb`. ПІ студента краще написати латинськими літерами (транскрипція), адже окремі архіватори можуть погано працювати з іменуванням кирилицею."
   ]
  },
  {
   "cell_type": "markdown",
   "id": "c4e4538f-1d7d-44f6-aff9-dc6bd0ec9cfe",
   "metadata": {},
   "source": [
    "№№"
   ]
  },
  {
   "cell_type": "markdown",
   "id": "c503196a-47c0-4d7b-b0f6-f125296eef9d",
   "metadata": {},
   "source": [
    "---"
   ]
  },
  {
   "cell_type": "markdown",
   "id": "1479097b-0f42-44fa-b86f-3153bbc74f36",
   "metadata": {},
   "source": [
    "## 0. Додайте інформацію про себе"
   ]
  },
  {
   "cell_type": "markdown",
   "id": "ebd8236a-3f1d-4fbd-98f0-c1b5b68af3ce",
   "metadata": {},
   "source": [
    "Створіть список (`list`) з інформаціє про себе та виведіть інформацію. Вам потрібно відобразити у списку наступну інформацію: `прізвище` та `і'мя`, `назва групи`, `населений пункт` звідки Ви родом,  `варіант завдання`."
   ]
  },
  {
   "cell_type": "code",
   "execution_count": 1,
   "id": "988cbf28-ed6e-4cf5-b7d9-780e917a9665",
   "metadata": {},
   "outputs": [
    {
     "data": {
      "text/html": [
       "<dl>\n",
       "\t<dt>$Name</dt>\n",
       "\t\t<dd>'Yurii'</dd>\n",
       "\t<dt>$Variant</dt>\n",
       "\t\t<dd>0</dd>\n",
       "</dl>\n"
      ],
      "text/latex": [
       "\\begin{description}\n",
       "\\item[\\$Name] 'Yurii'\n",
       "\\item[\\$Variant] 0\n",
       "\\end{description}\n"
      ],
      "text/markdown": [
       "$Name\n",
       ":   'Yurii'\n",
       "$Variant\n",
       ":   0\n",
       "\n",
       "\n"
      ],
      "text/plain": [
       "$Name\n",
       "[1] \"Yurii\"\n",
       "\n",
       "$Variant\n",
       "[1] 0\n"
      ]
     },
     "metadata": {},
     "output_type": "display_data"
    }
   ],
   "source": [
    "data <- list(Name = 'Yurii', Variant = 0)\n",
    "data"
   ]
  },
  {
   "cell_type": "markdown",
   "id": "8e608c7a-1570-489d-8b5a-0a24104077b7",
   "metadata": {},
   "source": [
    "> Примітка. Використайте як seed номер варіанту у комірках, де будете генерувати випадкові значення:"
   ]
  },
  {
   "cell_type": "code",
   "execution_count": 1,
   "id": "21893663-95e6-4e84-a75a-2e18c0823e3a",
   "metadata": {},
   "outputs": [],
   "source": [
    "set.seed(0) # якщо варіант 0-вий"
   ]
  },
  {
   "cell_type": "markdown",
   "id": "51fedda2-9662-4d3f-9a35-c5091a726b82",
   "metadata": {},
   "source": [
    "---"
   ]
  },
  {
   "cell_type": "markdown",
   "id": "fa184bba-0abc-4db4-a834-a42090451dcf",
   "metadata": {},
   "source": [
    "## 1. Дати визначення (1 бал)"
   ]
  },
  {
   "cell_type": "markdown",
   "id": "904e9e3a-5b60-4c49-a57d-510f6a6b801c",
   "metadata": {},
   "source": [
    "> Потрібно дати визначення усіх понять в контексті курсу, що вивчається. Кожне поняття оформити у окремій комірці з виділенням важливих компонентів та вказанням джерела інформації, як, наприклад, нижче. "
   ]
  },
  {
   "cell_type": "markdown",
   "id": "57ffe36c-d4b2-4e79-9aa3-569e2d90f44a",
   "metadata": {},
   "source": [
    "`Економі́чна кіберне́тика` — науковий напрям кібернетики, що вивчає **проблеми застосування** її методів і засобів для **дослідження** та організації економічних процесів.\n",
    "\n",
    "_Джерело: [https://uk.wikipedia.org/wiki/%D0%95%D0%BA%D0%BE%D0%BD%D0%BE%D0%BC%D1%96%D1%87%D0%BD%D0%B0_%D0%BA%D1%96%D0%B1%D0%B5%D1%80%D0%BD%D0%B5%D1%82%D0%B8%D0%BA%D0%B0](https://en.wikipedia.org/wiki/Економічна_кібернетика)_"
   ]
  },
  {
   "cell_type": "markdown",
   "id": "862dd8d9-6abc-4e2d-9b3b-d59fb95f7bcb",
   "metadata": {},
   "source": [
    "---"
   ]
  },
  {
   "cell_type": "markdown",
   "id": "56da4e94-88dc-4e07-9fc0-dfb1444db887",
   "metadata": {},
   "source": [
    "👉 Перелік визначень: `вектор`, `data-frame`, `розгалуження`, `цикл`, `аналіз даних`, `програмування`, `математичне моделювання`"
   ]
  },
  {
   "cell_type": "markdown",
   "id": "4bfac9f7-a330-40c3-b2d0-9c651ad241cc",
   "metadata": {},
   "source": [
    "> _Додайте комірки нижче... Цю комірку можна знищити..._"
   ]
  },
  {
   "cell_type": "markdown",
   "id": "29ca3bb2-6f74-4128-91a6-ff70286c802a",
   "metadata": {},
   "source": [
    "---"
   ]
  },
  {
   "cell_type": "markdown",
   "id": "6e98eb24-f30a-4590-b422-b6b2eb68a905",
   "metadata": {},
   "source": [
    "## 2. Основи роботи з Jupyter Notebook (2 бал)"
   ]
  },
  {
   "cell_type": "markdown",
   "id": "6ba41152-cf32-44a8-a6f3-bbd151b8886f",
   "metadata": {},
   "source": [
    "> Продемонструйте приклади оформлення матеріалів у Jupyter Notebook"
   ]
  },
  {
   "cell_type": "markdown",
   "id": "ae4a679c-727f-4bee-864c-27f809c2f284",
   "metadata": {},
   "source": [
    "#### Заголовки"
   ]
  },
  {
   "cell_type": "markdown",
   "id": "f31f90da-fff0-4883-819a-33ffd59a71b4",
   "metadata": {},
   "source": [
    "#### Форматування тексту"
   ]
  },
  {
   "cell_type": "markdown",
   "id": "378c8e4c-f82c-4bdc-9b84-a173536056bf",
   "metadata": {},
   "source": [
    "#### Emoji"
   ]
  },
  {
   "cell_type": "markdown",
   "id": "46055b4d-dcf0-4e15-a8c0-5fed0afc6837",
   "metadata": {},
   "source": [
    "Додайте приклади вставки у текст emoji."
   ]
  },
  {
   "cell_type": "markdown",
   "id": "cc567aeb-b7dd-4b40-b54f-df94aa3558e7",
   "metadata": {},
   "source": [
    "#### Посилання\n"
   ]
  },
  {
   "cell_type": "markdown",
   "id": "b1ec2001-75e9-4c76-b3bd-1b5afe6e82d3",
   "metadata": {},
   "source": [
    "Оформіть список використаної під час виконання лабораторної роботи літератури у формі пислань на джерела."
   ]
  },
  {
   "cell_type": "markdown",
   "id": "fd148df8-9e2e-455d-9aa2-ba7c97bd3972",
   "metadata": {},
   "source": [
    "#### Списки"
   ]
  },
  {
   "cell_type": "markdown",
   "id": "77092c9d-2c90-4345-af60-ab8c314d1aad",
   "metadata": {},
   "source": [
    "- Нумеровані\n",
    "- Ненумеровані\n",
    "- Ієрархічні"
   ]
  },
  {
   "cell_type": "markdown",
   "id": "ef2fc224-e92f-4a6f-b39c-c1754dbf1f13",
   "metadata": {},
   "source": [
    "#### Формули"
   ]
  },
  {
   "cell_type": "markdown",
   "id": "62da84d7-1b71-4cd2-b4e6-3bf2ee7a3621",
   "metadata": {},
   "source": [
    "Оберіть одну із своїх улюблених формули зі шкілького або університетського курсу математики / економіки та напишіть її. Рекомендую також скористатися онлайн-редактором формул `Latex`, щоб ознайомитися з принципами формування формул http://primat.org/mathred/mathred.html, Наприклад,"
   ]
  },
  {
   "cell_type": "markdown",
   "id": "0549751d-a2e9-4f5b-94d9-9f0ddc1cd112",
   "metadata": {},
   "source": [
    "$D = \\frac{-b\\pm\\sqrt{b^2-4ac}}{2a}$, де $D$ - дискримініат, $a$, $b$, $c$ - параметри квадратного рівняння."
   ]
  },
  {
   "cell_type": "markdown",
   "id": "eba4bf45-f020-4f9a-80c7-4c23bb67791a",
   "metadata": {},
   "source": [
    "## 2. Основи алгоритмізації (4 бали)"
   ]
  },
  {
   "cell_type": "markdown",
   "id": "2eeacda9-1d0a-4ed4-8185-c1fb45113619",
   "metadata": {},
   "source": [
    "### 3.1. Оператори (0.5 балів)"
   ]
  },
  {
   "cell_type": "markdown",
   "id": "b5ba39f1-87e8-4913-a476-8c6e416c761a",
   "metadata": {},
   "source": [
    "> 👉 Опишіть 2-ма комірками (`Code` + `Markdown`) усі відомі Вам оператори у `R` (кожен окремо). У комірці з кодом наведіть приклади використання оператора, у комірці з розміткою пояснення: як оператор працює. Кожен оператор у звіті виділіть заголовком 4-го рівня (####) та піпишіть."
   ]
  },
  {
   "cell_type": "markdown",
   "id": "0ef733ab-b3f0-456c-959d-258faa0dc073",
   "metadata": {},
   "source": [
    "### 3.2. Типи даних (0.5 балів)"
   ]
  },
  {
   "cell_type": "markdown",
   "id": "d45e40d4-79e1-43a6-b160-52cb23a55176",
   "metadata": {},
   "source": [
    "> 👉 Створіть приклади векторів/об'єктів різник типів даних (кожен в окремій комірці ноутбука) та виведіть їх:\n",
    "> - вектор цілих чисел;\n",
    "> - вектор чисел з дробовою частиною;\n",
    "> - вектор факторів;\n",
    "> - вектор \"текстів\";\n",
    "> - матрицю;\n",
    "> - дата-фрейм;\n",
    "> - список.\n",
    "> Іменуйте змінні у форматі `назва_типу_V`, де `V` - номер Вашого варіанту. Наприклад, `dataframe_5`."
   ]
  },
  {
   "cell_type": "markdown",
   "id": "a45b1fc6-a290-4f6d-bf38-70fb0ded82dd",
   "metadata": {},
   "source": [
    "### 3.3. Вектори (1 бал)"
   ]
  },
  {
   "cell_type": "markdown",
   "id": "0bfd21e2-25c0-42ab-8b75-641212bce622",
   "metadata": {},
   "source": [
    "👉 Завдання 1. Проініціалізуйте вектор випадковими 100 значеннями у діапазоні з завдання _`3.2. Дата-фрейми > Обчислення`_ Вашого варіанту.\n",
    "\n",
    "Якщо Ваш діапазон чисел є досить малим, домножте межі на 100, 200 на власний розсуд. Заокругліть числа до цілих, якщо вони мають зробову частину."
   ]
  },
  {
   "cell_type": "code",
   "execution_count": null,
   "id": "75e69899-4e0f-49d6-a7ed-3e8473f7485e",
   "metadata": {},
   "outputs": [],
   "source": []
  },
  {
   "cell_type": "markdown",
   "id": "953dcb95-4402-461d-8372-7a7ae079f47c",
   "metadata": {},
   "source": [
    "👉 Завдання 2. Знайдіть у векторі найбільше непарне значення (для непаних варіантів) або найбільше парне значення (для парних варіантів)."
   ]
  },
  {
   "cell_type": "code",
   "execution_count": null,
   "id": "787d4d49-b77e-4558-97f9-212e0b13107e",
   "metadata": {},
   "outputs": [],
   "source": []
  },
  {
   "cell_type": "markdown",
   "id": "98936bb7-035d-42ff-8cc9-8cbaa680663e",
   "metadata": {},
   "source": [
    "👉 Завдання 3. Порахуйте різницю між максимальним значенням та середнім, мінімальним значенням та середнім. Напишіть текстом до якого значення середнє ближче: максимального чи мінімального?"
   ]
  },
  {
   "cell_type": "code",
   "execution_count": null,
   "id": "a2c176e5-e83e-4005-9d7f-8ac3fc8e05d1",
   "metadata": {},
   "outputs": [],
   "source": []
  },
  {
   "cell_type": "markdown",
   "id": "82393b9d-3860-46a4-a023-b915f25b31eb",
   "metadata": {},
   "source": [
    "_* Тут буде текст з поясненням до завдання 3_"
   ]
  },
  {
   "cell_type": "markdown",
   "id": "f35882a6-3455-4101-b590-9a777b848932",
   "metadata": {},
   "source": [
    "👉 Завдання 4. Побудуйте гістораму розподілу значень."
   ]
  },
  {
   "cell_type": "code",
   "execution_count": null,
   "id": "af31a9ac-ce1d-4fc2-8ce9-8b58facb015d",
   "metadata": {},
   "outputs": [],
   "source": []
  },
  {
   "cell_type": "markdown",
   "id": "e71d7045-4cf3-4e86-aec8-c492d103b9ef",
   "metadata": {},
   "source": [
    "---"
   ]
  },
  {
   "cell_type": "markdown",
   "id": "5971f3f4-4525-4c2c-936e-d531de94acd3",
   "metadata": {},
   "source": [
    "### 3.2. Дата-фрейми (1 бал)"
   ]
  },
  {
   "cell_type": "markdown",
   "id": "3a19db2d-f80b-41d3-bfdb-52b97ac57c3d",
   "metadata": {},
   "source": [
    "> Перенесіть у цю комірку завдання. Також перенаберіть формулу Вашого варіанту. Як працювати з формулами можна почитати тут [Writing Math Equations in Jupyter (Art of Thinking)](https://sakurachaojun.github.io/PSYO3505/others/latex.html) або за запитом у google `jupyter notebook math equations`"
   ]
  },
  {
   "cell_type": "markdown",
   "id": "37e9db2b-9609-42dd-9e6b-dd2915e9425c",
   "metadata": {},
   "source": [
    "👉 Відповідно до обраного/отриманого варіанту завдання створити data.frame та заповнити його значеннями `X`. Значення `Y` записати на першому етапі як пропуски у даних."
   ]
  },
  {
   "cell_type": "code",
   "execution_count": null,
   "id": "95f21faa-7031-496c-90e8-f7f1a4096914",
   "metadata": {},
   "outputs": [],
   "source": []
  },
  {
   "cell_type": "markdown",
   "id": "ef306ea7-4d24-4a62-9675-ebd96d80e7e9",
   "metadata": {},
   "source": [
    "👉 Обчисліть `Y` та виведіть перші 5 та останні 5 значень у наборі даних"
   ]
  },
  {
   "cell_type": "code",
   "execution_count": null,
   "id": "ec5cd3bc-b677-4daa-9552-4b44bda00bd7",
   "metadata": {},
   "outputs": [],
   "source": [
    "# top 5"
   ]
  },
  {
   "cell_type": "code",
   "execution_count": 2,
   "id": "023aaa1e-9167-48fa-9f8b-953a82c2aa1e",
   "metadata": {},
   "outputs": [],
   "source": [
    "# last 5"
   ]
  },
  {
   "cell_type": "markdown",
   "id": "58c8604c-04c5-4502-be67-1068e5da5b99",
   "metadata": {},
   "source": [
    "👉 Інші обчислення, що потрібно виконати у завданні"
   ]
  },
  {
   "cell_type": "code",
   "execution_count": null,
   "id": "50e79cb4-2af3-48e5-a5d6-82528434cbb0",
   "metadata": {},
   "outputs": [],
   "source": []
  },
  {
   "cell_type": "markdown",
   "id": "d073b213-4de1-48d9-bbe8-b1a1db08ee8f",
   "metadata": {},
   "source": [
    "### 3.3. Функції (1 бал)"
   ]
  },
  {
   "cell_type": "markdown",
   "id": "c2844bb5-b7d9-4821-abff-165087da1604",
   "metadata": {},
   "source": [
    "Увага! Для реалізації функції не можна використовувати вбудовані функції, що уже обчислюють ці значення, але лише алгоритмічне програмування з використанням розгалужень, циклів та властивостей типів дани (вектори, матриці, структури)."
   ]
  },
  {
   "cell_type": "markdown",
   "id": "5ecfb39b-5a09-4f46-aa9c-e850d5fb8d7f",
   "metadata": {},
   "source": [
    "---"
   ]
  },
  {
   "cell_type": "markdown",
   "id": "ae517088-2d07-4dfd-aad8-19649157e48e",
   "metadata": {},
   "source": [
    "## 4. Статистика (2 бали)"
   ]
  },
  {
   "cell_type": "markdown",
   "id": "79407cf7-ead9-4b9c-a11a-2ba8aa055a19",
   "metadata": {},
   "source": [
    "👉 Завантажте набір даних, визначений Вашим варіантом завдання.\n",
    "\n",
    "👉 Додайте короткий опис полів набору даних як розмітку.\n",
    "\n",
    "👉 Трансформуйте типи даних стовпців до потрібної форми: якісь до `factor`-рів, якісь до чисел і т.д. \n",
    "\n",
    "👉 Перегляньте інформацію про набір даних за допомогою функцій `str()`, `summary()` та інших, що використовувалися на заняттях.\n",
    "\n",
    "👉 Проаналізуйте статистичні показники усіх полів, що мають числовий тип даних (`numeric`). Зробіть висновки про стастистичний розподіл цих показників, наявність асиметрії у даних.\n",
    "\n",
    "👉 Визначте, які з полів мають найвищу попарну кореляцію, які найменшу. Опишіть це, зробіть припущення про те, який показник на який впаливає.\n",
    "\n",
    "👉 Проаналізуйте поля, що мають категоріальну форму (`factor`, `character`). "
   ]
  },
  {
   "cell_type": "code",
   "execution_count": 2,
   "id": "e804724d-490b-4eb8-a005-0d75d659acd1",
   "metadata": {},
   "outputs": [],
   "source": [
    "# Кількість комірок з кодом не обмежена. Аналіз потрібно здійснити шляхом обчислень та додаткового текстового опису від виконавця.\n",
    "# Також варто використовувати гістограми чи інші діаграми для візуалізації."
   ]
  },
  {
   "cell_type": "markdown",
   "id": "29223fcb-e783-429d-9d4a-98fc589d25ce",
   "metadata": {},
   "source": [
    "---"
   ]
  },
  {
   "cell_type": "markdown",
   "id": "b13865b7-984d-4754-85c4-0c03923c4c6f",
   "metadata": {},
   "source": [
    "## 5. Робота з даними (6 балів)"
   ]
  },
  {
   "cell_type": "markdown",
   "id": "13514ab0-80c2-46c8-9424-44d52ca94504",
   "metadata": {},
   "source": [
    "### 5.1. Генерація набору даних (2 бали)"
   ]
  },
  {
   "cell_type": "markdown",
   "id": "5744ca7e-401d-41c0-8737-62dcaa97aa9e",
   "metadata": {},
   "source": [
    "Створіть набір даних, відповідно до варіанту завдання (1000 спостежень).\n",
    "\n",
    "> **Увага. Генеруйте дані таким чином, щоб вони були реалістичними для сценарію Вашої теми. Наприклад, якщо це продажі автомобілів, то мають бути присутні справжні марки, реалістичні роки випуску, ціни та пробіги.**\n",
    ">\n",
    "> Також опишіть принцип гереації кожного параметра.\n",
    ">\n",
    "> Не забувайте перечитати завдання для обчислень і врахувати коректну інформацію про дати (наприклад, продажі у той же день різним клієнтам), відповідність ціни обраному товару і т.д. Не може ківі коштувати 100 грн за кілограм, потім 300 грн за кілограм і далі знову 100.\n",
    "> \n",
    "> P.S. Не забувайте про seed."
   ]
  },
  {
   "cell_type": "markdown",
   "id": "ea88ab18-48db-46c2-998e-300c0c1ce40f",
   "metadata": {},
   "source": [
    "### 5.2. Дайте відповіді на завдання обчислень (4 бали)"
   ]
  },
  {
   "cell_type": "markdown",
   "id": "c55bf14b-d46f-481e-bf95-5532501fb983",
   "metadata": {},
   "source": [
    "> Увага! Для кожного окремого завдання обчислень напишіть функцію, а потім в окремій комірці викличьте її, щоб перевірити роботу.\n",
    "> Кожну відповідь окремо опишіть коміркою коду з функцією, коміркою коду з викликом функції та коміркою тексту з поясненнями. "
   ]
  },
  {
   "cell_type": "markdown",
   "id": "cc94042f-404c-4162-aef2-642d8f6d0399",
   "metadata": {},
   "source": [
    "---"
   ]
  },
  {
   "cell_type": "markdown",
   "id": "b0cba05a-d9fb-4da6-a9dd-1121e4ac5935",
   "metadata": {},
   "source": [
    "&copy; 2024 Юрій Клебан"
   ]
  }
 ],
 "metadata": {
  "kernelspec": {
   "display_name": "R",
   "language": "R",
   "name": "ir"
  },
  "language_info": {
   "codemirror_mode": "r",
   "file_extension": ".r",
   "mimetype": "text/x-r-source",
   "name": "R",
   "pygments_lexer": "r",
   "version": "4.1.3"
  }
 },
 "nbformat": 4,
 "nbformat_minor": 5
}
