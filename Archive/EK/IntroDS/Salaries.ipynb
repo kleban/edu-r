{
 "cells": [
  {
   "cell_type": "code",
   "execution_count": 2,
   "id": "38364126-eb01-4b04-8e39-644008c12823",
   "metadata": {},
   "outputs": [
    {
     "data": {
      "text/html": [
       "<table class=\"dataframe\">\n",
       "<caption>A data.frame: 6 x 11</caption>\n",
       "<thead>\n",
       "\t<tr><th></th><th scope=col>work_year</th><th scope=col>experience_level</th><th scope=col>employment_type</th><th scope=col>job_title</th><th scope=col>salary</th><th scope=col>salary_currency</th><th scope=col>salary_in_usd</th><th scope=col>employee_residence</th><th scope=col>remote_ratio</th><th scope=col>company_location</th><th scope=col>company_size</th></tr>\n",
       "\t<tr><th></th><th scope=col>&lt;int&gt;</th><th scope=col>&lt;chr&gt;</th><th scope=col>&lt;chr&gt;</th><th scope=col>&lt;chr&gt;</th><th scope=col>&lt;int&gt;</th><th scope=col>&lt;chr&gt;</th><th scope=col>&lt;int&gt;</th><th scope=col>&lt;chr&gt;</th><th scope=col>&lt;int&gt;</th><th scope=col>&lt;chr&gt;</th><th scope=col>&lt;chr&gt;</th></tr>\n",
       "</thead>\n",
       "<tbody>\n",
       "\t<tr><th scope=row>1</th><td>2023</td><td>SE</td><td>FT</td><td>Principal Data Scientist</td><td> 80000</td><td>EUR</td><td> 85847</td><td>ES</td><td>100</td><td>ES</td><td>L</td></tr>\n",
       "\t<tr><th scope=row>2</th><td>2023</td><td>MI</td><td>CT</td><td>ML Engineer             </td><td> 30000</td><td>USD</td><td> 30000</td><td>US</td><td>100</td><td>US</td><td>S</td></tr>\n",
       "\t<tr><th scope=row>3</th><td>2023</td><td>MI</td><td>CT</td><td>ML Engineer             </td><td> 25500</td><td>USD</td><td> 25500</td><td>US</td><td>100</td><td>US</td><td>S</td></tr>\n",
       "\t<tr><th scope=row>4</th><td>2023</td><td>SE</td><td>FT</td><td>Data Scientist          </td><td>175000</td><td>USD</td><td>175000</td><td>CA</td><td>100</td><td>CA</td><td>M</td></tr>\n",
       "\t<tr><th scope=row>5</th><td>2023</td><td>SE</td><td>FT</td><td>Data Scientist          </td><td>120000</td><td>USD</td><td>120000</td><td>CA</td><td>100</td><td>CA</td><td>M</td></tr>\n",
       "\t<tr><th scope=row>6</th><td>2023</td><td>SE</td><td>FT</td><td>Applied Scientist       </td><td>222200</td><td>USD</td><td>222200</td><td>US</td><td>  0</td><td>US</td><td>L</td></tr>\n",
       "</tbody>\n",
       "</table>\n"
      ],
      "text/latex": [
       "A data.frame: 6 x 11\n",
       "\\begin{tabular}{r|lllllllllll}\n",
       "  & work\\_year & experience\\_level & employment\\_type & job\\_title & salary & salary\\_currency & salary\\_in\\_usd & employee\\_residence & remote\\_ratio & company\\_location & company\\_size\\\\\n",
       "  & <int> & <chr> & <chr> & <chr> & <int> & <chr> & <int> & <chr> & <int> & <chr> & <chr>\\\\\n",
       "\\hline\n",
       "\t1 & 2023 & SE & FT & Principal Data Scientist &  80000 & EUR &  85847 & ES & 100 & ES & L\\\\\n",
       "\t2 & 2023 & MI & CT & ML Engineer              &  30000 & USD &  30000 & US & 100 & US & S\\\\\n",
       "\t3 & 2023 & MI & CT & ML Engineer              &  25500 & USD &  25500 & US & 100 & US & S\\\\\n",
       "\t4 & 2023 & SE & FT & Data Scientist           & 175000 & USD & 175000 & CA & 100 & CA & M\\\\\n",
       "\t5 & 2023 & SE & FT & Data Scientist           & 120000 & USD & 120000 & CA & 100 & CA & M\\\\\n",
       "\t6 & 2023 & SE & FT & Applied Scientist        & 222200 & USD & 222200 & US &   0 & US & L\\\\\n",
       "\\end{tabular}\n"
      ],
      "text/markdown": [
       "\n",
       "A data.frame: 6 x 11\n",
       "\n",
       "| <!--/--> | work_year &lt;int&gt; | experience_level &lt;chr&gt; | employment_type &lt;chr&gt; | job_title &lt;chr&gt; | salary &lt;int&gt; | salary_currency &lt;chr&gt; | salary_in_usd &lt;int&gt; | employee_residence &lt;chr&gt; | remote_ratio &lt;int&gt; | company_location &lt;chr&gt; | company_size &lt;chr&gt; |\n",
       "|---|---|---|---|---|---|---|---|---|---|---|---|\n",
       "| 1 | 2023 | SE | FT | Principal Data Scientist |  80000 | EUR |  85847 | ES | 100 | ES | L |\n",
       "| 2 | 2023 | MI | CT | ML Engineer              |  30000 | USD |  30000 | US | 100 | US | S |\n",
       "| 3 | 2023 | MI | CT | ML Engineer              |  25500 | USD |  25500 | US | 100 | US | S |\n",
       "| 4 | 2023 | SE | FT | Data Scientist           | 175000 | USD | 175000 | CA | 100 | CA | M |\n",
       "| 5 | 2023 | SE | FT | Data Scientist           | 120000 | USD | 120000 | CA | 100 | CA | M |\n",
       "| 6 | 2023 | SE | FT | Applied Scientist        | 222200 | USD | 222200 | US |   0 | US | L |\n",
       "\n"
      ],
      "text/plain": [
       "  work_year experience_level employment_type job_title                salary\n",
       "1 2023      SE               FT              Principal Data Scientist  80000\n",
       "2 2023      MI               CT              ML Engineer               30000\n",
       "3 2023      MI               CT              ML Engineer               25500\n",
       "4 2023      SE               FT              Data Scientist           175000\n",
       "5 2023      SE               FT              Data Scientist           120000\n",
       "6 2023      SE               FT              Applied Scientist        222200\n",
       "  salary_currency salary_in_usd employee_residence remote_ratio\n",
       "1 EUR              85847        ES                 100         \n",
       "2 USD              30000        US                 100         \n",
       "3 USD              25500        US                 100         \n",
       "4 USD             175000        CA                 100         \n",
       "5 USD             120000        CA                 100         \n",
       "6 USD             222200        US                   0         \n",
       "  company_location company_size\n",
       "1 ES               L           \n",
       "2 US               S           \n",
       "3 US               S           \n",
       "4 CA               M           \n",
       "5 CA               M           \n",
       "6 US               L           "
      ]
     },
     "metadata": {},
     "output_type": "display_data"
    }
   ],
   "source": [
    "data <- read.csv(\"ds_salaries.csv\")\n",
    "head(data)"
   ]
  },
  {
   "cell_type": "code",
   "execution_count": 13,
   "id": "8dc66d20-8c81-4ffb-b7a7-8d6d966ebc1e",
   "metadata": {},
   "outputs": [
    {
     "name": "stderr",
     "output_type": "stream",
     "text": [
      "\u001b[1m\u001b[22m`summarise()` has grouped output by 'experience_level', 'job_title'. You can\n",
      "override using the `.groups` argument.\n"
     ]
    },
    {
     "data": {
      "text/html": [
       "<table class=\"dataframe\">\n",
       "<caption>A grouped_df: 8 x 6</caption>\n",
       "<thead>\n",
       "\t<tr><th scope=col>experience_level</th><th scope=col>job_title</th><th scope=col>2020</th><th scope=col>2021</th><th scope=col>2022</th><th scope=col>2023</th></tr>\n",
       "\t<tr><th scope=col>&lt;chr&gt;</th><th scope=col>&lt;chr&gt;</th><th scope=col>&lt;dbl&gt;</th><th scope=col>&lt;dbl&gt;</th><th scope=col>&lt;dbl&gt;</th><th scope=col>&lt;dbl&gt;</th></tr>\n",
       "</thead>\n",
       "<tbody>\n",
       "\t<tr><td>EN</td><td>Data Engineer </td><td>1624500.00</td><td> 681750.0</td><td>106992.0</td><td>137580.6</td></tr>\n",
       "\t<tr><td>EN</td><td>Data Scientist</td><td>  50366.67</td><td> 481440.0</td><td>419199.1</td><td>290291.6</td></tr>\n",
       "\t<tr><td>EX</td><td>Data Engineer </td><td>  70000.00</td><td>       NA</td><td>234700.0</td><td>203898.2</td></tr>\n",
       "\t<tr><td>EX</td><td>Data Scientist</td><td>        NA</td><td>       NA</td><td>144500.0</td><td>187875.0</td></tr>\n",
       "\t<tr><td>MI</td><td>Data Engineer </td><td>  87614.14</td><td>  97563.1</td><td>124665.7</td><td>117880.2</td></tr>\n",
       "\t<tr><td>MI</td><td>Data Scientist</td><td>1333010.00</td><td>1427335.4</td><td>226889.1</td><td>157434.7</td></tr>\n",
       "\t<tr><td>SE</td><td>Data Engineer </td><td> 316666.67</td><td> 134045.5</td><td>148010.0</td><td>158970.5</td></tr>\n",
       "\t<tr><td>SE</td><td>Data Scientist</td><td> 168000.00</td><td> 603840.0</td><td>151688.1</td><td>167621.1</td></tr>\n",
       "</tbody>\n",
       "</table>\n"
      ],
      "text/latex": [
       "A grouped\\_df: 8 x 6\n",
       "\\begin{tabular}{llllll}\n",
       " experience\\_level & job\\_title & 2020 & 2021 & 2022 & 2023\\\\\n",
       " <chr> & <chr> & <dbl> & <dbl> & <dbl> & <dbl>\\\\\n",
       "\\hline\n",
       "\t EN & Data Engineer  & 1624500.00 &  681750.0 & 106992.0 & 137580.6\\\\\n",
       "\t EN & Data Scientist &   50366.67 &  481440.0 & 419199.1 & 290291.6\\\\\n",
       "\t EX & Data Engineer  &   70000.00 &        NA & 234700.0 & 203898.2\\\\\n",
       "\t EX & Data Scientist &         NA &        NA & 144500.0 & 187875.0\\\\\n",
       "\t MI & Data Engineer  &   87614.14 &   97563.1 & 124665.7 & 117880.2\\\\\n",
       "\t MI & Data Scientist & 1333010.00 & 1427335.4 & 226889.1 & 157434.7\\\\\n",
       "\t SE & Data Engineer  &  316666.67 &  134045.5 & 148010.0 & 158970.5\\\\\n",
       "\t SE & Data Scientist &  168000.00 &  603840.0 & 151688.1 & 167621.1\\\\\n",
       "\\end{tabular}\n"
      ],
      "text/markdown": [
       "\n",
       "A grouped_df: 8 x 6\n",
       "\n",
       "| experience_level &lt;chr&gt; | job_title &lt;chr&gt; | 2020 &lt;dbl&gt; | 2021 &lt;dbl&gt; | 2022 &lt;dbl&gt; | 2023 &lt;dbl&gt; |\n",
       "|---|---|---|---|---|---|\n",
       "| EN | Data Engineer  | 1624500.00 |  681750.0 | 106992.0 | 137580.6 |\n",
       "| EN | Data Scientist |   50366.67 |  481440.0 | 419199.1 | 290291.6 |\n",
       "| EX | Data Engineer  |   70000.00 |        NA | 234700.0 | 203898.2 |\n",
       "| EX | Data Scientist |         NA |        NA | 144500.0 | 187875.0 |\n",
       "| MI | Data Engineer  |   87614.14 |   97563.1 | 124665.7 | 117880.2 |\n",
       "| MI | Data Scientist | 1333010.00 | 1427335.4 | 226889.1 | 157434.7 |\n",
       "| SE | Data Engineer  |  316666.67 |  134045.5 | 148010.0 | 158970.5 |\n",
       "| SE | Data Scientist |  168000.00 |  603840.0 | 151688.1 | 167621.1 |\n",
       "\n"
      ],
      "text/plain": [
       "  experience_level job_title      2020       2021      2022     2023    \n",
       "1 EN               Data Engineer  1624500.00  681750.0 106992.0 137580.6\n",
       "2 EN               Data Scientist   50366.67  481440.0 419199.1 290291.6\n",
       "3 EX               Data Engineer    70000.00        NA 234700.0 203898.2\n",
       "4 EX               Data Scientist         NA        NA 144500.0 187875.0\n",
       "5 MI               Data Engineer    87614.14   97563.1 124665.7 117880.2\n",
       "6 MI               Data Scientist 1333010.00 1427335.4 226889.1 157434.7\n",
       "7 SE               Data Engineer   316666.67  134045.5 148010.0 158970.5\n",
       "8 SE               Data Scientist  168000.00  603840.0 151688.1 167621.1"
      ]
     },
     "metadata": {},
     "output_type": "display_data"
    }
   ],
   "source": [
    "library(dplyr)\n",
    "library(tidyr)\n",
    "data %>% filter(job_title %in% c(\"Data Scientist\", \"Data Engineer\")) |>\n",
    "    group_by(experience_level, job_title, work_year) |>\n",
    "    summarise(avg = mean(salary)) |>\n",
    "    spread(work_year, avg)"
   ]
  },
  {
   "cell_type": "code",
   "execution_count": null,
   "id": "daea39d4-ba68-49db-a712-7751ac1bf356",
   "metadata": {},
   "outputs": [],
   "source": []
  }
 ],
 "metadata": {
  "kernelspec": {
   "display_name": "R",
   "language": "R",
   "name": "ir"
  },
  "language_info": {
   "codemirror_mode": "r",
   "file_extension": ".r",
   "mimetype": "text/x-r-source",
   "name": "R",
   "pygments_lexer": "r",
   "version": "4.1.3"
  }
 },
 "nbformat": 4,
 "nbformat_minor": 5
}
