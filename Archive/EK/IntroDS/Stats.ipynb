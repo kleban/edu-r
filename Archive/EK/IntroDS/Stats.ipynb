{
 "cells": [
  {
   "cell_type": "markdown",
   "id": "91e1cdae-bb47-487b-9c6c-4ea74230cb85",
   "metadata": {},
   "source": [
    "# Основи статистики в R"
   ]
  },
  {
   "cell_type": "markdown",
   "id": "7fb468e8-74d7-4ffb-8b12-29db08749cf3",
   "metadata": {},
   "source": [
    "## 1. Завантаження пакету `tidyverse`"
   ]
  },
  {
   "cell_type": "code",
   "execution_count": 4,
   "id": "36e48f4e-a8ba-41fb-a85b-bc4dedb51eb8",
   "metadata": {},
   "outputs": [],
   "source": [
    "# install.packages(\"tidyverse\")"
   ]
  },
  {
   "cell_type": "code",
   "execution_count": 8,
   "id": "286faa00-deda-4896-93b4-3d3ffc84e843",
   "metadata": {},
   "outputs": [],
   "source": [
    "library(tidyverse)"
   ]
  },
  {
   "cell_type": "code",
   "execution_count": 9,
   "id": "f4e3b4b6-7d32-40ce-a79e-def2fa27da38",
   "metadata": {},
   "outputs": [],
   "source": [
    "library(ggplot2)"
   ]
  },
  {
   "cell_type": "markdown",
   "id": "73655ca9-2972-4e68-919c-75e280cbd923",
   "metadata": {},
   "source": [
    "## 2. Огляд набору даних"
   ]
  },
  {
   "cell_type": "code",
   "execution_count": 10,
   "id": "59635320-18f6-4efa-bbb3-781c0283a929",
   "metadata": {},
   "outputs": [
    {
     "data": {
      "text/html": [
       "<table class=\"dataframe\">\n",
       "<caption>A tibble: 5 x 11</caption>\n",
       "<thead>\n",
       "\t<tr><th scope=col>name</th><th scope=col>genus</th><th scope=col>vore</th><th scope=col>order</th><th scope=col>conservation</th><th scope=col>sleep_total</th><th scope=col>sleep_rem</th><th scope=col>sleep_cycle</th><th scope=col>awake</th><th scope=col>brainwt</th><th scope=col>bodywt</th></tr>\n",
       "\t<tr><th scope=col>&lt;chr&gt;</th><th scope=col>&lt;chr&gt;</th><th scope=col>&lt;chr&gt;</th><th scope=col>&lt;chr&gt;</th><th scope=col>&lt;chr&gt;</th><th scope=col>&lt;dbl&gt;</th><th scope=col>&lt;dbl&gt;</th><th scope=col>&lt;dbl&gt;</th><th scope=col>&lt;dbl&gt;</th><th scope=col>&lt;dbl&gt;</th><th scope=col>&lt;dbl&gt;</th></tr>\n",
       "</thead>\n",
       "<tbody>\n",
       "\t<tr><td>Cheetah                   </td><td>Acinonyx  </td><td>carni</td><td>Carnivora   </td><td>lc          </td><td>12.1</td><td> NA</td><td>       NA</td><td>11.9</td><td>     NA</td><td> 50.000</td></tr>\n",
       "\t<tr><td>Owl monkey                </td><td>Aotus     </td><td>omni </td><td>Primates    </td><td>NA          </td><td>17.0</td><td>1.8</td><td>       NA</td><td> 7.0</td><td>0.01550</td><td>  0.480</td></tr>\n",
       "\t<tr><td>Mountain beaver           </td><td>Aplodontia</td><td>herbi</td><td>Rodentia    </td><td>nt          </td><td>14.4</td><td>2.4</td><td>       NA</td><td> 9.6</td><td>     NA</td><td>  1.350</td></tr>\n",
       "\t<tr><td>Greater short-tailed shrew</td><td>Blarina   </td><td>omni </td><td>Soricomorpha</td><td>lc          </td><td>14.9</td><td>2.3</td><td>0.1333333</td><td> 9.1</td><td>0.00029</td><td>  0.019</td></tr>\n",
       "\t<tr><td>Cow                       </td><td>Bos       </td><td>herbi</td><td>Artiodactyla</td><td>domesticated</td><td> 4.0</td><td>0.7</td><td>0.6666667</td><td>20.0</td><td>0.42300</td><td>600.000</td></tr>\n",
       "</tbody>\n",
       "</table>\n"
      ],
      "text/latex": [
       "A tibble: 5 x 11\n",
       "\\begin{tabular}{lllllllllll}\n",
       " name & genus & vore & order & conservation & sleep\\_total & sleep\\_rem & sleep\\_cycle & awake & brainwt & bodywt\\\\\n",
       " <chr> & <chr> & <chr> & <chr> & <chr> & <dbl> & <dbl> & <dbl> & <dbl> & <dbl> & <dbl>\\\\\n",
       "\\hline\n",
       "\t Cheetah                    & Acinonyx   & carni & Carnivora    & lc           & 12.1 &  NA &        NA & 11.9 &      NA &  50.000\\\\\n",
       "\t Owl monkey                 & Aotus      & omni  & Primates     & NA           & 17.0 & 1.8 &        NA &  7.0 & 0.01550 &   0.480\\\\\n",
       "\t Mountain beaver            & Aplodontia & herbi & Rodentia     & nt           & 14.4 & 2.4 &        NA &  9.6 &      NA &   1.350\\\\\n",
       "\t Greater short-tailed shrew & Blarina    & omni  & Soricomorpha & lc           & 14.9 & 2.3 & 0.1333333 &  9.1 & 0.00029 &   0.019\\\\\n",
       "\t Cow                        & Bos        & herbi & Artiodactyla & domesticated &  4.0 & 0.7 & 0.6666667 & 20.0 & 0.42300 & 600.000\\\\\n",
       "\\end{tabular}\n"
      ],
      "text/markdown": [
       "\n",
       "A tibble: 5 x 11\n",
       "\n",
       "| name &lt;chr&gt; | genus &lt;chr&gt; | vore &lt;chr&gt; | order &lt;chr&gt; | conservation &lt;chr&gt; | sleep_total &lt;dbl&gt; | sleep_rem &lt;dbl&gt; | sleep_cycle &lt;dbl&gt; | awake &lt;dbl&gt; | brainwt &lt;dbl&gt; | bodywt &lt;dbl&gt; |\n",
       "|---|---|---|---|---|---|---|---|---|---|---|\n",
       "| Cheetah                    | Acinonyx   | carni | Carnivora    | lc           | 12.1 |  NA |        NA | 11.9 |      NA |  50.000 |\n",
       "| Owl monkey                 | Aotus      | omni  | Primates     | NA           | 17.0 | 1.8 |        NA |  7.0 | 0.01550 |   0.480 |\n",
       "| Mountain beaver            | Aplodontia | herbi | Rodentia     | nt           | 14.4 | 2.4 |        NA |  9.6 |      NA |   1.350 |\n",
       "| Greater short-tailed shrew | Blarina    | omni  | Soricomorpha | lc           | 14.9 | 2.3 | 0.1333333 |  9.1 | 0.00029 |   0.019 |\n",
       "| Cow                        | Bos        | herbi | Artiodactyla | domesticated |  4.0 | 0.7 | 0.6666667 | 20.0 | 0.42300 | 600.000 |\n",
       "\n"
      ],
      "text/plain": [
       "  name                       genus      vore  order        conservation\n",
       "1 Cheetah                    Acinonyx   carni Carnivora    lc          \n",
       "2 Owl monkey                 Aotus      omni  Primates     NA          \n",
       "3 Mountain beaver            Aplodontia herbi Rodentia     nt          \n",
       "4 Greater short-tailed shrew Blarina    omni  Soricomorpha lc          \n",
       "5 Cow                        Bos        herbi Artiodactyla domesticated\n",
       "  sleep_total sleep_rem sleep_cycle awake brainwt bodywt \n",
       "1 12.1         NA              NA   11.9       NA  50.000\n",
       "2 17.0        1.8              NA    7.0  0.01550   0.480\n",
       "3 14.4        2.4              NA    9.6       NA   1.350\n",
       "4 14.9        2.3       0.1333333    9.1  0.00029   0.019\n",
       "5  4.0        0.7       0.6666667   20.0  0.42300 600.000"
      ]
     },
     "metadata": {},
     "output_type": "display_data"
    }
   ],
   "source": [
    "head(msleep, 5)"
   ]
  },
  {
   "cell_type": "code",
   "execution_count": 12,
   "id": "90dbc91a-171a-437f-b4fb-f4965a1da55d",
   "metadata": {},
   "outputs": [
    {
     "data": {
      "text/html": [
       "\n",
       "<table width=\"100%\" summary=\"page for msleep {ggplot2}\"><tr><td>msleep {ggplot2}</td><td style=\"text-align: right;\">R Documentation</td></tr></table>\n",
       "\n",
       "<h2>An updated and expanded version of the mammals sleep dataset</h2>\n",
       "\n",
       "<h3>Description</h3>\n",
       "\n",
       "<p>This is an updated and expanded version of the mammals sleep dataset.\n",
       "Updated sleep times and weights were taken from V. M. Savage and G. B.\n",
       "West. A quantitative, theoretical framework for understanding mammalian\n",
       "sleep. Proceedings of the National Academy of Sciences, 104 (3):1051-1056,\n",
       "2007.\n",
       "</p>\n",
       "\n",
       "\n",
       "<h3>Usage</h3>\n",
       "\n",
       "<pre>\n",
       "msleep\n",
       "</pre>\n",
       "\n",
       "\n",
       "<h3>Format</h3>\n",
       "\n",
       "<p>A data frame with 83 rows and 11 variables:\n",
       "</p>\n",
       "\n",
       "<dl>\n",
       "<dt>name</dt><dd><p>common name</p>\n",
       "</dd>\n",
       "<dt>genus</dt><dd></dd>\n",
       "<dt>vore</dt><dd><p>carnivore, omnivore or herbivore?</p>\n",
       "</dd>\n",
       "<dt>order</dt><dd></dd>\n",
       "<dt>conservation</dt><dd><p>the conservation status of the animal</p>\n",
       "</dd>\n",
       "<dt>sleep_total</dt><dd><p>total amount of sleep, in hours</p>\n",
       "</dd>\n",
       "<dt>sleep_rem</dt><dd><p>rem sleep, in hours</p>\n",
       "</dd>\n",
       "<dt>sleep_cycle</dt><dd><p>length of sleep cycle, in hours</p>\n",
       "</dd>\n",
       "<dt>awake</dt><dd><p>amount of time spent awake, in hours</p>\n",
       "</dd>\n",
       "<dt>brainwt</dt><dd><p>brain weight in kilograms</p>\n",
       "</dd>\n",
       "<dt>bodywt</dt><dd><p>body weight in kilograms</p>\n",
       "</dd>\n",
       "</dl>\n",
       "\n",
       "\n",
       "\n",
       "<h3>Details</h3>\n",
       "\n",
       "<p>Additional variables order, conservation status and vore were added from\n",
       "wikipedia.\n",
       "</p>\n",
       "\n",
       "<hr /><div style=\"text-align: center;\">[Package <em>ggplot2</em> version 3.4.2 ]</div>"
      ],
      "text/latex": [
       "\\inputencoding{utf8}\n",
       "\\HeaderA{msleep}{An updated and expanded version of the mammals sleep dataset}{msleep}\n",
       "\\keyword{datasets}{msleep}\n",
       "%\n",
       "\\begin{Description}\\relax\n",
       "This is an updated and expanded version of the mammals sleep dataset.\n",
       "Updated sleep times and weights were taken from V. M. Savage and G. B.\n",
       "West. A quantitative, theoretical framework for understanding mammalian\n",
       "sleep. Proceedings of the National Academy of Sciences, 104 (3):1051-1056,\n",
       "2007.\n",
       "\\end{Description}\n",
       "%\n",
       "\\begin{Usage}\n",
       "\\begin{verbatim}\n",
       "msleep\n",
       "\\end{verbatim}\n",
       "\\end{Usage}\n",
       "%\n",
       "\\begin{Format}\n",
       "A data frame with 83 rows and 11 variables:\n",
       "\\begin{description}\n",
       "\n",
       "\\item[name] common name\n",
       "\\item[genus] \n",
       "\\item[vore] carnivore, omnivore or herbivore?\n",
       "\\item[order] \n",
       "\\item[conservation] the conservation status of the animal\n",
       "\\item[sleep\\_total] total amount of sleep, in hours\n",
       "\\item[sleep\\_rem] rem sleep, in hours\n",
       "\\item[sleep\\_cycle] length of sleep cycle, in hours\n",
       "\\item[awake] amount of time spent awake, in hours\n",
       "\\item[brainwt] brain weight in kilograms\n",
       "\\item[bodywt] body weight in kilograms\n",
       "\n",
       "\\end{description}\n",
       "\n",
       "\\end{Format}\n",
       "%\n",
       "\\begin{Details}\\relax\n",
       "Additional variables order, conservation status and vore were added from\n",
       "wikipedia.\n",
       "\\end{Details}"
      ],
      "text/plain": [
       "msleep                 package:ggplot2                 R Documentation\n",
       "\n",
       "_\bA_\bn _\bu_\bp_\bd_\ba_\bt_\be_\bd _\ba_\bn_\bd _\be_\bx_\bp_\ba_\bn_\bd_\be_\bd _\bv_\be_\br_\bs_\bi_\bo_\bn _\bo_\bf _\bt_\bh_\be _\bm_\ba_\bm_\bm_\ba_\bl_\bs _\bs_\bl_\be_\be_\bp _\bd_\ba_\bt_\ba_\bs_\be_\bt\n",
       "\n",
       "_\bD_\be_\bs_\bc_\br_\bi_\bp_\bt_\bi_\bo_\bn:\n",
       "\n",
       "     This is an updated and expanded version of the mammals sleep\n",
       "     dataset. Updated sleep times and weights were taken from V. M.\n",
       "     Savage and G. B. West. A quantitative, theoretical framework for\n",
       "     understanding mammalian sleep. Proceedings of the National Academy\n",
       "     of Sciences, 104 (3):1051-1056, 2007.\n",
       "\n",
       "_\bU_\bs_\ba_\bg_\be:\n",
       "\n",
       "     msleep\n",
       "     \n",
       "_\bF_\bo_\br_\bm_\ba_\bt:\n",
       "\n",
       "     A data frame with 83 rows and 11 variables:\n",
       "\n",
       "     name common name\n",
       "\n",
       "     genus\n",
       "\n",
       "     vore carnivore, omnivore or herbivore?\n",
       "\n",
       "     order\n",
       "\n",
       "     conservation the conservation status of the animal\n",
       "\n",
       "     sleep_total total amount of sleep, in hours\n",
       "\n",
       "     sleep_rem rem sleep, in hours\n",
       "\n",
       "     sleep_cycle length of sleep cycle, in hours\n",
       "\n",
       "     awake amount of time spent awake, in hours\n",
       "\n",
       "     brainwt brain weight in kilograms\n",
       "\n",
       "     bodywt body weight in kilograms\n",
       "\n",
       "_\bD_\be_\bt_\ba_\bi_\bl_\bs:\n",
       "\n",
       "     Additional variables order, conservation status and vore were\n",
       "     added from wikipedia.\n"
      ]
     },
     "metadata": {},
     "output_type": "display_data"
    }
   ],
   "source": [
    "?msleep"
   ]
  },
  {
   "cell_type": "code",
   "execution_count": 16,
   "id": "b7d3b3a5-9e59-4c05-bf81-22ff4706307d",
   "metadata": {},
   "outputs": [
    {
     "data": {
      "text/html": [
       "0.00014"
      ],
      "text/latex": [
       "0.00014"
      ],
      "text/markdown": [
       "0.00014"
      ],
      "text/plain": [
       "[1] 0.00014"
      ]
     },
     "metadata": {},
     "output_type": "display_data"
    }
   ],
   "source": [
    "min(msleep$brainwt, na.rm = T)"
   ]
  },
  {
   "cell_type": "code",
   "execution_count": 18,
   "id": "7a3d48e5-ae65-4f38-a339-da127166b790",
   "metadata": {},
   "outputs": [
    {
     "data": {
      "text/html": [
       "5.712"
      ],
      "text/latex": [
       "5.712"
      ],
      "text/markdown": [
       "5.712"
      ],
      "text/plain": [
       "[1] 5.712"
      ]
     },
     "metadata": {},
     "output_type": "display_data"
    }
   ],
   "source": [
    "max(msleep$brainwt, na.rm = T)"
   ]
  },
  {
   "cell_type": "code",
   "execution_count": 20,
   "id": "5217254f-d2c2-41f9-97c6-b1f6abaee06a",
   "metadata": {},
   "outputs": [
    {
     "data": {
      "text/html": [
       "<style>\n",
       ".list-inline {list-style: none; margin:0; padding: 0}\n",
       ".list-inline>li {display: inline-block}\n",
       ".list-inline>li:not(:last-child)::after {content: \"\\00b7\"; padding: 0 .5ex}\n",
       "</style>\n",
       "<ol class=list-inline><li>0.00014</li><li>5.712</li></ol>\n"
      ],
      "text/latex": [
       "\\begin{enumerate*}\n",
       "\\item 0.00014\n",
       "\\item 5.712\n",
       "\\end{enumerate*}\n"
      ],
      "text/markdown": [
       "1. 0.00014\n",
       "2. 5.712\n",
       "\n",
       "\n"
      ],
      "text/plain": [
       "[1] 0.00014 5.71200"
      ]
     },
     "metadata": {},
     "output_type": "display_data"
    }
   ],
   "source": [
    "range(msleep$brainwt, na.rm = T)"
   ]
  },
  {
   "cell_type": "code",
   "execution_count": 23,
   "id": "b53f8068-5957-488a-babb-b9347c0e3336",
   "metadata": {},
   "outputs": [
    {
     "data": {
      "text/html": [
       "0.281581428571429"
      ],
      "text/latex": [
       "0.281581428571429"
      ],
      "text/markdown": [
       "0.281581428571429"
      ],
      "text/plain": [
       "[1] 0.2815814"
      ]
     },
     "metadata": {},
     "output_type": "display_data"
    }
   ],
   "source": [
    "mean(msleep$brainwt, na.rm = T)"
   ]
  },
  {
   "cell_type": "code",
   "execution_count": 24,
   "id": "2a8e9bde-b69d-45dd-bad9-c3d9781385f9",
   "metadata": {},
   "outputs": [
    {
     "data": {
      "text/html": [
       "<style>\n",
       ".list-inline {list-style: none; margin:0; padding: 0}\n",
       ".list-inline>li {display: inline-block}\n",
       ".list-inline>li:not(:last-child)::after {content: \"\\00b7\"; padding: 0 .5ex}\n",
       "</style>\n",
       "<ol class=list-inline><li>0.005</li><li>6654</li></ol>\n"
      ],
      "text/latex": [
       "\\begin{enumerate*}\n",
       "\\item 0.005\n",
       "\\item 6654\n",
       "\\end{enumerate*}\n"
      ],
      "text/markdown": [
       "1. 0.005\n",
       "2. 6654\n",
       "\n",
       "\n"
      ],
      "text/plain": [
       "[1]    0.005 6654.000"
      ]
     },
     "metadata": {},
     "output_type": "display_data"
    }
   ],
   "source": [
    "range(msleep$bodywt)"
   ]
  },
  {
   "cell_type": "code",
   "execution_count": 26,
   "id": "75144bd4-93c6-4cb1-8f9f-88844a5f1d13",
   "metadata": {},
   "outputs": [
    {
     "data": {
      "text/html": [
       "1.67"
      ],
      "text/latex": [
       "1.67"
      ],
      "text/markdown": [
       "1.67"
      ],
      "text/plain": [
       "[1] 1.67"
      ]
     },
     "metadata": {},
     "output_type": "display_data"
    }
   ],
   "source": [
    "median(msleep$bodywt)"
   ]
  },
  {
   "cell_type": "code",
   "execution_count": 28,
   "id": "5ac89b8c-f8d4-4eeb-b1f2-284ecc6eca49",
   "metadata": {},
   "outputs": [
    {
     "data": {
      "text/plain": [
       "\n",
       "  carni   herbi insecti    omni \n",
       "     19      32       5      20 "
      ]
     },
     "metadata": {},
     "output_type": "display_data"
    }
   ],
   "source": [
    "table(msleep$vore)"
   ]
  },
  {
   "cell_type": "code",
   "execution_count": 30,
   "id": "b42edfb9-b82a-4433-b127-4d9ab0d7dc59",
   "metadata": {},
   "outputs": [
    {
     "data": {
      "text/plain": [
       "     name              genus               vore              order          \n",
       " Length:83          Length:83          Length:83          Length:83         \n",
       " Class :character   Class :character   Class :character   Class :character  \n",
       " Mode  :character   Mode  :character   Mode  :character   Mode  :character  \n",
       "                                                                            \n",
       "                                                                            \n",
       "                                                                            \n",
       "                                                                            \n",
       " conservation        sleep_total      sleep_rem      sleep_cycle    \n",
       " Length:83          Min.   : 1.90   Min.   :0.100   Min.   :0.1167  \n",
       " Class :character   1st Qu.: 7.85   1st Qu.:0.900   1st Qu.:0.1833  \n",
       " Mode  :character   Median :10.10   Median :1.500   Median :0.3333  \n",
       "                    Mean   :10.43   Mean   :1.875   Mean   :0.4396  \n",
       "                    3rd Qu.:13.75   3rd Qu.:2.400   3rd Qu.:0.5792  \n",
       "                    Max.   :19.90   Max.   :6.600   Max.   :1.5000  \n",
       "                                    NA's   :22      NA's   :51      \n",
       "     awake          brainwt            bodywt        \n",
       " Min.   : 4.10   Min.   :0.00014   Min.   :   0.005  \n",
       " 1st Qu.:10.25   1st Qu.:0.00290   1st Qu.:   0.174  \n",
       " Median :13.90   Median :0.01240   Median :   1.670  \n",
       " Mean   :13.57   Mean   :0.28158   Mean   : 166.136  \n",
       " 3rd Qu.:16.15   3rd Qu.:0.12550   3rd Qu.:  41.750  \n",
       " Max.   :22.10   Max.   :5.71200   Max.   :6654.000  \n",
       "                 NA's   :27                          "
      ]
     },
     "metadata": {},
     "output_type": "display_data"
    }
   ],
   "source": [
    "summary(msleep)"
   ]
  },
  {
   "cell_type": "code",
   "execution_count": 32,
   "id": "5e7c5e74-f275-4bc9-a9b1-679ca5a75c06",
   "metadata": {},
   "outputs": [
    {
     "data": {
      "text/html": [
       "619116.763149498"
      ],
      "text/latex": [
       "619116.763149498"
      ],
      "text/markdown": [
       "619116.763149498"
      ],
      "text/plain": [
       "[1] 619116.8"
      ]
     },
     "metadata": {},
     "output_type": "display_data"
    }
   ],
   "source": [
    "var(msleep$bodywt)"
   ]
  },
  {
   "cell_type": "code",
   "execution_count": 38,
   "id": "cd548bd3-0d08-4999-8c9f-51e85875765f",
   "metadata": {},
   "outputs": [
    {
     "data": {
      "text/html": [
       "0.751754999228714"
      ],
      "text/latex": [
       "0.751754999228714"
      ],
      "text/markdown": [
       "0.751754999228714"
      ],
      "text/plain": [
       "[1] 0.751755"
      ]
     },
     "metadata": {},
     "output_type": "display_data"
    }
   ],
   "source": [
    "cor(msleep$sleep_total, msleep$sleep_rem, use = \"complete.obs\")"
   ]
  },
  {
   "cell_type": "code",
   "execution_count": 40,
   "id": "fad7ea50-25f1-42b9-b637-3b59e97c0b94",
   "metadata": {},
   "outputs": [
    {
     "data": {
      "image/png": "[encoded data removed]",
      "text/plain": [
       "plot without title"
      ]
     },
     "metadata": {
      "image/png": {
       "height": 420,
       "width": 420
      }
     },
     "output_type": "display_data"
    }
   ],
   "source": [
    "plot(msleep$sleep_total, msleep$sleep_rem)"
   ]
  },
  {
   "cell_type": "code",
   "execution_count": 42,
   "id": "920b97bf-409f-4401-96d9-26de5b2b86d3",
   "metadata": {},
   "outputs": [
    {
     "name": "stdout",
     "output_type": "stream",
     "text": [
      "\n",
      "  There is a binary version available but the source version is later:\n",
      "      binary source needs_compilation\n",
      "psych  2.3.3  2.4.3             FALSE\n",
      "\n"
     ]
    },
    {
     "name": "stderr",
     "output_type": "stream",
     "text": [
      "installing the source package 'psych'\n",
      "\n",
      "\n"
     ]
    }
   ],
   "source": [
    "# install.packages(\"psych\")"
   ]
  },
  {
   "cell_type": "code",
   "execution_count": 44,
   "id": "eacfdc70-3912-40a1-8f37-95eae75552b5",
   "metadata": {},
   "outputs": [],
   "source": [
    "library(psych)"
   ]
  },
  {
   "cell_type": "code",
   "execution_count": 45,
   "id": "b0702be4-2e7d-4a73-a26e-faf7aac05cc4",
   "metadata": {},
   "outputs": [
    {
     "data": {
      "text/html": [
       "<table class=\"dataframe\">\n",
       "<caption>A psych: 11 x 13</caption>\n",
       "<thead>\n",
       "\t<tr><th></th><th scope=col>vars</th><th scope=col>n</th><th scope=col>mean</th><th scope=col>sd</th><th scope=col>median</th><th scope=col>trimmed</th><th scope=col>mad</th><th scope=col>min</th><th scope=col>max</th><th scope=col>range</th><th scope=col>skew</th><th scope=col>kurtosis</th><th scope=col>se</th></tr>\n",
       "\t<tr><th></th><th scope=col>&lt;int&gt;</th><th scope=col>&lt;dbl&gt;</th><th scope=col>&lt;dbl&gt;</th><th scope=col>&lt;dbl&gt;</th><th scope=col>&lt;dbl&gt;</th><th scope=col>&lt;dbl&gt;</th><th scope=col>&lt;dbl&gt;</th><th scope=col>&lt;dbl&gt;</th><th scope=col>&lt;dbl&gt;</th><th scope=col>&lt;dbl&gt;</th><th scope=col>&lt;dbl&gt;</th><th scope=col>&lt;dbl&gt;</th><th scope=col>&lt;dbl&gt;</th></tr>\n",
       "</thead>\n",
       "<tbody>\n",
       "\t<tr><th scope=row>name*</th><td> 1</td><td>83</td><td> 42.0000000</td><td> 24.1039416</td><td>42.0000000</td><td>42.00000000</td><td>31.13460000</td><td>1.0000000</td><td>  83.000</td><td>  82.000000</td><td> 0.00000000</td><td>-1.2434523</td><td> 2.64575131</td></tr>\n",
       "\t<tr><th scope=row>genus*</th><td> 2</td><td>83</td><td> 40.2530120</td><td> 22.5176589</td><td>41.0000000</td><td>40.44776119</td><td>28.16940000</td><td>1.0000000</td><td>  77.000</td><td>  76.000000</td><td>-0.05639775</td><td>-1.2520857</td><td> 2.47163416</td></tr>\n",
       "\t<tr><th scope=row>vore*</th><td> 3</td><td>76</td><td>  2.3421053</td><td>  1.1260862</td><td> 2.0000000</td><td> 2.30645161</td><td> 1.48260000</td><td>1.0000000</td><td>   4.000</td><td>   3.000000</td><td> 0.41786835</td><td>-1.2479239</td><td> 0.12917095</td></tr>\n",
       "\t<tr><th scope=row>order*</th><td> 4</td><td>83</td><td> 11.2771084</td><td>  6.1511713</td><td>15.0000000</td><td>11.53731343</td><td> 4.44780000</td><td>1.0000000</td><td>  19.000</td><td>  18.000000</td><td>-0.37717341</td><td>-1.5460760</td><td> 0.67517877</td></tr>\n",
       "\t<tr><th scope=row>conservation*</th><td> 5</td><td>54</td><td>  3.7777778</td><td>  1.3127340</td><td> 4.0000000</td><td> 3.77272727</td><td> 0.74130000</td><td>1.0000000</td><td>   6.000</td><td>   5.000000</td><td>-0.13522194</td><td>-0.5048689</td><td> 0.17864046</td></tr>\n",
       "\t<tr><th scope=row>sleep_total</th><td> 6</td><td>83</td><td> 10.4337349</td><td>  4.4503570</td><td>10.1000000</td><td>10.38358209</td><td> 5.04084000</td><td>1.9000000</td><td>  19.900</td><td>  18.000000</td><td> 0.05230964</td><td>-0.7074466</td><td> 0.48849014</td></tr>\n",
       "\t<tr><th scope=row>sleep_rem</th><td> 7</td><td>61</td><td>  1.8754098</td><td>  1.2982881</td><td> 1.5000000</td><td> 1.70816327</td><td> 1.18608000</td><td>0.1000000</td><td>   6.600</td><td>   6.500000</td><td> 1.46161590</td><td> 2.7342493</td><td> 0.16622875</td></tr>\n",
       "\t<tr><th scope=row>sleep_cycle</th><td> 8</td><td>32</td><td>  0.4395833</td><td>  0.3586801</td><td> 0.3333333</td><td> 0.37628205</td><td> 0.23474500</td><td>0.1166667</td><td>   1.500</td><td>   1.383333</td><td> 1.49498905</td><td> 1.5749153</td><td> 0.06340629</td></tr>\n",
       "\t<tr><th scope=row>awake</th><td> 9</td><td>83</td><td> 13.5674699</td><td>  4.4520852</td><td>13.9000000</td><td>13.61716418</td><td> 5.04084000</td><td>4.1000000</td><td>  22.100</td><td>  18.000000</td><td>-0.05133450</td><td>-0.7073810</td><td> 0.48867984</td></tr>\n",
       "\t<tr><th scope=row>brainwt</th><td>10</td><td>56</td><td>  0.2815814</td><td>  0.9764137</td><td> 0.0124000</td><td> 0.06602717</td><td> 0.01784309</td><td>0.0001400</td><td>   5.712</td><td>   5.711860</td><td> 4.62750025</td><td>20.9636487</td><td> 0.13047877</td></tr>\n",
       "\t<tr><th scope=row>bodywt</th><td>11</td><td>83</td><td>166.1363494</td><td>786.8397316</td><td> 1.6700000</td><td>20.48743284</td><td> 2.43442920</td><td>0.0050000</td><td>6654.000</td><td>6653.995000</td><td> 7.10016261</td><td>53.7180357</td><td>86.36688086</td></tr>\n",
       "</tbody>\n",
       "</table>\n"
      ],
      "text/latex": [
       "A psych: 11 x 13\n",
       "\\begin{tabular}{r|lllllllllllll}\n",
       "  & vars & n & mean & sd & median & trimmed & mad & min & max & range & skew & kurtosis & se\\\\\n",
       "  & <int> & <dbl> & <dbl> & <dbl> & <dbl> & <dbl> & <dbl> & <dbl> & <dbl> & <dbl> & <dbl> & <dbl> & <dbl>\\\\\n",
       "\\hline\n",
       "\tname* &  1 & 83 &  42.0000000 &  24.1039416 & 42.0000000 & 42.00000000 & 31.13460000 & 1.0000000 &   83.000 &   82.000000 &  0.00000000 & -1.2434523 &  2.64575131\\\\\n",
       "\tgenus* &  2 & 83 &  40.2530120 &  22.5176589 & 41.0000000 & 40.44776119 & 28.16940000 & 1.0000000 &   77.000 &   76.000000 & -0.05639775 & -1.2520857 &  2.47163416\\\\\n",
       "\tvore* &  3 & 76 &   2.3421053 &   1.1260862 &  2.0000000 &  2.30645161 &  1.48260000 & 1.0000000 &    4.000 &    3.000000 &  0.41786835 & -1.2479239 &  0.12917095\\\\\n",
       "\torder* &  4 & 83 &  11.2771084 &   6.1511713 & 15.0000000 & 11.53731343 &  4.44780000 & 1.0000000 &   19.000 &   18.000000 & -0.37717341 & -1.5460760 &  0.67517877\\\\\n",
       "\tconservation* &  5 & 54 &   3.7777778 &   1.3127340 &  4.0000000 &  3.77272727 &  0.74130000 & 1.0000000 &    6.000 &    5.000000 & -0.13522194 & -0.5048689 &  0.17864046\\\\\n",
       "\tsleep\\_total &  6 & 83 &  10.4337349 &   4.4503570 & 10.1000000 & 10.38358209 &  5.04084000 & 1.9000000 &   19.900 &   18.000000 &  0.05230964 & -0.7074466 &  0.48849014\\\\\n",
       "\tsleep\\_rem &  7 & 61 &   1.8754098 &   1.2982881 &  1.5000000 &  1.70816327 &  1.18608000 & 0.1000000 &    6.600 &    6.500000 &  1.46161590 &  2.7342493 &  0.16622875\\\\\n",
       "\tsleep\\_cycle &  8 & 32 &   0.4395833 &   0.3586801 &  0.3333333 &  0.37628205 &  0.23474500 & 0.1166667 &    1.500 &    1.383333 &  1.49498905 &  1.5749153 &  0.06340629\\\\\n",
       "\tawake &  9 & 83 &  13.5674699 &   4.4520852 & 13.9000000 & 13.61716418 &  5.04084000 & 4.1000000 &   22.100 &   18.000000 & -0.05133450 & -0.7073810 &  0.48867984\\\\\n",
       "\tbrainwt & 10 & 56 &   0.2815814 &   0.9764137 &  0.0124000 &  0.06602717 &  0.01784309 & 0.0001400 &    5.712 &    5.711860 &  4.62750025 & 20.9636487 &  0.13047877\\\\\n",
       "\tbodywt & 11 & 83 & 166.1363494 & 786.8397316 &  1.6700000 & 20.48743284 &  2.43442920 & 0.0050000 & 6654.000 & 6653.995000 &  7.10016261 & 53.7180357 & 86.36688086\\\\\n",
       "\\end{tabular}\n"
      ],
      "text/markdown": [
       "\n",
       "A psych: 11 x 13\n",
       "\n",
       "| <!--/--> | vars &lt;int&gt; | n &lt;dbl&gt; | mean &lt;dbl&gt; | sd &lt;dbl&gt; | median &lt;dbl&gt; | trimmed &lt;dbl&gt; | mad &lt;dbl&gt; | min &lt;dbl&gt; | max &lt;dbl&gt; | range &lt;dbl&gt; | skew &lt;dbl&gt; | kurtosis &lt;dbl&gt; | se &lt;dbl&gt; |\n",
       "|---|---|---|---|---|---|---|---|---|---|---|---|---|---|\n",
       "| name* |  1 | 83 |  42.0000000 |  24.1039416 | 42.0000000 | 42.00000000 | 31.13460000 | 1.0000000 |   83.000 |   82.000000 |  0.00000000 | -1.2434523 |  2.64575131 |\n",
       "| genus* |  2 | 83 |  40.2530120 |  22.5176589 | 41.0000000 | 40.44776119 | 28.16940000 | 1.0000000 |   77.000 |   76.000000 | -0.05639775 | -1.2520857 |  2.47163416 |\n",
       "| vore* |  3 | 76 |   2.3421053 |   1.1260862 |  2.0000000 |  2.30645161 |  1.48260000 | 1.0000000 |    4.000 |    3.000000 |  0.41786835 | -1.2479239 |  0.12917095 |\n",
       "| order* |  4 | 83 |  11.2771084 |   6.1511713 | 15.0000000 | 11.53731343 |  4.44780000 | 1.0000000 |   19.000 |   18.000000 | -0.37717341 | -1.5460760 |  0.67517877 |\n",
       "| conservation* |  5 | 54 |   3.7777778 |   1.3127340 |  4.0000000 |  3.77272727 |  0.74130000 | 1.0000000 |    6.000 |    5.000000 | -0.13522194 | -0.5048689 |  0.17864046 |\n",
       "| sleep_total |  6 | 83 |  10.4337349 |   4.4503570 | 10.1000000 | 10.38358209 |  5.04084000 | 1.9000000 |   19.900 |   18.000000 |  0.05230964 | -0.7074466 |  0.48849014 |\n",
       "| sleep_rem |  7 | 61 |   1.8754098 |   1.2982881 |  1.5000000 |  1.70816327 |  1.18608000 | 0.1000000 |    6.600 |    6.500000 |  1.46161590 |  2.7342493 |  0.16622875 |\n",
       "| sleep_cycle |  8 | 32 |   0.4395833 |   0.3586801 |  0.3333333 |  0.37628205 |  0.23474500 | 0.1166667 |    1.500 |    1.383333 |  1.49498905 |  1.5749153 |  0.06340629 |\n",
       "| awake |  9 | 83 |  13.5674699 |   4.4520852 | 13.9000000 | 13.61716418 |  5.04084000 | 4.1000000 |   22.100 |   18.000000 | -0.05133450 | -0.7073810 |  0.48867984 |\n",
       "| brainwt | 10 | 56 |   0.2815814 |   0.9764137 |  0.0124000 |  0.06602717 |  0.01784309 | 0.0001400 |    5.712 |    5.711860 |  4.62750025 | 20.9636487 |  0.13047877 |\n",
       "| bodywt | 11 | 83 | 166.1363494 | 786.8397316 |  1.6700000 | 20.48743284 |  2.43442920 | 0.0050000 | 6654.000 | 6653.995000 |  7.10016261 | 53.7180357 | 86.36688086 |\n",
       "\n"
      ],
      "text/plain": [
       "              vars n  mean        sd          median     trimmed    \n",
       "name*          1   83  42.0000000  24.1039416 42.0000000 42.00000000\n",
       "genus*         2   83  40.2530120  22.5176589 41.0000000 40.44776119\n",
       "vore*          3   76   2.3421053   1.1260862  2.0000000  2.30645161\n",
       "order*         4   83  11.2771084   6.1511713 15.0000000 11.53731343\n",
       "conservation*  5   54   3.7777778   1.3127340  4.0000000  3.77272727\n",
       "sleep_total    6   83  10.4337349   4.4503570 10.1000000 10.38358209\n",
       "sleep_rem      7   61   1.8754098   1.2982881  1.5000000  1.70816327\n",
       "sleep_cycle    8   32   0.4395833   0.3586801  0.3333333  0.37628205\n",
       "awake          9   83  13.5674699   4.4520852 13.9000000 13.61716418\n",
       "brainwt       10   56   0.2815814   0.9764137  0.0124000  0.06602717\n",
       "bodywt        11   83 166.1363494 786.8397316  1.6700000 20.48743284\n",
       "              mad         min       max      range       skew        kurtosis  \n",
       "name*         31.13460000 1.0000000   83.000   82.000000  0.00000000 -1.2434523\n",
       "genus*        28.16940000 1.0000000   77.000   76.000000 -0.05639775 -1.2520857\n",
       "vore*          1.48260000 1.0000000    4.000    3.000000  0.41786835 -1.2479239\n",
       "order*         4.44780000 1.0000000   19.000   18.000000 -0.37717341 -1.5460760\n",
       "conservation*  0.74130000 1.0000000    6.000    5.000000 -0.13522194 -0.5048689\n",
       "sleep_total    5.04084000 1.9000000   19.900   18.000000  0.05230964 -0.7074466\n",
       "sleep_rem      1.18608000 0.1000000    6.600    6.500000  1.46161590  2.7342493\n",
       "sleep_cycle    0.23474500 0.1166667    1.500    1.383333  1.49498905  1.5749153\n",
       "awake          5.04084000 4.1000000   22.100   18.000000 -0.05133450 -0.7073810\n",
       "brainwt        0.01784309 0.0001400    5.712    5.711860  4.62750025 20.9636487\n",
       "bodywt         2.43442920 0.0050000 6654.000 6653.995000  7.10016261 53.7180357\n",
       "              se         \n",
       "name*          2.64575131\n",
       "genus*         2.47163416\n",
       "vore*          0.12917095\n",
       "order*         0.67517877\n",
       "conservation*  0.17864046\n",
       "sleep_total    0.48849014\n",
       "sleep_rem      0.16622875\n",
       "sleep_cycle    0.06340629\n",
       "awake          0.48867984\n",
       "brainwt        0.13047877\n",
       "bodywt        86.36688086"
      ]
     },
     "metadata": {},
     "output_type": "display_data"
    }
   ],
   "source": [
    "describe(msleep)"
   ]
  },
  {
   "cell_type": "code",
   "execution_count": 48,
   "id": "f07f3b11-1159-46a3-a9a5-af7011b5d742",
   "metadata": {},
   "outputs": [
    {
     "data": {
      "text/html": [
       "<table class=\"dataframe\">\n",
       "<caption>A tibble: 6 x 11</caption>\n",
       "<thead>\n",
       "\t<tr><th scope=col>name</th><th scope=col>genus</th><th scope=col>vore</th><th scope=col>order</th><th scope=col>conservation</th><th scope=col>sleep_total</th><th scope=col>sleep_rem</th><th scope=col>sleep_cycle</th><th scope=col>awake</th><th scope=col>brainwt</th><th scope=col>bodywt</th></tr>\n",
       "\t<tr><th scope=col>&lt;chr&gt;</th><th scope=col>&lt;chr&gt;</th><th scope=col>&lt;chr&gt;</th><th scope=col>&lt;chr&gt;</th><th scope=col>&lt;chr&gt;</th><th scope=col>&lt;dbl&gt;</th><th scope=col>&lt;dbl&gt;</th><th scope=col>&lt;dbl&gt;</th><th scope=col>&lt;dbl&gt;</th><th scope=col>&lt;dbl&gt;</th><th scope=col>&lt;dbl&gt;</th></tr>\n",
       "</thead>\n",
       "<tbody>\n",
       "\t<tr><td>Cheetah                   </td><td>Acinonyx  </td><td>carni</td><td>Carnivora   </td><td>lc          </td><td>12.1</td><td> NA</td><td>       NA</td><td>11.9</td><td>     NA</td><td> 50.000</td></tr>\n",
       "\t<tr><td>Owl monkey                </td><td>Aotus     </td><td>omni </td><td>Primates    </td><td>NA          </td><td>17.0</td><td>1.8</td><td>       NA</td><td> 7.0</td><td>0.01550</td><td>  0.480</td></tr>\n",
       "\t<tr><td>Mountain beaver           </td><td>Aplodontia</td><td>herbi</td><td>Rodentia    </td><td>nt          </td><td>14.4</td><td>2.4</td><td>       NA</td><td> 9.6</td><td>     NA</td><td>  1.350</td></tr>\n",
       "\t<tr><td>Greater short-tailed shrew</td><td>Blarina   </td><td>omni </td><td>Soricomorpha</td><td>lc          </td><td>14.9</td><td>2.3</td><td>0.1333333</td><td> 9.1</td><td>0.00029</td><td>  0.019</td></tr>\n",
       "\t<tr><td>Cow                       </td><td>Bos       </td><td>herbi</td><td>Artiodactyla</td><td>domesticated</td><td> 4.0</td><td>0.7</td><td>0.6666667</td><td>20.0</td><td>0.42300</td><td>600.000</td></tr>\n",
       "\t<tr><td>Three-toed sloth          </td><td>Bradypus  </td><td>herbi</td><td>Pilosa      </td><td>NA          </td><td>14.4</td><td>2.2</td><td>0.7666667</td><td> 9.6</td><td>     NA</td><td>  3.850</td></tr>\n",
       "</tbody>\n",
       "</table>\n"
      ],
      "text/latex": [
       "A tibble: 6 x 11\n",
       "\\begin{tabular}{lllllllllll}\n",
       " name & genus & vore & order & conservation & sleep\\_total & sleep\\_rem & sleep\\_cycle & awake & brainwt & bodywt\\\\\n",
       " <chr> & <chr> & <chr> & <chr> & <chr> & <dbl> & <dbl> & <dbl> & <dbl> & <dbl> & <dbl>\\\\\n",
       "\\hline\n",
       "\t Cheetah                    & Acinonyx   & carni & Carnivora    & lc           & 12.1 &  NA &        NA & 11.9 &      NA &  50.000\\\\\n",
       "\t Owl monkey                 & Aotus      & omni  & Primates     & NA           & 17.0 & 1.8 &        NA &  7.0 & 0.01550 &   0.480\\\\\n",
       "\t Mountain beaver            & Aplodontia & herbi & Rodentia     & nt           & 14.4 & 2.4 &        NA &  9.6 &      NA &   1.350\\\\\n",
       "\t Greater short-tailed shrew & Blarina    & omni  & Soricomorpha & lc           & 14.9 & 2.3 & 0.1333333 &  9.1 & 0.00029 &   0.019\\\\\n",
       "\t Cow                        & Bos        & herbi & Artiodactyla & domesticated &  4.0 & 0.7 & 0.6666667 & 20.0 & 0.42300 & 600.000\\\\\n",
       "\t Three-toed sloth           & Bradypus   & herbi & Pilosa       & NA           & 14.4 & 2.2 & 0.7666667 &  9.6 &      NA &   3.850\\\\\n",
       "\\end{tabular}\n"
      ],
      "text/markdown": [
       "\n",
       "A tibble: 6 x 11\n",
       "\n",
       "| name &lt;chr&gt; | genus &lt;chr&gt; | vore &lt;chr&gt; | order &lt;chr&gt; | conservation &lt;chr&gt; | sleep_total &lt;dbl&gt; | sleep_rem &lt;dbl&gt; | sleep_cycle &lt;dbl&gt; | awake &lt;dbl&gt; | brainwt &lt;dbl&gt; | bodywt &lt;dbl&gt; |\n",
       "|---|---|---|---|---|---|---|---|---|---|---|\n",
       "| Cheetah                    | Acinonyx   | carni | Carnivora    | lc           | 12.1 |  NA |        NA | 11.9 |      NA |  50.000 |\n",
       "| Owl monkey                 | Aotus      | omni  | Primates     | NA           | 17.0 | 1.8 |        NA |  7.0 | 0.01550 |   0.480 |\n",
       "| Mountain beaver            | Aplodontia | herbi | Rodentia     | nt           | 14.4 | 2.4 |        NA |  9.6 |      NA |   1.350 |\n",
       "| Greater short-tailed shrew | Blarina    | omni  | Soricomorpha | lc           | 14.9 | 2.3 | 0.1333333 |  9.1 | 0.00029 |   0.019 |\n",
       "| Cow                        | Bos        | herbi | Artiodactyla | domesticated |  4.0 | 0.7 | 0.6666667 | 20.0 | 0.42300 | 600.000 |\n",
       "| Three-toed sloth           | Bradypus   | herbi | Pilosa       | NA           | 14.4 | 2.2 | 0.7666667 |  9.6 |      NA |   3.850 |\n",
       "\n"
      ],
      "text/plain": [
       "  name                       genus      vore  order        conservation\n",
       "1 Cheetah                    Acinonyx   carni Carnivora    lc          \n",
       "2 Owl monkey                 Aotus      omni  Primates     NA          \n",
       "3 Mountain beaver            Aplodontia herbi Rodentia     nt          \n",
       "4 Greater short-tailed shrew Blarina    omni  Soricomorpha lc          \n",
       "5 Cow                        Bos        herbi Artiodactyla domesticated\n",
       "6 Three-toed sloth           Bradypus   herbi Pilosa       NA          \n",
       "  sleep_total sleep_rem sleep_cycle awake brainwt bodywt \n",
       "1 12.1         NA              NA   11.9       NA  50.000\n",
       "2 17.0        1.8              NA    7.0  0.01550   0.480\n",
       "3 14.4        2.4              NA    9.6       NA   1.350\n",
       "4 14.9        2.3       0.1333333    9.1  0.00029   0.019\n",
       "5  4.0        0.7       0.6666667   20.0  0.42300 600.000\n",
       "6 14.4        2.2       0.7666667    9.6       NA   3.850"
      ]
     },
     "metadata": {},
     "output_type": "display_data"
    }
   ],
   "source": [
    "head(msleep)"
   ]
  },
  {
   "cell_type": "code",
   "execution_count": 50,
   "id": "ea410210-fea3-4f87-a6c4-00f61a105a82",
   "metadata": {},
   "outputs": [],
   "source": [
    "data <- msleep[, -c(1:5)]"
   ]
  },
  {
   "cell_type": "code",
   "execution_count": 52,
   "id": "0e00101a-86f9-4fbe-a375-74162799f396",
   "metadata": {},
   "outputs": [
    {
     "data": {
      "text/html": [
       "<table class=\"dataframe\">\n",
       "<caption>A tibble: 6 x 6</caption>\n",
       "<thead>\n",
       "\t<tr><th scope=col>sleep_total</th><th scope=col>sleep_rem</th><th scope=col>sleep_cycle</th><th scope=col>awake</th><th scope=col>brainwt</th><th scope=col>bodywt</th></tr>\n",
       "\t<tr><th scope=col>&lt;dbl&gt;</th><th scope=col>&lt;dbl&gt;</th><th scope=col>&lt;dbl&gt;</th><th scope=col>&lt;dbl&gt;</th><th scope=col>&lt;dbl&gt;</th><th scope=col>&lt;dbl&gt;</th></tr>\n",
       "</thead>\n",
       "<tbody>\n",
       "\t<tr><td>12.1</td><td> NA</td><td>       NA</td><td>11.9</td><td>     NA</td><td> 50.000</td></tr>\n",
       "\t<tr><td>17.0</td><td>1.8</td><td>       NA</td><td> 7.0</td><td>0.01550</td><td>  0.480</td></tr>\n",
       "\t<tr><td>14.4</td><td>2.4</td><td>       NA</td><td> 9.6</td><td>     NA</td><td>  1.350</td></tr>\n",
       "\t<tr><td>14.9</td><td>2.3</td><td>0.1333333</td><td> 9.1</td><td>0.00029</td><td>  0.019</td></tr>\n",
       "\t<tr><td> 4.0</td><td>0.7</td><td>0.6666667</td><td>20.0</td><td>0.42300</td><td>600.000</td></tr>\n",
       "\t<tr><td>14.4</td><td>2.2</td><td>0.7666667</td><td> 9.6</td><td>     NA</td><td>  3.850</td></tr>\n",
       "</tbody>\n",
       "</table>\n"
      ],
      "text/latex": [
       "A tibble: 6 x 6\n",
       "\\begin{tabular}{llllll}\n",
       " sleep\\_total & sleep\\_rem & sleep\\_cycle & awake & brainwt & bodywt\\\\\n",
       " <dbl> & <dbl> & <dbl> & <dbl> & <dbl> & <dbl>\\\\\n",
       "\\hline\n",
       "\t 12.1 &  NA &        NA & 11.9 &      NA &  50.000\\\\\n",
       "\t 17.0 & 1.8 &        NA &  7.0 & 0.01550 &   0.480\\\\\n",
       "\t 14.4 & 2.4 &        NA &  9.6 &      NA &   1.350\\\\\n",
       "\t 14.9 & 2.3 & 0.1333333 &  9.1 & 0.00029 &   0.019\\\\\n",
       "\t  4.0 & 0.7 & 0.6666667 & 20.0 & 0.42300 & 600.000\\\\\n",
       "\t 14.4 & 2.2 & 0.7666667 &  9.6 &      NA &   3.850\\\\\n",
       "\\end{tabular}\n"
      ],
      "text/markdown": [
       "\n",
       "A tibble: 6 x 6\n",
       "\n",
       "| sleep_total &lt;dbl&gt; | sleep_rem &lt;dbl&gt; | sleep_cycle &lt;dbl&gt; | awake &lt;dbl&gt; | brainwt &lt;dbl&gt; | bodywt &lt;dbl&gt; |\n",
       "|---|---|---|---|---|---|\n",
       "| 12.1 |  NA |        NA | 11.9 |      NA |  50.000 |\n",
       "| 17.0 | 1.8 |        NA |  7.0 | 0.01550 |   0.480 |\n",
       "| 14.4 | 2.4 |        NA |  9.6 |      NA |   1.350 |\n",
       "| 14.9 | 2.3 | 0.1333333 |  9.1 | 0.00029 |   0.019 |\n",
       "|  4.0 | 0.7 | 0.6666667 | 20.0 | 0.42300 | 600.000 |\n",
       "| 14.4 | 2.2 | 0.7666667 |  9.6 |      NA |   3.850 |\n",
       "\n"
      ],
      "text/plain": [
       "  sleep_total sleep_rem sleep_cycle awake brainwt bodywt \n",
       "1 12.1         NA              NA   11.9       NA  50.000\n",
       "2 17.0        1.8              NA    7.0  0.01550   0.480\n",
       "3 14.4        2.4              NA    9.6       NA   1.350\n",
       "4 14.9        2.3       0.1333333    9.1  0.00029   0.019\n",
       "5  4.0        0.7       0.6666667   20.0  0.42300 600.000\n",
       "6 14.4        2.2       0.7666667    9.6       NA   3.850"
      ]
     },
     "metadata": {},
     "output_type": "display_data"
    }
   ],
   "source": [
    "head(data)"
   ]
  },
  {
   "cell_type": "code",
   "execution_count": 53,
   "id": "69cfb6d5-af19-4866-bf21-14bf650dd650",
   "metadata": {},
   "outputs": [],
   "source": [
    "cor_matrix <- cor(data, use = \"complete.obs\")"
   ]
  },
  {
   "cell_type": "code",
   "execution_count": 55,
   "id": "ed922959-a234-4c21-9b4c-e803532d029c",
   "metadata": {},
   "outputs": [
    {
     "data": {
      "text/html": [
       "<table class=\"dataframe\">\n",
       "<caption>A matrix: 6 x 6 of type dbl</caption>\n",
       "<thead>\n",
       "\t<tr><th></th><th scope=col>sleep_total</th><th scope=col>sleep_rem</th><th scope=col>sleep_cycle</th><th scope=col>awake</th><th scope=col>brainwt</th><th scope=col>bodywt</th></tr>\n",
       "</thead>\n",
       "<tbody>\n",
       "\t<tr><th scope=row>sleep_total</th><td> 1.0000000</td><td> 0.6618840</td><td>-0.5159194</td><td>-1.0000000</td><td>-0.4597432</td><td>-0.6035842</td></tr>\n",
       "\t<tr><th scope=row>sleep_rem</th><td> 0.6618840</td><td> 1.0000000</td><td>-0.3522936</td><td>-0.6618840</td><td>-0.2820403</td><td>-0.4089389</td></tr>\n",
       "\t<tr><th scope=row>sleep_cycle</th><td>-0.5159194</td><td>-0.3522936</td><td> 1.0000000</td><td> 0.5159194</td><td> 0.8516203</td><td> 0.4343020</td></tr>\n",
       "\t<tr><th scope=row>awake</th><td>-1.0000000</td><td>-0.6618840</td><td> 0.5159194</td><td> 1.0000000</td><td> 0.4597432</td><td> 0.6035842</td></tr>\n",
       "\t<tr><th scope=row>brainwt</th><td>-0.4597432</td><td>-0.2820403</td><td> 0.8516203</td><td> 0.4597432</td><td> 1.0000000</td><td> 0.4830048</td></tr>\n",
       "\t<tr><th scope=row>bodywt</th><td>-0.6035842</td><td>-0.4089389</td><td> 0.4343020</td><td> 0.6035842</td><td> 0.4830048</td><td> 1.0000000</td></tr>\n",
       "</tbody>\n",
       "</table>\n"
      ],
      "text/latex": [
       "A matrix: 6 x 6 of type dbl\n",
       "\\begin{tabular}{r|llllll}\n",
       "  & sleep\\_total & sleep\\_rem & sleep\\_cycle & awake & brainwt & bodywt\\\\\n",
       "\\hline\n",
       "\tsleep\\_total &  1.0000000 &  0.6618840 & -0.5159194 & -1.0000000 & -0.4597432 & -0.6035842\\\\\n",
       "\tsleep\\_rem &  0.6618840 &  1.0000000 & -0.3522936 & -0.6618840 & -0.2820403 & -0.4089389\\\\\n",
       "\tsleep\\_cycle & -0.5159194 & -0.3522936 &  1.0000000 &  0.5159194 &  0.8516203 &  0.4343020\\\\\n",
       "\tawake & -1.0000000 & -0.6618840 &  0.5159194 &  1.0000000 &  0.4597432 &  0.6035842\\\\\n",
       "\tbrainwt & -0.4597432 & -0.2820403 &  0.8516203 &  0.4597432 &  1.0000000 &  0.4830048\\\\\n",
       "\tbodywt & -0.6035842 & -0.4089389 &  0.4343020 &  0.6035842 &  0.4830048 &  1.0000000\\\\\n",
       "\\end{tabular}\n"
      ],
      "text/markdown": [
       "\n",
       "A matrix: 6 x 6 of type dbl\n",
       "\n",
       "| <!--/--> | sleep_total | sleep_rem | sleep_cycle | awake | brainwt | bodywt |\n",
       "|---|---|---|---|---|---|---|\n",
       "| sleep_total |  1.0000000 |  0.6618840 | -0.5159194 | -1.0000000 | -0.4597432 | -0.6035842 |\n",
       "| sleep_rem |  0.6618840 |  1.0000000 | -0.3522936 | -0.6618840 | -0.2820403 | -0.4089389 |\n",
       "| sleep_cycle | -0.5159194 | -0.3522936 |  1.0000000 |  0.5159194 |  0.8516203 |  0.4343020 |\n",
       "| awake | -1.0000000 | -0.6618840 |  0.5159194 |  1.0000000 |  0.4597432 |  0.6035842 |\n",
       "| brainwt | -0.4597432 | -0.2820403 |  0.8516203 |  0.4597432 |  1.0000000 |  0.4830048 |\n",
       "| bodywt | -0.6035842 | -0.4089389 |  0.4343020 |  0.6035842 |  0.4830048 |  1.0000000 |\n",
       "\n"
      ],
      "text/plain": [
       "            sleep_total sleep_rem  sleep_cycle awake      brainwt    bodywt    \n",
       "sleep_total  1.0000000   0.6618840 -0.5159194  -1.0000000 -0.4597432 -0.6035842\n",
       "sleep_rem    0.6618840   1.0000000 -0.3522936  -0.6618840 -0.2820403 -0.4089389\n",
       "sleep_cycle -0.5159194  -0.3522936  1.0000000   0.5159194  0.8516203  0.4343020\n",
       "awake       -1.0000000  -0.6618840  0.5159194   1.0000000  0.4597432  0.6035842\n",
       "brainwt     -0.4597432  -0.2820403  0.8516203   0.4597432  1.0000000  0.4830048\n",
       "bodywt      -0.6035842  -0.4089389  0.4343020   0.6035842  0.4830048  1.0000000"
      ]
     },
     "metadata": {},
     "output_type": "display_data"
    }
   ],
   "source": [
    "cor_matrix"
   ]
  },
  {
   "cell_type": "code",
   "execution_count": 60,
   "id": "c7aaa17c-cde1-4d65-a90b-340a2af98a32",
   "metadata": {},
   "outputs": [
    {
     "data": {
      "image/png": "[encoded data removed]",
      "text/plain": [
       "plot without title"
      ]
     },
     "metadata": {
      "image/png": {
       "height": 420,
       "width": 420
      }
     },
     "output_type": "display_data"
    }
   ],
   "source": [
    "library(ggplot2)\n",
    "library(reshape2)\n",
    "\n",
    "ggplot(melt(cor_matrix), aes(x = Var1, y = Var2, fill = value)) +\n",
    "  geom_tile(color = \"white\") +\n",
    "  scale_fill_gradient2(low = \"blue\", mid = \"white\", high = \"red\", midpoint = 0) +\n",
    "  theme_minimal() +\n",
    "  theme(axis.text.x = element_text(angle = 45, vjust = 1, hjust = 1)) +\n",
    "          labs(title = \"Heatmap for Correlation Matrix\", x = \"\", y = \"\")"
   ]
  },
  {
   "cell_type": "code",
   "execution_count": 62,
   "id": "d58806bc-a07f-4d4e-b02c-849f47e31596",
   "metadata": {},
   "outputs": [
    {
     "data": {
      "image/png": "[encoded data removed]",
      "text/plain": [
       "plot without title"
      ]
     },
     "metadata": {
      "image/png": {
       "height": 420,
       "width": 420
      }
     },
     "output_type": "display_data"
    }
   ],
   "source": [
    "ggplot(subset(melt(cor_matrix), lower.tri(cor_matrix)), \n",
    "       aes(x = Var1, y = Var2, fill = value)) +\n",
    "  geom_tile(color = \"white\") +\n",
    "  scale_fill_gradient2(low = \"blue\", mid = \"white\", high = \"red\", midpoint = 0) +\n",
    "  theme_minimal() +\n",
    "  theme(axis.text.x = element_text(angle = 45, vjust = 1, hjust = 1)) +\n",
    "  labs(title = \"Heatmap for Correlation Matrix\", x = \"\", y = \"\")"
   ]
  },
  {
   "cell_type": "code",
   "execution_count": 64,
   "id": "bac81d02-9676-48f1-bb44-27eb2fc1aac2",
   "metadata": {},
   "outputs": [
    {
     "data": {
      "image/png": "[encoded data removed]",
      "text/plain": [
       "plot without title"
      ]
     },
     "metadata": {
      "image/png": {
       "height": 420,
       "width": 420
      }
     },
     "output_type": "display_data"
    }
   ],
   "source": [
    "ggplot(subset(melt(cor_matrix), lower.tri(cor_matrix)), \n",
    "       aes(x = Var1, y = Var2, fill = value)) +\n",
    "  geom_tile(color = \"white\") +\n",
    "  scale_fill_gradient2(low = \"blue\", mid = \"white\", high = \"red\", midpoint = 0) +\n",
    "  theme_minimal() +\n",
    "  theme(axis.text.x = element_text(angle = 45, vjust = 1, hjust = 1)) +\n",
    "  labs(title = \"Heatmap for Correlation Matrix\", x = \"\", y = \"\") +\n",
    "          geom_text(aes(label = round(value, 2)), color = \"black\", size = 5)"
   ]
  },
  {
   "cell_type": "code",
   "execution_count": 67,
   "id": "63364cab-b468-4f28-a913-ad4ec1eb4e14",
   "metadata": {},
   "outputs": [
    {
     "data": {
      "image/png": "[encoded data removed]",
      "text/plain": [
       "plot without title"
      ]
     },
     "metadata": {
      "image/png": {
       "height": 420,
       "width": 420
      }
     },
     "output_type": "display_data"
    }
   ],
   "source": [
    "pairs(data, upper.panel = NULL)"
   ]
  },
  {
   "cell_type": "code",
   "execution_count": 73,
   "id": "ca883ec5-7f85-49f2-9717-232a888bfa61",
   "metadata": {},
   "outputs": [
    {
     "data": {
      "image/png": "[encoded data removed]",
      "text/plain": [
       "Plot with title \"Histogram of data$sleep_total\""
      ]
     },
     "metadata": {
      "image/png": {
       "height": 420,
       "width": 420
      }
     },
     "output_type": "display_data"
    }
   ],
   "source": [
    "hist(data$sleep_total, breaks = 20)"
   ]
  },
  {
   "cell_type": "code",
   "execution_count": 71,
   "id": "4c5168df-9c9f-456c-9fcd-55d89ef5518f",
   "metadata": {},
   "outputs": [
    {
     "data": {
      "text/html": [
       "\n",
       "<table width=\"100%\" summary=\"page for hist {graphics}\"><tr><td>hist {graphics}</td><td style=\"text-align: right;\">R Documentation</td></tr></table>\n",
       "\n",
       "<h2>Histograms</h2>\n",
       "\n",
       "<h3>Description</h3>\n",
       "\n",
       "<p>The generic function <code>hist</code> computes a histogram of the given\n",
       "data values.  If <code>plot = TRUE</code>, the resulting object of\n",
       "class <code>\"histogram\"</code> is plotted by\n",
       "<code>plot.histogram</code>, before it is returned.\n",
       "</p>\n",
       "\n",
       "\n",
       "<h3>Usage</h3>\n",
       "\n",
       "<pre>\n",
       "hist(x, ...)\n",
       "\n",
       "## Default S3 method:\n",
       "hist(x, breaks = \"Sturges\",\n",
       "     freq = NULL, probability = !freq,\n",
       "     include.lowest = TRUE, right = TRUE,\n",
       "     density = NULL, angle = 45, col = \"lightgray\", border = NULL,\n",
       "     main = paste(\"Histogram of\" , xname),\n",
       "     xlim = range(breaks), ylim = NULL,\n",
       "     xlab = xname, ylab,\n",
       "     axes = TRUE, plot = TRUE, labels = FALSE,\n",
       "     nclass = NULL, warn.unused = TRUE, ...)\n",
       "</pre>\n",
       "\n",
       "\n",
       "<h3>Arguments</h3>\n",
       "\n",
       "<table summary=\"R argblock\">\n",
       "<tr valign=\"top\"><td><code>x</code></td>\n",
       "<td>\n",
       "<p>a vector of values for which the histogram is desired.</p>\n",
       "</td></tr>\n",
       "<tr valign=\"top\"><td><code>breaks</code></td>\n",
       "<td>\n",
       "<p>one of:\n",
       "</p>\n",
       "\n",
       "<ul>\n",
       "<li><p> a vector giving the breakpoints between histogram cells,\n",
       "</p>\n",
       "</li>\n",
       "<li><p> a function to compute the vector of breakpoints,\n",
       "</p>\n",
       "</li>\n",
       "<li><p> a single number giving the number of cells for the histogram,\n",
       "</p>\n",
       "</li>\n",
       "<li><p> a character string naming an algorithm to compute the\n",
       "number of cells (see &lsquo;Details&rsquo;),\n",
       "</p>\n",
       "</li>\n",
       "<li><p> a function to compute the number of cells.\n",
       "</p>\n",
       "</li></ul>\n",
       "\n",
       "<p>In the last three cases the number is a suggestion only; as the\n",
       "breakpoints will be set to <code>pretty</code> values, the number\n",
       "is limited to <code>1e6</code> (with a warning if it was larger).  If\n",
       "<code>breaks</code> is a function, the <code>x</code> vector is supplied to it\n",
       "as the only argument (and the number of breaks is only limited by\n",
       "the amount of available memory).\n",
       "</p>\n",
       "</td></tr>\n",
       "<tr valign=\"top\"><td><code>freq</code></td>\n",
       "<td>\n",
       "<p>logical; if <code>TRUE</code>, the histogram graphic is a\n",
       "representation of frequencies, the <code>counts</code> component of\n",
       "the result; if <code>FALSE</code>, probability densities, component\n",
       "<code>density</code>, are plotted (so that the histogram has a total area\n",
       "of one).  Defaults to <code>TRUE</code> <em>if and only if</em> <code>breaks</code> are\n",
       "equidistant (and <code>probability</code> is not specified).</p>\n",
       "</td></tr>\n",
       "<tr valign=\"top\"><td><code>probability</code></td>\n",
       "<td>\n",
       "<p>an <em>alias</em> for <code>!freq</code>, for S compatibility.</p>\n",
       "</td></tr>\n",
       "<tr valign=\"top\"><td><code>include.lowest</code></td>\n",
       "<td>\n",
       "<p>logical; if <code>TRUE</code>, an <code>x[i]</code> equal to\n",
       "the <code>breaks</code> value will be included in the first (or last, for\n",
       "<code>right = FALSE</code>) bar.  This will be ignored (with a warning)\n",
       "unless <code>breaks</code> is a vector.</p>\n",
       "</td></tr>\n",
       "<tr valign=\"top\"><td><code>right</code></td>\n",
       "<td>\n",
       "<p>logical; if <code>TRUE</code>, the histogram cells are\n",
       "right-closed (left open) intervals.</p>\n",
       "</td></tr>\n",
       "<tr valign=\"top\"><td><code>density</code></td>\n",
       "<td>\n",
       "<p>the density of shading lines, in lines per inch.\n",
       "The default value of <code>NULL</code> means that no shading lines\n",
       "are drawn. Non-positive values of <code>density</code> also inhibit the\n",
       "drawing of shading lines.</p>\n",
       "</td></tr>\n",
       "<tr valign=\"top\"><td><code>angle</code></td>\n",
       "<td>\n",
       "<p>the slope of shading lines, given as an angle in\n",
       "degrees (counter-clockwise).</p>\n",
       "</td></tr>\n",
       "<tr valign=\"top\"><td><code>col</code></td>\n",
       "<td>\n",
       "<p>a colour to be used to fill the bars.\n",
       "The default of <code>NULL</code> yields unfilled bars.</p>\n",
       "</td></tr>\n",
       "<tr valign=\"top\"><td><code>border</code></td>\n",
       "<td>\n",
       "<p>the color of the border around the bars.  The default\n",
       "is to use the standard foreground color.</p>\n",
       "</td></tr>\n",
       "<tr valign=\"top\"><td><code>main, xlab, ylab</code></td>\n",
       "<td>\n",
       "<p>main title and axis labels: these arguments to\n",
       "<code>title()</code> get &ldquo;smart&rdquo; defaults here, e.g., the default\n",
       "<code>ylab</code> is <code>\"Frequency\"</code> iff <code>freq</code> is true.</p>\n",
       "</td></tr>\n",
       "<tr valign=\"top\"><td><code>xlim, ylim</code></td>\n",
       "<td>\n",
       "<p>the range of x and y values with sensible defaults.\n",
       "Note that <code>xlim</code> is <em>not</em> used to define the histogram (breaks),\n",
       "but only for plotting (when <code>plot = TRUE</code>).</p>\n",
       "</td></tr>\n",
       "<tr valign=\"top\"><td><code>axes</code></td>\n",
       "<td>\n",
       "<p>logical.  If <code>TRUE</code> (default), axes are draw if the\n",
       "plot is drawn.</p>\n",
       "</td></tr>\n",
       "<tr valign=\"top\"><td><code>plot</code></td>\n",
       "<td>\n",
       "<p>logical.  If <code>TRUE</code> (default), a histogram is\n",
       "plotted, otherwise a list of breaks and counts is returned.  In the\n",
       "latter case, a warning is used if (typically graphical) arguments\n",
       "are specified that only apply to the <code>plot = TRUE</code> case.</p>\n",
       "</td></tr>\n",
       "<tr valign=\"top\"><td><code>labels</code></td>\n",
       "<td>\n",
       "<p>logical or character string.  Additionally draw labels on top\n",
       "of bars, if not <code>FALSE</code>; see <code>plot.histogram</code>.</p>\n",
       "</td></tr>\n",
       "<tr valign=\"top\"><td><code>nclass</code></td>\n",
       "<td>\n",
       "<p>numeric (integer).  For S(-PLUS) compatibility only,\n",
       "<code>nclass</code> is equivalent to <code>breaks</code> for a scalar or\n",
       "character argument.</p>\n",
       "</td></tr>\n",
       "<tr valign=\"top\"><td><code>warn.unused</code></td>\n",
       "<td>\n",
       "<p>logical.  If <code>plot = FALSE</code> and\n",
       "<code>warn.unused = TRUE</code>, a warning will be issued when graphical\n",
       "parameters are passed to <code>hist.default()</code>.</p>\n",
       "</td></tr>\n",
       "<tr valign=\"top\"><td><code>...</code></td>\n",
       "<td>\n",
       "<p>further arguments and graphical parameters passed to\n",
       "<code>plot.histogram</code> and thence to <code>title</code> and\n",
       "<code>axis</code> (if <code>plot = TRUE</code>).</p>\n",
       "</td></tr>\n",
       "</table>\n",
       "\n",
       "\n",
       "<h3>Details</h3>\n",
       "\n",
       "<p>The definition of <em>histogram</em> differs by source (with\n",
       "country-specific biases).  <span style=\"font-family: Courier New, Courier; color: #666666;\"><b>R</b></span>'s default with equi-spaced breaks (also\n",
       "the default) is to plot the counts in the cells defined by\n",
       "<code>breaks</code>.  Thus the height of a rectangle is proportional to\n",
       "the number of points falling into the cell, as is the area\n",
       "<em>provided</em> the breaks are equally-spaced.\n",
       "</p>\n",
       "<p>The default with non-equi-spaced breaks is to give\n",
       "a plot of area one, in which the <em>area</em> of the rectangles is the\n",
       "fraction of the data points falling in the cells.\n",
       "</p>\n",
       "<p>If <code>right = TRUE</code> (default), the histogram cells are intervals\n",
       "of the form <code>(a, b]</code>, i.e., they include their right-hand endpoint,\n",
       "but not their left one, with the exception of the first cell when\n",
       "<code>include.lowest</code> is <code>TRUE</code>.\n",
       "</p>\n",
       "<p>For <code>right = FALSE</code>, the intervals are of the form <code>[a, b)</code>,\n",
       "and <code>include.lowest</code> means &lsquo;<em>include highest</em>&rsquo;.\n",
       "</p>\n",
       "<p>A numerical tolerance of <i>1e-7</i> times the median bin size\n",
       "(for more than four bins, otherwise the median is substituted) is\n",
       "applied when counting entries on the edges of bins.  This is not\n",
       "included in the reported <code>breaks</code> nor in the calculation of\n",
       "<code>density</code>.\n",
       "</p>\n",
       "<p>The default for <code>breaks</code> is <code>\"Sturges\"</code>: see\n",
       "<code>nclass.Sturges</code>.  Other names for which algorithms\n",
       "are supplied are <code>\"Scott\"</code> and <code>\"FD\"</code> /\n",
       "<code>\"Freedman-Diaconis\"</code> (with corresponding functions\n",
       "<code>nclass.scott</code> and <code>nclass.FD</code>).\n",
       "Case is ignored and partial matching is used.\n",
       "Alternatively, a function can be supplied which\n",
       "will compute the intended number of breaks or the actual breakpoints\n",
       "as a function of <code>x</code>.\n",
       "</p>\n",
       "\n",
       "\n",
       "<h3>Value</h3>\n",
       "\n",
       "<p>an object of class <code>\"histogram\"</code> which is a list with components:\n",
       "</p>\n",
       "<table summary=\"R valueblock\">\n",
       "<tr valign=\"top\"><td><code>breaks</code></td>\n",
       "<td>\n",
       "<p>the <i>n+1</i> cell boundaries (= <code>breaks</code> if that\n",
       "was a vector). These are the nominal breaks, not with the boundary fuzz.</p>\n",
       "</td></tr>\n",
       "<tr valign=\"top\"><td><code>counts</code></td>\n",
       "<td>\n",
       "<p><i>n</i> integers; for each cell, the number of\n",
       "<code>x[]</code> inside.</p>\n",
       "</td></tr>\n",
       "<tr valign=\"top\"><td><code>density</code></td>\n",
       "<td>\n",
       "<p>values <i>f^(x[i])</i>, as estimated\n",
       "density values. If <code>all(diff(breaks) == 1)</code>, they are the\n",
       "relative frequencies <code>counts/n</code> and in general satisfy\n",
       "<i>sum[i; f^(x[i])\n",
       "      (b[i+1]-b[i])] = 1</i>, where <i>b[i]</i> = <code>breaks[i]</code>.</p>\n",
       "</td></tr>\n",
       "<tr valign=\"top\"><td><code>mids</code></td>\n",
       "<td>\n",
       "<p>the <i>n</i> cell midpoints.</p>\n",
       "</td></tr>\n",
       "<tr valign=\"top\"><td><code>xname</code></td>\n",
       "<td>\n",
       "<p>a character string with the actual <code>x</code> argument name.</p>\n",
       "</td></tr>\n",
       "<tr valign=\"top\"><td><code>equidist</code></td>\n",
       "<td>\n",
       "<p>logical, indicating if the distances between\n",
       "<code>breaks</code> are all the same.</p>\n",
       "</td></tr>\n",
       "</table>\n",
       "\n",
       "\n",
       "<h3>References</h3>\n",
       "\n",
       "<p>Becker, R. A., Chambers, J. M. and Wilks, A. R. (1988)\n",
       "<em>The New S Language</em>.\n",
       "Wadsworth &amp; Brooks/Cole.\n",
       "</p>\n",
       "<p>Venables, W. N. and Ripley. B. D. (2002)\n",
       "<em>Modern Applied Statistics with S</em>.  Springer.\n",
       "</p>\n",
       "\n",
       "\n",
       "<h3>See Also</h3>\n",
       "\n",
       "<p><code>nclass.Sturges</code>, <code>stem</code>,\n",
       "<code>density</code>,  <code>truehist</code> in package\n",
       "<a href=\"https://CRAN.R-project.org/package=MASS\"><span class=\"pkg\">MASS</span></a>.\n",
       "</p>\n",
       "<p>Typical plots with vertical bars are <em>not</em> histograms.  Consider\n",
       "<code>barplot</code> or <code>plot(*, type = \"h\")</code>\n",
       "for such bar plots.\n",
       "</p>\n",
       "\n",
       "\n",
       "<h3>Examples</h3>\n",
       "\n",
       "<pre>\n",
       "op &lt;- par(mfrow = c(2, 2))\n",
       "hist(islands)\n",
       "utils::str(hist(islands, col = \"gray\", labels = TRUE))\n",
       "\n",
       "hist(sqrt(islands), breaks = 12, col = \"lightblue\", border = \"pink\")\n",
       "##-- For non-equidistant breaks, counts should NOT be graphed unscaled:\n",
       "r &lt;- hist(sqrt(islands), breaks = c(4*0:5, 10*3:5, 70, 100, 140),\n",
       "          col = \"blue1\")\n",
       "text(r$mids, r$density, r$counts, adj = c(.5, -.5), col = \"blue3\")\n",
       "sapply(r[2:3], sum)\n",
       "sum(r$density * diff(r$breaks)) # == 1\n",
       "lines(r, lty = 3, border = \"purple\") # -&gt; lines.histogram(*)\n",
       "par(op)\n",
       "\n",
       "require(utils) # for str\n",
       "str(hist(islands, breaks = 12, plot =  FALSE)) #-&gt; 10 (~= 12) breaks\n",
       "str(hist(islands, breaks = c(12,20,36,80,200,1000,17000), plot = FALSE))\n",
       "\n",
       "hist(islands, breaks = c(12,20,36,80,200,1000,17000), freq = TRUE,\n",
       "     main = \"WRONG histogram\") # and warning\n",
       "\n",
       "## Extreme outliers; the \"FD\" rule would take very large number of 'breaks':\n",
       "XXL &lt;- c(1:9, c(-1,1)*1e300)\n",
       "hh &lt;- hist(XXL, \"FD\") # did not work in R &lt;= 3.4.1; now gives warning\n",
       "## pretty() determines how many counts are used (platform dependently!):\n",
       "length(hh$breaks) ## typically 1 million -- though 1e6 was \"a suggestion only\"\n",
       "\n",
       "require(stats)\n",
       "set.seed(14)\n",
       "x &lt;- rchisq(100, df = 4)\n",
       "\n",
       "## Comparing data with a model distribution should be done with qqplot()!\n",
       "qqplot(x, qchisq(ppoints(x), df = 4)); abline(0, 1, col = 2, lty = 2)\n",
       "\n",
       "## if you really insist on using hist() ... :\n",
       "hist(x, freq = FALSE, ylim = c(0, 0.2))\n",
       "curve(dchisq(x, df = 4), col = 2, lty = 2, lwd = 2, add = TRUE)\n",
       "\n",
       "</pre>\n",
       "\n",
       "<hr /><div style=\"text-align: center;\">[Package <em>graphics</em> version 4.1.3 ]</div>"
      ],
      "text/latex": [
       "\\inputencoding{utf8}\n",
       "\\HeaderA{hist}{Histograms}{hist}\n",
       "\\methaliasA{hist.default}{hist}{hist.default}\n",
       "\\keyword{dplot}{hist}\n",
       "\\keyword{hplot}{hist}\n",
       "\\keyword{distribution}{hist}\n",
       "%\n",
       "\\begin{Description}\\relax\n",
       "The generic function \\code{hist} computes a histogram of the given\n",
       "data values.  If \\code{plot = TRUE}, the resulting object of\n",
       "\\LinkA{class}{class} \\code{\"histogram\"} is plotted by\n",
       "\\code{\\LinkA{plot.histogram}{plot.histogram}}, before it is returned.\n",
       "\\end{Description}\n",
       "%\n",
       "\\begin{Usage}\n",
       "\\begin{verbatim}\n",
       "hist(x, ...)\n",
       "\n",
       "## Default S3 method:\n",
       "hist(x, breaks = \"Sturges\",\n",
       "     freq = NULL, probability = !freq,\n",
       "     include.lowest = TRUE, right = TRUE,\n",
       "     density = NULL, angle = 45, col = \"lightgray\", border = NULL,\n",
       "     main = paste(\"Histogram of\" , xname),\n",
       "     xlim = range(breaks), ylim = NULL,\n",
       "     xlab = xname, ylab,\n",
       "     axes = TRUE, plot = TRUE, labels = FALSE,\n",
       "     nclass = NULL, warn.unused = TRUE, ...)\n",
       "\\end{verbatim}\n",
       "\\end{Usage}\n",
       "%\n",
       "\\begin{Arguments}\n",
       "\\begin{ldescription}\n",
       "\\item[\\code{x}] a vector of values for which the histogram is desired.\n",
       "\\item[\\code{breaks}] one of:\n",
       "\\begin{itemize}\n",
       "\n",
       "\\item{} a vector giving the breakpoints between histogram cells,\n",
       "\\item{} a function to compute the vector of breakpoints,\n",
       "\\item{} a single number giving the number of cells for the histogram,\n",
       "\\item{} a character string naming an algorithm to compute the\n",
       "number of cells (see `Details'),\n",
       "\\item{} a function to compute the number of cells.\n",
       "\n",
       "\\end{itemize}\n",
       "\n",
       "In the last three cases the number is a suggestion only; as the\n",
       "breakpoints will be set to \\code{\\LinkA{pretty}{pretty}} values, the number\n",
       "is limited to \\code{1e6} (with a warning if it was larger).  If\n",
       "\\code{breaks} is a function, the \\code{x} vector is supplied to it\n",
       "as the only argument (and the number of breaks is only limited by\n",
       "the amount of available memory).\n",
       "\n",
       "\\item[\\code{freq}] logical; if \\code{TRUE}, the histogram graphic is a\n",
       "representation of frequencies, the \\code{counts} component of\n",
       "the result; if \\code{FALSE}, probability densities, component\n",
       "\\code{density}, are plotted (so that the histogram has a total area\n",
       "of one).  Defaults to \\code{TRUE} \\emph{if and only if} \\code{breaks} are\n",
       "equidistant (and \\code{probability} is not specified).\n",
       "\\item[\\code{probability}] an \\emph{alias} for \\code{!freq}, for S compatibility.\n",
       "\\item[\\code{include.lowest}] logical; if \\code{TRUE}, an \\code{x[i]} equal to\n",
       "the \\code{breaks} value will be included in the first (or last, for\n",
       "\\code{right = FALSE}) bar.  This will be ignored (with a warning)\n",
       "unless \\code{breaks} is a vector.\n",
       "\\item[\\code{right}] logical; if \\code{TRUE}, the histogram cells are\n",
       "right-closed (left open) intervals.\n",
       "\n",
       "\\item[\\code{density}] the density of shading lines, in lines per inch.\n",
       "The default value of \\code{NULL} means that no shading lines\n",
       "are drawn. Non-positive values of \\code{density} also inhibit the\n",
       "drawing of shading lines.\n",
       "\\item[\\code{angle}] the slope of shading lines, given as an angle in\n",
       "degrees (counter-clockwise).\n",
       "\\item[\\code{col}] a colour to be used to fill the bars.\n",
       "The default of \\code{NULL} yields unfilled bars.\n",
       "\\item[\\code{border}] the color of the border around the bars.  The default\n",
       "is to use the standard foreground color.\n",
       "\\item[\\code{main, xlab, ylab}] main title and axis labels: these arguments to\n",
       "\\code{\\LinkA{title}{title}()} get ``smart'' defaults here, e.g., the default\n",
       "\\code{ylab} is \\code{\"Frequency\"} iff \\code{freq} is true.\n",
       "\\item[\\code{xlim, ylim}] the range of x and y values with sensible defaults.\n",
       "Note that \\code{xlim} is \\emph{not} used to define the histogram (breaks),\n",
       "but only for plotting (when \\code{plot = TRUE}).\n",
       "\\item[\\code{axes}] logical.  If \\code{TRUE} (default), axes are draw if the\n",
       "plot is drawn.\n",
       "\\item[\\code{plot}] logical.  If \\code{TRUE} (default), a histogram is\n",
       "plotted, otherwise a list of breaks and counts is returned.  In the\n",
       "latter case, a warning is used if (typically graphical) arguments\n",
       "are specified that only apply to the \\code{plot = TRUE} case.\n",
       "\\item[\\code{labels}] logical or character string.  Additionally draw labels on top\n",
       "of bars, if not \\code{FALSE}; see \\code{\\LinkA{plot.histogram}{plot.histogram}}.\n",
       "\\item[\\code{nclass}] numeric (integer).  For S(-PLUS) compatibility only,\n",
       "\\code{nclass} is equivalent to \\code{breaks} for a scalar or\n",
       "character argument.\n",
       "\\item[\\code{warn.unused}] logical.  If \\code{plot = FALSE} and\n",
       "\\code{warn.unused = TRUE}, a warning will be issued when graphical\n",
       "parameters are passed to \\code{hist.default()}.\n",
       "\\item[\\code{...}] further arguments and \\LinkA{graphical parameters}{graphical parameters} passed to\n",
       "\\code{\\LinkA{plot.histogram}{plot.histogram}} and thence to \\code{\\LinkA{title}{title}} and\n",
       "\\code{\\LinkA{axis}{axis}} (if \\code{plot = TRUE}).\n",
       "\\end{ldescription}\n",
       "\\end{Arguments}\n",
       "%\n",
       "\\begin{Details}\\relax\n",
       "The definition of \\emph{histogram} differs by source (with\n",
       "country-specific biases).  \\R{}'s default with equi-spaced breaks (also\n",
       "the default) is to plot the counts in the cells defined by\n",
       "\\code{breaks}.  Thus the height of a rectangle is proportional to\n",
       "the number of points falling into the cell, as is the area\n",
       "\\emph{provided} the breaks are equally-spaced.\n",
       "\n",
       "The default with non-equi-spaced breaks is to give\n",
       "a plot of area one, in which the \\emph{area} of the rectangles is the\n",
       "fraction of the data points falling in the cells.\n",
       "\n",
       "If \\code{right = TRUE} (default), the histogram cells are intervals\n",
       "of the form \\code{(a, b]}, i.e., they include their right-hand endpoint,\n",
       "but not their left one, with the exception of the first cell when\n",
       "\\code{include.lowest} is \\code{TRUE}.\n",
       "\n",
       "For \\code{right = FALSE}, the intervals are of the form \\code{[a, b)},\n",
       "and \\code{include.lowest} means `\\emph{include highest}'.\n",
       "\n",
       "A numerical tolerance of \\eqn{10^{-7}}{} times the median bin size\n",
       "(for more than four bins, otherwise the median is substituted) is\n",
       "applied when counting entries on the edges of bins.  This is not\n",
       "included in the reported \\code{breaks} nor in the calculation of\n",
       "\\code{density}.\n",
       "\n",
       "The default for \\code{breaks} is \\code{\"Sturges\"}: see\n",
       "\\code{\\LinkA{nclass.Sturges}{nclass.Sturges}}.  Other names for which algorithms\n",
       "are supplied are \\code{\"Scott\"} and \\code{\"FD\"} /\n",
       "\\code{\"Freedman-Diaconis\"} (with corresponding functions\n",
       "\\code{\\LinkA{nclass.scott}{nclass.scott}} and \\code{\\LinkA{nclass.FD}{nclass.FD}}).\n",
       "Case is ignored and partial matching is used.\n",
       "Alternatively, a function can be supplied which\n",
       "will compute the intended number of breaks or the actual breakpoints\n",
       "as a function of \\code{x}.\n",
       "\\end{Details}\n",
       "%\n",
       "\\begin{Value}\n",
       "an object of class \\code{\"histogram\"} which is a list with components:\n",
       "\\begin{ldescription}\n",
       "\\item[\\code{breaks}] the \\eqn{n+1}{} cell boundaries (= \\code{breaks} if that\n",
       "was a vector). These are the nominal breaks, not with the boundary fuzz.\n",
       "\\item[\\code{counts}] \\eqn{n}{} integers; for each cell, the number of\n",
       "\\code{x[]} inside.\n",
       "\\item[\\code{density}] values \\eqn{\\hat f(x_i)}{}, as estimated\n",
       "density values. If \\code{all(diff(breaks) == 1)}, they are the\n",
       "relative frequencies \\code{counts/n} and in general satisfy\n",
       "\\eqn{\\sum_i \\hat f(x_i) (b_{i+1}-b_i) = 1}{}, where \\eqn{b_i}{} = \\code{breaks[i]}.\n",
       "\\item[\\code{mids}] the \\eqn{n}{} cell midpoints.\n",
       "\\item[\\code{xname}] a character string with the actual \\code{x} argument name.\n",
       "\\item[\\code{equidist}] logical, indicating if the distances between\n",
       "\\code{breaks} are all the same.\n",
       "\\end{ldescription}\n",
       "\\end{Value}\n",
       "%\n",
       "\\begin{References}\\relax\n",
       "Becker, R. A., Chambers, J. M. and Wilks, A. R. (1988)\n",
       "\\emph{The New S Language}.\n",
       "Wadsworth \\& Brooks/Cole.\n",
       "\n",
       "Venables, W. N. and Ripley. B. D. (2002)\n",
       "\\emph{Modern Applied Statistics with S}.  Springer.\n",
       "\\end{References}\n",
       "%\n",
       "\\begin{SeeAlso}\\relax\n",
       "\\code{\\LinkA{nclass.Sturges}{nclass.Sturges}}, \\code{\\LinkA{stem}{stem}},\n",
       "\\code{\\LinkA{density}{density}},  \\code{\\LinkA{truehist}{truehist}} in package\n",
       "\\Rhref{https://CRAN.R-project.org/package=MASS}{\\pkg{MASS}}.\n",
       "\n",
       "Typical plots with vertical bars are \\emph{not} histograms.  Consider\n",
       "\\code{\\LinkA{barplot}{barplot}} or \\code{\\LinkA{plot}{plot}(*, type = \"h\")}\n",
       "for such bar plots.\n",
       "\\end{SeeAlso}\n",
       "%\n",
       "\\begin{Examples}\n",
       "\\begin{ExampleCode}\n",
       "op <- par(mfrow = c(2, 2))\n",
       "hist(islands)\n",
       "utils::str(hist(islands, col = \"gray\", labels = TRUE))\n",
       "\n",
       "hist(sqrt(islands), breaks = 12, col = \"lightblue\", border = \"pink\")\n",
       "##-- For non-equidistant breaks, counts should NOT be graphed unscaled:\n",
       "r <- hist(sqrt(islands), breaks = c(4*0:5, 10*3:5, 70, 100, 140),\n",
       "          col = \"blue1\")\n",
       "text(r$mids, r$density, r$counts, adj = c(.5, -.5), col = \"blue3\")\n",
       "sapply(r[2:3], sum)\n",
       "sum(r$density * diff(r$breaks)) # == 1\n",
       "lines(r, lty = 3, border = \"purple\") # -> lines.histogram(*)\n",
       "par(op)\n",
       "\n",
       "require(utils) # for str\n",
       "str(hist(islands, breaks = 12, plot =  FALSE)) #-> 10 (~= 12) breaks\n",
       "str(hist(islands, breaks = c(12,20,36,80,200,1000,17000), plot = FALSE))\n",
       "\n",
       "hist(islands, breaks = c(12,20,36,80,200,1000,17000), freq = TRUE,\n",
       "     main = \"WRONG histogram\") # and warning\n",
       "\n",
       "## Extreme outliers; the \"FD\" rule would take very large number of 'breaks':\n",
       "XXL <- c(1:9, c(-1,1)*1e300)\n",
       "hh <- hist(XXL, \"FD\") # did not work in R <= 3.4.1; now gives warning\n",
       "## pretty() determines how many counts are used (platform dependently!):\n",
       "length(hh$breaks) ## typically 1 million -- though 1e6 was \"a suggestion only\"\n",
       "\n",
       "require(stats)\n",
       "set.seed(14)\n",
       "x <- rchisq(100, df = 4)\n",
       "\n",
       "## Comparing data with a model distribution should be done with qqplot()!\n",
       "qqplot(x, qchisq(ppoints(x), df = 4)); abline(0, 1, col = 2, lty = 2)\n",
       "\n",
       "## if you really insist on using hist() ... :\n",
       "hist(x, freq = FALSE, ylim = c(0, 0.2))\n",
       "curve(dchisq(x, df = 4), col = 2, lty = 2, lwd = 2, add = TRUE)\n",
       "\n",
       "\\end{ExampleCode}\n",
       "\\end{Examples}"
      ],
      "text/plain": [
       "hist                 package:graphics                  R Documentation\n",
       "\n",
       "_\bH_\bi_\bs_\bt_\bo_\bg_\br_\ba_\bm_\bs\n",
       "\n",
       "_\bD_\be_\bs_\bc_\br_\bi_\bp_\bt_\bi_\bo_\bn:\n",
       "\n",
       "     The generic function 'hist' computes a histogram of the given data\n",
       "     values.  If 'plot = TRUE', the resulting object of class\n",
       "     '\"histogram\"' is plotted by 'plot.histogram', before it is\n",
       "     returned.\n",
       "\n",
       "_\bU_\bs_\ba_\bg_\be:\n",
       "\n",
       "     hist(x, ...)\n",
       "     \n",
       "     ## Default S3 method:\n",
       "     hist(x, breaks = \"Sturges\",\n",
       "          freq = NULL, probability = !freq,\n",
       "          include.lowest = TRUE, right = TRUE,\n",
       "          density = NULL, angle = 45, col = \"lightgray\", border = NULL,\n",
       "          main = paste(\"Histogram of\" , xname),\n",
       "          xlim = range(breaks), ylim = NULL,\n",
       "          xlab = xname, ylab,\n",
       "          axes = TRUE, plot = TRUE, labels = FALSE,\n",
       "          nclass = NULL, warn.unused = TRUE, ...)\n",
       "     \n",
       "_\bA_\br_\bg_\bu_\bm_\be_\bn_\bt_\bs:\n",
       "\n",
       "       x: a vector of values for which the histogram is desired.\n",
       "\n",
       "  breaks: one of:\n",
       "\n",
       "            вЂў a vector giving the breakpoints between histogram cells,\n",
       "\n",
       "            вЂў a function to compute the vector of breakpoints,\n",
       "\n",
       "            вЂў a single number giving the number of cells for the\n",
       "              histogram,\n",
       "\n",
       "            вЂў a character string naming an algorithm to compute the\n",
       "              number of cells (see 'Details'),\n",
       "\n",
       "            вЂў a function to compute the number of cells.\n",
       "\n",
       "          In the last three cases the number is a suggestion only; as\n",
       "          the breakpoints will be set to 'pretty' values, the number is\n",
       "          limited to '1e6' (with a warning if it was larger).  If\n",
       "          'breaks' is a function, the 'x' vector is supplied to it as\n",
       "          the only argument (and the number of breaks is only limited\n",
       "          by the amount of available memory).\n",
       "\n",
       "    freq: logical; if 'TRUE', the histogram graphic is a representation\n",
       "          of frequencies, the 'counts' component of the result; if\n",
       "          'FALSE', probability densities, component 'density', are\n",
       "          plotted (so that the histogram has a total area of one).\n",
       "          Defaults to 'TRUE' _if and only if_ 'breaks' are equidistant\n",
       "          (and 'probability' is not specified).\n",
       "\n",
       "probability: an _alias_ for '!freq', for S compatibility.\n",
       "\n",
       "include.lowest: logical; if 'TRUE', an 'x[i]' equal to the 'breaks'\n",
       "          value will be included in the first (or last, for 'right =\n",
       "          FALSE') bar.  This will be ignored (with a warning) unless\n",
       "          'breaks' is a vector.\n",
       "\n",
       "   right: logical; if 'TRUE', the histogram cells are right-closed\n",
       "          (left open) intervals.\n",
       "\n",
       " density: the density of shading lines, in lines per inch.  The default\n",
       "          value of 'NULL' means that no shading lines are drawn.\n",
       "          Non-positive values of 'density' also inhibit the drawing of\n",
       "          shading lines.\n",
       "\n",
       "   angle: the slope of shading lines, given as an angle in degrees\n",
       "          (counter-clockwise).\n",
       "\n",
       "     col: a colour to be used to fill the bars.  The default of 'NULL'\n",
       "          yields unfilled bars.\n",
       "\n",
       "  border: the color of the border around the bars.  The default is to\n",
       "          use the standard foreground color.\n",
       "\n",
       "main, xlab, ylab: main title and axis labels: these arguments to\n",
       "          'title()' get \"smart\" defaults here, e.g., the default 'ylab'\n",
       "          is '\"Frequency\"' iff 'freq' is true.\n",
       "\n",
       "xlim, ylim: the range of x and y values with sensible defaults.  Note\n",
       "          that 'xlim' is _not_ used to define the histogram (breaks),\n",
       "          but only for plotting (when 'plot = TRUE').\n",
       "\n",
       "    axes: logical.  If 'TRUE' (default), axes are draw if the plot is\n",
       "          drawn.\n",
       "\n",
       "    plot: logical.  If 'TRUE' (default), a histogram is plotted,\n",
       "          otherwise a list of breaks and counts is returned.  In the\n",
       "          latter case, a warning is used if (typically graphical)\n",
       "          arguments are specified that only apply to the 'plot = TRUE'\n",
       "          case.\n",
       "\n",
       "  labels: logical or character string.  Additionally draw labels on top\n",
       "          of bars, if not 'FALSE'; see 'plot.histogram'.\n",
       "\n",
       "  nclass: numeric (integer).  For S(-PLUS) compatibility only, 'nclass'\n",
       "          is equivalent to 'breaks' for a scalar or character argument.\n",
       "\n",
       "warn.unused: logical.  If 'plot = FALSE' and 'warn.unused = TRUE', a\n",
       "          warning will be issued when graphical parameters are passed\n",
       "          to 'hist.default()'.\n",
       "\n",
       "     ...: further arguments and graphical parameters passed to\n",
       "          'plot.histogram' and thence to 'title' and 'axis' (if 'plot =\n",
       "          TRUE').\n",
       "\n",
       "_\bD_\be_\bt_\ba_\bi_\bl_\bs:\n",
       "\n",
       "     The definition of _histogram_ differs by source (with\n",
       "     country-specific biases).  R's default with equi-spaced breaks\n",
       "     (also the default) is to plot the counts in the cells defined by\n",
       "     'breaks'.  Thus the height of a rectangle is proportional to the\n",
       "     number of points falling into the cell, as is the area _provided_\n",
       "     the breaks are equally-spaced.\n",
       "\n",
       "     The default with non-equi-spaced breaks is to give a plot of area\n",
       "     one, in which the _area_ of the rectangles is the fraction of the\n",
       "     data points falling in the cells.\n",
       "\n",
       "     If 'right = TRUE' (default), the histogram cells are intervals of\n",
       "     the form '(a, b]', i.e., they include their right-hand endpoint,\n",
       "     but not their left one, with the exception of the first cell when\n",
       "     'include.lowest' is 'TRUE'.\n",
       "\n",
       "     For 'right = FALSE', the intervals are of the form '[a, b)', and\n",
       "     'include.lowest' means '_include highest_'.\n",
       "\n",
       "     A numerical tolerance of 1e-7 times the median bin size (for more\n",
       "     than four bins, otherwise the median is substituted) is applied\n",
       "     when counting entries on the edges of bins.  This is not included\n",
       "     in the reported 'breaks' nor in the calculation of 'density'.\n",
       "\n",
       "     The default for 'breaks' is '\"Sturges\"': see 'nclass.Sturges'.\n",
       "     Other names for which algorithms are supplied are '\"Scott\"' and\n",
       "     '\"FD\"' / '\"Freedman-Diaconis\"' (with corresponding functions\n",
       "     'nclass.scott' and 'nclass.FD').  Case is ignored and partial\n",
       "     matching is used.  Alternatively, a function can be supplied which\n",
       "     will compute the intended number of breaks or the actual\n",
       "     breakpoints as a function of 'x'.\n",
       "\n",
       "_\bV_\ba_\bl_\bu_\be:\n",
       "\n",
       "     an object of class '\"histogram\"' which is a list with components:\n",
       "\n",
       "  breaks: the n+1 cell boundaries (= 'breaks' if that was a vector).\n",
       "          These are the nominal breaks, not with the boundary fuzz.\n",
       "\n",
       "  counts: n integers; for each cell, the number of 'x[]' inside.\n",
       "\n",
       " density: values f^(x[i]), as estimated density values. If\n",
       "          'all(diff(breaks) == 1)', they are the relative frequencies\n",
       "          'counts/n' and in general satisfy sum[i; f^(x[i])\n",
       "          (b[i+1]-b[i])] = 1, where b[i] = 'breaks[i]'.\n",
       "\n",
       "    mids: the n cell midpoints.\n",
       "\n",
       "   xname: a character string with the actual 'x' argument name.\n",
       "\n",
       "equidist: logical, indicating if the distances between 'breaks' are all\n",
       "          the same.\n",
       "\n",
       "_\bR_\be_\bf_\be_\br_\be_\bn_\bc_\be_\bs:\n",
       "\n",
       "     Becker, R. A., Chambers, J. M. and Wilks, A. R. (1988) _The New S\n",
       "     Language_.  Wadsworth & Brooks/Cole.\n",
       "\n",
       "     Venables, W. N. and Ripley. B. D. (2002) _Modern Applied\n",
       "     Statistics with S_.  Springer.\n",
       "\n",
       "_\bS_\be_\be _\bA_\bl_\bs_\bo:\n",
       "\n",
       "     'nclass.Sturges', 'stem', 'density', 'truehist' in package 'MASS'.\n",
       "\n",
       "     Typical plots with vertical bars are _not_ histograms.  Consider\n",
       "     'barplot' or 'plot(*, type = \"h\")' for such bar plots.\n",
       "\n",
       "_\bE_\bx_\ba_\bm_\bp_\bl_\be_\bs:\n",
       "\n",
       "     op <- par(mfrow = c(2, 2))\n",
       "     hist(islands)\n",
       "     utils::str(hist(islands, col = \"gray\", labels = TRUE))\n",
       "     \n",
       "     hist(sqrt(islands), breaks = 12, col = \"lightblue\", border = \"pink\")\n",
       "     ##-- For non-equidistant breaks, counts should NOT be graphed unscaled:\n",
       "     r <- hist(sqrt(islands), breaks = c(4*0:5, 10*3:5, 70, 100, 140),\n",
       "               col = \"blue1\")\n",
       "     text(r$mids, r$density, r$counts, adj = c(.5, -.5), col = \"blue3\")\n",
       "     sapply(r[2:3], sum)\n",
       "     sum(r$density * diff(r$breaks)) # == 1\n",
       "     lines(r, lty = 3, border = \"purple\") # -> lines.histogram(*)\n",
       "     par(op)\n",
       "     \n",
       "     require(utils) # for str\n",
       "     str(hist(islands, breaks = 12, plot =  FALSE)) #-> 10 (~= 12) breaks\n",
       "     str(hist(islands, breaks = c(12,20,36,80,200,1000,17000), plot = FALSE))\n",
       "     \n",
       "     hist(islands, breaks = c(12,20,36,80,200,1000,17000), freq = TRUE,\n",
       "          main = \"WRONG histogram\") # and warning\n",
       "     \n",
       "     ## Extreme outliers; the \"FD\" rule would take very large number of 'breaks':\n",
       "     XXL <- c(1:9, c(-1,1)*1e300)\n",
       "     hh <- hist(XXL, \"FD\") # did not work in R <= 3.4.1; now gives warning\n",
       "     ## pretty() determines how many counts are used (platform dependently!):\n",
       "     length(hh$breaks) ## typically 1 million -- though 1e6 was \"a suggestion only\"\n",
       "     \n",
       "     require(stats)\n",
       "     set.seed(14)\n",
       "     x <- rchisq(100, df = 4)\n",
       "     \n",
       "     ## Comparing data with a model distribution should be done with qqplot()!\n",
       "     qqplot(x, qchisq(ppoints(x), df = 4)); abline(0, 1, col = 2, lty = 2)\n",
       "     \n",
       "     ## if you really insist on using hist() ... :\n",
       "     hist(x, freq = FALSE, ylim = c(0, 0.2))\n",
       "     curve(dchisq(x, df = 4), col = 2, lty = 2, lwd = 2, add = TRUE)\n",
       "     "
      ]
     },
     "metadata": {},
     "output_type": "display_data"
    }
   ],
   "source": [
    "?hist"
   ]
  }
 ],
 "metadata": {
  "kernelspec": {
   "display_name": "R",
   "language": "R",
   "name": "ir"
  },
  "language_info": {
   "codemirror_mode": "r",
   "file_extension": ".r",
   "mimetype": "text/x-r-source",
   "name": "R",
   "pygments_lexer": "r",
   "version": "4.1.3"
  }
 },
 "nbformat": 4,
 "nbformat_minor": 5
}
