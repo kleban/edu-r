{
 "cells": [
  {
   "cell_type": "markdown",
   "id": "afd31a95",
   "metadata": {},
   "source": [
    "# Lecture 1. Programming in R"
   ]
  },
  {
   "cell_type": "markdown",
   "id": "5417c873",
   "metadata": {},
   "source": [
    "## 1. Help"
   ]
  },
  {
   "cell_type": "code",
   "execution_count": 1,
   "id": "eb304ab3",
   "metadata": {},
   "outputs": [],
   "source": [
    "help(sum)"
   ]
  },
  {
   "cell_type": "code",
   "execution_count": 2,
   "id": "cd038e3f",
   "metadata": {},
   "outputs": [],
   "source": [
    "?mean"
   ]
  },
  {
   "cell_type": "code",
   "execution_count": 3,
   "id": "8c9da378",
   "metadata": {},
   "outputs": [],
   "source": [
    "help(package = \"stats\")"
   ]
  },
  {
   "cell_type": "markdown",
   "id": "adf41802",
   "metadata": {},
   "source": [
    "## 2. Packages"
   ]
  },
  {
   "cell_type": "code",
   "execution_count": 4,
   "id": "eb376afb",
   "metadata": {},
   "outputs": [],
   "source": [
    "library(stats)"
   ]
  },
  {
   "cell_type": "code",
   "execution_count": 6,
   "id": "4ee842cb",
   "metadata": {},
   "outputs": [
    {
     "ename": "",
     "evalue": "\u001b[1m\u001b[33mError\u001b[39m in `library()`:\u001b[22m\n\u001b[33m!\u001b[39m there is no package called ‘car’",
     "output_type": "error",
     "traceback": [
      "\u001b[1m\u001b[33mError\u001b[39m in `library()`:\u001b[22m\n",
      "\u001b[33m!\u001b[39m there is no package called ‘car’\n",
      "\u001b[90m    \u001b[39m▆\n",
      "\u001b[90m 1. \u001b[39m└─\u001b[1mbase\u001b[22m::library(car)"
     ]
    }
   ],
   "source": [
    "library(car)"
   ]
  },
  {
   "cell_type": "code",
   "execution_count": 7,
   "id": "f32deca3",
   "metadata": {},
   "outputs": [
    {
     "name": "stdout",
     "output_type": "stream",
     "text": [
      "also installing the dependencies ‘rbibutils’, ‘tidyr’, ‘cowplot’, ‘Deriv’, ‘modelr’, ‘microbenchmark’, ‘Rdpack’, ‘broom’, ‘numDeriv’, ‘doBy’, ‘SparseM’, ‘MatrixModels’, ‘minqa’, ‘nloptr’, ‘reformulas’, ‘RcppEigen’, ‘carData’, ‘abind’, ‘Formula’, ‘pbkrtest’, ‘quantreg’, ‘lme4’\n",
      "\n"
     ]
    },
    {
     "name": "stderr",
     "output_type": "stream",
     "text": [
      "trying URL 'https://cran.rstudio.com/bin/windows/contrib/4.5/rbibutils_2.3.zip'\n",
      "trying URL 'https://cran.rstudio.com/bin/windows/contrib/4.5/tidyr_1.3.1.zip'\n",
      "trying URL 'https://cran.rstudio.com/bin/windows/contrib/4.5/cowplot_1.2.0.zip'\n",
      "trying URL 'https://cran.rstudio.com/bin/windows/contrib/4.5/Deriv_4.2.0.zip'\n",
      "trying URL 'https://cran.rstudio.com/bin/windows/contrib/4.5/modelr_0.1.11.zip'\n",
      "trying URL 'https://cran.rstudio.com/bin/windows/contrib/4.5/microbenchmark_1.5.0.zip'\n",
      "trying URL 'https://cran.rstudio.com/bin/windows/contrib/4.5/Rdpack_2.6.4.zip'\n",
      "trying URL 'https://cran.rstudio.com/bin/windows/contrib/4.5/broom_1.0.9.zip'\n",
      "trying URL 'https://cran.rstudio.com/bin/windows/contrib/4.5/numDeriv_2016.8-1.1.zip'\n",
      "trying URL 'https://cran.rstudio.com/bin/windows/contrib/4.5/doBy_4.7.0.zip'\n",
      "trying URL 'https://cran.rstudio.com/bin/windows/contrib/4.5/SparseM_1.84-2.zip'\n",
      "trying URL 'https://cran.rstudio.com/bin/windows/contrib/4.5/MatrixModels_0.5-4.zip'\n",
      "trying URL 'https://cran.rstudio.com/bin/windows/contrib/4.5/minqa_1.2.8.zip'\n",
      "trying URL 'https://cran.rstudio.com/bin/windows/contrib/4.5/nloptr_2.2.1.zip'\n",
      "trying URL 'https://cran.rstudio.com/bin/windows/contrib/4.5/reformulas_0.4.1.zip'\n",
      "trying URL 'https://cran.rstudio.com/bin/windows/contrib/4.5/RcppEigen_0.3.4.0.2.zip'\n",
      "trying URL 'https://cran.rstudio.com/bin/windows/contrib/4.5/carData_3.0-5.zip'\n",
      "trying URL 'https://cran.rstudio.com/bin/windows/contrib/4.5/abind_1.4-8.zip'\n",
      "trying URL 'https://cran.rstudio.com/bin/windows/contrib/4.5/Formula_1.2-5.zip'\n",
      "trying URL 'https://cran.rstudio.com/bin/windows/contrib/4.5/pbkrtest_0.5.5.zip'\n",
      "trying URL 'https://cran.rstudio.com/bin/windows/contrib/4.5/quantreg_6.1.zip'\n",
      "trying URL 'https://cran.rstudio.com/bin/windows/contrib/4.5/lme4_1.1-37.zip'\n",
      "trying URL 'https://cran.rstudio.com/bin/windows/contrib/4.5/car_3.1-3.zip'\n"
     ]
    },
    {
     "name": "stdout",
     "output_type": "stream",
     "text": [
      "package ‘rbibutils’ successfully unpacked and MD5 sums checked\n",
      "package ‘tidyr’ successfully unpacked and MD5 sums checked\n",
      "package ‘cowplot’ successfully unpacked and MD5 sums checked\n",
      "package ‘Deriv’ successfully unpacked and MD5 sums checked\n",
      "package ‘modelr’ successfully unpacked and MD5 sums checked\n",
      "package ‘microbenchmark’ successfully unpacked and MD5 sums checked\n",
      "package ‘Rdpack’ successfully unpacked and MD5 sums checked\n",
      "package ‘broom’ successfully unpacked and MD5 sums checked\n",
      "package ‘numDeriv’ successfully unpacked and MD5 sums checked\n",
      "package ‘doBy’ successfully unpacked and MD5 sums checked\n",
      "package ‘SparseM’ successfully unpacked and MD5 sums checked\n",
      "package ‘MatrixModels’ successfully unpacked and MD5 sums checked\n",
      "package ‘minqa’ successfully unpacked and MD5 sums checked\n",
      "package ‘nloptr’ successfully unpacked and MD5 sums checked\n",
      "package ‘reformulas’ successfully unpacked and MD5 sums checked\n",
      "package ‘RcppEigen’ successfully unpacked and MD5 sums checked\n",
      "package ‘carData’ successfully unpacked and MD5 sums checked\n",
      "package ‘abind’ successfully unpacked and MD5 sums checked\n",
      "package ‘Formula’ successfully unpacked and MD5 sums checked\n",
      "package ‘pbkrtest’ successfully unpacked and MD5 sums checked\n",
      "package ‘quantreg’ successfully unpacked and MD5 sums checked\n",
      "package ‘lme4’ successfully unpacked and MD5 sums checked\n",
      "package ‘car’ successfully unpacked and MD5 sums checked\n",
      "\n",
      "The downloaded binary packages are in\n",
      "\tC:\\Users\\Yura\\AppData\\Local\\Temp\\Rtmp6JYNOJ\\downloaded_packages\n"
     ]
    }
   ],
   "source": [
    "install.packages(\"car\")"
   ]
  },
  {
   "cell_type": "code",
   "execution_count": 8,
   "id": "52e4451b",
   "metadata": {},
   "outputs": [
    {
     "name": "stdout",
     "output_type": "stream",
     "text": [
      "Loading required package: carData\n",
      "\n",
      "Attaching package: ‘car’\n",
      "\n",
      "The following object is masked from ‘package:dplyr’:\n",
      "\n",
      "    recode\n",
      "\n"
     ]
    }
   ],
   "source": [
    "library(car)"
   ]
  },
  {
   "cell_type": "code",
   "execution_count": null,
   "id": "65c82c3a",
   "metadata": {},
   "outputs": [],
   "source": [
    "##dplyr::recode"
   ]
  },
  {
   "cell_type": "markdown",
   "id": "0b13602e",
   "metadata": {},
   "source": [
    "## 3. Variables"
   ]
  },
  {
   "cell_type": "code",
   "execution_count": 9,
   "id": "01f80c3f",
   "metadata": {},
   "outputs": [],
   "source": [
    "x <- 10"
   ]
  },
  {
   "cell_type": "code",
   "execution_count": 10,
   "id": "7172a231",
   "metadata": {},
   "outputs": [],
   "source": [
    "y <- 1:3"
   ]
  },
  {
   "cell_type": "code",
   "execution_count": 11,
   "id": "5602d9c2",
   "metadata": {},
   "outputs": [
    {
     "data": {
      "text/plain": [
       "[1] 1 2 3"
      ]
     },
     "execution_count": null,
     "metadata": {},
     "output_type": "execute_result"
    }
   ],
   "source": [
    "y"
   ]
  },
  {
   "cell_type": "code",
   "execution_count": 12,
   "id": "9148dae7",
   "metadata": {},
   "outputs": [
    {
     "data": {
      "text/plain": [
       "[1] 11 12 13"
      ]
     },
     "execution_count": null,
     "metadata": {},
     "output_type": "execute_result"
    }
   ],
   "source": [
    "x + y"
   ]
  },
  {
   "cell_type": "code",
   "execution_count": null,
   "id": "ace65414",
   "metadata": {},
   "outputs": [],
   "source": [
    "x = 10\n",
    "x <- 10"
   ]
  },
  {
   "cell_type": "code",
   "execution_count": null,
   "id": "0838bbe9",
   "metadata": {},
   "outputs": [],
   "source": [
    "# numeric -> integer - double --- 2 3 5.6\n",
    "# character -> \"sdfsdfdsf\", 'sdasda'\n",
    "# logical -> TRUE FALSE T F"
   ]
  },
  {
   "cell_type": "code",
   "execution_count": 14,
   "id": "fbdbd11f",
   "metadata": {},
   "outputs": [
    {
     "data": {
      "text/plain": [
       "[1] \"double\""
      ]
     },
     "execution_count": null,
     "metadata": {},
     "output_type": "execute_result"
    }
   ],
   "source": [
    "class(x)\n",
    "typeof(x)"
   ]
  },
  {
   "cell_type": "code",
   "execution_count": null,
   "id": "1299ea89",
   "metadata": {},
   "outputs": [
    {
     "data": {
      "text/plain": [
       "[1] 50"
      ]
     },
     "execution_count": null,
     "metadata": {},
     "output_type": "execute_result"
    }
   ],
   "source": [
    "x <- 10\n",
    "y <- \"40\"\n",
    "x + as.numeric(y)\n",
    "# as.charater()\n",
    "# as.logical()"
   ]
  },
  {
   "cell_type": "code",
   "execution_count": 17,
   "id": "6fdf619c",
   "metadata": {},
   "outputs": [
    {
     "data": {
      "text/plain": [
       "[1] FALSE"
      ]
     },
     "execution_count": null,
     "metadata": {},
     "output_type": "execute_result"
    }
   ],
   "source": [
    "is.numeric(y)"
   ]
  },
  {
   "cell_type": "markdown",
   "id": "026a55ce",
   "metadata": {},
   "source": [
    "## 4. Operators"
   ]
  },
  {
   "cell_type": "code",
   "execution_count": 4,
   "id": "af3d4684",
   "metadata": {},
   "outputs": [
    {
     "name": "stdout",
     "output_type": "stream",
     "text": [
      "[1] 24\n"
     ]
    },
    {
     "data": {
      "text/plain": [
       "[1] 22"
      ]
     },
     "execution_count": null,
     "metadata": {},
     "output_type": "execute_result"
    }
   ],
   "source": [
    "x <- 10 + 3*4\n",
    "print(x+2)\n",
    "x"
   ]
  },
  {
   "cell_type": "code",
   "execution_count": 5,
   "id": "8c09a029",
   "metadata": {},
   "outputs": [],
   "source": [
    "y <- x + 3\n",
    "y\n",
    "\n",
    "# * / - +"
   ]
  },
  {
   "cell_type": "code",
   "execution_count": 6,
   "id": "76a698e6",
   "metadata": {},
   "outputs": [
    {
     "data": {
      "text/plain": [
       "[1] FALSE"
      ]
     },
     "execution_count": null,
     "metadata": {},
     "output_type": "execute_result"
    }
   ],
   "source": [
    "x > y"
   ]
  },
  {
   "cell_type": "code",
   "execution_count": 7,
   "id": "e23b3a1d",
   "metadata": {},
   "outputs": [
    {
     "data": {
      "text/plain": [
       "[1] FALSE"
      ]
     },
     "execution_count": null,
     "metadata": {},
     "output_type": "execute_result"
    }
   ],
   "source": [
    "x > 3 & y < 10"
   ]
  },
  {
   "cell_type": "code",
   "execution_count": null,
   "id": "24dfdd03",
   "metadata": {},
   "outputs": [
    {
     "data": {
      "text/plain": [
       "[1] TRUE"
      ]
     },
     "execution_count": null,
     "metadata": {},
     "output_type": "execute_result"
    }
   ],
   "source": [
    "x > 3 | y < 10"
   ]
  },
  {
   "cell_type": "code",
   "execution_count": 8,
   "id": "17e36a4e",
   "metadata": {},
   "outputs": [
    {
     "data": {
      "text/plain": [
       "[1] 4"
      ]
     },
     "execution_count": null,
     "metadata": {},
     "output_type": "execute_result"
    }
   ],
   "source": [
    "4^3 %% 60"
   ]
  },
  {
   "cell_type": "markdown",
   "id": "884abed0",
   "metadata": {},
   "source": [
    "## 5. IF-ELSE"
   ]
  },
  {
   "cell_type": "code",
   "execution_count": null,
   "id": "f469575a",
   "metadata": {},
   "outputs": [],
   "source": [
    "if (condition) {\n",
    "  #\n",
    "}"
   ]
  },
  {
   "cell_type": "code",
   "execution_count": 29,
   "id": "325f9128",
   "metadata": {},
   "outputs": [
    {
     "name": "stdout",
     "output_type": "stream",
     "text": [
      "[1] 25\n"
     ]
    }
   ],
   "source": [
    "if (x > 30) {\n",
    "  print(x)\n",
    "} else {\n",
    "  print(y)\n",
    "}"
   ]
  },
  {
   "cell_type": "code",
   "execution_count": 30,
   "id": "644f3095",
   "metadata": {},
   "outputs": [
    {
     "data": {
      "text/plain": [
       "[1] 5 6"
      ]
     },
     "execution_count": null,
     "metadata": {},
     "output_type": "execute_result"
    }
   ],
   "source": [
    "x <- c(2,5,6,4)\n",
    "x[x >= 5]"
   ]
  },
  {
   "cell_type": "markdown",
   "id": "808c61ec",
   "metadata": {},
   "source": [
    "## Loops"
   ]
  },
  {
   "cell_type": "code",
   "execution_count": 9,
   "id": "34b58c55",
   "metadata": {},
   "outputs": [],
   "source": [
    "x <- c(3,5,6,7,2,3,1)"
   ]
  },
  {
   "cell_type": "code",
   "execution_count": 12,
   "id": "dfe5fe74",
   "metadata": {},
   "outputs": [
    {
     "name": "stdout",
     "output_type": "stream",
     "text": [
      "[1] 6\n",
      "[1] 10\n",
      "[1] 12\n",
      "[1] 14\n",
      "[1] 4\n",
      "[1] 6\n",
      "[1] 2\n"
     ]
    }
   ],
   "source": [
    "for (v in x) {\n",
    "  print(v*2)\n",
    "}"
   ]
  },
  {
   "cell_type": "code",
   "execution_count": 13,
   "id": "84cdd5bf",
   "metadata": {},
   "outputs": [
    {
     "name": "stdout",
     "output_type": "stream",
     "text": [
      "[1] 6\n",
      "[1] 10\n",
      "[1] 12\n",
      "[1] 14\n",
      "[1] 4\n",
      "[1] 6\n",
      "[1] 2\n"
     ]
    }
   ],
   "source": [
    "for (i in 1:length(x)) {\n",
    "  print(x[i]*2)\n",
    "}"
   ]
  },
  {
   "cell_type": "code",
   "execution_count": 14,
   "id": "f470fb8c",
   "metadata": {},
   "outputs": [
    {
     "data": {
      "text/plain": [
       "[1]  6 10 12 14  4  6  2"
      ]
     },
     "execution_count": null,
     "metadata": {},
     "output_type": "execute_result"
    }
   ],
   "source": [
    "x*2"
   ]
  },
  {
   "cell_type": "code",
   "execution_count": 31,
   "id": "d583e2fc",
   "metadata": {},
   "outputs": [
    {
     "name": "stdout",
     "output_type": "stream",
     "text": [
      "[1] 4\n",
      "[1] 25\n",
      "[1] 36\n",
      "[1] 16\n"
     ]
    }
   ],
   "source": [
    "for (v in x) {\n",
    "  print(v*v)\n",
    "}"
   ]
  },
  {
   "cell_type": "code",
   "execution_count": 32,
   "id": "8cb49008",
   "metadata": {},
   "outputs": [
    {
     "data": {
      "text/plain": [
       "[1]  4 25 36 16"
      ]
     },
     "execution_count": null,
     "metadata": {},
     "output_type": "execute_result"
    }
   ],
   "source": [
    "x^2"
   ]
  },
  {
   "cell_type": "code",
   "execution_count": null,
   "id": "56cbd790",
   "metadata": {},
   "outputs": [],
   "source": [
    "# while\n",
    "# repeat\n",
    "# break\n",
    "# next -> continue C#/Python"
   ]
  },
  {
   "cell_type": "markdown",
   "id": "9c60cc81",
   "metadata": {},
   "source": [
    "## 6. Math Functions"
   ]
  },
  {
   "cell_type": "code",
   "execution_count": 34,
   "id": "18bf3e85",
   "metadata": {},
   "outputs": [
    {
     "data": {
      "text/plain": [
       "[1]  4.6 -5.1  7.4"
      ]
     },
     "execution_count": null,
     "metadata": {},
     "output_type": "execute_result"
    }
   ],
   "source": [
    "x <- c(4.56, -5.12, 7.445)\n",
    "round(x, 1)"
   ]
  },
  {
   "cell_type": "code",
   "execution_count": 35,
   "id": "bc65b187",
   "metadata": {},
   "outputs": [
    {
     "data": {
      "text/plain": [
       "[1]  5 -5  8"
      ]
     },
     "execution_count": null,
     "metadata": {},
     "output_type": "execute_result"
    }
   ],
   "source": [
    "ceiling(x)"
   ]
  },
  {
   "cell_type": "code",
   "execution_count": 36,
   "id": "93a8b205",
   "metadata": {},
   "outputs": [
    {
     "data": {
      "text/plain": [
       "[1]  4 -6  7"
      ]
     },
     "execution_count": null,
     "metadata": {},
     "output_type": "execute_result"
    }
   ],
   "source": [
    "floor(x)"
   ]
  },
  {
   "cell_type": "code",
   "execution_count": 15,
   "id": "39e2e54b",
   "metadata": {},
   "outputs": [
    {
     "data": {
      "text/plain": [
       " [1] 61 60 59 58 57 56 55 54 53 52 51 50 49 48 47 46 45 44 43 42 41 40 39 38 37 36 35 34"
      ]
     },
     "execution_count": null,
     "metadata": {},
     "output_type": "execute_result"
    }
   ],
   "source": [
    "61:34"
   ]
  },
  {
   "cell_type": "code",
   "execution_count": 16,
   "id": "38cf2336",
   "metadata": {},
   "outputs": [
    {
     "data": {
      "text/plain": [
       " [1]  0  1  2  3  4  5  6  7  8  9 10"
      ]
     },
     "execution_count": null,
     "metadata": {},
     "output_type": "execute_result"
    }
   ],
   "source": [
    "seq(0, 10)"
   ]
  },
  {
   "cell_type": "code",
   "execution_count": 39,
   "id": "648d1463",
   "metadata": {},
   "outputs": [
    {
     "data": {
      "text/plain": [
       " [1] 0.00 0.35 0.70 1.05 1.40 1.75 2.10 2.45 2.80 3.15 3.50 3.85 4.20 4.55 4.90 5.25\n",
       "[17] 5.60 5.95 6.30 6.65 7.00 7.35 7.70 8.05 8.40 8.75 9.10 9.45 9.80"
      ]
     },
     "execution_count": null,
     "metadata": {},
     "output_type": "execute_result"
    }
   ],
   "source": [
    "seq(0, 10, by = 0.35)"
   ]
  },
  {
   "cell_type": "code",
   "execution_count": 18,
   "id": "59829c6a",
   "metadata": {},
   "outputs": [
    {
     "data": {
      "text/plain": [
       "  [1]  0.0000000  0.1010101  0.2020202  0.3030303  0.4040404  0.5050505  0.6060606  0.7070707  0.8080808\n",
       " [10]  0.9090909  1.0101010  1.1111111  1.2121212  1.3131313  1.4141414  1.5151515  1.6161616  1.7171717\n",
       " [19]  1.8181818  1.9191919  2.0202020  2.1212121  2.2222222  2.3232323  2.4242424  2.5252525  2.6262626\n",
       " [28]  2.7272727  2.8282828  2.9292929  3.0303030  3.1313131  3.2323232  3.3333333  3.4343434  3.5353535\n",
       " [37]  3.6363636  3.7373737  3.8383838  3.9393939  4.0404040  4.1414141  4.2424242  4.3434343  4.4444444\n",
       " [46]  4.5454545  4.6464646  4.7474747  4.8484848  4.9494949  5.0505051  5.1515152  5.2525253  5.3535354\n",
       " [55]  5.4545455  5.5555556  5.6565657  5.7575758  5.8585859  5.9595960  6.0606061  6.1616162  6.2626263\n",
       " [64]  6.3636364  6.4646465  6.5656566  6.6666667  6.7676768  6.8686869  6.9696970  7.0707071  7.1717172\n",
       " [73]  7.2727273  7.3737374  7.4747475  7.5757576  7.6767677  7.7777778  7.8787879  7.9797980  8.0808081\n",
       " [82]  8.1818182  8.2828283  8.3838384  8.4848485  8.5858586  8.6868687  8.7878788  8.8888889  8.9898990\n",
       " [91]  9.0909091  9.1919192  9.2929293  9.3939394  9.4949495  9.5959596  9.6969697  9.7979798  9.8989899\n",
       "[100] 10.0000000"
      ]
     },
     "execution_count": null,
     "metadata": {},
     "output_type": "execute_result"
    }
   ],
   "source": [
    "seq(0, 10, length = 100)"
   ]
  },
  {
   "cell_type": "code",
   "execution_count": 41,
   "id": "7163088e",
   "metadata": {},
   "outputs": [
    {
     "data": {
      "text/plain": [
       " [1] 1 2 3 4 5 6 7 1 2 3 4 5 6 7 1 2 3 4 5 6 7 1 2 3 4 5 6 7 1 2 3 4 5 6 7 1 2 3 4 5\n",
       "[41] 6 7 1 2 3 4 5 6 7 1 2 3 4 5 6 7 1 2 3 4 5 6 7 1 2 3 4 5 6 7"
      ]
     },
     "execution_count": null,
     "metadata": {},
     "output_type": "execute_result"
    }
   ],
   "source": [
    "rep(1:7, times = 10)"
   ]
  },
  {
   "cell_type": "code",
   "execution_count": 42,
   "id": "d45e8a19",
   "metadata": {},
   "outputs": [
    {
     "data": {
      "text/plain": [
       " [1]  4.5 -7.0 -3.0  4.5 -7.0 -3.0  4.5 -7.0 -3.0  4.5 -7.0 -3.0  4.5 -7.0 -3.0  4.5\n",
       "[17] -7.0 -3.0  4.5 -7.0 -3.0  4.5 -7.0 -3.0  4.5 -7.0 -3.0  4.5 -7.0 -3.0"
      ]
     },
     "execution_count": null,
     "metadata": {},
     "output_type": "execute_result"
    }
   ],
   "source": [
    "rep(c(4.5, -7, -3), times = 10)"
   ]
  },
  {
   "cell_type": "markdown",
   "id": "a3f2c2b1",
   "metadata": {},
   "source": [
    "## 7. Random numbers"
   ]
  },
  {
   "cell_type": "code",
   "execution_count": 22,
   "id": "d0040e48",
   "metadata": {},
   "outputs": [
    {
     "data": {
      "text/plain": [
       "[1] 88 64 62 94 60"
      ]
     },
     "execution_count": null,
     "metadata": {},
     "output_type": "execute_result"
    }
   ],
   "source": [
    "sample(1:100, size = 5)"
   ]
  },
  {
   "cell_type": "code",
   "execution_count": 23,
   "id": "532b5779",
   "metadata": {},
   "outputs": [
    {
     "ename": "",
     "evalue": "\u001b[1m\u001b[33mError\u001b[39m in `sample.int()`:\u001b[22m\n\u001b[33m!\u001b[39m cannot take a sample larger than the population when 'replace = FALSE'",
     "output_type": "error",
     "traceback": [
      "\u001b[1m\u001b[33mError\u001b[39m in `sample.int()`:\u001b[22m\n",
      "\u001b[33m!\u001b[39m cannot take a sample larger than the population when 'replace = FALSE'\n",
      "\u001b[90m    \u001b[39m▆\n",
      "\u001b[90m 1. \u001b[39m└─\u001b[1mbase\u001b[22m::sample(1:10, size = 15)\n",
      "\u001b[90m 2. \u001b[39m  └─base::sample.int(length(x), size, replace, prob)"
     ]
    }
   ],
   "source": [
    "sample(1:10, size = 15)"
   ]
  },
  {
   "cell_type": "code",
   "execution_count": 24,
   "id": "c20d177a",
   "metadata": {},
   "outputs": [
    {
     "data": {
      "text/plain": [
       " [1] 10  5  1  2  5  5  3 10  8  2  5 10 10  6  8"
      ]
     },
     "execution_count": null,
     "metadata": {},
     "output_type": "execute_result"
    }
   ],
   "source": [
    "sample(1:10, size = 15, replace = T)"
   ]
  },
  {
   "cell_type": "code",
   "execution_count": 28,
   "id": "70194813",
   "metadata": {},
   "outputs": [
    {
     "data": {
      "text/plain": [
       " [1] 1 5 7 5 3 5 3 6 1 7"
      ]
     },
     "execution_count": null,
     "metadata": {},
     "output_type": "execute_result"
    }
   ],
   "source": [
    "sample(x, size = 10, replace = T)"
   ]
  },
  {
   "cell_type": "code",
   "execution_count": 48,
   "id": "e246b37c",
   "metadata": {},
   "outputs": [
    {
     "data": {
      "text/plain": [
       " [1] 0.93612151 0.33325718 0.85758898 0.05538633 0.27035149 0.34247336 0.33255019\n",
       " [8] 0.93370815 0.84751047 0.96588582"
      ]
     },
     "execution_count": null,
     "metadata": {},
     "output_type": "execute_result"
    }
   ],
   "source": [
    "runif(10)"
   ]
  },
  {
   "cell_type": "code",
   "execution_count": 29,
   "id": "532824c3",
   "metadata": {},
   "outputs": [],
   "source": [
    "data <- runif(1000, min = 10, max = 20)"
   ]
  },
  {
   "cell_type": "code",
   "execution_count": 30,
   "id": "2903c0a0",
   "metadata": {},
   "outputs": [
    {
     "data": {
      "text/plain": [
       "   [1] 16.90678 15.94268 14.65489 15.98605 17.22636 16.43999 16.77665 18.31306 14.88658 18.01918 14.37385\n",
       "  [12] 10.23984 16.10569 18.91239 10.64318 16.29464 13.66111 11.01920 19.45695 11.66427 17.59662 14.61379\n",
       "  [23] 15.10619 16.59119 12.40849 11.83315 16.81199 16.07903 18.31763 14.83362 14.48974 11.25820 16.97506\n",
       "  [34] 17.09563 17.25307 19.91801 12.51638 12.71355 14.13120 16.18157 16.85464 19.05353 19.31444 18.40931\n",
       "  [45] 19.31811 11.61583 18.74118 16.90432 14.07631 15.16087 18.06791 12.83113 12.37591 18.48809 16.36300\n",
       "  [56] 17.81579 14.56294 13.75152 15.02007 17.37825 14.27091 16.63259 11.60202 17.44405 16.70705 13.06502\n",
       "  [67] 17.98816 11.23592 15.33585 12.36205 16.57500 18.20945 11.20863 13.80077 15.61429 15.95100 12.32567\n",
       "  [78] 19.45307 15.02800 11.68473 15.84882 10.26831 17.27099 13.42957 11.08661 13.17714 16.31701 14.17785\n",
       "  [89] 11.75330 12.78222 16.62141 11.42038 10.15137 15.90688 18.00628 11.07361 12.74104 19.79038 19.20705\n",
       " [100] 19.81615 19.17369 13.99411 11.40203 14.65536 16.48147 13.54561 19.48108 13.59338 11.44449 15.67674\n",
       " [111] 15.88926 13.24143 11.77053 17.96682 17.15995 12.55498 18.64332 17.76155 10.81471 11.53888 12.74268\n",
       " [122] 10.85562 19.68932 10.79956 12.86015 14.70266 18.82151 13.32345 11.26814 17.16391 12.18463 16.62353\n",
       " [133] 10.33872 14.15749 11.29145 12.32197 13.82289 12.21505 11.51583 18.01002 13.21418 19.00290 19.68453\n",
       " [144] 11.20911 10.45008 10.64392 18.95169 15.64702 10.41495 15.94632 16.80975 11.07555 17.22734 16.28636\n",
       " [155] 12.83153 15.37379 19.96680 13.01283 17.99028 15.24068 15.57755 19.93621 10.94442 16.13788 18.05297\n",
       " [166] 13.38479 11.00270 13.28009 15.81386 18.24688 16.08490 18.65532 18.53695 19.93997 13.45146 14.73015\n",
       " [177] 13.91117 11.29286 18.32306 13.75174 12.43275 18.23214 10.36094 10.75225 17.15031 16.61266 12.21783\n",
       " [188] 17.14907 16.31217 10.16696 17.24796 10.34346 17.86406 12.97272 18.79112 19.83027 17.42182 18.34976\n",
       " [199] 13.59694 11.49796 11.28681 15.61450 10.14316 13.61014 11.16453 15.28489 17.41483 13.04207 11.33311\n",
       " [210] 15.57652 19.19691 13.15575 14.14012 18.12394 12.41210 11.35468 15.42506 14.04824 15.13656 19.62634\n",
       " [221] 17.66708 17.39784 13.31190 15.03091 18.70065 16.24808 17.71668 13.39964 12.00745 12.15269 12.78837\n",
       " [232] 14.84341 11.18601 13.89670 18.44648 10.13613 11.81577 18.38377 19.35633 11.94995 10.24100 16.62624\n",
       " [243] 16.20158 15.16457 19.79846 16.97191 17.63581 12.12058 12.60130 11.16828 11.02686 19.81088 12.20943\n",
       " [254] 12.85581 13.76324 15.29615 19.08528 16.15744 18.58881 13.86841 15.08705 16.92553 11.78306 11.04173\n",
       " [265] 15.47461 10.79487 10.07413 19.43776 12.99842 10.99260 17.02514 12.42527 13.02080 11.72180 19.89017\n",
       " [276] 10.47979 12.34829 13.54278 10.57337 12.05133 11.50225 10.28819 14.62392 17.50695 16.06404 16.62732\n",
       " [287] 14.16548 11.41016 19.43950 18.72342 17.06791 18.58879 10.33444 16.80834 16.33674 19.89536 18.43315\n",
       " [298] 17.53731 11.73061 18.44046 19.14286 11.69268 18.64711 13.50863 12.55982 14.33136 18.20717 17.36448\n",
       " [309] 15.90725 10.11782 19.39192 11.03906 18.17858 11.53414 13.74182 14.67848 10.49171 19.18519 19.43735\n",
       " [320] 18.54041 12.16242 11.15314 19.56511 14.04996 13.41869 14.69341 11.27488 17.94179 11.86189 15.94513\n",
       " [331] 10.37584 14.03045 13.51819 18.08741 14.62228 15.01699 13.30955 10.55026 17.13681 11.17096 17.20511\n",
       " [342] 14.33983 13.81197 18.55812 10.59321 19.10946 12.66786 14.91828 11.96774 13.22786 15.70182 17.86644\n",
       " [353] 11.27008 13.86807 19.15600 16.58825 16.63609 17.95277 19.72729 18.44778 17.86800 19.83374 16.43494\n",
       " [364] 14.80570 13.62628 13.75626 17.56899 11.09169 16.98141 12.31519 15.20484 13.38536 14.85875 14.95223\n",
       " [375] 11.66831 10.06873 14.62192 14.85407 17.39095 15.21816 18.14043 10.80561 19.81277 16.50101 19.55821\n",
       " [386] 13.74350 12.39440 13.80012 10.99463 17.40195 16.47508 17.59898 15.01231 10.51082 11.46073 10.23446\n",
       " [397] 19.16085 15.13976 17.72038 13.13559 17.53915 13.85301 12.43669 15.59544 19.34259 15.67445 12.30968\n",
       " [408] 10.28806 17.52378 11.40754 18.39515 14.76156 17.51002 13.80895 16.97506 17.03344 16.40753 18.27610\n",
       " [419] 12.24641 13.89191 10.53296 19.74267 15.27558 16.20328 17.85077 18.34852 17.87056 16.63807 17.72413\n",
       " [430] 15.69663 15.19770 16.87044 14.93144 13.09763 19.60282 15.57771 16.64007 11.55582 16.53455 18.30738\n",
       " [441] 16.32136 14.54874 10.19279 14.95397 10.07042 13.00393 14.70646 15.59340 18.05018 19.16264 15.59384\n",
       " [452] 19.26284 14.63110 13.80374 14.59441 11.82501 12.74970 17.28289 13.81130 18.09997 10.98435 13.51822\n",
       " [463] 15.82205 11.26759 12.59183 13.24635 16.27652 16.13488 16.14503 17.30371 11.50812 17.64334 15.40664\n",
       " [474] 15.75911 11.51462 19.11106 19.78457 16.99281 15.67296 14.00321 10.73532 10.86013 11.88979 17.67700\n",
       " [485] 11.83808 19.18031 12.53282 16.32847 16.45769 15.65042 15.74314 19.77922 17.19282 15.36983 18.87111\n",
       " [496] 17.69784 13.51478 15.86849 16.35586 12.42847 12.78431 19.15718 11.01097 18.01584 15.68291 11.13579\n",
       " [507] 18.25784 17.30291 12.60526 15.26921 16.43746 17.57228 17.86617 15.25622 15.59185 11.45697 19.09872\n",
       " [518] 19.36322 19.72795 12.13671 19.62717 12.53375 13.83775 13.87732 19.24176 14.35492 17.74168 12.62993\n",
       " [529] 17.35996 12.76182 14.41051 15.02982 15.55728 18.16406 15.32294 14.61056 16.25762 18.21961 18.71771\n",
       " [540] 16.46256 11.89575 13.43575 15.64631 15.34965 16.24417 11.33340 13.23106 13.69091 13.70776 15.23499\n",
       " [551] 16.53804 18.64643 19.56604 10.45300 13.55595 16.66230 17.90883 19.22122 12.73117 11.80682 16.81311\n",
       " [562] 18.85249 14.30337 12.16950 15.28611 14.91172 11.54904 18.22999 14.37430 12.84564 15.86271 15.87583\n",
       " [573] 14.70218 18.11309 10.39799 14.10917 16.28173 16.49579 17.21181 17.58124 12.84654 19.05668 12.21991\n",
       " [584] 18.06610 12.94543 12.04234 14.43969 19.99265 19.14654 18.94223 16.50783 18.36980 14.91962 17.56459\n",
       " [595] 11.57945 15.84622 12.56172 19.35481 16.74439 15.24535 18.33241 14.98457 18.51249 12.36725 17.79379\n",
       " [606] 17.41192 18.96424 18.73714 19.10557 19.00254 16.59379 15.60201 12.75170 16.95420 19.96020 17.06330\n",
       " [617] 17.02285 16.71832 12.16171 12.69011 15.56333 19.04528 13.01464 11.92752 17.14362 10.11353 11.31237\n",
       " [628] 10.56569 15.10786 10.16722 18.14831 14.50046 10.99476 15.76716 10.67424 12.61662 18.63530 10.63139\n",
       " [639] 16.28536 11.36989 14.37758 11.91135 11.58046 11.74425 18.65729 15.00835 17.27747 11.70137 12.47213\n",
       " [650] 19.64323 12.85945 11.35365 18.94854 18.15260 18.72520 18.62087 12.24608 18.66918 13.44511 18.56167\n",
       " [661] 17.23805 16.48124 10.96653 12.90112 15.63928 14.04909 14.54699 12.36921 10.10032 15.77179 18.01463\n",
       " [672] 14.99250 13.87970 15.32574 13.63956 11.22167 11.86169 11.42212 10.15147 15.50142 12.81370 15.35376\n",
       " [683] 12.45605 12.89832 15.24457 12.05125 14.98116 19.05919 13.98061 18.42859 16.47450 13.42008 17.49542\n",
       " [694] 15.14774 17.48086 16.66117 17.81643 14.02640 13.24583 18.32680 11.56375 18.67502 19.07732 14.75873\n",
       " [705] 16.55367 13.50858 17.70611 15.72819 14.19925 12.50889 14.83987 14.06993 15.69503 14.59114 13.77527\n",
       " [716] 13.80397 14.48539 19.81671 17.16486 13.86898 14.05312 19.69337 17.59869 13.71184 10.99856 19.35438\n",
       " [727] 12.31665 16.03378 18.48495 10.43464 13.68480 19.72468 10.21317 14.21115 12.36018 18.19448 12.71861\n",
       " [738] 11.13255 15.39961 16.85936 14.89764 17.60011 10.91851 16.97145 13.02799 16.90163 14.57867 19.67024\n",
       " [749] 15.24779 19.99100 19.66924 14.92198 14.78744 13.82174 19.41529 19.04353 16.96391 12.75819 14.31377\n",
       " [760] 16.85849 16.54327 19.24319 19.57955 12.54988 15.05155 18.81182 12.03462 16.53398 15.94717 10.39384\n",
       " [771] 14.01810 19.45957 14.69763 19.79238 19.32707 13.72097 17.84653 14.84631 15.49096 13.46495 12.11664\n",
       " [782] 10.05547 10.46706 14.23594 15.17239 10.33406 16.09342 13.42080 15.29172 15.55137 16.83598 19.46299\n",
       " [793] 15.60596 18.48012 11.08790 12.74941 15.01376 11.04146 16.81113 10.21319 12.61851 17.66559 10.62473\n",
       " [804] 17.54640 15.45361 11.81120 14.21291 11.87994 10.01387 19.19603 12.41006 11.80404 17.44332 16.95325\n",
       " [815] 11.46310 18.26618 14.29343 16.45942 14.00049 15.21569 16.80406 10.59254 19.71710 15.34469 18.25233\n",
       " [826] 19.82744 12.22096 13.43943 14.70738 13.71531 18.17056 15.54019 11.56750 18.24134 15.22297 13.47399\n",
       " [837] 16.63601 19.33423 19.51862 18.09746 10.09635 18.24189 16.97035 13.83541 13.57564 18.68447 19.81733\n",
       " [848] 16.18835 16.67949 16.52127 11.14654 18.68379 14.09511 18.13175 11.62578 17.41438 17.95290 17.54852\n",
       " [859] 13.92900 18.94148 16.65410 18.90433 10.46279 13.63171 16.94157 16.32842 15.84160 18.70869 19.46543\n",
       " [870] 19.19753 11.62928 10.51893 15.89518 13.45538 10.59911 13.14909 19.16860 10.61747 19.18763 18.52428\n",
       " [881] 11.61988 19.85894 17.42226 13.57604 19.37080 16.58221 14.05326 17.18407 12.75661 18.87066 13.08641\n",
       " [892] 14.95922 14.38624 17.35425 18.71700 18.49389 10.13058 10.65964 10.70140 11.96613 11.44671 15.86944\n",
       " [903] 10.84422 13.27746 14.20299 10.55274 18.39153 13.89237 14.95155 14.39056 13.17407 14.42164 10.09519\n",
       " [914] 18.00398 16.74129 15.09716 17.50169 15.62412 10.03322 19.51375 12.10190 12.56565 14.11963 15.21954\n",
       " [925] 17.84755 13.38446 19.19030 14.37002 17.01821 13.81900 11.21772 13.39868 15.95137 10.64772 16.98268\n",
       " [936] 11.00168 12.00688 19.71144 10.69259 10.28594 15.23642 14.19720 17.13531 10.54303 18.30555 17.74220\n",
       " [947] 15.93128 12.08092 14.40116 17.11994 16.52595 14.05417 18.26304 17.63605 15.81152 13.05127 19.05298\n",
       " [958] 18.87450 18.20005 11.84747 14.43222 12.81533 18.11616 10.75043 19.93783 10.92776 19.74368 18.96406\n",
       " [969] 19.29243 15.28462 18.68600 12.63427 17.78330 18.02788 11.62636 17.83218 12.89198 11.80555 13.90569\n",
       " [980] 10.77617 11.11811 13.96267 15.76867 10.75138 17.76449 15.57316 14.12099 16.16905 11.43661 15.75380\n",
       " [991] 16.09199 14.19389 16.96492 14.55287 17.73553 15.25560 17.37647 11.30527 13.65934 19.75497"
      ]
     },
     "execution_count": null,
     "metadata": {},
     "output_type": "execute_result"
    }
   ],
   "source": [
    "data"
   ]
  },
  {
   "cell_type": "code",
   "execution_count": 31,
   "id": "256c071e",
   "metadata": {},
   "outputs": [
    {
     "data": {
      "image/png": "[encoded data removed]"
     },
     "metadata": {},
     "output_type": "display_data"
    }
   ],
   "source": [
    "plot(data)"
   ]
  },
  {
   "cell_type": "code",
   "execution_count": 32,
   "id": "c25d487d",
   "metadata": {},
   "outputs": [
    {
     "data": {
      "image/png": "[encoded data removed]"
     },
     "metadata": {},
     "output_type": "display_data"
    }
   ],
   "source": [
    "hist(data)"
   ]
  },
  {
   "cell_type": "code",
   "execution_count": 36,
   "id": "e89f3baf",
   "metadata": {},
   "outputs": [
    {
     "data": {
      "text/plain": [
       "[1] 9 4 7 1"
      ]
     },
     "execution_count": null,
     "metadata": {},
     "output_type": "execute_result"
    }
   ],
   "source": [
    "set.seed(0)\n",
    "sample(1:10, size = 4)"
   ]
  },
  {
   "cell_type": "code",
   "execution_count": null,
   "id": "d360c1ba",
   "metadata": {},
   "outputs": [],
   "source": [
    "# log\n",
    "# sqrt\n",
    "# factorial\n",
    "# abs\n",
    "# exp\n",
    "# sin. cos"
   ]
  },
  {
   "cell_type": "markdown",
   "id": "a23ed7e2",
   "metadata": {},
   "source": [
    "## 8. Functions"
   ]
  },
  {
   "cell_type": "code",
   "execution_count": 37,
   "id": "ee90c25d",
   "metadata": {},
   "outputs": [],
   "source": [
    "func_name <- function(data, number_to_minus = 2) {\n",
    "    data = round(data - number_to_minus, 3)\n",
    "    return (data)\n",
    "}"
   ]
  },
  {
   "cell_type": "code",
   "execution_count": 38,
   "id": "d007d732",
   "metadata": {},
   "outputs": [
    {
     "data": {
      "text/plain": [
       "[1] -5 -3 -2 -1 -6 -5 -7"
      ]
     },
     "execution_count": null,
     "metadata": {},
     "output_type": "execute_result"
    }
   ],
   "source": [
    "data_x = func_name(x, 8)\n",
    "data_x"
   ]
  },
  {
   "cell_type": "markdown",
   "id": "9eac93e9",
   "metadata": {},
   "source": [
    "## 9. Vectors"
   ]
  },
  {
   "cell_type": "code",
   "execution_count": 60,
   "id": "e5d864d3",
   "metadata": {},
   "outputs": [
    {
     "data": {
      "text/plain": [
       " [1] 13 16 73 84 19 83 14 56 20 86 94  1 17 91 15 34 76  8  2  3"
      ]
     },
     "execution_count": null,
     "metadata": {},
     "output_type": "execute_result"
    }
   ],
   "source": [
    "x <- sample(1:100, size = 20)\n",
    "x"
   ]
  },
  {
   "cell_type": "code",
   "execution_count": 61,
   "id": "566f7c74",
   "metadata": {},
   "outputs": [],
   "source": [
    "y <- c(\"text\", \"adfasdf\", \"453\")\n",
    "l <- c(T, F, F, T, T)"
   ]
  },
  {
   "cell_type": "code",
   "execution_count": 39,
   "id": "9eef6ca0",
   "metadata": {},
   "outputs": [
    {
     "data": {
      "text/plain": [
       " [1]   5   6   7   2   2   3   4   5   6   5 -10  -3   5  67"
      ]
     },
     "execution_count": null,
     "metadata": {},
     "output_type": "execute_result"
    }
   ],
   "source": [
    "x1 <- c(x[2:5], 2:6, 5, -10, c(-3,5,67))\n",
    "x1"
   ]
  },
  {
   "cell_type": "code",
   "execution_count": 40,
   "id": "0dc043d8",
   "metadata": {},
   "outputs": [
    {
     "data": {
      "text/plain": [
       "[1] 7"
      ]
     },
     "execution_count": null,
     "metadata": {},
     "output_type": "execute_result"
    }
   ],
   "source": [
    "x1[3]"
   ]
  },
  {
   "cell_type": "code",
   "execution_count": 41,
   "id": "c1354a79",
   "metadata": {},
   "outputs": [
    {
     "data": {
      "text/plain": [
       "[1] 7 2 2 3 4 5 6 5"
      ]
     },
     "execution_count": null,
     "metadata": {},
     "output_type": "execute_result"
    }
   ],
   "source": [
    "x1[3:10]"
   ]
  },
  {
   "cell_type": "code",
   "execution_count": 43,
   "id": "6cbccf2a",
   "metadata": {},
   "outputs": [
    {
     "data": {
      "text/plain": [
       "[1] 5 7 6 3"
      ]
     },
     "execution_count": null,
     "metadata": {},
     "output_type": "execute_result"
    }
   ],
   "source": [
    "x1[c(1,3,2,6)]"
   ]
  },
  {
   "cell_type": "code",
   "execution_count": 44,
   "id": "4afe53bb",
   "metadata": {},
   "outputs": [
    {
     "data": {
      "text/plain": [
       "[1]   6   2   2   4   6 -10"
      ]
     },
     "execution_count": null,
     "metadata": {},
     "output_type": "execute_result"
    }
   ],
   "source": [
    "x1[x1 %% 2 == 0]"
   ]
  },
  {
   "cell_type": "code",
   "execution_count": 45,
   "id": "805b8533",
   "metadata": {},
   "outputs": [
    {
     "data": {
      "text/plain": [
       "[1] -10  67"
      ]
     },
     "execution_count": null,
     "metadata": {},
     "output_type": "execute_result"
    }
   ],
   "source": [
    "x1[abs(x1) >= 10]"
   ]
  },
  {
   "cell_type": "code",
   "execution_count": 46,
   "id": "a811527a",
   "metadata": {},
   "outputs": [],
   "source": [
    "a <- c(3,4,5)\n",
    "b <- c(1,2,1)"
   ]
  },
  {
   "cell_type": "code",
   "execution_count": 47,
   "id": "290f2d1e",
   "metadata": {},
   "outputs": [
    {
     "data": {
      "text/plain": [
       "[1] 4 6 6"
      ]
     },
     "execution_count": null,
     "metadata": {},
     "output_type": "execute_result"
    }
   ],
   "source": [
    "a + b"
   ]
  },
  {
   "cell_type": "code",
   "execution_count": 72,
   "id": "0cc53ea8",
   "metadata": {},
   "outputs": [
    {
     "data": {
      "text/plain": [
       "[1] 3 8 5"
      ]
     },
     "execution_count": null,
     "metadata": {},
     "output_type": "execute_result"
    }
   ],
   "source": [
    "a * b"
   ]
  },
  {
   "cell_type": "code",
   "execution_count": 49,
   "id": "d7c565b9",
   "metadata": {},
   "outputs": [
    {
     "data": {
      "text/plain": [
       "[1] 4 6 6 6 3 6"
      ]
     },
     "execution_count": null,
     "metadata": {},
     "output_type": "execute_result"
    }
   ],
   "source": [
    "a <- c(3,4,5,5,1,5)\n",
    "b <- c(1,2,1)\n",
    "\n",
    "a+b"
   ]
  },
  {
   "cell_type": "code",
   "execution_count": 50,
   "id": "0fee508d",
   "metadata": {},
   "outputs": [
    {
     "data": {
      "text/plain": [
       "[1] 23"
      ]
     },
     "execution_count": null,
     "metadata": {},
     "output_type": "execute_result"
    }
   ],
   "source": [
    "sum(a)"
   ]
  },
  {
   "cell_type": "code",
   "execution_count": 51,
   "id": "f08f0b52",
   "metadata": {},
   "outputs": [
    {
     "data": {
      "text/plain": [
       "[1] 6"
      ]
     },
     "execution_count": null,
     "metadata": {},
     "output_type": "execute_result"
    }
   ],
   "source": [
    "length(a)"
   ]
  },
  {
   "cell_type": "code",
   "execution_count": 52,
   "id": "becdf615",
   "metadata": {},
   "outputs": [
    {
     "data": {
      "text/plain": [
       "[1] 1"
      ]
     },
     "execution_count": null,
     "metadata": {},
     "output_type": "execute_result"
    }
   ],
   "source": [
    "min(a)"
   ]
  },
  {
   "cell_type": "code",
   "execution_count": 53,
   "id": "75bfe5c5",
   "metadata": {},
   "outputs": [
    {
     "data": {
      "text/plain": [
       "[1] 3.833333"
      ]
     },
     "execution_count": null,
     "metadata": {},
     "output_type": "execute_result"
    }
   ],
   "source": [
    "mean(a)"
   ]
  },
  {
   "cell_type": "code",
   "execution_count": 54,
   "id": "69819bfa",
   "metadata": {},
   "outputs": [
    {
     "data": {
      "text/plain": [
       "[1] 4.5"
      ]
     },
     "execution_count": null,
     "metadata": {},
     "output_type": "execute_result"
    }
   ],
   "source": [
    "median(a)"
   ]
  },
  {
   "cell_type": "code",
   "execution_count": 64,
   "id": "e469887c",
   "metadata": {},
   "outputs": [
    {
     "data": {
      "text/plain": [
       "[1] 4 1 7 6"
      ]
     },
     "execution_count": null,
     "metadata": {},
     "output_type": "execute_result"
    }
   ],
   "source": [
    "set.seed(2025)\n",
    "d <- sample(1:10, size = 4)\n",
    "d"
   ]
  },
  {
   "cell_type": "code",
   "execution_count": 66,
   "id": "32a013cb",
   "metadata": {},
   "outputs": [
    {
     "data": {
      "text/plain": [
       "[1] 5"
      ]
     },
     "execution_count": null,
     "metadata": {},
     "output_type": "execute_result"
    }
   ],
   "source": [
    "median(d)"
   ]
  },
  {
   "cell_type": "code",
   "execution_count": 67,
   "id": "1d5b72ff",
   "metadata": {},
   "outputs": [
    {
     "data": {
      "text/plain": [
       "[1] 3 4 5 1"
      ]
     },
     "execution_count": null,
     "metadata": {},
     "output_type": "execute_result"
    }
   ],
   "source": [
    "unique(a)"
   ]
  },
  {
   "cell_type": "markdown",
   "id": "1806fb6d",
   "metadata": {},
   "source": [
    "## 10. Missing"
   ]
  },
  {
   "cell_type": "code",
   "execution_count": 68,
   "id": "74d8cfe1",
   "metadata": {},
   "outputs": [
    {
     "data": {
      "text/plain": [
       "[1]    1   -2   NA  NaN  Inf 1223 -Inf   NA   21"
      ]
     },
     "execution_count": null,
     "metadata": {},
     "output_type": "execute_result"
    }
   ],
   "source": [
    "v <- c(1, -2, NA, NaN, Inf, 1223, -Inf, NA, 21) \n",
    "v"
   ]
  },
  {
   "cell_type": "code",
   "execution_count": 69,
   "id": "9c62f976",
   "metadata": {},
   "outputs": [
    {
     "data": {
      "text/plain": [
       "[1] FALSE FALSE  TRUE  TRUE FALSE FALSE FALSE  TRUE FALSE"
      ]
     },
     "execution_count": null,
     "metadata": {},
     "output_type": "execute_result"
    }
   ],
   "source": [
    "is.na(v)"
   ]
  },
  {
   "cell_type": "code",
   "execution_count": 86,
   "id": "eb0d88cb",
   "metadata": {},
   "outputs": [
    {
     "data": {
      "text/plain": [
       "[1] FALSE FALSE FALSE  TRUE FALSE FALSE FALSE FALSE FALSE"
      ]
     },
     "execution_count": null,
     "metadata": {},
     "output_type": "execute_result"
    }
   ],
   "source": [
    "is.nan(v)"
   ]
  },
  {
   "cell_type": "code",
   "execution_count": 87,
   "id": "c79bf313",
   "metadata": {},
   "outputs": [
    {
     "data": {
      "text/plain": [
       "[1]  TRUE  TRUE FALSE FALSE FALSE  TRUE FALSE FALSE  TRUE"
      ]
     },
     "execution_count": null,
     "metadata": {},
     "output_type": "execute_result"
    }
   ],
   "source": [
    "is.finite(v)"
   ]
  },
  {
   "cell_type": "code",
   "execution_count": 88,
   "id": "1a1d6020",
   "metadata": {},
   "outputs": [
    {
     "data": {
      "text/plain": [
       "[1] FALSE FALSE FALSE FALSE  TRUE FALSE  TRUE FALSE FALSE"
      ]
     },
     "execution_count": null,
     "metadata": {},
     "output_type": "execute_result"
    }
   ],
   "source": [
    "is.infinite(v)"
   ]
  },
  {
   "cell_type": "code",
   "execution_count": 89,
   "id": "71b8a063",
   "metadata": {},
   "outputs": [
    {
     "data": {
      "text/plain": [
       "[1]    1   -2   NA  NaN  Inf 1223 -Inf   NA   21"
      ]
     },
     "execution_count": null,
     "metadata": {},
     "output_type": "execute_result"
    }
   ],
   "source": [
    "v"
   ]
  },
  {
   "cell_type": "code",
   "execution_count": 70,
   "id": "ab1c8394",
   "metadata": {},
   "outputs": [
    {
     "data": {
      "text/plain": [
       "[1]    1   -2   NA    0  Inf 1223 -Inf   NA   21"
      ]
     },
     "execution_count": null,
     "metadata": {},
     "output_type": "execute_result"
    }
   ],
   "source": [
    "v[is.nan(v)] <- 0\n",
    "v"
   ]
  },
  {
   "cell_type": "code",
   "execution_count": 71,
   "id": "cf365a9f",
   "metadata": {},
   "outputs": [
    {
     "data": {
      "text/plain": [
       "[1]    1   -2   20    0  Inf 1223 -Inf   20   21"
      ]
     },
     "execution_count": null,
     "metadata": {},
     "output_type": "execute_result"
    }
   ],
   "source": [
    "v[is.na(v)] <- 20\n",
    "v"
   ]
  },
  {
   "cell_type": "code",
   "execution_count": 72,
   "id": "bd099e67",
   "metadata": {},
   "outputs": [
    {
     "data": {
      "text/plain": [
       "[1] 1223"
      ]
     },
     "execution_count": null,
     "metadata": {},
     "output_type": "execute_result"
    }
   ],
   "source": [
    "max(v[is.finite(v)])"
   ]
  },
  {
   "cell_type": "code",
   "execution_count": 73,
   "id": "fd19030c",
   "metadata": {},
   "outputs": [
    {
     "data": {
      "text/plain": [
       "[1]    1   -2   20    0 1223 1223 -Inf   20   21"
      ]
     },
     "execution_count": null,
     "metadata": {},
     "output_type": "execute_result"
    }
   ],
   "source": [
    "v[v == Inf] <- max(v[is.finite(v)])\n",
    "v"
   ]
  },
  {
   "cell_type": "code",
   "execution_count": 74,
   "id": "45b49671",
   "metadata": {},
   "outputs": [
    {
     "data": {
      "text/plain": [
       "[1]    1   -2   20    0 1223 1223   -2   20   21"
      ]
     },
     "execution_count": null,
     "metadata": {},
     "output_type": "execute_result"
    }
   ],
   "source": [
    "v[v == -Inf] <- min(v[is.finite(v)])\n",
    "v"
   ]
  },
  {
   "cell_type": "code",
   "execution_count": 75,
   "id": "00decac2",
   "metadata": {},
   "outputs": [
    {
     "data": {
      "text/plain": [
       "[1]   1  -2  NA NaN  NA  21"
      ]
     },
     "execution_count": null,
     "metadata": {},
     "output_type": "execute_result"
    }
   ],
   "source": [
    "v <- c(1, -2, NA, NaN, NA, 21) \n",
    "v"
   ]
  },
  {
   "cell_type": "code",
   "execution_count": 76,
   "id": "65471b59",
   "metadata": {},
   "outputs": [
    {
     "data": {
      "text/plain": [
       "[1] NA"
      ]
     },
     "execution_count": null,
     "metadata": {},
     "output_type": "execute_result"
    }
   ],
   "source": [
    "sum(v)"
   ]
  },
  {
   "cell_type": "code",
   "execution_count": 101,
   "id": "23644fa4",
   "metadata": {},
   "outputs": [
    {
     "data": {
      "text/plain": [
       "[1] 20"
      ]
     },
     "execution_count": null,
     "metadata": {},
     "output_type": "execute_result"
    }
   ],
   "source": [
    "sum(v, na.rm = T)"
   ]
  },
  {
   "cell_type": "markdown",
   "id": "6e4033d6",
   "metadata": {},
   "source": [
    "## 11. Matrices"
   ]
  },
  {
   "cell_type": "code",
   "execution_count": 81,
   "id": "da41b5ff",
   "metadata": {},
   "outputs": [
    {
     "data": {
      "text/plain": [
       "     [,1] [,2]\n",
       "[1,]    1    2\n",
       "[2,]    3    4\n",
       "[3,]    5    6\n",
       "[4,]    7    8\n",
       "[5,]    9   10"
      ]
     },
     "execution_count": null,
     "metadata": {},
     "output_type": "execute_result"
    }
   ],
   "source": [
    "matrix(1:10, byrow = TRUE, nrow = 5)"
   ]
  },
  {
   "cell_type": "code",
   "execution_count": 83,
   "id": "d22f84df",
   "metadata": {},
   "outputs": [
    {
     "data": {
      "text/plain": [
       "     [,1] [,2] [,3]\n",
       "[1,]    1    4    7\n",
       "[2,]    2    5    8\n",
       "[3,]    3    6    9"
      ]
     },
     "execution_count": null,
     "metadata": {},
     "output_type": "execute_result"
    }
   ],
   "source": [
    "m <- matrix(1:9, nrow = 3)\n",
    "m"
   ]
  },
  {
   "cell_type": "code",
   "execution_count": 84,
   "id": "9d7cf04f",
   "metadata": {},
   "outputs": [
    {
     "data": {
      "text/plain": [
       "     [,1] [,2] [,3]\n",
       "[1,]    1    4    7\n",
       "[2,]    2    5    8"
      ]
     },
     "execution_count": null,
     "metadata": {},
     "output_type": "execute_result"
    }
   ],
   "source": [
    "m[1:2,]"
   ]
  },
  {
   "cell_type": "code",
   "execution_count": 87,
   "id": "ca0251dc",
   "metadata": {},
   "outputs": [
    {
     "data": {
      "text/plain": [
       "     [,1] [,2]\n",
       "[1,]    1    7\n",
       "[2,]    2    8"
      ]
     },
     "execution_count": null,
     "metadata": {},
     "output_type": "execute_result"
    }
   ],
   "source": [
    "m[1:2, c(1,3)]"
   ]
  },
  {
   "cell_type": "markdown",
   "id": "03301a0b",
   "metadata": {},
   "source": [
    "## Factor"
   ]
  },
  {
   "cell_type": "code",
   "execution_count": 88,
   "id": "1ce8f57c",
   "metadata": {},
   "outputs": [
    {
     "data": {
      "text/plain": [
       "[1] \"Male\"   \"Female\" \"Other\"  \"Male\"   \"Female\" \"Male\"   \"Female\" \"Female\""
      ]
     },
     "execution_count": null,
     "metadata": {},
     "output_type": "execute_result"
    }
   ],
   "source": [
    "gender <- c(\"Male\", \"Female\", \"Other\", \"Male\", \"Female\", \"Male\", \"Female\", \"Female\")\n",
    "gender "
   ]
  },
  {
   "cell_type": "code",
   "execution_count": 89,
   "id": "4802fd25",
   "metadata": {},
   "outputs": [
    {
     "data": {
      "text/plain": [
       "[1] \"character\""
      ]
     },
     "execution_count": null,
     "metadata": {},
     "output_type": "execute_result"
    }
   ],
   "source": [
    "class(gender)"
   ]
  },
  {
   "cell_type": "code",
   "execution_count": 91,
   "id": "b11d5dcf",
   "metadata": {},
   "outputs": [
    {
     "name": "stderr",
     "output_type": "stream",
     "text": [
      "Warning message:\n",
      "NAs introduced by coercion \n"
     ]
    },
    {
     "data": {
      "text/plain": [
       "[1] NA NA NA NA NA NA NA NA"
      ]
     },
     "execution_count": null,
     "metadata": {},
     "output_type": "execute_result"
    }
   ],
   "source": [
    "as.numeric(gender)"
   ]
  },
  {
   "cell_type": "code",
   "execution_count": 90,
   "id": "6e0baf78",
   "metadata": {},
   "outputs": [
    {
     "data": {
      "text/plain": [
       "[1] Male   Female Other  Male   Female Male   Female Female\n",
       "Levels: Female Male Other"
      ]
     },
     "execution_count": null,
     "metadata": {},
     "output_type": "execute_result"
    }
   ],
   "source": [
    "gender_factor <- factor(gender)\n",
    "gender_factor"
   ]
  },
  {
   "cell_type": "code",
   "execution_count": 110,
   "id": "e8dd66be",
   "metadata": {},
   "outputs": [
    {
     "data": {
      "text/plain": [
       "[1] 2 1 3 2 1 2 1 1"
      ]
     },
     "execution_count": null,
     "metadata": {},
     "output_type": "execute_result"
    }
   ],
   "source": [
    "as.numeric(gender_factor)"
   ]
  },
  {
   "cell_type": "markdown",
   "id": "28fc48b6",
   "metadata": {},
   "source": [
    "## DataFrame"
   ]
  },
  {
   "cell_type": "code",
   "execution_count": 92,
   "id": "e360d314",
   "metadata": {},
   "outputs": [
    {
     "data": {
      "text/plain": [
       "  id char_col log_col double_col\n",
       "1  1        a    TRUE   2.100000\n",
       "2  2        b    TRUE   1.000000\n",
       "3  3        c    TRUE   0.500000\n",
       "4  4        d   FALSE   3.141593\n",
       "5  5        e    TRUE  12.700000"
      ]
     },
     "execution_count": null,
     "metadata": {},
     "output_type": "execute_result"
    }
   ],
   "source": [
    "df <- data.frame(id = 1:5,\n",
    "                char_col = c(\"a\", \"b\", \"c\", \"d\", \"e\"),\n",
    "                log_col = c(T,T,T,F,T),\n",
    "                double_col = c(2.1, 1, 0.5, pi, 12.7))\n",
    "df"
   ]
  },
  {
   "cell_type": "code",
   "execution_count": 112,
   "id": "84541ad7",
   "metadata": {},
   "outputs": [
    {
     "name": "stdout",
     "output_type": "stream",
     "text": [
      "'data.frame':\t5 obs. of  4 variables:\n",
      " $ id        : int  1 2 3 4 5\n",
      " $ char_col  : chr  \"a\" \"b\" \"c\" \"d\" ...\n",
      " $ log_col   : logi  TRUE TRUE TRUE FALSE TRUE\n",
      " $ double_col: num  2.1 1 0.5 3.14 12.7\n"
     ]
    }
   ],
   "source": [
    "str(df)"
   ]
  },
  {
   "cell_type": "code",
   "execution_count": 114,
   "id": "2e64f4aa",
   "metadata": {},
   "outputs": [
    {
     "data": {
      "text/plain": [
       "[1] 5 4"
      ]
     },
     "execution_count": null,
     "metadata": {},
     "output_type": "execute_result"
    }
   ],
   "source": [
    "#nrow()\n",
    "#ncol()\n",
    "dim(df)"
   ]
  },
  {
   "cell_type": "code",
   "execution_count": 93,
   "id": "ba1ceffb",
   "metadata": {},
   "outputs": [
    {
     "data": {
      "text/plain": [
       "  id log_col\n",
       "1  1    TRUE\n",
       "2  2    TRUE\n",
       "3  3    TRUE"
      ]
     },
     "execution_count": null,
     "metadata": {},
     "output_type": "execute_result"
    }
   ],
   "source": [
    "df[1:3, c(\"id\", \"log_col\")]"
   ]
  },
  {
   "cell_type": "code",
   "execution_count": 94,
   "id": "d720a778",
   "metadata": {},
   "outputs": [
    {
     "data": {
      "text/plain": [
       "  id char_col log_col double_col\n",
       "1  1        a    TRUE   2.100000\n",
       "4  4        d   FALSE   3.141593\n",
       "5  5        e    TRUE  12.700000"
      ]
     },
     "execution_count": null,
     "metadata": {},
     "output_type": "execute_result"
    }
   ],
   "source": [
    "df[df$double_col > 1, ]"
   ]
  },
  {
   "cell_type": "code",
   "execution_count": 96,
   "id": "4382b20b",
   "metadata": {},
   "outputs": [
    {
     "data": {
      "text/plain": [
       "  id double_col\n",
       "1  1        2.1\n",
       "5  5       12.7"
      ]
     },
     "execution_count": null,
     "metadata": {},
     "output_type": "execute_result"
    }
   ],
   "source": [
    "df[df$double_col > 1 & df$log_col == T, c(1,4)]"
   ]
  },
  {
   "cell_type": "markdown",
   "id": "c4967d45",
   "metadata": {},
   "source": [
    "## LIST"
   ]
  },
  {
   "cell_type": "code",
   "execution_count": 121,
   "id": "c8e7dc43",
   "metadata": {},
   "outputs": [
    {
     "name": "stdout",
     "output_type": "stream",
     "text": [
      "also installing the dependency ‘timechange’\n",
      "\n"
     ]
    },
    {
     "name": "stderr",
     "output_type": "stream",
     "text": [
      "trying URL 'https://cran.rstudio.com/bin/windows/contrib/4.5/timechange_0.3.0.zip'\n",
      "trying URL 'https://cran.rstudio.com/bin/windows/contrib/4.5/lubridate_1.9.4.zip'\n"
     ]
    },
    {
     "name": "stdout",
     "output_type": "stream",
     "text": [
      "package ‘timechange’ successfully unpacked and MD5 sums checked\n",
      "package ‘lubridate’ successfully unpacked and MD5 sums checked\n",
      "\n",
      "The downloaded binary packages are in\n",
      "\tC:\\Users\\Yura\\AppData\\Local\\Temp\\Rtmp6JYNOJ\\downloaded_packages\n"
     ]
    }
   ],
   "source": [
    "install.packages(\"lubridate\")"
   ]
  },
  {
   "cell_type": "code",
   "execution_count": 97,
   "id": "d60b3fdc",
   "metadata": {},
   "outputs": [
    {
     "name": "stdout",
     "output_type": "stream",
     "text": [
      "\n",
      "Attaching package: ‘lubridate’\n",
      "\n",
      "The following objects are masked from ‘package:base’:\n",
      "\n",
      "    date, intersect, setdiff, union\n",
      "\n",
      "[1] \"2021-05-25\"\n",
      "[1] \"2021-05-27\"\n"
     ]
    }
   ],
   "source": [
    "library(lubridate)\n",
    "date1 <- ymd(\"2021-05-25\")\n",
    "date2 <- ymd(\"2021-05-27\")\n",
    "\n",
    "print(date1)\n",
    "print(date2)"
   ]
  },
  {
   "cell_type": "code",
   "execution_count": 98,
   "id": "732e6611",
   "metadata": {},
   "outputs": [
    {
     "data": {
      "text/plain": [
       "  contract_id            datetime oper_type  amount\n",
       "1       52249 2025-05-25 11:05:12         1 -407.72\n",
       "2       38528 2025-05-25 11:07:14         1 -571.34\n",
       "3       52249 2025-06-21 11:08:02         0  907.92\n",
       "4       38528 2025-08-25 11:12:45         0  159.78\n",
       "5       52249 2025-09-24 11:47:00         0  142.20\n",
       "6       38528 2025-09-27 11:48:08         0  549.86"
      ]
     },
     "execution_count": null,
     "metadata": {},
     "output_type": "execute_result"
    }
   ],
   "source": [
    "client_name <- \"John Doe\"\n",
    "\n",
    "services <- c(\"credit\", \"deposite\", \"online-app\")\n",
    "\n",
    "is_active <- TRUE\n",
    "\n",
    "transactions <- data.frame(contract_id = sample(10000:99999, size = 2, replace = T),# random numbers\n",
    "                          datetime = c(ymd_hms(\"2025-05-25 11:05:12\"),\n",
    "                                      ymd_hms(\"2025-05-25 11:07:14\"),\n",
    "                                      ymd_hms(\"2025-06-21 11:08:02\"),\n",
    "                                      ymd_hms(\"2025-08-25 11:12:45\"),\n",
    "                                      ymd_hms(\"2025-09-24 11:47:00\"),\n",
    "                                      ymd_hms(\"2025-09-27 11:48:08\")),\n",
    "                         oper_type = sample(0:1, size=6, replace = T), # 1 for debet, 0 for credet\n",
    "                         amount = round(sample(1:1000, size = 6) + runif(6),2))   \n",
    "\n",
    "transactions$amount <- ifelse(transactions$oper_type == 1, (-1)*transactions$amount, transactions$amount) \n",
    "transactions"
   ]
  },
  {
   "cell_type": "code",
   "execution_count": 99,
   "id": "f56c39f4",
   "metadata": {},
   "outputs": [
    {
     "data": {
      "text/plain": [
       "[[1]]\n",
       "[1] \"John Doe\"\n",
       "\n",
       "[[2]]\n",
       "[1] TRUE\n",
       "\n",
       "[[3]]\n",
       "[1] \"credit\"     \"deposite\"   \"online-app\"\n",
       "\n",
       "[[4]]\n",
       "  contract_id            datetime oper_type  amount\n",
       "1       52249 2025-05-25 11:05:12         1 -407.72\n",
       "2       38528 2025-05-25 11:07:14         1 -571.34\n",
       "3       52249 2025-06-21 11:08:02         0  907.92\n",
       "4       38528 2025-08-25 11:12:45         0  159.78\n",
       "5       52249 2025-09-24 11:47:00         0  142.20\n",
       "6       38528 2025-09-27 11:48:08         0  549.86\n"
      ]
     },
     "execution_count": null,
     "metadata": {},
     "output_type": "execute_result"
    }
   ],
   "source": [
    "list_data <- list(client_name, is_active, services, transactions)\n",
    "list_data"
   ]
  },
  {
   "cell_type": "code",
   "execution_count": 100,
   "id": "e434380d",
   "metadata": {},
   "outputs": [
    {
     "data": {
      "text/plain": [
       "[[1]]\n",
       "[1] \"John Doe\"\n",
       "\n",
       "[[2]]\n",
       "[1] TRUE\n",
       "\n",
       "[[3]]\n",
       "[1] \"credit\"     \"deposite\"   \"online-app\"\n",
       "\n",
       "[[4]]\n",
       "  contract_id            datetime oper_type  amount\n",
       "1       52249 2025-05-25 11:05:12         1 -407.72\n",
       "2       38528 2025-05-25 11:07:14         1 -571.34\n",
       "3       52249 2025-06-21 11:08:02         0  907.92\n",
       "4       38528 2025-08-25 11:12:45         0  159.78\n",
       "5       52249 2025-09-24 11:47:00         0  142.20\n",
       "6       38528 2025-09-27 11:48:08         0  549.86\n",
       "\n",
       "$x\n",
       "[1] 4324234     435\n"
      ]
     },
     "execution_count": null,
     "metadata": {},
     "output_type": "execute_result"
    }
   ],
   "source": [
    "list_data$x <- c(4324234, 435)\n",
    "list_data"
   ]
  },
  {
   "cell_type": "code",
   "execution_count": 106,
   "id": "fbfbac32",
   "metadata": {},
   "outputs": [
    {
     "data": {
      "text/plain": [
       "[1] 435"
      ]
     },
     "execution_count": null,
     "metadata": {},
     "output_type": "execute_result"
    }
   ],
   "source": [
    "list_data$x[2]"
   ]
  },
  {
   "cell_type": "code",
   "execution_count": 105,
   "id": "446ceb62",
   "metadata": {},
   "outputs": [
    {
     "data": {
      "text/plain": [
       "[1] \"deposite\""
      ]
     },
     "execution_count": null,
     "metadata": {},
     "output_type": "execute_result"
    }
   ],
   "source": [
    "list_data[[3]][2]"
   ]
  }
 ],
 "metadata": {
  "language_info": {
   "name": "r"
  }
 },
 "nbformat": 4,
 "nbformat_minor": 5
}
