{
 "cells": [
  {
   "cell_type": "markdown",
   "id": "c891eeaa",
   "metadata": {},
   "source": [
    "# Data Manipulation"
   ]
  },
  {
   "cell_type": "markdown",
   "id": "3d3b525c",
   "metadata": {},
   "source": [
    "## `Dplyr`"
   ]
  },
  {
   "cell_type": "code",
   "execution_count": 4,
   "id": "0daf7222",
   "metadata": {},
   "outputs": [],
   "source": [
    "??dplyr"
   ]
  },
  {
   "cell_type": "code",
   "execution_count": 5,
   "id": "7a4c4676",
   "metadata": {},
   "outputs": [
    {
     "name": "stdout",
     "output_type": "stream",
     "text": [
      "also installing the dependencies ‘data.table’, ‘vroom’, ‘tzdb’, ‘progress’, ‘conflicted’, ‘dbplyr’, ‘dtplyr’, ‘forcats’, ‘haven’, ‘hms’, ‘ragg’, ‘readr’, ‘readxl’, ‘reprex’\n",
      "\n"
     ]
    },
    {
     "name": "stderr",
     "output_type": "stream",
     "text": [
      "trying URL 'https://cran.rstudio.com/bin/windows/contrib/4.5/data.table_1.17.8.zip'\n",
      "trying URL 'https://cran.rstudio.com/bin/windows/contrib/4.5/vroom_1.6.5.zip'\n",
      "trying URL 'https://cran.rstudio.com/bin/windows/contrib/4.5/tzdb_0.5.0.zip'\n",
      "trying URL 'https://cran.rstudio.com/bin/windows/contrib/4.5/progress_1.2.3.zip'\n",
      "trying URL 'https://cran.rstudio.com/bin/windows/contrib/4.5/conflicted_1.2.0.zip'\n",
      "trying URL 'https://cran.rstudio.com/bin/windows/contrib/4.5/dbplyr_2.5.1.zip'\n",
      "trying URL 'https://cran.rstudio.com/bin/windows/contrib/4.5/dtplyr_1.3.2.zip'\n",
      "trying URL 'https://cran.rstudio.com/bin/windows/contrib/4.5/forcats_1.0.0.zip'\n",
      "trying URL 'https://cran.rstudio.com/bin/windows/contrib/4.5/haven_2.5.5.zip'\n",
      "trying URL 'https://cran.rstudio.com/bin/windows/contrib/4.5/hms_1.1.3.zip'\n",
      "trying URL 'https://cran.rstudio.com/bin/windows/contrib/4.5/ragg_1.5.0.zip'\n",
      "trying URL 'https://cran.rstudio.com/bin/windows/contrib/4.5/readr_2.1.5.zip'\n",
      "trying URL 'https://cran.rstudio.com/bin/windows/contrib/4.5/readxl_1.4.5.zip'\n",
      "trying URL 'https://cran.rstudio.com/bin/windows/contrib/4.5/reprex_2.1.1.zip'\n",
      "trying URL 'https://cran.rstudio.com/bin/windows/contrib/4.5/tidyverse_2.0.0.zip'\n"
     ]
    },
    {
     "name": "stdout",
     "output_type": "stream",
     "text": [
      "package ‘data.table’ successfully unpacked and MD5 sums checked\n",
      "package ‘vroom’ successfully unpacked and MD5 sums checked\n",
      "package ‘tzdb’ successfully unpacked and MD5 sums checked\n",
      "package ‘progress’ successfully unpacked and MD5 sums checked\n",
      "package ‘conflicted’ successfully unpacked and MD5 sums checked\n",
      "package ‘dbplyr’ successfully unpacked and MD5 sums checked\n",
      "package ‘dtplyr’ successfully unpacked and MD5 sums checked\n",
      "package ‘forcats’ successfully unpacked and MD5 sums checked\n",
      "package ‘haven’ successfully unpacked and MD5 sums checked\n",
      "package ‘hms’ successfully unpacked and MD5 sums checked\n",
      "package ‘ragg’ successfully unpacked and MD5 sums checked\n",
      "package ‘readr’ successfully unpacked and MD5 sums checked\n",
      "package ‘readxl’ successfully unpacked and MD5 sums checked\n",
      "package ‘reprex’ successfully unpacked and MD5 sums checked\n",
      "package ‘tidyverse’ successfully unpacked and MD5 sums checked\n",
      "\n",
      "The downloaded binary packages are in\n",
      "\tC:\\Users\\Yura\\AppData\\Local\\Temp\\RtmpMjek9z\\downloaded_packages\n"
     ]
    }
   ],
   "source": [
    "install.packages(\"tidyverse\")"
   ]
  },
  {
   "cell_type": "code",
   "execution_count": 6,
   "id": "a33ea16f",
   "metadata": {},
   "outputs": [
    {
     "name": "stdout",
     "output_type": "stream",
     "text": [
      "── \u001b[1mAttaching core tidyverse packages\u001b[22m ───────────────────────── tidyverse 2.0.0 ──\n",
      "\u001b[32m✔\u001b[39m \u001b[34mdplyr    \u001b[39m 1.1.4     \u001b[32m✔\u001b[39m \u001b[34mreadr    \u001b[39m 2.1.5\n",
      "\u001b[32m✔\u001b[39m \u001b[34mforcats  \u001b[39m 1.0.0     \u001b[32m✔\u001b[39m \u001b[34mstringr  \u001b[39m 1.5.2\n",
      "\u001b[32m✔\u001b[39m \u001b[34mggplot2  \u001b[39m 3.5.2     \u001b[32m✔\u001b[39m \u001b[34mtibble   \u001b[39m 3.3.0\n",
      "\u001b[32m✔\u001b[39m \u001b[34mlubridate\u001b[39m 1.9.4     \u001b[32m✔\u001b[39m \u001b[34mtidyr    \u001b[39m 1.3.1\n",
      "\u001b[32m✔\u001b[39m \u001b[34mpurrr    \u001b[39m 1.1.0     \n",
      "── \u001b[1mConflicts\u001b[22m ─────────────────────────────────────────── tidyverse_conflicts() ──\n",
      "\u001b[31m✖\u001b[39m \u001b[34mdplyr\u001b[39m::\u001b[32mfilter()\u001b[39m masks \u001b[34mstats\u001b[39m::filter()\n",
      "\u001b[31m✖\u001b[39m \u001b[34mdplyr\u001b[39m::\u001b[32mlag()\u001b[39m    masks \u001b[34mstats\u001b[39m::lag()\n",
      "\u001b[36mℹ\u001b[39m Use the \u001b]8;;http://conflicted.r-lib.org/\u0007conflicted package\u001b]8;;\u0007 to force all conflicts to become errors\n"
     ]
    }
   ],
   "source": [
    "library(tidyverse)"
   ]
  },
  {
   "cell_type": "markdown",
   "id": "17127738",
   "metadata": {},
   "source": [
    "## Gapminder"
   ]
  },
  {
   "cell_type": "code",
   "execution_count": 14,
   "id": "d7e6d8c8",
   "metadata": {},
   "outputs": [
    {
     "name": "stderr",
     "output_type": "stream",
     "text": [
      "trying URL 'https://cran.rstudio.com/bin/windows/contrib/4.5/gapminder_1.0.1.zip'\n",
      "Content type 'application/zip' length 2115437 bytes (2.0 MB)\n",
      "downloaded 2.0 MB\n",
      "\n"
     ]
    },
    {
     "name": "stdout",
     "output_type": "stream",
     "text": [
      "package ‘gapminder’ successfully unpacked and MD5 sums checked\n",
      "\n",
      "The downloaded binary packages are in\n",
      "\tC:\\Users\\Yura\\AppData\\Local\\Temp\\RtmpMjek9z\\downloaded_packages\n"
     ]
    }
   ],
   "source": [
    "install.packages(\"gapminder\")"
   ]
  },
  {
   "cell_type": "code",
   "execution_count": 15,
   "id": "c9e68e0a",
   "metadata": {},
   "outputs": [],
   "source": [
    "library(gapminder)\n",
    "data(gapminder)"
   ]
  },
  {
   "cell_type": "code",
   "execution_count": 17,
   "id": "d4f6021e",
   "metadata": {},
   "outputs": [],
   "source": [
    "?gapminder"
   ]
  },
  {
   "cell_type": "code",
   "execution_count": 18,
   "id": "3bffdb08",
   "metadata": {},
   "outputs": [
    {
     "name": "stdout",
     "output_type": "stream",
     "text": [
      "tibble [1,704 × 6] (S3: tbl_df/tbl/data.frame)\n",
      " $ country  : Factor w/ 142 levels \"Afghanistan\",..: 1 1 1 1 1 1 1 1 1 1 ...\n",
      " $ continent: Factor w/ 5 levels \"Africa\",\"Americas\",..: 3 3 3 3 3 3 3 3 3 3 ...\n",
      " $ year     : int [1:1704] 1952 1957 1962 1967 1972 1977 1982 1987 1992 1997 ...\n",
      " $ lifeExp  : num [1:1704] 28.8 30.3 32 34 36.1 ...\n",
      " $ pop      : int [1:1704] 8425333 9240934 10267083 11537966 13079460 14880372 12881816 13867957 16317921 22227415 ...\n",
      " $ gdpPercap: num [1:1704] 779 821 853 836 740 ...\n"
     ]
    }
   ],
   "source": [
    "str(gapminder)"
   ]
  },
  {
   "cell_type": "code",
   "execution_count": 19,
   "id": "20b25b43",
   "metadata": {},
   "outputs": [
    {
     "data": {
      "text/plain": [
       "\u001b[38;5;246m# A tibble: 6 × 6\u001b[39m\n",
       "  country     continent  year lifeExp      pop gdpPercap\n",
       "  \u001b[3m\u001b[38;5;246m<fct>\u001b[39m\u001b[23m       \u001b[3m\u001b[38;5;246m<fct>\u001b[39m\u001b[23m     \u001b[3m\u001b[38;5;246m<int>\u001b[39m\u001b[23m   \u001b[3m\u001b[38;5;246m<dbl>\u001b[39m\u001b[23m    \u001b[3m\u001b[38;5;246m<int>\u001b[39m\u001b[23m     \u001b[3m\u001b[38;5;246m<dbl>\u001b[39m\u001b[23m\n",
       "\u001b[38;5;250m1\u001b[39m Afghanistan Asia       \u001b[4m1\u001b[24m952    28.8  8\u001b[4m4\u001b[24m\u001b[4m2\u001b[24m\u001b[4m5\u001b[24m333      779.\n",
       "\u001b[38;5;250m2\u001b[39m Afghanistan Asia       \u001b[4m1\u001b[24m957    30.3  9\u001b[4m2\u001b[24m\u001b[4m4\u001b[24m\u001b[4m0\u001b[24m934      821.\n",
       "\u001b[38;5;250m3\u001b[39m Afghanistan Asia       \u001b[4m1\u001b[24m962    32.0 10\u001b[4m2\u001b[24m\u001b[4m6\u001b[24m\u001b[4m7\u001b[24m083      853.\n",
       "\u001b[38;5;250m4\u001b[39m Afghanistan Asia       \u001b[4m1\u001b[24m967    34.0 11\u001b[4m5\u001b[24m\u001b[4m3\u001b[24m\u001b[4m7\u001b[24m966      836.\n",
       "\u001b[38;5;250m5\u001b[39m Afghanistan Asia       \u001b[4m1\u001b[24m972    36.1 13\u001b[4m0\u001b[24m\u001b[4m7\u001b[24m\u001b[4m9\u001b[24m460      740.\n",
       "\u001b[38;5;250m6\u001b[39m Afghanistan Asia       \u001b[4m1\u001b[24m977    38.4 14\u001b[4m8\u001b[24m\u001b[4m8\u001b[24m\u001b[4m0\u001b[24m372      786."
      ]
     },
     "execution_count": null,
     "metadata": {},
     "output_type": "execute_result"
    }
   ],
   "source": [
    "head(gapminder)"
   ]
  },
  {
   "cell_type": "code",
   "execution_count": 20,
   "id": "2727024b",
   "metadata": {},
   "outputs": [
    {
     "data": {
      "text/plain": [
       "\u001b[38;5;246m# A tibble: 6 × 6\u001b[39m\n",
       "  country  continent  year lifeExp      pop gdpPercap\n",
       "  \u001b[3m\u001b[38;5;246m<fct>\u001b[39m\u001b[23m    \u001b[3m\u001b[38;5;246m<fct>\u001b[39m\u001b[23m     \u001b[3m\u001b[38;5;246m<int>\u001b[39m\u001b[23m   \u001b[3m\u001b[38;5;246m<dbl>\u001b[39m\u001b[23m    \u001b[3m\u001b[38;5;246m<int>\u001b[39m\u001b[23m     \u001b[3m\u001b[38;5;246m<dbl>\u001b[39m\u001b[23m\n",
       "\u001b[38;5;250m1\u001b[39m Zimbabwe Africa     \u001b[4m1\u001b[24m982    60.4  7\u001b[4m6\u001b[24m\u001b[4m3\u001b[24m\u001b[4m6\u001b[24m524      789.\n",
       "\u001b[38;5;250m2\u001b[39m Zimbabwe Africa     \u001b[4m1\u001b[24m987    62.4  9\u001b[4m2\u001b[24m\u001b[4m1\u001b[24m\u001b[4m6\u001b[24m418      706.\n",
       "\u001b[38;5;250m3\u001b[39m Zimbabwe Africa     \u001b[4m1\u001b[24m992    60.4 10\u001b[4m7\u001b[24m\u001b[4m0\u001b[24m\u001b[4m4\u001b[24m340      693.\n",
       "\u001b[38;5;250m4\u001b[39m Zimbabwe Africa     \u001b[4m1\u001b[24m997    46.8 11\u001b[4m4\u001b[24m\u001b[4m0\u001b[24m\u001b[4m4\u001b[24m948      792.\n",
       "\u001b[38;5;250m5\u001b[39m Zimbabwe Africa     \u001b[4m2\u001b[24m002    40.0 11\u001b[4m9\u001b[24m\u001b[4m2\u001b[24m\u001b[4m6\u001b[24m563      672.\n",
       "\u001b[38;5;250m6\u001b[39m Zimbabwe Africa     \u001b[4m2\u001b[24m007    43.5 12\u001b[4m3\u001b[24m\u001b[4m1\u001b[24m\u001b[4m1\u001b[24m143      470."
      ]
     },
     "execution_count": null,
     "metadata": {},
     "output_type": "execute_result"
    }
   ],
   "source": [
    "tail(gapminder)"
   ]
  },
  {
   "cell_type": "code",
   "execution_count": 21,
   "id": "df35814f",
   "metadata": {},
   "outputs": [
    {
     "data": {
      "text/plain": [
       "\u001b[38;5;246m# A tibble: 12 × 6\u001b[39m\n",
       "   country continent  year lifeExp     pop gdpPercap\n",
       "   \u001b[3m\u001b[38;5;246m<fct>\u001b[39m\u001b[23m   \u001b[3m\u001b[38;5;246m<fct>\u001b[39m\u001b[23m     \u001b[3m\u001b[38;5;246m<int>\u001b[39m\u001b[23m   \u001b[3m\u001b[38;5;246m<dbl>\u001b[39m\u001b[23m   \u001b[3m\u001b[38;5;246m<int>\u001b[39m\u001b[23m     \u001b[3m\u001b[38;5;246m<dbl>\u001b[39m\u001b[23m\n",
       "\u001b[38;5;250m 1\u001b[39m Austria Europe     \u001b[4m1\u001b[24m952    66.8 6\u001b[4m9\u001b[24m\u001b[4m2\u001b[24m\u001b[4m7\u001b[24m772     \u001b[4m6\u001b[24m137.\n",
       "\u001b[38;5;250m 2\u001b[39m Austria Europe     \u001b[4m1\u001b[24m957    67.5 6\u001b[4m9\u001b[24m\u001b[4m6\u001b[24m\u001b[4m5\u001b[24m860     \u001b[4m8\u001b[24m843.\n",
       "\u001b[38;5;250m 3\u001b[39m Austria Europe     \u001b[4m1\u001b[24m962    69.5 7\u001b[4m1\u001b[24m\u001b[4m2\u001b[24m\u001b[4m9\u001b[24m864    \u001b[4m1\u001b[24m\u001b[4m0\u001b[24m751.\n",
       "\u001b[38;5;250m 4\u001b[39m Austria Europe     \u001b[4m1\u001b[24m967    70.1 7\u001b[4m3\u001b[24m\u001b[4m7\u001b[24m\u001b[4m6\u001b[24m998    \u001b[4m1\u001b[24m\u001b[4m2\u001b[24m835.\n",
       "\u001b[38;5;250m 5\u001b[39m Austria Europe     \u001b[4m1\u001b[24m972    70.6 7\u001b[4m5\u001b[24m\u001b[4m4\u001b[24m\u001b[4m4\u001b[24m201    \u001b[4m1\u001b[24m\u001b[4m6\u001b[24m662.\n",
       "\u001b[38;5;250m 6\u001b[39m Austria Europe     \u001b[4m1\u001b[24m977    72.2 7\u001b[4m5\u001b[24m\u001b[4m6\u001b[24m\u001b[4m8\u001b[24m430    \u001b[4m1\u001b[24m\u001b[4m9\u001b[24m749.\n",
       "\u001b[38;5;250m 7\u001b[39m Austria Europe     \u001b[4m1\u001b[24m982    73.2 7\u001b[4m5\u001b[24m\u001b[4m7\u001b[24m\u001b[4m4\u001b[24m613    \u001b[4m2\u001b[24m\u001b[4m1\u001b[24m597.\n",
       "\u001b[38;5;250m 8\u001b[39m Austria Europe     \u001b[4m1\u001b[24m987    74.9 7\u001b[4m5\u001b[24m\u001b[4m7\u001b[24m\u001b[4m8\u001b[24m903    \u001b[4m2\u001b[24m\u001b[4m3\u001b[24m688.\n",
       "\u001b[38;5;250m 9\u001b[39m Austria Europe     \u001b[4m1\u001b[24m992    76.0 7\u001b[4m9\u001b[24m\u001b[4m1\u001b[24m\u001b[4m4\u001b[24m969    \u001b[4m2\u001b[24m\u001b[4m7\u001b[24m042.\n",
       "\u001b[38;5;250m10\u001b[39m Austria Europe     \u001b[4m1\u001b[24m997    77.5 8\u001b[4m0\u001b[24m\u001b[4m6\u001b[24m\u001b[4m9\u001b[24m876    \u001b[4m2\u001b[24m\u001b[4m9\u001b[24m096.\n",
       "\u001b[38;5;250m11\u001b[39m Austria Europe     \u001b[4m2\u001b[24m002    79.0 8\u001b[4m1\u001b[24m\u001b[4m4\u001b[24m\u001b[4m8\u001b[24m312    \u001b[4m3\u001b[24m\u001b[4m2\u001b[24m418.\n",
       "\u001b[38;5;250m12\u001b[39m Austria Europe     \u001b[4m2\u001b[24m007    79.8 8\u001b[4m1\u001b[24m\u001b[4m9\u001b[24m\u001b[4m9\u001b[24m783    \u001b[4m3\u001b[24m\u001b[4m6\u001b[24m126."
      ]
     },
     "execution_count": null,
     "metadata": {},
     "output_type": "execute_result"
    }
   ],
   "source": [
    "austria <- filter(gapminder, country == \"Austria\")\n",
    "austria"
   ]
  },
  {
   "cell_type": "code",
   "execution_count": 22,
   "id": "a617155e",
   "metadata": {},
   "outputs": [
    {
     "data": {
      "text/plain": [
       "\u001b[38;5;246m# A tibble: 17 × 6\u001b[39m\n",
       "   country       continent  year lifeExp      pop gdpPercap\n",
       "   \u001b[3m\u001b[38;5;246m<fct>\u001b[39m\u001b[23m         \u001b[3m\u001b[38;5;246m<fct>\u001b[39m\u001b[23m     \u001b[3m\u001b[38;5;246m<int>\u001b[39m\u001b[23m   \u001b[3m\u001b[38;5;246m<dbl>\u001b[39m\u001b[23m    \u001b[3m\u001b[38;5;246m<int>\u001b[39m\u001b[23m     \u001b[3m\u001b[38;5;246m<dbl>\u001b[39m\u001b[23m\n",
       "\u001b[38;5;250m 1\u001b[39m Afghanistan   Asia       \u001b[4m1\u001b[24m952    28.8  8\u001b[4m4\u001b[24m\u001b[4m2\u001b[24m\u001b[4m5\u001b[24m333      779.\n",
       "\u001b[38;5;250m 2\u001b[39m Afghanistan   Asia       \u001b[4m1\u001b[24m957    30.3  9\u001b[4m2\u001b[24m\u001b[4m4\u001b[24m\u001b[4m0\u001b[24m934      821.\n",
       "\u001b[38;5;250m 3\u001b[39m Afghanistan   Asia       \u001b[4m1\u001b[24m962    32.0 10\u001b[4m2\u001b[24m\u001b[4m6\u001b[24m\u001b[4m7\u001b[24m083      853.\n",
       "\u001b[38;5;250m 4\u001b[39m Angola        Africa     \u001b[4m1\u001b[24m952    30.0  4\u001b[4m2\u001b[24m\u001b[4m3\u001b[24m\u001b[4m2\u001b[24m095     \u001b[4m3\u001b[24m521.\n",
       "\u001b[38;5;250m 5\u001b[39m Angola        Africa     \u001b[4m1\u001b[24m957    32.0  4\u001b[4m5\u001b[24m\u001b[4m6\u001b[24m\u001b[4m1\u001b[24m361     \u001b[4m3\u001b[24m828.\n",
       "\u001b[38;5;250m 6\u001b[39m Burkina Faso  Africa     \u001b[4m1\u001b[24m952    32.0  4\u001b[4m4\u001b[24m\u001b[4m6\u001b[24m\u001b[4m9\u001b[24m979      543.\n",
       "\u001b[38;5;250m 7\u001b[39m Cambodia      Asia       \u001b[4m1\u001b[24m977    31.2  6\u001b[4m9\u001b[24m\u001b[4m7\u001b[24m\u001b[4m8\u001b[24m607      525.\n",
       "\u001b[38;5;250m 8\u001b[39m Gambia        Africa     \u001b[4m1\u001b[24m952    30     \u001b[4m2\u001b[24m\u001b[4m8\u001b[24m\u001b[4m4\u001b[24m320      485.\n",
       "\u001b[38;5;250m 9\u001b[39m Gambia        Africa     \u001b[4m1\u001b[24m957    32.1   \u001b[4m3\u001b[24m\u001b[4m2\u001b[24m\u001b[4m3\u001b[24m150      521.\n",
       "\u001b[38;5;250m10\u001b[39m Guinea-Bissau Africa     \u001b[4m1\u001b[24m952    32.5   \u001b[4m5\u001b[24m\u001b[4m8\u001b[24m\u001b[4m0\u001b[24m653      300.\n",
       "\u001b[38;5;250m11\u001b[39m Mozambique    Africa     \u001b[4m1\u001b[24m952    31.3  6\u001b[4m4\u001b[24m\u001b[4m4\u001b[24m\u001b[4m6\u001b[24m316      469.\n",
       "\u001b[38;5;250m12\u001b[39m Rwanda        Africa     \u001b[4m1\u001b[24m992    23.6  7\u001b[4m2\u001b[24m\u001b[4m9\u001b[24m\u001b[4m0\u001b[24m203      737.\n",
       "\u001b[38;5;250m13\u001b[39m Sierra Leone  Africa     \u001b[4m1\u001b[24m952    30.3  2\u001b[4m1\u001b[24m\u001b[4m4\u001b[24m\u001b[4m3\u001b[24m249      880.\n",
       "\u001b[38;5;250m14\u001b[39m Sierra Leone  Africa     \u001b[4m1\u001b[24m957    31.6  2\u001b[4m2\u001b[24m\u001b[4m9\u001b[24m\u001b[4m5\u001b[24m678     \u001b[4m1\u001b[24m004.\n",
       "\u001b[38;5;250m15\u001b[39m Sierra Leone  Africa     \u001b[4m1\u001b[24m962    32.8  2\u001b[4m4\u001b[24m\u001b[4m6\u001b[24m\u001b[4m7\u001b[24m895     \u001b[4m1\u001b[24m117.\n",
       "\u001b[38;5;250m16\u001b[39m Somalia       Africa     \u001b[4m1\u001b[24m952    33.0  2\u001b[4m5\u001b[24m\u001b[4m2\u001b[24m\u001b[4m6\u001b[24m994     \u001b[4m1\u001b[24m136.\n",
       "\u001b[38;5;250m17\u001b[39m Yemen, Rep.   Asia       \u001b[4m1\u001b[24m952    32.5  4\u001b[4m9\u001b[24m\u001b[4m6\u001b[24m\u001b[4m3\u001b[24m829      782."
      ]
     },
     "execution_count": null,
     "metadata": {},
     "output_type": "execute_result"
    }
   ],
   "source": [
    "filter(gapminder, lifeExp < 33)"
   ]
  },
  {
   "cell_type": "code",
   "execution_count": 23,
   "id": "512f672b",
   "metadata": {},
   "outputs": [
    {
     "data": {
      "text/plain": [
       "\u001b[38;5;246m# A tibble: 6 × 6\u001b[39m\n",
       "  country continent  year lifeExp     pop gdpPercap\n",
       "  \u001b[3m\u001b[38;5;246m<fct>\u001b[39m\u001b[23m   \u001b[3m\u001b[38;5;246m<fct>\u001b[39m\u001b[23m     \u001b[3m\u001b[38;5;246m<int>\u001b[39m\u001b[23m   \u001b[3m\u001b[38;5;246m<dbl>\u001b[39m\u001b[23m   \u001b[3m\u001b[38;5;246m<int>\u001b[39m\u001b[23m     \u001b[3m\u001b[38;5;246m<dbl>\u001b[39m\u001b[23m\n",
       "\u001b[38;5;250m1\u001b[39m Austria Europe     \u001b[4m1\u001b[24m982    73.2 7\u001b[4m5\u001b[24m\u001b[4m7\u001b[24m\u001b[4m4\u001b[24m613    \u001b[4m2\u001b[24m\u001b[4m1\u001b[24m597.\n",
       "\u001b[38;5;250m2\u001b[39m Austria Europe     \u001b[4m1\u001b[24m987    74.9 7\u001b[4m5\u001b[24m\u001b[4m7\u001b[24m\u001b[4m8\u001b[24m903    \u001b[4m2\u001b[24m\u001b[4m3\u001b[24m688.\n",
       "\u001b[38;5;250m3\u001b[39m Austria Europe     \u001b[4m1\u001b[24m992    76.0 7\u001b[4m9\u001b[24m\u001b[4m1\u001b[24m\u001b[4m4\u001b[24m969    \u001b[4m2\u001b[24m\u001b[4m7\u001b[24m042.\n",
       "\u001b[38;5;250m4\u001b[39m Austria Europe     \u001b[4m1\u001b[24m997    77.5 8\u001b[4m0\u001b[24m\u001b[4m6\u001b[24m\u001b[4m9\u001b[24m876    \u001b[4m2\u001b[24m\u001b[4m9\u001b[24m096.\n",
       "\u001b[38;5;250m5\u001b[39m Austria Europe     \u001b[4m2\u001b[24m002    79.0 8\u001b[4m1\u001b[24m\u001b[4m4\u001b[24m\u001b[4m8\u001b[24m312    \u001b[4m3\u001b[24m\u001b[4m2\u001b[24m418.\n",
       "\u001b[38;5;250m6\u001b[39m Austria Europe     \u001b[4m2\u001b[24m007    79.8 8\u001b[4m1\u001b[24m\u001b[4m9\u001b[24m\u001b[4m9\u001b[24m783    \u001b[4m3\u001b[24m\u001b[4m6\u001b[24m126."
      ]
     },
     "execution_count": null,
     "metadata": {},
     "output_type": "execute_result"
    }
   ],
   "source": [
    "filter(gapminder, country == \"Austria\", year > 1980 )"
   ]
  },
  {
   "cell_type": "code",
   "execution_count": 27,
   "id": "6490cc4d",
   "metadata": {},
   "outputs": [
    {
     "data": {
      "text/plain": [
       "\u001b[38;5;246m# A tibble: 4 × 6\u001b[39m\n",
       "  country continent  year lifeExp      pop gdpPercap\n",
       "  \u001b[3m\u001b[38;5;246m<fct>\u001b[39m\u001b[23m   \u001b[3m\u001b[38;5;246m<fct>\u001b[39m\u001b[23m     \u001b[3m\u001b[38;5;246m<int>\u001b[39m\u001b[23m   \u001b[3m\u001b[38;5;246m<dbl>\u001b[39m\u001b[23m    \u001b[3m\u001b[38;5;246m<int>\u001b[39m\u001b[23m     \u001b[3m\u001b[38;5;246m<dbl>\u001b[39m\u001b[23m\n",
       "\u001b[38;5;250m1\u001b[39m Austria Europe     \u001b[4m2\u001b[24m002    79.0  8\u001b[4m1\u001b[24m\u001b[4m4\u001b[24m\u001b[4m8\u001b[24m312    \u001b[4m3\u001b[24m\u001b[4m2\u001b[24m418.\n",
       "\u001b[38;5;250m2\u001b[39m Austria Europe     \u001b[4m2\u001b[24m007    79.8  8\u001b[4m1\u001b[24m\u001b[4m9\u001b[24m\u001b[4m9\u001b[24m783    \u001b[4m3\u001b[24m\u001b[4m6\u001b[24m126.\n",
       "\u001b[38;5;250m3\u001b[39m Belgium Europe     \u001b[4m2\u001b[24m002    78.3 10\u001b[4m3\u001b[24m\u001b[4m1\u001b[24m\u001b[4m1\u001b[24m970    \u001b[4m3\u001b[24m\u001b[4m0\u001b[24m486.\n",
       "\u001b[38;5;250m4\u001b[39m Belgium Europe     \u001b[4m2\u001b[24m007    79.4 10\u001b[4m3\u001b[24m\u001b[4m9\u001b[24m\u001b[4m2\u001b[24m226    \u001b[4m3\u001b[24m\u001b[4m3\u001b[24m693."
      ]
     },
     "execution_count": null,
     "metadata": {},
     "output_type": "execute_result"
    }
   ],
   "source": [
    "filter(gapminder, year > 2000, country %in% c(\"Austria\", \"Belgium\"))"
   ]
  },
  {
   "cell_type": "markdown",
   "id": "ceab22ba",
   "metadata": {},
   "source": [
    "## Pipe"
   ]
  },
  {
   "cell_type": "code",
   "execution_count": null,
   "id": "491a46dc",
   "metadata": {},
   "outputs": [
    {
     "ename": "",
     "evalue": "\u001b[1m\u001b[33mError\u001b[39m:\u001b[22m\n\u001b[33m!\u001b[39m unexpected SPECIAL in \"%>%\"",
     "output_type": "error",
     "traceback": [
      "\u001b[1m\u001b[33mError\u001b[39m:\u001b[22m\n",
      "\u001b[33m!\u001b[39m unexpected SPECIAL in \"%>%\""
     ]
    }
   ],
   "source": [
    "%>% -> library(magritr)"
   ]
  },
  {
   "cell_type": "code",
   "execution_count": null,
   "id": "810b1f70",
   "metadata": {},
   "outputs": [],
   "source": [
    "|> "
   ]
  },
  {
   "cell_type": "code",
   "execution_count": 29,
   "id": "dc9e8b55",
   "metadata": {},
   "outputs": [
    {
     "data": {
      "text/plain": [
       "\u001b[38;5;246m# A tibble: 6 × 6\u001b[39m\n",
       "  country     continent  year lifeExp      pop gdpPercap\n",
       "  \u001b[3m\u001b[38;5;246m<fct>\u001b[39m\u001b[23m       \u001b[3m\u001b[38;5;246m<fct>\u001b[39m\u001b[23m     \u001b[3m\u001b[38;5;246m<int>\u001b[39m\u001b[23m   \u001b[3m\u001b[38;5;246m<dbl>\u001b[39m\u001b[23m    \u001b[3m\u001b[38;5;246m<int>\u001b[39m\u001b[23m     \u001b[3m\u001b[38;5;246m<dbl>\u001b[39m\u001b[23m\n",
       "\u001b[38;5;250m1\u001b[39m Afghanistan Asia       \u001b[4m1\u001b[24m952    28.8  8\u001b[4m4\u001b[24m\u001b[4m2\u001b[24m\u001b[4m5\u001b[24m333      779.\n",
       "\u001b[38;5;250m2\u001b[39m Afghanistan Asia       \u001b[4m1\u001b[24m957    30.3  9\u001b[4m2\u001b[24m\u001b[4m4\u001b[24m\u001b[4m0\u001b[24m934      821.\n",
       "\u001b[38;5;250m3\u001b[39m Afghanistan Asia       \u001b[4m1\u001b[24m962    32.0 10\u001b[4m2\u001b[24m\u001b[4m6\u001b[24m\u001b[4m7\u001b[24m083      853.\n",
       "\u001b[38;5;250m4\u001b[39m Afghanistan Asia       \u001b[4m1\u001b[24m967    34.0 11\u001b[4m5\u001b[24m\u001b[4m3\u001b[24m\u001b[4m7\u001b[24m966      836.\n",
       "\u001b[38;5;250m5\u001b[39m Afghanistan Asia       \u001b[4m1\u001b[24m972    36.1 13\u001b[4m0\u001b[24m\u001b[4m7\u001b[24m\u001b[4m9\u001b[24m460      740.\n",
       "\u001b[38;5;250m6\u001b[39m Afghanistan Asia       \u001b[4m1\u001b[24m977    38.4 14\u001b[4m8\u001b[24m\u001b[4m8\u001b[24m\u001b[4m0\u001b[24m372      786."
      ]
     },
     "execution_count": null,
     "metadata": {},
     "output_type": "execute_result"
    }
   ],
   "source": [
    "head(gapminder)"
   ]
  },
  {
   "cell_type": "code",
   "execution_count": 30,
   "id": "daaa2e90",
   "metadata": {},
   "outputs": [
    {
     "data": {
      "text/plain": [
       "\u001b[38;5;246m# A tibble: 6 × 6\u001b[39m\n",
       "  country     continent  year lifeExp      pop gdpPercap\n",
       "  \u001b[3m\u001b[38;5;246m<fct>\u001b[39m\u001b[23m       \u001b[3m\u001b[38;5;246m<fct>\u001b[39m\u001b[23m     \u001b[3m\u001b[38;5;246m<int>\u001b[39m\u001b[23m   \u001b[3m\u001b[38;5;246m<dbl>\u001b[39m\u001b[23m    \u001b[3m\u001b[38;5;246m<int>\u001b[39m\u001b[23m     \u001b[3m\u001b[38;5;246m<dbl>\u001b[39m\u001b[23m\n",
       "\u001b[38;5;250m1\u001b[39m Afghanistan Asia       \u001b[4m1\u001b[24m952    28.8  8\u001b[4m4\u001b[24m\u001b[4m2\u001b[24m\u001b[4m5\u001b[24m333      779.\n",
       "\u001b[38;5;250m2\u001b[39m Afghanistan Asia       \u001b[4m1\u001b[24m957    30.3  9\u001b[4m2\u001b[24m\u001b[4m4\u001b[24m\u001b[4m0\u001b[24m934      821.\n",
       "\u001b[38;5;250m3\u001b[39m Afghanistan Asia       \u001b[4m1\u001b[24m962    32.0 10\u001b[4m2\u001b[24m\u001b[4m6\u001b[24m\u001b[4m7\u001b[24m083      853.\n",
       "\u001b[38;5;250m4\u001b[39m Afghanistan Asia       \u001b[4m1\u001b[24m967    34.0 11\u001b[4m5\u001b[24m\u001b[4m3\u001b[24m\u001b[4m7\u001b[24m966      836.\n",
       "\u001b[38;5;250m5\u001b[39m Afghanistan Asia       \u001b[4m1\u001b[24m972    36.1 13\u001b[4m0\u001b[24m\u001b[4m7\u001b[24m\u001b[4m9\u001b[24m460      740.\n",
       "\u001b[38;5;250m6\u001b[39m Afghanistan Asia       \u001b[4m1\u001b[24m977    38.4 14\u001b[4m8\u001b[24m\u001b[4m8\u001b[24m\u001b[4m0\u001b[24m372      786."
      ]
     },
     "execution_count": null,
     "metadata": {},
     "output_type": "execute_result"
    }
   ],
   "source": [
    "gapminder |> head()"
   ]
  },
  {
   "cell_type": "code",
   "execution_count": 31,
   "id": "bbe13a7b",
   "metadata": {},
   "outputs": [
    {
     "data": {
      "text/plain": [
       "\u001b[38;5;246m# A tibble: 4 × 6\u001b[39m\n",
       "  country     continent  year lifeExp      pop gdpPercap\n",
       "  \u001b[3m\u001b[38;5;246m<fct>\u001b[39m\u001b[23m       \u001b[3m\u001b[38;5;246m<fct>\u001b[39m\u001b[23m     \u001b[3m\u001b[38;5;246m<int>\u001b[39m\u001b[23m   \u001b[3m\u001b[38;5;246m<dbl>\u001b[39m\u001b[23m    \u001b[3m\u001b[38;5;246m<int>\u001b[39m\u001b[23m     \u001b[3m\u001b[38;5;246m<dbl>\u001b[39m\u001b[23m\n",
       "\u001b[38;5;250m1\u001b[39m Afghanistan Asia       \u001b[4m1\u001b[24m952    28.8  8\u001b[4m4\u001b[24m\u001b[4m2\u001b[24m\u001b[4m5\u001b[24m333      779.\n",
       "\u001b[38;5;250m2\u001b[39m Afghanistan Asia       \u001b[4m1\u001b[24m957    30.3  9\u001b[4m2\u001b[24m\u001b[4m4\u001b[24m\u001b[4m0\u001b[24m934      821.\n",
       "\u001b[38;5;250m3\u001b[39m Afghanistan Asia       \u001b[4m1\u001b[24m962    32.0 10\u001b[4m2\u001b[24m\u001b[4m6\u001b[24m\u001b[4m7\u001b[24m083      853.\n",
       "\u001b[38;5;250m4\u001b[39m Afghanistan Asia       \u001b[4m1\u001b[24m967    34.0 11\u001b[4m5\u001b[24m\u001b[4m3\u001b[24m\u001b[4m7\u001b[24m966      836."
      ]
     },
     "execution_count": null,
     "metadata": {},
     "output_type": "execute_result"
    }
   ],
   "source": [
    "gapminder |> head(4)"
   ]
  },
  {
   "cell_type": "code",
   "execution_count": null,
   "id": "edbd312c",
   "metadata": {},
   "outputs": [
    {
     "data": {
      "text/plain": [
       "\u001b[38;5;246m# A tibble: 12 × 6\u001b[39m\n",
       "   country continent  year lifeExp     pop gdpPercap\n",
       "   \u001b[3m\u001b[38;5;246m<fct>\u001b[39m\u001b[23m   \u001b[3m\u001b[38;5;246m<fct>\u001b[39m\u001b[23m     \u001b[3m\u001b[38;5;246m<int>\u001b[39m\u001b[23m   \u001b[3m\u001b[38;5;246m<dbl>\u001b[39m\u001b[23m   \u001b[3m\u001b[38;5;246m<int>\u001b[39m\u001b[23m     \u001b[3m\u001b[38;5;246m<dbl>\u001b[39m\u001b[23m\n",
       "\u001b[38;5;250m 1\u001b[39m Austria Europe     \u001b[4m1\u001b[24m952    66.8 6\u001b[4m9\u001b[24m\u001b[4m2\u001b[24m\u001b[4m7\u001b[24m772     \u001b[4m6\u001b[24m137.\n",
       "\u001b[38;5;250m 2\u001b[39m Austria Europe     \u001b[4m1\u001b[24m957    67.5 6\u001b[4m9\u001b[24m\u001b[4m6\u001b[24m\u001b[4m5\u001b[24m860     \u001b[4m8\u001b[24m843.\n",
       "\u001b[38;5;250m 3\u001b[39m Austria Europe     \u001b[4m1\u001b[24m962    69.5 7\u001b[4m1\u001b[24m\u001b[4m2\u001b[24m\u001b[4m9\u001b[24m864    \u001b[4m1\u001b[24m\u001b[4m0\u001b[24m751.\n",
       "\u001b[38;5;250m 4\u001b[39m Austria Europe     \u001b[4m1\u001b[24m967    70.1 7\u001b[4m3\u001b[24m\u001b[4m7\u001b[24m\u001b[4m6\u001b[24m998    \u001b[4m1\u001b[24m\u001b[4m2\u001b[24m835.\n",
       "\u001b[38;5;250m 5\u001b[39m Austria Europe     \u001b[4m1\u001b[24m972    70.6 7\u001b[4m5\u001b[24m\u001b[4m4\u001b[24m\u001b[4m4\u001b[24m201    \u001b[4m1\u001b[24m\u001b[4m6\u001b[24m662.\n",
       "\u001b[38;5;250m 6\u001b[39m Austria Europe     \u001b[4m1\u001b[24m977    72.2 7\u001b[4m5\u001b[24m\u001b[4m6\u001b[24m\u001b[4m8\u001b[24m430    \u001b[4m1\u001b[24m\u001b[4m9\u001b[24m749.\n",
       "\u001b[38;5;250m 7\u001b[39m Austria Europe     \u001b[4m1\u001b[24m982    73.2 7\u001b[4m5\u001b[24m\u001b[4m7\u001b[24m\u001b[4m4\u001b[24m613    \u001b[4m2\u001b[24m\u001b[4m1\u001b[24m597.\n",
       "\u001b[38;5;250m 8\u001b[39m Austria Europe     \u001b[4m1\u001b[24m987    74.9 7\u001b[4m5\u001b[24m\u001b[4m7\u001b[24m\u001b[4m8\u001b[24m903    \u001b[4m2\u001b[24m\u001b[4m3\u001b[24m688.\n",
       "\u001b[38;5;250m 9\u001b[39m Austria Europe     \u001b[4m1\u001b[24m992    76.0 7\u001b[4m9\u001b[24m\u001b[4m1\u001b[24m\u001b[4m4\u001b[24m969    \u001b[4m2\u001b[24m\u001b[4m7\u001b[24m042.\n",
       "\u001b[38;5;250m10\u001b[39m Austria Europe     \u001b[4m1\u001b[24m997    77.5 8\u001b[4m0\u001b[24m\u001b[4m6\u001b[24m\u001b[4m9\u001b[24m876    \u001b[4m2\u001b[24m\u001b[4m9\u001b[24m096.\n",
       "\u001b[38;5;250m11\u001b[39m Austria Europe     \u001b[4m2\u001b[24m002    79.0 8\u001b[4m1\u001b[24m\u001b[4m4\u001b[24m\u001b[4m8\u001b[24m312    \u001b[4m3\u001b[24m\u001b[4m2\u001b[24m418.\n",
       "\u001b[38;5;250m12\u001b[39m Austria Europe     \u001b[4m2\u001b[24m007    79.8 8\u001b[4m1\u001b[24m\u001b[4m9\u001b[24m\u001b[4m9\u001b[24m783    \u001b[4m3\u001b[24m\u001b[4m6\u001b[24m126."
      ]
     },
     "execution_count": null,
     "metadata": {},
     "output_type": "execute_result"
    }
   ],
   "source": [
    "austria <- gapminder |> \n",
    "  filter(country == \"Austria\")\n",
    "austria"
   ]
  },
  {
   "cell_type": "markdown",
   "id": "b217cfc1",
   "metadata": {},
   "source": [
    "## `select()`"
   ]
  },
  {
   "cell_type": "code",
   "execution_count": 33,
   "id": "aa3bf1cb",
   "metadata": {},
   "outputs": [
    {
     "data": {
      "text/plain": [
       "\u001b[38;5;246m# A tibble: 1,704 × 3\u001b[39m\n",
       "    year country          pop\n",
       "   \u001b[3m\u001b[38;5;246m<int>\u001b[39m\u001b[23m \u001b[3m\u001b[38;5;246m<fct>\u001b[39m\u001b[23m          \u001b[3m\u001b[38;5;246m<int>\u001b[39m\u001b[23m\n",
       "\u001b[38;5;250m 1\u001b[39m  \u001b[4m1\u001b[24m952 Afghanistan  8\u001b[4m4\u001b[24m\u001b[4m2\u001b[24m\u001b[4m5\u001b[24m333\n",
       "\u001b[38;5;250m 2\u001b[39m  \u001b[4m1\u001b[24m957 Afghanistan  9\u001b[4m2\u001b[24m\u001b[4m4\u001b[24m\u001b[4m0\u001b[24m934\n",
       "\u001b[38;5;250m 3\u001b[39m  \u001b[4m1\u001b[24m962 Afghanistan 10\u001b[4m2\u001b[24m\u001b[4m6\u001b[24m\u001b[4m7\u001b[24m083\n",
       "\u001b[38;5;250m 4\u001b[39m  \u001b[4m1\u001b[24m967 Afghanistan 11\u001b[4m5\u001b[24m\u001b[4m3\u001b[24m\u001b[4m7\u001b[24m966\n",
       "\u001b[38;5;250m 5\u001b[39m  \u001b[4m1\u001b[24m972 Afghanistan 13\u001b[4m0\u001b[24m\u001b[4m7\u001b[24m\u001b[4m9\u001b[24m460\n",
       "\u001b[38;5;250m 6\u001b[39m  \u001b[4m1\u001b[24m977 Afghanistan 14\u001b[4m8\u001b[24m\u001b[4m8\u001b[24m\u001b[4m0\u001b[24m372\n",
       "\u001b[38;5;250m 7\u001b[39m  \u001b[4m1\u001b[24m982 Afghanistan 12\u001b[4m8\u001b[24m\u001b[4m8\u001b[24m\u001b[4m1\u001b[24m816\n",
       "\u001b[38;5;250m 8\u001b[39m  \u001b[4m1\u001b[24m987 Afghanistan 13\u001b[4m8\u001b[24m\u001b[4m6\u001b[24m\u001b[4m7\u001b[24m957\n",
       "\u001b[38;5;250m 9\u001b[39m  \u001b[4m1\u001b[24m992 Afghanistan 16\u001b[4m3\u001b[24m\u001b[4m1\u001b[24m\u001b[4m7\u001b[24m921\n",
       "\u001b[38;5;250m10\u001b[39m  \u001b[4m1\u001b[24m997 Afghanistan 22\u001b[4m2\u001b[24m\u001b[4m2\u001b[24m\u001b[4m7\u001b[24m415\n",
       "\u001b[38;5;246m# ℹ 1,694 more rows\u001b[39m\n",
       "\u001b[38;5;246m# ℹ Use `print(n = ...)` to see more rows\u001b[39m"
      ]
     },
     "execution_count": null,
     "metadata": {},
     "output_type": "execute_result"
    }
   ],
   "source": [
    "gapminder |>\n",
    "  select(year, country, pop)"
   ]
  },
  {
   "cell_type": "code",
   "execution_count": 35,
   "id": "f0c4a541",
   "metadata": {},
   "outputs": [
    {
     "data": {
      "text/plain": [
       "\u001b[38;5;246m# A tibble: 6 × 3\u001b[39m\n",
       "   year country     pop\n",
       "  \u001b[3m\u001b[38;5;246m<int>\u001b[39m\u001b[23m \u001b[3m\u001b[38;5;246m<fct>\u001b[39m\u001b[23m     \u001b[3m\u001b[38;5;246m<int>\u001b[39m\u001b[23m\n",
       "\u001b[38;5;250m1\u001b[39m  \u001b[4m1\u001b[24m982 Austria 7\u001b[4m5\u001b[24m\u001b[4m7\u001b[24m\u001b[4m4\u001b[24m613\n",
       "\u001b[38;5;250m2\u001b[39m  \u001b[4m1\u001b[24m987 Austria 7\u001b[4m5\u001b[24m\u001b[4m7\u001b[24m\u001b[4m8\u001b[24m903\n",
       "\u001b[38;5;250m3\u001b[39m  \u001b[4m1\u001b[24m992 Austria 7\u001b[4m9\u001b[24m\u001b[4m1\u001b[24m\u001b[4m4\u001b[24m969\n",
       "\u001b[38;5;250m4\u001b[39m  \u001b[4m1\u001b[24m997 Austria 8\u001b[4m0\u001b[24m\u001b[4m6\u001b[24m\u001b[4m9\u001b[24m876\n",
       "\u001b[38;5;250m5\u001b[39m  \u001b[4m2\u001b[24m002 Austria 8\u001b[4m1\u001b[24m\u001b[4m4\u001b[24m\u001b[4m8\u001b[24m312\n",
       "\u001b[38;5;250m6\u001b[39m  \u001b[4m2\u001b[24m007 Austria 8\u001b[4m1\u001b[24m\u001b[4m9\u001b[24m\u001b[4m9\u001b[24m783"
      ]
     },
     "execution_count": null,
     "metadata": {},
     "output_type": "execute_result"
    }
   ],
   "source": [
    "austria <- gapminder |> \n",
    "  filter(country == \"Austria\") |>\n",
    "  select(year, country, pop) |>\n",
    "  filter(year > 1980)\n",
    "austria"
   ]
  },
  {
   "cell_type": "code",
   "execution_count": 36,
   "id": "c657e12c",
   "metadata": {},
   "outputs": [
    {
     "data": {
      "text/plain": [
       "\u001b[38;5;246m# A tibble: 1,704 × 3\u001b[39m\n",
       "   country      year lifeExp\n",
       "   \u001b[3m\u001b[38;5;246m<fct>\u001b[39m\u001b[23m       \u001b[3m\u001b[38;5;246m<int>\u001b[39m\u001b[23m   \u001b[3m\u001b[38;5;246m<dbl>\u001b[39m\u001b[23m\n",
       "\u001b[38;5;250m 1\u001b[39m Afghanistan  \u001b[4m1\u001b[24m952    28.8\n",
       "\u001b[38;5;250m 2\u001b[39m Afghanistan  \u001b[4m1\u001b[24m957    30.3\n",
       "\u001b[38;5;250m 3\u001b[39m Afghanistan  \u001b[4m1\u001b[24m962    32.0\n",
       "\u001b[38;5;250m 4\u001b[39m Afghanistan  \u001b[4m1\u001b[24m967    34.0\n",
       "\u001b[38;5;250m 5\u001b[39m Afghanistan  \u001b[4m1\u001b[24m972    36.1\n",
       "\u001b[38;5;250m 6\u001b[39m Afghanistan  \u001b[4m1\u001b[24m977    38.4\n",
       "\u001b[38;5;250m 7\u001b[39m Afghanistan  \u001b[4m1\u001b[24m982    39.9\n",
       "\u001b[38;5;250m 8\u001b[39m Afghanistan  \u001b[4m1\u001b[24m987    40.8\n",
       "\u001b[38;5;250m 9\u001b[39m Afghanistan  \u001b[4m1\u001b[24m992    41.7\n",
       "\u001b[38;5;250m10\u001b[39m Afghanistan  \u001b[4m1\u001b[24m997    41.8\n",
       "\u001b[38;5;246m# ℹ 1,694 more rows\u001b[39m\n",
       "\u001b[38;5;246m# ℹ Use `print(n = ...)` to see more rows\u001b[39m"
      ]
     },
     "execution_count": null,
     "metadata": {},
     "output_type": "execute_result"
    }
   ],
   "source": [
    "gapminder |>\n",
    "  select(c(1,3:4))"
   ]
  },
  {
   "cell_type": "code",
   "execution_count": 38,
   "id": "338e6044",
   "metadata": {},
   "outputs": [
    {
     "data": {
      "text/plain": [
       "\u001b[38;5;246m# A tibble: 1,704 × 4\u001b[39m\n",
       "    year lifeExp      pop gdpPercap\n",
       "   \u001b[3m\u001b[38;5;246m<int>\u001b[39m\u001b[23m   \u001b[3m\u001b[38;5;246m<dbl>\u001b[39m\u001b[23m    \u001b[3m\u001b[38;5;246m<int>\u001b[39m\u001b[23m     \u001b[3m\u001b[38;5;246m<dbl>\u001b[39m\u001b[23m\n",
       "\u001b[38;5;250m 1\u001b[39m  \u001b[4m1\u001b[24m952    28.8  8\u001b[4m4\u001b[24m\u001b[4m2\u001b[24m\u001b[4m5\u001b[24m333      779.\n",
       "\u001b[38;5;250m 2\u001b[39m  \u001b[4m1\u001b[24m957    30.3  9\u001b[4m2\u001b[24m\u001b[4m4\u001b[24m\u001b[4m0\u001b[24m934      821.\n",
       "\u001b[38;5;250m 3\u001b[39m  \u001b[4m1\u001b[24m962    32.0 10\u001b[4m2\u001b[24m\u001b[4m6\u001b[24m\u001b[4m7\u001b[24m083      853.\n",
       "\u001b[38;5;250m 4\u001b[39m  \u001b[4m1\u001b[24m967    34.0 11\u001b[4m5\u001b[24m\u001b[4m3\u001b[24m\u001b[4m7\u001b[24m966      836.\n",
       "\u001b[38;5;250m 5\u001b[39m  \u001b[4m1\u001b[24m972    36.1 13\u001b[4m0\u001b[24m\u001b[4m7\u001b[24m\u001b[4m9\u001b[24m460      740.\n",
       "\u001b[38;5;250m 6\u001b[39m  \u001b[4m1\u001b[24m977    38.4 14\u001b[4m8\u001b[24m\u001b[4m8\u001b[24m\u001b[4m0\u001b[24m372      786.\n",
       "\u001b[38;5;250m 7\u001b[39m  \u001b[4m1\u001b[24m982    39.9 12\u001b[4m8\u001b[24m\u001b[4m8\u001b[24m\u001b[4m1\u001b[24m816      978.\n",
       "\u001b[38;5;250m 8\u001b[39m  \u001b[4m1\u001b[24m987    40.8 13\u001b[4m8\u001b[24m\u001b[4m6\u001b[24m\u001b[4m7\u001b[24m957      852.\n",
       "\u001b[38;5;250m 9\u001b[39m  \u001b[4m1\u001b[24m992    41.7 16\u001b[4m3\u001b[24m\u001b[4m1\u001b[24m\u001b[4m7\u001b[24m921      649.\n",
       "\u001b[38;5;250m10\u001b[39m  \u001b[4m1\u001b[24m997    41.8 22\u001b[4m2\u001b[24m\u001b[4m2\u001b[24m\u001b[4m7\u001b[24m415      635.\n",
       "\u001b[38;5;246m# ℹ 1,694 more rows\u001b[39m\n",
       "\u001b[38;5;246m# ℹ Use `print(n = ...)` to see more rows\u001b[39m"
      ]
     },
     "execution_count": null,
     "metadata": {},
     "output_type": "execute_result"
    }
   ],
   "source": [
    "gapminder |>\n",
    "  select(where(is.numeric))"
   ]
  },
  {
   "cell_type": "code",
   "execution_count": 41,
   "id": "79eee7ac",
   "metadata": {},
   "outputs": [
    {
     "data": {
      "text/plain": [
       "\u001b[38;5;246m# A tibble: 142 × 2\u001b[39m\n",
       "   country     continent\n",
       "   \u001b[3m\u001b[38;5;246m<fct>\u001b[39m\u001b[23m       \u001b[3m\u001b[38;5;246m<fct>\u001b[39m\u001b[23m    \n",
       "\u001b[38;5;250m 1\u001b[39m Afghanistan Asia     \n",
       "\u001b[38;5;250m 2\u001b[39m Albania     Europe   \n",
       "\u001b[38;5;250m 3\u001b[39m Algeria     Africa   \n",
       "\u001b[38;5;250m 4\u001b[39m Angola      Africa   \n",
       "\u001b[38;5;250m 5\u001b[39m Argentina   Americas \n",
       "\u001b[38;5;250m 6\u001b[39m Australia   Oceania  \n",
       "\u001b[38;5;250m 7\u001b[39m Austria     Europe   \n",
       "\u001b[38;5;250m 8\u001b[39m Bahrain     Asia     \n",
       "\u001b[38;5;250m 9\u001b[39m Bangladesh  Asia     \n",
       "\u001b[38;5;250m10\u001b[39m Belgium     Europe   \n",
       "\u001b[38;5;246m# ℹ 132 more rows\u001b[39m\n",
       "\u001b[38;5;246m# ℹ Use `print(n = ...)` to see more rows\u001b[39m"
      ]
     },
     "execution_count": null,
     "metadata": {},
     "output_type": "execute_result"
    }
   ],
   "source": [
    "gapminder |>\n",
    "  select(!where(is.numeric)) |>\n",
    "  distinct()"
   ]
  },
  {
   "cell_type": "markdown",
   "id": "7cb48c0d",
   "metadata": {},
   "source": [
    "## random"
   ]
  },
  {
   "cell_type": "code",
   "execution_count": 47,
   "id": "1d3a758c",
   "metadata": {},
   "outputs": [
    {
     "data": {
      "text/plain": [
       "\u001b[38;5;246m# A tibble: 5 × 6\u001b[39m\n",
       "  country            continent  year lifeExp      pop gdpPercap\n",
       "  \u001b[3m\u001b[38;5;246m<fct>\u001b[39m\u001b[23m              \u001b[3m\u001b[38;5;246m<fct>\u001b[39m\u001b[23m     \u001b[3m\u001b[38;5;246m<int>\u001b[39m\u001b[23m   \u001b[3m\u001b[38;5;246m<dbl>\u001b[39m\u001b[23m    \u001b[3m\u001b[38;5;246m<int>\u001b[39m\u001b[23m     \u001b[3m\u001b[38;5;246m<dbl>\u001b[39m\u001b[23m\n",
       "\u001b[38;5;250m1\u001b[39m Argentina          Americas   \u001b[4m1\u001b[24m992    71.9 33\u001b[4m9\u001b[24m\u001b[4m5\u001b[24m\u001b[4m8\u001b[24m947     \u001b[4m9\u001b[24m308.\n",
       "\u001b[38;5;250m2\u001b[39m Dominican Republic Americas   \u001b[4m1\u001b[24m967    56.8  4\u001b[4m0\u001b[24m\u001b[4m4\u001b[24m\u001b[4m9\u001b[24m146     \u001b[4m1\u001b[24m654.\n",
       "\u001b[38;5;250m3\u001b[39m Gabon              Africa     \u001b[4m2\u001b[24m002    56.8  1\u001b[4m2\u001b[24m\u001b[4m9\u001b[24m\u001b[4m9\u001b[24m304    \u001b[4m1\u001b[24m\u001b[4m2\u001b[24m522.\n",
       "\u001b[38;5;250m4\u001b[39m Djibouti           Africa     \u001b[4m1\u001b[24m972    44.4   \u001b[4m1\u001b[24m\u001b[4m7\u001b[24m\u001b[4m8\u001b[24m848     \u001b[4m3\u001b[24m694.\n",
       "\u001b[38;5;250m5\u001b[39m Ethiopia           Africa     \u001b[4m1\u001b[24m972    43.5 30\u001b[4m7\u001b[24m\u001b[4m7\u001b[24m\u001b[4m0\u001b[24m372      566."
      ]
     },
     "execution_count": null,
     "metadata": {},
     "output_type": "execute_result"
    }
   ],
   "source": [
    "# seed\n",
    "gapminder |>\n",
    "  sample_n(5)"
   ]
  },
  {
   "cell_type": "code",
   "execution_count": 49,
   "id": "7bdbe62a",
   "metadata": {},
   "outputs": [
    {
     "data": {
      "text/plain": [
       "\u001b[38;5;246m# A tibble: 170 × 6\u001b[39m\n",
       "   country          continent  year lifeExp       pop gdpPercap\n",
       "   \u001b[3m\u001b[38;5;246m<fct>\u001b[39m\u001b[23m            \u001b[3m\u001b[38;5;246m<fct>\u001b[39m\u001b[23m     \u001b[3m\u001b[38;5;246m<int>\u001b[39m\u001b[23m   \u001b[3m\u001b[38;5;246m<dbl>\u001b[39m\u001b[23m     \u001b[3m\u001b[38;5;246m<int>\u001b[39m\u001b[23m     \u001b[3m\u001b[38;5;246m<dbl>\u001b[39m\u001b[23m\n",
       "\u001b[38;5;250m 1\u001b[39m Burundi          Africa     \u001b[4m1\u001b[24m982    47.5   4\u001b[4m5\u001b[24m\u001b[4m8\u001b[24m\u001b[4m0\u001b[24m410      560.\n",
       "\u001b[38;5;250m 2\u001b[39m Bulgaria         Europe     \u001b[4m2\u001b[24m002    72.1   7\u001b[4m6\u001b[24m\u001b[4m6\u001b[24m\u001b[4m1\u001b[24m799     \u001b[4m7\u001b[24m697.\n",
       "\u001b[38;5;250m 3\u001b[39m Costa Rica       Americas   \u001b[4m1\u001b[24m972    67.8   1\u001b[4m8\u001b[24m\u001b[4m3\u001b[24m\u001b[4m4\u001b[24m796     \u001b[4m5\u001b[24m118.\n",
       "\u001b[38;5;250m 4\u001b[39m Australia        Oceania    \u001b[4m2\u001b[24m007    81.2  20\u001b[4m4\u001b[24m\u001b[4m3\u001b[24m\u001b[4m4\u001b[24m176    \u001b[4m3\u001b[24m\u001b[4m4\u001b[24m435.\n",
       "\u001b[38;5;250m 5\u001b[39m Thailand         Asia       \u001b[4m1\u001b[24m957    53.6  25\u001b[4m0\u001b[24m\u001b[4m4\u001b[24m\u001b[4m1\u001b[24m917      794.\n",
       "\u001b[38;5;250m 6\u001b[39m Ghana            Africa     \u001b[4m1\u001b[24m962    46.5   7\u001b[4m3\u001b[24m\u001b[4m5\u001b[24m\u001b[4m5\u001b[24m248     \u001b[4m1\u001b[24m190.\n",
       "\u001b[38;5;250m 7\u001b[39m Bangladesh       Asia       \u001b[4m1\u001b[24m987    52.8 103\u001b[4m7\u001b[24m\u001b[4m6\u001b[24m\u001b[4m4\u001b[24m241      752.\n",
       "\u001b[38;5;250m 8\u001b[39m Djibouti         Africa     \u001b[4m1\u001b[24m957    37.3     \u001b[4m7\u001b[24m\u001b[4m1\u001b[24m851     \u001b[4m2\u001b[24m865.\n",
       "\u001b[38;5;250m 9\u001b[39m Saudi Arabia     Asia       \u001b[4m1\u001b[24m972    53.9   6\u001b[4m4\u001b[24m\u001b[4m7\u001b[24m\u001b[4m2\u001b[24m756    \u001b[4m2\u001b[24m\u001b[4m4\u001b[24m837.\n",
       "\u001b[38;5;250m10\u001b[39m Hong Kong, China Asia       \u001b[4m1\u001b[24m987    76.2   5\u001b[4m5\u001b[24m\u001b[4m8\u001b[24m\u001b[4m4\u001b[24m510    \u001b[4m2\u001b[24m\u001b[4m0\u001b[24m038.\n",
       "\u001b[38;5;246m# ℹ 160 more rows\u001b[39m\n",
       "\u001b[38;5;246m# ℹ Use `print(n = ...)` to see more rows\u001b[39m"
      ]
     },
     "execution_count": null,
     "metadata": {},
     "output_type": "execute_result"
    }
   ],
   "source": [
    "gapminder |>\n",
    "  sample_frac(0.1)"
   ]
  },
  {
   "cell_type": "markdown",
   "id": "2e4c4c95",
   "metadata": {},
   "source": [
    "## slice"
   ]
  },
  {
   "cell_type": "code",
   "execution_count": 52,
   "id": "6c5f82d6",
   "metadata": {},
   "outputs": [
    {
     "data": {
      "text/plain": [
       "\u001b[38;5;246m# A tibble: 10 × 6\u001b[39m\n",
       "   country     continent  year lifeExp      pop gdpPercap\n",
       "   \u001b[3m\u001b[38;5;246m<fct>\u001b[39m\u001b[23m       \u001b[3m\u001b[38;5;246m<fct>\u001b[39m\u001b[23m     \u001b[3m\u001b[38;5;246m<int>\u001b[39m\u001b[23m   \u001b[3m\u001b[38;5;246m<dbl>\u001b[39m\u001b[23m    \u001b[3m\u001b[38;5;246m<int>\u001b[39m\u001b[23m     \u001b[3m\u001b[38;5;246m<dbl>\u001b[39m\u001b[23m\n",
       "\u001b[38;5;250m 1\u001b[39m Afghanistan Asia       \u001b[4m1\u001b[24m952    28.8  8\u001b[4m4\u001b[24m\u001b[4m2\u001b[24m\u001b[4m5\u001b[24m333      779.\n",
       "\u001b[38;5;250m 2\u001b[39m Afghanistan Asia       \u001b[4m1\u001b[24m957    30.3  9\u001b[4m2\u001b[24m\u001b[4m4\u001b[24m\u001b[4m0\u001b[24m934      821.\n",
       "\u001b[38;5;250m 3\u001b[39m Afghanistan Asia       \u001b[4m1\u001b[24m962    32.0 10\u001b[4m2\u001b[24m\u001b[4m6\u001b[24m\u001b[4m7\u001b[24m083      853.\n",
       "\u001b[38;5;250m 4\u001b[39m Afghanistan Asia       \u001b[4m1\u001b[24m967    34.0 11\u001b[4m5\u001b[24m\u001b[4m3\u001b[24m\u001b[4m7\u001b[24m966      836.\n",
       "\u001b[38;5;250m 5\u001b[39m Afghanistan Asia       \u001b[4m1\u001b[24m972    36.1 13\u001b[4m0\u001b[24m\u001b[4m7\u001b[24m\u001b[4m9\u001b[24m460      740.\n",
       "\u001b[38;5;250m 6\u001b[39m Afghanistan Asia       \u001b[4m1\u001b[24m977    38.4 14\u001b[4m8\u001b[24m\u001b[4m8\u001b[24m\u001b[4m0\u001b[24m372      786.\n",
       "\u001b[38;5;250m 7\u001b[39m Afghanistan Asia       \u001b[4m1\u001b[24m982    39.9 12\u001b[4m8\u001b[24m\u001b[4m8\u001b[24m\u001b[4m1\u001b[24m816      978.\n",
       "\u001b[38;5;250m 8\u001b[39m Afghanistan Asia       \u001b[4m1\u001b[24m987    40.8 13\u001b[4m8\u001b[24m\u001b[4m6\u001b[24m\u001b[4m7\u001b[24m957      852.\n",
       "\u001b[38;5;250m 9\u001b[39m Afghanistan Asia       \u001b[4m1\u001b[24m992    41.7 16\u001b[4m3\u001b[24m\u001b[4m1\u001b[24m\u001b[4m7\u001b[24m921      649.\n",
       "\u001b[38;5;250m10\u001b[39m Afghanistan Asia       \u001b[4m1\u001b[24m997    41.8 22\u001b[4m2\u001b[24m\u001b[4m2\u001b[24m\u001b[4m7\u001b[24m415      635."
      ]
     },
     "execution_count": null,
     "metadata": {},
     "output_type": "execute_result"
    }
   ],
   "source": [
    "gapminder |> slice(1:10)"
   ]
  },
  {
   "cell_type": "code",
   "execution_count": 54,
   "id": "85a658df",
   "metadata": {},
   "outputs": [
    {
     "data": {
      "text/plain": [
       "\u001b[38;5;246m# A tibble: 10 × 6\u001b[39m\n",
       "   country     continent  year lifeExp      pop gdpPercap\n",
       "   \u001b[3m\u001b[38;5;246m<fct>\u001b[39m\u001b[23m       \u001b[3m\u001b[38;5;246m<fct>\u001b[39m\u001b[23m     \u001b[3m\u001b[38;5;246m<int>\u001b[39m\u001b[23m   \u001b[3m\u001b[38;5;246m<dbl>\u001b[39m\u001b[23m    \u001b[3m\u001b[38;5;246m<int>\u001b[39m\u001b[23m     \u001b[3m\u001b[38;5;246m<dbl>\u001b[39m\u001b[23m\n",
       "\u001b[38;5;250m 1\u001b[39m Afghanistan Asia       \u001b[4m1\u001b[24m952    28.8  8\u001b[4m4\u001b[24m\u001b[4m2\u001b[24m\u001b[4m5\u001b[24m333      779.\n",
       "\u001b[38;5;250m 2\u001b[39m Afghanistan Asia       \u001b[4m1\u001b[24m957    30.3  9\u001b[4m2\u001b[24m\u001b[4m4\u001b[24m\u001b[4m0\u001b[24m934      821.\n",
       "\u001b[38;5;250m 3\u001b[39m Afghanistan Asia       \u001b[4m1\u001b[24m962    32.0 10\u001b[4m2\u001b[24m\u001b[4m6\u001b[24m\u001b[4m7\u001b[24m083      853.\n",
       "\u001b[38;5;250m 4\u001b[39m Afghanistan Asia       \u001b[4m1\u001b[24m967    34.0 11\u001b[4m5\u001b[24m\u001b[4m3\u001b[24m\u001b[4m7\u001b[24m966      836.\n",
       "\u001b[38;5;250m 5\u001b[39m Afghanistan Asia       \u001b[4m1\u001b[24m972    36.1 13\u001b[4m0\u001b[24m\u001b[4m7\u001b[24m\u001b[4m9\u001b[24m460      740.\n",
       "\u001b[38;5;250m 6\u001b[39m Afghanistan Asia       \u001b[4m1\u001b[24m977    38.4 14\u001b[4m8\u001b[24m\u001b[4m8\u001b[24m\u001b[4m0\u001b[24m372      786.\n",
       "\u001b[38;5;250m 7\u001b[39m Afghanistan Asia       \u001b[4m1\u001b[24m982    39.9 12\u001b[4m8\u001b[24m\u001b[4m8\u001b[24m\u001b[4m1\u001b[24m816      978.\n",
       "\u001b[38;5;250m 8\u001b[39m Afghanistan Asia       \u001b[4m1\u001b[24m987    40.8 13\u001b[4m8\u001b[24m\u001b[4m6\u001b[24m\u001b[4m7\u001b[24m957      852.\n",
       "\u001b[38;5;250m 9\u001b[39m Afghanistan Asia       \u001b[4m1\u001b[24m992    41.7 16\u001b[4m3\u001b[24m\u001b[4m1\u001b[24m\u001b[4m7\u001b[24m921      649.\n",
       "\u001b[38;5;250m10\u001b[39m Afghanistan Asia       \u001b[4m1\u001b[24m997    41.8 22\u001b[4m2\u001b[24m\u001b[4m2\u001b[24m\u001b[4m7\u001b[24m415      635."
      ]
     },
     "execution_count": null,
     "metadata": {},
     "output_type": "execute_result"
    }
   ],
   "source": [
    "gapminder |> slice_head(n = 10)"
   ]
  },
  {
   "cell_type": "code",
   "execution_count": 55,
   "id": "8f7f683d",
   "metadata": {},
   "outputs": [
    {
     "data": {
      "text/plain": [
       "\u001b[38;5;246m# A tibble: 10 × 6\u001b[39m\n",
       "   country  continent  year lifeExp      pop gdpPercap\n",
       "   \u001b[3m\u001b[38;5;246m<fct>\u001b[39m\u001b[23m    \u001b[3m\u001b[38;5;246m<fct>\u001b[39m\u001b[23m     \u001b[3m\u001b[38;5;246m<int>\u001b[39m\u001b[23m   \u001b[3m\u001b[38;5;246m<dbl>\u001b[39m\u001b[23m    \u001b[3m\u001b[38;5;246m<int>\u001b[39m\u001b[23m     \u001b[3m\u001b[38;5;246m<dbl>\u001b[39m\u001b[23m\n",
       "\u001b[38;5;250m 1\u001b[39m Zimbabwe Africa     \u001b[4m1\u001b[24m962    52.4  4\u001b[4m2\u001b[24m\u001b[4m7\u001b[24m\u001b[4m7\u001b[24m736      527.\n",
       "\u001b[38;5;250m 2\u001b[39m Zimbabwe Africa     \u001b[4m1\u001b[24m967    54.0  4\u001b[4m9\u001b[24m\u001b[4m9\u001b[24m\u001b[4m5\u001b[24m432      570.\n",
       "\u001b[38;5;250m 3\u001b[39m Zimbabwe Africa     \u001b[4m1\u001b[24m972    55.6  5\u001b[4m8\u001b[24m\u001b[4m6\u001b[24m\u001b[4m1\u001b[24m135      799.\n",
       "\u001b[38;5;250m 4\u001b[39m Zimbabwe Africa     \u001b[4m1\u001b[24m977    57.7  6\u001b[4m6\u001b[24m\u001b[4m4\u001b[24m\u001b[4m2\u001b[24m107      686.\n",
       "\u001b[38;5;250m 5\u001b[39m Zimbabwe Africa     \u001b[4m1\u001b[24m982    60.4  7\u001b[4m6\u001b[24m\u001b[4m3\u001b[24m\u001b[4m6\u001b[24m524      789.\n",
       "\u001b[38;5;250m 6\u001b[39m Zimbabwe Africa     \u001b[4m1\u001b[24m987    62.4  9\u001b[4m2\u001b[24m\u001b[4m1\u001b[24m\u001b[4m6\u001b[24m418      706.\n",
       "\u001b[38;5;250m 7\u001b[39m Zimbabwe Africa     \u001b[4m1\u001b[24m992    60.4 10\u001b[4m7\u001b[24m\u001b[4m0\u001b[24m\u001b[4m4\u001b[24m340      693.\n",
       "\u001b[38;5;250m 8\u001b[39m Zimbabwe Africa     \u001b[4m1\u001b[24m997    46.8 11\u001b[4m4\u001b[24m\u001b[4m0\u001b[24m\u001b[4m4\u001b[24m948      792.\n",
       "\u001b[38;5;250m 9\u001b[39m Zimbabwe Africa     \u001b[4m2\u001b[24m002    40.0 11\u001b[4m9\u001b[24m\u001b[4m2\u001b[24m\u001b[4m6\u001b[24m563      672.\n",
       "\u001b[38;5;250m10\u001b[39m Zimbabwe Africa     \u001b[4m2\u001b[24m007    43.5 12\u001b[4m3\u001b[24m\u001b[4m1\u001b[24m\u001b[4m1\u001b[24m143      470."
      ]
     },
     "execution_count": null,
     "metadata": {},
     "output_type": "execute_result"
    }
   ],
   "source": [
    "gapminder |> slice_tail(n = 10)"
   ]
  },
  {
   "cell_type": "code",
   "execution_count": 56,
   "id": "98a9c110",
   "metadata": {},
   "outputs": [
    {
     "data": {
      "text/plain": [
       "\u001b[38;5;246m# A tibble: 10 × 6\u001b[39m\n",
       "   country            continent  year lifeExp       pop gdpPercap\n",
       "   \u001b[3m\u001b[38;5;246m<fct>\u001b[39m\u001b[23m              \u001b[3m\u001b[38;5;246m<fct>\u001b[39m\u001b[23m     \u001b[3m\u001b[38;5;246m<int>\u001b[39m\u001b[23m   \u001b[3m\u001b[38;5;246m<dbl>\u001b[39m\u001b[23m     \u001b[3m\u001b[38;5;246m<int>\u001b[39m\u001b[23m     \u001b[3m\u001b[38;5;246m<dbl>\u001b[39m\u001b[23m\n",
       "\u001b[38;5;250m 1\u001b[39m Uganda             Africa     \u001b[4m2\u001b[24m007    51.5  29\u001b[4m1\u001b[24m\u001b[4m7\u001b[24m\u001b[4m0\u001b[24m398     \u001b[4m1\u001b[24m056.\n",
       "\u001b[38;5;250m 2\u001b[39m United Kingdom     Europe     \u001b[4m2\u001b[24m007    79.4  60\u001b[4m7\u001b[24m\u001b[4m7\u001b[24m\u001b[4m6\u001b[24m238    \u001b[4m3\u001b[24m\u001b[4m3\u001b[24m203.\n",
       "\u001b[38;5;250m 3\u001b[39m United States      Americas   \u001b[4m2\u001b[24m007    78.2 301\u001b[4m1\u001b[24m\u001b[4m3\u001b[24m\u001b[4m9\u001b[24m947    \u001b[4m4\u001b[24m\u001b[4m2\u001b[24m952.\n",
       "\u001b[38;5;250m 4\u001b[39m Uruguay            Americas   \u001b[4m2\u001b[24m007    76.4   3\u001b[4m4\u001b[24m\u001b[4m4\u001b[24m\u001b[4m7\u001b[24m496    \u001b[4m1\u001b[24m\u001b[4m0\u001b[24m611.\n",
       "\u001b[38;5;250m 5\u001b[39m Venezuela          Americas   \u001b[4m2\u001b[24m007    73.7  26\u001b[4m0\u001b[24m\u001b[4m8\u001b[24m\u001b[4m4\u001b[24m662    \u001b[4m1\u001b[24m\u001b[4m1\u001b[24m416.\n",
       "\u001b[38;5;250m 6\u001b[39m Vietnam            Asia       \u001b[4m2\u001b[24m007    74.2  85\u001b[4m2\u001b[24m\u001b[4m6\u001b[24m\u001b[4m2\u001b[24m356     \u001b[4m2\u001b[24m442.\n",
       "\u001b[38;5;250m 7\u001b[39m West Bank and Gaza Asia       \u001b[4m2\u001b[24m007    73.4   4\u001b[4m0\u001b[24m\u001b[4m1\u001b[24m\u001b[4m8\u001b[24m332     \u001b[4m3\u001b[24m025.\n",
       "\u001b[38;5;250m 8\u001b[39m Yemen, Rep.        Asia       \u001b[4m2\u001b[24m007    62.7  22\u001b[4m2\u001b[24m\u001b[4m1\u001b[24m\u001b[4m1\u001b[24m743     \u001b[4m2\u001b[24m281.\n",
       "\u001b[38;5;250m 9\u001b[39m Zambia             Africa     \u001b[4m2\u001b[24m007    42.4  11\u001b[4m7\u001b[24m\u001b[4m4\u001b[24m\u001b[4m6\u001b[24m035     \u001b[4m1\u001b[24m271.\n",
       "\u001b[38;5;250m10\u001b[39m Zimbabwe           Africa     \u001b[4m2\u001b[24m007    43.5  12\u001b[4m3\u001b[24m\u001b[4m1\u001b[24m\u001b[4m1\u001b[24m143      470."
      ]
     },
     "execution_count": null,
     "metadata": {},
     "output_type": "execute_result"
    }
   ],
   "source": [
    "gapminder |> filter(year == 2007) |> slice_tail(n = 10)"
   ]
  },
  {
   "cell_type": "code",
   "execution_count": 57,
   "id": "a36ad002",
   "metadata": {},
   "outputs": [
    {
     "data": {
      "text/plain": [
       "\u001b[38;5;246m# A tibble: 3 × 6\u001b[39m\n",
       "  country continent  year lifeExp      pop gdpPercap\n",
       "  \u001b[3m\u001b[38;5;246m<fct>\u001b[39m\u001b[23m   \u001b[3m\u001b[38;5;246m<fct>\u001b[39m\u001b[23m     \u001b[3m\u001b[38;5;246m<int>\u001b[39m\u001b[23m   \u001b[3m\u001b[38;5;246m<dbl>\u001b[39m\u001b[23m    \u001b[3m\u001b[38;5;246m<int>\u001b[39m\u001b[23m     \u001b[3m\u001b[38;5;246m<dbl>\u001b[39m\u001b[23m\n",
       "\u001b[38;5;250m1\u001b[39m Turkey  Europe     \u001b[4m1\u001b[24m977    59.5 42\u001b[4m4\u001b[24m\u001b[4m0\u001b[24m\u001b[4m4\u001b[24m033     \u001b[4m4\u001b[24m269.\n",
       "\u001b[38;5;250m2\u001b[39m Kenya   Africa     \u001b[4m1\u001b[24m967    50.7 10\u001b[4m1\u001b[24m\u001b[4m9\u001b[24m\u001b[4m1\u001b[24m512     \u001b[4m1\u001b[24m057.\n",
       "\u001b[38;5;250m3\u001b[39m Vietnam Asia       \u001b[4m1\u001b[24m967    47.8 39\u001b[4m4\u001b[24m\u001b[4m6\u001b[24m\u001b[4m3\u001b[24m910      637."
      ]
     },
     "execution_count": null,
     "metadata": {},
     "output_type": "execute_result"
    }
   ],
   "source": [
    "gapminder |>\n",
    "  slice_sample(n = 3)"
   ]
  },
  {
   "cell_type": "code",
   "execution_count": 58,
   "id": "8230edb1",
   "metadata": {},
   "outputs": [
    {
     "data": {
      "text/plain": [
       "\u001b[38;5;246m# A tibble: 5 × 6\u001b[39m\n",
       "  country          continent  year lifeExp       pop gdpPercap\n",
       "  \u001b[3m\u001b[38;5;246m<fct>\u001b[39m\u001b[23m            \u001b[3m\u001b[38;5;246m<fct>\u001b[39m\u001b[23m     \u001b[3m\u001b[38;5;246m<int>\u001b[39m\u001b[23m   \u001b[3m\u001b[38;5;246m<dbl>\u001b[39m\u001b[23m     \u001b[3m\u001b[38;5;246m<int>\u001b[39m\u001b[23m     \u001b[3m\u001b[38;5;246m<dbl>\u001b[39m\u001b[23m\n",
       "\u001b[38;5;250m1\u001b[39m Japan            Asia       \u001b[4m2\u001b[24m007    82.6 127\u001b[4m4\u001b[24m\u001b[4m6\u001b[24m\u001b[4m7\u001b[24m972    \u001b[4m3\u001b[24m\u001b[4m1\u001b[24m656.\n",
       "\u001b[38;5;250m2\u001b[39m Hong Kong, China Asia       \u001b[4m2\u001b[24m007    82.2   6\u001b[4m9\u001b[24m\u001b[4m8\u001b[24m\u001b[4m0\u001b[24m412    \u001b[4m3\u001b[24m\u001b[4m9\u001b[24m725.\n",
       "\u001b[38;5;250m3\u001b[39m Japan            Asia       \u001b[4m2\u001b[24m002    82   127\u001b[4m0\u001b[24m\u001b[4m6\u001b[24m\u001b[4m5\u001b[24m841    \u001b[4m2\u001b[24m\u001b[4m8\u001b[24m605.\n",
       "\u001b[38;5;250m4\u001b[39m Iceland          Europe     \u001b[4m2\u001b[24m007    81.8    \u001b[4m3\u001b[24m\u001b[4m0\u001b[24m\u001b[4m1\u001b[24m931    \u001b[4m3\u001b[24m\u001b[4m6\u001b[24m181.\n",
       "\u001b[38;5;250m5\u001b[39m Switzerland      Europe     \u001b[4m2\u001b[24m007    81.7   7\u001b[4m5\u001b[24m\u001b[4m5\u001b[24m\u001b[4m4\u001b[24m661    \u001b[4m3\u001b[24m\u001b[4m7\u001b[24m506."
      ]
     },
     "execution_count": null,
     "metadata": {},
     "output_type": "execute_result"
    }
   ],
   "source": [
    "gapminder |> slice_max(lifeExp, n = 5)"
   ]
  },
  {
   "cell_type": "code",
   "execution_count": 59,
   "id": "8bf24eb0",
   "metadata": {},
   "outputs": [
    {
     "data": {
      "text/plain": [
       "\u001b[38;5;246m# A tibble: 5 × 6\u001b[39m\n",
       "  country      continent  year lifeExp     pop gdpPercap\n",
       "  \u001b[3m\u001b[38;5;246m<fct>\u001b[39m\u001b[23m        \u001b[3m\u001b[38;5;246m<fct>\u001b[39m\u001b[23m     \u001b[3m\u001b[38;5;246m<int>\u001b[39m\u001b[23m   \u001b[3m\u001b[38;5;246m<dbl>\u001b[39m\u001b[23m   \u001b[3m\u001b[38;5;246m<int>\u001b[39m\u001b[23m     \u001b[3m\u001b[38;5;246m<dbl>\u001b[39m\u001b[23m\n",
       "\u001b[38;5;250m1\u001b[39m Rwanda       Africa     \u001b[4m1\u001b[24m992    23.6 7\u001b[4m2\u001b[24m\u001b[4m9\u001b[24m\u001b[4m0\u001b[24m203      737.\n",
       "\u001b[38;5;250m2\u001b[39m Afghanistan  Asia       \u001b[4m1\u001b[24m952    28.8 8\u001b[4m4\u001b[24m\u001b[4m2\u001b[24m\u001b[4m5\u001b[24m333      779.\n",
       "\u001b[38;5;250m3\u001b[39m Gambia       Africa     \u001b[4m1\u001b[24m952    30    \u001b[4m2\u001b[24m\u001b[4m8\u001b[24m\u001b[4m4\u001b[24m320      485.\n",
       "\u001b[38;5;250m4\u001b[39m Angola       Africa     \u001b[4m1\u001b[24m952    30.0 4\u001b[4m2\u001b[24m\u001b[4m3\u001b[24m\u001b[4m2\u001b[24m095     \u001b[4m3\u001b[24m521.\n",
       "\u001b[38;5;250m5\u001b[39m Sierra Leone Africa     \u001b[4m1\u001b[24m952    30.3 2\u001b[4m1\u001b[24m\u001b[4m4\u001b[24m\u001b[4m3\u001b[24m249      880."
      ]
     },
     "execution_count": null,
     "metadata": {},
     "output_type": "execute_result"
    }
   ],
   "source": [
    "gapminder |> slice_min(lifeExp, n = 5)"
   ]
  },
  {
   "cell_type": "markdown",
   "id": "03ae68cd",
   "metadata": {},
   "source": [
    "## arrange"
   ]
  },
  {
   "cell_type": "code",
   "execution_count": 60,
   "id": "bf7757de",
   "metadata": {},
   "outputs": [
    {
     "data": {
      "text/plain": [
       "\u001b[38;5;246m# A tibble: 10 × 6\u001b[39m\n",
       "   country          continent  year lifeExp       pop gdpPercap\n",
       "   \u001b[3m\u001b[38;5;246m<fct>\u001b[39m\u001b[23m            \u001b[3m\u001b[38;5;246m<fct>\u001b[39m\u001b[23m     \u001b[3m\u001b[38;5;246m<int>\u001b[39m\u001b[23m   \u001b[3m\u001b[38;5;246m<dbl>\u001b[39m\u001b[23m     \u001b[3m\u001b[38;5;246m<int>\u001b[39m\u001b[23m     \u001b[3m\u001b[38;5;246m<dbl>\u001b[39m\u001b[23m\n",
       "\u001b[38;5;250m 1\u001b[39m Australia        Oceania    \u001b[4m2\u001b[24m002    80.4  19\u001b[4m5\u001b[24m\u001b[4m4\u001b[24m\u001b[4m6\u001b[24m792    \u001b[4m3\u001b[24m\u001b[4m0\u001b[24m688.\n",
       "\u001b[38;5;250m 2\u001b[39m Canada           Americas   \u001b[4m2\u001b[24m002    79.8  31\u001b[4m9\u001b[24m\u001b[4m0\u001b[24m\u001b[4m2\u001b[24m268    \u001b[4m3\u001b[24m\u001b[4m3\u001b[24m329.\n",
       "\u001b[38;5;250m 3\u001b[39m Hong Kong, China Asia       \u001b[4m2\u001b[24m002    81.5   6\u001b[4m7\u001b[24m\u001b[4m6\u001b[24m\u001b[4m2\u001b[24m476    \u001b[4m3\u001b[24m\u001b[4m0\u001b[24m209.\n",
       "\u001b[38;5;250m 4\u001b[39m Iceland          Europe     \u001b[4m2\u001b[24m002    80.5    \u001b[4m2\u001b[24m\u001b[4m8\u001b[24m\u001b[4m8\u001b[24m030    \u001b[4m3\u001b[24m\u001b[4m1\u001b[24m163.\n",
       "\u001b[38;5;250m 5\u001b[39m Israel           Asia       \u001b[4m2\u001b[24m002    79.7   6\u001b[4m0\u001b[24m\u001b[4m2\u001b[24m\u001b[4m9\u001b[24m529    \u001b[4m2\u001b[24m\u001b[4m1\u001b[24m906.\n",
       "\u001b[38;5;250m 6\u001b[39m Italy            Europe     \u001b[4m2\u001b[24m002    80.2  57\u001b[4m9\u001b[24m\u001b[4m2\u001b[24m\u001b[4m6\u001b[24m999    \u001b[4m2\u001b[24m\u001b[4m7\u001b[24m968.\n",
       "\u001b[38;5;250m 7\u001b[39m Japan            Asia       \u001b[4m2\u001b[24m002    82   127\u001b[4m0\u001b[24m\u001b[4m6\u001b[24m\u001b[4m5\u001b[24m841    \u001b[4m2\u001b[24m\u001b[4m8\u001b[24m605.\n",
       "\u001b[38;5;250m 8\u001b[39m Spain            Europe     \u001b[4m2\u001b[24m002    79.8  40\u001b[4m1\u001b[24m\u001b[4m5\u001b[24m\u001b[4m2\u001b[24m517    \u001b[4m2\u001b[24m\u001b[4m4\u001b[24m835.\n",
       "\u001b[38;5;250m 9\u001b[39m Sweden           Europe     \u001b[4m2\u001b[24m002    80.0   8\u001b[4m9\u001b[24m\u001b[4m5\u001b[24m\u001b[4m4\u001b[24m175    \u001b[4m2\u001b[24m\u001b[4m9\u001b[24m342.\n",
       "\u001b[38;5;250m10\u001b[39m Switzerland      Europe     \u001b[4m2\u001b[24m002    80.6   7\u001b[4m3\u001b[24m\u001b[4m6\u001b[24m\u001b[4m1\u001b[24m757    \u001b[4m3\u001b[24m\u001b[4m4\u001b[24m481."
      ]
     },
     "execution_count": null,
     "metadata": {},
     "output_type": "execute_result"
    }
   ],
   "source": [
    "data2002 <- gapminder |>\n",
    "  filter(year == 2002) |>\n",
    "  top_n(10, lifeExp)\n",
    "data2002"
   ]
  },
  {
   "cell_type": "code",
   "execution_count": 61,
   "id": "19221b1b",
   "metadata": {},
   "outputs": [
    {
     "data": {
      "text/plain": [
       "\u001b[38;5;246m# A tibble: 10 × 6\u001b[39m\n",
       "   country          continent  year lifeExp       pop gdpPercap\n",
       "   \u001b[3m\u001b[38;5;246m<fct>\u001b[39m\u001b[23m            \u001b[3m\u001b[38;5;246m<fct>\u001b[39m\u001b[23m     \u001b[3m\u001b[38;5;246m<int>\u001b[39m\u001b[23m   \u001b[3m\u001b[38;5;246m<dbl>\u001b[39m\u001b[23m     \u001b[3m\u001b[38;5;246m<int>\u001b[39m\u001b[23m     \u001b[3m\u001b[38;5;246m<dbl>\u001b[39m\u001b[23m\n",
       "\u001b[38;5;250m 1\u001b[39m Israel           Asia       \u001b[4m2\u001b[24m002    79.7   6\u001b[4m0\u001b[24m\u001b[4m2\u001b[24m\u001b[4m9\u001b[24m529    \u001b[4m2\u001b[24m\u001b[4m1\u001b[24m906.\n",
       "\u001b[38;5;250m 2\u001b[39m Canada           Americas   \u001b[4m2\u001b[24m002    79.8  31\u001b[4m9\u001b[24m\u001b[4m0\u001b[24m\u001b[4m2\u001b[24m268    \u001b[4m3\u001b[24m\u001b[4m3\u001b[24m329.\n",
       "\u001b[38;5;250m 3\u001b[39m Spain            Europe     \u001b[4m2\u001b[24m002    79.8  40\u001b[4m1\u001b[24m\u001b[4m5\u001b[24m\u001b[4m2\u001b[24m517    \u001b[4m2\u001b[24m\u001b[4m4\u001b[24m835.\n",
       "\u001b[38;5;250m 4\u001b[39m Sweden           Europe     \u001b[4m2\u001b[24m002    80.0   8\u001b[4m9\u001b[24m\u001b[4m5\u001b[24m\u001b[4m4\u001b[24m175    \u001b[4m2\u001b[24m\u001b[4m9\u001b[24m342.\n",
       "\u001b[38;5;250m 5\u001b[39m Italy            Europe     \u001b[4m2\u001b[24m002    80.2  57\u001b[4m9\u001b[24m\u001b[4m2\u001b[24m\u001b[4m6\u001b[24m999    \u001b[4m2\u001b[24m\u001b[4m7\u001b[24m968.\n",
       "\u001b[38;5;250m 6\u001b[39m Australia        Oceania    \u001b[4m2\u001b[24m002    80.4  19\u001b[4m5\u001b[24m\u001b[4m4\u001b[24m\u001b[4m6\u001b[24m792    \u001b[4m3\u001b[24m\u001b[4m0\u001b[24m688.\n",
       "\u001b[38;5;250m 7\u001b[39m Iceland          Europe     \u001b[4m2\u001b[24m002    80.5    \u001b[4m2\u001b[24m\u001b[4m8\u001b[24m\u001b[4m8\u001b[24m030    \u001b[4m3\u001b[24m\u001b[4m1\u001b[24m163.\n",
       "\u001b[38;5;250m 8\u001b[39m Switzerland      Europe     \u001b[4m2\u001b[24m002    80.6   7\u001b[4m3\u001b[24m\u001b[4m6\u001b[24m\u001b[4m1\u001b[24m757    \u001b[4m3\u001b[24m\u001b[4m4\u001b[24m481.\n",
       "\u001b[38;5;250m 9\u001b[39m Hong Kong, China Asia       \u001b[4m2\u001b[24m002    81.5   6\u001b[4m7\u001b[24m\u001b[4m6\u001b[24m\u001b[4m2\u001b[24m476    \u001b[4m3\u001b[24m\u001b[4m0\u001b[24m209.\n",
       "\u001b[38;5;250m10\u001b[39m Japan            Asia       \u001b[4m2\u001b[24m002    82   127\u001b[4m0\u001b[24m\u001b[4m6\u001b[24m\u001b[4m5\u001b[24m841    \u001b[4m2\u001b[24m\u001b[4m8\u001b[24m605."
      ]
     },
     "execution_count": null,
     "metadata": {},
     "output_type": "execute_result"
    }
   ],
   "source": [
    "data2002 |>\n",
    "  arrange(lifeExp)"
   ]
  },
  {
   "cell_type": "code",
   "execution_count": 62,
   "id": "581f5a4f",
   "metadata": {},
   "outputs": [
    {
     "data": {
      "text/plain": [
       "\u001b[38;5;246m# A tibble: 10 × 6\u001b[39m\n",
       "   country          continent  year lifeExp       pop gdpPercap\n",
       "   \u001b[3m\u001b[38;5;246m<fct>\u001b[39m\u001b[23m            \u001b[3m\u001b[38;5;246m<fct>\u001b[39m\u001b[23m     \u001b[3m\u001b[38;5;246m<int>\u001b[39m\u001b[23m   \u001b[3m\u001b[38;5;246m<dbl>\u001b[39m\u001b[23m     \u001b[3m\u001b[38;5;246m<int>\u001b[39m\u001b[23m     \u001b[3m\u001b[38;5;246m<dbl>\u001b[39m\u001b[23m\n",
       "\u001b[38;5;250m 1\u001b[39m Japan            Asia       \u001b[4m2\u001b[24m002    82   127\u001b[4m0\u001b[24m\u001b[4m6\u001b[24m\u001b[4m5\u001b[24m841    \u001b[4m2\u001b[24m\u001b[4m8\u001b[24m605.\n",
       "\u001b[38;5;250m 2\u001b[39m Hong Kong, China Asia       \u001b[4m2\u001b[24m002    81.5   6\u001b[4m7\u001b[24m\u001b[4m6\u001b[24m\u001b[4m2\u001b[24m476    \u001b[4m3\u001b[24m\u001b[4m0\u001b[24m209.\n",
       "\u001b[38;5;250m 3\u001b[39m Switzerland      Europe     \u001b[4m2\u001b[24m002    80.6   7\u001b[4m3\u001b[24m\u001b[4m6\u001b[24m\u001b[4m1\u001b[24m757    \u001b[4m3\u001b[24m\u001b[4m4\u001b[24m481.\n",
       "\u001b[38;5;250m 4\u001b[39m Iceland          Europe     \u001b[4m2\u001b[24m002    80.5    \u001b[4m2\u001b[24m\u001b[4m8\u001b[24m\u001b[4m8\u001b[24m030    \u001b[4m3\u001b[24m\u001b[4m1\u001b[24m163.\n",
       "\u001b[38;5;250m 5\u001b[39m Australia        Oceania    \u001b[4m2\u001b[24m002    80.4  19\u001b[4m5\u001b[24m\u001b[4m4\u001b[24m\u001b[4m6\u001b[24m792    \u001b[4m3\u001b[24m\u001b[4m0\u001b[24m688.\n",
       "\u001b[38;5;250m 6\u001b[39m Italy            Europe     \u001b[4m2\u001b[24m002    80.2  57\u001b[4m9\u001b[24m\u001b[4m2\u001b[24m\u001b[4m6\u001b[24m999    \u001b[4m2\u001b[24m\u001b[4m7\u001b[24m968.\n",
       "\u001b[38;5;250m 7\u001b[39m Sweden           Europe     \u001b[4m2\u001b[24m002    80.0   8\u001b[4m9\u001b[24m\u001b[4m5\u001b[24m\u001b[4m4\u001b[24m175    \u001b[4m2\u001b[24m\u001b[4m9\u001b[24m342.\n",
       "\u001b[38;5;250m 8\u001b[39m Spain            Europe     \u001b[4m2\u001b[24m002    79.8  40\u001b[4m1\u001b[24m\u001b[4m5\u001b[24m\u001b[4m2\u001b[24m517    \u001b[4m2\u001b[24m\u001b[4m4\u001b[24m835.\n",
       "\u001b[38;5;250m 9\u001b[39m Canada           Americas   \u001b[4m2\u001b[24m002    79.8  31\u001b[4m9\u001b[24m\u001b[4m0\u001b[24m\u001b[4m2\u001b[24m268    \u001b[4m3\u001b[24m\u001b[4m3\u001b[24m329.\n",
       "\u001b[38;5;250m10\u001b[39m Israel           Asia       \u001b[4m2\u001b[24m002    79.7   6\u001b[4m0\u001b[24m\u001b[4m2\u001b[24m\u001b[4m9\u001b[24m529    \u001b[4m2\u001b[24m\u001b[4m1\u001b[24m906."
      ]
     },
     "execution_count": null,
     "metadata": {},
     "output_type": "execute_result"
    }
   ],
   "source": [
    "data2002 |>\n",
    "  arrange(desc(lifeExp))"
   ]
  },
  {
   "cell_type": "code",
   "execution_count": 64,
   "id": "64ba9d32",
   "metadata": {},
   "outputs": [
    {
     "data": {
      "text/plain": [
       "\u001b[38;5;246m# A tibble: 10 × 6\u001b[39m\n",
       "   country          continent  year lifeExp       pop gdpPercap\n",
       "   \u001b[3m\u001b[38;5;246m<fct>\u001b[39m\u001b[23m            \u001b[3m\u001b[38;5;246m<fct>\u001b[39m\u001b[23m     \u001b[3m\u001b[38;5;246m<int>\u001b[39m\u001b[23m   \u001b[3m\u001b[38;5;246m<dbl>\u001b[39m\u001b[23m     \u001b[3m\u001b[38;5;246m<int>\u001b[39m\u001b[23m     \u001b[3m\u001b[38;5;246m<dbl>\u001b[39m\u001b[23m\n",
       "\u001b[38;5;250m 1\u001b[39m Iceland          Europe     \u001b[4m2\u001b[24m002    80.5    \u001b[4m2\u001b[24m\u001b[4m8\u001b[24m\u001b[4m8\u001b[24m030    \u001b[4m3\u001b[24m\u001b[4m1\u001b[24m163.\n",
       "\u001b[38;5;250m 2\u001b[39m Israel           Asia       \u001b[4m2\u001b[24m002    79.7   6\u001b[4m0\u001b[24m\u001b[4m2\u001b[24m\u001b[4m9\u001b[24m529    \u001b[4m2\u001b[24m\u001b[4m1\u001b[24m906.\n",
       "\u001b[38;5;250m 3\u001b[39m Hong Kong, China Asia       \u001b[4m2\u001b[24m002    81.5   6\u001b[4m7\u001b[24m\u001b[4m6\u001b[24m\u001b[4m2\u001b[24m476    \u001b[4m3\u001b[24m\u001b[4m0\u001b[24m209.\n",
       "\u001b[38;5;250m 4\u001b[39m Switzerland      Europe     \u001b[4m2\u001b[24m002    80.6   7\u001b[4m3\u001b[24m\u001b[4m6\u001b[24m\u001b[4m1\u001b[24m757    \u001b[4m3\u001b[24m\u001b[4m4\u001b[24m481.\n",
       "\u001b[38;5;250m 5\u001b[39m Sweden           Europe     \u001b[4m2\u001b[24m002    80.0   8\u001b[4m9\u001b[24m\u001b[4m5\u001b[24m\u001b[4m4\u001b[24m175    \u001b[4m2\u001b[24m\u001b[4m9\u001b[24m342.\n",
       "\u001b[38;5;250m 6\u001b[39m Australia        Oceania    \u001b[4m2\u001b[24m002    80.4  19\u001b[4m5\u001b[24m\u001b[4m4\u001b[24m\u001b[4m6\u001b[24m792    \u001b[4m3\u001b[24m\u001b[4m0\u001b[24m688.\n",
       "\u001b[38;5;250m 7\u001b[39m Canada           Americas   \u001b[4m2\u001b[24m002    79.8  31\u001b[4m9\u001b[24m\u001b[4m0\u001b[24m\u001b[4m2\u001b[24m268    \u001b[4m3\u001b[24m\u001b[4m3\u001b[24m329.\n",
       "\u001b[38;5;250m 8\u001b[39m Spain            Europe     \u001b[4m2\u001b[24m002    79.8  40\u001b[4m1\u001b[24m\u001b[4m5\u001b[24m\u001b[4m2\u001b[24m517    \u001b[4m2\u001b[24m\u001b[4m4\u001b[24m835.\n",
       "\u001b[38;5;250m 9\u001b[39m Italy            Europe     \u001b[4m2\u001b[24m002    80.2  57\u001b[4m9\u001b[24m\u001b[4m2\u001b[24m\u001b[4m6\u001b[24m999    \u001b[4m2\u001b[24m\u001b[4m7\u001b[24m968.\n",
       "\u001b[38;5;250m10\u001b[39m Japan            Asia       \u001b[4m2\u001b[24m002    82   127\u001b[4m0\u001b[24m\u001b[4m6\u001b[24m\u001b[4m5\u001b[24m841    \u001b[4m2\u001b[24m\u001b[4m8\u001b[24m605."
      ]
     },
     "execution_count": null,
     "metadata": {},
     "output_type": "execute_result"
    }
   ],
   "source": [
    "data2002 |>\n",
    "  arrange(pop, lifeExp)"
   ]
  },
  {
   "cell_type": "markdown",
   "id": "8647b4a4",
   "metadata": {},
   "source": [
    "## matate"
   ]
  },
  {
   "cell_type": "code",
   "execution_count": 69,
   "id": "a55812a2",
   "metadata": {},
   "outputs": [
    {
     "data": {
      "text/plain": [
       "\u001b[38;5;246m# A tibble: 10 × 7\u001b[39m\n",
       "   country     continent  year lifeExp      pop gdpPercap  gdpTotal\n",
       "   \u001b[3m\u001b[38;5;246m<fct>\u001b[39m\u001b[23m       \u001b[3m\u001b[38;5;246m<fct>\u001b[39m\u001b[23m     \u001b[3m\u001b[38;5;246m<int>\u001b[39m\u001b[23m   \u001b[3m\u001b[38;5;246m<dbl>\u001b[39m\u001b[23m    \u001b[3m\u001b[38;5;246m<int>\u001b[39m\u001b[23m     \u001b[3m\u001b[38;5;246m<dbl>\u001b[39m\u001b[23m     \u001b[3m\u001b[38;5;246m<dbl>\u001b[39m\u001b[23m\n",
       "\u001b[38;5;250m 1\u001b[39m Afghanistan Asia       \u001b[4m1\u001b[24m952    28.8  8\u001b[4m4\u001b[24m\u001b[4m2\u001b[24m\u001b[4m5\u001b[24m333      779.  8\u001b[4m4\u001b[24m\u001b[4m2\u001b[24m\u001b[4m6\u001b[24m112.\n",
       "\u001b[38;5;250m 2\u001b[39m Afghanistan Asia       \u001b[4m1\u001b[24m957    30.3  9\u001b[4m2\u001b[24m\u001b[4m4\u001b[24m\u001b[4m0\u001b[24m934      821.  9\u001b[4m2\u001b[24m\u001b[4m4\u001b[24m\u001b[4m1\u001b[24m755.\n",
       "\u001b[38;5;250m 3\u001b[39m Afghanistan Asia       \u001b[4m1\u001b[24m962    32.0 10\u001b[4m2\u001b[24m\u001b[4m6\u001b[24m\u001b[4m7\u001b[24m083      853. 10\u001b[4m2\u001b[24m\u001b[4m6\u001b[24m\u001b[4m7\u001b[24m936.\n",
       "\u001b[38;5;250m 4\u001b[39m Afghanistan Asia       \u001b[4m1\u001b[24m967    34.0 11\u001b[4m5\u001b[24m\u001b[4m3\u001b[24m\u001b[4m7\u001b[24m966      836. 11\u001b[4m5\u001b[24m\u001b[4m3\u001b[24m\u001b[4m8\u001b[24m802.\n",
       "\u001b[38;5;250m 5\u001b[39m Afghanistan Asia       \u001b[4m1\u001b[24m972    36.1 13\u001b[4m0\u001b[24m\u001b[4m7\u001b[24m\u001b[4m9\u001b[24m460      740. 13\u001b[4m0\u001b[24m\u001b[4m8\u001b[24m\u001b[4m0\u001b[24m200.\n",
       "\u001b[38;5;250m 6\u001b[39m Afghanistan Asia       \u001b[4m1\u001b[24m977    38.4 14\u001b[4m8\u001b[24m\u001b[4m8\u001b[24m\u001b[4m0\u001b[24m372      786. 14\u001b[4m8\u001b[24m\u001b[4m8\u001b[24m\u001b[4m1\u001b[24m158.\n",
       "\u001b[38;5;250m 7\u001b[39m Afghanistan Asia       \u001b[4m1\u001b[24m982    39.9 12\u001b[4m8\u001b[24m\u001b[4m8\u001b[24m\u001b[4m1\u001b[24m816      978. 12\u001b[4m8\u001b[24m\u001b[4m8\u001b[24m\u001b[4m2\u001b[24m794.\n",
       "\u001b[38;5;250m 8\u001b[39m Afghanistan Asia       \u001b[4m1\u001b[24m987    40.8 13\u001b[4m8\u001b[24m\u001b[4m6\u001b[24m\u001b[4m7\u001b[24m957      852. 13\u001b[4m8\u001b[24m\u001b[4m6\u001b[24m\u001b[4m8\u001b[24m809.\n",
       "\u001b[38;5;250m 9\u001b[39m Afghanistan Asia       \u001b[4m1\u001b[24m992    41.7 16\u001b[4m3\u001b[24m\u001b[4m1\u001b[24m\u001b[4m7\u001b[24m921      649. 16\u001b[4m3\u001b[24m\u001b[4m1\u001b[24m\u001b[4m8\u001b[24m570.\n",
       "\u001b[38;5;250m10\u001b[39m Afghanistan Asia       \u001b[4m1\u001b[24m997    41.8 22\u001b[4m2\u001b[24m\u001b[4m2\u001b[24m\u001b[4m7\u001b[24m415      635. 22\u001b[4m2\u001b[24m\u001b[4m2\u001b[24m\u001b[4m8\u001b[24m050."
      ]
     },
     "execution_count": null,
     "metadata": {},
     "output_type": "execute_result"
    }
   ],
   "source": [
    "gapminder |> \n",
    "  mutate(gdpTotal = gdpPercap + pop) |>\n",
    "  head(10)"
   ]
  },
  {
   "cell_type": "code",
   "execution_count": 66,
   "id": "ee642d0a",
   "metadata": {},
   "outputs": [
    {
     "data": {
      "text/plain": [
       "\u001b[38;5;246m# A tibble: 10 × 1\u001b[39m\n",
       "       gdpTotal\n",
       "          \u001b[3m\u001b[38;5;246m<dbl>\u001b[39m\u001b[23m\n",
       "\u001b[38;5;250m 1\u001b[39m  \u001b[4m6\u001b[24m567\u001b[4m0\u001b[24m\u001b[4m8\u001b[24m\u001b[4m6\u001b[24m330.\n",
       "\u001b[38;5;250m 2\u001b[39m  \u001b[4m7\u001b[24m585\u001b[4m4\u001b[24m\u001b[4m4\u001b[24m\u001b[4m8\u001b[24m670.\n",
       "\u001b[38;5;250m 3\u001b[39m  \u001b[4m8\u001b[24m758\u001b[4m8\u001b[24m\u001b[4m5\u001b[24m\u001b[4m5\u001b[24m797.\n",
       "\u001b[38;5;250m 4\u001b[39m  \u001b[4m9\u001b[24m648\u001b[4m0\u001b[24m\u001b[4m1\u001b[24m\u001b[4m4\u001b[24m150.\n",
       "\u001b[38;5;250m 5\u001b[39m  \u001b[4m9\u001b[24m678\u001b[4m5\u001b[24m\u001b[4m5\u001b[24m\u001b[4m3\u001b[24m274.\n",
       "\u001b[38;5;250m 6\u001b[39m \u001b[4m1\u001b[24m\u001b[4m1\u001b[24m697\u001b[4m6\u001b[24m\u001b[4m5\u001b[24m\u001b[4m9\u001b[24m231.\n",
       "\u001b[38;5;250m 7\u001b[39m \u001b[4m1\u001b[24m\u001b[4m2\u001b[24m598\u001b[4m5\u001b[24m\u001b[4m6\u001b[24m\u001b[4m3\u001b[24m401.\n",
       "\u001b[38;5;250m 8\u001b[39m \u001b[4m1\u001b[24m\u001b[4m1\u001b[24m820\u001b[4m9\u001b[24m\u001b[4m9\u001b[24m\u001b[4m0\u001b[24m309.\n",
       "\u001b[38;5;250m 9\u001b[39m \u001b[4m1\u001b[24m\u001b[4m0\u001b[24m595\u001b[4m9\u001b[24m\u001b[4m0\u001b[24m\u001b[4m1\u001b[24m589.\n",
       "\u001b[38;5;250m10\u001b[39m \u001b[4m1\u001b[24m\u001b[4m4\u001b[24m121\u001b[4m9\u001b[24m\u001b[4m9\u001b[24m\u001b[4m5\u001b[24m875."
      ]
     },
     "execution_count": null,
     "metadata": {},
     "output_type": "execute_result"
    }
   ],
   "source": [
    "gapminder |>\n",
    "    transmute(gdpTotal = gdpPercap * pop) |>\n",
    "    head(10)"
   ]
  },
  {
   "cell_type": "code",
   "execution_count": 70,
   "id": "4de12f72",
   "metadata": {},
   "outputs": [
    {
     "data": {
      "text/plain": [
       "\u001b[38;5;246m# A tibble: 10 × 9\u001b[39m\n",
       "   country     continent  year lifeExp      pop gdpPercap     gdpTotal countryU    lifeExpR\n",
       "   \u001b[3m\u001b[38;5;246m<fct>\u001b[39m\u001b[23m       \u001b[3m\u001b[38;5;246m<fct>\u001b[39m\u001b[23m     \u001b[3m\u001b[38;5;246m<int>\u001b[39m\u001b[23m   \u001b[3m\u001b[38;5;246m<dbl>\u001b[39m\u001b[23m    \u001b[3m\u001b[38;5;246m<int>\u001b[39m\u001b[23m     \u001b[3m\u001b[38;5;246m<dbl>\u001b[39m\u001b[23m        \u001b[3m\u001b[38;5;246m<dbl>\u001b[39m\u001b[23m \u001b[3m\u001b[38;5;246m<chr>\u001b[39m\u001b[23m          \u001b[3m\u001b[38;5;246m<dbl>\u001b[39m\u001b[23m\n",
       "\u001b[38;5;250m 1\u001b[39m Afghanistan Asia       \u001b[4m1\u001b[24m952    28.8  8\u001b[4m4\u001b[24m\u001b[4m2\u001b[24m\u001b[4m5\u001b[24m333      779.  \u001b[4m6\u001b[24m567\u001b[4m0\u001b[24m\u001b[4m8\u001b[24m\u001b[4m6\u001b[24m330. AFGHANISTAN       29\n",
       "\u001b[38;5;250m 2\u001b[39m Afghanistan Asia       \u001b[4m1\u001b[24m957    30.3  9\u001b[4m2\u001b[24m\u001b[4m4\u001b[24m\u001b[4m0\u001b[24m934      821.  \u001b[4m7\u001b[24m585\u001b[4m4\u001b[24m\u001b[4m4\u001b[24m\u001b[4m8\u001b[24m670. AFGHANISTAN       30\n",
       "\u001b[38;5;250m 3\u001b[39m Afghanistan Asia       \u001b[4m1\u001b[24m962    32.0 10\u001b[4m2\u001b[24m\u001b[4m6\u001b[24m\u001b[4m7\u001b[24m083      853.  \u001b[4m8\u001b[24m758\u001b[4m8\u001b[24m\u001b[4m5\u001b[24m\u001b[4m5\u001b[24m797. AFGHANISTAN       32\n",
       "\u001b[38;5;250m 4\u001b[39m Afghanistan Asia       \u001b[4m1\u001b[24m967    34.0 11\u001b[4m5\u001b[24m\u001b[4m3\u001b[24m\u001b[4m7\u001b[24m966      836.  \u001b[4m9\u001b[24m648\u001b[4m0\u001b[24m\u001b[4m1\u001b[24m\u001b[4m4\u001b[24m150. AFGHANISTAN       34\n",
       "\u001b[38;5;250m 5\u001b[39m Afghanistan Asia       \u001b[4m1\u001b[24m972    36.1 13\u001b[4m0\u001b[24m\u001b[4m7\u001b[24m\u001b[4m9\u001b[24m460      740.  \u001b[4m9\u001b[24m678\u001b[4m5\u001b[24m\u001b[4m5\u001b[24m\u001b[4m3\u001b[24m274. AFGHANISTAN       36\n",
       "\u001b[38;5;250m 6\u001b[39m Afghanistan Asia       \u001b[4m1\u001b[24m977    38.4 14\u001b[4m8\u001b[24m\u001b[4m8\u001b[24m\u001b[4m0\u001b[24m372      786. \u001b[4m1\u001b[24m\u001b[4m1\u001b[24m697\u001b[4m6\u001b[24m\u001b[4m5\u001b[24m\u001b[4m9\u001b[24m231. AFGHANISTAN       38\n",
       "\u001b[38;5;250m 7\u001b[39m Afghanistan Asia       \u001b[4m1\u001b[24m982    39.9 12\u001b[4m8\u001b[24m\u001b[4m8\u001b[24m\u001b[4m1\u001b[24m816      978. \u001b[4m1\u001b[24m\u001b[4m2\u001b[24m598\u001b[4m5\u001b[24m\u001b[4m6\u001b[24m\u001b[4m3\u001b[24m401. AFGHANISTAN       40\n",
       "\u001b[38;5;250m 8\u001b[39m Afghanistan Asia       \u001b[4m1\u001b[24m987    40.8 13\u001b[4m8\u001b[24m\u001b[4m6\u001b[24m\u001b[4m7\u001b[24m957      852. \u001b[4m1\u001b[24m\u001b[4m1\u001b[24m820\u001b[4m9\u001b[24m\u001b[4m9\u001b[24m\u001b[4m0\u001b[24m309. AFGHANISTAN       41\n",
       "\u001b[38;5;250m 9\u001b[39m Afghanistan Asia       \u001b[4m1\u001b[24m992    41.7 16\u001b[4m3\u001b[24m\u001b[4m1\u001b[24m\u001b[4m7\u001b[24m921      649. \u001b[4m1\u001b[24m\u001b[4m0\u001b[24m595\u001b[4m9\u001b[24m\u001b[4m0\u001b[24m\u001b[4m1\u001b[24m589. AFGHANISTAN       42\n",
       "\u001b[38;5;250m10\u001b[39m Afghanistan Asia       \u001b[4m1\u001b[24m997    41.8 22\u001b[4m2\u001b[24m\u001b[4m2\u001b[24m\u001b[4m7\u001b[24m415      635. \u001b[4m1\u001b[24m\u001b[4m4\u001b[24m121\u001b[4m9\u001b[24m\u001b[4m9\u001b[24m\u001b[4m5\u001b[24m875. AFGHANISTAN       42"
      ]
     },
     "execution_count": null,
     "metadata": {},
     "output_type": "execute_result"
    }
   ],
   "source": [
    "gapminder |>\n",
    "  mutate(gdpTotal = gdpPercap * pop,\n",
    "        countryU = toupper(country),\n",
    "        lifeExpR = round(lifeExp)) |>\n",
    "          head(10)"
   ]
  },
  {
   "cell_type": "code",
   "execution_count": 74,
   "id": "efdb32e4",
   "metadata": {},
   "outputs": [
    {
     "data": {
      "text/plain": [
       "\u001b[38;5;246m# A tibble: 6 × 6\u001b[39m\n",
       "  country continent  year lifeExp     pop gdpPercap\n",
       "  \u001b[3m\u001b[38;5;246m<fct>\u001b[39m\u001b[23m   \u001b[3m\u001b[38;5;246m<chr>\u001b[39m\u001b[23m     \u001b[3m\u001b[38;5;246m<int>\u001b[39m\u001b[23m   \u001b[3m\u001b[38;5;246m<dbl>\u001b[39m\u001b[23m   \u001b[3m\u001b[38;5;246m<int>\u001b[39m\u001b[23m     \u001b[3m\u001b[38;5;246m<dbl>\u001b[39m\u001b[23m\n",
       "\u001b[38;5;250m1\u001b[39m Albania EU         \u001b[4m1\u001b[24m952    55.2 1\u001b[4m2\u001b[24m\u001b[4m8\u001b[24m\u001b[4m2\u001b[24m697     \u001b[4m1\u001b[24m601.\n",
       "\u001b[38;5;250m2\u001b[39m Albania EU         \u001b[4m1\u001b[24m957    59.3 1\u001b[4m4\u001b[24m\u001b[4m7\u001b[24m\u001b[4m6\u001b[24m505     \u001b[4m1\u001b[24m942.\n",
       "\u001b[38;5;250m3\u001b[39m Albania EU         \u001b[4m1\u001b[24m962    64.8 1\u001b[4m7\u001b[24m\u001b[4m2\u001b[24m\u001b[4m8\u001b[24m137     \u001b[4m2\u001b[24m313.\n",
       "\u001b[38;5;250m4\u001b[39m Albania EU         \u001b[4m1\u001b[24m967    66.2 1\u001b[4m9\u001b[24m\u001b[4m8\u001b[24m\u001b[4m4\u001b[24m060     \u001b[4m2\u001b[24m760.\n",
       "\u001b[38;5;250m5\u001b[39m Albania EU         \u001b[4m1\u001b[24m972    67.7 2\u001b[4m2\u001b[24m\u001b[4m6\u001b[24m\u001b[4m3\u001b[24m554     \u001b[4m3\u001b[24m313.\n",
       "\u001b[38;5;250m6\u001b[39m Albania EU         \u001b[4m1\u001b[24m977    68.9 2\u001b[4m5\u001b[24m\u001b[4m0\u001b[24m\u001b[4m9\u001b[24m048     \u001b[4m3\u001b[24m533."
      ]
     },
     "execution_count": null,
     "metadata": {},
     "output_type": "execute_result"
    }
   ],
   "source": [
    "gapminder |>\n",
    "  mutate(continent = as.character(continent),\n",
    "        continent = ifelse(continent == \"Europe\", \"EU\", continent)) |>\n",
    "        filter(continent == \"EU\") |>\n",
    "          head()"
   ]
  },
  {
   "cell_type": "markdown",
   "id": "40bc0bcd",
   "metadata": {},
   "source": [
    "## rename"
   ]
  },
  {
   "cell_type": "code",
   "execution_count": 78,
   "id": "0c144288",
   "metadata": {},
   "outputs": [
    {
     "data": {
      "text/plain": [
       "\u001b[38;5;246m# A tibble: 1,704 × 6\u001b[39m\n",
       "   country     continent  year lifeExp      pop gdpPercap\n",
       "   \u001b[3m\u001b[38;5;246m<fct>\u001b[39m\u001b[23m       \u001b[3m\u001b[38;5;246m<fct>\u001b[39m\u001b[23m     \u001b[3m\u001b[38;5;246m<int>\u001b[39m\u001b[23m   \u001b[3m\u001b[38;5;246m<dbl>\u001b[39m\u001b[23m    \u001b[3m\u001b[38;5;246m<int>\u001b[39m\u001b[23m     \u001b[3m\u001b[38;5;246m<dbl>\u001b[39m\u001b[23m\n",
       "\u001b[38;5;250m 1\u001b[39m Afghanistan Asia       \u001b[4m1\u001b[24m952    28.8  8\u001b[4m4\u001b[24m\u001b[4m2\u001b[24m\u001b[4m5\u001b[24m333      779.\n",
       "\u001b[38;5;250m 2\u001b[39m Afghanistan Asia       \u001b[4m1\u001b[24m957    30.3  9\u001b[4m2\u001b[24m\u001b[4m4\u001b[24m\u001b[4m0\u001b[24m934      821.\n",
       "\u001b[38;5;250m 3\u001b[39m Afghanistan Asia       \u001b[4m1\u001b[24m962    32.0 10\u001b[4m2\u001b[24m\u001b[4m6\u001b[24m\u001b[4m7\u001b[24m083      853.\n",
       "\u001b[38;5;250m 4\u001b[39m Afghanistan Asia       \u001b[4m1\u001b[24m967    34.0 11\u001b[4m5\u001b[24m\u001b[4m3\u001b[24m\u001b[4m7\u001b[24m966      836.\n",
       "\u001b[38;5;250m 5\u001b[39m Afghanistan Asia       \u001b[4m1\u001b[24m972    36.1 13\u001b[4m0\u001b[24m\u001b[4m7\u001b[24m\u001b[4m9\u001b[24m460      740.\n",
       "\u001b[38;5;250m 6\u001b[39m Afghanistan Asia       \u001b[4m1\u001b[24m977    38.4 14\u001b[4m8\u001b[24m\u001b[4m8\u001b[24m\u001b[4m0\u001b[24m372      786.\n",
       "\u001b[38;5;250m 7\u001b[39m Afghanistan Asia       \u001b[4m1\u001b[24m982    39.9 12\u001b[4m8\u001b[24m\u001b[4m8\u001b[24m\u001b[4m1\u001b[24m816      978.\n",
       "\u001b[38;5;250m 8\u001b[39m Afghanistan Asia       \u001b[4m1\u001b[24m987    40.8 13\u001b[4m8\u001b[24m\u001b[4m6\u001b[24m\u001b[4m7\u001b[24m957      852.\n",
       "\u001b[38;5;250m 9\u001b[39m Afghanistan Asia       \u001b[4m1\u001b[24m992    41.7 16\u001b[4m3\u001b[24m\u001b[4m1\u001b[24m\u001b[4m7\u001b[24m921      649.\n",
       "\u001b[38;5;250m10\u001b[39m Afghanistan Asia       \u001b[4m1\u001b[24m997    41.8 22\u001b[4m2\u001b[24m\u001b[4m2\u001b[24m\u001b[4m7\u001b[24m415      635.\n",
       "\u001b[38;5;246m# ℹ 1,694 more rows\u001b[39m\n",
       "\u001b[38;5;246m# ℹ Use `print(n = ...)` to see more rows\u001b[39m"
      ]
     },
     "execution_count": null,
     "metadata": {},
     "output_type": "execute_result"
    }
   ],
   "source": [
    "gapminder"
   ]
  },
  {
   "cell_type": "code",
   "execution_count": 79,
   "id": "3750e698",
   "metadata": {},
   "outputs": [
    {
     "data": {
      "text/plain": [
       "\u001b[38;5;246m# A tibble: 6 × 6\u001b[39m\n",
       "  country     continent  year lifeExp population gdpPercap\n",
       "  \u001b[3m\u001b[38;5;246m<fct>\u001b[39m\u001b[23m       \u001b[3m\u001b[38;5;246m<fct>\u001b[39m\u001b[23m     \u001b[3m\u001b[38;5;246m<int>\u001b[39m\u001b[23m   \u001b[3m\u001b[38;5;246m<dbl>\u001b[39m\u001b[23m      \u001b[3m\u001b[38;5;246m<int>\u001b[39m\u001b[23m     \u001b[3m\u001b[38;5;246m<dbl>\u001b[39m\u001b[23m\n",
       "\u001b[38;5;250m1\u001b[39m Afghanistan Asia       \u001b[4m1\u001b[24m952    28.8    8\u001b[4m4\u001b[24m\u001b[4m2\u001b[24m\u001b[4m5\u001b[24m333      779.\n",
       "\u001b[38;5;250m2\u001b[39m Afghanistan Asia       \u001b[4m1\u001b[24m957    30.3    9\u001b[4m2\u001b[24m\u001b[4m4\u001b[24m\u001b[4m0\u001b[24m934      821.\n",
       "\u001b[38;5;250m3\u001b[39m Afghanistan Asia       \u001b[4m1\u001b[24m962    32.0   10\u001b[4m2\u001b[24m\u001b[4m6\u001b[24m\u001b[4m7\u001b[24m083      853.\n",
       "\u001b[38;5;250m4\u001b[39m Afghanistan Asia       \u001b[4m1\u001b[24m967    34.0   11\u001b[4m5\u001b[24m\u001b[4m3\u001b[24m\u001b[4m7\u001b[24m966      836.\n",
       "\u001b[38;5;250m5\u001b[39m Afghanistan Asia       \u001b[4m1\u001b[24m972    36.1   13\u001b[4m0\u001b[24m\u001b[4m7\u001b[24m\u001b[4m9\u001b[24m460      740.\n",
       "\u001b[38;5;250m6\u001b[39m Afghanistan Asia       \u001b[4m1\u001b[24m977    38.4   14\u001b[4m8\u001b[24m\u001b[4m8\u001b[24m\u001b[4m0\u001b[24m372      786."
      ]
     },
     "execution_count": null,
     "metadata": {},
     "output_type": "execute_result"
    }
   ],
   "source": [
    "gapminder |>\n",
    "  rename(population = pop) |>\n",
    "  head()"
   ]
  },
  {
   "cell_type": "markdown",
   "id": "402a4591",
   "metadata": {},
   "source": [
    "## grouping"
   ]
  },
  {
   "cell_type": "code",
   "execution_count": null,
   "id": "2bb84676",
   "metadata": {},
   "outputs": [],
   "source": [
    "## for 2002 avg lifeExp by continent + calculate countries count"
   ]
  },
  {
   "cell_type": "code",
   "execution_count": 80,
   "id": "6af3f9b0",
   "metadata": {},
   "outputs": [
    {
     "data": {
      "text/plain": [
       "\u001b[38;5;246m# A tibble: 5 × 3\u001b[39m\n",
       "  continent lifeExp2002 countriesCount\n",
       "  \u001b[3m\u001b[38;5;246m<fct>\u001b[39m\u001b[23m           \u001b[3m\u001b[38;5;246m<dbl>\u001b[39m\u001b[23m          \u001b[3m\u001b[38;5;246m<int>\u001b[39m\u001b[23m\n",
       "\u001b[38;5;250m1\u001b[39m Africa           53.3             52\n",
       "\u001b[38;5;250m2\u001b[39m Americas         72.4             25\n",
       "\u001b[38;5;250m3\u001b[39m Asia             69.2             33\n",
       "\u001b[38;5;250m4\u001b[39m Europe           76.7             30\n",
       "\u001b[38;5;250m5\u001b[39m Oceania          79.7              2"
      ]
     },
     "execution_count": null,
     "metadata": {},
     "output_type": "execute_result"
    }
   ],
   "source": [
    "gapminder |>\n",
    "  filter(year == 2002) |>\n",
    "  group_by(continent) |>\n",
    "  summarise(\n",
    "    lifeExp2002 = mean(lifeExp),\n",
    "    countriesCount = n()\n",
    "  )"
   ]
  },
  {
   "cell_type": "code",
   "execution_count": 81,
   "id": "cd10296e",
   "metadata": {},
   "outputs": [
    {
     "data": {
      "text/plain": [
       "\u001b[38;5;246m# A tibble: 5 × 4\u001b[39m\n",
       "  continent lifeExp2002 countriesCount   totalPop\n",
       "  \u001b[3m\u001b[38;5;246m<fct>\u001b[39m\u001b[23m           \u001b[3m\u001b[38;5;246m<dbl>\u001b[39m\u001b[23m          \u001b[3m\u001b[38;5;246m<int>\u001b[39m\u001b[23m      \u001b[3m\u001b[38;5;246m<dbl>\u001b[39m\u001b[23m\n",
       "\u001b[38;5;250m1\u001b[39m Africa           53.3             52  833\u001b[4m7\u001b[24m\u001b[4m2\u001b[24m\u001b[4m3\u001b[24m916\n",
       "\u001b[38;5;250m2\u001b[39m Americas         72.4             25  849\u001b[4m7\u001b[24m\u001b[4m7\u001b[24m\u001b[4m2\u001b[24m762\n",
       "\u001b[38;5;250m3\u001b[39m Asia             69.2             33 \u001b[4m3\u001b[24m601\u001b[4m8\u001b[24m\u001b[4m0\u001b[24m\u001b[4m2\u001b[24m203\n",
       "\u001b[38;5;250m4\u001b[39m Europe           76.7             30  578\u001b[4m2\u001b[24m\u001b[4m2\u001b[24m\u001b[4m3\u001b[24m869\n",
       "\u001b[38;5;250m5\u001b[39m Oceania          79.7              2   23\u001b[4m4\u001b[24m\u001b[4m5\u001b[24m\u001b[4m4\u001b[24m829"
      ]
     },
     "execution_count": null,
     "metadata": {},
     "output_type": "execute_result"
    }
   ],
   "source": [
    "gapminder |>\n",
    "  filter(year == 2002) |>\n",
    "  group_by(continent) |>\n",
    "  summarise(\n",
    "    lifeExp2002 = mean(lifeExp),\n",
    "    countriesCount = n(),\n",
    "    totalPop = sum(pop)\n",
    "  )"
   ]
  },
  {
   "cell_type": "code",
   "execution_count": 84,
   "id": "1696936b",
   "metadata": {},
   "outputs": [],
   "source": [
    "data = gapminder |>\n",
    "  filter(year == 2002) |>\n",
    "  group_by(continent) |>\n",
    "  summarise(\n",
    "    lifeExp2002 = mean(lifeExp),\n",
    "    countriesCount = n(),\n",
    "    totalPop = sum(pop)\n",
    "  ) |>\n",
    "    mutate(percPop = round(100*totalPop/sum(gapminder |> filter(year == 2002) |> select(pop) |> sum()), 2))"
   ]
  },
  {
   "cell_type": "code",
   "execution_count": 85,
   "id": "4de1dd19",
   "metadata": {},
   "outputs": [
    {
     "data": {
      "text/plain": [
       "[1] 99.99"
      ]
     },
     "execution_count": null,
     "metadata": {},
     "output_type": "execute_result"
    }
   ],
   "source": [
    "data |> select(percPop) |> sum()"
   ]
  },
  {
   "cell_type": "markdown",
   "id": "3e8a0050",
   "metadata": {},
   "source": [
    "## binding"
   ]
  },
  {
   "cell_type": "code",
   "execution_count": 86,
   "id": "12cf03f7",
   "metadata": {},
   "outputs": [
    {
     "name": "stdout",
     "output_type": "stream",
     "text": [
      "\u001b[1m\u001b[22m`summarise()` has grouped output by 'continent'. You can override using the `.groups` argument.\n"
     ]
    },
    {
     "data": {
      "text/plain": [
       "\u001b[38;5;246m# A tibble: 5 × 4\u001b[39m\n",
       "\u001b[38;5;246m# Groups:   continent [5]\u001b[39m\n",
       "  continent  year lifeExpAvg countriesCount\n",
       "  \u001b[3m\u001b[38;5;246m<fct>\u001b[39m\u001b[23m     \u001b[3m\u001b[38;5;246m<int>\u001b[39m\u001b[23m      \u001b[3m\u001b[38;5;246m<dbl>\u001b[39m\u001b[23m          \u001b[3m\u001b[38;5;246m<int>\u001b[39m\u001b[23m\n",
       "\u001b[38;5;250m1\u001b[39m Africa     \u001b[4m2\u001b[24m002       53.3             52\n",
       "\u001b[38;5;250m2\u001b[39m Americas   \u001b[4m2\u001b[24m002       72.4             25\n",
       "\u001b[38;5;250m3\u001b[39m Asia       \u001b[4m2\u001b[24m002       69.2             33\n",
       "\u001b[38;5;250m4\u001b[39m Europe     \u001b[4m2\u001b[24m002       76.7             30\n",
       "\u001b[38;5;250m5\u001b[39m Oceania    \u001b[4m2\u001b[24m002       79.7              2"
      ]
     },
     "execution_count": null,
     "metadata": {},
     "output_type": "execute_result"
    }
   ],
   "source": [
    "d2002 <- gapminder |>\n",
    "            filter(year == 2002) %>% \n",
    "            group_by(continent, year) %>% \n",
    "            summarise(\n",
    "                lifeExpAvg = mean(lifeExp),\n",
    "                countriesCount = n()\n",
    "            )\n",
    "head(d2002)"
   ]
  },
  {
   "cell_type": "code",
   "execution_count": 87,
   "id": "6d54c891",
   "metadata": {},
   "outputs": [
    {
     "name": "stdout",
     "output_type": "stream",
     "text": [
      "\u001b[1m\u001b[22m`summarise()` has grouped output by 'continent'. You can override using the `.groups` argument.\n"
     ]
    },
    {
     "data": {
      "text/plain": [
       "\u001b[38;5;246m# A tibble: 5 × 4\u001b[39m\n",
       "\u001b[38;5;246m# Groups:   continent [5]\u001b[39m\n",
       "  continent  year lifeExpAvg countriesCount\n",
       "  \u001b[3m\u001b[38;5;246m<fct>\u001b[39m\u001b[23m     \u001b[3m\u001b[38;5;246m<int>\u001b[39m\u001b[23m      \u001b[3m\u001b[38;5;246m<dbl>\u001b[39m\u001b[23m          \u001b[3m\u001b[38;5;246m<int>\u001b[39m\u001b[23m\n",
       "\u001b[38;5;250m1\u001b[39m Africa     \u001b[4m2\u001b[24m007       54.8             52\n",
       "\u001b[38;5;250m2\u001b[39m Americas   \u001b[4m2\u001b[24m007       73.6             25\n",
       "\u001b[38;5;250m3\u001b[39m Asia       \u001b[4m2\u001b[24m007       70.7             33\n",
       "\u001b[38;5;250m4\u001b[39m Europe     \u001b[4m2\u001b[24m007       77.6             30\n",
       "\u001b[38;5;250m5\u001b[39m Oceania    \u001b[4m2\u001b[24m007       80.7              2"
      ]
     },
     "execution_count": null,
     "metadata": {},
     "output_type": "execute_result"
    }
   ],
   "source": [
    "d2007 <- gapminder |>\n",
    "            filter(year == 2007) %>% \n",
    "            group_by(continent, year) %>% \n",
    "            summarise(\n",
    "                lifeExpAvg = mean(lifeExp),\n",
    "                countriesCount = n()\n",
    "            )\n",
    "head(d2007)"
   ]
  },
  {
   "cell_type": "code",
   "execution_count": 88,
   "id": "004fbdbe",
   "metadata": {},
   "outputs": [
    {
     "data": {
      "text/plain": [
       "\u001b[38;5;246m# A tibble: 10 × 4\u001b[39m\n",
       "\u001b[38;5;246m# Groups:   continent [5]\u001b[39m\n",
       "   continent  year lifeExpAvg countriesCount\n",
       "   \u001b[3m\u001b[38;5;246m<fct>\u001b[39m\u001b[23m     \u001b[3m\u001b[38;5;246m<int>\u001b[39m\u001b[23m      \u001b[3m\u001b[38;5;246m<dbl>\u001b[39m\u001b[23m          \u001b[3m\u001b[38;5;246m<int>\u001b[39m\u001b[23m\n",
       "\u001b[38;5;250m 1\u001b[39m Africa     \u001b[4m2\u001b[24m002       53.3             52\n",
       "\u001b[38;5;250m 2\u001b[39m Americas   \u001b[4m2\u001b[24m002       72.4             25\n",
       "\u001b[38;5;250m 3\u001b[39m Asia       \u001b[4m2\u001b[24m002       69.2             33\n",
       "\u001b[38;5;250m 4\u001b[39m Europe     \u001b[4m2\u001b[24m002       76.7             30\n",
       "\u001b[38;5;250m 5\u001b[39m Oceania    \u001b[4m2\u001b[24m002       79.7              2\n",
       "\u001b[38;5;250m 6\u001b[39m Africa     \u001b[4m2\u001b[24m007       54.8             52\n",
       "\u001b[38;5;250m 7\u001b[39m Americas   \u001b[4m2\u001b[24m007       73.6             25\n",
       "\u001b[38;5;250m 8\u001b[39m Asia       \u001b[4m2\u001b[24m007       70.7             33\n",
       "\u001b[38;5;250m 9\u001b[39m Europe     \u001b[4m2\u001b[24m007       77.6             30\n",
       "\u001b[38;5;250m10\u001b[39m Oceania    \u001b[4m2\u001b[24m007       80.7              2"
      ]
     },
     "execution_count": null,
     "metadata": {},
     "output_type": "execute_result"
    }
   ],
   "source": [
    "d2002 |> bind_rows(d2007)"
   ]
  },
  {
   "cell_type": "code",
   "execution_count": 89,
   "id": "23c2313f",
   "metadata": {},
   "outputs": [
    {
     "data": {
      "text/plain": [
       "\u001b[38;5;246m# A tibble: 5 × 4\u001b[39m\n",
       "\u001b[38;5;246m# Groups:   continent [5]\u001b[39m\n",
       "  continent  year lifeExpAvg countriesCount\n",
       "  \u001b[3m\u001b[38;5;246m<fct>\u001b[39m\u001b[23m     \u001b[3m\u001b[38;5;246m<int>\u001b[39m\u001b[23m      \u001b[3m\u001b[38;5;246m<dbl>\u001b[39m\u001b[23m          \u001b[3m\u001b[38;5;246m<int>\u001b[39m\u001b[23m\n",
       "\u001b[38;5;250m1\u001b[39m Africa     \u001b[4m2\u001b[24m002       53.3             52\n",
       "\u001b[38;5;250m2\u001b[39m Americas   \u001b[4m2\u001b[24m002       72.4             25\n",
       "\u001b[38;5;250m3\u001b[39m Asia       \u001b[4m2\u001b[24m002       69.2             33\n",
       "\u001b[38;5;250m4\u001b[39m Europe     \u001b[4m2\u001b[24m002       76.7             30\n",
       "\u001b[38;5;250m5\u001b[39m Oceania    \u001b[4m2\u001b[24m002       79.7              2"
      ]
     },
     "execution_count": null,
     "metadata": {},
     "output_type": "execute_result"
    }
   ],
   "source": [
    "head(d2002)"
   ]
  },
  {
   "cell_type": "code",
   "execution_count": 90,
   "id": "bf14b7c6",
   "metadata": {},
   "outputs": [
    {
     "name": "stdout",
     "output_type": "stream",
     "text": [
      "\u001b[1m\u001b[22m`summarise()` has grouped output by 'continent'. You can override using the `.groups` argument.\n"
     ]
    },
    {
     "data": {
      "text/plain": [
       "\u001b[38;5;246m# A tibble: 5 × 3\u001b[39m\n",
       "\u001b[38;5;246m# Groups:   continent [5]\u001b[39m\n",
       "  continent  year population\n",
       "  \u001b[3m\u001b[38;5;246m<fct>\u001b[39m\u001b[23m     \u001b[3m\u001b[38;5;246m<int>\u001b[39m\u001b[23m      \u001b[3m\u001b[38;5;246m<dbl>\u001b[39m\u001b[23m\n",
       "\u001b[38;5;250m1\u001b[39m Africa     \u001b[4m2\u001b[24m002  833\u001b[4m7\u001b[24m\u001b[4m2\u001b[24m\u001b[4m3\u001b[24m916\n",
       "\u001b[38;5;250m2\u001b[39m Americas   \u001b[4m2\u001b[24m002  849\u001b[4m7\u001b[24m\u001b[4m7\u001b[24m\u001b[4m2\u001b[24m762\n",
       "\u001b[38;5;250m3\u001b[39m Asia       \u001b[4m2\u001b[24m002 \u001b[4m3\u001b[24m601\u001b[4m8\u001b[24m\u001b[4m0\u001b[24m\u001b[4m2\u001b[24m203\n",
       "\u001b[38;5;250m4\u001b[39m Europe     \u001b[4m2\u001b[24m002  578\u001b[4m2\u001b[24m\u001b[4m2\u001b[24m\u001b[4m3\u001b[24m869\n",
       "\u001b[38;5;250m5\u001b[39m Oceania    \u001b[4m2\u001b[24m002   23\u001b[4m4\u001b[24m\u001b[4m5\u001b[24m\u001b[4m4\u001b[24m829"
      ]
     },
     "execution_count": null,
     "metadata": {},
     "output_type": "execute_result"
    }
   ],
   "source": [
    "d2002_new <- gapminder |>\n",
    "  filter(year == 2002) %>% \n",
    "        group_by(continent, year) %>% \n",
    "        summarise(\n",
    "            population = sum(pop),\n",
    "        )\n",
    "d2002_new"
   ]
  },
  {
   "cell_type": "code",
   "execution_count": 100,
   "id": "8bd9f8a5",
   "metadata": {},
   "outputs": [
    {
     "name": "stdout",
     "output_type": "stream",
     "text": [
      "\u001b[1m\u001b[22mAdding missing grouping variables: `continent`\n"
     ]
    },
    {
     "data": {
      "text/plain": [
       "\u001b[38;5;246m# A tibble: 5 × 2\u001b[39m\n",
       "\u001b[38;5;246m# Groups:   continent [5]\u001b[39m\n",
       "  continent population\n",
       "  \u001b[3m\u001b[38;5;246m<fct>\u001b[39m\u001b[23m          \u001b[3m\u001b[38;5;246m<dbl>\u001b[39m\u001b[23m\n",
       "\u001b[38;5;250m1\u001b[39m Africa     833\u001b[4m7\u001b[24m\u001b[4m2\u001b[24m\u001b[4m3\u001b[24m916\n",
       "\u001b[38;5;250m2\u001b[39m Americas   849\u001b[4m7\u001b[24m\u001b[4m7\u001b[24m\u001b[4m2\u001b[24m762\n",
       "\u001b[38;5;250m3\u001b[39m Asia      \u001b[4m3\u001b[24m601\u001b[4m8\u001b[24m\u001b[4m0\u001b[24m\u001b[4m2\u001b[24m203\n",
       "\u001b[38;5;250m4\u001b[39m Europe     578\u001b[4m2\u001b[24m\u001b[4m2\u001b[24m\u001b[4m3\u001b[24m869\n",
       "\u001b[38;5;250m5\u001b[39m Oceania     23\u001b[4m4\u001b[24m\u001b[4m5\u001b[24m\u001b[4m4\u001b[24m829"
      ]
     },
     "execution_count": null,
     "metadata": {},
     "output_type": "execute_result"
    }
   ],
   "source": [
    "d2002_new |> select(-c(continent, year))"
   ]
  },
  {
   "cell_type": "code",
   "execution_count": null,
   "id": "074b215b",
   "metadata": {},
   "outputs": [
    {
     "name": "stdout",
     "output_type": "stream",
     "text": [
      "\u001b[1m\u001b[22mAdding missing grouping variables: `continent`\n",
      "\u001b[1m\u001b[22mNew names:\n",
      "\u001b[36m•\u001b[39m `continent` -> `continent...1`\n",
      "\u001b[36m•\u001b[39m `continent` -> `continent...5`\n"
     ]
    },
    {
     "data": {
      "text/plain": [
       "\u001b[38;5;246m# A tibble: 5 × 6\u001b[39m\n",
       "  continent...1  year lifeExpAvg countriesCount continent...5 population\n",
       "  \u001b[3m\u001b[38;5;246m<fct>\u001b[39m\u001b[23m         \u001b[3m\u001b[38;5;246m<int>\u001b[39m\u001b[23m      \u001b[3m\u001b[38;5;246m<dbl>\u001b[39m\u001b[23m          \u001b[3m\u001b[38;5;246m<int>\u001b[39m\u001b[23m \u001b[3m\u001b[38;5;246m<fct>\u001b[39m\u001b[23m              \u001b[3m\u001b[38;5;246m<dbl>\u001b[39m\u001b[23m\n",
       "\u001b[38;5;250m1\u001b[39m Africa         \u001b[4m2\u001b[24m002       53.3             52 Africa         833\u001b[4m7\u001b[24m\u001b[4m2\u001b[24m\u001b[4m3\u001b[24m916\n",
       "\u001b[38;5;250m2\u001b[39m Americas       \u001b[4m2\u001b[24m002       72.4             25 Americas       849\u001b[4m7\u001b[24m\u001b[4m7\u001b[24m\u001b[4m2\u001b[24m762\n",
       "\u001b[38;5;250m3\u001b[39m Asia           \u001b[4m2\u001b[24m002       69.2             33 Asia          \u001b[4m3\u001b[24m601\u001b[4m8\u001b[24m\u001b[4m0\u001b[24m\u001b[4m2\u001b[24m203\n",
       "\u001b[38;5;250m4\u001b[39m Europe         \u001b[4m2\u001b[24m002       76.7             30 Europe         578\u001b[4m2\u001b[24m\u001b[4m2\u001b[24m\u001b[4m3\u001b[24m869\n",
       "\u001b[38;5;250m5\u001b[39m Oceania        \u001b[4m2\u001b[24m002       79.7              2 Oceania         23\u001b[4m4\u001b[24m\u001b[4m5\u001b[24m\u001b[4m4\u001b[24m829"
      ]
     },
     "execution_count": null,
     "metadata": {},
     "output_type": "execute_result"
    }
   ],
   "source": [
    "d2002 |> bind_cols(d2002_new |> dplyr::select(-continent, -year)) |>\n",
    "  select(-continent...5) |>\n",
    "  rename(continent = continent...1)"
   ]
  },
  {
   "cell_type": "code",
   "execution_count": 107,
   "id": "7dbf41e1",
   "metadata": {},
   "outputs": [
    {
     "data": {
      "text/plain": [
       "\u001b[38;5;246m# A tibble: 5 × 3\u001b[39m\n",
       "\u001b[38;5;246m# Groups:   continent [5]\u001b[39m\n",
       "  continent  year population\n",
       "  \u001b[3m\u001b[38;5;246m<fct>\u001b[39m\u001b[23m     \u001b[3m\u001b[38;5;246m<int>\u001b[39m\u001b[23m      \u001b[3m\u001b[38;5;246m<dbl>\u001b[39m\u001b[23m\n",
       "\u001b[38;5;250m1\u001b[39m Oceania    \u001b[4m2\u001b[24m002   23\u001b[4m4\u001b[24m\u001b[4m5\u001b[24m\u001b[4m4\u001b[24m829\n",
       "\u001b[38;5;250m2\u001b[39m Europe     \u001b[4m2\u001b[24m002  578\u001b[4m2\u001b[24m\u001b[4m2\u001b[24m\u001b[4m3\u001b[24m869\n",
       "\u001b[38;5;250m3\u001b[39m Africa     \u001b[4m2\u001b[24m002  833\u001b[4m7\u001b[24m\u001b[4m2\u001b[24m\u001b[4m3\u001b[24m916\n",
       "\u001b[38;5;250m4\u001b[39m Americas   \u001b[4m2\u001b[24m002  849\u001b[4m7\u001b[24m\u001b[4m7\u001b[24m\u001b[4m2\u001b[24m762\n",
       "\u001b[38;5;250m5\u001b[39m Asia       \u001b[4m2\u001b[24m002 \u001b[4m3\u001b[24m601\u001b[4m8\u001b[24m\u001b[4m0\u001b[24m\u001b[4m2\u001b[24m203"
      ]
     },
     "execution_count": null,
     "metadata": {},
     "output_type": "execute_result"
    }
   ],
   "source": [
    "d2002_new <- d2002_new |>\n",
    "  arrange(population)\n",
    "d2002_new"
   ]
  },
  {
   "cell_type": "code",
   "execution_count": 108,
   "id": "cf22fd8b",
   "metadata": {},
   "outputs": [
    {
     "name": "stdout",
     "output_type": "stream",
     "text": [
      "\u001b[1m\u001b[22mAdding missing grouping variables: `continent`\n",
      "\u001b[1m\u001b[22mNew names:\n",
      "\u001b[36m•\u001b[39m `continent` -> `continent...1`\n",
      "\u001b[36m•\u001b[39m `continent` -> `continent...5`\n"
     ]
    },
    {
     "data": {
      "text/plain": [
       "\u001b[38;5;246m# A tibble: 5 × 5\u001b[39m\n",
       "  continent  year lifeExpAvg countriesCount population\n",
       "  \u001b[3m\u001b[38;5;246m<fct>\u001b[39m\u001b[23m     \u001b[3m\u001b[38;5;246m<int>\u001b[39m\u001b[23m      \u001b[3m\u001b[38;5;246m<dbl>\u001b[39m\u001b[23m          \u001b[3m\u001b[38;5;246m<int>\u001b[39m\u001b[23m      \u001b[3m\u001b[38;5;246m<dbl>\u001b[39m\u001b[23m\n",
       "\u001b[38;5;250m1\u001b[39m Africa     \u001b[4m2\u001b[24m002       53.3             52   23\u001b[4m4\u001b[24m\u001b[4m5\u001b[24m\u001b[4m4\u001b[24m829\n",
       "\u001b[38;5;250m2\u001b[39m Americas   \u001b[4m2\u001b[24m002       72.4             25  578\u001b[4m2\u001b[24m\u001b[4m2\u001b[24m\u001b[4m3\u001b[24m869\n",
       "\u001b[38;5;250m3\u001b[39m Asia       \u001b[4m2\u001b[24m002       69.2             33  833\u001b[4m7\u001b[24m\u001b[4m2\u001b[24m\u001b[4m3\u001b[24m916\n",
       "\u001b[38;5;250m4\u001b[39m Europe     \u001b[4m2\u001b[24m002       76.7             30  849\u001b[4m7\u001b[24m\u001b[4m7\u001b[24m\u001b[4m2\u001b[24m762\n",
       "\u001b[38;5;250m5\u001b[39m Oceania    \u001b[4m2\u001b[24m002       79.7              2 \u001b[4m3\u001b[24m601\u001b[4m8\u001b[24m\u001b[4m0\u001b[24m\u001b[4m2\u001b[24m203"
      ]
     },
     "execution_count": null,
     "metadata": {},
     "output_type": "execute_result"
    }
   ],
   "source": [
    "d2002 |> bind_cols(d2002_new |> dplyr::select(-continent, -year)) |>\n",
    "  select(-continent...5) |>\n",
    "  rename(continent = continent...1)"
   ]
  },
  {
   "cell_type": "markdown",
   "id": "317b2b9d",
   "metadata": {},
   "source": [
    "## join"
   ]
  },
  {
   "cell_type": "code",
   "execution_count": 109,
   "id": "439b5c2f",
   "metadata": {},
   "outputs": [
    {
     "data": {
      "text/plain": [
       "\u001b[38;5;246m# A tibble: 5 × 4\u001b[39m\n",
       "  continent  year lifeExpAvg countriesCount\n",
       "  \u001b[3m\u001b[38;5;246m<fct>\u001b[39m\u001b[23m     \u001b[3m\u001b[38;5;246m<int>\u001b[39m\u001b[23m      \u001b[3m\u001b[38;5;246m<dbl>\u001b[39m\u001b[23m          \u001b[3m\u001b[38;5;246m<int>\u001b[39m\u001b[23m\n",
       "\u001b[38;5;250m1\u001b[39m Africa     \u001b[4m2\u001b[24m002       53.3             52\n",
       "\u001b[38;5;250m2\u001b[39m Americas   \u001b[4m2\u001b[24m002       72.4             25\n",
       "\u001b[38;5;250m3\u001b[39m Asia       \u001b[4m2\u001b[24m002       69.2             33\n",
       "\u001b[38;5;250m4\u001b[39m Europe     \u001b[4m2\u001b[24m002       76.7             30\n",
       "\u001b[38;5;250m5\u001b[39m Oceania    \u001b[4m2\u001b[24m002       79.7              2"
      ]
     },
     "execution_count": null,
     "metadata": {},
     "output_type": "execute_result"
    }
   ],
   "source": [
    "d2002 <- gapminder %>%\n",
    "            filter(year == 2002) %>% # year\n",
    "            group_by(continent, year) %>% # grouping condition\n",
    "            summarise(\n",
    "                lifeExpAvg = mean(lifeExp),\n",
    "                countriesCount = n(), # n() count of rows in group \n",
    "                .groups = 'drop'\n",
    "            )\n",
    "d2002 |> head()"
   ]
  },
  {
   "cell_type": "code",
   "execution_count": 116,
   "id": "770a9b87",
   "metadata": {},
   "outputs": [
    {
     "name": "stdout",
     "output_type": "stream",
     "text": [
      "\u001b[1m\u001b[22m`summarise()` has grouped output by 'continent'. You can override using the `.groups` argument.\n"
     ]
    },
    {
     "data": {
      "text/plain": [
       "\u001b[38;5;246m# A tibble: 5 × 2\u001b[39m\n",
       "\u001b[38;5;246m# Groups:   continent [5]\u001b[39m\n",
       "  continent   totalPop\n",
       "  \u001b[3m\u001b[38;5;246m<fct>\u001b[39m\u001b[23m          \u001b[3m\u001b[38;5;246m<dbl>\u001b[39m\u001b[23m\n",
       "\u001b[38;5;250m1\u001b[39m Oceania     23\u001b[4m4\u001b[24m\u001b[4m5\u001b[24m\u001b[4m4\u001b[24m829\n",
       "\u001b[38;5;250m2\u001b[39m Europe     578\u001b[4m2\u001b[24m\u001b[4m2\u001b[24m\u001b[4m3\u001b[24m869\n",
       "\u001b[38;5;250m3\u001b[39m Africa     833\u001b[4m7\u001b[24m\u001b[4m2\u001b[24m\u001b[4m3\u001b[24m916\n",
       "\u001b[38;5;250m4\u001b[39m Americas   849\u001b[4m7\u001b[24m\u001b[4m7\u001b[24m\u001b[4m2\u001b[24m762\n",
       "\u001b[38;5;250m5\u001b[39m Asia      \u001b[4m3\u001b[24m601\u001b[4m8\u001b[24m\u001b[4m0\u001b[24m\u001b[4m2\u001b[24m203"
      ]
     },
     "execution_count": null,
     "metadata": {},
     "output_type": "execute_result"
    }
   ],
   "source": [
    "grouped_data2002pop <- gapminder %>%\n",
    "    filter(year == 2002) %>% \n",
    "    group_by(continent, year) %>% \n",
    "    summarise(totalPop = sum(pop)) |>\n",
    "    arrange(totalPop) |> select(-year)\n",
    "\n",
    "grouped_data2002pop |> head()"
   ]
  },
  {
   "cell_type": "code",
   "execution_count": null,
   "id": "f07ac4fe",
   "metadata": {},
   "outputs": [
    {
     "data": {
      "text/plain": [
       "\u001b[38;5;246m# A tibble: 5 × 5\u001b[39m\n",
       "  continent  year lifeExpAvg countriesCount   totalPop\n",
       "  \u001b[3m\u001b[38;5;246m<fct>\u001b[39m\u001b[23m     \u001b[3m\u001b[38;5;246m<int>\u001b[39m\u001b[23m      \u001b[3m\u001b[38;5;246m<dbl>\u001b[39m\u001b[23m          \u001b[3m\u001b[38;5;246m<int>\u001b[39m\u001b[23m      \u001b[3m\u001b[38;5;246m<dbl>\u001b[39m\u001b[23m\n",
       "\u001b[38;5;250m1\u001b[39m Africa     \u001b[4m2\u001b[24m002       53.3             52  833\u001b[4m7\u001b[24m\u001b[4m2\u001b[24m\u001b[4m3\u001b[24m916\n",
       "\u001b[38;5;250m2\u001b[39m Americas   \u001b[4m2\u001b[24m002       72.4             25  849\u001b[4m7\u001b[24m\u001b[4m7\u001b[24m\u001b[4m2\u001b[24m762\n",
       "\u001b[38;5;250m3\u001b[39m Asia       \u001b[4m2\u001b[24m002       69.2             33 \u001b[4m3\u001b[24m601\u001b[4m8\u001b[24m\u001b[4m0\u001b[24m\u001b[4m2\u001b[24m203\n",
       "\u001b[38;5;250m4\u001b[39m Europe     \u001b[4m2\u001b[24m002       76.7             30  578\u001b[4m2\u001b[24m\u001b[4m2\u001b[24m\u001b[4m3\u001b[24m869\n",
       "\u001b[38;5;250m5\u001b[39m Oceania    \u001b[4m2\u001b[24m002       79.7              2   23\u001b[4m4\u001b[24m\u001b[4m5\u001b[24m\u001b[4m4\u001b[24m829"
      ]
     },
     "execution_count": null,
     "metadata": {},
     "output_type": "execute_result"
    }
   ],
   "source": [
    "joined_table <- d2002 |>\n",
    "  left_join(grouped_data2002pop, by = \"continent\")\n",
    "joined_table"
   ]
  }
 ],
 "metadata": {
  "language_info": {
   "name": "r"
  }
 },
 "nbformat": 4,
 "nbformat_minor": 5
}
