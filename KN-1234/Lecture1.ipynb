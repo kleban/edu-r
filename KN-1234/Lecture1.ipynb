{
 "cells": [
  {
   "cell_type": "markdown",
   "id": "77f36aad",
   "metadata": {},
   "source": [
    "# Лекція 1. Вступ до програмування в R"
   ]
  },
  {
   "cell_type": "markdown",
   "id": "70264b6b",
   "metadata": {},
   "source": [
    "## 0. Help"
   ]
  },
  {
   "cell_type": "code",
   "execution_count": 3,
   "id": "607c9f97",
   "metadata": {},
   "outputs": [],
   "source": [
    "help(intersect)"
   ]
  },
  {
   "cell_type": "code",
   "execution_count": 4,
   "id": "d70d8b62",
   "metadata": {},
   "outputs": [
    {
     "data": {
      "text/plain": [
       "[1] 3 5 7 2 1"
      ]
     },
     "execution_count": null,
     "metadata": {},
     "output_type": "execute_result"
    }
   ],
   "source": [
    "x <- c(3,5,7,8,2,1)\n",
    "y <- c(4,1,5,7,1,3,2,1)\n",
    "intersect(x,y)"
   ]
  },
  {
   "cell_type": "code",
   "execution_count": 5,
   "id": "8dfad466",
   "metadata": {},
   "outputs": [],
   "source": [
    "help(package=\"stats\")"
   ]
  },
  {
   "cell_type": "code",
   "execution_count": 6,
   "id": "8b6dd5ae",
   "metadata": {},
   "outputs": [],
   "source": [
    "help(mean)"
   ]
  },
  {
   "cell_type": "markdown",
   "id": "01b29111",
   "metadata": {},
   "source": [
    "## 1. Пакети"
   ]
  },
  {
   "cell_type": "code",
   "execution_count": 7,
   "id": "ca07d765",
   "metadata": {},
   "outputs": [
    {
     "name": "stderr",
     "output_type": "stream",
     "text": [
      "trying URL 'https://cran.rstudio.com/bin/windows/contrib/4.5/fun_0.3.zip'\n",
      "Content type 'application/zip' length 153168 bytes (149 KB)\n",
      "downloaded 149 KB\n",
      "\n"
     ]
    },
    {
     "name": "stdout",
     "output_type": "stream",
     "text": [
      "package ‘fun’ successfully unpacked and MD5 sums checked\n",
      "\n",
      "The downloaded binary packages are in\n",
      "\tC:\\Users\\Yura\\AppData\\Local\\Temp\\RtmpSyeRer\\downloaded_packages\n"
     ]
    }
   ],
   "source": [
    "install.packages(\"fun\")"
   ]
  },
  {
   "cell_type": "code",
   "execution_count": 8,
   "id": "9cb0b1ea",
   "metadata": {},
   "outputs": [],
   "source": [
    "library(fun)"
   ]
  },
  {
   "cell_type": "code",
   "execution_count": null,
   "id": "7a598a1d",
   "metadata": {},
   "outputs": [],
   "source": [
    "print(\"text\")"
   ]
  },
  {
   "cell_type": "markdown",
   "id": "456d9fea",
   "metadata": {},
   "source": [
    "## 1. Типи даних та змінні"
   ]
  },
  {
   "cell_type": "code",
   "execution_count": null,
   "id": "3eb274cb",
   "metadata": {},
   "outputs": [],
   "source": []
  },
  {
   "cell_type": "code",
   "execution_count": null,
   "id": "4e20d594",
   "metadata": {},
   "outputs": [],
   "source": []
  }
 ],
 "metadata": {
  "language_info": {
   "name": "r"
  }
 },
 "nbformat": 4,
 "nbformat_minor": 5
}
