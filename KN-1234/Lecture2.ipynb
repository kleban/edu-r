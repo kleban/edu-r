{
 "cells": [
  {
   "cell_type": "markdown",
   "id": "37d8d89a",
   "metadata": {},
   "source": [
    "# Lecture 2"
   ]
  },
  {
   "cell_type": "code",
   "execution_count": 1,
   "id": "6c7e3d59",
   "metadata": {},
   "outputs": [],
   "source": [
    "library(xlsx)"
   ]
  },
  {
   "cell_type": "code",
   "execution_count": 3,
   "id": "6cf959c9",
   "metadata": {},
   "outputs": [
    {
     "data": {
      "text/plain": [
       "   customerID gender SeniorCitizen Partner Dependents tenure PhoneService    MultipleLines InternetService\n",
       "1  7010-BRBUU   Male             0     Yes        Yes     72          Yes              Yes              No\n",
       "2  9688-YGXVR Female             0      No         No     44          Yes               No     Fiber optic\n",
       "3  9286-DOJGF Female             1     Yes         No     38          Yes              Yes     Fiber optic\n",
       "4  6994-KERXL   Male             0      No         No      4          Yes               No             DSL\n",
       "5  2181-UAESM   Male             0      No         No      2          Yes               No             DSL\n",
       "6  4312-GVYNH Female             0     Yes         No     70           No No phone service             DSL\n",
       "7  2495-KZNFB Female             0      No         No     33          Yes              Yes     Fiber optic\n",
       "8  4367-NHWMM Female             0      No         No      1           No No phone service             DSL\n",
       "9  8898-KASCD   Male             0      No         No     39           No No phone service             DSL\n",
       "10 8016-NCFVO   Male             1      No         No     55          Yes              Yes     Fiber optic\n",
       "11 4578-PHJYZ   Male             0     Yes        Yes     52          Yes               No             DSL\n",
       "12 2091-MJTFX Female             0     Yes        Yes     30           No No phone service             DSL\n",
       "13 2277-DJJDL   Male             1     Yes         No     60          Yes              Yes     Fiber optic\n",
       "14 2511-MORQY   Male             0     Yes        Yes     50          Yes              Yes             DSL\n",
       "15 2731-GJRDG Female             0      No         No     32          Yes              Yes     Fiber optic\n",
       "16 1784-EZDKJ   Male             0     Yes         No     51          Yes              Yes     Fiber optic\n",
       "17 2468-SJFLM   Male             0      No         No      1          Yes               No     Fiber optic\n",
       "18 5115-SQAAU Female             0     Yes        Yes     69          Yes              Yes              No\n",
       "19 8708-XPXHZ Female             0     Yes        Yes     42          Yes              Yes     Fiber optic\n",
       "20 0601-WZHJF   Male             0     Yes         No     14           No No phone service             DSL\n",
       "21 0463-TXOAK   Male             0      No        Yes     52          Yes              Yes              No\n",
       "22 4683-WYDOU   Male             0     Yes         No     62          Yes              Yes     Fiber optic\n",
       "23 1166-PQLGG Female             0     Yes        Yes     72          Yes               No              No\n",
       "24 0963-ZBDRN   Male             0      No         No     32          Yes               No     Fiber optic\n",
       "25 4871-JTKJF Female             1      No         No      1          Yes               No     Fiber optic\n",
       "26 7173-TETGO Female             1     Yes         No     72          Yes              Yes     Fiber optic\n",
       "27 4193-ORFCL Female             1      No         No      1          Yes               No             DSL\n",
       "28 2692-PFYTJ Female             0      No         No      1          Yes              Yes              No\n",
       "29 2369-UAPKZ   Male             0      No         No      5          Yes              Yes     Fiber optic\n",
       "30 5193-QLVZB   Male             0      No         No     63          Yes              Yes     Fiber optic\n",
       "31 0379-DJQHR   Male             0     Yes        Yes     67          Yes               No             DSL\n",
       "32 4657-FWVFY Female             0     Yes        Yes     40          Yes              Yes     Fiber optic\n",
       "33 0623-EJQEG   Male             0      No         No     65          Yes              Yes     Fiber optic\n",
       "34 1699-TLDLZ Female             0     Yes        Yes     16          Yes               No              No\n",
       "35 4501-UYKBC Female             1      No         No     46          Yes              Yes             DSL\n",
       "36 8158-WPEZG   Male             0      No         No     11           No No phone service             DSL\n",
       "37 9732-EQMWY Female             0     Yes         No     49          Yes               No     Fiber optic\n",
       "38 1099-BTKWT Female             0     Yes         No     68           No No phone service             DSL\n",
       "39 4815-TUMEQ Female             0      No         No     10          Yes               No              No\n",
       "40 6407-UTSLV Female             1      No         No      2          Yes               No     Fiber optic\n",
       "41 0018-NYROU Female             0     Yes         No      5          Yes               No     Fiber optic\n",
       "42 4632-XJMEX   Male             0      No        Yes     53          Yes               No             DSL\n",
       "43 1409-PHXTF   Male             1     Yes         No     54          Yes              Yes     Fiber optic\n",
       "44 8229-TNIQA Female             0      No         No      4          Yes               No             DSL\n",
       "45 0529-ONKER   Male             1      No         No     15          Yes              Yes     Fiber optic\n",
       "46 3675-YDUPJ   Male             0      No         No     10          Yes               No              No\n",
       "47 4484-CGXFK Female             0      No         No      3          Yes               No             DSL\n",
       "        OnlineSecurity        OnlineBackup    DeviceProtection         TechSupport         StreamingTV\n",
       "1  No internet service No internet service No internet service No internet service No internet service\n",
       "2                   No                 Yes                 Yes                  No                 Yes\n",
       "3                   No                  No                  No                  No                  No\n",
       "4                   No                  No                  No                  No                  No\n",
       "5                  Yes                  No                 Yes                  No                  No\n",
       "6                  Yes                  No                 Yes                 Yes                  No\n",
       "7                  Yes                  No                  No                  No                  No\n",
       "8                   No                  No                  No                  No                  No\n",
       "9                   No                  No                 Yes                 Yes                  No\n",
       "10                 Yes                 Yes                 Yes                 Yes                 Yes\n",
       "11                  No                 Yes                 Yes                 Yes                 Yes\n",
       "12                  No                  No                  No                 Yes                 Yes\n",
       "13                  No                  No                  No                 Yes                 Yes\n",
       "14                  No                  No                 Yes                  No                  No\n",
       "15                 Yes                  No                 Yes                 Yes                 Yes\n",
       "16                  No                 Yes                 Yes                  No                 Yes\n",
       "17                  No                  No                  No                 Yes                  No\n",
       "18 No internet service No internet service No internet service No internet service No internet service\n",
       "19                  No                  No                  No                  No                 Yes\n",
       "20                  No                  No                  No                  No                 Yes\n",
       "21 No internet service No internet service No internet service No internet service No internet service\n",
       "22                  No                  No                 Yes                 Yes                 Yes\n",
       "23 No internet service No internet service No internet service No internet service No internet service\n",
       "24                  No                  No                  No                 Yes                 Yes\n",
       "25                  No                  No                  No                  No                  No\n",
       "26                 Yes                  No                  No                  No                  No\n",
       "27                  No                  No                  No                  No                  No\n",
       "28 No internet service No internet service No internet service No internet service No internet service\n",
       "29                  No                 Yes                 Yes                  No                 Yes\n",
       "30                  No                 Yes                 Yes                  No                 Yes\n",
       "31                 Yes                 Yes                 Yes                  No                 Yes\n",
       "32                  No                 Yes                 Yes                  No                 Yes\n",
       "33                 Yes                  No                  No                 Yes                  No\n",
       "34 No internet service No internet service No internet service No internet service No internet service\n",
       "35                  No                  No                 Yes                 Yes                  No\n",
       "36                  No                 Yes                  No                 Yes                  No\n",
       "37                  No                 Yes                 Yes                  No                 Yes\n",
       "38                 Yes                  No                 Yes                  No                 Yes\n",
       "39 No internet service No internet service No internet service No internet service No internet service\n",
       "40                  No                 Yes                  No                  No                 Yes\n",
       "41                  No                  No                  No                  No                  No\n",
       "42                 Yes                 Yes                  No                 Yes                  No\n",
       "43                  No                 Yes                 Yes                 Yes                 Yes\n",
       "44                  No                  No                  No                  No                  No\n",
       "45                  No                  No                  No                  No                  No\n",
       "46 No internet service No internet service No internet service No internet service No internet service\n",
       "47                  No                  No                  No                  No                  No\n",
       "       StreamingMovies       Contract PaperlessBilling             PaymentMethod MonthlyCharges TotalCharges\n",
       "1  No internet service       Two year               No   Credit card (automatic)          24.10      1734.65\n",
       "2                   No Month-to-month              Yes   Credit card (automatic)          88.15      3973.20\n",
       "3                   No Month-to-month              Yes Bank transfer (automatic)          74.95      2869.85\n",
       "4                  Yes Month-to-month              Yes          Electronic check          55.90       238.50\n",
       "5                   No Month-to-month               No          Electronic check          53.45       119.50\n",
       "6                  Yes       Two year              Yes Bank transfer (automatic)          49.85      3370.20\n",
       "7                  Yes Month-to-month              Yes          Electronic check          90.65      2989.60\n",
       "8                   No Month-to-month              Yes              Mailed check          24.90        24.90\n",
       "9                   No       One year               No              Mailed check          35.55      1309.15\n",
       "10                 Yes Month-to-month              Yes          Electronic check         116.50      6382.55\n",
       "11                  No       One year              Yes          Electronic check          68.75      3482.85\n",
       "12                 Yes Month-to-month               No   Credit card (automatic)          51.20      1561.50\n",
       "13                 Yes Month-to-month              Yes          Electronic check          99.00      6017.90\n",
       "14                  No       One year               No Bank transfer (automatic)          54.90      2614.10\n",
       "15                 Yes       One year              Yes Bank transfer (automatic)         109.55      3608.00\n",
       "16                 Yes       One year              Yes Bank transfer (automatic)         106.80      5498.80\n",
       "17                  No Month-to-month              Yes              Mailed check          74.30        74.30\n",
       "18 No internet service       Two year              Yes Bank transfer (automatic)          25.60      1673.40\n",
       "19                 Yes Month-to-month              Yes          Electronic check          94.20      4186.30\n",
       "20                 Yes Month-to-month               No          Electronic check          46.35       667.70\n",
       "21 No internet service       Two year               No   Credit card (automatic)          25.60      1334.50\n",
       "22                 Yes       Two year              Yes Bank transfer (automatic)         107.60      6912.70\n",
       "23 No internet service       Two year               No Bank transfer (automatic)          19.55      1463.45\n",
       "24                 Yes Month-to-month              Yes          Electronic check          96.20      3183.40\n",
       "25                  No Month-to-month              Yes          Electronic check          69.65        69.65\n",
       "26                  No       Two year               No Bank transfer (automatic)          78.50      5602.25\n",
       "27                  No Month-to-month               No              Mailed check          45.10        45.10\n",
       "28 No internet service Month-to-month              Yes              Mailed check          25.75        25.75\n",
       "29                 Yes Month-to-month               No              Mailed check         104.10       541.90\n",
       "30                 Yes       Two year              Yes Bank transfer (automatic)         104.75      6536.50\n",
       "31                 Yes       Two year               No   Credit card (automatic)          81.35      5398.60\n",
       "32                  No Month-to-month              Yes   Credit card (automatic)          96.35      3915.40\n",
       "33                 Yes       One year               No          Electronic check          93.55      6069.25\n",
       "34 No internet service       Two year               No              Mailed check          19.70       301.55\n",
       "35                 Yes       One year              Yes   Credit card (automatic)          69.10      3255.35\n",
       "36                  No Month-to-month              Yes          Electronic check          35.65       425.10\n",
       "37                 Yes Month-to-month               No          Electronic check          99.40      5025.00\n",
       "38                 Yes       One year              Yes          Electronic check          54.40      3723.65\n",
       "39 No internet service       One year              Yes              Mailed check          19.30       185.20\n",
       "40                  No Month-to-month              Yes Bank transfer (automatic)          83.80       163.70\n",
       "41                  No Month-to-month              Yes          Electronic check          68.95       351.50\n",
       "42                  No       One year               No   Credit card (automatic)          62.85      3419.50\n",
       "43                 Yes       Two year              Yes          Electronic check         110.45      6077.75\n",
       "44                  No Month-to-month              Yes              Mailed check          45.30       196.95\n",
       "45                  No Month-to-month               No          Electronic check          75.65      1146.65\n",
       "46 No internet service Month-to-month              Yes              Mailed check          19.85       193.05\n",
       "47                 Yes Month-to-month              Yes          Electronic check          55.30       196.15\n",
       "   Churn\n",
       "1     No\n",
       "2     No\n",
       "3    Yes\n",
       "4     No\n",
       "5     No\n",
       "6     No\n",
       "7     No\n",
       "8     No\n",
       "9     No\n",
       "10    No\n",
       "11    No\n",
       "12   Yes\n",
       "13    No\n",
       "14    No\n",
       "15    No\n",
       "16    No\n",
       "17    No\n",
       "18    No\n",
       "19   Yes\n",
       "20   Yes\n",
       "21    No\n",
       "22    No\n",
       "23    No\n",
       "24   Yes\n",
       "25   Yes\n",
       "26    No\n",
       "27   Yes\n",
       "28    No\n",
       "29   Yes\n",
       "30    No\n",
       "31    No\n",
       "32    No\n",
       "33    No\n",
       "34    No\n",
       "35    No\n",
       "36    No\n",
       "37    No\n",
       "38    No\n",
       "39    No\n",
       "40    No\n",
       "41    No\n",
       "42    No\n",
       "43    No\n",
       "44   Yes\n",
       "45   Yes\n",
       "46    No\n",
       "47   Yes\n",
       " [ reached 'max' / getOption(\"max.print\") -- omitted 52 rows ]"
      ]
     },
     "execution_count": null,
     "metadata": {},
     "output_type": "execute_result"
    }
   ],
   "source": [
    "data <- read.xlsx(\"data/telecom_users.xlsx\", sheetIndex = 1, endRow = 100)\n",
    "data"
   ]
  },
  {
   "cell_type": "code",
   "execution_count": 4,
   "id": "b40bf732",
   "metadata": {},
   "outputs": [
    {
     "name": "stdout",
     "output_type": "stream",
     "text": [
      "\n",
      "Attaching package: ‘dplyr’\n",
      "\n",
      "The following objects are masked from ‘package:stats’:\n",
      "\n",
      "    filter, lag\n",
      "\n",
      "The following objects are masked from ‘package:base’:\n",
      "\n",
      "    intersect, setdiff, setequal, union\n",
      "\n"
     ]
    },
    {
     "data": {
      "text/plain": [
       "   customerID gender SeniorCitizen Partner Dependents tenure PhoneService MultipleLines InternetService\n",
       "1  9286-DOJGF Female             1     Yes         No     38          Yes           Yes     Fiber optic\n",
       "2  8016-NCFVO   Male             1      No         No     55          Yes           Yes     Fiber optic\n",
       "3  2277-DJJDL   Male             1     Yes         No     60          Yes           Yes     Fiber optic\n",
       "4  4871-JTKJF Female             1      No         No      1          Yes            No     Fiber optic\n",
       "5  7173-TETGO Female             1     Yes         No     72          Yes           Yes     Fiber optic\n",
       "6  4193-ORFCL Female             1      No         No      1          Yes            No             DSL\n",
       "7  4501-UYKBC Female             1      No         No     46          Yes           Yes             DSL\n",
       "8  6407-UTSLV Female             1      No         No      2          Yes            No     Fiber optic\n",
       "9  1409-PHXTF   Male             1     Yes         No     54          Yes           Yes     Fiber optic\n",
       "10 0529-ONKER   Male             1      No         No     15          Yes           Yes     Fiber optic\n",
       "11 9300-AGZNL   Male             1      No         No      1          Yes           Yes     Fiber optic\n",
       "12 7216-EWTRS Female             1     Yes         No      1          Yes           Yes     Fiber optic\n",
       "13 4468-KAZHE Female             1     Yes         No     20          Yes            No             DSL\n",
       "14 8623-ULFNQ Female             1      No         No     26          Yes           Yes             DSL\n",
       "15 9317-WZPGV Female             1      No         No      2          Yes            No     Fiber optic\n",
       "16 6683-VLCTZ   Male             1      No         No     20          Yes           Yes     Fiber optic\n",
       "17 2277-VWCNI Female             1      No         No      4          Yes           Yes             DSL\n",
       "18 4513-CXYIX Female             1     Yes         No     71          Yes           Yes     Fiber optic\n",
       "19 8075-GXIUB   Male             1     Yes         No      9          Yes            No              No\n",
       "20 7225-CBZPL   Male             1     Yes         No     17          Yes           Yes     Fiber optic\n",
       "21 8414-MYSHR   Male             1      No         No      5          Yes            No     Fiber optic\n",
       "22 9274-CNFMO   Male             1     Yes         No      4          Yes           Yes     Fiber optic\n",
       "        OnlineSecurity        OnlineBackup    DeviceProtection         TechSupport         StreamingTV\n",
       "1                   No                  No                  No                  No                  No\n",
       "2                  Yes                 Yes                 Yes                 Yes                 Yes\n",
       "3                   No                  No                  No                 Yes                 Yes\n",
       "4                   No                  No                  No                  No                  No\n",
       "5                  Yes                  No                  No                  No                  No\n",
       "6                   No                  No                  No                  No                  No\n",
       "7                   No                  No                 Yes                 Yes                  No\n",
       "8                   No                 Yes                  No                  No                 Yes\n",
       "9                   No                 Yes                 Yes                 Yes                 Yes\n",
       "10                  No                  No                  No                  No                  No\n",
       "11                  No                  No                  No                  No                 Yes\n",
       "12                  No                  No                 Yes                  No                 Yes\n",
       "13                  No                 Yes                  No                  No                  No\n",
       "14                  No                  No                  No                 Yes                  No\n",
       "15                  No                  No                  No                  No                  No\n",
       "16                  No                  No                 Yes                  No                 Yes\n",
       "17                  No                  No                  No                  No                  No\n",
       "18                 Yes                  No                  No                  No                  No\n",
       "19 No internet service No internet service No internet service No internet service No internet service\n",
       "20                  No                  No                  No                  No                 Yes\n",
       "21                  No                  No                  No                  No                 Yes\n",
       "22                  No                  No                  No                  No                  No\n",
       "       StreamingMovies       Contract PaperlessBilling             PaymentMethod MonthlyCharges TotalCharges\n",
       "1                   No Month-to-month              Yes Bank transfer (automatic)          74.95      2869.85\n",
       "2                  Yes Month-to-month              Yes          Electronic check         116.50      6382.55\n",
       "3                  Yes Month-to-month              Yes          Electronic check          99.00      6017.90\n",
       "4                   No Month-to-month              Yes          Electronic check          69.65        69.65\n",
       "5                   No       Two year               No Bank transfer (automatic)          78.50      5602.25\n",
       "6                   No Month-to-month               No              Mailed check          45.10        45.10\n",
       "7                  Yes       One year              Yes   Credit card (automatic)          69.10      3255.35\n",
       "8                   No Month-to-month              Yes Bank transfer (automatic)          83.80       163.70\n",
       "9                  Yes       Two year              Yes          Electronic check         110.45      6077.75\n",
       "10                  No Month-to-month               No          Electronic check          75.65      1146.65\n",
       "11                 Yes Month-to-month              Yes          Electronic check          94.00        94.00\n",
       "12                 Yes Month-to-month              Yes          Electronic check         100.80       100.80\n",
       "13                 Yes Month-to-month              Yes          Electronic check          60.00      1259.35\n",
       "14                 Yes Month-to-month              Yes          Electronic check          66.05      1652.40\n",
       "15                 Yes Month-to-month              Yes Bank transfer (automatic)          79.75       159.40\n",
       "16                 Yes Month-to-month              Yes          Electronic check          98.55      1842.80\n",
       "17                  No Month-to-month               No              Mailed check          48.75       179.85\n",
       "18                  No       Two year              Yes   Credit card (automatic)          80.70      5676.00\n",
       "19 No internet service       One year               No   Credit card (automatic)          19.85       183.15\n",
       "20                 Yes Month-to-month              Yes          Electronic check          94.80      1563.90\n",
       "21                 Yes Month-to-month              Yes          Electronic check          91.40       449.75\n",
       "22                  No Month-to-month               No          Electronic check          74.95       308.70\n",
       "   Churn\n",
       "1    Yes\n",
       "2     No\n",
       "3     No\n",
       "4    Yes\n",
       "5     No\n",
       "6    Yes\n",
       "7     No\n",
       "8     No\n",
       "9     No\n",
       "10   Yes\n",
       "11   Yes\n",
       "12   Yes\n",
       "13    No\n",
       "14    No\n",
       "15   Yes\n",
       "16   Yes\n",
       "17    No\n",
       "18    No\n",
       "19    No\n",
       "20    No\n",
       "21   Yes\n",
       "22   Yes"
      ]
     },
     "execution_count": null,
     "metadata": {},
     "output_type": "execute_result"
    }
   ],
   "source": [
    "library(dplyr)\n",
    "\n",
    "data <- data |> filter(PhoneService == \"Yes\", SeniorCitizen == 1)\n",
    "data"
   ]
  },
  {
   "cell_type": "code",
   "execution_count": 5,
   "id": "2865ad18",
   "metadata": {},
   "outputs": [],
   "source": [
    "write.xlsx(data, file = \"data/final_telecom_data.xlsx\")"
   ]
  },
  {
   "cell_type": "markdown",
   "id": "d405a4f6",
   "metadata": {},
   "source": [
    "## XML"
   ]
  },
  {
   "cell_type": "code",
   "execution_count": 8,
   "id": "345fca20",
   "metadata": {},
   "outputs": [
    {
     "name": "stderr",
     "output_type": "stream",
     "text": [
      "Warning: package ‘methods’ is in use and will not be installed\n",
      "trying URL 'https://cran.rstudio.com/bin/windows/contrib/4.5/XML_3.99-0.19.zip'\n",
      "Content type 'application/zip' length 3125272 bytes (3.0 MB)\n",
      "downloaded 3.0 MB\n",
      "\n"
     ]
    },
    {
     "name": "stdout",
     "output_type": "stream",
     "text": [
      "package ‘XML’ successfully unpacked and MD5 sums checked\n",
      "\n",
      "The downloaded binary packages are in\n",
      "\tC:\\Users\\Yura\\AppData\\Local\\Temp\\RtmpMPINis\\downloaded_packages\n"
     ]
    }
   ],
   "source": [
    "install.packages(c(\"XML\", \"methods\"))"
   ]
  },
  {
   "cell_type": "code",
   "execution_count": 9,
   "id": "f550523b",
   "metadata": {},
   "outputs": [
    {
     "data": {
      "text/plain": [
       "  ID     NAME SALARY  STARTDATE       DEPT\n",
       "1  1     Rick  623.3   1/1/2012         IT\n",
       "2  2      Dan  515.2  9/23/2013 Operations\n",
       "3  3 Michelle    611 11/15/2014         IT\n",
       "4  4     Ryan    729  5/11/2014         HR\n",
       "5  5     Gary 843.25  3/27/2015    Finance\n",
       "6  6     Nina    578  5/21/2013         IT\n",
       "7  7    Simon  632.8  7/30/2013 Operations\n",
       "8  8     Guru  722.5  6/17/2014    Finance"
      ]
     },
     "execution_count": null,
     "metadata": {},
     "output_type": "execute_result"
    }
   ],
   "source": [
    "library(XML)\n",
    "library(methods)\n",
    "xmldataframe <- xmlToDataFrame(\"data/employes.xml\")\n",
    "xmldataframe"
   ]
  },
  {
   "cell_type": "markdown",
   "id": "35d90022",
   "metadata": {},
   "source": [
    "## JSON + API (Binance)"
   ]
  },
  {
   "cell_type": "code",
   "execution_count": 10,
   "id": "a4241454",
   "metadata": {},
   "outputs": [
    {
     "name": "stderr",
     "output_type": "stream",
     "text": [
      "trying URL 'https://cran.rstudio.com/bin/windows/contrib/4.5/jsonlite_2.0.0.zip'\n",
      "Content type 'application/zip' length 1110533 bytes (1.1 MB)\n",
      "downloaded 1.1 MB\n",
      "\n"
     ]
    },
    {
     "name": "stdout",
     "output_type": "stream",
     "text": [
      "package ‘jsonlite’ successfully unpacked and MD5 sums checked\n",
      "\n",
      "The downloaded binary packages are in\n",
      "\tC:\\Users\\Yura\\AppData\\Local\\Temp\\RtmpMPINis\\downloaded_packages\n"
     ]
    }
   ],
   "source": [
    "install.packages(\"jsonlite\")\n",
    "library(jsonlite)"
   ]
  },
  {
   "cell_type": "code",
   "execution_count": 11,
   "id": "ab3f8e81",
   "metadata": {},
   "outputs": [
    {
     "name": "stdout",
     "output_type": "stream",
     "text": [
      "[1] \"https://api.binance.com/api/v3/klines?symbol=BTCUSDT&interval=1h&limit=100\"\n"
     ]
    }
   ],
   "source": [
    "market = 'BTCUSDT'\n",
    "interval = '1h'\n",
    "limit = 100\n",
    "\n",
    "url <- paste0(url = \"https://api.binance.com/api/v3/klines?symbol=\", market ,\"&interval=\", interval,\"&limit=\", limit)\n",
    "print(url) "
   ]
  },
  {
   "cell_type": "code",
   "execution_count": 12,
   "id": "bf93900d",
   "metadata": {},
   "outputs": [
    {
     "data": {
      "text/plain": [
       "     [,1]            [,2]              [,3]              [,4]              [,5]              [,6]          \n",
       "[1,] \"1757127600000\" \"111216.14000000\" \"111307.70000000\" \"111000.12000000\" \"111082.22000000\" \"194.76496000\"\n",
       "[2,] \"1757131200000\" \"111082.23000000\" \"111082.23000000\" \"110783.70000000\" \"110876.12000000\" \"353.63220000\"\n",
       "[3,] \"1757134800000\" \"110876.12000000\" \"110876.13000000\" \"110687.69000000\" \"110714.00000000\" \"151.66886000\"\n",
       "[4,] \"1757138400000\" \"110714.00000000\" \"110817.11000000\" \"110714.00000000\" \"110752.83000000\" \"96.24087000\" \n",
       "[5,] \"1.757142e+12\"  \"110752.84000000\" \"110829.15000000\" \"110750.64000000\" \"110825.60000000\" \"86.44213000\" \n",
       "[6,] \"1757145600000\" \"110825.59000000\" \"110968.00000000\" \"110774.46000000\" \"110952.76000000\" \"91.10955000\" \n",
       "     [,7]           \n",
       "[1,] \"1757131199999\"\n",
       "[2,] \"1757134799999\"\n",
       "[3,] \"1757138399999\"\n",
       "[4,] \"1757141999999\"\n",
       "[5,] \"1757145599999\"\n",
       "[6,] \"1757149199999\""
      ]
     },
     "execution_count": null,
     "metadata": {},
     "output_type": "execute_result"
    }
   ],
   "source": [
    "data <- fromJSON(url) # get json and transform it to list()\n",
    "data <- data[, 1:7] # let's left only 1:7 columns (from Open time to Close time)\n",
    "head(data)"
   ]
  },
  {
   "cell_type": "code",
   "execution_count": 13,
   "id": "1ceff177",
   "metadata": {},
   "outputs": [
    {
     "data": {
      "text/plain": [
       "             V1              V2              V3              V4              V5           V6            V7\n",
       "1 1757127600000 111216.14000000 111307.70000000 111000.12000000 111082.22000000 194.76496000 1757131199999\n",
       "2 1757131200000 111082.23000000 111082.23000000 110783.70000000 110876.12000000 353.63220000 1757134799999\n",
       "3 1757134800000 110876.12000000 110876.13000000 110687.69000000 110714.00000000 151.66886000 1757138399999\n",
       "4 1757138400000 110714.00000000 110817.11000000 110714.00000000 110752.83000000  96.24087000 1757141999999\n",
       "5  1.757142e+12 110752.84000000 110829.15000000 110750.64000000 110825.60000000  86.44213000 1757145599999\n",
       "6 1757145600000 110825.59000000 110968.00000000 110774.46000000 110952.76000000  91.10955000 1757149199999"
      ]
     },
     "execution_count": null,
     "metadata": {},
     "output_type": "execute_result"
    }
   ],
   "source": [
    "data <- as.data.frame(data) # convert to dataframe\n",
    "head(data)"
   ]
  },
  {
   "cell_type": "code",
   "execution_count": 14,
   "id": "db035b62",
   "metadata": {},
   "outputs": [
    {
     "data": {
      "text/plain": [
       "      Open_time            Open            High             Low           Close       Volume    Close_time\n",
       "1 1757127600000 111216.14000000 111307.70000000 111000.12000000 111082.22000000 194.76496000 1757131199999\n",
       "2 1757131200000 111082.23000000 111082.23000000 110783.70000000 110876.12000000 353.63220000 1757134799999\n",
       "3 1757134800000 110876.12000000 110876.13000000 110687.69000000 110714.00000000 151.66886000 1757138399999\n",
       "4 1757138400000 110714.00000000 110817.11000000 110714.00000000 110752.83000000  96.24087000 1757141999999\n",
       "5  1.757142e+12 110752.84000000 110829.15000000 110750.64000000 110825.60000000  86.44213000 1757145599999\n",
       "6 1757145600000 110825.59000000 110968.00000000 110774.46000000 110952.76000000  91.10955000 1757149199999"
      ]
     },
     "execution_count": null,
     "metadata": {},
     "output_type": "execute_result"
    }
   ],
   "source": [
    "colnames(data) <- c(\"Open_time\", \"Open\", \"High\", \"Low\", \"Close\", \"Volume\", \"Close_time\")\n",
    "head(data)"
   ]
  },
  {
   "cell_type": "code",
   "execution_count": 16,
   "id": "a7d28f13",
   "metadata": {},
   "outputs": [
    {
     "name": "stdout",
     "output_type": "stream",
     "text": [
      "[1] FALSE\n",
      "[1] FALSE\n"
     ]
    }
   ],
   "source": [
    "print(is.numeric(data[,1]))\n",
    "print(is.numeric(data[,2]))"
   ]
  },
  {
   "cell_type": "code",
   "execution_count": 17,
   "id": "d1a355e9",
   "metadata": {},
   "outputs": [
    {
     "data": {
      "text/plain": [
       "     Open_time     Open     High      Low    Close    Volume   Close_time\n",
       "1 1.757128e+12 111216.1 111307.7 111000.1 111082.2 194.76496 1.757131e+12\n",
       "2 1.757131e+12 111082.2 111082.2 110783.7 110876.1 353.63220 1.757135e+12\n",
       "3 1.757135e+12 110876.1 110876.1 110687.7 110714.0 151.66886 1.757138e+12\n",
       "4 1.757138e+12 110714.0 110817.1 110714.0 110752.8  96.24087 1.757142e+12\n",
       "5 1.757142e+12 110752.8 110829.1 110750.6 110825.6  86.44213 1.757146e+12\n",
       "6 1.757146e+12 110825.6 110968.0 110774.5 110952.8  91.10955 1.757149e+12"
      ]
     },
     "execution_count": null,
     "metadata": {},
     "output_type": "execute_result"
    }
   ],
   "source": [
    "data <- as.data.frame(sapply(data, as.numeric)) # convert all columns to numeric\n",
    "head(data)"
   ]
  },
  {
   "cell_type": "code",
   "execution_count": null,
   "id": "637bbe6d",
   "metadata": {},
   "outputs": [
    {
     "ename": "",
     "evalue": "\u001b[1m\u001b[33mError\u001b[39m in `Ops.POSIXt()`:\u001b[22m\n\u001b[33m!\u001b[39m '/' not defined for \"POSIXt\" objects",
     "output_type": "error",
     "traceback": [
      "\u001b[1m\u001b[33mError\u001b[39m in `Ops.POSIXt()`:\u001b[22m\n",
      "\u001b[33m!\u001b[39m '/' not defined for \"POSIXt\" objects\n",
      "\u001b[90m    \u001b[39m▆\n",
      "\u001b[90m 1. \u001b[39m├─\u001b[1mbase\u001b[22m::as.POSIXct(data$Open_time/1000, origin = \"1970-01-01\")\n",
      "\u001b[90m 2. \u001b[39m└─base::Ops.POSIXt(data$Open_time, 1000)"
     ]
    }
   ],
   "source": [
    "data$Open_time <- as.POSIXct(data$Open_time/1e3, origin = '1970-01-01')\n",
    "data$Close_time <- as.POSIXct(data$Close_time/1e3, origin = '1970-01-01') "
   ]
  },
  {
   "cell_type": "code",
   "execution_count": 20,
   "id": "890e51db",
   "metadata": {},
   "outputs": [
    {
     "data": {
      "text/plain": [
       "              Open_time     Open     High      Low    Close   Volume          Close_time\n",
       "95  2025-09-10 04:00:00 111010.5 111224.5 110917.4 111005.6 419.7300 2025-09-10 04:59:59\n",
       "96  2025-09-10 05:00:00 111005.6 111551.0 111005.6 111411.1 492.5087 2025-09-10 05:59:59\n",
       "97  2025-09-10 06:00:00 111411.1 111586.3 111372.1 111545.9 263.9173 2025-09-10 06:59:59\n",
       "98  2025-09-10 07:00:00 111545.9 111647.4 111410.8 111520.4 304.1284 2025-09-10 07:59:59\n",
       "99  2025-09-10 08:00:00 111520.4 111729.6 111372.4 111577.3 436.9988 2025-09-10 08:59:59\n",
       "100 2025-09-10 09:00:00 111577.3 111969.6 111396.1 111846.0 482.9538 2025-09-10 09:59:59"
      ]
     },
     "execution_count": null,
     "metadata": {},
     "output_type": "execute_result"
    }
   ],
   "source": [
    "tail(data)"
   ]
  },
  {
   "cell_type": "code",
   "execution_count": 21,
   "id": "234accbf",
   "metadata": {},
   "outputs": [
    {
     "data": {
      "image/png": "[encoded data removed]"
     },
     "metadata": {},
     "output_type": "display_data"
    }
   ],
   "source": [
    "plot(data$Open_time, data$Open)"
   ]
  },
  {
   "cell_type": "markdown",
   "id": "bbc5b63c",
   "metadata": {},
   "source": [
    "## Google SpreadSheets"
   ]
  },
  {
   "cell_type": "code",
   "execution_count": 1,
   "id": "28ba7abb",
   "metadata": {},
   "outputs": [
    {
     "name": "stdout",
     "output_type": "stream",
     "text": [
      "also installing the dependencies ‘rematch’, ‘uuid’, ‘cellranger’, ‘gargle’, ‘googledrive’, ‘httr’, ‘ids’, ‘rematch2’\n",
      "\n"
     ]
    },
    {
     "name": "stderr",
     "output_type": "stream",
     "text": [
      "trying URL 'https://cran.rstudio.com/bin/windows/contrib/4.5/rematch_2.0.0.zip'\n",
      "trying URL 'https://cran.rstudio.com/bin/windows/contrib/4.5/uuid_1.2-1.zip'\n",
      "trying URL 'https://cran.rstudio.com/bin/windows/contrib/4.5/cellranger_1.1.0.zip'\n",
      "trying URL 'https://cran.rstudio.com/bin/windows/contrib/4.5/gargle_1.6.0.zip'\n",
      "trying URL 'https://cran.rstudio.com/bin/windows/contrib/4.5/googledrive_2.1.1.zip'\n",
      "trying URL 'https://cran.rstudio.com/bin/windows/contrib/4.5/httr_1.4.7.zip'\n",
      "trying URL 'https://cran.rstudio.com/bin/windows/contrib/4.5/ids_1.0.1.zip'\n",
      "trying URL 'https://cran.rstudio.com/bin/windows/contrib/4.5/rematch2_2.1.2.zip'\n",
      "trying URL 'https://cran.rstudio.com/bin/windows/contrib/4.5/googlesheets4_1.1.2.zip'\n"
     ]
    },
    {
     "name": "stdout",
     "output_type": "stream",
     "text": [
      "package ‘rematch’ successfully unpacked and MD5 sums checked\n",
      "package ‘uuid’ successfully unpacked and MD5 sums checked\n",
      "package ‘cellranger’ successfully unpacked and MD5 sums checked\n",
      "package ‘gargle’ successfully unpacked and MD5 sums checked\n",
      "package ‘googledrive’ successfully unpacked and MD5 sums checked\n",
      "package ‘httr’ successfully unpacked and MD5 sums checked\n",
      "package ‘ids’ successfully unpacked and MD5 sums checked\n",
      "package ‘rematch2’ successfully unpacked and MD5 sums checked\n",
      "package ‘googlesheets4’ successfully unpacked and MD5 sums checked\n",
      "\n",
      "The downloaded binary packages are in\n",
      "\tC:\\Users\\Yura\\AppData\\Local\\Temp\\RtmpE7sPxI\\downloaded_packages\n"
     ]
    }
   ],
   "source": [
    "install.packages(\"googlesheets4\")\n",
    "library(googlesheets4)"
   ]
  },
  {
   "cell_type": "code",
   "execution_count": 4,
   "id": "b10ac593",
   "metadata": {},
   "outputs": [
    {
     "name": "stdout",
     "output_type": "stream",
     "text": [
      "\u001b[32m✔\u001b[39m Reading from \u001b[36mgapminder\u001b[39m.\n",
      "\u001b[32m✔\u001b[39m Range \u001b[33mAfrica\u001b[39m.\n"
     ]
    }
   ],
   "source": [
    "data = read_sheet(\"https://docs.google.com/spreadsheets/d/1U6Cf_qEOhiR9AZqTqS3mbMF3zt2db48ZP5v3rkrAEJY/edit#gid=780868077\")\n",
    "gs4_deauth()"
   ]
  },
  {
   "cell_type": "code",
   "execution_count": 9,
   "id": "47939037",
   "metadata": {},
   "outputs": [
    {
     "name": "stdout",
     "output_type": "stream",
     "text": [
      "\n",
      "Attaching package: ‘dplyr’\n",
      "\n",
      "The following objects are masked from ‘package:stats’:\n",
      "\n",
      "    filter, lag\n",
      "\n",
      "The following objects are masked from ‘package:base’:\n",
      "\n",
      "    intersect, setdiff, setequal, union\n",
      "\n"
     ]
    },
    {
     "data": {
      "text/plain": [
       "\u001b[38;5;246m# A tibble: 1 × 6\u001b[39m\n",
       "  country continent  year lifeExp     pop gdpPercap\n",
       "  \u001b[3m\u001b[38;5;246m<chr>\u001b[39m\u001b[23m   \u001b[3m\u001b[38;5;246m<chr>\u001b[39m\u001b[23m     \u001b[3m\u001b[38;5;246m<dbl>\u001b[39m\u001b[23m   \u001b[3m\u001b[38;5;246m<dbl>\u001b[39m\u001b[23m   \u001b[3m\u001b[38;5;246m<dbl>\u001b[39m\u001b[23m     \u001b[3m\u001b[38;5;246m<dbl>\u001b[39m\u001b[23m\n",
       "\u001b[38;5;250m1\u001b[39m Rwanda  Africa     \u001b[4m1\u001b[24m992    23.6 7\u001b[4m2\u001b[24m\u001b[4m9\u001b[24m\u001b[4m0\u001b[24m203      737."
      ]
     },
     "execution_count": null,
     "metadata": {},
     "output_type": "execute_result"
    }
   ],
   "source": [
    "library(dplyr)\n",
    "data |> filter(lifeExp < 30)"
   ]
  },
  {
   "cell_type": "code",
   "execution_count": 10,
   "id": "c92ac95f",
   "metadata": {},
   "outputs": [],
   "source": [
    "## Google Trends"
   ]
  },
  {
   "cell_type": "code",
   "execution_count": 11,
   "id": "12cc2f5a",
   "metadata": {},
   "outputs": [
    {
     "name": "stdout",
     "output_type": "stream",
     "text": [
      "also installing the dependencies ‘BH’, ‘anytime’\n",
      "\n"
     ]
    },
    {
     "name": "stderr",
     "output_type": "stream",
     "text": [
      "trying URL 'https://cran.rstudio.com/bin/windows/contrib/4.5/BH_1.87.0-1.zip'\n",
      "trying URL 'https://cran.rstudio.com/bin/windows/contrib/4.5/anytime_0.3.12.zip'\n",
      "trying URL 'https://cran.rstudio.com/bin/windows/contrib/4.5/gtrendsR_1.5.2.zip'\n"
     ]
    },
    {
     "name": "stdout",
     "output_type": "stream",
     "text": [
      "package ‘BH’ successfully unpacked and MD5 sums checked\n",
      "package ‘anytime’ successfully unpacked and MD5 sums checked\n",
      "package ‘gtrendsR’ successfully unpacked and MD5 sums checked\n",
      "\n",
      "The downloaded binary packages are in\n",
      "\tC:\\Users\\Yura\\AppData\\Local\\Temp\\RtmpE7sPxI\\downloaded_packages\n"
     ]
    },
    {
     "name": "stderr",
     "output_type": "stream",
     "text": [
      "trying URL 'https://cran.rstudio.com/bin/windows/contrib/4.5/ggplot2_3.5.2.zip'\n",
      "Content type 'application/zip' length 5016282 bytes (4.8 MB)\n",
      "downloaded 4.8 MB\n",
      "\n"
     ]
    },
    {
     "name": "stdout",
     "output_type": "stream",
     "text": [
      "package ‘ggplot2’ successfully unpacked and MD5 sums checked\n",
      "\n",
      "The downloaded binary packages are in\n",
      "\tC:\\Users\\Yura\\AppData\\Local\\Temp\\RtmpE7sPxI\\downloaded_packages\n"
     ]
    }
   ],
   "source": [
    "install.packages('gtrendsR')\n",
    "install.packages('ggplot2')\n",
    "library(gtrendsR) \n",
    "library(ggplot2)"
   ]
  },
  {
   "cell_type": "code",
   "execution_count": null,
   "id": "541ecf9f",
   "metadata": {},
   "outputs": [
    {
     "ename": "",
     "evalue": "\u001b[1m\u001b[33mError\u001b[39m in `interest_over_time()`:\u001b[22m\n\u001b[33m!\u001b[39m Status code was not 200. Returned status code:429",
     "output_type": "error",
     "traceback": [
      "\u001b[1m\u001b[33mError\u001b[39m in `interest_over_time()`:\u001b[22m\n",
      "\u001b[33m!\u001b[39m Status code was not 200. Returned status code:429\n",
      "\u001b[90m    \u001b[39m▆\n",
      "\u001b[90m 1. \u001b[39m└─\u001b[1mgtrendsR\u001b[22m::gtrends(...)\n",
      "\u001b[90m 2. \u001b[39m  └─gtrendsR:::interest_over_time(widget, comparison_item, tz)"
     ]
    }
   ],
   "source": [
    "keywords = c(\"Bitcoin\", \"FC Barcelona\") # search keywords\n",
    "country = c('AT') # search region from https://support.google.com/business/answer/6270107?hl=en\n",
    "time = (\"2021-01-01 2021-06-01\") # period\n",
    "channel = 'web' # search channel: google search ('news' - google news, 'images' - google images)\n",
    "trends = gtrends(keywords, gprop = channel, geo = country, time = time, tz = \"UTC\")\n",
    "#time_trend = trends$interest_over_time\n",
    "#head(time_trend)"
   ]
  },
  {
   "cell_type": "code",
   "execution_count": 13,
   "id": "8ba84064",
   "metadata": {},
   "outputs": [
    {
     "ename": "",
     "evalue": "\u001b[1m\u001b[33mError\u001b[39m:\u001b[22m\n\u001b[33m!\u001b[39m object 'trends' not found",
     "output_type": "error",
     "traceback": [
      "\u001b[1m\u001b[33mError\u001b[39m:\u001b[22m\n",
      "\u001b[33m!\u001b[39m object 'trends' not found"
     ]
    }
   ],
   "source": [
    "trends"
   ]
  },
  {
   "cell_type": "markdown",
   "id": "e3065f5d",
   "metadata": {},
   "source": [
    "plot <- ggplot(data=time_trend, aes(x=date, y=hits, group=keyword, col=keyword)) +\n",
    "  geom_line() +\n",
    "  xlab('Time') + \n",
    "  ylab('Relative Interest') + \n",
    "  theme(legend.title = element_blank(), legend.position=\"bottom\", legend.text=element_text(size=15)) + \n",
    "  ggtitle(\"Google Search Volume\")  \n",
    "\n",
    "plot"
   ]
  }
 ],
 "metadata": {
  "language_info": {
   "name": "r"
  }
 },
 "nbformat": 4,
 "nbformat_minor": 5
}
